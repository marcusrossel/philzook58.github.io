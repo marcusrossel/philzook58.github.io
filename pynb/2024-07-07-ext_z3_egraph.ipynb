{
 "cells": [
  {
   "cell_type": "markdown",
   "metadata": {},
   "source": [
    "---\n",
    "title: An External Z3 Egraph for Egraphs Modulo Theories\n",
    "date: 2024-07-07\n",
    "---\n",
    "\n",
    "`EMT = SMT - SAT`\n",
    "\n",
    "Satisfiability Modulo Theories is basically SAT + Egraph + bits of other things like linear programming. The egg paper ematching algorithm is based off the one described for z3. Even if it isn't intended for the use case, one feels like the z3 egraph and ematcher would be mighty convenient thing for equality saturation.\n",
    "\n",
    "So it has a been a source of sadness for a long time that SMT solvers hold all sorts of bits and pieces that can't be easily abused off label.\n",
    "[Z3](https://microsoft.github.io/z3guide/docs/logic/intro/) is super engineered and has bindings everywhere. It's a great platform, but I understand the project has it's own goals and desires that may not comply with whatever fancy I have for the next 15 seconds. \n",
    "\n",
    "Well, I've been thinking about it, and there is a pretty tight little implementation of an external egraph made possible by the z3 ast functions exposed, in particular `substitute` which can replace ground terms by other grounds terms in an expression. We can use this to build a [Ground Rewrite System style egraph](https://www.philipzucker.com/egraph2024_talk_done/). Adding to this the technique of bottom up e-matching, we can search over our egraph and assert theory specific constraints into the system and use them as guards (for disequality constraints or linear inequality constraints). We can also reuse the built in z3-simplifier, which can be quite handy.\n",
    "\n",
    "First we can make cached functions that tells us the size of a term and a function that returns terms in some term order. This is sort of a half-assed knuth bendix term order that tie breaks equal sized terms by the effectively random term id. I'm not so sure this cowboy term ordering is ok, so maybe implementing a real [ground knuth bendix ordering](https://www.philipzucker.com/ground_kbo/) is in order\n"
   ]
  },
  {
   "cell_type": "code",
   "execution_count": 6,
   "metadata": {},
   "outputs": [],
   "source": [
    "from z3 import *\n",
    "from dataclasses import dataclass\n",
    "from functools import cache\n",
    "from itertools import product\n",
    "from collections import defaultdict\n",
    "\n",
    "@cache\n",
    "def z3_size(e):\n",
    "    if is_app(e):\n",
    "        return 1 + sum(z3_size(a) for a in e.children())\n",
    "    return 1\n",
    "\n",
    "@cache\n",
    "def is_value(x):\n",
    "    return is_int_value(x) or is_rational_value(x) or is_algebraic_value(x) or is_bv_value(x) or is_finite_domain_value(x) or is_string_value(x) or is_fp_value(x) or is_K(x)\n",
    "\n",
    "def order(t1,t2):\n",
    "    s1,s2 = z3_size(t1), z3_size(t2)\n",
    "    if s1 > s2:\n",
    "        return (t1, t2)\n",
    "    elif s2 > s1:\n",
    "        return (t2, t1)\n",
    "    # values should be preferred\n",
    "    elif is_value(t1) and not is_value(t2):\n",
    "        return (t2, t1)\n",
    "    elif is_value(t2) and not is_value(t1):\n",
    "        return (t1, t2)\n",
    "    else:\n",
    "        if t1.get_id() > t2.get_id(): # yeaaaa, I'm not sure this is ok.\n",
    "            return (t1, t2)\n",
    "        else:\n",
    "            return (t2, t1)"
   ]
  },
  {
   "cell_type": "markdown",
   "metadata": {},
   "source": [
    "Next the actual egraph itself, which I think is shockingly simple.\n",
    "\n",
    "The egraph has a \n",
    "- `E` set of equations `lhs = rhs`\n",
    "- `R` set of rewrite rules `lhs -> rhs\n",
    "\n",
    "These are the pieces of a knuth bendix completion system. See \"Term Rewriting and All That\" for more.\n",
    "\n",
    "In addition, the egraph has\n",
    "- `T` a set of search terms. Separating out `T` from `R` makes ematching into the egraph more straightforward. Conceptually, an egraph holds a possibly infinite class of terms. The class of terms is the set `T` rewritten backwards `rhs -> lhs` using rules from `R`. It so happens that it is most convenient to index T by sort, since when we ematch, we will only be looking for terms of particular sort.\n",
    "- `solver` a z3 solver into which we will reflect any equality we discover, but also theory specific facts.\n"
   ]
  },
  {
   "cell_type": "code",
   "execution_count": 53,
   "metadata": {},
   "outputs": [],
   "source": [
    "@dataclass\n",
    "class EGraph():\n",
    "    R: list[tuple[ExprRef, ExprRef]] # rewrite rules\n",
    "    E: list[tuple[ExprRef, ExprRef]] # equations\n",
    "    T: dict[SortRef, set[ExprRef]] # set of terms of a given sort\n",
    "    def __init__(self):\n",
    "        self.solver = Solver()\n",
    "        self.R = []\n",
    "        self.E = []\n",
    "        self.T = defaultdict(set) \n",
    "    def add_term(self, term):\n",
    "        \"\"\" recursively add terms and its children into T\"\"\"\n",
    "        self.T[term.sort()].add(term)\n",
    "        for t in term.children():\n",
    "            self.add_term(t)\n",
    "    def reduce_term(self, e : z3.ExprRef, R=None):\n",
    "        if R == None:\n",
    "            R = self.R\n",
    "        \"\"\" aka find. Fully reduce term with respect to R\"\"\"\n",
    "        while True:\n",
    "            e1 = z3.substitute(e, *R)\n",
    "            if e.eq(e1): #fixpoint\n",
    "                return e\n",
    "            e = e1\n",
    "    def extract(self, t: z3.ExprRef) -> z3.ExprRef:\n",
    "        \"\"\" Same a reduce. See ground completion blog post\"\"\"\n",
    "        return self.reduce_term(t)\n",
    "    def union(self, t1 : ExprRef, t2: ExprRef):\n",
    "        \"\"\"Assert an equality between ground terms\"\"\"\n",
    "        t1 = self.reduce_term(t1)\n",
    "        t2 = self.reduce_term(t2)\n",
    "        if not t1.eq(t2):\n",
    "            self.solver.add(t1 == t2) # reflect equality into solver\n",
    "            #self.E.append((t1, t2)) # no reason to assert into E really.\n",
    "            t1,t2 = order(t1, t2)\n",
    "            self.R.append((t1, t2))\n",
    "    def canon(self):\n",
    "        \"\"\"Partially Recanonize the egraph. Rules R are interreduced, and T is reduced with respect to R. I'm not happy with this part\"\"\"\n",
    "        R = set()\n",
    "        while self.R:\n",
    "            t1,t2 = self.R.pop()\n",
    "            t1 = self.reduce_term(t1, R=list(R)+self.R)\n",
    "            t2 = self.reduce_term(t2, R=list(R)+self.R)\n",
    "            if not t1.eq(t2):\n",
    "                t1, t2 = order(t1, t2)\n",
    "                R.add((t1,t2))\n",
    "        self.R = list(R)\n",
    "        self.T = {k : set(self.reduce_term(t) for t in Ts) for k,Ts in self.T.items()}\n",
    "    def guard(self, C : z3.BoolRef):\n",
    "        \"\"\"Using z3 to implement a provable guard.\"\"\"\n",
    "        self.solver.push()\n",
    "        self.solver.add(Not(C))\n",
    "        res = self.solver.check()\n",
    "        self.solver.pop()\n",
    "        if res == unsat:\n",
    "            return True\n",
    "        else:\n",
    "            return False\n",
    "    def rw(self, sorts : list[z3.SortRef], f, add_term=True): # guard keyword param?\n",
    "        \"\"\" A rewrite rule with variables from the sorts list. \n",
    "            `f` is a function that takes the variables and returns a pair of terms.\n",
    "            `add_term` is a flag to determine if we add the new term\n",
    "        \"\"\"\n",
    "        for t in product(*[self.T[sort] for sort in sorts]):\n",
    "            lhs, rhs = f(*t)\n",
    "            lhs = self.reduce_term(lhs) \n",
    "            if lhs in self.T[lhs.sort()]:\n",
    "                if add_term:\n",
    "                    # if add is false, we never increase T. It will terminate. This is yihong's thing?\n",
    "                    self.add_term(rhs)\n",
    "                self.union(lhs, rhs)\n",
    "    def z3_simplify(self):\n",
    "        \"\"\" asserting built in z3 rules to the external egraph\n",
    "            One of the perks of piggybacking on z3\"\"\"\n",
    "        for tset in self.T.values():\n",
    "            for t in tset:\n",
    "                t1 = z3.simplify(t)\n",
    "                if not t1.eq(t):\n",
    "                    self.union(t, t1)\n",
    "    def iter(self, *sorts):\n",
    "        \"\"\"Iterate over all possible terms of the given sorts. Can use this to implement rules/smarter rewrites.\"\"\"\n",
    "        return product(*[self.T[sort] for sort in sorts])"
   ]
  },
  {
   "cell_type": "markdown",
   "metadata": {},
   "source": [
    "Kind of the cutest part is \n",
    "\n",
    "```python\n",
    "    def reduce_term(self, e : z3.ExprRef):\n",
    "        \"\"\" aka find. Fully reduce term with respect to R\"\"\"\n",
    "        while True:\n",
    "            e1 = z3.substitute(e, *self.R)\n",
    "            if e.eq(e1): #fixpoint\n",
    "                return e # simplify(e) reuse built in z3 simplify?\n",
    "            e = e1\n",
    "```\n",
    "\n",
    "Where we can use `substitute` to perform our ground rewriting for us.\n",
    "\n",
    "\n",
    "Here is some usage.\n",
    "We can see that after unioning some terms, the term set shrinks."
   ]
  },
  {
   "cell_type": "code",
   "execution_count": 48,
   "metadata": {},
   "outputs": [
    {
     "name": "stdout",
     "output_type": "stream",
     "text": [
      "starting system EGraph(R=[(y, x), (x + x, z)], E=[], T=defaultdict(<class 'set'>, {Real: {y, z, x, 1, y + z, x + y + z}}))\n",
      "smaller term set:  EGraph(R=[(y, x), (x + x, z)], E=[], T={Real: {z, x, x + z, 1, x + x + z}})\n",
      "smaller term set:  EGraph(R=[(y, x), (z, x), (x + x, x)], E=[], T={Real: {x, 1}})\n"
     ]
    }
   ],
   "source": [
    "x,y,z = Reals(\"x y z\")\n",
    "E = EGraph()\n",
    "E.add_term(RealVal(1))\n",
    "E.add_term(x + (y + z))\n",
    "E.union(x, y)\n",
    "E.union(x + x, z)\n",
    "print(\"starting system\", E)\n",
    "E.canon()\n",
    "print(\"smaller term set: \", E)\n",
    "E.union(x,z)\n",
    "E.canon()\n",
    "print(\"even smaller term set: \", E)\n"
   ]
  },
  {
   "cell_type": "markdown",
   "metadata": {},
   "source": [
    "\n",
    "The way I encode the ematcher makes it seem like there is nothing there, and there kind of isn't. Bottom up ematching is extremely simple. You guess which term will end up in the variables. We can sort of shallowly embed rules in a \"minikanren\" like way (like the `fresh` combinator) with a lambda that takes in all the pattern variables and just builds the left hand and right hand side of the rules. \n",
    "You could also use the `iter` function, which would let you write your rules in your own loops. This might be useful for early failing, parallelization, etc.\n"
   ]
  },
  {
   "cell_type": "code",
   "execution_count": 54,
   "metadata": {},
   "outputs": [
    {
     "name": "stdout",
     "output_type": "stream",
     "text": [
      "EGraph(R=[], E=[], T=defaultdict(<class 'set'>, {Real: {y, z, x, y + z, x + y + z}}))\n",
      "EGraph(R=[(z + y, y + z), (y + z + x, x + y + z)], E=[], T=defaultdict(<class 'set'>, {Real: {y, z, x, z + y, y + z + x, y + z, x + y + z}}))\n"
     ]
    },
    {
     "data": {
      "text/plain": [
       "EGraph(R=[(z + y, y + z), (y + z + x, x + y + z)], E=[], T={Real: {y, z, x, y + z, x + y + z}})"
      ]
     },
     "execution_count": 54,
     "metadata": {},
     "output_type": "execute_result"
    }
   ],
   "source": [
    "x,y,z = Reals(\"x y z\")\n",
    "E = EGraph()\n",
    "E.add_term(x + (y + z))\n",
    "print(E)\n",
    "E.rw([RealSort(), RealSort()], lambda x,y: (x + y, y + x))\n",
    "print(E)\n",
    "E.canon()\n",
    "E"
   ]
  },
  {
   "cell_type": "markdown",
   "metadata": {},
   "source": [
    "We can use z3 solver queries to implement guards. Guards don't bind new variables, but that doesn't seem like that much of an impediment since we already support multipatterns."
   ]
  },
  {
   "cell_type": "code",
   "execution_count": 10,
   "metadata": {},
   "outputs": [
    {
     "name": "stdout",
     "output_type": "stream",
     "text": [
      "Before positivity assertion:\n",
      "1 is non-negative\n",
      "After positivity assertion:\n",
      "z is non-negative\n",
      "x is non-negative\n",
      "x + z is non-negative\n",
      "1 is non-negative\n",
      "x + x + z is non-negative\n"
     ]
    }
   ],
   "source": [
    "print(\"Before positivity assertion:\")\n",
    "for (x,) in E.iter(RealSort()):\n",
    "    if E.guard(x >= 0):\n",
    "        print(x, \"is non-negative\")\n",
    "        # could put guarded rewrite rule here.\n",
    "\n",
    "E.solver.push()\n",
    "\n",
    "for (x,) in E.iter(RealSort()):\n",
    "    E.solver.add(x >= 0)\n",
    "\n",
    "print(\"After positivity assertion:\")\n",
    "for (x,) in E.iter(RealSort()):\n",
    "    if E.guard(x >= 0):\n",
    "        print(x, \"is non-negative\")\n",
    "\n",
    "E.solver.pop()"
   ]
  },
  {
   "cell_type": "markdown",
   "metadata": {},
   "source": [
    "In a limited way, we can use the built in z3 simplifier. This can get us constant folding for example. This is kind of ad hoc (even more so than some of the rest), but interesting. Maybe there is some other way to use the z3 simplifier in a more intrinsic way?\n",
    "\n",
    "```python\n",
    "    def z3_simplify(self):\n",
    "        \"\"\" asserting built in z3 rules to the external egraph\n",
    "            One of the perks of piggybacking on z3\"\"\"\n",
    "        for tset in self.T.values():\n",
    "            for t in tset:\n",
    "                t1 = z3.simplify(t)\n",
    "                if not t1.eq(t):\n",
    "                    self.union(t, t1)\n",
    "```\n",
    "\n",
    "Something is behaving very badly here, which is concerning. Two terms which should hash cons to the same value are not."
   ]
  },
  {
   "cell_type": "code",
   "execution_count": 44,
   "metadata": {},
   "outputs": [
    {
     "name": "stdout",
     "output_type": "stream",
     "text": [
      "EGraph(R=[(x, 1), (y, 2), (1 + 2 + z, 1 + 2 + z)], E=[], T=defaultdict(<class 'set'>, {Real: {y, z, x, 1, y + z, x + y + z}}))\n",
      "EGraph(R=[(x, 1), (y, 2), (1 + 2 + z, 1 + 2 + z), (1 + 2 + z, 3 + z)], E=[], T={Real: {2, 1 + 2 + z, z, 1, 2 + z}})\n",
      "1 + 2 + z\n",
      "1 + 2 + z\n",
      "(+ 1.0 2.0 z)\n",
      "46\n",
      "45\n",
      "EGraph(R=[(1 + 2 + z, 3 + z), (1 + 2 + z, 3 + z), (y, 2), (x, 1)], E=[], T={Real: {2, 3 + z, z, 1, 2 + z}})\n"
     ]
    }
   ],
   "source": [
    "x,y,z = Reals(\"x y z\")\n",
    "E = EGraph()\n",
    "E.add_term(RealVal(1))\n",
    "E.add_term(x + (y + z))\n",
    "E.union(x, RealVal(1))\n",
    "E.union(y, RealVal(2))\n",
    "E.z3_simplify()\n",
    "print(E)\n",
    "E.canon()\n",
    "E.z3_simplify()\n",
    "print(E)\n",
    "E.canon()\n",
    "print(E.extract(x + y + z))\n",
    "E\n",
    "E.canon()\n",
    "e = E.extract(x + y + z)\n",
    "e1 = E.extract(e)\n",
    "print(e1)\n",
    "E.canon()\n",
    "E\n",
    "# identicval but different, Z3 isn't perfect hash consing?\n",
    "E.R[0][0].sexpr()\n",
    "print(E.R[1][0].sexpr())\n",
    "print(E.R[1][0].get_id())\n",
    "print(E.R[0][0].get_id())\n",
    "print(E)\n"
   ]
  },
  {
   "cell_type": "markdown",
   "metadata": {},
   "source": [
    "# Bits and Bobbles\n",
    "\n",
    "If you wanted to, you could do the same thing here with egg or egglog, by reflecting every equality learned into a solver object held by the egraph. This solver is then available for use in guards.\n",
    "\n",
    "An alternative approach might be the have z3_formula be objects inside your egraph, an external datatype like f64 or string. This is somewhat like the formulog approach.\n",
    "\n",
    "We can also support rules and multipatterns\n",
    "\n",
    "\n",
    "```python\n",
    "    def rule(self, n, f):\n",
    "        \"\"\"\n",
    "         f produces a lhs => rhs thing that \n",
    "        \"\"\"\n",
    "        for t in product(self.T, repeat=n):\n",
    "            lhs, rhs = f(*t)\n",
    "            self.solver.push()\n",
    "            self.solver.add(Not(And(lhs)))\n",
    "            res = self.solver.check()\n",
    "            self.solver.pop()\n",
    "            if res == unsat:\n",
    "                self.solver.add(And(rhs))\n",
    "```\n",
    "\n",
    "Z3 _also_ has an extremely convenient hash cons implementation.\n",
    "\n",
    "\n",
    "The newly exposed egraph innards. Only from C++ api? Undocumented, unsupported. https://x.com/BjornerNikolaj/status/1764793235246076313\n",
    "\n",
    "Using z3 egraph via the official smtlib interface. It's tricky / impossible. More on that in future Justified SMT block posts.\n",
    "\n",
    "Note for example this system, which you might hope returns `a = b = c = Val!0` `d = f = Val!1` does return a valid first order model where all constants collapse to the same value in the model. This is not the model with the minimal number of equalities though, so this is not what we want.\n",
    "\n"
   ]
  },
  {
   "cell_type": "code",
   "execution_count": 12,
   "metadata": {},
   "outputs": [
    {
     "data": {
      "text/html": [
       "[f = S!val!0,\n",
       " d = S!val!0,\n",
       " c = S!val!0,\n",
       " a = S!val!0,\n",
       " b = S!val!0]"
      ],
      "text/plain": [
       "[f = S!val!0,\n",
       " d = S!val!0,\n",
       " c = S!val!0,\n",
       " a = S!val!0,\n",
       " b = S!val!0]"
      ]
     },
     "execution_count": 12,
     "metadata": {},
     "output_type": "execute_result"
    }
   ],
   "source": [
    "from z3 import *\n",
    "S = DeclareSort(\"S\")\n",
    "a,b,c,d,e,f = Consts(\"a b c d e f\", S)\n",
    "\n",
    "s = Solver()\n",
    "s.add(a == b)\n",
    "s.add(b == c)\n",
    "s.add(d == f)\n",
    "s.check()\n",
    "s.model()"
   ]
  },
  {
   "cell_type": "markdown",
   "metadata": {},
   "source": [
    "Note that however this two layered version does work. Quite curious. I don't think strictly speaking it _has_ to work though."
   ]
  },
  {
   "cell_type": "code",
   "execution_count": 13,
   "metadata": {},
   "outputs": [
    {
     "data": {
      "text/html": [
       "[d = S!val!3,\n",
       " f = S!val!5,\n",
       " e = S!val!4,\n",
       " b = S!val!1,\n",
       " a = S!val!0,\n",
       " c = S!val!2,\n",
       " i = [S!val!3 &rarr; S!val!7, S!val!5 &rarr; S!val!7, else &rarr; S!val!6]]"
      ],
      "text/plain": [
       "[d = S!val!3,\n",
       " f = S!val!5,\n",
       " e = S!val!4,\n",
       " b = S!val!1,\n",
       " a = S!val!0,\n",
       " c = S!val!2,\n",
       " i = [S!val!3 -> S!val!7,\n",
       "      S!val!5 -> S!val!7,\n",
       "      else -> S!val!6]]"
      ]
     },
     "execution_count": 13,
     "metadata": {},
     "output_type": "execute_result"
    }
   ],
   "source": [
    "from z3 import *\n",
    "S = DeclareSort(\"S\")\n",
    "S1 = DeclareSort(\"S1\")\n",
    "a,b,c,d,e,f = Consts(\"a b c d e f\", S)\n",
    "i = Function(\"i\", S, S)\n",
    "\n",
    "s = Solver()\n",
    "s.add(Distinct(a,b,c,d,e,f))\n",
    "s.add(i(a) == i(b))\n",
    "s.add(i(b) == i(c))\n",
    "s.add(i(d) == i(f))\n",
    "s.check()\n",
    "s.model()"
   ]
  }
 ],
 "metadata": {
  "kernelspec": {
   "display_name": "Python 3",
   "language": "python",
   "name": "python3"
  },
  "language_info": {
   "codemirror_mode": {
    "name": "ipython",
    "version": 3
   },
   "file_extension": ".py",
   "mimetype": "text/x-python",
   "name": "python",
   "nbconvert_exporter": "python",
   "pygments_lexer": "ipython3",
   "version": "3.10.12"
  }
 },
 "nbformat": 4,
 "nbformat_minor": 2
}
