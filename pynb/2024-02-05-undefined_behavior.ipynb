{
 "cells": [
  {
   "cell_type": "markdown",
   "metadata": {},
   "source": [
    "---\n",
    "date: 2024-02-05\n",
    "layout: post\n",
    "title: Tools for Detecting Undefined Behavior in My Bad C Example\n",
    "---\n",
    "\n",
    "Try in colab:\n",
    "https://colab.research.google.com/github/philzook58/philzook58.github.io/blob/master/pynb/2024-02-05-undefined_behavior.ipynb\n",
    "\n",
    "I posted a [little tutorial](https://www.philipzucker.com/cbmc_tut/) on [CBMC](https://github.com/diffblue/cbmc), the C Bounded model checker last week.\n",
    "\n",
    "It made it to the front page of [Hacker news](https://news.ycombinator.com/item?id=39191507), which is neat. What I didn't expect is how people latched onto the uninitialized read in this example"
   ]
  },
  {
   "cell_type": "code",
   "execution_count": 39,
   "metadata": {},
   "outputs": [
    {
     "name": "stdout",
     "output_type": "stream",
     "text": [
      "Writing /tmp/ex1.c\n"
     ]
    }
   ],
   "source": [
    "%%file /tmp/ex1.c\n",
    "#include <assert.h>\n",
    "int main(){\n",
    "    int x;\n",
    "    if (x <= 42){\n",
    "            assert(x != 12345);\n",
    "    }\n",
    "}\n"
   ]
  },
  {
   "cell_type": "markdown",
   "metadata": {},
   "source": [
    "This is a serious issue that CBMC does not check for. It is a tool that can fairly easily and effectively answer certain kinds of questions, but not all. It is in the [process of getting better](https://github.com/diffblue/cbmc/issues/7732)\n",
    "\n",
    "CBMC on it's own is insufficient to guarantee that a program does what you want and what you expect or that it obeys best practices. Defense in depth is important. We're awhiles off from something that reads your mind and makes your thoughts precise and cogent."
   ]
  },
  {
   "cell_type": "code",
   "execution_count": null,
   "metadata": {},
   "outputs": [],
   "source": [
    "%%bash\n",
    "# download and install CBMC\n",
    "wget https://github.com/diffblue/cbmc/releases/download/cbmc-5.95.1/ubuntu-20.04-cbmc-5.95.1-Linux.deb\n",
    "apt-get install bash-completion\n",
    "dpkg -i ubuntu-20.04-cbmc-5.95.1-Linux.deb"
   ]
  },
  {
   "cell_type": "code",
   "execution_count": 40,
   "metadata": {},
   "outputs": [
    {
     "name": "stdout",
     "output_type": "stream",
     "text": [
      "CBMC version 5.95.1 (cbmc-5.95.1) 64-bit x86_64 linux\n",
      "Parsing /tmp/ex1.c\n",
      "Converting\n",
      "Type-checking ex1\n",
      "Generating GOTO Program\n",
      "Adding CPROVER library (x86_64)\n",
      "Removal of function pointers and virtual functions\n",
      "Generic Property Instrumentation\n",
      "Running with 8 object bits, 56 offset bits (default)\n",
      "Starting Bounded Model Checking\n",
      "Runtime Symex: 0.00265417s\n",
      "size of program expression: 23 steps\n",
      "simple slicing removed 5 assignments\n",
      "Generated 1 VCC(s), 1 remaining after simplification\n",
      "Runtime Postprocess Equation: 1.2691e-05s\n",
      "Passing problem to propositional reduction\n",
      "converting SSA\n",
      "Runtime Convert SSA: 0.0010266s\n",
      "Running propositional reduction\n",
      "Post-processing\n",
      "Runtime Post-process: 4.841e-06s\n",
      "Solving with MiniSAT 2.2.1 with simplifier\n",
      "67 variables, 100 clauses\n",
      "SAT checker inconsistent: instance is UNSATISFIABLE\n",
      "Runtime Solver: 1.542e-05s\n",
      "Runtime decision procedure: 0.0014064s\n",
      "\n",
      "** Results:\n",
      "/tmp/ex1.c function main\n",
      "\u001b[2m[main.assertion.1] \u001b[0mline 5 assertion x != 12345: \u001b[32mSUCCESS\u001b[0m\n",
      "\n",
      "** 0 of 1 failed (1 iterations)\n",
      "VERIFICATION SUCCESSFUL\n"
     ]
    }
   ],
   "source": [
    "! cbmc /tmp/ex1.c"
   ]
  },
  {
   "cell_type": "markdown",
   "metadata": {},
   "source": [
    "It was commented that your compiler's `-Wall -Wextra -Wpedantic` can check this issue. It is good to enable and deal with all warnings somehow. Indeed, this program is obviously suspicious. These checks will not catch all problems and cannot satch some things CBMC can."
   ]
  },
  {
   "cell_type": "code",
   "execution_count": 42,
   "metadata": {},
   "outputs": [
    {
     "name": "stdout",
     "output_type": "stream",
     "text": [
      "\u001b[01m\u001b[K/tmp/ex1.c:\u001b[m\u001b[K In function ‘\u001b[01m\u001b[Kmain\u001b[m\u001b[K’:\n",
      "\u001b[01m\u001b[K/tmp/ex1.c:4:8:\u001b[m\u001b[K \u001b[01;35m\u001b[Kwarning: \u001b[m\u001b[K‘\u001b[01m\u001b[Kx\u001b[m\u001b[K’ is used uninitialized [\u001b[01;35m\u001b[K\u001b]8;;https://gcc.gnu.org/onlinedocs/gcc/Warning-Options.html#index-Wuninitialized\u0007-Wuninitialized\u001b]8;;\u0007\u001b[m\u001b[K]\n",
      "    4 |     if \u001b[01;35m\u001b[K(\u001b[m\u001b[Kx <= 42){\n",
      "      |        \u001b[01;35m\u001b[K^\u001b[m\u001b[K\n"
     ]
    }
   ],
   "source": [
    "! gcc -Wall -Wextra -Wpedantic /tmp/ex1.c -o /tmp/ex1"
   ]
  },
  {
   "cell_type": "markdown",
   "metadata": {},
   "source": [
    "Another interesting tool to sort of spread spectrum apply static analyses to projects is [CodeChecker](https://codechecker.readthedocs.io/en/latest/). This applies some lighter weight larger scale analyses like [cppcheck](https://cppcheck.sourceforge.io/), infer, and the compiler built in analyzers. It also makes nice little html pages and has some kind of CI story.\n",
    "\n",
    "These are good things to run. Coming back clean is no guarantee of software quality, but it is a good sign."
   ]
  },
  {
   "cell_type": "code",
   "execution_count": null,
   "metadata": {},
   "outputs": [],
   "source": [
    "! python3 pip install codechecker #install codechecker"
   ]
  },
  {
   "cell_type": "code",
   "execution_count": 46,
   "metadata": {},
   "outputs": [
    {
     "name": "stdout",
     "output_type": "stream",
     "text": [
      "[INFO 2024-02-05 15:26] - Starting build...\n",
      "[INFO 2024-02-05 15:26] - Using CodeChecker ld-logger.\n",
      "[INFO 2024-02-05 15:26] - Build finished successfully.\n",
      "[INFO 2024-02-05 15:26] - Previous analysis results in '/tmp/tmpc7xy9pwi' have been removed, overwriting with current result\n",
      "[INFO 2024-02-05 15:27] - Enabled checkers:\n",
      "clangsa: alpha.security.cert.pos.34c, core.BitwiseShift, core.CallAndMessage, core.DivideZero, core.NonNullParamChecker, core.NullDereference, core.StackAddressEscape, core.UndefinedBinaryOperatorResult, core.VLASize, core.uninitialized.ArraySubscript, core.uninitialized.Assign, core.uninitialized.Branch, core.uninitialized.CapturedBlockVariable, core.uninitialized.NewArraySize, core.uninitialized.UndefReturn, cplusplus.InnerPointer, cplusplus.Move, cplusplus.NewDelete, cplusplus.NewDeleteLeaks, cplusplus.PlacementNew, cplusplus.PureVirtualCall, cplusplus.StringChecker, deadcode.DeadStores, nullability.NullPassedToNonnull, nullability.NullReturnedFromNonnull, optin.cplusplus.UninitializedObject, optin.cplusplus.VirtualCall, optin.portability.UnixAPI, security.cert.env.InvalidPtr, security.FloatLoopCounter, security.insecureAPI.UncheckedReturn, security.insecureAPI.getpw, security.insecureAPI.gets, security.insecureAPI.mkstemp, security.insecureAPI.mktemp, security.insecureAPI.rand, security.insecureAPI.vfork, unix.API, unix.Malloc, unix.MallocSizeof, unix.MismatchedDeallocator, unix.StdCLibraryFunctions, unix.Vfork, unix.cstring.BadSizeArg, unix.cstring.NullArg, valist.CopyToSelf, valist.Uninitialized, valist.Unterminated\n",
      "cppcheck: cppcheck-IOWithoutPositioning, cppcheck-StlMissingComparison, cppcheck-accessForwarded, cppcheck-accessMoved, cppcheck-argumentSize, cppcheck-arrayIndexOutOfBounds, cppcheck-arrayIndexOutOfBoundsCond, cppcheck-assertWithSideEffect, cppcheck-assignBoolToPointer, cppcheck-assignmentInAssert, cppcheck-autoVariables, cppcheck-autovarInvalidDeallocation, cppcheck-badBitmaskCheck, cppcheck-boostForeachError, cppcheck-bufferAccessOutOfBounds, cppcheck-charBitOp, cppcheck-charLiteralWithCharPtrCompare, cppcheck-checkCastIntToCharAndBack, cppcheck-clarifyStatement, cppcheck-compareBoolExpressionWithInt, cppcheck-comparePointers, cppcheck-comparisonFunctionIsAlwaysTrueOrFalse, cppcheck-comparisonOfBoolWithInvalidComparator, cppcheck-constStatement, cppcheck-containerOutOfBounds, cppcheck-copyCtorAndEqOperator, cppcheck-copyCtorPointerCopying, cppcheck-coutCerrMisusage, cppcheck-danglingLifetime, cppcheck-danglingReference, cppcheck-danglingTemporaryLifetime, cppcheck-deallocDealloc, cppcheck-deallocret, cppcheck-deallocuse, cppcheck-derefInvalidIterator, cppcheck-divideSizeof, cppcheck-doubleFree, cppcheck-duplInheritedMember, cppcheck-eraseDereference, cppcheck-exceptDeallocThrow, cppcheck-exceptThrowInDestructor, cppcheck-floatConversionOverflow, cppcheck-funcArgOrderDifferent, cppcheck-identicalConditionAfterEarlyExit, cppcheck-identicalInnerCondition, cppcheck-ignoredReturnValue, cppcheck-incompatibleFileOpen, cppcheck-incompleteArrayFill, cppcheck-incorrectCharBooleanError, cppcheck-incorrectLogicOperator, cppcheck-incorrectStringBooleanError, cppcheck-incorrectStringCompare, cppcheck-integerOverflow, cppcheck-invalidContainerLoop, cppcheck-invalidContainer, cppcheck-invalidFree, cppcheck-invalidFunctionArg, cppcheck-invalidFunctionArgBool, cppcheck-invalidFunctionArgStr, cppcheck-invalidIterator1, cppcheck-invalidLengthModifierError, cppcheck-invalidLifetime, cppcheck-invalidPrintfArgType_float, cppcheck-invalidPrintfArgType_n, cppcheck-invalidPrintfArgType_p, cppcheck-invalidPrintfArgType_s, cppcheck-invalidPrintfArgType_sint, cppcheck-invalidPrintfArgType_uint, cppcheck-invalidScanfArgType_float, cppcheck-invalidScanfArgType_int, cppcheck-invalidScanfArgType_s, cppcheck-invalidScanfFormatWidth, cppcheck-invalidScanfFormatWidth_smaller, cppcheck-invalidTestForOverflow, cppcheck-invalidscanf, cppcheck-iterators1, cppcheck-iterators2, cppcheck-iterators3, cppcheck-iteratorsCmp1, cppcheck-iteratorsCmp2, cppcheck-leakNoVarFunctionCall, cppcheck-leakReturnValNotUsed, cppcheck-leakUnsafeArgAlloc, cppcheck-literalWithCharPtrCompare, cppcheck-mallocOnClassError, cppcheck-mallocOnClassWarning, cppcheck-memleak, cppcheck-memleakOnRealloc, cppcheck-memsetClass, cppcheck-memsetClassFloat, cppcheck-memsetClassReference, cppcheck-memsetValueOutOfRange, cppcheck-memsetZeroBytes, cppcheck-mismatchAllocDealloc, cppcheck-mismatchSize, cppcheck-mismatchingContainerExpression, cppcheck-mismatchingContainers, cppcheck-missingMemberCopy, cppcheck-missingReturn, cppcheck-moduloAlwaysTrueFalse, cppcheck-multiplySizeof, cppcheck-negativeArraySize, cppcheck-negativeContainerIndex, cppcheck-negativeIndex, cppcheck-negativeMemoryAllocationSize, cppcheck-noCopyConstructor, cppcheck-noDestructor, cppcheck-noOperatorEq, cppcheck-nullPointer, cppcheck-nullPointerArithmetic, cppcheck-nullPointerArithmeticRedundantCheck, cppcheck-nullPointerDefaultArg, cppcheck-nullPointerRedundantCheck, cppcheck-objectIndex, cppcheck-operatorEqMissingReturnStatement, cppcheck-operatorEqToSelf, cppcheck-operatorEqVarError, cppcheck-oppositeInnerCondition, cppcheck-overlappingStrcmp, cppcheck-overlappingWriteFunction, cppcheck-overlappingWriteUnion, cppcheck-pointerAdditionResultNotNull, cppcheck-pointerArithBool, cppcheck-pointerSize, cppcheck-publicAllocationError, cppcheck-pureVirtualCall, cppcheck-raceAfterInterlockedDecrement, cppcheck-readWriteOnlyFile, cppcheck-redundantAssignInSwitch, cppcheck-redundantBitwiseOperationInSwitch, cppcheck-redundantCopyInSwitch, cppcheck-resourceLeak, cppcheck-rethrowNoCurrentException, cppcheck-returnAddressOfAutoVariable, cppcheck-returnAddressOfFunctionParameter, cppcheck-returnDanglingLifetime, cppcheck-returnLocalVariable, cppcheck-returnReference, cppcheck-returnTempReference, cppcheck-seekOnAppendedFile, cppcheck-selfAssignment, cppcheck-selfInitialization, cppcheck-shiftNegativeLHS, cppcheck-shiftNegative, cppcheck-shiftTooManyBits, cppcheck-shiftTooManyBitsSigned, cppcheck-signConversion, cppcheck-signedCharArrayIndex, cppcheck-sizeofCalculation, cppcheck-sizeofDivisionMemfunc, cppcheck-sizeofFunctionCall, cppcheck-sizeofsizeof, cppcheck-sizeofwithnumericparameter, cppcheck-sizeofwithsilentarraypointer, cppcheck-sprintfOverlappingData, cppcheck-staticStringCompare, cppcheck-stlBoundaries, cppcheck-stlIfFind, cppcheck-stlOutOfBounds, cppcheck-stlcstr, cppcheck-stlcstrReturn, cppcheck-stlcstrParam, cppcheck-stlcstrthrow, cppcheck-strPlusChar, cppcheck-stringCompare, cppcheck-stringLiteralWrite, cppcheck-suspiciousCase, cppcheck-suspiciousSemicolon, cppcheck-thisSubtraction, cppcheck-throwInNoexceptFunction, cppcheck-uninitDerivedMemberVar, cppcheck-uninitDerivedMemberVarPrivate, cppcheck-uninitMemberVar, cppcheck-uninitMemberVarPrivate, cppcheck-uninitStructMember, cppcheck-uninitdata, cppcheck-uninitstring, cppcheck-uninitvar, cppcheck-unknownEvaluationOrder, cppcheck-unsafeClassRefMember, cppcheck-unusedLabelSwitch, cppcheck-unusedLabelSwitchConfiguration, cppcheck-useClosedFile, cppcheck-uselessAssignmentPtrArg, cppcheck-uselessCallsCompare, cppcheck-uselessCallsEmpty, cppcheck-uselessCallsRemove, cppcheck-va_end_missing, cppcheck-va_list_usedBeforeStarted, cppcheck-va_start_referencePassed, cppcheck-va_start_subsequentCalls, cppcheck-va_start_wrongParameter, cppcheck-virtualCallInConstructor, cppcheck-virtualDestructor, cppcheck-writeReadOnlyFile, cppcheck-wrongPipeParameterSize, cppcheck-wrongPrintfScanfArgNum, cppcheck-wrongPrintfScanfParameterPositionError, cppcheck-wrongmathcall, cppcheck-zerodiv, cppcheck-zerodivcond\n",
      "clang-tidy: bugprone-assert-side-effect, bugprone-bool-pointer-implicit-conversion, bugprone-compare-pointer-to-member-virtual-function, bugprone-copy-constructor-init, bugprone-dangling-handle, bugprone-dynamic-static-initializers, bugprone-fold-init-type, bugprone-forward-declaration-namespace, bugprone-forwarding-reference-overload, bugprone-inaccurate-erase, bugprone-inc-dec-in-conditions, bugprone-incorrect-enable-if, bugprone-incorrect-roundings, bugprone-infinite-loop, bugprone-integer-division, bugprone-lambda-function-name, bugprone-macro-repeated-side-effects, bugprone-misplaced-operator-in-strlen-in-alloc, bugprone-misplaced-pointer-arithmetic-in-alloc, bugprone-misplaced-widening-cast, bugprone-move-forwarding-reference, bugprone-multiple-new-in-one-expression, bugprone-not-null-terminated-result, bugprone-optional-value-conversion, bugprone-shared-ptr-array-mismatch, bugprone-signal-handler, bugprone-signed-char-misuse, bugprone-sizeof-container, bugprone-sizeof-expression, bugprone-standalone-empty, bugprone-string-constructor, bugprone-stringview-nullptr, bugprone-string-literal-with-embedded-nul, bugprone-suspicious-enum-usage, bugprone-suspicious-memory-comparison, bugprone-suspicious-memset-usage, bugprone-suspicious-missing-comma, bugprone-suspicious-realloc-usage, bugprone-suspicious-semicolon, bugprone-swapped-arguments, bugprone-switch-missing-default-case, bugprone-terminating-continue, bugprone-throw-keyword-missing, bugprone-too-small-loop-variable, bugprone-undefined-memory-manipulation, bugprone-undelegated-constructor, bugprone-unhandled-exception-at-new, bugprone-unique-ptr-array-mismatch, bugprone-unused-raii, bugprone-unused-return-value, bugprone-use-after-move, bugprone-virtual-near-miss, cert-dcl54-cpp, cert-dcl58-cpp, cert-dcl59-cpp, cert-err09-cpp, cert-fio38-c, cert-mem57-cpp, cert-oop11-cpp, cert-oop58-cpp, cert-pos44-c, cert-pos47-c, clang-diagnostic-array-bounds-pointer-arithmetic, clang-diagnostic-bitwise-conditional-parentheses, clang-diagnostic-bitwise-instead-of-logical, clang-diagnostic-bitwise-op-parentheses, clang-diagnostic-bool-operation, clang-diagnostic-cast-of-sel-type, clang-diagnostic-char-subscripts, clang-diagnostic-comment, clang-diagnostic-comments, clang-diagnostic-dangling-else, clang-diagnostic-delete-abstract-non-virtual-dtor, clang-diagnostic-delete-non-abstract-non-virtual-dtor, clang-diagnostic-delete-non-virtual-dtor, clang-diagnostic-deprecated-copy, clang-diagnostic-deprecated-copy-with-dtor, clang-diagnostic-deprecated-copy-with-user-provided-dtor, clang-diagnostic-deprecated-copy-dtor, clang-diagnostic-deprecated-copy-with-user-provided-copy, clang-diagnostic-division-by-zero, clang-diagnostic-double-promotion, clang-diagnostic-embedded-directive, clang-diagnostic-empty-init-stmt, clang-diagnostic-extern-c-compat, clang-diagnostic-float-conversion, clang-diagnostic-for-loop-analysis, clang-diagnostic-format, clang-diagnostic-format-overflow, clang-diagnostic-format-overflow-non-kprintf, clang-diagnostic-format-truncation, clang-diagnostic-format-truncation-non-kprintf, clang-diagnostic-format-non-iso, clang-diagnostic-format-pedantic, clang-diagnostic-format-type-confusion, clang-diagnostic-format=2, clang-diagnostic-format-extra-args, clang-diagnostic-format-insufficient-args, clang-diagnostic-format-invalid-specifier, clang-diagnostic-format-nonliteral, clang-diagnostic-format-security, clang-diagnostic-format-y2k, clang-diagnostic-format-zero-length, clang-diagnostic-frame-address, clang-diagnostic-fuse-ld-path, clang-diagnostic-ignored-qualifiers, clang-diagnostic-ignored-reference-qualifiers, clang-diagnostic-implicit, clang-diagnostic-implicit-atomic-properties, clang-diagnostic-implicit-conversion-floating-point-to-bool, clang-diagnostic-implicit-exception-spec-mismatch, clang-diagnostic-implicit-fallthrough, clang-diagnostic-implicit-fallthrough-per-function, clang-diagnostic-implicit-fixed-point-conversion, clang-diagnostic-implicit-retain-self, clang-diagnostic-implicitly-unsigned-literal, clang-diagnostic-implicit-float-conversion, clang-diagnostic-implicit-const-int-float-conversion, clang-diagnostic-implicit-function-declaration, clang-diagnostic-implicit-int, clang-diagnostic-implicit-int-conversion, clang-diagnostic-implicit-int-float-conversion, clang-diagnostic-infinite-recursion, clang-diagnostic-initializer-overrides, clang-diagnostic-int-in-bool-context, clang-diagnostic-logical-not-parentheses, clang-diagnostic-logical-op-parentheses, clang-diagnostic-misleading-indentation, clang-diagnostic-mismatched-tags, clang-diagnostic-missing-braces, clang-diagnostic-missing-field-initializers, clang-diagnostic-missing-method-return-type, clang-diagnostic-most, clang-diagnostic-move, clang-diagnostic-multichar, clang-diagnostic-non-virtual-dtor, clang-diagnostic-nonnull, clang-diagnostic-null-pointer-arithmetic, clang-diagnostic-null-pointer-subtraction, clang-diagnostic-objc-designated-initializers, clang-diagnostic-objc-flexible-array, clang-diagnostic-objc-missing-super-calls, clang-diagnostic-overloaded-shift-op-parentheses, clang-diagnostic-overloaded-virtual, clang-diagnostic-parentheses, clang-diagnostic-parentheses-equality, clang-diagnostic-pessimizing-move, clang-diagnostic-potentially-evaluated-expression, clang-diagnostic-private-extern, clang-diagnostic-range-loop-construct, clang-diagnostic-redundant-move, clang-diagnostic-reorder, clang-diagnostic-reorder-ctor, clang-diagnostic-reorder-init-list, clang-diagnostic-return-std-move, clang-diagnostic-return-type, clang-diagnostic-return-type-c-linkage, clang-diagnostic-self-assign, clang-diagnostic-self-assign-field, clang-diagnostic-self-assign-overloaded, clang-diagnostic-self-move, clang-diagnostic-semicolon-before-method-body, clang-diagnostic-shift-op-parentheses, clang-diagnostic-sign-compare, clang-diagnostic-sizeof-array-argument, clang-diagnostic-sizeof-array-decay, clang-diagnostic-sometimes-uninitialized, clang-diagnostic-static-in-inline, clang-diagnostic-static-self-init, clang-diagnostic-string-concatenation, clang-diagnostic-string-plus-int, clang-diagnostic-switch, clang-diagnostic-switch-default, clang-diagnostic-switch-enum, clang-diagnostic-switch-bool, clang-diagnostic-tautological-bitwise-compare, clang-diagnostic-tautological-compare, clang-diagnostic-tautological-constant-compare, clang-diagnostic-tautological-constant-out-of-range-compare, clang-diagnostic-tautological-objc-bool-compare, clang-diagnostic-tautological-overlap-compare, clang-diagnostic-tautological-pointer-compare, clang-diagnostic-tautological-undefined-compare, clang-diagnostic-trigraphs, clang-diagnostic-unevaluated-expression, clang-diagnostic-uninitialized, clang-diagnostic-uninitialized-const-reference, clang-diagnostic-unknown-pragmas, clang-diagnostic-unneeded-internal-declaration, clang-diagnostic-unused-argument, clang-diagnostic-unused-but-set-parameter, clang-diagnostic-unused-but-set-variable, clang-diagnostic-unused-comparison, clang-diagnostic-unused-const-variable, clang-diagnostic-unused-function, clang-diagnostic-unused-label, clang-diagnostic-unused-lambda-capture, clang-diagnostic-unused-local-typedef, clang-diagnostic-unused-local-typedefs, clang-diagnostic-unused-parameter, clang-diagnostic-unused-private-field, clang-diagnostic-unused-property-ivar, clang-diagnostic-unused-result, clang-diagnostic-unused-value, clang-diagnostic-unused-variable, clang-diagnostic-user-defined-warnings, clang-diagnostic-volatile-register-var, concurrency-thread-canceltype-asynchronous, cppcoreguidelines-avoid-capturing-lambda-coroutines, cppcoreguidelines-avoid-reference-coroutine-parameters, cppcoreguidelines-virtual-class-destructor, google-build-namespaces, misc-confusable-identifiers, misc-definitions-in-headers, misc-header-include-cycle, misc-misleading-bidirectional, misc-misleading-identifier, misc-misplaced-const, misc-redundant-expression, misc-unconventional-assign-operator, misc-uniqueptr-reset-release, performance-inefficient-algorithm, performance-move-const-arg, performance-move-constructor-init, performance-no-automatic-move, performance-noexcept-destructor, performance-noexcept-move-constructor, performance-noexcept-swap, performance-trivially-destructible, readability-container-contains, readability-container-data-pointer, readability-reference-to-constructed-temporary, readability-suspicious-call-argument\n",
      "[INFO 2024-02-05 15:27] - Starting static analysis ...\n",
      "[INFO 2024-02-05 15:27] - [1/3] cppcheck analyzed ex1.c successfully.\n",
      "[INFO 2024-02-05 15:27] - [2/3] clangsa analyzed ex1.c successfully.\n",
      "[INFO 2024-02-05 15:27] - [3/3] clang-tidy analyzed ex1.c successfully.\n",
      "[INFO 2024-02-05 15:27] - ----==== Summary ====----\n",
      "[INFO 2024-02-05 15:27] - Successfully analyzed\n",
      "[INFO 2024-02-05 15:27] -   clangsa: 1\n",
      "[INFO 2024-02-05 15:27] -   cppcheck: 1\n",
      "[INFO 2024-02-05 15:27] -   clang-tidy: 1\n",
      "[INFO 2024-02-05 15:27] - Total analyzed compilation commands: 1\n",
      "[INFO 2024-02-05 15:27] - ----=================----\n",
      "[INFO 2024-02-05 15:27] - Analysis finished.\n",
      "[INFO 2024-02-05 15:27] - To view results in the terminal use the \"CodeChecker parse\" command.\n",
      "[INFO 2024-02-05 15:27] - To store results use the \"CodeChecker store\" command.\n",
      "[INFO 2024-02-05 15:27] - See --help and the user guide for further options about parsing and storing the reports.\n",
      "[INFO 2024-02-05 15:27] - ----=================----\n",
      "[INFO 2024-02-05 15:27] - Analysis length: 0.45849108695983887 sec.\n",
      "[WARNING 2024-02-05 15:27] - Analyzer 'gcc' is enabled but CodeChecker is failed to execute analysis with it: 'Incompatible version: GCC binary found is too old at v11.4.0; minimum version is 13.0.0. Maybe try setting an absolute path to a different analyzer binary via the env variable CC_ANALYZER_BIN?'. Please check your 'PATH' environment variable and the 'config/package_layout.json' file!\n",
      "[HIGH] /tmp/ex1.c:4:11: The left operand of '<=' is a garbage value [core.UndefinedBinaryOperatorResult]\n",
      "    if (x <= 42){\n",
      "          ^\n",
      "\n",
      "Found 1 defect(s) in ex1.c\n",
      "\n",
      "[HIGH] /tmp/ex1.c:4:9: Uninitialized variable: x [cppcheck-uninitvar]\n",
      "    if (x <= 42){\n",
      "        ^\n",
      "\n",
      "Found 1 defect(s) in ex1.c\n",
      "\n",
      "[MEDIUM] /tmp/ex1.c:4:9: variable 'x' is uninitialized when used here [clang-diagnostic-uninitialized]\n",
      "    if (x <= 42){\n",
      "        ^\n",
      "\n",
      "Found 1 defect(s) in ex1.c\n",
      "\n",
      "\n",
      "----==== Severity Statistics ====----\n",
      "----------------------------\n",
      "Severity | Number of reports\n",
      "----------------------------\n",
      "HIGH     |                 2\n",
      "MEDIUM   |                 1\n",
      "----------------------------\n",
      "----=================----\n",
      "\n",
      "----==== Checker Statistics ====----\n",
      "-----------------------------------------------------------------\n",
      "Checker name                       | Severity | Number of reports\n",
      "-----------------------------------------------------------------\n",
      "core.UndefinedBinaryOperatorResult | HIGH     |                 1\n",
      "cppcheck-uninitvar                 | HIGH     |                 1\n",
      "clang-diagnostic-uninitialized     | MEDIUM   |                 1\n",
      "-----------------------------------------------------------------\n",
      "----=================----\n",
      "\n",
      "----==== File Statistics ====----\n",
      "-----------------------------\n",
      "File name | Number of reports\n",
      "-----------------------------\n",
      "ex1.c     |                 3\n",
      "-----------------------------\n",
      "----=================----\n",
      "\n",
      "----======== Summary ========----\n",
      "---------------------------------------------\n",
      "Number of processed analyzer result files | 3\n",
      "Number of analyzer reports                | 3\n",
      "---------------------------------------------\n",
      "----=================----\n"
     ]
    }
   ],
   "source": [
    "! CodeChecker check --build \"clang /tmp/ex1.c\""
   ]
  },
  {
   "cell_type": "markdown",
   "metadata": {},
   "source": [
    "I am still suspicious of the exact truth on whether the example given is actually undefined behavior. I mentioned a couple tools for checking on undefined behavior. Here I'll try the [undefined behavior sanitizer](https://clang.llvm.org/docs/UndefinedBehaviorSanitizer.html) which comes with your compiler and the [Cerberus](https://www.cl.cam.ac.uk/~pes20/cerberus/) interpreter. The UBSanitizer injects runtime checks for undefined behavior happening. I am unsure how complete these checks are or whther they can be optimized away. They probably try to make sure they are as reliable as is possible.\n",
    "\n",
    "The UB sanitizer does not take issue with this example, nor does cerberus. Curious."
   ]
  },
  {
   "cell_type": "code",
   "execution_count": 47,
   "metadata": {},
   "outputs": [],
   "source": [
    "! clang -fsanitize=undefined /tmp/ex1.c -o /tmp/ex1 && /tmp/ex1"
   ]
  },
  {
   "cell_type": "code",
   "execution_count": null,
   "metadata": {},
   "outputs": [],
   "source": [
    "%%bash\n",
    "# install cerberus. This needs to get ocaml first. Might take a bit\n",
    "apt install opam\n",
    "opam init -y\n",
    "eval $(opam env)\n",
    "git clone https://github.com/rems-project/cerberus.git\n",
    "cd cerberus\n",
    "apt-get install libgmp-dev\n",
    "opam install -y --deps-only ./cerberus-lib.opam ./cerberus.opam\n",
    "make"
   ]
  },
  {
   "cell_type": "code",
   "execution_count": 48,
   "metadata": {},
   "outputs": [],
   "source": [
    "! cerberus --exec /tmp/ex1.c"
   ]
  },
  {
   "cell_type": "markdown",
   "metadata": {},
   "source": [
    "Just to check that it isn't compiling away."
   ]
  },
  {
   "cell_type": "code",
   "execution_count": 1,
   "metadata": {},
   "outputs": [
    {
     "name": "stdout",
     "output_type": "stream",
     "text": [
      "000000000002ea38 <main>:\n",
      "   2ea38:\t55                   \tpush   %rbp\n",
      "   2ea39:\t48 89 e5             \tmov    %rsp,%rbp\n",
      "   2ea3c:\t48 83 ec 10          \tsub    $0x10,%rsp\n",
      "   2ea40:\tc7 45 fc 00 00 00 00 \tmovl   $0x0,-0x4(%rbp)\n",
      "   2ea47:\t83 7d f8 2a          \tcmpl   $0x2a,-0x8(%rbp)\n",
      "   2ea4b:\t0f 8f 4c 00 00 00    \tjg     2ea9d <main+0x65>\n",
      "   2ea51:\t81 7d f8 39 30 00 00 \tcmpl   $0x3039,-0x8(%rbp)\n",
      "   2ea58:\t0f 84 05 00 00 00    \tje     2ea63 <main+0x2b>\n",
      "   2ea5e:\te9 35 00 00 00       \tjmp    2ea98 <main+0x60>\n",
      "   2ea63:\t48 8d 3d c1 92 00 00 \tlea    0x92c1(%rip),%rdi        # 37d2b <_ZL10kVptrCheck+0xf25>\n",
      "   2ea6a:\t48 8d 35 c5 92 00 00 \tlea    0x92c5(%rip),%rsi        # 37d36 <_ZL10kVptrCheck+0xf30>\n",
      "   2ea71:\tba 05 00 00 00       \tmov    $0x5,%edx\n",
      "   2ea76:\t48 8d 0d c4 92 00 00 \tlea    0x92c4(%rip),%rcx        # 37d41 <_ZL10kVptrCheck+0xf3b>\n",
      "   2ea7d:\te8 4e 66 fd ff       \tcall   50d0 <__assert_fail@plt>\n",
      "   2ea82:\t31 c0                \txor    %eax,%eax\n",
      "   2ea84:\ta8 01                \ttest   $0x1,%al\n",
      "   2ea86:\t0f 85 0c 00 00 00    \tjne    2ea98 <main+0x60>\n",
      "   2ea8c:\t48 8d 3d d5 80 01 00 \tlea    0x180d5(%rip),%rdi        # 46b68 <_ZL17kSuppressionTypes+0x128>\n",
      "   2ea93:\te8 08 d1 ff ff       \tcall   2bba0 <__ubsan_handle_builtin_unreachable>\n",
      "   2ea98:\te9 00 00 00 00       \tjmp    2ea9d <main+0x65>\n"
     ]
    }
   ],
   "source": [
    "! objdump /tmp/ex1 -d | grep -A 20 main.:"
   ]
  },
  {
   "cell_type": "markdown",
   "metadata": {},
   "source": [
    "Asserts that aren't triggering may be an odd case, so let's do something more straightforward: printing uninitialized values."
   ]
  },
  {
   "cell_type": "code",
   "execution_count": 51,
   "metadata": {},
   "outputs": [
    {
     "name": "stdout",
     "output_type": "stream",
     "text": [
      "Overwriting /tmp/ex2.c\n"
     ]
    }
   ],
   "source": [
    "%%file /tmp/ex2.c\n",
    "#include <stdio.h>\n",
    "int main(){\n",
    "    int x;\n",
    "    printf(\"Value of x: %d\\n\", x);\n",
    "}"
   ]
  },
  {
   "cell_type": "markdown",
   "metadata": {},
   "source": [
    "The UB sanitizer still does not take issue.\n",
    "Cerberus thinks this is unspecified behavior (which prints differently from undefined behavior)\n"
   ]
  },
  {
   "cell_type": "code",
   "execution_count": 52,
   "metadata": {},
   "outputs": [
    {
     "name": "stdout",
     "output_type": "stream",
     "text": [
      "Value of x: 0\n"
     ]
    }
   ],
   "source": [
    "! clang -fsanitize=undefined /tmp/ex2.c -o /tmp/ex2 && /tmp/ex2"
   ]
  },
  {
   "cell_type": "code",
   "execution_count": 53,
   "metadata": {},
   "outputs": [
    {
     "name": "stdout",
     "output_type": "stream",
     "text": [
      "Value of x: UNSPEC\n"
     ]
    }
   ],
   "source": [
    "! cerberus --exec /tmp/ex2.c"
   ]
  },
  {
   "cell_type": "markdown",
   "metadata": {},
   "source": [
    "This slightly different program is however, quite bad. An uninitialized pointer is dereferenced and both methods complain accordingly."
   ]
  },
  {
   "cell_type": "code",
   "execution_count": 2,
   "metadata": {},
   "outputs": [
    {
     "name": "stdout",
     "output_type": "stream",
     "text": [
      "Overwriting /tmp/ex3.c\n"
     ]
    }
   ],
   "source": [
    "%%file /tmp/ex3.c\n",
    "#include <stdio.h>\n",
    "int main(){\n",
    "    int* x;\n",
    "    printf(\"Value of x: %d\\n\", *x);\n",
    "}"
   ]
  },
  {
   "cell_type": "code",
   "execution_count": 3,
   "metadata": {},
   "outputs": [
    {
     "name": "stdout",
     "output_type": "stream",
     "text": [
      "\u001b[1m/tmp/ex3.c:4:32:\u001b[1m\u001b[31m runtime error: \u001b[1m\u001b[0m\u001b[1mload of null pointer of type 'int'\u001b[1m\u001b[0m\n",
      "SUMMARY: UndefinedBehaviorSanitizer: undefined-behavior /tmp/ex3.c:4:32 \n",
      "UndefinedBehaviorSanitizer:DEADLYSIGNAL\n",
      "\u001b[1m\u001b[31m==33249==ERROR: UndefinedBehaviorSanitizer: SEGV on unknown address 0x000000000000 (pc 0x563890a65a7f bp 0x7ffde3c0d8b0 sp 0x7ffde3c0d890 T33249)\n",
      "\u001b[1m\u001b[0m==33249==The signal is caused by a READ memory access.\n",
      "==33249==Hint: address points to the zero page.\n",
      "    #0 0x563890a65a7f in main (/tmp/ex3+0x2ea7f) (BuildId: c9aba5b3a42c58e96d9e5e92c81c7a22b892dcf2)\n",
      "    #1 0x7f73eb0abd8f in __libc_start_call_main csu/../sysdeps/nptl/libc_start_call_main.h:58:16\n",
      "    #2 0x7f73eb0abe3f in __libc_start_main csu/../csu/libc-start.c:392:3\n",
      "    #3 0x563890a3c3e4 in _start (/tmp/ex3+0x53e4) (BuildId: c9aba5b3a42c58e96d9e5e92c81c7a22b892dcf2)\n",
      "\n",
      "UndefinedBehaviorSanitizer can not provide additional info.\n",
      "SUMMARY: UndefinedBehaviorSanitizer: SEGV (/tmp/ex3+0x2ea7f) (BuildId: c9aba5b3a42c58e96d9e5e92c81c7a22b892dcf2) in main\n",
      "==33249==ABORTING\n"
     ]
    }
   ],
   "source": [
    "! clang -fsanitize=undefined /tmp/ex3.c -o /tmp/ex3 && /tmp/ex3"
   ]
  },
  {
   "cell_type": "code",
   "execution_count": 57,
   "metadata": {},
   "outputs": [
    {
     "name": "stdout",
     "output_type": "stream",
     "text": [
      "\u001b[1m/tmp/ex3.c:4:32:\u001b[0m \u001b[1;31merror:\u001b[0m \u001b[1m\u001b[1mundefined behaviour: \u001b[0mthe operand of the unary '*' operator has an invalid value\u001b[0m\n",
      "    printf(\"Value of x: %d\\n\", *x);\n",
      "\u001b[1;32m                               ^~ \u001b[0m\n",
      "\u001b[1m§6.5.3.2#4, sentence 4\u001b[0m: \n",
      "4   The unary * operator denotes indirection. If the operand points to a function, the result is\n",
      "    a function designator; if it points to an object, the result is an lvalue designating the\n",
      "    object. If the operand has type ``pointer to type'', the result has type ``type''. If an\n",
      "    invalid value has been assigned to the pointer, the behavior of the unary * operator is\n",
      "    undefined.102)\n",
      "    Forward references: storage-class specifiers (6.7.1), structure and union specifiers\n",
      "    (6.7.2.1).\n"
     ]
    }
   ],
   "source": [
    "! cerberus --exec /tmp/ex3.c"
   ]
  },
  {
   "cell_type": "markdown",
   "metadata": {},
   "source": [
    "# Bits and Bobbles\n",
    "\n",
    "A true Achilles heal of all modelling and verification tools is the connection of the model back to physical reality or the mushy concept of human intent. A model or verification or optimization is only as good as it's weakest link. \n",
    "\n",
    "I do not have (and suspect there cannot be) a final satisfying answer to this problem. \n",
    "\n",
    "I also do not consider it to be a a complete demonstration of the futility or uselessness of checking of verification attempts. \n",
    "\n",
    "\n",
    "I am not an expert in undefined behavior. Take anything you read here with a grain of salt. (Honestly, take anything you read anywhere on this topic with a grain of salt. People say of a lot of confident wrong stuff.) This represents my best guess at the topic, using the best tools i know of.\n",
    "\n",
    "First off, you don't have to be _that_ scared. A mistake about undefined behavior is an unlikely cause of death. We are more likely to get cancer from some kind of slovenly corporate oversight about deodorant ingredients or basking in the wrong sunbeam.\n",
    "\n",
    "We all die some day anyway. It is hopefully a whiles off and won't be that horrifying or painful.\n",
    "\n",
    "On the other hand, I would nearly guarantee C and C++ are in the bioweapon, medical radiation, and nuclear stack. So it only takes one real nasty bug or even misconception to kill us all.\n",
    "\n",
    "Turn on s lot of [warnings](https://gcc.gnu.org/onlinedocs/gcc/Warning-Options.html) (`-Wall -Wextra -Wpedantic` is a start) when you are working in an unsafe language and deal with them. In principle, it is quite possible for the compiler to detect situations that humans are likely to be confused. It isn't perfect, but even precise language lawyering isn't perfect if it doesn't comply with this particular user's intuitions and intent.\n",
    "\n",
    "<https://en.wikipedia.org/wiki/Undefined_behavior>\n",
    "\n",
    "Here's my basic understanding.\n",
    "\n",
    "Undefined behavior:\n",
    "An imperative program is kind of like a `state -> state` function. If you were to write an interpreter of your target imperative language in a purely functional style, this comes very naturally. The interpreter has a type `program -> state -> state` and if you partially apply it, you get it's state transformer semantics. `x := x + 1;` gets parsed as something like `Assign(\"x\", Plus(Var(\"x\"), Lit(1))`.   It takes in an initial state, which is the value of variables and memory, and outputs a final state of new values of variables and memory.\n",
    "\n",
    "unspecified behavior:\n",
    "If the program is allowed to fail, then the final state is not defined. Then we can model programs as `state -> option state`.\n",
    "\n",
    "implementation defined behavior:\n",
    "A different thing programs can do is do something, but it can be kind of random. This is unspecified behavior. Programs can be different choices of order of operations. We can think of programs as `state -> list state` with a list of possible final states.\n",
    "A slightly different notion is that programs can be implementation-defined. They still do something that isn't quite clear, but the implementation picks a consistent thing to do. We can model this purely functionally. \n",
    "`() -> option state`\n",
    "\n",
    "It is not always obvious in unsafe languages where the boundary between totally well-defined, undefined, unspecified, and implementation defined.\n",
    "\n",
    "I am also suspicious that many of the HN comments are not right. People will talk at great length about undefined behavior. It was claimed that this example is an instance of \"undefined behavior\". I believe that this may be (or perhaps should be) an instance of \"unspecified behavior', a distinct and slightly less insidious cousin. If so, CBMC is treating it's emulation of unspecified behavior in fairly reasonably manner I believe.\n",
    "\n",
    "See for example 2.6.1 https://robbertkrebbers.nl/research/thesis.pdf  Defect Report #260  https://www.open-std.org/jtc1/sc22/wg14/www/docs/dr_260.htm Defect Report is numbered #451 https://www.open-std.org/jtc1/sc22/wg14/www/docs/dr_451.htm\n",
    "\n",
    "I may be just confusing the issue because I hate being shown to be wrong and ignorant on the internet by strangers. Could be. Could be.\n",
    "\n",
    "\n",
    "John Regehr has many great blog posts around this an other topics\n",
    "https://blog.regehr.org/archives/1234\n",
    "\n",
    "This is not the whole story, maybe not even a _majority_ of the story. What is the difference between a \"do nothing\" program and one that prints `\"Hello World`? In our current conception of state, it is not clear that printing is evident in final state. There are a couple of ways out of this. We could attempt to say that no no no, state is the entire _universe_ including our eyeballs and the screen. This is slightly actionable. but also a bit silly.\n",
    "We could also abandon our entire conception of imperative programs as mathematical functions. This is a weird way to think about it for most of the population, and smacks of sophistry and great faith and love of traditional mathematics. Traditional mathematics _is_  the prime example of being complex and yet (varying degrees of) precise.\n",
    "The other thing we can do is say that there is\n",
    "\n",
    "The C and C++ standards. I have not mastered the art of reading these (yea, yea go ahead and rip into me, you jackals.). C11 https://port70.net/~nsz/c/c11/n1570.html#J\n",
    "\n",
    "Also take a look at the [Compcert](https://compcert.org/) [Formal verification of a realistic compiler](https://xavierleroy.org/publi/compcert-CACM.pdf) [A formally verified compiler back-end](https://xavierleroy.org/publi/compcert-backend.pdf), \n",
    "\n",
    "C semantics\n",
    "- The C standard formalized in Coq https://robbertkrebbers.nl/research/thesis.pdf\n",
    "- K framework semantics https://github.com/kframework/c-semantics https://www.ideals.illinois.edu/items/34571\n",
    "- https://www.cl.cam.ac.uk/~pes20/cerberus/ cerberus\n",
    "\n",
    " https://www.cis.upenn.edu/~stevez/papers/XZHH+20.pdf interaction trees. Algerbaic effect style modeling\n",
    "\n",
    " memory model semantics.\n"
   ]
  },
  {
   "cell_type": "code",
   "execution_count": null,
   "metadata": {},
   "outputs": [],
   "source": [
    "%%bash\n",
    "# various installations\n",
    "#pip install codechecker\n",
    "#apt install cppcheck\n",
    "# face book infer\n",
    "#VERSION=1.1.0; \\\n",
    "#curl -sSL \"https://github.com/facebook/infer/releases/download/v$VERSION/infer-linux64-v$VERSION.tar.xz\" \\\n",
    "#| sudo tar -C /opt -xJ && \\\n",
    "#sudo ln -s \"/opt/infer-linux64-v$VERSION/bin/infer\" /usr/local/bin/infer\n",
    "# cerberus\n",
    "\n"
   ]
  },
  {
   "cell_type": "markdown",
   "metadata": {},
   "source": [
    "https://news.ycombinator.com/item?id=39191507\n",
    "\n",
    "-Wall -Wpedantic -Wextra -Werror\n",
    "\n",
    "For undefined behavior detection, I have heard of these:\n",
    "- UB sanitizer https://clang.llvm.org/docs/UndefinedBehaviorSanitizer.html this can be used with klee for more coverage, but that doesn't increase the UB\n",
    "\n",
    "- Cerberus Semantics https://www.cl.cam.ac.uk/~pes20/cerberus/\n",
    "\n",
    "- https://github.com/kframework/c-semantics\n",
    "\n",
    "- https://github.com/TrustInSoft/tis-interpreter\n",
    "\n",
    "\n",
    "https://wordsandbuttons.online/so_you_think_you_know_c.html\n",
    "\n",
    "https://clang-analyzer.llvm.org/\n",
    "https://codechecker.readthedocs.io/en/latest/\n",
    "https://clang-analyzer.llvm.org/scan-build.html\n",
    "\n",
    "https://stackoverflow.com/questions/7237963/is-there-a-c-implementation-that-detects-all-undefined-behavior\n",
    "\n",
    "https://twitter.com/kees_cook/status/1588007082288353281?s=20&t=udFq9u7zLY-5-Ae6VrdqeQ\n",
    "```\n",
    "-Wall\n",
    "-D_FORTIFY_SOURCE=2\n",
    "-fsanitize=bounds fsanitize-undefined-trap-on-error\n",
    "-fstrict-flex-arrays (GCC 13+, Clang 16+)\n",
    "```\n",
    "\n",
    "semgrep\n",
    "codeql\n",
    "\n",
    "frama-c\n",
    "\n",
    "astree\n",
    "\n"
   ]
  },
  {
   "cell_type": "markdown",
   "metadata": {},
   "source": [
    "## Clang-tidy\n",
    "https://clang.llvm.org/extra/clang-tidy/"
   ]
  },
  {
   "cell_type": "code",
   "execution_count": null,
   "metadata": {},
   "outputs": [],
   "source": [
    "! clang-tidy /tmp/ex1.c"
   ]
  },
  {
   "cell_type": "code",
   "execution_count": 32,
   "metadata": {},
   "outputs": [
    {
     "name": "stdout",
     "output_type": "stream",
     "text": [
      "Overwriting /tmp/ub.c\n"
     ]
    }
   ],
   "source": [
    "%%file /tmp/ub.c\n",
    "#include <assert.h>\n",
    "#include <stdio.h>\n",
    "int main(){\n",
    "    int x;\n",
    "    x++;\n",
    "    printf(\"Value of x: %d\\n\", x);\n",
    "    //int y = *(int *)NULL;\n",
    "    //assert(x != 12345);\n",
    "    //assert(1 == 0);\n",
    "}"
   ]
  },
  {
   "cell_type": "code",
   "execution_count": 36,
   "metadata": {},
   "outputs": [
    {
     "name": "stdout",
     "output_type": "stream",
     "text": [
      "\u001b[01m\u001b[K/tmp/ub.c:\u001b[m\u001b[K In function ‘\u001b[01m\u001b[Kmain\u001b[m\u001b[K’:\n",
      "\u001b[01m\u001b[K/tmp/ub.c:5:6:\u001b[m\u001b[K \u001b[01;35m\u001b[Kwarning: \u001b[m\u001b[K‘\u001b[01m\u001b[Kx\u001b[m\u001b[K’ is used uninitialized [\u001b[01;35m\u001b[K\u001b]8;;https://gcc.gnu.org/onlinedocs/gcc/Warning-Options.html#index-Wuninitialized\u0007-Wuninitialized\u001b]8;;\u0007\u001b[m\u001b[K]\n",
      "    5 |     \u001b[01;35m\u001b[Kx++\u001b[m\u001b[K;\n",
      "      |     \u001b[01;35m\u001b[K~^~\u001b[m\u001b[K\n",
      "Value of x: 1\n"
     ]
    }
   ],
   "source": [
    "! gcc -O3 -Wall -Wpedantic -Wextra  /tmp/ub.c -o /tmp/ub && /tmp/ub"
   ]
  },
  {
   "cell_type": "code",
   "execution_count": 37,
   "metadata": {},
   "outputs": [
    {
     "name": "stdout",
     "output_type": "stream",
     "text": [
      "0000000000001060 <main>:\n",
      "    1060:\tf3 0f 1e fa          \tendbr64 \n",
      "    1064:\t48 83 ec 08          \tsub    $0x8,%rsp\n",
      "    1068:\tba 01 00 00 00       \tmov    $0x1,%edx\n",
      "    106d:\tbf 01 00 00 00       \tmov    $0x1,%edi\n",
      "    1072:\t31 c0                \txor    %eax,%eax\n",
      "    1074:\t48 8d 35 89 0f 00 00 \tlea    0xf89(%rip),%rsi        # 2004 <_IO_stdin_used+0x4>\n",
      "    107b:\te8 d0 ff ff ff       \tcall   1050 <__printf_chk@plt>\n",
      "    1080:\t31 c0                \txor    %eax,%eax\n",
      "    1082:\t48 83 c4 08          \tadd    $0x8,%rsp\n",
      "    1086:\tc3                   \tret    \n",
      "    1087:\t66 0f 1f 84 00 00 00 \tnopw   0x0(%rax,%rax,1)\n",
      "    108e:\t00 00 \n",
      "\n",
      "0000000000001090 <_start>:\n",
      "    1090:\tf3 0f 1e fa          \tendbr64 \n",
      "    1094:\t31 ed                \txor    %ebp,%ebp\n",
      "    1096:\t49 89 d1             \tmov    %rdx,%r9\n",
      "    1099:\t5e                   \tpop    %rsi\n",
      "    109a:\t48 89 e2             \tmov    %rsp,%rdx\n",
      "    109d:\t48 83 e4 f0          \tand    $0xfffffffffffffff0,%rsp\n"
     ]
    }
   ],
   "source": [
    "! objdump -d /tmp/ub | grep -A 20 main.:"
   ]
  },
  {
   "cell_type": "code",
   "execution_count": 20,
   "metadata": {},
   "outputs": [
    {
     "name": "stderr",
     "output_type": "stream",
     "text": [
      "/tmp/ub.c:7:13: error: undefined behaviour: the operand of the unary '*' operator has an invalid value\n",
      "    int y = *(int *)NULL;\n",
      "            ^~~~~~~~~~~~~~~~~~~~~~ \n",
      "§6.5.3.2#4, sentence 4: \n",
      "4   The unary * operator denotes indirection. If the operand points to a function, the result is\n",
      "    a function designator; if it points to an object, the result is an lvalue designating the\n",
      "    object. If the operand has type ``pointer to type'', the result has type ``type''. If an\n",
      "    invalid value has been assigned to the pointer, the behavior of the unary * operator is\n",
      "    undefined.102)\n",
      "    Forward references: storage-class specifiers (6.7.1), structure and union specifiers\n",
      "    (6.7.2.1).\n"
     ]
    }
   ],
   "source": [
    "%%bash\n",
    "cerberus --exec /tmp/ub.c\n",
    "#cerberus --batch "
   ]
  },
  {
   "cell_type": "markdown",
   "metadata": {},
   "source": [
    "## Codechecker\n",
    "https://github.com/Ericsson/codechecker\n",
    "That compile_commands.json might be kind of interesting\n",
    "\n"
   ]
  },
  {
   "cell_type": "code",
   "execution_count": 15,
   "metadata": {},
   "outputs": [
    {
     "name": "stdout",
     "output_type": "stream",
     "text": [
      "[INFO 2024-02-01 11:11] - Starting build...\n",
      "[INFO 2024-02-01 11:11] - Using CodeChecker ld-logger.\n",
      "[INFO 2024-02-01 11:11] - Build finished successfully.\n",
      "[INFO 2024-02-01 11:11] - Enabled checkers:\n",
      "clang-tidy: bugprone-assert-side-effect, bugprone-bool-pointer-implicit-conversion, bugprone-compare-pointer-to-member-virtual-function, bugprone-copy-constructor-init, bugprone-dangling-handle, bugprone-dynamic-static-initializers, bugprone-fold-init-type, bugprone-forward-declaration-namespace, bugprone-forwarding-reference-overload, bugprone-inaccurate-erase, bugprone-inc-dec-in-conditions, bugprone-incorrect-enable-if, bugprone-incorrect-roundings, bugprone-infinite-loop, bugprone-integer-division, bugprone-lambda-function-name, bugprone-macro-repeated-side-effects, bugprone-misplaced-operator-in-strlen-in-alloc, bugprone-misplaced-pointer-arithmetic-in-alloc, bugprone-misplaced-widening-cast, bugprone-move-forwarding-reference, bugprone-multiple-new-in-one-expression, bugprone-not-null-terminated-result, bugprone-optional-value-conversion, bugprone-shared-ptr-array-mismatch, bugprone-signal-handler, bugprone-signed-char-misuse, bugprone-sizeof-container, bugprone-sizeof-expression, bugprone-standalone-empty, bugprone-string-constructor, bugprone-stringview-nullptr, bugprone-string-literal-with-embedded-nul, bugprone-suspicious-enum-usage, bugprone-suspicious-memory-comparison, bugprone-suspicious-memset-usage, bugprone-suspicious-missing-comma, bugprone-suspicious-realloc-usage, bugprone-suspicious-semicolon, bugprone-swapped-arguments, bugprone-switch-missing-default-case, bugprone-terminating-continue, bugprone-throw-keyword-missing, bugprone-too-small-loop-variable, bugprone-undefined-memory-manipulation, bugprone-undelegated-constructor, bugprone-unhandled-exception-at-new, bugprone-unique-ptr-array-mismatch, bugprone-unused-raii, bugprone-unused-return-value, bugprone-use-after-move, bugprone-virtual-near-miss, cert-dcl54-cpp, cert-dcl58-cpp, cert-dcl59-cpp, cert-err09-cpp, cert-fio38-c, cert-mem57-cpp, cert-oop11-cpp, cert-oop58-cpp, cert-pos44-c, cert-pos47-c, clang-diagnostic-array-bounds-pointer-arithmetic, clang-diagnostic-bitwise-conditional-parentheses, clang-diagnostic-bitwise-instead-of-logical, clang-diagnostic-bitwise-op-parentheses, clang-diagnostic-bool-operation, clang-diagnostic-cast-of-sel-type, clang-diagnostic-char-subscripts, clang-diagnostic-comment, clang-diagnostic-comments, clang-diagnostic-dangling-else, clang-diagnostic-delete-abstract-non-virtual-dtor, clang-diagnostic-delete-non-abstract-non-virtual-dtor, clang-diagnostic-delete-non-virtual-dtor, clang-diagnostic-deprecated-copy, clang-diagnostic-deprecated-copy-with-dtor, clang-diagnostic-deprecated-copy-with-user-provided-dtor, clang-diagnostic-deprecated-copy-dtor, clang-diagnostic-deprecated-copy-with-user-provided-copy, clang-diagnostic-division-by-zero, clang-diagnostic-double-promotion, clang-diagnostic-embedded-directive, clang-diagnostic-empty-init-stmt, clang-diagnostic-extern-c-compat, clang-diagnostic-float-conversion, clang-diagnostic-for-loop-analysis, clang-diagnostic-format, clang-diagnostic-format-overflow, clang-diagnostic-format-overflow-non-kprintf, clang-diagnostic-format-truncation, clang-diagnostic-format-truncation-non-kprintf, clang-diagnostic-format-non-iso, clang-diagnostic-format-pedantic, clang-diagnostic-format-type-confusion, clang-diagnostic-format=2, clang-diagnostic-format-extra-args, clang-diagnostic-format-insufficient-args, clang-diagnostic-format-invalid-specifier, clang-diagnostic-format-nonliteral, clang-diagnostic-format-security, clang-diagnostic-format-y2k, clang-diagnostic-format-zero-length, clang-diagnostic-frame-address, clang-diagnostic-fuse-ld-path, clang-diagnostic-ignored-qualifiers, clang-diagnostic-ignored-reference-qualifiers, clang-diagnostic-implicit, clang-diagnostic-implicit-atomic-properties, clang-diagnostic-implicit-conversion-floating-point-to-bool, clang-diagnostic-implicit-exception-spec-mismatch, clang-diagnostic-implicit-fallthrough, clang-diagnostic-implicit-fallthrough-per-function, clang-diagnostic-implicit-fixed-point-conversion, clang-diagnostic-implicit-retain-self, clang-diagnostic-implicitly-unsigned-literal, clang-diagnostic-implicit-float-conversion, clang-diagnostic-implicit-const-int-float-conversion, clang-diagnostic-implicit-function-declaration, clang-diagnostic-implicit-int, clang-diagnostic-implicit-int-conversion, clang-diagnostic-implicit-int-float-conversion, clang-diagnostic-infinite-recursion, clang-diagnostic-initializer-overrides, clang-diagnostic-int-in-bool-context, clang-diagnostic-logical-not-parentheses, clang-diagnostic-logical-op-parentheses, clang-diagnostic-misleading-indentation, clang-diagnostic-mismatched-tags, clang-diagnostic-missing-braces, clang-diagnostic-missing-field-initializers, clang-diagnostic-missing-method-return-type, clang-diagnostic-most, clang-diagnostic-move, clang-diagnostic-multichar, clang-diagnostic-non-virtual-dtor, clang-diagnostic-nonnull, clang-diagnostic-null-pointer-arithmetic, clang-diagnostic-null-pointer-subtraction, clang-diagnostic-objc-designated-initializers, clang-diagnostic-objc-flexible-array, clang-diagnostic-objc-missing-super-calls, clang-diagnostic-overloaded-shift-op-parentheses, clang-diagnostic-overloaded-virtual, clang-diagnostic-parentheses, clang-diagnostic-parentheses-equality, clang-diagnostic-pessimizing-move, clang-diagnostic-potentially-evaluated-expression, clang-diagnostic-private-extern, clang-diagnostic-range-loop-construct, clang-diagnostic-redundant-move, clang-diagnostic-reorder, clang-diagnostic-reorder-ctor, clang-diagnostic-reorder-init-list, clang-diagnostic-return-std-move, clang-diagnostic-return-type, clang-diagnostic-return-type-c-linkage, clang-diagnostic-self-assign, clang-diagnostic-self-assign-field, clang-diagnostic-self-assign-overloaded, clang-diagnostic-self-move, clang-diagnostic-semicolon-before-method-body, clang-diagnostic-shift-op-parentheses, clang-diagnostic-sign-compare, clang-diagnostic-sizeof-array-argument, clang-diagnostic-sizeof-array-decay, clang-diagnostic-sometimes-uninitialized, clang-diagnostic-static-in-inline, clang-diagnostic-static-self-init, clang-diagnostic-string-concatenation, clang-diagnostic-string-plus-int, clang-diagnostic-switch, clang-diagnostic-switch-default, clang-diagnostic-switch-enum, clang-diagnostic-switch-bool, clang-diagnostic-tautological-bitwise-compare, clang-diagnostic-tautological-compare, clang-diagnostic-tautological-constant-compare, clang-diagnostic-tautological-constant-out-of-range-compare, clang-diagnostic-tautological-objc-bool-compare, clang-diagnostic-tautological-overlap-compare, clang-diagnostic-tautological-pointer-compare, clang-diagnostic-tautological-undefined-compare, clang-diagnostic-trigraphs, clang-diagnostic-unevaluated-expression, clang-diagnostic-uninitialized, clang-diagnostic-uninitialized-const-reference, clang-diagnostic-unknown-pragmas, clang-diagnostic-unneeded-internal-declaration, clang-diagnostic-unused-argument, clang-diagnostic-unused-but-set-parameter, clang-diagnostic-unused-but-set-variable, clang-diagnostic-unused-comparison, clang-diagnostic-unused-const-variable, clang-diagnostic-unused-function, clang-diagnostic-unused-label, clang-diagnostic-unused-lambda-capture, clang-diagnostic-unused-local-typedef, clang-diagnostic-unused-local-typedefs, clang-diagnostic-unused-parameter, clang-diagnostic-unused-private-field, clang-diagnostic-unused-property-ivar, clang-diagnostic-unused-result, clang-diagnostic-unused-value, clang-diagnostic-unused-variable, clang-diagnostic-user-defined-warnings, clang-diagnostic-volatile-register-var, concurrency-thread-canceltype-asynchronous, cppcoreguidelines-avoid-capturing-lambda-coroutines, cppcoreguidelines-avoid-reference-coroutine-parameters, cppcoreguidelines-virtual-class-destructor, google-build-namespaces, misc-confusable-identifiers, misc-definitions-in-headers, misc-header-include-cycle, misc-misleading-bidirectional, misc-misleading-identifier, misc-misplaced-const, misc-redundant-expression, misc-unconventional-assign-operator, misc-uniqueptr-reset-release, performance-inefficient-algorithm, performance-move-const-arg, performance-move-constructor-init, performance-no-automatic-move, performance-noexcept-destructor, performance-noexcept-move-constructor, performance-noexcept-swap, performance-trivially-destructible, readability-container-contains, readability-container-data-pointer, readability-reference-to-constructed-temporary, readability-suspicious-call-argument\n",
      "clangsa: alpha.security.cert.pos.34c, core.BitwiseShift, core.CallAndMessage, core.DivideZero, core.NonNullParamChecker, core.NullDereference, core.StackAddressEscape, core.UndefinedBinaryOperatorResult, core.VLASize, core.uninitialized.ArraySubscript, core.uninitialized.Assign, core.uninitialized.Branch, core.uninitialized.CapturedBlockVariable, core.uninitialized.NewArraySize, core.uninitialized.UndefReturn, cplusplus.InnerPointer, cplusplus.Move, cplusplus.NewDelete, cplusplus.NewDeleteLeaks, cplusplus.PlacementNew, cplusplus.PureVirtualCall, cplusplus.StringChecker, deadcode.DeadStores, nullability.NullPassedToNonnull, nullability.NullReturnedFromNonnull, optin.cplusplus.UninitializedObject, optin.cplusplus.VirtualCall, optin.portability.UnixAPI, security.cert.env.InvalidPtr, security.FloatLoopCounter, security.insecureAPI.UncheckedReturn, security.insecureAPI.getpw, security.insecureAPI.gets, security.insecureAPI.mkstemp, security.insecureAPI.mktemp, security.insecureAPI.rand, security.insecureAPI.vfork, unix.API, unix.Malloc, unix.MallocSizeof, unix.MismatchedDeallocator, unix.StdCLibraryFunctions, unix.Vfork, unix.cstring.BadSizeArg, unix.cstring.NullArg, valist.CopyToSelf, valist.Uninitialized, valist.Unterminated\n",
      "cppcheck: cppcheck-IOWithoutPositioning, cppcheck-StlMissingComparison, cppcheck-accessForwarded, cppcheck-accessMoved, cppcheck-argumentSize, cppcheck-arrayIndexOutOfBounds, cppcheck-arrayIndexOutOfBoundsCond, cppcheck-assertWithSideEffect, cppcheck-assignBoolToPointer, cppcheck-assignmentInAssert, cppcheck-autoVariables, cppcheck-autovarInvalidDeallocation, cppcheck-badBitmaskCheck, cppcheck-boostForeachError, cppcheck-bufferAccessOutOfBounds, cppcheck-charBitOp, cppcheck-charLiteralWithCharPtrCompare, cppcheck-checkCastIntToCharAndBack, cppcheck-clarifyStatement, cppcheck-compareBoolExpressionWithInt, cppcheck-comparePointers, cppcheck-comparisonFunctionIsAlwaysTrueOrFalse, cppcheck-comparisonOfBoolWithInvalidComparator, cppcheck-constStatement, cppcheck-containerOutOfBounds, cppcheck-copyCtorAndEqOperator, cppcheck-copyCtorPointerCopying, cppcheck-coutCerrMisusage, cppcheck-danglingLifetime, cppcheck-danglingReference, cppcheck-danglingTemporaryLifetime, cppcheck-deallocDealloc, cppcheck-deallocret, cppcheck-deallocuse, cppcheck-derefInvalidIterator, cppcheck-divideSizeof, cppcheck-doubleFree, cppcheck-duplInheritedMember, cppcheck-eraseDereference, cppcheck-exceptDeallocThrow, cppcheck-exceptThrowInDestructor, cppcheck-floatConversionOverflow, cppcheck-funcArgOrderDifferent, cppcheck-identicalConditionAfterEarlyExit, cppcheck-identicalInnerCondition, cppcheck-ignoredReturnValue, cppcheck-incompatibleFileOpen, cppcheck-incompleteArrayFill, cppcheck-incorrectCharBooleanError, cppcheck-incorrectLogicOperator, cppcheck-incorrectStringBooleanError, cppcheck-incorrectStringCompare, cppcheck-integerOverflow, cppcheck-invalidContainerLoop, cppcheck-invalidContainer, cppcheck-invalidFree, cppcheck-invalidFunctionArg, cppcheck-invalidFunctionArgBool, cppcheck-invalidFunctionArgStr, cppcheck-invalidIterator1, cppcheck-invalidLengthModifierError, cppcheck-invalidLifetime, cppcheck-invalidPrintfArgType_float, cppcheck-invalidPrintfArgType_n, cppcheck-invalidPrintfArgType_p, cppcheck-invalidPrintfArgType_s, cppcheck-invalidPrintfArgType_sint, cppcheck-invalidPrintfArgType_uint, cppcheck-invalidScanfArgType_float, cppcheck-invalidScanfArgType_int, cppcheck-invalidScanfArgType_s, cppcheck-invalidScanfFormatWidth, cppcheck-invalidScanfFormatWidth_smaller, cppcheck-invalidTestForOverflow, cppcheck-invalidscanf, cppcheck-iterators1, cppcheck-iterators2, cppcheck-iterators3, cppcheck-iteratorsCmp1, cppcheck-iteratorsCmp2, cppcheck-leakNoVarFunctionCall, cppcheck-leakReturnValNotUsed, cppcheck-leakUnsafeArgAlloc, cppcheck-literalWithCharPtrCompare, cppcheck-mallocOnClassError, cppcheck-mallocOnClassWarning, cppcheck-memleak, cppcheck-memleakOnRealloc, cppcheck-memsetClass, cppcheck-memsetClassFloat, cppcheck-memsetClassReference, cppcheck-memsetValueOutOfRange, cppcheck-memsetZeroBytes, cppcheck-mismatchAllocDealloc, cppcheck-mismatchSize, cppcheck-mismatchingContainerExpression, cppcheck-mismatchingContainers, cppcheck-missingMemberCopy, cppcheck-missingReturn, cppcheck-moduloAlwaysTrueFalse, cppcheck-multiplySizeof, cppcheck-negativeArraySize, cppcheck-negativeContainerIndex, cppcheck-negativeIndex, cppcheck-negativeMemoryAllocationSize, cppcheck-noCopyConstructor, cppcheck-noDestructor, cppcheck-noOperatorEq, cppcheck-nullPointer, cppcheck-nullPointerArithmetic, cppcheck-nullPointerArithmeticRedundantCheck, cppcheck-nullPointerDefaultArg, cppcheck-nullPointerRedundantCheck, cppcheck-objectIndex, cppcheck-operatorEqMissingReturnStatement, cppcheck-operatorEqToSelf, cppcheck-operatorEqVarError, cppcheck-oppositeInnerCondition, cppcheck-overlappingStrcmp, cppcheck-overlappingWriteFunction, cppcheck-overlappingWriteUnion, cppcheck-pointerAdditionResultNotNull, cppcheck-pointerArithBool, cppcheck-pointerSize, cppcheck-publicAllocationError, cppcheck-pureVirtualCall, cppcheck-raceAfterInterlockedDecrement, cppcheck-readWriteOnlyFile, cppcheck-redundantAssignInSwitch, cppcheck-redundantBitwiseOperationInSwitch, cppcheck-redundantCopyInSwitch, cppcheck-resourceLeak, cppcheck-rethrowNoCurrentException, cppcheck-returnAddressOfAutoVariable, cppcheck-returnAddressOfFunctionParameter, cppcheck-returnDanglingLifetime, cppcheck-returnLocalVariable, cppcheck-returnReference, cppcheck-returnTempReference, cppcheck-seekOnAppendedFile, cppcheck-selfAssignment, cppcheck-selfInitialization, cppcheck-shiftNegativeLHS, cppcheck-shiftNegative, cppcheck-shiftTooManyBits, cppcheck-shiftTooManyBitsSigned, cppcheck-signConversion, cppcheck-signedCharArrayIndex, cppcheck-sizeofCalculation, cppcheck-sizeofDivisionMemfunc, cppcheck-sizeofFunctionCall, cppcheck-sizeofsizeof, cppcheck-sizeofwithnumericparameter, cppcheck-sizeofwithsilentarraypointer, cppcheck-sprintfOverlappingData, cppcheck-staticStringCompare, cppcheck-stlBoundaries, cppcheck-stlIfFind, cppcheck-stlOutOfBounds, cppcheck-stlcstr, cppcheck-stlcstrReturn, cppcheck-stlcstrParam, cppcheck-stlcstrthrow, cppcheck-strPlusChar, cppcheck-stringCompare, cppcheck-stringLiteralWrite, cppcheck-suspiciousCase, cppcheck-suspiciousSemicolon, cppcheck-thisSubtraction, cppcheck-throwInNoexceptFunction, cppcheck-uninitDerivedMemberVar, cppcheck-uninitDerivedMemberVarPrivate, cppcheck-uninitMemberVar, cppcheck-uninitMemberVarPrivate, cppcheck-uninitStructMember, cppcheck-uninitdata, cppcheck-uninitstring, cppcheck-uninitvar, cppcheck-unknownEvaluationOrder, cppcheck-unsafeClassRefMember, cppcheck-unusedLabelSwitch, cppcheck-unusedLabelSwitchConfiguration, cppcheck-useClosedFile, cppcheck-uselessAssignmentPtrArg, cppcheck-uselessCallsCompare, cppcheck-uselessCallsEmpty, cppcheck-uselessCallsRemove, cppcheck-va_end_missing, cppcheck-va_list_usedBeforeStarted, cppcheck-va_start_referencePassed, cppcheck-va_start_subsequentCalls, cppcheck-va_start_wrongParameter, cppcheck-virtualCallInConstructor, cppcheck-virtualDestructor, cppcheck-writeReadOnlyFile, cppcheck-wrongPipeParameterSize, cppcheck-wrongPrintfScanfArgNum, cppcheck-wrongPrintfScanfParameterPositionError, cppcheck-wrongmathcall, cppcheck-zerodiv, cppcheck-zerodivcond\n",
      "[INFO 2024-02-01 11:11] - Starting static analysis ...\n",
      "[INFO 2024-02-01 11:11] - [1/3] cppcheck analyzed ub.c successfully.\n",
      "[INFO 2024-02-01 11:11] - [2/3] clangsa analyzed ub.c successfully.\n",
      "[INFO 2024-02-01 11:11] - [3/3] clang-tidy analyzed ub.c successfully.\n",
      "[INFO 2024-02-01 11:11] - ----==== Summary ====----\n",
      "[INFO 2024-02-01 11:11] - Successfully analyzed\n",
      "[INFO 2024-02-01 11:11] -   clang-tidy: 1\n",
      "[INFO 2024-02-01 11:11] -   clangsa: 1\n",
      "[INFO 2024-02-01 11:11] -   cppcheck: 1\n",
      "[INFO 2024-02-01 11:11] - Total analyzed compilation commands: 1\n",
      "[INFO 2024-02-01 11:11] - ----=================----\n",
      "[INFO 2024-02-01 11:11] - Analysis finished.\n",
      "[INFO 2024-02-01 11:11] - To view results in the terminal use the \"CodeChecker parse\" command.\n",
      "[INFO 2024-02-01 11:11] - To store results use the \"CodeChecker store\" command.\n",
      "[INFO 2024-02-01 11:11] - See --help and the user guide for further options about parsing and storing the reports.\n",
      "[INFO 2024-02-01 11:11] - ----=================----\n",
      "[INFO 2024-02-01 11:11] - Analysis length: 0.3319387435913086 sec.\n",
      "[WARNING 2024-02-01 11:11] - Analyzer 'gcc' is enabled but CodeChecker is failed to execute analysis with it: 'Incompatible version: GCC binary found is too old at v11.4.0; minimum version is 13.0.0. Maybe try setting an absolute path to a different analyzer binary via the env variable CC_ANALYZER_BIN?'. Please check your 'PATH' environment variable and the 'config/package_layout.json' file!\n",
      "Parsing input file '/tmp/reports/ub.c_clangsa_fb9868167746a12b0aa35cb54a22e877.plist'.\n",
      "[INFO 2024-02-01 11:11] - Html file was generated: /tmp/reports.html/ub.c_clangsa_fb9868167746a12b0aa35cb54a22e877.plist.html\n",
      "Parsing input file '/tmp/reports/ub.c_clang-tidy_fb9868167746a12b0aa35cb54a22e877.plist'.\n",
      "[INFO 2024-02-01 11:11] - Html file was generated: /tmp/reports.html/ub.c_clang-tidy_fb9868167746a12b0aa35cb54a22e877.plist.html\n",
      "Parsing input file '/tmp/reports/ub.c_cppcheck_0795e4a55ea44198516e5ae416d02dbb.plist'.\n",
      "[INFO 2024-02-01 11:11] - Html file was generated: /tmp/reports.html/ub.c_cppcheck_0795e4a55ea44198516e5ae416d02dbb.plist.html\n",
      "Parsing input file '/tmp/reports/ub.c_clangsa_0795e4a55ea44198516e5ae416d02dbb.plist'.\n",
      "[INFO 2024-02-01 11:11] - No report data in /tmp/reports/ub.c_clangsa_0795e4a55ea44198516e5ae416d02dbb.plist file.\n",
      "Parsing input file '/tmp/reports/ub.c_cppcheck_fb9868167746a12b0aa35cb54a22e877.plist'.\n",
      "[INFO 2024-02-01 11:11] - No report data in /tmp/reports/ub.c_cppcheck_fb9868167746a12b0aa35cb54a22e877.plist file.\n",
      "\n",
      "----==== Severity Statistics ====----\n",
      "----------------------------\n",
      "Severity | Number of reports\n",
      "----------------------------\n",
      "HIGH     |                 2\n",
      "MEDIUM   |                 1\n",
      "----------------------------\n",
      "----=================----\n",
      "\n",
      "----==== Checker Statistics ====----\n",
      "-------------------------------------------------------------\n",
      "Checker name                   | Severity | Number of reports\n",
      "-------------------------------------------------------------\n",
      "core.uninitialized.Assign      | HIGH     |                 1\n",
      "clang-diagnostic-uninitialized | MEDIUM   |                 1\n",
      "cppcheck-uninitvar             | HIGH     |                 1\n",
      "-------------------------------------------------------------\n",
      "----=================----\n",
      "\n",
      "----==== File Statistics ====----\n",
      "-----------------------------\n",
      "File name | Number of reports\n",
      "-----------------------------\n",
      "ub.c      |                 3\n",
      "-----------------------------\n",
      "----=================----\n",
      "\n",
      "----======== Summary ========----\n",
      "---------------------------------------------\n",
      "Number of processed analyzer result files | 5\n",
      "Number of analyzer reports                | 3\n",
      "---------------------------------------------\n",
      "----=================----\n",
      "\n",
      "To view statistics in a browser run:\n",
      "> firefox /tmp/reports.html/statistics.html\n",
      "\n",
      "To view the results in a browser run:\n",
      "> firefox /tmp/reports.html/index.html\n"
     ]
    },
    {
     "ename": "CalledProcessError",
     "evalue": "Command 'b'# instrument a build first\\nCodeChecker log -o /tmp/compile_commands.json --build \"clang -o /tmp/ub /tmp/ub.c\"\\n# Then run the analyzer\\nCodeChecker analyze /tmp/compile_commands.json -o /tmp/reports\\nCodeChecker parse /tmp/reports -e html -o /tmp/reports.html\\n\\n# all in one\\n#CodeChecker check --build \"make\" --output ./reports --clean \\\\\\n#    --enable sensitive\\n'' returned non-zero exit status 2.",
     "output_type": "error",
     "traceback": [
      "\u001b[0;31m---------------------------------------------------------------------------\u001b[0m",
      "\u001b[0;31mCalledProcessError\u001b[0m                        Traceback (most recent call last)",
      "Cell \u001b[0;32mIn [15], line 1\u001b[0m\n\u001b[0;32m----> 1\u001b[0m get_ipython()\u001b[38;5;241m.\u001b[39mrun_cell_magic(\u001b[38;5;124m'\u001b[39m\u001b[38;5;124mbash\u001b[39m\u001b[38;5;124m'\u001b[39m, \u001b[38;5;124m'\u001b[39m\u001b[38;5;124m'\u001b[39m, \u001b[38;5;124m'\u001b[39m\u001b[38;5;124m# instrument a build first\u001b[39m\u001b[38;5;130;01m\\n\u001b[39;00m\u001b[38;5;124mCodeChecker log -o /tmp/compile_commands.json --build \u001b[39m\u001b[38;5;124m\"\u001b[39m\u001b[38;5;124mclang -o /tmp/ub /tmp/ub.c\u001b[39m\u001b[38;5;124m\"\u001b[39m\u001b[38;5;130;01m\\n\u001b[39;00m\u001b[38;5;124m# Then run the analyzer\u001b[39m\u001b[38;5;130;01m\\n\u001b[39;00m\u001b[38;5;124mCodeChecker analyze /tmp/compile_commands.json -o /tmp/reports\u001b[39m\u001b[38;5;130;01m\\n\u001b[39;00m\u001b[38;5;124mCodeChecker parse /tmp/reports -e html -o /tmp/reports.html\u001b[39m\u001b[38;5;130;01m\\n\u001b[39;00m\u001b[38;5;130;01m\\n\u001b[39;00m\u001b[38;5;124m# all in one\u001b[39m\u001b[38;5;130;01m\\n\u001b[39;00m\u001b[38;5;124m#CodeChecker check --build \u001b[39m\u001b[38;5;124m\"\u001b[39m\u001b[38;5;124mmake\u001b[39m\u001b[38;5;124m\"\u001b[39m\u001b[38;5;124m --output ./reports --clean \u001b[39m\u001b[38;5;130;01m\\\\\u001b[39;00m\u001b[38;5;130;01m\\n\u001b[39;00m\u001b[38;5;124m#    --enable sensitive\u001b[39m\u001b[38;5;130;01m\\n\u001b[39;00m\u001b[38;5;124m'\u001b[39m)\n",
      "File \u001b[0;32m~/.local/lib/python3.10/site-packages/IPython/core/interactiveshell.py:2362\u001b[0m, in \u001b[0;36mInteractiveShell.run_cell_magic\u001b[0;34m(self, magic_name, line, cell)\u001b[0m\n\u001b[1;32m   2360\u001b[0m \u001b[38;5;28;01mwith\u001b[39;00m \u001b[38;5;28mself\u001b[39m\u001b[38;5;241m.\u001b[39mbuiltin_trap:\n\u001b[1;32m   2361\u001b[0m     args \u001b[38;5;241m=\u001b[39m (magic_arg_s, cell)\n\u001b[0;32m-> 2362\u001b[0m     result \u001b[38;5;241m=\u001b[39m \u001b[43mfn\u001b[49m\u001b[43m(\u001b[49m\u001b[38;5;241;43m*\u001b[39;49m\u001b[43margs\u001b[49m\u001b[43m,\u001b[49m\u001b[43m \u001b[49m\u001b[38;5;241;43m*\u001b[39;49m\u001b[38;5;241;43m*\u001b[39;49m\u001b[43mkwargs\u001b[49m\u001b[43m)\u001b[49m\n\u001b[1;32m   2363\u001b[0m \u001b[38;5;28;01mreturn\u001b[39;00m result\n",
      "File \u001b[0;32m~/.local/lib/python3.10/site-packages/IPython/core/magics/script.py:153\u001b[0m, in \u001b[0;36mScriptMagics._make_script_magic.<locals>.named_script_magic\u001b[0;34m(line, cell)\u001b[0m\n\u001b[1;32m    151\u001b[0m \u001b[38;5;28;01melse\u001b[39;00m:\n\u001b[1;32m    152\u001b[0m     line \u001b[38;5;241m=\u001b[39m script\n\u001b[0;32m--> 153\u001b[0m \u001b[38;5;28;01mreturn\u001b[39;00m \u001b[38;5;28;43mself\u001b[39;49m\u001b[38;5;241;43m.\u001b[39;49m\u001b[43mshebang\u001b[49m\u001b[43m(\u001b[49m\u001b[43mline\u001b[49m\u001b[43m,\u001b[49m\u001b[43m \u001b[49m\u001b[43mcell\u001b[49m\u001b[43m)\u001b[49m\n",
      "File \u001b[0;32m~/.local/lib/python3.10/site-packages/IPython/core/magics/script.py:305\u001b[0m, in \u001b[0;36mScriptMagics.shebang\u001b[0;34m(self, line, cell)\u001b[0m\n\u001b[1;32m    300\u001b[0m \u001b[38;5;28;01mif\u001b[39;00m args\u001b[38;5;241m.\u001b[39mraise_error \u001b[38;5;129;01mand\u001b[39;00m p\u001b[38;5;241m.\u001b[39mreturncode \u001b[38;5;241m!=\u001b[39m \u001b[38;5;241m0\u001b[39m:\n\u001b[1;32m    301\u001b[0m     \u001b[38;5;66;03m# If we get here and p.returncode is still None, we must have\u001b[39;00m\n\u001b[1;32m    302\u001b[0m     \u001b[38;5;66;03m# killed it but not yet seen its return code. We don't wait for it,\u001b[39;00m\n\u001b[1;32m    303\u001b[0m     \u001b[38;5;66;03m# in case it's stuck in uninterruptible sleep. -9 = SIGKILL\u001b[39;00m\n\u001b[1;32m    304\u001b[0m     rc \u001b[38;5;241m=\u001b[39m p\u001b[38;5;241m.\u001b[39mreturncode \u001b[38;5;129;01mor\u001b[39;00m \u001b[38;5;241m-\u001b[39m\u001b[38;5;241m9\u001b[39m\n\u001b[0;32m--> 305\u001b[0m     \u001b[38;5;28;01mraise\u001b[39;00m CalledProcessError(rc, cell)\n",
      "\u001b[0;31mCalledProcessError\u001b[0m: Command 'b'# instrument a build first\\nCodeChecker log -o /tmp/compile_commands.json --build \"clang -o /tmp/ub /tmp/ub.c\"\\n# Then run the analyzer\\nCodeChecker analyze /tmp/compile_commands.json -o /tmp/reports\\nCodeChecker parse /tmp/reports -e html -o /tmp/reports.html\\n\\n# all in one\\n#CodeChecker check --build \"make\" --output ./reports --clean \\\\\\n#    --enable sensitive\\n'' returned non-zero exit status 2."
     ]
    }
   ],
   "source": [
    "%%bash\n",
    "# instrument a build first\n",
    "CodeChecker log -o /tmp/compile_commands.json --build \"clang -o /tmp/ub /tmp/ub.c\"\n",
    "# Then run the analyzer\n",
    "CodeChecker analyze /tmp/compile_commands.json -o /tmp/reports\n",
    "CodeChecker parse /tmp/reports -e html -o /tmp/reports.html\n",
    "\n",
    "# all in one\n",
    "#CodeChecker check --build \"make\" --output ./reports --clean \\\n",
    "#    --enable sensitive"
   ]
  },
  {
   "cell_type": "markdown",
   "metadata": {},
   "source": [
    "## Cppcheck\n",
    "\n",
    "https://cppcheck.sourceforge.io/\n",
    "https://github.com/danmar/cppcheck"
   ]
  },
  {
   "cell_type": "code",
   "execution_count": 10,
   "metadata": {},
   "outputs": [
    {
     "name": "stdout",
     "output_type": "stream",
     "text": [
      "\u001b[32mChecking /tmp/ub.c ...\u001b[0m\n",
      "\u001b[1m/tmp/ub.c:4:5: \u001b[31merror:\u001b[39m Uninitialized variable: x [uninitvar]\u001b[0m\n",
      "    x++;\n",
      "    ^\n"
     ]
    }
   ],
   "source": [
    "! cppcheck /tmp/ub.c"
   ]
  },
  {
   "cell_type": "code",
   "execution_count": null,
   "metadata": {},
   "outputs": [],
   "source": []
  },
  {
   "cell_type": "code",
   "execution_count": null,
   "metadata": {},
   "outputs": [],
   "source": [
    "%%file /tmp/blast.sh\n",
    "CCOPTIONS = -Wall -Wpedantic -fanalzye -fsanitize=address,bounds,undefined\n",
    "clang $CCOPTIONS $1 -o  /tmp.a.out && ./a.out \n",
    "gcc $CCOPTIONS $1 &&\n",
    "#cppcheck --enable=all $1\n",
    "valgrind --leak-check=full --show-leak-kinds=all ./a.out\n",
    "# codechecker\n",
    "# infer\n",
    "\n"
   ]
  },
  {
   "cell_type": "markdown",
   "metadata": {},
   "source": [
    "https://github.com/verateam/vera Probably old\n",
    "clang-tidy also runs analyzer? clang-tidy-diff.py\n"
   ]
  },
  {
   "cell_type": "code",
   "execution_count": null,
   "metadata": {},
   "outputs": [],
   "source": [
    "%%bash\n",
    "apt install opam\n",
    "opam init -y\n",
    "eval $(opam env)\n",
    "git clone https://github.com/rems-project/cerberus.git\n",
    "cd cerberus\n",
    "opam install --deps-only ./cerberus-lib.opam ./cerberus.opam\n",
    "make"
   ]
  },
  {
   "cell_type": "code",
   "execution_count": 3,
   "metadata": {},
   "outputs": [
    {
     "name": "stderr",
     "output_type": "stream",
     "text": [
      "[NOTE] Package angstrom is already installed (current version is 0.15.0).\n"
     ]
    },
    {
     "name": "stdout",
     "output_type": "stream",
     "text": [
      "[DUNE] cerberus-bmc\n"
     ]
    },
    {
     "name": "stderr",
     "output_type": "stream",
     "text": [
      "File \"backend/bmc/bmc_utils.ml\", lines 326-356, characters 2-3:\n",
      "326 | ..(match pe_ with\n",
      "327 |   | PEsym s -> PEsym s\n",
      "328 |   | PEimpl impl1 -> PEimpl impl1\n",
      "329 |   | PEval v -> PEval v\n",
      "330 |   | PEconstrained cs ->\n",
      "...\n",
      "353 |   | PEis_unsigned pe -> PEis_unsigned (self( 1) pe)\n",
      "354 |   | PEbmc_assume pe -> PEbmc_assume (self( 1) pe)\n",
      "355 |   | PEare_compatible( pe1, pe2) -> PEare_compatible( (self( 1) pe1), (self( 2) pe2))\n",
      "356 |   )..\n",
      "Error (warning 8 [partial-match]): this pattern-matching is not exhaustive.\n",
      "Here is an example of a case that is not matched:\n",
      "(PEconv_int (_, _)|PEwrapI (_, _, _, _)|\n",
      "PEcatch_exceptional_condition (_, _, _, _))\n",
      "make: *** [Makefile:69: cerberus-bmc] Error 1\n"
     ]
    },
    {
     "ename": "CalledProcessError",
     "evalue": "Command 'b'cd ~/Downloads/cerberus\\nopam install angstrom\\nmake cerberus-bmc\\n'' returned non-zero exit status 2.",
     "output_type": "error",
     "traceback": [
      "\u001b[0;31m---------------------------------------------------------------------------\u001b[0m",
      "\u001b[0;31mCalledProcessError\u001b[0m                        Traceback (most recent call last)",
      "Cell \u001b[0;32mIn [3], line 1\u001b[0m\n\u001b[0;32m----> 1\u001b[0m get_ipython()\u001b[38;5;241m.\u001b[39mrun_cell_magic(\u001b[38;5;124m'\u001b[39m\u001b[38;5;124mbash\u001b[39m\u001b[38;5;124m'\u001b[39m, \u001b[38;5;124m'\u001b[39m\u001b[38;5;124m'\u001b[39m, \u001b[38;5;124m'\u001b[39m\u001b[38;5;124mcd ~/Downloads/cerberus\u001b[39m\u001b[38;5;130;01m\\n\u001b[39;00m\u001b[38;5;124mopam install angstrom\u001b[39m\u001b[38;5;130;01m\\n\u001b[39;00m\u001b[38;5;124mmake cerberus-bmc\u001b[39m\u001b[38;5;130;01m\\n\u001b[39;00m\u001b[38;5;124m'\u001b[39m)\n",
      "File \u001b[0;32m~/.local/lib/python3.10/site-packages/IPython/core/interactiveshell.py:2362\u001b[0m, in \u001b[0;36mInteractiveShell.run_cell_magic\u001b[0;34m(self, magic_name, line, cell)\u001b[0m\n\u001b[1;32m   2360\u001b[0m \u001b[38;5;28;01mwith\u001b[39;00m \u001b[38;5;28mself\u001b[39m\u001b[38;5;241m.\u001b[39mbuiltin_trap:\n\u001b[1;32m   2361\u001b[0m     args \u001b[38;5;241m=\u001b[39m (magic_arg_s, cell)\n\u001b[0;32m-> 2362\u001b[0m     result \u001b[38;5;241m=\u001b[39m \u001b[43mfn\u001b[49m\u001b[43m(\u001b[49m\u001b[38;5;241;43m*\u001b[39;49m\u001b[43margs\u001b[49m\u001b[43m,\u001b[49m\u001b[43m \u001b[49m\u001b[38;5;241;43m*\u001b[39;49m\u001b[38;5;241;43m*\u001b[39;49m\u001b[43mkwargs\u001b[49m\u001b[43m)\u001b[49m\n\u001b[1;32m   2363\u001b[0m \u001b[38;5;28;01mreturn\u001b[39;00m result\n",
      "File \u001b[0;32m~/.local/lib/python3.10/site-packages/IPython/core/magics/script.py:153\u001b[0m, in \u001b[0;36mScriptMagics._make_script_magic.<locals>.named_script_magic\u001b[0;34m(line, cell)\u001b[0m\n\u001b[1;32m    151\u001b[0m \u001b[38;5;28;01melse\u001b[39;00m:\n\u001b[1;32m    152\u001b[0m     line \u001b[38;5;241m=\u001b[39m script\n\u001b[0;32m--> 153\u001b[0m \u001b[38;5;28;01mreturn\u001b[39;00m \u001b[38;5;28;43mself\u001b[39;49m\u001b[38;5;241;43m.\u001b[39;49m\u001b[43mshebang\u001b[49m\u001b[43m(\u001b[49m\u001b[43mline\u001b[49m\u001b[43m,\u001b[49m\u001b[43m \u001b[49m\u001b[43mcell\u001b[49m\u001b[43m)\u001b[49m\n",
      "File \u001b[0;32m~/.local/lib/python3.10/site-packages/IPython/core/magics/script.py:305\u001b[0m, in \u001b[0;36mScriptMagics.shebang\u001b[0;34m(self, line, cell)\u001b[0m\n\u001b[1;32m    300\u001b[0m \u001b[38;5;28;01mif\u001b[39;00m args\u001b[38;5;241m.\u001b[39mraise_error \u001b[38;5;129;01mand\u001b[39;00m p\u001b[38;5;241m.\u001b[39mreturncode \u001b[38;5;241m!=\u001b[39m \u001b[38;5;241m0\u001b[39m:\n\u001b[1;32m    301\u001b[0m     \u001b[38;5;66;03m# If we get here and p.returncode is still None, we must have\u001b[39;00m\n\u001b[1;32m    302\u001b[0m     \u001b[38;5;66;03m# killed it but not yet seen its return code. We don't wait for it,\u001b[39;00m\n\u001b[1;32m    303\u001b[0m     \u001b[38;5;66;03m# in case it's stuck in uninterruptible sleep. -9 = SIGKILL\u001b[39;00m\n\u001b[1;32m    304\u001b[0m     rc \u001b[38;5;241m=\u001b[39m p\u001b[38;5;241m.\u001b[39mreturncode \u001b[38;5;129;01mor\u001b[39;00m \u001b[38;5;241m-\u001b[39m\u001b[38;5;241m9\u001b[39m\n\u001b[0;32m--> 305\u001b[0m     \u001b[38;5;28;01mraise\u001b[39;00m CalledProcessError(rc, cell)\n",
      "\u001b[0;31mCalledProcessError\u001b[0m: Command 'b'cd ~/Downloads/cerberus\\nopam install angstrom\\nmake cerberus-bmc\\n'' returned non-zero exit status 2."
     ]
    }
   ],
   "source": [
    "%%bash\n",
    "cd ~/Downloads/cerberus\n",
    "opam install angstrom\n",
    "make cerberus-bmc\n",
    "# make all\n"
   ]
  },
  {
   "cell_type": "code",
   "execution_count": 1,
   "metadata": {},
   "outputs": [
    {
     "name": "stdout",
     "output_type": "stream",
     "text": [
      "CERBERUS(1)                     Cerberus Manual                    CERBERUS(1)\n",
      "\n",
      "\n",
      "\n",
      "NAME\n",
      "       cerberus - Cerberus C semantics\n",
      "\n",
      "SYNOPSIS\n",
      "       cerberus [OPTION]… [FILE]…\n",
      "\n",
      "ARGUMENTS\n",
      "       FILE\n",
      "           source C or Core file\n",
      "\n",
      "OPTIONS\n",
      "       --agnostic\n",
      "           Asks Cerberus to delay looking at implementation settings until as\n",
      "           late as possible. This makes the pipeline somewhat implementation\n",
      "           agnostic.\n",
      "\n",
      "       --args=\"ARG1 ARG2 ...\"\n",
      "           List of arguments for the C program\n",
      "\n",
      "       --ast=LANG1,...\n",
      "           Pretty print the intermediate syntax tree for the listed languages\n",
      "           (ranging over {cabs, ail, core}).\n",
      "\n",
      "       --batch\n",
      "           makes the execution driver produce batch friendly output\n",
      "\n",
      "       -c  Run frontend generating a target '.co' core object file.\n",
      "\n",
      "       --charon-batch\n",
      "           makes the execution driver produce batch friendly output (for\n",
      "           Charon)\n",
      "\n",
      "       --concurrency\n",
      "           Activate the C11 concurrency\n",
      "\n",
      "       --cpp=CMD (absent=cc -std=c11 -E -CC -Werror\n",
      "       -Wno-builtin-macro-redefined -nostdinc -undef -D__cerb__)\n",
      "           Command to call for the C preprocessing.\n",
      "\n",
      "       -D NAME[=VALUE], --define-macro=NAME[=VALUE]\n",
      "           Adds an implicit #define into the predefines buffer which is read\n",
      "           before the source file is preprocessed.\n",
      "\n",
      "       -d N, --debug=N (absent=0)\n",
      "           Set the debug message level to N (should range over [0-9]).\n",
      "\n",
      "       --defacto\n",
      "           relax some of the ISO constraints (outside of the memory)\n",
      "\n",
      "       --dignore-bitfields\n",
      "           (DEBUG) accept and ignore bit-field width specifiers. CAUTION: the\n",
      "           constraints relating to bit-fields are NOT checked, and the\n",
      "           desugaring produces Ail struct/union types with normal members.\n",
      "           This flag will be removed when support for bit-fields is added.\n",
      "\n",
      "       -E  Run only the preprocessor stage.\n",
      "\n",
      "       --exec\n",
      "           Execute the Core program after the elaboration.\n",
      "\n",
      "       --fs=DIR\n",
      "           Initialise the internal file system with the contents of the\n",
      "           directory DIR\n",
      "\n",
      "       --fs-dump\n",
      "           dump the file system at the end of the execution\n",
      "\n",
      "       -I DIR, --include-directory=DIR\n",
      "           Add the specified directory to the search path for theC\n",
      "           preprocessor.\n",
      "\n",
      "       --impl=NAME (absent=gcc_4.9.0_x86_64-apple-darwin10.8.0)\n",
      "           Set the C implementation file (to be found in\n",
      "           CERB_COREPATH/implsand excluding the .impl suffix).\n",
      "\n",
      "       --include=VAL\n",
      "           Adds an implicit #include into the predefines buffer which is read\n",
      "           before the source file is preprocessed.\n",
      "\n",
      "       --iso\n",
      "           sets the switches corresponding to the ISO semantics (this\n",
      "           overrides --switches if it is also present)\n",
      "\n",
      "       --json-batch\n",
      "           outputs the executions in json\n",
      "\n",
      "       -l X\n",
      "           This option tells the core linker to search for libX.co in the\n",
      "           library search path.\n",
      "\n",
      "       -L X\n",
      "           Adds a new library search path.\n",
      "\n",
      "       --mode=MODE (absent=random)\n",
      "           Set the Core evaluation mode (interactive | exhaustive | random).\n",
      "\n",
      "       --nolibc\n",
      "           Do not search the standard system directories for include files.\n",
      "\n",
      "       --nostdinc\n",
      "           Do not search includes in the standard lib C directories.\n",
      "\n",
      "       -o VAL\n",
      "           Write output to file.\n",
      "\n",
      "       --permissive\n",
      "           allow extensions to ISO (by default Cerberus behaves like compilers\n",
      "           with -pedantic)\n",
      "\n",
      "       --pp=LANG1,...\n",
      "           Pretty print the intermediate programs for the listed languages\n",
      "           (ranging over {ail, core}).\n",
      "\n",
      "       --pp_ail_out=VAL\n",
      "           Write Ail pprint to a file.\n",
      "\n",
      "       --pp_core_out=VAL\n",
      "           Write Core pprint to a file.\n",
      "\n",
      "       --pp_flags=VAL\n",
      "           Pretty print flags [annot: include location and ISO annotations,\n",
      "           loc: include C source locations].\n",
      "\n",
      "       --progress\n",
      "           Progress mode: the return code indicate how far the source program\n",
      "           went through the pipeline [1 = total failure, 10 = parsed, 11 =\n",
      "           desugared, 12 = typed, 13 = elaborated, 14 = executed]\n",
      "\n",
      "       -r DIR, --runtime=DIR\n",
      "           custom Cerberus runtime directory\n",
      "\n",
      "       --rewrite\n",
      "           Activate the Core to Core transformations\n",
      "\n",
      "       --sequentialise\n",
      "           Replace all unseq() with left to right wseq(s)\n",
      "\n",
      "       --switches=SWITCH1,...\n",
      "           list of semantics switches to turn on (see documentation for the\n",
      "           list)\n",
      "\n",
      "       --syntax-only\n",
      "           Stop the pipeline after the Ail typechecking (only supported when\n",
      "           called on .c files)\n",
      "\n",
      "       --trace\n",
      "           trace memory actions\n",
      "\n",
      "       --typecheck-core\n",
      "           typecheck the elaborated Core program\n",
      "\n",
      "       -U VAL\n",
      "           Adds an implicit #undef into the predefines buffer which is read\n",
      "           before the source file is preprocessed.\n",
      "\n",
      "COMMON OPTIONS\n",
      "       --help[=FMT] (default=auto)\n",
      "           Show this help in format FMT. The value FMT must be one of auto,\n",
      "           pager, groff or plain. With auto, the format is pager or plain\n",
      "           whenever the TERM env var is dumb or undefined.\n",
      "\n",
      "       --version\n",
      "           Show version information.\n",
      "\n",
      "EXIT STATUS\n",
      "       cerberus exits with:\n",
      "\n",
      "       0   on success.\n",
      "\n",
      "       123 on indiscriminate errors reported on standard error.\n",
      "\n",
      "       124 on command line parsing errors.\n",
      "\n",
      "       125 on unexpected internal errors (bugs).\n",
      "\n",
      "\n",
      "\n",
      "Cerberus git-4806a4479                                             CERBERUS(1)\n"
     ]
    }
   ],
   "source": [
    "%%bash\n",
    "cd ~/Downloads/cerberus\n",
    "dune exec cerberus -- --help\n"
   ]
  },
  {
   "cell_type": "markdown",
   "metadata": {},
   "source": []
  },
  {
   "cell_type": "code",
   "execution_count": null,
   "metadata": {},
   "outputs": [],
   "source": [
    "%%file \n",
    "struct S {\n",
    "  int i;\n",
    "  char c;\n",
    "} s;\n",
    "\n",
    "int main(void) {\n",
    "  return sizeof(*(&s));\n",
    "}"
   ]
  },
  {
   "cell_type": "code",
   "execution_count": null,
   "metadata": {},
   "outputs": [],
   "source": [
    "%%file\n",
    "int main(void) {\n",
    "  char a = 0;\n",
    "  short int b = 0;\n",
    "  return sizeof(b) == sizeof(a+b);\n",
    "}"
   ]
  },
  {
   "cell_type": "code",
   "execution_count": null,
   "metadata": {},
   "outputs": [],
   "source": [
    "int main(void) {\n",
    "  char a = ' ' * 13;\n",
    "  return a;\n",
    "}\n",
    "\t"
   ]
  },
  {
   "cell_type": "code",
   "execution_count": null,
   "metadata": {},
   "outputs": [],
   "source": [
    "int main(void) {\n",
    "  int i = 16;\n",
    "  return (((((i >= i) << i) >> i) <= i));\n",
    "}"
   ]
  },
  {
   "cell_type": "code",
   "execution_count": null,
   "metadata": {},
   "outputs": [],
   "source": [
    "int main(void) {\n",
    "  int i = 0;\n",
    "  return i++ + ++i;\n",
    "}"
   ]
  }
 ],
 "metadata": {
  "kernelspec": {
   "display_name": "Python 3",
   "language": "python",
   "name": "python3"
  },
  "language_info": {
   "codemirror_mode": {
    "name": "ipython",
    "version": 3
   },
   "file_extension": ".py",
   "mimetype": "text/x-python",
   "name": "python",
   "nbconvert_exporter": "python",
   "pygments_lexer": "ipython3",
   "version": "3.10.12"
  }
 },
 "nbformat": 4,
 "nbformat_minor": 2
}
