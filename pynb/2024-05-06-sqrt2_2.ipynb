{
 "cells": [
  {
   "cell_type": "markdown",
   "metadata": {},
   "source": [
    "---\n",
    "date: 2024-05-06\n",
    "title: Peano Nats in Interactive SMT\n",
    "description: a reflection method into Int\n",
    "---\n",
    "\n",
    "This is further explorations on the theme of using SMT as a core facility for python interactive proving.\n",
    "\n",
    "https://www.philipzucker.com/sqrt2/ In this post I tried proving the irrationality of sqrt(2) using SMT. There was a nice proof I followed, but these two facts I couldn't get to prove automatically.\n",
    "\n",
    "```python\n",
    "mul_divides = ForAll([x,y,z], Implies(mul(x,y) == z, divides(z,x)))\n",
    "two_prime = ForAll([x,y], Implies(divides(mul(x,y),2), Or(divides(x,2), divides(y,2))))\n",
    "```\n",
    "\n",
    "It appears to me that SMTs support of Int and Real is a trap for deeper theorems. This is not surprising. SMT solvers are a barrel of decision procedures strapped together via an egraph and SAT solver. There aren't smart decision procedures for general mathematical questions. Properties of primes are notoriously tough  https://en.wikipedia.org/wiki/Goldbach%27s_conjecture . Some properties of course are quite trivial so hope springs eternal.\n",
    "\n",
    "My assumption is that if you want to tackle these properties, you need to retreat into more general syntactic approaches, using algebraic datatypes or undefined sorts. This is partially because the ematcher does not work well on Real or Int expressions. It normalizes them into something that can't be matched on like uninterpreted sorts can be matched.\n",
    "\n",
    "Because I want to use the high automation of z3 for simple questions though, I can defined reflection principles that just say that there is a homomorphism between the Nats and the built in Ints greater than 0.\n"
   ]
  },
  {
   "cell_type": "markdown",
   "metadata": {},
   "source": [
    "## Kernel\n",
    "\n",
    "Here is our proof kernel. I use the built in `prove` method which basically checks if the negation of the statement is satisfiable. Lemmas can be offered via the by keyword.\n",
    "\n",
    "Temporarily admitting lemmas can be useful to just keep moving.\n",
    "\n",
    "Some other features that might be nice in `lemma`\n",
    "- Rip off the quantifiers for better countermodels when it fails\n",
    "- Shorter timeout\n",
    "- Check unsat cores and recommend which `by` were unnecessary. Or worse yet, if the lemma in question is not in the sat core, somehow you have unsatisfiable assumptions, which is indicative of an inconsistent axiomatization.\n",
    "\n",
    "\n",
    "The distinction between `theorems` and `formula` is razor thin, which is nice for a fast blog post but not nice for a library or larger develpoment. It is only syntactic discipline. I should only be using named lemmas in the `by` justifications and the stdout should never say `countermodel`. It should be a sequence of `proved`"
   ]
  },
  {
   "cell_type": "code",
   "execution_count": null,
   "metadata": {},
   "outputs": [],
   "source": [
    "from z3 import *\n",
    "B = BoolSort()\n",
    "Z = IntSort()\n",
    "\n",
    "def lemma(thm, by=[], admit=False):\n",
    "    if not admit:\n",
    "        prove(Implies(And(by), thm))\n",
    "    else:\n",
    "        print(\"Admitted!!\", thm)\n",
    "    return thm\n"
   ]
  },
  {
   "cell_type": "markdown",
   "metadata": {},
   "source": [
    "## Nat Definitions\n",
    "\n",
    "The basic defini9tions of Nat. I do use z3's built in ADT capabilities. The distinction between this and undefined sorts with injectivity is interesting. ADTs disallow loopy expressions. This corresponds to an occurs check somewhere inside z3.\n",
    "\n",
    "A ([conservative extension](https://en.wikipedia.org/wiki/Conservative_extension)) definition mechanism is that you are allowed to defined new symbols/functions if it has a defining equation that is terminating. I am assuming and not checking that these definitions are well founded. In other words, these definitions are axioms.\n",
    "\n",
    "[The importance of conservative extensions for the foundations of mathematics](https://cs.nyu.edu/pipermail/fom/1998-October/002306.html)\n"
   ]
  },
  {
   "cell_type": "code",
   "execution_count": null,
   "metadata": {},
   "outputs": [],
   "source": [
    "\n",
    "Nat = Datatype(\"Nat\")\n",
    "Nat.declare('zero')\n",
    "Nat.declare('succ', ('pred', Nat))\n",
    "Nat = Nat.create()\n",
    "\n",
    "n,m,k  = Consts('n m k', Nat)\n",
    "reify = Function('reify', Nat, Z)\n",
    "reify_def = ForAll([n], reify(n) == If(Nat.is_zero(n), 0, reify(Nat.pred(n)) + 1))\n",
    "\n",
    "x,y = Ints(\"x y\")\n",
    "reflect = Function('reflect', Z, Nat)\n",
    "reflect_def = ForAll([x], reflect(x) == If(x <= 0, Nat.zero, Nat.succ(reflect(x-1))))\n",
    "\n",
    "\n"
   ]
  },
  {
   "cell_type": "markdown",
   "metadata": {},
   "source": [
    "More interesting perhaps is the induction axiom schema. https://en.wikipedia.org/wiki/Axiom_schema\n",
    "An axiom schema is a infinite family of axiomns.\n",
    "\n",
    "We could represent this in different possible ways.\n",
    "- a stream or generator enumerating the axioms. This is too british museum\n",
    "- a trusted function that takes in some data to pick the axiom out of the schema you'd like\n",
    "- Fully internalizing this parametrization into z3 with perhaps some kind of axiom schema datatype parametrizing the axiom schema.\n",
    "- Using some higher order logic `ArraySort(Nat,B)` to encode the schema as `ForAll([P],Implies(And(P(Nat.zero), ForAll([n], Implies(P(n), P(Nat.succ(n))))),  ForAll([n], P(n))))` which can be directly asserted.\n",
    "\n",
    "Anyway, I take the second option. It's not so bad."
   ]
  },
  {
   "cell_type": "code",
   "execution_count": null,
   "metadata": {},
   "outputs": [],
   "source": [
    "#def recurse(name,base,step):\n",
    "#    f = Function(name, Nat, IntSort())\n",
    "#    n = FreshInt()\n",
    "#    return f, ForAll([n], If(Nat.is_zero(n), base, step(n, f(Nat.pred(n),base,step))))\n",
    "\n",
    "def induct(P):\n",
    "    return Implies(And(P(Nat.zero), ForAll([n], Implies(P(n), P(Nat.succ(n))))),\n",
    "                   #-----------------------------------------------------------\n",
    "                   ForAll([n], P(n)))\n",
    "\n"
   ]
  },
  {
   "cell_type": "markdown",
   "metadata": {},
   "source": [
    "We can use this axiom schema to get some crucial properties, like that `reflect . reify ~> id` and that the definition of a homomoprhism with respect to zero and succ."
   ]
  },
  {
   "cell_type": "code",
   "execution_count": null,
   "metadata": {},
   "outputs": [
    {
     "name": "stdout",
     "output_type": "stream",
     "text": [
      "proved\n",
      "proved\n",
      "proved\n",
      "proved\n"
     ]
    }
   ],
   "source": [
    "reflect_reify = lemma(ForAll([n], reflect(reify(n)) == n), [reflect_def, reify_def, induct(lambda n: reflect(reify(n)) == n)])\n",
    "\n",
    "reify_ge_0 = lemma(ForAll([n], reify(n) >= 0), [reify_def, induct(lambda n: reify(n) >= 0)])\n",
    "\n",
    "\n",
    "zero_homo = lemma(reify(Nat.zero) == 0, [reify_def])\n",
    "succ_homo = lemma(ForAll([n], reify(Nat.succ(n)) == 1 + reify(n)), [reify_def, induct(lambda n: reify(Nat.succ(n)) == 1 + reify(n))])\n"
   ]
  },
  {
   "cell_type": "markdown",
   "metadata": {},
   "source": [
    "We can also define plus via reification and reflection. Immediately we can derive some computation rules not referring to Int. Maybe we should have taken these as primitive and then made `plus_def` the theorem?\n",
    "\n"
   ]
  },
  {
   "cell_type": "code",
   "execution_count": null,
   "metadata": {},
   "outputs": [
    {
     "name": "stdout",
     "output_type": "stream",
     "text": [
      "proved\n",
      "proved\n",
      "proved\n",
      "proved\n"
     ]
    }
   ],
   "source": [
    "\n",
    "plus = Function('plus', Nat, Nat, Nat)\n",
    "plus_def = ForAll([n, m], plus(n, m) == reflect(reify(n) + reify(m)))\n",
    "\n",
    "\n",
    "\n",
    "plus_0_x = lemma(ForAll([n], plus(Nat.zero, n) == n), [reflect_reify, zero_homo, plus_def]) \n",
    "plus_succ_x = lemma(ForAll([n,m], plus(Nat.succ(n), m) == Nat.succ(plus(n,m))), [reflect_reify, reflect_def, reify_def, succ_homo, plus_def])\n",
    "\n",
    "\n",
    "plus_homo_case_succ = lemma(ForAll([n,m], Implies(reify(plus(n,m)) == reify(n) + reify(m) ,\n",
    "                                                  reify(plus(Nat.succ(n),m)) == reify(Nat.succ(n)) + reify(m) )), [reify_def, plus_succ_x])\n",
    "#plus_homo = lemma(ForAll([n,m], reify(reflect(reify(n) + reify(m))) == reify(n) + reify(m)), [reflect_reify, reflect_def, reify_def, induct(lambda n: ForAll([m], reify(reflect(reify(n) + reify(m))) == reify(n) + reify(m)))])\n",
    "plus_homo = lemma(ForAll([n,m], reify(plus(n,m)) == reify(n) + reify(m)), \n",
    "                  [plus_def, reflect_reify, reflect_def, reify_def, plus_homo_case_succ, induct(lambda n: ForAll([m], reify(plus(n,m)) == reify(n) + reify(m)))], admit=False)\n",
    "#plus_l_expand = lemma(ForAll([n, m, k], plus(plus(n, m), k) == reflect(reify(reflect(reify(n) + reify(m))) + reify(k))), [plus_def])\n",
    "\n",
    "\n",
    "\n"
   ]
  },
  {
   "cell_type": "markdown",
   "metadata": {},
   "source": [
    "plus_comm and plus_assoc are immediate from properties of Int. This is not how I started. I started by trying to prove plus_assoc and then realizing that really the concept of plus_homo was an important intermediary. This is often how these things go."
   ]
  },
  {
   "cell_type": "code",
   "execution_count": 6,
   "metadata": {},
   "outputs": [
    {
     "name": "stdout",
     "output_type": "stream",
     "text": [
      "proved\n",
      "proved\n"
     ]
    }
   ],
   "source": [
    "#_2 = lemma(ForAll([n,m,k], reflect(reify(reflect(reify(n) + reify(m))) + reify(k)) == reflect(reify(n) + reify(m) + reify(k))), [reflect_reify, plus_homo])\n",
    "plus_comm = lemma(ForAll([n, m], plus(n, m) == plus(m, n)), [plus_def])\n",
    "plus_assoc = lemma(ForAll([n, m, k], plus(plus(n, m), k) == plus(n, plus(m, k))), [plus_def, plus_homo])\n",
    "\n",
    "\n",
    "one = Nat.succ(Nat.zero)\n",
    "two = Nat.succ(Nat.succ(Nat.zero))"
   ]
  },
  {
   "cell_type": "markdown",
   "metadata": {},
   "source": [
    "Second verse same as the first for multiplication."
   ]
  },
  {
   "cell_type": "code",
   "execution_count": 18,
   "metadata": {},
   "outputs": [
    {
     "name": "stdout",
     "output_type": "stream",
     "text": [
      "proved\n",
      "proved\n",
      "proved\n",
      "Admitted!! ForAll(x, Implies(x >= 0, reify(reflect(x)) == x))\n",
      "proved\n",
      "proved\n",
      "proved\n",
      "proved\n"
     ]
    }
   ],
   "source": [
    "mul = Function(\"mul\", Nat,Nat, Nat)\n",
    "mul_def = ForAll([n,m], mul(n,m) == reflect(reify(n) * reify(m)))\n",
    "                 \n",
    "mul_0_x = lemma(ForAll([m], mul(Nat.zero,m) == Nat.zero), [reflect_def, reify_def, mul_def])\n",
    "\n",
    "#mul_succ_x = lemma(ForAll([n,m], mul(Nat.succ(n), m) == reflect(reify(Nat.succ(n))*reify(m))), [plus_homo, mul_def, plus_def, succ_homo, reflect_reify, reflect_def, reify_def])\n",
    "mul_succ_x_lemma = lemma(ForAll([n,m], reflect(reify(Nat.succ(n)) * reify(m)) == reflect((1 + reify(n)) * reify(m))), [succ_homo])\n",
    "mul_succ_x_lemma2 = lemma(ForAll([n,m], reflect((1 + reify(n)) * reify(m)) == reflect(reify(m) + reify(n) * reify(m))))\n",
    "\n",
    "# Hmmm. Need to think about how to dignify this principal.\n",
    "reify_reflect = lemma(ForAll([x], Implies(x >= 0, reify(reflect(x)) == x)), [reify_def, reflect_def], admit=True)\n",
    "\n",
    "mul_succ_x_lemma3 = lemma(ForAll([n,m], reflect(reify(m) + reify(n) * reify(m)) == reflect(reify(m) + reify(reflect(reify(n) * reify(m))))), \n",
    "                          [reflect_reify, reify_reflect, reflect_def, reify_def])\n",
    "\n",
    "mul_succ_x_lemma4 = lemma(ForAll([n,m], reflect(reify(m) + reify(reflect(reify(n) * reify(m)))) == plus(m, mul(n,m))), \n",
    "                          [plus_def, mul_def])\n",
    "#mul_succ_x = lemma(ForAll([n,m], mul(Nat.succ(n), m) == plus(m, mul(n,m))), [mul_def, reify_reflect, mul_succ_x_lemma, mul_succ_x_lemma2, mul_succ_x_lemma3, mul_succ_x_lemma2, plus_homo, reflect_reify, plus_def])\n",
    "mul_succ_x = lemma(ForAll([n,m], mul(Nat.succ(n), m) == plus(m, mul(n,m))), [mul_def, plus_def, mul_succ_x_lemma, mul_succ_x_lemma2, mul_succ_x_lemma3, mul_succ_x_lemma4])\n",
    "\n",
    "mul_comm = lemma(ForAll([n,m], mul(n,m) == mul(m,n)), [mul_def])\n"
   ]
  },
  {
   "cell_type": "markdown",
   "metadata": {},
   "source": [
    "Could cvc5 show some of the things that z3 couldn't in my post?\n",
    "Can I get the even odd style proof to go through\n",
    "\n",
    "https://coq.inria.fr/doc/v8.10/stdlib/Coq.Init.Nat.html\n",
    "\n",
    "even and odd kind of induct by 2. Maybe I need to derive this principle first?"
   ]
  },
  {
   "cell_type": "code",
   "execution_count": 8,
   "metadata": {},
   "outputs": [
    {
     "name": "stdout",
     "output_type": "stream",
     "text": [
      "proved\n",
      "proved\n",
      "proved\n",
      "proved\n",
      "proved\n",
      "proved\n",
      "proved\n",
      "proved\n",
      "proved\n"
     ]
    }
   ],
   "source": [
    "lt = Function(\"lt\", Nat, Nat, B)\n",
    "lt_def = ForAll([n,m], lt(n,m) == reify(n) < reify(m))\n",
    "\n",
    "max_ = Function(\"max\", Nat, Nat, Nat)\n",
    "max_def = ForAll([n,m], max_(n,m) == If(lt(n,m), m, n))\n",
    "\n",
    "even = Function(\"even\", Nat, B)\n",
    "even_def = ForAll([n], even(n) == If(Nat.is_zero(n), True, \n",
    "                                  If(Nat.is_zero(Nat.pred(n)), False, \n",
    "                                     even(Nat.pred(Nat.pred(n))))))\n",
    "\n",
    "odd = Function(\"odd\", Nat, B)\n",
    "odd_def = ForAll([n], odd(n) == If(Nat.is_zero(n), False, \n",
    "                                  If(Nat.is_zero(Nat.pred(n)), True, \n",
    "                                     odd(Nat.pred(Nat.pred(n))))))\n",
    "\n",
    "# Sanity checking\n",
    "even_zero = lemma(even(Nat.zero), [even_def])\n",
    "not_even_one = lemma(Not(even(one)), [even_def])\n",
    "odd_even = lemma(odd(one), [odd_def])\n",
    "two_even = lemma(even(two), [even_def])\n",
    "\n",
    "\n",
    "\n",
    "even_two = lemma(ForAll([n], even(Nat.succ(Nat.succ(n))) == even(n)), [even_def, induct(lambda n: even(Nat.succ(Nat.succ(n))) == even(n))])\n",
    "odd_two = lemma(ForAll([n], odd(Nat.succ(Nat.succ(n))) == odd(n)), [odd_def, induct(lambda n: odd(Nat.succ(Nat.succ(n))) == odd(n))])\n",
    "\n",
    "even_one = lemma(ForAll([n], even(n) == Not(even(Nat.succ(n)))), [even_def, even_two, induct(lambda n: even(n) == Not(even(Nat.succ(n))))])\n",
    "odd_one = lemma(ForAll([n], odd(n) == Not(odd(Nat.succ(n)))), [odd_def, odd_two, induct(lambda n: odd(n) == Not(odd(Nat.succ(n))))])\n",
    "\n",
    "# I am not sure why I needed these lemmas.\n",
    "even_or_odd = lemma(ForAll([n], even(n) != odd(n)), [even_def, odd_def, even_two, even_one, odd_one, odd_two, induct(lambda n: even(n) != odd(n))])\n"
   ]
  },
  {
   "cell_type": "code",
   "execution_count": 9,
   "metadata": {},
   "outputs": [
    {
     "name": "stdout",
     "output_type": "stream",
     "text": [
      "failed to prove\n"
     ]
    },
    {
     "ename": "Z3Exception",
     "evalue": "model is not available",
     "output_type": "error",
     "traceback": [
      "\u001b[0;31m---------------------------------------------------------------------------\u001b[0m",
      "\u001b[0;31mZ3Exception\u001b[0m                               Traceback (most recent call last)",
      "File \u001b[0;32m~/.local/lib/python3.10/site-packages/z3/z3.py:7130\u001b[0m, in \u001b[0;36mSolver.model\u001b[0;34m(self)\u001b[0m\n\u001b[1;32m   7129\u001b[0m \u001b[38;5;28;01mtry\u001b[39;00m:\n\u001b[0;32m-> 7130\u001b[0m     \u001b[38;5;28;01mreturn\u001b[39;00m ModelRef(\u001b[43mZ3_solver_get_model\u001b[49m\u001b[43m(\u001b[49m\u001b[38;5;28;43mself\u001b[39;49m\u001b[38;5;241;43m.\u001b[39;49m\u001b[43mctx\u001b[49m\u001b[38;5;241;43m.\u001b[39;49m\u001b[43mref\u001b[49m\u001b[43m(\u001b[49m\u001b[43m)\u001b[49m\u001b[43m,\u001b[49m\u001b[43m \u001b[49m\u001b[38;5;28;43mself\u001b[39;49m\u001b[38;5;241;43m.\u001b[39;49m\u001b[43msolver\u001b[49m\u001b[43m)\u001b[49m, \u001b[38;5;28mself\u001b[39m\u001b[38;5;241m.\u001b[39mctx)\n\u001b[1;32m   7131\u001b[0m \u001b[38;5;28;01mexcept\u001b[39;00m Z3Exception:\n",
      "File \u001b[0;32m~/.local/lib/python3.10/site-packages/z3/z3core.py:4065\u001b[0m, in \u001b[0;36mZ3_solver_get_model\u001b[0;34m(a0, a1, _elems)\u001b[0m\n\u001b[1;32m   4064\u001b[0m r \u001b[38;5;241m=\u001b[39m _elems\u001b[38;5;241m.\u001b[39mf(a0, a1)\n\u001b[0;32m-> 4065\u001b[0m \u001b[43m_elems\u001b[49m\u001b[38;5;241;43m.\u001b[39;49m\u001b[43mCheck\u001b[49m\u001b[43m(\u001b[49m\u001b[43ma0\u001b[49m\u001b[43m)\u001b[49m\n\u001b[1;32m   4066\u001b[0m \u001b[38;5;28;01mreturn\u001b[39;00m r\n",
      "File \u001b[0;32m~/.local/lib/python3.10/site-packages/z3/z3core.py:1475\u001b[0m, in \u001b[0;36mElementaries.Check\u001b[0;34m(self, ctx)\u001b[0m\n\u001b[1;32m   1474\u001b[0m \u001b[38;5;28;01mif\u001b[39;00m err \u001b[38;5;241m!=\u001b[39m \u001b[38;5;28mself\u001b[39m\u001b[38;5;241m.\u001b[39mOK:\n\u001b[0;32m-> 1475\u001b[0m     \u001b[38;5;28;01mraise\u001b[39;00m \u001b[38;5;28mself\u001b[39m\u001b[38;5;241m.\u001b[39mException(\u001b[38;5;28mself\u001b[39m\u001b[38;5;241m.\u001b[39mget_error_message(ctx, err))\n",
      "\u001b[0;31mZ3Exception\u001b[0m: b'there is no current model'",
      "\nDuring handling of the above exception, another exception occurred:\n",
      "\u001b[0;31mZ3Exception\u001b[0m                               Traceback (most recent call last)",
      "\u001b[0;32m/tmp/ipykernel_390381/4126509453.py\u001b[0m in \u001b[0;36m?\u001b[0;34m()\u001b[0m\n\u001b[0;32m----> 1\u001b[0;31m \u001b[0mplus_x_x_even\u001b[0m \u001b[0;34m=\u001b[0m \u001b[0mlemma\u001b[0m\u001b[0;34m(\u001b[0m\u001b[0mForAll\u001b[0m\u001b[0;34m(\u001b[0m\u001b[0;34m[\u001b[0m\u001b[0mn\u001b[0m\u001b[0;34m]\u001b[0m\u001b[0;34m,\u001b[0m \u001b[0meven\u001b[0m\u001b[0;34m(\u001b[0m\u001b[0mplus\u001b[0m\u001b[0;34m(\u001b[0m\u001b[0mn\u001b[0m\u001b[0;34m,\u001b[0m\u001b[0mn\u001b[0m\u001b[0;34m)\u001b[0m\u001b[0;34m)\u001b[0m\u001b[0;34m)\u001b[0m\u001b[0;34m,\u001b[0m \u001b[0;34m[\u001b[0m\u001b[0mplus_succ_x\u001b[0m\u001b[0;34m,\u001b[0m \u001b[0meven_def\u001b[0m\u001b[0;34m,\u001b[0m \u001b[0meven_two\u001b[0m\u001b[0;34m,\u001b[0m \u001b[0meven_one\u001b[0m\u001b[0;34m,\u001b[0m \u001b[0minduct\u001b[0m\u001b[0;34m(\u001b[0m\u001b[0;32mlambda\u001b[0m \u001b[0mn\u001b[0m\u001b[0;34m:\u001b[0m \u001b[0meven\u001b[0m\u001b[0;34m(\u001b[0m\u001b[0mplus\u001b[0m\u001b[0;34m(\u001b[0m\u001b[0mn\u001b[0m\u001b[0;34m,\u001b[0m\u001b[0mn\u001b[0m\u001b[0;34m)\u001b[0m\u001b[0;34m)\u001b[0m\u001b[0;34m)\u001b[0m\u001b[0;34m]\u001b[0m\u001b[0;34m)\u001b[0m\u001b[0;34m\u001b[0m\u001b[0;34m\u001b[0m\u001b[0m\n\u001b[0m\u001b[1;32m      2\u001b[0m \u001b[0;31m#mul_2_even = lemma(ForAll([n], even(mul(two, n))), by=[mul_succ_x])\u001b[0m\u001b[0;34m\u001b[0m\u001b[0;34m\u001b[0m\u001b[0m\n",
      "\u001b[0;32m/tmp/ipykernel_390381/3613725135.py\u001b[0m in \u001b[0;36m?\u001b[0;34m(thm, by, admit)\u001b[0m\n\u001b[1;32m      5\u001b[0m \u001b[0;32mdef\u001b[0m \u001b[0mlemma\u001b[0m\u001b[0;34m(\u001b[0m\u001b[0mthm\u001b[0m\u001b[0;34m,\u001b[0m \u001b[0mby\u001b[0m\u001b[0;34m=\u001b[0m\u001b[0;34m[\u001b[0m\u001b[0;34m]\u001b[0m\u001b[0;34m,\u001b[0m \u001b[0madmit\u001b[0m\u001b[0;34m=\u001b[0m\u001b[0;32mFalse\u001b[0m\u001b[0;34m)\u001b[0m\u001b[0;34m:\u001b[0m\u001b[0;34m\u001b[0m\u001b[0;34m\u001b[0m\u001b[0m\n\u001b[1;32m      6\u001b[0m     \u001b[0;32mif\u001b[0m \u001b[0;32mnot\u001b[0m \u001b[0madmit\u001b[0m\u001b[0;34m:\u001b[0m\u001b[0;34m\u001b[0m\u001b[0;34m\u001b[0m\u001b[0m\n\u001b[0;32m----> 7\u001b[0;31m         \u001b[0mprove\u001b[0m\u001b[0;34m(\u001b[0m\u001b[0mImplies\u001b[0m\u001b[0;34m(\u001b[0m\u001b[0mAnd\u001b[0m\u001b[0;34m(\u001b[0m\u001b[0mby\u001b[0m\u001b[0;34m)\u001b[0m\u001b[0;34m,\u001b[0m \u001b[0mthm\u001b[0m\u001b[0;34m)\u001b[0m\u001b[0;34m)\u001b[0m\u001b[0;34m\u001b[0m\u001b[0;34m\u001b[0m\u001b[0m\n\u001b[0m\u001b[1;32m      8\u001b[0m     \u001b[0;32melse\u001b[0m\u001b[0;34m:\u001b[0m\u001b[0;34m\u001b[0m\u001b[0;34m\u001b[0m\u001b[0m\n\u001b[1;32m      9\u001b[0m         \u001b[0mprint\u001b[0m\u001b[0;34m(\u001b[0m\u001b[0;34m\"Admitted!!\"\u001b[0m\u001b[0;34m,\u001b[0m \u001b[0mthm\u001b[0m\u001b[0;34m)\u001b[0m\u001b[0;34m\u001b[0m\u001b[0;34m\u001b[0m\u001b[0m\n\u001b[1;32m     10\u001b[0m     \u001b[0;32mreturn\u001b[0m \u001b[0mthm\u001b[0m\u001b[0;34m\u001b[0m\u001b[0;34m\u001b[0m\u001b[0m\n",
      "\u001b[0;32m~/.local/lib/python3.10/site-packages/z3/z3.py\u001b[0m in \u001b[0;36m?\u001b[0;34m(claim, show, **keywords)\u001b[0m\n\u001b[1;32m   9087\u001b[0m     \u001b[0;32mif\u001b[0m \u001b[0mr\u001b[0m \u001b[0;34m==\u001b[0m \u001b[0munsat\u001b[0m\u001b[0;34m:\u001b[0m\u001b[0;34m\u001b[0m\u001b[0;34m\u001b[0m\u001b[0m\n\u001b[1;32m   9088\u001b[0m         \u001b[0mprint\u001b[0m\u001b[0;34m(\u001b[0m\u001b[0;34m\"proved\"\u001b[0m\u001b[0;34m)\u001b[0m\u001b[0;34m\u001b[0m\u001b[0;34m\u001b[0m\u001b[0m\n\u001b[1;32m   9089\u001b[0m     \u001b[0;32melif\u001b[0m \u001b[0mr\u001b[0m \u001b[0;34m==\u001b[0m \u001b[0munknown\u001b[0m\u001b[0;34m:\u001b[0m\u001b[0;34m\u001b[0m\u001b[0;34m\u001b[0m\u001b[0m\n\u001b[1;32m   9090\u001b[0m         \u001b[0mprint\u001b[0m\u001b[0;34m(\u001b[0m\u001b[0;34m\"failed to prove\"\u001b[0m\u001b[0;34m)\u001b[0m\u001b[0;34m\u001b[0m\u001b[0;34m\u001b[0m\u001b[0m\n\u001b[0;32m-> 9091\u001b[0;31m         \u001b[0mprint\u001b[0m\u001b[0;34m(\u001b[0m\u001b[0ms\u001b[0m\u001b[0;34m.\u001b[0m\u001b[0mmodel\u001b[0m\u001b[0;34m(\u001b[0m\u001b[0;34m)\u001b[0m\u001b[0;34m)\u001b[0m\u001b[0;34m\u001b[0m\u001b[0;34m\u001b[0m\u001b[0m\n\u001b[0m\u001b[1;32m   9092\u001b[0m     \u001b[0;32melse\u001b[0m\u001b[0;34m:\u001b[0m\u001b[0;34m\u001b[0m\u001b[0;34m\u001b[0m\u001b[0m\n\u001b[1;32m   9093\u001b[0m         \u001b[0mprint\u001b[0m\u001b[0;34m(\u001b[0m\u001b[0;34m\"counterexample\"\u001b[0m\u001b[0;34m)\u001b[0m\u001b[0;34m\u001b[0m\u001b[0;34m\u001b[0m\u001b[0m\n\u001b[1;32m   9094\u001b[0m         \u001b[0mprint\u001b[0m\u001b[0;34m(\u001b[0m\u001b[0ms\u001b[0m\u001b[0;34m.\u001b[0m\u001b[0mmodel\u001b[0m\u001b[0;34m(\u001b[0m\u001b[0;34m)\u001b[0m\u001b[0;34m)\u001b[0m\u001b[0;34m\u001b[0m\u001b[0;34m\u001b[0m\u001b[0m\n",
      "\u001b[0;32m~/.local/lib/python3.10/site-packages/z3/z3.py\u001b[0m in \u001b[0;36m?\u001b[0;34m(self)\u001b[0m\n\u001b[1;32m   7128\u001b[0m         \"\"\"\n\u001b[1;32m   7129\u001b[0m         \u001b[0;32mtry\u001b[0m\u001b[0;34m:\u001b[0m\u001b[0;34m\u001b[0m\u001b[0;34m\u001b[0m\u001b[0m\n\u001b[1;32m   7130\u001b[0m             \u001b[0;32mreturn\u001b[0m \u001b[0mModelRef\u001b[0m\u001b[0;34m(\u001b[0m\u001b[0mZ3_solver_get_model\u001b[0m\u001b[0;34m(\u001b[0m\u001b[0mself\u001b[0m\u001b[0;34m.\u001b[0m\u001b[0mctx\u001b[0m\u001b[0;34m.\u001b[0m\u001b[0mref\u001b[0m\u001b[0;34m(\u001b[0m\u001b[0;34m)\u001b[0m\u001b[0;34m,\u001b[0m \u001b[0mself\u001b[0m\u001b[0;34m.\u001b[0m\u001b[0msolver\u001b[0m\u001b[0;34m)\u001b[0m\u001b[0;34m,\u001b[0m \u001b[0mself\u001b[0m\u001b[0;34m.\u001b[0m\u001b[0mctx\u001b[0m\u001b[0;34m)\u001b[0m\u001b[0;34m\u001b[0m\u001b[0;34m\u001b[0m\u001b[0m\n\u001b[1;32m   7131\u001b[0m         \u001b[0;32mexcept\u001b[0m \u001b[0mZ3Exception\u001b[0m\u001b[0;34m:\u001b[0m\u001b[0;34m\u001b[0m\u001b[0;34m\u001b[0m\u001b[0m\n\u001b[0;32m-> 7132\u001b[0;31m             \u001b[0;32mraise\u001b[0m \u001b[0mZ3Exception\u001b[0m\u001b[0;34m(\u001b[0m\u001b[0;34m\"model is not available\"\u001b[0m\u001b[0;34m)\u001b[0m\u001b[0;34m\u001b[0m\u001b[0;34m\u001b[0m\u001b[0m\n\u001b[0m",
      "\u001b[0;31mZ3Exception\u001b[0m: model is not available"
     ]
    }
   ],
   "source": [
    "plus_x_x_even = lemma(ForAll([n], even(plus(n,n))), [plus_succ_x, even_def, even_two, even_one, induct(lambda n: even(plus(n,n)))], admit=True)\n",
    "#mul_2_even = lemma(ForAll([n], even(mul(two, n))), by=[mul_succ_x])"
   ]
  },
  {
   "cell_type": "code",
   "execution_count": 27,
   "metadata": {},
   "outputs": [
    {
     "name": "stdout",
     "output_type": "stream",
     "text": [
      "proved\n",
      "proved\n",
      "proved\n",
      "proved\n",
      "proved\n",
      "proved\n",
      "proved\n",
      "proved\n",
      "proved\n"
     ]
    }
   ],
   "source": [
    "div = Function(\"div\", Nat, Nat, B)\n",
    "div_def = ForAll([m,n], div(m,n) == Exists([k], mul(k,n) == m))\n",
    "\n",
    "mul_1_x_1 = lemma(ForAll([n], mul(one, n) == plus(n,Nat.zero)), [mul_0_x, mul_succ_x, plus_0_x, plus_succ_x])\n",
    "mul_1_x = lemma(ForAll([n], mul(one, n) == n), [mul_1_x_1, plus_0_x, plus_comm])\n",
    "\n",
    "mul_x_1 = lemma(ForAll([n], mul(n, one) == n), [mul_1_x, mul_comm])\n",
    "\n",
    "div_x_1 = lemma(ForAll([n], div(n, one)), [div_def, mul_x_1])\n",
    "\n",
    "mul_two_x = lemma(ForAll([n], mul(two, n) == plus(n,n)), [mul_succ_x, mul_1_x, plus_0_x, plus_succ_x, plus_comm])\n",
    "\n",
    "\n",
    "even_plus_0_0 = lemma(even(plus(Nat.zero, Nat.zero)), [even_def, plus_0_x])\n",
    "even_succ_succ = lemma(ForAll([n], Implies(even(plus(n,n)),  even(plus(Nat.succ(n), Nat.succ(n))))), [even_def, even_two, plus_succ_x, plus_comm])\n",
    "even_plus_x_x = lemma(ForAll([n], even(plus(n,n))), [even_plus_0_0, even_succ_succ, induct(lambda n: even(plus(n,n)))])\n",
    "\n",
    "mul_two_even = lemma(ForAll([n], even(mul(two, n))), [mul_two_x, even_plus_x_x])\n",
    "\n"
   ]
  },
  {
   "cell_type": "code",
   "execution_count": 30,
   "metadata": {},
   "outputs": [
    {
     "name": "stdout",
     "output_type": "stream",
     "text": [
      "proved\n",
      "Admitted!! ForAll(n, odd(n) == odd(mul(n, n)))\n",
      "Admitted!! ForAll(n, even(n) == even(mul(n, n)))\n",
      "proved\n",
      "proved\n"
     ]
    }
   ],
   "source": [
    "_1 = lemma(ForAll([n], even(mul(two,mul(n,n)))), by=[mul_two_even])\n",
    "            \n",
    "_2 = lemma(ForAll([m,n], Implies(mul(two,mul(n,n)) == mul(m,m), even(mul(m,m)))), by = [_1])\n",
    "\n",
    "mul_odd_odd   = lemma(ForAll([n], odd(n) == odd(mul(n,n))), [], admit=True)\n",
    "mul_even_even = lemma(ForAll([n], even(n) == even(mul(n,n))), [], admit=True)\n",
    "\n",
    "_3 = lemma(ForAll([m,n], Implies(mul(two,mul(n,n)) == mul(m,m), even(m))), by = [_2, mul_even_even])\n",
    "\n",
    "\n",
    "# Ugh. It still feels far away. Still, it seems like I can chip away at it. Nothing is stopping me.\n",
    "\n",
    "\n",
    "\n",
    "                    "
   ]
  },
  {
   "cell_type": "markdown",
   "metadata": {},
   "source": [
    "# Bits and Bobbles\n",
    "\n",
    "It really does have the flavor of using an interactive assistant. I stated many things which didn't go through or hung until I went through more carefully and first proved the relevant lemmas.\n",
    "\n",
    "Z3 handles logical equivalences quite well. This is kind of a whole pile of stuff that you do manually at first in coq etc. We immeditately jump into meatier things.\n",
    "\n",
    "It has poor induction support. Vampire has some? \n",
    "I could internalize induction as a higher order statement about `ArraySort(Nat,B)` predicates. It might not do much better even with that.\n",
    "\n",
    "You can export smtlib formula and consume them in vampire or cvc5. A sledgehammer/why3 spread spectrum approach is possible.\n",
    "\n",
    "Being so shallow makes it had to have a theorem database to try and search over.\n",
    "\n",
    "No good simp. Z3 simplify I think can only use it's built in rules. Could build an external one, or interop with egglog\n",
    "\n",
    "My inductions we mostly just restating the theorem. I should really deduplicate that somehow. Maybe enforce induction schema to use z3 Lambda instead of python. Eh.\n",
    "\n",
    "For these equational proofs, if we tossed them into twee, they give quite pretty proofs\n",
    "\n",
    "I've been at this for quite some time on and off. \n",
    "- https://www.philipzucker.com/programming-and-interactive-proving-with-z3py/\n",
    "- https://www.philipzucker.com/more-stupid-z3py-tricks-simple-proofs/\n",
    "- https://www.philipzucker.com/proving-some-inductive-facts-about-lists-using-z3-python/\n",
    "\n",
    "Is what I'm doing now any better than then?"
   ]
  },
  {
   "cell_type": "markdown",
   "metadata": {},
   "source": [
    "For equational proofs it;s nice to write t1 == t2 == t3 == t4.\n",
    "The calc combinator can do this.\n",
    "Lean has a calc and so does dafny. Also agda had a style like this.\n"
   ]
  },
  {
   "cell_type": "code",
   "execution_count": null,
   "metadata": {},
   "outputs": [
    {
     "name": "stdout",
     "output_type": "stream",
     "text": [
      "counterexample\n",
      "[]\n",
      "counterexample\n",
      "[]\n",
      "proved\n"
     ]
    },
    {
     "data": {
      "text/html": [
       "&forall;n, m, k : n = k"
      ],
      "text/plain": [
       "ForAll([n, m, k], n == k)"
      ]
     },
     "execution_count": 21,
     "metadata": {},
     "output_type": "execute_result"
    }
   ],
   "source": [
    "def calc(vars, *args, by=[]):\n",
    "    lemmas = []\n",
    "    for lhs,rhs in zip(args[:-1],args[1:]) :\n",
    "        lemmas.append(lemma(ForAll(vars, lhs == rhs), by))\n",
    "    return lemma(ForAll(vars, args[0] == args[-1]), by=lemmas)\n",
    "\n",
    "#calc([n,m,k], one + (a + b), m, k)\n"
   ]
  },
  {
   "cell_type": "code",
   "execution_count": null,
   "metadata": {},
   "outputs": [],
   "source": [
    "# maps into IntSort() put into linarith\n",
    "linarith = []\n",
    "\n",
    "# I_homo as a structure/typeclass.\n",
    "# put ring axioms into ring? Meh.\n",
    "# ring = []\n"
   ]
  },
  {
   "cell_type": "markdown",
   "metadata": {},
   "source": [
    "Adding pattern matching to z3 post hoc. Very useful if we want to start defining introspective tactics in python. `simp`, `unify`, `apply` for example."
   ]
  },
  {
   "cell_type": "code",
   "execution_count": null,
   "metadata": {},
   "outputs": [
    {
     "name": "stdout",
     "output_type": "stream",
     "text": [
      "[n, n]\n",
      "<__main__.Foo object at 0x7594f3f77eb0>\n",
      "plus\n"
     ]
    },
    {
     "data": {
      "text/html": [
       "plus"
      ],
      "text/plain": [
       "plus"
      ]
     },
     "execution_count": 14,
     "metadata": {},
     "output_type": "execute_result"
    }
   ],
   "source": [
    "type(n).__mro__\n",
    "\n",
    "AstRef.childs = property(lambda self: self.children())\n",
    "AstRef.head = property(lambda self: self.decl())\n",
    "AstRef.__match_args__ = (\"head\", \"childs\")\n",
    "match plus(n,n):\n",
    "    case AstRef(head=mul, childs=foo):\n",
    "        print(foo)\n",
    "        print(x)\n",
    "        print(mul)\n",
    "mul"
   ]
  },
  {
   "cell_type": "code",
   "execution_count": null,
   "metadata": {},
   "outputs": [],
   "source": []
  },
  {
   "cell_type": "markdown",
   "metadata": {},
   "source": [
    "What about euclidean geometry?"
   ]
  },
  {
   "cell_type": "code",
   "execution_count": null,
   "metadata": {},
   "outputs": [],
   "source": [
    "Point = Datatype(\"Point\")\n",
    "Point.declare(\"mk-point\", (\"x\", Z), (\"y\", Z))\n",
    "Point = Point.create()\n",
    "\n",
    "DSegment = Datatype(\"DSegment\")\n",
    "DSegment.declare(\"mk-dseg\", (\"a\", Point), (\"b\", Point))\n",
    "DSegment = DSegment.create()\n",
    "\n",
    "# line is equivalence class of segments.\n",
    "# we can't really give canonical coordinates to lines.\n",
    "# ax + by = c is scale invariant\n",
    "# y = mx + b can't represent vertical lines.\n",
    "# y = lam (a - b) + b  could use other points\n",
    "\n",
    " \n",
    "\n",
    "\n",
    "\n"
   ]
  },
  {
   "cell_type": "markdown",
   "metadata": {},
   "source": [
    "Maybe more intriguing is to do projective geomtry first though\n",
    "\n",
    "Here we can use the same kind of reify/reflect into coordinates, which are a pretty dominant method for geometric proving as I understand it (Wu's method, grobner, etc).\n"
   ]
  },
  {
   "cell_type": "code",
   "execution_count": null,
   "metadata": {},
   "outputs": [],
   "source": [
    "Point = DeclareSort(\"Point\")\n",
    "R = RealSort()\n",
    "x,y,z,p,q,w = Consts(\"x y z p q w\", R)\n",
    "mkpoint = Function(\"mk-point\", R, R, R, Point)\n",
    "point_equal = ForAll([x,y,z,p,q,w], And(x*q - y*p == 0, y*w - z*q == 0, z*p - x*w == 0) == (mkpoint(x,y,z) == mkpoint(p,q,w)))\n",
    "X = Function(\"X\", Point, R)\n",
    "Y = Function(\"Y\", Point, R)\n",
    "Z = Function(\"Z\", Point, R)\n",
    "mkpoint_XYZ = ForAll([p], mkpoint(X(p), Y(p), Z(p)) == p)\n",
    "\n",
    "# right to left is trivial.\n",
    "# left to right\n",
    "coord_unique = ForAll([p],And(X(p) == X(q), Y(p) == Y(q), Z(p) == Z(p))  == (p == q))\n",
    "\n",
    "# also could do exists lam, v = lam * w as equality."
   ]
  },
  {
   "cell_type": "code",
   "execution_count": null,
   "metadata": {},
   "outputs": [
    {
     "name": "stdout",
     "output_type": "stream",
     "text": [
      "bar\n",
      "n m\n"
     ]
    }
   ],
   "source": [
    "class Foo():\n",
    "    pass\n",
    "\n",
    "Bar = Foo\n",
    "x = Bar()\n",
    "match x:\n",
    "    case Bar():\n",
    "        print(\"bar\")\n",
    "    case Foo():\n",
    "        print(\"foo\")\n",
    "    case _:\n",
    "        print(type(x))\n",
    "    \n",
    "Fn = z3.ExprRef\n",
    "\n",
    "match plus(n,m):\n",
    "    case Fn(plus, [y,z]):\n",
    "        print(n,m)\n",
    "\n",
    "\n",
    "def match_(t, p, vars):\n",
    "    subst = {}\n",
    "    todo = [(t,p)]\n",
    "    while todo:\n",
    "        t,p = todo.pop()\n",
    "        match t,p:\n",
    "            case x, Fn(v, []) if p in vars:\n",
    "                if v in subst:\n",
    "                    if subst[v].eq(x):\n",
    "                        pass\n",
    "                    else:\n",
    "                        return None\n",
    "                else:\n",
    "                    subst[v] = x\n",
    "            case Fn(f, args1), Fn(f2, args2):\n",
    "                if f1 == f2 and len(args1) == len(args2):\n",
    "                    for a1,a2 in zip(args1, args2):\n",
    "                        match_(a1, a2, vars)\n",
    "                else:\n",
    "                    return None\n",
    "            case _:\n",
    "                print(\"no match\")\n",
    "    return subst\n",
    "\n",
    "def kbo():\n",
    "    pass\n",
    "def resolve():\n",
    "    pass\n",
    "def auto():\n",
    "    pass\n",
    "\n"
   ]
  },
  {
   "cell_type": "code",
   "execution_count": null,
   "metadata": {},
   "outputs": [
    {
     "data": {
      "text/plain": [
       "z3.z3.QuantifierRef"
      ]
     },
     "execution_count": 23,
     "metadata": {},
     "output_type": "execute_result"
    }
   ],
   "source": [
    "#type(ForAll([n,m], plus(n,m) == plus(m,n)))\n",
    "\n",
    "#PForAll = QuantifierRef(x) if x.is_forall()\n",
    "# https://www.hillelwayne.com/post/python-abc/\n",
    "from abc import ABC\n",
    "class PForAll(ABC):\n",
    "    @classmethod\n",
    "    def __subclasshook__(cls, C):\n",
    "        return isinstance(C, QuantifierRef) and C.is_forall()"
   ]
  }
 ],
 "metadata": {
  "kernelspec": {
   "display_name": "Python 3",
   "language": "python",
   "name": "python3"
  },
  "language_info": {
   "codemirror_mode": {
    "name": "ipython",
    "version": 3
   },
   "file_extension": ".py",
   "mimetype": "text/x-python",
   "name": "python",
   "nbconvert_exporter": "python",
   "pygments_lexer": "ipython3",
   "version": "3.10.12"
  }
 },
 "nbformat": 4,
 "nbformat_minor": 2
}
