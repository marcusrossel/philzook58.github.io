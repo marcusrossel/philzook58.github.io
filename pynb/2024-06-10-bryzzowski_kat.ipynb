{
 "cells": [
  {
   "cell_type": "markdown",
   "metadata": {},
   "source": [
    "---\n",
    "title: Knuckledraggin' Kleene Algebra\n",
    "date: 2024-06-10\n",
    "---\n",
    "\n",
    "I was in the audience watching Alexandra Silva teach Kleene Algerab with tests last week \n",
    "https://www.cs.uoregon.edu/research/summerschool/summer24/topics.php#Silva\n",
    "\n",
    "She gave some example problems\n",
    "```\n",
    "a* a* = a*\n",
    "a** = a*\n",
    "goal = Implies(x*y == y*z, star(x) * y == y * star(z))\n",
    "\n",
    "```\n",
    "I thought it's a fun example to try out knuckledragger, my z3 based python proof assistant.\n",
    "\n",
    "Kleene algebra is also very interesting in that it has an axiom that is the analog of induction, but does not require persay bringing in higher order logic. Food for thought.\n",
    "\n",
    "First I define the signature and backhack in operator overloading on z3 `ExprRef`. I've got some ideas on how to add this to the library in a more principled way ([singledispatch](https://docs.python.org/3/library/functools.html#functools.singledispatch) style overloading on ExprRef's operators using z3 sorts to disambiguate. I'm trying to stick to things that are pythonic)"
   ]
  },
  {
   "cell_type": "code",
   "execution_count": 1,
   "metadata": {},
   "outputs": [],
   "source": [
    "\n",
    "from knuckledragger import lemma, axiom\n",
    "from z3 import *\n",
    "\n",
    "\n",
    "K = DeclareSort(\"K\")\n",
    "o = Const(\"0\", K)\n",
    "l = Const(\"1\", K)\n",
    "char = Function(\"char\", StringSort(), K) # injective btw\n",
    "a = char(StringVal(\"a\"))\n",
    "b = char(StringVal(\"b\"))\n",
    "seq = Function(\"seq\", K,K,K)\n",
    "par = Function(\"par\", K,K,K)\n",
    "star = Function(\"star\", K,K)\n",
    "\n",
    "ExprRef.__mul__ = lambda x,y: seq(x,y)\n",
    "ExprRef.__add__ = lambda x,y: par(x,y)\n",
    "ExprRef.__le__ = lambda x,y: x + y == y\n",
    "\n",
    "sig = [K, o, l, seq, par, star]\n",
    "\n",
    "x,y,z,e,f = Consts(\"x y z e f\", K)\n",
    "\n",
    "\n"
   ]
  },
  {
   "cell_type": "markdown",
   "metadata": {},
   "source": [
    "Here's the axioms from lecture. There was some discussion"
   ]
  },
  {
   "cell_type": "code",
   "execution_count": 2,
   "metadata": {},
   "outputs": [],
   "source": [
    "#  kozen axioms\n",
    "# from egglog https://github.com/philzook58/egg-smol/blob/scratchpad2/tests/kleene.egg\n",
    "par_assoc = axiom(ForAll([x,y,z], x + (y + z) == (x + y) + z))\n",
    "par_comm = axiom(ForAll([x,y], x + y == y + x))\n",
    "par_idem = axiom(ForAll([x], x + x == x))\n",
    "par_zero = axiom(ForAll([x], x + o == x))\n",
    "\n",
    "seq_assoc = axiom(ForAll([x,y,z], x * (y * z) == (x * y) * z))\n",
    "seq_zero = axiom(ForAll([x], x * o == o))\n",
    "seq_one = axiom(ForAll([x], x * l == x))\n",
    "\n",
    "rdistrib = axiom(ForAll([x,y,z], x * (y + z) == x * y + x * z))\n",
    "ldistrib = axiom(ForAll([x,y,z], (y + z) * x == y * x + z * x))\n",
    "\n",
    "unfold = axiom(ForAll([e], star(e) == l + e * star(e)))\n",
    "\n",
    "# If a set shrinks, star(e) is less than it\n",
    "least_fix = axiom(ForAll([x,e,f], Implies(f + e * x <= x, star(e) * f <= x)))\n",
    "\n",
    "kleene = [par_assoc, par_comm, par_idem, par_zero, \n",
    "    seq_assoc,  seq_zero, seq_one, \n",
    "    ldistrib, rdistrib, unfold, least_fix] "
   ]
  },
  {
   "cell_type": "markdown",
   "metadata": {},
   "source": [
    "Some toy lemmas. I recently added an overload on the proof objects to pretty print with the turnstile. Maybe a bad idea."
   ]
  },
  {
   "cell_type": "code",
   "execution_count": 3,
   "metadata": {},
   "outputs": [
    {
     "data": {
      "text/html": [
       "&ctdot; &#8870;&forall;x, y, z :\n",
       " par(x, y) = y &rArr; par(seq(x, z), seq(y, z)) = seq(y, z)"
      ],
      "text/plain": [
       "&ctdot; &#8870;ForAll([x, y, z],\n",
       "       Implies(par(x, y) == y,\n",
       "               par(seq(x, z), seq(y, z)) == seq(y, z)))"
      ]
     },
     "execution_count": 3,
     "metadata": {},
     "output_type": "execute_result"
    }
   ],
   "source": [
    "par_lzero = lemma(ForAll([x], o + x == x), by=kleene)\n",
    "\n",
    "par_monotone = lemma(ForAll([x,y,z], Implies(x <= y, x + z <= y + z)), by=kleene)\n",
    "seq_monotone = lemma(ForAll([x,y,z], Implies(x <= y, x * z <= y * z)), by=kleene)\n",
    "\n",
    "seq_monotone"
   ]
  },
  {
   "cell_type": "markdown",
   "metadata": {},
   "source": [
    "The first problem is pretty easy actually. Unfolding and then reassociating and commutativity is enough. The `calc` combinator/tactic is useful. It's inspired by dafny/lean. I've done similar things in many systems"
   ]
  },
  {
   "cell_type": "code",
   "execution_count": 4,
   "metadata": {},
   "outputs": [
    {
     "data": {
      "text/html": [
       "&ctdot; &#8870;&forall;x : seq(star(x), star(x)) = star(x)"
      ],
      "text/plain": [
       "&ctdot; &#8870;ForAll(x, seq(star(x), star(x)) == star(x))"
      ]
     },
     "execution_count": 4,
     "metadata": {},
     "output_type": "execute_result"
    }
   ],
   "source": [
    "def calc(*args, by=[], vars=[x]):\n",
    "    lemmas = []\n",
    "    for a,b in zip(args[:-1], args[1:]):\n",
    "        lemmas.append(lemma(ForAll(vars,a == b), by=by))\n",
    "    return lemma(ForAll(vars, args[0] == args[-1]), by=lemmas)\n",
    "\n",
    "star_star = calc(star(x) * star(x),\n",
    "    (l + x * star(x)) * (l + x * star(x)), # unfold\n",
    "    (l + l) + (x * star(x) + x * star(x)), # reassoc\n",
    "    l + x * star(x), # idem\n",
    "    star(x),   #refold\n",
    "    by=kleene\n",
    ")\n",
    "\n",
    "star_star"
   ]
  },
  {
   "cell_type": "markdown",
   "metadata": {},
   "source": [
    "The next one took a little thought. \n"
   ]
  },
  {
   "cell_type": "code",
   "execution_count": 5,
   "metadata": {},
   "outputs": [
    {
     "data": {
      "text/html": [
       "&ctdot; &#8870;&forall;x : star(star(x)) = star(x)"
      ],
      "text/plain": [
       "&ctdot; &#8870;ForAll(x, star(star(x)) == star(x))"
      ]
     },
     "execution_count": 5,
     "metadata": {},
     "output_type": "execute_result"
    }
   ],
   "source": [
    "def xlemma(thm,by=[]):\n",
    "    return lemma(ForAll([x], thm), by=by)\n",
    "\n",
    "_1 = xlemma(Implies(star(x)*star(x) + l <= star(x), star(star(x)) <= star(x)), by=kleene)\n",
    "_2 = calc(star(x)*star(x) + l <= star(x),   star(x) + l == star(x) , by=kleene)\n",
    "_3 = calc(star(x) + l, star(x), by=kleene)\n",
    "_4 = xlemma(star(star(x)) <= star(x), by=kleene + [_1,_2,_3])\n",
    "\n",
    "xlemma(star(star(x)) == star(x), by=kleene + [_4])\n",
    "\n",
    "\n"
   ]
  },
  {
   "cell_type": "markdown",
   "metadata": {},
   "source": [
    "# Bits and Bobbles\n",
    "I'm flagging a bit on proving the others. Oppurtunity for another blog post!\n",
    "\n",
    "But this has made it tempting that I would like something akin to an apply tactic and also the ability to toss into twee.\n",
    "\n",
    "I also would like the ability to keep the ForAll implicit more easily.\n",
    "\n",
    "Calc should go into the library\n",
    "\n",
    "Proof pruning via unsat core would be helpful\n",
    "\n",
    "Z3 has built in regex, so reflecting to them might be interesintg\n",
    "\n",
    "Using general purpose equational reasoning for kleene algerba is obscene. There are special automata thingies for it. Some things are decidable. I think this is kind of the benefit of KAT.\n",
    "\n"
   ]
  },
  {
   "cell_type": "markdown",
   "metadata": {},
   "source": [
    "Ideas on overloading"
   ]
  },
  {
   "cell_type": "code",
   "execution_count": null,
   "metadata": {},
   "outputs": [],
   "source": [
    "# This is kind of oleg's thing\n",
    "__add_methods = {}\n",
    "#ExprRef.__add__ = lambda self,other: __add_methods[self.sort()](self, other)\n",
    "#ExprRef.__mul__ = \n",
    "\n",
    "# could also use multi dissatch\n",
    "def register_add(sort, func):\n",
    "    add_methods[sort] = func\n",
    "def deregister_add()\n",
    "\n",
    "# Hmm. It disdpatch on the python type though. No the z3 sort. \n",
    "from functools import singledispatch\n",
    "@singledispatch\n",
    "def add(x,y):\n",
    "    raise NotImplementedError(\"Unsupported type\")\n",
    "ExprRef.__add__ = add\n",
    "\n",
    "# Is this too overwrought?\n",
    "\n",
    "class ExprDispatch(): # Sort dispatch\n",
    "    def __init__(self):\n",
    "        self.methods = {}\n",
    "    def register(self, sort, func):\n",
    "        self.methods(sort) = func\n",
    "    def __call__(self, *args, **kwargs):\n",
    "        return self.methods[args[0].sort()](args, kwargs)\n",
    "\n",
    "add = ExprDispatch()\n",
    "ExprRef.__add__ = add\n",
    "\n",
    "mul = ExprDispatch()\n",
    "ExprRef.__mul__ = mul\n",
    "\n",
    "sub = ExprDispatch()\n",
    "ExprRef.__sub__ = sub\n",
    "\n",
    "matmul = ExprDispatch()\n",
    "ExprRef.__matmul__ = matmul"
   ]
  },
  {
   "cell_type": "markdown",
   "metadata": {},
   "source": [
    "The rawer non library form I was playing with."
   ]
  },
  {
   "cell_type": "code",
   "execution_count": 1,
   "metadata": {},
   "outputs": [
    {
     "name": "stdout",
     "output_type": "stream",
     "text": [
      "proved\n",
      "proved\n",
      "proved\n",
      "proved\n",
      "proved\n",
      "proved\n",
      "proved\n",
      "proved\n",
      "proved\n",
      "proved\n",
      "proved\n",
      "proved\n",
      "proved\n",
      "proved\n",
      "proved\n",
      "proved\n",
      "proved\n",
      "proved\n",
      "proved\n",
      "proved\n",
      "proved\n",
      "proved\n",
      "proved\n"
     ]
    }
   ],
   "source": [
    "from z3 import *\n",
    "def lemma(thm, by=[], admit=False):\n",
    "    if admit:\n",
    "        print(\"Admitted!!!\")\n",
    "    else:\n",
    "        prove(Implies(And(by), thm))\n",
    "    return thm\n",
    "\n",
    "\n",
    "K = DeclareSort(\"K\")\n",
    "o = Const(\"0\", K)\n",
    "l = Const(\"1\", K)\n",
    "char = Function(\"char\", StringSort(), K)\n",
    "a = char(StringVal(\"a\"))\n",
    "b = char(StringVal(\"b\"))\n",
    "seq = Function(\"seq\", K,K,K)\n",
    "par = Function(\"par\", K,K,K)\n",
    "star = Function(\"star\", K,K)\n",
    "\n",
    "ExprRef.__mul__ = lambda x,y: seq(x,y)\n",
    "ExprRef.__add__ = lambda x,y: par(x,y)\n",
    "ExprRef.__le__ = lambda x,y: x + y == y\n",
    "\n",
    "x,y,z,e,f = Consts(\"x y z e f\", K)\n",
    "\n",
    "#  kozen axioms\n",
    "# from egglog https://github.com/philzook58/egg-smol/blob/scratchpad2/tests/kleene.egg\n",
    "par_assoc = ForAll([x,y,z], x + (y + z) == (x + y) + z)\n",
    "par_comm = ForAll([x,y], x + y == y + x)\n",
    "par_idem = ForAll([x], x + x == x)\n",
    "par_zero = ForAll([x], x + o == x)\n",
    "\n",
    "seq_assoc = ForAll([x,y,z], x * (y * z) == (x * y) * z)\n",
    "seq_zero = ForAll([x], x * o == o)\n",
    "seq_one = ForAll([x], x * l == x)\n",
    "\n",
    "rdistrib = ForAll([x,y,z], x * (y + z) == x * y + x * z)\n",
    "ldistrib = ForAll([x,y,z], (y + z) * x == y * x + z * x)\n",
    "\n",
    "unfold = ForAll([e], star(e) == l + e * star(e))\n",
    "\n",
    "# If a set shrinks, star(e) is less than it\n",
    "least_fix = ForAll([x,e,f], Implies(f + e * x <= x, star(e) * f <= x))\n",
    "\n",
    "\n",
    "\n",
    "\n",
    "sig = [K, o, l, seq, par, star]\n",
    "kleene = [par_assoc, par_comm, par_idem, par_zero, \n",
    "    seq_assoc,  seq_zero, seq_one, \n",
    "    ldistrib, rdistrib, unfold, least_fix] \n",
    "\n",
    "#lemma(ForAll([x], star(star(x)) == star(x)), by=kleene)\n",
    "\n",
    "par_lzero = lemma(ForAll([x], o + x == x), by=kleene)\n",
    "\n",
    "par_monotone = lemma(ForAll([x,y,z], Implies(x <= y, x + z <= y + z)), by=kleene)\n",
    "seq_monotone = lemma(ForAll([x,y,z], Implies(x <= y, x * z <= y * z)), by=kleene)\n",
    "\n",
    "def calc(*args, by=[]):\n",
    "    for a,b in zip(args[:-1], args[1:]):\n",
    "        prove(Implies(And(by), a == b))\n",
    "    return args[0] == args[-1]\n",
    "\n",
    "calc(\n",
    "    star(x),\n",
    "    star(x),\n",
    "    by=kleene)\n",
    "\n",
    "zero_star = lemma(star(o) == l, by=kleene)\n",
    "\n",
    "lemma(ForAll([x], x <= star(x)), by=kleene)\n",
    "\n",
    "star_0 = calc(star(o),        # unfold loop\n",
    "    l + o * star(o), # o * x = x\n",
    "    l,\n",
    "    by=kleene\n",
    ")\n",
    "\n",
    "star_x_x = calc(star(x) + x,\n",
    "   l + x * star(x) + x,\n",
    "   l + x * star(x),\n",
    "   star(x),\n",
    "   by=kleene\n",
    ")\n",
    "\n",
    "lemma(ForAll([x], l <= star(x)), by=kleene)\n",
    "\n",
    "calc(star(x) + l, #unfold\n",
    "    l + l + x * star(x),\n",
    "    l + x*star(x), # assoc and idem(1)\n",
    "    star(x),\n",
    "    by=kleene\n",
    ")\n",
    "\n",
    "calc(star(x) * star(x),\n",
    "    (l + x * star(x)) * (l + x * star(x)), # unfold\n",
    "    (l + l) + (x * star(x) + x * star(x)), # reassoc\n",
    "    l + x * star(x), # idem\n",
    "    star(x),   #refold\n",
    "    by=kleene\n",
    ")\n",
    "\n",
    "expand_eq = lemma(ForAll([x,y], (x == y) == And(x <= y, y <= x)), by=kleene)\n",
    "\n",
    "\n",
    "\n",
    "lemma(ForAll([x,e,f], Implies(e * x + l <= x, star(e) <= x)), by=kleene)\n",
    "\n",
    "\n",
    "lemma(star(l) <= l, by=kleene)\n",
    "one_star = lemma(star(l) == l, by=kleene)\n",
    "\n",
    "\n",
    "\n",
    "\n",
    "#calc(star(star(x)) == star(x)\n",
    "\n",
    "\n"
   ]
  },
  {
   "cell_type": "code",
   "execution_count": 14,
   "metadata": {},
   "outputs": [],
   "source": [
    "# Am I being bellgrent here not using dataclasses?\n",
    "def seq(a,b):\n",
    "    return (\"seq\", a, b)\n",
    "def par(a,b):\n",
    "    return (\"par\", a, b)\n",
    "def star(a):\n",
    "    return (\"star\", a)\n",
    "zero = (\"zero\",)\n",
    "one = (\"one\",)\n",
    "\n",
    "RE = \"RE\"\n",
    "def E(x : RE) -> bool:\n",
    "    match x:\n",
    "        case (\"zero\",):\n",
    "            return False\n",
    "        case (\"one\",):\n",
    "            return True\n",
    "        case (\"char\", _):\n",
    "            return False\n",
    "        case (\"seq\",a, b):\n",
    "            return E(a) and E(b)\n",
    "        case (\"par\", a, b):\n",
    "            return E(a) or E(b)\n",
    "        case (\"star\", a):\n",
    "            return True\n",
    "\n",
    "assert E(seq(one,one)) \n",
    "\n",
    "# What. How did copilot fill this out.\n",
    "def D(a : str, x : RE) -> RE:\n",
    "    match x:\n",
    "        case (\"zero\",):\n",
    "            return zero\n",
    "        case (\"one\",):\n",
    "            return zero\n",
    "        case (\"char\", c):\n",
    "            if c == a:\n",
    "                return one\n",
    "            else:\n",
    "                return zero\n",
    "        case (\"seq\", b, c):\n",
    "            return par(seq(D(a,b), c), seq(E(b), D(a,c)))\n",
    "        case (\"par\", b, c):\n",
    "            return par(D(a,b), D(a,c))\n",
    "        case (\"star\", b):\n",
    "            return seq(D(a,b), x)\n",
    "\n"
   ]
  },
  {
   "cell_type": "markdown",
   "metadata": {},
   "source": [
    "Regular Sets and Regular Expressions\n",
    "\n",
    "\n"
   ]
  },
  {
   "cell_type": "code",
   "execution_count": 15,
   "metadata": {},
   "outputs": [
    {
     "ename": "NameError",
     "evalue": "name 'REsyn' is not defined",
     "output_type": "error",
     "traceback": [
      "\u001b[0;31m---------------------------------------------------------------------------\u001b[0m",
      "\u001b[0;31mNameError\u001b[0m                                 Traceback (most recent call last)",
      "Cell \u001b[0;32mIn [15], line 11\u001b[0m\n\u001b[1;32m      8\u001b[0m RE\u001b[38;5;241m.\u001b[39mdeclare(\u001b[38;5;124m\"\u001b[39m\u001b[38;5;124mstar\u001b[39m\u001b[38;5;124m\"\u001b[39m, (\u001b[38;5;124m\"\u001b[39m\u001b[38;5;124ma\u001b[39m\u001b[38;5;124m\"\u001b[39m, RE))\n\u001b[1;32m      9\u001b[0m RE \u001b[38;5;241m=\u001b[39m RE\u001b[38;5;241m.\u001b[39mcreate()\n\u001b[0;32m---> 11\u001b[0m denote \u001b[38;5;241m=\u001b[39m Function(\u001b[38;5;124m\"\u001b[39m\u001b[38;5;124mdenote\u001b[39m\u001b[38;5;124m\"\u001b[39m, REsyn, RE)\n",
      "\u001b[0;31mNameError\u001b[0m: name 'REsyn' is not defined"
     ]
    }
   ],
   "source": [
    "from z3 import *\n",
    "RE = Datatype(\"RE\")\n",
    "RE.declare(\"0\")\n",
    "RE.declare(\"1\")\n",
    "RE.declare(\"char\", (\"c\", StringSort()))\n",
    "RE.declare(\"seq\", (\"a\", RE), (\"b\", RE))\n",
    "RE.declare(\"par\", (\"a\", RE), (\"b\", RE))\n",
    "RE.declare(\"star\", (\"a\", RE))\n",
    "RE = RE.create()\n",
    "\n",
    "denote = Function(\"denote\", REsyn, RE)\n",
    "\n",
    "# Note also that z3 supports regex"
   ]
  },
  {
   "cell_type": "code",
   "execution_count": 6,
   "metadata": {},
   "outputs": [
    {
     "name": "stdout",
     "output_type": "stream",
     "text": [
      "proved\n",
      "proved\n",
      "proved\n",
      "proved\n",
      "proved\n"
     ]
    },
    {
     "data": {
      "text/html": [
       "star(star(x)) = star(x)"
      ],
      "text/plain": [
       "star(star(x)) == star(x)"
      ]
     },
     "execution_count": 6,
     "metadata": {},
     "output_type": "execute_result"
    }
   ],
   "source": [
    "\n",
    "\n",
    "\n",
    "\n"
   ]
  },
  {
   "cell_type": "code",
   "execution_count": null,
   "metadata": {},
   "outputs": [],
   "source": [
    "goal = Implies(x*y == y*z, star(x) * y == y * star(z))\n",
    "\n",
    "def calc(*args, by=[], ctx=[]):\n",
    "    for a,b in zip(args[:-1], args[1:]):\n",
    "        prove(Implies(And(by), Implies(And(ctx), a == b)))\n",
    "    return Implies(And(ctx), args[0] == args[-1])\n",
    "\n",
    "calc(\n",
    "    star(x) * y,\n",
    "    (l + x * star(x)) * y,\n",
    "    \n",
    "    by=kleene,\n",
    "    ctx = [x*y == y*z]\n",
    ")\n",
    "\n"
   ]
  },
  {
   "cell_type": "code",
   "execution_count": 9,
   "metadata": {},
   "outputs": [
    {
     "name": "stdout",
     "output_type": "stream",
     "text": [
      "proved\n",
      "proved\n"
     ]
    }
   ],
   "source": []
  },
  {
   "cell_type": "code",
   "execution_count": 83,
   "metadata": {},
   "outputs": [
    {
     "name": "stdout",
     "output_type": "stream",
     "text": [
      "Here is the input problem:\n",
      "  Axiom 1 (flattening): star2 = star(l).\n",
      "  Axiom 2 (ax): X + X = X.\n",
      "  Axiom 3 (ax): X + Y = Y + X.\n",
      "  Axiom 4 (ax): X + o = X.\n",
      "  Axiom 5 (ax): X * o = o.\n",
      "  Axiom 6 (ax): X * l = X.\n",
      "  Axiom 7 (ax): o * X = o.\n",
      "  Axiom 8 (ax): l * X = X.\n",
      "  Axiom 9 (flattening): *2 = l * star(l).\n",
      "  Axiom 10 (ax): X + (Y + Z) = (X + Y) + Z.\n",
      "  Axiom 11 (ax): X * (Y * Z) = (X * Y) * Z.\n",
      "  Axiom 12 (ax): star(X) = l + (X * star(X)).\n",
      "  Axiom 13 (flattening): +2 = l + (l * star(l)).\n",
      "  Axiom 14 (ax): X * (Y + Z) = (X * Y) + (X * Z).\n",
      "  Axiom 15 (ax): (X + Y) * Z = (X * Z) + (Y * Z).\n",
      "  Goal 1 (mygoal): star(l) = l + (l * star(l)).\n",
      "\n",
      "1. star(l) -> star2\n",
      "2. X + X -> X\n",
      "3. X + Y <-> Y + X\n",
      "4. X + o -> X\n",
      "5. X * o -> o\n",
      "6. X * l -> X\n",
      "7. o * X -> o\n",
      "8. l * X -> X\n",
      "9. star2 -> *2\n",
      "10. (X + Y) + Z -> X + (Y + Z)\n",
      "11. (X * Y) * Z -> X * (Y * Z)\n",
      "12. l + (X * star(X)) -> star(X)\n",
      "13. *2 -> +2\n",
      "14. (X * Y) + (X * Z) -> X * (Y + Z)\n",
      "15. (X * Y) + (Z * Y) -> (X + Z) * Y\n",
      "16. star(o) -> l\n",
      "17. o + X -> X\n",
      "18. +2 + l -> +2\n",
      "\n",
      "The conjecture is true! Here is a proof.\n",
      "\n",
      "Axiom 1 (ax): star(X) = l + (X * star(X)).\n",
      "\n",
      "Goal 1 (mygoal): star(l) = l + (l * star(l)).\n",
      "Proof:\n",
      "  star(l)\n",
      "= { by axiom 1 (ax) }\n",
      "  l + (l * star(l))\n",
      "\n",
      "RESULT: Theorem (the conjecture is true).\n",
      "\n",
      "\n",
      "Here is the input problem:\n",
      "  Axiom 1 (flattening): star2 = star(l).\n",
      "  Axiom 2 (ax): X + X = X.\n",
      "  Axiom 3 (ax): X + Y = Y + X.\n",
      "  Axiom 4 (ax): X + o = X.\n",
      "  Axiom 5 (ax): X * o = o.\n",
      "  Axiom 6 (ax): X * l = X.\n",
      "  Axiom 7 (ax): o * X = o.\n",
      "  Axiom 8 (ax): l * X = X.\n",
      "  Axiom 9 (flattening): +2 = l + star(l).\n",
      "  Axiom 10 (ax): X + (Y + Z) = (X + Y) + Z.\n",
      "  Axiom 11 (ax): X * (Y * Z) = (X * Y) * Z.\n",
      "  Axiom 12 (ax): star(X) = l + (X * star(X)).\n",
      "  Axiom 13 (ax): X * (Y + Z) = (X * Y) + (X * Z).\n",
      "  Axiom 14 (ax): (X + Y) * Z = (X * Z) + (Y * Z).\n",
      "  Goal 1 (mygoal): star(l) = l + star(l).\n",
      "\n",
      "1. star(l) -> star2\n",
      "2. X + X -> X\n",
      "3. X + Y <-> Y + X\n",
      "4. X + o -> X\n",
      "5. X * o -> o\n",
      "6. X * l -> X\n",
      "7. o * X -> o\n",
      "8. l * X -> X\n",
      "9. star2 + l -> +2\n",
      "10. (X + Y) + Z -> X + (Y + Z)\n",
      "11. (X * Y) * Z -> X * (Y * Z)\n",
      "12. l + (X * star(X)) -> star(X)\n",
      "13. (X * Y) + (X * Z) -> X * (Y + Z)\n",
      "14. (X * Y) + (Z * Y) -> (X + Z) * Y\n",
      "15. star(o) -> l\n",
      "16. o + X -> X\n",
      "17. star2 -> +2\n",
      "\n",
      "The conjecture is true! Here is a proof.\n",
      "\n",
      "Axiom 1 (ax): l * X = X.\n",
      "Axiom 2 (ax): star(X) = l + (X * star(X)).\n",
      "\n",
      "Goal 1 (mygoal): star(l) = l + star(l).\n",
      "Proof:\n",
      "  star(l)\n",
      "= { by axiom 2 (ax) }\n",
      "  l + (l * star(l))\n",
      "= { by axiom 1 (ax) }\n",
      "  l + star(l)\n",
      "\n",
      "RESULT: Theorem (the conjecture is true).\n",
      "\n",
      "\n"
     ]
    }
   ],
   "source": [
    "# twee style\n",
    "import subprocess\n",
    "sig = [\n",
    "    \"k : $tType\",\n",
    "    \"* : k * k > k\",\n",
    "    \"+ : k * k > k\"\n",
    "]\n",
    "def lemma(th, by=[]):\n",
    "    with open(\"/tmp/lemma.p\", \"w\") as f:\n",
    "        #for s in sig:\n",
    "        #    f.write(f\"type(type_def, type, {s}).\\n\")\n",
    "        for hyp in by:\n",
    "            f.write(f\"fof(ax,axiom,{hyp}).\\n\")\n",
    "        f.write(f\"fof(mygoal, conjecture, {th}).\\n\")\n",
    "        f.flush()\n",
    "    res = subprocess.run([\"/home/philip/Downloads/twee\", \"/tmp/lemma.p\"], capture_output=True)\n",
    "    print(res.stdout.decode())\n",
    "    print(res.stderr.decode())\n",
    "\n",
    "\n",
    "\n",
    "\n",
    "\n",
    "\n",
    "par_assoc = \"![A,B,C]: A + (B + C) = (A + B) + C\"\n",
    "par_comm = \"![A,B,C] : A + B = B + A\"\n",
    "par_idem = \"![A] : A + A = A\"\n",
    "par_zero = \"![A] : A + o = A\"\n",
    "\n",
    "seq_assoc = \"![A,B,C] : A * (B * C) = (A * B) * C\"\n",
    "seq_rzero = \"![A] : A * o = o\"\n",
    "seq_rone = \"![A] : A * l = A\"\n",
    "seq_lzero = \"![A] : o * A = o\"\n",
    "seq_lone = \"![A] : l * A = A\"\n",
    "\n",
    "rdistrib = \"![A,B,C] : A * (B + C) = (A * B) + (A * C)\"\n",
    "ldistrib = \"![A,B,C] : (B + C) * A = (B * A) + (C * A)\"\n",
    "\n",
    "\n",
    "\n",
    "le_def = \"![A,B] : ((A <= B) = (A + B = B))\"\n",
    "unfold = \"![E] : (star(E) = l + (E * star(E)))\"\n",
    "least_fix = \"![X,E,F] : ((X * F + E <=  X) => (star(E) * F <= X))\"\n",
    "\n",
    "kleene = [par_assoc, par_comm, par_idem, par_zero,\n",
    "    seq_assoc,  seq_rzero, seq_rone, seq_lzero, seq_lone, unfold,\n",
    "    ldistrib, rdistrib] # least_fix, le_def] \n",
    "\n",
    "#lemma(\"x + y = y + x\",by=[par_comm])\n",
    "\n",
    "#lemma(\"star(e) = l + e + star(e)\", by=kleene)\n",
    "#lemma(\"x + y = y + x\",by=kleene)\n",
    "lemma(\"star(l) = l + (l * star(l))\", by=kleene)\n",
    "lemma(\"star(l) = l + star(l)\", by=kleene)\n",
    "#lemma(\"star(l) = \")\n",
    "\n"
   ]
  },
  {
   "cell_type": "markdown",
   "metadata": {},
   "source": [
    "Matrices with kleene algeba elements are also a kleene algebra.\n",
    "Star ought to be (1-A)^-1. The schur complement appears in some shaky frrm\n",
    "A DFA can be reprented by a matrix wth the elements as the thingd between states.\n",
    "Suggestion:\n",
    "\n",
    "Open automata ~ recursive sovng of linear algebra \n",
    "Mnimal automata ~ rank? Some kind of SVD? Projection matrices are the mapping from state to minimal state and the lifting back. 1/0 matrices.representing epsin transtions.\n",
    "\n",
    "The b are observables? 1/0 diagonal in matrx / automata rep\n",
    "\n",
    "Quantum anaogy? Kronckecer product (?). Fock space. Symmettry between subspaces?\n",
    "Path integral? Kleene intergation instead of grassmann integration\n",
    "\n",
    "\n",
    "Network matrices for composition. ABCD scatterg parameters etc.L\n",
    "\n",
    "Linear RelationsFu\n",
    "\n",
    "Fun with semrings\n"
   ]
  }
 ],
 "metadata": {
  "kernelspec": {
   "display_name": "Python 3",
   "language": "python",
   "name": "python3"
  },
  "language_info": {
   "codemirror_mode": {
    "name": "ipython",
    "version": 3
   },
   "file_extension": ".py",
   "mimetype": "text/x-python",
   "name": "python",
   "nbconvert_exporter": "python",
   "pygments_lexer": "ipython3",
   "version": "3.10.12"
  }
 },
 "nbformat": 4,
 "nbformat_minor": 2
}
