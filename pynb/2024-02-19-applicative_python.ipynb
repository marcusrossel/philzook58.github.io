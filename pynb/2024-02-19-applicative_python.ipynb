{
 "cells": [
  {
   "cell_type": "markdown",
   "metadata": {},
   "source": [
    "---\n",
    "date: 2024-02-19\n",
    "title: Applicative Python a la ACL2\n",
    "---\n",
    "\n",
    "I've been reading about [ACL2](https://www.cs.utexas.edu/users/moore/acl2/), a theorem prover designed for common lisp. It has good automation and has been quite successfully applied to significant [software/hardware verification](https://royalsocietypublishing.org/doi/10.1098/rsta.2015.0399) and mathematics.\n",
    "\n",
    "Python and lisp are actually similar in a lot of ways (dynamic typed, GC). Something not sufficiently explored is how to apply the ACL2 design pattern in more popular languages like python. This blog post is some first steps. \n",
    "\n",
    "ACL2's logic is based on an applicative subset of common lisp (pure functions). This design has a number of good points\n",
    "- The constructs of the logic are familiar programming constructs.\n",
    "- Your specs are executable. \"Logical\" specs often take the form of an interpreter, model, or emulator of the system in question. Then you ask about properties of this interpreter.\n",
    "\n",
    "One step towards porting such a thing is describing an applicative subset of python. This is a subset of python that is pure and has a simple(er) mathematical semantics.\n",
    "\n",
    "There is a design balance to be struck here. The subset should be small enough to be easily understood and reasoned about, but large enough to be useful and not feel constraining.\n",
    "\n",
    "I think I tend to use pretty close to pure python programming naturally, so this isn't so bad.\n",
    "\n",
    "\n",
    "## What about the types?\n",
    "\n",
    "Most theorem prover languages are strongly typed. This is not ACL2's design nor would it make sense for the untyped language of python.\n",
    "\n",
    "There is a standard method for relating the two worlds. You can model an untyped language by making an algebraic datatype of all the possible values. This is an inefficient thing to do from the perspective of typed languages, but it works. Sometimes \"untyped\" languages are referred to as [\"unityped\"](https://news.ycombinator.com/item?id=8206562) for this reason\n",
    "\n",
    "In Ocaml, this type would be something like\n",
    "\n",
    "```ocaml\n",
    "type univ = \n",
    " | Cons of univ * univ\n",
    " | Nil\n",
    " | Bool of bool\n",
    " | Float of float\n",
    " | Int of int\n",
    "```\n",
    "\n",
    "In z3, you can build something similar. We could perhaps start to chase down more extensions, like immutable dictionaries or certain kinds of higher order functions (there be dragons here), but this is a good start.\n"
   ]
  },
  {
   "cell_type": "code",
   "execution_count": 1,
   "metadata": {},
   "outputs": [
    {
     "data": {
      "text/html": [
       "cons(string(\"fred\"),\n",
       "     cons(int(42),\n",
       "          cons(cons(bool(True), cons(bool(False), nil)),\n",
       "               nil)))"
      ],
      "text/plain": [
       "cons(string(\"fred\"),\n",
       "     cons(int(42),\n",
       "          cons(cons(bool(True), cons(bool(False), nil)),\n",
       "               nil)))"
      ]
     },
     "execution_count": 1,
     "metadata": {},
     "output_type": "execute_result"
    }
   ],
   "source": [
    "from z3 import *\n",
    "U = Datatype('Univ') # Basic PyObject\n",
    "U.declare('cons', ('car', U), ('cdr', U))\n",
    "U.declare('bool', ('bool_val', BoolSort()))\n",
    "\n",
    "# Interesting but questionable\n",
    "#U.declare('real', ('real_val', RealSort()))\n",
    "#U.declare('float', ('float_val', FloatSort())\n",
    "U.declare('string', ('string_val', StringSort()))\n",
    "U.declare('int', ('int_val', IntSort()))\n",
    "U.declare('nil') # None\n",
    "\n",
    "U = U.create()\n",
    "\n",
    "U.cons(U.string(StringVal('fred')), \n",
    "U.cons(U.int(42), \n",
    "U.cons(U.cons(U.bool(True), \n",
    "       U.cons(U.bool(False), \n",
    "       U.nil)),\n",
    "U.nil)))"
   ]
  },
  {
   "cell_type": "markdown",
   "metadata": {},
   "source": [
    "Note, that while python tuple are flat, it is easiest to model them as linked lists. Hence the python tuple `(\"fred\", 42, (True, False))` would be `Cons(\"fred\", Cons(42, Cons(Cons(True, Cons(False, Nil)), Nil)))`"
   ]
  },
  {
   "cell_type": "markdown",
   "metadata": {},
   "source": [
    "\n",
    "# What about statements?\n",
    "One can take a look at the python ast to get some clarity on what is available as expressions and statements. <https://greentreesnakes.readthedocs.io/en/latest/nodes.html>\n",
    "\n",
    "Python expressions are mostly ok from a purely functional perspective.\n",
    "\n",
    "However, python is not a expression oriented language. It is mostly oriented around statement and imperative programming. To restrict ourselves to only expressions is close to impossible and very awkward.\n",
    "\n",
    "However, I think there is a reasonable subset of imperative python that is effectively pure (applicative). We can consider statements of the following form as syntax sugar for a purely applicative equivalent. \n",
    "\n",
    "- Sequences of assignments are allowed and are interpreted as `let` expressions scoped to the end of the block.\n",
    "- Every sequence of statements is terminated by a `return` or an `if then else` statement. Recursively, the bodies of the `if else` do eventually terminate in a `return`.`\n",
    "- `if` `else` statements are allowed and are interpreted as `if` expressions.\n",
    "- Many expressions are allowed. tuples, strings, integers are immutable and allowed.\n",
    "\n",
    "What is disallowed:\n",
    "- `indexed` assignment like `foo.a = 3` or `bar[7] = 8`\n",
    "- mutable data structures like lists, dicts, sets, etc. We could perhaps skirt by this by just disallowing the mutating functions. The loss of dictionaries is close to unacceptable.\n",
    "- Nonterminating functions. More on this another day.\n",
    "\n",
    "Overloading in python is a nice language feature that can make for some clean and fun library design. This is nice for example when you are writing logical expressions for a theorem prover like z3. It is somewhat unfortunate that you can't overload some particular constructs like `if else`, `and`, `or`, `not` expressions, comprehensions or `for`, `while`, `assert` statements. On choice is you can switch over to a bit clunkier syntax of using functions like `If(cond,the,else)`\n",
    "I did show a style of doing this for a weakest precondition analysis here. <https://www.philipzucker.com/weakest-precondition-z3py/>\n",
    "But a powerful, intriguing, but probably in poor taste is to get your hands on the python syntax tree. You can do this, python has very high amounts of metaprogrammability.\n",
    "\n",
    "Here I wrote some functions and a decorator to recognize the aforementioned applicative python and convert it to a z3 expression.\n",
    "\n",
    "An awkward piece is that everything needs to be wrapped in order to use the `Univ` unitype. I would need to write down axioms to define these."
   ]
  },
  {
   "cell_type": "code",
   "execution_count": 13,
   "metadata": {},
   "outputs": [
    {
     "name": "stdout",
     "output_type": "stream",
     "text": [
      "Applypydef foo(x) == Not(x)\n",
      "Applypydef bar(x, y) == cons(Add(x, int(3)),\n",
      "     cons(int(4),\n",
      "          cons(cons(int(1),\n",
      "                    cons(int(2),\n",
      "                         cons(int(3),\n",
      "                              cons(Add(int(4), int(5)), nil)))),\n",
      "               nil)))\n",
      "Applypydef fact(n) == Uite(Eq(n, int(0)), int(1), Mult(n, fact(Sub(n, int(1)))))\n"
     ]
    },
    {
     "data": {
      "text/html": [
       "fact(int(3))"
      ],
      "text/plain": [
       "fact(int(3))"
      ]
     },
     "execution_count": 13,
     "metadata": {},
     "output_type": "execute_result"
    }
   ],
   "source": [
    "from ast import *\n",
    "import ast\n",
    "import z3\n",
    "import functools\n",
    "def applpy_const(x):\n",
    "    # helper to convert from python value to Univ value\n",
    "    if isinstance(x, int):\n",
    "        return U.int(z3.IntVal(x))\n",
    "    elif isinstance(x, str):\n",
    "        return U.string(z3.StringVal(x))\n",
    "    elif isinstance(x, bool):\n",
    "        return U.bool(z3.BoolVal(x))\n",
    "    elif isinstance(x,tuple):\n",
    "        assert False # todo\n",
    "    else:\n",
    "        raise ValueError(\"Unknown constant\", x)\n",
    "\n",
    "def op_pretty(op):\n",
    "    # Hack to convert str rep of binop to just name\n",
    "    #<class 'ast.Eq'>\n",
    "    return str(type(op))[12:-2]\n",
    "\n",
    "def uite(test, then, els):\n",
    "    # If then else construct that uses Univ\n",
    "    f = z3.Function(\"Uite\", U, U, U, U)\n",
    "    return f(test, then, els)\n",
    "\n",
    "def applpy_expr(expr: ast.expr) -> z3.ExprRef:\n",
    "    \"\"\" Expressions are mostly unproblematic to convert to z3. We could even eval them\"\"\"\n",
    "    match expr:\n",
    "        case Constant(value, kind=None):\n",
    "            return applpy_const(value)\n",
    "        case UnaryOp(op, operand):\n",
    "            assert type(op) in (UAdd, USub, Not, Invert)\n",
    "            f = z3.Function(op_pretty(op), U, U)\n",
    "            return f(applpy_expr(operand))\n",
    "        case BinOp(left, op, right):\n",
    "            assert type(op) in (Add, Sub, Mult, MatMult, Div, Mod, Pow, LShift, RShift, BitOr, BitXor, BitAnd, FloorDiv)\n",
    "            f = z3.Function(op_pretty(op), U, U, U)\n",
    "            return f(applpy_expr(left), applpy_expr(right))\n",
    "        case BoolOp(op, values):\n",
    "            assert type(op) in (And, Or)\n",
    "            f = z3.Function(op_pretty(op), U, U, U)\n",
    "            return functools.reduce(f, map(applpy_expr, values))\n",
    "        case Compare(left, [op], [right]):\n",
    "            #for op in ops:\n",
    "            #    assert type(op) in (Eq, NotEq, Lt, LtE, Gt, GtE, Is, IsNot, In, NotIn)\n",
    "            #print(dump(left))\n",
    "            #acc = left\n",
    "            #res = U.bool(True)\n",
    "            #UAnd = z3.Function(repr(type(op)), U, U, U)\n",
    "            # TODO handle multiple ops\n",
    "            #for op, right in zip(ops, comparators):\n",
    "            #    f = z3.Function(repr(type(op)), U, U, U)\n",
    "            #    res =   UAnd(res, cur, applpy_expr(right)\n",
    "            f = z3.Function(op_pretty(op), U, U, U)\n",
    "            return f(applpy_expr(left), applpy_expr(right))\n",
    "        case Call(Name(id,ctx), args, keywords):\n",
    "            assert keywords == []\n",
    "            targs = [U] * (len(args) + 1)\n",
    "            f = z3.Function(id, *targs)\n",
    "            return f(*map(applpy_expr, args))\n",
    "        case IfExp(test, body, orelse):\n",
    "            return uite(applpy_expr(test), applpy_expr(body), applpy_expr(orelse))\n",
    "        case Name(id, ctx):\n",
    "            return z3.Const(id, U)\n",
    "        case Tuple(elts, ctx):\n",
    "            res = U.nil\n",
    "            for e in reversed(elts):\n",
    "                res = U.cons(applpy_expr(e), res)\n",
    "            return res\n",
    "        case x:\n",
    "            print(\"non applpy expresion\", x)\n",
    "            assert False\n",
    "\n",
    "def applpy_stmts(stmts: list[ast.stmt]) -> z3.ExprRef:\n",
    "    match stmts[-1]:\n",
    "        case Return(value):\n",
    "            res = applpy_expr(value)\n",
    "        case If(test, body, orelse):\n",
    "            res = uite(applpy_expr(test), applpy_stmts(body), applpy_stmts(orelse))\n",
    "        case _:\n",
    "            raise ValueError(\"last statement must be a return or ifthenelse\", stmts[-1])\n",
    "    for stmt in stmts[-2::-1]:\n",
    "        match stmt:\n",
    "            case Assign([Name(id,ctx)], value):\n",
    "                e = applpy_expr(value)\n",
    "                res = z3.substitute(res, (z3.Const(id, U), e))\n",
    "            case _:\n",
    "                raise ValueError(\"intermediate statement must be assignment\", dump(stmt))\n",
    "    return res\n",
    "\n",
    "\n",
    "applpy_db = {}\n",
    "def fundef(ast : ast.Module):\n",
    "    # some nasty unpacking from module and functiondef to grab arguments\n",
    "    assert len(ast.body) == 1\n",
    "    ast = ast.body[0]\n",
    "    assert isinstance(ast, FunctionDef)\n",
    "    args  = [arg.arg for arg in ast.args.args]\n",
    "    assert ast.args.posonlyargs == [] and ast.args.kwonlyargs == []\n",
    "    targs = [U] * (len(args) + 1)\n",
    "    f = z3.Function(ast.name,*targs)\n",
    "    print(\"Applypydef\", f(*map(lambda x: z3.Const(x,U), args)), \"==\", applpy_stmts(ast.body))\n",
    "    applpy_db[ast.name] = (ast.args, applpy_stmts(ast.body))\n",
    "    return f\n",
    "\n",
    "# inspect lets us grab the source of a function\n",
    "import inspect\n",
    "\n",
    "def applpy(f):\n",
    "    \"\"\"Decorator to grab and register applicative python function\"\"\"\n",
    "    fun = ast.parse(inspect.getsource(f))\n",
    "    z3_f = fundef(fun)\n",
    "    return z3_f\n",
    "\n",
    "@applpy\n",
    "def foo(x):\n",
    "    return not x\n",
    "\n",
    "@applpy\n",
    "def bar(x,y):\n",
    "    z = 3\n",
    "    q = (1,2,3,4 + 5)\n",
    "    return x + z, 4, q\n",
    "\n",
    "@applpy\n",
    "def fact(n):\n",
    "    if n == 0:\n",
    "        return 1\n",
    "    else:\n",
    "        return n * fact(n-1)\n",
    "# Hmm. Using python bytecode might be interesting.\n",
    "# Combined with C interpreter...\n",
    "fact(U.int(3))\n",
    "#act(3)"
   ]
  },
  {
   "cell_type": "code",
   "execution_count": 4,
   "metadata": {},
   "outputs": [
    {
     "data": {
      "text/plain": [
       "ast.Module"
      ]
     },
     "execution_count": 4,
     "metadata": {},
     "output_type": "execute_result"
    }
   ],
   "source": [
    "type(ast.parse(\"def foo(x): return x + 1\"))"
   ]
  },
  {
   "cell_type": "markdown",
   "metadata": {},
   "source": [
    "# What about Errors?\n",
    "Indexing into a field that does not exist for example. What do we do? The ACL2 way is totalizing the function by returning `None` basically in this case. This does not strike me as elegant, but it's workable.\n",
    "\n",
    "# Bits and Bobbles\n",
    "\n",
    "I'm undecided how to deal with generators. One could perhaps treat them as coinductive, but that is a can of worms.\n",
    "\n",
    "I haven't handled unpacking or python case statements. These are very useful, and should be unproblematic with the caveat they failing to unppack mst result in some default value error.\n",
    "\n",
    "Class might be ok if immutable.\n",
    "\n",
    "To be clear, if one really wanted to attack the totality of python as it stands, you'd have to go a more Hoare logic / weakest precondtion route.\n",
    "\n",
    "- WhyML has a [pseudo python](https://www.why3.org/doc/input_formats.html#micro-python) notation, \n",
    "- Viper has Nagini https://github.com/marcoeilers/nagini\n",
    "- https://deal.readthedocs.io/index.html \n",
    "- https://github.com/pschanely/CrossHair\n",
    "\n",
    "\n",
    "I'd like to use external termination checkers like aprove.\n",
    "\n",
    "[Imandra](https://docs.imandra.ai/imandra-docs/notebooks/welcome/) has a language that is like an acl2 for Ocaml. It actually can be imported as a python package. Maybe what I want is to just pretty print applicative python as ocaml and toss it in there.\n"
   ]
  },
  {
   "cell_type": "code",
   "execution_count": 9,
   "metadata": {},
   "outputs": [],
   "source": [
    "import imandra\n",
    "\n",
    "with imandra.session() as s:\n",
    "    verify_result = s.verify(\"fun x -> x * x = 0 \")\n",
    "print(\"\\n\", verify_result)\n",
    "# oh wait... Its only a cloud service? I can't run it locally?"
   ]
  },
  {
   "cell_type": "markdown",
   "metadata": {},
   "source": [
    " They are untyped and garbage collected. There are first class functions and other features that are. Python is missing the rich macro system of lisp. Somehow or other, common lisp has a reputation of being performant because it has good jits I believe.\n",
    "\n",
    "These points are shared by common theorem proving languages like Coq, Isabelle, and Agda. Proof by reflection. However, these languages are not as familiar to the average programmer. They are more ambitious in their descriptive power as well.\n",
    "\n",
    "https://news.ycombinator.com/item?id=1803815 norvig and python\n"
   ]
  },
  {
   "cell_type": "markdown",
   "metadata": {},
   "source": [
    "# ACL2\n",
    "\n",
    "ACL2 is a theorem prover in Common Lisp. The logic is a simplified and purified variation of common lisp itself.\n",
    "\n",
    "It is a very powerful (in the automation and polish sense) semiautomated system. The logic itself it offers is quite weak by logical standards. This perhaps good\n",
    "\n",
    "It is somewhat natural to look to this design for inspiration for one that might be appropriate for python. Python shares many properties with lisp. It's a dynamic language with first class functions.\n",
    "\n",
    "- Untyped lispy terms\n",
    "- Quantifier free\n"
   ]
  },
  {
   "cell_type": "code",
   "execution_count": 1,
   "metadata": {},
   "outputs": [
    {
     "name": "stdout",
     "output_type": "stream",
     "text": [
      "['__bool__', '__class__', '__copy__', '__deepcopy__', '__del__', '__delattr__', '__dict__', '__dir__', '__doc__', '__eq__', '__format__', '__ge__', '__getattribute__', '__gt__', '__hash__', '__init__', '__init_subclass__', '__le__', '__lt__', '__module__', '__ne__', '__new__', '__nonzero__', '__reduce__', '__reduce_ex__', '__repr__', '__setattr__', '__sizeof__', '__str__', '__subclasshook__', '__weakref__', '_repr_html_', 'accessor', 'as_ast', 'ast', 'bool', 'bool_val', 'car', 'cast', 'cdr', 'cons', 'constructor', 'ctx', 'ctx_ref', 'eq', 'get_id', 'hash', 'int', 'int_val', 'is_bool', 'is_cons', 'is_int', 'is_nil', 'is_real', 'is_string', 'kind', 'name', 'nil', 'num_constructors', 'real', 'real_val', 'recognizer', 'sexpr', 'string', 'string_val', 'subsort', 'translate', 'use_pp']\n",
      "True\n",
      "1\n",
      "cons(int(1), nil)\n"
     ]
    },
    {
     "data": {
      "text/plain": [
       "'\\nFunction(\"order\", U, U, BoolSort())\\n= RecursiveFunc()\\nIf(is_cons(x),\\n  And(e0_ordinalp(car(x)), car(x) != U.int(0), \\n      e0_ordinalp(cdr(x)), \\n      Or(atom(cdr(x)), \\n      Not(e0-ord-<(car(x), cadr(x)))),\\n  And(integerp(x), U.int_val(x) >= 0)))\\n'"
      ]
     },
     "execution_count": 1,
     "metadata": {},
     "output_type": "execute_result"
    }
   ],
   "source": [
    "from z3 import *\n",
    "U = Datatype('Univ') # PyObject\n",
    "U.declare('cons', ('car', U), ('cdr', U))\n",
    "U.declare('bool', ('bool_val', BoolSort()))\n",
    "U.declare('real', ('real_val', RealSort()))\n",
    "U.declare('string', ('string_val', StringSort()))\n",
    "U.declare('int', ('int_val', IntSort()))\n",
    "U.declare('nil') # None\n",
    "# float\n",
    "U = U.create()\n",
    "print(dir(U))\n",
    "print(simplify(U.is_bool(U.bool(True))))\n",
    "print(simplify(U.int_val(U.int(1))))\n",
    "print(U.cons(U.int(1), U.nil))\n",
    "\n",
    "# Can I add operations?\n",
    "#U.__add__ = lambda self, other: U.int(self, other)\n",
    "car = U.car\n",
    "cdr = U.cdr\n",
    "cons = U.cons\n",
    "nil = U.nil\n",
    "\n",
    "def atom(x):\n",
    "    return Not(U.is_cons(x))\n",
    "def consp(x):\n",
    "    return U.is_cons(x)\n",
    "def integerp(x):\n",
    "    return U.is_int(x)\n",
    "\n",
    "#Function(\"ite\")\n",
    "\n",
    "\"\"\"\n",
    "Function(\"order\", U, U, BoolSort())\n",
    "= RecursiveFunc()\n",
    "If(is_cons(x),\n",
    "  And(e0_ordinalp(car(x)), car(x) != U.int(0), \n",
    "      e0_ordinalp(cdr(x)), \n",
    "      Or(atom(cdr(x)), \n",
    "      Not(e0-ord-<(car(x), cadr(x)))),\n",
    "  And(integerp(x), U.int_val(x) >= 0)))\n",
    "\"\"\""
   ]
  },
  {
   "cell_type": "code",
   "execution_count": 14,
   "metadata": {},
   "outputs": [
    {
     "ename": "ValueError",
     "evalue": "('last statement must be a return or ifthenelse', <ast.Match object at 0x7ffaeca2f940>)",
     "output_type": "error",
     "traceback": [
      "\u001b[0;31m---------------------------------------------------------------------------\u001b[0m",
      "\u001b[0;31mValueError\u001b[0m                                Traceback (most recent call last)",
      "Cell \u001b[0;32mIn [14], line 2\u001b[0m\n\u001b[1;32m      1\u001b[0m \u001b[38;5;129m@applpy\u001b[39m\n\u001b[0;32m----> 2\u001b[0m \u001b[38;5;28;01mdef\u001b[39;00m \u001b[38;5;21mfoo\u001b[39m(x):\n\u001b[1;32m      3\u001b[0m     \u001b[38;5;28;01mmatch\u001b[39;00m x:\n\u001b[1;32m      4\u001b[0m         \u001b[38;5;28;01mcase\u001b[39;00m \u001b[38;5;124m\"\u001b[39m\u001b[38;5;124mfred\u001b[39m\u001b[38;5;124m\"\u001b[39m:\n",
      "Cell \u001b[0;32mIn [13], line 114\u001b[0m, in \u001b[0;36mapplpy\u001b[0;34m(f)\u001b[0m\n\u001b[1;32m    112\u001b[0m \u001b[38;5;250m\u001b[39m\u001b[38;5;124;03m\"\"\"Decorator to grab and register applicative python function\"\"\"\u001b[39;00m\n\u001b[1;32m    113\u001b[0m fun \u001b[38;5;241m=\u001b[39m ast\u001b[38;5;241m.\u001b[39mparse(inspect\u001b[38;5;241m.\u001b[39mgetsource(f))\n\u001b[0;32m--> 114\u001b[0m z3_f \u001b[38;5;241m=\u001b[39m \u001b[43mfundef\u001b[49m\u001b[43m(\u001b[49m\u001b[43mfun\u001b[49m\u001b[43m)\u001b[49m\n\u001b[1;32m    115\u001b[0m \u001b[38;5;28;01mreturn\u001b[39;00m z3_f\n",
      "Cell \u001b[0;32mIn [13], line 104\u001b[0m, in \u001b[0;36mfundef\u001b[0;34m(ast)\u001b[0m\n\u001b[1;32m    102\u001b[0m targs \u001b[38;5;241m=\u001b[39m [U] \u001b[38;5;241m*\u001b[39m (\u001b[38;5;28mlen\u001b[39m(args) \u001b[38;5;241m+\u001b[39m \u001b[38;5;241m1\u001b[39m)\n\u001b[1;32m    103\u001b[0m f \u001b[38;5;241m=\u001b[39m z3\u001b[38;5;241m.\u001b[39mFunction(ast\u001b[38;5;241m.\u001b[39mname,\u001b[38;5;241m*\u001b[39mtargs)\n\u001b[0;32m--> 104\u001b[0m \u001b[38;5;28mprint\u001b[39m(\u001b[38;5;124m\"\u001b[39m\u001b[38;5;124mApplypydef\u001b[39m\u001b[38;5;124m\"\u001b[39m, f(\u001b[38;5;241m*\u001b[39m\u001b[38;5;28mmap\u001b[39m(\u001b[38;5;28;01mlambda\u001b[39;00m x: z3\u001b[38;5;241m.\u001b[39mConst(x,U), args)), \u001b[38;5;124m\"\u001b[39m\u001b[38;5;124m==\u001b[39m\u001b[38;5;124m\"\u001b[39m, \u001b[43mapplpy_stmts\u001b[49m\u001b[43m(\u001b[49m\u001b[43mast\u001b[49m\u001b[38;5;241;43m.\u001b[39;49m\u001b[43mbody\u001b[49m\u001b[43m)\u001b[49m)\n\u001b[1;32m    105\u001b[0m applpy_db[ast\u001b[38;5;241m.\u001b[39mname] \u001b[38;5;241m=\u001b[39m (ast\u001b[38;5;241m.\u001b[39margs, applpy_stmts(ast\u001b[38;5;241m.\u001b[39mbody))\n\u001b[1;32m    106\u001b[0m \u001b[38;5;28;01mreturn\u001b[39;00m f\n",
      "Cell \u001b[0;32mIn [13], line 83\u001b[0m, in \u001b[0;36mapplpy_stmts\u001b[0;34m(stmts)\u001b[0m\n\u001b[1;32m     81\u001b[0m         res \u001b[38;5;241m=\u001b[39m uite(applpy_expr(test), applpy_stmts(body), applpy_stmts(orelse))\n\u001b[1;32m     82\u001b[0m     \u001b[38;5;28;01mcase\u001b[39;00m\u001b[38;5;250m \u001b[39m\u001b[38;5;28;01m_\u001b[39;00m:\n\u001b[0;32m---> 83\u001b[0m         \u001b[38;5;28;01mraise\u001b[39;00m \u001b[38;5;167;01mValueError\u001b[39;00m(\u001b[38;5;124m\"\u001b[39m\u001b[38;5;124mlast statement must be a return or ifthenelse\u001b[39m\u001b[38;5;124m\"\u001b[39m, stmts[\u001b[38;5;241m-\u001b[39m\u001b[38;5;241m1\u001b[39m])\n\u001b[1;32m     84\u001b[0m \u001b[38;5;28;01mfor\u001b[39;00m stmt \u001b[38;5;129;01min\u001b[39;00m stmts[\u001b[38;5;241m-\u001b[39m\u001b[38;5;241m2\u001b[39m::\u001b[38;5;241m-\u001b[39m\u001b[38;5;241m1\u001b[39m]:\n\u001b[1;32m     85\u001b[0m     \u001b[38;5;28;01mmatch\u001b[39;00m stmt:\n",
      "\u001b[0;31mValueError\u001b[0m: ('last statement must be a return or ifthenelse', <ast.Match object at 0x7ffaeca2f940>)"
     ]
    }
   ],
   "source": [
    "@applpy\n",
    "def foo(x):\n",
    "    match x:\n",
    "        case \"fred\":\n",
    "            return 7\n",
    "        case (y,z):\n",
    "            return 1\n",
    "        case _:\n",
    "            return 10"
   ]
  },
  {
   "cell_type": "markdown",
   "metadata": {},
   "source": [
    "#\n",
    "One of the appeals of the ACL2 approach is that it is an pplicative susbet of the underlying language common lisp. Then your specs or models are programs by definition and you can \"extract\" these simulators. Also perhas some kind of normalization by eval?\n",
    "\n",
    "\n"
   ]
  },
  {
   "cell_type": "markdown",
   "metadata": {},
   "source": [
    "# Applicative Python\n",
    "If I wanted to really hew close to ACL2's design, I could take a subset of python that is purely functional. It'll be harder.\n",
    "\n",
    "ApplPy (apple-pie)\n",
    "\n",
    "So I could just use python expressions and be ok.\n",
    "But \"let\" statements are pretty sweet.\n",
    "\n",
    "I could use assignment but only a sequence of them such that the last is a return.\n",
    "No \n",
    "\n",
    "if expressions are wonky. I'd like to use if statement syntax.\n",
    "If I allow joining of the if, it's annoying. I could restrict variables to be scoped to a block (local if) ?\n",
    "These weird restrictions might be hard to enforce\n",
    "\n",
    "Could also desugar loops to recursive calls.\n"
   ]
  },
  {
   "cell_type": "code",
   "execution_count": 8,
   "metadata": {},
   "outputs": [
    {
     "name": "stdout",
     "output_type": "stream",
     "text": [
      "Expression(body=UnaryOp(op=Not(), operand=Constant(value=3)))\n",
      "['__annotations__', '__builtins__', '__call__', '__class__', '__closure__', '__code__', '__defaults__', '__delattr__', '__dict__', '__dir__', '__doc__', '__eq__', '__format__', '__ge__', '__get__', '__getattribute__', '__globals__', '__gt__', '__hash__', '__init__', '__init_subclass__', '__kwdefaults__', '__le__', '__lt__', '__module__', '__name__', '__ne__', '__new__', '__qualname__', '__reduce__', '__reduce_ex__', '__repr__', '__setattr__', '__sizeof__', '__str__', '__subclasshook__']\n",
      "['__class__', '__delattr__', '__dir__', '__doc__', '__eq__', '__format__', '__ge__', '__getattribute__', '__gt__', '__hash__', '__init__', '__init_subclass__', '__le__', '__lt__', '__ne__', '__new__', '__reduce__', '__reduce_ex__', '__repr__', '__setattr__', '__sizeof__', '__str__', '__subclasshook__', 'co_argcount', 'co_cellvars', 'co_code', 'co_consts', 'co_filename', 'co_firstlineno', 'co_flags', 'co_freevars', 'co_kwonlyargcount', 'co_lines', 'co_linetable', 'co_lnotab', 'co_name', 'co_names', 'co_nlocals', 'co_posonlyargcount', 'co_stacksize', 'co_varnames', 'replace']\n",
      "b'|\\x00\\x0c\\x00S\\x00'\n",
      "@applpy\n",
      "def foo(x):\n",
      "    return not x\n",
      "\n",
      "Module(body=[FunctionDef(name='foo', args=arguments(posonlyargs=[], args=[arg(arg='x')], kwonlyargs=[], kw_defaults=[], defaults=[]), body=[Return(value=UnaryOp(op=Not(), operand=Name(id='x', ctx=Load())))], decorator_list=[Name(id='applpy', ctx=Load())])], type_ignores=[])\n",
      "foo\n",
      "<ast.arguments object at 0x7f50a81efac0>\n",
      "[<ast.Return object at 0x7f5083aa41f0>]\n",
      "UnaryOp(op=Not(), operand=Name(id='x', ctx=Load()))\n",
      "<ast.Not object at 0x7f50afc17c70>\n",
      "<class 'ast.Not'>\n",
      "<class 'ast.Not'>\n",
      "Name(id='x', ctx=Load())\n",
      "x\n",
      "[<ast.Name object at 0x7f5083aa4280>]\n",
      "None\n",
      "None\n",
      "None\n"
     ]
    }
   ],
   "source": [
    "# https://greentreesnakes.readthedocs.io/en/latest/nodes.html \n",
    "from ast import *\n",
    "import z3\n",
    "\n",
    "def applpy_const(x):\n",
    "    if isinstance(x, int):\n",
    "        return U.int(z3.IntVal(x))\n",
    "    else:\n",
    "        raise ValueError(\"unsupported constant\", x)\n",
    "def applpy_expr(expr):\n",
    "    match expr:\n",
    "        case Constant(value, kind=None):\n",
    "            print(value)\n",
    "            return applpy_const(value)\n",
    "        case UnaryOp(op, operand):\n",
    "            print(op)\n",
    "            print(Not)\n",
    "            assert type(op) in (UAdd, USub, Not, Invert)\n",
    "            print(type(op))\n",
    "            print(dump(operand))\n",
    "            f = z3.Function(str(op), U, U)\n",
    "            return f(applpy_expr(operand))\n",
    "        case BinOp(left, op, right):\n",
    "            assert op in (Add, Sub, Mult, MatMult, Div, Mod, Pow, LShift, RShift, BitOr, BitXor, BitAnd, FloorDiv)\n",
    "            print(dump(left))\n",
    "            print(dump(right))\n",
    "            f = z3.Function(str(op), U, U, U)\n",
    "            return f(applpy_expr(left), applpy_expr(right))\n",
    "        case BoolOp(op, values):\n",
    "            assert op in (And, Or)\n",
    "            for v in values:\n",
    "                print(dump(v))\n",
    "        case Compare(left, ops, comparators):\n",
    "            for op in ops:\n",
    "                assert op in (Eq, NotEq, Lt, LtE, Gt, GtE, Is, IsNot, In, NotIn)\n",
    "            print(dump(left))\n",
    "            for c in comparators:\n",
    "                print(dump(c))\n",
    "        case Call(func, args, keywords):\n",
    "            assert keywords == []\n",
    "            print(dump(func))\n",
    "            for a in args:\n",
    "                print(dump(a))\n",
    "            targs = [U] * (len(args) + 1)\n",
    "            f = z3.Function(\"call\", *targs)\n",
    "            f(*map(applpy_expr, args))\n",
    "        case IfExp(test, body, orelse):\n",
    "            print(dump(test))\n",
    "            print(dump(body))\n",
    "            print(dump(orelse))\n",
    "            \n",
    "        case Attribute(value, attr, ctx):\n",
    "            print(dump(value))\n",
    "        case Subscript(value, slice, ctx):\n",
    "            print(dump(value))\n",
    "        case Name(id, ctx):\n",
    "            print(id)\n",
    "            return z3.Const(id, U)\n",
    "        case List(elts, ctx):\n",
    "            for e in elts:\n",
    "                print(dump(e))\n",
    "        case Tuple(elts, ctx):\n",
    "            for e in elts:\n",
    "                print(dump(e))\n",
    "        case Dict(keys, values):\n",
    "            for k, v in zip(keys, values):\n",
    "                print(dump(k))\n",
    "                print(dump(v))\n",
    "        case Set(elts):\n",
    "            for e in elts:\n",
    "                print(dump(e))\n",
    "        case ListComp(elt, generators):\n",
    "            print(dump(elt))\n",
    "            for g in generators:\n",
    "                print(dump(g))\n",
    "        case SetComp(elt, generators):\n",
    "            print(dump(elt))\n",
    "            for g in generators:\n",
    "                print(dump(g))\n",
    "        case DictComp(key, value, generators):\n",
    "            print(dump(key))\n",
    "            print(dump(value))\n",
    "            for g in generators:\n",
    "                print(dump(g))\n",
    "        case GeneratorExp(elt, generators):\n",
    "            print(dump(elt))\n",
    "            for g in generators:\n",
    "                print(dump(g))\n",
    "        case comprehension(target, iter, ifs, is_async):\n",
    "            print(dump(target))\n",
    "            print(dump(iter))\n",
    "            for i in ifs:\n",
    "                print(dump(i))\n",
    "        # not going to handle Await, Yield, YieldFrom, FormattedValue, JoinedStr\n",
    "        case x:\n",
    "            print(\"non applpy expresion\", x)\n",
    "            assert False\n",
    "\n",
    "def lvalue(expr):\n",
    "    match expr:\n",
    "        case Name(id, Store):\n",
    "            print(id)\n",
    "        # Starred could be handled.\n",
    "        #case Tuple(elts, Store):\n",
    "        case x:\n",
    "            print(\"disallowed lvalue\", x)\n",
    "            assert False\n",
    "\n",
    "def applpy_stmt(stmt):\n",
    "    match stmt:\n",
    "        case Assign(targets, value):\n",
    "            for t in targets:\n",
    "                print(dump(t))\n",
    "            print(dump(value))\n",
    "        case Return(value):\n",
    "            print(dump(value))\n",
    "            applpy_expr(value)\n",
    "        case _:\n",
    "            assert False\n",
    "\n",
    "def fundef(ast):\n",
    "    assert isinstance(ast, Module)\n",
    "    assert len(ast.body) == 1\n",
    "    ast = ast.body[0]\n",
    "    assert isinstance(ast, FunctionDef)\n",
    "    print(ast.name)\n",
    "    print(ast.args)\n",
    "    assert ast.args.posonlyargs == [] and ast.args.kwonlyargs == []\n",
    "    print(ast.body)\n",
    "    for stmt in ast.body:\n",
    "        applpy_stmt(stmt)\n",
    "    print(ast.decorator_list)\n",
    "    print(ast.returns)\n",
    "    print(ast.type_comment)\n",
    "    \n",
    "tree = parse(\"not 3\", mode=\"eval\")\n",
    "print(dump(tree))\n",
    "#apy(tree.body)\n",
    "\n",
    "import inspect\n",
    "def applpy(f):\n",
    "    print(dir(f))\n",
    "    print(dir(f.__code__))\n",
    "    print(f.__code__.co_code)\n",
    "    print(inspect.getsource(f))\n",
    "    fun = parse(inspect.getsource(f))\n",
    "    print(dump(fun))\n",
    "    print(fundef(fun))\n",
    "    return f\n",
    "\n",
    "@applpy\n",
    "def foo(x):\n",
    "    return not x\n",
    "\n",
    "# Hmm. Using python bytecode might be interesting.\n",
    "# Combined with C interpreter...\n",
    "\n"
   ]
  },
  {
   "cell_type": "code",
   "execution_count": 101,
   "metadata": {},
   "outputs": [
    {
     "name": "stdout",
     "output_type": "stream",
     "text": [
      "Applypydef fact(n) == ite(Eq(n, int(0)), int(1), Mult(n, fact(Sub(n, int(1)))))\n"
     ]
    },
    {
     "data": {
      "text/html": [
       "fact(int(3))"
      ],
      "text/plain": [
       "fact(int(3))"
      ]
     },
     "execution_count": 101,
     "metadata": {},
     "output_type": "execute_result"
    }
   ],
   "source": []
  },
  {
   "cell_type": "code",
   "execution_count": null,
   "metadata": {},
   "outputs": [],
   "source": [
    "def is_int(x):\n",
    "    return U.bool(U.is_int(x))\n",
    "def pred(f):\n",
    "    def res(*args):\n",
    "        return U.bool(f(*args))\n",
    "    return res\n",
    "Add_ = RecFunction('UAdd',U,U)\n",
    "n = FreshConst(U)\n",
    "RecAddDefinition(Negate, ,  z3.If(   , , U.int(   )  )\n"
   ]
  },
  {
   "cell_type": "code",
   "execution_count": 102,
   "metadata": {},
   "outputs": [],
   "source": [
    "import pysmt\n"
   ]
  },
  {
   "cell_type": "code",
   "execution_count": 37,
   "metadata": {},
   "outputs": [
    {
     "data": {
      "text/plain": [
       "[5, 4, 3, 2, 1]"
      ]
     },
     "execution_count": 37,
     "metadata": {},
     "output_type": "execute_result"
    }
   ],
   "source": [
    "[1,2,3,4,5,6][-2::-1]"
   ]
  },
  {
   "cell_type": "code",
   "execution_count": 46,
   "metadata": {},
   "outputs": [
    {
     "ename": "TypeError",
     "evalue": "expected AST, got 'type'",
     "output_type": "error",
     "traceback": [
      "\u001b[0;31m---------------------------------------------------------------------------\u001b[0m",
      "\u001b[0;31mTypeError\u001b[0m                                 Traceback (most recent call last)",
      "Cell \u001b[0;32mIn [46], line 1\u001b[0m\n\u001b[0;32m----> 1\u001b[0m dump(Add)\n",
      "File \u001b[0;32m/usr/lib/python3.10/ast.py:174\u001b[0m, in \u001b[0;36mdump\u001b[0;34m(node, annotate_fields, include_attributes, indent)\u001b[0m\n\u001b[1;32m    171\u001b[0m     \u001b[38;5;28;01mreturn\u001b[39;00m \u001b[38;5;28mrepr\u001b[39m(node), \u001b[38;5;28;01mTrue\u001b[39;00m\n\u001b[1;32m    173\u001b[0m \u001b[38;5;28;01mif\u001b[39;00m \u001b[38;5;129;01mnot\u001b[39;00m \u001b[38;5;28misinstance\u001b[39m(node, AST):\n\u001b[0;32m--> 174\u001b[0m     \u001b[38;5;28;01mraise\u001b[39;00m \u001b[38;5;167;01mTypeError\u001b[39;00m(\u001b[38;5;124m'\u001b[39m\u001b[38;5;124mexpected AST, got \u001b[39m\u001b[38;5;132;01m%r\u001b[39;00m\u001b[38;5;124m'\u001b[39m \u001b[38;5;241m%\u001b[39m node\u001b[38;5;241m.\u001b[39m\u001b[38;5;18m__class__\u001b[39m\u001b[38;5;241m.\u001b[39m\u001b[38;5;18m__name__\u001b[39m)\n\u001b[1;32m    175\u001b[0m \u001b[38;5;28;01mif\u001b[39;00m indent \u001b[38;5;129;01mis\u001b[39;00m \u001b[38;5;129;01mnot\u001b[39;00m \u001b[38;5;28;01mNone\u001b[39;00m \u001b[38;5;129;01mand\u001b[39;00m \u001b[38;5;129;01mnot\u001b[39;00m \u001b[38;5;28misinstance\u001b[39m(indent, \u001b[38;5;28mstr\u001b[39m):\n\u001b[1;32m    176\u001b[0m     indent \u001b[38;5;241m=\u001b[39m \u001b[38;5;124m'\u001b[39m\u001b[38;5;124m \u001b[39m\u001b[38;5;124m'\u001b[39m \u001b[38;5;241m*\u001b[39m indent\n",
      "\u001b[0;31mTypeError\u001b[0m: expected AST, got 'type'"
     ]
    }
   ],
   "source": [
    "dump(Add)"
   ]
  },
  {
   "cell_type": "code",
   "execution_count": 21,
   "metadata": {},
   "outputs": [
    {
     "data": {
      "text/plain": [
       "ast.Add"
      ]
     },
     "execution_count": 21,
     "metadata": {},
     "output_type": "execute_result"
    }
   ],
   "source": [
    "Add"
   ]
  },
  {
   "cell_type": "code",
   "execution_count": null,
   "metadata": {},
   "outputs": [],
   "source": [
    "#should  applypy decorator overload the function in question?\n",
    "\"\"\"\n",
    "    def res(*args):\n",
    "        if all(not isinstance(args, z3.AstRef) for arg in args):\n",
    "           f(*args)\n",
    "        else:\n",
    "           z3_f(*args) \n",
    "    return res\n",
    "    \"\"\""
   ]
  },
  {
   "cell_type": "markdown",
   "metadata": {},
   "source": [
    "# Termination\n",
    "We want the ability to make recursive definitions of functions.\n",
    "Without carefulness these definitions may not terminate or be partial in other ways\n",
    "This is something to be careful about.\n",
    "\n",
    "AProve\n",
    "Dafny termination\n",
    "ACL2 termination. Ordinal.\n",
    "\n",
    "Show how to do manually.\n",
    "Then pythonize\n",
    "https://aprove.informatik.rwth-aachen.de/"
   ]
  },
  {
   "cell_type": "code",
   "execution_count": 3,
   "metadata": {},
   "outputs": [
    {
     "name": "stdout",
     "output_type": "stream",
     "text": [
      "Writing /tmp/ex.trs\n"
     ]
    }
   ],
   "source": [
    "%%file /tmp/ex.trs\n",
    "(VAR x y)\n",
    "(RULES\n",
    "    plus(0,y) -> y\n",
    "    plus(s(x),y) -> s(plus(x,y))\n",
    ")"
   ]
  },
  {
   "cell_type": "code",
   "execution_count": 32,
   "metadata": {},
   "outputs": [
    {
     "name": "stdout",
     "output_type": "stream",
     "text": [
      "YES\n",
      "<?xml version=\"1.0\" encoding=\"UTF-8\" standalone=\"no\"?><?xml-stylesheet type=\"text/xsl\" href=\"cpfHTML.xsl\"?><certificationProblem xmlns:xsi=\"http://www.w3.org/2001/XMLSchema-instance\" xsi:noNamespaceSchemaLocation=\"cpf.xsd\"><input><trsInput><trs><rules><rule><lhs><funapp><name>plus</name><arg><funapp><name>0</name></funapp></arg><arg><var>y</var></arg></funapp></lhs><rhs><var>y</var></rhs></rule><rule><lhs><funapp><name>plus</name><arg><funapp><name>s</name><arg><var>x</var></arg></funapp></arg><arg><var>y</var></arg></funapp></lhs><rhs><funapp><name>s</name><arg><funapp><name>plus</name><arg><var>x</var></arg><arg><var>y</var></arg></funapp></arg></funapp></rhs></rule></rules></trs></trsInput></input><cpfVersion>2.1</cpfVersion><proof><trsTerminationProof><ruleRemoval><orderingConstraintProof><redPair><knuthBendixOrder><w0>1</w0><precedenceWeight><precedenceWeightEntry><name>0</name><arity>0</arity><precedence>0</precedence><weight>1</weight></precedenceWeightEntry><precedenceWeightEntry><name>s</name><arity>1</arity><precedence>1</precedence><weight>1</weight></precedenceWeightEntry><precedenceWeightEntry><name>plus</name><arity>2</arity><precedence>2</precedence><weight>0</weight></precedenceWeightEntry></precedenceWeight></knuthBendixOrder></redPair></orderingConstraintProof><trs><rules/></trs><trsTerminationProof><rIsEmpty/></trsTerminationProof></ruleRemoval></trsTerminationProof></proof><origin><proofOrigin><tool><name>AProVE</name><version>AProVE Commit ID: 314de9e47ad18e927546098510ed7c36e443eb6d jan-christoph 20231211 unpublished\n",
      "</version><strategy>Statistics for single proof: 100.00 % (2 real / 0 unknown / 0 assumptions / 2 total proof steps)</strategy><url>http://aprove.informatik.rwth-aachen.de</url></tool><toolUser><firstName>John</firstName><lastName>Doe</lastName></toolUser></proofOrigin><inputOrigin/></origin></certificationProblem>"
     ]
    }
   ],
   "source": [
    "! java -ea -jar ~/Downloads/aprove.jar -m wst /tmp/ex.trs -p cpf"
   ]
  },
  {
   "cell_type": "code",
   "execution_count": 64,
   "metadata": {},
   "outputs": [
    {
     "name": "stdout",
     "output_type": "stream",
     "text": [
      "CompletedProcess(args=['java', '-ea', '-jar', '/home/philip/Downloads/aprove.jar', '/tmp/ex.trs', '-p', 'cpf'], returncode=0, stdout=b'<?xml version=\"1.0\" encoding=\"UTF-8\" standalone=\"no\"?><?xml-stylesheet type=\"text/xsl\" href=\"cpfHTML.xsl\"?><certificationProblem xmlns:xsi=\"http://www.w3.org/2001/XMLSchema-instance\" xsi:noNamespaceSchemaLocation=\"cpf.xsd\"><input><trsInput><trs><rules><rule><lhs><funapp><name>plus</name><arg><funapp><name>0</name></funapp></arg><arg><var>y</var></arg></funapp></lhs><rhs><var>y</var></rhs></rule><rule><lhs><funapp><name>plus</name><arg><funapp><name>s</name><arg><var>x</var></arg></funapp></arg><arg><var>y</var></arg></funapp></lhs><rhs><funapp><name>s</name><arg><funapp><name>plus</name><arg><var>x</var></arg><arg><var>y</var></arg></funapp></arg></funapp></rhs></rule></rules></trs></trsInput></input><cpfVersion>2.1</cpfVersion><proof><trsTerminationProof><ruleRemoval><orderingConstraintProof><redPair><knuthBendixOrder><w0>1</w0><precedenceWeight><precedenceWeightEntry><name>0</name><arity>0</arity><precedence>0</precedence><weight>1</weight></precedenceWeightEntry><precedenceWeightEntry><name>s</name><arity>1</arity><precedence>1</precedence><weight>1</weight></precedenceWeightEntry><precedenceWeightEntry><name>plus</name><arity>2</arity><precedence>2</precedence><weight>0</weight></precedenceWeightEntry></precedenceWeight></knuthBendixOrder></redPair></orderingConstraintProof><trs><rules/></trs><trsTerminationProof><rIsEmpty/></trsTerminationProof></ruleRemoval></trsTerminationProof></proof><origin><proofOrigin><tool><name>AProVE</name><version>AProVE Commit ID: 314de9e47ad18e927546098510ed7c36e443eb6d jan-christoph 20231211 unpublished\\n</version><strategy>Statistics for single proof: 100.00 % (2 real / 0 unknown / 0 assumptions / 2 total proof steps)</strategy><url>http://aprove.informatik.rwth-aachen.de</url></tool><toolUser><firstName>John</firstName><lastName>Doe</lastName></toolUser></proofOrigin><inputOrigin/></origin></certificationProblem>', stderr=b'')\n",
      "['__add__', '__class__', '__contains__', '__delattr__', '__dir__', '__doc__', '__eq__', '__format__', '__ge__', '__getattribute__', '__getitem__', '__getnewargs__', '__gt__', '__hash__', '__init__', '__init_subclass__', '__iter__', '__le__', '__len__', '__lt__', '__mod__', '__mul__', '__ne__', '__new__', '__reduce__', '__reduce_ex__', '__repr__', '__rmod__', '__rmul__', '__setattr__', '__sizeof__', '__str__', '__subclasshook__', 'capitalize', 'center', 'count', 'decode', 'endswith', 'expandtabs', 'find', 'fromhex', 'hex', 'index', 'isalnum', 'isalpha', 'isascii', 'isdigit', 'islower', 'isspace', 'istitle', 'isupper', 'join', 'ljust', 'lower', 'lstrip', 'maketrans', 'partition', 'removeprefix', 'removesuffix', 'replace', 'rfind', 'rindex', 'rjust', 'rpartition', 'rsplit', 'rstrip', 'split', 'splitlines', 'startswith', 'strip', 'swapcase', 'title', 'translate', 'upper', 'zfill']\n",
      "<Element 'certificationProblem' at 0x7f07274c90d0>\n",
      "certificationProblem\n"
     ]
    }
   ],
   "source": [
    "import subprocess\n",
    "res = subprocess.run([\"java\", \"-ea\", \"-jar\", \"/home/philip/Downloads/aprove.jar\", \"/tmp/ex.trs\", \"-p\", \"cpf\"], capture_output=True, check=True)\n",
    "print(res)\n",
    "print(dir(res.stdout))\n",
    "import xml.etree.ElementTree as ET\n",
    "tree = ET.fromstring(res.stdout.decode())\n",
    "print(tree)\n",
    "print(tree.tag)\n"
   ]
  },
  {
   "cell_type": "code",
   "execution_count": 72,
   "metadata": {},
   "outputs": [
    {
     "name": "stdout",
     "output_type": "stream",
     "text": [
      "['input', 'cpfVersion', 'proof', 'origin']\n",
      "['__class__', '__copy__', '__deepcopy__', '__delattr__', '__delitem__', '__dir__', '__doc__', '__eq__', '__format__', '__ge__', '__getattribute__', '__getitem__', '__getstate__', '__gt__', '__hash__', '__init__', '__init_subclass__', '__le__', '__len__', '__lt__', '__ne__', '__new__', '__reduce__', '__reduce_ex__', '__repr__', '__setattr__', '__setitem__', '__setstate__', '__sizeof__', '__str__', '__subclasshook__', 'append', 'attrib', 'clear', 'extend', 'find', 'findall', 'findtext', 'get', 'insert', 'items', 'iter', 'iterfind', 'itertext', 'keys', 'makeelement', 'remove', 'set', 'tag', 'tail', 'text']\n",
      "<input><trsInput><trs><rules><rule><lhs><funapp><name>plus</name><arg><funapp><name>0</name></funapp></arg><arg><var>y</var></arg></funapp></lhs><rhs><var>y</var></rhs></rule><rule><lhs><funapp><name>plus</name><arg><funapp><name>s</name><arg><var>x</var></arg></funapp></arg><arg><var>y</var></arg></funapp></lhs><rhs><funapp><name>s</name><arg><funapp><name>plus</name><arg><var>x</var></arg><arg><var>y</var></arg></funapp></arg></funapp></rhs></rule></rules></trs></trsInput></input>\n"
     ]
    }
   ],
   "source": [
    "tree.tag\n",
    "tree.attrib\n",
    "print([elem.tag for elem in tree])\n",
    "input = tree.find(\"input\")\n",
    "print(dir(input))\n",
    "input.text\n",
    "ET.tostring(input)\n",
    "ET.dump(input)"
   ]
  },
  {
   "cell_type": "code",
   "execution_count": 76,
   "metadata": {},
   "outputs": [],
   "source": [
    "def etree_to_dict(t):\n",
    "    d = {t.tag : map(etree_to_dict, t.getchildren())}\n",
    "    d.update(('@' + k, v) for k, v in t.attrib.iteritems())\n",
    "    d['text'] = t.text\n",
    "    return d"
   ]
  },
  {
   "cell_type": "code",
   "execution_count": 77,
   "metadata": {},
   "outputs": [
    {
     "ename": "AttributeError",
     "evalue": "'xml.etree.ElementTree.Element' object has no attribute 'getchildren'",
     "output_type": "error",
     "traceback": [
      "\u001b[0;31m---------------------------------------------------------------------------\u001b[0m",
      "\u001b[0;31mAttributeError\u001b[0m                            Traceback (most recent call last)",
      "Cell \u001b[0;32mIn [77], line 1\u001b[0m\n\u001b[0;32m----> 1\u001b[0m etree_to_dict(\u001b[38;5;28minput\u001b[39m)\n",
      "Cell \u001b[0;32mIn [76], line 2\u001b[0m, in \u001b[0;36metree_to_dict\u001b[0;34m(t)\u001b[0m\n\u001b[1;32m      1\u001b[0m \u001b[38;5;28;01mdef\u001b[39;00m \u001b[38;5;21metree_to_dict\u001b[39m(t):\n\u001b[0;32m----> 2\u001b[0m     d \u001b[38;5;241m=\u001b[39m {t\u001b[38;5;241m.\u001b[39mtag : \u001b[38;5;28mmap\u001b[39m(etree_to_dict, \u001b[43mt\u001b[49m\u001b[38;5;241;43m.\u001b[39;49m\u001b[43mgetchildren\u001b[49m())}\n\u001b[1;32m      3\u001b[0m     d\u001b[38;5;241m.\u001b[39mupdate((\u001b[38;5;124m'\u001b[39m\u001b[38;5;124m@\u001b[39m\u001b[38;5;124m'\u001b[39m \u001b[38;5;241m+\u001b[39m k, v) \u001b[38;5;28;01mfor\u001b[39;00m k, v \u001b[38;5;129;01min\u001b[39;00m t\u001b[38;5;241m.\u001b[39mattrib\u001b[38;5;241m.\u001b[39miteritems())\n\u001b[1;32m      4\u001b[0m     d[\u001b[38;5;124m'\u001b[39m\u001b[38;5;124mtext\u001b[39m\u001b[38;5;124m'\u001b[39m] \u001b[38;5;241m=\u001b[39m t\u001b[38;5;241m.\u001b[39mtext\n",
      "\u001b[0;31mAttributeError\u001b[0m: 'xml.etree.ElementTree.Element' object has no attribute 'getchildren'"
     ]
    }
   ],
   "source": [
    "etree_to_dict(input)"
   ]
  },
  {
   "cell_type": "code",
   "execution_count": 45,
   "metadata": {},
   "outputs": [
    {
     "name": "stdout",
     "output_type": "stream",
     "text": [
      "CompletedProcess(args=['java', '-ea', '-jar', '/home/philip/Downloads/aprove.jar', '/tmp/ex.trs', '-p', 'cpf'], returncode=0)\n"
     ]
    }
   ],
   "source": [
    "print(res)"
   ]
  },
  {
   "cell_type": "code",
   "execution_count": 18,
   "metadata": {},
   "outputs": [
    {
     "name": "stdout",
     "output_type": "stream",
     "text": [
      "Overwriting /tmp/term.c\n"
     ]
    }
   ],
   "source": [
    "%%file /tmp/term.c\n",
    "extern int __VERIFIER_nondet_int(void);\n",
    "\n",
    "int cstrlen(const char *s) {\n",
    "    const char *p = s;\n",
    "    while (*p != '\\0')\n",
    "        p++;\n",
    "    return (int)(p - s);\n",
    "}\n",
    "\n",
    "int main() {\n",
    "    int length = __VERIFIER_nondet_int();\n",
    "    if (length < 1) {\n",
    "        length = 1;\n",
    "    }\n",
    "    char* nondetString = __builtin_alloca(length * sizeof(char));\n",
    "    nondetString[length-1] = '\\0';\n",
    "    return cstrlen(nondetString);\n",
    "}"
   ]
  },
  {
   "cell_type": "code",
   "execution_count": null,
   "metadata": {},
   "outputs": [],
   "source": [
    "! jar tf ~/Downloads/aprove.jar  # table file"
   ]
  },
  {
   "cell_type": "code",
   "execution_count": 27,
   "metadata": {},
   "outputs": [
    {
     "name": "stdout",
     "output_type": "stream",
     "text": [
      "^C\n"
     ]
    }
   ],
   "source": [
    "! java -ea -jar ~/Downloads/aprove.jar -"
   ]
  },
  {
   "cell_type": "code",
   "execution_count": 8,
   "metadata": {},
   "outputs": [
    {
     "name": "stdout",
     "output_type": "stream",
     "text": [
      "YES\n",
      "<?xml version=\"1.0\" encoding=\"UTF-8\" standalone=\"no\"?><?xml-stylesheet type=\"text/xsl\" href=\"cpfHTML.xsl\"?><certificationProblem xmlns:xsi=\"http://www.w3.org/2001/XMLSchema-instance\" xsi:noNamespaceSchemaLocation=\"cpf.xsd\"><input><trsInput><trs><rules><rule><lhs><funapp><name>plus</name><arg><funapp><name>0</name></funapp></arg><arg><var>y</var></arg></funapp></lhs><rhs><var>y</var></rhs></rule><rule><lhs><funapp><name>plus</name><arg><funapp><name>s</name><arg><var>x</var></arg></funapp></arg><arg><var>y</var></arg></funapp></lhs><rhs><funapp><name>s</name><arg><funapp><name>plus</name><arg><var>x</var></arg><arg><var>y</var></arg></funapp></arg></funapp></rhs></rule></rules></trs></trsInput></input><cpfVersion>2.1</cpfVersion><proof><trsTerminationProof><ruleRemoval><orderingConstraintProof><redPair><knuthBendixOrder><w0>1</w0><precedenceWeight><precedenceWeightEntry><name>0</name><arity>0</arity><precedence>0</precedence><weight>1</weight></precedenceWeightEntry><precedenceWeightEntry><name>s</name><arity>1</arity><precedence>1</precedence><weight>1</weight></precedenceWeightEntry><precedenceWeightEntry><name>plus</name><arity>2</arity><precedence>2</precedence><weight>0</weight></precedenceWeightEntry></precedenceWeight></knuthBendixOrder></redPair></orderingConstraintProof><trs><rules/></trs><trsTerminationProof><rIsEmpty/></trsTerminationProof></ruleRemoval></trsTerminationProof></proof><origin><proofOrigin><tool><name>AProVE</name><version>AProVE Commit ID: 314de9e47ad18e927546098510ed7c36e443eb6d jan-christoph 20231211 unpublished\n",
      "</version><strategy>Statistics for single proof: 100.00 % (2 real / 0 unknown / 0 assumptions / 2 total proof steps)</strategy><url>http://aprove.informatik.rwth-aachen.de</url></tool><toolUser><firstName>John</firstName><lastName>Doe</lastName></toolUser></proofOrigin><inputOrigin/></origin></certificationProblem>"
     ]
    }
   ],
   "source": []
  },
  {
   "cell_type": "code",
   "execution_count": null,
   "metadata": {},
   "outputs": [],
   "source": [
    "! java -ea -cp ~/Downloads/aprove.jar aprove.CommandLineInterface.CFrontendMain /tmp/term.c"
   ]
  },
  {
   "cell_type": "code",
   "execution_count": 23,
   "metadata": {},
   "outputs": [
    {
     "name": "stdout",
     "output_type": "stream",
     "text": [
      "^C\n"
     ]
    }
   ],
   "source": [
    "! java -jar ~/Downloads/aprove.jar "
   ]
  },
  {
   "cell_type": "code",
   "execution_count": null,
   "metadata": {},
   "outputs": [],
   "source": [
    "%%bash\n",
    "wget https://github.com/aprove-developers/aprove-releases/releases/download/master_2023_12_29/aprove.jar\n",
    "\n"
   ]
  },
  {
   "cell_type": "code",
   "execution_count": null,
   "metadata": {},
   "outputs": [],
   "source": [
    "%%file\n",
    "\n"
   ]
  },
  {
   "cell_type": "code",
   "execution_count": null,
   "metadata": {},
   "outputs": [],
   "source": [
    "! java -jar aprove.jar -i test.smt2 -o test.out"
   ]
  }
 ],
 "metadata": {
  "kernelspec": {
   "display_name": "Python 3",
   "language": "python",
   "name": "python3"
  },
  "language_info": {
   "codemirror_mode": {
    "name": "ipython",
    "version": 3
   },
   "file_extension": ".py",
   "mimetype": "text/x-python",
   "name": "python",
   "nbconvert_exporter": "python",
   "pygments_lexer": "ipython3",
   "version": "3.10.12"
  }
 },
 "nbformat": 4,
 "nbformat_minor": 2
}
