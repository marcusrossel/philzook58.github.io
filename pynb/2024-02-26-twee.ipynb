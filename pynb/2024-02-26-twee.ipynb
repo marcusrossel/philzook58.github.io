{
 "cells": [
  {
   "cell_type": "markdown",
   "metadata": {},
   "source": [
    "---\n",
    "date: 2024-02-26\n",
    "title: Automated Equational Reasoning with Twee Pt 1.\n",
    "\n",
    "---\n",
    "\n",
    "Manipulating equations on a computer is very tantalizing. \n",
    "\n",
    "When I was more focussed on physics, basically all mathematics was equational manipulation. The generic facilities of sympy and mathematica fall into this category (they also have massive piles of domain specific smarts about odes, pdes, special functions, etc).\n",
    "The manipulations of algebraic equations or [trigonometric identitges](https://en.wikipedia.org/wiki/List_of_trigonometric_identities). Things like `cos(X)^2 + sin(X)^2 = 1` \n",
    "https://en.wikipedia.org/wiki/Category:Mathematical_identities\n",
    "\n",
    "[Twee](https://nick8325.github.io/twee/) is an off the shelf equational prover that is underutilized in this arena. You can install it, get readable equational proofs out, and have it generate unknown desired terms.\n",
    "\n",
    "Here is an [example](https://github.com/nick8325/twee/blob/master/tests/deriv.p ) of it using an equational specification of differentiation to derive an antiderivative.\n",
    "\n",
    "This shows using twee for derivatives. It's very impressive in my opinion. The proof output is quite clean and it also returns the instantiation of the exponential. in this manner, twee is an antidifferentiation engine."
   ]
  },
  {
   "cell_type": "code",
   "execution_count": null,
   "metadata": {},
   "outputs": [],
   "source": [
    "%%bash\n",
    "curl --proto '=https' --tlsv1.2 -sSf https://get-ghcup.haskell.org | BOOTSTRAP_HASKELL_NONINTERACTIVE=1 sh\n",
    "apt install libgmp-dev\n",
    "!PATH=~/.ghcup/bin:$PATH cabal install twee"
   ]
  },
  {
   "cell_type": "code",
   "execution_count": 18,
   "metadata": {},
   "outputs": [
    {
     "name": "stdout",
     "output_type": "stream",
     "text": [
      "Overwriting /tmp/deriv.p\n"
     ]
    }
   ],
   "source": [
    "%%file /tmp/deriv.p\n",
    "% Axioms about arithmetic.\n",
    "\n",
    "cnf('commutativity of +', axiom,\n",
    "    X + Y = Y + X).\n",
    "cnf('associativity of +', axiom,\n",
    "    X + (Y + Z) = (X + Y) + Z).\n",
    "cnf('commutativity of *', axiom,\n",
    "    X * Y = Y * X).\n",
    "cnf('associativity of *', axiom,\n",
    "    X * (Y * Z) = (X * Y) * Z).\n",
    "cnf('plus 0', axiom,\n",
    "    '0' + X = X).\n",
    "cnf('times 0', axiom,\n",
    "    '0' * X = '0').\n",
    "cnf('times 1', axiom,\n",
    "    '1' * X = X).\n",
    "cnf('distributivity', axiom,\n",
    "    X * (Y + Z) = (X * Y) + (X * Z)).\n",
    "cnf('minus', axiom,\n",
    "    X + -X = '0').\n",
    "cnf('derivative of 0', axiom,\n",
    "    d('0') = '0').\n",
    "cnf('derivative of 1', axiom,\n",
    "    d('1') = '0').\n",
    "% Actually, i would claim this axiom is a misstep\n",
    "cnf('derivative of x', axiom,\n",
    "    d(x) = '1').\n",
    "cnf('derivative of +', axiom,\n",
    "    d(T+U) = d(T) + d(U)).\n",
    "cnf('derivative of *', axiom,\n",
    "    d(T*U) = (T*d(U)) + (U*d(T))).\n",
    "cnf('derivative of sin', axiom,\n",
    "    d(sin(T)) = cos(T) * d(T)).\n",
    "cnf('derivative of cos', axiom,\n",
    "    d(cos(T)) = -(sin(T)*d(T))).\n",
    "\n",
    "fof(goal, conjecture,\n",
    "    ?[T]: d(T) = x*cos(x))."
   ]
  },
  {
   "cell_type": "code",
   "execution_count": 20,
   "metadata": {},
   "outputs": [
    {
     "name": "stdout",
     "output_type": "stream",
     "text": [
      "The conjecture is true! Here is a proof.\n",
      "\n",
      "Axiom 1 (derivative of x): d(x) = 1.\n",
      "Axiom 2 (commutativity of +): X + Y = Y + X.\n",
      "Axiom 3 (plus 0): 0 + X = X.\n",
      "Axiom 4 (commutativity of *): X * Y = Y * X.\n",
      "Axiom 5 (times 1): 1 * X = X.\n",
      "Axiom 6 (minus): X + -X = 0.\n",
      "Axiom 7 (derivative of +): d(X + Y) = d(X) + d(Y).\n",
      "Axiom 8 (associativity of +): X + (Y + Z) = (X + Y) + Z.\n",
      "Axiom 9 (derivative of sin): d(sin(X)) = cos(X) * d(X).\n",
      "Axiom 10 (derivative of cos): d(cos(X)) = -(sin(X) * d(X)).\n",
      "Axiom 11 (derivative of *): d(X * Y) = (X * d(Y)) + (Y * d(X)).\n",
      "\n",
      "Lemma 12: X * 1 = X.\n",
      "Proof:\n",
      "  \u001b[32mX * 1\u001b[m\n",
      "= \u001b[1m{ by axiom 4 (commutativity of *) R->L }\u001b[m\n",
      "  \u001b[32m1 * X\u001b[m\n",
      "= \u001b[1m{ by axiom 5 (times 1) }\u001b[m\n",
      "  X\n",
      "\n",
      "Goal 1 (goal): d(X) = x * cos(x).\n",
      "The goal is true when:\n",
      "  X = cos(x) + (x * sin(x))\n",
      "\n",
      "Proof:\n",
      "  d(cos(x) + \u001b[32m(x * sin(x))\u001b[m)\n",
      "= \u001b[1m{ by axiom 4 (commutativity of *) R->L }\u001b[m\n",
      "  \u001b[32md(cos(x) + (sin(x) * x))\u001b[m\n",
      "= \u001b[1m{ by axiom 7 (derivative of +) }\u001b[m\n",
      "  \u001b[32md(cos(x))\u001b[m + d(sin(x) * x)\n",
      "= \u001b[1m{ by axiom 10 (derivative of cos) }\u001b[m\n",
      "  -(sin(x) * \u001b[32md(x)\u001b[m) + d(sin(x) * x)\n",
      "= \u001b[1m{ by axiom 1 (derivative of x) }\u001b[m\n",
      "  -\u001b[32m(sin(x) * 1)\u001b[m + d(sin(x) * x)\n",
      "= \u001b[1m{ by lemma 12 }\u001b[m\n",
      "  \u001b[32m-sin(x) + d(sin(x) * x)\u001b[m\n",
      "= \u001b[1m{ by axiom 2 (commutativity of +) R->L }\u001b[m\n",
      "  \u001b[32md(sin(x) * x)\u001b[m + -sin(x)\n",
      "= \u001b[1m{ by axiom 11 (derivative of *) }\u001b[m\n",
      "  ((sin(x) * \u001b[32md(x)\u001b[m) + (x * d(sin(x)))) + -sin(x)\n",
      "= \u001b[1m{ by axiom 1 (derivative of x) }\u001b[m\n",
      "  (\u001b[32m(sin(x) * 1)\u001b[m + (x * d(sin(x)))) + -sin(x)\n",
      "= \u001b[1m{ by lemma 12 }\u001b[m\n",
      "  \u001b[32m(sin(x) + (x * d(sin(x)))) + -sin(x)\u001b[m\n",
      "= \u001b[1m{ by axiom 8 (associativity of +) R->L }\u001b[m\n",
      "  sin(x) + \u001b[32m((x * d(sin(x))) + -sin(x))\u001b[m\n",
      "= \u001b[1m{ by axiom 2 (commutativity of +) }\u001b[m\n",
      "  \u001b[32msin(x) + (-sin(x) + (x * d(sin(x))))\u001b[m\n",
      "= \u001b[1m{ by axiom 8 (associativity of +) }\u001b[m\n",
      "  \u001b[32m(sin(x) + -sin(x))\u001b[m + (x * d(sin(x)))\n",
      "= \u001b[1m{ by axiom 6 (minus) }\u001b[m\n",
      "  \u001b[32m0 + (x * d(sin(x)))\u001b[m\n",
      "= \u001b[1m{ by axiom 3 (plus 0) }\u001b[m\n",
      "  x * \u001b[32md(sin(x))\u001b[m\n",
      "= \u001b[1m{ by axiom 9 (derivative of sin) }\u001b[m\n",
      "  x * (cos(x) * \u001b[32md(x)\u001b[m)\n",
      "= \u001b[1m{ by axiom 1 (derivative of x) }\u001b[m\n",
      "  x * \u001b[32m(cos(x) * 1)\u001b[m\n",
      "= \u001b[1m{ by lemma 12 }\u001b[m\n",
      "  x * cos(x)\n",
      "\n",
      "RESULT: Theorem (the conjecture is true).\n"
     ]
    }
   ],
   "source": [
    "!twee /tmp/deriv.p --quiet"
   ]
  },
  {
   "cell_type": "markdown",
   "metadata": {},
   "source": [
    "## Group Theory\n",
    "Group theory provides some nice simple examples of equational proofs. For example, it is not at all obvious that the left inverse must be the same as the right inverse, or that the left and right identities must be the same."
   ]
  },
  {
   "cell_type": "code",
   "execution_count": 33,
   "metadata": {},
   "outputs": [
    {
     "name": "stdout",
     "output_type": "stream",
     "text": [
      "Overwriting /tmp/group.p\n"
     ]
    }
   ],
   "source": [
    "%%file /tmp/group.p\n",
    "\n",
    "cnf(right_identity, axiom, X * id = X).\n",
    "cnf(right_inverse, axiom, X * inv(X) = id).\n",
    "cnf(associativity, axiom, (X * (Y * Z)) = ((X * Y) * Z)).\n",
    "\n",
    "cnf(left_inverse, conjecture, inv(X) * X = id).\n",
    "%cnf(left_identity, conjecture, id * X = X).\n"
   ]
  },
  {
   "cell_type": "code",
   "execution_count": 35,
   "metadata": {},
   "outputs": [
    {
     "name": "stdout",
     "output_type": "stream",
     "text": [
      "Here is the input problem:\n",
      "  Axiom 1 (right_identity): X * id = X.\n",
      "  Axiom 2 (flattening): *2 = id * x.\n",
      "  Axiom 3 (right_inverse): X * inv(X) = id.\n",
      "  Axiom 4 (associativity): X * (Y * Z) = (X * Y) * Z.\n",
      "  Goal 1 (left_identity): id * x = x.\n",
      "\n",
      "1. X * id -> X\n",
      "2. id * x -> *2\n",
      "3. X * inv(X) -> id\n",
      "4. (X * Y) * Z -> X * (Y * Z)\n",
      "5. X * (id * Y) -> X * Y\n",
      "6. X * x -> X * *2\n",
      "7. id * *2 -> *2\n",
      "8. X * inv(id) -> X\n",
      "9. id * (x * X) -> *2 * X\n",
      "10. *2 * inv(x) -> id\n",
      "11. X * (inv(X) * Y) -> id * Y\n",
      "12. id * inv(inv(X)) -> X\n",
      "13. X * (x * Y) -> X * (*2 * Y)\n",
      "14. X * inv(inv(Y)) -> X * Y\n",
      "15. id * X -> X\n",
      "16. x -> *2\n",
      "\n",
      "The conjecture is true! Here is a proof.\n",
      "\n",
      "Axiom 1 (right_identity): X * id = X.\n",
      "Axiom 2 (right_inverse): X * inv(X) = id.\n",
      "Axiom 3 (associativity): X * (Y * Z) = (X * Y) * Z.\n",
      "\n",
      "Lemma 4: X * (inv(X) * Y) = id * Y.\n",
      "Proof:\n",
      "  \u001b[32mX * (inv(X) * Y)\u001b[m\n",
      "= \u001b[1m{ by axiom 3 (associativity) }\u001b[m\n",
      "  \u001b[32m(X * inv(X))\u001b[m * Y\n",
      "= \u001b[1m{ by axiom 2 (right_inverse) }\u001b[m\n",
      "  id * Y\n",
      "\n",
      "Lemma 5: id * inv(inv(X)) = X.\n",
      "Proof:\n",
      "  \u001b[32mid * inv(inv(X))\u001b[m\n",
      "= \u001b[1m{ by lemma 4 R->L }\u001b[m\n",
      "  X * \u001b[32m(inv(X) * inv(inv(X)))\u001b[m\n",
      "= \u001b[1m{ by axiom 2 (right_inverse) }\u001b[m\n",
      "  \u001b[32mX * id\u001b[m\n",
      "= \u001b[1m{ by axiom 1 (right_identity) }\u001b[m\n",
      "  X\n",
      "\n",
      "Goal 1 (left_identity): id * x = x.\n",
      "Proof:\n",
      "  \u001b[32mid * x\u001b[m\n",
      "= \u001b[1m{ by lemma 4 R->L }\u001b[m\n",
      "  X * (inv(X) * \u001b[32mx\u001b[m)\n",
      "= \u001b[1m{ by lemma 5 R->L }\u001b[m\n",
      "  X * \u001b[32m(inv(X) * (id * inv(inv(x))))\u001b[m\n",
      "= \u001b[1m{ by axiom 3 (associativity) }\u001b[m\n",
      "  X * (\u001b[32m(inv(X) * id)\u001b[m * inv(inv(x)))\n",
      "= \u001b[1m{ by axiom 1 (right_identity) }\u001b[m\n",
      "  \u001b[32mX * (inv(X) * inv(inv(x)))\u001b[m\n",
      "= \u001b[1m{ by lemma 4 }\u001b[m\n",
      "  \u001b[32mid * inv(inv(x))\u001b[m\n",
      "= \u001b[1m{ by lemma 5 }\u001b[m\n",
      "  x\n",
      "\n",
      "RESULT: Theorem (the conjecture is true).\n"
     ]
    }
   ],
   "source": [
    "!twee /tmp/group.p"
   ]
  },
  {
   "cell_type": "markdown",
   "metadata": {},
   "source": [
    "# Bits and Bobbles\n",
    "\n",
    "\n",
    "Some of the most interesting applications (integrals, summation) seem to require bound variables to model naturally. This is a perpetual bummer.\n",
    "\n",
    "\n",
    "At it's core, equational proof search is not that complicated in principle. You are given an initial term to start out with and you are seeking some goal term. This can be thought of as a graph search with reachable terms as nodes and applying some equation as an edge. You could apply all the regular depth first, breadth first, A*, Beam etc search algorithms.\n",
    "\n",
    "There is more structure here though and it is typically perceived that a graph search like this is too brute force. I actually don't think people try it that much before going to fancier techniques.\n",
    "\n",
    "An alternate starting point is the idea of simplification by term rewriting. Some of your equations are orientable into rewrite rules that are obviously simplifying your term in some sense. Many equational problems do feel to be of the form \"give me a term equivalent to term `foo(x)` that is simpler\". Most automated equational manipulation in the world is greedy rewriting of this form.\n",
    "\n",
    "Simplifying rewrite rules are not incompatible with throwing some search on top, but it now takes more thoughts and concepts. If you have two rewrite rules that could fire, you could do a search considering both choices.\n",
    "This work is redundant if your system of rewrite rules is sufficiently nice. If your system of rules is confluent and terminating, then you can apply the rules greedily willy nilly and always end up at the same \"simplest\" result regardless of rule application order. In this case, you can also determined _inequality_ of terms.\n",
    "\n",
    "\n",
    "\n",
    "I keep my eye on the various solver competitions. \n",
    "https://www.tptp.org/CASC/29/WWWFiles/DivisionSummary1.html In 2023, for \"unit equality CNF\" [Twee](https://nick8325.github.io/twee/) did very well. Unit equality CNF is is an unfortunately confusing jargon for pure equational.\n",
    "Twee is a theorem prover for equational logic. It is implemented in Haskell, not that that matters much to a user.\n",
    "\n",
    "Twee is also a relatively simple system compared to Vampire and E, it's more general and close competitors. This is importance when you want to use the solver in more ways than the strictly allows \"proved such and such conjecture\" more. The remnant rewrite system is of great interest in and of itself as shown from egraph rewriting.\n",
    "\n",
    "https://smallbone.se/papers/twee.pdf Twee system description\n",
    "\n",
    "https://www.mpi-inf.mpg.de/departments/automation-of-logic/software/waldmeister/implementation Waldmiester\n",
    "https://www.mpi-inf.mpg.de/departments/automation-of-logic/software/waldmeister/primer\n",
    "CITIUS, ALTIUS, FORTIUS: Lessons learned from the Theorem Prover Waldmeister\". https://www.mpi-inf.mpg.de/fileadmin/inf/rg1/Documents/Hil03.ps\n",
    "\n",
    "theory exploration. ruler.\n",
    "\n",
    "mccune eqp\n",
    "\n",
    "https://www.jaist.ac.jp/~mizuhito/thesis/DominikKlein.pdf inductionless induction. circular proofs. well founded induction.\n",
    "\n",
    "https://github.com/leanprover-community/duper\n",
    "\n",
    "https://www.philipzucker.com/juliacon-talk/\n",
    "\n"
   ]
  },
  {
   "cell_type": "code",
   "execution_count": 23,
   "metadata": {},
   "outputs": [
    {
     "name": "stdout",
     "output_type": "stream",
     "text": [
      "Twee, an equational theorem prover.\n",
      "Usage: twee <option>* <file>*, where <file> is in TPTP format.\n",
      "\n",
      "Output options:\n",
      "  --quiet \n",
      "    Only print essential information.\n",
      "  --(no-)proof \n",
      "    Produce proofs (on by default).\n",
      "  --(no-)tstp \n",
      "    Produce TSTP-compatible output (off by default).\n",
      "\n",
      "Proof presentation:\n",
      "  --eliminate <axioms>\n",
      "    Treat these axioms as definitions and eliminate them from the proof.\n",
      "    The axiom must have the shape f(x1...xn) = t, where x1...xn are\n",
      "    distinct variables. The term f must not otherwise appear in the problem!\n",
      "    This is not checked.\n",
      "  --(no-)all-lemmas \n",
      "    Produce a proof with one lemma for each critical pair (off by default).\n",
      "  --(no-)no-lemmas \n",
      "    Produce a proof with no lemmas (off by default).\n",
      "    May lead to exponentially large proofs.\n",
      "  --(no-)ground-proof \n",
      "    Produce a ground proof (off by default).\n",
      "    May lead to exponentially large proofs.\n",
      "  --(no-)show-instances \n",
      "    Show which instance of a lemma or axiom each rewrite step uses (off by default).\n",
      "  --(no-)colour \n",
      "    Produce output in colour (on by default if writing output to a terminal).\n",
      "  --show-uses-of <axioms>\n",
      "    Show which instances of the given axioms were needed (none by default).\n",
      "    Separate multiple axiom names with commas.\n",
      "    Use --show-uses-of all to show uses of all axioms.\n",
      "\n",
      "Input and clausifier options:\n",
      "  --root <files>\n",
      "    Extra directories that will be searched for TPTP input files.\n",
      "\n",
      "Resource limits:\n",
      "  --max-term-size <num>\n",
      "    Discard rewrite rules whose left-hand side is bigger than this limit (unlimited by default).\n",
      "  --max-cps <num>\n",
      "    Give up after considering this many critical pairs (unlimited by default).\n",
      "  --max-cp-depth <num>\n",
      "    Only consider critical pairs up to this depth (unlimited by default).\n",
      "\n",
      "Miscellaneous options:\n",
      "  --version \n",
      "    Show the version number.\n",
      "  --help \n",
      "    Show help text.\n",
      "  --expert-help \n",
      "    Show help text for hidden options.\n",
      "\n",
      "To see hidden options too, try --expert-help.\n"
     ]
    }
   ],
   "source": [
    "!twee --help"
   ]
  },
  {
   "cell_type": "markdown",
   "metadata": {},
   "source": [
    "## Functional Programming\n",
    "One of the appeals of pure functional programming a la Haskell is that you can manipulate programs with pen and paper as you would an algebraic expression. With a simple manipulation you can express loop rearrangements that are rather complex. This is analogous in some respects to manipulating matrix expressions. The associativity of matrix multiplication is actually a somewhat complicated loop rearragement too. \n",
    "\n",
    "\n",
    "\n",
    "https://www.cs.nott.ac.uk/~pszgmh/tpfa.pdf Theorem Proving for All: Equational Reasoning in\n",
    "Liquid Haskell (Functional Pearl)\n",
    "\n",
    "Hutton calculating compiler\n",
    "\n",
    "See hlint rules https://github.com/ndmitchell/hlint/blob/master/data/hlint.yaml\n",
    "Quickspec https://hackage.haskell.org/package/quickspec\n",
    "\n",
    "https://leahneukirchen.org/caudex/equational-reasoning.html\n",
    "Algebra of programming\n",
    "Bird and Gibbons Books https://www.cs.ox.ac.uk/publications/books/functional/\n",
    "\n"
   ]
  },
  {
   "cell_type": "markdown",
   "metadata": {},
   "source": [
    "I find it pretty useful to just ask for the help options of any command line program I'm trying to figure out.\n"
   ]
  },
  {
   "cell_type": "code",
   "execution_count": null,
   "metadata": {},
   "outputs": [],
   "source": [
    "%%file /tmp/lists.p\n",
    "cnf('append_nil', axiom, append(nil, X, X)).\n",
    "cnf('append_cons', axiom, append(cons(X,Xs), Ys) = cons(X, append(Xs,Ys))).\n",
    "cnf(append_assoc, axiom, append(append(Xs,Ys),Zs) = append(Xs,append(Ys,Zs))).\n",
    "\n",
    "cnf(rev_rev, axiom, comp(rev,rev) = id).\n",
    "cnf(comp_assoc, axiom, comp(comp(X,Y),Z) = comp(X,comp(Y,Z))).\n",
    "cnf(comp_id, axiom, comp(id,X) = X).\n",
    "cnf(comp_id2, axiom, comp(X,id) = X).\n",
    "cnf(map_fuse, axiom, map(comp(F,G)) = comp(map(F), map(G))).\n",
    "cnf(map_id, axiom, map(id) = id).\n"
   ]
  },
  {
   "cell_type": "code",
   "execution_count": 42,
   "metadata": {},
   "outputs": [
    {
     "ename": "AttributeError",
     "evalue": "'Const' object has no attribute 'name'",
     "output_type": "error",
     "traceback": [
      "\u001b[0;31m---------------------------------------------------------------------------\u001b[0m",
      "\u001b[0;31mAttributeError\u001b[0m                            Traceback (most recent call last)",
      "File \u001b[0;32m~/.local/lib/python3.10/site-packages/IPython/core/formatters.py:707\u001b[0m, in \u001b[0;36mPlainTextFormatter.__call__\u001b[0;34m(self, obj)\u001b[0m\n\u001b[1;32m    700\u001b[0m stream \u001b[38;5;241m=\u001b[39m StringIO()\n\u001b[1;32m    701\u001b[0m printer \u001b[38;5;241m=\u001b[39m pretty\u001b[38;5;241m.\u001b[39mRepresentationPrinter(stream, \u001b[38;5;28mself\u001b[39m\u001b[38;5;241m.\u001b[39mverbose,\n\u001b[1;32m    702\u001b[0m     \u001b[38;5;28mself\u001b[39m\u001b[38;5;241m.\u001b[39mmax_width, \u001b[38;5;28mself\u001b[39m\u001b[38;5;241m.\u001b[39mnewline,\n\u001b[1;32m    703\u001b[0m     max_seq_length\u001b[38;5;241m=\u001b[39m\u001b[38;5;28mself\u001b[39m\u001b[38;5;241m.\u001b[39mmax_seq_length,\n\u001b[1;32m    704\u001b[0m     singleton_pprinters\u001b[38;5;241m=\u001b[39m\u001b[38;5;28mself\u001b[39m\u001b[38;5;241m.\u001b[39msingleton_printers,\n\u001b[1;32m    705\u001b[0m     type_pprinters\u001b[38;5;241m=\u001b[39m\u001b[38;5;28mself\u001b[39m\u001b[38;5;241m.\u001b[39mtype_printers,\n\u001b[1;32m    706\u001b[0m     deferred_pprinters\u001b[38;5;241m=\u001b[39m\u001b[38;5;28mself\u001b[39m\u001b[38;5;241m.\u001b[39mdeferred_printers)\n\u001b[0;32m--> 707\u001b[0m \u001b[43mprinter\u001b[49m\u001b[38;5;241;43m.\u001b[39;49m\u001b[43mpretty\u001b[49m\u001b[43m(\u001b[49m\u001b[43mobj\u001b[49m\u001b[43m)\u001b[49m\n\u001b[1;32m    708\u001b[0m printer\u001b[38;5;241m.\u001b[39mflush()\n\u001b[1;32m    709\u001b[0m \u001b[38;5;28;01mreturn\u001b[39;00m stream\u001b[38;5;241m.\u001b[39mgetvalue()\n",
      "File \u001b[0;32m~/.local/lib/python3.10/site-packages/IPython/lib/pretty.py:410\u001b[0m, in \u001b[0;36mRepresentationPrinter.pretty\u001b[0;34m(self, obj)\u001b[0m\n\u001b[1;32m    407\u001b[0m                         \u001b[38;5;28;01mreturn\u001b[39;00m meth(obj, \u001b[38;5;28mself\u001b[39m, cycle)\n\u001b[1;32m    408\u001b[0m                 \u001b[38;5;28;01mif\u001b[39;00m \u001b[38;5;28mcls\u001b[39m \u001b[38;5;129;01mis\u001b[39;00m \u001b[38;5;129;01mnot\u001b[39;00m \u001b[38;5;28mobject\u001b[39m \\\n\u001b[1;32m    409\u001b[0m                         \u001b[38;5;129;01mand\u001b[39;00m \u001b[38;5;28mcallable\u001b[39m(\u001b[38;5;28mcls\u001b[39m\u001b[38;5;241m.\u001b[39m\u001b[38;5;18m__dict__\u001b[39m\u001b[38;5;241m.\u001b[39mget(\u001b[38;5;124m'\u001b[39m\u001b[38;5;124m__repr__\u001b[39m\u001b[38;5;124m'\u001b[39m)):\n\u001b[0;32m--> 410\u001b[0m                     \u001b[38;5;28;01mreturn\u001b[39;00m \u001b[43m_repr_pprint\u001b[49m\u001b[43m(\u001b[49m\u001b[43mobj\u001b[49m\u001b[43m,\u001b[49m\u001b[43m \u001b[49m\u001b[38;5;28;43mself\u001b[39;49m\u001b[43m,\u001b[49m\u001b[43m \u001b[49m\u001b[43mcycle\u001b[49m\u001b[43m)\u001b[49m\n\u001b[1;32m    412\u001b[0m     \u001b[38;5;28;01mreturn\u001b[39;00m _default_pprint(obj, \u001b[38;5;28mself\u001b[39m, cycle)\n\u001b[1;32m    413\u001b[0m \u001b[38;5;28;01mfinally\u001b[39;00m:\n",
      "File \u001b[0;32m~/.local/lib/python3.10/site-packages/IPython/lib/pretty.py:778\u001b[0m, in \u001b[0;36m_repr_pprint\u001b[0;34m(obj, p, cycle)\u001b[0m\n\u001b[1;32m    776\u001b[0m \u001b[38;5;250m\u001b[39m\u001b[38;5;124;03m\"\"\"A pprint that just redirects to the normal repr function.\"\"\"\u001b[39;00m\n\u001b[1;32m    777\u001b[0m \u001b[38;5;66;03m# Find newlines and replace them with p.break_()\u001b[39;00m\n\u001b[0;32m--> 778\u001b[0m output \u001b[38;5;241m=\u001b[39m \u001b[38;5;28;43mrepr\u001b[39;49m\u001b[43m(\u001b[49m\u001b[43mobj\u001b[49m\u001b[43m)\u001b[49m\n\u001b[1;32m    779\u001b[0m lines \u001b[38;5;241m=\u001b[39m output\u001b[38;5;241m.\u001b[39msplitlines()\n\u001b[1;32m    780\u001b[0m \u001b[38;5;28;01mwith\u001b[39;00m p\u001b[38;5;241m.\u001b[39mgroup():\n",
      "Cell \u001b[0;32mIn [28], line 7\u001b[0m, in \u001b[0;36mConst.__repr__\u001b[0;34m(self)\u001b[0m\n\u001b[1;32m      6\u001b[0m \u001b[38;5;28;01mdef\u001b[39;00m \u001b[38;5;21m__repr__\u001b[39m(\u001b[38;5;28mself\u001b[39m):\n\u001b[0;32m----> 7\u001b[0m     \u001b[38;5;28;01mreturn\u001b[39;00m \u001b[38;5;28;43mself\u001b[39;49m\u001b[38;5;241;43m.\u001b[39;49m\u001b[43mname\u001b[49m\n",
      "\u001b[0;31mAttributeError\u001b[0m: 'Const' object has no attribute 'name'"
     ]
    }
   ],
   "source": [
    "length, app, cons, rev = functions(\"length app cons rev\")\n",
    "nil, X, Y, Z, Xs = consts(\"nil X Y Z Xs\")\n",
    "\n",
    "cons(X,nil)[2]\n",
    "\n",
    "[length(nil) == 0,\n",
    " length(cons(X,Xs)) == 1 + length(Xs),\n",
    " app(nil, Y) == Y,\n",
    " app(cons(X,Xs), Y) == cons(X, app(Xs, Y)),\n",
    " rev(nil) == nil,\n",
    " rev(cons(X,Xs)) == app(rev(Xs), cons(X,nil)),\n",
    "]\n",
    "\n"
   ]
  },
  {
   "cell_type": "markdown",
   "metadata": {},
   "source": [
    "## Algebra and Trig\n",
    "You can encode trig and algebraic identities. This may be distressingly inefficient though. Maybe mixing a grobner basis system and a knuth bendix system better would work?"
   ]
  },
  {
   "cell_type": "code",
   "execution_count": null,
   "metadata": {},
   "outputs": [],
   "source": [
    "%%file /tmp/trig.p\n",
    "\n",
    "cnf(pythag, axiom, cos(X) * cos(X) + sin(X) * sin(X) = '1').\n",
    "cnf(sin_sum, axiom, sin(X + Y) = sin(X) * cos(Y) + cos(X) * sin(Y)).\n",
    "cnf(cos_sum, axiom, cos(X + Y) = cos(X) * cos(Y) - sin(X) * sin(Y)).\n",
    "cnf(sin_diff, axiom, sin(X - Y) = sin(X) * cos(Y) - cos(X) * sin(Y)).\n",
    "cnf(cos_diff, axiom, cos(X - Y) = cos(X) * cos(Y) + sin(X) * sin(Y)).\n",
    "cnf(sin_double, axiom, sin('2' * X) = '2' * sin(X) * cos(X)).\n",
    "cnf(cos_double, axiom, cos('2' * X) = cos(X) * cos(X) - sin(X) * sin(X))."
   ]
  },
  {
   "cell_type": "markdown",
   "metadata": {},
   "source": [
    "# Knuckledragger Calc\n"
   ]
  },
  {
   "cell_type": "markdown",
   "metadata": {},
   "source": [
    "# Syntax, Semantics, and Cost\n",
    "\n",
    "We often want to talk about the \"cost\" of a term and extract a minimal one. There are a few approachest to this.\n",
    "\n",
    "The system can't internally differentiate between metalevel. If `x + 0 = x` for serious then `size(x + 0) = 3` and `size(0) = 1` are inconsistent. You can easily derive `3 = 1` via substitution. At the meta level we can recognize this though. So we could perhaps build our desires into the metalevel term ordering.\n",
    "\n",
    "Another approach is to perform reflection of terms into our logic. We can make a distinction between the term `(x + 0)` and the related semantic value `sem(x + 0) = sem(x) +_sem sem(0) = x_sem +_sem 0_sem = x_sem`. We do equational reasoning on the semantic values, but can still internally talk about the cost of terms. The _terms_ `x + 0 != x` aren't equal but their semantic interpretations _are_. Then the question we want to ask is `exists T, cost(T) <= 10 & sem(T) = sem(original_term)`. We can turn down `10` until it is no longer satisfiable to get a minimal cost term.  \n",
    "\n",
    "A related doubling approach has come up in the context of egglog when we have discussed using internal egglog functionality to program custom extraction criteria.\n",
    "\n",
    "A function `reify : Sem -> Term` is also intriguing.\n",
    "\n",
    "This approach does seem like it will be tough on our reasoning engine.\n",
    "\n"
   ]
  },
  {
   "cell_type": "markdown",
   "metadata": {},
   "source": [
    "# Python Metaprogramming\n",
    "\n",
    "I don't _love_ the TPTP format. It's a bit clunky and repetitive. Twee supports infix operations as an extension, but I would like other niceties and abstractions.\n",
    "\n",
    "There are advantages I believe to having a metaprogrammble metalanguage. Python is a reasonable one.\n",
    "\n",
    "Parsing the output of the proofs and rewrite systems is also useful. The rewrite systems are analagous to a final datalog database, or an egraph. Not every thing I want to do takes the form of \"prove this two sided equation\". Term extraction is also of paramount interest for less theorem provy applications.\n",
    "\n",
    "\n",
    "\n",
    "The Knuckledragger approach is to chain together solves to automated provers with a light trust framework gluing in between.\n",
    "\n",
    "\n"
   ]
  },
  {
   "cell_type": "code",
   "execution_count": 43,
   "metadata": {},
   "outputs": [
    {
     "data": {
      "text/plain": [
       "+(X,Y)"
      ]
     },
     "execution_count": 43,
     "metadata": {},
     "output_type": "execute_result"
    }
   ],
   "source": [
    "def tptp(sexp):\n",
    "    return f\"{sexp[0]}({','.join(map(tptp, sexp[1:]))})\" if isinstance(sexp, list) else str(sexp)\n",
    "\n",
    "\n",
    "class Const(str):\n",
    "    #def __init__(self, name):\n",
    "    #    self.name = name\n",
    "    def __eq__(self, other):\n",
    "        return Expr([\"=\", self, other])\n",
    "    def __add__(self, other):\n",
    "        return Expr([\"+\", self, other])\n",
    "    def __mul__(self, other):\n",
    "        return Expr([\"*\", self, other])\n",
    "    def __rshift__(self, other):\n",
    "        return Expr([\"comp\", self, other])\n",
    "    def __matmul__(self, B):\n",
    "        return Expr([\"@\", self, B])\n",
    "    def __neg__(self):\n",
    "        return Expr([\"-\", self])\n",
    "\n",
    "class Expr(list):\n",
    "    def __repr__(self):\n",
    "        return tptp(self)\n",
    "    def __eq__(self, other):\n",
    "        return Expr([\"=\", self, other])\n",
    "    def __add__(self, other):\n",
    "        return Expr([\"+\", self, other])\n",
    "    def __mul__(self, other):\n",
    "        return Expr([\"*\", self, other])\n",
    "    def __rshift__(self, other):\n",
    "        return Expr([\"comp\", self, other])\n",
    "    def __matmul__(self, B):\n",
    "        return Expr([\"@\", self, B])\n",
    "    def __neg__(self):\n",
    "        return Expr([\"-\", self])\n",
    "\n",
    "\n",
    "def function(name):\n",
    "    def res(*args):\n",
    "        return Expr([name, *args])\n",
    "    return res\n",
    "def functions(names):\n",
    "    names = names.split()\n",
    "    return map(function, names)\n",
    "def consts(x):\n",
    "    return map(Const, x.split())\n",
    "X,Y,x = consts(\"X Y x\")\n",
    "f,g = functions(\"f g\")\n",
    "tptp(f(X))\n",
    "\n",
    "type(f(X))\n",
    "X + Y\n",
    "\n"
   ]
  },
  {
   "cell_type": "code",
   "execution_count": null,
   "metadata": {},
   "outputs": [],
   "source": []
  },
  {
   "cell_type": "markdown",
   "metadata": {},
   "source": []
  },
  {
   "cell_type": "markdown",
   "metadata": {},
   "source": [
    "# Set Theory\n",
    "Some aspects of set theory can be easily modelled as equational manipulations.\n",
    "Not all though. The comphrehension principle is a pretty impportant part. I suspect it will be difficult to do this principle elegantly with equations.\n",
    "https://en.wikipedia.org/wiki/Category:Mathematical_identities\n",
    "https://en.wikipedia.org/wiki/List_of_set_identities_and_relations"
   ]
  },
  {
   "cell_type": "code",
   "execution_count": 22,
   "metadata": {},
   "outputs": [
    {
     "name": "stdout",
     "output_type": "stream",
     "text": [
      "Writing /tmp/set.p\n"
     ]
    }
   ],
   "source": [
    "%%file /tmp/set.p\n",
    "cnf(union_empty, axiom, X ∪ ∅ = X).\n",
    "cnf(idemp_union, axiom, X ∪ X = X).\n",
    "cnf(comm_union, axiom, X ∪ Y = Y ∪ X).\n",
    "cnf(assoc_union, axiom, X ∪ (Y ∪ Z) = (X ∪ Y) ∪ Z).\n",
    "\n",
    "cnf(involution, axion, diff(X, diff(X, L)) = L).\n"
   ]
  },
  {
   "cell_type": "markdown",
   "metadata": {},
   "source": [
    "# Category Theory\n",
    "\n",
    "As a metasystem, we want to know that the type equations cannot be broken\n",
    "\n",
    "GATs"
   ]
  },
  {
   "cell_type": "code",
   "execution_count": null,
   "metadata": {},
   "outputs": [],
   "source": [
    "# tp_eqs |- t : typ\n",
    "# typ_eqs |- e1 = e2 : typ\n",
    "class GAT:\n",
    "    t:\n",
    "    typ_eqs:"
   ]
  },
  {
   "cell_type": "code",
   "execution_count": 36,
   "metadata": {},
   "outputs": [
    {
     "name": "stdout",
     "output_type": "stream",
     "text": [
      "fof(axiom1, axiom, =(@(id(cod(F)),F),F)).\n",
      "fof(axiom2, axiom, =(@(F,id(dom(F))),F)).\n",
      "fof(axiom3, axiom, =(@(F,@(G,H)),@(@(F,G),H))).\n"
     ]
    }
   ],
   "source": [
    "A,B,C,F,G,H = consts(\"A B C F G H\")\n",
    "id_, cod, dom, swap, dup, del_, pair, proj1, proj2 = functions(\"id cod dom swap dup del_ pair proj1 proj2\")\n",
    "axioms = [\n",
    "id_(cod(F)) @ F == F,\n",
    "F @ id_(dom(F)) == F,\n",
    "F @ (G @ H) == (F @ G) @ H,\n",
    "\n",
    "]\n",
    "axioms\n",
    "\n",
    "\n",
    "counter = 0\n",
    "def tptp_axiom(axiom, name = None):\n",
    "    if name == None:\n",
    "        global counter\n",
    "        counter += 1\n",
    "        name = f\"axiom{counter}\"\n",
    "    return f\"fof({name}, axiom, {axiom}).\"\n",
    "def tptp_axioms(axioms):\n",
    "    return \"\\n\".join(map(tptp_axiom, axioms))\n",
    "print(tptp_axioms(axioms))\n"
   ]
  },
  {
   "cell_type": "markdown",
   "metadata": {},
   "source": [
    "https://www.cs.nott.ac.uk/~pszgmh/tpfa.pdf Theorem Proving for All: Equational Reasoning in\n",
    "Liquid Haskell (Functional Pearl)\n",
    "\n",
    "Yea, equational definitions are really nice.\n",
    "\n"
   ]
  },
  {
   "cell_type": "code",
   "execution_count": null,
   "metadata": {},
   "outputs": [],
   "source": [
    "def define(eqs):\n",
    "    # first symbol is the same\n",
    "    # check termination\n",
    "\n"
   ]
  },
  {
   "cell_type": "code",
   "execution_count": null,
   "metadata": {},
   "outputs": [],
   "source": [
    "   \"\"\"\n",
    "     let mut rules : Vec<Rewrite<CatLanguage, ()>> = vec![\n",
    "        vec![rw!( \"dom(hom(a, b)) => a\" ; \"(dom (hom ?a ?b))\" => \"?a\" )],\n",
    "        vec![rw!( \"cod(hom(a, b)) => b\" ; \"(cod (hom ?a ?b))\" => \"?b\" )],\n",
    "        vec![rw!( \"type(id(a)) => hom(a, a)\" ; \"(type (id ?a))\" => \"(hom ?a ?a)\" )],\n",
    "        vec![rw!( \"type(f . g) => hom(dom(type(f)), cod(type(g)))\" ; \"(type (. ?f ?g))\" => \"(hom (dom (type ?f)) (cod (type ?g)))\" )],\n",
    "        vec![rw!( \"type(f om g) => hom(dom(type(f)) oo dom(type(g)), cod(type(f)) oo cod(type(g)))\" ; \"(type (om ?f ?g))\" => \"(hom (oo (dom (type ?f)) (dom (type ?g))) (oo (cod (type ?f)) (cod (type ?g))))\" )],\n",
    "        vec![rw!( \"type(a oo b) => :ob\" ; \"(type (oo ?a ?b))\" => \"ob\" )],\n",
    "        vec![rw!( \"type(munit()) => :ob\" ; \"(type munit)\" => \"ob\" )],\n",
    "        vec![rw!( \"type(swap(a, b)) => hom(a oo b, b oo a)\" ; \"(type (swap ?a ?b))\" => \"(hom (oo ?a ?b) (oo ?b ?a))\" )],\n",
    "        vec![rw!( \"type((del)(a)) => hom(a, munit())\" ; \"(type (del ?a))\" => \"(hom ?a munit)\" )],\n",
    "        vec![rw!( \"type(dup(a)) => hom(a, a oo a)\" ; \"(type (dup ?a))\" => \"(hom ?a (oo ?a ?a))\" )],\n",
    "        vec![rw!( \"type(pair(f, g)) => hom(dom(type(f)), cod(type(f)) oo cod(type(g)))\" ; \"(type (pair ?f ?g))\" => \"(hom (dom (type ?f)) (oo (cod (type ?f)) (cod (type ?g))))\" )],\n",
    "        vec![rw!( \"type(proj1(a, b)) => hom(a oo b, a)\" ; \"(type (proj1 ?a ?b))\" => \"(hom (oo ?a ?b) ?a)\" )],\n",
    "        vec![rw!( \"type(proj2(a, b)) => hom(a oo b, b)\" ; \"(type (proj2 ?a ?b))\" => \"(hom (oo ?a ?b) ?b)\" )],\n",
    "        vec![rw!( \"f . id(b) => f\" ; \"(. ?f (id ?b))\" => \"?f\" )],\n",
    "        vec![rw!( \"id(a) . f => f\" ; \"(. (id ?a) ?f)\" => \"?f\" )],\n",
    "        vec![rw!( \"a oo munit() => a\" ; \"(oo ?a munit)\" => \"?a\" )],\n",
    "        vec![rw!( \"munit() oo a => a\" ; \"(oo munit ?a)\" => \"?a\" )],\n",
    "        rw!( \"f . (g . h) == (f . g) . h\" ; \"(. ?f (. ?g ?h))\" <=> \"(. (. ?f ?g) ?h)\" ),\n",
    "        vec![rw!( \"id(munit()) om f => f\" ; \"(om (id munit) ?f)\" => \"?f\" )],\n",
    "        vec![rw!( \"f om id(munit()) => f\" ; \"(om ?f (id munit))\" => \"?f\" )],\n",
    "        rw!( \"a oo (b oo c) == (a oo b) oo c\" ; \"(oo ?a (oo ?b ?c))\" <=> \"(oo (oo ?a ?b) ?c)\" ),\n",
    "        rw!( \"f om (h om j) == (f om h) om j\" ; \"(om ?f (om ?h ?j))\" <=> \"(om (om ?f ?h) ?j)\" ),\n",
    "        rw!( \"id(a oo b) == id(a) om id(b)\" ; \"(id (oo ?a ?b))\" <=> \"(om (id ?a) (id ?b))\" ), \n",
    "        vec![rw!( \"(f . g) om (p . q) => (f om p) . (g om q)\" ; \"(om (. ?f ?g) (. ?p ?q))\" => \"(. (om ?f ?p) (om ?g ?q))\" )],\n",
    "        rw!( \"swap(a, b) . swap(b, a) == id(a oo b)\" ; \"(. (swap ?a ?b) (swap ?b ?a))\" <=> \"(id (oo ?a ?b))\" ),\n",
    "        rw!( \"(swap(a, b) om id(c)) . (id(b) om swap(a, c)) == swap(a, b oo c)\" ; \"(. (om (swap ?a ?b) (id ?c)) (om (id ?b) (swap ?a ?c)))\" <=> \"(swap ?a (oo ?b ?c))\" ),\n",
    "        rw!( \"(id(a) om swap(b, c)) . (swap(a, c) om id(b)) == swap(a oo b, c)\" ; \"(. (om (id ?a) (swap ?b ?c)) (om (swap ?a ?c) (id ?b)))\" <=> \"(swap (oo ?a ?b) ?c)\" ),\n",
    "        rw!( \"swap(a, munit()) == id(a)\" ; \"(swap ?a munit)\" <=> \"(id ?a)\" ),\n",
    "        rw!( \"swap(munit(), a) == id(a)\" ; \"(swap munit ?a)\" <=> \"(id ?a)\" ),\n",
    "       \n",
    "        vec![rw!( \"swap(munit(), munit()) => id(munit() oo munit())\" ; \"(swap munit munit)\" => \"(id (oo munit munit))\" )],\n",
    "        rw!( \"dup(a) . ((del)(a) om id(a)) == id(a)\" ; \"(. (dup ?a) (om (del ?a) (id ?a)))\" <=> \"(id ?a)\" ),\n",
    "        rw!( \"dup(a) . (id(a) om (del)(a)) == id(a)\" ; \"(. (dup ?a) (om (id ?a) (del ?a)))\" <=> \"(id ?a)\" ),\n",
    "        rw!( \"dup(a) . swap(a, a) == dup(a)\" ; \"(. (dup ?a) (swap ?a ?a))\" <=> \"(dup ?a)\" ),\n",
    "        rw!( \"(dup(a) om dup(b)) . ((id(a) om swap(a, b)) om id(b)) == dup(a oo b)\" ; \"(. (om (dup ?a) (dup ?b)) (om (om (id ?a) (swap ?a ?b)) (id ?b)))\" <=> \"(dup (oo ?a ?b))\" ),\n",
    "        rw!( \"dup(a) . (dup(a) om id(a)) == dup(a) . (id(a) om dup(a))\" ; \"(. (dup ?a) (om (dup ?a) (id ?a)))\" <=> \"(. (dup ?a) (om (id ?a) (dup ?a)))\" ),\n",
    "        rw!( \"(del)(a oo b) == (del)(a) om (del)(b)\" ; \"(del (oo ?a ?b))\" <=> \"(om (del ?a) (del ?b))\" ),\n",
    "        rw!( \"dup(munit()) == id(munit())\" ; \"(dup munit)\" <=> \"(id munit)\" ),\n",
    "        rw!( \"(del)(munit()) == id(munit())\" ; \"(del munit)\" <=> \"(id munit)\" ),\n",
    "        vec![rw!( \"pair(f, k) => dup(dom(type(f))) . (f om k)\" ; \"(pair ?f ?k)\" => \"(. (dup (dom (type ?f))) (om ?f ?k))\" )],\n",
    "        rw!( \"proj1(a, b) == id(a) om (del)(b)\" ; \"(proj1 ?a ?b)\" <=> \"(om (id ?a) (del ?b))\" ),\n",
    "        rw!( \"proj2(a, b) == (del)(a) om id(b)\" ; \"(proj2 ?a ?b)\" <=> \"(om (del ?a) (id ?b))\" ),\n",
    "        vec![rw!( \"f . (del)(b) => (del)(dom(type(f)))\" ; \"(. ?f (del ?b))\" => \"(del (dom (type ?f)))\" )],\n",
    "        vec![rw!( \"f . dup(b) => dup(dom(type(f))) . (f om f)\" ; \"(. ?f (dup ?b))\" => \"(. (dup (dom (type ?f))) (om ?f ?f))\" )],\n",
    "        vec![rw!( \"dup(a) . (f om f) => f . dup(cod(type(f)))\" ; \"(. (dup ?a) (om ?f ?f))\" => \"(. ?f (dup (cod (type ?f))))\" )],\n",
    "                \n",
    "        ].concat();\n",
    "        \"\"\""
   ]
  },
  {
   "cell_type": "markdown",
   "metadata": {},
   "source": [
    "Functional Programming\n",
    "Manifold differentiation\n",
    "simplicial sets\n",
    "database migration\n",
    "\n",
    "nonstandard analysis - an equational theorem prover purpose built would be cool\n",
    "\n",
    "\n",
    "\n",
    "https://smallbone.se/papers/horn.pdf encoding\n",
    "\n",
    "\n"
   ]
  },
  {
   "cell_type": "markdown",
   "metadata": {},
   "source": [
    "## Logic\n",
    "Boolean (or otherwise) logic itself can be encoded as equational manipulation. This is perhaps not surprising, since boolean algerba is an algebra, and has it's roots in analogy the the equational manipulation of polynomials. Boole himself I believe noted that `true ~ 1`, `false ~ 0` `and ~ time` `or ~ plus` `not ~ 1 - x` and so on.\n",
    "\n",
    "Gries Logic https://www.cs.cornell.edu/gries/Logic/intro.html\n",
    "Mathmeth http://www.mathmeth.com/read.shtml\n",
    "https://www.cs.nott.ac.uk/~pszgmh/tpfa.pdf Theorem Proving for All: Equational Reasoning in\n",
    "https://smallbone.se/papers/horn.pdf Twee extended with Horn clauses via an equational encoding of if-then-else. Very interesting alternatives. This is of some relation to tricks in egglog for contextual rewriting. It is a form of tagging. \n",
    "\n",
    "\n",
    "https://en.wikipedia.org/wiki/Boolean_algebra_(structure)\n",
    "\n"
   ]
  },
  {
   "cell_type": "markdown",
   "metadata": {},
   "source": [
    "## Homotopy\n",
    "\n",
    "path. It makes sense rewriting and homotopy/homology might be related.\n",
    "\n",
    "paths are string rewriting a(b(c(X)))\n",
    "homology makes the strings commutative."
   ]
  },
  {
   "cell_type": "code",
   "execution_count": 51,
   "metadata": {},
   "outputs": [
    {
     "name": "stdout",
     "output_type": "stream",
     "text": [
      "Overwriting /tmp/path.p\n"
     ]
    }
   ],
   "source": [
    "%%file /tmp/path.p\n",
    "\n",
    "% simple normalization\n",
    "cnf(stayput, axiom, path(A,path(A, P)) = path(A,P)).\n",
    "cnf(backup, axiom, path(A,path(B, path(A, P))) = path(A, P)).\n",
    "\n",
    "%cnf(disjoint1, axiom, a != b). % not really necessary\n",
    "%cnf(disjoint2, axiom, b != c).\n",
    "%cnf(disjoint3, axiom, a != c).\n",
    "cnf(circle, conjecture, path(a,path(b, path(c, path(a, nil)))) = path(a,nil)).\n",
    "%cnf(null_loop, conjecture, path(a, path(c,path(b, path(c, path(a, nil))))) = path(a,nil)).\n",
    "\n"
   ]
  },
  {
   "cell_type": "code",
   "execution_count": 49,
   "metadata": {},
   "outputs": [
    {
     "name": "stdout",
     "output_type": "stream",
     "text": [
      "Here is the input problem:\n",
      "  Axiom 1 (stayput): path(X, path(X, Y)) = path(X, Y).\n",
      "  Axiom 2 (backup): path(X, path(Y, path(X, Z))) = path(X, Z).\n",
      "  Goal 1 (circle): path(a, path(b, path(c, path(a, nil)))) = path(a, nil).\n",
      "\n",
      "1. path(X, path(X, Y)) -> path(X, Y)\n",
      "2. path(X, path(Y, path(X, Z))) -> path(X, Z)\n",
      "\n",
      "Ran out of critical pairs. This means the conjecture is not true.\n",
      "Here is the final rewrite system:\n",
      "  path(X, path(X, Y)) -> path(X, Y)\n",
      "  path(X, path(Y, path(X, Z))) -> path(X, Z)\n",
      "\n",
      "RESULT: CounterSatisfiable (the conjecture is false).\n"
     ]
    }
   ],
   "source": [
    "!twee /tmp/path.p"
   ]
  },
  {
   "cell_type": "code",
   "execution_count": null,
   "metadata": {},
   "outputs": [],
   "source": [
    "%%file /temp/edge.p\n",
    "cnf(edge, axiom, edge(a,b))."
   ]
  },
  {
   "cell_type": "markdown",
   "metadata": {},
   "source": [
    "Countersatisfiable means there exists a model in which this is not true.\n",
    "If i ask !=, there is also a model in which it is true, which is not of interest to me. Yes.\n",
    "Models is the wrong language of discussion.\n"
   ]
  },
  {
   "cell_type": "code",
   "execution_count": null,
   "metadata": {},
   "outputs": [],
   "source": [
    "\"\"\"\n",
    "\n",
    "\n",
    "\"\"\""
   ]
  },
  {
   "cell_type": "code",
   "execution_count": 48,
   "metadata": {},
   "outputs": [
    {
     "name": "stdout",
     "output_type": "stream",
     "text": [
      "Overwriting /tmp/group1.p\n"
     ]
    }
   ],
   "source": [
    "%%file /tmp/group1.p\n",
    "%pg 5 of traat\n",
    "cnf(assoc, axiom, mul(mul(X,Y),Z) = mul(X,mul(Y,Z))).\n",
    "cnf(left_inv, axiom, mul(i(X), X) = e).\n",
    "cnf(left_id, axiom, mul(e, X) = X).\n",
    "\n",
    "%cnf(rightinv ,conjecture, mul(X, i(X)) = e).\n",
    "cnf(rightid ,conjecture, mul(X, e) = X).\n"
   ]
  },
  {
   "cell_type": "code",
   "execution_count": 49,
   "metadata": {},
   "outputs": [
    {
     "name": "stdout",
     "output_type": "stream",
     "text": [
      "Here is the input problem:\n",
      "  Axiom 1 (assoc): mul(mul(X, Y), Z) = mul(X, mul(Y, Z)).\n",
      "  Axiom 2 (left_inv): mul(i(X), X) = e.\n",
      "  Axiom 3 (left_id): mul(e, X) = X.\n",
      "  Goal 1 (rightid): mul(sK1_rightid_X, e) = sK1_rightid_X.\n",
      "\n",
      "1. mul(mul(X, Y), Z) -> mul(X, mul(Y, Z))\n",
      "2. mul(i(X), X) -> e\n",
      "3. mul(e, X) -> X\n",
      "4. mul(i(X), mul(X, Y)) -> Y\n",
      "5. mul(i(e), X) -> X\n",
      "6. mul(i(i(X)), e) -> X\n",
      "7. mul(i(i(X)), Y) -> mul(X, Y)\n",
      "8. mul(X, e) -> X\n",
      "\n",
      "The conjecture is true! Here is a proof.\n",
      "\n",
      "Axiom 1 (assoc): mul(mul(X, Y), Z) = mul(X, mul(Y, Z)).\n",
      "Axiom 2 (left_inv): mul(i(X), X) = e.\n",
      "Axiom 3 (left_id): mul(e, X) = X.\n",
      "\n",
      "Lemma 4: mul(i(X), mul(X, Y)) = Y.\n",
      "Proof:\n",
      "  mul(i(X), mul(X, Y))\n",
      "= { by axiom 1 (assoc) }\n",
      "  mul(mul(i(X), X), Y)\n",
      "= { by axiom 2 (left_inv) }\n",
      "  mul(e, Y)\n",
      "= { by axiom 3 (left_id) }\n",
      "  Y\n",
      "\n",
      "Goal 1 (rightid): mul(sK1_rightid_X, e) = sK1_rightid_X.\n",
      "Proof:\n",
      "  mul(sK1_rightid_X, e)\n",
      "= { by lemma 4 }\n",
      "  mul(i(i(sK1_rightid_X)), mul(i(sK1_rightid_X), mul(sK1_rightid_X, e)))\n",
      "= { by lemma 4 }\n",
      "  mul(i(i(sK1_rightid_X)), e)\n",
      "= { by axiom 2 (left_inv) }\n",
      "  mul(i(i(sK1_rightid_X)), mul(i(sK1_rightid_X), sK1_rightid_X))\n",
      "= { by lemma 4 }\n",
      "  sK1_rightid_X\n",
      "\n",
      "RESULT: Theorem (the conjecture is true).\n"
     ]
    }
   ],
   "source": [
    "!twee /tmp/group1.p"
   ]
  },
  {
   "cell_type": "markdown",
   "metadata": {},
   "source": [
    "# Early Termination\n",
    "Give it a conjecture it can't possibly prove. There are a couple early stoppage criteria. But also if you give it a ground system it Must stop.\n",
    "\n",
    "This ground system is an egraph.\n",
    "\n",
    "Can I explicitly show this via the \"skolemization\".\n",
    "\n",
    "Introduce a new constant for every greater than depth 1 term. These represent the eclasses\n",
    "Probably KBO will rewrite to this term.\n",
    "Hence the eclasses\n",
    "eclass to eclass rewrites represent the union find. e1 -> e6\n",
    "f(e1,e2,e3) -> e4  represent the enode f(e1,e2,e3) is in eclass e4\n",
    "\n"
   ]
  },
  {
   "cell_type": "code",
   "execution_count": 52,
   "metadata": {},
   "outputs": [
    {
     "name": "stdout",
     "output_type": "stream",
     "text": [
      "Overwriting /tmp/ground.p\n"
     ]
    }
   ],
   "source": [
    "%%file /tmp/ground.p\n",
    "\n",
    "cnf(ax1, axiom, add(one,two) = three).\n",
    "cnf(ax2, axiom, add(two,one) = three).\n",
    "cnf(ax3, axiom, add(one,three) = four).\n",
    "cnf(ax4, axiom, add(three,one) = four).\n",
    "cnf(ax5, axiom, add(two,three) = five).\n",
    "cnf(ax6, axiom, add(three,two) = five).\n",
    "cnf(ax7, axiom, add(four,one) = five).\n",
    "cnf(ax8, axiom, add(one,four) = five).\n",
    "%cnf(assoc, axiom, add(add(X,Y),Z) = add(X,add(Y,Z))).\n",
    "%cnf(comm, axiom, add(X,Y) = add(Y,X)).\n",
    "cnf(conj, conjecture, x = y)."
   ]
  },
  {
   "cell_type": "code",
   "execution_count": 53,
   "metadata": {},
   "outputs": [
    {
     "name": "stdout",
     "output_type": "stream",
     "text": [
      "Here is the input problem:\n",
      "  Axiom 1 (ax1): add(one, two) = three.\n",
      "  Axiom 2 (ax2): add(two, one) = three.\n",
      "  Axiom 3 (ax3): add(one, three) = four.\n",
      "  Axiom 4 (ax4): add(three, one) = four.\n",
      "  Axiom 5 (ax5): add(two, three) = five.\n",
      "  Axiom 6 (ax6): add(three, two) = five.\n",
      "  Axiom 7 (ax7): add(four, one) = five.\n",
      "  Axiom 8 (ax8): add(one, four) = five.\n",
      "  Goal 1 (conj): x = y.\n",
      "\n",
      "1. add(one, two) -> three\n",
      "2. add(two, one) -> three\n",
      "3. add(one, three) -> four\n",
      "4. add(three, one) -> four\n",
      "5. add(two, three) -> five\n",
      "6. add(three, two) -> five\n",
      "7. add(four, one) -> five\n",
      "8. add(one, four) -> five\n",
      "\n",
      "Ran out of critical pairs. This means the conjecture is not true.\n",
      "Here is the final rewrite system:\n",
      "  add(one, two) -> three\n",
      "  add(one, three) -> four\n",
      "  add(one, four) -> five\n",
      "  add(two, one) -> three\n",
      "  add(two, three) -> five\n",
      "  add(three, one) -> four\n",
      "  add(three, two) -> five\n",
      "  add(four, one) -> five\n",
      "\n",
      "RESULT: CounterSatisfiable (the conjecture is false).\n"
     ]
    }
   ],
   "source": [
    "! twee /tmp/ground.p"
   ]
  },
  {
   "cell_type": "markdown",
   "metadata": {},
   "source": [
    "--expert-help\n",
    "--conjecture 2\n",
    "--root tpt root path\n",
    "--trace file module. print prolog trace.\n",
    "\n",
    "ok, give it an impossible equality goal + max-cps\n",
    "\n",
    "    let\n",
    "      state' = interreduce config state\n",
    "      score rule =\n",
    "        (KBO.size (lhs rule), lhs rule,\n",
    "         KBO.size (rhs rule), rhs rule)\n",
    "      actives =\n",
    "        sortBy (comparing (score . active_rule)) $\n",
    "        IntMap.elems (st_active_set state')\n",
    "        \n",
    "    forM_ actives $ \\active ->\n",
    "      putStrLn (\"  \" ++ prettyShow (canonicalise (active_rule active)))\n",
    "    putStrLn \"\"\n"
   ]
  },
  {
   "cell_type": "code",
   "execution_count": null,
   "metadata": {},
   "outputs": [],
   "source": [
    "simp_db = []\n",
    "def match(pattern, expr):\n",
    "    env = {}\n",
    "    stack = [(pattern, expr)]\n",
    "    while len(stack) > 0:\n",
    "        p, e = stack.pop()\n",
    "        if isinstance(p, str) \n",
    "            if isUpper(p[0]):\n",
    "                if p in env:\n",
    "                    if env[p] != e:\n",
    "                        return False\n",
    "                    else:\n",
    "                        env[p] = e\n",
    "            else:\n",
    "                if p != e:\n",
    "                    return False\n",
    "        elif isinstance(p, list):\n",
    "            if isinstance(e, list):\n",
    "                if len(p) != len(e):\n",
    "                    return False\n",
    "                stack.extend(zip(p, e))\n",
    "        else:\n",
    "            return False\n",
    "\n",
    "def simp(name, *args):\n",
    "\n",
    "# https://www.cs.utexas.edu/users/moore/acl2/v8-5/combined-manual/index.html?topic=ACL2____BUILT-IN-THEOREMS\n",
    "def builtin_simp(expr):\n",
    "    match expr:\n",
    "        case (\"and\", \"true\", *args):\n",
    "            return args\n",
    "        case (\"or\", \"true\", *args):\n",
    "            return \"true\"\n",
    "        case (\"or\", \"false\", *args):\n",
    "            return args"
   ]
  },
  {
   "cell_type": "code",
   "execution_count": 18,
   "metadata": {},
   "outputs": [
    {
     "data": {
      "text/plain": [
       "['foo', ['bar', ['biz', 'boz', 'baz'], 'X']]"
      ]
     },
     "execution_count": 18,
     "metadata": {},
     "output_type": "execute_result"
    }
   ],
   "source": [
    "def parse_expression(expr):\n",
    "    # finds a stream of tokens. Ignores whitespace and ignores commas. Clever\n",
    "    # But also misparses bad input?\n",
    "    tokens = re.findall(r'\\(|\\)|[^\\s(),]+', expr)\n",
    "    \n",
    "    def parse():\n",
    "        ast = []\n",
    "        while tokens:\n",
    "            token = tokens.pop(0)\n",
    "            if token == '(':\n",
    "                ast.append(parse())  # Parse nested expression\n",
    "            elif token == ')':\n",
    "                return ast  # End current expression\n",
    "            else:\n",
    "                ast.append(token)  # Add identifier/literal to current list\n",
    "        return ast\n",
    "    return parse()\n",
    "\n",
    "expr = 'foo(bar(biz boz,baz), X)'\n",
    "ast = parse_expression(expr)\n",
    "ast\n",
    "# https://docs.python.org/3/library/re.html#writing-a-tokenizer\n"
   ]
  },
  {
   "cell_type": "code",
   "execution_count": 20,
   "metadata": {},
   "outputs": [
    {
     "name": "stdout",
     "output_type": "stream",
     "text": [
      "ID foo 0\n",
      "LPAREN ( 3\n",
      "ID bar 4\n",
      "LPAREN ( 7\n",
      "ID biz 8\n",
      "WS   11\n",
      "ID boz 12\n",
      "ID baz 16\n",
      "RPAREN ) 19\n",
      "WS   21\n",
      "ID X 22\n",
      "RPAREN ) 23\n"
     ]
    }
   ],
   "source": [
    "spec = [\n",
    "    (\"LPAREN\", r\"\\(\"),\n",
    "    (\"RPAREN\", r\"\\)\"),\n",
    "    (\"ID\", r\"[a-zA-Z_][a-zA-Z0-9_]*\"),\n",
    "    (\"NUMBER\", r\"\\d+\"),\n",
    "    (\"PLUS\", r\"\\+\"),\n",
    "    (\"TIMES\", r\"\\*\"),\n",
    "    (\"EQUALS\", r\"=\"),\n",
    "    (\"WS\", r\"\\s+\"),\n",
    "]\n",
    "tok_regex = '|'.join(f\"(?P<{name}>{regex})\" for name, regex in spec)\n",
    "for mo in re.finditer(tok_regex, \"foo(bar(biz boz,baz), X)\"):\n",
    "    print(mo.lastgroup, mo.group(), mo.start())\n"
   ]
  },
  {
   "cell_type": "code",
   "execution_count": null,
   "metadata": {},
   "outputs": [],
   "source": [
    "%%file /tmp/compile.p\n",
    "% https://www.cs.nott.ac.uk/~pszgmh/tpfa.pdf section 5\n",
    "\n",
    "cnf(eval_val, axiom, eval(val(X)) = X).\n",
    "cnf(eval_add, axiom, eval(add(X,Y)) = eval(X) + eval(Y)).\n",
    "\n",
    "% code = list Op\n",
    "% exec : code -> stack -> stack\n",
    "% maybe I should use fof.\n",
    "cnf(exec_nil, axiom, exec(nil, S) = S).\n",
    "cnf(exec_push, axiom, exec(cons(push(N),Xs), Y) = exec(Xs, exec(X,Y))).\n",
    "cnf(exec_add, axiom, exec(cons(add,Xs), cons(X,cons(Y,Z))) = cons(X+Y,Z)).\n",
    "\n",
    "cnf(comp_val, axiom, comp(val(N)) = cons(push(N),nil)).\n",
    "cnf(comp_add, axiom, comp(add(X,Y)) = append(comp(X), append(comp(Y), cons(add,nil)))).\n",
    "\n",
    "% This won't prove I assume. It requires induction? The closure of the datatype?\n",
    "% But it will come back saying it is consistent this is true?\n",
    "cnf(comp_correct, conjecture, exec(comp(E), nil) = cons(eval(E), nil)).\n",
    "\n",
    "\n"
   ]
  }
 ],
 "metadata": {
  "kernelspec": {
   "display_name": "Python 3",
   "language": "python",
   "name": "python3"
  },
  "language_info": {
   "codemirror_mode": {
    "name": "ipython",
    "version": 3
   },
   "file_extension": ".py",
   "mimetype": "text/x-python",
   "name": "python",
   "nbconvert_exporter": "python",
   "pygments_lexer": "ipython3",
   "version": "3.10.12"
  }
 },
 "nbformat": 4,
 "nbformat_minor": 2
}
