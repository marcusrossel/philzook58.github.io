{
 "cells": [
  {
   "cell_type": "markdown",
   "metadata": {},
   "source": [
    "---\n",
    "title: \"Justified SMT 1: The Minikanren inside Z3\"\n",
    "date: 2024-06-13\n",
    "---\n",
    "\n",
    "Z3 actually has a logic programming language inside it if you know how to look. This makes it one the easiest to pull off the shelf because Z3 has so much work put into it and excellent bindings. It also is perhaps one of the most declarative logic programming languages available with very cool strong theory support.\n",
    "\n",
    "Here I talked about how to use Z3 to make a minikanren, keeping the search in the python metalayer. https://www.philipzucker.com/minikanren-z3py/ This is still a useful and interesting idea. I mention that the metalevel `conj` and `disj` can be replaced by z3's `And` and `Or` but at the cost of a quantifier. This is still true.\n",
    "\n",
    "I find myself revisiting these old ideas with hopefully more sophisticated perspective.\n",
    "\n",
    "There is an old topic that I've encountered most strongly in the answer set programming community of what exactly is the logical semantics of prolog? Prolog is quasi operational.\n",
    "\n",
    "If we take this prolog program that searches for pathes in a graph.\n",
    "\n",
    "```prolog\n",
    "path(X,Y) :- edge(X,Y).\n",
    "path(X,Z) :- edge(X,Y), path(Y,Z).\n",
    "```\n",
    "\n",
    "We might think the declarative semantics of this program are\n",
    "\n"
   ]
  },
  {
   "cell_type": "code",
   "execution_count": 27,
   "metadata": {},
   "outputs": [
    {
     "data": {
      "text/html": [
       "&forall;x, y : edge(x, y) &rArr; path(x, y)"
      ],
      "text/plain": [
       "ForAll([x, y], Implies(edge(x, y), path(x, y)))"
      ]
     },
     "metadata": {},
     "output_type": "display_data"
    },
    {
     "data": {
      "text/html": [
       "&forall;x, y, z : edge(x, y) &and; path(y, z) &rArr; path(x, z)"
      ],
      "text/plain": [
       "ForAll([x, y, z],\n",
       "       Implies(And(edge(x, y), path(y, z)), path(x, z)))"
      ]
     },
     "metadata": {},
     "output_type": "display_data"
    }
   ],
   "source": [
    "from z3 import *\n",
    "BV = BitVecSort(2)\n",
    "edge = Function('edge', BV,BV, BoolSort())\n",
    "path = Function(\"path\", BV,BV, BoolSort())\n",
    "x,y,z = Consts('x y z', BV)\n",
    "base = ForAll([x,y], Implies(edge(x,y), path(x,y)))\n",
    "trans = ForAll([x,y,z], Implies(And(edge(x,y), path(y,z)), path(x,z)))\n",
    "display(base)\n",
    "display(trans)\n"
   ]
  },
  {
   "cell_type": "markdown",
   "metadata": {},
   "source": [
    "In a loose intuitive sense this is true and is what the prolog syntax is alluding to. \n",
    "\n",
    "In a stricter sense that z3 implements something akin to multi sorted first order logic, this is false.\n",
    "\n",
    "The thing Z3 (or any smt solver) tries to do is return models that satisfy the constraints. It does not really have an operational semantics.\n",
    "\n",
    "What the axioms actually say is that `path` is transitive with respect to `edge`. This is _not_ the same as saying `path` is the transitive closure of `edge`. \n",
    "\n",
    "The transitive closure is the _least_ transitive relation. Z3 is still free to overapproximate `path`. A simple useful test case is to consider whether `path=True` still works even when it's not"
   ]
  },
  {
   "cell_type": "code",
   "execution_count": 7,
   "metadata": {},
   "outputs": [
    {
     "name": "stdout",
     "output_type": "stream",
     "text": [
      "[path = [else -> True],\n",
      " edge = [else ->\n",
      "         And(Not(And(Var(0) == 1,\n",
      "                     Not(Var(1) == 2),\n",
      "                     Not(Var(1) == 1))),\n",
      "             Not(And(Var(0) == 2,\n",
      "                     Not(Var(0) == 1),\n",
      "                     Var(1) == 1)))]]\n"
     ]
    }
   ],
   "source": [
    "solve(And(base,trans, edge(0,1), edge(1,2)))"
   ]
  },
  {
   "cell_type": "markdown",
   "metadata": {},
   "source": [
    "One attempt to patch this up is to note that really we want `path` to be true not only _if_ one of the preconditions of a rule holds, but _if and only if_. This is the idea behind clark completion https://www.inf.ed.ac.uk/teaching/courses/lp/2012/slides/lpTheory8.pdf .\n",
    "\n",
    "You do the clark completion by gathering up every rule of a given head. You can turn it into a rule with a body that is a giant `or` of `ands`. To make all the heads unifiable, make them unique variables and add the approriate equality constraints into each of the individual bodies.\n",
    "\n",
    "Minikanren is intrinsically written in clark completion form by the nature of it's abuse of the function call mechanisms of it's host language. Every rule that produces it's head is gathered up in the body of that relations definition.\n",
    "\n",
    "```python\n",
    "# a sketch. I don't have a working minikanren on my pc right now or loaded up in my head.\n",
    "def path(x,z):\n",
    "    yield from disj( \n",
    "          edge(x,z),\n",
    "          fresh(lambda y: conj(edge(x,y), path(y,z)))\n",
    "    )\n",
    "\n",
    "```\n",
    "\n",
    "Ok well then how about"
   ]
  },
  {
   "cell_type": "code",
   "execution_count": 55,
   "metadata": {},
   "outputs": [
    {
     "name": "stdout",
     "output_type": "stream",
     "text": [
      "edge {(0, 1), (1, 2)}\n",
      "path {(0, 1), (0, 2), (1, 2)}\n"
     ]
    }
   ],
   "source": [
    "clark = ForAll([x,z], path(x,z) == Or(\n",
    "    edge(x,z),\n",
    "    Exists([y], And(edge(x,y), path(y,z)))\n",
    "))\n",
    "s = Solver()\n",
    "s.add(clark)\n",
    "s.add(ForAll([x,y], edge(x,y) == Or(\n",
    "    And(x == 0, y == 1),\n",
    "    And(x == 1, y == 2)))\n",
    ")\n",
    "\n",
    "s.check()\n",
    "m = s.model()\n",
    "m\n",
    "print(\"edge\", {(x,y)  for x in range(4) for y in range(4) if  m.eval(edge(x,y)) })\n",
    "print(\"path\", {(x,y)  for x in range(4) for y in range(4) if  m.eval(path(x,y)) })\n"
   ]
  },
  {
   "cell_type": "markdown",
   "metadata": {},
   "source": [
    "This is still not correct. The Clark completion is not sufficient basically because it still allows circular reasoning in the form of loops.\n",
    "Consider the below reformulation of the same basic idea, except that I write the transitive part of path differently.\n",
    "`path` can sort of dignify itself.\n",
    "\n",
    "I'm not exactly sure the conditions under which clark completion alone is sufficient, but they seem subtle and can't possibly always work. The `edge-path` form of transitivity I think is correct because of a stratification and grounding of path with respect ot edge.\n",
    "\n"
   ]
  },
  {
   "cell_type": "code",
   "execution_count": 56,
   "metadata": {},
   "outputs": [
    {
     "name": "stdout",
     "output_type": "stream",
     "text": [
      "edge {(0, 1), (1, 2)}\n",
      "path {(0, 1), (1, 2), (0, 0), (1, 1), (0, 2), (1, 0)}\n"
     ]
    }
   ],
   "source": [
    "clark = ForAll([x,z], path(x,z) == Or(\n",
    "    edge(x,z),\n",
    "    Exists([y], And(path(x,y), path(y,z)))\n",
    "))\n",
    "s = Solver()\n",
    "s.add(clark)\n",
    "s.add(ForAll([x,y], edge(x,y) == Or(\n",
    "    And(x == 0, y == 1),\n",
    "    And(x == 1, y == 2)))\n",
    ")\n",
    "\n",
    "s.add(path(1,0))\n",
    "s.check()\n",
    "m = s.model()\n",
    "m\n",
    "print(\"edge\", {(x,y)  for x in range(4) for y in range(4) if  m.eval(edge(x,y)) })\n",
    "print(\"path\", {(x,y)  for x in range(4) for y in range(4) if  m.eval(path(x,y)) })"
   ]
  },
  {
   "cell_type": "markdown",
   "metadata": {},
   "source": [
    "But there is a fix.\n",
    "\n",
    "Earlier I said z3 is merely multi-sorted first order logic. This is a good first pass understanding, but it isn't true.\n",
    "Ok, it does directly have support for transitive closure as a special relation https://microsoft.github.io/z3guide/docs/theories/Special%20Relations/ , but actually even the uncontroversial addition of algebraic data types like Option/List/Nat has some kind of least fixed point character that let's you constrain the relations.\n",
    "\n",
    "It's actually quite fascinating. What you do is add an extra parameter to your relation that contains a proof tree ADT.\n",
    "\n",
    "1. Add an extra proof parameter to the definition of the relation itself\n",
    "1. Make a datatype with a constructor for each case in your minkanren program\n",
    "2. (optional?) Put any existentials into the proof sturcture\n",
    "\n",
    "\n",
    "This is the same thing as adding a tracing parameter to a datalog (provenance https://souffle-lang.github.io/provenance ), prolog, or minikanren program. The tracing parameter can record the call tree that succeeds without using any extralogical funkiness. This is an instance of a general principle that the trace of any system you think is proving something is a proof object.\n",
    "\n",
    "I stuck to bitvectors because then I knew the quantifiers wouldn't go off the rails. But if you use the `define-fun-rec` facilities of z3, you don't know generic quantifiers and you can get z3 to return proof trees and results even in infinitary cases. `define-fun-rec` implements a different mechanism than general quantifiers, something like iterative deepening. A recursive function definition is logically equivalent to using a quantified equality, but it is implemented differently. If you're seeking unsat, maybe either works, but if you're seeking models that contain that analog of minikanren answers, define fun rec seems superior."
   ]
  },
  {
   "cell_type": "code",
   "execution_count": 95,
   "metadata": {},
   "outputs": [
    {
     "data": {
      "text/html": [
       "trans(1, base, base)"
      ],
      "text/plain": [
       "trans(1, base, base)"
      ]
     },
     "execution_count": 95,
     "metadata": {},
     "output_type": "execute_result"
    }
   ],
   "source": [
    "pathpf = Datatype(\"pathpf\")\n",
    "pathpf.declare(\"base\")\n",
    "pathpf.declare(\"trans\", (\"y\", BV), (\"p1\", pathpf), (\"p2\", pathpf))\n",
    "pathpf = pathpf.create()\n",
    "p = Const(\"p\", pathpf)\n",
    "\n",
    "path = RecFunction(\"path\", BV, BV, pathpf, BoolSort())\n",
    "\n",
    "RecAddDefinition(path, [x,z,p], Or(\n",
    "    And(pathpf.is_base(p), edge(x,z)),\n",
    "    And(pathpf.is_trans(p), path(x, pathpf.y(p), pathpf.p1(p)), path(pathpf.y(p), z, pathpf.p2(p))))\n",
    ")\n",
    "edge = RecFunction(\"edge\", BV, BV,  BoolSort())\n",
    "\n",
    "RecAddDefinition(edge, (x,y),Or(\n",
    "    And(x == 0, y == 1),\n",
    "    And(x == 1, y == 2),\n",
    "    And(x == 2, y == 3)))\n",
    "\n",
    "s = Solver()\n",
    "#s.add(ForAll([x,y], edge(x,y) == Or(\n",
    "#    And(x == 0, y == 1),\n",
    "#    And(x == 1, y == 2)))\n",
    "#)\n",
    "\n",
    "#s.add(path(0,3,pathpf.trans(1,pathpf.base,p))) \n",
    "s.add(path(0,2,p)) \n",
    "#pathpf.trans(1, pathpf.base, pathpf.base)))\n",
    "s.check()\n",
    "m = s.model()\n",
    "#print(m[p])\n",
    "m[p]\n",
    "#print(\"edge\", {(x,y)  for x in range(4) for y in range(4) if  m.eval(edge(x,y)) })\n",
    "#print(\"path\", {(x,y)  for x in range(4) for y in range(4) if  m.eval(path(x,y,p)) })"
   ]
  },
  {
   "cell_type": "markdown",
   "metadata": {},
   "source": [
    "# Bits and Bobbles\n",
    "\n",
    "The performance of finding these models is a bit unstable.\n",
    "\n",
    "Asnwer set programming has been described as justified smt https://www.weaselhat.com/post-1067.html\n",
    "\n",
    "I've used this trick to embed static datalog like analyses into constraint solver. An over approximation of liveness is ok, so just clark completion is acceptable. Usually other objectives will tend to push the liveness down to what is strictly needed anyhow. https://www.philipzucker.com/compile_constraints/\n",
    "\n",
    "Z3's transtivie special relation or using its optimiation functionality to get the \"least\" path are other options.\n",
    "\n",
    "I think I can use this to encode inductive relations for knuckeldragger. More on this next time. Indcution principles, recursors.\n",
    "\n",
    "`path = Function(\"path\", BV, BV, pathpf)` is also interesting and maybe good? Uniqueness of proofs\n",
    "\n",
    "It doesn't have a notion of negation as failure. It'll just hang.\n",
    "\n",
    "I jibbered about this on twitter more than I realized. Well, it's good to have it actually written up in some form\n",
    "\n",
    "https://x.com/SandMouth/status/1570411399997710343\n",
    "\n",
    "https://x.com/SandMouth/status/1564299958135799811\n",
    "\n",
    "https://x.com/SandMouth/status/1570236396677525504\n",
    "\n",
    "https://x.com/SandMouth/status/1564347784194654220\n",
    "\n",
    "https://x.com/SandMouth/status/1552665454497480706\n",
    "\n",
    "A trickier question that bore these ideas is how to do justified equality in z3. i wanted to mimic egglog / egg since the z3 model is kind of the egraph. Equality is very slippery. It'll ruin your justifications out from under your feet. \n",
    "\n",
    "\n",
    "example of proof parameter tracking using DCGs\n",
    "https://x.com/SandMouth/status/1558473206239006720\n",
    "\n",
    "```prolog\n",
    "\n",
    "%sequent( Hyp, Conc, Var )\n",
    "\n",
    ":- use_module(library(clpfd)).\n",
    "%:- table prove/2.\n",
    ":- use_module(library(solution_sequences)).\n",
    "%:- op(600, xfy, i- ).\n",
    "\n",
    "prove(S, ax(S, id)) :- S = (A > A).\n",
    "prove(S, ax(S, fst)) :- S = (A /\\ _B > A).\n",
    "prove( A /\\ B > B, ax(A /\\ B > B, snd)).\n",
    "prove( S, ax(S, inj1 )) :- S = (A > A \\/ _B).\n",
    "prove( S, ax(S, inj2 )) :- S = (B > _A \\/ B).\n",
    "prove( false > _ , initial ).\n",
    "prove( _ > true  , terminal ).\n",
    "prove( A > B /\\ C, bin(A > B /\\ C, pair, P1, P2)) :- prove(A > B, P1), prove(A > C, P2).\n",
    "prove( A \\/ B > C , bin(A \\/ B > C, case, P1, P2)) :- prove( A > B, P1), prove( A > C, P2).\n",
    "prove( A > C, bin(A > C, comp, P1, P2)) :- prove(A > B, P1), prove(B > C, P2).\n",
    "\n",
    "\n",
    "height(ax(_,_), 1).\n",
    "height(un(_,_,PX), N) :- N #> 1, N #= NX+1, height(PX,NX).\n",
    "height(bin(_,_,PX,PY), N) :- N #> 1, N #= max(NX , NY) + 1, height(PX,NX), height(PY,NY).\n",
    "\n",
    "% maybe explicilty taking proof steps off of a list. using length.\n",
    "% use dcg for proof recording?\n",
    "\n",
    "\n",
    "prove(A > A)       --> [id].\n",
    "prove(A /\\ _ > A)  --> [fst].\n",
    "prove(_ /\\ B > B)  --> [snd].\n",
    "prove(A > A \\/ _)  --> [inj1].\n",
    "prove(B > _ \\/ B)  --> [inj2].\n",
    "prove(false > _)   --> [initial].\n",
    "prove( _ > true)   --> [terminal].\n",
    "prove(A > B /\\ C)  --> [pair], prove(A > B),  prove(A > C).\n",
    "prove(A \\/ B > C)  --> [case], prove(A > C),  prove(B > C).\n",
    "prove(A > C)       --> [comp], prove(A > B),  prove(B > C).\n",
    "\n",
    ":- initialization(main).\n",
    "%main :- format(\"hello world\", []).\n",
    "%main :- between(1, 10, N), height(Pf, N), writeln(Pf), prove( w /\\ x /\\ y /\\ z > w, Pf ), print(Pf), halt.\n",
    "main :- length(Pf, _), phrase(prove(w /\\ x /\\ y /\\ z > w \\/ y),Pf), print(Pf), halt.\n",
    "main :- halt.\n",
    "```\n",
    "\n",
    "Yes, the dcg form is very pretty. It's a writer monad of sorts. It is recording a minimal proof certificate that is reconstructable to the full thing pretty easily.\n",
    "\n",
    "`G --> [tag], D1, D2`\n",
    "Should be read as\n",
    "\n",
    "```\n",
    "  D1        D2\n",
    "------------------ tag\n",
    "       G\n",
    "```\n",
    "\n",
    "```\n",
    "\n",
    "prove(Sig , A > B) --> { insert(A,Sig,Sig1) }, [weaken(A)], prove(Sig1, A > B).\n",
    "prove(A > forall(X,B)) --> , prove(weak(X, A) > B).\n",
    "prove(A > forall(X,B)) --> {insert(X,Sig,Sig2) }, prove(Sig1, A > B).\n",
    "prove(Sig, forall(X,A) > ) --> , prove(weak(X, A) > B)\n",
    "\n",
    "```\n",
    "\n",
    "Maybe start with implication\n",
    "prove((A > (B > C)  ) --> [curry], prove( A /\\ B > C).\n",
    "prove((A /\\ (A > B) > B ) --> [eval].\n",
    "\n",
    "```\n",
    "\n"
   ]
  }
 ],
 "metadata": {
  "kernelspec": {
   "display_name": "Python 3",
   "language": "python",
   "name": "python3"
  },
  "language_info": {
   "codemirror_mode": {
    "name": "ipython",
    "version": 3
   },
   "file_extension": ".py",
   "mimetype": "text/x-python",
   "name": "python",
   "nbconvert_exporter": "python",
   "pygments_lexer": "ipython3",
   "version": "3.10.12"
  }
 },
 "nbformat": 4,
 "nbformat_minor": 2
}
