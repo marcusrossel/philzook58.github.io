{
 "cells": [
  {
   "cell_type": "code",
   "execution_count": null,
   "metadata": {},
   "outputs": [],
   "source": []
  },
  {
   "cell_type": "markdown",
   "metadata": {},
   "source": [
    "Molecular dynamics as a testing ground for thermodynamics\n",
    "\n",
    "\n"
   ]
  },
  {
   "cell_type": "code",
   "execution_count": 47,
   "metadata": {},
   "outputs": [
    {
     "data": {
      "image/png": "[encoded data removed]",
      "text/latex": [
       "$\\displaystyle \\left[ \\frac{C_{2} \\sqrt{m}}{\\sqrt{k}} = 1, \\  C_{1} = 0\\right]$"
      ],
      "text/plain": [
       "⎡C₂⋅√m            ⎤\n",
       "⎢───── = 1, C₁ = 0⎥\n",
       "⎣  √k             ⎦"
      ]
     },
     "execution_count": 47,
     "metadata": {},
     "output_type": "execute_result"
    }
   ],
   "source": [
    "import sympy as sp\n",
    "import numpy as np\n",
    "import matplotlib.pyplot as plt\n",
    "sp.init_printing()\n",
    "\n",
    "t = sp.symbols('t')\n",
    "k, m = sp.symbols('k m', real=True, positive=True)\n",
    "x = sp.Function('x')(t)\n",
    "v = sp.Function('v')(t)\n",
    "\n",
    "ω = sp.sqrt(k/m)\n",
    "\n",
    "x.diff(t), v.diff(t)\n",
    "Eq1 = sp.Eq(x.diff(t), v)\n",
    "Eq2 = sp.Eq(m * v.diff(t), -k * x)\n",
    "# solve the differential equation\n",
    "sol = sp.dsolve([Eq1, Eq2]) # can give ics here\n",
    "xsol = sol[0].rhs\n",
    "# put xsol in complex exponential form\n",
    "sol\n",
    "# initial condtions x(0) = 1, v(0) = 0\n",
    "C1, C2 = sp.symbols('C1 C2')\n",
    "ics = [sp.Eq(xsol.subs(t, 0), 1), sp.Eq(xsol.diff(t).subs(t, 0), 0)]\n",
    "ics\n",
    "solved_ics = sp.solve(ics)\n",
    "solved_ics\n",
    "ics"
   ]
  },
  {
   "cell_type": "code",
   "execution_count": 30,
   "metadata": {},
   "outputs": [
    {
     "data": {
      "text/plain": [
       "(sympy.core.add.Add,\n",
       " (C1*sqrt(m)*sin(sqrt(k)*t/sqrt(m))/sqrt(k),\n",
       "  C2*sqrt(m)*cos(sqrt(k)*t/sqrt(m))/sqrt(k)))"
      ]
     },
     "execution_count": 30,
     "metadata": {},
     "output_type": "execute_result"
    }
   ],
   "source": [
    "xsol.func, xsol.args"
   ]
  },
  {
   "cell_type": "code",
   "execution_count": 43,
   "metadata": {},
   "outputs": [
    {
     "name": "stdout",
     "output_type": "stream",
     "text": [
      "(C1, 1/sqrt(k), sqrt(m), sin(sqrt(k)*t/sqrt(m)))\n"
     ]
    }
   ],
   "source": [
    "sp.Expr.__match_args__ = ('func', 'args')\n",
    "E = sp.Expr\n",
    "match xsol:\n",
    "    case E(sp.Add, (E(sp.Mul, args), t2)):\n",
    "        print(args)"
   ]
  },
  {
   "cell_type": "code",
   "execution_count": 41,
   "metadata": {},
   "outputs": [
    {
     "data": {
      "text/plain": [
       "\"Add(Mul(Symbol('C1'), Pow(Symbol('k', real=True, positive=True), Rational(-1, 2)), Pow(Symbol('m', real=True, positive=True), Rational(1, 2)), sin(Mul(Pow(Symbol('k', real=True, positive=True), Rational(1, 2)), Pow(Symbol('m', real=True, positive=True), Rational(-1, 2)), Symbol('t')))), Mul(Symbol('C2'), Pow(Symbol('k', real=True, positive=True), Rational(-1, 2)), Pow(Symbol('m', real=True, positive=True), Rational(1, 2)), cos(Mul(Pow(Symbol('k', real=True, positive=True), Rational(1, 2)), Pow(Symbol('m', real=True, positive=True), Rational(-1, 2)), Symbol('t')))))\""
      ]
     },
     "execution_count": 41,
     "metadata": {},
     "output_type": "execute_result"
    }
   ],
   "source": [
    "sp.srepr(xsol)"
   ]
  },
  {
   "cell_type": "code",
   "execution_count": 29,
   "metadata": {},
   "outputs": [
    {
     "data": {
      "text/plain": [
       "['__abs__',\n",
       " '__add__',\n",
       " '__class__',\n",
       " '__complex__',\n",
       " '__delattr__',\n",
       " '__dir__',\n",
       " '__divmod__',\n",
       " '__doc__',\n",
       " '__eq__',\n",
       " '__float__',\n",
       " '__floordiv__',\n",
       " '__format__',\n",
       " '__ge__',\n",
       " '__getattribute__',\n",
       " '__getnewargs__',\n",
       " '__getstate__',\n",
       " '__gt__',\n",
       " '__hash__',\n",
       " '__init__',\n",
       " '__init_subclass__',\n",
       " '__int__',\n",
       " '__le__',\n",
       " '__lt__',\n",
       " '__mod__',\n",
       " '__module__',\n",
       " '__mul__',\n",
       " '__ne__',\n",
       " '__neg__',\n",
       " '__new__',\n",
       " '__pos__',\n",
       " '__pow__',\n",
       " '__radd__',\n",
       " '__rdivmod__',\n",
       " '__reduce__',\n",
       " '__reduce_ex__',\n",
       " '__repr__',\n",
       " '__rfloordiv__',\n",
       " '__rmod__',\n",
       " '__rmul__',\n",
       " '__round__',\n",
       " '__rpow__',\n",
       " '__rsub__',\n",
       " '__rtruediv__',\n",
       " '__setattr__',\n",
       " '__sizeof__',\n",
       " '__slots__',\n",
       " '__str__',\n",
       " '__sub__',\n",
       " '__subclasshook__',\n",
       " '__sympy__',\n",
       " '__truediv__',\n",
       " '__trunc__',\n",
       " '_add_handler',\n",
       " '_args',\n",
       " '_args_type',\n",
       " '_assumptions',\n",
       " '_combine_inverse',\n",
       " '_compare_pretty',\n",
       " '_constructor_postprocessor_mapping',\n",
       " '_diff_wrt',\n",
       " '_eval_adjoint',\n",
       " '_eval_as_leading_term',\n",
       " '_eval_conjugate',\n",
       " '_eval_derivative',\n",
       " '_eval_derivative_matrix_lines',\n",
       " '_eval_derivative_n_times',\n",
       " '_eval_difference_delta',\n",
       " '_eval_evalf',\n",
       " '_eval_expand_complex',\n",
       " '_eval_interval',\n",
       " '_eval_is_algebraic',\n",
       " '_eval_is_algebraic_expr',\n",
       " '_eval_is_antihermitian',\n",
       " '_eval_is_commutative',\n",
       " '_eval_is_complex',\n",
       " '_eval_is_extended_negative',\n",
       " '_eval_is_extended_nonnegative',\n",
       " '_eval_is_extended_nonpositive',\n",
       " '_eval_is_extended_positive',\n",
       " '_eval_is_extended_positive_negative',\n",
       " '_eval_is_extended_real',\n",
       " '_eval_is_finite',\n",
       " '_eval_is_hermitian',\n",
       " '_eval_is_imaginary',\n",
       " '_eval_is_infinite',\n",
       " '_eval_is_integer',\n",
       " '_eval_is_irrational',\n",
       " '_eval_is_meromorphic',\n",
       " '_eval_is_negative',\n",
       " '_eval_is_odd',\n",
       " '_eval_is_polynomial',\n",
       " '_eval_is_positive',\n",
       " '_eval_is_rational',\n",
       " '_eval_is_rational_function',\n",
       " '_eval_is_real',\n",
       " '_eval_is_zero',\n",
       " '_eval_lseries',\n",
       " '_eval_nseries',\n",
       " '_eval_power',\n",
       " '_eval_rewrite',\n",
       " '_eval_subs',\n",
       " '_eval_transpose',\n",
       " '_evalf',\n",
       " '_exec_constructor_postprocessors',\n",
       " '_expand_hint',\n",
       " '_explicit_class_assumptions',\n",
       " '_from_args',\n",
       " '_from_mpmath',\n",
       " '_has',\n",
       " '_has_matcher',\n",
       " '_hashable_content',\n",
       " '_matches_commutative',\n",
       " '_matches_simple',\n",
       " '_mhash',\n",
       " '_mpc_',\n",
       " '_mul_handler',\n",
       " '_new_rawargs',\n",
       " '_op_priority',\n",
       " '_parse_order',\n",
       " '_pow',\n",
       " '_prop_handler',\n",
       " '_random',\n",
       " '_recursive_call',\n",
       " '_repr_disabled',\n",
       " '_repr_latex_',\n",
       " '_repr_png_',\n",
       " '_repr_svg_',\n",
       " '_rewrite',\n",
       " '_sage_',\n",
       " '_sorted_args',\n",
       " '_subs',\n",
       " '_to_mpmath',\n",
       " '_xreplace',\n",
       " 'adjoint',\n",
       " 'apart',\n",
       " 'args',\n",
       " 'args_cnc',\n",
       " 'as_base_exp',\n",
       " 'as_coeff_Add',\n",
       " 'as_coeff_Mul',\n",
       " 'as_coeff_add',\n",
       " 'as_coeff_exponent',\n",
       " 'as_coeff_mul',\n",
       " 'as_coefficient',\n",
       " 'as_coefficients_dict',\n",
       " 'as_content_primitive',\n",
       " 'as_dummy',\n",
       " 'as_expr',\n",
       " 'as_independent',\n",
       " 'as_leading_term',\n",
       " 'as_numer_denom',\n",
       " 'as_ordered_factors',\n",
       " 'as_ordered_terms',\n",
       " 'as_poly',\n",
       " 'as_powers_dict',\n",
       " 'as_real_imag',\n",
       " 'as_terms',\n",
       " 'as_two_terms',\n",
       " 'aseries',\n",
       " 'assumptions0',\n",
       " 'atoms',\n",
       " 'cancel',\n",
       " 'canonical_variables',\n",
       " 'class_key',\n",
       " 'coeff',\n",
       " 'collect',\n",
       " 'combsimp',\n",
       " 'compare',\n",
       " 'compute_leading_term',\n",
       " 'conjugate',\n",
       " 'copy',\n",
       " 'could_extract_minus_sign',\n",
       " 'count',\n",
       " 'count_ops',\n",
       " 'default_assumptions',\n",
       " 'diff',\n",
       " 'dir',\n",
       " 'doit',\n",
       " 'dummy_eq',\n",
       " 'equals',\n",
       " 'evalf',\n",
       " 'expand',\n",
       " 'expr_free_symbols',\n",
       " 'extract_additively',\n",
       " 'extract_branch_factor',\n",
       " 'extract_leading_order',\n",
       " 'extract_multiplicatively',\n",
       " 'factor',\n",
       " 'find',\n",
       " 'flatten',\n",
       " 'fourier_series',\n",
       " 'fps',\n",
       " 'free_symbols',\n",
       " 'fromiter',\n",
       " 'func',\n",
       " 'gammasimp',\n",
       " 'getO',\n",
       " 'getn',\n",
       " 'has',\n",
       " 'identity',\n",
       " 'integrate',\n",
       " 'invert',\n",
       " 'is_Add',\n",
       " 'is_AlgebraicNumber',\n",
       " 'is_Atom',\n",
       " 'is_Boolean',\n",
       " 'is_Derivative',\n",
       " 'is_Dummy',\n",
       " 'is_Equality',\n",
       " 'is_Float',\n",
       " 'is_Function',\n",
       " 'is_Indexed',\n",
       " 'is_Integer',\n",
       " 'is_MatAdd',\n",
       " 'is_MatMul',\n",
       " 'is_Matrix',\n",
       " 'is_Mul',\n",
       " 'is_Not',\n",
       " 'is_Number',\n",
       " 'is_NumberSymbol',\n",
       " 'is_Order',\n",
       " 'is_Piecewise',\n",
       " 'is_Point',\n",
       " 'is_Poly',\n",
       " 'is_Pow',\n",
       " 'is_Rational',\n",
       " 'is_Relational',\n",
       " 'is_Symbol',\n",
       " 'is_Vector',\n",
       " 'is_Wild',\n",
       " 'is_algebraic',\n",
       " 'is_algebraic_expr',\n",
       " 'is_antihermitian',\n",
       " 'is_commutative',\n",
       " 'is_comparable',\n",
       " 'is_complex',\n",
       " 'is_composite',\n",
       " 'is_constant',\n",
       " 'is_even',\n",
       " 'is_extended_negative',\n",
       " 'is_extended_nonnegative',\n",
       " 'is_extended_nonpositive',\n",
       " 'is_extended_nonzero',\n",
       " 'is_extended_positive',\n",
       " 'is_extended_real',\n",
       " 'is_finite',\n",
       " 'is_hermitian',\n",
       " 'is_hypergeometric',\n",
       " 'is_imaginary',\n",
       " 'is_infinite',\n",
       " 'is_integer',\n",
       " 'is_irrational',\n",
       " 'is_meromorphic',\n",
       " 'is_negative',\n",
       " 'is_noninteger',\n",
       " 'is_nonnegative',\n",
       " 'is_nonpositive',\n",
       " 'is_nonzero',\n",
       " 'is_number',\n",
       " 'is_odd',\n",
       " 'is_polar',\n",
       " 'is_polynomial',\n",
       " 'is_positive',\n",
       " 'is_prime',\n",
       " 'is_rational',\n",
       " 'is_rational_function',\n",
       " 'is_real',\n",
       " 'is_scalar',\n",
       " 'is_symbol',\n",
       " 'is_transcendental',\n",
       " 'is_zero',\n",
       " 'kind',\n",
       " 'leadterm',\n",
       " 'limit',\n",
       " 'lseries',\n",
       " 'make_args',\n",
       " 'match',\n",
       " 'matches',\n",
       " 'n',\n",
       " 'normal',\n",
       " 'nseries',\n",
       " 'nsimplify',\n",
       " 'powsimp',\n",
       " 'primitive',\n",
       " 'radsimp',\n",
       " 'ratsimp',\n",
       " 'rcall',\n",
       " 'refine',\n",
       " 'removeO',\n",
       " 'replace',\n",
       " 'rewrite',\n",
       " 'round',\n",
       " 'separate',\n",
       " 'series',\n",
       " 'simplify',\n",
       " 'sort_key',\n",
       " 'subs',\n",
       " 'taylor_term',\n",
       " 'together',\n",
       " 'transpose',\n",
       " 'trigsimp',\n",
       " 'xreplace']"
      ]
     },
     "execution_count": 29,
     "metadata": {},
     "output_type": "execute_result"
    }
   ],
   "source": [
    "dir(xsol)"
   ]
  },
  {
   "cell_type": "code",
   "execution_count": 118,
   "metadata": {},
   "outputs": [],
   "source": [
    "from numba import jit, njit, float64, int64"
   ]
  },
  {
   "cell_type": "code",
   "execution_count": 102,
   "metadata": {},
   "outputs": [],
   "source": [
    "@njit\n",
    "def nsho(x0,v0):\n",
    "\n",
    "    x = x0\n",
    "    v = v0\n",
    "    dt = 0.1\n",
    "    T = 1000000.\n",
    "    N = int(T / dt)\n",
    "    xs = np.empty(N)\n",
    "    vs = np.empty(N)\n",
    "    k = 1.\n",
    "    for i in range(N):\n",
    "        x += v * dt\n",
    "        v += - k * x * dt\n",
    "        xs[i] = x\n",
    "        vs[i] = v\n",
    "    return xs, vs\n"
   ]
  },
  {
   "cell_type": "code",
   "execution_count": null,
   "metadata": {},
   "outputs": [],
   "source": []
  },
  {
   "cell_type": "code",
   "execution_count": 122,
   "metadata": {},
   "outputs": [
    {
     "data": {
      "text/plain": [
       "'; ModuleID = \\'nsho\\'\\nsource_filename = \"<string>\"\\ntarget datalayout = \"e-m:e-p270:32:32-p271:32:32-p272:64:64-i64:64-f80:128-n8:16:32:64-S128\"\\ntarget triple = \"x86_64-unknown-linux-gnu\"\\n\\n@.const.nsho = internal constant [5 x i8] c\"nsho\\\\00\"\\n@_ZN08NumbaEnv8__main__4nshoB3v10B38c8tJTIcFKzyF2ILShI4CrgQElQb6HczSBAA_3dEdd = common local_unnamed_addr global i8* null\\n@\".const.missing Environment: _ZN08NumbaEnv8__main__4nshoB3v10B38c8tJTIcFKzyF2ILShI4CrgQElQb6HczSBAA_3dEdd\" = internal constant [98 x i8] c\"missing Environment: _ZN08NumbaEnv8__main__4nshoB3v10B38c8tJTIcFKzyF2ILShI4CrgQElQb6HczSBAA_3dEdd\\\\00\"\\n@\".const.`env.consts` is NULL in `read_const`\" = internal constant [37 x i8] c\"`env.consts` is NULL in `read_const`\\\\00\"\\n@.const.pickledata.140372018472256 = internal constant [32 x i8] c\"\\\\80\\\\04\\\\95\\\\15\\\\00\\\\00\\\\00\\\\00\\\\00\\\\00\\\\00\\\\8C\\\\05numpy\\\\94\\\\8C\\\\07ndarray\\\\94\\\\93\\\\94.\"\\n@.const.pickledata.140372018472256.sha1 = internal constant [20 x i8] c\"\\\\DF\\\\BC\\\\FD\\\\D3\\\\9F\\\\CB&\\\\F4\\\\D0\\\\C6\\\\80\\\\95D\\\\87\\\\B8\\\\C0\\\\B5;\\\\B8\\\\A3\"\\n@\".const.Error creating Python tuple from runtime exception arguments\" = internal constant [61 x i8] c\"Error creating Python tuple from runtime exception arguments\\\\00\"\\n@\".const.unknown error when calling native function\" = internal constant [43 x i8] c\"unknown error when calling native function\\\\00\"\\n@PyExc_RuntimeError = external global i8\\n@\".const.Error creating Python tuple from runtime exception arguments.1\" = internal constant [61 x i8] c\"Error creating Python tuple from runtime exception arguments\\\\00\"\\n@PyExc_StopIteration = external global i8\\n@PyExc_SystemError = external global i8\\n@\".const.unknown error when calling native function.2\" = internal constant [43 x i8] c\"unknown error when calling native function\\\\00\"\\n@\".const.<numba.core.cpu.CPUContext object at 0x7faab257f610>\" = internal constant [53 x i8] c\"<numba.core.cpu.CPUContext object at 0x7faab257f610>\\\\00\"\\n@_ZN08NumbaEnv5numba2np8arrayobj11ol_np_empty12_3clocals_3e4implB2v5B42c8tJTIcFKzyF2ILShI4CrgQElcaMVJhEEUSJJgA_3dEx48omitted_28default_3d_3cclass_20_27float_27_3e_29 = common local_unnamed_addr global i8* null\\n@_ZN08NumbaEnv5numba2np8arrayobj15_call_allocatorB2v6B42c8tJTC_2fWQI8IW1CiAAYKPM6RBFDjESZRVAJmaQIAEN29typeref_5b_3cclass_20_27numba4core5types8npytypes14Array_27_3e_5dExj = common local_unnamed_addr global i8* null\\n@_ZN08NumbaEnv5numba2np8arrayobj18_ol_array_allocate12_3clocals_3e4implB2v7B42c8tJTIcFKzyF2ILShI4CrgQElcaMVJhEEUSJJgA_3dEN29typeref_5b_3cclass_20_27numba4core5types8npytypes14Array_27_3e_5dExj = common local_unnamed_addr global i8* null\\n@.const.pickledata.140371086208256 = internal constant [86 x i8] c\"\\\\80\\\\04\\\\95K\\\\00\\\\00\\\\00\\\\00\\\\00\\\\00\\\\00\\\\8C\\\\08builtins\\\\94\\\\8C\\\\0BMemoryError\\\\94\\\\93\\\\94\\\\8C\\'Allocation failed (probably too large).\\\\94\\\\85\\\\94N\\\\87\\\\94.\"\\n@.const.pickledata.140371086208256.sha1 = internal constant [20 x i8] c\"\\\\BA(\\\\9D\\\\81\\\\F0\\\\\\\\p \\\\F3G|\\\\15sH\\\\04\\\\DFe\\\\AB\\\\E2\\\\09\"\\n@.const.picklebuf.140371086208256 = internal constant { i8*, i32, i8*, i8*, i32 } { i8* getelementptr inbounds ([86 x i8], [86 x i8]* @.const.pickledata.140371086208256, i32 0, i32 0), i32 86, i8* getelementptr inbounds ([20 x i8], [20 x i8]* @.const.pickledata.140371086208256.sha1, i32 0, i32 0), i8* null, i32 0 }\\n\\ndefine i32 @_ZN8__main__4nshoB3v10B38c8tJTIcFKzyF2ILShI4CrgQElQb6HczSBAA_3dEdd([2 x { i8*, i8*, i64, i64, double*, [1 x i64], [1 x i64] }]* noalias nocapture writeonly %retptr, { i8*, i32, i8*, i8*, i32 }** noalias nocapture writeonly %excinfo, double %arg.x0, double %arg.v0) local_unnamed_addr {\\nB0.endif:\\n  %.7.i.i.i = tail call i8* @NRT_MemInfo_alloc_aligned(i64 80000000, i32 32), !noalias !0\\n  %.8.i.i.i = icmp eq i8* %.7.i.i.i, null\\n  br i1 %.8.i.i.i, label %B0.endif.if, label %B0.endif.endif, !prof !10\\n\\nB64:                                              ; preds = %B64, %_ZN5numba2np8arrayobj11ol_np_empty12_3clocals_3e4implB2v5B42c8tJTIcFKzyF2ILShI4CrgQElcaMVJhEEUSJJgA_3dEx48omitted_28default_3d_3cclass_20_27float_27_3e_29.exit13\\n  %lsr.iv = phi i64 [ %lsr.iv.next, %B64 ], [ 4, %_ZN5numba2np8arrayobj11ol_np_empty12_3clocals_3e4implB2v5B42c8tJTIcFKzyF2ILShI4CrgQElcaMVJhEEUSJJgA_3dEx48omitted_28default_3d_3cclass_20_27float_27_3e_29.exit13 ]\\n  %v.2.065 = phi double [ %arg.v0, %_ZN5numba2np8arrayobj11ol_np_empty12_3clocals_3e4implB2v5B42c8tJTIcFKzyF2ILShI4CrgQElcaMVJhEEUSJJgA_3dEx48omitted_28default_3d_3cclass_20_27float_27_3e_29.exit13 ], [ %4, %B64 ]\\n  %x.2.064 = phi double [ %arg.x0, %_ZN5numba2np8arrayobj11ol_np_empty12_3clocals_3e4implB2v5B42c8tJTIcFKzyF2ILShI4CrgQElcaMVJhEEUSJJgA_3dEx48omitted_28default_3d_3cclass_20_27float_27_3e_29.exit13 ], [ %.233.4, %B64 ]\\n  %.231 = fmul double %v.2.065, 1.000000e-01\\n  %.233 = fadd double %x.2.064, %.231\\n  %.240 = fmul double %.233, 1.000000e-01\\n  %0 = fsub double %v.2.065, %.240\\n  %scevgep191 = getelementptr double, double* %.6.i1.i, i64 %lsr.iv\\n  %scevgep192 = getelementptr double, double* %scevgep191, i64 -4\\n  store double %.233, double* %scevgep192, align 8\\n  %scevgep200 = getelementptr double, double* %.6.i1.i6, i64 %lsr.iv\\n  %scevgep201 = getelementptr double, double* %scevgep200, i64 -4\\n  store double %0, double* %scevgep201, align 8\\n  %.231.1 = fmul double %0, 1.000000e-01\\n  %.233.1 = fadd double %.233, %.231.1\\n  %.240.1 = fmul double %.233.1, 1.000000e-01\\n  %1 = fsub double %0, %.240.1\\n  %scevgep189 = getelementptr double, double* %.6.i1.i, i64 %lsr.iv\\n  %scevgep190 = getelementptr double, double* %scevgep189, i64 -3\\n  store double %.233.1, double* %scevgep190, align 8\\n  %scevgep198 = getelementptr double, double* %.6.i1.i6, i64 %lsr.iv\\n  %scevgep199 = getelementptr double, double* %scevgep198, i64 -3\\n  store double %1, double* %scevgep199, align 8\\n  %.231.2 = fmul double %1, 1.000000e-01\\n  %.233.2 = fadd double %.233.1, %.231.2\\n  %.240.2 = fmul double %.233.2, 1.000000e-01\\n  %2 = fsub double %1, %.240.2\\n  %scevgep193 = getelementptr double, double* %.6.i1.i, i64 %lsr.iv\\n  %scevgep194 = getelementptr double, double* %scevgep193, i64 -2\\n  store double %.233.2, double* %scevgep194, align 8\\n  %scevgep202 = getelementptr double, double* %.6.i1.i6, i64 %lsr.iv\\n  %scevgep203 = getelementptr double, double* %scevgep202, i64 -2\\n  store double %2, double* %scevgep203, align 8\\n  %.231.3 = fmul double %2, 1.000000e-01\\n  %.233.3 = fadd double %.233.2, %.231.3\\n  %.240.3 = fmul double %.233.3, 1.000000e-01\\n  %3 = fsub double %2, %.240.3\\n  %scevgep195 = getelementptr double, double* %.6.i1.i, i64 %lsr.iv\\n  %scevgep196 = getelementptr double, double* %scevgep195, i64 -1\\n  store double %.233.3, double* %scevgep196, align 8\\n  %scevgep204 = getelementptr double, double* %.6.i1.i6, i64 %lsr.iv\\n  %scevgep205 = getelementptr double, double* %scevgep204, i64 -1\\n  store double %3, double* %scevgep205, align 8\\n  %.231.4 = fmul double %3, 1.000000e-01\\n  %.233.4 = fadd double %.233.3, %.231.4\\n  %.240.4 = fmul double %.233.4, 1.000000e-01\\n  %4 = fsub double %3, %.240.4\\n  %scevgep197 = getelementptr double, double* %.6.i1.i, i64 %lsr.iv\\n  store double %.233.4, double* %scevgep197, align 8\\n  %scevgep206 = getelementptr double, double* %.6.i1.i6, i64 %lsr.iv\\n  store double %4, double* %scevgep206, align 8\\n  %lsr.iv.next = add nuw nsw i64 %lsr.iv, 5\\n  %exitcond.not.4 = icmp eq i64 %lsr.iv.next, 10000004\\n  br i1 %exitcond.not.4, label %B114, label %B64\\n\\ncommon.ret:                                       ; preds = %B0.endif.endif.if, %B0.endif.if, %B114\\n  %common.ret.op = phi i32 [ 0, %B114 ], [ 1, %B0.endif.if ], [ 1, %B0.endif.endif.if ]\\n  ret i32 %common.ret.op\\n\\nB114:                                             ; preds = %B64\\n  %retptr.repack.repack83 = bitcast [2 x { i8*, i8*, i64, i64, double*, [1 x i64], [1 x i64] }]* %retptr to i8**\\n  store i8* %.7.i.i.i, i8** %retptr.repack.repack83, align 8\\n  %retptr.repack.repack16 = getelementptr inbounds [2 x { i8*, i8*, i64, i64, double*, [1 x i64], [1 x i64] }], [2 x { i8*, i8*, i64, i64, double*, [1 x i64], [1 x i64] }]* %retptr, i64 0, i64 0, i32 1\\n  store i8* null, i8** %retptr.repack.repack16, align 8\\n  %retptr.repack.repack18 = getelementptr inbounds [2 x { i8*, i8*, i64, i64, double*, [1 x i64], [1 x i64] }], [2 x { i8*, i8*, i64, i64, double*, [1 x i64], [1 x i64] }]* %retptr, i64 0, i64 0, i32 2\\n  store i64 10000000, i64* %retptr.repack.repack18, align 8\\n  %retptr.repack.repack20 = getelementptr inbounds [2 x { i8*, i8*, i64, i64, double*, [1 x i64], [1 x i64] }], [2 x { i8*, i8*, i64, i64, double*, [1 x i64], [1 x i64] }]* %retptr, i64 0, i64 0, i32 3\\n  store i64 8, i64* %retptr.repack.repack20, align 8\\n  %retptr.repack.repack22 = getelementptr inbounds [2 x { i8*, i8*, i64, i64, double*, [1 x i64], [1 x i64] }], [2 x { i8*, i8*, i64, i64, double*, [1 x i64], [1 x i64] }]* %retptr, i64 0, i64 0, i32 4\\n  store double* %.6.i1.i, double** %retptr.repack.repack22, align 8\\n  %5 = getelementptr inbounds [2 x { i8*, i8*, i64, i64, double*, [1 x i64], [1 x i64] }], [2 x { i8*, i8*, i64, i64, double*, [1 x i64], [1 x i64] }]* %retptr, i64 0, i64 0, i32 5, i64 0\\n  store i64 10000000, i64* %5, align 8\\n  %6 = getelementptr inbounds [2 x { i8*, i8*, i64, i64, double*, [1 x i64], [1 x i64] }], [2 x { i8*, i8*, i64, i64, double*, [1 x i64], [1 x i64] }]* %retptr, i64 0, i64 0, i32 6, i64 0\\n  store i64 8, i64* %6, align 8\\n  %retptr.repack14.repack = getelementptr inbounds [2 x { i8*, i8*, i64, i64, double*, [1 x i64], [1 x i64] }], [2 x { i8*, i8*, i64, i64, double*, [1 x i64], [1 x i64] }]* %retptr, i64 0, i64 1, i32 0\\n  store i8* %.7.i.i.i2, i8** %retptr.repack14.repack, align 8\\n  %retptr.repack14.repack28 = getelementptr inbounds [2 x { i8*, i8*, i64, i64, double*, [1 x i64], [1 x i64] }], [2 x { i8*, i8*, i64, i64, double*, [1 x i64], [1 x i64] }]* %retptr, i64 0, i64 1, i32 1\\n  store i8* null, i8** %retptr.repack14.repack28, align 8\\n  %retptr.repack14.repack30 = getelementptr inbounds [2 x { i8*, i8*, i64, i64, double*, [1 x i64], [1 x i64] }], [2 x { i8*, i8*, i64, i64, double*, [1 x i64], [1 x i64] }]* %retptr, i64 0, i64 1, i32 2\\n  store i64 10000000, i64* %retptr.repack14.repack30, align 8\\n  %retptr.repack14.repack32 = getelementptr inbounds [2 x { i8*, i8*, i64, i64, double*, [1 x i64], [1 x i64] }], [2 x { i8*, i8*, i64, i64, double*, [1 x i64], [1 x i64] }]* %retptr, i64 0, i64 1, i32 3\\n  store i64 8, i64* %retptr.repack14.repack32, align 8\\n  %retptr.repack14.repack34 = getelementptr inbounds [2 x { i8*, i8*, i64, i64, double*, [1 x i64], [1 x i64] }], [2 x { i8*, i8*, i64, i64, double*, [1 x i64], [1 x i64] }]* %retptr, i64 0, i64 1, i32 4\\n  store double* %.6.i1.i6, double** %retptr.repack14.repack34, align 8\\n  %7 = getelementptr inbounds [2 x { i8*, i8*, i64, i64, double*, [1 x i64], [1 x i64] }], [2 x { i8*, i8*, i64, i64, double*, [1 x i64], [1 x i64] }]* %retptr, i64 0, i64 1, i32 5, i64 0\\n  store i64 10000000, i64* %7, align 8\\n  %8 = getelementptr inbounds [2 x { i8*, i8*, i64, i64, double*, [1 x i64], [1 x i64] }], [2 x { i8*, i8*, i64, i64, double*, [1 x i64], [1 x i64] }]* %retptr, i64 0, i64 1, i32 6, i64 0\\n  store i64 8, i64* %8, align 8\\n  br label %common.ret\\n\\nB0.endif.if:                                      ; preds = %B0.endif\\n  store { i8*, i32, i8*, i8*, i32 }* @.const.picklebuf.140371086208256, { i8*, i32, i8*, i8*, i32 }** %excinfo, align 8\\n  br label %common.ret\\n\\nB0.endif.endif:                                   ; preds = %B0.endif\\n  %.5.i.i = getelementptr i8, i8* %.7.i.i.i, i64 24\\n  %9 = bitcast i8* %.5.i.i to double**\\n  %.6.i1.i = load double*, double** %9, align 8, !noalias !11\\n  %.7.i.i.i2 = tail call i8* @NRT_MemInfo_alloc_aligned(i64 80000000, i32 32), !noalias !12\\n  %.8.i.i.i3 = icmp eq i8* %.7.i.i.i2, null\\n  br i1 %.8.i.i.i3, label %B0.endif.endif.if, label %_ZN5numba2np8arrayobj11ol_np_empty12_3clocals_3e4implB2v5B42c8tJTIcFKzyF2ILShI4CrgQElcaMVJhEEUSJJgA_3dEx48omitted_28default_3d_3cclass_20_27float_27_3e_29.exit13, !prof !10\\n\\n_ZN5numba2np8arrayobj11ol_np_empty12_3clocals_3e4implB2v5B42c8tJTIcFKzyF2ILShI4CrgQElcaMVJhEEUSJJgA_3dEx48omitted_28default_3d_3cclass_20_27float_27_3e_29.exit13: ; preds = %B0.endif.endif\\n  %.5.i.i5 = getelementptr i8, i8* %.7.i.i.i2, i64 24\\n  %10 = bitcast i8* %.5.i.i5 to double**\\n  %.6.i1.i6 = load double*, double** %10, align 8, !noalias !22\\n  br label %B64\\n\\nB0.endif.endif.if:                                ; preds = %B0.endif.endif\\n  store { i8*, i32, i8*, i8*, i32 }* @.const.picklebuf.140371086208256, { i8*, i32, i8*, i8*, i32 }** %excinfo, align 8\\n  br label %common.ret\\n}\\n\\ndefine i8* @_ZN7cpython8__main__4nshoB3v10B38c8tJTIcFKzyF2ILShI4CrgQElQb6HczSBAA_3dEdd(i8* nocapture readnone %py_closure, i8* %py_args, i8* nocapture readnone %py_kws) local_unnamed_addr {\\nentry:\\n  %.5 = alloca i8*, align 8\\n  %.6 = alloca i8*, align 8\\n  %.7 = call i32 (i8*, i8*, i64, i64, ...) @PyArg_UnpackTuple(i8* %py_args, i8* getelementptr inbounds ([5 x i8], [5 x i8]* @.const.nsho, i64 0, i64 0), i64 2, i64 2, i8** nonnull %.5, i8** nonnull %.6)\\n  %.8 = icmp eq i32 %.7, 0\\n  %.39 = alloca [2 x { i8*, i8*, i64, i64, double*, [1 x i64], [1 x i64] }], align 8\\n  %excinfo = alloca { i8*, i32, i8*, i8*, i32 }*, align 8\\n  store { i8*, i32, i8*, i8*, i32 }* null, { i8*, i32, i8*, i8*, i32 }** %excinfo, align 8\\n  %.84 = alloca { i8*, i8*, i64, i64, double*, [1 x i64], [1 x i64] }, align 8\\n  %.118 = alloca { i8*, i8*, i64, i64, double*, [1 x i64], [1 x i64] }, align 8\\n  %0 = bitcast { i8*, i8*, i64, i64, double*, [1 x i64], [1 x i64] }* %.118 to i8*\\n  call void @llvm.memset.p0i8.i64(i8* noundef nonnull align 8 dereferenceable(56) %0, i8 0, i64 56, i1 false)\\n  br i1 %.8, label %common.ret, label %entry.endif, !prof !10\\n\\ncommon.ret:                                       ; preds = %entry.endif.endif.endif.endif.endif.if.endif, %entry.endif.endif.endif.endif.endif.if.endif.if, %entry.endif.endif.endif.endif.endif.endif.endif.endif, %entry.endif.endif.endif, %entry.endif.endif, %entry, %entry.endif.endif.endif.endif.endif.if.if.if, %entry.endif.endif.endif.endif.if.endif.endif.endif, %entry.endif.if\\n  %common.ret.op = phi i8* [ null, %entry.endif.if ], [ %.58, %entry.endif.endif.endif.endif.if.endif.endif.endif ], [ null, %entry.endif.endif.endif.endif.endif.if.if.if ], [ null, %entry ], [ null, %entry.endif.endif ], [ null, %entry.endif.endif.endif ], [ null, %entry.endif.endif.endif.endif.endif.endif.endif.endif ], [ null, %entry.endif.endif.endif.endif.endif.if.endif.if ], [ null, %entry.endif.endif.endif.endif.endif.if.endif ]\\n  ret i8* %common.ret.op\\n\\nentry.endif:                                      ; preds = %entry\\n  %.12 = load i8*, i8** @_ZN08NumbaEnv8__main__4nshoB3v10B38c8tJTIcFKzyF2ILShI4CrgQElQb6HczSBAA_3dEdd, align 8\\n  %.17 = icmp eq i8* %.12, null\\n  br i1 %.17, label %entry.endif.if, label %entry.endif.endif, !prof !10\\n\\nentry.endif.if:                                   ; preds = %entry.endif\\n  call void @PyErr_SetString(i8* nonnull @PyExc_RuntimeError, i8* getelementptr inbounds ([98 x i8], [98 x i8]* @\".const.missing Environment: _ZN08NumbaEnv8__main__4nshoB3v10B38c8tJTIcFKzyF2ILShI4CrgQElQb6HczSBAA_3dEdd\", i64 0, i64 0))\\n  br label %common.ret\\n\\nentry.endif.endif:                                ; preds = %entry.endif\\n  %.21 = load i8*, i8** %.5, align 8\\n  %.22 = call i8* @PyNumber_Float(i8* %.21)\\n  %.23 = call double @PyFloat_AsDouble(i8* %.22)\\n  call void @Py_DecRef(i8* %.22)\\n  %.25 = call i8* @PyErr_Occurred()\\n  %.26.not = icmp eq i8* %.25, null\\n  br i1 %.26.not, label %entry.endif.endif.endif, label %common.ret, !prof !23\\n\\nentry.endif.endif.endif:                          ; preds = %entry.endif.endif\\n  %.30 = load i8*, i8** %.6, align 8\\n  %.31 = call i8* @PyNumber_Float(i8* %.30)\\n  %.32 = call double @PyFloat_AsDouble(i8* %.31)\\n  call void @Py_DecRef(i8* %.31)\\n  %.34 = call i8* @PyErr_Occurred()\\n  %.35.not = icmp eq i8* %.34, null\\n  br i1 %.35.not, label %entry.endif.endif.endif.endif, label %common.ret, !prof !23\\n\\nentry.endif.endif.endif.endif:                    ; preds = %entry.endif.endif.endif\\n  %1 = bitcast [2 x { i8*, i8*, i64, i64, double*, [1 x i64], [1 x i64] }]* %.39 to i8**\\n  %2 = bitcast [2 x { i8*, i8*, i64, i64, double*, [1 x i64], [1 x i64] }]* %.39 to i8*\\n  call void @llvm.memset.p0i8.i64(i8* noundef nonnull align 8 dereferenceable(112) %2, i8 0, i64 112, i1 false)\\n  %.43 = call i32 @_ZN8__main__4nshoB3v10B38c8tJTIcFKzyF2ILShI4CrgQElQb6HczSBAA_3dEdd([2 x { i8*, i8*, i64, i64, double*, [1 x i64], [1 x i64] }]* nonnull %.39, { i8*, i32, i8*, i8*, i32 }** nonnull %excinfo, double %.23, double %.32) #0\\n  %.44 = load { i8*, i32, i8*, i8*, i32 }*, { i8*, i32, i8*, i8*, i32 }** %excinfo, align 8\\n  %.51 = icmp sgt i32 %.43, 0\\n  %.52 = select i1 %.51, { i8*, i32, i8*, i8*, i32 }* %.44, { i8*, i32, i8*, i8*, i32 }* undef\\n  %.53.fca.0.0.load = load i8*, i8** %1, align 8\\n  %3 = bitcast [2 x { i8*, i8*, i64, i64, double*, [1 x i64], [1 x i64] }]* %.39 to i8*\\n  %sunkaddr = getelementptr inbounds i8, i8* %3, i64 8\\n  %4 = bitcast i8* %sunkaddr to i8**\\n  %.53.fca.0.1.load = load i8*, i8** %4, align 8\\n  %5 = bitcast [2 x { i8*, i8*, i64, i64, double*, [1 x i64], [1 x i64] }]* %.39 to i8*\\n  %sunkaddr4 = getelementptr inbounds i8, i8* %5, i64 16\\n  %6 = bitcast i8* %sunkaddr4 to i64*\\n  %.53.fca.0.2.load = load i64, i64* %6, align 8\\n  %7 = bitcast [2 x { i8*, i8*, i64, i64, double*, [1 x i64], [1 x i64] }]* %.39 to i8*\\n  %sunkaddr5 = getelementptr inbounds i8, i8* %7, i64 24\\n  %8 = bitcast i8* %sunkaddr5 to i64*\\n  %.53.fca.0.3.load = load i64, i64* %8, align 8\\n  %9 = bitcast [2 x { i8*, i8*, i64, i64, double*, [1 x i64], [1 x i64] }]* %.39 to i8*\\n  %sunkaddr6 = getelementptr inbounds i8, i8* %9, i64 32\\n  %10 = bitcast i8* %sunkaddr6 to double**\\n  %.53.fca.0.4.load = load double*, double** %10, align 8\\n  %11 = bitcast [2 x { i8*, i8*, i64, i64, double*, [1 x i64], [1 x i64] }]* %.39 to i8*\\n  %sunkaddr7 = getelementptr inbounds i8, i8* %11, i64 40\\n  %12 = bitcast i8* %sunkaddr7 to i64*\\n  %.53.fca.0.5.0.load = load i64, i64* %12, align 8\\n  %13 = bitcast [2 x { i8*, i8*, i64, i64, double*, [1 x i64], [1 x i64] }]* %.39 to i8*\\n  %sunkaddr8 = getelementptr inbounds i8, i8* %13, i64 48\\n  %14 = bitcast i8* %sunkaddr8 to i64*\\n  %.53.fca.0.6.0.load = load i64, i64* %14, align 8\\n  %15 = bitcast [2 x { i8*, i8*, i64, i64, double*, [1 x i64], [1 x i64] }]* %.39 to i8*\\n  %sunkaddr9 = getelementptr inbounds i8, i8* %15, i64 56\\n  %16 = bitcast i8* %sunkaddr9 to i8**\\n  %.53.fca.1.0.load = load i8*, i8** %16, align 8\\n  %17 = bitcast [2 x { i8*, i8*, i64, i64, double*, [1 x i64], [1 x i64] }]* %.39 to i8*\\n  %sunkaddr10 = getelementptr inbounds i8, i8* %17, i64 64\\n  %18 = bitcast i8* %sunkaddr10 to i8**\\n  %.53.fca.1.1.load = load i8*, i8** %18, align 8\\n  %19 = bitcast [2 x { i8*, i8*, i64, i64, double*, [1 x i64], [1 x i64] }]* %.39 to i8*\\n  %sunkaddr11 = getelementptr inbounds i8, i8* %19, i64 72\\n  %20 = bitcast i8* %sunkaddr11 to i64*\\n  %.53.fca.1.2.load = load i64, i64* %20, align 8\\n  %21 = bitcast [2 x { i8*, i8*, i64, i64, double*, [1 x i64], [1 x i64] }]* %.39 to i8*\\n  %sunkaddr12 = getelementptr inbounds i8, i8* %21, i64 80\\n  %22 = bitcast i8* %sunkaddr12 to i64*\\n  %.53.fca.1.3.load = load i64, i64* %22, align 8\\n  %23 = bitcast [2 x { i8*, i8*, i64, i64, double*, [1 x i64], [1 x i64] }]* %.39 to i8*\\n  %sunkaddr13 = getelementptr inbounds i8, i8* %23, i64 88\\n  %24 = bitcast i8* %sunkaddr13 to double**\\n  %.53.fca.1.4.load = load double*, double** %24, align 8\\n  %25 = bitcast [2 x { i8*, i8*, i64, i64, double*, [1 x i64], [1 x i64] }]* %.39 to i8*\\n  %sunkaddr14 = getelementptr inbounds i8, i8* %25, i64 96\\n  %26 = bitcast i8* %sunkaddr14 to i64*\\n  %.53.fca.1.5.0.load = load i64, i64* %26, align 8\\n  %27 = bitcast [2 x { i8*, i8*, i64, i64, double*, [1 x i64], [1 x i64] }]* %.39 to i8*\\n  %sunkaddr15 = getelementptr inbounds i8, i8* %27, i64 104\\n  %28 = bitcast i8* %sunkaddr15 to i64*\\n  %.53.fca.1.6.0.load = load i64, i64* %28, align 8\\n  switch i32 %.43, label %entry.endif.endif.endif.endif.endif [\\n    i32 -2, label %entry.endif.endif.endif.endif.if.endif\\n    i32 0, label %entry.endif.endif.endif.endif.if.endif\\n  ]\\n\\nentry.endif.endif.endif.endif.endif:              ; preds = %entry.endif.endif.endif.endif\\n  %29 = icmp sgt i32 %.43, 0\\n  br i1 %29, label %entry.endif.endif.endif.endif.endif.if, label %entry.endif.endif.endif.endif.endif.endif.endif.endif\\n\\nentry.endif.endif.endif.endif.if.endif:           ; preds = %entry.endif.endif.endif.endif, %entry.endif.endif.endif.endif\\n  %.58 = call i8* @PyTuple_New(i32 2)\\n  %sunkaddr16 = getelementptr i8, i8* %.12, i64 24\\n  %30 = bitcast i8* %sunkaddr16 to i8**\\n  %.65 = load i8*, i8** %30, align 8\\n  %.69.not = icmp eq i8* %.65, null\\n  br i1 %.69.not, label %entry.endif.endif.endif.endif.if.endif.else, label %entry.endif.endif.endif.endif.if.endif.if\\n\\nentry.endif.endif.endif.endif.if.endif.if:        ; preds = %entry.endif.endif.endif.endif.if.endif\\n  %.71 = call i8* @PyList_GetItem(i8* nonnull %.65, i64 0)\\n  br label %entry.endif.endif.endif.endif.if.endif.endif\\n\\nentry.endif.endif.endif.endif.if.endif.else:      ; preds = %entry.endif.endif.endif.endif.if.endif\\n  call void @PyErr_SetString(i8* nonnull @PyExc_RuntimeError, i8* getelementptr inbounds ([37 x i8], [37 x i8]* @\".const.`env.consts` is NULL in `read_const`\", i64 0, i64 0))\\n  br label %entry.endif.endif.endif.endif.if.endif.endif\\n\\nentry.endif.endif.endif.endif.if.endif.endif:     ; preds = %entry.endif.endif.endif.endif.if.endif.else, %entry.endif.endif.endif.endif.if.endif.if\\n  %.66.0 = phi i8* [ %.71, %entry.endif.endif.endif.endif.if.endif.if ], [ null, %entry.endif.endif.endif.endif.if.endif.else ]\\n  %31 = bitcast { i8*, i8*, i64, i64, double*, [1 x i64], [1 x i64] }* %.84 to i8**\\n  %.83 = call i8* @numba_unpickle(i8* getelementptr inbounds ([32 x i8], [32 x i8]* @.const.pickledata.140372018472256, i64 0, i64 0), i32 32, i8* getelementptr inbounds ([20 x i8], [20 x i8]* @.const.pickledata.140372018472256.sha1, i64 0, i64 0))\\n  store i8* %.53.fca.0.0.load, i8** %31, align 8\\n  %32 = bitcast { i8*, i8*, i64, i64, double*, [1 x i64], [1 x i64] }* %.84 to i8*\\n  %sunkaddr17 = getelementptr inbounds i8, i8* %32, i64 8\\n  %33 = bitcast i8* %sunkaddr17 to i8**\\n  store i8* %.53.fca.0.1.load, i8** %33, align 8\\n  %34 = bitcast { i8*, i8*, i64, i64, double*, [1 x i64], [1 x i64] }* %.84 to i8*\\n  %sunkaddr18 = getelementptr inbounds i8, i8* %34, i64 16\\n  %35 = bitcast i8* %sunkaddr18 to i64*\\n  store i64 %.53.fca.0.2.load, i64* %35, align 8\\n  %36 = bitcast { i8*, i8*, i64, i64, double*, [1 x i64], [1 x i64] }* %.84 to i8*\\n  %sunkaddr19 = getelementptr inbounds i8, i8* %36, i64 24\\n  %37 = bitcast i8* %sunkaddr19 to i64*\\n  store i64 %.53.fca.0.3.load, i64* %37, align 8\\n  %38 = bitcast { i8*, i8*, i64, i64, double*, [1 x i64], [1 x i64] }* %.84 to i8*\\n  %sunkaddr20 = getelementptr inbounds i8, i8* %38, i64 32\\n  %39 = bitcast i8* %sunkaddr20 to double**\\n  store double* %.53.fca.0.4.load, double** %39, align 8\\n  %40 = bitcast { i8*, i8*, i64, i64, double*, [1 x i64], [1 x i64] }* %.84 to i8*\\n  %sunkaddr21 = getelementptr inbounds i8, i8* %40, i64 40\\n  %41 = bitcast i8* %sunkaddr21 to i64*\\n  store i64 %.53.fca.0.5.0.load, i64* %41, align 8\\n  %42 = bitcast { i8*, i8*, i64, i64, double*, [1 x i64], [1 x i64] }* %.84 to i8*\\n  %sunkaddr22 = getelementptr inbounds i8, i8* %42, i64 48\\n  %43 = bitcast i8* %sunkaddr22 to i64*\\n  store i64 %.53.fca.0.6.0.load, i64* %43, align 8\\n  %.87 = bitcast { i8*, i8*, i64, i64, double*, [1 x i64], [1 x i64] }* %.84 to i8*\\n  %.88 = call i8* @NRT_adapt_ndarray_to_python_acqref(i8* nonnull %.87, i8* %.83, i32 1, i32 1, i8* %.66.0)\\n  call void @NRT_decref(i8* %.53.fca.0.0.load)\\n  %.92 = call i32 @PyTuple_SetItem(i8* %.58, i32 0, i8* %.88)\\n  %sunkaddr23 = getelementptr i8, i8* %.12, i64 24\\n  %44 = bitcast i8* %sunkaddr23 to i8**\\n  %.99 = load i8*, i8** %44, align 8\\n  %.103.not = icmp eq i8* %.99, null\\n  br i1 %.103.not, label %entry.endif.endif.endif.endif.if.endif.endif.else, label %entry.endif.endif.endif.endif.if.endif.endif.if\\n\\nentry.endif.endif.endif.endif.if.endif.endif.if:  ; preds = %entry.endif.endif.endif.endif.if.endif.endif\\n  %.105 = call i8* @PyList_GetItem(i8* nonnull %.99, i64 0)\\n  br label %entry.endif.endif.endif.endif.if.endif.endif.endif\\n\\nentry.endif.endif.endif.endif.if.endif.endif.else: ; preds = %entry.endif.endif.endif.endif.if.endif.endif\\n  call void @PyErr_SetString(i8* nonnull @PyExc_RuntimeError, i8* getelementptr inbounds ([37 x i8], [37 x i8]* @\".const.`env.consts` is NULL in `read_const`\", i64 0, i64 0))\\n  br label %entry.endif.endif.endif.endif.if.endif.endif.endif\\n\\nentry.endif.endif.endif.endif.if.endif.endif.endif: ; preds = %entry.endif.endif.endif.endif.if.endif.endif.else, %entry.endif.endif.endif.endif.if.endif.endif.if\\n  %.100.0 = phi i8* [ %.105, %entry.endif.endif.endif.endif.if.endif.endif.if ], [ null, %entry.endif.endif.endif.endif.if.endif.endif.else ]\\n  %45 = bitcast { i8*, i8*, i64, i64, double*, [1 x i64], [1 x i64] }* %.118 to i8**\\n  %.117 = call i8* @numba_unpickle(i8* getelementptr inbounds ([32 x i8], [32 x i8]* @.const.pickledata.140372018472256, i64 0, i64 0), i32 32, i8* getelementptr inbounds ([20 x i8], [20 x i8]* @.const.pickledata.140372018472256.sha1, i64 0, i64 0))\\n  store i8* %.53.fca.1.0.load, i8** %45, align 8\\n  %46 = bitcast { i8*, i8*, i64, i64, double*, [1 x i64], [1 x i64] }* %.118 to i8*\\n  %sunkaddr24 = getelementptr inbounds i8, i8* %46, i64 8\\n  %47 = bitcast i8* %sunkaddr24 to i8**\\n  store i8* %.53.fca.1.1.load, i8** %47, align 8\\n  %48 = bitcast { i8*, i8*, i64, i64, double*, [1 x i64], [1 x i64] }* %.118 to i8*\\n  %sunkaddr25 = getelementptr inbounds i8, i8* %48, i64 16\\n  %49 = bitcast i8* %sunkaddr25 to i64*\\n  store i64 %.53.fca.1.2.load, i64* %49, align 8\\n  %50 = bitcast { i8*, i8*, i64, i64, double*, [1 x i64], [1 x i64] }* %.118 to i8*\\n  %sunkaddr26 = getelementptr inbounds i8, i8* %50, i64 24\\n  %51 = bitcast i8* %sunkaddr26 to i64*\\n  store i64 %.53.fca.1.3.load, i64* %51, align 8\\n  %52 = bitcast { i8*, i8*, i64, i64, double*, [1 x i64], [1 x i64] }* %.118 to i8*\\n  %sunkaddr27 = getelementptr inbounds i8, i8* %52, i64 32\\n  %53 = bitcast i8* %sunkaddr27 to double**\\n  store double* %.53.fca.1.4.load, double** %53, align 8\\n  %54 = bitcast { i8*, i8*, i64, i64, double*, [1 x i64], [1 x i64] }* %.118 to i8*\\n  %sunkaddr28 = getelementptr inbounds i8, i8* %54, i64 40\\n  %55 = bitcast i8* %sunkaddr28 to i64*\\n  store i64 %.53.fca.1.5.0.load, i64* %55, align 8\\n  %56 = bitcast { i8*, i8*, i64, i64, double*, [1 x i64], [1 x i64] }* %.118 to i8*\\n  %sunkaddr29 = getelementptr inbounds i8, i8* %56, i64 48\\n  %57 = bitcast i8* %sunkaddr29 to i64*\\n  store i64 %.53.fca.1.6.0.load, i64* %57, align 8\\n  %.121 = bitcast { i8*, i8*, i64, i64, double*, [1 x i64], [1 x i64] }* %.118 to i8*\\n  %.122 = call i8* @NRT_adapt_ndarray_to_python_acqref(i8* nonnull %.121, i8* %.117, i32 1, i32 1, i8* %.100.0)\\n  call void @NRT_decref(i8* %.53.fca.1.0.load)\\n  %.126 = call i32 @PyTuple_SetItem(i8* %.58, i32 1, i8* %.122)\\n  br label %common.ret\\n\\nentry.endif.endif.endif.endif.endif.if:           ; preds = %entry.endif.endif.endif.endif.endif\\n  call void @PyErr_Clear()\\n  %.131 = load { i8*, i32, i8*, i8*, i32 }, { i8*, i32, i8*, i8*, i32 }* %.52, align 8\\n  %.132 = extractvalue { i8*, i32, i8*, i8*, i32 } %.131, 4\\n  %.133 = icmp sgt i32 %.132, 0\\n  %.136 = extractvalue { i8*, i32, i8*, i8*, i32 } %.131, 0\\n  %.138 = extractvalue { i8*, i32, i8*, i8*, i32 } %.131, 1\\n  br i1 %.133, label %entry.endif.endif.endif.endif.endif.if.if, label %entry.endif.endif.endif.endif.endif.if.else\\n\\nentry.endif.endif.endif.endif.endif.if.if:        ; preds = %entry.endif.endif.endif.endif.endif.if\\n  %.139 = sext i32 %.138 to i64\\n  %.140 = call i8* @PyBytes_FromStringAndSize(i8* %.136, i64 %.139)\\n  %.141 = load { i8*, i32, i8*, i8*, i32 }, { i8*, i32, i8*, i8*, i32 }* %.52, align 8\\n  %.142 = extractvalue { i8*, i32, i8*, i8*, i32 } %.141, 2\\n  %.144 = extractvalue { i8*, i32, i8*, i8*, i32 } %.141, 3\\n  %.145 = bitcast i8* %.144 to i8* (i8*)*\\n  %.146 = call i8* %.145(i8* %.142)\\n  %.147 = icmp eq i8* %.146, null\\n  br i1 %.147, label %entry.endif.endif.endif.endif.endif.if.if.if, label %entry.endif.endif.endif.endif.endif.if.if.endif, !prof !10\\n\\nentry.endif.endif.endif.endif.endif.if.else:      ; preds = %entry.endif.endif.endif.endif.endif.if\\n  %.160 = extractvalue { i8*, i32, i8*, i8*, i32 } %.131, 2\\n  %.161 = call i8* @numba_unpickle(i8* %.136, i32 %.138, i8* %.160)\\n  br label %entry.endif.endif.endif.endif.endif.if.endif\\n\\nentry.endif.endif.endif.endif.endif.if.endif:     ; preds = %entry.endif.endif.endif.endif.endif.if.if.endif, %entry.endif.endif.endif.endif.endif.if.else\\n  %.163 = phi i8* [ %.151, %entry.endif.endif.endif.endif.endif.if.if.endif ], [ %.161, %entry.endif.endif.endif.endif.endif.if.else ]\\n  %.164.not = icmp eq i8* %.163, null\\n  br i1 %.164.not, label %common.ret, label %entry.endif.endif.endif.endif.endif.if.endif.if, !prof !10\\n\\nentry.endif.endif.endif.endif.endif.if.if.if:     ; preds = %entry.endif.endif.endif.endif.endif.if.if\\n  call void @PyErr_SetString(i8* nonnull @PyExc_RuntimeError, i8* getelementptr inbounds ([61 x i8], [61 x i8]* @\".const.Error creating Python tuple from runtime exception arguments\", i64 0, i64 0))\\n  br label %common.ret\\n\\nentry.endif.endif.endif.endif.endif.if.if.endif:  ; preds = %entry.endif.endif.endif.endif.endif.if.if\\n  %.151 = call i8* @numba_runtime_build_excinfo_struct(i8* %.140, i8* nonnull %.146)\\n  %.152 = bitcast { i8*, i32, i8*, i8*, i32 }* %.52 to i8*\\n  call void @NRT_Free(i8* nonnull %.152)\\n  br label %entry.endif.endif.endif.endif.endif.if.endif\\n\\nentry.endif.endif.endif.endif.endif.if.endif.if:  ; preds = %entry.endif.endif.endif.endif.endif.if.endif\\n  call void @numba_do_raise(i8* nonnull %.163)\\n  br label %common.ret\\n\\nentry.endif.endif.endif.endif.endif.endif.endif.endif: ; preds = %entry.endif.endif.endif.endif.endif\\n  call void @PyErr_SetString(i8* nonnull @PyExc_SystemError, i8* getelementptr inbounds ([43 x i8], [43 x i8]* @\".const.unknown error when calling native function\", i64 0, i64 0))\\n  br label %common.ret\\n}\\n\\ndeclare i32 @PyArg_UnpackTuple(i8*, i8*, i64, i64, ...) local_unnamed_addr\\n\\ndeclare void @PyErr_SetString(i8*, i8*) local_unnamed_addr\\n\\ndeclare i8* @PyNumber_Float(i8*) local_unnamed_addr\\n\\ndeclare double @PyFloat_AsDouble(i8*) local_unnamed_addr\\n\\ndeclare void @Py_DecRef(i8*) local_unnamed_addr\\n\\ndeclare i8* @PyErr_Occurred() local_unnamed_addr\\n\\ndeclare i8* @PyTuple_New(i32) local_unnamed_addr\\n\\ndeclare i8* @PyList_GetItem(i8*, i64) local_unnamed_addr\\n\\ndeclare i8* @numba_unpickle(i8*, i32, i8*) local_unnamed_addr\\n\\ndeclare i8* @NRT_adapt_ndarray_to_python_acqref(i8* nocapture, i8*, i32, i32, i8*) local_unnamed_addr\\n\\ndeclare i32 @PyTuple_SetItem(i8*, i32, i8*) local_unnamed_addr\\n\\ndeclare void @PyErr_Clear() local_unnamed_addr\\n\\ndeclare i8* @PyBytes_FromStringAndSize(i8*, i64) local_unnamed_addr\\n\\ndeclare i8* @numba_runtime_build_excinfo_struct(i8*, i8*) local_unnamed_addr\\n\\ndeclare void @NRT_Free(i8*) local_unnamed_addr\\n\\ndeclare void @numba_do_raise(i8*) local_unnamed_addr\\n\\ndeclare void @PyErr_SetNone(i8*) local_unnamed_addr\\n\\ndefine [2 x { i8*, i8*, i64, i64, double*, [1 x i64], [1 x i64] }] @cfunc._ZN8__main__4nshoB3v10B38c8tJTIcFKzyF2ILShI4CrgQElQb6HczSBAA_3dEdd(double %.1, double %.2) local_unnamed_addr {\\nentry:\\n  %.4 = alloca [2 x { i8*, i8*, i64, i64, double*, [1 x i64], [1 x i64] }], align 8\\n  %.fca.0.0.gep1 = bitcast [2 x { i8*, i8*, i64, i64, double*, [1 x i64], [1 x i64] }]* %.4 to i8**\\n  %.fca.0.1.gep = getelementptr inbounds [2 x { i8*, i8*, i64, i64, double*, [1 x i64], [1 x i64] }], [2 x { i8*, i8*, i64, i64, double*, [1 x i64], [1 x i64] }]* %.4, i64 0, i64 0, i32 1\\n  %.fca.0.2.gep = getelementptr inbounds [2 x { i8*, i8*, i64, i64, double*, [1 x i64], [1 x i64] }], [2 x { i8*, i8*, i64, i64, double*, [1 x i64], [1 x i64] }]* %.4, i64 0, i64 0, i32 2\\n  %.fca.0.3.gep = getelementptr inbounds [2 x { i8*, i8*, i64, i64, double*, [1 x i64], [1 x i64] }], [2 x { i8*, i8*, i64, i64, double*, [1 x i64], [1 x i64] }]* %.4, i64 0, i64 0, i32 3\\n  %.fca.0.4.gep = getelementptr inbounds [2 x { i8*, i8*, i64, i64, double*, [1 x i64], [1 x i64] }], [2 x { i8*, i8*, i64, i64, double*, [1 x i64], [1 x i64] }]* %.4, i64 0, i64 0, i32 4\\n  %.fca.0.5.0.gep = getelementptr inbounds [2 x { i8*, i8*, i64, i64, double*, [1 x i64], [1 x i64] }], [2 x { i8*, i8*, i64, i64, double*, [1 x i64], [1 x i64] }]* %.4, i64 0, i64 0, i32 5, i64 0\\n  %.fca.0.6.0.gep = getelementptr inbounds [2 x { i8*, i8*, i64, i64, double*, [1 x i64], [1 x i64] }], [2 x { i8*, i8*, i64, i64, double*, [1 x i64], [1 x i64] }]* %.4, i64 0, i64 0, i32 6, i64 0\\n  %.fca.1.0.gep = getelementptr inbounds [2 x { i8*, i8*, i64, i64, double*, [1 x i64], [1 x i64] }], [2 x { i8*, i8*, i64, i64, double*, [1 x i64], [1 x i64] }]* %.4, i64 0, i64 1, i32 0\\n  %.fca.1.1.gep = getelementptr inbounds [2 x { i8*, i8*, i64, i64, double*, [1 x i64], [1 x i64] }], [2 x { i8*, i8*, i64, i64, double*, [1 x i64], [1 x i64] }]* %.4, i64 0, i64 1, i32 1\\n  %.fca.1.2.gep = getelementptr inbounds [2 x { i8*, i8*, i64, i64, double*, [1 x i64], [1 x i64] }], [2 x { i8*, i8*, i64, i64, double*, [1 x i64], [1 x i64] }]* %.4, i64 0, i64 1, i32 2\\n  %.fca.1.3.gep = getelementptr inbounds [2 x { i8*, i8*, i64, i64, double*, [1 x i64], [1 x i64] }], [2 x { i8*, i8*, i64, i64, double*, [1 x i64], [1 x i64] }]* %.4, i64 0, i64 1, i32 3\\n  %.fca.1.4.gep = getelementptr inbounds [2 x { i8*, i8*, i64, i64, double*, [1 x i64], [1 x i64] }], [2 x { i8*, i8*, i64, i64, double*, [1 x i64], [1 x i64] }]* %.4, i64 0, i64 1, i32 4\\n  %.fca.1.5.0.gep = getelementptr inbounds [2 x { i8*, i8*, i64, i64, double*, [1 x i64], [1 x i64] }], [2 x { i8*, i8*, i64, i64, double*, [1 x i64], [1 x i64] }]* %.4, i64 0, i64 1, i32 5, i64 0\\n  %.fca.1.6.0.gep = getelementptr inbounds [2 x { i8*, i8*, i64, i64, double*, [1 x i64], [1 x i64] }], [2 x { i8*, i8*, i64, i64, double*, [1 x i64], [1 x i64] }]* %.4, i64 0, i64 1, i32 6, i64 0\\n  %excinfo = alloca { i8*, i32, i8*, i8*, i32 }*, align 8\\n  %0 = bitcast [2 x { i8*, i8*, i64, i64, double*, [1 x i64], [1 x i64] }]* %.4 to i8*\\n  call void @llvm.memset.p0i8.i64(i8* noundef nonnull align 8 dereferenceable(112) %0, i8 0, i64 112, i1 false)\\n  store { i8*, i32, i8*, i8*, i32 }* null, { i8*, i32, i8*, i8*, i32 }** %excinfo, align 8\\n  %.8 = call i32 @_ZN8__main__4nshoB3v10B38c8tJTIcFKzyF2ILShI4CrgQElQb6HczSBAA_3dEdd([2 x { i8*, i8*, i64, i64, double*, [1 x i64], [1 x i64] }]* nonnull %.4, { i8*, i32, i8*, i8*, i32 }** nonnull %excinfo, double %.1, double %.2) #0\\n  %.9 = load { i8*, i32, i8*, i8*, i32 }*, { i8*, i32, i8*, i8*, i32 }** %excinfo, align 8\\n  %.10.not = icmp eq i32 %.8, 0\\n  %.16 = icmp sgt i32 %.8, 0\\n  %.17 = select i1 %.16, { i8*, i32, i8*, i8*, i32 }* %.9, { i8*, i32, i8*, i8*, i32 }* undef\\n  %.18.fca.0.0.load = load i8*, i8** %.fca.0.0.gep1, align 8\\n  %.18.fca.0.0.insert = insertvalue [2 x { i8*, i8*, i64, i64, double*, [1 x i64], [1 x i64] }] poison, i8* %.18.fca.0.0.load, 0, 0\\n  %.18.fca.0.1.load = load i8*, i8** %.fca.0.1.gep, align 8\\n  %.18.fca.0.1.insert = insertvalue [2 x { i8*, i8*, i64, i64, double*, [1 x i64], [1 x i64] }] %.18.fca.0.0.insert, i8* %.18.fca.0.1.load, 0, 1\\n  %.18.fca.0.2.load = load i64, i64* %.fca.0.2.gep, align 8\\n  %.18.fca.0.2.insert = insertvalue [2 x { i8*, i8*, i64, i64, double*, [1 x i64], [1 x i64] }] %.18.fca.0.1.insert, i64 %.18.fca.0.2.load, 0, 2\\n  %.18.fca.0.3.load = load i64, i64* %.fca.0.3.gep, align 8\\n  %.18.fca.0.3.insert = insertvalue [2 x { i8*, i8*, i64, i64, double*, [1 x i64], [1 x i64] }] %.18.fca.0.2.insert, i64 %.18.fca.0.3.load, 0, 3\\n  %.18.fca.0.4.load = load double*, double** %.fca.0.4.gep, align 8\\n  %.18.fca.0.4.insert = insertvalue [2 x { i8*, i8*, i64, i64, double*, [1 x i64], [1 x i64] }] %.18.fca.0.3.insert, double* %.18.fca.0.4.load, 0, 4\\n  %.18.fca.0.5.0.load = load i64, i64* %.fca.0.5.0.gep, align 8\\n  %.18.fca.0.5.0.insert = insertvalue [2 x { i8*, i8*, i64, i64, double*, [1 x i64], [1 x i64] }] %.18.fca.0.4.insert, i64 %.18.fca.0.5.0.load, 0, 5, 0\\n  %.18.fca.0.6.0.load = load i64, i64* %.fca.0.6.0.gep, align 8\\n  %.18.fca.0.6.0.insert = insertvalue [2 x { i8*, i8*, i64, i64, double*, [1 x i64], [1 x i64] }] %.18.fca.0.5.0.insert, i64 %.18.fca.0.6.0.load, 0, 6, 0\\n  %.18.fca.1.0.load = load i8*, i8** %.fca.1.0.gep, align 8\\n  %.18.fca.1.0.insert = insertvalue [2 x { i8*, i8*, i64, i64, double*, [1 x i64], [1 x i64] }] %.18.fca.0.6.0.insert, i8* %.18.fca.1.0.load, 1, 0\\n  %.18.fca.1.1.load = load i8*, i8** %.fca.1.1.gep, align 8\\n  %.18.fca.1.1.insert = insertvalue [2 x { i8*, i8*, i64, i64, double*, [1 x i64], [1 x i64] }] %.18.fca.1.0.insert, i8* %.18.fca.1.1.load, 1, 1\\n  %.18.fca.1.2.load = load i64, i64* %.fca.1.2.gep, align 8\\n  %.18.fca.1.2.insert = insertvalue [2 x { i8*, i8*, i64, i64, double*, [1 x i64], [1 x i64] }] %.18.fca.1.1.insert, i64 %.18.fca.1.2.load, 1, 2\\n  %.18.fca.1.3.load = load i64, i64* %.fca.1.3.gep, align 8\\n  %.18.fca.1.3.insert = insertvalue [2 x { i8*, i8*, i64, i64, double*, [1 x i64], [1 x i64] }] %.18.fca.1.2.insert, i64 %.18.fca.1.3.load, 1, 3\\n  %.18.fca.1.4.load = load double*, double** %.fca.1.4.gep, align 8\\n  %.18.fca.1.4.insert = insertvalue [2 x { i8*, i8*, i64, i64, double*, [1 x i64], [1 x i64] }] %.18.fca.1.3.insert, double* %.18.fca.1.4.load, 1, 4\\n  %.18.fca.1.5.0.load = load i64, i64* %.fca.1.5.0.gep, align 8\\n  %.18.fca.1.5.0.insert = insertvalue [2 x { i8*, i8*, i64, i64, double*, [1 x i64], [1 x i64] }] %.18.fca.1.4.insert, i64 %.18.fca.1.5.0.load, 1, 5, 0\\n  %.18.fca.1.6.0.load = load i64, i64* %.fca.1.6.0.gep, align 8\\n  %.18.fca.1.6.0.insert = insertvalue [2 x { i8*, i8*, i64, i64, double*, [1 x i64], [1 x i64] }] %.18.fca.1.5.0.insert, i64 %.18.fca.1.6.0.load, 1, 6, 0\\n  %.20 = alloca i32, align 4\\n  store i32 0, i32* %.20, align 4\\n  br i1 %.10.not, label %common.ret, label %entry.if, !prof !23\\n\\nentry.if:                                         ; preds = %entry\\n  %1 = icmp sgt i32 %.8, 0\\n  call void @numba_gil_ensure(i32* nonnull %.20)\\n  br i1 %1, label %entry.if.if, label %entry.if.endif\\n\\ncommon.ret:                                       ; preds = %entry, %.23, %entry.if.if.if.if\\n  %common.ret.op = phi [2 x { i8*, i8*, i64, i64, double*, [1 x i64], [1 x i64] }] [ zeroinitializer, %entry.if.if.if.if ], [ %.18.fca.1.6.0.insert, %.23 ], [ %.18.fca.1.6.0.insert, %entry ]\\n  ret [2 x { i8*, i8*, i64, i64, double*, [1 x i64], [1 x i64] }] %common.ret.op\\n\\n.23:                                              ; preds = %entry.if.endif, %entry.if.if.endif, %entry.if.if.endif.if, %entry.if.endif.endif.endif, %entry.if.endif.if\\n  %.71 = call i8* @PyUnicode_FromString(i8* getelementptr inbounds ([53 x i8], [53 x i8]* @\".const.<numba.core.cpu.CPUContext object at 0x7faab257f610>\", i64 0, i64 0))\\n  call void @PyErr_WriteUnraisable(i8* %.71)\\n  call void @Py_DecRef(i8* %.71)\\n  call void @numba_gil_release(i32* nonnull %.20)\\n  br label %common.ret\\n\\nentry.if.if:                                      ; preds = %entry.if\\n  call void @PyErr_Clear()\\n  %.26 = load { i8*, i32, i8*, i8*, i32 }, { i8*, i32, i8*, i8*, i32 }* %.17, align 8\\n  %.27 = extractvalue { i8*, i32, i8*, i8*, i32 } %.26, 4\\n  %.28 = icmp sgt i32 %.27, 0\\n  %.31 = extractvalue { i8*, i32, i8*, i8*, i32 } %.26, 0\\n  %.33 = extractvalue { i8*, i32, i8*, i8*, i32 } %.26, 1\\n  br i1 %.28, label %entry.if.if.if, label %entry.if.if.else\\n\\nentry.if.endif:                                   ; preds = %entry.if\\n  switch i32 %.8, label %entry.if.endif.endif.endif [\\n    i32 -3, label %entry.if.endif.if\\n    i32 -1, label %.23\\n  ]\\n\\nentry.if.if.if:                                   ; preds = %entry.if.if\\n  %.34 = sext i32 %.33 to i64\\n  %.35 = call i8* @PyBytes_FromStringAndSize(i8* %.31, i64 %.34)\\n  %.36 = load { i8*, i32, i8*, i8*, i32 }, { i8*, i32, i8*, i8*, i32 }* %.17, align 8\\n  %.37 = extractvalue { i8*, i32, i8*, i8*, i32 } %.36, 2\\n  %.39 = extractvalue { i8*, i32, i8*, i8*, i32 } %.36, 3\\n  %.40 = bitcast i8* %.39 to i8* (i8*)*\\n  %.41 = call i8* %.40(i8* %.37)\\n  %.42 = icmp eq i8* %.41, null\\n  br i1 %.42, label %entry.if.if.if.if, label %entry.if.if.if.endif, !prof !10\\n\\nentry.if.if.else:                                 ; preds = %entry.if.if\\n  %.55 = extractvalue { i8*, i32, i8*, i8*, i32 } %.26, 2\\n  %.56 = call i8* @numba_unpickle(i8* %.31, i32 %.33, i8* %.55)\\n  br label %entry.if.if.endif\\n\\nentry.if.if.endif:                                ; preds = %entry.if.if.if.endif, %entry.if.if.else\\n  %.58 = phi i8* [ %.46, %entry.if.if.if.endif ], [ %.56, %entry.if.if.else ]\\n  %.59.not = icmp eq i8* %.58, null\\n  br i1 %.59.not, label %.23, label %entry.if.if.endif.if, !prof !10\\n\\nentry.if.if.if.if:                                ; preds = %entry.if.if.if\\n  call void @PyErr_SetString(i8* nonnull @PyExc_RuntimeError, i8* getelementptr inbounds ([61 x i8], [61 x i8]* @\".const.Error creating Python tuple from runtime exception arguments.1\", i64 0, i64 0))\\n  br label %common.ret\\n\\nentry.if.if.if.endif:                             ; preds = %entry.if.if.if\\n  %.46 = call i8* @numba_runtime_build_excinfo_struct(i8* %.35, i8* nonnull %.41)\\n  %.47 = bitcast { i8*, i32, i8*, i8*, i32 }* %.17 to i8*\\n  call void @NRT_Free(i8* nonnull %.47)\\n  br label %entry.if.if.endif\\n\\nentry.if.if.endif.if:                             ; preds = %entry.if.if.endif\\n  call void @numba_do_raise(i8* nonnull %.58)\\n  br label %.23\\n\\nentry.if.endif.if:                                ; preds = %entry.if.endif\\n  call void @PyErr_SetNone(i8* nonnull @PyExc_StopIteration)\\n  br label %.23\\n\\nentry.if.endif.endif.endif:                       ; preds = %entry.if.endif\\n  call void @PyErr_SetString(i8* nonnull @PyExc_SystemError, i8* getelementptr inbounds ([43 x i8], [43 x i8]* @\".const.unknown error when calling native function.2\", i64 0, i64 0))\\n  br label %.23\\n}\\n\\ndeclare void @numba_gil_ensure(i32*) local_unnamed_addr\\n\\ndeclare i8* @PyUnicode_FromString(i8*) local_unnamed_addr\\n\\ndeclare void @PyErr_WriteUnraisable(i8*) local_unnamed_addr\\n\\ndeclare void @numba_gil_release(i32*) local_unnamed_addr\\n\\ndeclare noalias i8* @NRT_MemInfo_alloc_aligned(i64, i32) local_unnamed_addr\\n\\n; Function Attrs: noinline\\ndefine linkonce_odr void @NRT_decref(i8* %.1) local_unnamed_addr #0 {\\n.3:\\n  %.4 = icmp eq i8* %.1, null\\n  br i1 %.4, label %common.ret1, label %.3.endif, !prof !10\\n\\ncommon.ret1:                                      ; preds = %.3, %.3.endif\\n  ret void\\n\\n.3.endif:                                         ; preds = %.3\\n  fence release\\n  %.8 = bitcast i8* %.1 to i64*\\n  %.4.i = atomicrmw sub i64* %.8, i64 1 monotonic, align 8\\n  %.10 = icmp eq i64 %.4.i, 1\\n  br i1 %.10, label %.3.endif.if, label %common.ret1, !prof !10\\n\\n.3.endif.if:                                      ; preds = %.3.endif\\n  fence acquire\\n  tail call void @NRT_MemInfo_call_dtor(i8* nonnull %.1)\\n  ret void\\n}\\n\\ndeclare void @NRT_MemInfo_call_dtor(i8*) local_unnamed_addr\\n\\n; Function Attrs: argmemonly nofree nounwind willreturn writeonly\\ndeclare void @llvm.memset.p0i8.i64(i8* nocapture writeonly, i8, i64, i1 immarg) #1\\n\\nattributes #0 = { noinline }\\nattributes #1 = { argmemonly nofree nounwind willreturn writeonly }\\n\\n!0 = !{!1, !3, !4, !6, !7, !9}\\n!1 = distinct !{!1, !2, !\"_ZN5numba2np8arrayobj18_ol_array_allocate12_3clocals_3e4implB2v7B42c8tJTIcFKzyF2ILShI4CrgQElcaMVJhEEUSJJgA_3dEN29typeref_5b_3cclass_20_27numba4core5types8npytypes14Array_27_3e_5dExj: %retptr\"}\\n!2 = distinct !{!2, !\"_ZN5numba2np8arrayobj18_ol_array_allocate12_3clocals_3e4implB2v7B42c8tJTIcFKzyF2ILShI4CrgQElcaMVJhEEUSJJgA_3dEN29typeref_5b_3cclass_20_27numba4core5types8npytypes14Array_27_3e_5dExj\"}\\n!3 = distinct !{!3, !2, !\"_ZN5numba2np8arrayobj18_ol_array_allocate12_3clocals_3e4implB2v7B42c8tJTIcFKzyF2ILShI4CrgQElcaMVJhEEUSJJgA_3dEN29typeref_5b_3cclass_20_27numba4core5types8npytypes14Array_27_3e_5dExj: %excinfo\"}\\n!4 = distinct !{!4, !5, !\"_ZN5numba2np8arrayobj15_call_allocatorB2v6B42c8tJTC_2fWQI8IW1CiAAYKPM6RBFDjESZRVAJmaQIAEN29typeref_5b_3cclass_20_27numba4core5types8npytypes14Array_27_3e_5dExj: %retptr\"}\\n!5 = distinct !{!5, !\"_ZN5numba2np8arrayobj15_call_allocatorB2v6B42c8tJTC_2fWQI8IW1CiAAYKPM6RBFDjESZRVAJmaQIAEN29typeref_5b_3cclass_20_27numba4core5types8npytypes14Array_27_3e_5dExj\"}\\n!6 = distinct !{!6, !5, !\"_ZN5numba2np8arrayobj15_call_allocatorB2v6B42c8tJTC_2fWQI8IW1CiAAYKPM6RBFDjESZRVAJmaQIAEN29typeref_5b_3cclass_20_27numba4core5types8npytypes14Array_27_3e_5dExj: %excinfo\"}\\n!7 = distinct !{!7, !8, !\"_ZN5numba2np8arrayobj11ol_np_empty12_3clocals_3e4implB2v5B42c8tJTIcFKzyF2ILShI4CrgQElcaMVJhEEUSJJgA_3dEx48omitted_28default_3d_3cclass_20_27float_27_3e_29: %retptr\"}\\n!8 = distinct !{!8, !\"_ZN5numba2np8arrayobj11ol_np_empty12_3clocals_3e4implB2v5B42c8tJTIcFKzyF2ILShI4CrgQElcaMVJhEEUSJJgA_3dEx48omitted_28default_3d_3cclass_20_27float_27_3e_29\"}\\n!9 = distinct !{!9, !8, !\"_ZN5numba2np8arrayobj11ol_np_empty12_3clocals_3e4implB2v5B42c8tJTIcFKzyF2ILShI4CrgQElcaMVJhEEUSJJgA_3dEx48omitted_28default_3d_3cclass_20_27float_27_3e_29: %excinfo\"}\\n!10 = !{!\"branch_weights\", i32 1, i32 99}\\n!11 = !{!7, !9}\\n!12 = !{!13, !15, !16, !18, !19, !21}\\n!13 = distinct !{!13, !14, !\"_ZN5numba2np8arrayobj18_ol_array_allocate12_3clocals_3e4implB2v7B42c8tJTIcFKzyF2ILShI4CrgQElcaMVJhEEUSJJgA_3dEN29typeref_5b_3cclass_20_27numba4core5types8npytypes14Array_27_3e_5dExj: %retptr\"}\\n!14 = distinct !{!14, !\"_ZN5numba2np8arrayobj18_ol_array_allocate12_3clocals_3e4implB2v7B42c8tJTIcFKzyF2ILShI4CrgQElcaMVJhEEUSJJgA_3dEN29typeref_5b_3cclass_20_27numba4core5types8npytypes14Array_27_3e_5dExj\"}\\n!15 = distinct !{!15, !14, !\"_ZN5numba2np8arrayobj18_ol_array_allocate12_3clocals_3e4implB2v7B42c8tJTIcFKzyF2ILShI4CrgQElcaMVJhEEUSJJgA_3dEN29typeref_5b_3cclass_20_27numba4core5types8npytypes14Array_27_3e_5dExj: %excinfo\"}\\n!16 = distinct !{!16, !17, !\"_ZN5numba2np8arrayobj15_call_allocatorB2v6B42c8tJTC_2fWQI8IW1CiAAYKPM6RBFDjESZRVAJmaQIAEN29typeref_5b_3cclass_20_27numba4core5types8npytypes14Array_27_3e_5dExj: %retptr\"}\\n!17 = distinct !{!17, !\"_ZN5numba2np8arrayobj15_call_allocatorB2v6B42c8tJTC_2fWQI8IW1CiAAYKPM6RBFDjESZRVAJmaQIAEN29typeref_5b_3cclass_20_27numba4core5types8npytypes14Array_27_3e_5dExj\"}\\n!18 = distinct !{!18, !17, !\"_ZN5numba2np8arrayobj15_call_allocatorB2v6B42c8tJTC_2fWQI8IW1CiAAYKPM6RBFDjESZRVAJmaQIAEN29typeref_5b_3cclass_20_27numba4core5types8npytypes14Array_27_3e_5dExj: %excinfo\"}\\n!19 = distinct !{!19, !20, !\"_ZN5numba2np8arrayobj11ol_np_empty12_3clocals_3e4implB2v5B42c8tJTIcFKzyF2ILShI4CrgQElcaMVJhEEUSJJgA_3dEx48omitted_28default_3d_3cclass_20_27float_27_3e_29: %retptr\"}\\n!20 = distinct !{!20, !\"_ZN5numba2np8arrayobj11ol_np_empty12_3clocals_3e4implB2v5B42c8tJTIcFKzyF2ILShI4CrgQElcaMVJhEEUSJJgA_3dEx48omitted_28default_3d_3cclass_20_27float_27_3e_29\"}\\n!21 = distinct !{!21, !20, !\"_ZN5numba2np8arrayobj11ol_np_empty12_3clocals_3e4implB2v5B42c8tJTIcFKzyF2ILShI4CrgQElcaMVJhEEUSJJgA_3dEx48omitted_28default_3d_3cclass_20_27float_27_3e_29: %excinfo\"}\\n!22 = !{!19, !21}\\n!23 = !{!\"branch_weights\", i32 99, i32 1}\\n'"
      ]
     },
     "execution_count": 122,
     "metadata": {},
     "output_type": "execute_result"
    }
   ],
   "source": [
    "#nsho.inspect_types()\n",
    "#nsho.inspect_asm()[(float64, float64)]\n",
    "nsho.inspect_llvm()[(float64, float64)]"
   ]
  },
  {
   "cell_type": "code",
   "execution_count": 61,
   "metadata": {},
   "outputs": [],
   "source": [
    "sp.init_printing(pretty_print=False)"
   ]
  },
  {
   "cell_type": "code",
   "execution_count": 111,
   "metadata": {},
   "outputs": [
    {
     "data": {
      "text/plain": [
       "(array([0.1       , 0.199     , 0.29601   , ..., 0.951227  , 0.9152572 ,\n",
       "        0.87013483]),\n",
       " array([ 0.99      ,  0.9701    ,  0.940499  , ..., -0.35969798,\n",
       "        -0.4512237 , -0.53823719]))"
      ]
     },
     "execution_count": 111,
     "metadata": {},
     "output_type": "execute_result"
    }
   ],
   "source": [
    "nsho(0.,1.)"
   ]
  },
  {
   "cell_type": "code",
   "execution_count": 7,
   "metadata": {},
   "outputs": [
    {
     "data": {
      "text/plain": [
       "[<matplotlib.lines.Line2D at 0x7faad0b71480>]"
      ]
     },
     "execution_count": 7,
     "metadata": {},
     "output_type": "execute_result"
    },
    {
     "data": {
      "image/png": "[encoded data removed]",
      "text/plain": [
       "<Figure size 640x480 with 1 Axes>"
      ]
     },
     "metadata": {},
     "output_type": "display_data"
    }
   ],
   "source": [
    "import matplotlib.pyplot as plt\n",
    "plt.plot(xs, label='x')\n",
    "plt.plot(vs, label='v')\n",
    "plt.plot()\n"
   ]
  },
  {
   "cell_type": "code",
   "execution_count": null,
   "metadata": {},
   "outputs": [],
   "source": []
  },
  {
   "cell_type": "markdown",
   "metadata": {},
   "source": [
    "raylib https://www.raylib.com/cheatsheet/cheatsheet.html\n",
    "sdl2\n",
    "pygame\n",
    "matplotlib animation\n"
   ]
  },
  {
   "cell_type": "code",
   "execution_count": 123,
   "metadata": {},
   "outputs": [],
   "source": [
    "%%bash\n",
    "cc ~/Documents/C/raylib/examples/examples_template.c -o /tmp/raylibexample -lraylib -lGL -lm -lpthread -ldl -lrt -lX11\n",
    "/tmp/raylibexample"
   ]
  },
  {
   "cell_type": "code",
   "execution_count": 142,
   "metadata": {},
   "outputs": [
    {
     "name": "stdout",
     "output_type": "stream",
     "text": [
      "Overwriting /tmp/sho.c\n"
     ]
    }
   ],
   "source": [
    "%%file /tmp/sho.c\n",
    "\n",
    "#include \"raylib.h\"\n",
    "\n",
    "int main(void)\n",
    "{\n",
    "    const int screenWidth = 800;\n",
    "    const int screenHeight = 450;\n",
    "\n",
    "    InitWindow(screenWidth, screenHeight, \"raylib [core] example - basic window\");\n",
    "\n",
    "    // TODO: Load resources / Initialize variables at this point\n",
    "\n",
    "    SetTargetFPS(60);\n",
    "    double x = 0.0;\n",
    "    double v = 1.0; \n",
    "    double dt = 1/60.;\n",
    "    double k = 1.0;\n",
    "    while (!WindowShouldClose())  \n",
    "    {\n",
    "        x += v * dt;\n",
    "        v += - k * x * dt;\n",
    "        double E = 0.5 * v * v + 0.5 * k * x * x;\n",
    "\n",
    "\n",
    "        BeginDrawing();\n",
    "\n",
    "            ClearBackground(RAYWHITE);\n",
    "\n",
    "            // TODO: Draw everything that requires to be drawn at this point:\n",
    "            DrawText(TextFormat(\"Energy: %f\", E ), 0, 0, 20, LIGHTGRAY);  // Example\n",
    "            //TraceLog(LOG_INFO, \"Foo\"); \n",
    "            //DrawText(\"Congrats! You created your first window!\", 190, 200, 20, LIGHTGRAY);  // Example\n",
    "            DrawCircle(screenWidth/2 + x*50, 200, 20, MAROON);\n",
    "        EndDrawing();\n",
    "        //----------------------------------------------------------------------------------\n",
    "    }\n",
    "    CloseWindow();        // Close window and OpenGL context\n",
    "    return 0;\n",
    "}\n"
   ]
  },
  {
   "cell_type": "code",
   "execution_count": 143,
   "metadata": {},
   "outputs": [
    {
     "name": "stdout",
     "output_type": "stream",
     "text": [
      "INFO: Initializing raylib 5.1-dev\n",
      "INFO: Platform backend: DESKTOP (GLFW)\n",
      "INFO: Supported raylib modules:\n",
      "INFO:     > rcore:..... loaded (mandatory)\n",
      "INFO:     > rlgl:...... loaded (mandatory)\n",
      "INFO:     > rshapes:... loaded (optional)\n",
      "INFO:     > rtextures:. loaded (optional)\n",
      "INFO:     > rtext:..... loaded (optional)\n",
      "INFO:     > rmodels:... loaded (optional)\n",
      "INFO:     > raudio:.... loaded (optional)\n",
      "INFO: DISPLAY: Device initialized successfully\n",
      "INFO:     > Display size: 1920 x 1200\n",
      "INFO:     > Screen size:  800 x 450\n",
      "INFO:     > Render size:  800 x 450\n",
      "INFO:     > Viewport offsets: 0, 0\n",
      "INFO: GLAD: OpenGL extensions loaded successfully\n",
      "INFO: GL: Supported extensions count: 227\n",
      "INFO: GL: OpenGL device information:\n",
      "INFO:     > Vendor:   Intel\n",
      "INFO:     > Renderer: Mesa Intel(R) Iris(R) Plus Graphics (ICL GT2)\n",
      "INFO:     > Version:  4.6 (Core Profile) Mesa 23.0.4-0ubuntu1~22.04.1\n",
      "INFO:     > GLSL:     4.60\n",
      "INFO: GL: VAO extension detected, VAO functions loaded successfully\n",
      "INFO: GL: NPOT textures extension detected, full NPOT textures supported\n",
      "INFO: GL: DXT compressed textures supported\n",
      "INFO: GL: ETC2/EAC compressed textures supported\n",
      "INFO: PLATFORM: DESKTOP (GLFW): Initialized successfully\n",
      "INFO: TEXTURE: [ID 1] Texture loaded successfully (1x1 | R8G8B8A8 | 1 mipmaps)\n",
      "INFO: TEXTURE: [ID 1] Default texture loaded successfully\n",
      "INFO: SHADER: [ID 1] Vertex shader compiled successfully\n",
      "INFO: SHADER: [ID 2] Fragment shader compiled successfully\n",
      "INFO: SHADER: [ID 3] Program shader loaded successfully\n",
      "INFO: SHADER: [ID 3] Default shader loaded successfully\n",
      "INFO: RLGL: Render batch vertex buffers loaded successfully in RAM (CPU)\n",
      "INFO: RLGL: Render batch vertex buffers loaded successfully in VRAM (GPU)\n",
      "INFO: RLGL: Default OpenGL state initialized successfully\n",
      "INFO: TEXTURE: [ID 2] Texture loaded successfully (128x128 | GRAY_ALPHA | 1 mipmaps)\n",
      "INFO: FONT: Default font loaded successfully (224 glyphs)\n",
      "INFO: TIMER: Target time per frame: 16.667 milliseconds\n",
      "INFO: TEXTURE: [ID 2] Unloaded texture data from VRAM (GPU)\n",
      "INFO: SHADER: [ID 3] Default shader unloaded successfully\n",
      "INFO: TEXTURE: [ID 1] Default texture unloaded successfully\n",
      "INFO: Window closed successfully\n"
     ]
    }
   ],
   "source": [
    "!cc /tmp/sho.c -o /tmp/sho -lraylib -lGL -lm -lpthread -ldl -lrt -lX11 && /tmp/sho"
   ]
  }
 ],
 "metadata": {
  "kernelspec": {
   "display_name": "Python 3",
   "language": "python",
   "name": "python3"
  },
  "language_info": {
   "codemirror_mode": {
    "name": "ipython",
    "version": 3
   },
   "file_extension": ".py",
   "mimetype": "text/x-python",
   "name": "python",
   "nbconvert_exporter": "python",
   "pygments_lexer": "ipython3",
   "version": "3.10.12"
  }
 },
 "nbformat": 4,
 "nbformat_minor": 2
}
