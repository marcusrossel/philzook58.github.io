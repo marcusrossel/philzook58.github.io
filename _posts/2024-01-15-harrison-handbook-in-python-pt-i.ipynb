{
 "cells": [
  {
   "cell_type": "markdown",
   "metadata": {},
   "source": [
    "---\n",
    "date : 2024-01-15\n",
    "layout: post\n",
    "title : \"Harrison Handbook in Python pt 1\"\n",
    "---\n",
    "\n",
    "New Years rolled around this year and I was wondering what would be a good resolution. Obviously, eating better, working out more yada yada. But I also wish I would blog more. My bar for a post has been slowly raising, which is bad. Write early, write often. Also my notes section (which I love) has started to absorb things that used to be posts. Notes has a never ending, no bow tieing aspect to it which is double edged. So I'm going to try and take Monday mornings to write something, anything, no matter how small. \n",
    "\n",
    "As a straightforward task to get the ball rolling, let's implement some stuff out of John Harrison's book in python.\n",
    "\n",
    "The Handbook of Practical Logic and Automated Reasoning is quite a book. You can find the ocaml code extracted here https://www.cl.cam.ac.uk/~jrh13/atp/. I really am just going straight down the files and translating them very directly. It's pretty mindless. I do think there is value in converting such things though. I remember distinctly a time I was quite comfortable in Haskell, but has never used OCaml. Of course I could kind of read code like this, but it takes comprehension down to 70% let's say. If you only know python, it becomes even harder. But the true contents is not language specific.\n",
    "\n",
    "I'm doing this in a jupyter notebook in vs code and outputting to markdown via `jupyter nbconvert --to markdown myfile.ipynb`. Actually, I don't even have to do this. Jekyll is figuring it out somehow. Nice.\n"
   ]
  },
  {
   "cell_type": "markdown",
   "metadata": {},
   "source": [
    "# Syntax Trees and Parsing\n",
    "I have experimented with different styles of building tree data types in python. One method is the dataclass method. You make a class for the tree type and then a dataclass per constructor which subclasses this. It has some nice features.\n",
    "\n",
    "I've been leaning towards a more lightweight style recently though, an \"s-expression\" style where you just use tuples where the first element is a string representing the constructor. The dataclass style has a lot of boiler plate.\n",
    "\n",
    "It might also be nice to use an enum rather than string tags, but I'd have to look up the library every time probably. Again this is more boiler plate that it isn't 100% clear gains me anything in the python context. In a more rigid language at least I'd get compile time checking. This is not necessarily the style I'd endorse for a large or collaborative project. Automatic sanity checking is more useful in that context."
   ]
  },
  {
   "cell_type": "code",
   "execution_count": 2,
   "metadata": {},
   "outputs": [],
   "source": [
    "# some helpers for nicer notation\n",
    "# could do it this way, but it is a little verbose\n",
    "add = lambda x,y : (\"add\",x, y)\n",
    "\n",
    "\n",
    "def Function(name):\n",
    "    # makes a function that returns a tuple with the name as the first element\n",
    "    return lambda *args: (name, *args)\n",
    "def Functions(names):\n",
    "    return map(Function, names.split())\n",
    "var = Function(\"var\")\n",
    "const = Function(\"const\")\n",
    "add = Function(\"add\")\n",
    "mul = Function(\"mul\")\n"
   ]
  },
  {
   "cell_type": "markdown",
   "metadata": {},
   "source": [
    "Here's a basic recursive simplifier or arithmetic expressions. It is clever to separate out into a base case function and the recursive function. I could probably make `simplify` more generic by just checking the number of args. The new addition of `match` statements in python makes it quite pleasant to read this code and easier to translate from the ocaml.\n",
    "Allowing \"or\" patterns `|` let's me compact a couple cases, which is nice."
   ]
  },
  {
   "cell_type": "code",
   "execution_count": 3,
   "metadata": {},
   "outputs": [
    {
     "data": {
      "text/plain": [
       "('const', 7)"
      ]
     },
     "execution_count": 3,
     "metadata": {},
     "output_type": "execute_result"
    }
   ],
   "source": [
    "def simplify1(x):\n",
    "    match x:\n",
    "        case (\"add\", (\"const\", m), (\"const\", n)):\n",
    "            return (\"const\", m + n)\n",
    "        case (\"mul\", (\"const\", m), (\"const\", n)):\n",
    "            return (\"const\", m * n)\n",
    "        case (\"add\", (\"const\", 0), y) | (\"add\", y, (\"const\", 0)):\n",
    "            return y\n",
    "        case (\"mul\", (\"const\", 0), y) | (\"mul\", y, (\"const\", 0)) :\n",
    "            return (\"const\", 0)\n",
    "        case (\"mul\", (\"const\", 1), y) | (\"mul\", y, (\"const\", 1)):\n",
    "            return y\n",
    "        case _:\n",
    "            return x\n",
    "def simplify(expr):\n",
    "    match expr:\n",
    "        case (\"add\", x, y):\n",
    "            return simplify1((\"add\", simplify(x), simplify(y)))\n",
    "        case (\"mul\", x, y):\n",
    "            return simplify1((\"mul\", simplify(x), simplify(y)))\n",
    "        case _:\n",
    "            return simplify1(expr)\n",
    "simplify(add(const(3), const(4)))"
   ]
  },
  {
   "cell_type": "markdown",
   "metadata": {},
   "source": [
    "For parsing, I'm quite enamored with the lark library. It makes it very easy to define grammars. I'm thinking about using it to make the analog of an extensible notation mechanism in knuckledragger. This example is ripped right from the lark docs."
   ]
  },
  {
   "cell_type": "code",
   "execution_count": 4,
   "metadata": {},
   "outputs": [
    {
     "data": {
      "text/plain": [
       "('const', 7)"
      ]
     },
     "execution_count": 4,
     "metadata": {},
     "output_type": "execute_result"
    }
   ],
   "source": [
    "from lark import Lark, Transformer, v_args\n",
    "# https://lark-parser.readthedocs.io/en/latest/examples/calc.html#sphx-glr-examples-calc-py\n",
    "calc_grammar = \"\"\"\n",
    "    ?start: add\n",
    "\n",
    "    ?add: mul\n",
    "        | add \"+\" mul   -> add\n",
    "\n",
    "    ?mul: atom\n",
    "        | mul \"*\" atom  -> mul\n",
    "\n",
    "    ?atom: NUMBER           -> const\n",
    "         | NAME             -> var\n",
    "         | \"(\" add \")\"\n",
    "\n",
    "    %import common.CNAME -> NAME\n",
    "    %import common.NUMBER\n",
    "    %import common.WS_INLINE\n",
    "\n",
    "    %ignore WS_INLINE\n",
    "\"\"\"\n",
    "\n",
    "def lift1(f):\n",
    "    return lambda x,*args: f(*args)\n",
    "@v_args(inline=True)    # Affects the signatures of the methods\n",
    "class CalculateTree(Transformer):\n",
    "    # This is a little weird and clunky and boilerplaty. Oh well.\n",
    "    var =  lambda self, x: var(str(x))\n",
    "    const = lambda self, x: const(int(x))\n",
    "    add = lift1(add)\n",
    "    mul = lift1(mul)\n",
    "\n",
    "calc_parser = Lark(calc_grammar, parser='lalr', transformer=CalculateTree())\n",
    "calc = calc_parser.parse\n",
    "\n",
    "simplify(calc(\"1 + 1 + 1 + 0 * x * 3 + 4\"))\n"
   ]
  },
  {
   "cell_type": "markdown",
   "metadata": {},
   "source": [
    "# Formulas\n",
    "Z3, pysmt, sympy, and pyres already have python formula types. Why not another?\n",
    "Anyway, let's just copy out the book's examples.\n",
    "\n",
    "Hmm. I don't have the precedence ironed out very well.\n",
    "\n",
    "The constants `True` and `False` are annoying. It's tempting to remove the layer of tuple around them, but that makes the system less uniform. Also tempting it to identify them with python `True` and `False`. I'm not sure what is for the best. It makes for unnecessarily awkward pattern matching later too."
   ]
  },
  {
   "cell_type": "code",
   "execution_count": 5,
   "metadata": {},
   "outputs": [
    {
     "data": {
      "text/plain": [
       "('Imp',\n",
       " ('Or', ('And', ('Atom', 'a'), ('Atom', 'c')), ('Atom', 'b')),\n",
       " ('Atom', 'd'))"
      ]
     },
     "execution_count": 5,
     "metadata": {},
     "output_type": "execute_result"
    }
   ],
   "source": [
    "False_, True_, Atom, Not, And, Or, Imp, Iff, Forall, Exists = Functions(\"False True Atom Not And Or Imp Iff Forall Exists\")\n",
    "\n",
    "from lark import Lark, Transformer, v_args\n",
    "# https://lark-parser.readthedocs.io/en/latest/examples/calc.html#sphx-glr-examples-calc-py\n",
    "prop_grammar = \"\"\"\n",
    "    ?start: iff\n",
    "\n",
    "    ?iff: imp\n",
    "        | iff \"<=>\" iff -> iff\n",
    "\n",
    "    ?imp: disj\n",
    "        | disj \"==>\" imp -> imp\n",
    "\n",
    "    ?disj: conj\n",
    "        | disj \"|\" conj   -> or_\n",
    "\n",
    "    ?conj: atom\n",
    "        | conj \"&\" atom  -> and_\n",
    "\n",
    "    ?atom: \"false\"           -> false_\n",
    "         | \"true\"            -> true_\n",
    "         | \"~\" atom         ->  not_\n",
    "         | NAME              -> atom\n",
    "         | \"(\" iff \")\"\n",
    "\n",
    "    %import common.CNAME -> NAME\n",
    "    %import common.NUMBER\n",
    "    %import common.WS_INLINE\n",
    "\n",
    "    %ignore WS_INLINE\n",
    "\"\"\"\n",
    "\n",
    "def lift1(f):\n",
    "    return lambda x,*args: f(*args)\n",
    "@v_args(inline=True)    # Affects the signatures of the methods\n",
    "class PropTree(Transformer):\n",
    "    false_, true_, atom, not_, and_, or_, imp, iff, Forall, Exists = map(lift1, [False_, True_, Atom, Not, And, Or, Imp, Iff, Forall, Exists])\n",
    "    atom = lambda self, x: Atom(str(x))\n",
    "\n",
    "prop_parser = Lark(prop_grammar, parser='lalr', transformer=PropTree())\n",
    "prop = prop_parser.parse\n",
    "\n",
    "prop(\"a ==> b ==> c\")\n",
    "prop(\"a <=> a | b & c\")\n",
    "prop(\"a & c | b ==> d\")\n"
   ]
  },
  {
   "cell_type": "code",
   "execution_count": 10,
   "metadata": {},
   "outputs": [
    {
     "data": {
      "text/plain": [
       "('False',)"
      ]
     },
     "execution_count": 10,
     "metadata": {},
     "output_type": "execute_result"
    }
   ],
   "source": [
    "False_()"
   ]
  },
  {
   "cell_type": "markdown",
   "metadata": {},
   "source": [
    "We can evaluate in a model. BTW, github copilot rules for filling out these cases."
   ]
  },
  {
   "cell_type": "code",
   "execution_count": 7,
   "metadata": {},
   "outputs": [
    {
     "data": {
      "text/html": [
       "&not;(&not;a &or; b) &or; &not;c &or; d"
      ],
      "text/plain": [
       "Or(Not(Or(Not(a), b)), Or(Not(c), d))"
      ]
     },
     "execution_count": 7,
     "metadata": {},
     "output_type": "execute_result"
    }
   ],
   "source": [
    "def eval_prop(fm, v):\n",
    "    match fm:\n",
    "        case (\"False\",):\n",
    "            return False\n",
    "        case (\"True\",):\n",
    "            return True\n",
    "        case (\"Atom\", x):\n",
    "            return v[x]\n",
    "        case (\"Not\", x):\n",
    "            return ~ eval_prop(x, v)\n",
    "        case (\"And\", x, y):\n",
    "            return eval_prop(x, v) & eval_prop(y, v)\n",
    "        case (\"Or\", x, y):\n",
    "            return eval_prop(x, v) | eval_prop(y, v)\n",
    "        case (\"Imp\", x, y):\n",
    "            return ~eval_prop(x, v) | eval_prop(y, v)\n",
    "        case (\"Iff\", x, y):\n",
    "            return eval_prop(x, v) == eval_prop(y, v)\n",
    "        case _:\n",
    "            assert False, f\"unknown formula {fm}\"\n",
    "import z3 \n",
    "# Some hackery to eval directly into z3. probably ill advised.\n",
    "class BoolDummy:\n",
    "    def __getitem__(self,x):\n",
    "        return z3.Bool(x)\n",
    "z3.BoolRef.__and__ = lambda x,y: z3.And(x,y)\n",
    "z3.BoolRef.__or__ = lambda x,y: z3.Or(x,y)\n",
    "z3.BoolRef.__invert__ = lambda x: z3.Not(x)\n",
    "def eval_z3(fm):\n",
    "    return eval_prop(fm,BoolDummy())\n",
    "\n",
    "eval_prop(prop(\"true & false\"), [])\n",
    "eval_z3(prop(\"~a | b ==> c ==> d\"))"
   ]
  },
  {
   "cell_type": "code",
   "execution_count": 8,
   "metadata": {},
   "outputs": [
    {
     "data": {
      "text/plain": [
       "('And', ('Atom', 'a'), ('And', ('Atom', 'b'), ('Atom', 'c')))"
      ]
     },
     "execution_count": 8,
     "metadata": {},
     "output_type": "execute_result"
    }
   ],
   "source": [
    "def dual(fm):\n",
    "    match fm:\n",
    "        case (\"False_\"):\n",
    "            return True_\n",
    "        case (\"True_\"):\n",
    "            return False_\n",
    "        case (\"Atom\", x):\n",
    "            return fm\n",
    "        case (\"Not\", x):\n",
    "            return dual(x)\n",
    "        case (\"And\", x, y):\n",
    "            return Or(dual(x), dual(y))\n",
    "        case (\"Or\", x, y):\n",
    "            return And(dual(x), dual(y))\n",
    "        case (\"Imp\", x, y):\n",
    "            return And(x, dual(y))\n",
    "        case (\"Iff\", x, y):\n",
    "            return Iff(x, dual(y))\n",
    "dual(prop(\"a ==> b ==> c\"))"
   ]
  },
  {
   "cell_type": "code",
   "execution_count": 17,
   "metadata": {},
   "outputs": [
    {
     "data": {
      "text/plain": [
       "('True',)"
      ]
     },
     "execution_count": 17,
     "metadata": {},
     "output_type": "execute_result"
    }
   ],
   "source": [
    "def psimplify1(fm):\n",
    "    match fm:\n",
    "        case (\"Not\", (\"False\",)):\n",
    "            return True_()\n",
    "        case (\"Not\", (\"True\",)):\n",
    "            return False_()\n",
    "        case (\"Not\", (\"Not\", x)):\n",
    "            return p\n",
    "        case (\"And\", (\"False\",), y) | (\"And\", y, (\"False\",)):\n",
    "            return False_()\n",
    "        case (\"And\", (\"True\",), y) | (\"And\", y, (\"True\",)):\n",
    "            return y\n",
    "        case (\"Or\", (\"False\",), y) | (\"Or\", y, (\"False\",)):\n",
    "            return y\n",
    "        case (\"Or\", (\"True\",), y) | (\"Or\", y, (\"True\",)):\n",
    "            return True_()\n",
    "        case (\"Imp\", (\"False\",), y) | (\"Imp\", y, (\"True\",)):\n",
    "            return True_()\n",
    "        case (\"Imp\", (\"True\",), y):\n",
    "            return y\n",
    "        case (\"Imp\", x, (\"False\",)):\n",
    "            return Not(x)\n",
    "        case (\"Iff\", (\"True\",), y) | (\"Iff\", y, (\"True\",)):\n",
    "            return y\n",
    "        case (\"Iff\", (\"False\",), y) | (\"Iff\", y, (\"False\",)):\n",
    "            return Not(y)\n",
    "        case _:\n",
    "            return fm\n",
    "\n",
    "def psimplify(fm):\n",
    "    match fm:\n",
    "        case (\"Not\", p):\n",
    "            return psimplify1(Not(psimplify(p)))\n",
    "        case (\"And\", x, y):\n",
    "            return psimplify1(And(psimplify(x), psimplify(y)))\n",
    "        case (\"Or\", x, y):\n",
    "            return psimplify1(Or(psimplify(x), psimplify(y)))\n",
    "        case (\"Imp\", x, y):\n",
    "            return psimplify1(Imp(psimplify(x), psimplify(y)))\n",
    "        case (\"Iff\", x, y):\n",
    "            return psimplify1(Iff(psimplify(x), psimplify(y)))\n",
    "        case _:\n",
    "            return fm\n",
    "\n",
    "psimplify(prop(\"b & false ==> c ==> d\"))\n",
    "\n",
    "        "
   ]
  },
  {
   "cell_type": "markdown",
   "metadata": {},
   "source": [
    "Negation normal form. Push down all the nots and convert Imp and Iff into And/Or forms\n",
    "This is a useful transformation."
   ]
  },
  {
   "cell_type": "code",
   "execution_count": 19,
   "metadata": {},
   "outputs": [
    {
     "data": {
      "text/plain": [
       "('Or', ('Not', ('Atom', 'a')), ('Or', ('Not', ('Atom', 'b')), ('Atom', 'c')))"
      ]
     },
     "execution_count": 19,
     "metadata": {},
     "output_type": "execute_result"
    }
   ],
   "source": [
    "def nnf(fm):\n",
    "    match fm:\n",
    "        case (\"And\", p, q):\n",
    "            return And(nnf(p), nnf(q))\n",
    "        case (\"Or\", p, q):\n",
    "            return Or(nnf(p), nnf(q))\n",
    "        case (\"Imp\", p, q):\n",
    "            return Or(nnf(Not(p)), nnf(q))\n",
    "        case (\"Iff\", p, q):\n",
    "            return Or(And(nnf(p), nnf(q)), And(nnf(Not(p)), nnf(Not(q))))\n",
    "        case (\"Not\", (\"Not\", p)):\n",
    "            return nnf(p)\n",
    "        case (\"Not\", (\"And\", p, q)):\n",
    "            return Or(nnf(Not(p)), nnf(Not(q)))\n",
    "        case (\"Not\", (\"Or\", p, q)):\n",
    "            return And(nnf(Not(p)), nnf(Not(q)))\n",
    "        case (\"Not\", (\"Imp\", p, q)):\n",
    "            return And(nnf(p), nnf(Not(q)))\n",
    "        case (\"Not\", (\"Iff\", p, q)):\n",
    "            return Or(And(nnf(p), nnf(Not(q))), And(nnf(Not(p)), nnf(q)))\n",
    "        case _:\n",
    "            return fm\n",
    "    \n",
    "nnf(prop(\"a ==> b ==> c\"))"
   ]
  },
  {
   "cell_type": "markdown",
   "metadata": {},
   "source": [
    "# Conclusion\n",
    "And so on. I'm bored for today and let's stop here.\n",
    "\n",
    "We didn't get to anything really juicy today. It is nice to see how easy it can be to implement a tree type and basic simplifier in python, especially with pattern matching syntax.\n",
    "I was tinkering with converting to rust and it was much more laborious feeling. https://github.com/philzook58/res-rs/tree/main/src/harrison\n",
    "\n",
    "See ya next week hopefully! Or maybe I'll tinker on something a bit different.\n",
    "Some ideas:\n",
    "- inductive types in knuckledragger\n",
    "- metamath provenance for datalog\n",
    "- more cbmc tricks\n",
    "- linker hacking\n",
    "- td4 cpu\n",
    "\n",
    "\n"
   ]
  }
 ],
 "metadata": {
  "kernelspec": {
   "display_name": "Python 3",
   "language": "python",
   "name": "python3"
  },
  "language_info": {
   "codemirror_mode": {
    "name": "ipython",
    "version": 3
   },
   "file_extension": ".py",
   "mimetype": "text/x-python",
   "name": "python",
   "nbconvert_exporter": "python",
   "pygments_lexer": "ipython3",
   "version": "3.10.12"
  }
 },
 "nbformat": 4,
 "nbformat_minor": 2
}
