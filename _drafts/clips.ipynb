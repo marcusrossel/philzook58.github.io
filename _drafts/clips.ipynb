{
 "cells": [
  {
   "cell_type": "markdown",
   "metadata": {},
   "source": [
    "CLIPS is kind of like dastalog\n",
    "\n",
    "https://www.clipsrules.net/\n",
    "\n",
    "Rete algorithm is some kind of semi naive hting\n",
    "\n",
    "Some egraph systems were rete based. Peggy and Jimmy's\n",
    "\n",
    "https://ryjo.codes/tour-of-clips.html tour of clips\n",
    "https://news.ycombinator.com/item?id=40201729\n",
    "\n",
    "https://www.drdobbs.com/cpp/symbolic-integration-using-clips/184410219\n",
    "\n",
    "\n",
    "https://github.com/noxdafox/clipspy \n",
    "https://github.com/ubarkai/rulu \n",
    "https://github.com/almostearthling/pyclips older?"
   ]
  },
  {
   "cell_type": "code",
   "execution_count": 1,
   "metadata": {},
   "outputs": [
    {
     "name": "stdout",
     "output_type": "stream",
     "text": [
      "Defaulting to user installation because normal site-packages is not writeable\n",
      "Collecting clipspy\n",
      "  Downloading clipspy-1.0.3-cp310-cp310-manylinux_2_17_x86_64.manylinux2014_x86_64.whl.metadata (3.7 kB)\n",
      "Requirement already satisfied: cffi>=1.0.0 in /home/philip/.local/lib/python3.10/site-packages (from clipspy) (1.16.0)\n",
      "Requirement already satisfied: pycparser in /home/philip/.local/lib/python3.10/site-packages (from cffi>=1.0.0->clipspy) (2.21)\n",
      "Downloading clipspy-1.0.3-cp310-cp310-manylinux_2_17_x86_64.manylinux2014_x86_64.whl (891 kB)\n",
      "\u001b[2K   \u001b[90m━━━━━━━━━━━━━━━━━━━━━━━━━━━━━━━━━━━━━━━━\u001b[0m \u001b[32m891.6/891.6 kB\u001b[0m \u001b[31m11.8 MB/s\u001b[0m eta \u001b[36m0:00:00\u001b[0ma \u001b[36m0:00:01\u001b[0m\n",
      "\u001b[?25hInstalling collected packages: clipspy\n",
      "Successfully installed clipspy-1.0.3\n"
     ]
    }
   ],
   "source": [
    "! pip install clipspy"
   ]
  }
 ],
 "metadata": {
  "kernelspec": {
   "display_name": "Python 3",
   "language": "python",
   "name": "python3"
  },
  "language_info": {
   "codemirror_mode": {
    "name": "ipython",
    "version": 3
   },
   "file_extension": ".py",
   "mimetype": "text/x-python",
   "name": "python",
   "nbconvert_exporter": "python",
   "pygments_lexer": "ipython3",
   "version": "3.10.12"
  }
 },
 "nbformat": 4,
 "nbformat_minor": 2
}
