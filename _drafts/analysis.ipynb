{
 "cells": [
  {
   "cell_type": "code",
   "execution_count": 137,
   "metadata": {
    "metadata": {}
   },
   "outputs": [
    {
     "name": "stdout",
     "output_type": "stream",
     "text": [
      "proved\n",
      "proved\n",
      "proved\n",
      "proved\n",
      "proved\n",
      "proved\n",
      "proved\n",
      "proved\n",
      "proved\n",
      "proved\n",
      "proved\n",
      "proved\n",
      "Array(Nat, Real)\n",
      "proved\n",
      "proved\n",
      "proved\n"
     ]
    }
   ],
   "source": [
    "from z3 import *\n",
    "\n",
    "B = BoolSort()\n",
    "Z = IntSort()\n",
    "R = RealSort()\n",
    "x,y,z = Reals('x y z')\n",
    "\n",
    "def lemma(thm, by=[], admit=False):\n",
    "    if not admit:\n",
    "        #print(Implies(And(by), thm).sexpr())\n",
    "        prove(Implies(And(by), thm))\n",
    "    else:\n",
    "        print(\"Admitted!!\", thm)\n",
    "    return thm\n",
    "    \n",
    "plus = Function(\"plus\", R,R,R)\n",
    "plus_def = ForAll([x, y], plus(x, y) == x + y)\n",
    "\n",
    "plus_0 = lemma(ForAll([x], plus(x, 0) == x), by=[plus_def])\n",
    "plus_comm = lemma(ForAll([x, y], plus(x, y) == plus(y, x)), by=[plus_def])\n",
    "plus_assoc = lemma(ForAll([x, y, z], plus(x, plus(y, z)) == plus(plus(x, y), z)), by=[plus_def])\n",
    "                   \n",
    "mul = Function(\"mul\", R,R,R)\n",
    "mul_def = ForAll([x, y], mul(x, y) == x * y)\n",
    "\n",
    "mul_zero = lemma(ForAll([x], mul(x, 0) == 0), by=[mul_def])\n",
    "mul_1 = lemma(ForAll([x], mul(x, 1) == x), by=[mul_def])\n",
    "mul_comm = lemma(ForAll([x, y], mul(x, y) == mul(y, x)), by=[mul_def])\n",
    "mul_assoc = lemma(ForAll([x, y, z], mul(x, mul(y, z)) == mul(mul(x, y), z)), by=[mul_def])\n",
    "mul_distrib = lemma(ForAll([x, y, z], mul(x, plus(y, z)) == plus(mul(x, y), mul(x, z))), by=[mul_def, plus_def])        \n",
    "\n",
    "Nat = Datatype(\"Nat\")\n",
    "Nat.declare('zero')\n",
    "Nat.declare('succ', ('pred', Nat))\n",
    "Nat = Nat.create()\n",
    "n,m,k = Consts('n m k', Nat)\n",
    "\n",
    "real = Function(\"real\", Nat, R)\n",
    "real_def = ForAll([n], real(n) == If(Nat.is_zero(n), 0, plus(1, real(Nat.pred(n)))))\n",
    "\n",
    "\n",
    "def induct(P):\n",
    "    return Implies(And(P(Nat.zero), ForAll([n], Implies(P(n), P(Nat.succ(n))))),\n",
    "                   #-----------------------------------------------------------\n",
    "                   ForAll([n], P(n)))\n",
    "\n",
    "Seq = ArraySort(Nat, R)\n",
    "sum_ = Function(\"sum\", Seq, Nat, R)\n",
    "s = Const('s', Seq)\n",
    "sum_def = ForAll([s, n], sum_(s, n) == If(n == Nat.zero, 0, plus(s[Nat.pred(n)], sum_(s, Nat.pred(n)))))\n",
    "\n",
    "szero = K(Nat, RealVal(0))\n",
    "\n",
    "#sum_const_base = lemma(sum_(szero, Nat.zero) == 0, by=[sum_def, plus_def])\n",
    "#sum_const_induct = lemma(ForAll([n], Implies(sum_(szero, n) == 0, \n",
    "#                                             sum_(szero, Nat.succ(n)) == 0)),\n",
    "#                         by=[sum_def, plus_def])\n",
    "sum_szero = lemma(ForAll([n], sum_(szero,n) == 0), by=[sum_def, plus_def, induct(lambda n: sum_(szero, n) == 0)])\n",
    "\n",
    "\n",
    "# note I original wrote ForAll([x], sum_(K(Nat, x), Nat.zero) == 0) which is not thed correct syntactic hypothesis.\n",
    "# it wouldn't go through.\n",
    "sum_const_base = lemma(ForAll([x], sum_(K(Nat, x), Nat.zero) == mul(real(Nat.zero), x)), \n",
    "                       by=[sum_def, mul_def, real_def])\n",
    "sum_const_induct = lemma(ForAll([n], Implies(ForAll([x], sum_(K(Nat, x), n) == mul(real(n), x)), \n",
    "                                             ForAll([x], sum_(K(Nat, x), Nat.succ(n)) == mul(real(Nat.succ(n)), x)))),\n",
    "                         by=[sum_def, plus_def, mul_def, real_def])\n",
    "sum_const = lemma(ForAll([n, x], sum_(K(Nat, x), n) == mul(real(n), x)), \n",
    "                  by=[sum_const_base, sum_const_induct,\n",
    "                      induct(lambda n: ForAll([x], sum_(K(Nat, x), n) == mul(real(n),x)))])\n",
    "\n",
    "#sum_const_induct\n",
    "#induct(lambda n: ForAll([x], sum_(K(Nat, x), n) == mul(real(n),x)))\n",
    "#lemma(sum_const, by=[sum_const])\n",
    "\n",
    "id_ = Lambda([n], real(n))\n",
    "# helper function. We could perhaps have4 lambdified the sympy result?\n",
    "nn1 = lambda n: mul(real(n) - 1, real(n)) / 2 \n",
    "\n",
    "sum_n_base = lemma(ForAll([n], sum_(id_, Nat.zero) == nn1(Nat.zero)), by=[sum_def, plus_def, mul_def, real_def])\n",
    "sum_n_induct = lemma(ForAll([n], Implies(sum_(id_, n) == nn1(n), \n",
    "                                        sum_(id_, Nat.succ(n)) == nn1(Nat.succ(n)))),            \n",
    "                     by=[sum_def, plus_def, mul_def, real_def])\n",
    "\n",
    "sum_n = lemma(ForAll([n], sum_(id_, n) == nn1(n)), by=[sum_n_base, sum_n_induct, induct(lambda n: sum_(id_, n) == nn1(n))])"
   ]
  },
  {
   "cell_type": "code",
   "execution_count": 122,
   "metadata": {
    "metadata": {}
   },
   "outputs": [
    {
     "data": {
      "text/latex": [
       "$\\displaystyle \\frac{m^{2}}{2} - \\frac{m}{2}$"
      ],
      "text/plain": [
       "m**2/2 - m/2"
      ]
     },
     "execution_count": 122,
     "metadata": {},
     "output_type": "execute_result"
    }
   ],
   "source": [
    "import sympy as sp\n",
    "import sympy.abc as abc\n",
    "\n",
    "# sum is inclusive of boundaries.\n",
    "sp.Sum(abc.n, (abc.n, 0, abc.m-1)).doit()\n",
    "#print(sp.Sum(1, (abc.n, 0, 1)).doit())"
   ]
  },
  {
   "cell_type": "markdown",
   "metadata": {},
   "source": [
    "We expect it to often be the case that sympy closed forms will be confirmable via a rote induction procedure."
   ]
  },
  {
   "cell_type": "code",
   "execution_count": 138,
   "metadata": {
    "metadata": {}
   },
   "outputs": [
    {
     "ename": "SyntaxError",
     "evalue": "incomplete input (589912192.py, line 5)",
     "output_type": "error",
     "traceback": [
      "\u001b[0;36m  Cell \u001b[0;32mIn[138], line 5\u001b[0;36m\u001b[0m\n\u001b[0;31m    ForAll([eps], Exists([N], ForAll([n, m], Implies(And(n >= N, m >= N), abs(sum_(s, n) - sum_(s, m)) < eps))))\u001b[0m\n\u001b[0m                                                                                                                ^\u001b[0m\n\u001b[0;31mSyntaxError\u001b[0m\u001b[0;31m:\u001b[0m incomplete input\n"
     ]
    }
   ],
   "source": [
    "# https://en.wikipedia.org/wiki/Cauchy_sequence\n",
    "cauchy = Function(\"cauchy\", Seq, B)\n",
    "eps = Real('eps')\n",
    "N = Const(\"N\", Nat)\n",
    "cauchy_def = ForAll([s], cauchy(s) == \n",
    "                    ForAll([eps], Exists([N], ForAll([n, m], Implies(And(n >= N, m >= N), abs(s[n] - s[m]) < eps)))))\n",
    "\n"
   ]
  },
  {
   "cell_type": "code",
   "execution_count": null,
   "metadata": {},
   "outputs": [],
   "source": [
    "mono = Function(\"mono\", Seq, B)\n",
    "mono_def = ForAll([s], mono(s) == ForAll([n], s[n] <= s[Nat.succ(n)]))\n",
    "\n",
    "bounded = Function(\"bounded\", Seq, B)\n",
    "bounded_def = ForAll([s], bounded(s) == Exists([y], ForAll([n], s[n] <= y)))"
   ]
  },
  {
   "cell_type": "code",
   "execution_count": null,
   "metadata": {},
   "outputs": [],
   "source": [
    "RFun = ArraySort(R,R)\n",
    "cont = Function(RFun, B)\n",
    "\n",
    "cont_def = ForAll([f], cont(f) == ForAll([eps], Exists([N], ForAll([n], Implies(n >= N, abs(f(n) - f(0)) < eps)))))\n"
   ]
  },
  {
   "cell_type": "code",
   "execution_count": 105,
   "metadata": {
    "metadata": {}
   },
   "outputs": [
    {
     "name": "stdout",
     "output_type": "stream",
     "text": [
      "2\n"
     ]
    },
    {
     "data": {
      "text/html": [
       "real(succ(succ(n)))"
      ],
      "text/plain": [
       "real(succ(succ(n)))"
      ]
     },
     "execution_count": 105,
     "metadata": {},
     "output_type": "execute_result"
    }
   ],
   "source": [
    "# RecFunction allows us to use z3 as a simplifier.\n",
    "\n",
    "#sum__ = RecFunction(\"sum\", Seq, Nat, R)\n",
    "#RecAddDefinition(sum__, [s, n], If(n == Nat.zero, 0, plus(s[Nat.pred(n)], sum__(s, Nat.pred(n)))))\n",
    "#simplify(sum__(Lambda([n], If(Nat.is_zero(n), RealVal(0), RealVal(1))), Nat.succ(Nat.zero)))\n",
    "\n",
    "#sum_id = RecFunction(\"sum_id\", Seq, Nat, R)\n",
    "#RecAddDefinition(sum_id, [n], If(n == Nat.zero, 0, plus(s[Nat.pred(n)], sum__(s, Nat.pred(n)))))\n",
    "#simplify(sum__(Lambda([n], If(Nat.is_zero(n), RealVal(0), RealVal(1))), Nat.succ(Nat.zero)))\n",
    "\n",
    "real_ = RecFunction(\"real\", Nat, R)\n",
    "RecAddDefinition(real_, [n], If(Nat.is_zero(n), 0, 1 + real_(Nat.pred(n))))\n",
    "print(simplify(real_(Nat.succ(Nat.succ(Nat.zero)))))\n",
    "simplify(real_(Nat.succ(Nat.succ(n))))\n"
   ]
  },
  {
   "cell_type": "code",
   "execution_count": 71,
   "metadata": {
    "metadata": {}
   },
   "outputs": [
    {
     "name": "stdout",
     "output_type": "stream",
     "text": [
      "Overwriting /tmp/induct.smt2\n"
     ]
    }
   ],
   "source": [
    "%%file /tmp/induct.smt2\n",
    "(declare-sort Nat 0)\n",
    "(declare-fun sum ((Array Nat Real) Nat) Real)\n",
    "(declare-fun real (Nat) Real)\n",
    "(declare-fun plus (Real Real) Real)\n",
    "(declare-fun mul (Real Real) Real)\n",
    "(assert (let ((a!1 (forall ((x Real))\n",
    "             (= (sum ((as const (Array Nat Real)) x) zero) 0.0)))\n",
    "      (a!2 (forall ((n Nat))\n",
    "             (let ((a!1 (forall ((x Real))\n",
    "                          (= (sum ((as const (Array Nat Real)) x) n)\n",
    "                             (mul (real n) x))))\n",
    "                   (a!2 (forall ((x Real))\n",
    "                          (= (sum ((as const (Array Nat Real)) x) (succ n))\n",
    "                             (mul (real (succ n)) x)))))\n",
    "               (=> a!1 a!2))))\n",
    "      (a!3 (forall ((x Real))\n",
    "             (= (sum ((as const (Array Nat Real)) x) zero) (mul (real zero) x))))\n",
    "      (a!4 (forall ((n Nat))\n",
    "             (forall ((x Real))\n",
    "               (= (sum ((as const (Array Nat Real)) x) n) (mul (real n) x)))))\n",
    "      (a!5 (forall ((x Real) (n Nat))\n",
    "             (= (sum ((as const (Array Nat Real)) x) n) (mul (real n) x)))))\n",
    "  (=> (and a!1 a!2 (=> (and a!3 a!2) a!4)) a!5)))\n",
    "\n",
    "(check-sat)"
   ]
  },
  {
   "cell_type": "code",
   "execution_count": 70,
   "metadata": {
    "metadata": {}
   },
   "outputs": [
    {
     "name": "stdout",
     "output_type": "stream",
     "text": [
      "% Running in auto input_syntax mode. Trying SMTLIB2\n",
      "% Failed with\n",
      "% User error: Compound functor expected to be a rankend function (starting with '_'). Instead read: (as const (Array Nat Real))\n",
      "% Trying TPTP\n",
      "Parsing Error on line 1: cnf(), fof(), vampire() or include() expected at position 0 (text: ()\n"
     ]
    }
   ],
   "source": [
    "! vampire /tmp/induct.smt2"
   ]
  },
  {
   "cell_type": "code",
   "execution_count": null,
   "metadata": {},
   "outputs": [],
   "source": []
  }
 ],
 "metadata": {
  "kernelspec": {
   "display_name": "Python 3",
   "language": "python",
   "name": "python3"
  },
  "language_info": {
   "codemirror_mode": {
    "name": "ipython",
    "version": 3
   },
   "file_extension": ".py",
   "mimetype": "text/x-python",
   "name": "python",
   "nbconvert_exporter": "python",
   "pygments_lexer": "ipython3",
   "version": "3.10.12"
  }
 },
 "nbformat": 4,
 "nbformat_minor": 2
}
