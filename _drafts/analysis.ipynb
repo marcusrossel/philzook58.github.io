{
 "cells": [
  {
   "cell_type": "code",
   "execution_count": 2,
   "metadata": {
    "metadata": {}
   },
   "outputs": [
    {
     "name": "stdout",
     "output_type": "stream",
     "text": [
      "proved\n",
      "proved\n",
      "proved\n",
      "proved\n",
      "proved\n",
      "proved\n",
      "proved\n",
      "proved\n"
     ]
    }
   ],
   "source": [
    "from z3 import *\n",
    "\n",
    "B = BoolSort()\n",
    "Z = IntSort()\n",
    "R = RealSort()\n",
    "x,y,z = Reals('x y z')\n",
    "\n",
    "def lemma(thm, by=[], admit=False):\n",
    "    if not admit:\n",
    "        #print(Implies(And(by), thm).sexpr())\n",
    "        prove(Implies(And(by), thm))\n",
    "    else:\n",
    "        print(\"Admitted!!\", thm)\n",
    "    return thm\n",
    "    \n",
    "plus = Function(\"plus\", R,R,R)\n",
    "plus_def = ForAll([x, y], plus(x, y) == x + y)\n",
    "\n",
    "plus_0 = lemma(ForAll([x], plus(x, 0) == x), by=[plus_def])\n",
    "plus_comm = lemma(ForAll([x, y], plus(x, y) == plus(y, x)), by=[plus_def])\n",
    "plus_assoc = lemma(ForAll([x, y, z], plus(x, plus(y, z)) == plus(plus(x, y), z)), by=[plus_def])\n",
    "                   \n",
    "mul = Function(\"mul\", R,R,R)\n",
    "mul_def = ForAll([x, y], mul(x, y) == x * y)\n",
    "\n",
    "mul_zero = lemma(ForAll([x], mul(x, 0) == 0), by=[mul_def])\n",
    "mul_1 = lemma(ForAll([x], mul(x, 1) == x), by=[mul_def])\n",
    "mul_comm = lemma(ForAll([x, y], mul(x, y) == mul(y, x)), by=[mul_def])\n",
    "mul_assoc = lemma(ForAll([x, y, z], mul(x, mul(y, z)) == mul(mul(x, y), z)), by=[mul_def])\n",
    "mul_distrib = lemma(ForAll([x, y, z], mul(x, plus(y, z)) == plus(mul(x, y), mul(x, z))), by=[mul_def, plus_def])        \n",
    "\n",
    "Nat = Datatype(\"Nat\")\n",
    "Nat.declare('zero')\n",
    "Nat.declare('succ', ('pred', Nat))\n",
    "Nat = Nat.create()\n",
    "n,m,k = Consts('n m k', Nat)\n",
    "\n",
    "real = Function(\"real\", Nat, R)\n",
    "real_def = ForAll([n], real(n) == If(Nat.is_zero(n), 0, plus(1, real(Nat.pred(n)))))\n",
    "\n",
    "\n",
    "def induct(P):\n",
    "    return Implies(And(P(Nat.zero), ForAll([n], Implies(P(n), P(Nat.succ(n))))),\n",
    "                   #-----------------------------------------------------------\n",
    "                   ForAll([n], P(n)))\n"
   ]
  },
  {
   "cell_type": "code",
   "execution_count": 54,
   "metadata": {},
   "outputs": [
    {
     "name": "stdout",
     "output_type": "stream",
     "text": [
      "proved\n",
      "proved\n",
      "proved\n",
      "proved\n",
      "proved\n",
      "proved\n",
      "proved\n",
      "proved\n",
      "proved\n",
      "proved\n",
      "proved\n",
      "proved\n",
      "proved\n",
      "Admitted!! ForAll([n, m], le(n, m) == (real(n) <= real(m)))\n"
     ]
    }
   ],
   "source": [
    "pred = Function(\"pred\", R, R)\n",
    "pred_def = ForAll([x], pred(x) == x - 1)\n",
    "\n",
    "ceil = Function(\"ceil\", R, Nat)\n",
    "ceil_def = ForAll([x], ceil(x) == If(x <= 0, Nat.zero, Nat.succ(ceil(x-1))))\n",
    "\n",
    "real_zero = lemma(real(Nat.zero) == 0, by=[real_def])\n",
    "ceil_real_base = lemma(ceil(real(Nat.zero)) == Nat.zero, by=[ceil_def, real_zero])\n",
    "ceil_real_induct = lemma(ForAll([n], Implies(ceil(real(n)) == n, ceil(real(Nat.succ(n))) == Nat.succ(n))),\n",
    "                          by=[real_def, ceil_def, plus_def])\n",
    "ceil_real = lemma(ForAll([n], ceil(real(n)) == n), by=[real_def, ceil_def, plus_def, induct(lambda n: ceil(real(n)) == n)])\n",
    "\n",
    "\n",
    "le = Function(\"le\", Nat, Nat, B)\n",
    "le_def = ForAll([n, m], le(n, m) == If(Nat.is_zero(n), True, If(Nat.is_zero(m), False, le(Nat.pred(n), Nat.pred(m)))))\n",
    "\n",
    "le_refl_base = lemma(le(Nat.zero, Nat.zero), by=[le_def])\n",
    "le_refl_induct = lemma(ForAll([n], Implies(le(n, n), le(Nat.succ(n), Nat.succ(n)))), by=[le_def])\n",
    "le_refl = lemma(ForAll([n], le(n, n)), by=[le_refl_base, le_refl_induct, induct(lambda n: le(n, n))])\n",
    "\n",
    "le_succ = lemma(ForAll([n,m], le(n, m) == le(Nat.succ(n), Nat.succ(m))), \n",
    "                by=[le_def, induct(lambda n: le(n, m) == le(Nat.succ(n), Nat.succ(m)))])\n",
    "\n",
    "\n",
    "real_non_neg_base = lemma(real(Nat.zero) >= 0, by=[real_zero])\n",
    "real_non_neg_induct = lemma(ForAll([n], Implies(real(n) >= 0, real(Nat.succ(n)) >= 0)), by=[real_def, plus_def])\n",
    "real_non_neg = lemma(ForAll([n], 0 <= real(n)), by=[real_non_neg_base, real_non_neg_induct, induct(lambda n: real(n) >= 0)])\n",
    "\n",
    "\n",
    "_1 = lemma(real(Nat.zero) == 0, by=[real_def])\n",
    "real_le_base = lemma(ForAll([m], real(Nat.zero) <= real(m)), by=[_1, real_def, real_non_neg])\n",
    "#real_le_induct = lemma(ForAll([n,m], Implies(Implies(le(n,m), real(n) <= real(m)), \n",
    "#                                             Implies(le(Nat.succ(n), m), real(Nat.succ(n)) <= real(m)))),\n",
    "#                        by=[real_def, le_def, plus_def])\n",
    "#real_le_base = lemma(ForAll([m], Implies(le(Nat.zero, m), real(Nat.zero) <= real(m))), by=[le_def, real_def, plus_def, real_non_neg])\n",
    "#real_le_base = lemma(ForAll([n], le(Nat.zero, Nat.succ(n))), by=[le_def])\n",
    "real_le = lemma(ForAll([n,m], le(n,m) == (real(n) <= real(m))),\n",
    "                 by=[real_def, le_def, plus_def, induct(lambda n: Implies(le(n,m), real(n) <= real(m)))], admit=True) \n",
    "\n",
    "\n",
    "# hmm. This is probably not true, x = -1, n = 0\n",
    "#ceil_galois = lemma(le(ceil(x), n) == (x <= real(n))\n",
    "\n"
   ]
  },
  {
   "cell_type": "code",
   "execution_count": 38,
   "metadata": {},
   "outputs": [
    {
     "name": "stdout",
     "output_type": "stream",
     "text": [
      "proved\n",
      "Admitted!! ForAll(x, x <= real(ceil(x)))\n"
     ]
    }
   ],
   "source": [
    "## N = ceil(1/eps) => n > N => 1/real(n) < eps\n",
    "# x <= real(ceil(x))\n",
    "\n",
    "#real_ceil = lemma(ForAll([x], x <= real(ceil(x))), by=[real_def, ceil_def, plus_def])\n",
    "# x <= real(If(x <= 0, 0, Nat.succ(real(x-1))))\n",
    "real_ceil_neg = lemma(ForAll([x], Implies(x <= 0, x <= real(ceil(x)))), by=[real_def, ceil_def, plus_def])\n",
    "\n",
    "# x <= real(Nat.succ(ceil(x-1)))) == x <= 1 + real(ceil(x-1)) ==\n",
    "#real_ceil_pos = lemma(ForAll([x], Implies(x > 0, x <= real(ceil(x))), by=[real_def, ceil_def, plus_def, real_non_neg]))\n",
    "\n",
    "# I'm pretty puzzled what principle is gonna let me do this. real induction? Some roundabout use of regular induction?\n",
    "real_ceil = lemma(ForAll([x], x <= real(ceil(x))), by=[real_def, ceil_def, plus_def], admit=True)\n",
    "\n"
   ]
  },
  {
   "cell_type": "code",
   "execution_count": 64,
   "metadata": {},
   "outputs": [
    {
     "name": "stdout",
     "output_type": "stream",
     "text": [
      "proved\n",
      "proved\n",
      "proved\n",
      "proved\n",
      "proved\n",
      "proved\n",
      "proved\n",
      "proved\n",
      "proved\n"
     ]
    }
   ],
   "source": [
    "eps = Real('eps')\n",
    "\n",
    "eps_ceil_pos = lemma(ForAll([eps], Implies(eps > 0, Not(Nat.is_zero(ceil(eps))))), by=[ceil_def])\n",
    "nonzero_real_pos = lemma(ForAll([n], Implies(Not(Nat.is_zero(n)), real(n) > 0)),  by=[real_def, plus_def, real_non_neg])\n",
    "\n",
    "epsrecip = lemma(ForAll([eps], Implies(eps > 0, 1/eps <= real(ceil(1/eps)))), by=[real_ceil])\n",
    "\n",
    "lemma(ForAll([eps], Implies(eps > 0, 1/real(ceil(1/eps)) <= eps)), by=[epsrecip])\n",
    "_1 = lemma(ForAll([eps], Implies(eps > 0, 1/(1 + real(ceil(1/eps))) < eps)), by=[real_ceil]) # so really it didn't need much help\n",
    "\n",
    "recip_n = lemma(ForAll([eps,n], Implies(And(le(ceil(1/eps), n), eps > 0), 1/(1 + real(n)) < eps)), by=[real_ceil, real_le])\n",
    "N = Const('N', Nat)\n",
    "\n",
    "temp = Function(\"temp\", R, Nat, Nat, B)\n",
    "temp_def = ForAll([eps, N, n], temp(eps, N, n) == Implies(And(le(N, n), eps > 0), 1/(1 + real(n)) < eps))\n",
    "\n",
    "# We can make a temporary definition to make the pattern more obvious. (It is tough on the eye, but also it's tough on z3's pattern matcher I guess)\n",
    "# This is also why I suggest working in skolemized form in any case.\n",
    "_1 = lemma(ForAll([eps, n], temp(eps, ceil(1/eps), n)), by=[temp_def, recip_n])\n",
    "_2 = lemma(ForAll([eps], Exists([N], ForAll([n], temp(eps, N, n)))), by=[_1])\n",
    "recip_n2 = lemma(ForAll([eps], Exists([N], ForAll([n], Implies(And(le(N, n), eps > 0), 1/(1 + real(n)) < eps)))), by=[_2, temp_def])\n"
   ]
  },
  {
   "cell_type": "markdown",
   "metadata": {},
   "source": [
    "Archimedean property\n",
    "x = real(floor(x)) + frac(x)\n",
    "Eudoxus reals?\n"
   ]
  },
  {
   "cell_type": "code",
   "execution_count": null,
   "metadata": {},
   "outputs": [],
   "source": [
    "\n",
    "Seq = ArraySort(Nat, R)\n",
    "sum_ = Function(\"sum\", Seq, Nat, R)\n",
    "s = Const('s', Seq)\n",
    "sum_def = ForAll([s, n], sum_(s, n) == If(n == Nat.zero, 0, plus(s[Nat.pred(n)], sum_(s, Nat.pred(n)))))\n",
    "\n",
    "szero = K(Nat, RealVal(0))\n",
    "\n",
    "#sum_const_base = lemma(sum_(szero, Nat.zero) == 0, by=[sum_def, plus_def])\n",
    "#sum_const_induct = lemma(ForAll([n], Implies(sum_(szero, n) == 0, \n",
    "#                                             sum_(szero, Nat.succ(n)) == 0)),\n",
    "#                         by=[sum_def, plus_def])\n",
    "sum_szero = lemma(ForAll([n], sum_(szero,n) == 0), by=[sum_def, plus_def, induct(lambda n: sum_(szero, n) == 0)])\n",
    "\n",
    "\n",
    "# note I original wrote ForAll([x], sum_(K(Nat, x), Nat.zero) == 0) which is not thed correct syntactic hypothesis.\n",
    "# it wouldn't go through.\n",
    "sum_const_base = lemma(ForAll([x], sum_(K(Nat, x), Nat.zero) == mul(real(Nat.zero), x)), \n",
    "                       by=[sum_def, mul_def, real_def])\n",
    "sum_const_induct = lemma(ForAll([n], Implies(ForAll([x], sum_(K(Nat, x), n) == mul(real(n), x)), \n",
    "                                             ForAll([x], sum_(K(Nat, x), Nat.succ(n)) == mul(real(Nat.succ(n)), x)))),\n",
    "                         by=[sum_def, plus_def, mul_def, real_def])\n",
    "sum_const = lemma(ForAll([n, x], sum_(K(Nat, x), n) == mul(real(n), x)), \n",
    "                  by=[sum_const_base, sum_const_induct,\n",
    "                      induct(lambda n: ForAll([x], sum_(K(Nat, x), n) == mul(real(n),x)))])\n",
    "\n",
    "#sum_const_induct\n",
    "#induct(lambda n: ForAll([x], sum_(K(Nat, x), n) == mul(real(n),x)))\n",
    "#lemma(sum_const, by=[sum_const])\n",
    "\n",
    "id_ = Lambda([n], real(n))\n",
    "# helper function. We could perhaps have4 lambdified the sympy result?\n",
    "nn1 = lambda n: mul(real(n) - 1, real(n)) / 2 \n",
    "\n",
    "sum_n_base = lemma(ForAll([n], sum_(id_, Nat.zero) == nn1(Nat.zero)), by=[sum_def, plus_def, mul_def, real_def])\n",
    "sum_n_induct = lemma(ForAll([n], Implies(sum_(id_, n) == nn1(n), \n",
    "                                        sum_(id_, Nat.succ(n)) == nn1(Nat.succ(n)))),            \n",
    "                     by=[sum_def, plus_def, mul_def, real_def])\n",
    "\n",
    "sum_n = lemma(ForAll([n], sum_(id_, n) == nn1(n)), by=[sum_n_base, sum_n_induct, induct(lambda n: sum_(id_, n) == nn1(n))])"
   ]
  },
  {
   "cell_type": "code",
   "execution_count": 122,
   "metadata": {
    "metadata": {}
   },
   "outputs": [
    {
     "data": {
      "text/latex": [
       "$\\displaystyle \\frac{m^{2}}{2} - \\frac{m}{2}$"
      ],
      "text/plain": [
       "m**2/2 - m/2"
      ]
     },
     "execution_count": 122,
     "metadata": {},
     "output_type": "execute_result"
    }
   ],
   "source": [
    "import sympy as sp\n",
    "import sympy.abc as abc\n",
    "\n",
    "# sum is inclusive of boundaries.\n",
    "sp.Sum(abc.n, (abc.n, 0, abc.m-1)).doit()\n",
    "#print(sp.Sum(1, (abc.n, 0, 1)).doit())"
   ]
  },
  {
   "cell_type": "markdown",
   "metadata": {},
   "source": [
    "We expect it to often be the case that sympy closed forms will be confirmable via a rote induction procedure."
   ]
  },
  {
   "cell_type": "code",
   "execution_count": 3,
   "metadata": {
    "metadata": {}
   },
   "outputs": [
    {
     "name": "stdout",
     "output_type": "stream",
     "text": [
      "proved\n",
      "proved\n",
      "proved\n",
      "proved\n",
      "proved\n",
      "proved\n"
     ]
    }
   ],
   "source": [
    "abs = Function(\"abs\", R, R)\n",
    "abs_def = ForAll([x], abs(x) == If(x >= 0, x, -x))\n",
    "\n",
    "abs_neg_x = lemma(ForAll([x], abs(-x) == abs(x)), by=[abs_def])\n",
    "abs_pos = lemma(ForAll([x], abs(x) >= 0), by=[abs_def])\n",
    "\n",
    "dist = Function(\"dist\", R, R, R)\n",
    "dist_def = ForAll([x, y], dist(x, y) == abs(x - y))\n",
    "\n",
    "dist_refl = lemma(ForAll([x], dist(x, x) == 0), by=[dist_def, abs_def])\n",
    "dist_post = lemma(ForAll([x, y], dist(x, y) >= 0), by=[dist_def, abs_pos])\n",
    "dist_symm = lemma(ForAll([x, y], dist(x, y) == dist(y, x)), by=[dist_def, abs_def])\n",
    "dist_tri = lemma(ForAll([x, y, z], dist(x, z) <= plus(dist(x, y), dist(y, z))), by=[dist_def, plus_def, abs_def])\n"
   ]
  },
  {
   "cell_type": "code",
   "execution_count": 138,
   "metadata": {
    "metadata": {}
   },
   "outputs": [
    {
     "ename": "SyntaxError",
     "evalue": "incomplete input (589912192.py, line 5)",
     "output_type": "error",
     "traceback": [
      "\u001b[0;36m  Cell \u001b[0;32mIn[138], line 5\u001b[0;36m\u001b[0m\n\u001b[0;31m    ForAll([eps], Exists([N], ForAll([n, m], Implies(And(n >= N, m >= N), abs(sum_(s, n) - sum_(s, m)) < eps))))\u001b[0m\n\u001b[0m                                                                                                                ^\u001b[0m\n\u001b[0;31mSyntaxError\u001b[0m\u001b[0;31m:\u001b[0m incomplete input\n"
     ]
    }
   ],
   "source": [
    "# https://en.wikipedia.org/wiki/Cauchy_sequence\n",
    "cauchy = Function(\"cauchy\", Seq, B)\n",
    "eps = Real('eps')\n",
    "N = Const(\"N\", Nat)\n",
    "cauchy_def = ForAll([s], cauchy(s) == \n",
    "                    ForAll([eps], Exists([N], ForAll([n, m], Implies(And(n >= N, m >= N), abs(s[n] - s[m]) < eps)))))\n",
    "\n"
   ]
  },
  {
   "cell_type": "code",
   "execution_count": 156,
   "metadata": {
    "metadata": {}
   },
   "outputs": [
    {
     "name": "stdout",
     "output_type": "stream",
     "text": [
      "failed to prove\n"
     ]
    },
    {
     "ename": "Z3Exception",
     "evalue": "model is not available",
     "output_type": "error",
     "traceback": [
      "\u001b[0;31m---------------------------------------------------------------------------\u001b[0m",
      "\u001b[0;31mZ3Exception\u001b[0m                               Traceback (most recent call last)",
      "File \u001b[0;32m~/.local/lib/python3.10/site-packages/z3/z3.py:7192\u001b[0m, in \u001b[0;36mSolver.model\u001b[0;34m(self)\u001b[0m\n\u001b[1;32m   7191\u001b[0m \u001b[38;5;28;01mtry\u001b[39;00m:\n\u001b[0;32m-> 7192\u001b[0m     \u001b[38;5;28;01mreturn\u001b[39;00m ModelRef(\u001b[43mZ3_solver_get_model\u001b[49m\u001b[43m(\u001b[49m\u001b[38;5;28;43mself\u001b[39;49m\u001b[38;5;241;43m.\u001b[39;49m\u001b[43mctx\u001b[49m\u001b[38;5;241;43m.\u001b[39;49m\u001b[43mref\u001b[49m\u001b[43m(\u001b[49m\u001b[43m)\u001b[49m\u001b[43m,\u001b[49m\u001b[43m \u001b[49m\u001b[38;5;28;43mself\u001b[39;49m\u001b[38;5;241;43m.\u001b[39;49m\u001b[43msolver\u001b[49m\u001b[43m)\u001b[49m, \u001b[38;5;28mself\u001b[39m\u001b[38;5;241m.\u001b[39mctx)\n\u001b[1;32m   7193\u001b[0m \u001b[38;5;28;01mexcept\u001b[39;00m Z3Exception:\n",
      "File \u001b[0;32m~/.local/lib/python3.10/site-packages/z3/z3core.py:4256\u001b[0m, in \u001b[0;36mZ3_solver_get_model\u001b[0;34m(a0, a1, _elems)\u001b[0m\n\u001b[1;32m   4255\u001b[0m r \u001b[38;5;241m=\u001b[39m _elems\u001b[38;5;241m.\u001b[39mf(a0, a1)\n\u001b[0;32m-> 4256\u001b[0m \u001b[43m_elems\u001b[49m\u001b[38;5;241;43m.\u001b[39;49m\u001b[43mCheck\u001b[49m\u001b[43m(\u001b[49m\u001b[43ma0\u001b[49m\u001b[43m)\u001b[49m\n\u001b[1;32m   4257\u001b[0m \u001b[38;5;28;01mreturn\u001b[39;00m r\n",
      "File \u001b[0;32m~/.local/lib/python3.10/site-packages/z3/z3core.py:1554\u001b[0m, in \u001b[0;36mElementaries.Check\u001b[0;34m(self, ctx)\u001b[0m\n\u001b[1;32m   1553\u001b[0m \u001b[38;5;28;01mif\u001b[39;00m err \u001b[38;5;241m!=\u001b[39m \u001b[38;5;28mself\u001b[39m\u001b[38;5;241m.\u001b[39mOK:\n\u001b[0;32m-> 1554\u001b[0m     \u001b[38;5;28;01mraise\u001b[39;00m \u001b[38;5;28mself\u001b[39m\u001b[38;5;241m.\u001b[39mException(\u001b[38;5;28mself\u001b[39m\u001b[38;5;241m.\u001b[39mget_error_message(ctx, err))\n",
      "\u001b[0;31mZ3Exception\u001b[0m: b'there is no current model'",
      "\nDuring handling of the above exception, another exception occurred:\n",
      "\u001b[0;31mZ3Exception\u001b[0m                               Traceback (most recent call last)",
      "\u001b[0;32m/tmp/ipykernel_2094607/1395151665.py\u001b[0m in \u001b[0;36m?\u001b[0;34m()\u001b[0m\n\u001b[1;32m      2\u001b[0m \u001b[0meps\u001b[0m \u001b[0;34m=\u001b[0m \u001b[0mReal\u001b[0m\u001b[0;34m(\u001b[0m\u001b[0;34m'eps'\u001b[0m\u001b[0;34m)\u001b[0m\u001b[0;34m\u001b[0m\u001b[0;34m\u001b[0m\u001b[0m\n\u001b[1;32m      3\u001b[0m \u001b[0mN\u001b[0m \u001b[0;34m=\u001b[0m \u001b[0mConst\u001b[0m\u001b[0;34m(\u001b[0m\u001b[0;34m\"N\"\u001b[0m\u001b[0;34m,\u001b[0m \u001b[0mNat\u001b[0m\u001b[0;34m)\u001b[0m\u001b[0;34m\u001b[0m\u001b[0;34m\u001b[0m\u001b[0m\n\u001b[1;32m      4\u001b[0m \u001b[0mconv_to_def\u001b[0m \u001b[0;34m=\u001b[0m \u001b[0mForAll\u001b[0m\u001b[0;34m(\u001b[0m\u001b[0;34m[\u001b[0m\u001b[0ms\u001b[0m\u001b[0;34m,\u001b[0m \u001b[0mx\u001b[0m\u001b[0;34m]\u001b[0m\u001b[0;34m,\u001b[0m \u001b[0mconv_to\u001b[0m\u001b[0;34m(\u001b[0m\u001b[0ms\u001b[0m\u001b[0;34m,\u001b[0m \u001b[0mx\u001b[0m\u001b[0;34m)\u001b[0m \u001b[0;34m==\u001b[0m \u001b[0mForAll\u001b[0m\u001b[0;34m(\u001b[0m\u001b[0;34m[\u001b[0m\u001b[0meps\u001b[0m\u001b[0;34m]\u001b[0m\u001b[0;34m,\u001b[0m \u001b[0mExists\u001b[0m\u001b[0;34m(\u001b[0m\u001b[0;34m[\u001b[0m\u001b[0mN\u001b[0m\u001b[0;34m]\u001b[0m\u001b[0;34m,\u001b[0m \u001b[0mForAll\u001b[0m\u001b[0;34m(\u001b[0m\u001b[0;34m[\u001b[0m\u001b[0mn\u001b[0m\u001b[0;34m]\u001b[0m\u001b[0;34m,\u001b[0m \u001b[0mImplies\u001b[0m\u001b[0;34m(\u001b[0m\u001b[0mreal\u001b[0m\u001b[0;34m(\u001b[0m\u001b[0mn\u001b[0m\u001b[0;34m)\u001b[0m \u001b[0;34m>=\u001b[0m \u001b[0mreal\u001b[0m\u001b[0;34m(\u001b[0m\u001b[0mN\u001b[0m\u001b[0;34m)\u001b[0m\u001b[0;34m,\u001b[0m \u001b[0mabs\u001b[0m\u001b[0;34m(\u001b[0m\u001b[0ms\u001b[0m\u001b[0;34m[\u001b[0m\u001b[0mn\u001b[0m\u001b[0;34m]\u001b[0m \u001b[0;34m-\u001b[0m \u001b[0mx\u001b[0m\u001b[0;34m)\u001b[0m \u001b[0;34m<\u001b[0m \u001b[0meps\u001b[0m\u001b[0;34m)\u001b[0m\u001b[0;34m)\u001b[0m\u001b[0;34m)\u001b[0m\u001b[0;34m)\u001b[0m\u001b[0;34m)\u001b[0m\u001b[0;34m\u001b[0m\u001b[0;34m\u001b[0m\u001b[0m\n\u001b[1;32m      5\u001b[0m \u001b[0;34m\u001b[0m\u001b[0m\n\u001b[0;32m----> 6\u001b[0;31m \u001b[0mrecip_converge\u001b[0m \u001b[0;34m=\u001b[0m \u001b[0mlemma\u001b[0m\u001b[0;34m(\u001b[0m\u001b[0mconv_to\u001b[0m\u001b[0;34m(\u001b[0m\u001b[0mLambda\u001b[0m\u001b[0;34m(\u001b[0m\u001b[0;34m[\u001b[0m\u001b[0mn\u001b[0m\u001b[0;34m]\u001b[0m\u001b[0;34m,\u001b[0m \u001b[0;36m1\u001b[0m\u001b[0;34m/\u001b[0m\u001b[0;34m(\u001b[0m\u001b[0;36m1\u001b[0m \u001b[0;34m+\u001b[0m \u001b[0mreal\u001b[0m\u001b[0;34m(\u001b[0m\u001b[0mn\u001b[0m\u001b[0;34m)\u001b[0m\u001b[0;34m)\u001b[0m\u001b[0;34m)\u001b[0m\u001b[0;34m,\u001b[0m \u001b[0;36m0\u001b[0m\u001b[0;34m)\u001b[0m\u001b[0;34m,\u001b[0m \u001b[0mby\u001b[0m\u001b[0;34m=\u001b[0m\u001b[0;34m[\u001b[0m\u001b[0mconv_to_def\u001b[0m\u001b[0;34m,\u001b[0m \u001b[0mreal_def\u001b[0m\u001b[0;34m]\u001b[0m\u001b[0;34m)\u001b[0m\u001b[0;34m\u001b[0m\u001b[0;34m\u001b[0m\u001b[0m\n\u001b[0m\u001b[1;32m      7\u001b[0m \u001b[0;34m\u001b[0m\u001b[0m\n",
      "\u001b[0;32m/tmp/ipykernel_2094607/891278446.py\u001b[0m in \u001b[0;36m?\u001b[0;34m(thm, by, admit)\u001b[0m\n\u001b[1;32m      8\u001b[0m \u001b[0;32mdef\u001b[0m \u001b[0mlemma\u001b[0m\u001b[0;34m(\u001b[0m\u001b[0mthm\u001b[0m\u001b[0;34m,\u001b[0m \u001b[0mby\u001b[0m\u001b[0;34m=\u001b[0m\u001b[0;34m[\u001b[0m\u001b[0;34m]\u001b[0m\u001b[0;34m,\u001b[0m \u001b[0madmit\u001b[0m\u001b[0;34m=\u001b[0m\u001b[0;32mFalse\u001b[0m\u001b[0;34m)\u001b[0m\u001b[0;34m:\u001b[0m\u001b[0;34m\u001b[0m\u001b[0;34m\u001b[0m\u001b[0m\n\u001b[1;32m      9\u001b[0m     \u001b[0;32mif\u001b[0m \u001b[0;32mnot\u001b[0m \u001b[0madmit\u001b[0m\u001b[0;34m:\u001b[0m\u001b[0;34m\u001b[0m\u001b[0;34m\u001b[0m\u001b[0m\n\u001b[1;32m     10\u001b[0m         \u001b[0;31m#print(Implies(And(by), thm).sexpr())\u001b[0m\u001b[0;34m\u001b[0m\u001b[0;34m\u001b[0m\u001b[0m\n\u001b[0;32m---> 11\u001b[0;31m         \u001b[0mprove\u001b[0m\u001b[0;34m(\u001b[0m\u001b[0mImplies\u001b[0m\u001b[0;34m(\u001b[0m\u001b[0mAnd\u001b[0m\u001b[0;34m(\u001b[0m\u001b[0mby\u001b[0m\u001b[0;34m)\u001b[0m\u001b[0;34m,\u001b[0m \u001b[0mthm\u001b[0m\u001b[0;34m)\u001b[0m\u001b[0;34m)\u001b[0m\u001b[0;34m\u001b[0m\u001b[0;34m\u001b[0m\u001b[0m\n\u001b[0m\u001b[1;32m     12\u001b[0m     \u001b[0;32melse\u001b[0m\u001b[0;34m:\u001b[0m\u001b[0;34m\u001b[0m\u001b[0;34m\u001b[0m\u001b[0m\n\u001b[1;32m     13\u001b[0m         \u001b[0mprint\u001b[0m\u001b[0;34m(\u001b[0m\u001b[0;34m\"Admitted!!\"\u001b[0m\u001b[0;34m,\u001b[0m \u001b[0mthm\u001b[0m\u001b[0;34m)\u001b[0m\u001b[0;34m\u001b[0m\u001b[0;34m\u001b[0m\u001b[0m\n\u001b[1;32m     14\u001b[0m     \u001b[0;32mreturn\u001b[0m \u001b[0mthm\u001b[0m\u001b[0;34m\u001b[0m\u001b[0;34m\u001b[0m\u001b[0m\n",
      "\u001b[0;32m~/.local/lib/python3.10/site-packages/z3/z3.py\u001b[0m in \u001b[0;36m?\u001b[0;34m(claim, show, **keywords)\u001b[0m\n\u001b[1;32m   9228\u001b[0m     \u001b[0;32mif\u001b[0m \u001b[0mr\u001b[0m \u001b[0;34m==\u001b[0m \u001b[0munsat\u001b[0m\u001b[0;34m:\u001b[0m\u001b[0;34m\u001b[0m\u001b[0;34m\u001b[0m\u001b[0m\n\u001b[1;32m   9229\u001b[0m         \u001b[0mprint\u001b[0m\u001b[0;34m(\u001b[0m\u001b[0;34m\"proved\"\u001b[0m\u001b[0;34m)\u001b[0m\u001b[0;34m\u001b[0m\u001b[0;34m\u001b[0m\u001b[0m\n\u001b[1;32m   9230\u001b[0m     \u001b[0;32melif\u001b[0m \u001b[0mr\u001b[0m \u001b[0;34m==\u001b[0m \u001b[0munknown\u001b[0m\u001b[0;34m:\u001b[0m\u001b[0;34m\u001b[0m\u001b[0;34m\u001b[0m\u001b[0m\n\u001b[1;32m   9231\u001b[0m         \u001b[0mprint\u001b[0m\u001b[0;34m(\u001b[0m\u001b[0;34m\"failed to prove\"\u001b[0m\u001b[0;34m)\u001b[0m\u001b[0;34m\u001b[0m\u001b[0;34m\u001b[0m\u001b[0m\n\u001b[0;32m-> 9232\u001b[0;31m         \u001b[0mprint\u001b[0m\u001b[0;34m(\u001b[0m\u001b[0ms\u001b[0m\u001b[0;34m.\u001b[0m\u001b[0mmodel\u001b[0m\u001b[0;34m(\u001b[0m\u001b[0;34m)\u001b[0m\u001b[0;34m)\u001b[0m\u001b[0;34m\u001b[0m\u001b[0;34m\u001b[0m\u001b[0m\n\u001b[0m\u001b[1;32m   9233\u001b[0m     \u001b[0;32melse\u001b[0m\u001b[0;34m:\u001b[0m\u001b[0;34m\u001b[0m\u001b[0;34m\u001b[0m\u001b[0m\n\u001b[1;32m   9234\u001b[0m         \u001b[0mprint\u001b[0m\u001b[0;34m(\u001b[0m\u001b[0;34m\"counterexample\"\u001b[0m\u001b[0;34m)\u001b[0m\u001b[0;34m\u001b[0m\u001b[0;34m\u001b[0m\u001b[0m\n\u001b[1;32m   9235\u001b[0m         \u001b[0mprint\u001b[0m\u001b[0;34m(\u001b[0m\u001b[0ms\u001b[0m\u001b[0;34m.\u001b[0m\u001b[0mmodel\u001b[0m\u001b[0;34m(\u001b[0m\u001b[0;34m)\u001b[0m\u001b[0;34m)\u001b[0m\u001b[0;34m\u001b[0m\u001b[0;34m\u001b[0m\u001b[0m\n",
      "\u001b[0;32m~/.local/lib/python3.10/site-packages/z3/z3.py\u001b[0m in \u001b[0;36m?\u001b[0;34m(self)\u001b[0m\n\u001b[1;32m   7190\u001b[0m         \"\"\"\n\u001b[1;32m   7191\u001b[0m         \u001b[0;32mtry\u001b[0m\u001b[0;34m:\u001b[0m\u001b[0;34m\u001b[0m\u001b[0;34m\u001b[0m\u001b[0m\n\u001b[1;32m   7192\u001b[0m             \u001b[0;32mreturn\u001b[0m \u001b[0mModelRef\u001b[0m\u001b[0;34m(\u001b[0m\u001b[0mZ3_solver_get_model\u001b[0m\u001b[0;34m(\u001b[0m\u001b[0mself\u001b[0m\u001b[0;34m.\u001b[0m\u001b[0mctx\u001b[0m\u001b[0;34m.\u001b[0m\u001b[0mref\u001b[0m\u001b[0;34m(\u001b[0m\u001b[0;34m)\u001b[0m\u001b[0;34m,\u001b[0m \u001b[0mself\u001b[0m\u001b[0;34m.\u001b[0m\u001b[0msolver\u001b[0m\u001b[0;34m)\u001b[0m\u001b[0;34m,\u001b[0m \u001b[0mself\u001b[0m\u001b[0;34m.\u001b[0m\u001b[0mctx\u001b[0m\u001b[0;34m)\u001b[0m\u001b[0;34m\u001b[0m\u001b[0;34m\u001b[0m\u001b[0m\n\u001b[1;32m   7193\u001b[0m         \u001b[0;32mexcept\u001b[0m \u001b[0mZ3Exception\u001b[0m\u001b[0;34m:\u001b[0m\u001b[0;34m\u001b[0m\u001b[0;34m\u001b[0m\u001b[0m\n\u001b[0;32m-> 7194\u001b[0;31m             \u001b[0;32mraise\u001b[0m \u001b[0mZ3Exception\u001b[0m\u001b[0;34m(\u001b[0m\u001b[0;34m\"model is not available\"\u001b[0m\u001b[0;34m)\u001b[0m\u001b[0;34m\u001b[0m\u001b[0;34m\u001b[0m\u001b[0m\n\u001b[0m",
      "\u001b[0;31mZ3Exception\u001b[0m: model is not available"
     ]
    }
   ],
   "source": [
    "conv_to = Function(\"conv_to\", Seq, R, B)\n",
    "eps = Real('eps')\n",
    "N = Const(\"N\", Nat)\n",
    "conv_to_def = ForAll([s, x], conv_to(s, x) == ForAll([eps], Exists([N], ForAll([n], Implies(real(n) >= real(N), abs(s[n] - x) < eps)))))\n",
    "\n",
    "converges = Function(\"converges\", Seq, B)\n",
    "converges_def = ForAll([s], converges(s) == Exists([x], conv_to(s, x)))\n",
    "\n",
    "lim = Function(\"lim\", Seq, R)\n",
    "lim_def = ForAll([s], Implies(converges(s), conv_to(s, lim(s))))\n",
    "\n",
    "recip_converge = lemma(conv_to(Lambda([n], 1/(1 + real(n))), 0), by=[conv_to_def, real_def], admit=True)\n",
    "\n",
    "# constructing the appropriate N(eps) is annoying\n",
    "#abs(Lambda([n], 1/(1 + real(n)))   \n",
    "#round_up = Function(\"round_up\", R, Nat)\n",
    "#round_up_def = ForAll([x], round_up(x) == If(x <= 0, 1, Nat.pred(round_up(x))), Nat.zero))\n",
    "\n",
    "\n",
    "\n"
   ]
  },
  {
   "cell_type": "code",
   "execution_count": null,
   "metadata": {},
   "outputs": [],
   "source": [
    "mono = Function(\"mono\", Seq, B)\n",
    "mono_def = ForAll([s], mono(s) == ForAll([n], s[n] <= s[Nat.succ(n)]))\n",
    "\n",
    "bounded = Function(\"bounded\", Seq, B)\n",
    "bounded_def = ForAll([s], bounded(s) == Exists([y], ForAll([n], s[n] <= y)))"
   ]
  },
  {
   "cell_type": "markdown",
   "metadata": {},
   "source": [
    "RNat = Function(\"Nat\", R, Bool) # Nat as a predictae on R\n",
    "RNat(x) == (real(ceil(x)) == x) # In terms of previous stuff.\n",
    "\n",
    "RNat is the least set that contains 0 and RNat(x) => RNat(x+1)\n",
    "\n",
    "Direct rnat induction\n",
    "\n",
    "----------------------------------\n",
    "ForAll([x], Implies(RNat(x), P(x))\n",
    "\n",
    "\n",
    "Real induction. If it is uniform real induction, we can push out a ball for an epsilon that does not depend on the size of the ball.\n",
    "P(B) /\\ exists eps, forall B, P(B) -> P(B+eps)\n",
    "--------------------------------------\n",
    "      forall x, P(x) \n",
    "\n",
    "This is sort of like the reverse of a monotonic convergence. It's a monotonic divergence.\n",
    "\n",
    "Logical integration. if prod P(x)dx = e^{int ln(P(x))dx} = 1, \n",
    "\n",
    "The issue with real induction where you can push the ball out a decreasing amoutn is similar to the concerns that led cantor to invent the orindals in the first place.\n",
    "\n",
    "It's also like finite escape vs asymptitotic escape/ lyapunov coefficients.\n",
    "\n",
    "Graham says Freyd reals. A double pointed set with gluing? Kind of like an interval definition\n",
    "\n",
    "Hamkins - The problem is the prefixes aren't determined by prefixes\n"
   ]
  },
  {
   "cell_type": "code",
   "execution_count": null,
   "metadata": {},
   "outputs": [],
   "source": [
    "I = Datatype(\"Interval\")\n",
    "I."
   ]
  },
  {
   "cell_type": "code",
   "execution_count": null,
   "metadata": {},
   "outputs": [],
   "source": [
    "RFun = ArraySort(R,R)\n",
    "cont = Function(RFun, B)\n",
    "\n",
    "cont_def = ForAll([f], cont(f) == ForAll([eps], Exists([N], ForAll([n], Implies(n >= N, abs(f(n) - f(0)) < eps)))))\n"
   ]
  },
  {
   "cell_type": "code",
   "execution_count": 105,
   "metadata": {
    "metadata": {}
   },
   "outputs": [
    {
     "name": "stdout",
     "output_type": "stream",
     "text": [
      "2\n"
     ]
    },
    {
     "data": {
      "text/html": [
       "real(succ(succ(n)))"
      ],
      "text/plain": [
       "real(succ(succ(n)))"
      ]
     },
     "execution_count": 105,
     "metadata": {},
     "output_type": "execute_result"
    }
   ],
   "source": [
    "# RecFunction allows us to use z3 as a simplifier.\n",
    "\n",
    "#sum__ = RecFunction(\"sum\", Seq, Nat, R)\n",
    "#RecAddDefinition(sum__, [s, n], If(n == Nat.zero, 0, plus(s[Nat.pred(n)], sum__(s, Nat.pred(n)))))\n",
    "#simplify(sum__(Lambda([n], If(Nat.is_zero(n), RealVal(0), RealVal(1))), Nat.succ(Nat.zero)))\n",
    "\n",
    "#sum_id = RecFunction(\"sum_id\", Seq, Nat, R)\n",
    "#RecAddDefinition(sum_id, [n], If(n == Nat.zero, 0, plus(s[Nat.pred(n)], sum__(s, Nat.pred(n)))))\n",
    "#simplify(sum__(Lambda([n], If(Nat.is_zero(n), RealVal(0), RealVal(1))), Nat.succ(Nat.zero)))\n",
    "\n",
    "real_ = RecFunction(\"real\", Nat, R)\n",
    "RecAddDefinition(real_, [n], If(Nat.is_zero(n), 0, 1 + real_(Nat.pred(n))))\n",
    "print(simplify(real_(Nat.succ(Nat.succ(Nat.zero)))))\n",
    "simplify(real_(Nat.succ(Nat.succ(n))))\n"
   ]
  },
  {
   "cell_type": "markdown",
   "metadata": {},
   "source": [
    "Nets. Sequences are perhaps arbitrary,\n",
    "\n",
    "\n",
    "Filters. Havibng a domain at all is perhaps arbitrary\n",
    "\n",
    "\n",
    "Math comp analyses and zach was all about filters.\n",
    "\n"
   ]
  },
  {
   "cell_type": "code",
   "execution_count": 71,
   "metadata": {
    "metadata": {}
   },
   "outputs": [
    {
     "name": "stdout",
     "output_type": "stream",
     "text": [
      "Overwriting /tmp/induct.smt2\n"
     ]
    }
   ],
   "source": [
    "%%file /tmp/induct.smt2\n",
    "(declare-sort Nat 0)\n",
    "(declare-fun sum ((Array Nat Real) Nat) Real)\n",
    "(declare-fun real (Nat) Real)\n",
    "(declare-fun plus (Real Real) Real)\n",
    "(declare-fun mul (Real Real) Real)\n",
    "(assert (let ((a!1 (forall ((x Real))\n",
    "             (= (sum ((as const (Array Nat Real)) x) zero) 0.0)))\n",
    "      (a!2 (forall ((n Nat))\n",
    "             (let ((a!1 (forall ((x Real))\n",
    "                          (= (sum ((as const (Array Nat Real)) x) n)\n",
    "                             (mul (real n) x))))\n",
    "                   (a!2 (forall ((x Real))\n",
    "                          (= (sum ((as const (Array Nat Real)) x) (succ n))\n",
    "                             (mul (real (succ n)) x)))))\n",
    "               (=> a!1 a!2))))\n",
    "      (a!3 (forall ((x Real))\n",
    "             (= (sum ((as const (Array Nat Real)) x) zero) (mul (real zero) x))))\n",
    "      (a!4 (forall ((n Nat))\n",
    "             (forall ((x Real))\n",
    "               (= (sum ((as const (Array Nat Real)) x) n) (mul (real n) x)))))\n",
    "      (a!5 (forall ((x Real) (n Nat))\n",
    "             (= (sum ((as const (Array Nat Real)) x) n) (mul (real n) x)))))\n",
    "  (=> (and a!1 a!2 (=> (and a!3 a!2) a!4)) a!5)))\n",
    "\n",
    "(check-sat)"
   ]
  },
  {
   "cell_type": "code",
   "execution_count": 70,
   "metadata": {
    "metadata": {}
   },
   "outputs": [
    {
     "name": "stdout",
     "output_type": "stream",
     "text": [
      "% Running in auto input_syntax mode. Trying SMTLIB2\n",
      "% Failed with\n",
      "% User error: Compound functor expected to be a rankend function (starting with '_'). Instead read: (as const (Array Nat Real))\n",
      "% Trying TPTP\n",
      "Parsing Error on line 1: cnf(), fof(), vampire() or include() expected at position 0 (text: ()\n"
     ]
    }
   ],
   "source": [
    "! vampire /tmp/induct.smt2"
   ]
  },
  {
   "cell_type": "code",
   "execution_count": null,
   "metadata": {},
   "outputs": [],
   "source": []
  }
 ],
 "metadata": {
  "kernelspec": {
   "display_name": "Python 3",
   "language": "python",
   "name": "python3"
  },
  "language_info": {
   "codemirror_mode": {
    "name": "ipython",
    "version": 3
   },
   "file_extension": ".py",
   "mimetype": "text/x-python",
   "name": "python",
   "nbconvert_exporter": "python",
   "pygments_lexer": "ipython3",
   "version": "3.10.12"
  }
 },
 "nbformat": 4,
 "nbformat_minor": 2
}
