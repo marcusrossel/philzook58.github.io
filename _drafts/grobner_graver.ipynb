{
 "cells": [
  {
   "cell_type": "code",
   "execution_count": null,
   "metadata": {},
   "outputs": [],
   "source": []
  },
  {
   "cell_type": "markdown",
   "metadata": {},
   "source": [
    "# Graver\n",
    "\n",
    "https://mattpap.github.io/masters-thesis/html/src/groebner.html#integer-optimization\n",
    "\n",
    "graver for MILP\n",
    "graver for bilevel? It does \"domimate\" the system, which smells right.\n",
    "\n",
    "Yeah, fun grobner applications.\n",
    "\n",
    "Classical feynman diagrams\n",
    "Mathemtically speaking, quite similar to linkages. These give distance constraints, which are also quadratic.\n",
    "\n",
    "\n",
    "KKT conditions of LP -> polyunomial ineqs.\n",
    "Hmm\n",
    "\n",
    "Hermite matrix\n",
    "\n",
    "Cody was saying that maybe looking at the guts of simplex might be interesting.\n",
    "Nearest feasible? Nearest in what sense?\n"
   ]
  },
  {
   "cell_type": "markdown",
   "metadata": {},
   "source": [
    "\n",
    "\n",
    "\n",
    "\n",
    "\n"
   ]
  }
 ],
 "metadata": {
  "language_info": {
   "name": "python"
  }
 },
 "nbformat": 4,
 "nbformat_minor": 2
}
