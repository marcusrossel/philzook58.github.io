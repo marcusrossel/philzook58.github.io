{
 "cells": [
  {
   "cell_type": "code",
   "execution_count": null,
   "metadata": {},
   "outputs": [],
   "source": []
  },
  {
   "cell_type": "markdown",
   "metadata": {},
   "source": [
    "Polynomials are just another container.\n",
    "bottom up ematching still seems ok\n",
    "polynomials are ground from the term reqwriting perspective.\n",
    "grobner guaranteed to terminate?\n",
    "Also linear equalities\n",
    "\n",
    "We can also do SMT guarded patterns.\n",
    "\n",
    "\n",
    "\n",
    "linear inequalities?\n",
    "\n",
    "Knuth bendix and grobner\n",
    "https://leodemoura.github.io/files/synasc.pdf passmore de moura Superfluous S-polynomials in Strategy-Independent\n",
    "Gr¨obner Bases\n",
    "https://www.sciencedirect.com/science/article/pii/S0747717199902626  A Categorical Critical-pair Completion Algorithm\n",
    "https://dl.acm.org/doi/pdf/10.1145/74540.74548  Knuth-Bendix procedure and Buchberger algorithm: a synthesis\n",
    "https://link.springer.com/chapter/10.1007/978-3-0348-8800-4_9 Normalized Rewriting: A Unified View of Knuth-Bendix Completion and Gröbner Bases Computation\n",
    "https://arxiv.org/abs/math/9812097  Applications of Rewriting Systems and Groebner Bases to Computing Kan Extensions and Identities Among Relations\n",
    "\n",
    "\n",
    "https://jingnanshi.com/blog/groebner_basis.html\n",
    "https://colab.research.google.com/github/bernalde/QuIP/blob/master/notebooks/Notebook%202%20-%20Groebner%20basis.ipynb hmm. quantum integer programming?\n",
    "https://github.com/sumiya11/Groebner.jl?tab=readme-ov-file\n",
    "msolve\n",
    "https://www.philipzucker.com/computing-syzygy-modules-in-sympy/\n",
    "\n",
    "\n",
    "Also polynomial factoring. Normalization of the poly could involve slapping the factors in the egraph.\n"
   ]
  },
  {
   "cell_type": "code",
   "execution_count": 1,
   "metadata": {},
   "outputs": [],
   "source": [
    "import sympy as sp"
   ]
  },
  {
   "cell_type": "code",
   "execution_count": null,
   "metadata": {},
   "outputs": [],
   "source": [
    "class UnionFind():\n",
    "    def __init__(self):\n",
    "        self.uf = []\n",
    "    def makeset(self):\n",
    "        uf = self.uf\n",
    "        uf.append(len(uf))\n",
    "        return len(uf) - 1\n",
    "    def find(self,x):\n",
    "        while self.uf[x] != x:\n",
    "            x = self.uf[x]\n",
    "        return x\n",
    "    def union(self,x,y):\n",
    "        x = self.find(x)\n",
    "        y = self.find(y)\n",
    "        self.uf[x] = y\n",
    "        return y\n",
    "    def __len__(self):\n",
    "        return len(self.uf)\n",
    "    def __repr__(self):\n",
    "        return \"UnionFind({})\".format(self.uf)\n",
    "\n",
    "EClass = int\n",
    "\n",
    "from dataclasses import dataclass\n",
    "from typing import Any, Dict\n",
    "\n",
    "@dataclass(frozen=True)\n",
    "class Lit():\n",
    "    data: Any\n",
    "    def rebuild(self):\n",
    "        return self\n",
    "\n",
    "@dataclass(frozen=True)\n",
    "class ENode():\n",
    "    head: Any\n",
    "    args : tuple[EClass]\n",
    "    def rebuild(self):\n",
    "        return ENode(self.head, tuple(map(egraph.uf.find, self.args)))"
   ]
  }
 ],
 "metadata": {
  "kernelspec": {
   "display_name": "Python 3",
   "language": "python",
   "name": "python3"
  },
  "language_info": {
   "codemirror_mode": {
    "name": "ipython",
    "version": 3
   },
   "file_extension": ".py",
   "mimetype": "text/x-python",
   "name": "python",
   "nbconvert_exporter": "python",
   "pygments_lexer": "ipython3",
   "version": "3.10.12"
  }
 },
 "nbformat": 4,
 "nbformat_minor": 2
}
