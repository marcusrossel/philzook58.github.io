{
 "cells": [
  {
   "cell_type": "code",
   "execution_count": null,
   "metadata": {},
   "outputs": [],
   "source": []
  },
  {
   "cell_type": "markdown",
   "metadata": {},
   "source": [
    "WHat is answer set programming?\n",
    "\n",
    "https://arxiv.org/abs/2311.04412 Human Conditional Reasoning in Answer Set Programming\n",
    "\n",
    "https://www.youtube.com/watch?v=zDY3c3VnG68\n",
    "https://personal.utdallas.edu/~gupta/csr-scasp.pdf\n",
    "\n",
    "stablekanren is trying to not go the scasp approach?\n",
    "\n",
    "Datalog with foresight. Prescient datalog\n",
    "\n",
    "Could I do ASp in z3? Maybe a guess and then a datalog run? We only use the guess for the negation\n",
    "\n",
    "\n",
    "\n",
    "What is the deal with scasp.\n",
    "There was that minikanren variant at popl\n",
    "\n",
    "```prolog\n",
    "\n",
    "```\n",
    "\n",
    "https://swish.swi-prolog.org/example/scasp.swinb\n",
    "\n",
    "https://github.com/SWI-Prolog/sCASP\n",
    "\n",
    "`pack_install(scasp).`"
   ]
  },
  {
   "cell_type": "code",
   "execution_count": 2,
   "metadata": {},
   "outputs": [
    {
     "name": "stderr",
     "output_type": "stream",
     "text": [
      "ERROR: scasp_example:2:\n",
      "ERROR:    source_sink `library(scasp)' does not exist\n",
      "Warning: scasp_example:2:\n",
      "Warning:    Goal (directive) failed: user:use_module(library(scasp))\n",
      "ERROR: scasp_example:3:16: Syntax error: Operator expected\n",
      "ERROR: scasp_example:4:14: Syntax error: Operator expected\n",
      "ERROR: scasp_example:7:\n",
      "ERROR:    No permission to modify static procedure `false/0'\n",
      "ERROR:    Defined at /lib/swi-prolog/boot/init.pl:557\n"
     ]
    },
    {
     "ename": "PrologError",
     "evalue": "janus:py_call/4: Unknown procedure: scasp/2",
     "output_type": "error",
     "traceback": [
      "\u001b[0;31m---------------------------------------------------------------------------\u001b[0m",
      "\u001b[0;31mPrologError\u001b[0m                               Traceback (most recent call last)",
      "Cell \u001b[0;32mIn[2], line 16\u001b[0m\n\u001b[1;32m      1\u001b[0m \u001b[38;5;28;01mimport\u001b[39;00m \u001b[38;5;21;01mjanus_swi\u001b[39;00m \u001b[38;5;28;01mas\u001b[39;00m \u001b[38;5;21;01mjanus\u001b[39;00m\n\u001b[1;32m      4\u001b[0m janus\u001b[38;5;241m.\u001b[39mconsult(\u001b[38;5;124m\"\u001b[39m\u001b[38;5;124mscasp_example\u001b[39m\u001b[38;5;124m\"\u001b[39m, \u001b[38;5;124m\"\"\"\u001b[39m\n\u001b[1;32m      5\u001b[0m \u001b[38;5;124m:- use_module(library(scasp)).\u001b[39m\n\u001b[1;32m      6\u001b[0m \u001b[38;5;124mopera(D) :- not home(D).\u001b[39m\n\u001b[0;32m   (...)\u001b[0m\n\u001b[1;32m     13\u001b[0m \n\u001b[1;32m     14\u001b[0m \u001b[38;5;124m\"\"\"\u001b[39m)\n\u001b[0;32m---> 16\u001b[0m \u001b[43mjanus\u001b[49m\u001b[38;5;241;43m.\u001b[39;49m\u001b[43mquery_once\u001b[49m\u001b[43m(\u001b[49m\u001b[38;5;124;43m\"\u001b[39;49m\u001b[38;5;124;43mscasp(opera(D), [])\u001b[39;49m\u001b[38;5;124;43m\"\u001b[39;49m\u001b[43m)\u001b[49m\n",
      "File \u001b[0;32m~/.local/lib/python3.10/site-packages/janus_swi/janus.py:243\u001b[0m, in \u001b[0;36mquery_once\u001b[0;34m(query, inputs, keep, truth_vals)\u001b[0m\n\u001b[1;32m    225\u001b[0m \u001b[38;5;250m\u001b[39m\u001b[38;5;124;03m\"\"\"\u001b[39;00m\n\u001b[1;32m    226\u001b[0m \u001b[38;5;124;03mCall a Prolog predicate as `query_once/1`\u001b[39;00m\n\u001b[1;32m    227\u001b[0m \n\u001b[0;32m   (...)\u001b[0m\n\u001b[1;32m    240\u001b[0m \u001b[38;5;124;03m    How to deal with _Well Founded Semantics_ undefined results.\u001b[39;00m\n\u001b[1;32m    241\u001b[0m \u001b[38;5;124;03m\"\"\"\u001b[39;00m\n\u001b[1;32m    242\u001b[0m inputs[\u001b[38;5;124m'\u001b[39m\u001b[38;5;124mtruth\u001b[39m\u001b[38;5;124m'\u001b[39m] \u001b[38;5;241m=\u001b[39m truth_vals\n\u001b[0;32m--> 243\u001b[0m \u001b[38;5;28;01mreturn\u001b[39;00m \u001b[43m_swipl\u001b[49m\u001b[38;5;241;43m.\u001b[39;49m\u001b[43mcall\u001b[49m\u001b[43m(\u001b[49m\u001b[43mquery\u001b[49m\u001b[43m,\u001b[49m\u001b[43m \u001b[49m\u001b[43minputs\u001b[49m\u001b[43m,\u001b[49m\u001b[43m \u001b[49m\u001b[43mkeep\u001b[49m\u001b[43m)\u001b[49m\n",
      "\u001b[0;31mPrologError\u001b[0m: janus:py_call/4: Unknown procedure: scasp/2"
     ]
    }
   ],
   "source": [
    "import janus_swi as janus\n",
    "\n",
    "\n",
    "janus.consult(\"scasp_example\", \"\"\"\n",
    ":- use_module(library(scasp)).\n",
    "opera(D) :- not home(D).\n",
    "home(D):- not opera(D).\n",
    "home(monday).\n",
    "\n",
    "false :- baby(D), opera(D).\n",
    "\n",
    "baby(tuesday).\n",
    "\n",
    "\"\"\")\n",
    "\n",
    "janus.query_once(\"scasp(opera(D), [])\")"
   ]
  }
 ],
 "metadata": {
  "kernelspec": {
   "display_name": "Python 3",
   "language": "python",
   "name": "python3"
  },
  "language_info": {
   "codemirror_mode": {
    "name": "ipython",
    "version": 3
   },
   "file_extension": ".py",
   "mimetype": "text/x-python",
   "name": "python",
   "nbconvert_exporter": "python",
   "pygments_lexer": "ipython3",
   "version": "3.10.12"
  }
 },
 "nbformat": 4,
 "nbformat_minor": 2
}
