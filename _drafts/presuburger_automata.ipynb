{
 "cells": [
  {
   "cell_type": "code",
   "execution_count": null,
   "metadata": {},
   "outputs": [],
   "source": [
    "\n",
    "\n",
    "\n",
    "\n",
    "\n"
   ]
  },
  {
   "cell_type": "markdown",
   "metadata": {},
   "source": [
    "Integer sets as regexes.\n",
    "\n",
    "\n",
    "Long division by given number ought to be expressible as a finite automata. with current carry as part of state\n",
    "\n",
    "3x+1\n",
    "\n",
    "\n"
   ]
  },
  {
   "cell_type": "code",
   "execution_count": null,
   "metadata": {},
   "outputs": [],
   "source": [
    "import regex\n",
    "\n",
    "div1 = \"(0|1)*\"\n",
    "even = \"(0|1)*1\" # or zero I guess?\n",
    "even = div1 + \"1\" + \"|\"  fail + \"0\"\n",
    "div4 = \"(0|1)*10\"\n",
    "div8 = \"(0|1)*100\"\n",
    "\n",
    "div3 = [\"11\", \"110\", \"1001\", \"1100\"] \n",
    "\n",
    "     \" ( ()1 +()0 )1   | (   )0\"\n",
    "\n",
    "#div3 = div[(3-1)/2] + \"1\" | div[3/2] + \"0\"\n",
    "x = 3*n\n",
    "x = 1 + y\n",
    "1 + y = 3*n\n",
    "\n",
    "\n",
    "div3 = div2 + div1 + div3\n",
    "\n",
    "\n",
    "# a vector of regexes\n",
    "[even, div4]\n",
    "\n",
    "# we can squash by making combo symbols\n",
    "\n",
    "\n",
    "# a commmunicating vector\n",
    "\n",
    "\n",
    "\n",
    "\n",
    "\n"
   ]
  }
 ],
 "metadata": {
  "language_info": {
   "name": "python"
  }
 },
 "nbformat": 4,
 "nbformat_minor": 2
}
