{
 "cells": [
  {
   "cell_type": "code",
   "execution_count": null,
   "metadata": {},
   "outputs": [],
   "source": [
    "from cvc5.pythonic import *\n",
    "\n",
    "def lemma(thm, by=[], admit=False):\n",
    "    if admit:\n",
    "        print(f\"(admit {thm})\")\n",
    "    else:\n",
    "        s = Solver()\n",
    "        for t in by:\n",
    "            s.add(t)\n",
    "        s.add(Not(thm))\n",
    "        s.option(\"timeout\", 1000)\n",
    "        if s.check() == unsat:\n",
    "            print(f\"proven\")\n",
    "        else:\n",
    "            print(f\"FAILED to prove lemma {thm}\")\n",
    "# https://en.wikipedia.org/wiki/Linear_algebra\n",
    "R = RealSort()\n",
    "V = DeclareSort(\"V\")\n",
    "u,v,w = Consts(\"u v w\", V)\n",
    "v0,v1,v2 = Consts(\"v0 v1 v2\", V)\n",
    "a,b,c = Reals(\"a b c\")\n",
    "\n",
    "vadd = Function(\"vadd\", V, V, V)\n",
    "vzero = Function(\"vzero\", V)\n",
    "vmul = Function(\"vmul\", R, V, V)\n",
    "def Vector(V, vadd, vmul, vzero):\n",
    "    vadd_distrib = ForAll([u,v,w], vadd(vmul(a,u), vmul(a,v)) == vmul(a, vadd(u,v)))\n",
    "    vadd_assoc = ForAll([u,v,w], vadd(u,vadd(v,w)) == vadd(vadd(u,v),w))\n",
    "    vadd_zero = ForAll([u], vadd(u,vzero) == u)\n",
    "    vadd_comm = ForAll([u,v], vadd(u,v) == vadd(v,u)\n",
    "                       \n",
    "    return {\n",
    "        \"V\": V,\n",
    "        \"vadd\": vadd,\n",
    "        \"vmul\": vmul,\n",
    "        \"vzero\": vzero,\n",
    "        \"vadd_distrib\": vadd_distrib,\n",
    "        \"vadd_assoc\": vadd_assoc,\n",
    "        \"vadd_zero\": vadd_zero,\n",
    "        \"vadd_comm\": vadd_comm\n",
    "    }\n",
    "\n",
    "\n",
    "\n",
    "\n",
    "\n",
    "\n",
    "vdot = Function(\"vdot\", V, V, R)\n",
    "def InnerProd(V, vdot):\n",
    "    vdot_zero = ForAll([v0], vdot(vzero, v0) == 0)\n",
    "    vdot_sym = ForAll([v0,v1], vdot(v0,v1) == vdot(v1,v0))\n",
    "    vdot_linear = ForAll([v0,v1,v2], vdot(vadd(v0,v1),v2) == vadd(vdot(v0,v2), vdot(v1,v2)))\n",
    "    vdot_scale = ForAll([v0,v1], vdot(vmul(a,v0),v1) == vmul(a, vdot(v0,v1)))\n",
    "    vdot_pos = ForAll([v0], vdot(v0,v0) >= 0)\n"
   ]
  },
  {
   "cell_type": "code",
   "execution_count": null,
   "metadata": {},
   "outputs": [],
   "source": [
    "\n",
    "\n",
    "\n",
    "\n",
    "V2 = Datatype(\"V2\")\n",
    "V2.declare(\"V2\", (\"x\", R), (\"y\", R))\n",
    "V2 = V2.create()\n"
   ]
  }
 ],
 "metadata": {
  "language_info": {
   "name": "python"
  }
 },
 "nbformat": 4,
 "nbformat_minor": 2
}
