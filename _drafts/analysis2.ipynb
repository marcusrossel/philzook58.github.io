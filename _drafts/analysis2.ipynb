{
 "cells": [
  {
   "cell_type": "markdown",
   "metadata": {},
   "source": [
    "## Defining cos\n",
    "cos(x) = sum(x**n)\n",
    "https://www.philipzucker.com/analysis_knuckle/\n",
    "\n",
    "\n",
    "\n"
   ]
  },
  {
   "cell_type": "code",
   "execution_count": 3,
   "metadata": {},
   "outputs": [
    {
     "name": "stdout",
     "output_type": "stream",
     "text": [
      "proved\n",
      "proved\n",
      "proved\n",
      "proved\n",
      "proved\n",
      "proved\n",
      "proved\n",
      "proved\n"
     ]
    }
   ],
   "source": [
    "from z3 import *\n",
    "\n",
    "B = BoolSort()\n",
    "Z = IntSort()\n",
    "R = RealSort()\n",
    "x,y,z = Reals('x y z')\n",
    "\n",
    "def lemma(thm, by=[], admit=False):\n",
    "    if not admit:\n",
    "        #print(Implies(And(by), thm).sexpr())\n",
    "        prove(Implies(And(by), thm))\n",
    "    else:\n",
    "        print(\"Admitted!!\", thm)\n",
    "    return thm\n",
    "    \n",
    "plus = Function(\"plus\", R,R,R)\n",
    "plus_def = ForAll([x, y], plus(x, y) == x + y)\n",
    "\n",
    "plus_0 = lemma(ForAll([x], plus(x, 0) == x), by=[plus_def])\n",
    "plus_comm = lemma(ForAll([x, y], plus(x, y) == plus(y, x)), by=[plus_def])\n",
    "plus_assoc = lemma(ForAll([x, y, z], plus(x, plus(y, z)) == plus(plus(x, y), z)), by=[plus_def])\n",
    "                   \n",
    "mul = Function(\"mul\", R,R,R)\n",
    "mul_def = ForAll([x, y], mul(x, y) == x * y)\n",
    "\n",
    "mul_zero = lemma(ForAll([x], mul(x, 0) == 0), by=[mul_def])\n",
    "mul_1 = lemma(ForAll([x], mul(x, 1) == x), by=[mul_def])\n",
    "mul_comm = lemma(ForAll([x, y], mul(x, y) == mul(y, x)), by=[mul_def])\n",
    "mul_assoc = lemma(ForAll([x, y, z], mul(x, mul(y, z)) == mul(mul(x, y), z)), by=[mul_def])\n",
    "mul_distrib = lemma(ForAll([x, y, z], mul(x, plus(y, z)) == plus(mul(x, y), mul(x, z))), by=[mul_def, plus_def])  \n",
    "\n",
    "Nat = Datatype(\"Nat\")\n",
    "Nat.declare('zero')\n",
    "Nat.declare('succ', ('pred', Nat))\n",
    "Nat = Nat.create()\n",
    "n,m,k = Consts('n m k', Nat)\n",
    "\n",
    "def induct(P):\n",
    "    return Implies(And(P(Nat.zero), ForAll([n], Implies(P(n), P(Nat.succ(n))))),\n",
    "                   #-----------------------------------------------------------\n",
    "                   ForAll([n], P(n)))\n",
    "\n",
    "real = Function(\"real\", Nat, R)\n",
    "real_def = ForAll([n], real(n) == If(Nat.is_zero(n), 0, plus(1, real(Nat.pred(n)))))\n",
    "\n",
    "ceil = Function(\"ceil\", R, Nat)\n",
    "ceil_def = ForAll([x], ceil(x) == If(x <= 0, Nat.zero, Nat.succ(ceil(x-1))))\n",
    "\n",
    "Seq = ArraySort(Nat, R)\n",
    "sum_ = Function(\"sum\", Seq, Nat, R)\n",
    "s = Const('s', Seq)\n",
    "sum_def = ForAll([s, n], sum_(s, n) == If(n == Nat.zero, 0, plus(s[Nat.pred(n)], sum_(s, Nat.pred(n)))))\n",
    "\n",
    "abs = Function(\"abs\", R, R)\n",
    "abs_def = ForAll([x], abs(x) == If(x >= 0, x, -x))"
   ]
  },
  {
   "cell_type": "code",
   "execution_count": null,
   "metadata": {},
   "outputs": [],
   "source": [
    "#https://en.wikipedia.org/wiki/Modulus_of_convergence\n",
    "Modulus = ArraySort(R, Nat)\n",
    "N = Const(\"N\", Modulus)\n",
    "eps = Real(\"eps\")\n",
    "cauchy = Function(Seq, Modulus, B)\n",
    "cauchy_def == ForAll([s,N], cauchy(s, N) == ForAll([eps,n,m], Implies(And(n > N(eps), m > N(eps)), \n",
    "                                                                       abs(s[n] - s[m]) < eps)))\n"
   ]
  },
  {
   "cell_type": "code",
   "execution_count": 11,
   "metadata": {},
   "outputs": [
    {
     "name": "stdout",
     "output_type": "stream",
     "text": [
      "proved\n"
     ]
    }
   ],
   "source": [
    "seq_sum = Function(\"seq_sum\", Seq, Seq, Seq)\n",
    "s,t = Consts(\"s t\", Seq)\n",
    "seq_sum_def = ForAll([s, t], seq_sum(s, t) == Lambda([n], plus(s[n], t[n])))\n",
    "\n",
    "seq_zero = K(Nat, RealVal(0))\n",
    "seq_zero.sort()\n",
    "seq_sum_zero = lemma(ForAll([s], seq_sum(s, seq_zero) == s), by=[seq_sum_def, plus_def])\n",
    "\n",
    "\n"
   ]
  },
  {
   "cell_type": "code",
   "execution_count": null,
   "metadata": {},
   "outputs": [],
   "source": [
    "# Bundling as a record\n",
    "# This is the reifnment problem.\n",
    "CSeq = Datatype(\"CSeq\")\n",
    "CSeq.declare(\"mk\", (\"seq\", Seq), (\"mod\", Modulus))\n",
    "CSeq = CSeq.create()\n",
    "\n",
    "cauchy = Function(\"cauchy\", CSeq, B)\n",
    "cauchy_def = ForAll([s], cauchy(s) == cauchy(s.seq, s.mod))\n",
    "\n",
    "\n",
    "Implies(And(cauchy(M), cauchy(N)))\n"
   ]
  },
  {
   "cell_type": "code",
   "execution_count": 21,
   "metadata": {},
   "outputs": [
    {
     "data": {
      "text/html": [
       "x + y"
      ],
      "text/plain": [
       "x + y"
      ]
     },
     "execution_count": 21,
     "metadata": {},
     "output_type": "execute_result"
    }
   ],
   "source": [
    "def myadd(x,y):\n",
    "    match x.sort():\n",
    "        case Seq:\n",
    "            return seq_sum(x,y)\n",
    "        case _:\n",
    "            print(s.sort().name())\n",
    "            assert False, s.sort().name()\n",
    "# containers are going to be annoying\n",
    "# \"List\" : Function(\"append\", x.sort(), x.sort(), x.sort())(x,y)\n",
    "ExprRef.__add__ = myadd\n",
    "s + t\n",
    "\n",
    "def mymul(x,y):\n",
    "    match x.sort():\n",
    "        case Seq:\n",
    "            return seq_mul(x,y)\n",
    "        case _:\n",
    "            print(s.sort().name())\n",
    "            assert False, s.sort().name()\n",
    "# containers are going to be annoying\n",
    "# \"List\" : Function(\"append\", x.sort(), x.sort(), x.sort())(x,y)\n",
    "ExprRef.__mul__ = mymul\n",
    "\n",
    "def myneg(x):\n",
    "    match x.sort():\n",
    "        case ArraySort(R,R):\n",
    "            z = FreshConst(R,prefix=\"z\")\n",
    "            return Lambda([z], -x[z])\n",
    "ExprRef.__negate__ = myneg"
   ]
  },
  {
   "cell_type": "code",
   "execution_count": 22,
   "metadata": {},
   "outputs": [
    {
     "data": {
      "text/html": [
       "seq_sum(s, t)"
      ],
      "text/plain": [
       "seq_sum(s, t)"
      ]
     },
     "execution_count": 22,
     "metadata": {},
     "output_type": "execute_result"
    }
   ],
   "source": [
    "#import multipledispatch # But we can't dispatch on the type.. so no go right?\n",
    "add_dict = {\n",
    "    Seq: seq_sum,\n",
    "}\n",
    "def myadd(x,y):\n",
    "    return add_dict[x.sort()](x,y)\n",
    "# what's the point of this indirection though.\n",
    "def register_add(s, f):\n",
    "    add_dict[s] = f\n",
    "\n",
    "ExprRef.__add__ = myadd\n",
    "s + t"
   ]
  },
  {
   "cell_type": "code",
   "execution_count": 19,
   "metadata": {},
   "outputs": [
    {
     "data": {
      "text/plain": [
       "'Array(Nat, Real)'"
      ]
     },
     "execution_count": 19,
     "metadata": {},
     "output_type": "execute_result"
    }
   ],
   "source": [
    "repr(s.sort())"
   ]
  },
  {
   "cell_type": "code",
   "execution_count": null,
   "metadata": {},
   "outputs": [],
   "source": [
    "\n",
    "lim = Function(\"lim\", CSeq, R)\n",
    "#lim_def = ForAll([s], lim(s) == If(cauchy(s), lim(s.seq), None))\n",
    "lim_def = Implies(cauchy(s), conv_to(s.seq, lim(s), s.mod))\n",
    "\n",
    "lim(s + t) == lim(s) + lim(t)\n",
    "lim(s * t) == lim(s) * lim(t)\n",
    "\n",
    "\n",
    "# if it converges\n",
    "infsum = Function(\"infsum\", Seq, R)\n",
    "\n",
    "Implies(Implies(cauchy(f, Nf), cauchy(g, Ng)), cauchy(add(f,g), Lambda([eps], Nf(eps/2) + Ng(eps/2)))) \n",
    "\n",
    "\n",
    "#= cauchy(f,Nf), cauchy(g,Ng) => \n",
    "cauchy_eq = zero(sub(g,f), N)"
   ]
  },
  {
   "cell_type": "code",
   "execution_count": null,
   "metadata": {},
   "outputs": [],
   "source": [
    "pow = Function(\"pow\", R, Nat, R)\n",
    "pow_def = ForAll([x,n], pow(x,n) == If(Nat.is_zero(n), RealVal(1), mul(x, pow(x,Nat.pred(n)))))\n",
    "\n",
    "\n"
   ]
  },
  {
   "cell_type": "markdown",
   "metadata": {},
   "source": [
    "# Sup\n",
    "https://en.wikipedia.org/wiki/Infimum_and_supremum"
   ]
  },
  {
   "cell_type": "code",
   "execution_count": null,
   "metadata": {},
   "outputs": [],
   "source": [
    "\n",
    "RSet = R >> B\n",
    "RSeq = Nat >> R\n",
    "sup = Function(\"sup\", RSet, R)\n",
    "sup2 = Function(\"sup\", RSeq, R)\n",
    "\n",
    "ubound = Function(\"upper\", RSet, R, B)\n",
    "ubound_def = ForAll([S, x], ubound(S, x) == ForAll([y], S(y) <= x))\n",
    "\n",
    "bounded = Function(\"bounded\", RSet, B)\n",
    "bounded_def = ForAll([S], bounded(S) == Exists([x], ubound(S, x)))\n",
    "\n",
    "sup_ubound = axiom(QForAll([x], bounded(S), ubound(S, sup(S)))) # it is an upper bound\n",
    "sup_lub = axiom(QForAll([x, S], ubound(S,x), sup(S) <= x)) # it is the least upper bound\n",
    "\n",
    "# monotonic saequences mono(s), bounded(s) => sup2(s) = lim(s)\n",
    "\n",
    "\n",
    "# inf\n",
    "\n"
   ]
  },
  {
   "cell_type": "markdown",
   "metadata": {},
   "source": [
    "# Derivative Integral\n",
    "Maybe we hsould have two notions of derivative. The analytic and syntactic version.\n",
    "deriv() gives something\n",
    "but\n",
    "differentiable(f) => is_deriv(f,derive(f))\n",
    "\n",
    " https://www.philipzucker.com/z3_diff/"
   ]
  },
  {
   "cell_type": "code",
   "execution_count": null,
   "metadata": {},
   "outputs": [],
   "source": [
    "\n",
    "RFun = ArraySort(R,R)\n",
    "derive = Function(\"derive\", RFun, RFun) #diff?\n",
    "sin,cos,exp = Consts(\"sin cos exp\", RFun)\n",
    "\n",
    "dsin = derive(sin) == cos\n",
    "dcos = derive(cos) == -sin\n",
    "dexp = derive(exp) == exp\n",
    "\n",
    "chain = ForAll([f,g], derive(comp(f,g)) == derive(g) * comp(derive(f),g))\n",
    "dsum = ForAll([f,g], derive(f + g) == derive(f) + derive(g))\n",
    "dmul = ForAll([f,g], derive(f * g) == derive(f) * derive(g))\n",
    "c = Real(\"c\")\n",
    "dconst = ForAll([c], derive(K(R,c)) == K(R,0))\n",
    "dx = derive(Lambda([x], x)) == K(R,1)\n",
    "\n",
    "integ = Function(\"integ\", RFun, RFun)\n",
    "integ_def = ForAll([f], deriv(integ(f)) == f)\n",
    "integ_deriv = ForAll([f], Implies(   , integ(deriv(f)) == f))\n",
    "\n",
    "\n",
    "\n",
    "\n"
   ]
  },
  {
   "cell_type": "markdown",
   "metadata": {},
   "source": [
    "If one recalls, thr partial application comp(cos,-) is another form of cosine that is also useful. This has something to do with the yoneda lemma if we want to be fancy.\n",
    "\n"
   ]
  },
  {
   "cell_type": "code",
   "execution_count": null,
   "metadata": {},
   "outputs": [],
   "source": [
    "integ = Function(\"integ\", RFun, R, R, R)\n",
    "max = Function(\"max\", RFun, R, R, R)\n",
    "min = Function(\"min\", RFun, R, R, R)\n",
    "\n",
    "max_def = ForAll([f,a,b], max(f,a,b) == If(a >= b, f(a), f(b)))\n",
    "\n",
    "max_def = ForAll([f,a,b], max(f,a,b,z) == QForAll([x], And(x <= b, x >= a),  f(x) <= f(z)))\n",
    "\n",
    "max(f,a,a) == f(a)\n",
    "\n",
    "max(max(f,a,c), max(f,c,b))\n",
    "max = Function(\"max\", R, R, R)\n",
    "\n",
    "\n",
    "\n",
    "integ(f,a,b) = integ(f,a,c) + integ(f,c,b)\n",
    "integ(f,a,b) <= max(f,a,b) * (b - a)\n",
    "integ(f,a,b) >= min(f,a,b) * (b - a)\n",
    "\n"
   ]
  },
  {
   "cell_type": "code",
   "execution_count": null,
   "metadata": {},
   "outputs": [],
   "source": [
    "M = DeclareSort(\"M\") # manifold\n",
    "RealField = ArraySort(M, R)\n",
    "d = Function(\"d\", RealField, ??)\n",
    "\n"
   ]
  },
  {
   "cell_type": "code",
   "execution_count": null,
   "metadata": {},
   "outputs": [],
   "source": [
    "\n",
    "\n",
    "```python\n",
    "from z3 import *\n",
    "def lemma(thm,by=[]):\n",
    "    prove(Implies(And(by), thm))\n",
    "    return thm\n",
    "\n",
    "R = RealSort()\n",
    "RR = ArraySort(R, R)\n",
    "\n",
    "class RealFun(ArrayRef):\n",
    "    def __add__(self, other):\n",
    "        r = plus(self,other)\n",
    "        r.__class__ = RealFun\n",
    "        return r\n",
    "\n",
    "def RealFuns(names):\n",
    "    xs = Consts(names, RR)\n",
    "    for x in xs:\n",
    "        x.__class__ = RealFun\n",
    "    return xs\n",
    "\n",
    "z = Real(\"z\")\n",
    "f,g,h = RealFuns(\"f g h\")\n",
    "plus = Function(\"plus\", RR, RR, RR)\n",
    "plus_def = ForAll([f, g], plus(f, g) == Lambda([z], f[z] + g[z]))\n",
    "\n",
    "plus_comm = lemma(ForAll([f, g], f + g == g + f), [plus_def])\n",
    "plus_assoc = lemma(ForAll([f, g, h], f + g + h == f + (g + h)), [plus_def])\n",
    "\n",
    "mul = Function(\"mul\", RR, RR, RR)\n",
    "mul_def = ForAll([f, g], mul(f, g) == Lambda([z], f[z] * g[z]))\n",
    "\n",
    "mul_comm = lemma(ForAll([f, g], f * g == g * f), [mul_def])\n",
    "mul_assoc = lemma(ForAll([f, g, h], f * g * h == f * (g * h)), [mul_def])\n",
    "\n",
    "x, cos, sin = RealFuns(\"x cos sin\")\n",
    "x_def = x == Lambda([z],z)\n",
    "\n",
    "\n",
    "\n",
    "integ = Function(\"integ\", RR, R, R, R)\n"
   ]
  },
  {
   "cell_type": "markdown",
   "metadata": {},
   "source": [
    "```python\n",
    "\n",
    "```\n",
    "\n",
    "Lebesgue integration\n",
    "Is there numerical version?\n",
    "What if we wrote a function that outputs the inverse multifunction\n",
    "\n",
    "\n",
    "\n",
    "If the problem of mosty interest is integration maybe I should attack that directly.The Risch algorithm supposedly does all intergals or something. How could that possibly be true. Maniuplating equations isn't done to my awareness?\n",
    "\n",
    "\n",
    "```python\n",
    "%%file /tmp/integ.p\n",
    "\n",
    "thf(int_decl, type, integ : ($real > $real) > $real).\n",
    "thf(int_linear, axiom, integ(F + G) = integ(F) + integ(G)).\n",
    "```\n",
    "\n",
    "    Overwriting /tmp/integ.p\n",
    "\n",
    "\n",
    "\n",
    "```python\n",
    "!zipperposition  /tmp/integ.p\n",
    "```\n",
    "\n",
    "    parse error: lexer fails on char +\n",
    "    \n",
    "        at file '/tmp/integ.p': line 3, col 31 to 32\n",
    "\n"
   ]
  },
  {
   "cell_type": "markdown",
   "metadata": {},
   "source": [
    "# Fixed Point\n",
    "Fixed point is a bit eaiser to know what we're talking about\n",
    "- Int * eps = Real\n",
    "- BitVec * eps = Real bounding\n",
    "\n",
    "https://soarlab.org/publications/2020_ijcar_bhlnr/#:~:text=Fixed%2Dpoint%20arithmetic%20is%20a,techniques%20or%20reuse%20the%20implementations. An smt theory of fixed point\n",
    "\n",
    "https://dl.acm.org/doi/10.1145/3524051 Tight Error Analysis in Fixed-point Arithmetic\n",
    "\n",
    "Yates Randy. 2009. Fixed-point arithmetic: An introduction. http://www.digitalsignallabs.com/fp.pdf\n",
    "\n",
    "https://theses.hal.science/tel-01158310/file/thesis.pdf Synthesis of certified programs in fixed-point arithmetic,\n",
    "and its application to linear algebra basic blocks"
   ]
  },
  {
   "cell_type": "code",
   "execution_count": 33,
   "metadata": {},
   "outputs": [
    {
     "name": "stdout",
     "output_type": "stream",
     "text": [
      "WARNING: Redefining function real2fixed from ForAll(z, real2fixed(z) == ToInt(ToReal(x)/1/65536)) to ForAll(z, real2fixed(z) == ToInt(z/1/65536))\n",
      "WARNING: Unneeded assumptions. Used [by_0, knuckledragger_goal, by_3]\n"
     ]
    }
   ],
   "source": [
    "from knuckledragger import *\n",
    "from z3 import *\n",
    "Fixed = Datatype(\"Fixed\")\n",
    "Fixed.declare(\"mk\", (\"x\", IntSort()), (\"eps\", RealSort()))\n",
    "Fixed = Fixed.create()\n",
    "\n",
    "x = Int(\"x\")\n",
    "eps = 2**-16\n",
    "z = Real(\"z\")\n",
    "fixed2real, fixed2real_def = define(\"fixed2real\", [x], ToReal(x) * eps )\n",
    "real2fixed, real2fixed_def = define(\"real2fixed\", [z], ToInt(z / eps))\n",
    "\n",
    "\n",
    "\n",
    "#lemma(ForAll([x], real2fixed(fixed2real(x)) <= 2*eps)\n",
    "             \n",
    "             # disparate eps kind of stinks. That starts the be kind of like floating point.\n",
    "#add = Function(\"add\", Fixed, Fixed, Fixed)\n",
    "#add_def = ForAll([x,y], real2fixed(fixed2real(x) + fixed2real(y)) == add(x,y))\n",
    "\n",
    "round, round_def = define(\"round\", [z], fixed2real(real2fixed(z)))\n",
    "\n",
    "\n",
    "round_down = lemma(ForAll([z], fixed2real(real2fixed(z)) <= z), by=[fixed2real_def, real2fixed_def])\n",
    "round_up = lemma(ForAll([z], fixed2real(real2fixed(z)) >= z - eps), by=[fixed2real_def, real2fixed_def])\n",
    "\n",
    "\n",
    "#round_idem = lemma(ForAll([z], round(round(z)) == round(z)), by=[round_def, fixed2real_def, real2fixed_def])\n",
    "#round_add = lemma(ForAll([x,y], round(x + y) <= round(x) + round(y)), by=[round_def, ]\n",
    "real_fixed_id = lemma(ForAll([x], real2fixed(fixed2real(x)) == x), by=[real2fixed_def, fixed2real_def])\n",
    "\n",
    "round_idem = lemma(ForAll([z], round(round(z)) == round(z)), by=[round_def, fixed2real_def, real2fixed_def, real_fixed_id])\n",
    "\n",
    "\n",
    "\n",
    "#prove(ToInt(ToReal(x)) == x)\n",
    "#solve(ToInt(RealVal(1.6))== x)\n"
   ]
  },
  {
   "cell_type": "markdown",
   "metadata": {},
   "source": [
    "# Float\n",
    "\n",
    "Kahan summation \n",
    "https://news.ycombinator.com/item?id=40477604  Taming floating-point sums \n",
    "https://www.philipzucker.com/stupid-is-as-stupid-does-floating-point-in-z3py/\n",
    "https://docs.oracle.com/cd/E19957-01/806-3568/ncg_goldberg.html\n",
    "https://stackoverflow.com/questions/32917672/how-to-determine-error-in-floating-point-calculations"
   ]
  },
  {
   "cell_type": "code",
   "execution_count": null,
   "metadata": {},
   "outputs": [],
   "source": [
    "x,y,z = Float(\"x y z\")\n",
    "subnormal\n",
    "normal\n",
    "\n",
    "\n",
    "lemma()"
   ]
  },
  {
   "cell_type": "code",
   "execution_count": 16,
   "metadata": {},
   "outputs": [
    {
     "name": "stdout",
     "output_type": "stream",
     "text": [
      "proved\n",
      "1.1920929e-07\n",
      "unknown\n"
     ]
    },
    {
     "ename": "AssertionError",
     "evalue": "",
     "output_type": "error",
     "traceback": [
      "\u001b[0;31m---------------------------------------------------------------------------\u001b[0m",
      "\u001b[0;31mAssertionError\u001b[0m                            Traceback (most recent call last)",
      "Cell \u001b[0;32mIn [16], line 42\u001b[0m\n\u001b[1;32m     40\u001b[0m \u001b[38;5;28;01mdef\u001b[39;00m \u001b[38;5;21mmyabs\u001b[39m(x):\n\u001b[1;32m     41\u001b[0m     \u001b[38;5;28;01mreturn\u001b[39;00m If(x \u001b[38;5;241m>\u001b[39m\u001b[38;5;241m=\u001b[39m \u001b[38;5;241m0\u001b[39m, x, \u001b[38;5;241m-\u001b[39mx)\n\u001b[0;32m---> 42\u001b[0m lemma(Implies(And(fpIsNormal(q1), q \u001b[38;5;241m>\u001b[39m \u001b[38;5;241m0\u001b[39m), (fpToReal(q1) \u001b[38;5;241m-\u001b[39m q) \u001b[38;5;241m<\u001b[39m \u001b[38;5;241m100\u001b[39m \u001b[38;5;241m*\u001b[39m eps \u001b[38;5;241m*\u001b[39m q ), tlimit\u001b[38;5;241m=\u001b[39m\u001b[38;5;241m100000\u001b[39m)\n",
      "Cell \u001b[0;32mIn [16], line 21\u001b[0m, in \u001b[0;36mlemma\u001b[0;34m(thm, by, tlimit)\u001b[0m\n\u001b[1;32m     19\u001b[0m \u001b[38;5;28;01melse\u001b[39;00m:\n\u001b[1;32m     20\u001b[0m     \u001b[38;5;28mprint\u001b[39m(res)\n\u001b[0;32m---> 21\u001b[0m     \u001b[38;5;28;01massert\u001b[39;00m \u001b[38;5;28;01mFalse\u001b[39;00m\n",
      "\u001b[0;31mAssertionError\u001b[0m: "
     ]
    }
   ],
   "source": [
    "from cvc5.pythonic import *\n",
    "import numpy as np\n",
    "def lemma(thm, by=[BoolVal(True)], tlimit=1000):\n",
    "    s = Solver()\n",
    "    # https://cvc5.github.io/docs/cvc5-1.0.2/resource-limits.html\n",
    "    # Ahhhhh. tlimit-per, not tlimit. That is very confusing\n",
    "    s.setOption(\"tlimit-per\", tlimit)\n",
    "    for hyp in by:\n",
    "        s.add(hyp)\n",
    "    s.add(Not(thm))\n",
    "    res = s.check()\n",
    "    if res == sat:\n",
    "        print(\"countermodel\", s.model())\n",
    "        return s.model()\n",
    "        assert False, \"Failed to prove\"\n",
    "    elif res == unsat:\n",
    "        print(\"proved\")\n",
    "        return thm\n",
    "    else:\n",
    "        print(res)\n",
    "        assert False\n",
    "\n",
    "x,y,z = FPs(\"x y z\", Float32())\n",
    "float16_plus_comm = lemma(ForAll([x,y], x + y == y + x))\n",
    "# fails\n",
    "#float64_plus_assoc = lemma(x + (y + z) == (x + y) + z)\n",
    "\n",
    "#lemma(x + y == fpRealToFP(RNE(), fpToReal(x) + fpToReal(y), Float32()))\n",
    "\n",
    "q = Real(\"q\")\n",
    "q1 = fpRealToFP(RNE(), q, Float32())\n",
    "eps = np.finfo(np.float32).eps\n",
    "print(eps)\n",
    "#lemma(Implies(And(fpIsNormal(q1), q >= 0), fpToReal(q1) <= q*2))\n",
    "\n",
    "q = Real(\"q\")\n",
    "q1 = fpRealToFP(RNE(), q, Float64())\n",
    "#eps = 1/2 * 2**(1-p) q\n",
    "eps = 2**(-10)\n",
    "def myabs(x):\n",
    "    return If(x >= 0, x, -x)\n",
    "lemma(Implies(And(fpIsNormal(q1), q > 0), (fpToReal(q1) - q) < 100 * eps * q ), tlimit=100000)\n"
   ]
  },
  {
   "cell_type": "code",
   "execution_count": null,
   "metadata": {},
   "outputs": [],
   "source": [
    "lemma(Implies(And(fpIsNormal(q1), q > 0), (fpToReal(q1) - q) < 100 * eps * q ), tlimit=100000)\n",
    "None"
   ]
  },
  {
   "cell_type": "code",
   "execution_count": 44,
   "metadata": {},
   "outputs": [
    {
     "data": {
      "text/plain": [
       "(340.9444274902344, 340.9444274902344)"
      ]
     },
     "execution_count": 44,
     "metadata": {},
     "output_type": "execute_result"
    }
   ],
   "source": [
    "(1.331814169883728*(2**8) -  11172067/32768) / "
   ]
  },
  {
   "cell_type": "code",
   "execution_count": 40,
   "metadata": {},
   "outputs": [
    {
     "data": {
      "text/plain": [
       "-3.973320116465344e-08"
      ]
     },
     "execution_count": 40,
     "metadata": {},
     "output_type": "execute_result"
    }
   ],
   "source": [
    "import numpy as np\n",
    "counter = 25167869/24576\n",
    "(counter - np.float32(counter)) / counter"
   ]
  },
  {
   "cell_type": "code",
   "execution_count": 58,
   "metadata": {},
   "outputs": [
    {
     "name": "stdout",
     "output_type": "stream",
     "text": [
      "proved\n",
      "proved\n",
      "proved\n"
     ]
    },
    {
     "data": {
      "text/html": [
       "&forall;x, y : fpMul(RTP(), x, y) = -fpMul(RTN(), -x, y)"
      ],
      "text/plain": [
       "ForAll([x, y], fpMul(RTP(), x, y) == -fpMul(RTN(), -x, y))"
      ]
     },
     "execution_count": 58,
     "metadata": {},
     "output_type": "execute_result"
    }
   ],
   "source": [
    "from z3 import *\n",
    "def lemma(thm, by=[]):\n",
    "    prove(Implies(And(by), thm))\n",
    "    return thm\n",
    "\n",
    "x,y,z = FPs(\"x y z\", Float16())\n",
    "#float32_plus_comm = lemma(x + y == y + x)\n",
    "#lemma(x + y == fpRealToFP(RNE(), fpToReal(x) + fpToReal(y), Float16()))\n",
    "\n",
    "#lemma(Implies(And( #fpIsNormal(x), fpIsNormal(y), \n",
    "#                  x >= 0.1, y >= 0.1, x <= 1, y <= 1), \n",
    "#                  fpToReal(x + y) <= fpToReal(x) + fpToReal(y) + 2))\n",
    "\n",
    "#plus_eps = Implies(And())\n",
    "#lemma(Implies(And(fpIsNormal(x), fpIsNormal(y), fpIsNormal(x + y)), \n",
    "#              fpToReal(x + y) <= fpToReal(x) + fpToReal(y) + 2))\n",
    "\n",
    "q = Real(\"q\")\n",
    "q1 = fpRealToFP(RNE(), q, Float16())\n",
    "#eps = np.finfo(np.float16).eps\n",
    "#lemma(Implies(And(fpIsNormal(q1), q >= 0), fpToReal(q1) <= q*(1 + RealVal(eps)/10000)))\n",
    "\n",
    "#p = Real(\"p\")\n",
    "#p1 = fpRealToFP(RNE(), p, Float16())\n",
    "#lemma(Implies(And( q1 < 1, p1 < 1), \n",
    "#              q1 + p1 < 2))\n",
    "\n",
    "# work with rounding float of reals or real of floats?\n",
    "\n",
    "#isNormal16_def = lemma(ForAll([x], fpIsNormal(x) == And(fpExp(x) != 0, fpExp(x) != 31)))\n",
    "lemma(ForAll([x], Not(And(fpIsNormal(x), fpIsSubnormal(x)))))\n",
    "#lemma(ForAll([x], And(AtMost(fpIsNormal(x), fpIsZero(x), fpIsInf(x), fpIsNaN(x), 1),\n",
    "#                      Or(fpIsNormal(x), fpIsZero(x), fpIsInf(x), fpIsNaN(x)))))\n",
    "RD = RoundTowardNegative\n",
    "RU = RoundTowardPositive\n",
    "\n",
    "lemma(ForAll([x,y], fpAdd(RU(), x,y) == -fpAdd(RD(), -x,-y,)))\n",
    "lemma(ForAll([x,y], fpMul(RU(), x,y) == -fpMul(RD(), -x,y)))\n",
    "\n"
   ]
  },
  {
   "cell_type": "code",
   "execution_count": 72,
   "metadata": {},
   "outputs": [
    {
     "name": "stdout",
     "output_type": "stream",
     "text": [
      "proved\n"
     ]
    },
    {
     "data": {
      "text/html": [
       "q &gt; 1 &and; q &lt; 2 &rArr;\n",
       "If(fp.to_real(fpToFP(RNE(), q)) - q &ge; 0,\n",
       "   fp.to_real(fpToFP(RNE(), q)) - q,\n",
       "   -(fp.to_real(fpToFP(RNE(), q)) - q)) &lt;\n",
       "If((1/1024&middot;q)/10000000 &ge; 0,\n",
       "   (1/1024&middot;q)/10000000,\n",
       "   -((1/1024&middot;q)/10000000))"
      ],
      "text/plain": [
       "Implies(And(q > 1, q < 2),\n",
       "        If(fp.to_real(fpToFP(RNE(), q)) - q >= 0,\n",
       "           fp.to_real(fpToFP(RNE(), q)) - q,\n",
       "           -(fp.to_real(fpToFP(RNE(), q)) - q)) <\n",
       "        If((1/1024*q)/10000000 >= 0,\n",
       "           (1/1024*q)/10000000,\n",
       "           -((1/1024*q)/10000000)))"
      ]
     },
     "execution_count": 72,
     "metadata": {},
     "output_type": "execute_result"
    }
   ],
   "source": [
    "q = Real(\"q\")\n",
    "q1 = fpRealToFP(RNE(), q, Float16())\n",
    "#eps = 1/2 * 2**(1-p) q\n",
    "eps = 2**(-10)\n",
    "def myabs(x):\n",
    "    return If(x >= 0, x, -x)\n",
    "lemma(Implies(And(q > 1, q < 2), myabs(fpToReal(q1) - q) < myabs(eps * q / 10000000)))"
   ]
  },
  {
   "cell_type": "code",
   "execution_count": 26,
   "metadata": {},
   "outputs": [
    {
     "name": "stdout",
     "output_type": "stream",
     "text": [
      "failed to solve\n"
     ]
    }
   ],
   "source": []
  },
  {
   "cell_type": "code",
   "execution_count": 61,
   "metadata": {},
   "outputs": [
    {
     "data": {
      "text/plain": [
       "0.000977"
      ]
     },
     "execution_count": 61,
     "metadata": {},
     "output_type": "execute_result"
    }
   ],
   "source": [
    "eps"
   ]
  },
  {
   "cell_type": "code",
   "execution_count": 17,
   "metadata": {},
   "outputs": [
    {
     "data": {
      "text/plain": [
       "0.0009765625"
      ]
     },
     "execution_count": 17,
     "metadata": {},
     "output_type": "execute_result"
    }
   ],
   "source": [
    "2**(-10)"
   ]
  },
  {
   "cell_type": "markdown",
   "metadata": {},
   "source": [
    "arb, gmp, numpy for bruteforce confirmation of core facts\n",
    "\n"
   ]
  },
  {
   "cell_type": "code",
   "execution_count": 34,
   "metadata": {},
   "outputs": [
    {
     "name": "stdout",
     "output_type": "stream",
     "text": [
      "nan: 2046\n",
      "inf: 2\n",
      "neginf: 1\n",
      "posinf: 1\n",
      "finite: 63488\n",
      "negative 31744\n",
      "index of zeros (array([    0, 32768]),)\n",
      "largest subnormal 6.1e-05 b'\\xff\\x03'\n",
      "smallest pos normal 6.104e-05 b'\\x00\\x04'\n"
     ]
    }
   ],
   "source": [
    "import numpy as np\n",
    "float16 = np.frombuffer(np.arange(2**16, dtype=np.uint16).tobytes(), dtype=np.float16)\n",
    "\n",
    "float16[10000:10010]\n",
    "# https://en.wikipedia.org/wiki/Half-precision_floating-point_format\n",
    "print(\"nan:\", np.count_nonzero(np.isnan(float16)))\n",
    "print(\"inf:\", np.count_nonzero(np.isinf(float16)))\n",
    "print(\"neginf:\", np.count_nonzero(np.isneginf(float16)))\n",
    "print(\"posinf:\", np.count_nonzero(np.isposinf(float16)))\n",
    "print(\"finite:\", np.count_nonzero(np.isfinite(float16)))\n",
    "print(\"negative\", np.count_nonzero(float16 < 0))\n",
    "print(\"index of zeros\", np.where(float16 == 0))\n",
    "print(\"largest subnormal\", float16[0x3ff], float16[0x3ff].tobytes())\n",
    "print(\"smallest pos normal\", float16[0x400], float16[0x400].tobytes())"
   ]
  },
  {
   "cell_type": "markdown",
   "metadata": {},
   "source": [
    "\n",
    "```z3\n",
    ";re\n",
    "\n",
    "; https://en.wikipedia.org/wiki/Machine_epsilon\n",
    "(define-const eps32 Real (^ 2 -23))\n",
    "\n",
    "\n",
    "\n",
    "; given eps > 0, abs-bound encodes |x| <= eps as conjunction of linear constraints\n",
    "(define-fun abs-bound ((x Real) (eps Real)) Bool\n",
    "    (and\n",
    "        (<= x eps)\n",
    "        (<= (- eps) x )\n",
    "))\n",
    "\n",
    "(declare-fun rnd-fun (Real) Real)\n",
    "\n",
    "; Describing operations relationally is nice because you can instantiate properties at use site.\n",
    "; We describe an overapproximation of the rounding operation\n",
    "(define-fun rnd ((x Real) (res Real)) Bool\n",
    "        (and (= res (rnd-fun x)) ; it is a functional relationship\n",
    "            (abs-bound (- x res) (* eps32 (abs x))) ; with |x - rnd(x)| <= eps32 * |x|\n",
    "        )\n",
    ")\n",
    "\n",
    "; floating point add is Real add then round.\n",
    "(define-fun fp-add ((x Real) (y Real) (res Real)) Bool\n",
    "    (rnd (+ x y) res)\n",
    ")\n",
    "\n",
    "(define-fun fp-mul ((x Real) (y Real) (res Real)) Bool\n",
    "    (rnd (* x y) res)\n",
    ")\n",
    "\n",
    "; box is useful shorthand for stating initial conditions\n",
    "(define-fun box ((x Real) (lower Real) (upper Real)) Bool\n",
    "    (and (<= lower x)\n",
    "         (<= x upper)\n",
    "    )\n",
    ")\n",
    "\n",
    "(declare-const x Real)\n",
    "(assert (box x 1 2))\n",
    "(declare-const y Real)\n",
    "(assert (box y 1 2))\n",
    "(declare-const y Real)\n",
    "(assert (box z 1 2))\n",
    "\n",
    "(declare-const xy Real)\n",
    "(assert (fp-add x y xy))\n",
    "(declare-const xyy Real)\n",
    "(assert (fp-add xy y xyy))\n",
    "\n",
    "(declare-const xyz Real)\n",
    "(assert (fp-mul xy z xyz))\n",
    "(check-sat)\n",
    "(get-model)\n",
    "(eval (abs -1))\n",
    "\n",
    "(push)\n",
    "(assert-not (<= (- xyy (+ x y y)) 0.0001))\n",
    "(check-sat)\n",
    "(pop)\n",
    "\n",
    "(push)\n",
    "(assert-not (>= (- xyy (+ x y y)) -0.00001))\n",
    "(check-sat)\n",
    "(pop)\n",
    "\n",
    "(push)\n",
    "(assert-not (>= (- xyy (+ x y y)) -0.001))\n",
    "(check-sat)\n",
    "(pop)\n",
    "\n",
    ";(get-model)\n",
    ";(eval (- xyy (+ x y y)))\n",
    "\n",
    "\n",
    "(define-fun myprog ((x Real) (y Real) (res Real)) Bool\n",
    "    (exists ; define local variables\n",
    "        ((xy Real) (fp73 Real))\n",
    "     (and ; res := 7/3 * (x + y)\n",
    "        (fp-add x y  xy)\n",
    "        (rnd (/ 7 3) fp73)\n",
    "        (fp-mul fp73 xy res)\n",
    "     )\n",
    "\n",
    "    )\n",
    ")\n",
    "\n",
    "(define-fun myprog-pre ((x Real) (y Real)) Bool\n",
    "\n",
    ")\n",
    "\n",
    "(define-fun myprog-post ((x Real) (y Real) (res Real))\n",
    "    \n",
    ")\n",
    "\n",
    "(assert-not (forall ((x Real) (y Real) (res Real))\n",
    "            (=> (myprog-pre x y)\n",
    "                (and (myprog x y res) (myprog-post x y res))\n",
    "            )\n",
    "))\n",
    "```\n",
    "\n",
    "```\n",
    ";re\n",
    "\n",
    "(define-fun is-normal ((x Real)) Bool\n",
    "    (or (and\n",
    "            (< x (^ 2 300))\n",
    "            (< (^ 2 -300) x)\n",
    "         )\n",
    "        (and\n",
    "            (< (- x) (^ 2 300))\n",
    "            (< (^ 2 -300) (- x))\n",
    "        )\n",
    "    )\n",
    ")\n",
    "\n",
    "(define-fun ulp ((x Real)) Real\n",
    "   \n",
    ")\n",
    "\n",
    "(declare-fun rnd (Real) Real)\n",
    "\n",
    "(assert (forall ((x Real)) \n",
    "    (=> (is-normal x)\n",
    "         yada\n",
    "    ) \n",
    "\n",
    "    (and (< (- (rnd x) x) (ulp x))\n",
    "            (< (- (ulp x)) (- (rnd x) x) (ulp x))\n",
    "))\n",
    "\n",
    "\n",
    "(assert (forall ((x Real))\n",
    "    (=>\n",
    "        (and (< 1 x)\n",
    "             (< x 2))\n",
    "        (=  ulp(x))\n",
    "    )\n",
    ")\n",
    "\n",
    "\n",
    "(define-fun-rec ulp ((x Real)) Real\n",
    "    (ite (and (< x 1) (< x 2)))\n",
    "         1\n",
    "    (ite (x < 1)\n",
    "        (/ (ulp (* x 2) 2)\n",
    "    (ite (x > 2)\n",
    "        (* 2 (ulp (/ x 2))\n",
    "    )\n",
    ")\n",
    "\n",
    ";(define-fun fp-mul ((x Real) (y Real))\n",
    ";    (rnd (* x y)))\n",
    "\n",
    "\n",
    "; better as a relation?\n",
    "; relations allow us to bundle in the lemmas we want\n",
    "; without resorting to forall\n",
    "\n",
    "; recipe: take a forall axiom, turn it into a define-fun\n",
    "; This is kind of taking a forall and making it an axiom schema.\n",
    "; You can still add the forall using (assert (forall ((x )) (my-pred x))\n",
    "; but it gives the ability to explicitly instantiate\n",
    "\n",
    "(define-fun rnd-ulp ((x Real)) Bool\n",
    "    (and (< (- (rnd x) x) (ulp x))\n",
    "        (< (- (ulp x)) (- (rnd x) x) (ulp x))\n",
    ")\n",
    "\n",
    "\n",
    "\n",
    "\n",
    "(define-fun rnd ((x Real) (res Real))\n",
    "    (and \n",
    "        (= res (rnd-fun x))\n",
    "        (rnd-ulp x)\n",
    "    )\n",
    ")\n",
    "\n",
    "\n",
    "; that these are functions is almost a side feature\n",
    "; Sometimes the functional nature is useful to the proof.\n",
    "; probably not that often though\n",
    "\n",
    "(define-fun ulp ((x Real) (y Real))\n",
    "    (and\n",
    "        (= y (ulp-fun x)))\n",
    ")\n",
    "\n",
    "(define-fun ulp-def ((x Real)) Bool\n",
    "\n",
    ")\n",
    "\n",
    "(define-fun fp-mul ((x Real) (y Real) (z Real))\n",
    "    (let ((z1 (* x y)))\n",
    "    (and \n",
    "        (= z z1)\n",
    "        (rnd-ulp z1)\n",
    "        (ulp-rel z1)\n",
    "\n",
    "    )\n",
    "\n",
    "(define-fun fp-sub ((x Real) (y Real) (res Real)) \n",
    "    (and\n",
    "        ...\n",
    "        (sterbenz x y)\n",
    "    )\n",
    "\n",
    ")\n",
    "\n",
    "```\n",
    "\n",
    "```z3\n",
    "(define-sort Var () String)\n",
    "(define-sort Env () (Array Var Int))\n",
    "(declare-datatypes ()(\n",
    "  (Term\n",
    "    (Var (var1 Var))\n",
    "    (Lit (lit1 Real))\n",
    "    (Add (add1 Term) (add2 Term))\n",
    "    (Mul (add1 Term) (add2 Term))\n",
    "    (Sub (sub1 Term) (sub2 Term))\n",
    "    ; And so on\n",
    "  )\n",
    "))\n",
    "\n",
    "(define-fun-rec interp ((e Expr) (rho Env)) Bool\n",
    "    (match e (\n",
    "        ((Lit x) x)\n",
    "        ((Var x) (select rho x))\n",
    "        ((Add x y) (+ (interp x rho) (interp y rho))\n",
    "\n",
    "    )\n",
    "    \n",
    "    )\n",
    "\n",
    ")\n",
    "\n",
    "; outer exists (exists ((rho Env))) is the same as (exists a b c d)\n",
    "; So we don't get blocked going under an exists.\n",
    "\n",
    "```\n",
    "\n",
    "```python\n",
    "from z3 import *\n",
    "rnd = Function(\"rnd\", RealSort(), RealSort)\n",
    "class MyFloat():\n",
    "    def __init__(self):\n",
    "        self.x = rnd(FreshReal())\n",
    "    def __add__(self,rhs):\n",
    "        return rnd(self.x * rhs.x)\n",
    "\n",
    "```"
   ]
  },
  {
   "cell_type": "markdown",
   "metadata": {},
   "source": [
    "Klaus Weihrauch (2000), Computable Analysis."
   ]
  },
  {
   "cell_type": "markdown",
   "metadata": {},
   "source": [
    "# COnstructive Real\n"
   ]
  },
  {
   "cell_type": "code",
   "execution_count": null,
   "metadata": {},
   "outputs": [],
   "source": [
    "# Constructive Real\n",
    "\n",
    "# Z3 reals are more like algebraic numbers, not reals.\n",
    "CReal = ArraySort(Nat, RealSort())\n",
    "eq = Function(\"eq\", CReal, CReal, BoolSort())\n",
    "ax_eq = trust(ForAll([x,y], eq(x,y) == (ForAll([n], x[n] - y[n] < 1/n))"
   ]
  },
  {
   "cell_type": "markdown",
   "metadata": {},
   "source": [
    "# Extended Reals\n",
    "newtype wrapper around Real might be better than the shadow versions. Then I don't have to delete + on the reals.\n",
    "\n",
    "Could also give myself the extneded reals while I'm at it?\n",
    "\n",
    "https://en.wikipedia.org/wiki/Extended_real_number_line\n",
    "https://en.wikipedia.org/wiki/Projectively_extended_real_line\n",
    "Real = Datatype(\"Real\")\n",
    "\"Nan\"\n",
    "\"+Inf\"\n",
    "\"-Inf\"\n",
    "Bounded(R)"
   ]
  },
  {
   "cell_type": "code",
   "execution_count": null,
   "metadata": {},
   "outputs": [],
   "source": [
    "R = Datatype(\"R\")\n",
    "R.declare(\"wrap\", (\"real\", RealSort()))\n",
    "R = R.create()\n"
   ]
  },
  {
   "cell_type": "markdown",
   "metadata": {},
   "source": [
    "# Hyperreal\n",
    "\n",
    "Supposedly, hyperreals are easier to prove stuff in.\n",
    "\n",
    "The chasing phenomeonon. I am tracking many terms being produced. I could in principle track them all. What if i defined eps and then I can back update it to maiontain constraint. Then program time ~ hyperreal sequence time. Actual reals are constant in time. Other stuff is changing. Hmm. That's fun. Maybe keep calling Z3 To reestablish values. And can keep record. It's not netirely unlike Marshal, except I don't require things to be converging and I keep everyone synced.\n",
    "\n",
    "\n",
    "Dense linear orfder https://math.stackexchange.com/questions/417900/complete-theories-dense-linear-order https://en.wikipedia.org/wiki/Back-and-forth_method\n",
    "Big-M and epsilons\n",
    "\n",
    "Wow, this is going to be a truly ungodly schema"
   ]
  },
  {
   "cell_type": "code",
   "execution_count": 1,
   "metadata": {},
   "outputs": [
    {
     "data": {
      "text/html": [
       "&#8870;ForAll([Y, X], =(plus(X, Y), plus(Y, X)))"
      ],
      "text/plain": [
       "|- ForAll([Y, X], =(plus(X, Y), plus(Y, X)))"
      ]
     },
     "execution_count": 1,
     "metadata": {},
     "output_type": "execute_result"
    }
   ],
   "source": [
    "from z3 import *\n",
    "import knuckledragger as kd\n",
    "from knuckledragger import *\n",
    "from knuckledragger.kernel import Proof, is_proof,axiom\n",
    "from knuckledragger.utils import open_binder\n",
    "\n",
    "HReal = DeclareSort(\"HReal\")\n",
    "\n",
    "class TransferException(Exception):\n",
    "    pass\n",
    "\n",
    "def transfer_sort(s : z3.SortRef):\n",
    "    if s == RealSort():\n",
    "        return HReal\n",
    "    elif s == BoolSort():\n",
    "        return BoolSort()\n",
    "    # check for arrays? compound sorts?\n",
    "    else:\n",
    "        raise TransferException(\"Unexpected Sort\", s)\n",
    "\n",
    "def transfer_term(t : z3.ExprRef) -> z3.ExprRef:\n",
    "    assert t.sort() == RealSort() or t.sort() == BoolSort()\n",
    "    if is_eq(t):\n",
    "    if is_app(t):\n",
    "        decl = t.decl()\n",
    "        f = Function(decl.name(), *[transfer_sort(decl.domain(i)) for i in range(decl.arity())], transfer_sort(decl.range()))\n",
    "        return f(*[transfer_term(t.arg(i)) for i in range(t.num_args())])\n",
    "    elif is_quantifier(t) and t.is_forall():\n",
    "        vs, body = open_binder(t)\n",
    "        return ForAll([transfer_term(v) for v in vs], transfer_term(body))\n",
    "    else:\n",
    "        raise TransferException(\"Unexpected Term\", t)\n",
    "\n",
    "def transfer_to_hreal(P : Proof) -> Proof:\n",
    "    assert is_proof(P)\n",
    "    return axiom(transfer_term(P.thm), by=[\"transfer\", P])\n",
    "\n",
    "import knuckledragger.theories.Real as Real\n",
    "transfer_to_hreal(Real.plus_comm)\n",
    "\n",
    "std = Function(\"std\", HReal, BoolSort())\n",
    "approx = Function(\"approx\", HReal, HReal, BoolSort())\n",
    "\n",
    "inf = Function(\"inf\", HReal, BoolSort())\n",
    "\n",
    "\n",
    "\n",
    "x,y = Consts(\"x y\", HReal)\n",
    "f = Const(\"f\", ArraySort(HReal, HReal))\n",
    "cont = define(\"cont\", [f], QForAll([x,y], approx(x,y), approx(f(x), f(y))))\n",
    "\n"
   ]
  },
  {
   "cell_type": "code",
   "execution_count": null,
   "metadata": {},
   "outputs": [],
   "source": [
    "# constructive approach\n",
    "# hypereals are quotient of Rsequences.\n",
    "RSeq\n",
    "\n",
    "# proof relevant cofinite equal. List holds all positions (finite because list ) that the two elements aren't equal\n",
    "eq = Function(\"eq\", RSeq, RSeq, NatList, BoolSort())\n",
    "eq_def = ForAll([x,y, n], eq(x,y,n) == ForAll([m], Implies(Not(elem(m,n)), x[m] == y[m])))\n",
    "\n",
    "\n",
    "# proof relevant finset predicate\n",
    "finset(s,l) = ForAll([x], s[x] == elem(x,l))\n",
    "# Exists([l], finset(s,l))\n",
    "\n",
    "# skolem axiom\n",
    "# finset(s) == finsetP(s, canon(s))\n"
   ]
  },
  {
   "cell_type": "markdown",
   "metadata": {},
   "source": [
    "https://en.wikipedia.org/wiki/Hyperreal_number\n",
    "\n",
    "Goldblatt\n",
    "\n",
    "Compactness is important here? Huh.\n",
    "\n",
    "Adding\n",
    "\n",
    "Trying to make infinitesimals rigorous\n",
    "\n",
    "Rings can have things like eps^2 = 0 by taking quotient rings.\n",
    "Something with R as a subfield.\n",
    "\n",
    "Constructing a model of hyperreals. Infinite sequences of reals. Quotient by equivlanec e relation of agreeing on cofinite set.\n",
    "\n",
    "A finite list of disagreement points\n",
    "\n",
    "```\n",
    "equiv(a,b,l) = forall n, a[n] = b[n] | n in l \n",
    "```\n",
    "\n",
    "More equational than classical presentation?\n",
    "\n",
    "R is unique complete ordered field. So R*\n",
    "\n",
    "Transfer principle\n",
    "\n",
    "Ultrafilter.\n",
    "What is a \"large\" set?\n",
    "\n",
    "Ultrafilter as a notion of truth. Relation to topos? Modal logic? Intuitionstic logic?\n",
    "\n",
    "Ultrapower.\n",
    "\n",
    "Internal set theory\n",
    "\n",
    "Adding a \"standard\" predicate to set theory. There is a notion of standard elements vs nonstandard elements.\n",
    "This has a connection to standard models of constructions like the reals or naturals, which by the weakness of power of description of first order logic, the axims often allow other models besides the standard one.\n",
    "\n",
    "This has some flavor of the method of \"junk\" elements used to model partial functions using total functions as I've played around with in category theory.\n",
    "\n",
    "Nonstandard elements are hard to grasp because whenever you get concrete hold f somthing, it tends (is always?) standard.\n",
    "\n",
    "I think I've seen it mentioned that maybe \"standard\" is somehow talking about a fluid boundary of described or construct elements. If I keep around an eps smaller than any number I've considered so far, and maybe go back and fix it up as I go should I ever bring in anything smaller? I do kind of feel like an approximate equality of finite difference is sufficient\n",
    "\n",
    "Nonstandard models of peano <https://en.wikipedia.org/wiki/Non-standard_model_of_arithmetic>\n",
    "We can keep adding x > n for any n to the axiom set and stay consistent. The forall n is in the metalogic. By compactness, we can add the forall n into the object logic and stay consistet?\n",
    "\n",
    "Hypernaturals - a construction of the hypernatural is sequences of naturals identified under a ultrafilter (a \"large set\"). It's weird that allowing just a little disagreement helps\n",
    "\n",
    "HyperRationals\n",
    "\n",
    "Naive Infinitesimals\n",
    "The reals are a subfield of the hyperreals.\n",
    "There exist infinittesimals which are smaller than\n",
    "\n",
    "The \"standard\" function behaves like a kind of rounding.\n",
    "\n",
    "Distincting between equality and approximation equality.\n",
    "a ~ b == st(a) = st(b)\n",
    "\n",
    "st pushes through regular operations (+, -, ...). So it is a homomorphsim of sorts.\n",
    "st(eps) = 0\n",
    "\n",
    "lim = x ~ c /\\ x != c -> lim(t(x)) = t(c)\n",
    "continuity is x ~ y -> f(x) ~ f(y)"
   ]
  },
  {
   "cell_type": "code",
   "execution_count": 9,
   "metadata": {},
   "outputs": [
    {
     "name": "stdout",
     "output_type": "stream",
     "text": [
      "proved\n"
     ]
    }
   ],
   "source": [
    "from z3 import *\n",
    "x,y = Ints(\"x y\")\n",
    "prove(Implies(And(x >= 0, y >= 0, x < 2**32, y < 2**32), x*y < 2**64))"
   ]
  },
  {
   "cell_type": "markdown",
   "metadata": {},
   "source": [
    "-- cody's proof\n",
    "\n",
    "Require Import Arith.\n",
    "\n",
    "Require Import Lia.\n",
    "\n",
    "Check 2^64.\n",
    "\n",
    "Search (_^(_ * _)).\n",
    "Search (_^(_ + _)).\n",
    "\n",
    "Search (_ * _ < _ * _).\n",
    "\n",
    "Goal forall a b, a < 2^32 -> b < 2^32 -> a * b < 2^64.\n",
    "Proof.\n",
    "  intros a b lt_a lt_b.\n",
    "  replace (64) with (32 + 32) by reflexivity.\n",
    "  rewrite Nat.pow_add_r.\n",
    "  apply Nat.mul_lt_mono_nonneg; lia.\n",
    "Qed."
   ]
  },
  {
   "cell_type": "code",
   "execution_count": 4,
   "metadata": {},
   "outputs": [
    {
     "name": "stdout",
     "output_type": "stream",
     "text": [
      "WARNING: Unneeded assumptions. Used [knuckledragger_goal]\n"
     ]
    },
    {
     "data": {
      "text/html": [
       "&#8870;(a*b < 18446744073709551616) == (a*b < 18446744073709551616)"
      ],
      "text/plain": [
       "|- (a*b < 18446744073709551616) == (a*b < 18446744073709551616)"
      ]
     },
     "execution_count": 4,
     "metadata": {},
     "output_type": "execute_result"
    }
   ],
   "source": [
    "import knuckledragger as kd\n",
    "from knuckledragger.kernel import *\n",
    "from z3 import *\n",
    "Z = IntSort()\n",
    "x,y = Ints(\"x y\")\n",
    "add = define(\"add\", [x,y], x + y) # hide to avoid cheating\n",
    "mul = define(\"mul\", [x,y], x * y)\n",
    "\n",
    "\n",
    "a,b = Ints(\"a b\")\n",
    "from knuckledragger.utils import calc\n",
    "\n",
    "#mul_mono = lemma(ForAll([a,b]))\n",
    "\n",
    "calc(a * b < 2**64,\n",
    "     a * b < 2**(32 + 32),\n",
    "     a * b < 2**32 * 2**32)"
   ]
  },
  {
   "cell_type": "code",
   "execution_count": null,
   "metadata": {},
   "outputs": [],
   "source": []
  },
  {
   "cell_type": "code",
   "execution_count": 8,
   "metadata": {},
   "outputs": [
    {
     "data": {
      "text/plain": [
       "False"
      ]
     },
     "execution_count": 8,
     "metadata": {},
     "output_type": "execute_result"
    }
   ],
   "source": [
    "\n"
   ]
  },
  {
   "cell_type": "markdown",
   "metadata": {},
   "source": [
    "# Complex\n"
   ]
  },
  {
   "cell_type": "code",
   "execution_count": null,
   "metadata": {},
   "outputs": [],
   "source": [
    "from knuckledragger import *\n",
    "C = Datatype(\"C\")\n",
    "C.declare(\"mk\", (\"re\", RealSort()), (\"im\", RealSort()))\n",
    "C = C.create()\n",
    "\n",
    "z,w,z1,z2 = Consts(\"z w z1 z2\", C)\n",
    "add = define(\"add\", [z1,z2], C.mk(z1.re + z2.re, z1.im + z2.im))\n",
    "mul = define(\"mul\", [z1,z2], C.mk(z1.re*z2.re - z1.im*z2.im, z1.re*z2.im + z1.im*z2.re))\n",
    "\n",
    "\n",
    "# conjugate\n",
    "# polar\n",
    "abs = define(\"abs\", [z], sqrt(z.re**2 + z.im**2))\n",
    "\n",
    "\n",
    "# fundamental theorem... hmm. Z3 does understand real solutions to polys"
   ]
  },
  {
   "cell_type": "markdown",
   "metadata": {},
   "source": [
    "# Interval\n",
    "\n",
    "\n",
    "Flint has arb and calcium now folded in\n",
    "<https://fredrikj.net/python-flint/>\n",
    "\n",
    "```python\n",
    "import flint\n",
    "x = flint.arb(mid=7, rad=1e-10)\n",
    "#dir(x)\n",
    "flint.arb_poly([x, 1]).integral().derivative()\n",
    "flint.arb_poly.interpolate([0, 1], [0, 1])\n",
    "```\n",
    "\n",
    "\n",
    "Use arb as knuckledragger style axiom schema.\n",
    "\n",
    "What about user defined propagator in z3?\n",
    "\n",
    "```python\n",
    "def cos_schema(x):\n",
    "    y = flint.cos(x)\n",
    "    z = FreshReal()\n",
    "    return ForAll([z], Implies(And(0 <= x. x <= ), And(y.lo <= cos(z), cos(z) <= y.hi)))\n",
    "\n",
    "def flint_to_interval(i):\n",
    "    return Interval.mk(RealVal(i.lo), RealVal(i.hi))\n",
    "\n",
    "def cos_schema(i : flint.interval) -> Proof:\n",
    "    j = Const(\"j\", Interval) #we don't need fresh here.\n",
    "    return axiom(QForAll([j], j <= i,  cos(j) <= flint.cos(j)))\n",
    "\n",
    "\n",
    "```\n",
    " \n",
    "- <https://www.philipzucker.com/z3_diff/>\n",
    "- <https://www.philipzucker.com/z3-cegar-interval/>\n",
    "- https://www.philipzucker.com/more-stupid-z3py-tricks-simple-proofs/\n",
    "\n",
    "\n",
    "- Computational Functional Analysis by Moore <https://www.amazon.com/Computational-Functional-Analysis-Mathematics-Applications/dp/1904275249>\n",
    "- Introduction to Interval Analysis  <https://epubs.siam.org/doi/10.1137/1.9780898717716> http://www-sbras.nsc.ru/interval/Library/InteBooks/IntroIntervAn.pdf\n",
    "- methods and applications of inverval analysis <https://epubs.siam.org/doi/book/10.1137/1.9781611970906>\n",
    "- Interval Analysis: Application in the Optimal Control Problems\n",
    "- Real Analysis: A Constructive Approach Through Interval Arithmetic - bridger\n",
    "- Interval Methods for Systems of Equations\n",
    "- https://fab.cba.mit.edu/classes/S62.12/docs/Hickey_interval.pdf\n",
    "- bishop\n",
    "- Constructive functional analysis\n",
    "\n",
    "\n"
   ]
  },
  {
   "cell_type": "code",
   "execution_count": 1,
   "metadata": {},
   "outputs": [],
   "source": [
    "from knuckledragger import *\n",
    "import knuckledragger.notation as notation\n",
    "from knuckledragger.theories.Real import *\n",
    "#from knuckledragger.theories.Bool import *\n",
    "from z3 import *\n",
    "B = BoolSort()\n",
    "RSet = R >> B\n",
    "\n",
    "Interval = Datatype(\"Interval\")\n",
    "Interval.declare(\"inf\") # could also use seminfinite. We'll see. Or could use extended reals.\n",
    "Interval.declare(\"mk\", (\"lo\", R), (\"hi\", R))\n",
    "Interval = Interval.create()\n",
    "\n",
    "x,y,z = Reals(\"x y z\")\n",
    "i,j,k = Consts(\"i j k\", Interval)\n",
    "\n",
    "# Ok so i could do a SortDisopatch on DatatypeRef overload.\n",
    "DatatypeRef.hi = property(lambda self: Interval.hi(self))\n",
    "DatatypeRef.lo = property(lambda self: Interval.lo(self))\n",
    "DatatypeRef.is_inf = property(lambda self: Interval.is_inf(self))\n"
   ]
  },
  {
   "cell_type": "code",
   "execution_count": 2,
   "metadata": {},
   "outputs": [],
   "source": [
    "max = define(\"max\", [x,y], If(x <= y, y, x))\n",
    "min = define(\"min\", [x,y], If(x <= y, x, y))\n",
    "abs = define(\"abs\", [x], If(x <= 0, -x, x))\n",
    "\n",
    "min_comm = lemma(ForAll([x,y], min(x,y) == min(y,x)), by=[min.defn])\n",
    "\n",
    "\n",
    "abs_max = lemma(ForAll([x], abs(x) == max(x,-x)), by=[abs.defn, max.defn])\n"
   ]
  },
  {
   "cell_type": "code",
   "execution_count": 3,
   "metadata": {},
   "outputs": [],
   "source": [
    "setof = define(\"setof\", [i], Lambda([x], If(Interval.is_inf(i), BoolVal(True), And(i.lo <= x, x <= i.hi))))"
   ]
  },
  {
   "cell_type": "code",
   "execution_count": 4,
   "metadata": {},
   "outputs": [
    {
     "data": {
      "text/html": [
       "is(inf, j)"
      ],
      "text/plain": [
       "is(inf, j)"
      ]
     },
     "execution_count": 4,
     "metadata": {},
     "output_type": "execute_result"
    }
   ],
   "source": [
    "j.is_inf"
   ]
  },
  {
   "cell_type": "code",
   "execution_count": 5,
   "metadata": {},
   "outputs": [],
   "source": [
    "meet = define(\"meet\", [i,j], If(i.is_inf, j,\n",
    "                                      If(j.is_inf, i,\n",
    "                                         \n",
    "                                    Interval.mk(max(i.lo, j.lo), min(i.hi, j.hi)))))\n",
    "\n",
    "\n",
    "meet_intersect = lemma(ForAll([i,j], \n",
    "                           SetIntersect(setof(i), setof(j)) == \n",
    "                           setof(meet(i,j))), \n",
    "                                by=[setof.defn, meet.defn, min.defn, max.defn])\n",
    "\n",
    "# DatatypeRef.__and__ = meet"
   ]
  },
  {
   "cell_type": "code",
   "execution_count": 6,
   "metadata": {},
   "outputs": [],
   "source": [
    "import knuckledragger.notation as notation\n",
    "\n",
    "notation.le.register(RSet, IsSubset)"
   ]
  },
  {
   "cell_type": "code",
   "execution_count": 7,
   "metadata": {},
   "outputs": [],
   "source": [
    "join = define(\"join\", [i,j], If(Or(i.is_inf, j.is_inf), Interval.inf, Interval.mk(min(i.lo, j.lo), max(i.hi, j.hi))))\n",
    "\n",
    "join_union = lemma(ForAll([i,j], \n",
    "                    IsSubset(SetUnion(setof(i), setof(j)), setof(join(i,j)))),\n",
    "                          by=[join.defn, setof.defn, min.defn, max.defn])\n"
   ]
  },
  {
   "cell_type": "code",
   "execution_count": 8,
   "metadata": {},
   "outputs": [],
   "source": [
    "# These are not well defined for infinite intervals\n",
    "width = define(\"width\", [i], i.hi - i.lo)\n",
    "mid = define(\"mid\", [i], (i.hi + i.lo) / 2)\n",
    "\n"
   ]
  },
  {
   "cell_type": "code",
   "execution_count": 9,
   "metadata": {},
   "outputs": [],
   "source": [
    "lt1 = define(\"lt1\", [i,j], And(Not(i.is_inf), Not(j.is_inf), \n",
    "                               i.lo <= i.hi, j.lo <= j.hi, \n",
    "                               i.hi < j.lo))\n",
    "\n",
    "# Do i also want interval to be well formed?\n",
    "lt1_trans = lemma(ForAll([i,j,k], \n",
    "                         Implies(And(lt1(i,j), lt1(j,k)),\n",
    "                                  lt1(i,k))),\n",
    "                 by=[lt1.defn])"
   ]
  },
  {
   "cell_type": "code",
   "execution_count": 10,
   "metadata": {},
   "outputs": [],
   "source": [
    "lt2 = define(\"lt2\", [i,j], And(Not(i.is_inf), Not(j.is_inf), \n",
    "                            i.lo < j.lo, i.hi < j.hi))\n",
    "\n",
    "#lt2_subset = lemma(ForAll([i,j], \n",
    "#                          Implies(i != j,\n",
    "#                          lt2(i,j) == IsSubset(setof(i), setof(j)))),\n",
    "#                          by = [lt2.defn, setof.defn])\n",
    "lt2_trans = lemma(ForAll([i,j,k], \n",
    "                         Implies(And(lt2(i,j), lt2(j,k)),\n",
    "                                  lt2(i,k))),\n",
    "                 by=[lt2.defn])\n"
   ]
  },
  {
   "cell_type": "code",
   "execution_count": 11,
   "metadata": {},
   "outputs": [],
   "source": [
    "import knuckledragger.notation as notation\n",
    "add = define(\"add\", [i,j], \n",
    "                      If(Or(i.is_inf, j.is_inf), Interval.inf, Interval.mk(i.lo + j.lo, i.hi + j.hi)))\n",
    "\n",
    "notation.add.register(Interval, add)\n",
    "\n",
    "\n",
    "add_set = lemma(ForAll([x,y,i,j], Implies(setof(i)[x] & setof(j)[y],  \n",
    "                                      setof(i + j)[x + y])), \n",
    "                                      by=[setof.defn, add.defn])\n"
   ]
  },
  {
   "cell_type": "code",
   "execution_count": 12,
   "metadata": {},
   "outputs": [],
   "source": [
    "sub = define(\"sub\", [i,j], \n",
    "                      If(Or(i.is_inf, j.is_inf), Interval.inf,\n",
    "                          Interval.mk(i.lo - j.hi, i.hi - j.lo)))\n",
    "\n",
    "notation.sub.register(Interval, sub)\n",
    "\n",
    "\n",
    "sub_set = lemma(ForAll([x,y,i,j], Implies(setof(i)[x] & setof(j)[y],  \n",
    "                                      setof(i - j)[x - y])), \n",
    "                                      by=[setof.defn, sub.defn])"
   ]
  },
  {
   "cell_type": "code",
   "execution_count": 26,
   "metadata": {},
   "outputs": [
    {
     "name": "stdout",
     "output_type": "stream",
     "text": [
      "WARNING: Redefining function mul from |- ForAll([i, j],\n",
      "       mul(i, j) ==\n",
      "       If(Or(is(inf, i), is(inf, j)),\n",
      "          inf,\n",
      "          If(Or(lo(i) > hi(i), lo(j) > hi(j)),\n",
      "             mk(1, -1),\n",
      "             mk(min(min(min(lo(i)*lo(j), lo(i)*hi(j)),\n",
      "                        hi(i)*lo(j)),\n",
      "                    hi(i)*hi(j)),\n",
      "                max(max(max(lo(i)*lo(j), lo(i)*hi(j)),\n",
      "                        hi(i)*lo(j)),\n",
      "                    hi(i)*hi(j)))))) to ForAll([i, j],\n",
      "       mul(i, j) ==\n",
      "       If(Or(is(inf, i), is(inf, j)),\n",
      "          inf,\n",
      "          If(And(lo(i) > hi(i), lo(j) > hi(j)),\n",
      "             mk(1, -1),\n",
      "             If(lo(i) > hi(i),\n",
      "                i,\n",
      "                If(lo(j) > hi(j),\n",
      "                   j,\n",
      "                   mk(min(min(min(lo(i)*lo(j), lo(i)*hi(j)),\n",
      "                              hi(i)*lo(j)),\n",
      "                          hi(i)*hi(j)),\n",
      "                      max(max(max(lo(i)*lo(j), lo(i)*hi(j)),\n",
      "                              hi(i)*lo(j)),\n",
      "                          hi(i)*hi(j))))))))\n"
     ]
    }
   ],
   "source": [
    "prods = [i.lo *j.lo, i.lo*j.hi, i.hi * j.lo, i.hi*j.hi]\n",
    "from functools import reduce\n",
    "\n",
    "# Wow. I don't know about this patchup\n",
    "mul = define(\"mul\", [i,j], \n",
    "                      If(Or(i.is_inf, j.is_inf), Interval.inf,\n",
    "                      If(And(i.lo > i.hi, j.lo > j.hi), Interval.mk(1,-1),\n",
    "                      If(i.lo > i.hi, i,\n",
    "                      If(j.lo > j.hi, j,\n",
    "                        Interval.mk(reduce(min,prods), reduce(max, prods)))))))\n",
    "\n",
    "notation.mul.register(Interval, mul)\n",
    "\n",
    "#mul_set = lemma(ForAll([x,y,i,j], Implies(setof(i)[x] & setof(j)[y],  \n",
    "#                                      setof(i * j)[x * y])), \n",
    "#                                      by=[min.defn, max.defn, setof.defn, mul.defn], timeout=15000)\n",
    "mul.defn\n",
    "# should largely follow from monotonicity of mul.\n",
    "\n",
    "x1 = Real(\"x1\")\n",
    "mul_pos_mono = lemma(ForAll([x,y,x1], Implies(And(x1 >= x, y >= 0), x1 * y >= x * y)))\n",
    "mul_neg_mono = lemma(ForAll([x,y,x1], Implies(And(x1 >= x, y <= 0), x1 * y <= x * y)))\n"
   ]
  },
  {
   "cell_type": "code",
   "execution_count": 14,
   "metadata": {},
   "outputs": [],
   "source": [
    "\n",
    "\n",
    "l = Interval.mk(0.9995, 1.0005)\n",
    "w = Interval.mk(1.9995, 2.0005)\n",
    "\n"
   ]
  },
  {
   "cell_type": "code",
   "execution_count": 30,
   "metadata": {},
   "outputs": [],
   "source": [
    "wf = define(\"wf\", [i], Or(i.is_inf, i.lo <= i.hi))\n",
    "\n",
    "is_real = define(\"is_real\", [i], And(Not(i.is_inf, i.lo == i.hi)))"
   ]
  },
  {
   "cell_type": "code",
   "execution_count": 27,
   "metadata": {},
   "outputs": [],
   "source": [
    "add_comm = lemma(ForAll([i,j], i + j == j + i), by=[add.defn])\n",
    "add_assoc = lemma(ForAll([i,j,k], i + (j + k) == (i + j) + k), by=[add.defn])\n",
    "\n",
    "mul_comm = lemma(ForAll([i,j], i * j == j * i), \n",
    "                 by=[mul.defn, max.defn, min.defn]) # or use max_comm, min_comm\n",
    "\n",
    "#mul_assoc = lemma(ForAll([i,j,k], i * (j * k) == (i * j) * k), by=[mul.defn, max.defn,min.defn])\n",
    "\n",
    "zero = define(\"zero\", [] , Interval.mk(0,0))\n",
    "one = define(\"one\", [], Interval.mk(1,1))\n",
    "\n",
    "add_zero = lemma(ForAll([i], zero() + i == i), by=[zero.defn, add.defn])\n",
    "mul_one = lemma(ForAll([i], one() * i == i), by=[one.defn, mul.defn, min.defn, max.defn])"
   ]
  },
  {
   "cell_type": "code",
   "execution_count": 32,
   "metadata": {},
   "outputs": [
    {
     "ename": "LemmaError",
     "evalue": "(ForAll([i, j, k],\n       Implies(And(wf(i), wf(j), wf(k)),\n               lt2(mul(i, add(j, k)),\n                   add(mul(i, j), mul(i, k))))), 'Countermodel', [knuckledragger_goal = True,\n by_0 = True,\n by_2 = True,\n by_1 = True,\n by_4 = True,\n by_5 = True,\n by_3 = True,\n lo = [mk(1, -1) -> 1,\n       mk(3/32, 11/16) -> 3/32,\n       mk(-11/32, -3/16) -> -11/32,\n       mk(-2, -1/2) -> -2,\n       else -> 1/8],\n max = [(11/16, 3/8) -> 11/16,\n        (11/16, 11/64) -> 11/16,\n        (11/16, 3/32) -> 11/16,\n        else -> If(Var(0) + -1*Var(1) <= 0, Var(1), Var(0))],\n add = [(inf, mk(-11/32, -3/16)) -> inf,\n        (inf, mk(3/32, 11/16)) -> inf,\n        else ->\n        If(Or(is(inf, Var(0)), is(inf, Var(1))),\n           inf,\n           mk(lo(Var(0)) + lo(Var(1)),\n              hi(Var(0)) + hi(Var(1))))],\n hi = [mk(1, -1) -> -1,\n       mk(3/32, 11/16) -> 11/16,\n       mk(-11/32, -3/16) -> -3/16,\n       mk(-2, -1/2) -> -1/2,\n       else -> 1/2],\n wf = [mk(-2, -1/2) -> True,\n       mk(-11/32, -3/16) -> True,\n       mk(1, -1) -> False,\n       inf -> True,\n       mk(3/32, 11/16) -> True,\n       else ->\n       Or(is(inf, Var(0)), hi(Var(0)) + -1*lo(Var(0)) >= 0)],\n mul = [(mk(-2, -1/2), inf) -> inf,\n        (mk(-2, -1/2), mk(-11/32, -3/16)) -> mk(3/32, 11/16),\n        else ->\n        If(Or(is(inf, Var(0)), is(inf, Var(1))),\n           inf,\n           If(Or(lo(Var(0)) + -1*hi(Var(0)) <= 0,\n                 hi(Var(1)) + -1*lo(Var(1)) >= 0),\n              If(lo(Var(0)) + -1*hi(Var(0)) <= 0,\n                 If(hi(Var(1)) + -1*lo(Var(1)) >= 0,\n                    mk(min(min(min(lo(Var(0))*lo(Var(1)),\n                                   hi(Var(1))*lo(Var(0))),\n                               hi(Var(0))*lo(Var(1))),\n                           hi(Var(0))*hi(Var(1))),\n                       max(max(max(lo(Var(0))*lo(Var(1)),\n                                   hi(Var(1))*lo(Var(0))),\n                               hi(Var(0))*lo(Var(1))),\n                           hi(Var(0))*hi(Var(1)))),\n                    Var(1)),\n                 Var(0)),\n              mk(1, -1)))],\n lt2 = [(inf, inf) -> False,\n        else ->\n        Not(Or(is(inf, Var(1)),\n               is(inf, Var(0)),\n               lo(Var(0)) + -1*lo(Var(1)) >= 0,\n               hi(Var(0)) + -1*hi(Var(1)) >= 0))],\n min = [(11/16, 3/8) -> 3/8,\n        (3/8, 11/64) -> 11/64,\n        (11/64, 3/32) -> 3/32,\n        else -> If(Var(0) + -1*Var(1) <= 0, Var(0), Var(1))]])",
     "output_type": "error",
     "traceback": [
      "\u001b[0;31m---------------------------------------------------------------------------\u001b[0m",
      "\u001b[0;31mLemmaError\u001b[0m                                Traceback (most recent call last)",
      "Cell \u001b[0;32mIn[32], line 1\u001b[0m\n\u001b[0;32m----> 1\u001b[0m subdistr \u001b[38;5;241m=\u001b[39m \u001b[43mlemma\u001b[49m\u001b[43m(\u001b[49m\u001b[43mForAll\u001b[49m\u001b[43m(\u001b[49m\u001b[43m[\u001b[49m\u001b[43mi\u001b[49m\u001b[43m,\u001b[49m\u001b[43mj\u001b[49m\u001b[43m,\u001b[49m\u001b[43mk\u001b[49m\u001b[43m]\u001b[49m\u001b[43m,\u001b[49m\u001b[43m \u001b[49m\n\u001b[1;32m      2\u001b[0m \u001b[43m                        \u001b[49m\u001b[43mImplies\u001b[49m\u001b[43m(\u001b[49m\u001b[43mAnd\u001b[49m\u001b[43m(\u001b[49m\u001b[43mwf\u001b[49m\u001b[43m(\u001b[49m\u001b[43mi\u001b[49m\u001b[43m)\u001b[49m\u001b[43m,\u001b[49m\u001b[43m \u001b[49m\u001b[43mwf\u001b[49m\u001b[43m(\u001b[49m\u001b[43mj\u001b[49m\u001b[43m)\u001b[49m\u001b[43m,\u001b[49m\u001b[43m \u001b[49m\u001b[43mwf\u001b[49m\u001b[43m(\u001b[49m\u001b[43mk\u001b[49m\u001b[43m)\u001b[49m\u001b[43m)\u001b[49m\u001b[43m,\u001b[49m\n\u001b[1;32m      3\u001b[0m \u001b[43m                        \u001b[49m\u001b[43mlt2\u001b[49m\u001b[43m(\u001b[49m\u001b[43mi\u001b[49m\u001b[43m \u001b[49m\u001b[38;5;241;43m*\u001b[39;49m\u001b[43m \u001b[49m\u001b[43m(\u001b[49m\u001b[43mj\u001b[49m\u001b[43m \u001b[49m\u001b[38;5;241;43m+\u001b[39;49m\u001b[43m \u001b[49m\u001b[43mk\u001b[49m\u001b[43m)\u001b[49m\u001b[43m,\u001b[49m\u001b[43m \u001b[49m\u001b[43mi\u001b[49m\u001b[43m \u001b[49m\u001b[38;5;241;43m*\u001b[39;49m\u001b[43m \u001b[49m\u001b[43mj\u001b[49m\u001b[43m \u001b[49m\u001b[38;5;241;43m+\u001b[39;49m\u001b[43m \u001b[49m\u001b[43mi\u001b[49m\u001b[43m \u001b[49m\u001b[38;5;241;43m*\u001b[39;49m\u001b[43m \u001b[49m\u001b[43mk\u001b[49m\u001b[43m)\u001b[49m\u001b[43m)\u001b[49m\u001b[43m)\u001b[49m\u001b[43m,\u001b[49m\n\u001b[1;32m      4\u001b[0m \u001b[43m                  \u001b[49m\u001b[43mby\u001b[49m\u001b[38;5;241;43m=\u001b[39;49m\u001b[43m[\u001b[49m\u001b[43mmul\u001b[49m\u001b[38;5;241;43m.\u001b[39;49m\u001b[43mdefn\u001b[49m\u001b[43m,\u001b[49m\u001b[43m \u001b[49m\u001b[43mwf\u001b[49m\u001b[38;5;241;43m.\u001b[39;49m\u001b[43mdefn\u001b[49m\u001b[43m,\u001b[49m\u001b[43m \u001b[49m\u001b[43madd\u001b[49m\u001b[38;5;241;43m.\u001b[39;49m\u001b[43mdefn\u001b[49m\u001b[43m,\u001b[49m\u001b[43m \u001b[49m\u001b[38;5;28;43mmin\u001b[39;49m\u001b[38;5;241;43m.\u001b[39;49m\u001b[43mdefn\u001b[49m\u001b[43m,\u001b[49m\u001b[43m \u001b[49m\u001b[38;5;28;43mmax\u001b[39;49m\u001b[38;5;241;43m.\u001b[39;49m\u001b[43mdefn\u001b[49m\u001b[43m,\u001b[49m\u001b[43m \u001b[49m\u001b[43mlt2\u001b[49m\u001b[38;5;241;43m.\u001b[39;49m\u001b[43mdefn\u001b[49m\u001b[43m \u001b[49m\u001b[43m]\u001b[49m\u001b[43m)\u001b[49m\n",
      "File \u001b[0;32m~/Documents/python/knuckledragger/knuckledragger/kernel.py:73\u001b[0m, in \u001b[0;36mlemma\u001b[0;34m(thm, by, admit, timeout, dump)\u001b[0m\n\u001b[1;32m     71\u001b[0m \u001b[38;5;28;01mif\u001b[39;00m res \u001b[38;5;241m!=\u001b[39m z3\u001b[38;5;241m.\u001b[39munsat:\n\u001b[1;32m     72\u001b[0m     \u001b[38;5;28;01mif\u001b[39;00m res \u001b[38;5;241m==\u001b[39m z3\u001b[38;5;241m.\u001b[39msat:\n\u001b[0;32m---> 73\u001b[0m         \u001b[38;5;28;01mraise\u001b[39;00m LemmaError(thm, \u001b[38;5;124m\"\u001b[39m\u001b[38;5;124mCountermodel\u001b[39m\u001b[38;5;124m\"\u001b[39m, s\u001b[38;5;241m.\u001b[39mmodel())\n\u001b[1;32m     74\u001b[0m     \u001b[38;5;28;01mraise\u001b[39;00m LemmaError(\u001b[38;5;124m\"\u001b[39m\u001b[38;5;124mlemma\u001b[39m\u001b[38;5;124m\"\u001b[39m, thm, res)\n\u001b[1;32m     75\u001b[0m \u001b[38;5;28;01melse\u001b[39;00m:\n",
      "\u001b[0;31mLemmaError\u001b[0m: (ForAll([i, j, k],\n       Implies(And(wf(i), wf(j), wf(k)),\n               lt2(mul(i, add(j, k)),\n                   add(mul(i, j), mul(i, k))))), 'Countermodel', [knuckledragger_goal = True,\n by_0 = True,\n by_2 = True,\n by_1 = True,\n by_4 = True,\n by_5 = True,\n by_3 = True,\n lo = [mk(1, -1) -> 1,\n       mk(3/32, 11/16) -> 3/32,\n       mk(-11/32, -3/16) -> -11/32,\n       mk(-2, -1/2) -> -2,\n       else -> 1/8],\n max = [(11/16, 3/8) -> 11/16,\n        (11/16, 11/64) -> 11/16,\n        (11/16, 3/32) -> 11/16,\n        else -> If(Var(0) + -1*Var(1) <= 0, Var(1), Var(0))],\n add = [(inf, mk(-11/32, -3/16)) -> inf,\n        (inf, mk(3/32, 11/16)) -> inf,\n        else ->\n        If(Or(is(inf, Var(0)), is(inf, Var(1))),\n           inf,\n           mk(lo(Var(0)) + lo(Var(1)),\n              hi(Var(0)) + hi(Var(1))))],\n hi = [mk(1, -1) -> -1,\n       mk(3/32, 11/16) -> 11/16,\n       mk(-11/32, -3/16) -> -3/16,\n       mk(-2, -1/2) -> -1/2,\n       else -> 1/2],\n wf = [mk(-2, -1/2) -> True,\n       mk(-11/32, -3/16) -> True,\n       mk(1, -1) -> False,\n       inf -> True,\n       mk(3/32, 11/16) -> True,\n       else ->\n       Or(is(inf, Var(0)), hi(Var(0)) + -1*lo(Var(0)) >= 0)],\n mul = [(mk(-2, -1/2), inf) -> inf,\n        (mk(-2, -1/2), mk(-11/32, -3/16)) -> mk(3/32, 11/16),\n        else ->\n        If(Or(is(inf, Var(0)), is(inf, Var(1))),\n           inf,\n           If(Or(lo(Var(0)) + -1*hi(Var(0)) <= 0,\n                 hi(Var(1)) + -1*lo(Var(1)) >= 0),\n              If(lo(Var(0)) + -1*hi(Var(0)) <= 0,\n                 If(hi(Var(1)) + -1*lo(Var(1)) >= 0,\n                    mk(min(min(min(lo(Var(0))*lo(Var(1)),\n                                   hi(Var(1))*lo(Var(0))),\n                               hi(Var(0))*lo(Var(1))),\n                           hi(Var(0))*hi(Var(1))),\n                       max(max(max(lo(Var(0))*lo(Var(1)),\n                                   hi(Var(1))*lo(Var(0))),\n                               hi(Var(0))*lo(Var(1))),\n                           hi(Var(0))*hi(Var(1)))),\n                    Var(1)),\n                 Var(0)),\n              mk(1, -1)))],\n lt2 = [(inf, inf) -> False,\n        else ->\n        Not(Or(is(inf, Var(1)),\n               is(inf, Var(0)),\n               lo(Var(0)) + -1*lo(Var(1)) >= 0,\n               hi(Var(0)) + -1*hi(Var(1)) >= 0))],\n min = [(11/16, 3/8) -> 3/8,\n        (3/8, 11/64) -> 11/64,\n        (11/64, 3/32) -> 3/32,\n        else -> If(Var(0) + -1*Var(1) <= 0, Var(0), Var(1))]])"
     ]
    }
   ],
   "source": [
    "subdistr = lemma(ForAll([i,j,k], \n",
    "                        Implies(And(wf(i), wf(j), wf(k)),\n",
    "                        lt2(i * (j + k), i * j + i * k))),\n",
    "                  by=[mul.defn, wf.defn, add.defn, min.defn, max.defn, lt2.defn ])"
   ]
  },
  {
   "cell_type": "markdown",
   "metadata": {},
   "source": [
    "### Bounding e\n",
    "\n",
    "There's an incredible slight of hand you can do with interval arithmetic to get rigorous bounds on transcendental functions and differential equations while use pretty generic, computable machinery.\n",
    "\n",
    "What is euler's constant `e`? Well, there are many definitions, but one natural one is that $y=e^x$ is the function that solves\n",
    "$\\partial_x y = y$\n",
    "\n",
    "We can write this in integral form\n",
    "$y(x) = y(0) + \\int_0^x y(t)dt$\n",
    "\n",
    "There is a trick to doing integrals with interval functions.  A simple estimate is to just tuse the minimum and maximum of the function in the region you're evaluating the integral\n",
    "\n",
    "$\\int_a^b y \\subseq y * (b-a)$\n",
    "Or in other words in the integrals $y_{min} * (b-a) <= \\int y dt <= y_{max} * (b-a) $\n",
    "\n",
    "Ok. We can also make an iterative method to get better and better results to the integral equation\n",
    "\n",
    "$y_{n+1}(x) = y_n(0) + \\int_0^x y_n(t)dt$\n",
    "\n",
    "We can lift this to an interval/tube recurrence relation\n",
    "\n",
    "Ok. Now, how do we know that this is actually converging to an answer? Well we need to show that the result interval always in strictly inside the previous iteration interval\n",
    "\n",
    "\n"
   ]
  },
  {
   "cell_type": "code",
   "execution_count": null,
   "metadata": {},
   "outputs": [],
   "source": [
    "integ = define(\"integ\", )\n",
    "\n",
    "\n",
    "iter = define(\"iter\", [i], 1 + i * (1 - 0))\n",
    "\n",
    "\n",
    "\n",
    "\n",
    "\n"
   ]
  },
  {
   "cell_type": "code",
   "execution_count": 2,
   "metadata": {},
   "outputs": [
    {
     "ename": "TypeError",
     "evalue": "cannot unpack non-iterable FuncDeclRef object",
     "output_type": "error",
     "traceback": [
      "\u001b[0;31m---------------------------------------------------------------------------\u001b[0m",
      "\u001b[0;31mTypeError\u001b[0m                                 Traceback (most recent call last)",
      "Cell \u001b[0;32mIn[2], line 28\u001b[0m\n\u001b[1;32m     25\u001b[0m DatatypeRef\u001b[38;5;241m.\u001b[39mlo \u001b[38;5;241m=\u001b[39m \u001b[38;5;28mproperty\u001b[39m(\u001b[38;5;28;01mlambda\u001b[39;00m \u001b[38;5;28mself\u001b[39m: Interval\u001b[38;5;241m.\u001b[39mlo(\u001b[38;5;28mself\u001b[39m))\n\u001b[1;32m     26\u001b[0m DatatypeRef\u001b[38;5;241m.\u001b[39mis_inf \u001b[38;5;241m=\u001b[39m \u001b[38;5;28mproperty\u001b[39m(\u001b[38;5;28;01mlambda\u001b[39;00m \u001b[38;5;28mself\u001b[39m: Interval\u001b[38;5;241m.\u001b[39mis_inf(\u001b[38;5;28mself\u001b[39m))\n\u001b[0;32m---> 28\u001b[0m denote, denote_def \u001b[38;5;241m=\u001b[39m define(\u001b[38;5;124m\"\u001b[39m\u001b[38;5;124mdenote\u001b[39m\u001b[38;5;124m\"\u001b[39m, [i], Lambda([x], If(Interval\u001b[38;5;241m.\u001b[39mis_inf(i), BoolVal(\u001b[38;5;28;01mTrue\u001b[39;00m), And(i\u001b[38;5;241m.\u001b[39mlo \u001b[38;5;241m<\u001b[39m\u001b[38;5;241m=\u001b[39m x, x \u001b[38;5;241m<\u001b[39m\u001b[38;5;241m=\u001b[39m i\u001b[38;5;241m.\u001b[39mhi))))\n\u001b[1;32m     29\u001b[0m \u001b[38;5;66;03m#print(i.lo)\u001b[39;00m\n\u001b[1;32m     31\u001b[0m add, add_def \u001b[38;5;241m=\u001b[39m define(\u001b[38;5;124m\"\u001b[39m\u001b[38;5;124madd\u001b[39m\u001b[38;5;124m\"\u001b[39m, [i,j], \n\u001b[1;32m     32\u001b[0m                       If(Or(i\u001b[38;5;241m.\u001b[39mis_inf, j\u001b[38;5;241m.\u001b[39mis_inf), Interval\u001b[38;5;241m.\u001b[39minf, Interval\u001b[38;5;241m.\u001b[39mmk(i\u001b[38;5;241m.\u001b[39mlo \u001b[38;5;241m+\u001b[39m j\u001b[38;5;241m.\u001b[39mlo, i\u001b[38;5;241m.\u001b[39mhi \u001b[38;5;241m+\u001b[39m j\u001b[38;5;241m.\u001b[39mhi)))\n",
      "\u001b[0;31mTypeError\u001b[0m: cannot unpack non-iterable FuncDeclRef object"
     ]
    }
   ],
   "source": [
    "\n",
    "\n",
    "#def IConsts(xs):\n",
    "#    xs = Consts(xs, Interval)\n",
    "#    for x in xs:\n",
    "#        x.hi = lambda self: Interval.hi(self)\n",
    "#        x.lo = lambda self: Interval.lo(self)\n",
    "#    return xs\n",
    "\n",
    "\n",
    "\n",
    "\n",
    "\n",
    "# Ordering with respect to set inlcusion\n",
    "le, le_def = define(\"le\", [i,j], If(j.is_inf, BoolVal(True), \n",
    "                         If(i.is_inf, BoolVal(False),\n",
    "                           And(i.hi <= j.hi, j.lo <= i.lo))))\n",
    "\n",
    "Ordering = Datatype(\"Ordering\")\n",
    "Ordering.declare(\"lt\")\n",
    "Ordering.declare(\"eq\")\n",
    "Ordering.declare(\"nge\")\n",
    "\n",
    "#ordering with respect to real order\n",
    "# what do we do with improper\n",
    "#leR, leR_def = define(\"le_R\", [i,j], If( Or(i.is_inf, j.is_inf), Ordering.nge,  If())\n",
    "\n",
    "\n",
    "\n",
    "n = Int(\"n\")\n",
    "pow, pow_def = define(\"pow\", [x,n], \n",
    "                                    If(n == 0, 1,\n",
    "                                    If(n > 0, x * pow(x, n-1), \n",
    "                                    If(x == 0, x**n,\n",
    "                                       1/x * pow(x, n+1)))))\n",
    "\n",
    "# pow_pow = lemma(ForAll([x,n,m], pow(x,n) == x ** n, by=[pow_def]) # hmm. What about 1/x where x = 0?\n",
    "#pow_pow = lemma(ForAll([x,n,m], pow(x,n) * pow(x,m) == pow(x, n + m)), by=[pow_def])\n",
    "\n",
    "\n",
    "\n",
    "\n",
    "add_comm = lemma(ForAll([x,y], i + j == j + i), by=[add_def])\n",
    "add_assoc = lemma(ForAll([x,y,z], i + (j + k) == (i + j) + k), by=[add_def])\n",
    "#add_mono_l\n",
    "\n",
    "lift = define(\"lift\", [x], Interval.mk(x,x))\n",
    "\n",
    "#lift_mono = define(\"lift_mono\", [f], Lambda([x], lift(f(x)))\n",
    "\n",
    "square = define(\"square\", [i], If(i.is_inf, Interval.inf, \n",
    "                               If(And(i.lo <= 0, i.hi >= 0), Interval.mk(0, max(i.lo*i.lo, i.hi*i.hi)),\n",
    "                                Interval.mk(min(i.lo*i.lo, i.hi*i.hi), max(i.lo*i.lo, i.hi*i.hi)))))\n",
    "\n",
    "# sum of squares might be a nice axiom schema.\n",
    "\n"
   ]
  },
  {
   "cell_type": "code",
   "execution_count": 68,
   "metadata": {},
   "outputs": [
    {
     "name": "stdout",
     "output_type": "stream",
     "text": [
      "[x = 0, /0 = [(1, 0) -> 1/2, else -> 0]]\n"
     ]
    }
   ],
   "source": [
    "solve((1/x) * (1/x) != 1/(x**2))"
   ]
  },
  {
   "cell_type": "markdown",
   "metadata": {},
   "source": [
    "\n",
    "\n",
    "\n",
    "\n",
    "\n",
    "```python\n",
    "cos.sort()\n",
    "```\n",
    "\n",
    "Array(Real, Real)\n",
    "\n",
    "Interval analysis is a computational constructive framing\n",
    "\n",
    "Moore Book\n",
    "Bridger book\n",
    "Errett Bishop\n",
    "\n",
    "Kaucher intervals <https://arxiv.org/pdf/2202.03058>\n",
    "\n",
    "Fixed point theorems.\n",
    "An uninterpreted sort is not that bad for non recursive datatypes.\n",
    "\n",
    "```python\n",
    "from z3 import *\n",
    "\n",
    "I = DeclareSort(\"Interval\")\n",
    "a, b, c = Consts(\"a b c\", I)\n",
    "R = RealSort()\n",
    "x,y,z = Reals(\"x y z\")\n",
    "low = Function(\"low\", I, R)\n",
    "high = Function(\"high\", I, R)\n",
    "ForAll([a], low(a) <= high(a))\n",
    "\n",
    "sub = Function(\"sub\", I, I, BoolSort())\n",
    "sub_def = ForAll([a,b], sub(a,b) == And(low(a) > low(b), high(a) < high(b)))\n",
    "\n",
    "sub_irrefl = ForAll([a], Not(sub(a,a)))\n",
    "prove(Implies(sub_def, sub_irrefl))\n",
    "\n",
    "sub_asym = ForAll([a,b], Implies(sub(a,b), Not(sub(b,a))))\n",
    "prove(Implies(sub_def, sub_asym))\n",
    "\n",
    "sub_trans = ForAll([a,b,c], Implies(And(sub(a,b), sub(b,c)), sub(a,c)))\n",
    "prove(Implies(sub_def, sub_trans))\n",
    "\n",
    "subeq = Function(\"subeq\", I, I, BoolSort())\n",
    "subeq_def = ForAll([a,b], subeq(a,b) == Or(sub(a,b), a == b))\n",
    "\n",
    "subeq_refl = ForAll([a], subeq(a,a))\n",
    "prove(Implies(subeq_def, subeq_refl))\n",
    "\n",
    "subeq_asym = ForAll([a,b], Implies(And(subeq(a,b), subeq(b,a)), a == b))\n",
    "prove(Implies(And(subeq_def, sub_asym), subeq_asym))\n",
    "\n",
    "subeq_trans = ForAll([a,b,c], Implies(And(subeq(a,b), subeq(b,c)), subeq(a,c)))\n",
    "prove(Implies(And(subeq_def, sub_trans), subeq_trans))\n",
    "\n",
    "# An interval can be dominated by another interval. This is distinct from subset\n",
    "lt = Function(\"lt\", I, I, BoolSort())\n",
    "lt_def = ForAll([a,b], lt(a,b) == high(a) < low(b))\n",
    "\n",
    "\n",
    "mono = Function(\"mono\", ArraySort(I,I), BoolSort())\n",
    "f = Array(\"f\", I, I)\n",
    "mono_def = ForAll([f], mono(f) == ForAll([a], sub(a,f[a])))\n",
    "\n",
    "fix = Function(\"fix\", ArraySort(I,I), I)\n",
    "fix_def = ForAll([f], Implies(mono(f), fix(f) == f[fix(f)]))\n",
    "\n",
    "# too dangerous to skolemize?\n",
    "int_exists = ForAll([x,y], Implies( x <= y, Exists([a], And(low(a) == x, high(a) == y))))\n",
    "\n",
    "iadd = Function(\"iadd\", I, I, I)\n",
    "\n",
    "iadd_comm = ForAll([x,y], iadd(x,y) == iadd(y,x))\n",
    "iadd_assoc = ForAll([x,y,z], iadd(x,iadd(y,z)) == iadd(iadd(x,y),z))\n",
    "iadd_mono = ForAll([x,y,z], Implies(sub(x,y), sub(iadd(x,z),iadd(y,z))))\n",
    "\n",
    "iadd_high = ForAll([a,b], high(iadd(a,b)) == high(a) + high(b))\n",
    "iadd_low = ForAll([a,b], low(iadd(a,b)) == low(a) + low(b))\n",
    "\n",
    "iadd_monol = ForAll([a], mono(Lambda[a], iadd(a,b)))\n",
    "```\n",
    "\n",
    "\n",
    "```souffle\n",
    "\n",
    ".type interval = [l : float, u : float]\n",
    ".decl meet(x : interval , y : interval, z : interval) inline\n",
    "meet([lx,ux],[ly,uy],[max(lx,ly), min(ux,uy)]) :- true.\n",
    "\n",
    ".decl join(x : interval , y : interval, z : interval) inline\n",
    "join([lx,ux],[ly,uy],[min(lx,ly), max(ux,uy)]) :- true.\n",
    "\n",
    ".decl add(x : interval , y : interval, z : interval) inline\n",
    "add([lx,ux],[ly,uy],[lx + ly, ux + uy]) :- true.\n",
    "\n",
    ".decl sub(x : interval , y : interval, z : interval) inline\n",
    "sub([lx,ux],[ly,uy],[lx - uy, ux - ly]) :- true.\n",
    "\n",
    ".decl mul(x : interval , y : interval, z : interval) inline\n",
    "mul([lx,ux],[ly,uy],[min(a,b,c,d), max(a,b,c,d)]) :- a = lx * ly, b = ux * ly, c = lx * uy, d = ux * uy.\n",
    "\n",
    ".decl abs(x : interval , y : interval) inline\n",
    "abs([lx,ux],[lx,ux]) :- lx > 0.\n",
    "abs([lx,ux],[-ux, -lx]) :- ux < 0.\n",
    "abs([lx,ux],[0, max(-lx, ux)]) :- lx <= 0, ux >= 0.\n",
    "\n",
    "\n",
    ".decl test(x : interval)\n",
    "test(z) :- mul([2,4], [4,5],z).\n",
    ".output test(IO=stdout)\n",
    "\n",
    "\n",
    ".type Expr = \n",
    "      Add {x : Expr, y : Expr}\n",
    "    | Sub {x : Expr, y : Expr}\n",
    "    | Mul {x : Expr, y : Expr}\n",
    "    | Rnd {x : Expr}\n",
    "    | Lit {x : float}\n",
    "    | Var {x : symbol}\n",
    "\n",
    "// Expression e is in interval i\n",
    ".decl BND(e : Expr, i : interval)\n",
    "// Absolute value of e is in interval i\n",
    ".decl ABS(e : Expr, i : interval) \n",
    "// x = y * (1 + e) \n",
    ".decl REL(x : Expr, y : Expr, i : interval)\n",
    "// \n",
    "//.decl FIX(x : Expr, k)\n",
    "\n",
    "// The value of expression x is not zero.\n",
    ".decl NZR(x : Expr)\n",
    ".decl EQL(x : Expr, y : Expr) eqrel\n",
    "\n",
    "EQL(x,y) :- BND(x, [a,a]), BND(y, [a,a]).\n",
    "NZR(x) :- BND(x, [a,b]), (a > 0 ; b < 0).\n",
    "\n",
    ".decl exprs(e : Expr)\n",
    "EQL(x,x) :- exprs(x).\n",
    "\n",
    "BND(t, [a,a]) :- exprs(t), t = $Lit(a).\n",
    "BND(t, [0,0]) :- exprs(t), t = $Sub(a, a).\n",
    "\n",
    "BND(z, iz) :- exprs(z), BND(x,ix), BND(y,iy), (\n",
    "            (z = $Add(x,y), add(ix,iy,iz));\n",
    "            (z = $Sub(x,y), sub(ix,iy,iz));\n",
    "            (z = $Mul(x,y), mul(ix,iy,iz))).\n",
    "\n",
    "ABS(e, iy) :- BND(e, ix), abs(ix,iy).\n",
    "\n",
    "\n",
    "```\n",
    "\n"
   ]
  },
  {
   "cell_type": "markdown",
   "metadata": {},
   "source": [
    "# Manifolds\n",
    "\n",
    "title: Manifolds in Equational Logic\n",
    "\n",
    "\n",
    "Automated reasoning over\n",
    "Matroids. Synthetic theory of linear independence <https://en.wikipedia.org/wiki/Matroid>\n",
    "universal injective\n",
    "a dot b = a dot c !-> b = c\n",
    "\n",
    "\"represented by\" =o=  observer dependent\n",
    "two basic vectors e(0),e(1)\n",
    "e'(1) e'(2) a different basis.\n",
    "\n",
    "A parametrized set in abstract V\n",
    "v : R R R -> V\n",
    "v(20,30,-3)\n",
    "It's a linear reprsentation / map\n",
    "v(X1,Y1) + v(X2,Y2) = v(X1 + X2, Y1 + Y2)\n",
    "\n",
    "dot(v(X,Y), v(W,Z)) = X*W + Y*Z\n",
    "\n",
    "<https://en.wikipedia.org/wiki/Vector_space>\n",
    "\n",
    "\n",
    "Interesting questions: Is a coordinate expression an invarinant?  f(X,Y,Z) ?= f'(p(X,Y,Z)). Converting coordinate expressions to invariant forms.\n",
    "axiomatic minkowski\n",
    "\n",
    "I don't know that there can be a canonical formulation of any logic.\n",
    "\n",
    "But equational logic is trees of symbols, some of which are variable symbols. The 0-arity constant symbol `x` is very different from the variable `X` `?x`.\n",
    "This distinction is useful. A statement `f(x) = 1` is a statement about the interaction of a particular `f` on a particular `x`. This may be an equation we'd like to solve for possibille values of `x`. `f(X) = 1` however is a universal statement. If we were working in forist order logic, which throws exists and forall quantifiers into the mix, this statement is the analog of `forall x, f_fol(x) =_fol 1_fol`. It is now stating nothing about a particular `x` but instead stating a global property of the function `f`, that `f` is the constant function.\n",
    "\n",
    "Coordinate systems are a tricky concept. The notation is quite slippery and you learn your way around it.\n",
    "\n",
    "Coordinates are an address book for points. They parametrize points such that.\n",
    "In other words a coordinate system *is* a function of the type `R^n -> M`\n",
    "\n",
    "The concept of a point is discussed in the textbooks, but it is an abstract entity. Since it doesn't really have calculational properties the way numbers, matrices, and numerical functions do. Even abstract things like quantum operators, kind of we have some matrix implementation in the back of my head. Points kind of have no operations on them in general. They can be in relation to other entities like curve, surfaces, etc, but there isn't a notion of point multiplication or addition or scaling except in very special spaces.\n",
    "\n",
    "There is a related notion for a coordinate system of `x : M -> R`.\n",
    "\n",
    "A coorindate transformation such as translation is written like `x' = x + a`. What are these `x`? This is certainly nonsensical as `X' = X + a`. It is also not exactly that we mean are talking about a particular `x` or `x'`. This might be so if we had a particular point of interest, `x'(p) = x(p) + a` but we are talking about transforming the coordinate *system* everywhere.\n",
    "Actually what we are saying is that for any point `x'(P) = x(P) + a`.\n",
    "\n",
    "Anyway, I think the appropriate notation here is\n",
    "\n",
    "```\n",
    "coord'(X,Y,Z) = coord(X - a, Y, Z)\n",
    "```\n",
    "\n",
    "Again, we get used to that if you have an expression `f(x')`,\n",
    "\n",
    "```bash\n",
    "cart : R^3 -> M\n",
    "cart(_,_,_)\n",
    "\n",
    "x y z : M -> R\n",
    "\n",
    "x(cart(X,Y,Z)) = X\n",
    "y(cart(X,Y,Z)) = Y\n",
    "\n",
    "cyl(R,T,Z) = cart(Rcos(T), Rsin(T), Z)\n",
    "cart(X,Y,Z) = cyl(sqrt(X^2 + Y^2), atan2(X,Y), Z)\n",
    "\n",
    "point : M\n",
    "\n",
    "dist : M -> M -> R\n",
    "dist(P1,P2) \n",
    "\n",
    "% hyperreals?\n",
    "\n",
    "\n",
    "a curve.\n",
    "p : R -> M\n",
    "p(T) = cart(T,T,0)\n",
    "\n",
    "\n",
    "%vector derivative\n",
    "% a rate of change of a function\n",
    "dp : (M -> R) -> R -> R  % (?)\n",
    "dp(f)(T) = f'(p(T)) * 2\n",
    "\n",
    "% vector field\n",
    "v : (M -> R) -> M -> R\n",
    "\n",
    "\n",
    "\n",
    "\n",
    "a surface\n",
    "q : M2 -> M\n",
    "\n",
    "chart : R^2 -> M2\n",
    "x(q(chart(X,Y))) =\n",
    "\n",
    "% exterior deriavtive\n",
    "d : (M -> R) -> M -> ?\n",
    "\n",
    "% a different cartersian coordinate system\n",
    "x(cart'(X,Y,Z)) = x(cart(X,Y,Z)) + a\n",
    "```\n",
    "\n",
    "it would be nice for the charts to be partial.\n"
   ]
  }
 ],
 "metadata": {
  "kernelspec": {
   "display_name": "Python 3",
   "language": "python",
   "name": "python3"
  },
  "language_info": {
   "codemirror_mode": {
    "name": "ipython",
    "version": 3
   },
   "file_extension": ".py",
   "mimetype": "text/x-python",
   "name": "python",
   "nbconvert_exporter": "python",
   "pygments_lexer": "ipython3",
   "version": "3.10.12"
  }
 },
 "nbformat": 4,
 "nbformat_minor": 2
}
