{
 "cells": [
  {
   "cell_type": "code",
   "execution_count": null,
   "metadata": {},
   "outputs": [],
   "source": []
  },
  {
   "cell_type": "markdown",
   "metadata": {},
   "source": [
    "https://en.wikipedia.org/wiki/Entropy\n",
    "\n",
    "# Physics\n",
    "\n",
    "https://johncarlosbaez.wordpress.com/2024/07/20/what-is-entropy/ https://news.ycombinator.com/item?id=41037981\n",
    "\n",
    "What was clausius thinking? Q/T\n",
    "\n",
    "The surprising formula for ideal gas\n",
    "# Information\n",
    "Briullouin information in physics\n",
    "\n",
    "Why ln?\n",
    "The connection between bits and number basically.\n",
    "\"We want it additive\". Ok. Weird motivation imo.\n",
    "\n",
    "\n",
    "Shannon entropy\n",
    "\n",
    "We need n bits to describe 2^n possibilities.\n",
    "What do we mean by \"bit\" and in the computer era.\n",
    "\n",
    "Digit is a natural notion and works.\n",
    "A particular number naming cheme\n",
    "\n",
    "\n",
    "Everything is cross entropy?\n",
    "I'd say that's a common thing. If something doesn't seem relative, at a deeper level there is some unnamed default. The recent example has been consistency of proof systems.\n",
    "\n",
    "That digital communication course from MIT\n",
    "\n",
    "\n",
    "\n",
    "That Machine learning from data course\n",
    "\n",
    "MacKay infromation https://www.inference.org.uk/itprnn/book.pdf\n",
    "\n",
    "\n",
    "\n",
    "\n"
   ]
  }
 ],
 "metadata": {
  "language_info": {
   "name": "python"
  }
 },
 "nbformat": 4,
 "nbformat_minor": 2
}
