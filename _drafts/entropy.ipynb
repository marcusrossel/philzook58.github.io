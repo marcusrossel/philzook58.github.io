{
 "cells": [
  {
   "cell_type": "code",
   "execution_count": null,
   "metadata": {},
   "outputs": [],
   "source": []
  },
  {
   "cell_type": "markdown",
   "metadata": {},
   "source": [
    "Why ln?\n",
    "The connection between bits and number basically.\n",
    "\n",
    "Shannon entropy\n",
    "\n",
    "We need n bits to describe 2^n possibilities.\n",
    "What do we mean by \"bit\" and in the computer era.\n",
    "\n",
    "Digit is a natural notion and works.\n",
    "A particular number naming cheme\n",
    "\n",
    "\n",
    "Everything is cross entropy?\n",
    "I'd say that's a common thing. If something doesn't seem relative, at a deeper level there is some unnamed default. The recent example has been consistency of proof systems.\n",
    "\n"
   ]
  }
 ],
 "metadata": {
  "language_info": {
   "name": "python"
  }
 },
 "nbformat": 4,
 "nbformat_minor": 2
}
