{
 "cells": [
  {
   "cell_type": "code",
   "execution_count": null,
   "metadata": {},
   "outputs": [],
   "source": []
  },
  {
   "cell_type": "markdown",
   "metadata": {},
   "source": [
    "Two big problems I have are representing quotients and refinements\n",
    "\n",
    "- Make new sorts\n",
    "- Parametrize them\n",
    "- Meta records\n",
    "\n",
    "Internalizing a refinement system using quotation.\n",
    "\n",
    "What about Boole.\n",
    "\n",
    "See we want variables to be tagged with their assumptions, which can be deischarged when we quantify over them. Maybe if I had a variation of first order logic.\n",
    " x|x>=0 |- t  -->  |- forall x, x >=0 => t\n",
    "I could tuple (\"x\", x >= 0) and bubble up. But then I need to double everything\n",
    "NatForAll(vars, f) = ForAll([vars], Implies(x >= 0, f))\n",
    "NatExists(vars, f) = Exists([vars], And(x >= 0, f))\n",
    "\n",
    "\n",
    "\n",
    "\n",
    "https://isabelle.in.tum.de/~haftmann/pdf/data_refinement_in_isabelle_hol_haftmann_krauss_kuncar_nipkow.pdf data refinement in isabelle 2013\n",
    "\n",
    "https://www.andreipopescu.uk/pdf/NF.pdf non free datatypes\n",
    "\n",
    "\n",
    "https://www21.in.tum.de/~kuncar/huffman-kuncar-itp2012.pdf  Lifting and Transfer: A Modular Design for\n",
    "Quotients in Isabelle/HOL\n",
    "4. Cezary Kaliszyk and Christian Urban. Quotients revisited for Isabelle/HOL. In\n",
    "William C. Chu, W. Eric Wong, Mathew J. Palakal, and Chih-Cheng Hung, editors,\n",
    "Proc. of the 26th ACM Symposium on Applied Computing (SAC’11), pages 1639–\n",
    "1644. ACM, 2011.\n",
    "5. Alexander Krauss. Simplifying Automated Data Refinement via Quotients. Technical report, Technische Universität München, July 2011. http://www21.in.tum.\n",
    "de/~krauss/papers/refinement.pdf.\n",
    "6. Lawrence C. Paulson. Defining functions on equivalence classes. ACM Trans. Comput. Logic, 7(4):658–675, October 2006.\n",
    "\n",
    "Pos = DeclareType(\"Pos\")\n",
    "inj = DeclareFunction(\"inj\", Pos, Int)\n",
    "\n",
    "def pos_induct(P):\n",
    "    ForAll([x], Implies(x >= 0, P(x))) == ForAll([y], P(y))\n",
    "\n",
    "Is there a P(x,y) style \"induction\" principle that is natural?"
   ]
  },
  {
   "cell_type": "code",
   "execution_count": null,
   "metadata": {},
   "outputs": [],
   "source": []
  }
 ],
 "metadata": {
  "language_info": {
   "name": "python"
  }
 },
 "nbformat": 4,
 "nbformat_minor": 2
}
