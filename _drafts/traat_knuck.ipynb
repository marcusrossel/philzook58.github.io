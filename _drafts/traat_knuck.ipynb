{
 "cells": [
  {
   "cell_type": "code",
   "execution_count": 12,
   "metadata": {},
   "outputs": [
    {
     "data": {
      "text/html": [
       "&forall;p, q :\n",
       " trans(q) &and; (&forall;x, y : Select(q, x, y) &rArr; Select(p, x, y)) &rArr;\n",
       " (&forall;x, y : Select(q, x, y) &rArr; Select(plus(p), x, y))"
      ],
      "text/plain": [
       "ForAll([p, q],\n",
       "       Implies(And(trans(q),\n",
       "                   ForAll([x, y],\n",
       "                          Implies(Select(q, x, y),\n",
       "                                  Select(p, x, y)))),\n",
       "               ForAll([x, y],\n",
       "                      Implies(Select(q, x, y),\n",
       "                              Select(plus(p), x, y)))))"
      ]
     },
     "execution_count": 12,
     "metadata": {},
     "output_type": "execute_result"
    }
   ],
   "source": [
    "from z3 import *\n",
    "S = DeclareSort(\"S\")\n",
    "Rel = ArraySort(S,S,BoolSort())\n",
    "\n",
    "p,q,r,s = Consts(\"p q r s\", Rel)\n",
    "x,y,z = Consts(\"x y z\", S)\n",
    "\n",
    "id_ = Const(\"id\", Rel)\n",
    "id_def = ForAll([x], id_[x,y] == (x == y))\n",
    "\n",
    "comp = Function(\"comp\", Rel, Rel, Rel)\n",
    "ExprRef.__matmul__ = lambda self, other: comp(self,other)\n",
    "ExprRef.__or__ = lambda self,other: Lambda([x,y], Or(self[x,y], other[x,y]))\n",
    "ExprRef.__and__ = lambda self,other: Lambda([x,y], And(self[x,y], other[x,y]))\n",
    "ExprRef.__le__ = lambda self, other: ForAll([x,y], Implies(other[x,y],self[x,y]))\n",
    "\n",
    "BoolRef.__and__ = lambda self, other: And(self,other)\n",
    "BoolRef.__or__ = lambda self, other: Or(self,other)\n",
    "\n",
    "comp_def = ForAll([x,y,z], (r @ s)[x,z] == Exists([y], r[x,y] & s[y,z]))\n",
    "\n",
    "refl = Function(\"refl\", Rel, Rel)\n",
    "refl_def = ForAll([p], refl(p) == Lambda([x,y], p[x,y] | (x == y)))\n",
    "\n",
    "\n",
    "pow = Function(\"pow\", Rel, Nat, Rel)\n",
    "pow_def = ForAll([p,n], pow(p,n) == If(Nat.is_zero(n), id_, p @ pow(p,Nat.pred(n))))\n",
    "\n",
    "trans = Function(\"trans\", Rel, BoolSort())\n",
    "trans_def = ForAll([p], trans(p) == ForAll([x,y,z], Implies(p[x,y] & p[y,z], p[x,z])))\n",
    "\n",
    "plus = Function(\"plus\", Rel, Rel)\n",
    "\n",
    "# hmm actually in the book these are definitions.\n",
    "plus_trans = ForAll([p], trans(plus(p)))\n",
    "plus_min = ForAll([p,q], Implies(trans(q) & (p <= q), plus(p) <= q))\n",
    "#lemma(ForAll([p], p <= plus(p))) Is this a theorem or axiom?\n",
    "# https://theory.stanford.edu/~nikolaj/programmingz3.html#sec-transitive-closure\n",
    "#ForAll([r], trans(r) == TransitiveClosure(r))\n",
    "\n",
    "star = Function(\"star\", Rel, Rel)\n",
    "star_def = ForAll([p], star(p) == id_ | plus(p))\n",
    "\n",
    "\n",
    "plus_min\n",
    "\n"
   ]
  },
  {
   "cell_type": "markdown",
   "metadata": {},
   "source": [
    "https://en.wikipedia.org/wiki/Confluence_(abstract_rewriting)\n",
    "\n",
    "\n",
    "\n",
    "Confluent - order of rules \"doesn't matter\". \n",
    "Confluence + normalizing -> uniqueness of normal\n",
    "Also means we can greedily or stochastically apply rules and not lose the possiblity of finding normal form\n",
    "\n",
    "newman's lemma - by well founded induction. We can assume it's true of everything we step to. But by assumption local confluence (single step). So we can merge if we step once. But those guys are also joinable\n",
    "\n",
    "Commutatitivty\n",
    "\n",
    "Proof dynamics. Proof combinators.\n",
    "Proof irrelvance is kind of sinful. A -> A -> A has two functions. But proof irrelvance says they are the same? Bizarre and almost surprising that it can be made consistent.\n",
    "UIP\n",
    "\n",
    "Diamond property = immedate joinability. No transitive clousre involbed.\n",
    "\n",
    "Transfinite closure? Does that make sense?\n",
    "\n",
    "\n",
    "\n"
   ]
  }
 ],
 "metadata": {
  "language_info": {
   "name": "python"
  }
 },
 "nbformat": 4,
 "nbformat_minor": 2
}
