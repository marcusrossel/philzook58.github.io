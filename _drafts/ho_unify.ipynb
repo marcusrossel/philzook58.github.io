{
 "cells": [
  {
   "cell_type": "markdown",
   "metadata": {},
   "source": [
    "alpha prolog or lambda prolog as a librtary would be good.\n",
    "alpha leantap\n",
    "(an interpreter)\n"
   ]
  },
  {
   "cell_type": "code",
   "execution_count": null,
   "metadata": {},
   "outputs": [],
   "source": [
    "import janus_swi as janus\n",
    "\n",
    "# leantap with higher order unify?\n",
    "# trs with higher order unify?\n",
    "\n",
    "janus.consult(\"hounify\", \"\"\"\n",
    "\n",
    "ho_unify(bvar()).\n",
    "ho_unify(app(F1,X1), app(F2,X2)) :- ho_unify(F1,F2, Sig), ho_unify(X1,X2,Sig).\n",
    "ho_unify(lam(X1,B1), lam(X2,B2), Sig) :- gensym(S), V =.. [S|Sig], X1 = V, X2 = V, ho_unify(B1,B2,Sig).\n",
    "\n",
    "              \n",
    "% noiminal_unify(T1, T2 ,  Perm)\n",
    "nominal(atom(A), atom(B), Perm1, Perm2) :- member(A-B, Perm1), Perm1 = Perm2.\n",
    "nominal(atom(A), atom(B), Perm1, Perm2) :- +/ member(A-Y, Perm1), +/ member(Z-B, Perm1), Perm2 = [A-B|Perm1].\n",
    "nominal(app(F,Args), app(F1,Args2), Perm1, Perm2) :- nominal(F,F1)\n",
    "nominal\n",
    "\n",
    "% maybe a dcg of the permutation? We are threading a state.\n",
    "nominal(atom(A), atom(B)) --> \n",
    "\n",
    "% https://stackoverflow.com/questions/64638801/the-unification-algorithm-in-prolog#:~:text=unify(A%2CB)%3A%2D%20atomic,B)%2CA%3DB.        \n",
    "              unify(A,B):-\n",
    "   atomic(A),atomic(B),A=B.\n",
    "unify(A,B):-\n",
    "   var(A),A=B.            % without occurs check\n",
    "unify(A,B):-\n",
    "   nonvar(A),var(B),A=B.  % without occurs check\n",
    "unify(A,B):-\n",
    "   compound(A),compound(B),\n",
    "   A=..[F|ArgsA],B=..[F|ArgsB],\n",
    "   unify_args(ArgsA,ArgsB).\n",
    "   \n",
    "unify_args([A|TA],[B|TB]):-\n",
    "   unify(A,B),\n",
    "   unify_args(TA,TB).\n",
    "unify_args([],[]).\n",
    "\"\"\")"
   ]
  },
  {
   "cell_type": "markdown",
   "metadata": {},
   "source": [
    "bottom up ho unify is simpler. Dowek. Maybe anmm inverse method/magic set is in order.\n"
   ]
  }
 ],
 "metadata": {
  "language_info": {
   "name": "python"
  }
 },
 "nbformat": 4,
 "nbformat_minor": 2
}
