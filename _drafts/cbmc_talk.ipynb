{
 "cells": [
  {
   "cell_type": "code",
   "execution_count": null,
   "metadata": {},
   "outputs": [],
   "source": [
    "%%shell\n",
    "wget https://github.com/diffblue/cbmc/releases/download/cbmc-6.0.1/ubuntu-22.04-cbmc-6.0.1-Linux.deb\n",
    "sudo apt-get install bash-completion\n",
    "dpkg -i ubuntu-22.04-cbmc-6.0.1-Linux.deb"
   ]
  },
  {
   "cell_type": "markdown",
   "metadata": {},
   "source": [
    "https://colab.research.google.com/github/philzook58/philzook58.github.io/blob/master/_drafts/cbmc_talk.ipynb"
   ]
  },
  {
   "cell_type": "code",
   "execution_count": 7,
   "metadata": {},
   "outputs": [
    {
     "name": "stdout",
     "output_type": "stream",
     "text": [
      "Overwriting /tmp/ex1.c\n"
     ]
    }
   ],
   "source": [
    "%%file /tmp/ex1.c\n",
    "#include <assert.h>\n",
    "int main(){\n",
    "    assert(1 == 0);\n",
    "}"
   ]
  },
  {
   "cell_type": "code",
   "execution_count": 9,
   "metadata": {},
   "outputs": [
    {
     "name": "stdout",
     "output_type": "stream",
     "text": [
      "ex1: /tmp/ex1.c:3: main: Assertion `1 == 0' failed.\n"
     ]
    }
   ],
   "source": [
    "! gcc /tmp/ex1.c -o /tmp/ex1 && /tmp/ex1"
   ]
  },
  {
   "cell_type": "code",
   "execution_count": 8,
   "metadata": {},
   "outputs": [
    {
     "name": "stdout",
     "output_type": "stream",
     "text": [
      "CBMC version 6.0.1 (cbmc-6.0.1-5-g54c20cdb91) 64-bit x86_64 linux\n",
      "Type-checking ex1\n",
      "Generating GOTO Program\n",
      "Adding CPROVER library (x86_64)\n",
      "Removal of function pointers and virtual functions\n",
      "Generic Property Instrumentation\n",
      "Starting Bounded Model Checking\n",
      "Passing problem to propositional reduction\n",
      "converting SSA\n",
      "Running propositional reduction\n",
      "SAT checker: instance is SATISFIABLE\n",
      "\n",
      "** Results:\n",
      "/tmp/ex1.c function main\n",
      "\u001b[2m[main.assertion.1] \u001b[0mline 3 assertion 1 == 0: \u001b[31mFAILURE\u001b[0m\n",
      "\n",
      "** 1 of 1 failed (2 iterations)\n",
      "VERIFICATION FAILED\n"
     ]
    }
   ],
   "source": [
    "!cbmc /tmp/ex1.c"
   ]
  },
  {
   "cell_type": "code",
   "execution_count": 10,
   "metadata": {},
   "outputs": [
    {
     "name": "stdout",
     "output_type": "stream",
     "text": [
      "Overwriting /tmp/ex2.c\n"
     ]
    }
   ],
   "source": [
    "%%file /tmp/ex2.c\n",
    "#include <assert.h>\n",
    "int main(){\n",
    "    int x;\n",
    "    assert(x != 12345);\n",
    "}"
   ]
  },
  {
   "cell_type": "code",
   "execution_count": 11,
   "metadata": {},
   "outputs": [
    {
     "name": "stdout",
     "output_type": "stream",
     "text": [
      "CBMC version 6.0.1 (cbmc-6.0.1-5-g54c20cdb91) 64-bit x86_64 linux\n",
      "Type-checking ex2\n",
      "Generating GOTO Program\n",
      "Adding CPROVER library (x86_64)\n",
      "Removal of function pointers and virtual functions\n",
      "Generic Property Instrumentation\n",
      "Starting Bounded Model Checking\n",
      "Passing problem to propositional reduction\n",
      "converting SSA\n",
      "Running propositional reduction\n",
      "SAT checker: instance is SATISFIABLE\n",
      "Building error trace\n",
      "\n",
      "** Results:\n",
      "/tmp/ex2.c function main\n",
      "\u001b[2m[main.assertion.1] \u001b[0mline 4 assertion x != 12345: \u001b[31mFAILURE\u001b[0m\n",
      "\n",
      "Trace for main.assertion.1:\n",
      "\n",
      "State 11 file /tmp/ex2.c function main line 3 thread 0\n",
      "----------------------------------------------------\n",
      "  x=12345 \u001b[2m(00000000 00000000 00110000 00111001)\u001b[0m\n",
      "\n",
      "\u001b[31mViolated property:\u001b[0m\n",
      "  file /tmp/ex2.c function main line 4 thread 0\n",
      "  \u001b[31massertion x != 12345\u001b[0m\n",
      "  x != 12345\n",
      "\n",
      "\n",
      "\n",
      "** 1 of 1 failed (2 iterations)\n",
      "VERIFICATION FAILED\n"
     ]
    }
   ],
   "source": [
    "! cbmc /tmp/ex2.c --trace"
   ]
  },
  {
   "cell_type": "code",
   "execution_count": 14,
   "metadata": {},
   "outputs": [
    {
     "name": "stdout",
     "output_type": "stream",
     "text": [
      "Overwriting /tmp/ex3.c\n"
     ]
    }
   ],
   "source": [
    "%%file /tmp/ex3.c\n",
    "int main(){\n",
    "    int x;\n",
    "    if (x <= 42){\n",
    "            assert(x != 12345);\n",
    "    }\n",
    "}"
   ]
  },
  {
   "cell_type": "code",
   "execution_count": 15,
   "metadata": {},
   "outputs": [
    {
     "name": "stdout",
     "output_type": "stream",
     "text": [
      "CBMC version 6.0.1 (cbmc-6.0.1-5-g54c20cdb91) 64-bit x86_64 linux\n",
      "Type-checking ex3\n",
      "file /tmp/ex3.c line 4 function main: function 'assert' is not declared\n",
      "Generating GOTO Program\n",
      "Adding CPROVER library (x86_64)\n",
      "Removal of function pointers and virtual functions\n",
      "Generic Property Instrumentation\n",
      "Starting Bounded Model Checking\n",
      "Passing problem to propositional reduction\n",
      "converting SSA\n",
      "Running propositional reduction\n",
      "SAT checker inconsistent: instance is UNSATISFIABLE\n",
      "\n",
      "** Results:\n",
      "/tmp/ex3.c function main\n",
      "\u001b[2m[main.assertion.1] \u001b[0mline 4 assertion x != 12345: \u001b[32mSUCCESS\u001b[0m\n",
      "\n",
      "** 0 of 1 failed (1 iterations)\n",
      "VERIFICATION SUCCESSFUL\n"
     ]
    }
   ],
   "source": [
    "! cbmc /tmp/ex3.c"
   ]
  },
  {
   "cell_type": "code",
   "execution_count": 1,
   "metadata": {},
   "outputs": [
    {
     "name": "stdout",
     "output_type": "stream",
     "text": [
      "Writing /tmp/ex1.c\n"
     ]
    }
   ],
   "source": [
    "%%file /tmp/ex1.c\n",
    "void main (void)\n",
    "{\n",
    " int x;\n",
    " int y=8, z=0, w=0;\n",
    " if (x)\n",
    "    z = y - 1;\n",
    " else\n",
    "    w = y + 1;\n",
    " assert (z == 7 || w == 9);\n",
    "}"
   ]
  },
  {
   "cell_type": "code",
   "execution_count": 4,
   "metadata": {},
   "outputs": [
    {
     "name": "stdout",
     "output_type": "stream",
     "text": [
      "CBMC version 6.0.1 (cbmc-6.0.1-5-g54c20cdb91) 64-bit x86_64 linux\n",
      "Type-checking ex1\n",
      "file /tmp/ex1.c line 9 function main: function 'assert' is not declared\n",
      "Generating GOTO Program\n",
      "Adding CPROVER library (x86_64)\n",
      "Removal of function pointers and virtual functions\n",
      "Generic Property Instrumentation\n",
      "Starting Bounded Model Checking\n",
      "Passing problem to propositional reduction\n",
      "converting SSA\n",
      "Running propositional reduction\n",
      "SAT checker inconsistent: instance is UNSATISFIABLE\n",
      "\n",
      "** Results:\n",
      "/tmp/ex1.c function main\n",
      "\u001b[2m[main.overflow.1] \u001b[0mline 6 arithmetic overflow on signed - in y - 1: \u001b[32mSUCCESS\u001b[0m\n",
      "\u001b[2m[main.overflow.2] \u001b[0mline 8 arithmetic overflow on signed + in y + 1: \u001b[32mSUCCESS\u001b[0m\n",
      "\u001b[2m[main.assertion.1] \u001b[0mline 9 assertion z == 7 || w == 9: \u001b[32mSUCCESS\u001b[0m\n",
      "\n",
      "** 0 of 3 failed (1 iterations)\n",
      "VERIFICATION SUCCESSFUL\n"
     ]
    }
   ],
   "source": [
    "!cbmc /tmp/ex1.c"
   ]
  },
  {
   "cell_type": "code",
   "execution_count": 16,
   "metadata": {},
   "outputs": [
    {
     "name": "stdout",
     "output_type": "stream",
     "text": [
      "Writing /tmp/test.c\n"
     ]
    }
   ],
   "source": [
    "%%file /tmp/test.c\n",
    "#include <assert.h>\n",
    "#include <stdint.h>\n",
    "\n",
    "int64_t myabs(int64_t x){\n",
    "    return x <= 0 ? -x : x;\n",
    "}\n",
    "\n",
    "int64_t nondet_int();\n",
    "\n",
    "int main(){\n",
    "    int64_t x = nondet_int();\n",
    "    int64_t y = myabs(x);\n",
    "    assert(y >= 0);\n",
    "}"
   ]
  },
  {
   "cell_type": "code",
   "execution_count": 19,
   "metadata": {},
   "outputs": [
    {
     "name": "stdout",
     "output_type": "stream",
     "text": [
      "CBMC version 6.0.1 (cbmc-6.0.1-5-g54c20cdb91) 64-bit x86_64 linux\n",
      "Type-checking test\n",
      "Generating GOTO Program\n",
      "Adding CPROVER library (x86_64)\n",
      "Removal of function pointers and virtual functions\n",
      "Generic Property Instrumentation\n",
      "Starting Bounded Model Checking\n",
      "Passing problem to propositional reduction\n",
      "converting SSA\n",
      "Running propositional reduction\n",
      "SAT checker: instance is SATISFIABLE\n",
      "Building error trace\n",
      "\n",
      "** Results:\n",
      "/tmp/test.c function main\n",
      "\u001b[2m[main.assertion.1] \u001b[0mline 13 assertion y >= 0: \u001b[31mFAILURE\u001b[0m\n",
      "\n",
      "/tmp/test.c function myabs\n",
      "\u001b[2m[myabs.overflow.1] \u001b[0mline 5 arithmetic overflow on signed unary minus in -x: \u001b[31mFAILURE\u001b[0m\n",
      "\n",
      "Trace for main.assertion.1:\n",
      "\n",
      "State 13 file /tmp/test.c function main line 11 thread 0\n",
      "----------------------------------------------------\n",
      "  return_value_nondet_int=-9223372036854775808l \u001b[2m(10000000 00000000 00000000 00000000 00000000 00000000 00000000 00000000)\u001b[0m\n",
      "\n",
      "State 14 file /tmp/test.c function main line 11 thread 0\n",
      "----------------------------------------------------\n",
      "  x=-9223372036854775808l \u001b[2m(10000000 00000000 00000000 00000000 00000000 00000000 00000000 00000000)\u001b[0m\n",
      "\n",
      "State 19 file /tmp/test.c function main line 12 thread 0\n",
      "----------------------------------------------------\n",
      "  x=-9223372036854775808l \u001b[2m(10000000 00000000 00000000 00000000 00000000 00000000 00000000 00000000)\u001b[0m\n",
      "\n",
      "\u001b[31mViolated property:\u001b[0m\n",
      "  file /tmp/test.c function myabs line 5 thread 0\n",
      "  \u001b[31marithmetic overflow on signed unary minus in -x\u001b[0m\n",
      "  x <= (signed long int)0 ==> !(x == -9223372036854775808l)\n",
      "\n",
      "\n",
      "State 21 file /tmp/test.c function myabs line 5 thread 0\n",
      "----------------------------------------------------\n",
      "  goto_symex$$return_value$$myabs=-9223372036854775808l \u001b[2m(10000000 00000000 00000000 00000000 00000000 00000000 00000000 00000000)\u001b[0m\n",
      "\n",
      "State 23 file /tmp/test.c function main line 12 thread 0\n",
      "----------------------------------------------------\n",
      "  return_value_myabs=-9223372036854775808l \u001b[2m(10000000 00000000 00000000 00000000 00000000 00000000 00000000 00000000)\u001b[0m\n",
      "\n",
      "State 24 file /tmp/test.c function main line 12 thread 0\n",
      "----------------------------------------------------\n",
      "  y=-9223372036854775808l \u001b[2m(10000000 00000000 00000000 00000000 00000000 00000000 00000000 00000000)\u001b[0m\n",
      "\n",
      "\u001b[31mViolated property:\u001b[0m\n",
      "  file /tmp/test.c function main line 13 thread 0\n",
      "  \u001b[31massertion y >= 0\u001b[0m\n",
      "  y >= (signed long int)0\n",
      "\n",
      "\n",
      "\n",
      "Trace for myabs.overflow.1:\n",
      "\n",
      "State 13 file /tmp/test.c function main line 11 thread 0\n",
      "----------------------------------------------------\n",
      "  return_value_nondet_int=-9223372036854775808l \u001b[2m(10000000 00000000 00000000 00000000 00000000 00000000 00000000 00000000)\u001b[0m\n",
      "\n",
      "State 14 file /tmp/test.c function main line 11 thread 0\n",
      "----------------------------------------------------\n",
      "  x=-9223372036854775808l \u001b[2m(10000000 00000000 00000000 00000000 00000000 00000000 00000000 00000000)\u001b[0m\n",
      "\n",
      "State 19 file /tmp/test.c function main line 12 thread 0\n",
      "----------------------------------------------------\n",
      "  x=-9223372036854775808l \u001b[2m(10000000 00000000 00000000 00000000 00000000 00000000 00000000 00000000)\u001b[0m\n",
      "\n",
      "\u001b[31mViolated property:\u001b[0m\n",
      "  file /tmp/test.c function myabs line 5 thread 0\n",
      "  \u001b[31marithmetic overflow on signed unary minus in -x\u001b[0m\n",
      "  x <= (signed long int)0 ==> !(x == -9223372036854775808l)\n",
      "\n",
      "\n",
      "\n",
      "** 2 of 2 failed (2 iterations)\n",
      "VERIFICATION FAILED\n"
     ]
    }
   ],
   "source": [
    "! cbmc /tmp/test.c --trace"
   ]
  },
  {
   "cell_type": "code",
   "execution_count": 20,
   "metadata": {},
   "outputs": [
    {
     "name": "stdout",
     "output_type": "stream",
     "text": [
      "Writing /tmp/buffer.c\n"
     ]
    }
   ],
   "source": [
    "%%file /tmp/buffer.c\n",
    "int main(){\n",
    "    char buffer[10];\n",
    "    buffer[10] = 0;\n",
    "}"
   ]
  },
  {
   "cell_type": "code",
   "execution_count": 21,
   "metadata": {},
   "outputs": [
    {
     "name": "stdout",
     "output_type": "stream",
     "text": [
      "CBMC version 6.0.1 (cbmc-6.0.1-5-g54c20cdb91) 64-bit x86_64 linux\n",
      "Type-checking buffer\n",
      "Generating GOTO Program\n",
      "Adding CPROVER library (x86_64)\n",
      "Removal of function pointers and virtual functions\n",
      "Generic Property Instrumentation\n",
      "Starting Bounded Model Checking\n",
      "Passing problem to propositional reduction\n",
      "converting SSA\n",
      "Running propositional reduction\n",
      "SAT checker: instance is SATISFIABLE\n",
      "\n",
      "** Results:\n",
      "/tmp/buffer.c function main\n",
      "\u001b[2m[main.array_bounds.1] \u001b[0mline 3 array 'buffer' upper bound in buffer[(signed long int)10]: \u001b[31mFAILURE\u001b[0m\n",
      "\n",
      "** 1 of 1 failed (2 iterations)\n",
      "VERIFICATION FAILED\n"
     ]
    }
   ],
   "source": [
    "! cbmc /tmp/buffer.c"
   ]
  },
  {
   "cell_type": "code",
   "execution_count": 5,
   "metadata": {},
   "outputs": [
    {
     "name": "stdout",
     "output_type": "stream",
     "text": [
      "Writing /tmp/ex2.c\n"
     ]
    }
   ],
   "source": [
    "%%file /tmp/ex2.c\n",
    "void main (void)\n",
    "{\n",
    " int x;\n",
    " int y=8, z=0, w=0;\n",
    " if (x)\n",
    "    z = y - 1;\n",
    " else\n",
    "    w = y + 1;\n",
    " assert (z == 5 || w == 9);\n",
    "}\n"
   ]
  },
  {
   "cell_type": "code",
   "execution_count": 22,
   "metadata": {},
   "outputs": [
    {
     "name": "stdout",
     "output_type": "stream",
     "text": [
      "CBMC version 6.0.1 (cbmc-6.0.1-5-g54c20cdb91) 64-bit x86_64 linux\n",
      "Type-checking ex2\n",
      "Generating GOTO Program\n",
      "Adding CPROVER library (x86_64)\n",
      "Removal of function pointers and virtual functions\n",
      "Generic Property Instrumentation\n",
      "Starting Bounded Model Checking\n",
      "Passing problem to propositional reduction\n",
      "converting SSA\n",
      "Running propositional reduction\n",
      "SAT checker: instance is SATISFIABLE\n",
      "Building error trace\n",
      "\n",
      "** Results:\n",
      "/tmp/ex2.c function main\n",
      "\u001b[2m[main.assertion.1] \u001b[0mline 4 assertion x != 12345: \u001b[31mFAILURE\u001b[0m\n",
      "\n",
      "Trace for main.assertion.1:\n",
      "\n",
      "State 11 file /tmp/ex2.c function main line 3 thread 0\n",
      "----------------------------------------------------\n",
      "  x=12345 \u001b[2m(00000000 00000000 00110000 00111001)\u001b[0m\n",
      "\n",
      "\u001b[31mViolated property:\u001b[0m\n",
      "  file /tmp/ex2.c function main line 4 thread 0\n",
      "  \u001b[31massertion x != 12345\u001b[0m\n",
      "  x != 12345\n",
      "\n",
      "\n",
      "\n",
      "** 1 of 1 failed (2 iterations)\n",
      "VERIFICATION FAILED\n"
     ]
    }
   ],
   "source": [
    "! cbmc /tmp/ex2.c --trace"
   ]
  },
  {
   "cell_type": "code",
   "execution_count": null,
   "metadata": {},
   "outputs": [],
   "source": [
    "%%file /tmp/array_list.inl\n",
    "\n",
    "AWS_STATIC_IMPL\n",
    "int aws_array_list_init_dynamic(\n",
    "    struct aws_array_list *AWS_RESTRICT list,\n",
    "    struct aws_allocator *alloc,\n",
    "    size_t initial_item_allocation,\n",
    "    size_t item_size) {\n",
    "\n",
    "    AWS_FATAL_PRECONDITION(list != NULL); // mostly wrapper for __CProver_precondition\n",
    "    AWS_FATAL_PRECONDITION(alloc != NULL);\n",
    "    AWS_FATAL_PRECONDITION(item_size > 0);\n",
    "\n",
    "    AWS_ZERO_STRUCT(*list);\n",
    "\n",
    "    size_t allocation_size = 0;\n",
    "    if (aws_mul_size_checked(initial_item_allocation, item_size, &allocation_size)) {\n",
    "        goto error;\n",
    "    }\n",
    "\n",
    "    if (allocation_size > 0) {\n",
    "        list->data = aws_mem_acquire(alloc, allocation_size);\n",
    "        if (!list->data) {\n",
    "            goto error;\n",
    "        }\n",
    "#ifdef DEBUG_BUILD\n",
    "        memset(list->data, AWS_ARRAY_LIST_DEBUG_FILL, allocation_size);\n",
    "\n",
    "#endif\n",
    "        list->current_size = allocation_size;\n",
    "    }\n",
    "    list->item_size = item_size;\n",
    "    list->alloc = alloc;\n",
    "\n",
    "    AWS_FATAL_POSTCONDITION(list->current_size == 0 || list->data);\n",
    "    AWS_POSTCONDITION(aws_array_list_is_valid(list));\n",
    "    return AWS_OP_SUCCESS;\n",
    "\n",
    "error:\n",
    "    AWS_POSTCONDITION(AWS_IS_ZEROED(*list));\n",
    "    return AWS_OP_ERR;\n",
    "}"
   ]
  },
  {
   "cell_type": "code",
   "execution_count": null,
   "metadata": {},
   "outputs": [],
   "source": [
    "%%file /tmp/aws_array_list_init_dynamic.c\n",
    "// https://github.com/awslabs/aws-c-common/blob/main/verification/cbmc/proofs/aws_array_list_init_dynamic/aws_array_list_init_dynamic_harness.c\n",
    "/**\n",
    " * Copyright Amazon.com, Inc. or its affiliates. All Rights Reserved.\n",
    " * SPDX-License-Identifier: Apache-2.0.\n",
    " */\n",
    "\n",
    "#include <aws/common/array_list.h>\n",
    "#include <proof_helpers/make_common_data_structures.h>\n",
    "\n",
    "/**\n",
    " * Runtime: 6s\n",
    " */\n",
    "void aws_array_list_init_dynamic_harness() {\n",
    "    /* data structure */\n",
    "    struct aws_array_list list; /* Precondition: list is non-null */\n",
    "\n",
    "    /* parameters */\n",
    "    struct aws_allocator *allocator = aws_default_allocator(); /* Precondition: allocator is non-null */\n",
    "    size_t item_size;\n",
    "    size_t initial_item_allocation;\n",
    "\n",
    "    /* assumptions */\n",
    "    __CPROVER_assume(initial_item_allocation <= MAX_INITIAL_ITEM_ALLOCATION);\n",
    "    __CPROVER_assume(item_size > 0 && item_size <= MAX_ITEM_SIZE);\n",
    "\n",
    "    /* perform operation under verification */\n",
    "    if (aws_array_list_init_dynamic(&list, allocator, initial_item_allocation, item_size) == AWS_OP_SUCCESS) {\n",
    "        /* assertions */\n",
    "        assert(aws_array_list_is_valid(&list));\n",
    "        assert(list.alloc == allocator);\n",
    "        assert(list.item_size == item_size);\n",
    "        assert(list.length == 0);\n",
    "        assert(list.current_size == item_size * initial_item_allocation);\n",
    "    } else {\n",
    "        /*assertions */\n",
    "        assert(AWS_IS_ZEROED(list));\n",
    "    }\n",
    "}\n"
   ]
  },
  {
   "cell_type": "code",
   "execution_count": 38,
   "metadata": {},
   "outputs": [
    {
     "name": "stdout",
     "output_type": "stream",
     "text": [
      "Overwriting /tmp/float1.c\n"
     ]
    }
   ],
   "source": [
    "%%file /tmp/float1.c\n",
    "\n",
    "float calc1(float a, float b) {\n",
    "    return a*a + b; // originally 2*a + b. Could try pi or something\n",
    "}\n",
    "\n",
    "double calc2(double a, double b) {\n",
    "    return a*a + b;\n",
    "}\n",
    "\n",
    "int main(){\n",
    "    float a,b;\n",
    "    __CPROVER_assume( 1 < a && a < 2 && 1 < b && b < 2);\n",
    "    double a1 = a;\n",
    "    double b1 = b;\n",
    "    float res1 = calc1(a,b);\n",
    "    //float res2 = calc1(a,b); \n",
    "    float res2 = calc2(a1,b1);\n",
    "    assert(res1 >= res2 - 1e-2 && res1 <= res2 + 1e-2); \n",
    "    //assert(res2 == res1);\n",
    "    return 0;\n",
    "}"
   ]
  },
  {
   "cell_type": "code",
   "execution_count": 39,
   "metadata": {},
   "outputs": [
    {
     "name": "stdout",
     "output_type": "stream",
     "text": [
      "CBMC version 6.0.1 (cbmc-6.0.1-5-g54c20cdb91) 64-bit x86_64 linux\n",
      "Type-checking float1\n",
      "file /tmp/float1.c line 18 function main: function 'assert' is not declared\n",
      "Generating GOTO Program\n",
      "Adding CPROVER library (x86_64)\n",
      "Removal of function pointers and virtual functions\n",
      "Generic Property Instrumentation\n",
      "Starting Bounded Model Checking\n",
      "Passing problem to propositional reduction\n",
      "converting SSA\n",
      "Running propositional reduction\n",
      "SAT checker: instance is UNSATISFIABLE\n",
      "\n",
      "** Results:\n",
      "/tmp/float1.c function main\n",
      "\u001b[2m[main.assertion.1] \u001b[0mline 18 assertion (double)res1 >= (double)res2 - 0.01 && (double)res1 <= (double)res2 + 0.01: \u001b[32mSUCCESS\u001b[0m\n",
      "\n",
      "** 0 of 1 failed (1 iterations)\n",
      "VERIFICATION SUCCESSFUL\n"
     ]
    }
   ],
   "source": [
    "! cbmc /tmp/float1.c --trace"
   ]
  }
 ],
 "metadata": {
  "kernelspec": {
   "display_name": "Python 3",
   "language": "python",
   "name": "python3"
  },
  "language_info": {
   "codemirror_mode": {
    "name": "ipython",
    "version": 3
   },
   "file_extension": ".py",
   "mimetype": "text/x-python",
   "name": "python",
   "nbconvert_exporter": "python",
   "pygments_lexer": "ipython3",
   "version": "3.10.12"
  }
 },
 "nbformat": 4,
 "nbformat_minor": 2
}
