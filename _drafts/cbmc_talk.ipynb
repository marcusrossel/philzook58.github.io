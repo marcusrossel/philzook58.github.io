{
 "cells": [
  {
   "cell_type": "code",
   "execution_count": null,
   "metadata": {},
   "outputs": [],
   "source": []
  },
  {
   "cell_type": "markdown",
   "metadata": {},
   "source": [
    "What I have in the first tutorial is pretty good.\n",
    "Download cbmc 6\n",
    "\n",
    "Look into floating point stuff at the same time?\n",
    "Simpler?\n",
    "PID\n",
    "Kalman\n",
    "Kepler / Baylonian\n",
    "\n"
   ]
  },
  {
   "cell_type": "code",
   "execution_count": 38,
   "metadata": {},
   "outputs": [
    {
     "name": "stdout",
     "output_type": "stream",
     "text": [
      "Overwriting /tmp/float1.c\n"
     ]
    }
   ],
   "source": [
    "%%file /tmp/float1.c\n",
    "\n",
    "float calc1(float a, float b) {\n",
    "    return a*a + b; // originally 2*a + b. Could try pi or something\n",
    "}\n",
    "\n",
    "double calc2(double a, double b) {\n",
    "    return a*a + b;\n",
    "}\n",
    "\n",
    "int main(){\n",
    "    float a,b;\n",
    "    __CPROVER_assume( 1 < a && a < 2 && 1 < b && b < 2);\n",
    "    double a1 = a;\n",
    "    double b1 = b;\n",
    "    float res1 = calc1(a,b);\n",
    "    //float res2 = calc1(a,b); \n",
    "    float res2 = calc2(a1,b1);\n",
    "    assert(res1 >= res2 - 1e-2 && res1 <= res2 + 1e-2); \n",
    "    //assert(res2 == res1);\n",
    "    return 0;\n",
    "}"
   ]
  },
  {
   "cell_type": "code",
   "execution_count": 39,
   "metadata": {},
   "outputs": [
    {
     "name": "stdout",
     "output_type": "stream",
     "text": [
      "CBMC version 6.0.1 (cbmc-6.0.1-5-g54c20cdb91) 64-bit x86_64 linux\n",
      "Type-checking float1\n",
      "file /tmp/float1.c line 18 function main: function 'assert' is not declared\n",
      "Generating GOTO Program\n",
      "Adding CPROVER library (x86_64)\n",
      "Removal of function pointers and virtual functions\n",
      "Generic Property Instrumentation\n",
      "Starting Bounded Model Checking\n",
      "Passing problem to propositional reduction\n",
      "converting SSA\n",
      "Running propositional reduction\n",
      "SAT checker: instance is UNSATISFIABLE\n",
      "\n",
      "** Results:\n",
      "/tmp/float1.c function main\n",
      "\u001b[2m[main.assertion.1] \u001b[0mline 18 assertion (double)res1 >= (double)res2 - 0.01 && (double)res1 <= (double)res2 + 0.01: \u001b[32mSUCCESS\u001b[0m\n",
      "\n",
      "** 0 of 1 failed (1 iterations)\n",
      "VERIFICATION SUCCESSFUL\n"
     ]
    }
   ],
   "source": [
    "! cbmc /tmp/float1.c --trace"
   ]
  },
  {
   "cell_type": "code",
   "execution_count": null,
   "metadata": {},
   "outputs": [],
   "source": [
    "%%file /tmp/vec2.c\n",
    "\n",
    "#include <assert.h>\n",
    "#include <math.h>\n",
    "float dot_f(float[2] a, float[2]b) {\n",
    "    return a[0]*b[0] + a[1]*b[1];\n",
    "}\n",
    "\n",
    "double dot_d(double[2] a, double[2]b) {\n",
    "    return a[0]*b[0] + a[1]*b[1];\n",
    "}\n",
    "\n",
    "int main(){\n",
    "    float a[2],b[2];\n",
    "    double a1[2] = {a[0], a[1]};\n",
    "    double b1[2] = {b[0], b[1]};\n",
    "    float res1 = dot_f(a,b);\n",
    "    double res2 = dot_d(a1,b1);\n",
    "    assert(res1 >= res2 - 1e-6 && res1 <= res2 + 1e-6); \n",
    "    return 0;\n",
    "}"
   ]
  },
  {
   "cell_type": "markdown",
   "metadata": {},
   "source": [
    "cross product.\n",
    "abs\n",
    "add\n",
    "rotation\n",
    "quaternion\n",
    "\n",
    "knuckledragger?\n",
    "\n",
    "halide?\n",
    "Something image?"
   ]
  }
 ],
 "metadata": {
  "kernelspec": {
   "display_name": "Python 3",
   "language": "python",
   "name": "python3"
  },
  "language_info": {
   "codemirror_mode": {
    "name": "ipython",
    "version": 3
   },
   "file_extension": ".py",
   "mimetype": "text/x-python",
   "name": "python",
   "nbconvert_exporter": "python",
   "pygments_lexer": "ipython3",
   "version": "3.10.12"
  }
 },
 "nbformat": 4,
 "nbformat_minor": 2
}
