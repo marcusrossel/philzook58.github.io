{
 "cells": [
  {
   "cell_type": "code",
   "execution_count": null,
   "metadata": {},
   "outputs": [],
   "source": []
  },
  {
   "cell_type": "markdown",
   "metadata": {},
   "source": [
    "What I have in the first tutorial is pretty good.\n",
    "Download cbmc 6\n",
    "\n",
    "Look into floating point stuff at the same time?\n",
    "Simpler?\n",
    "PID\n",
    "Kalman\n",
    "\n",
    "\n"
   ]
  },
  {
   "cell_type": "code",
   "execution_count": null,
   "metadata": {},
   "outputs": [],
   "source": [
    "%%file /tmp/float1.c\n",
    "\n",
    "float calc1(float a, float b) {\n",
    "    return 2*a + b;\n",
    "}\n",
    "\n",
    "double calc2(double a, double b) {\n",
    "    return 2*a + b;\n",
    "}\n",
    "\n",
    "int main(){\n",
    "    float a,b;\n",
    "    double a1 = a;\n",
    "    double b1 = b;\n",
    "    float res1 = calc1(a,b);\n",
    "    double res2 = calc2(a1,b1);\n",
    "    assert(res1 >= res2 - 1e-6 && res1 <= res2 + 1e-6); \n",
    "    return 0;\n",
    "}"
   ]
  },
  {
   "cell_type": "code",
   "execution_count": null,
   "metadata": {},
   "outputs": [],
   "source": [
    "! cbmc /tmp/float1.c"
   ]
  },
  {
   "cell_type": "code",
   "execution_count": null,
   "metadata": {},
   "outputs": [],
   "source": [
    "%%file /tmp/vec2.c\n",
    "\n",
    "#include <assert.h>\n",
    "#include <math.h>\n",
    "float dot_f(float[2] a, float[2]b) {\n",
    "    return a[0]*b[0] + a[1]*b[1];\n",
    "}\n",
    "\n",
    "double dot_d(double[2] a, double[2]b) {\n",
    "    return a[0]*b[0] + a[1]*b[1];\n",
    "}\n",
    "\n",
    "int main(){\n",
    "    float a[2],b[2];\n",
    "    double a1[2] = {a[0], a[1]};\n",
    "    double b1[2] = {b[0], b[1]};\n",
    "    float res1 = dot_f(a,b);\n",
    "    double res2 = dot_d(a1,b1);\n",
    "    assert(res1 >= res2 - 1e-6 && res1 <= res2 + 1e-6); \n",
    "    return 0;\n",
    "}"
   ]
  }
 ],
 "metadata": {
  "language_info": {
   "name": "python"
  }
 },
 "nbformat": 4,
 "nbformat_minor": 2
}
