{
 "cells": [
  {
   "cell_type": "code",
   "execution_count": null,
   "metadata": {},
   "outputs": [],
   "source": []
  },
  {
   "cell_type": "markdown",
   "metadata": {},
   "source": [
    "What I have in the first tutorial is pretty good.\n",
    "Download cbmc 6\n",
    "\n",
    "Look into floating point stuff at the same time?\n",
    "Simpler?\n",
    "PID\n",
    "Kalman\n",
    "Kepler / Baylonian\n",
    "\n",
    "https://haslab.github.io/MFES/2122/CBMCexamples-handout.pdf\n",
    "\n"
   ]
  },
  {
   "cell_type": "code",
   "execution_count": 40,
   "metadata": {},
   "outputs": [
    {
     "name": "stdout",
     "output_type": "stream",
     "text": [
      "Writing /tmp/ex1.c\n"
     ]
    }
   ],
   "source": [
    "%%file /tmp/ex1.c\n",
    "void main (void)\n",
    "{\n",
    " int x;\n",
    " int y=8, z=0, w=0;\n",
    " if (x)\n",
    "    z = y - 1;\n",
    " else\n",
    "    w = y + 1;\n",
    " assert (z == 7 || w == 9);\n",
    "}"
   ]
  },
  {
   "cell_type": "code",
   "execution_count": 42,
   "metadata": {},
   "outputs": [
    {
     "name": "stdout",
     "output_type": "stream",
     "text": [
      "CBMC version 6.0.1 (cbmc-6.0.1-5-g54c20cdb91) 64-bit x86_64 linux\n",
      "Type-checking ex1\n",
      "file /tmp/ex1.c line 9 function main: function 'assert' is not declared\n",
      "Generating GOTO Program\n",
      "Adding CPROVER library (x86_64)\n",
      "Removal of function pointers and virtual functions\n",
      "Generic Property Instrumentation\n",
      "Starting Bounded Model Checking\n",
      "VERIFICATION CONDITIONS:\n",
      "\n",
      "file /tmp/ex1.c line 9 function main\n",
      "assertion z == 7 || w == 9\n",
      "\u001b[2m{-1} \u001b[0m__CPROVER_dead_object#1 = NULL\n",
      "\u001b[2m{-2} \u001b[0m__CPROVER_deallocated#1 = NULL\n",
      "\u001b[2m{-3} \u001b[0m__CPROVER_max_malloc_size!0#1 = 36028797018963968\n",
      "\u001b[2m{-4} \u001b[0m__CPROVER_memory_leak#1 = NULL\n",
      "\u001b[2m{-5} \u001b[0m__CPROVER_rounding_mode!0#1 = 0\n",
      "\u001b[2m{-6} \u001b[0mmain::1::y!0@1#2 = 8\n",
      "\u001b[2m{-7} \u001b[0mmain::1::z!0@1#2 = 0\n",
      "\u001b[2m{-8} \u001b[0mmain::1::w!0@1#2 = 0\n",
      "\u001b[2m{-9} \u001b[0mgoto_symex::\\guard#1 ⇔ ¬(main::1::x!0@1#1 = 0)\n",
      "\u001b[2m{-10} \u001b[0mmain::1::z!0@1#3 = 7\n",
      "\u001b[2m{-11} \u001b[0mmain::1::w!0@1#3 = 9\n",
      "\u001b[2m{-12} \u001b[0mmain::1::x!0@1#3 = (goto_symex::\\guard#1 ? main::1::x!0@1#1 : 0)\n",
      "\u001b[2m{-13} \u001b[0mmain::1::z!0@1#4 = (goto_symex::\\guard#1 ? 7 : 0)\n",
      "\u001b[2m{-14} \u001b[0mmain::1::w!0@1#4 = (goto_symex::\\guard#1 ? 0 : 9)\n",
      "\u001b[2m├──────────────────────────\u001b[0m\n",
      "\u001b[2m{1} \u001b[0mmain::1::z!0@1#4 = 7\n",
      "\u001b[2m{2} \u001b[0mmain::1::w!0@1#4 = 9\n",
      "\n"
     ]
    }
   ],
   "source": [
    "! cbmc /tmp/ex1.c --show-vcc"
   ]
  },
  {
   "cell_type": "code",
   "execution_count": 43,
   "metadata": {},
   "outputs": [
    {
     "name": "stdout",
     "output_type": "stream",
     "text": [
      "Writing /tmp/ex2.c\n"
     ]
    }
   ],
   "source": [
    "%%file /tmp/ex2.c\n",
    "void main (void)\n",
    "{\n",
    " int x;\n",
    " int y=8, z=0, w=0;\n",
    " if (x)\n",
    " z = y - 1;\n",
    " else\n",
    " w = y + 1;\n",
    " assert (z == 5 || w == 9);\n",
    "}\n"
   ]
  },
  {
   "cell_type": "code",
   "execution_count": 45,
   "metadata": {},
   "outputs": [
    {
     "name": "stdout",
     "output_type": "stream",
     "text": [
      "CBMC version 6.0.1 (cbmc-6.0.1-5-g54c20cdb91) 64-bit x86_64 linux\n",
      "Type-checking ex2\n",
      "file /tmp/ex2.c line 9 function main: function 'assert' is not declared\n",
      "Generating GOTO Program\n",
      "Adding CPROVER library (x86_64)\n",
      "Removal of function pointers and virtual functions\n",
      "Generic Property Instrumentation\n",
      "Starting Bounded Model Checking\n",
      "Passing problem to propositional reduction\n",
      "converting SSA\n",
      "Running propositional reduction\n",
      "SAT checker: instance is SATISFIABLE\n",
      "Building error trace\n",
      "\n",
      "** Results:\n",
      "/tmp/ex2.c function main\n",
      "\u001b[2m[main.overflow.1] \u001b[0mline 6 arithmetic overflow on signed - in y - 1: \u001b[32mSUCCESS\u001b[0m\n",
      "\u001b[2m[main.overflow.2] \u001b[0mline 8 arithmetic overflow on signed + in y + 1: \u001b[32mSUCCESS\u001b[0m\n",
      "\u001b[2m[main.assertion.1] \u001b[0mline 9 assertion z == 5 || w == 9: \u001b[31mFAILURE\u001b[0m\n",
      "\n",
      "Trace for main.assertion.1:\n",
      "\n",
      "State 11 file /tmp/ex2.c function main line 3 thread 0\n",
      "----------------------------------------------------\n",
      "  x=1024 \u001b[2m(00000000 00000000 00000100 00000000)\u001b[0m\n",
      "\n",
      "State 13 file /tmp/ex2.c function main line 4 thread 0\n",
      "----------------------------------------------------\n",
      "  y=8 \u001b[2m(00000000 00000000 00000000 00001000)\u001b[0m\n",
      "\n",
      "State 15 file /tmp/ex2.c function main line 4 thread 0\n",
      "----------------------------------------------------\n",
      "  z=0 \u001b[2m(00000000 00000000 00000000 00000000)\u001b[0m\n",
      "\n",
      "State 17 file /tmp/ex2.c function main line 4 thread 0\n",
      "----------------------------------------------------\n",
      "  w=0 \u001b[2m(00000000 00000000 00000000 00000000)\u001b[0m\n",
      "\n",
      "State 19 file /tmp/ex2.c function main line 6 thread 0\n",
      "----------------------------------------------------\n",
      "  z=7 \u001b[2m(00000000 00000000 00000000 00000111)\u001b[0m\n",
      "\n",
      "\u001b[31mViolated property:\u001b[0m\n",
      "  file /tmp/ex2.c function main line 9 thread 0\n",
      "  \u001b[31massertion z == 5 || w == 9\u001b[0m\n",
      "  z == 5 || w == 9\n",
      "\n",
      "\n",
      "\n",
      "** 1 of 3 failed (2 iterations)\n",
      "VERIFICATION FAILED\n"
     ]
    }
   ],
   "source": [
    "! cbmc /tmp/ex2.c --trace"
   ]
  },
  {
   "cell_type": "markdown",
   "metadata": {},
   "source": [
    "https://github.com/awslabs/aws-c-common/blob/main/include/aws/common/assert.h \n",
    "This is an interesting file. They replace assume with forms of __builtin_unreachable. What does gcc do with that? Does that enhance optimizations?\n",
    "\n",
    "```\n",
    "\n",
    "\n",
    "```"
   ]
  },
  {
   "cell_type": "code",
   "execution_count": null,
   "metadata": {},
   "outputs": [],
   "source": [
    "%%file /tmp/array_list.inl\n",
    "\n",
    "AWS_STATIC_IMPL\n",
    "int aws_array_list_init_dynamic(\n",
    "    struct aws_array_list *AWS_RESTRICT list,\n",
    "    struct aws_allocator *alloc,\n",
    "    size_t initial_item_allocation,\n",
    "    size_t item_size) {\n",
    "\n",
    "    AWS_FATAL_PRECONDITION(list != NULL); // mostly wrapper for __CProver_precondition\n",
    "    AWS_FATAL_PRECONDITION(alloc != NULL);\n",
    "    AWS_FATAL_PRECONDITION(item_size > 0);\n",
    "\n",
    "    AWS_ZERO_STRUCT(*list);\n",
    "\n",
    "    size_t allocation_size = 0;\n",
    "    if (aws_mul_size_checked(initial_item_allocation, item_size, &allocation_size)) {\n",
    "        goto error;\n",
    "    }\n",
    "\n",
    "    if (allocation_size > 0) {\n",
    "        list->data = aws_mem_acquire(alloc, allocation_size);\n",
    "        if (!list->data) {\n",
    "            goto error;\n",
    "        }\n",
    "#ifdef DEBUG_BUILD\n",
    "        memset(list->data, AWS_ARRAY_LIST_DEBUG_FILL, allocation_size);\n",
    "\n",
    "#endif\n",
    "        list->current_size = allocation_size;\n",
    "    }\n",
    "    list->item_size = item_size;\n",
    "    list->alloc = alloc;\n",
    "\n",
    "    AWS_FATAL_POSTCONDITION(list->current_size == 0 || list->data);\n",
    "    AWS_POSTCONDITION(aws_array_list_is_valid(list));\n",
    "    return AWS_OP_SUCCESS;\n",
    "\n",
    "error:\n",
    "    AWS_POSTCONDITION(AWS_IS_ZEROED(*list));\n",
    "    return AWS_OP_ERR;\n",
    "}"
   ]
  },
  {
   "cell_type": "code",
   "execution_count": null,
   "metadata": {},
   "outputs": [],
   "source": [
    "%%file /tmp/aws_array_list_init_dynamic.c\n",
    "// https://github.com/awslabs/aws-c-common/blob/main/verification/cbmc/proofs/aws_array_list_init_dynamic/aws_array_list_init_dynamic_harness.c\n",
    "/**\n",
    " * Copyright Amazon.com, Inc. or its affiliates. All Rights Reserved.\n",
    " * SPDX-License-Identifier: Apache-2.0.\n",
    " */\n",
    "\n",
    "#include <aws/common/array_list.h>\n",
    "#include <proof_helpers/make_common_data_structures.h>\n",
    "\n",
    "/**\n",
    " * Runtime: 6s\n",
    " */\n",
    "void aws_array_list_init_dynamic_harness() {\n",
    "    /* data structure */\n",
    "    struct aws_array_list list; /* Precondition: list is non-null */\n",
    "\n",
    "    /* parameters */\n",
    "    struct aws_allocator *allocator = aws_default_allocator(); /* Precondition: allocator is non-null */\n",
    "    size_t item_size;\n",
    "    size_t initial_item_allocation;\n",
    "\n",
    "    /* assumptions */\n",
    "    __CPROVER_assume(initial_item_allocation <= MAX_INITIAL_ITEM_ALLOCATION);\n",
    "    __CPROVER_assume(item_size > 0 && item_size <= MAX_ITEM_SIZE);\n",
    "\n",
    "    /* perform operation under verification */\n",
    "    if (aws_array_list_init_dynamic(&list, allocator, initial_item_allocation, item_size) == AWS_OP_SUCCESS) {\n",
    "        /* assertions */\n",
    "        assert(aws_array_list_is_valid(&list));\n",
    "        assert(list.alloc == allocator);\n",
    "        assert(list.item_size == item_size);\n",
    "        assert(list.length == 0);\n",
    "        assert(list.current_size == item_size * initial_item_allocation);\n",
    "    } else {\n",
    "        /*assertions */\n",
    "        assert(AWS_IS_ZEROED(list));\n",
    "    }\n",
    "}\n"
   ]
  },
  {
   "cell_type": "code",
   "execution_count": 38,
   "metadata": {},
   "outputs": [
    {
     "name": "stdout",
     "output_type": "stream",
     "text": [
      "Overwriting /tmp/float1.c\n"
     ]
    }
   ],
   "source": [
    "%%file /tmp/float1.c\n",
    "\n",
    "float calc1(float a, float b) {\n",
    "    return a*a + b; // originally 2*a + b. Could try pi or something\n",
    "}\n",
    "\n",
    "double calc2(double a, double b) {\n",
    "    return a*a + b;\n",
    "}\n",
    "\n",
    "int main(){\n",
    "    float a,b;\n",
    "    __CPROVER_assume( 1 < a && a < 2 && 1 < b && b < 2);\n",
    "    double a1 = a;\n",
    "    double b1 = b;\n",
    "    float res1 = calc1(a,b);\n",
    "    //float res2 = calc1(a,b); \n",
    "    float res2 = calc2(a1,b1);\n",
    "    assert(res1 >= res2 - 1e-2 && res1 <= res2 + 1e-2); \n",
    "    //assert(res2 == res1);\n",
    "    return 0;\n",
    "}"
   ]
  },
  {
   "cell_type": "code",
   "execution_count": 39,
   "metadata": {},
   "outputs": [
    {
     "name": "stdout",
     "output_type": "stream",
     "text": [
      "CBMC version 6.0.1 (cbmc-6.0.1-5-g54c20cdb91) 64-bit x86_64 linux\n",
      "Type-checking float1\n",
      "file /tmp/float1.c line 18 function main: function 'assert' is not declared\n",
      "Generating GOTO Program\n",
      "Adding CPROVER library (x86_64)\n",
      "Removal of function pointers and virtual functions\n",
      "Generic Property Instrumentation\n",
      "Starting Bounded Model Checking\n",
      "Passing problem to propositional reduction\n",
      "converting SSA\n",
      "Running propositional reduction\n",
      "SAT checker: instance is UNSATISFIABLE\n",
      "\n",
      "** Results:\n",
      "/tmp/float1.c function main\n",
      "\u001b[2m[main.assertion.1] \u001b[0mline 18 assertion (double)res1 >= (double)res2 - 0.01 && (double)res1 <= (double)res2 + 0.01: \u001b[32mSUCCESS\u001b[0m\n",
      "\n",
      "** 0 of 1 failed (1 iterations)\n",
      "VERIFICATION SUCCESSFUL\n"
     ]
    }
   ],
   "source": [
    "! cbmc /tmp/float1.c --trace"
   ]
  },
  {
   "cell_type": "code",
   "execution_count": null,
   "metadata": {},
   "outputs": [],
   "source": [
    "%%file /tmp/vec2.c\n",
    "\n",
    "#include <assert.h>\n",
    "#include <math.h>\n",
    "float dot_f(float[2] a, float[2]b) {\n",
    "    return a[0]*b[0] + a[1]*b[1];\n",
    "}\n",
    "\n",
    "double dot_d(double[2] a, double[2]b) {\n",
    "    return a[0]*b[0] + a[1]*b[1];\n",
    "}\n",
    "\n",
    "int main(){\n",
    "    float a[2],b[2];\n",
    "    double a1[2] = {a[0], a[1]};\n",
    "    double b1[2] = {b[0], b[1]};\n",
    "    float res1 = dot_f(a,b);\n",
    "    double res2 = dot_d(a1,b1);\n",
    "    assert(res1 >= res2 - 1e-6 && res1 <= res2 + 1e-6); \n",
    "    return 0;\n",
    "}"
   ]
  },
  {
   "cell_type": "markdown",
   "metadata": {},
   "source": [
    "cross product.\n",
    "abs\n",
    "add\n",
    "rotation\n",
    "quaternion\n",
    "\n",
    "knuckledragger?\n",
    "\n",
    "halide?\n",
    "Something image?"
   ]
  }
 ],
 "metadata": {
  "kernelspec": {
   "display_name": "Python 3",
   "language": "python",
   "name": "python3"
  },
  "language_info": {
   "codemirror_mode": {
    "name": "ipython",
    "version": 3
   },
   "file_extension": ".py",
   "mimetype": "text/x-python",
   "name": "python",
   "nbconvert_exporter": "python",
   "pygments_lexer": "ipython3",
   "version": "3.10.12"
  }
 },
 "nbformat": 4,
 "nbformat_minor": 2
}
