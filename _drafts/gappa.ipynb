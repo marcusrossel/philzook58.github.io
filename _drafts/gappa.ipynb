{
 "cells": [
  {
   "cell_type": "code",
   "execution_count": null,
   "metadata": {},
   "outputs": [],
   "source": []
  },
  {
   "cell_type": "markdown",
   "metadata": {},
   "source": [
    "https://gappa.gitlabpages.inria.fr/gappa/index.html\n",
    "I wrote that souffle version\n",
    "Herbie is related.\n",
    "\n",
    "Can I make a toy gappa.\n",
    "Numpy analysys?\n",
    "\n"
   ]
  },
  {
   "cell_type": "markdown",
   "metadata": {},
   "source": [
    "metitarski\n",
    "https://www.cl.cam.ac.uk/~lp15/papers/Arith/download.html\n",
    "\n",
    "Interesting axiom and problem sets\n",
    "qepcad\n",
    "\n",
    "https://vimeo.com/278632336 chris brown cylindrical algerbaic decomposition., SC2 summer school. satisfiability and symbolic compuitation\n"
   ]
  },
  {
   "cell_type": "code",
   "execution_count": null,
   "metadata": {},
   "outputs": [],
   "source": []
  },
  {
   "cell_type": "code",
   "execution_count": null,
   "metadata": {},
   "outputs": [],
   "source": [
    "! metit "
   ]
  }
 ],
 "metadata": {
  "language_info": {
   "name": "python"
  }
 },
 "nbformat": 4,
 "nbformat_minor": 2
}
