{
 "cells": [
  {
   "cell_type": "code",
   "execution_count": null,
   "metadata": {},
   "outputs": [],
   "source": []
  },
  {
   "cell_type": "markdown",
   "metadata": {},
   "source": [
    "The first thing to do is do our hydrogen kata. It's been a while\n",
    "\n",
    "The schrodinger equations\n",
    "\n",
    "f(kx - omega t)\n",
    "\n",
    "$$ \\hat{p} = \\frac{\\hbar}{i} \\partial_x $$ \n",
    "\n",
    "The sign on this is hard to remember\n",
    "\n",
    "$$ \\hat{H} = \\frac{\\hat{p}^2}{2 m} + V(r) $$\n",
    "\n",
    "$$ E \\psi = \\frac{-\\hbar^2}{2 m}\\nabla^2 \\psi + V(r) \\psi $$\n",
    "\n",
    "$$ V(r) =  - \\frac{e^2}{4 \\pi \\epsilon_0 r} $$\n",
    "\n",
    "\n",
    "Units in python?\n",
    "Look up these constants. What are the appropriate unitless guys\n",
    "\n",
    "Bohr Atom\n",
    "\n",
    "$$ \\hbar \\lambda / 2 \\pi = p = v / m $$ \n",
    "$$ 2 \\pi r = n \\lambda $$\n",
    "$$ \\frac{m v^2}{r} = \\frac{k e^2}{r^2} $$ \n",
    "centripetal acceleration balanced by colomb force\n",
    "\n",
    "\n",
    "\n",
    "\n",
    "Expand out hydrogen solutions.\n",
    "\n",
    "H_2 would similarly be cool.\n",
    "\n",
    "http://www.scholarpedia.org/article/Semiclassical_theory_of_helium_atom\n",
    "Gutzwiller formula and quantum chaos\n",
    "\n",
    "\n"
   ]
  },
  {
   "cell_type": "code",
   "execution_count": 14,
   "metadata": {},
   "outputs": [
    {
     "data": {
      "text/plain": [
       "[Eq(m*v, p), Eq(h*l/(2*pi), p), Eq(m*v**2/r, e**2*k/r**2), Eq(l*n, 2*pi*r)]"
      ]
     },
     "execution_count": 14,
     "metadata": {},
     "output_type": "execute_result"
    }
   ],
   "source": [
    "from sympy.abc import *\n",
    "import sympy\n",
    "eq = [\n",
    "sympy.Eq(m * v, p),\n",
    "sympy.Eq(h * l / 2 / pi, p),\n",
    "sympy.Eq(m * v * v / r, k * e * e / r / r),\n",
    "sympy.Eq(n * l, 2 * pi * r)]\n",
    "eq\n",
    "#sympy.solve(eq, [l, r, p, v], dict=True)"
   ]
  },
  {
   "cell_type": "code",
   "execution_count": 32,
   "metadata": {},
   "outputs": [],
   "source": [
    "from sympy import init_printing\n",
    "init_printing() "
   ]
  },
  {
   "cell_type": "code",
   "execution_count": 36,
   "metadata": {},
   "outputs": [
    {
     "name": "stderr",
     "output_type": "stream",
     "text": [
      "/home/philip/.local/lib/python3.10/site-packages/matplotlib/projections/__init__.py:63: UserWarning: Unable to import Axes3D. This may be due to multiple versions of Matplotlib being installed (e.g. as a system package and as a pip package). As a result, the 3D projection is not available.\n",
      "  warnings.warn(\"Unable to import Axes3D. This may be due to multiple versions of \"\n"
     ]
    },
    {
     "data": {
      "image/png": "[encoded data removed]",
      "text/latex": [
       "$\\displaystyle \\int\\limits_{0}^{1} \\left(\\left(- x + \\int\\limits_{0}^{1} x p{\\left(x \\right)}\\, dx\\right)^{2}\\right) p{\\left(x \\right)}\\, dx$"
      ],
      "text/plain": [
       "1                            \n",
       "⌠                            \n",
       "⎮                   2        \n",
       "⎮ ⎛     1          ⎞         \n",
       "⎮ ⎜     ⌠          ⎟         \n",
       "⎮ ⎜-x + ⎮ x⋅p(x) dx⎟ ⋅p(x) dx\n",
       "⎮ ⎜     ⌡          ⎟         \n",
       "⎮ ⎝     0          ⎠         \n",
       "⌡                            \n",
       "0                            "
      ]
     },
     "execution_count": 36,
     "metadata": {},
     "output_type": "execute_result"
    }
   ],
   "source": [
    "p = sympy.Function(\"p\")(x)\n",
    "sympy.Integral(p, x)\n",
    "def E(expr):\n",
    "    return sympy.integrate(expr * p, (x, 0, 1))\n",
    "\n",
    "dx = x - E(x)\n",
    "sig2 = E(dx**2)\n",
    "\n",
    "sig2\n"
   ]
  },
  {
   "cell_type": "code",
   "execution_count": 41,
   "metadata": {},
   "outputs": [
    {
     "name": "stdout",
     "output_type": "stream",
     "text": [
      "Integral((-x + Integral(x*p(x), (x, 0, 1)))**2*p(x), (x, 0, 1)) == Integral((-x + Integral(x*p(x), (x, 0, 1)))**2*p(x), (x, 0, 1))\n",
      "Integral((-x + Integral(x*p(x), (x, 0, 1)))**2*p(x), (x, 0, 1)) == -(Integral(2*x*p(x), (x, 0, 1)) + Integral(p(x)*Integral(x*p(x), (x, 0, 1)), (x, 0, 1)))*Integral(x*p(x), (x, 0, 1)) + Integral(x**2*p(x), (x, 0, 1))\n"
     ]
    },
    {
     "ename": "AssertionError",
     "evalue": "",
     "output_type": "error",
     "traceback": [
      "\u001b[0;31m---------------------------------------------------------------------------\u001b[0m",
      "\u001b[0;31mAssertionError\u001b[0m                            Traceback (most recent call last)",
      "Cell \u001b[0;32mIn[41], line 9\u001b[0m\n\u001b[1;32m      7\u001b[0m prev \u001b[38;5;241m=\u001b[39m sig2\n\u001b[1;32m      8\u001b[0m rw(E(x\u001b[38;5;241m*\u001b[39m\u001b[38;5;241m*\u001b[39m\u001b[38;5;241m2\u001b[39m \u001b[38;5;241m-\u001b[39m \u001b[38;5;241m2\u001b[39m \u001b[38;5;241m*\u001b[39m E(x) \u001b[38;5;241m*\u001b[39m x \u001b[38;5;241m+\u001b[39m E(x)\u001b[38;5;241m*\u001b[39m\u001b[38;5;241m*\u001b[39m\u001b[38;5;241m2\u001b[39m))\n\u001b[0;32m----> 9\u001b[0m \u001b[43mrw\u001b[49m\u001b[43m(\u001b[49m\u001b[43mE\u001b[49m\u001b[43m(\u001b[49m\u001b[43mx\u001b[49m\u001b[38;5;241;43m*\u001b[39;49m\u001b[38;5;241;43m*\u001b[39;49m\u001b[38;5;241;43m2\u001b[39;49m\u001b[43m)\u001b[49m\u001b[43m \u001b[49m\u001b[38;5;241;43m-\u001b[39;49m\u001b[43m \u001b[49m\u001b[43mE\u001b[49m\u001b[43m(\u001b[49m\u001b[38;5;241;43m2\u001b[39;49m\u001b[43m \u001b[49m\u001b[38;5;241;43m*\u001b[39;49m\u001b[43m \u001b[49m\u001b[43mE\u001b[49m\u001b[43m(\u001b[49m\u001b[43mx\u001b[49m\u001b[43m)\u001b[49m\u001b[43m \u001b[49m\u001b[38;5;241;43m*\u001b[39;49m\u001b[43m \u001b[49m\u001b[43mx\u001b[49m\u001b[43m \u001b[49m\u001b[38;5;241;43m+\u001b[39;49m\u001b[43m \u001b[49m\u001b[43mE\u001b[49m\u001b[43m(\u001b[49m\u001b[43mx\u001b[49m\u001b[43m)\u001b[49m\u001b[38;5;241;43m*\u001b[39;49m\u001b[38;5;241;43m*\u001b[39;49m\u001b[38;5;241;43m2\u001b[39;49m\u001b[43m)\u001b[49m\u001b[43m)\u001b[49m\n",
      "Cell \u001b[0;32mIn[41], line 4\u001b[0m, in \u001b[0;36mrw\u001b[0;34m(t)\u001b[0m\n\u001b[1;32m      2\u001b[0m \u001b[38;5;28;01mglobal\u001b[39;00m prev\n\u001b[1;32m      3\u001b[0m \u001b[38;5;28mprint\u001b[39m(prev, \u001b[38;5;124m\"\u001b[39m\u001b[38;5;124m==\u001b[39m\u001b[38;5;124m\"\u001b[39m, t)\n\u001b[0;32m----> 4\u001b[0m \u001b[38;5;28;01massert\u001b[39;00m sympy\u001b[38;5;241m.\u001b[39msimplify(prev \u001b[38;5;241m-\u001b[39m t)\u001b[38;5;241m.\u001b[39mexpand()\u001b[38;5;241m.\u001b[39mis_zero\n\u001b[1;32m      5\u001b[0m prev \u001b[38;5;241m=\u001b[39m t\n",
      "\u001b[0;31mAssertionError\u001b[0m: "
     ]
    }
   ],
   "source": [
    "\n",
    "\n",
    "def rw(t):\n",
    "    global prev\n",
    "    print(prev, \"==\", t)\n",
    "    assert sympy.simplify(prev - t).expand().is_zero\n",
    "    prev = t\n",
    "\n",
    "prev = sig2\n",
    "rw(E(x**2 - 2 * E(x) * x + E(x)**2))\n",
    "rw(E(x**2) - E(2 * E(x) * x + E(x)**2))\n"
   ]
  },
  {
   "cell_type": "markdown",
   "metadata": {},
   "source": [
    "Hmm. So I  could encode"
   ]
  },
  {
   "cell_type": "code",
   "execution_count": 42,
   "metadata": {},
   "outputs": [
    {
     "name": "stdout",
     "output_type": "stream",
     "text": [
      "Writing /tmp/expect.p\n"
     ]
    }
   ],
   "source": [
    "%%file /tmp/expect.p\n",
    "\n",
    "thf(randomvar_decl, type, rv : $tType).\n",
    "thf(expect_decl, type, expect : rv > $real).\n",
    "thf(xdecl, type, x : rv)."
   ]
  },
  {
   "cell_type": "markdown",
   "metadata": {},
   "source": [
    "! opam pin -k git https://github.com/sneeuwballen/zipperposition.git#master"
   ]
  },
  {
   "cell_type": "markdown",
   "metadata": {},
   "source": [
    "Quantum field theory\n",
    "Statistical field theory.\n",
    "Propagators."
   ]
  }
 ],
 "metadata": {
  "kernelspec": {
   "display_name": "Python 3",
   "language": "python",
   "name": "python3"
  },
  "language_info": {
   "codemirror_mode": {
    "name": "ipython",
    "version": 3
   },
   "file_extension": ".py",
   "mimetype": "text/x-python",
   "name": "python",
   "nbconvert_exporter": "python",
   "pygments_lexer": "ipython3",
   "version": "3.10.12"
  }
 },
 "nbformat": 4,
 "nbformat_minor": 2
}
