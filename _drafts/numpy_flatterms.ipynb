{
 "cells": [
  {
   "cell_type": "code",
   "execution_count": null,
   "metadata": {},
   "outputs": [],
   "source": []
  },
  {
   "cell_type": "markdown",
   "metadata": {},
   "source": [
    "I think I have notes about tree terms else\n",
    "APL terms\n",
    "Maybe a numpy version\n",
    "\n",
    "flatterns is simpler\n",
    "Arenas\n"
   ]
  },
  {
   "cell_type": "code",
   "execution_count": 1,
   "metadata": {},
   "outputs": [
    {
     "data": {
      "text/plain": [
       "array([('TAG', 0), ('TAG', 1), ('TAG', 2)],\n",
       "      dtype=[('A', '<U3'), ('B', '<i8')])"
      ]
     },
     "execution_count": 1,
     "metadata": {},
     "output_type": "execute_result"
    }
   ],
   "source": [
    "import numpy as np\n",
    "\n",
    "from enum import Enum\n",
    "TAG = Enum(\"TAG\", \"A B C\")\n",
    "\n",
    "np.array([(TAG.A, 0), (TAG.B, 1), (TAG.C, 2)], dtype=[(\"A\", \"U3\"), (\"B\", int)])"
   ]
  }
 ],
 "metadata": {
  "kernelspec": {
   "display_name": "Python 3",
   "language": "python",
   "name": "python3"
  },
  "language_info": {
   "codemirror_mode": {
    "name": "ipython",
    "version": 3
   },
   "file_extension": ".py",
   "mimetype": "text/x-python",
   "name": "python",
   "nbconvert_exporter": "python",
   "pygments_lexer": "ipython3",
   "version": "3.10.12"
  }
 },
 "nbformat": 4,
 "nbformat_minor": 2
}
