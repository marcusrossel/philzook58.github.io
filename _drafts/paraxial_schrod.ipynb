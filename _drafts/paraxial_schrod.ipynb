{
 "cells": [
  {
   "cell_type": "code",
   "execution_count": null,
   "metadata": {},
   "outputs": [],
   "source": []
  },
  {
   "cell_type": "markdown",
   "metadata": {},
   "source": [
    "Optics is a really fun field. It can be readily experimented in, has close connections to geometry and wave physics.\n",
    "\n",
    "A fun little fact I like is that the wave equation, when aexpanded around a particular axis, is quite similar to the Schrodinger equation. This is almost assuredly not an accident.\n",
    "\n",
    "The wave equation is\n",
    "$$\n",
    "c^2 \\nabla^2 \\phi - \\partial_t^2 \\phi = 0\n",
    "$$\n",
    "\n",
    "\n",
    "It's interesting that the bones of our intuition are formed around particular solutions. In this case\n",
    "\n",
    "$$ \\phi(\\vec{x},t) = \\cos(\\omega t - k \\cdot \\vec{x}) $$\n",
    "$$ \\omega = c k $$\n",
    "$$ \\partial_t \\phi =  - \\omega \\sin(\\omega t - k x) $$\n",
    "$$ \\partial_t^2 \\phi = - \\omega^2 \\cos(\\omega t - k x) $$\n",
    "\n",
    "\n"
   ]
  },
  {
   "cell_type": "code",
   "execution_count": null,
   "metadata": {},
   "outputs": [],
   "source": [
    "from sympy.abc import *\n",
    "from sympy import *\n",
    "\n",
    "cos\n"
   ]
  }
 ],
 "metadata": {
  "language_info": {
   "name": "python"
  }
 },
 "nbformat": 4,
 "nbformat_minor": 2
}
