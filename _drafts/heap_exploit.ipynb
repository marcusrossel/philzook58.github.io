{
 "cells": [
  {
   "cell_type": "code",
   "execution_count": null,
   "metadata": {},
   "outputs": [],
   "source": []
  },
  {
   "cell_type": "markdown",
   "metadata": {},
   "source": [
    "How 2 heap https://github.com/shellphish/how2heap\n",
    "That udemy course https://www.udemy.com/course/linux-heap-exploitation-part-1/\n",
    "\n",
    "\n",
    "# libc\n",
    "https://news.ycombinator.com/item?id=9792063\n",
    "https://www.etalabs.net/compare_libcs.html  Comparison of C/POSIX standard library implementations for Linux\n",
    "## glibc\n",
    "https://github.com/lattera/glibc/blob/master/malloc/malloc.c super documented actually. Very interesting. This is an ancient version\n",
    "https://en.wikipedia.org/wiki/Glibc\n",
    "https://www.gnu.org/software/libc/\n",
    "https://sourceware.org/glibc/wiki/HomePage wiki\n",
    "https://sourceware.org/glibc/wiki/MallocInternals\n",
    "\n",
    "obstack.h\n",
    "dynarray.h\n",
    "https://stackoverflow.com/questions/53822553/understanding-malloc-h-difference-attribute-malloc\n",
    "\n",
    "## musl\n",
    "https://wiki.musl-libc.org/\n",
    "https://wiki.musl-libc.org/functional-differences-from-glibc.html\n",
    "## uClibc\n",
    "https://uclibc-ng.org/\n",
    "https://www.uclibc.org/\n",
    "https://en.wikipedia.org/wiki/UClibc\n",
    "## dietlibc\n",
    "https://www.fefe.de/dietlibc/\n",
    "https://news.ycombinator.com/item?id=21267244\n",
    "## newlib\n",
    "https://sourceware.org/newlib/\n",
    "## Cosmopolitan libc"
   ]
  },
  {
   "cell_type": "code",
   "execution_count": 1,
   "metadata": {},
   "outputs": [
    {
     "name": "stdout",
     "output_type": "stream",
     "text": [
      "ldd (Ubuntu GLIBC 2.35-0ubuntu3.6) 2.35\n",
      "Copyright (C) 2022 Free Software Foundation, Inc.\n",
      "This is free software; see the source for copying conditions.  There is NO\n",
      "warranty; not even for MERCHANTABILITY or FITNESS FOR A PARTICULAR PURPOSE.\n",
      "Written by Roland McGrath and Ulrich Drepper.\n"
     ]
    }
   ],
   "source": [
    "!ldd --version"
   ]
  },
  {
   "cell_type": "code",
   "execution_count": 4,
   "metadata": {},
   "outputs": [
    {
     "name": "stdout",
     "output_type": "stream",
     "text": [
      "Overwriting /tmp/heap1.c\n"
     ]
    }
   ],
   "source": [
    "%%file /tmp/heap1.c\n",
    "#include <stdio.h>\n",
    "#include <stdlib.h>\n",
    "int main(){\n",
    "\tchar* a = malloc(0x512);\n",
    "\tchar* b = malloc(0x256);\n",
    "\tchar* c;\n",
    "\n",
    "\tfprintf(stderr, \"1st malloc(0x512): %p\\n\", a);\n",
    "\tfprintf(stderr, \"2nd malloc(0x256): %p\\n\", b);\n",
    "\n",
    "}\n"
   ]
  },
  {
   "cell_type": "code",
   "execution_count": 5,
   "metadata": {},
   "outputs": [
    {
     "name": "stderr",
     "output_type": "stream",
     "text": [
      "1st malloc(0x512): 0x55e2322562a0\n",
      "2nd malloc(0x256): 0x55e2322567c0\n"
     ]
    }
   ],
   "source": [
    "%%bash\n",
    "gcc -o /tmp/heap1 /tmp/heap1.c\n",
    "/tmp/heap1"
   ]
  }
 ],
 "metadata": {
  "kernelspec": {
   "display_name": "Python 3",
   "language": "python",
   "name": "python3"
  },
  "language_info": {
   "codemirror_mode": {
    "name": "ipython",
    "version": 3
   },
   "file_extension": ".py",
   "mimetype": "text/x-python",
   "name": "python",
   "nbconvert_exporter": "python",
   "pygments_lexer": "ipython3",
   "version": "3.10.12"
  }
 },
 "nbformat": 4,
 "nbformat_minor": 2
}
