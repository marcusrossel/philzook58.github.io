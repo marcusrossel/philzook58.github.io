{
 "cells": [
  {
   "cell_type": "markdown",
   "metadata": {},
   "source": [
    "# Overloading Via Single Dispatch on Z3 Sort"
   ]
  },
  {
   "cell_type": "markdown",
   "metadata": {},
   "source": [
    "# Meta Z3\n"
   ]
  },
  {
   "cell_type": "markdown",
   "metadata": {},
   "source": [
    "# Refinements\n",
    "Replace with bounded quantifiers\n",
    "forall x, P(x) ---> forall x, wf(x) -> P(x)\n",
    "exists x, P(x) ---> exists x, wf(x) /\\ P(x)\n",
    "\n",
    "In what sense is this a sufficient alternative?\n"
   ]
  },
  {
   "cell_type": "markdown",
   "metadata": {},
   "source": [
    "# Quotients\n",
    "forall x ---> forall x\n",
    "exists x ----> exists x, P(x)_/\\ forall y, y = x -> P(y) \n"
   ]
  },
  {
   "cell_type": "markdown",
   "metadata": {},
   "source": [
    "# Inductive Relations\n",
    "\n"
   ]
  }
 ],
 "metadata": {
  "language_info": {
   "name": "python"
  }
 },
 "nbformat": 4,
 "nbformat_minor": 2
}
