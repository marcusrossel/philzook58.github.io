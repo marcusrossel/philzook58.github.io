{
 "cells": [
  {
   "cell_type": "code",
   "execution_count": null,
   "metadata": {},
   "outputs": [],
   "source": []
  },
  {
   "cell_type": "markdown",
   "metadata": {},
   "source": [
    "A white whale.\n",
    "\n",
    "Legendre is steepest descent of Fourier transformation\n",
    "\n",
    "\n",
    "\n",
    "stroargtz\n",
    "https://www.youtube.com/playlist?list=PL5EH0ZJ7V0jV7kMYvPcZ7F9oaf_YAlfbI\n",
    "https://arxiv.org/abs/hep-th/9505166  A Geometrical Formulation of the Renormalization Group Method for Global Analysis"
   ]
  },
  {
   "cell_type": "markdown",
   "metadata": {},
   "source": [
    "https://claude.ai/chat/ae8868f3-fadc-4c33-a754-0119f25ab275"
   ]
  },
  {
   "cell_type": "markdown",
   "metadata": {},
   "source": [
    "I'll note that the legendre transform of a quadratic curve is another quadratic curve of inverse curvature.\n",
    "Lgenedre transforms are\n",
    "\n",
    "This is the analog of\n",
    "\n",
    "The thing that is hard is not gaussian vs non gaussian integrals. Its convex vs non convex probably. But I don't see people mention that noonconvex statistcal mechanics or quantum field theory are tractable (basically because despite being nonlinear, they are well treated semi classically). Maybe they aren't\n",
    "\n",
    "Linear programming. If we had an integral over a polytope with a exponential of a linear function, we could find it's classical point via linear programming\n",
    "\n",
    "Quadratic programming - We can integrate a guassian over a polytope by finding it's critical points.\n",
    "\n",
    "SDP - semidefinite programming... Hmmm. A polytope integral over a matrix variable where they are constrained to be positive semidefinite. $\\int_{AX \\ge 0, X >= 0}$. Maybe you could do something funky with that. \n"
   ]
  },
  {
   "cell_type": "code",
   "execution_count": null,
   "metadata": {},
   "outputs": [],
   "source": [
    "import sympy as sp\n",
    "\n",
    "def legendre_transform_symbolic(f, x, p):\n",
    "    # Define the Legendre transform\n",
    "    L = p * x - f\n",
    "    \n",
    "    # Find the stationary point\n",
    "    stationary = sp.solve(sp.diff(L, x), x)\n",
    "    \n",
    "    # Substitute the stationary point back into L\n",
    "    if len(stationary) > 0:\n",
    "        L_transformed = L.subs(x, stationary[0])\n",
    "        return sp.simplify(L_transformed)\n",
    "    else:\n",
    "        return \"No stationary point found\"\n",
    "\n",
    "# Example usage\n",
    "x, p = sp.symbols('x p')\n",
    "f = x**2  # Example function\n",
    "\n",
    "result = legendre_transform_symbolic(f, x, p)\n",
    "print(f\"Legendre transform of {f} is: {result}\")"
   ]
  },
  {
   "cell_type": "code",
   "execution_count": null,
   "metadata": {},
   "outputs": [],
   "source": [
    "import numpy as np\n",
    "from scipy.optimize import minimize_scalar\n",
    "\n",
    "def legendre_transform_numerical(f, x_range, p):\n",
    "    def negative_legendre(x):\n",
    "        return -(p * x - f(x))\n",
    "    \n",
    "    result = minimize_scalar(negative_legendre, bounds=x_range, method='bounded')\n",
    "    \n",
    "    if result.success:\n",
    "        x_star = result.x\n",
    "        return p * x_star - f(x_star)\n",
    "    else:\n",
    "        return None\n",
    "\n",
    "# Example usage\n",
    "def f(x):\n",
    "    return x**2\n",
    "\n",
    "x_range = (-10, 10)\n",
    "p_values = np.linspace(-5, 5, 100)\n",
    "\n",
    "transformed_values = [legendre_transform_numerical(f, x_range, p) for p in p_values]\n",
    "\n",
    "# You can plot the results using matplotlib if desired"
   ]
  }
 ],
 "metadata": {
  "language_info": {
   "name": "python"
  }
 },
 "nbformat": 4,
 "nbformat_minor": 2
}
