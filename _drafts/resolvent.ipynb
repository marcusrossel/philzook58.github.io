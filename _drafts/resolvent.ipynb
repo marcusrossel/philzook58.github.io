{
 "cells": [
  {
   "cell_type": "code",
   "execution_count": null,
   "metadata": {},
   "outputs": [],
   "source": []
  },
  {
   "cell_type": "markdown",
   "metadata": {},
   "source": [
    "https://en.wikipedia.org/wiki/Sturm%E2%80%93Liouville_theory\n",
    "https://www.youtube.com/watch?v=q6R734ukoCo&t=1s&ab_channel=JasonBramburger\n",
    "Strum Liouville in knuckledragger? What would that look like?\n",
    "\n",
    "\n",
    "What happened to my 10 different green's functions article\n",
    "\n",
    "It's interesting how in my modern lens, I really liked understanding numerical/semantics/computable models of syntactic/algebraic physics methods.\n",
    "\n",
    "https://en.wikipedia.org/wiki/Resolvent_formalism\n",
    "\n",
    "\n",
    "This shows up in the fourier / laplace transform of a matrix differential equation.\n",
    "In this sense it is like the propagator.\n",
    "\n",
    "We can use the resolvent as a kind of delta function. 1/z is the complex analysts delta fucntion. 1/(z + ieps) - 1/(z - i eps)\n",
    "Hmm. Can we do this with the hyperreals for serious?\n",
    "\n",
    "delta functions were already on good footing from the theory of distributions, defining them as linear operators on well behaved test functions.\n",
    "https://en.wikipedia.org/wiki/Dirac_delta_function Schwartz\n",
    "https://en.wikipedia.org/wiki/Hyperfunction\n",
    "https://en.wikipedia.org/wiki/Algebraic_analysis\n",
    "\n",
    "$\\partial_t x = A x$\n",
    "\n",
    "https://en.wikipedia.org/wiki/Matrix_differential_equation\n",
    "\n",
    "A pretty generic statement of the\n",
    "\n",
    "https://en.wikipedia.org/wiki/Matrix_exponential\n",
    "\n",
    "\n",
    "Contour integrals. Yes, in thoughtbooks"
   ]
  },
  {
   "cell_type": "code",
   "execution_count": null,
   "metadata": {},
   "outputs": [],
   "source": [
    "import numpy as np\n",
    "import scipy\n",
    "Matrix = np.ndarray\n",
    "R = float\n",
    "def Fun(x,y): # arrow. Arr is too much like array. Fun?\n",
    "    return Callable[x,y]\n",
    "\n",
    "# what is the word for this?\n",
    "def resolvent(A : Matrix) -> Fun[float, Matrix]:\n",
    "    return lambda lam: np.linalg.inv(A - lam * np.eye(A.shape[0]))\n",
    "\n",
    "def propagate(A : Matrix):\n",
    "    return lambda t: np.linalg.matrix_power(A, t)\n",
    "\n",
    "\n",
    "def circ_contour(f, z0, R):\n",
    "    # ciurcular contour around z0, radius R\n",
    "    return 1.j * R * scipy.integrate.quad(lambda theta: f(z0 + R * np.exp(1.j*theta)), 0, 2*np.pi)\n",
    "\n",
    "# polygon contour\n",
    "def contour(f, edges):\n",
    "    acc = 0\n",
    "    for edge in edges:\n",
    "        acc += scipy.integrate.quad(f, 0, 1)\n",
    "    return acc\n"
   ]
  },
  {
   "cell_type": "code",
   "execution_count": null,
   "metadata": {},
   "outputs": [],
   "source": [
    "import sympy as sp\n",
    "z = sp.symbols('z')\n",
    "sp.intergrate(1/z, )\n"
   ]
  },
  {
   "cell_type": "code",
   "execution_count": null,
   "metadata": {},
   "outputs": [],
   "source": [
    "# using literally an ode solver. Not totally insane method!\n",
    "def propagator(A):\n",
    "    def res(x0, t0, t1):\n",
    "        return scipy.integerate.odeint(lambda x: A @ x, [t0,t1], x0)\n",
    "    return res"
   ]
  }
 ],
 "metadata": {
  "language_info": {
   "name": "python"
  }
 },
 "nbformat": 4,
 "nbformat_minor": 2
}
