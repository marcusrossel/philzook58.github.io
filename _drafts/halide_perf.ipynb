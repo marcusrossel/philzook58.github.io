{
 "cells": [
  {
   "cell_type": "markdown",
   "metadata": {},
   "source": [
    "So what would a minimal tensor compiler, scheduling guy look like?\n",
    "I need to output C++ code / Cuda / C++ simd ionstrinsics\n",
    "Oleg style C\n",
    "\n",
    "Could dynlink in the kernel. Or is it easier to just subprocess it?\n",
    "use that pytorch compile thing https://pytorch.org/tutorials/intermediate/torch_compile_tutorial.html\n",
    "https://cppyy.readthedocs.io/en/latest/index.html\n",
    "\n",
    "Ideas:\n",
    "Blur\n",
    "Will melt - deform, \n",
    "wave\n",
    "heat\n",
    "reaction diffusion\n",
    "coulomb\n",
    "polybench problems?\n",
    "\n",
    "Arguably, computer perf is good for the environment.\n",
    "\n"
   ]
  },
  {
   "cell_type": "markdown",
   "metadata": {},
   "source": [
    "https://www.diva-portal.org/smash/get/diva2:1806967/FULLTEXT01.pdf Omelette intervals for daisy\n",
    "\n",
    "https://only.rs/assets/papers/COS539Report.pdf CatsTail: Packet programs synthesis via Equality Saturation. P4 equality sautration\n",
    "\n",
    "https://ieeexplore.ieee.org/document/10444787 A Tensor Algebra Compiler for Sparse Differentiation\n",
    "\n",
    "https://arxiv.org/abs/2403.14242 E-Syn: E-Graph Rewriting with Technology-Aware Cost Functions for Logic Synthesis\n",
    "\n",
    "http://www.paramathic.com/wp-content/uploads/2024/04/REV_PLDI_rev2.pdf SpEQ: Translation of Sparse Codes using Equivalences\n",
    "\n",
    "https://arxiv.org/abs/2404.05431 Simplifying MBA Expression Using E-Graphs\n",
    "\n",
    "https://arxiv.org/abs/2404.08106  KestRel: Relational Verification Using E-Graphs for Program Alignment\n",
    "\n",
    "https://arxiv.org/pdf/2404.08751 Performant Dynamically Typed E-Graphs in Pure Julia. Opttifloat.\n",
    "\n",
    "https://www.sosy-lab.org/research/pub/2023-Draft.LemmaCalc.pdf Quick Theory Exploration for Algebraic Data Types via Program Transformations\n",
    "\n",
    "https://uwspace.uwaterloo.ca/handle/10012/20590 Programmatic Representation of Quantum Many Body Systems\n",
    "\n",
    "https://michel.steuwer.info/files/publications/2024/EGRAPHS-2024.pdf slotted egraph\n",
    "\n",
    "https://ieeexplore.ieee.org/abstract/document/10549954?casa_token=osGlQxs8m0cAAAAA:lBVQ_DaNHuu58QIc8WE2lOQ1InlvHENufwmDWPGmpnP3npNxFLJx7LrzFgWto2lqz2Bd1ULd5PrJgQ ROVER: RTL Optimization via Verified E-Graph Rewriting"
   ]
  },
  {
   "cell_type": "code",
   "execution_count": null,
   "metadata": {},
   "outputs": [],
   "source": [
    "\n",
    "def main(body):\n",
    "    return \"int main(){\" + body + \"return 0;}\"\n",
    "\n",
    "def type_of_shape(shape):\n",
    "    if len(shape) == 1:\n",
    "        return \"vector<int>\"\n",
    "    else:\n",
    "        return \"vector<vector<int>>\"\n",
    "\n",
    "def numpy_const(x):\n",
    "     return f\"{type_of_shape(x.shape)} {x.name} = {x.to_string(\"\n",
    "\n",
    "def matrix_multiply(a,b):\n",
    "     = a.shape\n",
    "     = b.shape\n",
    "\n",
    "\n",
    "\n"
   ]
  },
  {
   "cell_type": "code",
   "execution_count": 4,
   "metadata": {},
   "outputs": [
    {
     "data": {
      "text/plain": [
       "array([[ 1.31046626,  0.65844833,  0.07906275,  1.9617434 ,  1.42294726,\n",
       "         0.20204498,  0.40687659,  0.67967967, -0.00870005],\n",
       "       [ 3.54828591,  2.34538197,  1.96419394,  5.37431379,  3.33590376,\n",
       "        -0.35761729,  1.02769102,  1.11851864, -0.26513445],\n",
       "       [ 3.62105505,  3.27176744,  1.72605773,  1.19710883, -1.33067401,\n",
       "        -0.06654727, -1.01015221, -2.05987732, -2.42009655],\n",
       "       [ 3.4558572 ,  3.17985693,  0.49590552, -0.97296426, -2.69173456,\n",
       "         0.80930476,  1.9448902 ,  0.4162344 ,  1.06708111],\n",
       "       [ 0.57190069,  1.78356123, -1.51150129, -1.48969576,  1.1230824 ,\n",
       "         2.50065244,  3.24586681,  3.49688147,  3.71579744],\n",
       "       [ 0.88945686,  4.93068064,  0.60081222, -2.11282168,  1.36769066,\n",
       "         2.35703195,  0.41602892,  0.7976928 ,  0.03607092],\n",
       "       [ 0.66529984,  2.29259899,  0.81820352,  0.40120943,  1.66383995,\n",
       "        -0.56748654, -0.60277451,  2.2396351 ,  0.91317627],\n",
       "       [ 0.66636054, -0.10556659, -0.32316119,  0.95568744,  1.23081266,\n",
       "        -2.90894993, -1.28331082,  2.88038446,  2.00651862],\n",
       "       [ 1.96458533,  2.28375555,  0.9000126 ,  0.98802625, -0.03171931,\n",
       "        -3.40004844, -2.5444537 ,  1.00855292,  1.48019104]])"
      ]
     },
     "execution_count": 4,
     "metadata": {},
     "output_type": "execute_result"
    }
   ],
   "source": [
    "import numpy as np\n",
    "\n",
    "img = np.random.randn(10,10)\n",
    "\n",
    "def blurx(x):\n",
    "    return x[1:,:] + x[:-1,:]  \n",
    "def blury(x):\n",
    "    return x[:,1:] + x[:,:-1]  \n",
    "    #return np.convolve(x, [0.1, 0.8, 0.1], mode='same')\n",
    "img\n",
    "blury(blurx(img))\n",
    "\n",
    "def extend_x(img):\n",
    "    return np.concatenate([img, img[-1:,:]], axis=0)\n"
   ]
  },
  {
   "cell_type": "markdown",
   "metadata": {},
   "source": [
    "# ML compiler\n",
    "https://arxiv.org/abs/2311.10800a The Next 700 ML-Enabled Compiler Optimizations https://compilers.cse.iith.ac.in/publications/mlcompilerbridge/\n",
    "CGO \n",
    "https://github.com/IITH-Compilers/IR2Vec \n",
    "\n",
    "https://github.com/zwang4/awesome-machine-learning-in-compilers\n",
    "https://github.com/merrymercy/awesome-tensor-compilers\n",
    "\n",
    "autotuning\n",
    "https://zwang4.github.io/publications/pieee18.pdf survey of ml for compilers. Autotuning. Iterative compilation.\n",
    "\n",
    "https://arxiv.org/abs/2002.03794 deep learning compiler a ocmprehensive surfvey\n",
    "glow tvm xla. Polyhedral IRs \n",
    "\n",
    "https://dl.acm.org/doi/10.1145/3408974 Achieving high-performance the functional way: a functional pearl on expressing high-performance optimizations as rewrite strategies\n",
    "\n",
    "https://www.youtube.com/watch?v=f2NEU1ENt6A&t=3s  Verified Tensor-Program Optimization Via High-Level Scheduling Rewrites \n",
    "\n",
    "Verifying and Improving Halide’s Term Rewriting System with Program Synthesis https://www.youtube.com/watch?v=rcGZwLYnK_M&ab_channel=ACMSIGPLAN https://dl.acm.org/doi/10.1145/3428234. z3 + coq. They nmodel halide rewrite rules. Cegis for given term order. Huh\n",
    "\n",
    "\n",
    "WHat about my numpy knuckeldragger.\n",
    "Breaking up domain into tiles. How to model? HOL of index sets?\n"
   ]
  },
  {
   "cell_type": "code",
   "execution_count": 3,
   "metadata": {},
   "outputs": [
    {
     "ename": "Z3Exception",
     "evalue": "b'Sort mismatch at argument #1 for function (declare-fun or (Bool Bool) Bool) supplied sort is (Array Int Bool)'",
     "output_type": "error",
     "traceback": [
      "\u001b[0;31m---------------------------------------------------------------------------\u001b[0m",
      "\u001b[0;31mZ3Exception\u001b[0m                               Traceback (most recent call last)",
      "Cell \u001b[0;32mIn [3], line 13\u001b[0m\n\u001b[1;32m     11\u001b[0m d1 \u001b[38;5;241m=\u001b[39m Lambda([x], And(x \u001b[38;5;241m>\u001b[39m\u001b[38;5;241m=\u001b[39m \u001b[38;5;241m0\u001b[39m, x \u001b[38;5;241m<\u001b[39m \u001b[38;5;241m16\u001b[39m))\n\u001b[1;32m     12\u001b[0m d2 \u001b[38;5;241m=\u001b[39m Lambda([x], And(x \u001b[38;5;241m>\u001b[39m\u001b[38;5;241m=\u001b[39m \u001b[38;5;241m16\u001b[39m, x \u001b[38;5;241m<\u001b[39m \u001b[38;5;241m32\u001b[39m))\n\u001b[0;32m---> 13\u001b[0m prove(d \u001b[38;5;241m==\u001b[39m (d1 \u001b[38;5;241m|\u001b[39m d2))\n",
      "File \u001b[0;32m~/.local/lib/python3.10/site-packages/z3/z3.py:1600\u001b[0m, in \u001b[0;36mBoolRef.__or__\u001b[0;34m(self, other)\u001b[0m\n\u001b[1;32m   1599\u001b[0m \u001b[38;5;28;01mdef\u001b[39;00m \u001b[38;5;21m__or__\u001b[39m(\u001b[38;5;28mself\u001b[39m, other):\n\u001b[0;32m-> 1600\u001b[0m     \u001b[38;5;28;01mreturn\u001b[39;00m \u001b[43mOr\u001b[49m\u001b[43m(\u001b[49m\u001b[38;5;28;43mself\u001b[39;49m\u001b[43m,\u001b[49m\u001b[43m \u001b[49m\u001b[43mother\u001b[49m\u001b[43m)\u001b[49m\n",
      "File \u001b[0;32m~/.local/lib/python3.10/site-packages/z3/z3.py:1952\u001b[0m, in \u001b[0;36mOr\u001b[0;34m(*args)\u001b[0m\n\u001b[1;32m   1950\u001b[0m args \u001b[38;5;241m=\u001b[39m _coerce_expr_list(args, ctx)\n\u001b[1;32m   1951\u001b[0m _args, sz \u001b[38;5;241m=\u001b[39m _to_ast_array(args)\n\u001b[0;32m-> 1952\u001b[0m \u001b[38;5;28;01mreturn\u001b[39;00m BoolRef(\u001b[43mZ3_mk_or\u001b[49m\u001b[43m(\u001b[49m\u001b[43mctx\u001b[49m\u001b[38;5;241;43m.\u001b[39;49m\u001b[43mref\u001b[49m\u001b[43m(\u001b[49m\u001b[43m)\u001b[49m\u001b[43m,\u001b[49m\u001b[43m \u001b[49m\u001b[43msz\u001b[49m\u001b[43m,\u001b[49m\u001b[43m \u001b[49m\u001b[43m_args\u001b[49m\u001b[43m)\u001b[49m, ctx)\n",
      "File \u001b[0;32m~/.local/lib/python3.10/site-packages/z3/z3core.py:1926\u001b[0m, in \u001b[0;36mZ3_mk_or\u001b[0;34m(a0, a1, a2, _elems)\u001b[0m\n\u001b[1;32m   1924\u001b[0m \u001b[38;5;28;01mdef\u001b[39;00m \u001b[38;5;21mZ3_mk_or\u001b[39m(a0, a1, a2, _elems\u001b[38;5;241m=\u001b[39mElementaries(_lib\u001b[38;5;241m.\u001b[39mZ3_mk_or)):\n\u001b[1;32m   1925\u001b[0m   r \u001b[38;5;241m=\u001b[39m _elems\u001b[38;5;241m.\u001b[39mf(a0, a1, a2)\n\u001b[0;32m-> 1926\u001b[0m   \u001b[43m_elems\u001b[49m\u001b[38;5;241;43m.\u001b[39;49m\u001b[43mCheck\u001b[49m\u001b[43m(\u001b[49m\u001b[43ma0\u001b[49m\u001b[43m)\u001b[49m\n\u001b[1;32m   1927\u001b[0m   \u001b[38;5;28;01mreturn\u001b[39;00m r\n",
      "File \u001b[0;32m~/.local/lib/python3.10/site-packages/z3/z3core.py:1554\u001b[0m, in \u001b[0;36mElementaries.Check\u001b[0;34m(self, ctx)\u001b[0m\n\u001b[1;32m   1552\u001b[0m err \u001b[38;5;241m=\u001b[39m \u001b[38;5;28mself\u001b[39m\u001b[38;5;241m.\u001b[39mget_error_code(ctx)\n\u001b[1;32m   1553\u001b[0m \u001b[38;5;28;01mif\u001b[39;00m err \u001b[38;5;241m!=\u001b[39m \u001b[38;5;28mself\u001b[39m\u001b[38;5;241m.\u001b[39mOK:\n\u001b[0;32m-> 1554\u001b[0m     \u001b[38;5;28;01mraise\u001b[39;00m \u001b[38;5;28mself\u001b[39m\u001b[38;5;241m.\u001b[39mException(\u001b[38;5;28mself\u001b[39m\u001b[38;5;241m.\u001b[39mget_error_message(ctx, err))\n",
      "\u001b[0;31mZ3Exception\u001b[0m: b'Sort mismatch at argument #1 for function (declare-fun or (Bool Bool) Bool) supplied sort is (Array Int Bool)'"
     ]
    }
   ],
   "source": [
    "from  z3 import *\n",
    "dom = ArraySort(IntSort(), BoolSort())\n",
    "vec = ArraySort(IntSort(), RealSort())\n",
    "x = Const('x', IntSort())\n",
    "ExprRef.__and__ = lambda self, other: Lambda([x], And(self[x], other[x]))\n",
    "ExprRef.__or__ = lambda self, other: Lambda([x], Or(self[x], other[x]))\n",
    "ExprRef.__add__ = lambda self, other: Lambda([x], self[x] + other[x])\n",
    "\n",
    "a,b = Consts(\"a b\", vec)\n",
    "d = Lambda([x], And(x >= 0, x < 32))\n",
    "d1 = Lambda([x], And(x >= 0, x < 16))\n",
    "d2 = Lambda([x], And(x >= 16, x < 32))\n",
    "prove(d == (d1 | d2))\n",
    "\n",
    "\n"
   ]
  },
  {
   "cell_type": "markdown",
   "metadata": {},
   "source": [
    "# Egraph\n",
    "Spore\n",
    "etc.\n",
    "\n",
    "https://egraphs.org/meeting/2024-04-18-sparse-tensor-diff Amir Shaikhha - A Tensor Algebra Compiler for Sparse Differentiation.\n",
    "Max had one\n",
    "Thomas Koehler RISE\n",
    "\n",
    "\n",
    "\n",
    "twee experimensz\n",
    "3z\n",
    "\n"
   ]
  },
  {
   "cell_type": "markdown",
   "metadata": {},
   "source": [
    "# Benchmarking\n",
    "I should probably know what it is I want to do manually first\n",
    "benchamrking infra... hmm.\n",
    "https://github.com/google/benchmark\n",
    "https://github.com/google/benchmark/blob/main/docs/user_guide.md\n",
    "https://github.com/google/benchmark/blob/main/docs/tools.md compare\n",
    "\n",
    "https://quick-bench.com/\n",
    "https://perfbench.com/\n",
    "https://github.com/chronoxor/CppBenchmark\n",
    "https://github.com/sharkdp/hyperfine\n",
    "\n",
    "https://ashvardanian.com/posts/google-benchmark/\n",
    "\n",
    "Oh it outputs json or scv. hmm\n",
    "https://colab.research.google.com/github/pytorch/tutorials/blob/gh-pages/_downloads/54db51700fabe094cbf7f11f5195d2bd/benchmark.ipynb\n",
    "pytorch benchmark\n",
    "timeit.Timer\n",
    "torch.utils.benchamrk.TImer\n",
    "Callgrind\n",
    "\n",
    "\n",
    "\n",
    "uttotuning"
   ]
  },
  {
   "cell_type": "code",
   "execution_count": 10,
   "metadata": {},
   "outputs": [
    {
     "name": "stdout",
     "output_type": "stream",
     "text": [
      "Overwriting /tmp/bench.cpp\n"
     ]
    }
   ],
   "source": [
    "%%file /tmp/bench.cpp\n",
    "#include <benchmark/benchmark.h>\n",
    "\n",
    "static void BM_StringCreation(benchmark::State& state) {\n",
    "  for (auto _ : state)\n",
    "    std::string empty_string;\n",
    "}\n",
    "// Register the function as a benchmark\n",
    "BENCHMARK(BM_StringCreation);\n",
    "\n",
    "// Define another benchmark\n",
    "static void BM_StringCopy(benchmark::State& state) {\n",
    "  std::string x = \"hello\";\n",
    "  for (auto _ : state)\n",
    "    std::string copy(x);\n",
    "}\n",
    "BENCHMARK(BM_StringCopy);\n",
    "\n",
    "BENCHMARK_MAIN();\n"
   ]
  },
  {
   "cell_type": "code",
   "execution_count": 15,
   "metadata": {},
   "outputs": [
    {
     "name": "stderr",
     "output_type": "stream",
     "text": [
      "2024-05-23T11:57:08-04:00\n",
      "Running /tmp/mybenchmark\n",
      "Run on (8 X 3900 MHz CPU s)\n",
      "CPU Caches:\n",
      "  L1 Data 48 KiB (x4)\n",
      "  L1 Instruction 32 KiB (x4)\n",
      "  L2 Unified 512 KiB (x4)\n",
      "  L3 Unified 8192 KiB (x1)\n",
      "Load Average: 2.59, 2.10, 1.96\n",
      "***WARNING*** CPU scaling is enabled, the benchmark real time measurements may be noisy and will incur extra overhead.\n"
     ]
    },
    {
     "name": "stdout",
     "output_type": "stream",
     "text": [
      "------------------------------------------------------------\n",
      "Benchmark                  Time             CPU   Iterations\n",
      "------------------------------------------------------------\n",
      "BM_StringCreation       3.53 ns         3.53 ns    189533532\n",
      "BM_StringCopy           8.32 ns         8.32 ns     81841079\n"
     ]
    }
   ],
   "source": [
    "%%bash\n",
    "g++ /tmp/bench.cpp -std=c++11 -isystem ~/Downloads/benchmark/include \\\n",
    "  -L ~/Downloads/benchmark/build/src -lbenchmark -lpthread -o /tmp/mybenchmark\n",
    "/tmp/mybenchmark # --benchmark_out_format=json --benchmark_out=/tmp/bench.json\n",
    "# compare.py benchmarks /tmp/mybenchmark /tmp/mybenckmark2\n"
   ]
  },
  {
   "cell_type": "markdown",
   "metadata": {},
   "source": [
    "# TVM\n",
    "Relay - functional and statically typed ir\n",
    "Offer laide liuke interfrace te tesnro exprwsssion s\n",
    "https://www.youtube.com/watch?v=JmWWAnHBDx0&ab_channel=HarvardCS249R%3AIntrotoTinyML"
   ]
  },
  {
   "cell_type": "markdown",
   "metadata": {},
   "source": [
    "# MLIR\n",
    "https://mlir.llvm.org/docs/Bindings/Python/\n",
    "\n",
    "https://mlir.llvm.org/docs/Tutorials/Toy/Ch-1/\n",
    "\n",
    "\n"
   ]
  },
  {
   "cell_type": "markdown",
   "metadata": {},
   "source": [
    "## xDSL\n",
    "https://xdsl.dev/"
   ]
  },
  {
   "cell_type": "code",
   "execution_count": 1,
   "metadata": {},
   "outputs": [],
   "source": [
    "from xdsl.ir import *\n",
    "from xdsl.irdl import *\n",
    "from xdsl.dialects.builtin import *\n",
    "from xdsl.dialects.arith import *\n",
    "from xdsl.dialects.scf import *\n",
    "from xdsl.pattern_rewriter import *\n",
    "\n",
    "\n",
    "@irdl_attr_definition\n",
    "class Bag(ParametrizedAttribute):\n",
    "    name = \"sql.bag\"\n",
    "    schema: ParameterDef[Attribute]"
   ]
  },
  {
   "cell_type": "code",
   "execution_count": null,
   "metadata": {},
   "outputs": [],
   "source": [
    "printer = Printer()\n",
    "printer.print_attribute(Bag([i32]))"
   ]
  },
  {
   "cell_type": "code",
   "execution_count": null,
   "metadata": {},
   "outputs": [],
   "source": [
    "from xdsl.irdl import attr_def, result_def\n",
    "\n",
    "\n",
    "@irdl_op_definition\n",
    "class Table(IRDLOperation):\n",
    "    name = \"sql.table\"\n",
    "    table_name: StringAttr = attr_def(StringAttr)\n",
    "    result_bag: OpResult = result_def(Bag)"
   ]
  },
  {
   "cell_type": "code",
   "execution_count": null,
   "metadata": {},
   "outputs": [],
   "source": [
    "t = Table.build(attributes={\"table_name\": StringAttr(\"T\")}, result_types=[Bag([(i32)])])\n",
    "printer.print_op(t)"
   ]
  },
  {
   "cell_type": "code",
   "execution_count": null,
   "metadata": {},
   "outputs": [],
   "source": [
    "module = ModuleOp([t])\n",
    "print(module)"
   ]
  },
  {
   "cell_type": "code",
   "execution_count": null,
   "metadata": {},
   "outputs": [],
   "source": [
    "@irdl_op_definition\n",
    "class Selection(IRDLOperation):\n",
    "    name = \"sql.selection\"\n",
    "    input_bag: Operand = operand_def(Bag)\n",
    "    filter: Region = region_def()\n",
    "    result_bag: OpResult = result_def(Bag)"
   ]
  },
  {
   "cell_type": "markdown",
   "metadata": {},
   "source": [
    "# Exo\n",
    "https://exo-lang.dev/"
   ]
  },
  {
   "cell_type": "markdown",
   "metadata": {},
   "source": [
    "# taco\n"
   ]
  },
  {
   "cell_type": "markdown",
   "metadata": {},
   "source": [
    "# mosaic\n",
    "https://github.com/manya-bansal/mosaic"
   ]
  },
  {
   "cell_type": "markdown",
   "metadata": {},
   "source": [
    "# Halide\n",
    "https://halide-lang.org/tutorials/\n",
    "\n",
    "\n",
    "- Hydride\n",
    "- Halide\n",
    "\n",
    "- SpEQ - http://www.paramathic.com/wp-content/uploads/2024/04/REV_PLDI_rev2.pdf\n",
    "- Exo: https://dl.acm.org/doi/abs/10.1145/3519939.3523446\n",
    "- Mosaic: https://manya-bansal.github.io/papers/pldi23main-p107-final.pdf\n",
    "\n",
    "- taco\n",
    "- glenside\n",
    "- mlir\n",
    "- \n",
    "Maaz Bin Safeer Ahmad, Alexander J Root, Andrew Adams, Shoaib Kamil, and Alvin Cheung. Vector instruction selection for digital signal processors using program synthesis.\n",
    "\n",
    "Sebastian Buchwald, Andreas Fried, and Sebastian Hack. Synthesizing an instruction selection rule library from semantic specifications.\n",
    "\n",
    "Yishen Chen, Charith Mendis, Michael Carbin, and Saman Amarasinghe. Vegen: a vectorizer generator for simd and beyond\n",
    "\n",
    "Zhengyang Liu, Stefan Mada, and John Regehr. Minotaur: A simd-oriented synthesizing superoptimizer\n",
    "\n",
    "Alexander J Root, Maaz Bin Safeer Ahmad, Dillon Sharlet, Andrew Adams, Shoaib Kamil, and Jonathan Ragan-Kelley. Fast instruction selection for fast digital signal processing.\n",
    "\n",
    "Alexander James Root. Optimizing Vector Instruction Selection for Digital Signal Processing. PhD thesis, Massachusetts Institute of Technology, 2022\n",
    "\n",
    "Samuel Thomas and James Bornholt. Automatic generation of vectorizing compilers for customizable digital signal processors. 2024.\n",
    "\n",
    "Alexa VanHattum, Rachit Nigam, Vincent T Lee, James Bornholt, and Adrian Sampson. Vectorization for digital signal processors via equality saturation"
   ]
  },
  {
   "cell_type": "code",
   "execution_count": null,
   "metadata": {},
   "outputs": [],
   "source": [
    "%%file /tmp/halide.cpp\n",
    "\n",
    "Func blur_3x3(Func input) {\n",
    "  Func blur_x, blur_y;\n",
    "  Var x, y, xi, yi;\n",
    "\n",
    "  // The algorithm - no storage or order\n",
    "  blur_x(x, y) = (input(x-1, y) + input(x, y) + input(x+1, y))/3;\n",
    "  blur_y(x, y) = (blur_x(x, y-1) + blur_x(x, y) + blur_x(x, y+1))/3;\n",
    "\n",
    "  // The schedule - defines order, locality; implies storage\n",
    "  blur_y.tile(x, y, xi, yi, 256, 32)\n",
    "        .vectorize(xi, 8).parallel(y);\n",
    "  blur_x.compute_at(blur_y, x).vectorize(x, 8);\n",
    "\n",
    "  return blur_y;\n",
    "}\n"
   ]
  },
  {
   "cell_type": "code",
   "execution_count": null,
   "metadata": {},
   "outputs": [],
   "source": []
  },
  {
   "cell_type": "markdown",
   "metadata": {},
   "source": [
    "# Perf Ninja\n"
   ]
  }
 ],
 "metadata": {
  "kernelspec": {
   "display_name": "Python 3",
   "language": "python",
   "name": "python3"
  },
  "language_info": {
   "codemirror_mode": {
    "name": "ipython",
    "version": 3
   },
   "file_extension": ".py",
   "mimetype": "text/x-python",
   "name": "python",
   "nbconvert_exporter": "python",
   "pygments_lexer": "ipython3",
   "version": "3.10.12"
  }
 },
 "nbformat": 4,
 "nbformat_minor": 2
}
