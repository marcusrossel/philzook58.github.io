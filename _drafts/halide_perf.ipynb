{
 "cells": [
  {
   "cell_type": "code",
   "execution_count": null,
   "metadata": {},
   "outputs": [],
   "source": []
  },
  {
   "cell_type": "markdown",
   "metadata": {},
   "source": [
    "# Halide\n",
    "https://halide-lang.org/tutorials/\n",
    "\n",
    "\n",
    "Hydride\n",
    "Halide\n",
    "\n",
    "SpEQ - http://www.paramathic.com/wp-content/uploads/2024/04/REV_PLDI_rev2.pdf\n",
    "Exo: https://dl.acm.org/doi/abs/10.1145/3519939.3523446\n",
    "Mosaic: https://manya-bansal.github.io/papers/pldi23main-p107-final.pdf\n",
    "\n",
    "taco\n",
    "glenside\n",
    "mlir\n"
   ]
  },
  {
   "cell_type": "code",
   "execution_count": null,
   "metadata": {},
   "outputs": [],
   "source": [
    "%%file /tmp/halide.cpp\n",
    "\n",
    "Func blur_3x3(Func input) {\n",
    "  Func blur_x, blur_y;\n",
    "  Var x, y, xi, yi;\n",
    "\n",
    "  // The algorithm - no storage or order\n",
    "  blur_x(x, y) = (input(x-1, y) + input(x, y) + input(x+1, y))/3;\n",
    "  blur_y(x, y) = (blur_x(x, y-1) + blur_x(x, y) + blur_x(x, y+1))/3;\n",
    "\n",
    "  // The schedule - defines order, locality; implies storage\n",
    "  blur_y.tile(x, y, xi, yi, 256, 32)\n",
    "        .vectorize(xi, 8).parallel(y);\n",
    "  blur_x.compute_at(blur_y, x).vectorize(x, 8);\n",
    "\n",
    "  return blur_y;\n",
    "}\n"
   ]
  },
  {
   "cell_type": "code",
   "execution_count": null,
   "metadata": {},
   "outputs": [],
   "source": []
  },
  {
   "cell_type": "markdown",
   "metadata": {},
   "source": [
    "# Perf Ninja\n"
   ]
  }
 ],
 "metadata": {
  "language_info": {
   "name": "python"
  }
 },
 "nbformat": 4,
 "nbformat_minor": 2
}
