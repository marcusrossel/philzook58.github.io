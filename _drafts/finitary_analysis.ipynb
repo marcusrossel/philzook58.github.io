{
 "cells": [
  {
   "cell_type": "code",
   "execution_count": null,
   "metadata": {},
   "outputs": [],
   "source": []
  },
  {
   "cell_type": "markdown",
   "metadata": {},
   "source": [
    "# Polish spaces\n",
    "\n",
    "https://mathoverflow.net/questions/159030/non-polish-lebesgue-probability-space\n",
    "https://en.m.wikipedia.org/wiki/Perfect_set_property\n",
    "\n",
    "Borel Set\n",
    "\n",
    "Cantor bendixson theorem\n",
    "Descriptive set theory https://en.wikipedia.org/wiki/Descriptive_set_theory\n",
    "https://homepages.math.uic.edu/~marker/math512/dst.pdf David marker notes\n",
    "Kechris’ Classical Descriptive Set Theory \n",
    "metrizable = exists a metric that would generate the topology... ?\n",
    "separable = has countable dense subset\n",
    "\n",
    "Hilbert cube I^N = a sequence of intervals\n",
    "\n",
    "Baire space = N^N. sequences of nats\n",
    "Cantor space = 2^N. sequences of bools\n",
    "\n",
    "Cantor bendixson derivative\n"
   ]
  },
  {
   "cell_type": "markdown",
   "metadata": {},
   "source": [
    "https://en.wikipedia.org/wiki/Sperner%27s_lemma a finite fixed point theorem analgous to brouwer's. 1-d case is intermediate value theorem? 2-d is WKL\n",
    "https://en.wikipedia.org/wiki/Knaster%E2%80%93Kuratowski%E2%80%93Mazurkiewicz_lemma\n",
    "\n",
    "There is a mix of ideas in settheory and validated.\n",
    "\n",
    "There are reasonable finitary versions of \n",
    "axiom of choice\n",
    "dependent choice\n",
    "ACw\n",
    "\n",
    "Konig's lemma\n",
    "Bolzano Weierstrauss\n",
    "\n",
    "Choice principles\n",
    "\n",
    "\n",
    "What if we treated finite sequences, where computing further pieces are costly. Then the number of posieces you need to expand contributes to the algorithmioc complexity of different questions.\n",
    "\n",
    "\n"
   ]
  }
 ],
 "metadata": {
  "language_info": {
   "name": "python"
  }
 },
 "nbformat": 4,
 "nbformat_minor": 2
}
