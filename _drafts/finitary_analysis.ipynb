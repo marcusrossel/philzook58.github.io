{
 "cells": [
  {
   "cell_type": "code",
   "execution_count": null,
   "metadata": {},
   "outputs": [],
   "source": []
  },
  {
   "cell_type": "markdown",
   "metadata": {},
   "source": [
    "https://en.wikipedia.org/wiki/Sperner%27s_lemma a finite fixed point theorem analgous to brouwer's. 1-d case is intermediate value theorem? 2-d is WKL\n",
    "https://en.wikipedia.org/wiki/Knaster%E2%80%93Kuratowski%E2%80%93Mazurkiewicz_lemma\n",
    "\n",
    "There is a mix of ideas in settheory and validated.\n",
    "\n",
    "There are reasonable finitary versions of \n",
    "axiom of choice\n",
    "dependent choice\n",
    "ACw\n",
    "\n",
    "Konig's lemma\n",
    "Bolzano Weierstrauss\n",
    "\n",
    "Choice principles\n",
    "\n",
    "\n",
    "What if we treated finite sequences, where computing further pieces are costly. Then the number of posieces you need to expand contributes to the algorithmioc complexity of different questions.\n",
    "\n",
    "\n"
   ]
  }
 ],
 "metadata": {
  "language_info": {
   "name": "python"
  }
 },
 "nbformat": 4,
 "nbformat_minor": 2
}
