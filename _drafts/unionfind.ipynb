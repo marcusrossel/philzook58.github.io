{
 "cells": [
  {
   "cell_type": "code",
   "execution_count": null,
   "metadata": {},
   "outputs": [],
   "source": []
  },
  {
   "cell_type": "markdown",
   "metadata": {},
   "source": [
    "Simple union find\n",
    "\n",
    "compressing\n",
    "\n",
    "colored union finds - use min to ping pong. label the union find. DAG hierarchy is fine.\n",
    "\n",
    "union finds as converging functions\n",
    "\n",
    "proof pdoucting union find\n",
    "\n",
    "\n",
    "using dictionary vs using ids\n",
    "vs using pointers\n"
   ]
  },
  {
   "cell_type": "code",
   "execution_count": null,
   "metadata": {},
   "outputs": [],
   "source": [
    "uf = []\n",
    "def find(x):\n",
    "    while x != uf[x]:\n",
    "        x = uf[x]\n",
    "    return uf[x]\n",
    "\n",
    "def union(x, y):\n",
    "    uf[find(x)] = find(y)\n",
    "    return find(y)\n",
    "\n",
    "\n",
    "\n"
   ]
  },
  {
   "cell_type": "code",
   "execution_count": null,
   "metadata": {},
   "outputs": [],
   "source": [
    "reasons = []\n",
    "trace = []\n",
    "def union_reason(x, y, reason):\n",
    "    reasons[find(x)] = (x, y, reason)\n",
    "    trace.append((x, y, reason)) # this is sufficient. we don't need to store find(x) and find(y)\n",
    "    uf[find(x)] = find(y)\n",
    "    return find(y)\n",
    "\n",
    "def explain(x,y):\n",
    "    "
   ]
  },
  {
   "cell_type": "markdown",
   "metadata": {},
   "source": [
    "Visualizing as a graph.\n",
    "The union find is part of kruskal's algorithm\n",
    "https://en.wikipedia.org/wiki/Kruskal%27s_algorithm\n",
    "\n",
    "So for example if you had a bunch of equalities and you know how painful each one was to get, you could devise a minimum spanning tree for that.\n",
    "\n",
    "Term rewriting as a graph.\n",
    "\n",
    "Secret congruence edges\n"
   ]
  },
  {
   "cell_type": "code",
   "execution_count": null,
   "metadata": {},
   "outputs": [],
   "source": [
    "import networkx as nx\n",
    "\n",
    "# random graph with multiple components\n",
    "G = nx.Graph()\n",
    "#G.add_nodes_from(range(10))\n",
    "\n",
    "\n",
    "\n",
    "# color the edges in the union find"
   ]
  },
  {
   "cell_type": "code",
   "execution_count": null,
   "metadata": {},
   "outputs": [],
   "source": []
  }
 ],
 "metadata": {
  "language_info": {
   "name": "python"
  }
 },
 "nbformat": 4,
 "nbformat_minor": 2
}
