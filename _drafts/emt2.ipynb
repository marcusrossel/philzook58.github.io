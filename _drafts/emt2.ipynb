{
 "cells": [
  {
   "cell_type": "code",
   "execution_count": null,
   "metadata": {},
   "outputs": [],
   "source": [
    "from dataclasses import dataclass\n",
    "from z3 import *\n",
    "@dataclass\n",
    "class EGraph():\n",
    "    E: list[tuple(ExprRef, ExprRef)]\n",
    "    T: dict[SortRef]\n",
    "    def __init__(self):\n",
    "        self.E = []\n",
    "        self.T = defaultdict(set)\n",
    "        self.solver = Solver()\n",
    "    def add_term(self, t):\n",
    "        self.T[t.sort()].add(t)\n",
    "        if is_app(t):\n",
    "            for t in t.children():\n",
    "                self.add_term(t)\n",
    "    def union(self, t1, t2, reason=None):\n",
    "        # use solver for subsumption check rather than reducing.\n",
    "        self.solver.push()\n",
    "        self.solver.add(t1 != t2)\n",
    "        res = self.solver.check()\n",
    "        self.solver.pop()\n",
    "        if res == sat: # non redundant info\n",
    "            self.solver.assert_and_track(t1 == t2, ) # add and track?\n",
    "            self.E.append((t1,t2, reason)) # add reason\n",
    "    def rw(self, sorts, f):\n",
    "        for xs in product(*[self.T[sort] for sort in sort]):\n",
    "            lhs, rhs = f(xs)\n",
    "            self.solver.push()\n",
    "            # this avoids the reduction step to check if in self.T\n",
    "            self.solver.add(Not(Or(lhs == t for t in self.T[lhs.sort()]))\n",
    "            res = self.solver.check() # can give unsat core reason for why lhs == pat[xs]\n",
    "            self.solver.pop()\n",
    "            if res == unsat:\n",
    "                core = self.get_unsat_core()\n",
    "\n",
    "                self.union(lhs, rhs, reason=(\"rule\", core))\n",
    "\n",
    "\n"
   ]
  },
  {
   "cell_type": "markdown",
   "metadata": {},
   "source": [
    "Can we do a contextual egraph using z3 SAT?\n",
    "Twee style context\n",
    "\n",
    "\"in\" the T set can be done as an smt call\n",
    "\n",
    "solver.push()\n",
    "s.add(Not(Or(pat == t for t in T)))\n",
    "res = s.check()\n",
    "s.pop()\n",
    "if unsat: # match\n",
    "    s.unsat_core() #? useful for proof?\n",
    "\n",
    "\n",
    "# Confluence Competition\n",
    "\n",
    "Moca conlfuecne compeitition.\n",
    "logically constrained rewrite systems. THis is similar to egraphs modulo theories? https://project-coco.uibk.ac.at/2024/categories/lctrs.php \n",
    "The ARI format. I like this https://project-coco.uibk.ac.at/ARI/index.php\n",
    "https://ari-cops.uibk.ac.at/ARI/\n"
   ]
  }
 ],
 "metadata": {
  "language_info": {
   "name": "python"
  }
 },
 "nbformat": 4,
 "nbformat_minor": 2
}
