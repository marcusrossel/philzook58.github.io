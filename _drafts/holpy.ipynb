{
 "cells": [
  {
   "cell_type": "markdown",
   "metadata": {},
   "source": [
    "Holpy is great. It isn't quite a library.\n",
    "It's also under someone elses control.\n",
    "What if I started pulling stuff out of it. Make a shorter version.\n",
    "\n",
    "https://github.com/philzook58/holpy/tree/main2\n",
    "\n",
    "The tutorials give a orentiation and ordering to files to consider\n",
    "https://github.com/philzook58/holpy/tree/main2/tutorial"
   ]
  },
  {
   "cell_type": "markdown",
   "metadata": {},
   "source": [
    "# Types\n",
    "https://github.com/philzook58/holpy/blob/main2/kernel/type.py"
   ]
  },
  {
   "cell_type": "code",
   "execution_count": 12,
   "metadata": {},
   "outputs": [],
   "source": [
    "\n",
    "from dataclasses import dataclass\n",
    "class Type:\n",
    "    pass\n",
    "\n",
    "@dataclass(frozen=True)\n",
    "class STVar(Type):\n",
    "    name: str\n",
    "\n",
    "@dataclass(frozen=True)\n",
    "class SVar(Type):\n",
    "    name: str\n",
    "\n",
    "@dataclass(frozen=True)\n",
    "class TConst(Type):\n",
    "    name: str\n",
    "    args: tuple[Type] = ()\n",
    "\n",
    "def TFun(*args):\n",
    "    if len(args) == 1:\n",
    "        return args[0]\n",
    "    else:\n",
    "        return TConst('->', (args[0], TFun(*args[1:])))\n",
    "\n",
    "\n",
    "BoolType = TConst(\"bool\")\n",
    "NatType = TConst('nat')\n",
    "IntType = TConst('int')\n",
    "RealType = TConst('real')\n"
   ]
  },
  {
   "cell_type": "markdown",
   "metadata": {},
   "source": [
    "# Terms\n",
    "https://github.com/philzook58/holpy/blob/main2/kernel/term.py"
   ]
  },
  {
   "cell_type": "code",
   "execution_count": 10,
   "metadata": {},
   "outputs": [
    {
     "data": {
      "text/plain": [
       "Comb(fun=Const(name='neg', T=TConst(name='->', args=(TConst(name='bool', args=[]), TConst(name='bool', args=[])))), arg=Const(name='true', T=TConst(name='bool', args=[])))"
      ]
     },
     "execution_count": 10,
     "metadata": {},
     "output_type": "execute_result"
    }
   ],
   "source": [
    "class Term:\n",
    "    def __call__(self, *args):\n",
    "        res = self\n",
    "        for arg in args:\n",
    "            res = Comb(res, arg)\n",
    "        return res\n",
    "\n",
    "@dataclass\n",
    "class SVar(Term):\n",
    "    name: str\n",
    "    T: Type\n",
    "\n",
    "@dataclass\n",
    "class Var(Term):\n",
    "    name: str\n",
    "    T: Type\n",
    "\n",
    "@dataclass\n",
    "class Const(Term):\n",
    "    name: str\n",
    "    T: Type\n",
    "\n",
    "@dataclass\n",
    "class Comb(Term):\n",
    "    fun: Term\n",
    "    arg: Term\n",
    "\n",
    "@dataclass\n",
    "class Abs(Term):\n",
    "    var_name: str\n",
    "    var_T: Type\n",
    "    body: Term\n",
    "\n",
    "@dataclass\n",
    "class Bound(Term):\n",
    "    n: int\n",
    "\n",
    "true = Const(\"true\", BoolType)\n",
    "false = Const(\"false\", BoolType)\n",
    "\n",
    "neg = Const(\"neg\", TFun(BoolType, BoolType))\n",
    "conj = Const(\"conj\", TFun(BoolType, TFun(BoolType, BoolType)))\n",
    "disj = Const(\"disj\", TFun(BoolType, TFun(BoolType, BoolType)))\n",
    "impl = Const(\"impl\", TFun(BoolType, TFun(BoolType, BoolType)))\n",
    "\n",
    "eq = lambda T: Const(\"eq\", TFun(TFun(T, BoolType), TFun(TFun(T, BoolType), BoolType)))\n",
    "\n",
    "neg(true)"
   ]
  },
  {
   "cell_type": "markdown",
   "metadata": {},
   "source": [
    "So what is next.\n",
    "Substitution\n",
    "Lambda norm\n",
    "Matching\n",
    "\n"
   ]
  }
 ],
 "metadata": {
  "kernelspec": {
   "display_name": "Python 3",
   "language": "python",
   "name": "python3"
  },
  "language_info": {
   "codemirror_mode": {
    "name": "ipython",
    "version": 3
   },
   "file_extension": ".py",
   "mimetype": "text/x-python",
   "name": "python",
   "nbconvert_exporter": "python",
   "pygments_lexer": "ipython3",
   "version": "3.10.12"
  }
 },
 "nbformat": 4,
 "nbformat_minor": 2
}
