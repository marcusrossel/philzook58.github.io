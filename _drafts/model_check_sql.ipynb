{
 "cells": [
  {
   "cell_type": "code",
   "execution_count": null,
   "metadata": {},
   "outputs": [],
   "source": [
    "def model(t : z3.BoolRef):\n",
    "    if is_and(t):\n",
    "        print(\"And\")\n",
    "        for c in t.children():\n",
    "\n",
    "    elif is_or(t):\n",
    "\n",
    "    elif is_quantifier(t):\n",
    "        if t.is_forall():\n",
    "            print(\"Forall\")\n",
    "    elif is_app(t):\n",
    "        # base relation. look up in table\n",
    "        print(\"App\")\n",
    "        print(t.decl().name())\n",
    "        for c in t.children():\n",
    "            model(c)"
   ]
  },
  {
   "cell_type": "markdown",
   "metadata": {},
   "source": [
    "\n",
    "multiset semantics ought to mean that linear logic is appropriate\n",
    "\n",
    "higher order models for higher order databases?\n",
    "\n",
    "Fixed point logic\n"
   ]
  }
 ],
 "metadata": {
  "language_info": {
   "name": "python"
  }
 },
 "nbformat": 4,
 "nbformat_minor": 2
}
