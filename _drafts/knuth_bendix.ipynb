{
 "cells": [
  {
   "cell_type": "markdown",
   "metadata": {},
   "source": [
    "\n",
    "Extraction Cost is Knuth Bendix Ordering Weights\n",
    "\n",
    "consider ground extraction\n",
    "\n",
    "elpi knuth bendix\n",
    "https://www.cl.cam.ac.uk/~jrh13/atp/\n",
    "\n",
    "Knuth bendix + grobner\n",
    "Can we do it? It'd be cool https://www3.risc.jku.at/publications/download/risc_3528/paper_48.pdf\n",
    "\n",
    "\n",
    "\n",
    "naive rewriting search engine. Keep score. \n",
    "Greedy.\n",
    "Then\n",
    "Expansive\n",
    "\n",
    "import swipy\n",
    "import requests\n",
    "r = requests.get('https://www.metalevel.at/trs/trs.pl')\n",
    "\n",
    "swipy.load_module(r.body)\n",
    "\n",
    "`pip install janus_swi`"
   ]
  },
  {
   "cell_type": "code",
   "execution_count": 28,
   "metadata": {},
   "outputs": [
    {
     "name": "stdout",
     "output_type": "stream",
     "text": [
      "Overwriting /tmp/trs.pl\n"
     ]
    }
   ],
   "source": [
    "%%file /tmp/trs.pl\n",
    "% based on markus triska's trs\n",
    ":- op(800, xfx, ==>).\n",
    "step([L==>R|Rs], T0, T) :-\n",
    "        (   subsumes_term(L, T0) ->\n",
    "            copy_term(L-R, T0-T)\n",
    "        ;   step(Rs, T0, T)\n",
    "        ).\n",
    "\n",
    "normal_form(Rs, T0, T) :-\n",
    "        (   var(T0) -> T = T0\n",
    "        ;   T0 =.. [F|Args0],\n",
    "            maplist(normal_form(Rs), Args0, Args1),\n",
    "            T1 =.. [F|Args1],\n",
    "            (   step(Rs, T1, T2) ->\n",
    "                normal_form(Rs, T2, T)\n",
    "            ;   T = T1\n",
    "            )\n",
    "        ).\n",
    "\n",
    "term_to_list(T, L) :-\n",
    "        (   var(T) -> L = [T]\n",
    "        ;   T =.. [F|Args],\n",
    "            maplist(term_to_list, Args, ArgsL),\n",
    "            L = [F|ArgsL]\n",
    "        )."
   ]
  },
  {
   "cell_type": "markdown",
   "metadata": {},
   "source": [
    "% convert prolog term to lists of lists\n"
   ]
  },
  {
   "cell_type": "code",
   "execution_count": 30,
   "metadata": {},
   "outputs": [
    {
     "data": {
      "text/plain": [
       "['g', ['x']]"
      ]
     },
     "execution_count": 30,
     "metadata": {},
     "output_type": "execute_result"
    }
   ],
   "source": [
    "# https://www.swi-prolog.org/pldoc/doc_for?object=section(%27packages/janus.html%27)\n",
    "import janus_swi as janus\n",
    "janus.consult(\"/tmp/trs.pl\")\n",
    "ans = janus.query_once(\"normal_form([f(x) ==> g(x)], f(x), _Res), term_to_list(_Res,Res).\")\n",
    "ans['Res']"
   ]
  },
  {
   "cell_type": "code",
   "execution_count": null,
   "metadata": {},
   "outputs": [],
   "source": []
  },
  {
   "cell_type": "markdown",
   "metadata": {},
   "source": [
    "https://lpcic.github.io/coq-elpi/tutorial_elpi_lang.html\n",
    "https://github.com/LPCIC/elpi/blob/master/src/builtin.elpi"
   ]
  },
  {
   "cell_type": "code",
   "execution_count": 11,
   "metadata": {},
   "outputs": [
    {
     "name": "stdout",
     "output_type": "stream",
     "text": [
      "Writing /tmp/trs.elpi\n"
     ]
    }
   ],
   "source": [
    "%%file /tmp/trs.elpi\n",
    "kind term type.\n",
    "\n",
    "%infixr ==> 50.\n",
    "%type (==>)   tye -> tye -> tye.\n",
    "type fn string -> list term -> term.\n",
    "type lam : (term -> term) -> term.\n",
    "\n",
    "kind rule type.\n",
    "type rule : term -> term -> rule.\n",
    "\n",
    "pred normal : list rule,  term, term.\n"
   ]
  },
  {
   "cell_type": "code",
   "execution_count": null,
   "metadata": {},
   "outputs": [],
   "source": [
    "! elpi -exec 'normal (fn \"a\" []) Ans' /tmp/trs.elpi"
   ]
  },
  {
   "cell_type": "code",
   "execution_count": null,
   "metadata": {},
   "outputs": [],
   "source": [
    "class Fn():\n",
    "    cost: int\n",
    "    hash: int\n",
    "    head: str\n",
    "    args: List['Fn']\n",
    "\n",
    "\n",
    "def ground_kbo(t1,t2):\n",
    "    if t1.cost < t2.cost:\n",
    "        return True\n",
    "    elif t1.cost > t2.cost:\n",
    "        return False\n",
    "    elif t1.head < t2.head:\n",
    "        return True\n",
    "    elif t1.head > t2.head:\n",
    "        return False\n",
    "    else:\n",
    "        for arg1, arg2 in zip(t1.args ,t2.args):\n",
    "            if arg1 == arg2:\n",
    "                continue\n",
    "            return ground_kbo(arg1, arg2)\n",
    "            "
   ]
  },
  {
   "cell_type": "code",
   "execution_count": 9,
   "metadata": {},
   "outputs": [],
   "source": [
    "\n",
    "import requests\n",
    "res = requests.get(\"https://www.metalevel.at/trs/trs.pl\")\n",
    "with open(\"/tmp/trs.pl\", \"w\") as f:\n",
    "    f.write(res.text)"
   ]
  },
  {
   "cell_type": "code",
   "execution_count": 10,
   "metadata": {},
   "outputs": [
    {
     "name": "stderr",
     "output_type": "stream",
     "text": [
      "ERROR: /tmp/trs.pl:67:\n",
      "ERROR:    source_sink `library(clpz)' does not exist\n",
      "Warning: /tmp/trs.pl:67:\n",
      "Warning:    Goal (directive) failed: user:use_module(library(clpz))\n",
      "ERROR: /tmp/trs.pl:69:\n",
      "ERROR:    source_sink `library(dcgs)' does not exist\n",
      "Warning: /tmp/trs.pl:69:\n",
      "Warning:    Goal (directive) failed: user:use_module(library(dcgs))\n",
      "ERROR: /tmp/trs.pl:71:\n",
      "ERROR:    source_sink `library(iso_ext)' does not exist\n",
      "Warning: /tmp/trs.pl:71:\n",
      "Warning:    Goal (directive) failed: user:use_module(library(iso_ext))\n",
      "ERROR: /tmp/trs.pl:72:\n",
      "ERROR:    source_sink `library(format)' does not exist\n",
      "Warning: /tmp/trs.pl:72:\n",
      "Warning:    Goal (directive) failed: user:use_module(library(format))\n",
      "ERROR: /tmp/trs.pl:261:23: Syntax error: Operator expected\n",
      "ERROR: /tmp/trs.pl:269:9: Syntax error: Operator expected\n"
     ]
    }
   ],
   "source": [
    "\n"
   ]
  },
  {
   "cell_type": "code",
   "execution_count": null,
   "metadata": {},
   "outputs": [],
   "source": [
    "\"\"\"\n",
    "let rec termsize tm =\n",
    "  match tm with\n",
    "  | Fn(f,args) -> itlist (fun t n -> termsize t + n) args 1;;\n",
    "    Var x -> 1\n",
    "\"\"\"\n",
    "def termsize(tm):\n",
    "    match tm:\n",
    "        case (\"Var\", x):\n",
    "            return 1\n",
    "        case (\"Fn\", f, args):\n",
    "            return sum(map(termsize, args)) + 1\n"
   ]
  },
  {
   "cell_type": "code",
   "execution_count": 3,
   "metadata": {},
   "outputs": [],
   "source": [
    "from dataclasses import dataclass\n",
    "from typing import Tuple\n",
    "class Term:\n",
    "    pass\n",
    "@dataclass\n",
    "class Fn(Term):\n",
    "    f: str\n",
    "    args: Tuple[Term]\n",
    "\n",
    "@dataclass\n",
    "class Var(Term):\n",
    "    name: str\n",
    "\n",
    "def Function(fn):\n",
    "    def res(*args):\n",
    "        return Fn(fn, args)\n",
    "    return res\n",
    "def Vars(xs):\n",
    "    return [Var(x) for x in xs.split()]\n",
    "def Functions(fns):\n",
    "    return [Function(fn) for fn in fns.split()]\n",
    "\n",
    "import enum\n",
    "\n",
    "# traat\n",
    "# harrison\n",
    "# norvig\n",
    "# eli bendersky\n",
    "\n",
    "def unify(x, y, subst):\n",
    "    \"\"\"Unifies term x and y with initial subst.\n",
    "\n",
    "    Returns a subst (map of name->term) that unifies x and y, or None if\n",
    "    they can't be unified. Pass subst={} if no subst are initially\n",
    "    known. Note that {} means valid (but empty) subst.\n",
    "    \"\"\"\n",
    "    if subst is None:\n",
    "        return None\n",
    "    elif x == y:\n",
    "        return subst\n",
    "    elif isinstance(x, Var):\n",
    "        return unify_variable(x, y, subst)\n",
    "    elif isinstance(y, Var):\n",
    "        return unify_variable(y, x, subst)\n",
    "    elif isinstance(x, Fn) and isinstance(y, Fn):\n",
    "        if x.f != y.f or len(x.args) != len(y.args):\n",
    "            return None\n",
    "        else:\n",
    "            for i in range(len(x.args)):\n",
    "                subst = unify(x.args[i], y.args[i], subst)\n",
    "            return subst\n",
    "    else:\n",
    "        return None\n",
    "\n",
    "def unify_variable(v, x, subst):\n",
    "    \"\"\"Unifies variable v with term x, using subst.\n",
    "\n",
    "    Returns updated subst or None on failure.\n",
    "    \"\"\"\n",
    "    assert isinstance(v, Var)\n",
    "    if v.name in subst:\n",
    "        return unify(subst[v.name], x, subst)\n",
    "    elif isinstance(x, Var) and x.name in subst:\n",
    "        return unify(v, subst[x.name], subst)\n",
    "    elif occurs_check(v, x, subst):\n",
    "        return None\n",
    "    else:\n",
    "        # v is not yet in subst and can't simplify x. Extend subst.\n",
    "        return {**subst, v.name: x}\n",
    "\n",
    "def occurs_check(v, term, subst):\n",
    "    \"\"\"Does the variable v occur anywhere inside term?\n",
    "\n",
    "    Variables in term are looked up in subst and the check is applied\n",
    "    recursively.\n",
    "    \"\"\"\n",
    "    assert isinstance(v, Var)\n",
    "    if v == term:\n",
    "        return True\n",
    "    elif isinstance(term, Var) and term.name in subst:\n",
    "        return occurs_check(v, subst[term.name], subst)\n",
    "    elif isinstance(term, Fn):\n",
    "        return any(occurs_check(v, arg, subst) for arg in term.args)\n",
    "    else:\n",
    "        return False\n"
   ]
  },
  {
   "cell_type": "code",
   "execution_count": 8,
   "metadata": {},
   "outputs": [],
   "source": [
    "assert unify(Var(\"x\"), Var(\"y\"), {}) == {\"x\": Var(\"y\")}\n",
    "assert unify(Var(\"x\"), Var(\"x\"), {}) == {}\n",
    "assert unify(Var(\"x\"), Fn(\"f\", [Var(\"y\")]), {}) == {\"x\": Fn(\"f\", [Var(\"y\")])}\n",
    "assert unify(Fn(\"f\", [Var(\"x\")]), Fn(\"f\", [Var(\"y\")]), {}) == {\"x\": Var(\"y\")}\n",
    "assert unify(Fn(\"f\", [Var(\"x\")]), Fn(\"g\", [Var(\"y\")]), {}) == None\n",
    "\n",
    "# hmm. This is assuming \"x\" and \"x\" in the lhs rhs are the same thing.\n"
   ]
  },
  {
   "cell_type": "code",
   "execution_count": 22,
   "metadata": {},
   "outputs": [],
   "source": [
    "def critical_pairs(f,g):\n",
    "    if isinstance(f, Var) or isinstance(g, Var):\n",
    "        return\n",
    "    elif f.f == g.f:\n",
    "        subst = unify(f,g,{})\n",
    "        if subst is not None:\n",
    "            yield subst, f, g\n",
    "    # This is double counting\n",
    "    for arg in f.args:\n",
    "        yield from critical_pairs(arg, g)\n",
    "    for arg in g.args:\n",
    "        yield from critical_pairs(f, arg)\n",
    "\n"
   ]
  },
  {
   "cell_type": "code",
   "execution_count": 27,
   "metadata": {},
   "outputs": [
    {
     "data": {
      "text/plain": [
       "[]"
      ]
     },
     "execution_count": 27,
     "metadata": {},
     "output_type": "execute_result"
    }
   ],
   "source": [
    "list(critical_pairs(Fn(\"f\", [Var(\"x\")]), Fn(\"f\", [Var(\"y\")])))\n",
    "list(critical_pairs(Fn(\"f\", [Var(\"x\")]), Fn(\"g\", [Var(\"y\")])))\n"
   ]
  },
  {
   "cell_type": "code",
   "execution_count": null,
   "metadata": {},
   "outputs": [],
   "source": [
    "def _match(e,pat,subst):\n",
    "    match pat, e:\n",
    "        case (Var(name), _):\n",
    "            if pat.name in subst:\n",
    "                if subst[pat.name] == e:\n",
    "                    return subst\n",
    "                else:\n",
    "                    return None\n",
    "            else:\n",
    "                return {**subst, pat.name: e}\n",
    "        case (Fn(f,args), Fn(f1,args1)):\n",
    "            if f != f1 or len(args) != len(args1):\n",
    "                return None\n",
    "            else:\n",
    "                for a1,a2 in zip(args,args1):\n",
    "                    subst = _match(a1,a2,subst)\n",
    "                    if subst == None:\n",
    "                        return None\n",
    "                return subst\n",
    "        case _:\n",
    "            raise ValueError(f\"Can't match {pat} with {e}\")\n"
   ]
  },
  {
   "cell_type": "code",
   "execution_count": null,
   "metadata": {},
   "outputs": [],
   "source": []
  },
  {
   "cell_type": "markdown",
   "metadata": {},
   "source": []
  },
  {
   "cell_type": "code",
   "execution_count": null,
   "metadata": {},
   "outputs": [],
   "source": [
    "recexpr\n"
   ]
  },
  {
   "cell_type": "code",
   "execution_count": 8,
   "metadata": {},
   "outputs": [
    {
     "data": {
      "text/plain": [
       "False"
      ]
     },
     "execution_count": 8,
     "metadata": {},
     "output_type": "execute_result"
    }
   ],
   "source": [
    "\"\"\"\n",
    "let rec lexord ord l1 l2 =\n",
    "  match (l1,l2) with\n",
    "    (h1::t1,h2::t2) -> if ord h1 h2 then length t1 = length t2\n",
    "                       else h1 = h2 & lexord ord t1 t2\n",
    "  | _ -> false;;\n",
    "\"\"\"\n",
    "def lexord(ord, l1, l2):\n",
    "    match (l1, l2):\n",
    "        case ([h1,*t1], [h2, *t2]):\n",
    "            if ord(h1, h2): # yeah I dunno about this. Is this a faithful rep of ord\n",
    "                return len(t1) == len(t2)\n",
    "            else:\n",
    "                return h1 == h2 and lexord(ord,t1, t2)\n",
    "        case _:\n",
    "            return False\n",
    "\n",
    "lexord([1,5], [1,4])"
   ]
  },
  {
   "cell_type": "code",
   "execution_count": null,
   "metadata": {},
   "outputs": [],
   "source": [
    "\"\"\"\n",
    "let rec lpo_gt w s t =\n",
    "  match (s,t) with\n",
    "    (_,Var x) ->\n",
    "        not(s = t) & mem x (fvt s)\n",
    "  | (Fn(f,fargs),Fn(g,gargs)) ->\n",
    "        exists (fun si -> lpo_ge w si t) fargs or\n",
    "        forall (lpo_gt w s) gargs &\n",
    "        (f = g & lexord (lpo_gt w) fargs gargs or\n",
    "         w (f,length fargs) (g,length gargs))\n",
    "  | _ -> false\n",
    "\"\"\"\n",
    "def lpo_gt(w,s,t):\n",
    "    match (s,t):\n",
    "        case (_, (\"Var\", x)):\n",
    "            return s != t and x in fvt(s)\n",
    "        case ((\"Fn\", f, fargs), (\"Fn\", g, gargs)):\n",
    "            return any(lpo_ge(w, si, t) for si in fargs) or \\\n",
    "                all(lpo_gt(w, s, si) for si in gargs) and \\\n",
    "                (f == g and lexord(lambda s,t: lpo_gt(w,s,t), fargs, gargs) or \\\n",
    "                 w(f, len(fargs), g, len(gargs)))\n",
    "        case _:\n",
    "            return False"
   ]
  },
  {
   "cell_type": "code",
   "execution_count": null,
   "metadata": {},
   "outputs": [],
   "source": [
    "def size(t):\n",
    "    match t:\n",
    "        case Var(x):\n",
    "            return 1\n",
    "        case Fn(f, args):\n",
    "            return 1 + sum(map(size, args))\n",
    "\n",
    "def vars(t):\n",
    "    match t:\n",
    "        case Var(x):\n",
    "            yield x\n",
    "        case Fn(f, args):\n",
    "            for arg in args:\n",
    "                yield from vars(arg)\n",
    "from collections import Counter # a multiset type\n",
    "\n",
    "def var_comp_lte(t1,t2):\n",
    "    # We don't want to have more vars on lhs than rhs\n",
    "    c1 = Counter(vars(t1))\n",
    "    c2 = Counter(vars(t2))\n",
    "    for k in c2:\n",
    "        if c1[k] < c2[k]:\n",
    "            return False\n",
    "    return True\n",
    "\n",
    "\n",
    "\n",
    "\n",
    "    "
   ]
  },
  {
   "cell_type": "code",
   "execution_count": null,
   "metadata": {},
   "outputs": [],
   "source": [
    "def kbo2a(t1,t2):\n",
    "    if not isinstance(t2, Var):\n",
    "        return False\n",
    "    # check if t1 is iteerated functions symbol f over variable t2\n",
    "    if not isinstance(t1, Fn):\n",
    "        return False\n",
    "    fn = t1.f\n",
    "    def check(t):\n",
    "        if isinstance(t, Var):\n",
    "            return t == t2\n",
    "        elif isinstance(t, Fn):\n",
    "            return t.f == fn and len(t.args) == 1 and check(arg[0])\n",
    "        else:\n",
    "            raise ValueError(\"Not a term\")\n",
    "    return check(t1)\n"
   ]
  },
  {
   "cell_type": "code",
   "execution_count": 8,
   "metadata": {},
   "outputs": [
    {
     "name": "stdout",
     "output_type": "stream",
     "text": [
      "Overwriting /tmp/kbo_test.p\n"
     ]
    }
   ],
   "source": [
    "%%file /tmp/kbo_test.p\n",
    "cnf(test, axiom, f = g).\n",
    "cnf(false, conjecture, true = false).\n"
   ]
  },
  {
   "cell_type": "code",
   "execution_count": 9,
   "metadata": {},
   "outputs": [
    {
     "name": "stdout",
     "output_type": "stream",
     "text": [
      "Here is the input problem:\n",
      "  Axiom 1 (test): f = g.\n",
      "  Goal 1 (false): true = false.\n",
      "\n",
      "1. g -> f\n",
      "\n",
      "Ran out of critical pairs. This means the conjecture is not true.\n",
      "Here is the final rewrite system:\n",
      "  g -> f\n",
      "\n",
      "RESULT: CounterSatisfiable (the conjecture is false).\n"
     ]
    }
   ],
   "source": [
    "!twee /tmp/kbo_test.p --precedence g,f"
   ]
  },
  {
   "cell_type": "code",
   "execution_count": 10,
   "metadata": {},
   "outputs": [
    {
     "name": "stdout",
     "output_type": "stream",
     "text": [
      "Here is the input problem:\n",
      "  Axiom 1 (test): f = g.\n",
      "  Goal 1 (false): true = false.\n",
      "\n",
      "1. f -> g\n",
      "\n",
      "Ran out of critical pairs. This means the conjecture is not true.\n",
      "Here is the final rewrite system:\n",
      "  f -> g\n",
      "\n",
      "RESULT: CounterSatisfiable (the conjecture is false).\n"
     ]
    }
   ],
   "source": [
    "!twee /tmp/kbo_test.p --precedence f,g"
   ]
  },
  {
   "cell_type": "code",
   "execution_count": null,
   "metadata": {},
   "outputs": [],
   "source": [
    "\n",
    "def kbo(t1,t2):\n",
    "    if not var_comp_lte(t1,t2):\n",
    "        return True\n",
    "    w1 = size(t1)\n",
    "    w2 = size(t2)\n",
    "    if w1 > w2:\n",
    "        return True\n",
    "    elif w1 < w2:\n",
    "        return False\n",
    "    else:\n",
    "         if kbo2a(t1,t2):\n",
    "             return True\n",
    "         elif t2.f < t1.f:   #kbo2b\n",
    "            return True\n",
    "        elif: #kbo2c\n",
    "            \n",
    "        else:\n",
    "            return None"
   ]
  },
  {
   "cell_type": "code",
   "execution_count": null,
   "metadata": {},
   "outputs": [],
   "source": [
    "%%bash\n",
    "\n",
    "dedu"
   ]
  },
  {
   "cell_type": "markdown",
   "metadata": {},
   "source": [
    "https://link.springer.com/content/pdf/10.1007/3-540-17220-3_4.pdf How to choose the weights in the Knuth Bendix ordering -- ursula martin\n",
    "\n",
    "https://academic.oup.com/comjnl/article/34/1/2/427931 An Introduction to Knuth–Bendix Completion Ajj dick\n",
    "\n",
    "https://link.springer.com/article/10.1007/s10817-006-9031-4  Things to Know when Implementing KBO\n",
    "\n",
    "We have a notion that simplifiers must terminate because terms get simpler until they can't\n",
    "\n",
    "\"size\" is a basic notion of complexity.\n",
    "\n",
    "In order to guarantee a rule with variables gets smaller, we can count the number of symbols in it. The number of pattern variables has to be getting smaller, or else the thing is getting bigger.\n",
    "\n",
    "`(X + 0) -> X` makes the term simpler\n",
    "\n",
    "`foo(bar(1,2,3,4,5,6,X)) -> biz(X,X)` is not definitely a simplification, because X might be huge. In a realistic situation, we might want to guard this rule by `size(X) < 3` or something.\n",
    "\n",
    "A slight extension is to give the symbols in the term weight.\n",
    "\n",
    "Another example is associating to the right. X + (Y + Z) -> (X + Y) + Z. This also obviously terminates. We can give lexicographic preference to left subtrees.\n",
    "\n",
    "\n",
    "Another example is getting flatter. The height is descreasing.\n",
    "\n",
    "distrbutivity is another common case. x*(y + z) -> x*y + x*z. This is getting bigger _and_ duplicating x. That's a big nono for most term orderings. But clearly foiling is terminating.\n",
    "\n",
    "A different system that is obviously terminating is stratified macro expansion. Macros can refer to previously defined macros. The terms however, may get very large and be increasing in size.\n",
    "f(X) -> bar(X,X) is not an issue.\n",
    "Cycles in the dependency graph\n",
    "\n",
    "We don't expect to be able to have a total ordering on terms with variables in them. But we do want our definition to have a well defined\n",
    "\n",
    "A primitive system that is obviously terminating are systems of the form `f(x,y,z,...) -> z` This is a view on the homeomorphic embedding relation.\n",
    "\n",
    "right ground systems\n",
    "\n",
    "Many functional programs are \"obviously\" terminating even if we don't think of them in these terms\n",
    "\n",
    "Negation normal form pushing\n",
    "\n"
   ]
  },
  {
   "cell_type": "code",
   "execution_count": null,
   "metadata": {},
   "outputs": [],
   "source": [
    "# group axioms\n",
    "[0 + x == x,\n",
    " x + 0 == x,\n",
    " -x + x == 0,\n",
    " (x + y) + z == x + (y + z)]\n",
    "\n",
    "# inv(inv(x)) == x\n",
    "prove(-(-(x)) == x)"
   ]
  },
  {
   "cell_type": "markdown",
   "metadata": {},
   "source": [
    "What about naive breadth first search:\n",
    "Separate into confluent terminating rules\n",
    "and naughty rules. (maude makes this disctinction but do so dynamically)\n",
    "\n",
    "Hash cons only things that are normalized with respect to current rules.\n",
    "run twee for a bit, extract oriented rules, confluence them (?)\n",
    "Use the others for search.\n",
    "\n",
    "TRS/SK90 Joachim Steinbach, Ulrich Kühler: Check your Ordering - termination proofs and open Problems, Technical Report SR-90-25, Universität Kaiserslautern, 1990.\n",
    "TRS/D33 Nachum Dershowitz: 33 Examples of Termination, 1995 Proc. French Spring School of Theoretical Computer Science, LNCS 909, http://www.math.tau.ac.il/~nachumd/papers/printemp-print.pdf\n",
    "TRS/AG01 Thomas Arts, Jürgen Giesl: Termination of term rewriting using dependency pairs, 2000, http://dblp.uni-trier.de/rec/bibtex/journals/tcs/ArtsG00 http://verify.rwth-aachen.de/giesl/papers/ibn-97-46.ps\n",
    "SRS/Zantema 128 string rewriting termination problems collected by Hans Zantema (2004?). They include (as z027 .. z064) a set of one-rule termination problems by Alfons Geser (Habilitationsschrift, Tübingen, 2001) and possibly Winfried Kurth (Dissertation, Clausthal, 1990)\n",
    "\n",
    "disjunctive normal form example. Makes term bigger.\n",
    "\n",
    "\n"
   ]
  },
  {
   "cell_type": "code",
   "execution_count": null,
   "metadata": {},
   "outputs": [],
   "source": [
    "# naive\n",
    "\n",
    "def rw(t):\n",
    "    match t:\n",
    "        case (\"+\", 0, x):\n",
    "            return x\n",
    "        case x: \n",
    "            return (\"+\", 0, x)\n",
    "        case (\"+\", x, 0):\n",
    "            return x\n",
    "        case x:\n",
    "            return (\"+\", x, 0)\n",
    "        case (\"+\", (\"-\", x), x):\n",
    "            return 0\n",
    "        \n",
    "        \n",
    "\n",
    "\n",
    "def expand(t):\n",
    "    for (lhs,rhs) in rules:\n",
    "        yield from apply(lhs,rhs,t)\n",
    "        yield from apply(rhs,lhs,t)\n",
    "\n",
    "def prove(lhs,rhs):\n",
    "    lhsseen = set(lhs)\n",
    "    rhsseen = set(rhs)\n",
    "    while lhsseen & rhsseen == set():\n",
    "        for t in expand(lhsseen):\n",
    "            if t in rhsseen:\n",
    "                return True\n",
    "        for t in expand(rhsseen):\n",
    "            if t in lhsseen:\n",
    "                return True\n",
    "    \n",
    "\n",
    "\n"
   ]
  },
  {
   "cell_type": "code",
   "execution_count": 16,
   "metadata": {},
   "outputs": [
    {
     "name": "stdout",
     "output_type": "stream",
     "text": [
      "Overwriting /tmp/eq.p\n"
     ]
    }
   ],
   "source": [
    "%%file /tmp/eq.p\n",
    "cnf(axiom1, axiom, a = b).\n",
    "cnf(axiom2, axiom, b = c).\n",
    "cnf(axiom3, axiom, c = d).\n",
    "thf(p_decl, type, p : $i > $i).\n",
    "thf(qdecl, type, q : $i > $i).\n",
    "thf(axiom4, axiom, (^[X: $i] : X) = p).\n"
   ]
  },
  {
   "cell_type": "markdown",
   "metadata": {},
   "source": [
    "can turn decl = rewrite rule.\n",
    "maybe the special syntax is kind of nice. I don't like thf that much\n",
    "\n",
    "https://github.com/sneeuwballen/zipperposition/blob/master/examples/ind/list.zf\n",
    "https://github.com/sneeuwballen/zipperposition/blob/master/examples/ind/tree.zf\n",
    "\n",
    "`val[AC] plus : term -> term -> term.`\n",
    "val to declare\n",
    "assert for axioms\n",
    "rewrite\n",
    "data definitions\n"
   ]
  },
  {
   "cell_type": "code",
   "execution_count": 18,
   "metadata": {},
   "outputs": [
    {
     "name": "stdout",
     "output_type": "stream",
     "text": [
      "# done 4 iterations in 0.002s\n",
      "% Final clauses: 4\n",
      "Clauses:\n",
      "[a = b*]/id:0/depth:0/penalty:1/red:false\n",
      "\n",
      "[b = c*]/id:1/depth:0/penalty:1/red:false\n",
      "\n",
      "forall X0. [X0 = p X0*]/id:3/depth:0/penalty:1/red:false\n",
      "\n",
      "[b = d*]/id:4/depth:0/penalty:1/red:false\n",
      "# SZS status Satisfiable for '/tmp/eq.p'\n"
     ]
    }
   ],
   "source": [
    "!zipperposition /tmp/eq.p #--dot /tmp/eq.dot --debug 10"
   ]
  },
  {
   "cell_type": "code",
   "execution_count": 32,
   "metadata": {},
   "outputs": [
    {
     "name": "stdout",
     "output_type": "stream",
     "text": [
      "Overwriting /tmp/test.zf\n"
     ]
    }
   ],
   "source": [
    "%%file /tmp/test.zf\n",
    "val term : type.\n",
    "\n",
    "data nat :=\n",
    "  | z\n",
    "  | s nat.\n",
    "\n",
    "def[infix \"+\"] plus : nat -> nat -> nat where\n",
    "  forall (X:nat). ((plus z X) = X);\n",
    "  forall (X:nat). (forall (Y:nat). ((plus (s X) Y) = (s (plus X Y)))).\n",
    "\n",
    "def[infix \"-\"] minus : nat -> nat -> nat where\n",
    "  forall (X:nat). ((minus X z) = X);\n",
    "  forall X. minus z X = z;\n",
    "  forall (X:nat). (forall (Y:nat). ((minus (s X) (s Y)) = (minus X Y))).\n",
    "\n",
    "def[infix \"<\"] less : nat -> nat -> prop where\n",
    "  forall (X:nat). (less z (s X));\n",
    "  forall X. ~ (less (s X) z);\n",
    "  forall (X:nat). (forall (Y:nat). ((less (s X) (s Y)) <=> (less X Y))).\n",
    "\n",
    "def[infix \"≤\"] leq : nat -> nat -> prop where\n",
    "  forall (X:nat). (leq z X);\n",
    "  forall X. ~ (leq (s X) z);\n",
    "  forall (X:nat). (forall (Y:nat). ((leq (s X) (s Y)) <=> (leq X Y))).\n"
   ]
  },
  {
   "cell_type": "code",
   "execution_count": 33,
   "metadata": {},
   "outputs": [
    {
     "name": "stdout",
     "output_type": "stream",
     "text": [
      "# done 0 iterations in 0.003s\n",
      "% Final clauses: 0\n",
      "# SZS status GaveUp for '/tmp/test.zf'\n"
     ]
    }
   ],
   "source": [
    "!zipperposition /tmp/test.zf"
   ]
  },
  {
   "cell_type": "code",
   "execution_count": 1,
   "metadata": {},
   "outputs": [
    {
     "name": "stdout",
     "output_type": "stream",
     "text": [
      "Writing /tmp/one.zf\n"
     ]
    }
   ],
   "source": [
    "%%file /tmp/one.zf\n",
    "data unit := One.\n",
    "\n",
    "goal forall (x y: unit). x = y."
   ]
  },
  {
   "cell_type": "code",
   "execution_count": 3,
   "metadata": {},
   "outputs": [
    {
     "name": "stdout",
     "output_type": "stream",
     "text": [
      "# done 2 iterations in 0.003s\n",
      "# SZS status Theorem for '/tmp/one.zf'\n",
      "# SZS output start Refutation\n",
      "\u001b[32;1m*\u001b[0m sk__1 = One(1) by trivial\n",
      "\u001b[32;1m*\u001b[0m sk_ = One(2) by trivial\n",
      "\u001b[32;1m*\u001b[0m sk__1 = sk_(3) by simp 'demod' with sk__1 = One(1), sk_ = One(2)\n",
      "\u001b[32;1m*\u001b[0m goal [file \"/tmp/one.zf\" \"zf_stmt_1\"]\n",
      "    ∀ x/45:unit y/46:unit. (x/45 = y/46). by\n",
      "  goal 'zf_stmt_1' in '/tmp/one.zf'\n",
      "\u001b[32;1m*\u001b[0m negated_goal ¬ (∀ x/45:unit y/46:unit. (x/45 = y/46)) # skolems: []. by\n",
      "  esa 'cnf.neg'\n",
      "    with goal [file \"/tmp/one.zf\" \"zf_stmt_1\"]\n",
      "           ∀ x/45:unit y/46:unit. (x/45 = y/46).\n",
      "\u001b[32;1m*\u001b[0m sk_ ≠ sk__1(0) by\n",
      "  esa 'cnf'\n",
      "    with negated_goal\n",
      "           ¬ (∀ x/45:unit y/46:unit. (x/45 = y/46))\n",
      "           # skolems: [].\n",
      "\u001b[32;1m*\u001b[0m ⊥(4) by simp 'simplify_reflect-' with sk__1 = sk_(3), sk_ ≠ sk__1(0)\n",
      "\n",
      "# SZS output end Refutation\n"
     ]
    }
   ],
   "source": [
    "!zipperposition /tmp/one.zf"
   ]
  },
  {
   "cell_type": "code",
   "execution_count": 5,
   "metadata": {},
   "outputs": [
    {
     "name": "stdout",
     "output_type": "stream",
     "text": [
      "cat: /tmp/eq.dot: No such file or directory\n"
     ]
    }
   ],
   "source": [
    "!cat /tmp/eq.dot | dot -Tsvg > /tmp/eq.svg"
   ]
  }
 ],
 "metadata": {
  "kernelspec": {
   "display_name": "Python 3 (ipykernel)",
   "language": "python",
   "name": "python3"
  },
  "language_info": {
   "codemirror_mode": {
    "name": "ipython",
    "version": 3
   },
   "file_extension": ".py",
   "mimetype": "text/x-python",
   "name": "python",
   "nbconvert_exporter": "python",
   "pygments_lexer": "ipython3",
   "version": "3.10.12"
  }
 },
 "nbformat": 4,
 "nbformat_minor": 2
}
