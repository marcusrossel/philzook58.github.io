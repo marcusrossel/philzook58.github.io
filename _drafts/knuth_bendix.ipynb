{
 "cells": [
  {
   "cell_type": "code",
   "execution_count": null,
   "metadata": {},
   "outputs": [],
   "source": [
    "\"\"\"\n",
    "let rec termsize tm =\n",
    "  match tm with\n",
    "    Var x -> 1\n",
    "  | Fn(f,args) -> itlist (fun t n -> termsize t + n) args 1;;\n",
    "\"\"\"\n",
    "def termsize(tm):\n",
    "    match tm:\n",
    "        case (\"Var\", x):\n",
    "            return 1\n",
    "        case (\"Fn\", f, args):\n",
    "            return sum(map(termsize, args)) + 1\n"
   ]
  },
  {
   "cell_type": "markdown",
   "metadata": {},
   "source": [
    "https://www.cl.cam.ac.uk/~jrh13/atp/\n",
    "\n",
    "Knuth bendix + grobner\n",
    "Can we do it? It'd be cool\n"
   ]
  },
  {
   "cell_type": "code",
   "execution_count": 8,
   "metadata": {},
   "outputs": [
    {
     "data": {
      "text/plain": [
       "False"
      ]
     },
     "execution_count": 8,
     "metadata": {},
     "output_type": "execute_result"
    }
   ],
   "source": [
    "\"\"\"\n",
    "let rec lexord ord l1 l2 =\n",
    "  match (l1,l2) with\n",
    "    (h1::t1,h2::t2) -> if ord h1 h2 then length t1 = length t2\n",
    "                       else h1 = h2 & lexord ord t1 t2\n",
    "  | _ -> false;;\n",
    "\"\"\"\n",
    "def lexord(ord, l1, l2):\n",
    "    match (l1, l2):\n",
    "        case ([h1,*t1], [h2, *t2]):\n",
    "            if ord(h1, h2): # yeah I dunno about this. Is this a faithful rep of ord\n",
    "                return len(t1) == len(t2)\n",
    "            else:\n",
    "                return h1 == h2 and lexord(ord,t1, t2)\n",
    "        case _:\n",
    "            return False\n",
    "\n",
    "lexord([1,5], [1,4])"
   ]
  },
  {
   "cell_type": "code",
   "execution_count": null,
   "metadata": {},
   "outputs": [],
   "source": [
    "\"\"\"\n",
    "let rec lpo_gt w s t =\n",
    "  match (s,t) with\n",
    "    (_,Var x) ->\n",
    "        not(s = t) & mem x (fvt s)\n",
    "  | (Fn(f,fargs),Fn(g,gargs)) ->\n",
    "        exists (fun si -> lpo_ge w si t) fargs or\n",
    "        forall (lpo_gt w s) gargs &\n",
    "        (f = g & lexord (lpo_gt w) fargs gargs or\n",
    "         w (f,length fargs) (g,length gargs))\n",
    "  | _ -> false\n",
    "\"\"\"\n",
    "def lpo_gt(w,s,t):\n",
    "    match (s,t):\n",
    "        case (_, (\"Var\", x)):\n",
    "            return s != t and x in fvt(s)\n",
    "        case ((\"Fn\", f, fargs), (\"Fn\", g, gargs)):\n",
    "            return any(lpo_ge(w, si, t) for si in fargs) or \\\n",
    "                all(lpo_gt(w, s, si) for si in gargs) and \\\n",
    "                (f == g and lexord(lambda s,t: lpo_gt(w,s,t), fargs, gargs) or \\\n",
    "                 w(f, len(fargs), g, len(gargs)))\n",
    "        case _:\n",
    "            return False"
   ]
  },
  {
   "cell_type": "code",
   "execution_count": null,
   "metadata": {},
   "outputs": [],
   "source": [
    "def size(t):\n",
    "    \n",
    "\n",
    "def kbo(t1,t2):\n"
   ]
  },
  {
   "cell_type": "code",
   "execution_count": null,
   "metadata": {},
   "outputs": [],
   "source": [
    "%%bash\n",
    "\n",
    "dedu"
   ]
  },
  {
   "cell_type": "markdown",
   "metadata": {},
   "source": [
    "https://link.springer.com/content/pdf/10.1007/3-540-17220-3_4.pdf How to choose the weights in the Knuth Bendix ordering -- ursula martin\n",
    "\n",
    "https://academic.oup.com/comjnl/article/34/1/2/427931 An Introduction to Knuth–Bendix Completion Ajj dick\n",
    "\n",
    "We have a notion that simplifiers must terminate because terms get simpler until they can't\n",
    "\n",
    "\"size\" is a basic notion of complexity.\n",
    "\n",
    "In order to guarantee a rule with variables gets smaller, we can count the number of symbols in it. The number of pattern variables has to be getting smaller, or else the thing is getting bigger.\n",
    "\n",
    "`(X + 0) -> X` makes the term simpler\n",
    "\n",
    "`foo(bar(1,2,3,4,5,6,X)) -> biz(X,X)` is not definitely a simplification, because X might be huge. In a realistic situation, we might want to guard this rule by `size(X) < 3` or something.\n",
    "\n",
    "A slight extension is to give the symbols in the term weight.\n",
    "\n",
    "Another example is associating to the right. X + (Y + Z) -> (X + Y) + Z. This also obviously terminates. We can give lexicographic preference to left subtrees.\n",
    "\n",
    "Another example is getting flatter. The height is descreasing.\n",
    "\n",
    "A different system that is obviously terminating is stratified macro expansion. Macros can refer to previously defined macros. The terms however, may get very large and be increasing in size.\n",
    "f(X) -> bar(X,X) is not an issue.\n",
    "Cycles in the dependency graph\n",
    "\n",
    "We don't expect to be able to have a total ordering on terms with variables in them. But we do want our definition to have a well defined\n",
    "\n"
   ]
  },
  {
   "cell_type": "code",
   "execution_count": null,
   "metadata": {},
   "outputs": [],
   "source": [
    "# group axioms\n",
    "[0 + x == x,\n",
    " x + 0 == x,\n",
    " -x + x == 0,\n",
    " (x + y) + z == x + (y + z)]\n",
    "\n",
    "# inv(inv(x)) == x\n",
    "prove(-(-(x)) == x)"
   ]
  },
  {
   "cell_type": "markdown",
   "metadata": {},
   "source": [
    "What about naive breadth first search:\n",
    "Separate into confluent terminating rules\n",
    "and naughty rules. (maude makes this disctinction but do so dynamically)\n",
    "\n",
    "Hash cons only things that are normalized with respect to current rules.\n",
    "run twee for a bit, extract oriented rules, confluence them (?)\n",
    "Use the others for search.\n",
    "\n",
    "TRS/SK90 Joachim Steinbach, Ulrich Kühler: Check your Ordering - termination proofs and open Problems, Technical Report SR-90-25, Universität Kaiserslautern, 1990.\n",
    "TRS/D33 Nachum Dershowitz: 33 Examples of Termination, 1995 Proc. French Spring School of Theoretical Computer Science, LNCS 909, http://www.math.tau.ac.il/~nachumd/papers/printemp-print.pdf\n",
    "TRS/AG01 Thomas Arts, Jürgen Giesl: Termination of term rewriting using dependency pairs, 2000, http://dblp.uni-trier.de/rec/bibtex/journals/tcs/ArtsG00 http://verify.rwth-aachen.de/giesl/papers/ibn-97-46.ps\n",
    "SRS/Zantema 128 string rewriting termination problems collected by Hans Zantema (2004?). They include (as z027 .. z064) a set of one-rule termination problems by Alfons Geser (Habilitationsschrift, Tübingen, 2001) and possibly Winfried Kurth (Dissertation, Clausthal, 1990)\n",
    "\n",
    "disjunctive normal form example. Makes term bigger.\n",
    "\n",
    "\n"
   ]
  },
  {
   "cell_type": "code",
   "execution_count": null,
   "metadata": {},
   "outputs": [],
   "source": [
    "# naive\n",
    "\n",
    "def rw(t):\n",
    "    match t:\n",
    "        case (\"+\", 0, x):\n",
    "            return x\n",
    "        case x: \n",
    "            return (\"+\", 0, x)\n",
    "        case (\"+\", x, 0):\n",
    "            return x\n",
    "        case x:\n",
    "            return (\"+\", x, 0)\n",
    "        case (\"+\", (\"-\", x), x):\n",
    "            return 0\n",
    "        \n",
    "        \n",
    "\n",
    "\n",
    "def expand(t):\n",
    "    for (lhs,rhs) in rules:\n",
    "        yield from apply(lhs,rhs,t)\n",
    "        yield from apply(rhs,lhs,t)\n",
    "\n",
    "def prove(lhs,rhs):\n",
    "    lhsseen = set(lhs)\n",
    "    rhsseen = set(rhs)\n",
    "    while lhsseen & rhsseen == set():\n",
    "        for t in expand(lhsseen):\n",
    "            if t in rhsseen:\n",
    "                return True\n",
    "        for t in expand(rhsseen):\n",
    "            if t in lhsseen:\n",
    "                return True\n",
    "    \n",
    "\n",
    "\n"
   ]
  }
 ],
 "metadata": {
  "kernelspec": {
   "display_name": "Python 3",
   "language": "python",
   "name": "python3"
  },
  "language_info": {
   "codemirror_mode": {
    "name": "ipython",
    "version": 3
   },
   "file_extension": ".py",
   "mimetype": "text/x-python",
   "name": "python",
   "nbconvert_exporter": "python",
   "pygments_lexer": "ipython3",
   "version": "3.10.12"
  }
 },
 "nbformat": 4,
 "nbformat_minor": 2
}
