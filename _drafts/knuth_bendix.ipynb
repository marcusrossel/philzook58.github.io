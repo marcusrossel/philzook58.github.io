{
 "cells": [
  {
   "cell_type": "code",
   "execution_count": null,
   "metadata": {},
   "outputs": [],
   "source": [
    "\"\"\"\n",
    "let rec termsize tm =\n",
    "  match tm with\n",
    "    Var x -> 1\n",
    "  | Fn(f,args) -> itlist (fun t n -> termsize t + n) args 1;;\n",
    "\"\"\"\n",
    "def termsize(tm):\n",
    "    match tm:\n",
    "        case (\"Var\", x):\n",
    "            return 1\n",
    "        case (\"Fn\", f, args):\n",
    "            return sum(map(termsize, args)) + 1\n"
   ]
  },
  {
   "cell_type": "markdown",
   "metadata": {},
   "source": [
    "https://www.cl.cam.ac.uk/~jrh13/atp/\n",
    "\n",
    "Knuth bendix + grobner\n",
    "Can we do it? It'd be cool\n"
   ]
  },
  {
   "cell_type": "code",
   "execution_count": 8,
   "metadata": {},
   "outputs": [
    {
     "data": {
      "text/plain": [
       "False"
      ]
     },
     "execution_count": 8,
     "metadata": {},
     "output_type": "execute_result"
    }
   ],
   "source": [
    "\"\"\"\n",
    "let rec lexord ord l1 l2 =\n",
    "  match (l1,l2) with\n",
    "    (h1::t1,h2::t2) -> if ord h1 h2 then length t1 = length t2\n",
    "                       else h1 = h2 & lexord ord t1 t2\n",
    "  | _ -> false;;\n",
    "\"\"\"\n",
    "def lexord(ord, l1, l2):\n",
    "    match (l1, l2):\n",
    "        case ([h1,*t1], [h2, *t2]):\n",
    "            if ord(h1, h2): # yeah I dunno about this. Is this a faithful rep of ord\n",
    "                return len(t1) == len(t2)\n",
    "            else:\n",
    "                return h1 == h2 and lexord(ord,t1, t2)\n",
    "        case _:\n",
    "            return False\n",
    "\n",
    "lexord([1,5], [1,4])"
   ]
  },
  {
   "cell_type": "code",
   "execution_count": null,
   "metadata": {},
   "outputs": [],
   "source": [
    "\"\"\"\n",
    "let rec lpo_gt w s t =\n",
    "  match (s,t) with\n",
    "    (_,Var x) ->\n",
    "        not(s = t) & mem x (fvt s)\n",
    "  | (Fn(f,fargs),Fn(g,gargs)) ->\n",
    "        exists (fun si -> lpo_ge w si t) fargs or\n",
    "        forall (lpo_gt w s) gargs &\n",
    "        (f = g & lexord (lpo_gt w) fargs gargs or\n",
    "         w (f,length fargs) (g,length gargs))\n",
    "  | _ -> false\n",
    "\"\"\"\n",
    "def lpo_gt(w,s,t):\n",
    "    match (s,t):\n",
    "        case (_, (\"Var\", x)):\n",
    "            return s != t and x in fvt(s)\n",
    "        case ((\"Fn\", f, fargs), (\"Fn\", g, gargs)):\n",
    "            return any(lpo_ge(w, si, t) for si in fargs) or \\\n",
    "                all(lpo_gt(w, s, si) for si in gargs) and \\\n",
    "                (f == g and lexord(lambda s,t: lpo_gt(w,s,t), fargs, gargs) or \\\n",
    "                 w(f, len(fargs), g, len(gargs)))\n",
    "        case _:\n",
    "            return False"
   ]
  },
  {
   "cell_type": "code",
   "execution_count": null,
   "metadata": {},
   "outputs": [],
   "source": []
  },
  {
   "cell_type": "code",
   "execution_count": null,
   "metadata": {},
   "outputs": [],
   "source": [
    "%%bash\n",
    "\n",
    "dedu"
   ]
  }
 ],
 "metadata": {
  "kernelspec": {
   "display_name": "Python 3",
   "language": "python",
   "name": "python3"
  },
  "language_info": {
   "codemirror_mode": {
    "name": "ipython",
    "version": 3
   },
   "file_extension": ".py",
   "mimetype": "text/x-python",
   "name": "python",
   "nbconvert_exporter": "python",
   "pygments_lexer": "ipython3",
   "version": "3.10.12"
  }
 },
 "nbformat": 4,
 "nbformat_minor": 2
}
