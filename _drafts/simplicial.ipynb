{
 "cells": [
  {
   "cell_type": "code",
   "execution_count": null,
   "metadata": {},
   "outputs": [],
   "source": []
  },
  {
   "cell_type": "markdown",
   "metadata": {},
   "source": [
    "Simplicial Sets and Equational Rewriting\n",
    "\n",
    "Simplicial Sets are kind of what you get if you take a \"Categorical database\" approach to describing meshes.\n",
    "\n",
    "https://arxiv.org/pdf/0809.4221.pdf  An elementary illustrated introduction to simplicial sets\n",
    "https://en.wikipedia.org/wiki/Simplicial_set\n",
    "https://ncatlab.org/nlab/show/simplicial+set\n",
    "\n",
    "```\n",
    "di dj = d_{j−1} di if i < j,\n",
    "di sj = s_{j−1} di if i < j,\n",
    "dj sj = d_{j+1} sj = id,\n",
    "di sj = sj d_{i−1} if i > j + 1,\n",
    "si sj = s_{j+1} si if i <= j.\n",
    "```"
   ]
  },
  {
   "cell_type": "code",
   "execution_count": 12,
   "metadata": {},
   "outputs": [
    {
     "name": "stdout",
     "output_type": "stream",
     "text": [
      "Overwriting /tmp/simplicial.tptp\n"
     ]
    }
   ],
   "source": [
    "%%file /tmp/simplicial.tptp\n",
    "\n",
    "% This is a simple example of a simplicial complex in TPTP format.\n",
    "% v = 0, e = 1, f = 2 vertices edges faces dimensions\n",
    "tff( vert_type , type, vert : $tType ).\n",
    "tff( edge_type , type, edge : $tType ).\n",
    "tff( face_type , type, face : $tType ).\n",
    "\n",
    "% d0?\n",
    "tff( d1_type , type, d1 : edge > vert ).\n",
    "tff( d2_type , type, d2 : face > edge ).\n",
    "\n",
    "\n",
    "tff( s0_type, type,  s0 : vert > edge ).\n",
    "tff( s1_type, type,  s1 : edge > face ).\n",
    "% s2 ?\n",
    "\n",
    "% di dj = d_{j−1} di if i < j,\n",
    "% tff( d0d1 , axiom, d0(d1(X)) = d0(d0(X))).\n",
    "tff( d1d2 , axiom, ![X] : (d1(d2(X)) = d1(d1(X)))).\n",
    "% tff( d0d2 , axiom, d0(d2(X))) = d1(d0(X)).\n",
    "\n",
    "\n",
    "% di sj = s_{j−1} di if i < j,\n",
    "tff( d1s2, axiom, ![X] : (d1(s2(X)) = s1(d1(X)))).\n",
    "tff( d0s2, axiom, ![X] : (d0(s2(X)) = s1(d0(X)))).\n",
    "\n",
    "% dj sj = d_{j+1} sj = id \n",
    "%tff( d1s1, axiom, ![X] : (d1(s1(X)) = d2(s1(X)))).\n",
    "%tff( d2s2, )\n",
    "\n",
    "\n",
    "\n",
    "\n",
    "\n"
   ]
  },
  {
   "cell_type": "code",
   "execution_count": 13,
   "metadata": {},
   "outputs": [
    {
     "name": "stdout",
     "output_type": "stream",
     "text": [
      "Error in /tmp/simplicial.tptp (line 19, column 36):\n",
      "Type mismatch in term 'd2(X)': Constant d2 has type face > edge but was applied to an argument of type $i\n"
     ]
    }
   ],
   "source": [
    "!twee /tmp/simplicial.tptp"
   ]
  },
  {
   "cell_type": "code",
   "execution_count": null,
   "metadata": {},
   "outputs": [],
   "source": []
  }
 ],
 "metadata": {
  "kernelspec": {
   "display_name": "Python 3",
   "language": "python",
   "name": "python3"
  },
  "language_info": {
   "codemirror_mode": {
    "name": "ipython",
    "version": 3
   },
   "file_extension": ".py",
   "mimetype": "text/x-python",
   "name": "python",
   "nbconvert_exporter": "python",
   "pygments_lexer": "ipython3",
   "version": "3.10.12"
  }
 },
 "nbformat": 4,
 "nbformat_minor": 2
}
