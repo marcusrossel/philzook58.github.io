{
 "cells": [
  {
   "cell_type": "markdown",
   "metadata": {},
   "source": [
    "\n",
    "\n",
    "Pippard nonlinear oscillators sweeps. Sections in Landau\n",
    "Folding over of resonance diagram\n",
    "  \n",
    "Parametric oscillators kapitsa\n",
    "Probablaistic ensemble of oscillators\n",
    "\n",
    "\n",
    "Frequency sepctrum shifting, becomes assymmetirc\n",
    "folding over into catastrsophe\n",
    "higher resoancnes appearing\n",
    "synahcronization spontaenous\n",
    "\n",
    "self consistent approximations\n",
    "\"mean field\"\n",
    "adiabatic approximations\n",
    "effective parameters\n",
    "Picard Lindelhof  x_n+1 = x0 +  integ  G(<x>, t) * x(t)\n",
    "\n",
    "Adiabatic turning on and off of potentials. https://en.wikipedia.org/wiki/Adiabatic_invariant\n",
    "action angle coords https://en.wikipedia.org/wiki/Action-angle_coordinates. What is the numerical notion of this anyway. Uhh...\n",
    "\n",
    "Things that aren't robust to inaccuraices of the solver are suspect physical phenonomenon anyway\n",
    "classical Berry phase https://en.wikipedia.org/wiki/Geometric_phase\n",
    "foucault pendulum\n",
    "\n"
   ]
  },
  {
   "cell_type": "code",
   "execution_count": 56,
   "metadata": {},
   "outputs": [
    {
     "data": {
      "text/plain": [
       "[<matplotlib.lines.Line2D at 0x71979cb84460>]"
      ]
     },
     "execution_count": 56,
     "metadata": {},
     "output_type": "execute_result"
    },
    {
     "data": {
      "image/png": "[encoded data removed]",
      "text/plain": [
       "<Figure size 640x480 with 1 Axes>"
      ]
     },
     "metadata": {},
     "output_type": "display_data"
    }
   ],
   "source": [
    "import scipy as sp\n",
    "import numpy as np\n",
    "\n",
    "\n",
    "T = 10000\n",
    "omega0 = 0\n",
    "omega1 = 2\n",
    "def omega(t):\n",
    "    return omega0 + (omega1 - omega0) * t/T\n",
    "\n",
    "def phase(t):\n",
    "    return omega0 * t + (omega1 - omega0) * t* t /T / 2\n",
    "\n",
    "def df(t, y):\n",
    "    x, v = y\n",
    "    # sweep frequencies. spring force + external drive + damping \n",
    "    a = -x + 0.01 * np.sin(phase(t)) - 0.01 * v # + non linear term\n",
    "    return [v, a]\n",
    "\n",
    "y0 = [0, 0]\n",
    "# https://docs.scipy.org/doc/scipy/reference/generated/scipy.integrate.solve_ivp.html#scipy.integrate.solve_ivp\n",
    "sol = sp.integrate.solve_ivp(df, [0, T], y0)\n",
    "sol\n",
    "\n",
    "import matplotlib.pyplot as plt\n",
    "plt.plot(omega(sol.t), sol.y[0])\n",
    "#plt.plot(sol.t[1:], np.diff(omega(sol.t)*sol.t) )\n",
    "# this picture surpises me by a facor of two. oooh the derviative of omega(t) ... hmm.\n"
   ]
  },
  {
   "cell_type": "code",
   "execution_count": 54,
   "metadata": {},
   "outputs": [
    {
     "data": {
      "text/plain": [
       "1.0"
      ]
     },
     "execution_count": 54,
     "metadata": {},
     "output_type": "execute_result"
    }
   ],
   "source": [
    "omega(T)"
   ]
  },
  {
   "cell_type": "markdown",
   "metadata": {},
   "source": [
    "https://dsp.stackexchange.com/questions/13514/how-to-estimate-the-frequency-at-certain-time-of-linear-sine-sweep\n",
    "http://en.wikipedia.org/wiki/Chirp"
   ]
  },
  {
   "cell_type": "code",
   "execution_count": 39,
   "metadata": {},
   "outputs": [
    {
     "data": {
      "text/latex": [
       "$\\displaystyle x{\\left(t \\right)} = C_{1} \\sin{\\left(t \\right)} + C_{2} \\cos{\\left(t \\right)} - \\frac{\\sin{\\left(\\omega t \\right)}}{\\omega^{2} - 1}$"
      ],
      "text/plain": [
       "Eq(x(t), C1*sin(t) + C2*cos(t) - sin(omega*t)/(omega**2 - 1))"
      ]
     },
     "execution_count": 39,
     "metadata": {},
     "output_type": "execute_result"
    }
   ],
   "source": [
    "import sympy\n",
    "from sympy.abc import x,t,omega\n",
    "\n",
    "x = sympy.Function(\"x\")\n",
    "v = sympy.Derivative(x(t), t)\n",
    "a = sympy.Derivative(v, t)\n",
    "\n",
    "result = sympy.dsolve(sympy.Eq(a, -x(t) + sympy.sin(t * t)), x(t)) #  - 0.01 * v\n",
    "result"
   ]
  },
  {
   "cell_type": "markdown",
   "metadata": {},
   "source": [
    "# Scattering"
   ]
  },
  {
   "cell_type": "code",
   "execution_count": null,
   "metadata": {},
   "outputs": [],
   "source": [
    "def df(t, z):\n",
    "    x = z[:,0]\n",
    "    v = z[:,1]\n",
    "    a = -x / np.norm(x)**3\n",
    "    return np.hstack([v, a]).flatten()\n",
    "\n",
    "T = 1000\n",
    "v = [1,0] # forward moving\n",
    "x = [-T*v[0]/2,1] # far tho the left and a little up\n",
    "\n",
    "y0 = np.hstack(x,v).flatten() \n",
    "# https://docs.scipy.org/doc/scipy/reference/generated/scipy.integrate.solve_ivp.html#scipy.integrate.solve_ivp\n",
    "sol = sp.integrate.solve_ivp(df, [0, T], y0)\n",
    "sol"
   ]
  },
  {
   "cell_type": "markdown",
   "metadata": {},
   "source": [
    "Internal degrees of freedom in the scattering center.\n",
    "\n",
    "We could just stop it, or use a closed form approximate extrapolation to infinity, like a born/picard thing.\n",
    "This is the analog of just truncating the domain or coupling to infinite wave solutions.\n",
    "\n",
    "Closed form solutions\n",
    "The hard sphere potential\n",
    "\n",
    "https://williamsgj.people.charleston.edu/Scattering%20Theory.pdf\n",
    "\n",
    "Doing the hard sphere computationally becomes geometrical reasoning.\n",
    "collision point equations\n",
    "x = x0 + tvx\n",
    "y = y0 + tvy\n",
    "x*2 + y **2 = 1\n",
    "mirror equations\n",
    "\n",
    "Amenable to polynomial methods.\n",
    "\n",
    "\n",
    "\n",
    "power laws\n",
    "lennard jones\n",
    "\n",
    "geometrical optical scattering. Interesting to think about. Differential snell's law.\n",
    "A hard refractive sphere. Can snell be expressed algerbrically?\n",
    "vx1 = vx2\n",
    "n1 v1 = n2 v2\n",
    "vy1^2 + vx1^1 = v1^2\n",
    "That seems to work.\n",
    "\n",
    "Can we determine the lens by looking at some known thing is the analog of a scattering experiment.\n"
   ]
  },
  {
   "cell_type": "markdown",
   "metadata": {},
   "source": [
    "# balls and springs\n"
   ]
  },
  {
   "cell_type": "code",
   "execution_count": 78,
   "metadata": {},
   "outputs": [
    {
     "data": {
      "text/plain": [
       "[<matplotlib.lines.Line2D at 0x71979fbc9000>]"
      ]
     },
     "execution_count": 78,
     "metadata": {},
     "output_type": "execute_result"
    },
    {
     "data": {
      "image/png": "[encoded data removed]",
      "text/plain": [
       "<Figure size 640x480 with 1 Axes>"
      ]
     },
     "metadata": {},
     "output_type": "display_data"
    }
   ],
   "source": [
    "T = 10\n",
    "N = 10\n",
    "def df(t, x):\n",
    "    x = x.reshape((N,2))\n",
    "    v = x[:,1]\n",
    "    a = -x[:,0] # + focring functions\n",
    "    return np.stack([v,a],axis=1).flatten()\n",
    "\n",
    "y0 = np.zeros((N, 2))\n",
    "y0[0,0] = 1\n",
    "# https://docs.scipy.org/doc/scipy/reference/generated/scipy.integrate.solve_ivp.html#scipy.integrate.solve_ivp\n",
    "sol = sp.integrate.solve_ivp(df, [0, T], y0.flatten())\n",
    "sol\n",
    "y = sol.y.reshape((N,2,len(sol.t)))\n",
    "plt.plot(sol.t, y[0,0,:])\n",
    "plt.plot(sol.t, y[0,1,:])\n",
    "plt.plot(sol.t, y[1,0,:])"
   ]
  },
  {
   "cell_type": "markdown",
   "metadata": {},
   "source": [
    "# Misc \n",
    "\n",
    "\n",
    "\n",
    "\n",
    "\n",
    "Scattering experiments might be fun.\n",
    "Coulomb rutherford style. I did that once\n",
    "\"Effective\" charge of some cluster of charged points\n",
    "\n",
    "\n",
    "Out of the box wave equation solver?\n",
    "https://scipython.com/blog/the-two-dimensional-wave-equation/\n",
    "https://scipython.com/blog/the-electric-field-of-a-capacitor/\n",
    "\n",
    "\n",
    "https://scipython.com/chem/articles/balancing-a-chemical-reaction/ integer diophantine eqs for chemical balance\n",
    "\n",
    "\n",
    "dedalus fenics\n",
    "\n",
    "bogolibov methods in nonlinear oscialltors. That op amp course.\n",
    "\n",
    "Electrical oscillators. Armstrong and other. Really confused me.\n",
    "Bender Orszag\n",
    "\n",
    "https://www.reddit.com/r/Python/comments/1ca4bwy/what_is_currently_the_fasteststateoftheart_ode/\n",
    "https://docs.kidger.site/diffrax/\n",
    "https://github.com/Nicholaswogan/numbalsoda\n",
    "https://github.com/SciML/DifferentialEquations.jl https://github.com/SciML/diffeqpy\n",
    "https://pydstool.github.io/PyDSTool/FrontPage.html\n",
    "https://github.com/esa/torchquad\n",
    "https://github.com/rtqichen/torchdiffeq\n",
    "https://github.com/Zymrael/awesome-neural-ode\n",
    "\n",
    "It's not crazy to trty juli\n"
   ]
  },
  {
   "cell_type": "code",
   "execution_count": 1,
   "metadata": {},
   "outputs": [
    {
     "name": "stdout",
     "output_type": "stream",
     "text": [
      "[juliapkg] Found dependencies: /home/philip/.local/lib/python3.10/site-packages/juliacall/juliapkg.json\n",
      "[juliapkg] Found dependencies: /home/philip/.local/lib/python3.10/site-packages/juliapkg/juliapkg.json\n",
      "[juliapkg] Locating Julia ~1.6.1, ~1.7, ~1.8, ~1.9, =1.10.0, ^1.10.3\n",
      "[juliapkg] Installing Julia 1.10.4 using JuliaUp\n",
      "[juliapkg] Using Julia 1.10.4 at /home/philip/.julia/juliaup/julia-1.10.4+0.x64.linux.gnu/bin/julia\n",
      "[juliapkg] Using Julia project at /home/philip/.julia/environments/pyjuliapkg\n",
      "[juliapkg] Installing packages:\n",
      "           julia> import Pkg\n",
      "           julia> Pkg.Registry.update()\n",
      "           julia> Pkg.add([Pkg.PackageSpec(name=\"PythonCall\", uuid=\"6099a3de-0909-46bc-b1f4-468b9a2dfc0d\")])\n",
      "           julia> Pkg.resolve()\n",
      "           julia> Pkg.precompile()\n"
     ]
    },
    {
     "name": "stderr",
     "output_type": "stream",
     "text": [
      "    Updating registry at `~/.julia/registries/General.toml`\n",
      "   Resolving package versions...\n",
      "   Installed UnsafePointers ─ v1.0.0\n",
      "   Installed micromamba_jll ─ v1.5.8+0\n",
      "   Installed CondaPkg ─────── v0.2.22\n",
      "   Installed MicroMamba ───── v0.1.14\n",
      "   Installed Pidfile ──────── v1.3.0\n",
      "   Installed PythonCall ───── v0.9.20\n",
      "    Updating `~/.julia/environments/pyjuliapkg/Project.toml`\n",
      "  [6099a3de] + PythonCall v0.9.20\n",
      "    Updating `~/.julia/environments/pyjuliapkg/Manifest.toml`\n",
      "  [992eb4ea] + CondaPkg v0.2.22\n",
      "  [9a962f9c] + DataAPI v1.16.0\n",
      "  [e2d170a0] + DataValueInterfaces v1.0.0\n",
      "  [82899510] + IteratorInterfaceExtensions v1.0.0\n",
      "  [692b3bcd] + JLLWrappers v1.5.0\n",
      "  [0f8b85d8] + JSON3 v1.14.0\n",
      "  [1914dd2f] + MacroTools v0.5.13\n",
      "  [0b3b1443] + MicroMamba v0.1.14\n",
      "  [bac558e1] + OrderedCollections v1.6.3\n",
      "  [69de0a69] + Parsers v2.8.1\n",
      "  [fa939f87] + Pidfile v1.3.0\n",
      "  [aea7be01] + PrecompileTools v1.2.1\n",
      "  [21216c6a] + Preferences v1.4.3\n",
      "  [6099a3de] + PythonCall v0.9.20\n",
      "  [ae029012] + Requires v1.3.0\n",
      "  [6c6a2e73] + Scratch v1.2.1\n",
      "  [856f2bd8] + StructTypes v1.10.0\n",
      "  [3783bdb8] + TableTraits v1.0.1\n",
      "  [bd369af6] + Tables v1.11.1\n",
      "  [e17b2a0c] + UnsafePointers v1.0.0\n",
      "  [f8abcde7] + micromamba_jll v1.5.8+0\n",
      "  [0dad84c5] + ArgTools v1.1.1\n",
      "  [56f22d72] + Artifacts\n",
      "  [2a0f44e3] + Base64\n",
      "  [ade2ca70] + Dates\n",
      "  [f43a241f] + Downloads v1.6.0\n",
      "  [7b1f6079] + FileWatching\n",
      "  [b77e0a4c] + InteractiveUtils\n",
      "  [4af54fe1] + LazyArtifacts\n",
      "  [b27032c2] + LibCURL v0.6.4\n",
      "  [76f85450] + LibGit2\n",
      "  [8f399da3] + Libdl\n",
      "  [37e2e46d] + LinearAlgebra\n",
      "  [56ddb016] + Logging\n",
      "  [d6f4376e] + Markdown\n",
      "  [a63ad114] + Mmap\n",
      "  [ca575930] + NetworkOptions v1.2.0\n",
      "  [44cfe95a] + Pkg v1.10.0\n",
      "  [de0858da] + Printf\n",
      "  [3fa0cd96] + REPL\n",
      "  [9a3f8284] + Random\n",
      "  [ea8e919c] + SHA v0.7.0\n",
      "  [9e88b42a] + Serialization\n",
      "  [6462fe0b] + Sockets\n",
      "  [fa267f1f] + TOML v1.0.3\n",
      "  [a4e569a6] + Tar v1.10.0\n",
      "  [8dfed614] + Test\n",
      "  [cf7118a7] + UUIDs\n",
      "  [4ec0a83e] + Unicode\n",
      "  [e66e0078] + CompilerSupportLibraries_jll v1.1.1+0\n",
      "  [deac9b47] + LibCURL_jll v8.4.0+0\n",
      "  [e37daf67] + LibGit2_jll v1.6.4+0\n",
      "  [29816b5a] + LibSSH2_jll v1.11.0+1\n",
      "  [c8ffd9c3] + MbedTLS_jll v2.28.2+1\n",
      "  [14a3606d] + MozillaCACerts_jll v2023.1.10\n",
      "  [4536629a] + OpenBLAS_jll v0.3.23+4\n",
      "  [83775a58] + Zlib_jll v1.2.13+1\n",
      "  [8e850b90] + libblastrampoline_jll v5.8.0+1\n",
      "  [8e850ede] + nghttp2_jll v1.52.0+1\n",
      "  [3f19e933] + p7zip_jll v17.4.0+2\n",
      "Precompiling project...\n",
      "  ✓ DataValueInterfaces\n",
      "  ✓ IteratorInterfaceExtensions\n",
      "  ✓ UnsafePointers\n",
      "  ✓ Requires\n",
      "  ✓ Scratch\n",
      "  ✓ DataAPI\n",
      "  ✓ CompilerSupportLibraries_jll\n",
      "  ✓ Pidfile\n",
      "  ✓ OrderedCollections\n",
      "  ✓ Preferences\n",
      "  ✓ StructTypes\n",
      "  ✓ TableTraits\n",
      "  ✓ PrecompileTools\n",
      "  ✓ JLLWrappers\n",
      "  ✓ Tables\n",
      "  ✓ MacroTools\n",
      "micromamba_jll Waiting for background task / IO / timer.\n",
      "[pid 2195110] waiting for IO to finish:\n",
      " Handle type        uv_handle_t->data\n",
      " timer              0x2493810->0x7c2143798e80\n",
      "This means that a package has started a background task or event source that has not finished running. For precompilation to complete successfully, the event source needs to be closed explicitly. See the developer documentation on fixing precompilation hangs for more help.\n",
      "  ✓ Parsers\n",
      "  ✓ JSON3\n",
      "\n",
      "[pid 2195110] waiting for IO to finish:\n",
      " Handle type        uv_handle_t->data\n",
      " timer              0x2493810->0x7c2143798e80\n",
      "This means that a package has started a background task or event source that has not finished running. For precompilation to complete successfully, the event source needs to be closed explicitly. See the developer documentation on fixing precompilation hangs for more help.\n",
      "  ✓ micromamba_jll\n",
      "  ✓ MicroMamba\n",
      "  ✓ CondaPkg\n",
      "  ✓ PythonCall\n",
      "  22 dependencies successfully precompiled in 41 seconds. 3 already precompiled.\n",
      "  1 dependency had output during precompilation:\n",
      "┌ micromamba_jll\n",
      "│  Downloading artifact: micromamba\n",
      "│  \n",
      "│  [pid 2195110] waiting for IO to finish:\n",
      "│   Handle type        uv_handle_t->data\n",
      "│   timer              0x2493810->0x7c2143798e80\n",
      "│  This means that a package has started a background task or event source that has not finished running. For precompilation to complete successfully, the event source needs to be closed explicitly. See the developer documentation on fixing precompilation hangs for more help.\n",
      "│  \n",
      "│  [pid 2195110] waiting for IO to finish:\n",
      "│   Handle type        uv_handle_t->data\n",
      "│   timer              0x2493810->0x7c2143798e80\n",
      "│  This means that a package has started a background task or event source that has not finished running. For precompilation to complete successfully, the event source needs to be closed explicitly. See the developer documentation on fixing precompilation hangs for more help.\n",
      "└  \n",
      "  No Changes to `~/.julia/environments/pyjuliapkg/Project.toml`\n",
      "  No Changes to `~/.julia/environments/pyjuliapkg/Manifest.toml`\n"
     ]
    },
    {
     "name": "stdout",
     "output_type": "stream",
     "text": [
      "Detected IPython. Loading juliacall extension. See https://juliapy.github.io/PythonCall.jl/stable/compat/#IPython\n"
     ]
    }
   ],
   "source": [
    "#https://juliapy.github.io/PythonCall.jl/stable/compat/#IPython\n",
    "import juliacall"
   ]
  },
  {
   "cell_type": "code",
   "execution_count": 4,
   "metadata": {},
   "outputs": [
    {
     "data": {
      "text/plain": [
       "Int64"
      ]
     },
     "execution_count": 4,
     "metadata": {},
     "output_type": "execute_result"
    }
   ],
   "source": [
    "%%julia\n",
    "typeof(1 + 1)"
   ]
  }
 ],
 "metadata": {
  "kernelspec": {
   "display_name": "Python 3",
   "language": "python",
   "name": "python3"
  },
  "language_info": {
   "codemirror_mode": {
    "name": "ipython",
    "version": 3
   },
   "file_extension": ".py",
   "mimetype": "text/x-python",
   "name": "python",
   "nbconvert_exporter": "python",
   "pygments_lexer": "ipython3",
   "version": "3.10.12"
  }
 },
 "nbformat": 4,
 "nbformat_minor": 2
}
