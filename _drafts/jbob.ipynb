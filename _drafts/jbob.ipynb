{
 "cells": [
  {
   "cell_type": "code",
   "execution_count": null,
   "metadata": {},
   "outputs": [],
   "source": []
  },
  {
   "cell_type": "markdown",
   "metadata": {},
   "source": [
    "https://github.com/the-little-prover/j-bob/tree/master/scheme\n",
    "\n",
    "The little prover\n",
    "But also it might be fun to convert little typer also.\n",
    "\n",
    "I'm iconoclastic to iconoclasts. That's why I'm a little cold on dependent types.\n"
   ]
  },
  {
   "cell_type": "code",
   "execution_count": null,
   "metadata": {},
   "outputs": [],
   "source": []
  }
 ],
 "metadata": {
  "language_info": {
   "name": "python"
  }
 },
 "nbformat": 4,
 "nbformat_minor": 2
}
