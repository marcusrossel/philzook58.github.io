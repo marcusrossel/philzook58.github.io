{
 "cells": [
  {
   "cell_type": "code",
   "execution_count": null,
   "metadata": {},
   "outputs": [],
   "source": []
  },
  {
   "cell_type": "markdown",
   "metadata": {},
   "source": [
    "Simple union find\n",
    "\n",
    "compressing\n",
    "\n",
    "colored union finds - use min to ping pong. label the union find. DAG hierarchy is fine.\n",
    "\n",
    "union finds as converging functions\n",
    "\n",
    "proof pdoucting union find\n",
    "\n",
    "\n",
    "using dictionary vs using ids\n",
    "vs using pointers\n",
    "\n",
    "The z3 egraph and doubly linked lists. If we want to retain _down_ pointers it is abboying because there mightb e multiple children to one parent. But you can insert yourself into a doubly linked list via the dasncing link technique.\n",
    "Hmm. Maybe this is why z3 does it this way. For fast backtracking https://z3prover.github.io/papers/z3internals.html#sec-equality-and-uninterpreted-functions\n"
   ]
  },
  {
   "cell_type": "code",
   "execution_count": 1,
   "metadata": {},
   "outputs": [
    {
     "ename": "AttributeError",
     "evalue": "'UF' object has no attribute 'ma'",
     "output_type": "error",
     "traceback": [
      "\u001b[0;31m---------------------------------------------------------------------------\u001b[0m",
      "\u001b[0;31mAttributeError\u001b[0m                            Traceback (most recent call last)",
      "Cell \u001b[0;32mIn[1], line 16\u001b[0m\n\u001b[1;32m     13\u001b[0m         \u001b[38;5;28;01mreturn\u001b[39;00m \u001b[38;5;28mself\u001b[39m\u001b[38;5;241m.\u001b[39mfind(y)\n\u001b[1;32m     15\u001b[0m uf \u001b[38;5;241m=\u001b[39m UF()\n\u001b[0;32m---> 16\u001b[0m \u001b[43muf\u001b[49m\u001b[38;5;241;43m.\u001b[39;49m\u001b[43mma\u001b[49m\n",
      "\u001b[0;31mAttributeError\u001b[0m: 'UF' object has no attribute 'ma'"
     ]
    }
   ],
   "source": [
    "from dataclasses import dataclass\n",
    "class UF():\n",
    "    uf : list[int]\n",
    "    def find(self, x):\n",
    "        while x != self.uf[x]:\n",
    "            x = self.uf[x]\n",
    "        return self.uf[x]\n",
    "    def makeset(self):\n",
    "        self.uf.append(len(self.uf))\n",
    "        return len(self.uf) - 1\n",
    "    def union(self, x, y):\n",
    "        self.uf[self.find(x)] = self.find(y)\n",
    "        return self.find(y)\n",
    "\n",
    "uf = UF()\n",
    "a, b, c = uf.makeset()\n",
    "\n"
   ]
  },
  {
   "cell_type": "code",
   "execution_count": 16,
   "metadata": {},
   "outputs": [
    {
     "name": "stdout",
     "output_type": "stream",
     "text": [
      "Cell(name='x', id=136449433498864, parent=...)\n",
      "True\n",
      "Cell(name='x', id=136449433498864, parent=Cell(name='y', id=136449433498432, parent=Cell(name='z', id=136449433492432, parent=...)))\n",
      "Cell(name='z', id=136449433492432, parent=...)\n"
     ]
    }
   ],
   "source": [
    "from dataclasses import dataclass\n",
    "@dataclass\n",
    "class Cell():\n",
    "    name: str\n",
    "    id: int\n",
    "    parent: 'Cell'\n",
    "    def __init__(self, name=\"_\"):\n",
    "        self.parent = self\n",
    "        self.id = id(self)\n",
    "        self.name = name\n",
    "    def find(self):\n",
    "        x = self\n",
    "        while x.parent is not x:\n",
    "            x = x.parent\n",
    "        return x\n",
    "    def union(self,y):\n",
    "        self.find().parent = y.find()\n",
    "        return y.find()\n",
    "    \n",
    "x = Cell(\"x\")\n",
    "y = Cell(\"y\")\n",
    "z = Cell(\"z\")\n",
    "print(x.parent)\n",
    "x.union(y)\n",
    "y.union(z)\n",
    "print(x.find() == z.find())\n",
    "print(x)\n",
    "print(z)"
   ]
  },
  {
   "cell_type": "code",
   "execution_count": null,
   "metadata": {},
   "outputs": [],
   "source": [
    "reasons = []\n",
    "trace = []\n",
    "def union_reason(x, y, reason):\n",
    "    reasons[find(x)] = (x, y, reason)\n",
    "    trace.append((x, y, reason)) # this is sufficient. we don't need to store find(x) and find(y)\n",
    "    uf[find(x)] = find(y)\n",
    "    return find(y)\n",
    "\n",
    "def explain(x,y):\n",
    "    "
   ]
  },
  {
   "cell_type": "markdown",
   "metadata": {},
   "source": [
    "Visualizing as a graph.\n",
    "The union find is part of kruskal's algorithm\n",
    "https://en.wikipedia.org/wiki/Kruskal%27s_algorithm\n",
    "\n",
    "So for example if you had a bunch of equalities and you know how painful each one was to get, you could devise a minimum spanning tree for that.\n",
    "\n",
    "Term rewriting as a graph.\n",
    "\n",
    "Secret congruence edges\n"
   ]
  },
  {
   "cell_type": "code",
   "execution_count": null,
   "metadata": {},
   "outputs": [],
   "source": [
    "import networkx as nx\n",
    "\n",
    "# random graph with multiple components\n",
    "G = nx.Graph()\n",
    "#G.add_nodes_from(range(10))\n",
    "\n",
    "\n",
    "\n",
    "# color the edges in the union find"
   ]
  },
  {
   "cell_type": "code",
   "execution_count": 13,
   "metadata": {},
   "outputs": [
    {
     "data": {
      "text/plain": [
       "array([4, 1, 2, 3, 4, 5, 6, 7, 4, 9])"
      ]
     },
     "execution_count": 13,
     "metadata": {},
     "output_type": "execute_result"
    }
   ],
   "source": [
    "# vectorized normalization.\n",
    "# For egraph purposes, not being fully normalized isn't really a problem.\n",
    "\n",
    "import numpy as np\n",
    "\n",
    "uf = np.arange(10)\n",
    "uf[8] = 0\n",
    "uf[0] = 4\n",
    "\n",
    "def normstep(uf):\n",
    "    return uf[uf] \n",
    "\n",
    "normstep(uf)\n",
    "\n",
    "def step2(uf):\n",
    "    return uf[uf[uf]]\n",
    "step2(uf)\n"
   ]
  }
 ],
 "metadata": {
  "kernelspec": {
   "display_name": "Python 3",
   "language": "python",
   "name": "python3"
  },
  "language_info": {
   "codemirror_mode": {
    "name": "ipython",
    "version": 3
   },
   "file_extension": ".py",
   "mimetype": "text/x-python",
   "name": "python",
   "nbconvert_exporter": "python",
   "pygments_lexer": "ipython3",
   "version": "3.10.12"
  }
 },
 "nbformat": 4,
 "nbformat_minor": 2
}
