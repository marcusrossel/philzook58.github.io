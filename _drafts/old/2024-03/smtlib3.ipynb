{
 "cells": [
  {
   "cell_type": "code",
   "execution_count": null,
   "metadata": {},
   "outputs": [],
   "source": [
    "## smtlib3\n",
    "# https://smtlib.cs.uiowa.edu/version3.shtml\n",
    "\n",
    "# Obviously biting off too big a piece"
   ]
  },
  {
   "cell_type": "code",
   "execution_count": null,
   "metadata": {},
   "outputs": [],
   "source": [
    "\n",
    "\n",
    "import lark\n",
    "\n",
    "grammar = \"\"\"\n",
    "\n",
    "command : \n",
    "  | declareconst\n",
    "  | declaredatatype\n",
    "  | open\n",
    "  | import\n",
    "  | assert\n",
    "  | definemodule\n",
    "\n",
    "  \n",
    "\n",
    "expr : \n",
    "    int\n",
    "   | \"(\" expr expr* \")\"\n",
    "   | \"(\" \"!\" \"Type\" )\n",
    "   | \"(\" \"lambda\" \"(\" symbol sort \")\" expr \")\"\n",
    "   | \"(\" \"let\" \"(\" \"(\" symbol expr \")\" \")\" expr \")\"\n",
    "   | \"(\" \"forall\" \"(\" \"(\" symbol sort \")\" \")\" expr \")\"\n",
    "   | \"(\" \"exists\" \"(\" \"(\" symbol sort \")\" \")\" expr \")\"\n",
    "   | \"(\" \"match\" expr \"(\" \"(\" symbol symbol \")\" expr \")\" \")\"\n",
    "   | \"(\" \"choose\" \"(\" symbol sort \")\" expr \")\"\n",
    "\n",
    "   \n",
    "basetype : \"Int\" | \"Bool\" | \"BitVec\"\n",
    "type : \n",
    "      | \"(\" \"->\" type* type \")\"\n",
    "      | \"(\" \"Pi\" \"(\" symbol sort \")\" type \")\"\n",
    "      | \"(\" \"Forall\" \"(\" symbol sort \")\" type \")\"\n",
    "\n",
    "\n",
    "defineconst : \"(\" \"define-const\" symbol sort \")\"\n",
    "symbol : /[a-zA-Z_][a-zA-Z0-9_]*/\n",
    "sort : symbol\n",
    "\"\"\""
   ]
  },
  {
   "cell_type": "code",
   "execution_count": 10,
   "metadata": {},
   "outputs": [],
   "source": [
    "#https://gist.github.com/pib/240957\n",
    "from string import whitespace\n",
    "\n",
    "atom_end = set('()\"\\'') | set(whitespace)\n",
    "\n",
    "def parse(sexp):\n",
    "    stack, i, length = [[]], 0, len(sexp)\n",
    "    while i < length:\n",
    "        c = sexp[i]\n",
    "\n",
    "        print(c, stack)\n",
    "        reading = type(stack[-1])\n",
    "        if reading == list:\n",
    "            if   c == '(': stack.append([])\n",
    "            elif c == ')': \n",
    "                stack[-2].append(stack.pop())\n",
    "                if stack[-1][0] == ('quote',): stack[-2].append(stack.pop())\n",
    "            elif c == '\"': stack.append('')\n",
    "            elif c == \"'\": stack.append([('quote',)])\n",
    "            elif c in whitespace: pass\n",
    "            else: stack.append((c,))\n",
    "        elif reading == str:\n",
    "            if   c == '\"': \n",
    "                stack[-2].append(stack.pop())\n",
    "                if stack[-1][0] == ('quote',): stack[-2].append(stack.pop())\n",
    "            elif c == '\\\\': \n",
    "                i += 1\n",
    "                stack[-1] += sexp[i]\n",
    "            else: stack[-1] += c\n",
    "        elif reading == tuple:\n",
    "            if c in atom_end:\n",
    "                atom = stack.pop()\n",
    "                if atom[0][0].isdigit(): stack[-1].append(eval(atom[0]))\n",
    "                else: stack[-1].append(atom)\n",
    "                if stack[-1][0] == ('quote',): stack[-2].append(stack.pop())\n",
    "                continue\n",
    "            else: stack[-1] = ((stack[-1][0] + c),)\n",
    "        i += 1\n",
    "    return stack.pop()"
   ]
  },
  {
   "cell_type": "code",
   "execution_count": null,
   "metadata": {},
   "outputs": [],
   "source": [
    "def sexp(toks):\n",
    "    if toks[0] == \"(\":\n",
    "        i = sexp(toks[1:])\n",
    "        toks[0] = \")\"\n",
    "        return i+1\n",
    "    "
   ]
  },
  {
   "cell_type": "code",
   "execution_count": 11,
   "metadata": {},
   "outputs": [
    {
     "name": "stdout",
     "output_type": "stream",
     "text": [
      "( [[]]\n",
      "d [[], []]\n",
      "e [[], [], ('d',)]\n",
      "f [[], [], ('de',)]\n",
      "i [[], [], ('def',)]\n",
      "n [[], [], ('defi',)]\n",
      "e [[], [], ('defin',)]\n",
      "- [[], [], ('define',)]\n",
      "c [[], [], ('define-',)]\n",
      "o [[], [], ('define-c',)]\n",
      "n [[], [], ('define-co',)]\n",
      "s [[], [], ('define-con',)]\n",
      "t [[], [], ('define-cons',)]\n",
      "  [[], [], ('define-const',)]\n",
      "  [[], [('define-const',)]]\n",
      "x [[], [('define-const',)]]\n",
      "  [[], [('define-const',)], ('x',)]\n",
      "  [[], [('define-const',), ('x',)]]\n",
      "I [[], [('define-const',), ('x',)]]\n",
      "n [[], [('define-const',), ('x',)], ('I',)]\n",
      "t [[], [('define-const',), ('x',)], ('In',)]\n",
      ") [[], [('define-const',), ('x',)], ('Int',)]\n",
      ") [[], [('define-const',), ('x',), ('Int',)]]\n"
     ]
    },
    {
     "data": {
      "text/plain": [
       "[[('define-const',), ('x',), ('Int',)]]"
      ]
     },
     "execution_count": 11,
     "metadata": {},
     "output_type": "execute_result"
    }
   ],
   "source": [
    "parse(\"(define-const x Int)\")"
   ]
  },
  {
   "cell_type": "code",
   "execution_count": 25,
   "metadata": {},
   "outputs": [
    {
     "name": "stdout",
     "output_type": "stream",
     "text": [
      "[['define', 'square', ['lambda', ['x'], ['*', 'x', 'x']]]]\n"
     ]
    },
    {
     "data": {
      "text/plain": [
       "[['define-const', 'x', 'Int'],\n",
       " ['assert', ['=', 'x', 3]],\n",
       " ['assert', ['>=', 'x', 8]],\n",
       " ['check-sat'],\n",
       " ['push'],\n",
       " ['pop'],\n",
       " []]"
      ]
     },
     "execution_count": 25,
     "metadata": {},
     "output_type": "execute_result"
    }
   ],
   "source": [
    "import re\n",
    "\n",
    "# \\s* is whitespace follow by digits or symbol or ( or )\n",
    "token_pattern = re.compile(r\"\\s*(?:(\\d+)|([A-Za-z\\-!=\\+\\*\\_<>]+[A-Za-z0-9\\-!=\\+\\*\\_<>]*)|(\\()|(\\)))\")\n",
    "\n",
    "def tokenize(s):\n",
    "    for match in token_pattern.finditer(s):\n",
    "        yield match.groups()\n",
    "\n",
    "def parse_expression(iterator):\n",
    "    \"\"\"Parse an expression from the token iterator.\"\"\"\n",
    "    items = []\n",
    "    for number, symbol, lparen, rparen in iterator:\n",
    "        if lparen:\n",
    "            items.append(parse_expression(iterator))\n",
    "        elif rparen:\n",
    "            return items\n",
    "        elif number:\n",
    "            items.append(int(number))\n",
    "        elif symbol:\n",
    "            items.append(symbol)\n",
    "        else:\n",
    "            raise SyntaxError(\"Unexpected token\")\n",
    "    return items\n",
    "\n",
    "def parse_sexp(s):\n",
    "    \"\"\"Parse an S-expression from a string.\"\"\"\n",
    "    tokens = tokenize(s)\n",
    "    try:\n",
    "        # The outermost list is not required for a valid S-expression,\n",
    "        # so we extract the single expression inside it.\n",
    "        result = parse_expression(tokens)\n",
    "        # Check for trailing tokens\n",
    "        for _ in tokens:\n",
    "            raise SyntaxError(\"Trailing tokens\")\n",
    "        return result\n",
    "    except StopIteration:\n",
    "        raise SyntaxError(\"Unexpected end of input\")\n",
    "\n",
    "# Example usage\n",
    "s_expression = \"(define square (lambda (x) (* x x)))\"\n",
    "parsed = parse_sexp(s_expression)\n",
    "print(parsed)\n",
    "\n",
    "# possibly I could make this a generator that streams?\n",
    "parse_sexp(\"1 2 4 (foo bar) (8 9 (biz baz))\")\n",
    "parse_sexp(\"(define-const x!8 Int)\")\n",
    "parse_sexp(\"\"\"\n",
    "           (define-const x Int)\n",
    "           (assert (= x 3))\n",
    "           (assert (>= x 8))\n",
    "           (check-sat)\n",
    "           (push)\n",
    "           (pop)\n",
    "\n",
    "           ()\n",
    "           \"\"\")\n"
   ]
  }
 ],
 "metadata": {
  "kernelspec": {
   "display_name": "Python 3",
   "language": "python",
   "name": "python3"
  },
  "language_info": {
   "codemirror_mode": {
    "name": "ipython",
    "version": 3
   },
   "file_extension": ".py",
   "mimetype": "text/x-python",
   "name": "python",
   "nbconvert_exporter": "python",
   "pygments_lexer": "ipython3",
   "version": "3.10.12"
  }
 },
 "nbformat": 4,
 "nbformat_minor": 2
}
