{
 "cells": [
  {
   "cell_type": "code",
   "execution_count": null,
   "metadata": {},
   "outputs": [],
   "source": []
  },
  {
   "cell_type": "markdown",
   "metadata": {},
   "source": [
    "gaussian integrals are a multilinear algebra engine.\n",
    "\n",
    "The basic questions about guassians are answered by linear algebraic qauntities.\n",
    "\n",
    "basicaly a quadratic form goes into the exponent. A quadratic form is pretty special.\n",
    "\n"
   ]
  },
  {
   "cell_type": "code",
   "execution_count": null,
   "metadata": {},
   "outputs": [],
   "source": [
    "@dataclass\n",
    "class Gaussian:\n",
    "    quadterm: Dict[Any, Dict[Any, Matrix]]\n",
    "    linterm: Dict[Any, Vec]\n",
    "    const: Number\n",
    "\n",
    "def normalize(g):\n",
    "    g.const = det(g.quadterm)\n",
    "\n",
    "def diff(g,x):\n",
    "    pass\n",
    "\n",
    "def integ(g, xs):\n",
    "    pass"
   ]
  }
 ],
 "metadata": {
  "language_info": {
   "name": "python"
  }
 },
 "nbformat": 4,
 "nbformat_minor": 2
}
