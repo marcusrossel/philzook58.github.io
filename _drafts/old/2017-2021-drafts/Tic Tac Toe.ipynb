{
 "cells": [
  {
   "cell_type": "code",
   "execution_count": 6,
   "metadata": {
    "collapsed": true
   },
   "outputs": [],
   "source": [
    "board = [['e', 'x', 'o']]\n",
    "\n",
    "def fillmatrix(n, m, init):\n",
    "    board = []\n",
    "    for i in range(n):\n",
    "        row = []\n",
    "        for j in range(m):\n",
    "            row.append(init)\n",
    "        board.append(row)\n",
    "    return board\n",
    "\n",
    "emptyboard = fillmatrix(3,3,'e')\n"
   ]
  },
  {
   "cell_type": "markdown",
   "metadata": {},
   "source": [
    "e for empty space, o and x for filled spaces"
   ]
  },
  {
   "cell_type": "code",
   "execution_count": 10,
   "metadata": {
    "collapsed": true
   },
   "outputs": [],
   "source": [
    "\n",
    "def otherplayer(player):\n",
    "    if player == 'x':\n",
    "        return 'o'\n",
    "    if player == 'o':\n",
    "        return 'x'\n",
    "    \n",
    "def transpose(board):\n",
    "    return map(list, zip(*board))\n",
    "    #[[board[col][row] for col in range() ]]\n",
    "\n",
    "def diag(board):\n",
    "    diagonal = []\n",
    "    for i in range(len(board)):\n",
    "        diagonal.append(board[i][i])\n",
    "    return diagonal\n",
    "\n",
    "def won(board,player):\n",
    "    for row in board:\n",
    "        if row[1:] == row[:-1]:\n",
    "            return True\n",
    "    for col in transpose(board):\n",
    "        if col[1:] == col[:-1]:\n",
    "            return True\n",
    "    diag1 = diag(board)\n",
    "    if diag1[1:] == diag1[:-1]:\n",
    "        return True\n",
    "    diag2 = diag(transpose(board))\n",
    "    if diag2[1:] == diag2[:-1]:\n",
    "        return True\n",
    "    \n",
    "    return False\n",
    "    \n",
    "    \n",
    "    \n",
    "def solvetoe(board, player='x'):\n",
    "    \n",
    "    maxsol = 0\n",
    "    for rownum, row in enumerate(board):\n",
    "        for colnum, val in enumerate(row):\n",
    "            if val == 'e':\n",
    "                board[rownum][colnum] = player\n",
    "                if won(board, player):\n",
    "                    print(board)\n",
    "                    board[rownum][colnum] == 'e' #undo\n",
    "                    return 1\n",
    "                sol = -1 * solvetoe(board, otherplayer(player))\n",
    "                board[rownum][colnum] == 'e' #undo\n",
    "                if sol >= maxsol:\n",
    "                    maxsol = sol\n",
    "    return maxsol\n",
    "                    \n",
    "                \n",
    "    "
   ]
  },
  {
   "cell_type": "code",
   "execution_count": 3,
   "metadata": {
    "collapsed": false
   },
   "outputs": [
    {
     "data": {
      "text/plain": [
       "[(1, 4), (2, 5), (3, 6)]"
      ]
     },
     "execution_count": 3,
     "metadata": {},
     "output_type": "execute_result"
    }
   ],
   "source": [
    "A = [[ 1, 2, 3],[ 4, 5, 6]]\n",
    "list(zip(*A))\n"
   ]
  },
  {
   "cell_type": "code",
   "execution_count": 11,
   "metadata": {
    "collapsed": false
   },
   "outputs": [
    {
     "name": "stdout",
     "output_type": "stream",
     "text": [
      "[['x', 'x', 'x'], ['e', 'e', 'e'], ['e', 'e', 'e']]\n"
     ]
    },
    {
     "data": {
      "text/plain": [
       "1"
      ]
     },
     "execution_count": 11,
     "metadata": {},
     "output_type": "execute_result"
    }
   ],
   "source": [
    "solvetoe(emptyboard)"
   ]
  },
  {
   "cell_type": "code",
   "execution_count": null,
   "metadata": {
    "collapsed": true
   },
   "outputs": [],
   "source": []
  }
 ],
 "metadata": {
  "kernelspec": {
   "display_name": "Python 3",
   "language": "python",
   "name": "python3"
  },
  "language_info": {
   "codemirror_mode": {
    "name": "ipython",
    "version": 3
   },
   "file_extension": ".py",
   "mimetype": "text/x-python",
   "name": "python",
   "nbconvert_exporter": "python",
   "pygments_lexer": "ipython3",
   "version": "3.5.2"
  }
 },
 "nbformat": 4,
 "nbformat_minor": 2
}
