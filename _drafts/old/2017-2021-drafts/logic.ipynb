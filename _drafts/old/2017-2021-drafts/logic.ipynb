{
 "cells": [
  {
   "cell_type": "code",
   "execution_count": 1,
   "metadata": {
    "collapsed": true,
    "deletable": true,
    "editable": true
   },
   "outputs": [],
   "source": [
    "from collections import namedtuple\n",
    "And = namedtuple('And', 'a b')\n",
    "Or = namedtuple('Or', 'a b')\n",
    "Not = namedtuple('Not', 'a')\n",
    "Var = namedtuple('Var', 'name')\n",
    "Const = namedtuple('Const', 'val')"
   ]
  },
  {
   "cell_type": "code",
   "execution_count": 2,
   "metadata": {
    "collapsed": false,
    "deletable": true,
    "editable": true
   },
   "outputs": [
    {
     "data": {
      "text/plain": [
       "True"
      ]
     },
     "execution_count": 2,
     "metadata": {},
     "output_type": "execute_result"
    }
   ],
   "source": [
    "type(And(True, False)) == And"
   ]
  },
  {
   "cell_type": "code",
   "execution_count": 3,
   "metadata": {
    "collapsed": true,
    "deletable": true,
    "editable": true
   },
   "outputs": [],
   "source": [
    "# expects env to be a dictionary and expr to be a chain of named tuples\n",
    "def logeval(env, expr): \n",
    "    if type(expr) == And:\n",
    "        return logeval(env, expr.a) and logeval(env, expr.b)\n",
    "    elif type(expr) == Or:\n",
    "        return logeval(env, expr.a) or logeval(env, expr.b)\n",
    "    elif type(expr) == Not:\n",
    "        return not logeval(env, expr.a)\n",
    "    elif type(expr) == Var:\n",
    "        return env[expr.name]\n",
    "    else:\n",
    "        print(\"ill formed query\")\n",
    "\n",
    "        \n",
    "        "
   ]
  },
  {
   "cell_type": "code",
   "execution_count": 4,
   "metadata": {
    "collapsed": false,
    "deletable": true,
    "editable": true
   },
   "outputs": [
    {
     "data": {
      "text/plain": [
       "False"
      ]
     },
     "execution_count": 4,
     "metadata": {},
     "output_type": "execute_result"
    }
   ],
   "source": [
    "env = {'a': True, 'b': False}\n",
    "expr1 = Not(Var('a'))\n",
    "logeval(env, expr1)"
   ]
  },
  {
   "cell_type": "code",
   "execution_count": 5,
   "metadata": {
    "collapsed": false,
    "deletable": true,
    "editable": true
   },
   "outputs": [
    {
     "data": {
      "text/plain": [
       "True"
      ]
     },
     "execution_count": 5,
     "metadata": {},
     "output_type": "execute_result"
    }
   ],
   "source": [
    "env = {'a': True, 'b': True}\n",
    "expr1 = And(Var('a'), Var('b'))\n",
    "logeval(env, expr1)"
   ]
  },
  {
   "cell_type": "code",
   "execution_count": 6,
   "metadata": {
    "collapsed": false,
    "deletable": true,
    "editable": true
   },
   "outputs": [
    {
     "data": {
      "text/plain": [
       "True"
      ]
     },
     "execution_count": 6,
     "metadata": {},
     "output_type": "execute_result"
    }
   ],
   "source": [
    "bool((1 << 1) & 7)"
   ]
  },
  {
   "cell_type": "code",
   "execution_count": 16,
   "metadata": {
    "collapsed": false
   },
   "outputs": [],
   "source": [
    "expr2 = And(Var('a'), Not(Var('a')))"
   ]
  },
  {
   "cell_type": "code",
   "execution_count": 7,
   "metadata": {
    "collapsed": true,
    "deletable": true,
    "editable": true
   },
   "outputs": [],
   "source": [
    "# an all combo generator\n",
    "def allcombos(varlist):\n",
    "    env = {}\n",
    "    for j in range(2**len(varlist)):\n",
    "        for varnum, var in enumerate(varlist):\n",
    "            env[var] = bool((1 << varnum) & j)\n",
    "        yield env\n",
    "    "
   ]
  },
  {
   "cell_type": "code",
   "execution_count": 8,
   "metadata": {
    "collapsed": false,
    "deletable": true,
    "editable": true
   },
   "outputs": [
    {
     "name": "stdout",
     "output_type": "stream",
     "text": [
      "{'b': False, 'a': False}\n",
      "{'b': False, 'a': True}\n",
      "{'b': True, 'a': False}\n",
      "{'b': True, 'a': True}\n"
     ]
    },
    {
     "data": {
      "text/plain": [
       "[None, None, None, None]"
      ]
     },
     "execution_count": 8,
     "metadata": {},
     "output_type": "execute_result"
    }
   ],
   "source": [
    "list(map(print, allcombos(['a','b'])))"
   ]
  },
  {
   "cell_type": "code",
   "execution_count": 9,
   "metadata": {
    "collapsed": true,
    "deletable": true,
    "editable": true
   },
   "outputs": [],
   "source": [
    "def simpleSAT(varlist, expr):\n",
    "    for env in allcombos(varlist):\n",
    "        if logeval(env, expr):\n",
    "            return env\n",
    "    return None\n"
   ]
  },
  {
   "cell_type": "code",
   "execution_count": 10,
   "metadata": {
    "collapsed": false,
    "deletable": true,
    "editable": true
   },
   "outputs": [
    {
     "data": {
      "text/plain": [
       "{'a': True, 'b': True}"
      ]
     },
     "execution_count": 10,
     "metadata": {},
     "output_type": "execute_result"
    }
   ],
   "source": [
    "simpleSAT(['a','b'], expr1)"
   ]
  },
  {
   "cell_type": "code",
   "execution_count": 20,
   "metadata": {
    "collapsed": true
   },
   "outputs": [],
   "source": [
    "def findunbound(varlist, env):\n",
    "    for var in varlist:\n",
    "        if var not in env:\n",
    "            return var\n",
    "    return None\n",
    "\n",
    "def recurseSAT0(env, varlist, expr):\n",
    "    unboundvar = findunbound(varlist, env)\n",
    "    if unboundvar:\n",
    "        env[unboundvar] = True #Try true assignment\n",
    "        if recurseSAT0(env, varlist, expr):\n",
    "            return True\n",
    "        else:\n",
    "            env[unboundvar] = False \n",
    "            if recurseSAT0(env, varlist, expr):\n",
    "                return True\n",
    "            else:\n",
    "                env.pop(unboundvar, None) #return env to previous form on backtracking\n",
    "                return False\n",
    "    else: #All variables assigned\n",
    "        return logeval(env, expr)\n",
    "\n",
    "def recurseSAT(varlist, expr):\n",
    "    env = {}\n",
    "    if recurseSAT0(env, varlist, expr):\n",
    "        return env\n",
    "    else:\n",
    "        return \"UnSAT\"\n",
    "    \n"
   ]
  },
  {
   "cell_type": "code",
   "execution_count": 14,
   "metadata": {
    "collapsed": false
   },
   "outputs": [
    {
     "data": {
      "text/plain": [
       "{'a': True, 'b': True}"
      ]
     },
     "execution_count": 14,
     "metadata": {},
     "output_type": "execute_result"
    }
   ],
   "source": [
    "recurseSAT(['a','b'], expr1)"
   ]
  },
  {
   "cell_type": "code",
   "execution_count": 21,
   "metadata": {
    "collapsed": false
   },
   "outputs": [
    {
     "data": {
      "text/plain": [
       "'UnSAT'"
      ]
     },
     "execution_count": 21,
     "metadata": {},
     "output_type": "execute_result"
    }
   ],
   "source": [
    "recurseSAT(['a','b'], expr2)"
   ]
  },
  {
   "cell_type": "markdown",
   "metadata": {
    "deletable": true,
    "editable": true
   },
   "source": [
    "Check out walkSat"
   ]
  },
  {
   "cell_type": "code",
   "execution_count": null,
   "metadata": {
    "collapsed": true
   },
   "outputs": [],
   "source": [
    "# expects env to be a dictionary and expr to be a chain of named tuples\n",
    "def logreplace(env, expr): \n",
    "    if type(expr) == And:\n",
    "        return And(logreplace(env, expr.a), logreplace(env, expr.b))\n",
    "    elif type(expr) == Or:\n",
    "        return Or(logreplace(env, expr.a), logreplace(env, expr.b))\n",
    "    elif type(expr) == Not:\n",
    "        return not Not(logreplace(env, expr.a))\n",
    "    elif type(expr) == Var:\n",
    "        if expr.name in env:\n",
    "            return Const(env[expr.name])\n",
    "        else:\n",
    "            return expr\n",
    "    elif type(expr) == Const:\n",
    "        return expr\n",
    "    else:\n",
    "        print(\"ill formed query\")"
   ]
  },
  {
   "cell_type": "markdown",
   "metadata": {},
   "source": [
    "God. These are SUCH folds."
   ]
  },
  {
   "cell_type": "code",
   "execution_count": null,
   "metadata": {
    "collapsed": true
   },
   "outputs": [],
   "source": [
    "def logsimp(env, expr):\n",
    "    if type(expr) == And:\n",
    "        if type(expr.a) == Const:\n",
    "            \n",
    "        elif type(expr.b) == Const:\n",
    "            \n",
    "        return And(logreplace(env, expr.a), logreplace(env, expr.b))\n",
    "    elif type(expr) == Or:\n",
    "        return Or(logreplace(env, expr.a), logreplace(env, expr.b))\n",
    "    elif type(expr) == Not:\n",
    "        return not Not(logreplace(env, expr.a))\n",
    "    elif type(expr) == Var:\n",
    "        if expr.name in env:\n",
    "            return Const(env[expr.name])\n",
    "        else:\n",
    "            return expr\n",
    "    elif type(expr) == Const:\n",
    "        return expr\n",
    "    else:\n",
    "        print(\"ill formed query\")"
   ]
  }
 ],
 "metadata": {
  "kernelspec": {
   "display_name": "Python 3",
   "language": "python",
   "name": "python3"
  },
  "language_info": {
   "codemirror_mode": {
    "name": "ipython",
    "version": 3
   },
   "file_extension": ".py",
   "mimetype": "text/x-python",
   "name": "python",
   "nbconvert_exporter": "python",
   "pygments_lexer": "ipython3",
   "version": "3.5.2"
  }
 },
 "nbformat": 4,
 "nbformat_minor": 2
}
