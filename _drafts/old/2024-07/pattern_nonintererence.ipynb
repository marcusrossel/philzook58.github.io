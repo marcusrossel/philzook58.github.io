{
 "cells": [
  {
   "cell_type": "markdown",
   "metadata": {},
   "source": [
    "It's great to define a function by cases.\n",
    "\n",
    "But when you do so, it is good / necessary to have a pattern completeness check.\n",
    "\n",
    "By throwing in a default case with two different unkonwn values, he pattern completeness can be phrased as a noniternference property.\n",
    "\n",
    "\n",
    "\n",
    "\n"
   ]
  },
  {
   "cell_type": "code",
   "execution_count": null,
   "metadata": {},
   "outputs": [],
   "source": [
    "\n",
    "[\n",
    "length(L.nil) == 0,\n",
    "length(L.cons(x,xs)) == 1 + length(xs)\n",
    "]\n",
    "\n",
    "# uglier\n",
    "L.nil, 0\n",
    "[x,xs], L.cons(x,xs), 1 + length(xs)\n",
    "\n",
    "acc = x\n",
    "for case in reversed(cases):\n",
    "    If()"
   ]
  }
 ],
 "metadata": {
  "language_info": {
   "name": "python"
  }
 },
 "nbformat": 4,
 "nbformat_minor": 2
}
