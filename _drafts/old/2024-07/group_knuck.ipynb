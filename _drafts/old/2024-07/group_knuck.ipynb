{
 "cells": [
  {
   "cell_type": "code",
   "execution_count": 1,
   "metadata": {},
   "outputs": [],
   "source": [
    "from z3 import *\n",
    "def lemma(thm, by=[], admit=False):\n",
    "    if admit:\n",
    "        print(\"  Admitted.\", thm)\n",
    "    else:\n",
    "        prove(Implies(And(by), thm))\n",
    "    return thm\n",
    "B = BoolSort()\n",
    "BoolRef.__and__ = lambda self, other: And(self, other)"
   ]
  },
  {
   "cell_type": "markdown",
   "metadata": {},
   "source": [
    "- Subgroup\n",
    "- Quotient Group\n",
    "- Lagrange's theorem\n",
    "- Homomorphisms https://en.wikipedia.org/wiki/Group_homomorphism\n",
    "- isomorphism theorems https://en.wikipedia.org/wiki/Isomorphism_theorems\n",
    "- Particular groups - permutations?\n",
    "\n",
    "\n",
    "Dummit and foote\n",
    "visual group theory\n",
    "rotman\n",
    "aluffi chaptter 0\n",
    "\n",
    "\n"
   ]
  },
  {
   "cell_type": "code",
   "execution_count": null,
   "metadata": {},
   "outputs": [],
   "source": [
    "G = DeclareSort(\"G\")\n",
    "mul = Function(\"mul\", G, G, G)\n",
    "inv = Function(\"inv\", G, G)\n",
    "ExprRef.__mul__ = lambda self, other: mul(self, other)\n",
    "e = Const(\"e\", G)\n",
    "\n",
    "x,y,z = Consts(\"x y z\", G)\n",
    "\n",
    "g_assoc = ForAll([x, y, z], (x * y) * z == x * (y * z))\n",
    "g_right_id = ForAll([x], x * e == x)\n",
    "g_right_inv = ForAll([x], x * inv(x) == e)\n",
    "\n",
    "\n",
    "\n",
    "\n"
   ]
  },
  {
   "cell_type": "code",
   "execution_count": null,
   "metadata": {},
   "outputs": [],
   "source": [
    "GSet = ArraySort(G, BoolSort())\n",
    "H,K = Consts(\"H K\", GSet)\n",
    "subgroup = Function(\"subgroup\", GSet, B)\n",
    "subgroup_def = ForAll([H], subgroup(H) == ForAll([x, y], Implies(H[x] & H[y], \n",
    "                                                                 H[inv(x)] & H[x * y])))\n",
    "\n",
    "left_coset = Function(\"left_coset\", GSet, GSet)\n",
    "left_coset_def = ForAll([H], coset(H) == Lambda([x], Exists([y,z], H[y] & x == y * z )))\n"
   ]
  },
  {
   "cell_type": "markdown",
   "metadata": {},
   "source": [
    "Universal algebra\n",
    "\n",
    "finite group\n",
    "{\n",
    "    \"mul\": {(i,j) : (i + j) % 4  for i in range(4) for j in range(4)}\n",
    "    \"inv\": {i: 4 - i for i in range(4)}\n",
    "    \"id\": 0\n",
    "}\n",
    "\n",
    "categorical style\n",
    "{\n",
    "    {(\"mul\", (i,j)) : (i + j) % 4  for i in range(4) for j in range(4)}\n",
    "    + {(\"inv\",i): 4 - i for i in range(4)}\n",
    "     + {(\"id\",) : 0}\n",
    "}\n",
    "\n",
    "falgebra in finset\n",
    "\n",
    "The initial one isn't in finset though.\n",
    "quotient group := items are the sets of equivalent members.\n",
    "\n",
    "\n",
    "\n"
   ]
  }
 ],
 "metadata": {
  "kernelspec": {
   "display_name": "Python 3",
   "language": "python",
   "name": "python3"
  },
  "language_info": {
   "name": "python",
   "version": "3.10.12"
  }
 },
 "nbformat": 4,
 "nbformat_minor": 2
}
