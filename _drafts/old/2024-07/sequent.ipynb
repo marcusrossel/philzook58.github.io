{
 "cells": [
  {
   "cell_type": "code",
   "execution_count": null,
   "metadata": {},
   "outputs": [],
   "source": []
  },
  {
   "cell_type": "markdown",
   "metadata": {},
   "source": [
    "Truth and valdiity -\n",
    "validity is empty context proof\n",
    "That nat deduct and sequrnt both use turnstile is really bad\n",
    "\n",
    "true and false judgements\n",
    "Proof normalization is a reasonable thing to consider once you are thinkibng about proof a\n",
    "\n",
    "Redundancies (even in \"normal form elmination before introduction\"):\n",
    "- order of rules\n",
    "- invertible rules\n",
    "\n",
    "The parent child relation of invertible parts of proofs is list-like but should be set/multiset-like.\n",
    "\n",
    "proof failure in sequent makes a countermodel.\n",
    "Tableau can be thought of as trying to build a countermodel (\"semantic\" tableau)\n",
    "\n",
    "\n",
    "Backtracking of SAT solver\n",
    "\n",
    "Skpetic semantrics and the true/false\n",
    "Shulman's interpretatio of lienar connectives\n",
    "blame calculus. Amal references Hieb\n",
    "\n",
    "Quantifiers\n",
    "Round robin tableau is inefficient.\n",
    "Connection does something smarter? A clause at a time\n",
    "\n"
   ]
  }
 ],
 "metadata": {
  "language_info": {
   "name": "python"
  }
 },
 "nbformat": 4,
 "nbformat_minor": 2
}
