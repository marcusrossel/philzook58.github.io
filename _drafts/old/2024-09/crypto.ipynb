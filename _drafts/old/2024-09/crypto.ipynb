{
 "cells": [
  {
   "cell_type": "code",
   "execution_count": null,
   "metadata": {},
   "outputs": [],
   "source": []
  },
  {
   "cell_type": "markdown",
   "metadata": {},
   "source": [
    "- https://crypto.stackexchange.com/questions/202/should-we-mac-then-encrypt-or-encrypt-then-mac\n",
    "\n",
    "- https://oaklandsok.github.io/papers/barbosa2021.pdf SoK: Computer-Aided Cryptography\n",
    "- [Fiat Cryptography: Automatic Correct-by-Construction Generation of Low-Level Cryptographic Code](https://www.youtube.com/watch?v=PVHDIiqvBaU)\n",
    "-  [Formally Verified Cryptographic Web Applications in WebAssembly](https://www.youtube.com/watch?v=VpFY4g4QPnY)\n",
    "- [Modern Cryptography with Haskell by Stephen Diehl](https://www.youtube.com/watch?v=BFA-mQEHNhc)\n",
    "\n",
    "- https://lawrencecpaulson.github.io/2022/11/02/crypto-protocols-NS.html Verifying cryptographic protocols, II: a simple example\n",
    "\n",
    "- <https://github.com/EasyCrypt/easycrypt>   EasyCrypt: Computer-Aided Cryptographic Proofs\n",
    "\n",
    "  * https://www.ccs.neu.edu/home/riccardo/courses/csg399-sp06/ formal secuirty course\n",
    "  * model checking. http://seclab.stanford.edu/pcl/mc/mc.html\n",
    "  * CSP - communicating sequential logic\n",
    "  * pi calculus. spi calculus https://www.microsoft.com/en-us/research/wp-content/uploads/2016/11/ic99spi.pdf\n",
    "  * BAN logic https://en.wikipedia.org/wiki/Burrows%E2%80%93Abadi%E2%80%93Needham_logic\n",
    "  * protocol logic  https://en.wikipedia.org/wiki/Protocol_composition_logic\n",
    "  * protocol verification\n",
    "  * https://www.cl.cam.ac.uk/~lp15/papers/Auth/lics.pdf paulson \n",
    "  * https://www.easycrypt.info/trac/ easycrypt\n",
    "  * http://certicrypt.gforge.inria.fr/ certicrypt\n",
    "  * infromation flow\n",
    "  * noninterference. Low and high security information https://unsat.cs.washington.edu/papers/sigurbjarnarson-nickel.pdf\n",
    "  * dolev yao model\n",
    "  * proverif\n",
    "  * spin\n",
    "  * isabelle book \n",
    "  * https://www.cl.cam.ac.uk/~lp15/papers/Auth/\n",
    "  * https://www.dmi.unict.it/giamp/ giampaulo bella\n",
    "  * https://crypto.stackexchange.com/questions/34304/formal-verification-in-cryptography https://crypto.stackexchange.com/questions/5834/tools-for-modelling-and-analysis-of-cryptographic-protocols?rq=1\n",
    "  * http://tamarin-prover.github.io/\n",
    "  * Scyther?\n",
    "  * Alloy? TLA+\n",
    "  * The Mike Stay Vicary paper that started this for me\n",
    "  * https://www.anilada.com/courses/15251f17/www/notes/modular-arith-crypto.pdf greg notes on crypto. Not very useful\n",
    "  * https://verdi.uwplse.org/ - diostributed systesm, different but related\n",
    "  * https://www.cs.cornell.edu/~shmat/shmat_survey.pdf\n",
    "- F* land. [Vale - Verifying High-Performance Cryptographic Assembly Code](https://project-everest.github.io/assets/vale2017.pdf). Hmm. this is leveraging dafny\n",
    "\n",
    "- TPTP problems based on paulson https://www.cl.cam.ac.uk/~lp15/papers/Auth/jcs.pdf The Inductive Approach to\n",
    "- Verifying Cryptographic Protocols\n",
    "\n",
    "\n",
    "\n"
   ]
  }
 ],
 "metadata": {
  "language_info": {
   "name": "python"
  }
 },
 "nbformat": 4,
 "nbformat_minor": 2
}
