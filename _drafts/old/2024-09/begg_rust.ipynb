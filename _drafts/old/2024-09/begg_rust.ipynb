{
 "cells": [
  {
   "cell_type": "code",
   "execution_count": 2,
   "metadata": {},
   "outputs": [
    {
     "name": "stdout",
     "output_type": "stream",
     "text": [
      "Hello world\n"
     ]
    }
   ],
   "source": [
    "println!(\"Hello world\");"
   ]
  },
  {
   "cell_type": "code",
   "execution_count": null,
   "metadata": {},
   "outputs": [],
   "source": []
  },
  {
   "cell_type": "code",
   "execution_count": 7,
   "metadata": {},
   "outputs": [
    {
     "name": "stdout",
     "output_type": "stream",
     "text": [
      "this is my expression (foo a b)\n"
     ]
    }
   ],
   "source": [
    ":dep egg\n",
    "// https://docs.rs/egg/latest/egg/tutorials/_02_getting_started/index.html\n",
    "use egg::*;\n",
    "// Since parsing can return an error, `unwrap` just panics if the result doesn't return Ok\n",
    "let my_expression: RecExpr<SymbolLang> = \"(foo a b)\".parse().unwrap();\n",
    "println!(\"this is my expression {}\", my_expression);\n",
    "\n",
    "// let's try to create an e-node, but hmmm, what do I put as the children?\n",
    "let my_enode = SymbolLang::new(\"bar\", vec![]);\n",
    "let mut expr = RecExpr::default();\n",
    "let a = expr.add(SymbolLang::leaf(\"a\"));\n",
    "let b = expr.add(SymbolLang::leaf(\"b\"));\n",
    "let foo = expr.add(SymbolLang::new(\"foo\", vec![a, b]));\n",
    "\n",
    "// we can do the same thing with an EGraph\n",
    "let mut egraph: EGraph<SymbolLang, ()> = Default::default();\n",
    "let a = egraph.add(SymbolLang::leaf(\"a\"));\n",
    "let b = egraph.add(SymbolLang::leaf(\"b\"));\n",
    "let foo = egraph.add(SymbolLang::new(\"foo\", vec![a, b]));\n",
    "\n",
    "// we can also add RecExprs to an egraph\n",
    "let foo2 = egraph.add_expr(&expr);\n",
    "// note that if you add the same thing to an e-graph twice, you'll get back equivalent Ids\n",
    "assert_eq!(foo, foo2);\n"
   ]
  },
  {
   "cell_type": "markdown",
   "metadata": {},
   "source": [
    "Could try looking at cop-rs also"
   ]
  },
  {
   "cell_type": "markdown",
   "metadata": {},
   "source": [
    "Grab RecExpr from egg. Keeping an open datatype that can have user mixins is interesting...\n",
    "https://docs.rs/egg/latest/src/egg/language.rs.html#368-370\n",
    "\n",
    "Discrimination tree\n",
    "Make maturin bindings\n",
    "\n",
    "Demand driven: Goal is to get gropu theory example to run.\n"
   ]
  },
  {
   "cell_type": "code",
   "execution_count": null,
   "metadata": {},
   "outputs": [],
   "source": [
    "#[derive(Debug, Clone, PartialEq, Eq, PartialOrd, Ord, Hash)]\n",
    "pub struct RecExpr<L> {\n",
    "    nodes: Vec<L>,\n",
    "}\n",
    "\n",
    "/// A simple language used for testing.\n",
    "#[derive(Debug, Hash, PartialEq, Eq, Clone, PartialOrd, Ord)]\n",
    "#[cfg_attr(feature = \"serde-1\", derive(serde::Serialize, serde::Deserialize))]\n",
    "enum SymbolLang {\n",
    "    Fn {\n",
    "    /// The operator for an enode\n",
    "    pub op: Symbol,\n",
    "    /// The enode's children `Id`s\n",
    "    pub children: Vec<Id>},\n",
    "    Var { name : Symbol, id : usize}\n",
    "}\n",
    "\n",
    "fn unify( a: &RecExpr<SymbolLang>, b: &RecExpr<SymbolLang>) -> Subst {\n",
    "    // todo\n",
    "}\n",
    "\n",
    "struct DiscTrie<A> {\n",
    "    values : Vec<(RecExpr<SymbolLang>, A)>,\n",
    "    children : HashMap<Symbol, DiscTrie>\n",
    "}\n"
   ]
  },
  {
   "cell_type": "markdown",
   "metadata": {},
   "source": [
    "https://github.com/evcxr/evcxr/blob/main/evcxr_jupyter/README.md\n",
    "\n",
    "https://datacrayon.com/shop/product/data-analysis-with-rust-notebooks/\n",
    "\n",
    "Do solvers in here?\n",
    "Mini egglog?\n",
    "\n",
    "\n"
   ]
  },
  {
   "cell_type": "code",
   "execution_count": 5,
   "metadata": {},
   "outputs": [
    {
     "name": "stderr",
     "output_type": "stream",
     "text": [
      "[src/lib.rs:114:1] \"booo\" = \"booo\"\n",
      "[src/lib.rs:114:1] 1 = 1\n",
      "[src/lib.rs:114:1] x = 4\n"
     ]
    },
    {
     "data": {
      "text/plain": [
       "(\"booo\", 1, 4)"
      ]
     },
     "execution_count": 5,
     "metadata": {},
     "output_type": "execute_result"
    }
   ],
   "source": [
    "let x = 4;\n",
    "dbg!(\"booo\", 1, x)"
   ]
  },
  {
   "cell_type": "code",
   "execution_count": 9,
   "metadata": {},
   "outputs": [],
   "source": [
    "#[derive(Debug)]\n",
    "enum Term {\n",
    "    Var(String),\n",
    "    Const(String, Vec<Term>)\n",
    "}"
   ]
  },
  {
   "cell_type": "code",
   "execution_count": null,
   "metadata": {},
   "outputs": [],
   "source": [
    "#[derive(Debug)]\n",
    "enum STerm { // a cached term\n",
    "    Var(Symbol),\n",
    "    Const(Symbol, Vec<usize>)\n",
    "}\n",
    "#[derive(Debug)]\n",
    "struct RecTerm {\n",
    "    sterm: Vec<STerm>\n",
    "}"
   ]
  },
  {
   "cell_type": "code",
   "execution_count": 11,
   "metadata": {},
   "outputs": [
    {
     "data": {
      "text/plain": [
       "Var(\"hllwo\")"
      ]
     },
     "execution_count": 11,
     "metadata": {},
     "output_type": "execute_result"
    }
   ],
   "source": [
    "Term::Var(\"hllwo\".to_string())"
   ]
  },
  {
   "cell_type": "code",
   "execution_count": 12,
   "metadata": {},
   "outputs": [],
   "source": [
    ":dep evcxr_input\n",
    "let name = evcxr_input::get_string(\"Name?\");\n",
    "let password = evcxr_input::get_password(\"Password?\");"
   ]
  },
  {
   "cell_type": "code",
   "execution_count": 35,
   "metadata": {},
   "outputs": [
    {
     "ename": "Error",
     "evalue": "failed to write /tmp/rustcx5CsB3/lib.rmeta: No space left on device (os error 28)",
     "output_type": "error",
     "traceback": [
      "failed to write /tmp/rustcx5CsB3/lib.rmeta: No space left on device (os error 28)"
     ]
    },
    {
     "ename": "Error",
     "evalue": "failed to write to `/tmp/.tmpoEnzag/target/debug/deps/rmetaEj9I1H/lib.rmeta`: No space left on device (os error 28)",
     "output_type": "error",
     "traceback": [
      "failed to write to `/tmp/.tmpoEnzag/target/debug/deps/rmetaEj9I1H/lib.rmeta`: No space left on device (os error 28)"
     ]
    },
    {
     "ename": "Error",
     "evalue": "failed to write to `/tmp/.tmpoEnzag/target/x86_64-unknown-linux-gnu/debug/deps/rmetac8W3aV/lib.rmeta`: No space left on device (os error 28)",
     "output_type": "error",
     "traceback": [
      "failed to write to `/tmp/.tmpoEnzag/target/x86_64-unknown-linux-gnu/debug/deps/rmetac8W3aV/lib.rmeta`: No space left on device (os error 28)"
     ]
    }
   ],
   "source": [
    ":dep sleigh\n",
    "// https://github.com/black-binary/sleigh\n",
    "\n",
    "// https://github.com/rbran/sleigh-rs https://github.com/rbran/sleigh2rust\n",
    "// https://github.com/rbran/sleigh3rust\n",
    "// https://github.com/rbran/ice-kola\n",
    "\n",
    "// https://github.com/kajaaz/pcode-parser/tree/main\n"
   ]
  },
  {
   "cell_type": "code",
   "execution_count": null,
   "metadata": {},
   "outputs": [],
   "source": [
    "use sleigh::{Decompiler, X86Mode};\n",
    "\n",
    "let mut decompiler = Decompiler::builder().x86(X86Mode::Mode32).build();\n",
    "\n",
    "let code = b\"\\x01\\xd8\"; // ADD EAX, EBX\n",
    "\n",
    "// Lift bytecodes into SLEIGH IL\n",
    "let (len, pcodes) = decompiler.translate(code, 0x1000);\n",
    "println!(\"{} {:?}\", len, pcodes);\n",
    "\n",
    "// Disasm bytecodes\n",
    "let (len, insts) = decompiler.disassemble(code, 0x1000);\n",
    "println!(\"{} {:?}\", len, insts);"
   ]
  },
  {
   "cell_type": "code",
   "execution_count": 13,
   "metadata": {},
   "outputs": [
    {
     "data": {
      "text/plain": [
       "\"fred\""
      ]
     },
     "execution_count": 13,
     "metadata": {},
     "output_type": "execute_result"
    }
   ],
   "source": [
    "name"
   ]
  },
  {
   "cell_type": "code",
   "execution_count": 14,
   "metadata": {},
   "outputs": [],
   "source": [
    ":dep plotly = { version = \">=0.6.0\" }\n",
    ":dep itertools-num = \"0.1.3\""
   ]
  },
  {
   "cell_type": "code",
   "execution_count": 15,
   "metadata": {},
   "outputs": [],
   "source": [
    "extern crate plotly;\n",
    "extern crate rand_distr;\n",
    "extern crate itertools_num;\n",
    "extern crate itertools;"
   ]
  },
  {
   "cell_type": "code",
   "execution_count": null,
   "metadata": {},
   "outputs": [],
   "source": [
    "use itertools_num::linspace;\n",
    "use plotly::common::{\n",
    "    ColorScale, ColorScalePalette, DashType, Fill, Font, Line, LineShape, Marker, Mode, Title,\n",
    "};\n",
    "use plotly::layout::{Axis, BarMode, Layout, Legend, TicksDirection};\n",
    "use plotly::{Bar, NamedColor, Plot, Rgb, Rgba, Scatter};\n",
    "use rand_distr::{Distribution, Normal, Uniform};"
   ]
  },
  {
   "cell_type": "code",
   "execution_count": null,
   "metadata": {},
   "outputs": [],
   "source": [
    "let n: usize = 100;\n",
    "let t: Vec<f64> = linspace(0., 10., n).collect();\n",
    "let y: Vec<f64> = t.iter().map(|x| x.sin()).collect();\n",
    "\n",
    "let trace = Scatter::new(t, y).mode(Mode::Markers);\n",
    "let mut plot = Plot::new();\n",
    "plot.add_trace(trace);\n",
    "let layout = Layout::new().height(800);\n",
    "plot.set_layout(layout);\n",
    "plot.lab_display();"
   ]
  },
  {
   "cell_type": "code",
   "execution_count": 23,
   "metadata": {},
   "outputs": [],
   "source": [
    ":dep petgraph-evcxr\n",
    ":dep petgraph"
   ]
  },
  {
   "cell_type": "code",
   "execution_count": 24,
   "metadata": {},
   "outputs": [],
   "source": [
    "extern crate petgraph;\n",
    "extern crate petgraph_evcxr;"
   ]
  },
  {
   "cell_type": "code",
   "execution_count": 27,
   "metadata": {},
   "outputs": [
    {
     "data": {
      "image/png": "[encoded data removed]"
     },
     "execution_count": 27,
     "metadata": {},
     "output_type": "execute_result"
    }
   ],
   "source": [
    "use petgraph::graph::{Graph, NodeIndex};\n",
    "use petgraph_evcxr::draw_graph;\n",
    "let mut g : Graph<&str, &str> = Graph::new();\n",
    "let a = g.add_node(\"a\");\n",
    "let b = g.add_node(\"b\");\n",
    "g.add_edge(a, b, \"a to b\");\n",
    "draw_graph(&g);"
   ]
  },
  {
   "cell_type": "code",
   "execution_count": 28,
   "metadata": {},
   "outputs": [
    {
     "data": {
      "text/html": [
       "<table><tr><th></th><th>0</th><th>1</th><th>2</th><th>3</th></tr><tr><th>0</th><td>0.0</td><td>0.0</td><td>0.0</td><td>0.0</td></tr><tr><th>1</th><td>0.0</td><td>0.0</td><td>0.0</td><td>0.0</td></tr><tr><th>2</th><td>0.0</td><td>0.0</td><td>0.0</td><td>0.0</td></tr></table>"
      ],
      "text/plain": [
       "Ok(())"
      ]
     },
     "execution_count": 28,
     "metadata": {},
     "output_type": "execute_result"
    }
   ],
   "source": [
    ":dep showata = { version = \"0.3\", features=[\"show_ndarray\"]}\n",
    ":dep ndarray = \"0.14\"\n",
    "\n",
    "use showata::Showable;\n",
    "use ndarray::Array2;\n",
    "\n",
    "let data: Array2::<_> = Array2::<f64>::zeros((3, 4));\n",
    "data.show()"
   ]
  },
  {
   "cell_type": "code",
   "execution_count": 30,
   "metadata": {},
   "outputs": [
    {
     "data": {
      "text/html": [
       "<table>\n",
       "<tr><td>:allow_static_linking</td><td>Set whether to allow static linking of dependencies (0/1)</td></tr>\n",
       "<tr><td>:build_env</td><td>Set environment variables when building code (key=value)</td></tr>\n",
       "<tr><td>:cache</td><td>Set cache size in MiB, or 0 to disable.</td></tr>\n",
       "<tr><td>:clear</td><td>Clear all state, keeping compilation cache</td></tr>\n",
       "<tr><td>:clear_cache</td><td>Clear the cache used by the :cache command</td></tr>\n",
       "<tr><td>:codegen_backend</td><td>Set/print the codegen backend. Requires nightly</td></tr>\n",
       "<tr><td>:dep</td><td>Add dependency. e.g. :dep regex = \"1.0\"</td></tr>\n",
       "<tr><td>:doc</td><td>show the documentation of a variable, keyword, type or module</td></tr>\n",
       "<tr><td>:efmt</td><td>Set the formatter for errors returned by ?</td></tr>\n",
       "<tr><td>:env</td><td>Set an environment variable (key=value)</td></tr>\n",
       "<tr><td>:explain</td><td>Print explanation of last error</td></tr>\n",
       "<tr><td>:fmt</td><td>Set output formatter (default: {:?})</td></tr>\n",
       "<tr><td>:help</td><td>Print command help</td></tr>\n",
       "<tr><td>:internal_debug</td><td>Toggle various internal debugging code</td></tr>\n",
       "<tr><td>:last_compile_dir</td><td>Print the directory in which we last compiled</td></tr>\n",
       "<tr><td>:last_error_json</td><td>Print the last compilation error as JSON (for debugging)</td></tr>\n",
       "<tr><td>:linker</td><td>Set/print linker. Supported: system, lld, mold</td></tr>\n",
       "<tr><td>:load_config</td><td>Reloads startup configuration files. Accepts optional flag `--quiet` to suppress logging.</td></tr>\n",
       "<tr><td>:offline</td><td>Set offline mode when invoking cargo (0/1)</td></tr>\n",
       "<tr><td>:opt</td><td>Set optimization level (0/1/2)</td></tr>\n",
       "<tr><td>:preserve_vars_on_panic</td><td>Try to keep vars on panic (0/1)</td></tr>\n",
       "<tr><td>:quit</td><td>Quit evaluation and exit</td></tr>\n",
       "<tr><td>:restart</td><td>Restart child process</td></tr>\n",
       "<tr><td>:sccache</td><td>Set whether to use sccache (0/1).</td></tr>\n",
       "<tr><td>:show_deps</td><td>Show the current dependencies</td></tr>\n",
       "<tr><td>:t</td><td>Short version of :type</td></tr>\n",
       "<tr><td>:time_passes</td><td>Toggle printing of rustc pass times (requires nightly)</td></tr>\n",
       "<tr><td>:timing</td><td>Toggle printing of how long evaluations take</td></tr>\n",
       "<tr><td>:toolchain</td><td>Set which toolchain to use (e.g. nightly)</td></tr>\n",
       "<tr><td>:type</td><td>Show variable type</td></tr>\n",
       "<tr><td>:types</td><td>Toggle printing of types</td></tr>\n",
       "<tr><td>:vars</td><td>List bound variables and their types</td></tr>\n",
       "<tr><td>:version</td><td>Print Evcxr version</td></tr>\n",
       "</table>\n"
      ],
      "text/plain": [
       ":allow_static_linking Set whether to allow static linking of dependencies (0/1)\n",
       ":build_env        Set environment variables when building code (key=value)\n",
       ":cache            Set cache size in MiB, or 0 to disable.\n",
       ":clear            Clear all state, keeping compilation cache\n",
       ":clear_cache      Clear the cache used by the :cache command\n",
       ":codegen_backend  Set/print the codegen backend. Requires nightly\n",
       ":dep              Add dependency. e.g. :dep regex = \"1.0\"\n",
       ":doc              show the documentation of a variable, keyword, type or module\n",
       ":efmt             Set the formatter for errors returned by ?\n",
       ":env              Set an environment variable (key=value)\n",
       ":explain          Print explanation of last error\n",
       ":fmt              Set output formatter (default: {:?})\n",
       ":help             Print command help\n",
       ":internal_debug   Toggle various internal debugging code\n",
       ":last_compile_dir Print the directory in which we last compiled\n",
       ":last_error_json  Print the last compilation error as JSON (for debugging)\n",
       ":linker           Set/print linker. Supported: system, lld, mold\n",
       ":load_config      Reloads startup configuration files. Accepts optional flag `--quiet` to suppress logging.\n",
       ":offline          Set offline mode when invoking cargo (0/1)\n",
       ":opt              Set optimization level (0/1/2)\n",
       ":preserve_vars_on_panic Try to keep vars on panic (0/1)\n",
       ":quit             Quit evaluation and exit\n",
       ":restart          Restart child process\n",
       ":sccache          Set whether to use sccache (0/1).\n",
       ":show_deps        Show the current dependencies\n",
       ":t                Short version of :type\n",
       ":time_passes      Toggle printing of rustc pass times (requires nightly)\n",
       ":timing           Toggle printing of how long evaluations take\n",
       ":toolchain        Set which toolchain to use (e.g. nightly)\n",
       ":type             Show variable type\n",
       ":types            Toggle printing of types\n",
       ":vars             List bound variables and their types\n",
       ":version          Print Evcxr version\n"
      ]
     },
     "execution_count": 30,
     "metadata": {},
     "output_type": "execute_result"
    }
   ],
   "source": [
    ":help"
   ]
  },
  {
   "cell_type": "code",
   "execution_count": 31,
   "metadata": {},
   "outputs": [
    {
     "data": {
      "text/html": [
       "<table><tr><th>Variable</th><th>Type</th></tr><tr><td>a</td><td>NodeIndex</td><tr><tr><td>b</td><td>NodeIndex</td><tr><tr><td>x</td><td>i32</td><tr><tr><td>data</td><td>ndarray::prelude::ArrayBase&lt;ndarray::OwnedRepr&lt;f64&gt;, ndarray::prelude::Dim&lt;[usize; 2]&gt;&gt;</td><tr><tr><td>password</td><td>String</td><tr><tr><td>name</td><td>String</td><tr><tr><td>g</td><td>Graph&lt;&amp;str, &amp;str&gt;</td><tr></table>"
      ],
      "text/plain": [
       "a: NodeIndex\n",
       "b: NodeIndex\n",
       "x: i32\n",
       "data: ndarray::prelude::ArrayBase<ndarray::OwnedRepr<f64>, ndarray::prelude::Dim<[usize; 2]>>\n",
       "password: String\n",
       "name: String\n",
       "g: Graph<&str, &str>\n"
      ]
     },
     "execution_count": 31,
     "metadata": {},
     "output_type": "execute_result"
    }
   ],
   "source": [
    ":vars"
   ]
  },
  {
   "cell_type": "code",
   "execution_count": 32,
   "metadata": {},
   "outputs": [
    {
     "data": {
      "text/html": [
       "x: i32"
      ],
      "text/plain": [
       "x: i32"
      ]
     },
     "execution_count": 32,
     "metadata": {},
     "output_type": "execute_result"
    }
   ],
   "source": [
    ":type x"
   ]
  },
  {
   "cell_type": "code",
   "execution_count": null,
   "metadata": {},
   "outputs": [],
   "source": []
  },
  {
   "cell_type": "markdown",
   "metadata": {},
   "source": [
    "sccache needs to be installed cache, "
   ]
  },
  {
   "cell_type": "code",
   "execution_count": 34,
   "metadata": {},
   "outputs": [
    {
     "data": {
      "text/html": [
       "<pre><code class=\"language-rust\">i32\n",
       "</code></pre>\n",
       "<hr />\n",
       "<p>The 32-bit signed integer type.</p>\n"
      ],
      "text/plain": [
       "i32\n",
       "\n",
       "\n",
       "The 32-bit signed integer type."
      ]
     },
     "execution_count": 34,
     "metadata": {},
     "output_type": "execute_result"
    }
   ],
   "source": [
    ":doc i32"
   ]
  },
  {
   "cell_type": "code",
   "execution_count": null,
   "metadata": {},
   "outputs": [],
   "source": []
  }
 ],
 "metadata": {
  "kernelspec": {
   "display_name": "Rust",
   "language": "rust",
   "name": "rust"
  },
  "language_info": {
   "codemirror_mode": "rust",
   "file_extension": ".rs",
   "mimetype": "text/rust",
   "name": "rust",
   "pygment_lexer": "rust",
   "version": ""
  }
 },
 "nbformat": 4,
 "nbformat_minor": 2
}
