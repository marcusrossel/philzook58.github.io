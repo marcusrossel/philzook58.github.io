{
 "cells": [
  {
   "cell_type": "code",
   "execution_count": null,
   "metadata": {},
   "outputs": [],
   "source": []
  },
  {
   "cell_type": "markdown",
   "metadata": {},
   "source": [
    "clingo + z3 gives you enough.\n",
    "\n",
    "\n",
    "\n",
    "prolog janus + clingo. Maybe we could call a prolog in the middle of a rule. This gives us fast demand. It would be nice to have it memoized internally into clingo. I probably have notes about this buried somewhere.\n",
    "\n",
    "https://mastodon.gamedev.place/@lritter/112772937233171712 datalog continuations. Interesting persepctive on something akin to demand. \n",
    "He kind of has an _extra_ parameter in demand (continuation) rather than less of a parameter?\n",
    "\n",
    "Demand is kind of like manual stack management, which is somehow related toc cotniations because the C stack is a continuation.\n",
    "We can memoize and share chunks of stack between different calls because that's how datalog be. \n",
    "Or the stack isn't a stack. It's like a set of pieces of call parameters.\n",
    "\n",
    "We could capture \"the rest\" of a datalog rule post fun call. The demand breakup\n",
    "demandf() :- startrule.\n",
    "head :- endrule, f\n",
    "\n",
    "And indeed this is similar to currying, which I claimed was something like (head  :-  ) :-\n",
    "\n",
    "ASP functional\n",
    " \n",
    " https://arxiv.org/pdf/1507.05762 LP as a form of SSA. Horn Clauses as an Intermediate Representation for Program Analysis and Transformation\n",
    " Yes as a replacement for SSA. That's somewhat distinct but related to CHC. CHC makes me think of just analysis, but of course the odea what that it is a nice form of blocvky control flow.\n",
    "\n",
    " Very similar to Appell SSA is tail call.\n",
    "\n",
    " https://research-information.bris.ac.uk/ws/portalfiles/portal/198340013/cb_thesis_corrected.pdf inductive logic programming compiler tuning"
   ]
  }
 ],
 "metadata": {
  "language_info": {
   "name": "python"
  }
 },
 "nbformat": 4,
 "nbformat_minor": 2
}
