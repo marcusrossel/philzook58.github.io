{
 "cells": [
  {
   "cell_type": "code",
   "execution_count": null,
   "metadata": {},
   "outputs": [],
   "source": []
  },
  {
   "cell_type": "markdown",
   "metadata": {},
   "source": [
    "How do you sanity check a binary patch?\n",
    "\n",
    "Are any changes in executable sections?\n",
    "Look at the jumps / trampoline. Does it go to executable code?\n",
    "Do the return jump go to the place you patched out from? nearby?\n"
   ]
  }
 ],
 "metadata": {
  "language_info": {
   "name": "python"
  }
 },
 "nbformat": 4,
 "nbformat_minor": 2
}
