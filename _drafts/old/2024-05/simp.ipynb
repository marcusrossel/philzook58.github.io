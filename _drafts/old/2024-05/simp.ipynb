{
 "cells": [
  {
   "cell_type": "code",
   "execution_count": null,
   "metadata": {},
   "outputs": [],
   "source": []
  },
  {
   "cell_type": "markdown",
   "metadata": {},
   "source": [
    "simp based theorem proving is pretty good.\n",
    "Equational theorem proving + a simp eager matcher / rulesets\n",
    "\n",
    "https://inria.hal.science/hal-01183817/document equational loigc and rewriting.\n",
    "Indcution by consistency\n",
    "rewriting logic, get rid of symm basically.\n",
    "\n",
    "Do cowboy knuckel;dragger. kunckedragger by idiom.\n"
   ]
  },
  {
   "cell_type": "code",
   "execution_count": null,
   "metadata": {},
   "outputs": [],
   "source": [
    "from dataclasses import dataclass\n",
    "from typing import Any\n",
    "@dataclass(frozen=True)\n",
    "class Term():\n",
    "    pass\n",
    "@dataclass(frozen=True)\n",
    "class Fn(Term):\n",
    "    name: str\n",
    "    args: tuple[Any, ...] = ()\n",
    "    def __repr__(self):\n",
    "        if len(self.args) == 0:\n",
    "            return self.name\n",
    "        return f\"{self.name}({', '.join(map(repr, self.args))})\"\n",
    "    \n",
    "@dataclass(frozen=True)\n",
    "class Var(Term):\n",
    "    name: str\n",
    "    def __repr__(self):\n",
    "        return \"?\" + self.name\n",
    "    \n",
    "def occurs_check(x : Var, t : Term):\n",
    "    if isinstance(t, Var):\n",
    "        return x.name == t.name\n",
    "    elif isinstance(t, Fn):\n",
    "        return any(occurs_check(x, arg) for arg in t.args)\n",
    "    else:\n",
    "        raise ValueError(\"Invalid term\")\n",
    "\n",
    "# https://github.com/eprover/PyRes/blob/master/unification.py\n",
    "def mgu(t1:Term, t2:Term):\n",
    "    l1 = [t1]\n",
    "    l2 = [t2]\n",
    "    s = {}\n",
    "    while len(l1) != 0:\n",
    "        t1 = l1.pop()\n",
    "        t2 = l2.pop()\n",
    "        if isinstance(t1, Var):\n",
    "            if t1 == t2:\n",
    "                continue\n",
    "            if occurs_check(t1, t2):\n",
    "                return None\n",
    "            l1 = [subst(t, {t1.name:t2}) for t in l1]\n",
    "            l2 = [subst(t, {t1.name:t2}) for t in l2]\n",
    "            s[t1.name] = t2\n",
    "        elif isinstance(t2, Var):\n",
    "            if occurs_check(t2, t1):\n",
    "                return None\n",
    "            l1 = [subst(t, {t2.name:t1}) for t in l1]\n",
    "            l2 = [subst(t, {t2.name:t1}) for t in l2]\n",
    "            s[t2.name] = t1\n",
    "        elif isinstance(t1, Fn) and isinstance(t2, Fn):\n",
    "            if t1.name != t2.name or len(t1.args) != len(t2.args):\n",
    "                return None\n",
    "            l1.extend(t1.args)\n",
    "            l2.extend(t2.args)\n",
    "        else:\n",
    "            raise ValueError(\"Invalid term\")\n",
    "    return s"
   ]
  },
  {
   "cell_type": "code",
   "execution_count": null,
   "metadata": {},
   "outputs": [],
   "source": [
    "@dataclass(frozen=True)\n",
    "class Eq():\n",
    "    left: Term\n",
    "    right: Term\n",
    "    def __repr__(self):\n",
    "        return f\"{self.left} = {self.right}\"\n",
    "\n",
    "@dataclass(frozen=True)\n",
    "class Theorem():\n",
    "    index: int\n",
    "    proofdb: ProofDB\n",
    "    \n",
    "class ProofDB():\n",
    "    def __init__(self):\n",
    "        self.__proofs = []\n",
    "    def add_proof(self, proof):\n",
    "        self.proofs.append(proof)\n",
    "    def rw(self, eq1, eq2):\n",
    "        ## perform a rewrite at rhs of eq1 using eq2\n",
    "\n",
    "    def top_theorem(self):\n",
    "        return Theorem(len(self.proofs)-1, self)\n",
    "    def symm(self, eq1 : Theorem):\n",
    "\n",
    "        self.__proof.append(Eq(eq1.right, eq1.left))\n",
    "        self.__proof.append(Eq(eq1.right, eq1.left))\n",
    "        \n",
    "        return Theorem\n",
    "    def refl(self, term):\n",
    "        assert isinstance(term, Term)\n",
    "        self.__proof.append(self.Eq(term, term))\n",
    "        return len\n",
    "    def __repr__(self):\n",
    "        return \"\\n\".join(map(repr, self.proofs))\n",
    "\n",
    "# man, I'm sick of building out this junk"
   ]
  },
  {
   "cell_type": "code",
   "execution_count": 7,
   "metadata": {},
   "outputs": [
    {
     "data": {
      "text/plain": [
       "Theorem(formula=Eq(left=('f', ('a', 'd')), right=('f', ('c', 'd'))))"
      ]
     },
     "execution_count": 7,
     "metadata": {},
     "output_type": "execute_result"
    }
   ],
   "source": [
    "from collections import namedtuple\n",
    "\n",
    "Term = tuple[\"Term\", ...]\n",
    "Eq = namedtuple(\"Eq\", \"left right\")\n",
    "__Theorem = namedtuple(\"Theorem\", \"formula\")\n",
    "def refl(t : Term):\n",
    "    return __Theorem(Eq(t, t))\n",
    "def symm(th : __Theorem):\n",
    "    assert isinstance(th, __Theorem)\n",
    "    return __Theorem(Eq(th.formula.right, th.formula.left))\n",
    "def trans(th1 : __Theorem, th2 : __Theorem):\n",
    "    assert isinstance(th1, __Theorem)\n",
    "    assert isinstance(th2, __Theorem)\n",
    "    assert th1.formula.right == th2.formula.left\n",
    "    return __Theorem(Eq(th1.formula.left, th2.formula.right))\n",
    "def cong(sym, args: list[Term]):\n",
    "    assert all(isinstance(arg, __Theorem) for arg in args)\n",
    "    largs = tuple(arg.formula.left for arg in args)\n",
    "    rargs = tuple(arg.formula.right for arg in args)\n",
    "    return __Theorem(Eq( (sym, largs) , (sym, rargs)))\n",
    "# def subst(t : Theorem, s : dict[str, Term]):\n",
    "#def rw(eq1 : __Theorem, eq2 : __Theorem, path):\n",
    "#    assert isinstance(eq1, __Theorem)\n",
    "#    assert isinstance(eq2, __Theorem)\n",
    "#    return __Theorem(Eq(eq1.formula.left, eq2.formula.right))\n",
    "# we could require rewriting at a point.\n",
    "\n",
    "\n",
    "def axiom(left,right):\n",
    "    return __Theorem(Eq(left, right))\n",
    "\n",
    "ab = axiom(\"a\", \"b\")\n",
    "bc = axiom(\"b\", \"c\")\n",
    "ac = trans(ab,bc)\n",
    "\n",
    "cong(\"f\", [ac, refl(\"d\")])\n",
    "\n",
    "\n"
   ]
  },
  {
   "cell_type": "markdown",
   "metadata": {},
   "source": [
    "GAT\n",
    "Integrals\n",
    "https://arxiv.org/html/2404.04837v1"
   ]
  },
  {
   "cell_type": "code",
   "execution_count": null,
   "metadata": {},
   "outputs": [],
   "source": [
    "Type = namedtuple(\"Type\", \"ctx name args\")\n",
    "HasType = namedtuple(\"HasType\", \"ctx term type\")\n",
    "\n",
    "Ob = \"Ob\"\n",
    "obtype = axiom(Type((), Ob, ()))\n",
    "A = Var(\"A\")\n",
    "homtype = axiom(Type((HasType(A, Ob), \"Hom\", (A, A))))\n",
    "\n",
    "\n",
    "\n",
    "\n"
   ]
  },
  {
   "cell_type": "markdown",
   "metadata": {},
   "source": [
    "https://github.com/the-little-prover/j-bob/tree/master/scheme\n",
    "https://the-little-prover.github.io/\n",
    "The little prover\n",
    "But also it might be fun to convert little typer also.\n",
    "\n",
    "I'm iconoclastic to iconoclasts. That's why I'm a little cold on dependent types.\n",
    "\n",
    "I dunno about jbob.\n",
    "I guess trying to do a a very explicit proof format for rewriting is kind of cool."
   ]
  }
 ],
 "metadata": {
  "kernelspec": {
   "display_name": "Python 3",
   "language": "python",
   "name": "python3"
  },
  "language_info": {
   "codemirror_mode": {
    "name": "ipython",
    "version": 3
   },
   "file_extension": ".py",
   "mimetype": "text/x-python",
   "name": "python",
   "nbconvert_exporter": "python",
   "pygments_lexer": "ipython3",
   "version": "3.10.12"
  }
 },
 "nbformat": 4,
 "nbformat_minor": 2
}
