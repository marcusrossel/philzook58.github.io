{
 "cells": [
  {
   "cell_type": "code",
   "execution_count": null,
   "metadata": {},
   "outputs": [],
   "source": []
  },
  {
   "cell_type": "markdown",
   "metadata": {},
   "source": [
    "Subsumption is a terminology for a redundant fact\n",
    "\n",
    "Forward subsumption  is deleting new redundant inferences. We need to compare a new fact and see if it is made redundant by our large database of old facts\n",
    "\n",
    "Backward subsumption is the opposite. We want to see which pieces of our old big datbase are made redunant by our new fact\n",
    "\n",
    "If I knew x > 0 and then derive x > -1, this new fact is redundant.\n",
    "If I knew x > 0 and derive x > 1, then the old fact x > 0 is made redundant. The new fact is strictly stronger.\n",
    "\n",
    "Some common notions of subsumption\n",
    "- conditional facts with weaker assumtions. `A /\\ B => C` is strictly weaker than `A => C` \n",
    "- intervals\n",
    "- Unification patterns. `forall A, f(A)= g(A)` is stronger than `f(1) = g(1)`. Likewise `forall A B, g(A,B) = 7` is stronger than `forall A, g(A,A) = 7` \n",
    "- Linear equations\n",
    "- Linear Inequalities\n",
    "- Polynomial equations\n",
    "- Boolean formulas. \n",
    "\n",
    "Forward subsumption of linear inequalities is answerable via linear programming. Given the database `Ax >= b`, is `cx >= d` redundant? Well the answer to `min cx s.t. Ax >= b` will tell you. If the min was already greater than d, it is redundant, and the dual vector tells you how to derive this fact\n",
    "\n",
    "Forward Subsumption of boolean variables can be asked via a SAT query. We can have a big database and push and pop small queries on.\n",
    "\n",
    "It is less clear to me how to do backward subsumption.\n",
    "\n",
    "We can normalize\n",
    "\n",
    "\n",
    "Grobner bases and guassian elimination\n",
    "Duplicating inside z3.\n",
    "\n",
    "$Ax=b$ This represents some affine subspace\n",
    "Does this hyperplane\n",
    "$cx=d$\n",
    "lie inside the subspace?\n",
    "\n",
    "$l(Ax - b) = cx - d$\n",
    "\n",
    "The dual problem\n",
    "$ lb=d $\n",
    "$ lA=c $\n",
    "\n",
    "So we could solve this via a stack matrix $l(A|b) = (c|d)$\n",
    "Or we could do a block LU.\n",
    "\n",
    "What are my options for decompositions. LU, QR, eigen, svd\n",
    "\n",
    "\n",
    "https://github.com/vprover/vampire/pull/546 vampire pull request about using SAT for subsumption. Paper references\n",
    "- 2022: \"First-Order Subsumption via SAT Solving.\" by Jakob Rath, Armin Biere and Laura Kovács\n",
    "- 2023: \"SAT-Based Subsumption Resolution\" by Robin Coutelier, Jakob Rath, Michael Rawson and Laura Kovács\n",
    "- 2024: \"SAT Solving for Variants of First-Order Subsumption\" by Robin Coutelier, Jakob Rath, Michael Rawson, Armin Biere and Laura Kovács\n",
    "\n",
    "\n",
    "\n"
   ]
  },
  {
   "cell_type": "markdown",
   "metadata": {},
   "source": [
    "Polynomials are just another container.\n",
    "bottom up ematching still seems ok\n",
    "polynomials are ground from the term reqwriting perspective.\n",
    "grobner guaranteed to terminate?\n",
    "Also linear equalities\n",
    "\n",
    "We can also do SMT guarded patterns.\n",
    "\n",
    "\n",
    "\n",
    "linear inequalities?\n",
    "\n",
    "Knuth bendix and grobner\n",
    "https://leodemoura.github.io/files/synasc.pdf passmore de moura Superfluous S-polynomials in Strategy-Independent\n",
    "Gr¨obner Bases\n",
    "https://www.sciencedirect.com/science/article/pii/S0747717199902626  A Categorical Critical-pair Completion Algorithm\n",
    "https://dl.acm.org/doi/pdf/10.1145/74540.74548  Knuth-Bendix procedure and Buchberger algorithm: a synthesis\n",
    "https://link.springer.com/chapter/10.1007/978-3-0348-8800-4_9 Normalized Rewriting: A Unified View of Knuth-Bendix Completion and Gröbner Bases Computation\n",
    "https://arxiv.org/abs/math/9812097  Applications of Rewriting Systems and Groebner Bases to Computing Kan Extensions and Identities Among Relations\n",
    "\n",
    "\n",
    "https://jingnanshi.com/blog/groebner_basis.html\n",
    "https://colab.research.google.com/github/bernalde/QuIP/blob/master/notebooks/Notebook%202%20-%20Groebner%20basis.ipynb hmm. quantum integer programming?\n",
    "https://github.com/sumiya11/Groebner.jl?tab=readme-ov-file\n",
    "msolve\n",
    "https://www.philipzucker.com/computing-syzygy-modules-in-sympy/\n",
    "\n",
    "\n",
    "Also polynomial factoring. Normalization of the poly could involve slapping the factors in the egraph.\n"
   ]
  },
  {
   "cell_type": "code",
   "execution_count": 1,
   "metadata": {},
   "outputs": [],
   "source": [
    "import sympy as sp"
   ]
  },
  {
   "cell_type": "code",
   "execution_count": null,
   "metadata": {},
   "outputs": [],
   "source": [
    "class UnionFind():\n",
    "    def __init__(self):\n",
    "        self.uf = []\n",
    "    def makeset(self):\n",
    "        uf = self.uf\n",
    "        uf.append(len(uf))\n",
    "        return len(uf) - 1\n",
    "    def find(self,x):\n",
    "        while self.uf[x] != x:\n",
    "            x = self.uf[x]\n",
    "        return x\n",
    "    def union(self,x,y):\n",
    "        x = self.find(x)\n",
    "        y = self.find(y)\n",
    "        self.uf[x] = y\n",
    "        return y\n",
    "    def __len__(self):\n",
    "        return len(self.uf)\n",
    "    def __repr__(self):\n",
    "        return \"UnionFind({})\".format(self.uf)\n",
    "\n",
    "EClass = int\n",
    "\n",
    "from dataclasses import dataclass\n",
    "from typing import Any, Dict\n",
    "\n",
    "@dataclass(frozen=True)\n",
    "class Lit():\n",
    "    data: Any\n",
    "    def rebuild(self):\n",
    "        return self\n",
    "\n",
    "@dataclass(frozen=True)\n",
    "class ENode():\n",
    "    head: Any\n",
    "    args : tuple[EClass]\n",
    "    def rebuild(self):\n",
    "        return ENode(self.head, tuple(map(egraph.uf.find, self.args)))"
   ]
  },
  {
   "cell_type": "code",
   "execution_count": 24,
   "metadata": {},
   "outputs": [
    {
     "data": {
      "text/html": [
       "&not;(x = y) &or; z = Store(a, y, 0)[x]"
      ],
      "text/plain": [
       "Or(Not(x == y), z == Store(a, y, 0)[x])"
      ]
     },
     "execution_count": 24,
     "metadata": {},
     "output_type": "execute_result"
    }
   ],
   "source": [
    "# contextual simplification\n",
    "from z3 import *\n",
    "#ArraySort(IntSort(), IntSort())\n",
    "x, y, z = Ints(\"x y z\")\n",
    "a = Array(\"a\", IntSort(), IntSort())\n",
    "z3.simplify(y / (y * x))\n",
    "z3.simplify(Select(Store(a, y, IntVal(0)), x))\n",
    "#z3.simplify(Implies(x == y, ))\n",
    "e = Select(Store(a, y, IntVal(0)), x)\n",
    "z3.simplify(e)\n",
    "z3.simplify(Implies(x == y, z == e)) # nope Ok, well it was an idea\n",
    "\n",
    "# z3 mirroring. Do quantifier instan outside z3. Is this of any relation to avatar?\n",
    "\n"
   ]
  }
 ],
 "metadata": {
  "kernelspec": {
   "display_name": "Python 3",
   "language": "python",
   "name": "python3"
  },
  "language_info": {
   "codemirror_mode": {
    "name": "ipython",
    "version": 3
   },
   "file_extension": ".py",
   "mimetype": "text/x-python",
   "name": "python",
   "nbconvert_exporter": "python",
   "pygments_lexer": "ipython3",
   "version": "3.10.12"
  }
 },
 "nbformat": 4,
 "nbformat_minor": 2
}
