{
 "cells": [
  {
   "cell_type": "code",
   "execution_count": null,
   "metadata": {},
   "outputs": [],
   "source": []
  },
  {
   "cell_type": "markdown",
   "metadata": {},
   "source": [
    "Loop restructuring\n",
    "WASM algorithm - relooper https://news.ycombinator.com/item?id=22399368\n",
    "Norman Ramsey Beyond Relooper https://dl.acm.org/doi/abs/10.1145/3547621\n",
    "https://lobste.rs/s/n5nisg/beyond_relooper_recursive_translation\n",
    "\n",
    "https://toot.cat/@jamey/110399070056263970 \n",
    "https://dl.acm.org/doi/10.1145/2693261 Perfect Reconstructability of Control Flow from Demand Dependence Graphs\n",
    "\n",
    "This is part of a general issue of turning graph like things into structured tree like things.\n",
    "Algebraic graphs\n",
    "graph decompositions like tree decompitions.\n",
    "Combinators. Parrallel and Compose.\n",
    "https://pacechallenge.org/past/ tree width\n",
    "\n",
    "Domain decomposition\n",
    "\n",
    "Domination \n",
    "https://twitter.com/kripken/status/1371925252314341377?lang=en  \"there are 3 general methods used atm to re-structure control flow from a general CFG: the Relooper, LLVM's CFGStackify, and Cheerp's Stackifier.\"\n"
   ]
  },
  {
   "cell_type": "code",
   "execution_count": 10,
   "metadata": {},
   "outputs": [
    {
     "name": "stdout",
     "output_type": "stream",
     "text": [
      "276\n"
     ]
    }
   ],
   "source": [
    "def while_(n):\n",
    "    return (\"while\", n)\n",
    "def if_(n):\n",
    "    return (\"if\", n)\n",
    "def seq(*args):\n",
    "    return (\"seq\", args)\n",
    "\n",
    "\n",
    "l = {(\"skip\",)}\n",
    "\n",
    "for i in range(2):\n",
    "    l |= {seq(t1, t2) for t1 in l for t2 in l}\n",
    "    l |= {if_(t) for t in l}\n",
    "    l |= {while_(t) for t in l}\n",
    "\n",
    "print(len(l))\n"
   ]
  },
  {
   "cell_type": "code",
   "execution_count": null,
   "metadata": {},
   "outputs": [],
   "source": [
    "import networkx as nx"
   ]
  }
 ],
 "metadata": {
  "kernelspec": {
   "display_name": "Python 3",
   "language": "python",
   "name": "python3"
  },
  "language_info": {
   "codemirror_mode": {
    "name": "ipython",
    "version": 3
   },
   "file_extension": ".py",
   "mimetype": "text/x-python",
   "name": "python",
   "nbconvert_exporter": "python",
   "pygments_lexer": "ipython3",
   "version": "3.10.12"
  }
 },
 "nbformat": 4,
 "nbformat_minor": 2
}
