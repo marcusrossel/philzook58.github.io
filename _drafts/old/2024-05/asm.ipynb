{
 "cells": [
  {
   "cell_type": "code",
   "execution_count": null,
   "metadata": {},
   "outputs": [],
   "source": []
  },
  {
   "cell_type": "markdown",
   "metadata": {},
   "source": [
    "Knuth programs.\n",
    "Programs fromm y new book\n",
    "toledo\n",
    "mario\n",
    "\n",
    "Cody has a fun writing a lambda claculus in x86 thing going on\n",
    "\n",
    "ocaml -> C -> asm"
   ]
  },
  {
   "cell_type": "code",
   "execution_count": null,
   "metadata": {},
   "outputs": [],
   "source": []
  }
 ],
 "metadata": {
  "language_info": {
   "name": "python"
  }
 },
 "nbformat": 4,
 "nbformat_minor": 2
}
