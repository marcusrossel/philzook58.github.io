{
 "cells": [
  {
   "cell_type": "code",
   "execution_count": null,
   "metadata": {},
   "outputs": [],
   "source": []
  },
  {
   "cell_type": "markdown",
   "metadata": {},
   "source": [
    "Lie groups\n",
    "\n",
    "The matrix exponential is a cool idea\n",
    "\n",
    "What else is interesting here?\n",
    "Rotation is interesting. Affine, linear transformations. Conformal maps are interesting\n",
    "The whole definition is that lie groups are differentiable. That does probably add a lot of rigidity\n",
    "Of course rotations are differentiable as functions of their coordinates. Its a bunch of cosine and sine entries\n",
    "Time evolution in quantum mechanics is a rotation. That’s schrodinger’s equation.\n",
    "I feel like you want some math thing\n",
    "Lots of physical systems have rotational invariance. That factors some part of their dynamics to be very constrained\n",
    "And in quantum mechanics the properties of representatiosn of rotations force certain things to be possible /not\n",
    "https://en.m.wikipedia.org/wiki/Wigner–Eckart_theorem\n",
    "\n",
    "Its a variation of the method of separation of variables to solve a spheically symmetric pde\n",
    "Its a central dogma of physics that symmetry are connected to invariants (noether’s theorem, which is more important as a vibe than anything i think)\n",
    "So mathematics of rotation leads to properties of angular momentum. Particles have spins, light carries some spin, this restricts what transitions atoms can take\n",
    "At a more abstract level, gauge invariance is a basically non intuitive symmetry that is required of the description of fields for some reason\n",
    "Electromagnetism is best described by a vector potential who’s derivatives matter, but who’s value does not\n",
    "Generalize this a couple times and you end up at the standard model\n",
    "And the eightfold way\n",
    "But the standard model is just a pile of mud\n",
    "And reveals very little about our lives\n",
    "Atoms reveal more\n",
    "At least like they’re involved in colors and chemistry and stuff\n",
    "The vector potential is a highly mysterious bit unavoidable entity. I don’t know why\n",
    "There is some evidence that it is physical in a sense\n",
    "https://en.m.wikipedia.org/wiki/Aharonov–Bohm_effect\n",
    "\n",
    "https://en.m.wikipedia.org/wiki/Gimbal_lock\n",
    "\n",
    "Oh yeah this was some wacky shit https://en.m.wikipedia.org/wiki/Spin–statistics_theorem\n",
    "\n",
    "scattering\n",
    "\n"
   ]
  }
 ],
 "metadata": {
  "language_info": {
   "name": "python"
  }
 },
 "nbformat": 4,
 "nbformat_minor": 2
}
