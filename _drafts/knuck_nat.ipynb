{
 "cells": [
  {
   "cell_type": "code",
   "execution_count": 13,
   "metadata": {},
   "outputs": [
    {
     "data": {
      "text/plain": [
       "?|- add(n!384, zero) == n!384"
      ]
     },
     "execution_count": 13,
     "metadata": {},
     "output_type": "execute_result"
    }
   ],
   "source": [
    "from kdrag.all import *\n",
    "\"\"\"\n",
    "import kdrag as kd\n",
    "import kdrag.theories.nat as nat\n",
    "import kdrag.smt as smt\n",
    "from kdrag.theories.nat import Nat, add\n",
    "\"\"\"\n",
    "Nat = nat.Nat\n",
    "add = nat.add\n",
    "n,m = smt.Consts(\"n m\", Nat)\n",
    "\n",
    "Lemma2 = kd.tactics.Lemma2\n",
    "\n",
    "\n",
    "l = Lemma2(smt.ForAll([n], n + Nat.zero == n))\n",
    "n1 = l.intros()\n",
    "l.apply(nat.induct)\n",
    "\n",
    "\n",
    "\n"
   ]
  },
  {
   "cell_type": "markdown",
   "metadata": {},
   "source": [
    "Can vampire just do the induction?"
   ]
  },
  {
   "cell_type": "code",
   "execution_count": 10,
   "metadata": {},
   "outputs": [],
   "source": [
    "#solvers.VampireSolver()\n",
    "from kdrag.all import *\n",
    "add_n_0 = kd.kernel.lemma(smt.ForAll([n], n + Nat.zero == n), \n",
    "                          by=[nat.add.defn], \n",
    "                          solver=solvers.VampireSolver)\n",
    "add_comm = kd.kernel.lemma(smt.ForAll([n,m], n + m == m + n), \n",
    "                           by=[nat.add.defn, add_n_0], \n",
    "                           solver=solvers.VampireSolver)"
   ]
  },
  {
   "cell_type": "code",
   "execution_count": 12,
   "metadata": {},
   "outputs": [],
   "source": [
    "add_comm = kd.kernel.lemma(smt.ForAll([n,m], n + m == m + n), \n",
    "                           by=[nat.add.defn], \n",
    "                           solver=solvers.VampireSolver)"
   ]
  },
  {
   "cell_type": "code",
   "execution_count": 11,
   "metadata": {},
   "outputs": [
    {
     "name": "stdout",
     "output_type": "stream",
     "text": [
      "(set-logic ALL)\n",
      "(declare-datatypes ((Nat 0)) (((zero) (succ (pred Nat)))))\n",
      "(assert\n",
      " (exists ((x Nat) )(= x x))\n",
      ")\n",
      "\n",
      ";;declarations\n",
      "(declare-fun add (Nat Nat) Nat)\n",
      ";;axioms\n",
      "(assert (forall ((n Nat) (m Nat))\n",
      "  (let ((a!1 (ite ((_ is zero) n) m (succ (add (pred n) m)))))\n",
      "    (= (add n m) a!1))))\n",
      "(assert (forall ((n Nat)) (= (add n zero) n)))\n",
      "(assert (not (forall ((n Nat) (m Nat)) (= (add n m) (add m n)))))\n",
      "(check-sat)\n"
     ]
    }
   ],
   "source": [
    "! cat /tmp/vampire.smt2"
   ]
  },
  {
   "cell_type": "code",
   "execution_count": 9,
   "metadata": {},
   "outputs": [
    {
     "data": {
      "text/html": [
       "&#8870;ForAll([n, m], add(n, m) == add(m, n))"
      ],
      "text/plain": [
       "|- ForAll([n, m], add(n, m) == add(m, n))"
      ]
     },
     "execution_count": 9,
     "metadata": {},
     "output_type": "execute_result"
    }
   ],
   "source": []
  },
  {
   "cell_type": "code",
   "execution_count": 4,
   "metadata": {},
   "outputs": [
    {
     "ename": "LemmaError",
     "evalue": "('lemma', ForAll(n, add(n, zero) == n), unknown)",
     "output_type": "error",
     "traceback": [
      "\u001b[0;31m---------------------------------------------------------------------------\u001b[0m",
      "\u001b[0;31mLemmaError\u001b[0m                                Traceback (most recent call last)",
      "Cell \u001b[0;32mIn[4], line 1\u001b[0m\n\u001b[0;32m----> 1\u001b[0m \u001b[43mkd\u001b[49m\u001b[38;5;241;43m.\u001b[39;49m\u001b[43mkernel\u001b[49m\u001b[38;5;241;43m.\u001b[39;49m\u001b[43mlemma\u001b[49m\u001b[43m(\u001b[49m\u001b[43msmt\u001b[49m\u001b[38;5;241;43m.\u001b[39;49m\u001b[43mForAll\u001b[49m\u001b[43m(\u001b[49m\u001b[43m[\u001b[49m\u001b[43mn\u001b[49m\u001b[43m]\u001b[49m\u001b[43m,\u001b[49m\u001b[43m \u001b[49m\u001b[43mn\u001b[49m\u001b[43m \u001b[49m\u001b[38;5;241;43m+\u001b[39;49m\u001b[43m \u001b[49m\u001b[43mNat\u001b[49m\u001b[38;5;241;43m.\u001b[39;49m\u001b[43mzero\u001b[49m\u001b[43m \u001b[49m\u001b[38;5;241;43m==\u001b[39;49m\u001b[43m \u001b[49m\u001b[43mn\u001b[49m\u001b[43m)\u001b[49m\u001b[43m,\u001b[49m\u001b[43m \u001b[49m\u001b[43mby\u001b[49m\u001b[38;5;241;43m=\u001b[39;49m\u001b[43m[\u001b[49m\u001b[43mnat\u001b[49m\u001b[38;5;241;43m.\u001b[39;49m\u001b[43madd\u001b[49m\u001b[38;5;241;43m.\u001b[39;49m\u001b[43mdefn\u001b[49m\u001b[43m]\u001b[49m\u001b[43m)\u001b[49m\n",
      "File \u001b[0;32m~/Documents/python/knuckledragger/kdrag/kernel.py:82\u001b[0m, in \u001b[0;36mlemma\u001b[0;34m(thm, by, admit, timeout, dump, solver)\u001b[0m\n\u001b[1;32m     80\u001b[0m     \u001b[38;5;28;01mif\u001b[39;00m res \u001b[38;5;241m==\u001b[39m smt\u001b[38;5;241m.\u001b[39msat:\n\u001b[1;32m     81\u001b[0m         \u001b[38;5;28;01mraise\u001b[39;00m LemmaError(thm, \u001b[38;5;124m\"\u001b[39m\u001b[38;5;124mCountermodel\u001b[39m\u001b[38;5;124m\"\u001b[39m, s\u001b[38;5;241m.\u001b[39mmodel())\n\u001b[0;32m---> 82\u001b[0m     \u001b[38;5;28;01mraise\u001b[39;00m LemmaError(\u001b[38;5;124m\"\u001b[39m\u001b[38;5;124mlemma\u001b[39m\u001b[38;5;124m\"\u001b[39m, thm, res)\n\u001b[1;32m     83\u001b[0m \u001b[38;5;28;01melse\u001b[39;00m:\n\u001b[1;32m     84\u001b[0m     \u001b[38;5;28;01mreturn\u001b[39;00m __Proof(thm, by, \u001b[38;5;28;01mFalse\u001b[39;00m)\n",
      "\u001b[0;31mLemmaError\u001b[0m: ('lemma', ForAll(n, add(n, zero) == n), unknown)"
     ]
    }
   ],
   "source": [
    "kd.kernel.lemma(smt.ForAll([n], n + Nat.zero == n), by=[nat.add.defn])"
   ]
  }
 ],
 "metadata": {
  "kernelspec": {
   "display_name": "Python 3",
   "language": "python",
   "name": "python3"
  },
  "language_info": {
   "codemirror_mode": {
    "name": "ipython",
    "version": 3
   },
   "file_extension": ".py",
   "mimetype": "text/x-python",
   "name": "python",
   "nbconvert_exporter": "python",
   "pygments_lexer": "ipython3",
   "version": "3.10.12"
  }
 },
 "nbformat": 4,
 "nbformat_minor": 2
}
