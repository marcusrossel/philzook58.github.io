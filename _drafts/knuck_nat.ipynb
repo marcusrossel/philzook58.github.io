{
 "cells": [
  {
   "cell_type": "code",
   "execution_count": 2,
   "metadata": {},
   "outputs": [
    {
     "name": "stdout",
     "output_type": "stream",
     "text": [
      "|- Implies(add(n!278, zero) == n!278,\n",
      "        ForAll(n, add(n, zero) == n))\n"
     ]
    },
    {
     "data": {
      "text/plain": [
       "?|- add(n!278, zero) == n!278"
      ]
     },
     "execution_count": 2,
     "metadata": {},
     "output_type": "execute_result"
    }
   ],
   "source": [
    "from kdrag.all import *\n",
    "\"\"\"\n",
    "import kdrag as kd\n",
    "import kdrag.theories.nat as nat\n",
    "import kdrag.smt as smt\n",
    "from kdrag.theories.nat import Nat, add\n",
    "\"\"\"\n",
    "Nat = nat.Nat\n",
    "add = nat.add\n",
    "n,m = smt.Consts(\"n m\", Nat)\n",
    "\n",
    "Lemma2 = kd.tactics.Lemma2\n",
    "\n",
    "\n",
    "l = Lemma2(smt.ForAll([n], n + Nat.zero == n))\n",
    "n1 = l.intros()\n",
    "l\n",
    "\n",
    "\n",
    "\n"
   ]
  },
  {
   "cell_type": "code",
   "execution_count": null,
   "metadata": {},
   "outputs": [],
   "source": [
    "solvers.VampireSolver"
   ]
  },
  {
   "cell_type": "code",
   "execution_count": null,
   "metadata": {},
   "outputs": [],
   "source": []
  }
 ],
 "metadata": {
  "kernelspec": {
   "display_name": "Python 3",
   "language": "python",
   "name": "python3"
  },
  "language_info": {
   "codemirror_mode": {
    "name": "ipython",
    "version": 3
   },
   "file_extension": ".py",
   "mimetype": "text/x-python",
   "name": "python",
   "nbconvert_exporter": "python",
   "pygments_lexer": "ipython3",
   "version": "3.10.12"
  }
 },
 "nbformat": 4,
 "nbformat_minor": 2
}
