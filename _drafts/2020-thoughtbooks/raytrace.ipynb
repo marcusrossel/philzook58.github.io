{
 "cells": [
  {
   "cell_type": "code",
   "execution_count": 4,
   "metadata": {},
   "outputs": [
    {
     "data": {
      "text/plain": [
       "20"
      ]
     },
     "execution_count": 4,
     "metadata": {},
     "output_type": "execute_result"
    }
   ],
   "source": [
    "using LinearAlgebra\n",
    "dot([1 2 3] , [2 3 4])"
   ]
  },
  {
   "cell_type": "markdown",
   "metadata": {},
   "source": [
    "There are a couple different approaches to how one might deal with optics:\n",
    "\n",
    "- Closed simple forms\n",
    "- algebraic surfaces\n",
    "- signed distance function/ level set surfaces\n"
   ]
  },
  {
   "cell_type": "code",
   "execution_count": null,
   "metadata": {},
   "outputs": [],
   "source": [
    "function plane(p1,p2,p3)\n",
    "    v21 = p2 - p1\n",
    "    v31 = p3 - p1\n",
    "    n = cross(v21,v31)\n",
    "    return n, p1 # plane is dot(n, x - p1) == 0\n",
    "end\n",
    "\n",
    "\n",
    "struct Ray # ray = p + lam * r\n",
    "    p\n",
    "    r\n",
    "end    \n",
    "\n",
    "struct Plane # is dot(n, x - p1) == 0\n",
    "    n\n",
    "    p\n",
    "end\n",
    "\n",
    "struct Sphere\n",
    "    c\n",
    "    r\n",
    "end\n",
    "\n",
    "struct Ellipse\n",
    "\n",
    "end\n",
    "\n",
    "function ray_plane(r, plane )\n",
    "    # n . (p + lam * r - p2)\n",
    "    # lam = n . (p - p2) / (n . r)\n",
    "    return dot(plane.n , r.p - plane.p) / dot(plane.n, ray.r )\n",
    "end\n",
    "\n"
   ]
  },
  {
   "cell_type": "code",
   "execution_count": 11,
   "metadata": {},
   "outputs": [],
   "source": [
    "using Images\n",
    "\n",
    "\n"
   ]
  },
  {
   "cell_type": "code",
   "execution_count": 12,
   "metadata": {},
   "outputs": [
    {
     "name": "stderr",
     "output_type": "stream",
     "text": [
      "┌ Info: Precompiling ImageIO [82e4d734-157c-48bb-816b-45c225c6df19]\n",
      "└ @ Base loading.jl:1278\n",
      "┌ Info: Precompiling PNGFiles [f57f5aa1-a3ce-4bc8-8ab9-96f992907883]\n",
      "└ @ Base loading.jl:1278\n",
      "┌ Info: Precompiling ImageMagick [6218d12a-5da1-5696-b52f-db25d2ecc6d1]\n",
      "└ @ Base loading.jl:1278\n"
     ]
    },
    {
     "data": {
      "image/png": "[encoded data removed]",
      "text/plain": [
       "4×3 Array{Gray{Float64},2} with eltype Gray{Float64}:\n",
       " Gray{Float64}(0.125511)  Gray{Float64}(0.141166)   Gray{Float64}(0.0590102)\n",
       " Gray{Float64}(0.394988)  Gray{Float64}(0.792876)   Gray{Float64}(0.194107)\n",
       " Gray{Float64}(0.278667)  Gray{Float64}(0.0945739)  Gray{Float64}(0.64671)\n",
       " Gray{Float64}(0.222736)  Gray{Float64}(0.439825)   Gray{Float64}(0.524237)"
      ]
     },
     "execution_count": 12,
     "metadata": {},
     "output_type": "execute_result"
    }
   ],
   "source": [
    "rand(Gray,4,3)"
   ]
  },
  {
   "cell_type": "code",
   "execution_count": 25,
   "metadata": {},
   "outputs": [
    {
     "data": {
      "image/png": "[encoded data removed]",
      "text/plain": [
       "21×21 Array{Gray{N0f8},2} with eltype Gray{Normed{UInt8,8}}:\n",
       " Gray{N0f8}(0.0)  Gray{N0f8}(0.0)  …  Gray{N0f8}(0.0)  Gray{N0f8}(0.0)\n",
       " Gray{N0f8}(0.0)  Gray{N0f8}(0.0)     Gray{N0f8}(0.0)  Gray{N0f8}(0.0)\n",
       " Gray{N0f8}(0.0)  Gray{N0f8}(0.0)     Gray{N0f8}(0.0)  Gray{N0f8}(0.0)\n",
       " Gray{N0f8}(0.0)  Gray{N0f8}(0.0)     Gray{N0f8}(0.0)  Gray{N0f8}(0.0)\n",
       " Gray{N0f8}(0.0)  Gray{N0f8}(0.0)     Gray{N0f8}(0.0)  Gray{N0f8}(0.0)\n",
       " Gray{N0f8}(0.0)  Gray{N0f8}(0.0)  …  Gray{N0f8}(0.0)  Gray{N0f8}(0.0)\n",
       " Gray{N0f8}(0.0)  Gray{N0f8}(0.0)     Gray{N0f8}(0.0)  Gray{N0f8}(0.0)\n",
       " Gray{N0f8}(0.0)  Gray{N0f8}(0.0)     Gray{N0f8}(0.0)  Gray{N0f8}(0.0)\n",
       " Gray{N0f8}(0.0)  Gray{N0f8}(0.0)     Gray{N0f8}(0.0)  Gray{N0f8}(0.0)\n",
       " Gray{N0f8}(0.0)  Gray{N0f8}(0.0)     Gray{N0f8}(0.0)  Gray{N0f8}(0.0)\n",
       " Gray{N0f8}(0.0)  Gray{N0f8}(0.0)  …  Gray{N0f8}(0.0)  Gray{N0f8}(0.0)\n",
       " Gray{N0f8}(0.0)  Gray{N0f8}(0.0)     Gray{N0f8}(0.0)  Gray{N0f8}(0.0)\n",
       " Gray{N0f8}(0.0)  Gray{N0f8}(0.0)     Gray{N0f8}(0.0)  Gray{N0f8}(0.0)\n",
       " Gray{N0f8}(0.0)  Gray{N0f8}(0.0)     Gray{N0f8}(0.0)  Gray{N0f8}(0.0)\n",
       " Gray{N0f8}(0.0)  Gray{N0f8}(0.0)     Gray{N0f8}(0.0)  Gray{N0f8}(0.0)\n",
       " Gray{N0f8}(0.0)  Gray{N0f8}(0.0)  …  Gray{N0f8}(0.0)  Gray{N0f8}(0.0)\n",
       " Gray{N0f8}(0.0)  Gray{N0f8}(0.0)     Gray{N0f8}(0.0)  Gray{N0f8}(0.0)\n",
       " Gray{N0f8}(0.0)  Gray{N0f8}(0.0)     Gray{N0f8}(0.0)  Gray{N0f8}(0.0)\n",
       " Gray{N0f8}(0.0)  Gray{N0f8}(0.0)     Gray{N0f8}(0.0)  Gray{N0f8}(0.0)\n",
       " Gray{N0f8}(0.0)  Gray{N0f8}(0.0)     Gray{N0f8}(0.0)  Gray{N0f8}(0.0)\n",
       " Gray{N0f8}(0.0)  Gray{N0f8}(0.0)  …  Gray{N0f8}(0.0)  Gray{N0f8}(0.0)"
      ]
     },
     "execution_count": 25,
     "metadata": {},
     "output_type": "execute_result"
    }
   ],
   "source": [
    "\n",
    "function sphere(c,r,ray)\n",
    "    # figure out if ray hits sphere\n",
    "    return 1\n",
    "end\n",
    "\n",
    "\n",
    "function raytrace(x,y)\n",
    "    z = 1\n",
    "    homog_ray = [x y z 1]\n",
    "    if x^2 + y^2 <= 0.5 #I'm actually using a 2d signed distance function here.\n",
    "        return 1\n",
    "    else\n",
    "        return 0 \n",
    "    end\n",
    "end\n",
    "\n",
    "box = -1:0.1:1\n",
    "\n",
    "\n",
    "\n",
    "Gray.([ raytrace(x,y) for x=box, y=box ])\n",
    "# i actually rather liked the ascii art version."
   ]
  },
  {
   "cell_type": "code",
   "execution_count": null,
   "metadata": {},
   "outputs": [],
   "source": []
  },
  {
   "cell_type": "markdown",
   "metadata": {},
   "source": [
    "Homogenous coordinates\n",
    "\n",
    "Plucker coordinates for rays. https://en.wikipedia.org/wiki/Pl%C3%BCcker_coordinates\n",
    "\n",
    "a line is an affine combination of points.\n",
    "\n",
    "p = lam1 x1 + lam2 x2\n",
    "\n",
    "\n",
    "Projection via ray is very natural here. Just drop the last component.\n",
    "\n",
    "In homgenous coordianets it is a linear combination of points.\n",
    "Dually, we can take the plucker coordinates which are the antisymmetric product of the points.\n",
    "\n",
    "\n",
    "Projection to the 2d projective planes is simply the 3x4 matrix [I 0], dropping the scale column\n",
    "\n",
    "\n",
    "\n",
    "A ray in 3d is either the join of two points or the meet of two planes. This does feed into the range nullspace picture.\n",
    "We could perhaps use linear sets\n",
    "\n",
    "\n",
    "\n",
    "\n",
    "\n",
    "The question is find l such that [x y z l] is a solution\n",
    "\n",
    "a sphere is xAx = 0   \n",
    "\n",
    "\n",
    "\n",
    "\n",
    "\n",
    "\n",
    "\n",
    "\n",
    "\n"
   ]
  },
  {
   "cell_type": "code",
   "execution_count": 3,
   "metadata": {},
   "outputs": [
    {
     "data": {
      "text/plain": [
       "2-element Array{Complex{Float64},1}:\n",
       " 0.0 - 1.0im\n",
       " 0.0 + 1.0im"
      ]
     },
     "execution_count": 3,
     "metadata": {},
     "output_type": "execute_result"
    }
   ],
   "source": [
    "using Polynomials\n",
    "\n",
    "x = Polynomial([0,1], :λ)\n",
    "f = x^2 + 1\n",
    "f(1)\n",
    "roots(f)\n"
   ]
  },
  {
   "cell_type": "code",
   "execution_count": 28,
   "metadata": {},
   "outputs": [
    {
     "data": {
      "image/png": "[encoded data removed]",
      "text/plain": [
       "21×21 Array{Gray{N0f8},2} with eltype Gray{Normed{UInt8,8}}:\n",
       " Gray{N0f8}(0.0)  Gray{N0f8}(0.0)  …  Gray{N0f8}(0.0)  Gray{N0f8}(0.0)\n",
       " Gray{N0f8}(0.0)  Gray{N0f8}(0.0)     Gray{N0f8}(0.0)  Gray{N0f8}(0.0)\n",
       " Gray{N0f8}(0.0)  Gray{N0f8}(0.0)     Gray{N0f8}(0.0)  Gray{N0f8}(0.0)\n",
       " Gray{N0f8}(0.0)  Gray{N0f8}(0.0)     Gray{N0f8}(0.0)  Gray{N0f8}(0.0)\n",
       " Gray{N0f8}(0.0)  Gray{N0f8}(0.0)     Gray{N0f8}(0.0)  Gray{N0f8}(0.0)\n",
       " Gray{N0f8}(0.0)  Gray{N0f8}(0.0)  …  Gray{N0f8}(0.0)  Gray{N0f8}(0.0)\n",
       " Gray{N0f8}(0.0)  Gray{N0f8}(0.0)     Gray{N0f8}(0.0)  Gray{N0f8}(0.0)\n",
       " Gray{N0f8}(0.0)  Gray{N0f8}(0.0)     Gray{N0f8}(0.0)  Gray{N0f8}(0.0)\n",
       " Gray{N0f8}(0.0)  Gray{N0f8}(0.0)     Gray{N0f8}(0.0)  Gray{N0f8}(0.0)\n",
       " Gray{N0f8}(0.0)  Gray{N0f8}(0.0)     Gray{N0f8}(0.0)  Gray{N0f8}(0.0)\n",
       " Gray{N0f8}(0.0)  Gray{N0f8}(0.0)  …  Gray{N0f8}(0.0)  Gray{N0f8}(0.0)\n",
       " Gray{N0f8}(0.0)  Gray{N0f8}(0.0)     Gray{N0f8}(0.0)  Gray{N0f8}(0.0)\n",
       " Gray{N0f8}(0.0)  Gray{N0f8}(0.0)     Gray{N0f8}(0.0)  Gray{N0f8}(0.0)\n",
       " Gray{N0f8}(0.0)  Gray{N0f8}(0.0)     Gray{N0f8}(0.0)  Gray{N0f8}(0.0)\n",
       " Gray{N0f8}(0.0)  Gray{N0f8}(0.0)     Gray{N0f8}(0.0)  Gray{N0f8}(0.0)\n",
       " Gray{N0f8}(0.0)  Gray{N0f8}(0.0)  …  Gray{N0f8}(0.0)  Gray{N0f8}(0.0)\n",
       " Gray{N0f8}(0.0)  Gray{N0f8}(0.0)     Gray{N0f8}(0.0)  Gray{N0f8}(0.0)\n",
       " Gray{N0f8}(0.0)  Gray{N0f8}(0.0)     Gray{N0f8}(0.0)  Gray{N0f8}(0.0)\n",
       " Gray{N0f8}(0.0)  Gray{N0f8}(0.0)     Gray{N0f8}(0.0)  Gray{N0f8}(0.0)\n",
       " Gray{N0f8}(0.0)  Gray{N0f8}(0.0)     Gray{N0f8}(0.0)  Gray{N0f8}(0.0)\n",
       " Gray{N0f8}(0.0)  Gray{N0f8}(0.0)  …  Gray{N0f8}(0.0)  Gray{N0f8}(0.0)"
      ]
     },
     "execution_count": 28,
     "metadata": {},
     "output_type": "execute_result"
    }
   ],
   "source": [
    "function sphere(x2,y2)\n",
    "    x = Polynomial([0,x2])\n",
    "    y = Polynomial([0,y2])\n",
    "    z = Polynomial([0,1])\n",
    "    \n",
    "    p = x^2 + y^2 + (z - 3)^2 - 1\n",
    "    r = roots(p)\n",
    "    return any( x -> isreal(x) & (real(x) > 0.0)  , r) ? 1 : 0 \n",
    "end\n",
    "\n",
    "box = -1:0.1:1\n",
    "\n",
    "Gray.([ sphere(x,y) for x=box, y=box ])"
   ]
  },
  {
   "cell_type": "code",
   "execution_count": 64,
   "metadata": {},
   "outputs": [],
   "source": [
    "using LinearAlgebra"
   ]
  },
  {
   "cell_type": "code",
   "execution_count": 77,
   "metadata": {},
   "outputs": [
    {
     "ename": "InterruptException",
     "evalue": "InterruptException:",
     "output_type": "error",
     "traceback": [
      "InterruptException:",
      "",
      "Stacktrace:",
      " [1] Array at ./boot.jl:406 [inlined]",
      " [2] getindex at ./array.jl:415 [inlined]",
      " [3] _polynomial_2terms(::Term{Int64,Monomial{(x₁, x₂),2}}, ::Term{Int64,Monomial{(x₁, x₂),2}}, ::Type{Int64}) at /home/philip/.julia/packages/MultivariatePolynomials/CZWzD/src/operators.jl:290",
      " [4] +(::Term{Int64,Monomial{(x₁, x₂),2}}, ::Term{Int64,Monomial{(x₁, x₂),2}}) at /home/philip/.julia/packages/MultivariatePolynomials/CZWzD/src/operators.jl:304",
      " [5] + at /home/philip/.julia/packages/MultivariatePolynomials/CZWzD/src/operators.jl:296 [inlined]",
      " [6] + at /home/philip/.julia/packages/MultivariatePolynomials/CZWzD/src/operators.jl:295 [inlined]",
      " [7] + at ./operators.jl:538 [inlined]",
      " [8] sphere(::Float64, ::Float64) at ./In[77]:4",
      " [9] #243 at ./none:0 [inlined]",
      " [10] iterate at ./generator.jl:47 [inlined]",
      " [11] collect_to!(::Array{Real,2}, ::Base.Generator{Base.Iterators.ProductIterator{Tuple{StepRangeLen{Float64,Base.TwicePrecision{Float64},Base.TwicePrecision{Float64}},StepRangeLen{Float64,Base.TwicePrecision{Float64},Base.TwicePrecision{Float64}}}},var\"#243#244\"}, ::Int64, ::Tuple{Tuple{Float64,Int64},Tuple{Float64,Int64}}) at ./array.jl:732",
      " [12] collect_to!(::Array{Int64,2}, ::Base.Generator{Base.Iterators.ProductIterator{Tuple{StepRangeLen{Float64,Base.TwicePrecision{Float64},Base.TwicePrecision{Float64}},StepRangeLen{Float64,Base.TwicePrecision{Float64},Base.TwicePrecision{Float64}}}},var\"#243#244\"}, ::Int64, ::Tuple{Tuple{Float64,Int64},Tuple{Float64,Int64}}) at ./array.jl:740",
      " [13] collect_to_with_first!(::Array{Int64,2}, ::Int64, ::Base.Generator{Base.Iterators.ProductIterator{Tuple{StepRangeLen{Float64,Base.TwicePrecision{Float64},Base.TwicePrecision{Float64}},StepRangeLen{Float64,Base.TwicePrecision{Float64},Base.TwicePrecision{Float64}}}},var\"#243#244\"}, ::Tuple{Tuple{Float64,Int64},Tuple{Float64,Int64}}) at ./array.jl:710",
      " [14] collect(::Base.Generator{Base.Iterators.ProductIterator{Tuple{StepRangeLen{Float64,Base.TwicePrecision{Float64},Base.TwicePrecision{Float64}},StepRangeLen{Float64,Base.TwicePrecision{Float64},Base.TwicePrecision{Float64}}}},var\"#243#244\"}) at ./array.jl:691",
      " [15] top-level scope at In[77]:19"
     ]
    }
   ],
   "source": [
    "function sphere(x2,y2)\n",
    "    x3 = [Polynomial([0,x2]), Polynomial([0,y2]), Polynomial([0,1])]\n",
    "    @polyvar x[1:3]\n",
    "    p = x[1]^2 + x[2]^2 + (x[3] - 3)^2 - 1\n",
    "    r = roots(p(x=>x3))\n",
    "    hits = filter( x -> isreal(x) & (real(x) > 0.0)  , r)\n",
    "    if length(hits) > 0\n",
    "        l = minimum(hits)\n",
    "        x3 = [z(l) for z in x3]\n",
    "        dp = differentiate(p, x)\n",
    "        normal = normalize([ z(x=> x3)  for z in dp])\n",
    "        return dot(normal,[0,1,-1]) \n",
    "    else \n",
    "        return 0\n",
    "    end\n",
    "end\n",
    "\n",
    "box = -1:0.001:1\n",
    "\n",
    "Gray.([ sphere(x,y) for x=box, y=box ])\n",
    "#sphere(0,0)"
   ]
  },
  {
   "cell_type": "code",
   "execution_count": 14,
   "metadata": {},
   "outputs": [
    {
     "data": {
      "text/plain": [
       "-1.0:0.005:1.0"
      ]
     },
     "execution_count": 14,
     "metadata": {},
     "output_type": "execute_result"
    }
   ],
   "source": [
    "using Images\n",
    "using LinearAlgebra\n",
    "using TypedPolynomials\n",
    "using Polynomials\n",
    "\n",
    "function raytrace(x2,y2,p)\n",
    "    z = Polynomials.Polynomial([0,1])\n",
    "    x3 = [z*x2, z*y2, z] # The ray through the origin and the point [x2,x3,1] parametrized by z\n",
    "    r = roots(p(x=>x3)) # get all the roots after substitution into the surfacv\n",
    "    hits = map(real, filter( x -> isreal(x) & (real(x) > 0.0)  , r)) # only use values of z that are real and in front of the camera\n",
    "    if length(hits) > 0\n",
    "        l = minimum(hits) # closest hit only\n",
    "        x3 = [z(l) for z in x3]\n",
    "        dp = differentiate(p, x) # get normal vector of surface at that point\n",
    "        normal = normalize([ z(x=> x3)  for z in dp])\n",
    "        return max(0.0, 0.5*dot(normal,normalize([0,1,-1]))) + 0.2 # a little directional and ambient shading\n",
    "    else \n",
    "        return 0 # Ray did not hit surface\n",
    "    end\n",
    "end\n",
    "\n",
    "@polyvar x[1:3]\n",
    "p = x[1]^2 + x[2]^2 + (x[3] - 3)^2 - 1 # a sphere of radius 1 with center at (0,0,3)\n",
    "box = -1:0.005:1\n",
    "#img = Gray.([ raytrace(x,y,p) for x=box, y=box ])\n",
    "#save(\"sphere.jpg\",img)\n"
   ]
  },
  {
   "cell_type": "code",
   "execution_count": 17,
   "metadata": {},
   "outputs": [
    {
     "name": "stdout",
     "output_type": "stream",
     "text": [
      "Gray{Float64}(0.59999400521406)Gray{Float64}(0.0)"
     ]
    }
   ],
   "source": [
    "@polyvar x[1:3]\n",
    "R = 2\n",
    "r = 1\n",
    "x1 = x .+ [ 0, 0 , -5 ] # another way of doing offset\n",
    "p = (x1[1]^2 + x1[2]^2 + x1[3]^2 + R^2 - r^2)^2 - 4R^2 * (x1[1]^2 + x1[2]^2) # a torus at (0,0,5)\n",
    "box = -1:0.005:1\n",
    "img = Gray.([ raytrace(x,y,p) for x=box, y=box ])\n",
    "print(maximum(img))\n",
    "print(minimum(img))\n",
    "save(\"torus.jpg\",img)"
   ]
  },
  {
   "cell_type": "code",
   "execution_count": 13,
   "metadata": {},
   "outputs": [
    {
     "data": {
      "text/plain": [
       "1"
      ]
     },
     "execution_count": 13,
     "metadata": {},
     "output_type": "execute_result"
    }
   ],
   "source": [
    "max(0,1)"
   ]
  },
  {
   "cell_type": "code",
   "execution_count": 155,
   "metadata": {},
   "outputs": [
    {
     "name": "stdout",
     "output_type": "stream",
     "text": [
      "TypedPolynomials.Polynomial{Int64,T,V} where V<:AbstractArray{T,1} where T<:(Term{Int64,M} where M<:Monomial)[x₁, x₂, x₃]\n",
      "x[1]^4 + 2*x[1]^2*x[2]^2 + 2*x[1]^2*x[3]^2 + x[2]^4 + 2*x[2]^2*x[3]^2 + x[3]^4 - 10*x[1]^2 - 10*x[2]^2 + 6*x[3]^2 + 9\n"
     ]
    },
    {
     "data": {
      "text/plain": [
       "TypedPolynomials.Polynomial{Int64,Term{Int64,Monomial{(x₁, x₂, x₃),3}},Array{Term{Int64,Monomial{(x₁, x₂, x₃),3}},1}}"
      ]
     },
     "execution_count": 155,
     "metadata": {},
     "output_type": "execute_result"
    }
   ],
   "source": [
    "@polyvar x[1:3]\n",
    "R = 2\n",
    "r = 1\n",
    "x = x .+ [ 0, 0 , 0 ]\n",
    "println(x)\n",
    "p = (x[1]^2 + x[2]^2 + x[3]^2 + R^2 - r^2)^2 - 4R^2 * (x[1]^2 + x[2]^2)\n",
    "println(p)\n",
    "typeof(p)"
   ]
  },
  {
   "cell_type": "code",
   "execution_count": 100,
   "metadata": {},
   "outputs": [
    {
     "ename": "MethodError",
     "evalue": "MethodError: no method matching substitute(::MultivariatePolynomials.Eval, ::TypedPolynomials.Polynomial{Int64,Term{Int64,Monomial{(x₁, x₂, x₃),3}},Array{Term{Int64,Monomial{(x₁, x₂, x₃),3}},1}}, ::Tuple{Pair{Tuple{Variable{Symbol(\"x[1]\")},Variable{Symbol(\"x[2]\")},Variable{Symbol(\"x[3]\")}},Variable{:y}}})\nClosest candidates are:\n  substitute(::MultivariatePolynomials.AbstractSubstitutionType, ::MultivariatePolynomials.AbstractPolynomialLike{T} where T, !Matched::Union{Pair{var\"#s36\",var\"#s35\"} where var\"#s35\"<:Tuple{Vararg{Any,N}} where var\"#s36\"<:Tuple{Vararg{MultivariatePolynomials.AbstractVariable,N}} where N, Pair{var\"#s36\",var\"#s35\"} where var\"#s35\"<:(AbstractArray{T,1} where T) where var\"#s36\"<:Tuple{Vararg{MultivariatePolynomials.AbstractVariable,N} where N}, Pair{var\"#s36\",var\"#s35\"} where var\"#s35\"<:(AbstractArray{T,1} where T) where var\"#s36\"<:(AbstractArray{var\"#s34\",1} where var\"#s34\"<:MultivariatePolynomials.AbstractMonomialLike), Pair{var\"#s36\",var\"#s35\"} where var\"#s35\"<:Tuple where var\"#s36\"<:(AbstractArray{var\"#s34\",1} where var\"#s34\"<:MultivariatePolynomials.AbstractMonomialLike)}) at /home/philip/.julia/packages/MultivariatePolynomials/CZWzD/src/substitution.jl:31\n  substitute(::MultivariatePolynomials.AbstractSubstitutionType, ::MultivariatePolynomials.AbstractPolynomialLike{T} where T, !Matched::Union{Pair{var\"#s36\",B} where B where var\"#s36\"<:MultivariatePolynomials.AbstractVariable, Pair{var\"#s36\",var\"#s35\"} where var\"#s35\"<:Tuple{Vararg{Any,N}} where var\"#s36\"<:Tuple{Vararg{MultivariatePolynomials.AbstractVariable,N}} where N, Pair{var\"#s36\",var\"#s35\"} where var\"#s35\"<:(AbstractArray{T,1} where T) where var\"#s36\"<:Tuple{Vararg{MultivariatePolynomials.AbstractVariable,N} where N}, Pair{var\"#s36\",var\"#s35\"} where var\"#s35\"<:(AbstractArray{T,1} where T) where var\"#s36\"<:(AbstractArray{var\"#s34\",1} where var\"#s34\"<:MultivariatePolynomials.AbstractMonomialLike), Pair{var\"#s36\",var\"#s35\"} where var\"#s35\"<:Tuple where var\"#s36\"<:(AbstractArray{var\"#s34\",1} where var\"#s34\"<:MultivariatePolynomials.AbstractMonomialLike)}, !Matched::Union{Pair{var\"#s36\",B} where B where var\"#s36\"<:MultivariatePolynomials.AbstractVariable, Pair{var\"#s36\",var\"#s35\"} where var\"#s35\"<:Tuple{Vararg{Any,N}} where var\"#s36\"<:Tuple{Vararg{MultivariatePolynomials.AbstractVariable,N}} where N, Pair{var\"#s36\",var\"#s35\"} where var\"#s35\"<:(AbstractArray{T,1} where T) where var\"#s36\"<:Tuple{Vararg{MultivariatePolynomials.AbstractVariable,N} where N}, Pair{var\"#s36\",var\"#s35\"} where var\"#s35\"<:(AbstractArray{T,1} where T) where var\"#s36\"<:(AbstractArray{var\"#s34\",1} where var\"#s34\"<:MultivariatePolynomials.AbstractMonomialLike), Pair{var\"#s36\",var\"#s35\"} where var\"#s35\"<:Tuple where var\"#s36\"<:(AbstractArray{var\"#s34\",1} where var\"#s34\"<:MultivariatePolynomials.AbstractMonomialLike)}...) at /home/philip/.julia/packages/MultivariatePolynomials/CZWzD/src/substitution.jl:40\n  substitute(::MultivariatePolynomials.AbstractSubstitutionType, ::MultivariatePolynomials.AbstractPolynomial, !Matched::Tuple{Vararg{Union{Pair{var\"#s36\",B} where B where var\"#s36\"<:MultivariatePolynomials.AbstractVariable, Pair{var\"#s36\",var\"#s35\"} where var\"#s35\"<:Tuple{Vararg{Any,N}} where var\"#s36\"<:Tuple{Vararg{MultivariatePolynomials.AbstractVariable,N}} where N, Pair{var\"#s36\",var\"#s35\"} where var\"#s35\"<:(AbstractArray{T,1} where T) where var\"#s36\"<:Tuple{Vararg{MultivariatePolynomials.AbstractVariable,N} where N}, Pair{var\"#s36\",var\"#s35\"} where var\"#s35\"<:(AbstractArray{T,1} where T) where var\"#s36\"<:(AbstractArray{var\"#s34\",1} where var\"#s34\"<:MultivariatePolynomials.AbstractMonomialLike), Pair{var\"#s36\",var\"#s35\"} where var\"#s35\"<:Tuple where var\"#s36\"<:(AbstractArray{var\"#s34\",1} where var\"#s34\"<:MultivariatePolynomials.AbstractMonomialLike)},N} where N}) at /home/philip/.julia/packages/MultivariatePolynomials/CZWzD/src/substitution.jl:56\n  ...",
     "output_type": "error",
     "traceback": [
      "MethodError: no method matching substitute(::MultivariatePolynomials.Eval, ::TypedPolynomials.Polynomial{Int64,Term{Int64,Monomial{(x₁, x₂, x₃),3}},Array{Term{Int64,Monomial{(x₁, x₂, x₃),3}},1}}, ::Tuple{Pair{Tuple{Variable{Symbol(\"x[1]\")},Variable{Symbol(\"x[2]\")},Variable{Symbol(\"x[3]\")}},Variable{:y}}})\nClosest candidates are:\n  substitute(::MultivariatePolynomials.AbstractSubstitutionType, ::MultivariatePolynomials.AbstractPolynomialLike{T} where T, !Matched::Union{Pair{var\"#s36\",var\"#s35\"} where var\"#s35\"<:Tuple{Vararg{Any,N}} where var\"#s36\"<:Tuple{Vararg{MultivariatePolynomials.AbstractVariable,N}} where N, Pair{var\"#s36\",var\"#s35\"} where var\"#s35\"<:(AbstractArray{T,1} where T) where var\"#s36\"<:Tuple{Vararg{MultivariatePolynomials.AbstractVariable,N} where N}, Pair{var\"#s36\",var\"#s35\"} where var\"#s35\"<:(AbstractArray{T,1} where T) where var\"#s36\"<:(AbstractArray{var\"#s34\",1} where var\"#s34\"<:MultivariatePolynomials.AbstractMonomialLike), Pair{var\"#s36\",var\"#s35\"} where var\"#s35\"<:Tuple where var\"#s36\"<:(AbstractArray{var\"#s34\",1} where var\"#s34\"<:MultivariatePolynomials.AbstractMonomialLike)}) at /home/philip/.julia/packages/MultivariatePolynomials/CZWzD/src/substitution.jl:31\n  substitute(::MultivariatePolynomials.AbstractSubstitutionType, ::MultivariatePolynomials.AbstractPolynomialLike{T} where T, !Matched::Union{Pair{var\"#s36\",B} where B where var\"#s36\"<:MultivariatePolynomials.AbstractVariable, Pair{var\"#s36\",var\"#s35\"} where var\"#s35\"<:Tuple{Vararg{Any,N}} where var\"#s36\"<:Tuple{Vararg{MultivariatePolynomials.AbstractVariable,N}} where N, Pair{var\"#s36\",var\"#s35\"} where var\"#s35\"<:(AbstractArray{T,1} where T) where var\"#s36\"<:Tuple{Vararg{MultivariatePolynomials.AbstractVariable,N} where N}, Pair{var\"#s36\",var\"#s35\"} where var\"#s35\"<:(AbstractArray{T,1} where T) where var\"#s36\"<:(AbstractArray{var\"#s34\",1} where var\"#s34\"<:MultivariatePolynomials.AbstractMonomialLike), Pair{var\"#s36\",var\"#s35\"} where var\"#s35\"<:Tuple where var\"#s36\"<:(AbstractArray{var\"#s34\",1} where var\"#s34\"<:MultivariatePolynomials.AbstractMonomialLike)}, !Matched::Union{Pair{var\"#s36\",B} where B where var\"#s36\"<:MultivariatePolynomials.AbstractVariable, Pair{var\"#s36\",var\"#s35\"} where var\"#s35\"<:Tuple{Vararg{Any,N}} where var\"#s36\"<:Tuple{Vararg{MultivariatePolynomials.AbstractVariable,N}} where N, Pair{var\"#s36\",var\"#s35\"} where var\"#s35\"<:(AbstractArray{T,1} where T) where var\"#s36\"<:Tuple{Vararg{MultivariatePolynomials.AbstractVariable,N} where N}, Pair{var\"#s36\",var\"#s35\"} where var\"#s35\"<:(AbstractArray{T,1} where T) where var\"#s36\"<:(AbstractArray{var\"#s34\",1} where var\"#s34\"<:MultivariatePolynomials.AbstractMonomialLike), Pair{var\"#s36\",var\"#s35\"} where var\"#s35\"<:Tuple where var\"#s36\"<:(AbstractArray{var\"#s34\",1} where var\"#s34\"<:MultivariatePolynomials.AbstractMonomialLike)}...) at /home/philip/.julia/packages/MultivariatePolynomials/CZWzD/src/substitution.jl:40\n  substitute(::MultivariatePolynomials.AbstractSubstitutionType, ::MultivariatePolynomials.AbstractPolynomial, !Matched::Tuple{Vararg{Union{Pair{var\"#s36\",B} where B where var\"#s36\"<:MultivariatePolynomials.AbstractVariable, Pair{var\"#s36\",var\"#s35\"} where var\"#s35\"<:Tuple{Vararg{Any,N}} where var\"#s36\"<:Tuple{Vararg{MultivariatePolynomials.AbstractVariable,N}} where N, Pair{var\"#s36\",var\"#s35\"} where var\"#s35\"<:(AbstractArray{T,1} where T) where var\"#s36\"<:Tuple{Vararg{MultivariatePolynomials.AbstractVariable,N} where N}, Pair{var\"#s36\",var\"#s35\"} where var\"#s35\"<:(AbstractArray{T,1} where T) where var\"#s36\"<:(AbstractArray{var\"#s34\",1} where var\"#s34\"<:MultivariatePolynomials.AbstractMonomialLike), Pair{var\"#s36\",var\"#s35\"} where var\"#s35\"<:Tuple where var\"#s36\"<:(AbstractArray{var\"#s34\",1} where var\"#s34\"<:MultivariatePolynomials.AbstractMonomialLike)},N} where N}) at /home/philip/.julia/packages/MultivariatePolynomials/CZWzD/src/substitution.jl:56\n  ...",
      "",
      "Stacktrace:",
      " [1] (::TypedPolynomials.Polynomial{Int64,Term{Int64,Monomial{(x₁, x₂, x₃),3}},Array{Term{Int64,Monomial{(x₁, x₂, x₃),3}},1}})(::Pair{Tuple{Variable{Symbol(\"x[1]\")},Variable{Symbol(\"x[2]\")},Variable{Symbol(\"x[3]\")}},Variable{:y}}) at /home/philip/.julia/packages/TypedPolynomials/0HQcW/src/call.jl:1",
      " [2] top-level scope at In[100]:1"
     ]
    }
   ],
   "source": [
    "#@profile raytrace(0,0,p)\n",
    "#@profile \n",
    "#@code_llvm p(x => [1,2,3])\n",
    ":( y -> $(p(x => y)))"
   ]
  },
  {
   "cell_type": "code",
   "execution_count": 93,
   "metadata": {},
   "outputs": [
    {
     "data": {
      "text/plain": [
       "TypedPolynomials.Polynomial{Int64,Term{Int64,Monomial{(x₁, x₂, x₃),3}},Array{Term{Int64,Monomial{(x₁, x₂, x₃),3}},1}}"
      ]
     },
     "execution_count": 93,
     "metadata": {},
     "output_type": "execute_result"
    }
   ],
   "source": [
    "typeof(p)"
   ]
  },
  {
   "cell_type": "code",
   "execution_count": null,
   "metadata": {},
   "outputs": [],
   "source": [
    "using ProfileVega\n",
    "ProfileVega.view()"
   ]
  },
  {
   "cell_type": "code",
   "execution_count": 49,
   "metadata": {},
   "outputs": [
    {
     "ename": "MethodError",
     "evalue": "MethodError: objects of type Symbol are not callable",
     "output_type": "error",
     "traceback": [
      "MethodError: objects of type Symbol are not callable",
      "",
      "Stacktrace:",
      " [1] top-level scope at In[49]:1"
     ]
    }
   ],
   "source": [
    ":call([x->x, x->x],7)"
   ]
  },
  {
   "cell_type": "code",
   "execution_count": 51,
   "metadata": {},
   "outputs": [
    {
     "data": {
      "text/latex": [
       "$$ 3.0y^{2} + 2.0 $$"
      ],
      "text/plain": [
       "3.0y² + 2.0"
      ]
     },
     "execution_count": 51,
     "metadata": {},
     "output_type": "execute_result"
    }
   ],
   "source": [
    "@polyvar x y \n",
    "p = 2x + 3.0x*y^2 + y\n",
    "differentiate(p, x) # compute the derivative of p with respect to x\n",
    "#(differentiate.(p, (x, y)))((x, y)=>(1, 0))# compute the gradient of p\n",
    "\n"
   ]
  },
  {
   "cell_type": "code",
   "execution_count": 53,
   "metadata": {},
   "outputs": [
    {
     "data": {
      "text/plain": [
       "3-element Array{Int64,1}:\n",
       " 2\n",
       " 0\n",
       " 0"
      ]
     },
     "execution_count": 53,
     "metadata": {},
     "output_type": "execute_result"
    }
   ],
   "source": [
    "using TypedPolynomials\n",
    "@polyvar x y # assigns x (resp. y) to a variable of name x (resp. y)\n",
    "p = 2x + 3.0x*y^2 + y\n",
    "differentiate(p, x) # compute the derivative of p with respect to x\n",
    "differentiate.(p, (x, y)) # compute the gradient of p\n",
    "p((x, y)=>(y, x)) # replace any x by y and y by x\n",
    "subs(p, y=>x^2) # replace any occurence of y by x^2\n",
    "p(x=>1, y=>2) # evaluate p at [1, 2]\n",
    "using TypedPolynomials\n",
    "A = rand(3, 3)\n",
    "@polyvar x[1:3] # assign x to a tuple of variables x1, x2, x3\n",
    "p = sum(x .* x) # x_1^2 + x_2^2 + x_3^2\n",
    "subs(p, x[1]=>2, x[3]=>3) # x_2^2 + 13\n"
   ]
  },
  {
   "cell_type": "code",
   "execution_count": 42,
   "metadata": {},
   "outputs": [
    {
     "name": "stdout",
     "output_type": "stream",
     "text": [
      "\u001b[32mTracking 4 paths... 100%|███████████████████████████████| Time: 0:00:07\u001b[39m\n",
      "\u001b[34m  # paths tracked:                  4\u001b[39m\n",
      "\u001b[34m  # non-singular solutions (real):  4 (2)\u001b[39m\n",
      "\u001b[34m  # singular endpoints (real):      0 (0)\u001b[39m\n",
      "\u001b[34m  # total solutions (real):         4 (2)\u001b[39m\n"
     ]
    },
    {
     "data": {
      "text/plain": [
       "Result with 4 solutions\n",
       "=======================\n",
       "• 4 paths tracked\n",
       "• 4 non-singular solutions (2 real)\n",
       "• random_seed: 0x6366f966\n",
       "• start_system: :polyhedral\n"
      ]
     },
     "execution_count": 42,
     "metadata": {},
     "output_type": "execute_result"
    }
   ],
   "source": [
    "using HomotopyContinuation\n",
    "@var x y; # declare the variables x and y\n",
    "F = System([x^2+2y, y^2-2])\n",
    "result = solve(F)"
   ]
  },
  {
   "cell_type": "code",
   "execution_count": null,
   "metadata": {},
   "outputs": [],
   "source": [
    "\n",
    "\n",
    "\n"
   ]
  },
  {
   "cell_type": "markdown",
   "metadata": {},
   "source": [
    "Ray tracing with JuMP\n",
    "\n",
    "We can find the closest point of an object to the camera with jump\n",
    "\n",
    "\n",
    "\n",
    "\n"
   ]
  },
  {
   "cell_type": "markdown",
   "metadata": {},
   "source": [
    "Homotopy conituations and hamiltonian optics\n",
    "\n",
    "\n",
    "free space\n",
    "(x -x)*2 + (y -y) \n",
    "derivative\n",
    "\n",
    "\n",
    "\n"
   ]
  },
  {
   "cell_type": "markdown",
   "metadata": {},
   "source": [
    "Matrix ray optics\n",
    "\n",
    "An approximate ray tracing can be achived by taking a linearization of angles.\n",
    "\n",
    "A ray is ~   (y , alpha) where alpha = \n",
    "\n",
    "\n"
   ]
  }
 ],
 "metadata": {
  "kernelspec": {
   "display_name": "Julia 1.5.0",
   "language": "julia",
   "name": "julia-1.5"
  },
  "language_info": {
   "file_extension": ".jl",
   "mimetype": "application/julia",
   "name": "julia",
   "version": "1.5.0"
  }
 },
 "nbformat": 4,
 "nbformat_minor": 4
}
