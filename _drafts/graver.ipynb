{
 "cells": [
  {
   "cell_type": "code",
   "execution_count": null,
   "metadata": {},
   "outputs": [],
   "source": []
  },
  {
   "cell_type": "markdown",
   "metadata": {},
   "source": [
    "https://mattpap.github.io/masters-thesis/html/src/groebner.html#integer-optimization\n",
    "\n",
    "graver for MILP\n",
    "graver for bilevel? It does \"domimate\" the system, which smells right.\n",
    "\n",
    "Yeah, fun grobner applications.\n",
    "\n",
    "Classical feynman diagrams\n",
    "Mathemtically speaking, quite similar to linkages. These give distance constraints, which are also quadratic.\n",
    "\n"
   ]
  }
 ],
 "metadata": {
  "language_info": {
   "name": "python"
  }
 },
 "nbformat": 4,
 "nbformat_minor": 2
}
