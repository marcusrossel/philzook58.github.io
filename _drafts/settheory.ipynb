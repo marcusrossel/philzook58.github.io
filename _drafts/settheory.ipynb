{
 "cells": [
  {
   "cell_type": "code",
   "execution_count": null,
   "metadata": {},
   "outputs": [],
   "source": []
  },
  {
   "cell_type": "markdown",
   "metadata": {},
   "source": [
    "The tptp version\n",
    "\n",
    "Axiom of choice\n",
    "universes\n",
    "Forcing\n",
    "Well founded recursion\n",
    "\n",
    "Open Sets are semdecidable.\n",
    "What is an open set anyway? We draw a blob without a boundary. Open sets are algerbaically defined as a collection being closed under countable interesection and arbitrary union.\n",
    "Escardo synthetiuc topology blog posts and paper\n",
    "Thew ideas in Marshall and MarshallB\n",
    "\n",
    "\n",
    "realizibaility \"Associate to a proposition a set of programs in your favorite programing language, an element of that set is a realizer of the proposition\"\n",
    "A proof of two normalizable terms being equal is not needed.\n",
    "sat(p) has the assignment as proof. sure. Let's say p are ground smt formula \n",
    "sat(?p) -> sat(?q) is a prcoesure to turn the satisying assignemt of p into one of q\n",
    "forall q,   (for any propositional formula q)\n",
    "exists p, P(p), there is propositional\n",
    "\n",
    "There are slides on smt somewhere about equisatisfiable and other things.\n",
    "Is there some example where the intuiitionistic character would come into play\n",
    "\n",
    "atom = min c^T x st Ax >= b.  Proof = dual vector.\n",
    "\n",
    "examples and counterexamples.\n",
    "\n",
    "\"The motivation behind the definition of (ϕ → ψ) D given by G¨odel is as follows: from a witness x to the hypothesis ϕD one should be able to obtain a witness u to the conclusion ψ D , such that from a counterexample v to the conclusion one should be able to find a counterexample y to the hypothesis\"\n",
    "\n",
    "forall x, exists y, phi(x,y) -> exists Y forall x phi(x, Y @ x) axiom of choice is an internalized skolemization\n",
    "\n",
    "blame calculus\n",
    "exists forall problems are function syunthesis problems. Running dialectica bnackwards?\n",
    "\n",
    "\n",
    "\n",
    "Comprehension is a relfection principle from logic to objects.  If we weanted to reflect substercutrual loigc , we would not gert sets. We'd get multisets. Similar perhaps if we want a \"set theory\" that takes some other entity as primitive, like lists or sequences.\n",
    "\n",
    "Model theory and databases. Query containment using TPTP solvers.\n",
    "\n",
    "\n",
    "domain theory in python\n",
    "\n"
   ]
  },
  {
   "cell_type": "code",
   "execution_count": null,
   "metadata": {},
   "outputs": [],
   "source": [
    "%%file /tmp/systemt.p\n",
    "\n",
    "thf( k , type, ) % constant\n",
    "thf( recurs, type, )\n",
    "thf( )\n",
    "\n",
    "k(S,T) = S\n",
    "s(R,S,T) = r(T) @ s(T)\n",
    "\n",
    "\n",
    "r(F,G,0) = F\n",
    "r(F,G,succ(N)) = G @ N @ r(F,G,N)"
   ]
  }
 ],
 "metadata": {
  "language_info": {
   "name": "python"
  }
 },
 "nbformat": 4,
 "nbformat_minor": 2
}
