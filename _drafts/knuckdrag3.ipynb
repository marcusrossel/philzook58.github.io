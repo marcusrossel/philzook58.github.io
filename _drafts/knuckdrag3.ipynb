{
 "cells": [
  {
   "cell_type": "markdown",
   "metadata": {},
   "source": [
    "---\n",
    "title: Knuckledragger 3\n",
    "---\n",
    "\n",
    "Untyped terms feels kind of like a toy. It is super useful for tinkering and if you know what you're doing it is less constrained. But, it is way easier to make mistakes in your formulation\n",
    "https://tptp.org/TPTP/SyntaxBNF.html"
   ]
  },
  {
   "cell_type": "code",
   "execution_count": 28,
   "metadata": {},
   "outputs": [
    {
     "name": "stdout",
     "output_type": "stream",
     "text": [
      "(a * b)\n",
      "((a > b) > a)\n",
      "(a > (a > (a > (a > b))))\n"
     ]
    }
   ],
   "source": [
    "from dataclasses import dataclass\n",
    "\n",
    "@dataclass(frozen=True)\n",
    "class Sort:\n",
    "    def __mul__(self, rhs):\n",
    "        return TProd((self,rhs))\n",
    "    def __rshift__(self,rhs):\n",
    "        return TFun(self, rhs)\n",
    "\n",
    "@dataclass(frozen=True)\n",
    "class TConst(Sort):\n",
    "    name: str\n",
    "    args: tuple[Sort] = ()\n",
    "    #def __repr__(self):\n",
    "    #    if self.args:\n",
    "    #        return f'{self.name}({\", \".join(map(repr, self.args))})'\n",
    "    #    return self.name\n",
    "    def thf(self):\n",
    "        return self.name\n",
    "\n",
    "IntSort = TConst('$int')\n",
    "BoolSort = TConst('$o')\n",
    "RealSort = TConst('$real')\n",
    "RatSort = TConst('$rat')\n",
    "IndSort = TConst(\"$i\")\n",
    "\n",
    "@dataclass(frozen=True)\n",
    "class TFun(Sort):\n",
    "    input: Sort\n",
    "    output: Sort\n",
    "    def thf(self):\n",
    "        return f\"({self.input.thf()} > {self.output.thf()})\"\n",
    "\n",
    "@dataclass(frozen=True)    \n",
    "class TProd(Sort):\n",
    "    args: tuple[Sort, ...]\n",
    "    def thf(self):\n",
    "        return \"(\" + \" * \".join(a.thf() for a in self.args) + \")\" # Hmm what about empty or single tuples?\n",
    "\n",
    "\n",
    "def TFun1(*args):\n",
    "    args = list(args)\n",
    "    a = args.pop()\n",
    "    while len(args) > 0:\n",
    "        b = args.pop()\n",
    "        a = TFun(b,a)\n",
    "    return a\n",
    "\n",
    "\"\"\"\n",
    "def TFun(*args):\n",
    "    if len(args) == 1:\n",
    "        return args[0]\n",
    "    else:\n",
    "        return TConst('>', (args[0], TFun(*args[1:])))\n",
    "\"\"\"\n",
    "\n",
    "def thf_type_decl(t : Sort):\n",
    "    return f'thf(type_decl,type,{t.thf()}).'\n",
    "\n",
    "def test():\n",
    "    a = TConst(\"a\")\n",
    "    b = TConst(\"b\")\n",
    "    print((a * b).thf())\n",
    "    print((a >> b >> a).thf())\n",
    "    print(TFun1(a,a,a,a,b).thf())\n",
    "\n",
    "test()"
   ]
  },
  {
   "cell_type": "markdown",
   "metadata": {},
   "source": [
    "Terms are like before, but we tag them with sorts."
   ]
  },
  {
   "cell_type": "code",
   "execution_count": 37,
   "metadata": {},
   "outputs": [
    {
     "name": "stdout",
     "output_type": "stream",
     "text": [
      "x\n",
      "TConst(name='a', args=())\n",
      "Fn(name='f', args=(), ty=TFun(input=TConst(name='a', args=()), output=TFun(input=TConst(name='a', args=()), output=TConst(name='a', args=()))))\n",
      "InFix(name='@', args=(Lambda(args=[X], body=InFix(name='@', args=(Fn(name='f', args=(), ty=TFun(input=TConst(name='a', args=()), output=TConst(name='a', args=()))), X), ty=TConst(name='a', args=()))), Fn(name='x', args=(), ty=TConst(name='a', args=()))), ty=TConst(name='a', args=()))\n"
     ]
    }
   ],
   "source": [
    "@dataclass(frozen=True)\n",
    "class Term:\n",
    "    def __eq__(self : \"Term\", other : \"Term\"):\n",
    "        return Eq(self, other)\n",
    "    def __call__(self, *args):\n",
    "        res = self\n",
    "        for a in args:\n",
    "            res = Apply(res, a)\n",
    "        return res\n",
    "    def __matmul__(self, other):\n",
    "        return Apply(self, other)\n",
    "\n",
    "@dataclass(frozen=True)\n",
    "class Var(Term):\n",
    "    name: str\n",
    "    ty : Sort\n",
    "    def __repr__(self):\n",
    "        return self.name.title()\n",
    "    def vars(self):\n",
    "        return {self}\n",
    "\n",
    "@dataclass(frozen=True)\n",
    "class Fn(Term):\n",
    "    name: str\n",
    "    args: tuple[Term, ...]\n",
    "    ty: Sort\n",
    "    def __eq__(self : Term, other : Term):\n",
    "        return Eq(self, other)\n",
    "    def vars(self):\n",
    "        return {v for a in self.args for v in a.vars()}\n",
    "    def thf(self):\n",
    "        if len(self.args) == 0:\n",
    "            return self.name\n",
    "        return f\"{self.name}({', '.join(a.thf() for a in self.args)})\"\n",
    "\n",
    "@dataclass(frozen=True)\n",
    "class InFix(Fn):\n",
    "    def thf(self):\n",
    "        return f\"({self.args[0].thf()} {self.name} {self.args[1].thf()})\"\n",
    "\n",
    "\n",
    "# How to do ty annotation?\n",
    "@dataclass(frozen=True)\n",
    "class Lambda(Term):\n",
    "    args: tuple[Var, ...]\n",
    "    body: Term \n",
    "    @property\n",
    "    def ty(self):\n",
    "        args = tuple(a.ty for a in self.args) + (self.body.ty,)\n",
    "        return TFun(*args)\n",
    "    def thf(self):\n",
    "        vars = ', '.join([ f\"{v} : {v.ty}\" for v in self.args])\n",
    "        return f\"^[{vars}] : ({self.body})\"\n",
    "\n",
    "@dataclass(frozen=True)\n",
    "class Let(Term):\n",
    "    bindings: tuple[tuple[Var, Term], ...]\n",
    "    body: Term\n",
    "    @property\n",
    "    def ty(self):\n",
    "        return self.body.ty\n",
    "    def thf(self): # TODO\n",
    "        return f\"$let({self.bindings}, {self.body})\"\n",
    "\n",
    "# helpers\n",
    "def Const(name : str, ty : Sort):\n",
    "    return Fn(name, (), ty)\n",
    "def Consts(names : str, ty : Sort):\n",
    "    return [Const(name, ty) for name in names.split()]\n",
    "def Function(name : str, *ty):\n",
    "    \"\"\"def res(*args):\n",
    "        assert len(args) == len(ty) - 1\n",
    "        assert all(a.ty == b for a,b in zip(args, ty[:-1])) # a bit weird to do this here...\n",
    "        return Fn(name, args, ty[-1])\n",
    "    return res\"\"\"\n",
    "    assert all(isinstance(ty, Sort) for ty in ty)\n",
    "    return Const(name, TFun1(*ty))\n",
    "\n",
    "# built ins\n",
    "def Ite(c,t,e):\n",
    "    return Fn('$ite', (c,t,e), BoolSort)\n",
    "# Should these be special?\n",
    "def Apply(f : Term, x : Term):\n",
    "    assert isinstance(f.ty, TFun)\n",
    "    assert f.ty.input == x.ty\n",
    "    return InFix('@', (f,x), f.ty.output)\n",
    "def Eq(x : Term, y : Term):\n",
    "    return InFix('=', (x, y), BoolSort)\n",
    "\n",
    "def test():\n",
    "    a = TConst(\"a\")\n",
    "    b = TConst(\"b\")\n",
    "    x = Const(\"x\", a)\n",
    "    print(x.thf())\n",
    "    f = Function(\"f\", a , a, a)\n",
    "    print(x.ty)\n",
    "    print(f)\n",
    "    f @ x\n",
    "    f(x)\n",
    "    a = TConst(\"a\")\n",
    "    x,y,z = Consts(\"x y z\", a)\n",
    "    f = Function(\"f\", a, a)\n",
    "    f(f(x))\n",
    "    b = TConst(\"b\")\n",
    "    w = Const(\"w\", b)\n",
    "    #f(w)\n",
    "    X = Var(\"X\", a)\n",
    "\n",
    "    print(Lambda([X], f(X))(x))\n",
    "    e = x == y\n",
    "    e.thf()\n",
    "\n",
    "    \n",
    "test()"
   ]
  },
  {
   "cell_type": "code",
   "execution_count": 8,
   "metadata": {},
   "outputs": [],
   "source": [
    "def type_infer(t):\n",
    "    pass\n",
    "def type_check(t):\n",
    "    pass"
   ]
  },
  {
   "cell_type": "markdown",
   "metadata": {},
   "source": [
    "Helpers"
   ]
  },
  {
   "cell_type": "code",
   "execution_count": 9,
   "metadata": {},
   "outputs": [],
   "source": [
    "\n"
   ]
  },
  {
   "cell_type": "code",
   "execution_count": 28,
   "metadata": {},
   "outputs": [
    {
     "ename": "IndexError",
     "evalue": "tuple index out of range",
     "output_type": "error",
     "traceback": [
      "\u001b[0;31m---------------------------------------------------------------------------\u001b[0m",
      "\u001b[0;31mIndexError\u001b[0m                                Traceback (most recent call last)",
      "Cell \u001b[0;32mIn[28], line 13\u001b[0m\n\u001b[1;32m     11\u001b[0m e \u001b[38;5;241m=\u001b[39m x \u001b[38;5;241m==\u001b[39m y\n\u001b[1;32m     12\u001b[0m e\u001b[38;5;241m.\u001b[39mthf()\n\u001b[0;32m---> 13\u001b[0m \u001b[43mx\u001b[49m\u001b[43m \u001b[49m\u001b[38;5;241;43m@\u001b[39;49m\u001b[43m \u001b[49m\u001b[43my\u001b[49m\n",
      "Cell \u001b[0;32mIn[27], line 11\u001b[0m, in \u001b[0;36mTerm.__matmul__\u001b[0;34m(self, other)\u001b[0m\n\u001b[1;32m     10\u001b[0m \u001b[38;5;28;01mdef\u001b[39;00m \u001b[38;5;21m__matmul__\u001b[39m(\u001b[38;5;28mself\u001b[39m, other):\n\u001b[0;32m---> 11\u001b[0m     \u001b[38;5;28;01mreturn\u001b[39;00m \u001b[43mApply\u001b[49m\u001b[43m(\u001b[49m\u001b[38;5;28;43mself\u001b[39;49m\u001b[43m,\u001b[49m\u001b[43m \u001b[49m\u001b[43mother\u001b[49m\u001b[43m)\u001b[49m\n",
      "Cell \u001b[0;32mIn[9], line 15\u001b[0m, in \u001b[0;36mApply\u001b[0;34m(f, x)\u001b[0m\n\u001b[1;32m     14\u001b[0m \u001b[38;5;28;01mdef\u001b[39;00m \u001b[38;5;21mApply\u001b[39m(f,x):\n\u001b[0;32m---> 15\u001b[0m     \u001b[38;5;28;01massert\u001b[39;00m \u001b[43mf\u001b[49m\u001b[38;5;241;43m.\u001b[39;49m\u001b[43mty\u001b[49m\u001b[38;5;241;43m.\u001b[39;49m\u001b[43margs\u001b[49m\u001b[43m[\u001b[49m\u001b[38;5;241;43m0\u001b[39;49m\u001b[43m]\u001b[49m \u001b[38;5;241m==\u001b[39m x\u001b[38;5;241m.\u001b[39mty\n\u001b[1;32m     16\u001b[0m     \u001b[38;5;28;01mreturn\u001b[39;00m InFix(\u001b[38;5;124m'\u001b[39m\u001b[38;5;124m@\u001b[39m\u001b[38;5;124m'\u001b[39m, (f,x), f\u001b[38;5;241m.\u001b[39mty\u001b[38;5;241m.\u001b[39margs[\u001b[38;5;241m1\u001b[39m])\n",
      "\u001b[0;31mIndexError\u001b[0m: tuple index out of range"
     ]
    }
   ],
   "source": [
    "\n"
   ]
  },
  {
   "cell_type": "markdown",
   "metadata": {},
   "source": [
    "We can really bulk out our special formula constructors. I kind of hate this. It's so verbose. But it is probably what the people crave\n"
   ]
  },
  {
   "cell_type": "code",
   "execution_count": null,
   "metadata": {},
   "outputs": [],
   "source": [
    "@dataclass(frozen=True)\n",
    "class Formula:\n",
    "    @property\n",
    "    def ty(self):\n",
    "        return BoolSort\n",
    "    def __eq__(self):\n",
    "        return Eq(self, other)\n",
    "\n",
    "@dataclass(frozen=True)\n",
    "class FTrue(Formula):\n",
    "    def thf(self):\n",
    "        return \"$true\"\n",
    "\n",
    "@dataclass(frozen=True)\n",
    "class FFalse(Formula):\n",
    "    def thf(self):\n",
    "        return \"$false\"\n",
    "    \n",
    "\n",
    "@dataclass(frozen=True)\n",
    "class Not(Formula):\n",
    "    arg: Formula\n",
    "    def thf(self):\n",
    "        return f\"~({self.arg.thf()})\"\n",
    "\n",
    "@dataclass(frozen=True)\n",
    "class And(Formula):\n",
    "    x: Formula\n",
    "    y: Formula\n",
    "    def thf(self):\n",
    "        return f\"({self.x.thf()} & {self.y.thf()})\"\n",
    "\n",
    "@dataclass(frozen=True)\n",
    "class Or(Formula):\n",
    "    x: Formula\n",
    "    y: Formula\n",
    "    def thf(self):\n",
    "        return f\"({self.args[0].thf()} | {self.args[1].thf()})\"\n",
    "\n",
    "@dataclass(frozen=True)\n",
    "class Implies(Formula):\n",
    "    hyp: Formula\n",
    "    conc: Formula\n",
    "    def thf(self):\n",
    "        return f\"({self.hyp.thf()} => {self.conc.thf()})\"\n",
    "\n",
    "@dataclass(frozen=True)\n",
    "class Iff(Formula):\n",
    "    lhs: Formula\n",
    "    rhs: Formula\n",
    "    def thf(self):\n",
    "        return f\"({self.lhs.thf()} <=> {self.rhs.thf()})\"\n",
    "\n",
    "@dataclass(frozen=True)\n",
    "class ForAll(Formula):\n",
    "    var: str\n",
    "    body: Formula\n",
    "    def thf(self):\n",
    "        return f\"! [ {self.var} ] : ({self.body.thf()})\"\n",
    "\n",
    "@dataclass(frozen=True)\n",
    "class Exists(Formula):\n",
    "    var: str\n",
    "    body: Formula\n",
    "    def thf(self):\n",
    "        return f\"? [ {self.var} ] : ({self.body.thf()})\"\n",
    "\n",
    "@dataclass(frozen=True)\n",
    "class Atom(Formula):\n",
    "    pred: str\n",
    "    args: tuple[Term]\n",
    "\n",
    "\n",
    "@dataclass(frozen=True)\n",
    "class Eq(Formula):\n",
    "    lhs: Term\n",
    "    rhs: Term\n",
    "    def thf(self):\n",
    "        return f\"({self.lhs.thf()} = {self.rhs.thf()})\"\n",
    "\n"
   ]
  },
  {
   "cell_type": "code",
   "execution_count": null,
   "metadata": {},
   "outputs": [
    {
     "data": {
      "text/plain": [
       "False"
      ]
     },
     "execution_count": 62,
     "metadata": {},
     "output_type": "execute_result"
    }
   ],
   "source": [
    "f = And(FTrue(),FFalse())\n",
    "f.thf()\n",
    "f.ty\n",
    "FTrue() == FFalse()"
   ]
  },
  {
   "cell_type": "code",
   "execution_count": null,
   "metadata": {},
   "outputs": [
    {
     "name": "stdout",
     "output_type": "stream",
     "text": [
      "(x = y)\n",
      "(y = z)\n"
     ]
    },
    {
     "data": {
      "text/plain": [
       "Theorem(Eq(lhs=Fn(name='x', args=(), ty=a), rhs=Fn(name='z', args=(), ty=a)))"
      ]
     },
     "execution_count": 71,
     "metadata": {},
     "output_type": "execute_result"
    }
   ],
   "source": [
    "def declare_type(ty : Sort):\n",
    "    return f\"thf({ty.name}_decl,type,{ty}: $tType).\\n\"\n",
    "def declare_const(c : Term):\n",
    "    return f\"thf({c.name}_decl, type, {c.name} : {c.ty}).\\n\"\n",
    "import eprover\n",
    "class Theory(): ## ProofDB\n",
    "    def __init__(self):\n",
    "        self.__proofdb = []\n",
    "        self.sig = {} # definitions?\n",
    "        self.types = {}\n",
    "    def last_theorem(self):\n",
    "        return Theorem(len(self.__proofdb) - 1, self)\n",
    "    def assume(self, t : Formula):\n",
    "        assert isinstance(t, Formula)\n",
    "        self.__proofdb.append((t, \"assume\"))\n",
    "        return self.last_theorem()\n",
    "    def infer(self, conc: Formula, by=[], timeout=1.0, save_proof=False):\n",
    "        # could be neat to make hyps optional and just toss proof_db to the solver if hyps=None\n",
    "        hyps = by\n",
    "        assert all(isinstance(hyp, Theorem) and hyp.proofdb == self for hyp in hyps)\n",
    "        assert isinstance(conc, Formula)\n",
    "        with open(\"/tmp/myfile.p\", \"w\") as f:\n",
    "            for typ in self.types.values():\n",
    "                f.write(declare_type(typ))\n",
    "            for const in self.sig.values():\n",
    "                f.write(declare_const(const))\n",
    "            for hyp in hyps:\n",
    "                print(hyp.thf())\n",
    "                f.write(f\"thf(thm{hyp.index},axiom, {hyp.thf()}).\\n\")\n",
    "            f.write(f\"thf(goal, conjecture, {conc.thf()}).\\n\")\n",
    "        res = eprover.run( [\"/tmp/myfile.p\"], timeout=timeout, capture_output=True)\n",
    "        if \"SZS status Theorem\" not in res.stdout.decode(\"utf-8\"):\n",
    "            raise Exception(f\"Proof failed \\n{hyps}\\n----------------(eprover)\\n{conc}\\n\", res.stdout.decode(\"utf-8\"), res.stderr.decode(\"utf-8\")) \n",
    "        if save_proof:\n",
    "            self.__proofdb.append((conc, (\"infer\", hyps, res.stdout)))\n",
    "        else:   \n",
    "            self.__proofdb.append((conc, (\"infer\", hyps)))\n",
    "        return self.last_theorem()\n",
    "    def __getitem__(self, key):\n",
    "        return self.__proofdb[key]\n",
    "    def make_type(self,name):\n",
    "        t = TConst(name)\n",
    "        self.types[name] = t\n",
    "        return t\n",
    "    def make_const(self,name,ty):\n",
    "        c = Const(name,ty)\n",
    "        self.sig[name] = c\n",
    "        return c\n",
    "# It isn't persay such an issue that theorem's constructor is not protected because the proof db holds the only reference.\n",
    "@dataclass(frozen=True)\n",
    "class Theorem():\n",
    "    index: int\n",
    "    proofdb: Theory\n",
    "    def formula(self):\n",
    "        return self.proofdb[self.index][0]\n",
    "    def cnf(self):\n",
    "        return self.formula().cnf()\n",
    "    def thf(self):\n",
    "        return self.formula().thf()\n",
    "    def __repr__(self):\n",
    "        return f\"Theorem({self.formula()})\"\n",
    "    \n",
    "\n",
    "\n",
    "t = Theory()\n",
    "a = t.make_type(\"a\")\n",
    "x = t.make_const(\"x\", a)\n",
    "y = t.make_const(\"y\", a)\n",
    "z = t.make_const(\"z\", a)\n",
    "#x == y\n",
    "p = t.assume(x == y)\n",
    "q = t.assume(y == z)\n",
    "t.infer(x == z, by=[p,q])"
   ]
  },
  {
   "cell_type": "markdown",
   "metadata": {},
   "source": []
  },
  {
   "cell_type": "markdown",
   "metadata": {},
   "source": [
    "https://tptp.org/Seminars/TPTPWorldTutorial/LogicTHF.html"
   ]
  },
  {
   "cell_type": "code",
   "execution_count": null,
   "metadata": {},
   "outputs": [],
   "source": [
    "types = [\n",
    "    TConst(\"a\")\n",
    "]\n",
    "\n",
    "\n",
    "\n",
    "\n",
    "\n"
   ]
  },
  {
   "cell_type": "code",
   "execution_count": null,
   "metadata": {},
   "outputs": [
    {
     "name": "stdout",
     "output_type": "stream",
     "text": [
      "Writing /tmp/test.p\n"
     ]
    }
   ],
   "source": [
    "%%file /tmp/test.p\n",
    "%------------------------------------------------------------------------------\n",
    "thf(beverage_decl,type,beverage: $tType).\n",
    "thf(syrup_decl,type,syrup: $tType).\n",
    "thf(coffee_decl,type,coffee: beverage).\n",
    "thf(mix_decl,type,mix: beverage > syrup > beverage).\n",
    "thf(heat_decl,type,heat: beverage > beverage ).\n",
    "thf(heated_mix_decl,type,heated_mix: beverage > syrup > beverage).\n",
    "thf(hot_decl,type,hot: beverage > $o).\n",
    "\n",
    "thf(heated_mix,axiom,\n",
    "    heated_mix = ( ^ [B: beverage,S :syrup] : ( heat @ ( mix @ B @ S ))) ).\n",
    "\n",
    "thf(hot_mixture,axiom,\n",
    "    ! [B: beverage,S: syrup] : ( hot @ ( heated_mix @ B @ S ) ) ).\n",
    "\n",
    "thf(heated_coffee_mix,axiom,\n",
    "    ! [S: syrup] : ( ( heated_mix @ coffee @ S ) = coffee ) ).\n",
    "\n",
    "thf(hot_coffee,conjecture,\n",
    "    ? [Mixture: syrup > beverage] :\n",
    "    ! [S: syrup] :\n",
    "        ( ( ( Mixture @ S ) = coffee )\n",
    "        & ( hot @ ( Mixture @ S ) ) ) )."
   ]
  },
  {
   "cell_type": "code",
   "execution_count": null,
   "metadata": {},
   "outputs": [
    {
     "name": "stdout",
     "output_type": "stream",
     "text": [
      "% Running in auto input_syntax mode. Trying TPTP\n",
      "User error: This version of Vampire is not yet HOLy.\n",
      "\n",
      "Support for higher-order logic is currently on the ahmed-new-hol branch.\n",
      "HOL should be coming to mainline 'soon'.\n"
     ]
    }
   ],
   "source": [
    "!vampire /tmp/test.p"
   ]
  },
  {
   "cell_type": "code",
   "execution_count": null,
   "metadata": {},
   "outputs": [
    {
     "name": "stdout",
     "output_type": "stream",
     "text": [
      "# done 4 iterations in 0.005s\n",
      "# SZS status Theorem for '/tmp/test.p'\n",
      "# SZS output start Refutation\n",
      "\u001b[32;1m*\u001b[0m assert [file \"/tmp/test.p\" \"heated_coffee_mix\"]\n",
      "    ∀ S/54:syrup. ((heated_mix coffee S/54) = coffee). by\n",
      "  'heated_coffee_mix' in '/tmp/test.p'\n",
      "\u001b[32;1m*\u001b[0m forall (X0:syrup). heated_mix coffee X0 = coffee(2) by\n",
      "  esa 'cnf'\n",
      "    with assert [file \"/tmp/test.p\" \"heated_coffee_mix\"]\n",
      "           ∀ S/54:syrup. ((heated_mix coffee S/54) = coffee).\n",
      "\u001b[32;1m*\u001b[0m goal [file \"/tmp/test.p\" \"hot_coffee\"]\n",
      "    ∃ Mixture/55:(syrup → beverage).\n",
      "      (∀ S/56:syrup.\n",
      "         ((hot (Mixture/55 S/56)) ∧ ((Mixture/55 S/56) = coffee))). by\n",
      "  goal 'hot_coffee' in '/tmp/test.p'\n",
      "\u001b[32;1m*\u001b[0m negated_goal\n",
      "    ¬ (∃ Mixture/55:(syrup → beverage).\n",
      "          (∀ S/56:syrup.\n",
      "             ((hot (Mixture/55 S/56)) ∧ ((Mixture/55 S/56) = coffee))))\n",
      "    # skolems: []. by\n",
      "  esa 'cnf.neg'\n",
      "    with goal [file \"/tmp/test.p\" \"hot_coffee\"]\n",
      "           ∃ Mixture/55:(syrup → beverage).\n",
      "             (∀ S/56:syrup.\n",
      "                ((hot (Mixture/55 S/56)) ∧ ((Mixture/55 S/56) = coffee))).\n",
      "\u001b[32;1m*\u001b[0m forall (F0:syrup → beverage).\n",
      "  [¬hot (F0 (sk_ F0)) ∨ F0 (sk_ F0) ≠ coffee](3) by\n",
      "  esa 'cnf'\n",
      "    with negated_goal\n",
      "           ¬ (∃ Mixture/55:(syrup → beverage).\n",
      "                 (∀ S/56:syrup.\n",
      "                    ((hot (Mixture/55 S/56)) ∧ ((Mixture/55 S/56) = coffee))))\n",
      "           # skolems: [].\n",
      "\u001b[32;1m*\u001b[0m [¬hot coffee ∨ coffee ≠ coffee](6) by\n",
      "  inf 's_sup-'\n",
      "    with forall (X0:syrup). heated_mix coffee X0 = coffee(2), \n",
      "         forall (F0:syrup → beverage).\n",
      "         [¬hot (F0 (sk_ F0)) ∨ F0 (sk_ F0) ≠ coffee](3)\n",
      "\u001b[32;1m*\u001b[0m forall (X0:syrup). heated_mix coffee X0 = coffee(2) by\n",
      "  esa 'cnf'\n",
      "    with assert [file \"/tmp/test.p\" \"heated_coffee_mix\"]\n",
      "           ∀ S/54:syrup. ((heated_mix coffee S/54) = coffee).\n",
      "\u001b[32;1m*\u001b[0m assert [file \"/tmp/test.p\" \"hot_mixture\"]\n",
      "    ∀ B/52:beverage S/53:syrup. (hot (heated_mix B/52 S/53)). by\n",
      "  'hot_mixture' in '/tmp/test.p'\n",
      "\u001b[32;1m*\u001b[0m forall (X0:beverage) (X1:syrup). hot (heated_mix X0 X1)(1) by\n",
      "  esa 'cnf'\n",
      "    with assert [file \"/tmp/test.p\" \"hot_mixture\"]\n",
      "           ∀ B/52:beverage S/53:syrup. (hot (heated_mix B/52 S/53)).\n",
      "\u001b[32;1m*\u001b[0m hot coffee(4) by\n",
      "  inf 's_sup+'\n",
      "    with forall (X0:syrup). heated_mix coffee X0 = coffee(2), \n",
      "         forall (X0:beverage) (X1:syrup). hot (heated_mix X0 X1)(1)\n",
      "\u001b[32;1m*\u001b[0m coffee ≠ coffee(7) by\n",
      "  simp 'demod' with [¬hot coffee ∨ coffee ≠ coffee](6), hot coffee(4)\n",
      "\u001b[32;1m*\u001b[0m ⊥(8) by simp 'simplify' with coffee ≠ coffee(7)\n",
      "\n",
      "# SZS output end Refutation\n"
     ]
    }
   ],
   "source": [
    "!zipperposition /tmp/test.p"
   ]
  },
  {
   "cell_type": "markdown",
   "metadata": {},
   "source": [
    "Wow. tyhat neither of these work is not encouraging.\n",
    "\n",
    "Changing the name of ProofDb to Theory is interesting.\n",
    "Theory combinators (maude)\n",
    "PVS\n",
    "\n",
    "\n"
   ]
  },
  {
   "cell_type": "markdown",
   "metadata": {},
   "source": [
    "https://plato.stanford.edu/entries/type-theory-church/\n",
    "LEO II III https://page.mi.fu-berlin.de/cbenzmueller/leo/ https://github.com/leoprover/Leo-III\n",
    "Satallax https://satallaxprover.org/\n",
    "Lash https://arxiv.org/abs/2205.06640 satallax sequel? http://grid01.ciirc.cvut.cz/~chad/lash/\n",
    "\n",
    "TPS adnrews. etps"
   ]
  }
 ],
 "metadata": {
  "kernelspec": {
   "display_name": "Python 3",
   "language": "python",
   "name": "python3"
  },
  "language_info": {
   "codemirror_mode": {
    "name": "ipython",
    "version": 3
   },
   "file_extension": ".py",
   "mimetype": "text/x-python",
   "name": "python",
   "nbconvert_exporter": "python",
   "pygments_lexer": "ipython3",
   "version": "3.10.12"
  }
 },
 "nbformat": 4,
 "nbformat_minor": 2
}
