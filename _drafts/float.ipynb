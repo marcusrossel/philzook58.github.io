{
 "cells": [
  {
   "cell_type": "code",
   "execution_count": null,
   "metadata": {},
   "outputs": [],
   "source": []
  },
  {
   "cell_type": "markdown",
   "metadata": {},
   "source": [
    "\n",
    "error models\n",
    "https://pavpanchekha.com/blog/epsilon-delta.html\n",
    "Eva https://malyzajko.github.io/\n",
    "\n",
    "\n",
    "Mini herbie using z3 egraph\n",
    "Direct lambdify to numpy\n",
    "\n",
    "numpy based axiom validation.\n",
    "\n",
    "\n",
    "\n",
    "derive bounds using z3 optimize or a branching procedure. We don't need the _tightest_ bounds."
   ]
  },
  {
   "cell_type": "code",
   "execution_count": 23,
   "metadata": {},
   "outputs": [
    {
     "data": {
      "text/html": [
       "&#8870;val(add(add(a, b), c)) - (val(a) + val(b) + val(c)) <= 1/5"
      ],
      "text/plain": [
       "|- val(add(add(a, b), c)) - (val(a) + val(b) + val(c)) <= 1/5"
      ]
     },
     "execution_count": 23,
     "metadata": {},
     "output_type": "execute_result"
    }
   ],
   "source": [
    "import knuckledragger as kd\n",
    "import knuckledragger.theories.Real as R\n",
    "\n",
    "import numpy as np\n",
    "\n",
    "#rnd = kd.smt.Function(\"rnd\", kd.R, kd.R, kd.R) #fixed point rounding\n",
    "#kd.axiom(kd.smt.ForAll([x, y], R.abs(rnd(x, y) - x) <= y)) # This is the important axiom to derive from\n",
    "\n",
    "def Fixed(eps):\n",
    "    F = kd.Record(f\"Fixed_{eps}\", (\"val\", kd.R ))\n",
    "    x,y,z = kd.smt.Consts(\"x y z\", F)\n",
    "    a,b,c = kd.smt.Consts(\"a b c\", kd.R)\n",
    "    rnd = kd.smt.Function(f\"rnd_{eps}\", kd.R, F)\n",
    "    #F.wf = rnd(x).val == x.val # hmm.\n",
    "    F.rnd = rnd\n",
    "    # F.rnd = kd.define(\"rnd\", [x], F.mk(R.floor(x / eps) * eps))\n",
    "    F.rnd_defn = kd.axiom(kd.smt.ForAll([a], R.abs(rnd(a).val - a) <= eps))\n",
    "    # F.rnd_bnd = kd.axiom(kd.smt.ForAll([x, y], smt.And(eps <= rnd(x).val - x,  rnd(x).val - x.val <= eps))\n",
    "    # probably not as important\n",
    "    #F.rnd_idem = kd.axiom(kd.smt.ForAll([x, y], rnd(rnd(x).val).val == x))\n",
    "    F.add = kd.notation.add.define([x,y], rnd(x.val + y.val))\n",
    "    kd.notation.mul.define([x,y], rnd(x.val * y.val))\n",
    "    kd.notation.sub.define([x,y], rnd(x.val - y.val))\n",
    "    kd.notation.div.define([x,y], rnd(x.val / y.val))\n",
    "    F.fma = kd.define(\"fma\", [x,y,z], rnd(x.val * y.val + z.val))\n",
    "    return F\n",
    "    \n",
    "\n",
    "F = Fixed(0.1)\n",
    "\n",
    "\n",
    "a,b,c = kd.smt.Consts(\"a b c\", F)\n",
    "\n",
    "def mycalc(a,b,c):\n",
    "    return a + b + c\n",
    "\n",
    "\n",
    "kd.lemma(mycalc(a,b,c).val - mycalc(a.val, b.val, c.val) <= 0.2, by=[F.rnd_defn, F.add.defn, R.abs.defn])\n",
    "# How to atudoderive 0.2?\n",
    "# just use gappa or similar?\n",
    "# traverse expression to find intermiedtae bounds.\n",
    "def auto_bnd(x, guess=None):\n",
    "    bnd = 2**10\n",
    "    trykd.lemma(x <= bnd,  by=[F.rnd_defn, F.add.defn, R.abs.defn])\n",
    "\n",
    "\n",
    "\n"
   ]
  },
  {
   "cell_type": "code",
   "execution_count": null,
   "metadata": {},
   "outputs": [],
   "source": [
    "\n",
    "expF = kd.define(\"expF\", [x], kd.exp(x.val))\n",
    "\n",
    "\n",
    "# JUST work with lagrange remainder form\n",
    "exp_approx = kd.axiom(exp(x) - (1 + x + x**2 / 2 + x**3 / 3) <= exp(x) * x**4 / 4)\n",
    "\n",
    "# can I iterate this to arbitrary accuracy?\n",
    "exp_approx = kd.axiom(exp(x) <= 1 + exp(x) * x) # lagrange form uppper boudn.\n",
    "exp_lower = kd.axiom(exp(x) >= 1 + x) # lagrange form f' = exp(x) >= 1 is x >= 0. Turns out the always be true via\n",
    "\n",
    "exp = kd.axiom(exp(x) == 1 + exp(eps) * x), 0 <= eps <= x\n",
    "exp = kd.axiom(exp(x) == 1 + (1 + exp(eps2) * eps) * x ),  0 <= eps2 <= eps <= x\n",
    "\n",
    "# we need to find the remainder point. Or have an pproximation scheme to it.\n",
    "eps ~ (exp(x) - 1 - x) / (x  * exp(eps2)) \n",
    "\n",
    "# some kind of guess of eps(x) would help.\n",
    "exp(x) >= 0\n",
    "exp(eps) >= 1 # becasue eps >= 0\n",
    "1 + x + x**2 +  = 1 / 1 - x\n",
    "\n",
    "# exp(x) <= (1 + x) / (1 + x**2/2)? Huh \n",
    "\n",
    "# finite integration\n",
    "exp(x) = exp(x/2) + exp(eps) (x  - x/2)\n",
    "exp(x/2) = exp(0) + exp(eps1) (x/2 - 0)\n",
    "exp(x) = exp(0) + exp(eps1) (x/2) + exp(eps) (x/2) , 0 <= eps1 <= x/2 <= eps <= x\n",
    "\n",
    "# tube\n",
    "\n",
    "pow2(x) <= exp(x) <= pow2(x+1) # 2^x <= e^x <= 4^x aka 2 <= e <= 4\n",
    "\n",
    "And(Implies( box(x,0,1), box(exp(x), 1, )))\n",
    "\n",
    "\n",
    "# we're asying it obeys an integral eqaution. But we havve to use a fixed point lemma like picard lindelof to show there is value\n",
    "# we've definied it but we need another principle to bootstrap an actual value.\n",
    "\n",
    "Implies( QForAll([x], 0 <= x <= 1, b <= exp(x) <= a),  d < exp(x) < c  )  \n",
    "\n",
    "\n",
    "(i1 -> i2) -> (i2 -> i3)\n",
    "\n",
    "\n",
    "bisect_f(I) = If( mid(i) <= exp())\n",
    "\n",
    "def box(l,x,u):\n",
    "    return And(l <= x, x <= u)\n",
    "\n",
    "sqrt(x) = sqrt(1) + \n",
    "\n",
    "ln(x) = ln(1) + 1 / eps * (x - 1), 1 <= eps <= x\n",
    "\n",
    "ln(1 - x) = ln(1 - x/2) + 1/ eps * (x/2)\n",
    "ln(1-x/2) = ln(1) + 1/eps1 * (x/2 - 1)\n",
    "\n",
    "eps * ln(1-x) = x  # exists 1 <= eps <= x st \n",
    "# 1 <= ln() <= x \n",
    "\n",
    "ln(1 - x) = \n",
    "\n",
    "# https://en.wikipedia.org/wiki/Inverse_function_theorem + mvt\n",
    "exp(x) = ln^-1(x) = exp(0) + ( 1 / exp(x) ) x # ???\n",
    "\n",
    "\n",
    "bisect_sqrt(x,a,b) = If((a + b / 2)**2 <= x, bisect_sqrt(x, a, (a + b) / 2), bisect_sqrt(x, (a + b) / 2, b))\n",
    "\n",
    "# watch out and propagate going out of bounds\n",
    "def Fixed2(eps, max):\n",
    "    F = Datatype(f\"Fixed_{eps}_{max}\")\n",
    "    F.declare(\"NaN\")\n",
    "    F.declare(\"Inf\")\n",
    "\n",
    "https://en.wikipedia.org/wiki/Banach_fixed-point_theorem\n",
    "Basically, geometric series bound on norm\n",
    "\n",
    "\n",
    "geom(x,n) = x**n\n",
    "\n",
    "\n"
   ]
  },
  {
   "cell_type": "markdown",
   "metadata": {},
   "source": []
  },
  {
   "cell_type": "markdown",
   "metadata": {},
   "source": [
    "# FPTalks\n"
   ]
  },
  {
   "cell_type": "markdown",
   "metadata": {},
   "source": [
    "https://colab.research.google.com/drive/1bqXS207E4IerbiXSTGKm1KIKAHyjCK50"
   ]
  },
  {
   "cell_type": "code",
   "execution_count": 2,
   "metadata": {},
   "outputs": [
    {
     "data": {
      "text/plain": [
       "1.1920929e-07"
      ]
     },
     "execution_count": 2,
     "metadata": {},
     "output_type": "execute_result"
    }
   ],
   "source": [
    "import numpy as np\n",
    "def ulp(func=np.float32):\n",
    "    u = func(1)\n",
    "    while func(1)+func(u) != func(1):\n",
    "        u_last = u\n",
    "        u = func(u) / func(2)\n",
    "    return u_last\n",
    "ulp32=ulp(np.float32)\n",
    "ulp32"
   ]
  },
  {
   "cell_type": "markdown",
   "metadata": {},
   "source": [
    "eva  - compiler for the reals\n",
    "\n",
    "nominal completion nd slotted egraphs\n",
    "f(e2(a), e3(a,b)) -> e1(a,b)\n",
    "\n",
    "op = 1+e) + d\n",
    "d for denormla\n",
    "\n",
    "posits\n",
    "\n",
    "x*x + y*y\n",
    "\n",
    "datflow - fatser\n",
    "daisy\n",
    "fluctuat\n",
    "\n",
    "optimzation - optimization\n",
    "fptaylor\n",
    "precisa\n",
    "\n",
    "non modular, no loops\n",
    "SAS modulao\n",
    "\n",
    "hugo tool.\n",
    "\n",
    "<https://github.com/soarlab/FPTaylor>\n",
    "<https://github.com/malyzajko/daisy>\n",
    "\n",
    "(Handbook of mathemtical functions)\n",
    "Kalmand filters\n",
    "\n",
    "heat equation loop\n",
    "\n",
    "satire tool and fluctat\n",
    "<https://github.com/arnabd88/Satire>\n",
    "\n",
    "<https://github.com/soarlab/gelpia>\n",
    "\n",
    "conditionals. are still tough\n",
    "\n",
    "a and b are *atoms*\n",
    "So we are 3 flat instead of 2 flat\n",
    "\n",
    "Propel talk diseaqlity forbid. Good chat with him.\n",
    "\n",
    "https://github.com/metalibm/metalibm\n",
    "\n",
    "https://gappa.gitlabpages.inria.fr/gappa/index.html"
   ]
  },
  {
   "cell_type": "code",
   "execution_count": 2,
   "metadata": {},
   "outputs": [
    {
     "name": "stdout",
     "output_type": "stream",
     "text": [
      "Writing /tmp/testgappa.g\n"
     ]
    }
   ],
   "source": [
    "%%file /tmp/testgappa.g\n",
    "{ x in [-2,2] -> x * x in ? }"
   ]
  },
  {
   "cell_type": "code",
   "execution_count": 6,
   "metadata": {},
   "outputs": [
    {
     "name": "stdout",
     "output_type": "stream",
     "text": [
      "Results:\n",
      "  x * x in [0, 4]\n",
      "Under the following hypotheses $$\\label{g1}\n",
      "\\left( \\left| \\mathit{x} \\right| \\le2 \\land \\neg\\left( \\mathit{x} \\times \\mathit{x} \\in [0,4] \\right) \\right),$$\n",
      "one can deduce the following properties: $$\\label{l2}\n",
      "\\neg\\left( \\mathit{x} \\times \\mathit{x} \\in [0,4] \\right)$$ by using\n",
      "([\\[g1\\]](#g1){reference-type=\"ref\" reference=\"g1\"}), and selecting a\n",
      "component. $$\\label{l5}\n",
      "\\left| \\mathit{x} \\right| \\le2$$ by using\n",
      "([\\[g1\\]](#g1){reference-type=\"ref\" reference=\"g1\"}), and selecting a\n",
      "component. $$\\label{l4}\n",
      "\\left| \\mathit{x} \\right| \\le 2$$ by using\n",
      "([\\[l5\\]](#l5){reference-type=\"ref\" reference=\"l5\"}), and theorem\n",
      "`abs_of_bnd_o`. $$\\label{l3}\n",
      "\\mathit{x} \\times \\mathit{x} \\in [0,4]$$ by using\n",
      "([\\[l4\\]](#l4){reference-type=\"ref\" reference=\"l4\"}), and theorem\n",
      "`square`. $$\\label{l1}\n",
      "\\bot$$ by using ([\\[l2\\]](#l2){reference-type=\"ref\" reference=\"l2\"}),\n",
      "([\\[l3\\]](#l3){reference-type=\"ref\" reference=\"l3\"}), and discarding\n",
      "contradictory literals.\n"
     ]
    }
   ],
   "source": [
    "! gappa -Blatex /tmp/testgappa.g | pandoc -f latex -t markdown"
   ]
  },
  {
   "cell_type": "code",
   "execution_count": null,
   "metadata": {},
   "outputs": [],
   "source": [
    "import subprocess\n",
    "def gappa(f):\n",
    "    \n"
   ]
  },
  {
   "cell_type": "code",
   "execution_count": null,
   "metadata": {},
   "outputs": [],
   "source": [
    "ex1 = \"\"\"{ x in [0,1] -> float<ieee_32,ne>(x * float<ieee_32,ne>(1 - x)) in ? }\"\"\"\n",
    "gappa(ex1)\n"
   ]
  }
 ],
 "metadata": {
  "kernelspec": {
   "display_name": "Python 3",
   "language": "python",
   "name": "python3"
  },
  "language_info": {
   "codemirror_mode": {
    "name": "ipython",
    "version": 3
   },
   "file_extension": ".py",
   "mimetype": "text/x-python",
   "name": "python",
   "nbconvert_exporter": "python",
   "pygments_lexer": "ipython3",
   "version": "3.10.12"
  }
 },
 "nbformat": 4,
 "nbformat_minor": 2
}
