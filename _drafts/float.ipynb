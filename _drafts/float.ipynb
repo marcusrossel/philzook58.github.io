{
 "cells": [
  {
   "cell_type": "code",
   "execution_count": null,
   "metadata": {},
   "outputs": [],
   "source": []
  },
  {
   "cell_type": "markdown",
   "metadata": {},
   "source": [
    "eva  - compiler for the reals\n",
    "\n",
    "nominal completion nd slotted egraphs\n",
    "f(e2(a), e3(a,b)) -> e1(a,b)\n",
    "\n",
    "op = 1+e) + d\n",
    "d for denormla\n",
    "\n",
    "posits\n",
    "\n",
    "x*x + y*y\n",
    "\n",
    "datflow - fatser\n",
    "daisy\n",
    "fluctuat\n",
    "\n",
    "optimzation - optimization\n",
    "fptaylor\n",
    "precisa\n",
    "\n",
    "non modular, no loops\n",
    "SAS modulao\n",
    "\n",
    "hugo tool.\n",
    "\n",
    "<https://github.com/soarlab/FPTaylor>\n",
    "<https://github.com/malyzajko/daisy>\n",
    "\n",
    "(Handbook of mathemtical functions)\n",
    "Kalmand filters\n",
    "\n",
    "heat equation loop\n",
    "\n",
    "satire tool and fluctat\n",
    "<https://github.com/arnabd88/Satire>\n",
    "\n",
    "<https://github.com/soarlab/gelpia>\n",
    "\n",
    "conditionals. are still tough\n",
    "\n",
    "a and b are *atoms*\n",
    "So we are 3 flat instead of 2 flat\n",
    "\n",
    "Propel talk diseaqlity forbid. Good chat with him.\n",
    "\n",
    "https://github.com/metalibm/metalibm\n",
    "\n",
    "https://gappa.gitlabpages.inria.fr/gappa/index.html"
   ]
  },
  {
   "cell_type": "code",
   "execution_count": 2,
   "metadata": {},
   "outputs": [
    {
     "name": "stdout",
     "output_type": "stream",
     "text": [
      "Writing /tmp/testgappa.g\n"
     ]
    }
   ],
   "source": [
    "%%file /tmp/testgappa.g\n",
    "{ x in [-2,2] -> x * x in ? }"
   ]
  },
  {
   "cell_type": "code",
   "execution_count": 6,
   "metadata": {},
   "outputs": [
    {
     "name": "stdout",
     "output_type": "stream",
     "text": [
      "Results:\n",
      "  x * x in [0, 4]\n",
      "Under the following hypotheses $$\\label{g1}\n",
      "\\left( \\left| \\mathit{x} \\right| \\le2 \\land \\neg\\left( \\mathit{x} \\times \\mathit{x} \\in [0,4] \\right) \\right),$$\n",
      "one can deduce the following properties: $$\\label{l2}\n",
      "\\neg\\left( \\mathit{x} \\times \\mathit{x} \\in [0,4] \\right)$$ by using\n",
      "([\\[g1\\]](#g1){reference-type=\"ref\" reference=\"g1\"}), and selecting a\n",
      "component. $$\\label{l5}\n",
      "\\left| \\mathit{x} \\right| \\le2$$ by using\n",
      "([\\[g1\\]](#g1){reference-type=\"ref\" reference=\"g1\"}), and selecting a\n",
      "component. $$\\label{l4}\n",
      "\\left| \\mathit{x} \\right| \\le 2$$ by using\n",
      "([\\[l5\\]](#l5){reference-type=\"ref\" reference=\"l5\"}), and theorem\n",
      "`abs_of_bnd_o`. $$\\label{l3}\n",
      "\\mathit{x} \\times \\mathit{x} \\in [0,4]$$ by using\n",
      "([\\[l4\\]](#l4){reference-type=\"ref\" reference=\"l4\"}), and theorem\n",
      "`square`. $$\\label{l1}\n",
      "\\bot$$ by using ([\\[l2\\]](#l2){reference-type=\"ref\" reference=\"l2\"}),\n",
      "([\\[l3\\]](#l3){reference-type=\"ref\" reference=\"l3\"}), and discarding\n",
      "contradictory literals.\n"
     ]
    }
   ],
   "source": [
    "! gappa -Blatex /tmp/testgappa.g | pandoc -f latex -t markdown"
   ]
  },
  {
   "cell_type": "code",
   "execution_count": null,
   "metadata": {},
   "outputs": [],
   "source": [
    "import subprocess\n",
    "def gappa(f):\n",
    "    \n"
   ]
  },
  {
   "cell_type": "code",
   "execution_count": null,
   "metadata": {},
   "outputs": [],
   "source": [
    "ex1 = \"\"\"{ x in [0,1] -> float<ieee_32,ne>(x * float<ieee_32,ne>(1 - x)) in ? }\"\"\"\n",
    "gappa(ex1)\n"
   ]
  }
 ],
 "metadata": {
  "kernelspec": {
   "display_name": "Python 3",
   "language": "python",
   "name": "python3"
  },
  "language_info": {
   "codemirror_mode": {
    "name": "ipython",
    "version": 3
   },
   "file_extension": ".py",
   "mimetype": "text/x-python",
   "name": "python",
   "nbconvert_exporter": "python",
   "pygments_lexer": "ipython3",
   "version": "3.10.12"
  }
 },
 "nbformat": 4,
 "nbformat_minor": 2
}
