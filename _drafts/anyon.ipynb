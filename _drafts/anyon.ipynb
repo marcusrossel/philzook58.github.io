{
 "cells": [
  {
   "cell_type": "code",
   "execution_count": null,
   "metadata": {},
   "outputs": [],
   "source": []
  },
  {
   "cell_type": "markdown",
   "metadata": {},
   "source": [
    "https://arxiv.org/abs/2212.00831 Quantum computing with anyons: an F-matrix and braid calculator - sage\n",
    "\n",
    "bonderson\n",
    "methametica pakcage\n",
    "my blog posts\n",
    "quasiparticle wavefunctions - numerical braiding?\n",
    "\n",
    "poreskill notes\n",
    "kitaev\n",
    "\n"
   ]
  },
  {
   "cell_type": "markdown",
   "metadata": {},
   "source": [
    "Hopf algerba\n",
    "https://www.youtube.com/watch?v=RQ2Fucd7wDk&t=2961s&ab_channel=CIMPAUCR Charla: Hopf algebras: History, achievements and problems. Ph. D. Yorck Sommerhäuser\n",
    "https://www.youtube.com/watch?v=QaoFnvc6ciw&ab_channel=BanachCenter he Ubiquity of Hopf Algebras\n",
    "\n",
    "Linear sums of group elements\n",
    "\n",
    "A hopf algerba of sets of trees for combinatorics? That seems concrete and fun.\n",
    "Useful somehow for feynman diagrams. Connes-kreimer\n",
    "Federico https://fardila.com/teaching.html \n",
    "\n",
    "https://www2.mathematik.hu-berlin.de/~kreimer/wp-content/uploads/Foissy.pdf An introduction to Hopf algebras of trees\n",
    " \n",
    "rooted tree = multiset of multisets\n",
    "\n",
    "\n",
    "I bet knuth's book has more fun stuff. Actually doing the algebra with the objects in question\n",
    "\n",
    "What does coalgebra in the automata/category sense have to do with the \"algebra with coproduct\" sense?\n",
    "\n",
    "\n",
    "C*-algerba\n",
    "Kac-Moody Algerba\n",
    "\n",
    "Bosonization\n",
    "\n",
    "\n",
    "https://docs.sympy.org/latest/modules/utilities/iterables.html\n",
    "\n",
    "Combinatorics. There we some fun microcanonical examples or stat mech expansions?\n",
    "Feynamn diagrams"
   ]
  },
  {
   "cell_type": "code",
   "execution_count": null,
   "metadata": {},
   "outputs": [],
   "source": [
    "# https://en.wikipedia.org/wiki/Integer_partition\n",
    "def T(n):\n",
    "    \"\"\" set of trees of weight n\"\"\"\n",
    "    if n == 1:\n",
    "        return set(())\n",
    "    else:\n",
    "        set(sorted(tuple(T(n) for n in partition)) for partition in partitions(n-1))\n",
    "\n",
    "def cuts(t):"
   ]
  }
 ],
 "metadata": {
  "language_info": {
   "name": "python"
  }
 },
 "nbformat": 4,
 "nbformat_minor": 2
}
