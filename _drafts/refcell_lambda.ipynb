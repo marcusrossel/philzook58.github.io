{
 "cells": [
  {
   "cell_type": "code",
   "execution_count": null,
   "metadata": {},
   "outputs": [],
   "source": []
  },
  {
   "cell_type": "markdown",
   "metadata": {},
   "source": [
    "An interesting idea is a ref cell lambda. This is very natural in prolog or otherwise.\n",
    "\n",
    "\n",
    "You can use a variable more than once, but you can't use a lambda more than once without copying it.\n",
    "\n",
    "When should you copy the ref-cell lambda?\n",
    "\n",
    "Rust version? Would require lifetimes to of the labda to propagate down. Sounds rather hard."
   ]
  },
  {
   "cell_type": "code",
   "execution_count": null,
   "metadata": {},
   "outputs": [],
   "source": [
    "% prolog\n",
    "lam(X,app(X,X))\n",
    "\n"
   ]
  },
  {
   "cell_type": "code",
   "execution_count": 4,
   "metadata": {},
   "outputs": [
    {
     "data": {
      "text/plain": [
       "Lambda(bound=None, body=('app', Var(ref=...), Var(ref=...)))"
      ]
     },
     "execution_count": 4,
     "metadata": {},
     "output_type": "execute_result"
    }
   ],
   "source": [
    "from dataclasses import dataclass\n",
    "@dataclass\n",
    "class Lambda():\n",
    "    bound: object\n",
    "    body: object\n",
    "    # copy = when a I copy, hold refernece to copy of the lambda. When we hit the Var, we can make a copy that forwards. Cheney List Copy?\n",
    "\n",
    "@dataclass\n",
    "class Var():\n",
    "    # name: str # optional just for pretty printing\n",
    "    ref: Lambda # The binding site of this variable.\n",
    "\n",
    "# knot tying\n",
    "\n",
    "x = Var(Lambda(None, None))\n",
    "l = x.ref\n",
    "l.body = (\"app\", x, x)\n",
    "\n",
    "# Huh. It's smart enough to \n",
    "\n",
    "def app(f, x):\n",
    "    f1 = f.copy()\n",
    "    f1.bound = x \n",
    "\n",
    "\n",
    "\n",
    "\n"
   ]
  }
 ],
 "metadata": {
  "kernelspec": {
   "display_name": "Python 3",
   "language": "python",
   "name": "python3"
  },
  "language_info": {
   "codemirror_mode": {
    "name": "ipython",
    "version": 3
   },
   "file_extension": ".py",
   "mimetype": "text/x-python",
   "name": "python",
   "nbconvert_exporter": "python",
   "pygments_lexer": "ipython3",
   "version": "3.10.12"
  }
 },
 "nbformat": 4,
 "nbformat_minor": 2
}
