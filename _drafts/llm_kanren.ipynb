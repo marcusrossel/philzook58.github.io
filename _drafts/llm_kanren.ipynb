{
 "cells": [
  {
   "cell_type": "code",
   "execution_count": 1,
   "metadata": {},
   "outputs": [],
   "source": [
    "import llm\n",
    "\n",
    "\n",
    "# llm datalog?\n",
    "\n",
    "# use llm to auto build descriptor?\n",
    "def auto_desc(state):\n",
    "    \n",
    "\n",
    "\n",
    "def conj( *args , desc=None):\n",
    "    def res(state):\n",
    "        for a in args:\n",
    "            for state in a(state):\n",
    "                \n",
    "        return state\n",
    "    return res\n",
    "def disj(*args ): \n",
    "\n",
    "\n"
   ]
  },
  {
   "cell_type": "markdown",
   "metadata": {},
   "source": [
    "The idea of minikanren is that search is modellable as\n",
    "`state -> list state`\n",
    "\n",
    "\n",
    "state is a list of descriptions\n",
    "we could have an automatic description generator as a default\n",
    "\n",
    "\n",
    "We could also probably throw some RL-iness on there. We're doing tree search, so we could have the llm \n",
    "\n",
    "\n",
    "\"What clues would you use to do it faster next time?\"\n",
    "\n",
    "Choices:\n",
    "1. abort\n",
    "2. choice 1\n",
    "3. choice 2\n",
    "\n",
    "https://news.ycombinator.com/item?id=39479478 A* boosting. \"searchformer\"\n",
    "Feed the llm the trace, not just the state.\n",
    "\n",
    "Kind of need a compelling problem. That's tough? Why should that be tough?\n",
    "\n",
    "neural kanren https://github.com/xuexue/neuralkanren\n"
   ]
  },
  {
   "cell_type": "code",
   "execution_count": null,
   "metadata": {},
   "outputs": [],
   "source": [
    "def conj(cost_heuristic=None):\n",
    "def disj(cost_heuristic=None):"
   ]
  },
  {
   "cell_type": "code",
   "execution_count": null,
   "metadata": {},
   "outputs": [],
   "source": [
    "# basic minikanren\n",
    "# ignore the unification stuff. Who cares.\n",
    "def conj(a,b):\n",
    "    def res(state0):\n",
    "        for state1 in a(state0):\n",
    "            for state2 in b(state1):\n",
    "                yield state2\n",
    "    return res\n",
    "\n",
    "def disj(a,b):\n",
    "    def res(state0): # unfair interleaving\n",
    "        for state in a(state0):\n",
    "            yield state\n",
    "        for state in b(state0):\n",
    "            yield state\n",
    "    return res\n"
   ]
  },
  {
   "cell_type": "code",
   "execution_count": null,
   "metadata": {},
   "outputs": [],
   "source": [
    "# depth limitted search.\n",
    "def disj_depth(a,b,N=10):\n",
    "    def res(state0):\n",
    "        if state0.depth > N:\n",
    "            return\n",
    "        state0.depth += 1 \n",
    "        for state in a(state0):\n",
    "            yield state\n",
    "        for state in b(state0):\n",
    "            yield state\n",
    "    return res"
   ]
  },
  {
   "cell_type": "code",
   "execution_count": null,
   "metadata": {},
   "outputs": [],
   "source": [
    "{score: (state, expand)} # min heap \n",
    "conj : state -> [(score, state)]\n",
    "disj : \n",
    "# take a look at the first orderized minikanren\n",
    "\n"
   ]
  }
 ],
 "metadata": {
  "kernelspec": {
   "display_name": "Python 3",
   "language": "python",
   "name": "python3"
  },
  "language_info": {
   "codemirror_mode": {
    "name": "ipython",
    "version": 3
   },
   "file_extension": ".py",
   "mimetype": "text/x-python",
   "name": "python",
   "nbconvert_exporter": "python",
   "pygments_lexer": "ipython3",
   "version": "3.10.12"
  }
 },
 "nbformat": 4,
 "nbformat_minor": 2
}
