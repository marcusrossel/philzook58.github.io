{
 "cells": [
  {
   "cell_type": "code",
   "execution_count": 1,
   "metadata": {},
   "outputs": [],
   "source": [
    "import llm\n",
    "\n",
    "\n",
    "# llm datalog?\n",
    "\n",
    "# use llm to auto build descriptor?\n",
    "def auto_desc(state):\n",
    "    \n",
    "\n",
    "\n",
    "def conj( *args , desc=None):\n",
    "    def res(state):\n",
    "        for a in args:\n",
    "            for state in a(state):\n",
    "                \n",
    "        return state\n",
    "    return res\n",
    "def disj(*args ): \n",
    "\n",
    "\n"
   ]
  },
  {
   "cell_type": "markdown",
   "metadata": {},
   "source": [
    "The idea of minikanren is that search is modellable as\n",
    "`state -> list state`\n",
    "\n",
    "\n",
    "state is a list of descriptions\n",
    "we could have an automatic description generator as a default\n",
    "\n",
    "\n",
    "We could also probably throw some RL-iness on there. We're doing tree search, so we could have the llm \n",
    "\n",
    "\n",
    "\"What clues would you use to do it faster next time?\"\n",
    "\n",
    "Choices:\n",
    "1. abort\n",
    "2. choice 1\n",
    "3. choice 2\n",
    "\n",
    "\n"
   ]
  }
 ],
 "metadata": {
  "kernelspec": {
   "display_name": "Python 3",
   "language": "python",
   "name": "python3"
  },
  "language_info": {
   "codemirror_mode": {
    "name": "ipython",
    "version": 3
   },
   "file_extension": ".py",
   "mimetype": "text/x-python",
   "name": "python",
   "nbconvert_exporter": "python",
   "pygments_lexer": "ipython3",
   "version": "3.10.12"
  }
 },
 "nbformat": 4,
 "nbformat_minor": 2
}
