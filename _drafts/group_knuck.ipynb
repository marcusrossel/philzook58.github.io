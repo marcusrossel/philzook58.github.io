{
 "cells": [
  {
   "cell_type": "code",
   "execution_count": 1,
   "metadata": {},
   "outputs": [],
   "source": [
    "from z3 import *\n",
    "def lemma(thm, by=[], admit=False):\n",
    "    if admit:\n",
    "        print(\"  Admitted.\", thm)\n",
    "    else:\n",
    "        prove(Implies(And(by), thm))\n",
    "    return thm\n",
    "B = BoolSort()\n",
    "BoolRef.__and__ = lambda self, other: And(self, other)"
   ]
  },
  {
   "cell_type": "markdown",
   "metadata": {},
   "source": [
    "- Subgroup\n",
    "- Quotient Group\n",
    "- Lagrange's theorem\n",
    "- Homomorphisms https://en.wikipedia.org/wiki/Group_homomorphism\n",
    "- isomorphism theorems https://en.wikipedia.org/wiki/Isomorphism_theorems\n",
    "- Particular groups - permutations?\n",
    "\n",
    "\n",
    "Dummit and foote\n",
    "visual group theory\n",
    "rotman\n",
    "aluffi chaptter 0\n",
    "\n",
    "\n"
   ]
  },
  {
   "cell_type": "code",
   "execution_count": null,
   "metadata": {},
   "outputs": [],
   "source": [
    "G = DeclareSort(\"G\")\n",
    "mul = Function(\"mul\", G, G, G)\n",
    "inv = Function(\"inv\", G, G)\n",
    "ExprRef.__mul__ = lambda self, other: mul(self, other)\n",
    "e = Const(\"e\", G)\n",
    "\n",
    "x,y,z = Consts(\"x y z\", G)\n",
    "\n",
    "g_assoc = ForAll([x, y, z], (x * y) * z == x * (y * z))\n",
    "g_right_id = ForAll([x], x * e == x)\n",
    "g_right_inv = ForAll([x], x * inv(x) == e)\n",
    "\n",
    "\n",
    "\n",
    "\n"
   ]
  },
  {
   "cell_type": "code",
   "execution_count": null,
   "metadata": {},
   "outputs": [],
   "source": [
    "GSet = ArraySort(G, BoolSort())\n",
    "H,K = Consts(\"H K\", GSet)\n",
    "subgroup = Function(\"subgroup\", GSet, B)\n",
    "subgroup_def = ForAll([H], subgroup(H) == ForAll([x, y], Implies(H[x] & H[y], \n",
    "                                                                 H[inv(x)] & H[x * y])))\n",
    "\n",
    "left_coset = Function(\"left_coset\", GSet, GSet)\n",
    "left_coset_def = ForAll([H], coset(H) == Lambda([x], Exists([y,z], H[y] & x == y * z )))\n"
   ]
  }
 ],
 "metadata": {
  "language_info": {
   "name": "python"
  }
 },
 "nbformat": 4,
 "nbformat_minor": 2
}
