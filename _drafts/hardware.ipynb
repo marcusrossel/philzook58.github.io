{
 "cells": [
  {
   "cell_type": "code",
   "execution_count": null,
   "metadata": {},
   "outputs": [],
   "source": []
  },
  {
   "cell_type": "markdown",
   "metadata": {},
   "source": [
    "Lakeroad / sam coward things\n",
    "It is an interesting and possibly noble endeavor to try and make open hardware / fpga compiling as good as open software\n",
    "\n",
    "Get out some intermediate rwepresentation from yosys.\n",
    "Emulate stuff via iverilog\n",
    "nmigen\n",
    "\n",
    "https://github.com/YosysHQ/oss-cad-suite-build#installation\n",
    "https://yowasp.org/ pip install yowasp-yosys\n",
    "\n",
    "ffirtl\n",
    "https://github.com/YosysHQ/picorv32\n",
    "https://github.com/BrunoLevy/learn-fpga\n",
    "femtorv quARK https://github.com/BrunoLevy/learn-fpga/blob/master/FemtoRV/RTL/PROCESSOR/femtorv32_quark.v\n",
    "\n",
    "\n",
    "RTLIL is yosys internal IR. Text rep\n",
    "\n",
    "Lakeroad https://arxiv.org/abs/2401.16526\n",
    "https://github.com/uwsampl/lakeroad\n",
    "https://github.com/uwsampl/lakeroad/blob/main/bin/verilog_to_racket.py yosys btor output\n",
    "\n",
    "\n",
    "Could also root around in rachit's stuff\n",
    "\n",
    "https://github.com/f4pga/f4pga-arch-defs"
   ]
  },
  {
   "cell_type": "code",
   "execution_count": 10,
   "metadata": {},
   "outputs": [
    {
     "name": "stdout",
     "output_type": "stream",
     "text": [
      "Overwriting /tmp/LUT2.v\n"
     ]
    }
   ],
   "source": [
    "%%file /tmp/LUT2.v\n",
    "// What does this do?\n",
    "`default_nettype none\n",
    "module LUT2(input A, B, output Z);\n",
    "    parameter [3:0] init = 4'h0;\n",
    "    wire [1:0] s1 = B ?     init[ 3:2] :     init[1:0];\n",
    "    assign Z =      A ?          s1[1] :         s1[0];\n",
    "endmodule"
   ]
  },
  {
   "cell_type": "code",
   "execution_count": 6,
   "metadata": {},
   "outputs": [
    {
     "name": "stdout",
     "output_type": "stream",
     "text": [
      "Overwriting /tmp/yoscript.ys\n"
     ]
    }
   ],
   "source": [
    "%%file /tmp/yoscript.ys\n",
    "read_verilog /tmp/LUT2.v"
   ]
  },
  {
   "cell_type": "code",
   "execution_count": 2,
   "metadata": {},
   "outputs": [
    {
     "name": "stdout",
     "output_type": "stream",
     "text": [
      "\n",
      " /----------------------------------------------------------------------------\\\n",
      " |  yosys -- Yosys Open SYnthesis Suite                                       |\n",
      " |  Copyright (C) 2012 - 2024  Claire Xenia Wolf <claire@yosyshq.com>         |\n",
      " |  Distributed under an ISC-like license, type \"license\" to see terms        |\n",
      " \\----------------------------------------------------------------------------/\n",
      " Yosys 0.42 (git sha1 9b6afcf3f, ccache clang 14.0.0-1ubuntu1.1 -Os -flto -flto)\n",
      "\n",
      "-- Parsing `/tmp/LUT2.v' using frontend ` -vlog2k' --\n",
      "ERROR: Can't open input file `/tmp/LUT2.v' for reading: No such file or directory\n"
     ]
    }
   ],
   "source": [
    "! yowasp-yosys -p read_verilog /tmp/LUT2.v #-s /tmp/yoscript.ys"
   ]
  },
  {
   "cell_type": "markdown",
   "metadata": {},
   "source": [
    "hmm. Looks like boolector or bitwuzla python bindings might support parsing btor2\n",
    "https://bitwuzla.github.io/docs/python/interface.html#bitwuzla.Parser.parse\n",
    "https://boolector.github.io/docs/boolector.html#pyboolector.Boolector.Parse"
   ]
  },
  {
   "cell_type": "code",
   "execution_count": 12,
   "metadata": {},
   "outputs": [
    {
     "name": "stdout",
     "output_type": "stream",
     "text": [
      "Writing /tmp/fifo.v\n"
     ]
    }
   ],
   "source": [
    "%%file /tmp/fifo.v\n",
    "\n",
    "// address generator/counter\n",
    "module addr_gen \n",
    "#(  parameter MAX_DATA=256,\n",
    "\tlocalparam AWIDTH = $clog2(MAX_DATA)\n",
    ") ( input en, clk, rst,\n",
    "\toutput reg [AWIDTH-1:0] addr\n",
    ");\n",
    "\tinitial addr <= 0;\n",
    "\n",
    "\t// async reset\n",
    "\t// increment address when enabled\n",
    "\talways @(posedge clk or posedge rst)\n",
    "\t\tif (rst)\n",
    "\t\t\taddr <= 0;\n",
    "\t\telse if (en) begin\n",
    "\t\t\tif (addr == MAX_DATA-1)\n",
    "\t\t\t\taddr <= 0;\n",
    "\t\t\telse\n",
    "\t\t\t\taddr <= addr + 1;\n",
    "\t\tend\n",
    "endmodule //addr_gen\n",
    "\n",
    "// Define our top level fifo entity\n",
    "module fifo \n",
    "#(  parameter MAX_DATA=256,\n",
    "\tlocalparam AWIDTH = $clog2(MAX_DATA)\n",
    ") ( input wen, ren, clk, rst,\n",
    "\tinput [7:0] wdata,\n",
    "\toutput reg [7:0] rdata,\n",
    "\toutput reg [AWIDTH:0] count\n",
    ");\n",
    "\t// fifo storage\n",
    "\t// sync read before write\n",
    "\twire [AWIDTH-1:0] waddr, raddr;\n",
    "\treg [7:0] data [MAX_DATA-1:0];\n",
    "\talways @(posedge clk) begin\n",
    "\t\tif (wen)\n",
    "\t\t\tdata[waddr] <= wdata;\n",
    "\t\trdata <= data[raddr];\n",
    "\tend // storage\n",
    "\n",
    "\t// addr_gen for both write and read addresses\n",
    "\taddr_gen #(.MAX_DATA(MAX_DATA))\n",
    "\tfifo_writer (\n",
    "\t\t.en     (wen),\n",
    "\t\t.clk    (clk),\n",
    "\t\t.rst    (rst),\n",
    "\t\t.addr   (waddr)\n",
    "\t);\n",
    "\n",
    "\taddr_gen #(.MAX_DATA(MAX_DATA))\n",
    "\tfifo_reader (\n",
    "\t\t.en     (ren),\n",
    "\t\t.clk    (clk),\n",
    "\t\t.rst    (rst),\n",
    "\t\t.addr   (raddr)\n",
    "\t);\n",
    "\n",
    "\t// status signals\n",
    "\tinitial count <= 0;\n",
    "\n",
    "\talways @(posedge clk or posedge rst) begin\n",
    "\t\tif (rst)\n",
    "\t\t\tcount <= 0;\n",
    "\t\telse if (wen && !ren)\n",
    "\t\t\tcount <= count + 1;\n",
    "\t\telse if (ren && !wen)\n",
    "\t\t\tcount <= count - 1;\n",
    "\tend\n",
    "\n",
    "endmodule"
   ]
  },
  {
   "cell_type": "code",
   "execution_count": 2,
   "metadata": {},
   "outputs": [
    {
     "name": "stdout",
     "output_type": "stream",
     "text": [
      "/bin/bash: line 1: yosys: command not found\n"
     ]
    }
   ],
   "source": [
    "! yosys /tmp/fifo.v"
   ]
  }
 ],
 "metadata": {
  "kernelspec": {
   "display_name": "Python 3",
   "language": "python",
   "name": "python3"
  },
  "language_info": {
   "codemirror_mode": {
    "name": "ipython",
    "version": 3
   },
   "file_extension": ".py",
   "mimetype": "text/x-python",
   "name": "python",
   "nbconvert_exporter": "python",
   "pygments_lexer": "ipython3",
   "version": "3.10.12"
  }
 },
 "nbformat": 4,
 "nbformat_minor": 2
}
