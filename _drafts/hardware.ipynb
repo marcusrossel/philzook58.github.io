{
 "cells": [
  {
   "cell_type": "code",
   "execution_count": null,
   "metadata": {},
   "outputs": [],
   "source": []
  },
  {
   "cell_type": "markdown",
   "metadata": {},
   "source": [
    "# RiscV\n",
    "\n",
    "Serv core - smallest riscv? https://github.com/olofk/serv.git  LUT FF flip flop\n",
    "https://github.com/enjoy-digital/litex litex supports it\n",
    "\n",
    "https://github.com/YosysHQ/picorv32\n",
    "https://github.com/BrunoLevy/learn-fpga\n",
    "femtorv quARK https://github.com/BrunoLevy/learn-fpga/blob/master/FemtoRV/RTL/PROCESSOR/femtorv32_quark.v\n",
    "\n",
    "https://github.com/rust-embedded/riscv low level access to risc v processor in rust\n",
    "https://popovicu.com/posts/bare-metal-rust-risc-v-with-dynamic-memory/\n",
    "Kani + aeneas? https://github.com/AeneasVerif/aeneas\n"
   ]
  },
  {
   "cell_type": "markdown",
   "metadata": {},
   "source": [
    "# Bootlading\n",
    "https://github.com/vvaltchev/tilck\n",
    "https://github.com/oreboot/oreboot\n",
    "\n",
    "uboot\n",
    "\n",
    "\n",
    "https://github.com/river-li/awesome-uefi-security\n",
    "\n",
    "open titan \n",
    "https://github.com/lowRISC/opentitan.git\n",
    "https://opentitan.org/book/doc/security/specs/attestation/ hardware attestation\n",
    "https://opentitan.org/book/sw/device/silicon_creator/rom/index.html ROM is first stage boot\n",
    "\n",
    "https://docs.arduino.cc/retired/hacking/software/Bootloader/ arduino bootloader\n",
    "\n",
    "Running risc v. Emulating m,icrocontroller?\n",
    "\n",
    "\n",
    "privlenged architexcture riscv\n",
    "https://riscv.org/wp-content/uploads/2017/05/riscv-privileged-v1.10.pdf\n",
    "\n",
    "opensbi https://github.com/riscv-software-src/opensbi\n",
    "\n",
    "acronyms out the wing wong\n",
    "PMP - physical memory protection\n",
    "TPM\n",
    "\n",
    "PCR registers. Extend and hash. Makes a registery merkle list thing.\n",
    "\n",
    "bootkeeper https://arxiv.org/pdf/1903.12505\n",
    "\n",
    "[1] Oleksandr Bazhaniuk, John Loucaides, Lee Rosenbaum, Mark R Tuttle, and Vincent Zimmer. 2015. Symbolic execution for BIOS security. In 9th USENIX Workshop\n",
    "on Offensive Technologies (WOOT ’15).\n",
    "[2] Jonathan Brossard. 2012. Hardware backdooring is practical. BlackHat, Las Vegas,\n",
    "USA (2012).\n",
    "[3] Danilo Bruschi, Lorenzo Cavallaro, Andrea Lanzi, and Mattia Monga. 2005. Replay attack in TCG specification and solution. In Proceeding of the 21st Annual\n",
    "Computer Security Applications Conference (ACSAC ’05). IEEE, 127–137.\n",
    "[4] John Butterworth, Corey Kallenberg, Xeno Kovah, and Amy Herzog. 2013. BIOS\n",
    "Chronomancy: Fixing the core root of trust for measurement. In Proceedings of\n",
    "the 2013 ACM SIGSAC conference on Computer & Communications Security (CCS\n",
    "’13). ACM, 25–36.\n",
    "\n",
    "\n",
    "https://wiki.archlinux.org/title/Trusted_Platform_Module linux access to tpm\n",
    "\n",
    "https://surface.syr.edu/cgi/viewcontent.cgi?article=1182&context=eecs_techreports sable constable. isabelle verified bootloader\n",
    "skinit instruction. Start process with hash in a pcr and completely fresh isolated? What's the point though? If the insecure part has any effect. If it doesn't why was it there?\n",
    "Dynamic\n",
    "\n",
    "https://google.github.io/tpm-js/ javascript tpm in browser\n",
    "\n",
    "\n",
    "Chipwhisperer http://wiki.newae.com/V4:Tutorial_A2_Introduction_to_Glitch_Attacks_(including_Glitch_Explorer)\n",
    "\n",
    "https://www.youtube.com/watch?v=XvGcQgx9Jg8&ab_channel=BlackHat breaking secure bootloaders blackhat - bootloader has a bad parser in it\n",
    "\n",
    "https://limitedresults.com/2019/09/pwn-the-esp32-secure-boot/\n",
    "\n",
    "Glitching / fault injection. Look at code, correlated power draw? Wiggle voltage at opporuitne times. Or lasers if you're fancy\n",
    "\n",
    "https://github.com/janvdherrewegen/bootl-attacks\n",
    "https://www.youtube.com/watch?v=T1NHrzhtqzA&ab_channel=IACR\n",
    "\n",
    "https://machiry.github.io/files/glitchresistor.pdf glitch resistor. Modellign glitching and llvm plugin for resistance\n",
    "Redundant checks because you aren't sure insturctions weren't skipped.\n",
    "\n",
    "https://static.linaro.org/connect/lvc21f/presentations/LVC21F-116.pdf\n",
    "https://ieeexplore.ieee.org/document/8167709\n",
    "https://ibex-core.readthedocs.io/en/latest/03_reference/security.html\n",
    "\n",
    "https://github.com/ucsb-seclab/BootStomp\n",
    "https://dl.acm.org/doi/10.5555/3241189.3241251"
   ]
  },
  {
   "cell_type": "markdown",
   "metadata": {},
   "source": [
    "# Simulation\n",
    "cocotb\n",
    "verilator https://verilator.org/guide/latest/install.html#git-install\n",
    "ibex verilator https://github.com/lowRISC/ibex/blob/master/examples/simple_system/README.md\n",
    "\n",
    "\n",
    "olof kindgren\n",
    "fusesoc https://github.com/olofk/fusesoc package manager \n",
    "edalizer - port acorss different guys? https://github.com/olofk/edalize\n",
    "\n",
    "\n",
    "iverilog\n",
    "\n",
    "https://projectf.io/posts/verilog-sim-verilator-sdl/ verilator to sdl\n",
    "\n",
    "\n",
    "Lakeroad / sam coward things\n",
    "It is an interesting and possibly noble endeavor to try and make open hardware / fpga compiling as good as open software\n",
    "\n",
    "Get out some intermediate rwepresentation from yosys.\n",
    "Emulate stuff via iverilog\n",
    "nmigen\n",
    "\n",
    "https://github.com/YosysHQ/oss-cad-suite-build#installation\n",
    "https://yowasp.org/ pip install yowasp-yosys\n",
    "\n",
    "ffirtl\n",
    "\n",
    "RTLIL is yosys internal IR. Text rep\n",
    "\n",
    "Lakeroad https://arxiv.org/abs/2401.16526\n",
    "https://github.com/uwsampl/lakeroad\n",
    "https://github.com/uwsampl/lakeroad/blob/main/bin/verilog_to_racket.py yosys btor output\n",
    "\n",
    "\n",
    "Could also root around in rachit's stuff\n",
    "\n",
    "https://github.com/f4pga/f4pga-arch-defs"
   ]
  },
  {
   "cell_type": "code",
   "execution_count": 12,
   "metadata": {},
   "outputs": [
    {
     "name": "stdout",
     "output_type": "stream",
     "text": [
      "Overwriting /tmp/cpu_test.v\n"
     ]
    }
   ],
   "source": [
    "%%file /tmp/cpu_test.v\n",
    "\n",
    "module cpu_test;\n",
    "    reg clk;\n",
    "    reg reset;\n",
    "    wire [7:0] output_signal;\n",
    "\n",
    "    // Instantiate your CPU module\n",
    "    /*\n",
    "    cpu my_cpu (\n",
    "        .clk(clk),\n",
    "        .reset(reset),\n",
    "        .output_signal(output_signal)\n",
    "    ); */\n",
    "    assign output_signal = 8'b10101010;\n",
    "\n",
    "    initial begin\n",
    "        clk = 0;\n",
    "        reset = 1;\n",
    "        #5 reset = 0;\n",
    "        #1000 $finish;\n",
    "    end\n",
    "\n",
    "    always #5 clk = ~clk;\n",
    "\n",
    "    always @(posedge clk) begin\n",
    "        // Simple example of ASCII visualization\n",
    "        $display(\"Cycle %d: Output signal = %b\", $time, output_signal);\n",
    "    end\n",
    "endmodule\n"
   ]
  },
  {
   "cell_type": "code",
   "execution_count": 14,
   "metadata": {},
   "outputs": [
    {
     "name": "stdout",
     "output_type": "stream",
     "text": [
      "Cycle                    5: Output signal = 10101010\n",
      "Cycle                   15: Output signal = 10101010\n",
      "Cycle                   25: Output signal = 10101010\n",
      "Cycle                   35: Output signal = 10101010\n",
      "Cycle                   45: Output signal = 10101010\n",
      "Cycle                   55: Output signal = 10101010\n",
      "Cycle                   65: Output signal = 10101010\n",
      "Cycle                   75: Output signal = 10101010\n",
      "Cycle                   85: Output signal = 10101010\n",
      "Cycle                   95: Output signal = 10101010\n",
      "Cycle                  105: Output signal = 10101010\n",
      "Cycle                  115: Output signal = 10101010\n",
      "Cycle                  125: Output signal = 10101010\n",
      "Cycle                  135: Output signal = 10101010\n",
      "Cycle                  145: Output signal = 10101010\n",
      "Cycle                  155: Output signal = 10101010\n",
      "Cycle                  165: Output signal = 10101010\n",
      "Cycle                  175: Output signal = 10101010\n",
      "Cycle                  185: Output signal = 10101010\n",
      "Cycle                  195: Output signal = 10101010\n",
      "Cycle                  205: Output signal = 10101010\n",
      "Cycle                  215: Output signal = 10101010\n",
      "Cycle                  225: Output signal = 10101010\n",
      "Cycle                  235: Output signal = 10101010\n",
      "Cycle                  245: Output signal = 10101010\n",
      "Cycle                  255: Output signal = 10101010\n",
      "Cycle                  265: Output signal = 10101010\n",
      "Cycle                  275: Output signal = 10101010\n",
      "Cycle                  285: Output signal = 10101010\n",
      "Cycle                  295: Output signal = 10101010\n",
      "Cycle                  305: Output signal = 10101010\n",
      "Cycle                  315: Output signal = 10101010\n",
      "Cycle                  325: Output signal = 10101010\n",
      "Cycle                  335: Output signal = 10101010\n",
      "Cycle                  345: Output signal = 10101010\n",
      "Cycle                  355: Output signal = 10101010\n",
      "Cycle                  365: Output signal = 10101010\n",
      "Cycle                  375: Output signal = 10101010\n",
      "Cycle                  385: Output signal = 10101010\n",
      "Cycle                  395: Output signal = 10101010\n",
      "Cycle                  405: Output signal = 10101010\n",
      "Cycle                  415: Output signal = 10101010\n",
      "Cycle                  425: Output signal = 10101010\n",
      "Cycle                  435: Output signal = 10101010\n",
      "Cycle                  445: Output signal = 10101010\n",
      "Cycle                  455: Output signal = 10101010\n",
      "Cycle                  465: Output signal = 10101010\n",
      "Cycle                  475: Output signal = 10101010\n",
      "Cycle                  485: Output signal = 10101010\n",
      "Cycle                  495: Output signal = 10101010\n",
      "Cycle                  505: Output signal = 10101010\n",
      "Cycle                  515: Output signal = 10101010\n",
      "Cycle                  525: Output signal = 10101010\n",
      "Cycle                  535: Output signal = 10101010\n",
      "Cycle                  545: Output signal = 10101010\n",
      "Cycle                  555: Output signal = 10101010\n",
      "Cycle                  565: Output signal = 10101010\n",
      "Cycle                  575: Output signal = 10101010\n",
      "Cycle                  585: Output signal = 10101010\n",
      "Cycle                  595: Output signal = 10101010\n",
      "Cycle                  605: Output signal = 10101010\n",
      "Cycle                  615: Output signal = 10101010\n",
      "Cycle                  625: Output signal = 10101010\n",
      "Cycle                  635: Output signal = 10101010\n",
      "Cycle                  645: Output signal = 10101010\n",
      "Cycle                  655: Output signal = 10101010\n",
      "Cycle                  665: Output signal = 10101010\n",
      "Cycle                  675: Output signal = 10101010\n",
      "Cycle                  685: Output signal = 10101010\n",
      "Cycle                  695: Output signal = 10101010\n",
      "Cycle                  705: Output signal = 10101010\n",
      "Cycle                  715: Output signal = 10101010\n",
      "Cycle                  725: Output signal = 10101010\n",
      "Cycle                  735: Output signal = 10101010\n",
      "Cycle                  745: Output signal = 10101010\n",
      "Cycle                  755: Output signal = 10101010\n",
      "Cycle                  765: Output signal = 10101010\n",
      "Cycle                  775: Output signal = 10101010\n",
      "Cycle                  785: Output signal = 10101010\n",
      "Cycle                  795: Output signal = 10101010\n",
      "Cycle                  805: Output signal = 10101010\n",
      "Cycle                  815: Output signal = 10101010\n",
      "Cycle                  825: Output signal = 10101010\n",
      "Cycle                  835: Output signal = 10101010\n",
      "Cycle                  845: Output signal = 10101010\n",
      "Cycle                  855: Output signal = 10101010\n",
      "Cycle                  865: Output signal = 10101010\n",
      "Cycle                  875: Output signal = 10101010\n",
      "Cycle                  885: Output signal = 10101010\n",
      "Cycle                  895: Output signal = 10101010\n",
      "Cycle                  905: Output signal = 10101010\n",
      "Cycle                  915: Output signal = 10101010\n",
      "Cycle                  925: Output signal = 10101010\n",
      "Cycle                  935: Output signal = 10101010\n",
      "Cycle                  945: Output signal = 10101010\n",
      "Cycle                  955: Output signal = 10101010\n",
      "Cycle                  965: Output signal = 10101010\n",
      "Cycle                  975: Output signal = 10101010\n",
      "Cycle                  985: Output signal = 10101010\n",
      "Cycle                  995: Output signal = 10101010\n",
      "/tmp/cpu_test.v:20: $finish called at 1005 (1s)\n",
      "Cycle                 1005: Output signal = 10101010\n"
     ]
    }
   ],
   "source": [
    "%%bash\n",
    "iverilog -o /tmp/cpu_test.vvp /tmp/cpu_test.v\n",
    "vvp /tmp/cpu_test.vvp"
   ]
  },
  {
   "cell_type": "markdown",
   "metadata": {},
   "source": [
    "https://github.com/cocotb/cocotb\n",
    "\n",
    "Oh. cocotb ius like a testbench. It uses icarus. Hmm. but maybe its an interface to icarus"
   ]
  },
  {
   "cell_type": "markdown",
   "metadata": {},
   "source": []
  },
  {
   "cell_type": "code",
   "execution_count": 10,
   "metadata": {},
   "outputs": [
    {
     "name": "stdout",
     "output_type": "stream",
     "text": [
      "Overwriting /tmp/LUT2.v\n"
     ]
    }
   ],
   "source": [
    "%%file /tmp/LUT2.v\n",
    "// What does this do?\n",
    "`default_nettype none\n",
    "module LUT2(input A, B, output Z);\n",
    "    parameter [3:0] init = 4'h0;\n",
    "    wire [1:0] s1 = B ?     init[ 3:2] :     init[1:0];\n",
    "    assign Z =      A ?          s1[1] :         s1[0];\n",
    "endmodule"
   ]
  },
  {
   "cell_type": "code",
   "execution_count": 6,
   "metadata": {},
   "outputs": [
    {
     "name": "stdout",
     "output_type": "stream",
     "text": [
      "Overwriting /tmp/yoscript.ys\n"
     ]
    }
   ],
   "source": [
    "%%file /tmp/yoscript.ys\n",
    "read_verilog /tmp/LUT2.v"
   ]
  },
  {
   "cell_type": "code",
   "execution_count": 2,
   "metadata": {},
   "outputs": [
    {
     "name": "stdout",
     "output_type": "stream",
     "text": [
      "\n",
      " /----------------------------------------------------------------------------\\\n",
      " |  yosys -- Yosys Open SYnthesis Suite                                       |\n",
      " |  Copyright (C) 2012 - 2024  Claire Xenia Wolf <claire@yosyshq.com>         |\n",
      " |  Distributed under an ISC-like license, type \"license\" to see terms        |\n",
      " \\----------------------------------------------------------------------------/\n",
      " Yosys 0.42 (git sha1 9b6afcf3f, ccache clang 14.0.0-1ubuntu1.1 -Os -flto -flto)\n",
      "\n",
      "-- Parsing `/tmp/LUT2.v' using frontend ` -vlog2k' --\n",
      "ERROR: Can't open input file `/tmp/LUT2.v' for reading: No such file or directory\n"
     ]
    }
   ],
   "source": [
    "! yowasp-yosys -p read_verilog /tmp/LUT2.v #-s /tmp/yoscript.ys"
   ]
  },
  {
   "cell_type": "markdown",
   "metadata": {},
   "source": [
    "hmm. Looks like boolector or bitwuzla python bindings might support parsing btor2\n",
    "https://bitwuzla.github.io/docs/python/interface.html#bitwuzla.Parser.parse\n",
    "https://boolector.github.io/docs/boolector.html#pyboolector.Boolector.Parse"
   ]
  },
  {
   "cell_type": "code",
   "execution_count": 12,
   "metadata": {},
   "outputs": [
    {
     "name": "stdout",
     "output_type": "stream",
     "text": [
      "Writing /tmp/fifo.v\n"
     ]
    }
   ],
   "source": [
    "%%file /tmp/fifo.v\n",
    "\n",
    "// address generator/counter\n",
    "module addr_gen \n",
    "#(  parameter MAX_DATA=256,\n",
    "\tlocalparam AWIDTH = $clog2(MAX_DATA)\n",
    ") ( input en, clk, rst,\n",
    "\toutput reg [AWIDTH-1:0] addr\n",
    ");\n",
    "\tinitial addr <= 0;\n",
    "\n",
    "\t// async reset\n",
    "\t// increment address when enabled\n",
    "\talways @(posedge clk or posedge rst)\n",
    "\t\tif (rst)\n",
    "\t\t\taddr <= 0;\n",
    "\t\telse if (en) begin\n",
    "\t\t\tif (addr == MAX_DATA-1)\n",
    "\t\t\t\taddr <= 0;\n",
    "\t\t\telse\n",
    "\t\t\t\taddr <= addr + 1;\n",
    "\t\tend\n",
    "endmodule //addr_gen\n",
    "\n",
    "// Define our top level fifo entity\n",
    "module fifo \n",
    "#(  parameter MAX_DATA=256,\n",
    "\tlocalparam AWIDTH = $clog2(MAX_DATA)\n",
    ") ( input wen, ren, clk, rst,\n",
    "\tinput [7:0] wdata,\n",
    "\toutput reg [7:0] rdata,\n",
    "\toutput reg [AWIDTH:0] count\n",
    ");\n",
    "\t// fifo storage\n",
    "\t// sync read before write\n",
    "\twire [AWIDTH-1:0] waddr, raddr;\n",
    "\treg [7:0] data [MAX_DATA-1:0];\n",
    "\talways @(posedge clk) begin\n",
    "\t\tif (wen)\n",
    "\t\t\tdata[waddr] <= wdata;\n",
    "\t\trdata <= data[raddr];\n",
    "\tend // storage\n",
    "\n",
    "\t// addr_gen for both write and read addresses\n",
    "\taddr_gen #(.MAX_DATA(MAX_DATA))\n",
    "\tfifo_writer (\n",
    "\t\t.en     (wen),\n",
    "\t\t.clk    (clk),\n",
    "\t\t.rst    (rst),\n",
    "\t\t.addr   (waddr)\n",
    "\t);\n",
    "\n",
    "\taddr_gen #(.MAX_DATA(MAX_DATA))\n",
    "\tfifo_reader (\n",
    "\t\t.en     (ren),\n",
    "\t\t.clk    (clk),\n",
    "\t\t.rst    (rst),\n",
    "\t\t.addr   (raddr)\n",
    "\t);\n",
    "\n",
    "\t// status signals\n",
    "\tinitial count <= 0;\n",
    "\n",
    "\talways @(posedge clk or posedge rst) begin\n",
    "\t\tif (rst)\n",
    "\t\t\tcount <= 0;\n",
    "\t\telse if (wen && !ren)\n",
    "\t\t\tcount <= count + 1;\n",
    "\t\telse if (ren && !wen)\n",
    "\t\t\tcount <= count - 1;\n",
    "\tend\n",
    "\n",
    "endmodule"
   ]
  },
  {
   "cell_type": "code",
   "execution_count": 2,
   "metadata": {},
   "outputs": [
    {
     "name": "stdout",
     "output_type": "stream",
     "text": [
      "/bin/bash: line 1: yosys: command not found\n"
     ]
    }
   ],
   "source": [
    "! yosys /tmp/fifo.v"
   ]
  }
 ],
 "metadata": {
  "kernelspec": {
   "display_name": "Python 3",
   "language": "python",
   "name": "python3"
  },
  "language_info": {
   "codemirror_mode": {
    "name": "ipython",
    "version": 3
   },
   "file_extension": ".py",
   "mimetype": "text/x-python",
   "name": "python",
   "nbconvert_exporter": "python",
   "pygments_lexer": "ipython3",
   "version": "3.10.12"
  }
 },
 "nbformat": 4,
 "nbformat_minor": 2
}
