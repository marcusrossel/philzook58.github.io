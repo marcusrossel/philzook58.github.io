{
 "cells": [
  {
   "cell_type": "code",
   "execution_count": null,
   "metadata": {},
   "outputs": [],
   "source": []
  },
  {
   "cell_type": "markdown",
   "metadata": {},
   "source": [
    "Lakeroad / sam coward things\n",
    "It is an interesting and possibly noble endeavor to try and make open hardware / fpga compiling as good as open software\n",
    "\n",
    "Get out some intermediate rwepresentation from yosys.\n",
    "Emulate stuff via iverilog\n",
    "nmigen\n"
   ]
  }
 ],
 "metadata": {
  "language_info": {
   "name": "python"
  }
 },
 "nbformat": 4,
 "nbformat_minor": 2
}
