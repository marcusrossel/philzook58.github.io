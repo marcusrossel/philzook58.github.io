{
 "cells": [
  {
   "cell_type": "code",
   "execution_count": null,
   "metadata": {},
   "outputs": [],
   "source": []
  },
  {
   "cell_type": "markdown",
   "metadata": {},
   "source": [
    "Nada has a clpset. setlog. Currently maintained? That ASP setlog idea.\n",
    "Unordered sets in haskell. Observations / separation queries\n",
    "<https://byorgey.github.io/blog/posts/2024/06/25/unordered-n-tuple-product.html>\n",
    "https://danryba253.github.io/danirybeblog/posts/unordered-n-tuples/\n",
    "https://gelisam.blogspot.com/2013/07/the-commutative-monad.html\n",
    "\n",
    "Sets are coinductive.\n",
    "elem : S -> enum A analog of a NFA terasnition\n",
    "obs : Pred -> Either Bool (S,S)\n",
    "\n",
    "Compare to considerations of non-well founded sets aczel. Kind of similar.\n",
    "\n",
    "Sets are opaque. Material sets vs structural sets. ETCS. \n",
    "https://ncatlab.org/nlab/show/SEAR\n",
    "https://ncatlab.org/nlab/show/structural+set+theory\n",
    "https://ncatlab.org/nlab/show/material+set+theory\n",
    "https://golem.ph.utexas.edu/category/2013/01/from_set_theory_to_type_theory.html Shulman\n",
    "\n",
    "Predicates asre conductive\n",
    "\n",
    "https://www.clpset.unipr.it/setlog.Home.html\n",
    "https://www.clpset.unipr.it/SETLOG/calculus.pdf rewrite rules for set solver\n",
    "\n",
    "\n",
    "\n",
    "https://github.com/namin/clpset-miniKanren\n",
    "https://github.com/namin/clpsmt-miniKanren/blob/master/clpset.scm\n",
    "\n",
    "https://dl.acm.org/doi/10.1145/365151.365169 Sets and constraint logic programming"
   ]
  }
 ],
 "metadata": {
  "language_info": {
   "name": "python"
  }
 },
 "nbformat": 4,
 "nbformat_minor": 2
}
