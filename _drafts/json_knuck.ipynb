{
 "cells": [
  {
   "cell_type": "code",
   "execution_count": null,
   "metadata": {},
   "outputs": [],
   "source": []
  },
  {
   "cell_type": "markdown",
   "metadata": {},
   "source": [
    "Max B is Unison hashing brained and pointed out I could have an online universe of proofs. Peer to peer or something\n",
    "\n",
    "But also a good point is to have a json proof format.\n",
    "\n",
    "Use one of the api definition things?\n",
    "\n",
    "The knuckledragger kernel works in many languages (given z3)\n",
    "\n",
    "Many languages can call wasm. Compile automated provers to wasm then everyone can use them.\n",
    "\n",
    "Write a couple minimal versions.\n",
    "\n",
    "It's kind of like minikanren that its easy to embed. Or metamath.\n",
    "\n",
    "HOLpy has a json format which I was annoyed by. How ironic.\n"
   ]
  }
 ],
 "metadata": {
  "language_info": {
   "name": "python"
  }
 },
 "nbformat": 4,
 "nbformat_minor": 2
}
