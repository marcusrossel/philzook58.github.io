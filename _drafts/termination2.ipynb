{
 "cells": [
  {
   "cell_type": "markdown",
   "metadata": {},
   "source": [
    "http://cl-informatik.uibk.ac.at/isr24/ rewriting school. Seems like all the good topics\n",
    "https://link.springer.com/book/10.1007/978-3-031-43369-6 frontiers of combining systems\n",
    "\n",
    "polynomial interpretations\n",
    "matrix interpretations\n",
    "SAT/LP solver for termination\n",
    "dealing wiht the xml format\n",
    "How does the frontend deal with things\n",
    "\n",
    "There is rewriting modulo equations, realtive rewriting, innermost rewriting, conditional rewriting, outermost rewriting, higher order rewriting hrs, cycle rewriting, string rewriting. How are these dealt with?\n",
    "\n",
    "Confluence checking CSI\n",
    "https://en.wikipedia.org/wiki/Cycle_detection\n",
    "\n",
    "Java. Hmm.\n",
    "eBPF\n",
    "\n",
    "https://maude.cs.uiuc.edu/tools/mta/\n",
    "https://maude.cs.uiuc.edu/tools/itp/hendrix-thesis.pdf\n",
    "hendrix thesis. Equational tree automata\n",
    "\n",
    "Well founded induction\n",
    "\n",
    "if foo(s(x)) -> foo(x) is a well founded definition, then there is intrinisically a valid induction hypothesis in there\n",
    "Is extracting the piece related the dependency pairs?\n",
    "How to deal with completeness check? Default to some dummy value? Well, it isn't a problem. One can't prove what the value is on other pieces. We do want confluence though. To make sure we don't have foo(x) == true /\\ foo(x) == false\n",
    "\n",
    "higher order. sizechangetool  https://github.com/Deducteam/SizeChangeTool wanda \n",
    "\n",
    "## Dependency Pairs\n",
    "https://www.sciencedirect.com/science/article/pii/S0304397599002078 Termination of term rewriting using dependency pairs\n",
    "Dependency pairs  fraemwork http://cl-informatik.uibk.ac.at/users/thiemann/paper/LPAR04DPFramework.pdf\n",
    "\n",
    "https://drops.dagstuhl.de/storage/00lipics/lipics-vol131-fscd2019/LIPIcs.FSCD.2019.9/LIPIcs.FSCD.2019.9.pdf Dependency Pairs Termination in Dependent Type Theory Modulo Rewriting\n",
    "\n",
    "Wanda \n",
    "\n",
    "\"Dependency pairs aren't that mysterious:\n",
    "Plus(x, S(y)) -> S(Plus(x, y))\n",
    "gives the pair\n",
    "Plus(x, S(y)) -> Plus(x, y)\n",
    "which intuitively is the only bit we really care about re termination.\n",
    "This is the \"ignore the context\" bit you were mentioning.\n",
    "\"\n",
    "\n",
    "\"\n",
    "Dependency pairs: not that tough an idea\n",
    "take a rewrite system R = { l -> r }\n",
    "Define G to be like R, but with every possible subterm of each right hand side\n",
    "Dis association — Yesterday at 10:11 PM\n",
    "so if G is f(x, y) -> g(f(y, x), y) then G is f(x, y) -> g(f(y, x), y) and f(x, y) -> f(y, x)\n",
    "now only allow G steps at the root, and then some arbitrary number of R steps not at the root\n",
    "the theorem is that termination of R <=> there is no infinite reduction of G-root + R non-root steps\n",
    "the idea is that G \"focuses\" the reductions on each possible subterm, ignoring the context\n",
    "now you only need to care about possible infinite sequences of G steps (with in-between R steps)\n",
    "philzook — Yesterday at 10:13 PM\n",
    "Seems worse\n",
    "G is bigger than r\n",
    "Dis association — Yesterday at 10:14 PM\n",
    "yes but\n",
    "you can observe that some G steps may not follow another G step\n",
    "e.g.\n",
    "times(x, S(y)) -> plus(x, times(x, y))\n",
    "the G steps are times(x, S(y)) -> plus(x, times(x, y)) and times(x, S(y)) -> times(x, y)\n",
    "but there is no outer times rule for times after the first step!\n",
    "so the only \"loop\" for times is the second one\n",
    "the idea is that you can treat each \"mutual recursion\" rules individually\n",
    "often to make this explicit they rename the G head symbols\n",
    "so G is actually TIMES(x, S(y)) -> PLUS(x, times(x, y)) and TIMES(x, S(y)) -> TIMES(x, y)\n",
    "which feels different\n",
    "there's  only one rules that can lead to infinite TIMES steps\n",
    "philzook — Yesterday at 10:19 PM\n",
    "But we still have all of R\n",
    "Dis association — Yesterday at 10:19 PM\n",
    "but what you need to show is termination of alternating G/R steps\n",
    "so if you prove that there can't be infinitely many G steps you're golden\n",
    "you'll see that in AproVE that's what they're trying to do\n",
    "\"remove\" G rules\n",
    "in practice you replace \"non-trivial\" inner terms by some fresh var \n",
    "so TIMES(x, S(y)) -> PLUS(x, z)\n",
    "that means any plus rule can fire at this point\n",
    "but a PLUS rule can't reach a TIMES rule, so you can prove first termination of PLUS then termination of TIMES\n",
    "but read the paper it's well-written\n",
    "philzook — Yesterday at 10:29 PM\n",
    "Plus doesnt depend on times. Is that not sufficient to see they can be treated hierarchically?\n",
    "I cant show plus terminates then leave its rules out and show times terminates?\n",
    "How could termination checking possibly work in coq then\n",
    "Dis association — Yesterday at 10:51 PM\n",
    "Yes you can, but in TRSes things are not generally so modular\n",
    "\"depends on\" is basically what the dependency pair relation captures\n",
    "you can have crazy rules like plus(x, x) -> times(2, x)\n",
    "does that terminate?\n",
    "anyways\n",
    "philzook — Today at 8:12 AM\n",
    "I’m suspicious.\"\n",
    "\n",
    "simplification pair \n",
    "reduction order\n",
    "order eakly, delete strict pieces\n",
    "SCC dependency graph\n",
    "\n",
    "\n",
    "https://aprove.informatik.rwth-aachen.de/download\n",
    "\n",
    "https://matryoshka-project.github.io/wait2018/ WAIT Workshop on Automated (Co)inductive Theorem Proving\n",
    "HipSpec https://www.cse.chalmers.se/~jomoa/papers/hipspec-atx.pdf\n",
    "https://dmg.tuwien.ac.at/hetzl/teaching/d_vierling.pdf The limits of automated\n",
    "inductive theorem provers 2023 thesis\n",
    "vampire has induction support. What does it look like?\n",
    "https://www.cse.chalmers.se/~jomoa/papers/cicm15-TIP.pdf tons of inductive problems https://github.com/tip-org\n"
   ]
  },
  {
   "cell_type": "code",
   "execution_count": 5,
   "metadata": {},
   "outputs": [
    {
     "name": "stdout",
     "output_type": "stream",
     "text": [
      "Overwriting /tmp/prolog.pl\n"
     ]
    }
   ],
   "source": [
    "%%file /tmp/prolog.pl\n",
    "%query: append(b,f,f)\n",
    "append(nil,L,L).\n",
    "append(cons(X,Xs),Ys,cons(X, Zs)) :- append(Xs,Ys,Zs)."
   ]
  },
  {
   "cell_type": "code",
   "execution_count": 3,
   "metadata": {},
   "outputs": [
    {
     "name": "stdout",
     "output_type": "stream",
     "text": [
      "No input file, aborting.\n",
      "Usage: java -cp aprove.jar aprove.CommandLineInterface.PrologFrontendMain [OPTION] PLFILE\n",
      "\n",
      "Prolog to QDP/Graph dump export from AProVE 2014.\n",
      "\n",
      " -h, --help             print this help\n",
      " -o, --outputDir DIR    directory in which TRSs will be dumped (default '.')\n",
      " -t, --timeout SECONDS  timeout, in seconds (default 60)\n",
      " -p, --proof            print proof for steps from input to TRSs\n",
      " -g, --graph yes|no     export to Graph (default no)\n",
      " -q, --query QUERY      a query which tells AProVE what to analyze\n",
      " -s, --startTerm TERM   analyze termination starting with term TERM\n",
      " -j, --json yes|no      export JSON (default no), conflicts with other output\n"
     ]
    }
   ],
   "source": [
    "! java -ea -cp ~/Documents/solvers/aprove.jar aprove.CommandLineInterface.PrologFrontendMain "
   ]
  },
  {
   "cell_type": "code",
   "execution_count": 6,
   "metadata": {},
   "outputs": [
    {
     "name": "stdout",
     "output_type": "stream",
     "text": [
      "Dumped to ./prolog.pl-obl-4.qdp\n"
     ]
    }
   ],
   "source": [
    "! java -ea -cp ~/Documents/solvers/aprove.jar aprove.CommandLineInterface.PrologFrontendMain /tmp/prolog.pl"
   ]
  },
  {
   "cell_type": "code",
   "execution_count": null,
   "metadata": {},
   "outputs": [],
   "source": [
    "(VAR T17 T18)\n",
    "(PAIRS\n",
    "  F1_IN(cons(T17, T18)) -> U1^1(f1_in(T18), cons(T17, T18))\n",
    "  F1_IN(cons(T17, T18)) -> F1_IN(T18)\n",
    ")\n",
    "(RULES\n",
    "  f1_in(nil) -> f1_out1\n",
    "  f1_in(cons(T17, T18)) -> U1(f1_in(T18), cons(T17, T18))\n",
    "  U1(f1_out1, cons(T17, T18)) -> f1_out1\n",
    ")\n",
    "(Q\n",
    ")\n",
    "(EDGES\n",
    "    2 -> 1\n",
    "    2 -> 2\n",
    ")\n",
    "(MINIMAL)"
   ]
  },
  {
   "cell_type": "code",
   "execution_count": 7,
   "metadata": {},
   "outputs": [
    {
     "name": "stdout",
     "output_type": "stream",
     "text": [
      "Overwriting /tmp/hask.hs\n"
     ]
    }
   ],
   "source": [
    "%%file /tmp/hask.hs\n",
    "{-# htermination (foldr1 :: (a -> a -> a) -> (List a) -> a) #-}\n",
    "\n",
    "\n",
    "import qualified Prelude\n",
    "\n",
    "\n",
    "data MyBool = MyTrue | MyFalse\n",
    "\n",
    "data List a = Cons a (List a) | Nil\n",
    "\n",
    "\n",
    "foldr1 :: (a -> a -> a) -> (List a) -> a\n",
    "\n",
    "foldr1 f (Cons x Nil) = x\n",
    "\n",
    "foldr1 f (Cons x xs) = f x (foldr1 f xs)"
   ]
  },
  {
   "cell_type": "code",
   "execution_count": 9,
   "metadata": {},
   "outputs": [
    {
     "name": "stdout",
     "output_type": "stream",
     "text": [
      "Dumped to ./hask.hs-obl-14.qdp\n",
      "Dumped to ./hask.hs-obl-16.qdp\n"
     ]
    }
   ],
   "source": [
    "! java -ea -cp ~/Documents/solvers/aprove.jar aprove.CommandLineInterface.HaskellFrontendMain  /tmp/hask.hs"
   ]
  },
  {
   "cell_type": "code",
   "execution_count": null,
   "metadata": {},
   "outputs": [],
   "source": [
    "(VAR vx3 vx40 vx410 vx411 h)\n",
    "(PAIRS\n",
    "  new_foldr1(vx3, Cons(vx40, Cons(vx410, vx411)), h) -> new_foldr1(vx3, Cons(vx410, vx411), h)\n",
    ")\n",
    "(RULES\n",
    ")\n",
    "(Q\n",
    ")\n",
    "(EDGES\n",
    "    1 -> 1\n",
    ")\n",
    "(MINIMAL)"
   ]
  }
 ],
 "metadata": {
  "kernelspec": {
   "display_name": "Python 3",
   "language": "python",
   "name": "python3"
  },
  "language_info": {
   "codemirror_mode": {
    "name": "ipython",
    "version": 3
   },
   "file_extension": ".py",
   "mimetype": "text/x-python",
   "name": "python",
   "nbconvert_exporter": "python",
   "pygments_lexer": "ipython3",
   "version": "3.10.12"
  }
 },
 "nbformat": 4,
 "nbformat_minor": 2
}
