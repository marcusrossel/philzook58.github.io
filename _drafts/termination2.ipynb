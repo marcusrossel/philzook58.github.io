{
 "cells": [
  {
   "cell_type": "markdown",
   "metadata": {},
   "source": [
    "http://cl-informatik.uibk.ac.at/isr24/ rewriting school. Seems like all the good topics\n",
    "https://link.springer.com/book/10.1007/978-3-031-43369-6 frontiers of combining systems\n",
    "\n",
    "polynomial interpretations\n",
    "matrix interpretations\n",
    "SAT/LP solver for termination\n",
    "dealing wiht the xml format\n",
    "How does the frontend deal with things\n",
    "\n",
    "There is rewriting modulo equations, realtive rewriting, innermost rewriting, conditional rewriting, outermost rewriting, higher order rewriting hrs, cycle rewriting, string rewriting. How are these dealt with?\n",
    "\n",
    "Confluence checking CSI\n",
    "https://en.wikipedia.org/wiki/Cycle_detection\n",
    "\n",
    "Java. Hmm.\n",
    "eBPF\n",
    "\n",
    "https://maude.cs.uiuc.edu/tools/mta/\n",
    "https://maude.cs.uiuc.edu/tools/itp/hendrix-thesis.pdf\n",
    "hendrix thesis. Equational tree automata\n",
    "\n",
    "Well founded induction\n",
    "\n",
    "if foo(s(x)) -> foo(x) is a well founded definition, then there is intrinisically a valid induction hypothesis in there\n",
    "Is extracting the piece related the dependency pairs?\n",
    "How to deal with completeness check? Default to some dummy value? Well, it isn't a problem. One can't prove what the value is on other pieces. We do want confluence though. To make sure we don't have foo(x) == true /\\ foo(x) == false\n",
    "\n",
    "higher order. sizechangetool  https://github.com/Deducteam/SizeChangeTool wanda \n",
    "\n",
    "## Dependency Pairs\n",
    "https://www.sciencedirect.com/science/article/pii/S0304397599002078 Termination of term rewriting using dependency pairs\n",
    "Dependency pairs  fraemwork http://cl-informatik.uibk.ac.at/users/thiemann/paper/LPAR04DPFramework.pdf\n",
    "\n",
    "https://drops.dagstuhl.de/storage/00lipics/lipics-vol131-fscd2019/LIPIcs.FSCD.2019.9/LIPIcs.FSCD.2019.9.pdf Dependency Pairs Termination in Dependent Type Theory Modulo Rewriting\n",
    "\n",
    "Wanda \n",
    "\n",
    "\"Dependency pairs aren't that mysterious:\n",
    "Plus(x, S(y)) -> S(Plus(x, y))\n",
    "gives the pair\n",
    "Plus(x, S(y)) -> Plus(x, y)\n",
    "which intuitively is the only bit we really care about re termination.\n",
    "This is the \"ignore the context\" bit you were mentioning.\n",
    "\"\n",
    "\n",
    "\"\n",
    "Dependency pairs: not that tough an idea\n",
    "take a rewrite system R = { l -> r }\n",
    "Define G to be like R, but with every possible subterm of each right hand side\n",
    "so if G is f(x, y) -> g(f(y, x), y) then G is f(x, y) -> g(f(y, x), y) and f(x, y) -> f(y, x)\n",
    "now only allow G steps at the root, and then some arbitrary number of R steps not at the root\n",
    "the theorem is that termination of R <=> there is no infinite reduction of G-root + R non-root steps\n",
    "the idea is that G \"focuses\" the reductions on each possible subterm, ignoring the context\n",
    "now you only need to care about possible infinite sequences of G steps (with in-between R steps)\n",
    "\n",
    "Seems worse\n",
    "G is bigger than r\n",
    "\n",
    "yes but\n",
    "you can observe that some G steps may not follow another G step\n",
    "e.g.\n",
    "times(x, S(y)) -> plus(x, times(x, y))\n",
    "the G steps are times(x, S(y)) -> plus(x, times(x, y)) and times(x, S(y)) -> times(x, y)\n",
    "but there is no outer times rule for times after the first step!\n",
    "so the only \"loop\" for times is the second one\n",
    "the idea is that you can treat each \"mutual recursion\" rules individually\n",
    "often to make this explicit they rename the G head symbols\n",
    "so G is actually TIMES(x, S(y)) -> PLUS(x, times(x, y)) and TIMES(x, S(y)) -> TIMES(x, y)\n",
    "which feels different\n",
    "there's  only one rules that can lead to infinite TIMES steps\n",
    "\n",
    "But we still have all of R\n",
    "\n",
    "but what you need to show is termination of alternating G/R steps\n",
    "so if you prove that there can't be infinitely many G steps you're golden\n",
    "you'll see that in AproVE that's what they're trying to do\n",
    "\"remove\" G rules\n",
    "in practice you replace \"non-trivial\" inner terms by some fresh var \n",
    "so TIMES(x, S(y)) -> PLUS(x, z)\n",
    "that means any plus rule can fire at this point\n",
    "but a PLUS rule can't reach a TIMES rule, so you can prove first termination of PLUS then termination of TIMES\n",
    "but read the paper it's well-written\n",
    "\n",
    "Plus doesnt depend on times. Is that not sufficient to see they can be treated hierarchically?\n",
    "I cant show plus terminates then leave its rules out and show times terminates?\n",
    "How could termination checking possibly work in coq then\n",
    "\n",
    "Yes you can, but in TRSes things are not generally so modular\n",
    "\"depends on\" is basically what the dependency pair relation captures\n",
    "you can have crazy rules like plus(x, x) -> times(2, x)\n",
    "does that terminate?\n",
    "anyways\n",
    "\n",
    "I’m suspicious.\"\n",
    "\n",
    "simplification pair \n",
    "reduction order\n",
    "order eakly, delete strict pieces\n",
    "SCC dependency graph\n",
    "\n",
    "\n",
    "https://aprove.informatik.rwth-aachen.de/download\n",
    "\n",
    "https://matryoshka-project.github.io/wait2018/ WAIT Workshop on Automated (Co)inductive Theorem Proving\n",
    "HipSpec https://www.cse.chalmers.se/~jomoa/papers/hipspec-atx.pdf\n",
    "https://dmg.tuwien.ac.at/hetzl/teaching/d_vierling.pdf The limits of automated\n",
    "inductive theorem provers 2023 thesis\n",
    "vampire has induction support. What does it look like?\n",
    "https://www.cse.chalmers.se/~jomoa/papers/cicm15-TIP.pdf tons of inductive problems https://github.com/tip-org\n"
   ]
  },
  {
   "cell_type": "markdown",
   "metadata": {},
   "source": [
    "A core method of termination is to solve for a term order that meets your needs.\n",
    "If you're given a pile of equations, you could need to make choices about which direction they should point.\n",
    "\n",
    "For string rewriting / string equations variables don't matter that much\n",
    "\n",
    "It may be useful to maxsat this termination rather than insist it simply works.\n"
   ]
  },
  {
   "cell_type": "code",
   "execution_count": 73,
   "metadata": {},
   "outputs": [
    {
     "name": "stdout",
     "output_type": "stream",
     "text": [
      "[f + 0 + __varweight > __varweight,\n",
      " plus + 0 + s + 0 + __varweight + __varweight >\n",
      " s + 0 + plus + 0 + __varweight + __varweight,\n",
      " plus + 0 + 0 + 0 + __varweight > __varweight]\n"
     ]
    },
    {
     "data": {
      "text/html": [
       "<b>unsat</b>"
      ],
      "text/plain": [
       "unsat"
      ]
     },
     "execution_count": 73,
     "metadata": {},
     "output_type": "execute_result"
    }
   ],
   "source": [
    "#import cvxpy\n",
    "import z3\n",
    "from dataclasses import dataclass\n",
    "from collections import namedtuple\n",
    "\n",
    "Var = namedtuple(\"Var\", \"name\")\n",
    "Fn = namedtuple(\"Fn\", \"head args\")\n",
    "#(RULES\n",
    "#    plus(0,y) -> y\n",
    "#    plus(s(x),y) -> s(plus(x,y))\n",
    "#)\n",
    "rules = [\n",
    "    (Fn(\"f\", [Var(\"x\")]), Var(\"x\")),\n",
    "    (Fn(\"plus\", [Fn(\"s\", [Var(\"x\")]), Var(\"y\")]), Fn(\"s\", [Fn(\"plus\", [Var(\"x\"), Var(\"y\")])])),\n",
    "    (Fn(\"plus\", [Fn(\"0\", []), Var(\"y\")]), Var(\"x\")),\n",
    "]\n",
    "\n",
    "def weight(t):\n",
    "    if isinstance(t, Var):\n",
    "        return z3.Int(\"__varweight\")\n",
    "    elif isinstance(t, Fn):\n",
    "        return z3.Int(t.head) + sum(weight(a) for a in t.args)\n",
    "    else:\n",
    "        raise ValueError(f\"Unexpected term {t}\")\n",
    "\n",
    "s = z3.Solver()\n",
    "for (lhs,rhs) in rules:\n",
    "    s.add(weight(lhs) > weight(rhs))\n",
    "print(s)\n",
    "s.check()\n",
    "#m = s.model()\n",
    "#m\n",
    "\n",
    "\n"
   ]
  },
  {
   "cell_type": "code",
   "execution_count": 46,
   "metadata": {},
   "outputs": [
    {
     "name": "stdout",
     "output_type": "stream",
     "text": [
      "here\n",
      "f_1_0\n",
      "{'x': 1}\n",
      "here f_1\n",
      "{'x': 1*f_1_0, None: 0 + f_1}\n",
      "here 0\n",
      "here f_1\n"
     ]
    },
    {
     "data": {
      "text/plain": [
       "{'f': {None: 0 + 1}}"
      ]
     },
     "execution_count": 46,
     "metadata": {},
     "output_type": "execute_result"
    }
   ],
   "source": [
    "\n",
    "class LinTerm(dict):\n",
    "    \"\"\" Linear terms like 1 + 2x + 3y implemented as dictionary {None: 1, \"x\": 2, \"y\": 3}\"\"\"\n",
    "    def __add__(self, other):\n",
    "        if isinstance(other, dict): # vector addition\n",
    "            res = LinTerm(self)\n",
    "            for k,v in other.items():\n",
    "                res[k] = res.get(k, z3.IntVal(0)) + v\n",
    "        else: # scalar addition\n",
    "            res = LinTerm(self)\n",
    "            print(\"here\", other)\n",
    "            res[None] = res.get(None, z3.IntVal(0)) + other\n",
    "            return res\n",
    "        return res\n",
    "    def __mul__(self,other): #scalar multiplication\n",
    "        if isinstance(other, dict):\n",
    "            raise ValueError(\"Multiplication of linear terms not supported\")\n",
    "        res = LinTerm()\n",
    "        for k,v in self.items():\n",
    "            res[k] = v * other\n",
    "        return res\n",
    "    def __rmul__(self,other):\n",
    "        return self * other\n",
    "    def __radd__(self,other):\n",
    "        return self + other\n",
    "    def str(self):\n",
    "        return \" + \".join([f\"{v} * {k}\" for k,v in self.items()])\n",
    "    def repr(self):\n",
    "        return \" + \".join([f\"{v} * {k}\" for k,v in self.items()])\n",
    "    def __lt__(self,other):\n",
    "        if not isinstance(other, dict):\n",
    "            raise ValueError(\"Comparison of linear terms not supported\")\n",
    "        return z3.And([self.get(k,z3.IntVal(0)) < other.get(k,z3.IntVal(0)) for k in set(self.keys()).union(other.keys())])\n",
    "\n",
    "\n",
    "def poly_interp(head):\n",
    "    def res(*args):\n",
    "        arity = str(len(args))\n",
    "        print(\"here\")\n",
    "        print(z3.Int(head + \"_\" + arity + \"_\" + str(0)))\n",
    "        for i,a in enumerate(args):\n",
    "            print(a)\n",
    "            print( a * z3.Int(head + \"_\" + arity + \"_\" + str(i)) + z3.Int(head + \"_\" + arity))\n",
    "        return sum(a * z3.Int(head + \"_\" + arity + \"_\" + str(i)) for (i,a) in enumerate(args)) + z3.Int(head + \"_\" + arity) \n",
    "    return res\n",
    "\n",
    "def weight(t):\n",
    "    if isinstance(t, Var):\n",
    "        return LinTerm({t.name: 1})\n",
    "    elif isinstance(t, Fn):\n",
    "        return poly_interp(t.head)(*map(weight, t.args))\n",
    "    else:\n",
    "        raise ValueError(f\"Unexpected term {t}\")\n",
    "\n",
    "s = z3.Solver()\n",
    "for (lhs,rhs) in rules:\n",
    "    s.add(weight(lhs) > weight(rhs))\n",
    "s.check()\n",
    "s.model()\n",
    "\n",
    "def pp(model):\n",
    "    interp = {}\n",
    "    for d in model.decls():\n",
    "        v = model[d]\n",
    "        match d.name().split(\"_\"):\n",
    "            case (head,arity):\n",
    "                interp[head] = interp.get(head, LinTerm()) + {None: v}\n",
    "            case (head,arity,i):\n",
    "                interp[head] = interp.get(head, LinTerm()) + {\"x\" + str(i): v}\n",
    "\n",
    "        return interp\n",
    "pp(s.model())\n"
   ]
  },
  {
   "cell_type": "code",
   "execution_count": null,
   "metadata": {},
   "outputs": [],
   "source": [
    "# integer transition systems\n",
    "\n",
    "# cond -> rhs\n",
    "x,y,z = z3.Ints(\"x y z\")\n",
    "vars = (x,y,z)\n",
    "rules = [\n",
    "    (x >= 0, (x - 1, y, z)),\n",
    "    (y >= 0, (x, y - 1, z)),\n",
    "]\n",
    "\n",
    "# linear measure ax + by + cz\n",
    "a,b,c = z3.Ints(\"a b c\")\n",
    "\n",
    "for constr, (x1,y1,z1) in rules:\n",
    "    s.add(z3.ForAll([x,y,z], z3.Implies(constr, a*x + b*y + c*z > a*x1 + b*y1 + c*z1)))\n",
    "s.check()\n",
    "\n"
   ]
  },
  {
   "cell_type": "code",
   "execution_count": null,
   "metadata": {},
   "outputs": [],
   "source": [
    "import re\n",
    "lexer = [\n",
    "    (r\"\\s+\", None),\n",
    "    (r\"\\d+\", \"INT\"),\n",
    "    (r\"\\w+\", \"ID\"),\n",
    "    (\"RULES\", \"RULES\"),\n",
    "    (\"VAR\", \"VAR\")\n",
    "    (r\"\\(\", \"LPAREN\"),\n",
    "    (r\"\\)\", \"RPAREN\"),\n",
    "    (r\"->\", \"ARROW\"),\n",
    "]\n",
    "\n",
    "re.compiles()"
   ]
  },
  {
   "cell_type": "markdown",
   "metadata": {},
   "source": [
    " lexicographic vector measure. f(x) > f(x1) or f(x) == f(x1) and g(x) > g(x1)\n",
    " It's all easy enough to state. The quantifier gives me unease though.\n",
    " CEGAR it?\n",
    " I mean actually a single exaple problem would be nice\n",
    " https://aprove.informatik.rwth-aachen.de/interface/v-AProVE2023/itrs\n",
    " https://aprove.informatik.rwth-aachen.de/interface/v-AProVE2023/inttrs\n",
    "\n",
    " koat and loat are like this right?\n",
    " https://arxiv.org/pdf/2202.04546.pdf https://koat.verify.rwth-aachen.de/\n",
    "\n",
    " polygonal loops\n",
    "\n",
    " f(x,y,z) -> f(x + 1, y - 2)  is a integer transition system.\n",
    " changing the top symbol is a way of adding finite state to this.\n",
    "\n",
    " https://koat.verify.rwth-aachen.de/\n",
    " https://aprove.informatik.rwth-aachen.de/interface/v-koat/c a secret koat web demo oooh\n",
    "  "
   ]
  },
  {
   "cell_type": "markdown",
   "metadata": {},
   "source": [
    "Polynomial interpretation does give a weight to each symbol, but also gives a weighting to each possible subterm. That rules.\n",
    "\n",
    "iteratively apply to prune.\n",
    "\n",
    "right ground systems have decidable termination.\n",
    "ground systems also have \n",
    "\n",
    "for knuckledragger.\n",
    "- critical pair checker. No critical pairs = confluent. foo(a,b) = bar(b,c) should be unsat\n",
    "- termin checker = polynomial interp. structurally decreasing is good, but we can do better. Build in integers\n",
    "- completeness checker = could just give default value? Isn't unsound persay.\n",
    "\n"
   ]
  },
  {
   "cell_type": "code",
   "execution_count": 69,
   "metadata": {},
   "outputs": [
    {
     "ename": "SyntaxError",
     "evalue": "expected ':' (71271212.py, line 16)",
     "output_type": "error",
     "traceback": [
      "\u001b[0;36m  Cell \u001b[0;32mIn[69], line 16\u001b[0;36m\u001b[0m\n\u001b[0;31m    for v in defn.num_vars()\u001b[0m\n\u001b[0m                            ^\u001b[0m\n\u001b[0;31mSyntaxError\u001b[0m\u001b[0;31m:\u001b[0m expected ':'\n"
     ]
    }
   ],
   "source": [
    "Nat = z3.Datatype(\"Nat\")\n",
    "Nat.declare(\"zero\")\n",
    "Nat.declare(\"s\", (\"pred\", Nat))\n",
    "Nat = Nat.create()\n",
    "\n",
    "plus = z3.Function(\"plus\", Nat, Nat, Nat)\n",
    "x,y = z3.Consts(\"x y\", Nat)\n",
    "defns = [\n",
    "    z3.ForAll([x], plus(Nat.zero, x) == x),\n",
    "    z3.ForAll([x,y], plus(Nat.s(x), y) == Nat.s(plus(x,y)))\n",
    "]\n",
    "\n",
    "# more split up and easier to check.\n",
    "# defining fun sym. pat vars, pattern, rhs\n",
    "defns2 = plus, [\n",
    "    ([x], (Nat.zero, x), x),\n",
    "    ([x,y], (Nat.s(x), y), Nat.s(plus(x,y)))\n",
    "]\n",
    "\n",
    "def check_defn(defns):\n",
    "    for defn in defns:\n",
    "        assert defn.is_forall()\n",
    "        for v in defn.num_vars()\n",
    "            defn.var_name(v)\n",
    "    defn.body()\n",
    "    # check symbol undefined \n",
    "    # quantifier free\n",
    "\n",
    "    # check top symbol on lhs is same\n",
    "\n",
    "    # check no overlap\n",
    "\n",
    "    # check termination\n",
    "\n",
    "def check_thm():\n",
    "    pass\n",
    "\n"
   ]
  },
  {
   "cell_type": "code",
   "execution_count": 74,
   "metadata": {},
   "outputs": [],
   "source": [
    "dir(defns[0])\n",
    "defn = defns[1]\n",
    "#defn.weight()\n",
    "dir(defn)\n",
    "b = defn.body()\n",
    "#dir(b)\n"
   ]
  },
  {
   "cell_type": "code",
   "execution_count": null,
   "metadata": {},
   "outputs": [],
   "source": [
    "def subterms(t):\n",
    "    if isinstance(t, Var):\n",
    "        return\n",
    "    yield t\n",
    "    if isinstance(t, Fn):\n",
    "        for a in t.args:\n",
    "            yield from subterms(a)\n",
    "\n",
    "def capital(t):\n",
    "    \"\"\"replace head symbol with new thing. Why?\"\"\"\n",
    "    if isinstance(t, Fn):\n",
    "        return Fn(t.head.capitalize(), t.args)\n",
    "    else:\n",
    "        raise ValueError(f\"Unexpected term {t}\")\n",
    "    \n",
    "def dependency_pairs(lhs,rhs):\n",
    "    for t in subterms(rhs):\n",
    "        yield (lhs,t)\n"
   ]
  },
  {
   "cell_type": "code",
   "execution_count": 5,
   "metadata": {},
   "outputs": [
    {
     "name": "stdout",
     "output_type": "stream",
     "text": [
      "Overwriting /tmp/prolog.pl\n"
     ]
    }
   ],
   "source": [
    "%%file /tmp/prolog.pl\n",
    "%query: append(b,f,f)\n",
    "append(nil,L,L).\n",
    "append(cons(X,Xs),Ys,cons(X, Zs)) :- append(Xs,Ys,Zs)."
   ]
  },
  {
   "cell_type": "code",
   "execution_count": 3,
   "metadata": {},
   "outputs": [
    {
     "name": "stdout",
     "output_type": "stream",
     "text": [
      "No input file, aborting.\n",
      "Usage: java -cp aprove.jar aprove.CommandLineInterface.PrologFrontendMain [OPTION] PLFILE\n",
      "\n",
      "Prolog to QDP/Graph dump export from AProVE 2014.\n",
      "\n",
      " -h, --help             print this help\n",
      " -o, --outputDir DIR    directory in which TRSs will be dumped (default '.')\n",
      " -t, --timeout SECONDS  timeout, in seconds (default 60)\n",
      " -p, --proof            print proof for steps from input to TRSs\n",
      " -g, --graph yes|no     export to Graph (default no)\n",
      " -q, --query QUERY      a query which tells AProVE what to analyze\n",
      " -s, --startTerm TERM   analyze termination starting with term TERM\n",
      " -j, --json yes|no      export JSON (default no), conflicts with other output\n"
     ]
    }
   ],
   "source": [
    "! java -ea -cp ~/Documents/solvers/aprove.jar aprove.CommandLineInterface.PrologFrontendMain "
   ]
  },
  {
   "cell_type": "code",
   "execution_count": 6,
   "metadata": {},
   "outputs": [
    {
     "name": "stdout",
     "output_type": "stream",
     "text": [
      "Dumped to ./prolog.pl-obl-4.qdp\n"
     ]
    }
   ],
   "source": [
    "! java -ea -cp ~/Documents/solvers/aprove.jar aprove.CommandLineInterface.PrologFrontendMain /tmp/prolog.pl"
   ]
  },
  {
   "cell_type": "code",
   "execution_count": null,
   "metadata": {},
   "outputs": [],
   "source": [
    "(VAR T17 T18)\n",
    "(PAIRS\n",
    "  F1_IN(cons(T17, T18)) -> U1^1(f1_in(T18), cons(T17, T18))\n",
    "  F1_IN(cons(T17, T18)) -> F1_IN(T18)\n",
    ")\n",
    "(RULES\n",
    "  f1_in(nil) -> f1_out1\n",
    "  f1_in(cons(T17, T18)) -> U1(f1_in(T18), cons(T17, T18))\n",
    "  U1(f1_out1, cons(T17, T18)) -> f1_out1\n",
    ")\n",
    "(Q\n",
    ")\n",
    "(EDGES\n",
    "    2 -> 1\n",
    "    2 -> 2\n",
    ")\n",
    "(MINIMAL)"
   ]
  },
  {
   "cell_type": "code",
   "execution_count": 7,
   "metadata": {},
   "outputs": [
    {
     "name": "stdout",
     "output_type": "stream",
     "text": [
      "Overwriting /tmp/hask.hs\n"
     ]
    }
   ],
   "source": [
    "%%file /tmp/hask.hs\n",
    "{-# htermination (foldr1 :: (a -> a -> a) -> (List a) -> a) #-}\n",
    "\n",
    "\n",
    "import qualified Prelude\n",
    "\n",
    "\n",
    "data MyBool = MyTrue | MyFalse\n",
    "\n",
    "data List a = Cons a (List a) | Nil\n",
    "\n",
    "\n",
    "foldr1 :: (a -> a -> a) -> (List a) -> a\n",
    "\n",
    "foldr1 f (Cons x Nil) = x\n",
    "\n",
    "foldr1 f (Cons x xs) = f x (foldr1 f xs)"
   ]
  },
  {
   "cell_type": "code",
   "execution_count": 9,
   "metadata": {},
   "outputs": [
    {
     "name": "stdout",
     "output_type": "stream",
     "text": [
      "Dumped to ./hask.hs-obl-14.qdp\n",
      "Dumped to ./hask.hs-obl-16.qdp\n"
     ]
    }
   ],
   "source": [
    "! java -ea -cp ~/Documents/solvers/aprove.jar aprove.CommandLineInterface.HaskellFrontendMain  /tmp/hask.hs"
   ]
  },
  {
   "cell_type": "code",
   "execution_count": null,
   "metadata": {},
   "outputs": [],
   "source": [
    "(VAR vx3 vx40 vx410 vx411 h)\n",
    "(PAIRS\n",
    "  new_foldr1(vx3, Cons(vx40, Cons(vx410, vx411)), h) -> new_foldr1(vx3, Cons(vx410, vx411), h)\n",
    ")\n",
    "(RULES\n",
    ")\n",
    "(Q\n",
    ")\n",
    "(EDGES\n",
    "    1 -> 1\n",
    ")\n",
    "(MINIMAL)"
   ]
  },
  {
   "cell_type": "markdown",
   "metadata": {},
   "source": [
    "Termination is the question of whether some dynamical system will always eventually stop.\n",
    "The \"dyanamical system\" in question is usually a term rewriting system (rules describing simplifying or evaluating exressions like `x + 0 -> x` or `append(cons(a,x), y) -> cons(append(x,y))`). The state here is the current term and the dynamics are described by the rules. There are an infinite number of posssible terms/states to consider here. What is there to do?\n",
    "\n",
    "An old notion of termination is that of a fixed point. The differential equation `y' = -y` has solutions $y = C e ^ {-x}$. We can see that this is a decaying solution heading to `y = 0`. We could also find this fixed point by finding where `'y = 0` which mean `y = 0`.\n",
    "Lyapunov functions are certificates for regions of decay.\n",
    "\n",
    "It perhaps helps to consider a system with a finite number of states. It then is clearly more tractable to consider the question of whether a system will eventually get stuck. If we think about it, this is equivalent to just checking if there is a loop in the transition graph.\n",
    "\n",
    "For infinite state systems the problem is more tricky. We can't exhaustively be sure there are no loops by just checking each state.\n",
    "\n",
    "Termination is important in mathematics and program analysis. If you alow a non-terminating definition of a function into your logical system\n",
    "For program analysis, if you can guarantee some loop doesn't terminate, you can ignore whatever comes after it. If you can guarantee it always terminates, you can perhaps lift code that comes after to before the loop or rearrange call sites. A guaranteed terminating piece of pure code behaves more like an ideal mathematical function and is more easy to reason and manipulate correctly. If a compiler can't reason, it is not allowed to perform optimizatins and may emit pessimistic code. This may produce better code from a compiler. Having some exact bounds of the maximum number of iterations may unlock even more. For some loops (like fixed parameter for loops) this may be very easy to do, for some nasty while loop it may not.\n",
    "For verification purposes, it may be desirable to state and prove that a function always returns an answer with such and such result.\n",
    "\n",
    "There is a class of solver called a termination checker\n",
    "\n",
    "The core notion of a measure is some natural number that goes down and is bounded below by zero, like the length of a list. With enough squinting, other termination certificates are generalizations of this intuitive idea.\n",
    "\n",
    "The idea of a well-founded relation is in essence trying to just define what it means for something to eventually always stop and our basic notion of something that always stops is a decreasing natural number.\n",
    "\n",
    "<https://cstheory.stackexchange.com/questions/34316/is-there-a-good-notion-of-non-termination-and-halting-proofs-in-type-theory>\n",
    "\n",
    "`zero = cons(0,zero)` is \"ok\". It has a model N -> N? Maybe non terminating definitions can interfere with the foundation axiom in some bad way. or `fact(n) = n == 0? 1 : n * fact(n-1)` when `n < 0` runs off to infinity, but maybe some ordinal or hyperinteger model can handle it?"
   ]
  }
 ],
 "metadata": {
  "kernelspec": {
   "display_name": "Python 3",
   "language": "python",
   "name": "python3"
  },
  "language_info": {
   "codemirror_mode": {
    "name": "ipython",
    "version": 3
   },
   "file_extension": ".py",
   "mimetype": "text/x-python",
   "name": "python",
   "nbconvert_exporter": "python",
   "pygments_lexer": "ipython3",
   "version": "3.10.12"
  }
 },
 "nbformat": 4,
 "nbformat_minor": 2
}
