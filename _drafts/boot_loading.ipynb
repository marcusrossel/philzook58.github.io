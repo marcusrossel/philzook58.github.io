{
 "cells": [
  {
   "cell_type": "code",
   "execution_count": null,
   "metadata": {},
   "outputs": [],
   "source": []
  },
  {
   "cell_type": "markdown",
   "metadata": {},
   "source": [
    "open titan\n",
    "https://opentitan.org/book/doc/security/specs/attestation/ hardware attestation\n",
    "\n",
    "https://docs.arduino.cc/retired/hacking/software/Bootloader/ arduino bootloader\n",
    "\n",
    "Running risc v. Emulating m,icrocontroller?\n",
    "\n",
    "\n",
    "privlenged architexcture riscv\n",
    "https://riscv.org/wp-content/uploads/2017/05/riscv-privileged-v1.10.pdf\n",
    "\n",
    "opensbi https://github.com/riscv-software-src/opensbi\n",
    "\n"
   ]
  }
 ],
 "metadata": {
  "language_info": {
   "name": "python"
  }
 },
 "nbformat": 4,
 "nbformat_minor": 2
}
