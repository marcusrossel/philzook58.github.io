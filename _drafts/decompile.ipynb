{
 "cells": [
  {
   "cell_type": "markdown",
   "metadata": {},
   "source": [
    "https://ssrg-vt.github.io/FoxDec/\n",
    "Cifuentes\n",
    "\n",
    "Loop restructuring. Is there a declarative formulation? Connection to tree decomposition\n",
    "\n",
    "Dead stuff elimination\n",
    "\n",
    "type reconstruction. Decompiling FOL to Typed logic. Typed assembly\n",
    "branches are bools.\n",
    "\n",
    "Bisimulation driven?\n",
    "Macro decompilation. Contextual?\n"
   ]
  }
 ],
 "metadata": {
  "language_info": {
   "name": "python"
  }
 },
 "nbformat": 4,
 "nbformat_minor": 2
}
