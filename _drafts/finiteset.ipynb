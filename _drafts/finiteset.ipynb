{
 "cells": [
  {
   "cell_type": "code",
   "execution_count": null,
   "metadata": {},
   "outputs": [],
   "source": []
  },
  {
   "cell_type": "markdown",
   "metadata": {},
   "source": [
    "Set theory is interesting.\n",
    "\n",
    "It's a really cool thing that it builds up a ton of structure from such basic seeming components.\n",
    "\n",
    "The concept of a set within a set is a bit unfamiliar from a programming perspective. This rarely comes up?\n",
    "Typical set data structures require an ability to totally order or hash its elements. The subset relationship is almost a canonical example of a partial order. \n",
    "Hashing of sets is very interesting.\n",
    "\n",
    "\n",
    "\n",
    "By using hash consing, we can give an arbitrary total ordering to each set as we build it, the order given by it's `id` identifiers. This ordering will not be stable between different runs.\n",
    "In this way we can use the method of taking a sorted deduplicated tuple as being a canonical representative of it's set. Hashing this tuple in the usual way works fine.\n",
    "Another approach is to consider using a hash combination function that respects the properties of the set datastructure. In other words the hash combination function is something like a homomorphism from sets to integers. An example might be `xor`, which is associative and commutative, just like set union.\n",
    "\n",
    "\n",
    "\n"
   ]
  },
  {
   "cell_type": "code",
   "execution_count": 15,
   "metadata": {},
   "outputs": [
    {
     "name": "stdout",
     "output_type": "stream",
     "text": [
      "emp={}\n",
      "hashset([x]) is hashset([y, y])=True\n"
     ]
    }
   ],
   "source": [
    "from dataclasses import dataclass\n",
    "from typing import Iterable\n",
    "univ = {}\n",
    "@dataclass(frozen=True)\n",
    "class HashSet(): # do not use this constructor\n",
    "    elems: tuple[\"HashSet\", ...] # names. elem, mem, items   \n",
    "    def __lt__(self, other) -> bool:\n",
    "        return self.elems < other.elems\n",
    "    def __hash__(self) -> int:\n",
    "        return hash(id(self))\n",
    "    def __eq__(self, other) -> bool: # fast equality via pointer equality\n",
    "        return self is other\n",
    "    def __iter__(self): # essentially enables a comprehension/separation operation\n",
    "        return iter(self.elems)\n",
    "    def __len__(self):\n",
    "        return len(self.elems)\n",
    "    def __repr__(self): # pretty printing\n",
    "        return \"{\" + \",\".join(map(repr, self.elems)) + \"}\"\n",
    "\n",
    "# hmm. Could I use functools cache here? But maybe then it's hard to get the univ later\n",
    "def hashset(x : Iterable[HashSet]) -> HashSet:\n",
    "    \"\"\"Smart constructor returns literally the same object if the same input is given.\"\"\"\n",
    "    x = tuple(sorted(set(x)))\n",
    "    if x in univ:\n",
    "        return univ[x]\n",
    "    else:\n",
    "        y = HashSet(x)\n",
    "        univ[x] = y\n",
    "        return y\n",
    "    \n",
    "emp = hashset([])\n",
    "print(f\"{emp=}\")\n",
    "\n",
    "# When we make the same hashset twice, they should be the same\n",
    "x = hashset([])\n",
    "y = hashset([])\n",
    "print(f\"{hashset([x]) is hashset([y, y])=}\")\n"
   ]
  },
  {
   "cell_type": "markdown",
   "metadata": {},
   "source": [
    "Union is a new primitive operation. Anything that needs to touch the `elems` field is peeking under the curtains. Whereas intersection is a derived operation because it can use comprehension. Is this true? Ehhhh. Kind of we have an ambient theory of lists and tuples. We can convert to them using a comprehension. Are lists, tuples, generators kind of like \"classes\"? They are HashSet like."
   ]
  },
  {
   "cell_type": "code",
   "execution_count": 6,
   "metadata": {},
   "outputs": [],
   "source": [
    "\n",
    "def union(x,y):\n",
    "    return hashset(x.elems + y.elems)\n",
    "\n",
    "def intersect(x:HashSet,y:HashSet) -> HashSet:\n",
    "    return hashset([z for z in x if z in y])\n",
    "\n",
    "def eats(x,y): # aka add\n",
    "    return hashset((y,) + x.elems)\n"
   ]
  },
  {
   "cell_type": "code",
   "execution_count": 7,
   "metadata": {},
   "outputs": [
    {
     "name": "stdout",
     "output_type": "stream",
     "text": [
      "three={{},{{}},{{},{{}}}}\n",
      "len(three)=3\n"
     ]
    }
   ],
   "source": [
    "#one = hashset([emp])\n",
    "\n",
    "def succ(x: HashSet) -> HashSet:\n",
    "    return eats(x, x)\n",
    "one = succ(emp)\n",
    "one\n",
    "two = succ(one)\n",
    "two\n",
    "three = succ(two)\n",
    "print(f\"{three=}\")\n",
    "print(f\"{len(three)=}\")"
   ]
  },
  {
   "cell_type": "code",
   "execution_count": null,
   "metadata": {},
   "outputs": [],
   "source": [
    "\n",
    "from functools import cache\n",
    "#memoization\n",
    "\n",
    "@cache\n",
    "def from_int(n):\n",
    "    assert n >= 0\n",
    "    if n == 0:\n",
    "        return emp\n",
    "    return succ(from_int(n-1))\n",
    "\n",
    "print(f\"{from_int(3) == three=}\")\n",
    "from_int(4)"
   ]
  },
  {
   "cell_type": "code",
   "execution_count": 7,
   "metadata": {},
   "outputs": [],
   "source": [
    "def reify() -> Hashset:\n",
    "    return hashset(univ.values())\n",
    "\n",
    "#reify()"
   ]
  },
  {
   "cell_type": "code",
   "execution_count": 8,
   "metadata": {},
   "outputs": [
    {
     "data": {
      "text/plain": [
       "True"
      ]
     },
     "execution_count": 8,
     "metadata": {},
     "output_type": "execute_result"
    }
   ],
   "source": [
    "def pred(z : Hashset) -> Hashset:\n",
    "    return max(z.x, key=len)\n",
    "\n",
    "pred(three) == two"
   ]
  },
  {
   "cell_type": "code",
   "execution_count": 16,
   "metadata": {},
   "outputs": [
    {
     "ename": "NameError",
     "evalue": "name 'Hashset' is not defined",
     "output_type": "error",
     "traceback": [
      "\u001b[0;31m---------------------------------------------------------------------------\u001b[0m",
      "\u001b[0;31mNameError\u001b[0m                                 Traceback (most recent call last)",
      "Cell \u001b[0;32mIn[16], line 2\u001b[0m\n\u001b[1;32m      1\u001b[0m \u001b[38;5;28;01mimport\u001b[39;00m \u001b[38;5;21;01mitertools\u001b[39;00m\n\u001b[0;32m----> 2\u001b[0m \u001b[38;5;28;01mdef\u001b[39;00m \u001b[38;5;21mpower\u001b[39m(s : \u001b[43mHashset\u001b[49m) \u001b[38;5;241m-\u001b[39m\u001b[38;5;241m>\u001b[39m Hashset:\n\u001b[1;32m      3\u001b[0m     \u001b[38;5;66;03m# https://docs.python.org/3/library/itertools.html#itertools-recipes\u001b[39;00m\n\u001b[1;32m      4\u001b[0m     \u001b[38;5;28;01mreturn\u001b[39;00m hashset(itertools\u001b[38;5;241m.\u001b[39mchain\u001b[38;5;241m.\u001b[39mfrom_iterable(\u001b[38;5;28mmap\u001b[39m(hashset, itertools\u001b[38;5;241m.\u001b[39mcombinations(s\u001b[38;5;241m.\u001b[39mx, r)) \u001b[38;5;28;01mfor\u001b[39;00m r \u001b[38;5;129;01min\u001b[39;00m \u001b[38;5;28mrange\u001b[39m(\u001b[38;5;28mlen\u001b[39m(s)\u001b[38;5;241m+\u001b[39m\u001b[38;5;241m1\u001b[39m)))\n\u001b[1;32m      6\u001b[0m power(power(emp))\n",
      "\u001b[0;31mNameError\u001b[0m: name 'Hashset' is not defined"
     ]
    }
   ],
   "source": [
    "import itertools\n",
    "def power(s : HashSet) -> HashSet:\n",
    "    # https://docs.python.org/3/library/itertools.html#itertools-recipes\n",
    "    return hashset(itertools.chain.from_iterable(map(hashset, itertools.combinations(s.x, r)) for r in range(len(s)+1)))\n",
    "\n",
    "power(power(emp))\n",
    "\n",
    "wrap2 = hashset([hashset([emp])])\n",
    "\n",
    "def closure(s : HashSet) -> HashSet:\n",
    "    return reduce(union, [closure(x) for x in s])\n",
    "    #pass #return hashset([ power(closure(x)) for x in s ])\n",
    "\n",
    "def natlabel(s:HashSet) -> int:\n",
    "    return sum(2**natlabel(x) for x in s)\n",
    "\n",
    "natlabel(emp)\n",
    "natlabel(one)\n",
    "natlabel(wrap2)\n",
    "natlabel(two)\n",
    "natlabel(three)\n"
   ]
  },
  {
   "cell_type": "code",
   "execution_count": 10,
   "metadata": {},
   "outputs": [
    {
     "ename": "NameError",
     "evalue": "name 'HashSet' is not defined",
     "output_type": "error",
     "traceback": [
      "\u001b[0;31m---------------------------------------------------------------------------\u001b[0m",
      "\u001b[0;31mNameError\u001b[0m                                 Traceback (most recent call last)",
      "Cell \u001b[0;32mIn[10], line 1\u001b[0m\n\u001b[0;32m----> 1\u001b[0m \u001b[38;5;28;01mdef\u001b[39;00m \u001b[38;5;21mplus\u001b[39m(x: \u001b[43mHashSet\u001b[49m, y : HashSet):\n\u001b[1;32m      2\u001b[0m     \u001b[38;5;28;01mif\u001b[39;00m x \u001b[38;5;241m==\u001b[39m emp:\n\u001b[1;32m      3\u001b[0m         \u001b[38;5;28;01mreturn\u001b[39;00m y\n",
      "\u001b[0;31mNameError\u001b[0m: name 'HashSet' is not defined"
     ]
    }
   ],
   "source": [
    "def plus(x: HashSet, y : HashSet):\n",
    "    if x == emp:\n",
    "        return y\n",
    "    return hashset([plus(x,y) for x in x.x])\n",
    "\n",
    "@cache\n",
    "def plus(x:HashSet, y : HashSet):\n",
    "    if x == emp:\n",
    "        return y\n",
    "    return hashset([plus(x,y) for x in x.x])\n",
    "\n",
    "\n",
    "def pair(x,y):\n",
    "    return hashset([hashset([x]), hashset([x,y])])\n",
    "\n",
    "def fst(z):\n",
    "    x,y = z.x\n",
    "    if len(x) == 1:\n",
    "        return x\n",
    "    else:\n",
    "        return y\n",
    "\n",
    "def snd(z):\n",
    "    x,y = z.x\n",
    "    if len(y) == 1:\n",
    "        x,y = y,x\n",
    "    return y - x"
   ]
  },
  {
   "cell_type": "markdown",
   "metadata": {},
   "source": [
    "One of the uses of pairs is to encode functions and relations. A natural form of a finite function in python is a dictionary. Here we show the isomorphism"
   ]
  },
  {
   "cell_type": "code",
   "execution_count": null,
   "metadata": {},
   "outputs": [],
   "source": [
    "def from_dict(d):\n",
    "    return hashset([pair(k, v) for k,v in d.items()])\n",
    "def to_dict(z):\n",
    "    return {fst(x):snd(x) for x in z}\n",
    "def domain(z):\n",
    "    return hashset([fst(x) for x in z])\n",
    "def codomain(z):\n",
    "    return hashset([snd(x) for x in z])"
   ]
  },
  {
   "cell_type": "markdown",
   "metadata": {},
   "source": [
    "Families\n",
    "\n"
   ]
  },
  {
   "cell_type": "code",
   "execution_count": 18,
   "metadata": {},
   "outputs": [],
   "source": [
    "def choice(Xi):\n",
    "    return hashset([pair(fst(x), snd(x).elems[0]) for x in Xi])"
   ]
  },
  {
   "cell_type": "markdown",
   "metadata": {},
   "source": [
    "Can we talk about induction?\n",
    "\n",
    "The system is missing the ability the talk about the hypothetical. A little bit of crazy talk, but maybe one way of doing this is using promises/futures. If a value is never forced, then it's contents do not matter. This is similar to inferring forall polymorphism or when a prolog query returns an unbound metavariable.\n",
    "\n",
    "Can we include infinite sets? In some sense perhaps. I believe we can basically attach some ordinals. There are certain questions that won't be computable. `[from_int(i) for i integers()] in omega` is true, but python won't ever return true.\n",
    "\n",
    "https://en.wikipedia.org/wiki/Von_Neumann_universe\n",
    "\n",
    "set logic programming\n"
   ]
  },
  {
   "cell_type": "markdown",
   "metadata": {},
   "source": [
    "There is of course an empty set.\n",
    "\n",
    "Comprehension is allowed. We obviously need to perform comprehension over a known set, so it is separation\n",
    "\n",
    "axiom of choice. We don't really need the axiom of choice since we don't have infinite things\n",
    "\n",
    "Hereditarily Finite Sets\n",
    "Paulson https://lawrencecpaulson.github.io/2022/02/23/Hereditarily_Finite.html\n",
    "\n",
    "\n",
    "Non well founded sets like Graham's thing\n",
    "Aczel\n",
    "We can make loopy set structures if we take iterators / lazy data structures as our sets.\n",
    "\n",
    "The laziness allows the set to be deep (infinite depth to set) or wide (infinite card set)\n",
    "\n",
    "\n",
    "\n",
    "\n"
   ]
  },
  {
   "cell_type": "code",
   "execution_count": null,
   "metadata": {},
   "outputs": [],
   "source": []
  },
  {
   "cell_type": "code",
   "execution_count": null,
   "metadata": {},
   "outputs": [],
   "source": [
    "%%file /tmp/set.tptp\n",
    "cnf(emp_exist, axiom, ~elem(X,emp)).\n",
    "fof(extension, axiom, (![X] : (elem(X,A) <=> elem(X,B)))) <=> A = B).\n",
    "fof(power, )\n",
    "\n",
    "\n"
   ]
  }
 ],
 "metadata": {
  "kernelspec": {
   "display_name": "Python 3",
   "language": "python",
   "name": "python3"
  },
  "language_info": {
   "codemirror_mode": {
    "name": "ipython",
    "version": 3
   },
   "file_extension": ".py",
   "mimetype": "text/x-python",
   "name": "python",
   "nbconvert_exporter": "python",
   "pygments_lexer": "ipython3",
   "version": "3.10.12"
  }
 },
 "nbformat": 4,
 "nbformat_minor": 2
}
