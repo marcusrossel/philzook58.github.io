{
 "cells": [
  {
   "cell_type": "code",
   "execution_count": null,
   "metadata": {},
   "outputs": [],
   "source": []
  },
  {
   "cell_type": "markdown",
   "metadata": {},
   "source": [
    "Infinite tower of ptrace.\n",
    "n-categories and lisp3. metalevels.\n",
    "Could use ptrace as a effect interpreter. sandboxing\n",
    "\n",
    "\n",
    "int mfork()\n",
    "\n",
    "https://knight.sc/malware/2019/01/06/creating-suspended-processes.html fork then exec"
   ]
  },
  {
   "cell_type": "code",
   "execution_count": null,
   "metadata": {},
   "outputs": [],
   "source": [
    "%%file /tmp/forky.c\n",
    "\n",
    "int main(){\n",
    "    fork();\n",
    "    \n",
    "}"
   ]
  },
  {
   "cell_type": "code",
   "execution_count": null,
   "metadata": {},
   "outputs": [],
   "source": [
    "%%file /tmp/example.c\n",
    "void child(){\n",
    "    ptrace(PTRACE_TRACEME, 0, 0, 0);\n",
    "    execv(\"./process\", argv);\n",
    "}\n",
    "\n",
    "void parent(){\n",
    "    int\tstatus;\n",
    "    waitpid(pid, &status, 0);\n",
    "\n",
    "    if (WIFSTOPPED(status) && WSTOPSIG(status) == SIGTRAP) {\n",
    "        // Modify suspended process\n",
    "\n",
    "        ptrace(PTRACE_CONT, pid, (caddr_t)1, 0);\n",
    "    }\n",
    "}\n",
    "\n",
    "int main(int argc, char **argv){\n",
    "    pid_t result;\n",
    "\n",
    "    result = fork();\n",
    "    switch (result) {\n",
    "    case 0:\n",
    "        child();\n",
    "        break;\n",
    "    case -1:\n",
    "        // error\n",
    "        break;\n",
    "    default:\n",
    "        parent();\n",
    "        break;\n",
    "    }\n",
    "}"
   ]
  }
 ],
 "metadata": {
  "language_info": {
   "name": "python"
  }
 },
 "nbformat": 4,
 "nbformat_minor": 2
}
