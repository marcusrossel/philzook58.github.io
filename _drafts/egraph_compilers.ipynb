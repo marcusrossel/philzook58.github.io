{
 "cells": [
  {
   "cell_type": "code",
   "execution_count": null,
   "metadata": {},
   "outputs": [],
   "source": []
  },
  {
   "cell_type": "markdown",
   "metadata": {},
   "source": [
    "A survey of egraphs for compilers\n",
    "\n",
    "Backwards search for egg is a good start\n",
    "\n",
    "\n",
    "\n",
    "https://egraphs.org/meeting/2024-09-19-isaria \n",
    "https://dl.acm.org/doi/10.1145/3617232.3624873 Automatic Generation of Vectorizing Compilers for Customizable Digital Signal Processors\n",
    "\n",
    "Latent Idiom Recognition for a Minimalist Functional Array Language using Equality Saturation https://arxiv.org/abs/2312.17682\n",
    "\n",
    "https://egraphs.org/meeting/2024-04-18-sparse-tensor-diff\n",
    "https://arxiv.org/pdf/2303.07030  ∇SD: Differentiable Programming for Sparse Tensors\n"
   ]
  }
 ],
 "metadata": {
  "language_info": {
   "name": "python"
  }
 },
 "nbformat": 4,
 "nbformat_minor": 2
}
