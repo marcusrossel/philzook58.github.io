{
 "cells": [
  {
   "cell_type": "code",
   "execution_count": null,
   "metadata": {},
   "outputs": [],
   "source": []
  },
  {
   "cell_type": "markdown",
   "metadata": {},
   "source": [
    "LEanr a scheme\n",
    "\n",
    "Anything you can implement `var` / `varo` is nonlogical.\n",
    "\n",
    "copy_term\n",
    "\n",
    "Deeply embedded copyterm. Fasiling conmputation as a deep embedding\n",
    "\n",
    "\n",
    "David galois parsing https://david.darais.com/\n",
    "residuization FLP\n",
    "\n",
    "gotta be lazy.\n",
    "Declarative copy_term. Forall binders. Lambda prolog is not sufficient becausey ou traverse, which is gen and test\n",
    "\n",
    "ziggurat olin shivers\n",
    "\n",
    "johnathan edwards subtext\n",
    "\n",
    "no cloning theorem of logic variables? Quantum worlds. Using a variable is observing it.\n",
    "\n",
    "Spritelyt goblins https://spritely.institute/goblins/\n",
    "https://ocapn.org/\n",
    "Christine lemmer webber\n",
    "Hoot guile\n",
    "https://www.w3.org/TR/activitypub/ \n",
    "\n",
    "\n",
    "Robert Gluck - reversible computation\n",
    "Jeremy Zucker\n",
    "\n",
    "Conj is the problem. infinite success /\\ fail   is bad `fail /\\ inf succ` is fine.\n",
    "\n",
    "Andorra prolog super advance\n",
    "\n",
    "\n",
    "plotkin and reynolds unification as lattice\n",
    "Plotkin, G. D. (1970). A note on inductive generalization\n",
    "Reynolds, J. C. (1970). Transformational systems and the algebraic structure of atomic formulas.\n",
    "\n",
    "minikanren in lattice datalog\n",
    "does z3 mininaren scale\n",
    "\n",
    "\n",
    "Maybe he'd be into Max's crazy scheme. Communication across the universes. Plus. Dynamically refactoring the universes into a database.\n",
    "\n",
    "Might be a nice foundation for a hygienic macro expander\n",
    "\n",
    "I'm trying to wrap my head around 'An Interpreter of the Algebra of Programming in MiniKanren'.  No environment, right?  Or is there an implicit environment?  Or does it use substitution?\n",
    "Can you encode the lambda calculus in the interpreter at the end?\n",
    "Could you synthesize the Y combinator, or quines, or anything else?\n",
    "\n",
    "\n",
    "https://github.com/brandonwillard/mk-rewrite-completion\n",
    "https://codeberg.org/arunavagantait/term-rewriting-in-minikanren\n",
    "https://codeberg.org/arunavagantait/alphaleanTAP-revisited\n",
    "\n",
    "\n",
    "Guile\n",
    "https://jeko.frama.io/en/index.html\n",
    "\n",
    "\n"
   ]
  },
  {
   "cell_type": "code",
   "execution_count": 1,
   "metadata": {},
   "outputs": [
    {
     "name": "stdout",
     "output_type": "stream",
     "text": [
      "Writing /tmp/hello.scm\n"
     ]
    }
   ],
   "source": [
    "%%file /tmp/hello.scm\n",
    "\n",
    "(println \"Hello, World!\")"
   ]
  },
  {
   "cell_type": "code",
   "execution_count": null,
   "metadata": {},
   "outputs": [],
   "source": [
    "! guile /tmp/hello.scm"
   ]
  }
 ],
 "metadata": {
  "kernelspec": {
   "display_name": "Python 3",
   "language": "python",
   "name": "python3"
  },
  "language_info": {
   "codemirror_mode": {
    "name": "ipython",
    "version": 3
   },
   "file_extension": ".py",
   "mimetype": "text/x-python",
   "name": "python",
   "nbconvert_exporter": "python",
   "pygments_lexer": "ipython3",
   "version": "3.10.12"
  }
 },
 "nbformat": 4,
 "nbformat_minor": 2
}
