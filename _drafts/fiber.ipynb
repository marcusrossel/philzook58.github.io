{
 "cells": [
  {
   "cell_type": "code",
   "execution_count": null,
   "metadata": {},
   "outputs": [],
   "source": []
  },
  {
   "cell_type": "markdown",
   "metadata": {},
   "source": [
    "So fibers are how dependent types are described.\n",
    "\n",
    "https://en.wikipedia.org/wiki/Fiber_bundle\n",
    "\n",
    "Fiber bundles. This is mentioned in physics, but I don't know that the mathematical topic ever hit home for me.\n",
    "\n",
    "In general relativity, there is a notion of curvature. I'm on board for that. Or rather on any curved surface.\n",
    "\n",
    "I'm more used to charts. (sections?) Twisted functions. Multivalued functions. Riemann sheets in the complex plane.\n",
    "\n",
    "Wilson loops. Vector potentials are odd. Dirac Monopoles, ahaonov bohm. Spin 1/2. The belt trick.\n",
    "\n",
    "Mobius strips\n"
   ]
  }
 ],
 "metadata": {
  "language_info": {
   "name": "python"
  }
 },
 "nbformat": 4,
 "nbformat_minor": 2
}
