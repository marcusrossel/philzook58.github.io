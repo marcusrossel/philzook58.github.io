{
 "cells": [
  {
   "cell_type": "code",
   "execution_count": 2,
   "metadata": {},
   "outputs": [],
   "source": [
    "import numpy as np\n"
   ]
  },
  {
   "cell_type": "markdown",
   "metadata": {},
   "source": [
    "Numpy error estimate.\n",
    "APL or numpy symbolic reasoning\n",
    "\n",
    "We don't need induction persay if we have \n",
    "\n",
    "Going to inidividual ops for error estimates is bad\n",
    "\n",
    "https://github.com/ThePoetCoder/APL-to-NumPy"
   ]
  },
  {
   "cell_type": "code",
   "execution_count": null,
   "metadata": {},
   "outputs": [],
   "source": [
    "from z3 import *\n",
    "storage = ArraySort(Int(), Real()) # unbounded array of storage\n",
    "Datatype('Storage').declare('create', ('storage', storage, 'rank', IntSort(), 'shape', ArraySort(IntSort(),IntSort())))\n",
    "\n",
    "\n"
   ]
  },
  {
   "cell_type": "code",
   "execution_count": null,
   "metadata": {},
   "outputs": [],
   "source": [
    "nparray = ArraySort(List(IntSort()), RealSort()) # or take in a full tuple.\n",
    "nparray = Cons(ArraySort(IntSort()), RealSort())\n",
    "\n"
   ]
  },
  {
   "cell_type": "code",
   "execution_count": null,
   "metadata": {},
   "outputs": [],
   "source": [
    "from z3 import *\n",
    "# abstract nparray.\n",
    "nparray = Sort(\"nparray\")\n",
    "# these are accessor functions.\n",
    "rank = Function(\"rank\", nparray, IntSort())\n",
    "shape = Function(\"shape\", nparray, List(IntSort()))\n",
    "\n",
    "# reshape is like store into shape field\n",
    "reshape = Function(\"reshape\", nparray, List(IntSort()), nparray)\n",
    "# ok. so this ends up being very similar.\n",
    "\n",
    "sum_ = Function(\"sum\", nparray, RealSort())\n",
    "zeros = Function(\"zeros\", List(IntSort()), nparray)\n",
    "ones = Function(\"ones\", List(IntSort()), nparray)\n",
    "eye = Function(\"eye\", IntSort(), nparray)\n",
    "diag = Function(\"diag\", nparray, nparray)\n",
    "dot = Function(\"dot\", nparray, nparray, nparray)\n",
    "transpose = Function(\"transpose\", nparray, nparray)\n",
    "\n",
    "array = Function(\"array\", List(RealSort()), nparray)\n",
    "rand = Function(\"rand\", IntSort(), List(IntSort()), nparray) # takes seed\n",
    "\n",
    "# slicing and striding\n",
    "# integer array indexing, boolean indexing\n",
    "\n",
    "\n",
    "# arange/ iota / linspace\n",
    "\n",
    "# broadcasting\n",
    "#masking\n",
    "\n",
    "\n",
    "# cumsum\n",
    "\n",
    "# mean, median, max, min\n",
    "# sum multiply add subtract divide sin cos exp\n",
    "\n",
    "\n",
    "# scipy\n",
    "# kron... it all comes back. hstack, vstack\n",
    "# matmul\n",
    "# linsolve\n",
    "\n",
    "# polynomials\n",
    "# roots\n",
    "# eig\n",
    "# svd\n",
    "# qr\n",
    "# norm\n",
    "# det\n",
    "\n",
    "\n",
    "\n"
   ]
  },
  {
   "cell_type": "code",
   "execution_count": 4,
   "metadata": {},
   "outputs": [
    {
     "data": {
      "text/plain": [
       "array([[[0., 0., 0., 0.],\n",
       "        [0., 0., 0., 0.],\n",
       "        [0., 0., 0., 0.]],\n",
       "\n",
       "       [[0., 0., 0., 0.],\n",
       "        [0., 0., 0., 0.],\n",
       "        [0., 0., 0., 0.]]])"
      ]
     },
     "execution_count": 4,
     "metadata": {},
     "output_type": "execute_result"
    }
   ],
   "source": [
    "# error estimation taking float64 as ground truth.\n",
    "np.zeros((2,3,4), dtype=np.float32)\n",
    "np.zeros((2,3,4), dtype=np.float64)\n"
   ]
  },
  {
   "cell_type": "code",
   "execution_count": null,
   "metadata": {},
   "outputs": [],
   "source": [
    "# https://github.com/briangu/klongpy\n",
    "import klongpy"
   ]
  }
 ],
 "metadata": {
  "kernelspec": {
   "display_name": "Python 3",
   "language": "python",
   "name": "python3"
  },
  "language_info": {
   "codemirror_mode": {
    "name": "ipython",
    "version": 3
   },
   "file_extension": ".py",
   "mimetype": "text/x-python",
   "name": "python",
   "nbconvert_exporter": "python",
   "pygments_lexer": "ipython3",
   "version": "3.10.12"
  }
 },
 "nbformat": 4,
 "nbformat_minor": 2
}
