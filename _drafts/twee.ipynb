{
 "cells": [
  {
   "cell_type": "code",
   "execution_count": 1,
   "metadata": {},
   "outputs": [
    {
     "name": "stdout",
     "output_type": "stream",
     "text": [
      "Writing /tmp/ex1.p\n"
     ]
    }
   ],
   "source": [
    "%%file /tmp/ex1.p\n",
    "\n",
    "fof(right_identity, axiom,\n",
    "    ![X]: f(X, e) = X).\n",
    "fof(right_inverse, axiom,\n",
    "    ![X]: f(X, i(X)) = e).\n",
    "fof(associativity, axiom,\n",
    "    ![X, Y, Z]: f(X, f(Y, Z)) = f(f(X, Y), Z)).\n",
    "\n",
    "fof(left_inverse, conjecture,\n",
    "    ![X]: f(i(X),X) = e).\n"
   ]
  },
  {
   "cell_type": "code",
   "execution_count": 2,
   "metadata": {},
   "outputs": [
    {
     "name": "stdout",
     "output_type": "stream",
     "text": [
      "Here is the input problem:\n",
      "  Axiom 1 (right_identity): f(X, e) = X.\n",
      "  Axiom 2 (right_inverse): f(X, i(X)) = e.\n",
      "  Axiom 3 (associativity): f(X, f(Y, Z)) = f(f(X, Y), Z).\n",
      "  Goal 1 (left_inverse): f(i(sK1_left_inverse_X), sK1_left_inverse_X) = e.\n",
      "\n",
      "1. f(X, e) -> X\n",
      "2. f(X, i(X)) -> e\n",
      "3. f(f(X, Y), Z) -> f(X, f(Y, Z))\n",
      "4. f(X, f(e, Y)) -> f(X, Y)\n",
      "5. f(X, i(e)) -> X\n",
      "6. f(X, f(i(X), Y)) -> f(e, Y)\n",
      "7. f(e, i(i(X))) -> X\n",
      "8. f(X, i(i(Y))) -> f(X, Y)\n",
      "9. f(e, X) -> X\n",
      "10. i(e) -> e\n",
      "11. i(i(X)) -> X\n",
      "12. f(i(X), X) -> e\n",
      "\n",
      "The conjecture is true! Here is a proof.\n",
      "\n",
      "Axiom 1 (right_identity): f(X, e) = X.\n",
      "Axiom 2 (right_inverse): f(X, i(X)) = e.\n",
      "Axiom 3 (associativity): f(X, f(Y, Z)) = f(f(X, Y), Z).\n",
      "\n",
      "Goal 1 (left_inverse): f(i(sK1_left_inverse_X), sK1_left_inverse_X) = e.\n",
      "Proof:\n",
      "  f(i(sK1_left_inverse_X), sK1_left_inverse_X)\n",
      "= { by axiom 1 (right_identity) }\n",
      "  f(i(sK1_left_inverse_X), f(sK1_left_inverse_X, e))\n",
      "= { by axiom 2 (right_inverse) }\n",
      "  f(i(sK1_left_inverse_X), f(sK1_left_inverse_X, f(i(sK1_left_inverse_X), i(i(sK1_left_inverse_X)))))\n",
      "= { by axiom 3 (associativity) }\n",
      "  f(i(sK1_left_inverse_X), f(f(sK1_left_inverse_X, i(sK1_left_inverse_X)), i(i(sK1_left_inverse_X))))\n",
      "= { by axiom 2 (right_inverse) }\n",
      "  f(i(sK1_left_inverse_X), f(e, i(i(sK1_left_inverse_X))))\n",
      "= { by axiom 3 (associativity) }\n",
      "  f(f(i(sK1_left_inverse_X), e), i(i(sK1_left_inverse_X)))\n",
      "= { by axiom 1 (right_identity) }\n",
      "  f(i(sK1_left_inverse_X), i(i(sK1_left_inverse_X)))\n",
      "= { by axiom 2 (right_inverse) }\n",
      "  e\n",
      "\n",
      "RESULT: Theorem (the conjecture is true).\n"
     ]
    }
   ],
   "source": [
    "!twee /tmp/ex1.p"
   ]
  },
  {
   "cell_type": "code",
   "execution_count": 43,
   "metadata": {},
   "outputs": [
    {
     "data": {
      "text/plain": [
       "+(X,Y)"
      ]
     },
     "execution_count": 43,
     "metadata": {},
     "output_type": "execute_result"
    }
   ],
   "source": [
    "def tptp(sexp):\n",
    "    return f\"{sexp[0]}({','.join(map(tptp, sexp[1:]))})\" if isinstance(sexp, list) else str(sexp)\n",
    "\n",
    "\n",
    "class Const(str):\n",
    "    #def __init__(self, name):\n",
    "    #    self.name = name\n",
    "    def __eq__(self, other):\n",
    "        return Expr([\"=\", self, other])\n",
    "    def __add__(self, other):\n",
    "        return Expr([\"+\", self, other])\n",
    "    def __mul__(self, other):\n",
    "        return Expr([\"*\", self, other])\n",
    "    def __rshift__(self, other):\n",
    "        return Expr([\"comp\", self, other])\n",
    "    def __matmul__(self, B):\n",
    "        return Expr([\"@\", self, B])\n",
    "    def __neg__(self):\n",
    "        return Expr([\"-\", self])\n",
    "\n",
    "class Expr(list):\n",
    "    def __repr__(self):\n",
    "        return tptp(self)\n",
    "    def __eq__(self, other):\n",
    "        return Expr([\"=\", self, other])\n",
    "    def __add__(self, other):\n",
    "        return Expr([\"+\", self, other])\n",
    "    def __mul__(self, other):\n",
    "        return Expr([\"*\", self, other])\n",
    "    def __rshift__(self, other):\n",
    "        return Expr([\"comp\", self, other])\n",
    "    def __matmul__(self, B):\n",
    "        return Expr([\"@\", self, B])\n",
    "    def __neg__(self):\n",
    "        return Expr([\"-\", self])\n",
    "\n",
    "\n",
    "def function(name):\n",
    "    def res(*args):\n",
    "        return Expr([name, *args])\n",
    "    return res\n",
    "def functions(names):\n",
    "    names = names.split()\n",
    "    return map(function, names)\n",
    "def consts(x):\n",
    "    return map(Const, x.split())\n",
    "X,Y,x = consts(\"X Y x\")\n",
    "f,g = functions(\"f g\")\n",
    "tptp(f(X))\n",
    "\n",
    "type(f(X))\n",
    "X + Y\n",
    "\n"
   ]
  },
  {
   "cell_type": "markdown",
   "metadata": {},
   "source": [
    "# Category\n",
    "\n",
    "As a metasystem, we want to know that the type equations cannot be broken\n",
    "\n",
    "GATs"
   ]
  },
  {
   "cell_type": "code",
   "execution_count": null,
   "metadata": {},
   "outputs": [],
   "source": [
    "# tp_eqs |- t : typ\n",
    "class GAT:\n",
    "    t:\n",
    "    typ_eqs:"
   ]
  },
  {
   "cell_type": "code",
   "execution_count": 36,
   "metadata": {},
   "outputs": [
    {
     "name": "stdout",
     "output_type": "stream",
     "text": [
      "fof(axiom1, axiom, =(@(id(cod(F)),F),F)).\n",
      "fof(axiom2, axiom, =(@(F,id(dom(F))),F)).\n",
      "fof(axiom3, axiom, =(@(F,@(G,H)),@(@(F,G),H))).\n"
     ]
    }
   ],
   "source": [
    "A,B,C,F,G,H = consts(\"A B C F G H\")\n",
    "id_, cod, dom, swap, dup, del_, pair, proj1, proj2 = functions(\"id cod dom swap dup del_ pair proj1 proj2\")\n",
    "axioms = [\n",
    "id_(cod(F)) @ F == F,\n",
    "F @ id_(dom(F)) == F,\n",
    "F @ (G @ H) == (F @ G) @ H,\n",
    "\n",
    "]\n",
    "axioms\n",
    "\n",
    "\n",
    "counter = 0\n",
    "def tptp_axiom(axiom, name = None):\n",
    "    if name == None:\n",
    "        global counter\n",
    "        counter += 1\n",
    "        name = f\"axiom{counter}\"\n",
    "    return f\"fof({name}, axiom, {axiom}).\"\n",
    "def tptp_axioms(axioms):\n",
    "    return \"\\n\".join(map(tptp_axiom, axioms))\n",
    "print(tptp_axioms(axioms))\n"
   ]
  },
  {
   "cell_type": "markdown",
   "metadata": {},
   "source": [
    "https://www.cs.nott.ac.uk/~pszgmh/tpfa.pdf Theorem Proving for All: Equational Reasoning in\n",
    "Liquid Haskell (Functional Pearl)\n",
    "\n",
    "Yea, equational definitions are really nice.\n",
    "\n"
   ]
  },
  {
   "cell_type": "code",
   "execution_count": null,
   "metadata": {},
   "outputs": [],
   "source": [
    "def define(eqs):\n",
    "    # first symbol is the same\n",
    "    # check termination\n",
    "\n"
   ]
  },
  {
   "cell_type": "code",
   "execution_count": 42,
   "metadata": {},
   "outputs": [
    {
     "ename": "AttributeError",
     "evalue": "'Const' object has no attribute 'name'",
     "output_type": "error",
     "traceback": [
      "\u001b[0;31m---------------------------------------------------------------------------\u001b[0m",
      "\u001b[0;31mAttributeError\u001b[0m                            Traceback (most recent call last)",
      "File \u001b[0;32m~/.local/lib/python3.10/site-packages/IPython/core/formatters.py:707\u001b[0m, in \u001b[0;36mPlainTextFormatter.__call__\u001b[0;34m(self, obj)\u001b[0m\n\u001b[1;32m    700\u001b[0m stream \u001b[38;5;241m=\u001b[39m StringIO()\n\u001b[1;32m    701\u001b[0m printer \u001b[38;5;241m=\u001b[39m pretty\u001b[38;5;241m.\u001b[39mRepresentationPrinter(stream, \u001b[38;5;28mself\u001b[39m\u001b[38;5;241m.\u001b[39mverbose,\n\u001b[1;32m    702\u001b[0m     \u001b[38;5;28mself\u001b[39m\u001b[38;5;241m.\u001b[39mmax_width, \u001b[38;5;28mself\u001b[39m\u001b[38;5;241m.\u001b[39mnewline,\n\u001b[1;32m    703\u001b[0m     max_seq_length\u001b[38;5;241m=\u001b[39m\u001b[38;5;28mself\u001b[39m\u001b[38;5;241m.\u001b[39mmax_seq_length,\n\u001b[1;32m    704\u001b[0m     singleton_pprinters\u001b[38;5;241m=\u001b[39m\u001b[38;5;28mself\u001b[39m\u001b[38;5;241m.\u001b[39msingleton_printers,\n\u001b[1;32m    705\u001b[0m     type_pprinters\u001b[38;5;241m=\u001b[39m\u001b[38;5;28mself\u001b[39m\u001b[38;5;241m.\u001b[39mtype_printers,\n\u001b[1;32m    706\u001b[0m     deferred_pprinters\u001b[38;5;241m=\u001b[39m\u001b[38;5;28mself\u001b[39m\u001b[38;5;241m.\u001b[39mdeferred_printers)\n\u001b[0;32m--> 707\u001b[0m \u001b[43mprinter\u001b[49m\u001b[38;5;241;43m.\u001b[39;49m\u001b[43mpretty\u001b[49m\u001b[43m(\u001b[49m\u001b[43mobj\u001b[49m\u001b[43m)\u001b[49m\n\u001b[1;32m    708\u001b[0m printer\u001b[38;5;241m.\u001b[39mflush()\n\u001b[1;32m    709\u001b[0m \u001b[38;5;28;01mreturn\u001b[39;00m stream\u001b[38;5;241m.\u001b[39mgetvalue()\n",
      "File \u001b[0;32m~/.local/lib/python3.10/site-packages/IPython/lib/pretty.py:410\u001b[0m, in \u001b[0;36mRepresentationPrinter.pretty\u001b[0;34m(self, obj)\u001b[0m\n\u001b[1;32m    407\u001b[0m                         \u001b[38;5;28;01mreturn\u001b[39;00m meth(obj, \u001b[38;5;28mself\u001b[39m, cycle)\n\u001b[1;32m    408\u001b[0m                 \u001b[38;5;28;01mif\u001b[39;00m \u001b[38;5;28mcls\u001b[39m \u001b[38;5;129;01mis\u001b[39;00m \u001b[38;5;129;01mnot\u001b[39;00m \u001b[38;5;28mobject\u001b[39m \\\n\u001b[1;32m    409\u001b[0m                         \u001b[38;5;129;01mand\u001b[39;00m \u001b[38;5;28mcallable\u001b[39m(\u001b[38;5;28mcls\u001b[39m\u001b[38;5;241m.\u001b[39m\u001b[38;5;18m__dict__\u001b[39m\u001b[38;5;241m.\u001b[39mget(\u001b[38;5;124m'\u001b[39m\u001b[38;5;124m__repr__\u001b[39m\u001b[38;5;124m'\u001b[39m)):\n\u001b[0;32m--> 410\u001b[0m                     \u001b[38;5;28;01mreturn\u001b[39;00m \u001b[43m_repr_pprint\u001b[49m\u001b[43m(\u001b[49m\u001b[43mobj\u001b[49m\u001b[43m,\u001b[49m\u001b[43m \u001b[49m\u001b[38;5;28;43mself\u001b[39;49m\u001b[43m,\u001b[49m\u001b[43m \u001b[49m\u001b[43mcycle\u001b[49m\u001b[43m)\u001b[49m\n\u001b[1;32m    412\u001b[0m     \u001b[38;5;28;01mreturn\u001b[39;00m _default_pprint(obj, \u001b[38;5;28mself\u001b[39m, cycle)\n\u001b[1;32m    413\u001b[0m \u001b[38;5;28;01mfinally\u001b[39;00m:\n",
      "File \u001b[0;32m~/.local/lib/python3.10/site-packages/IPython/lib/pretty.py:778\u001b[0m, in \u001b[0;36m_repr_pprint\u001b[0;34m(obj, p, cycle)\u001b[0m\n\u001b[1;32m    776\u001b[0m \u001b[38;5;250m\u001b[39m\u001b[38;5;124;03m\"\"\"A pprint that just redirects to the normal repr function.\"\"\"\u001b[39;00m\n\u001b[1;32m    777\u001b[0m \u001b[38;5;66;03m# Find newlines and replace them with p.break_()\u001b[39;00m\n\u001b[0;32m--> 778\u001b[0m output \u001b[38;5;241m=\u001b[39m \u001b[38;5;28;43mrepr\u001b[39;49m\u001b[43m(\u001b[49m\u001b[43mobj\u001b[49m\u001b[43m)\u001b[49m\n\u001b[1;32m    779\u001b[0m lines \u001b[38;5;241m=\u001b[39m output\u001b[38;5;241m.\u001b[39msplitlines()\n\u001b[1;32m    780\u001b[0m \u001b[38;5;28;01mwith\u001b[39;00m p\u001b[38;5;241m.\u001b[39mgroup():\n",
      "Cell \u001b[0;32mIn [28], line 7\u001b[0m, in \u001b[0;36mConst.__repr__\u001b[0;34m(self)\u001b[0m\n\u001b[1;32m      6\u001b[0m \u001b[38;5;28;01mdef\u001b[39;00m \u001b[38;5;21m__repr__\u001b[39m(\u001b[38;5;28mself\u001b[39m):\n\u001b[0;32m----> 7\u001b[0m     \u001b[38;5;28;01mreturn\u001b[39;00m \u001b[38;5;28;43mself\u001b[39;49m\u001b[38;5;241;43m.\u001b[39;49m\u001b[43mname\u001b[49m\n",
      "\u001b[0;31mAttributeError\u001b[0m: 'Const' object has no attribute 'name'"
     ]
    }
   ],
   "source": [
    "length, app, cons, rev = functions(\"length app cons rev\")\n",
    "nil, X, Y, Z, Xs = consts(\"nil X Y Z Xs\")\n",
    "\n",
    "cons(X,nil)[2]\n",
    "\n",
    "[length(nil) == 0,\n",
    " length(cons(X,Xs)) == 1 + length(Xs),\n",
    " app(nil, Y) == Y,\n",
    " app(cons(X,Xs), Y) == cons(X, app(Xs, Y)),\n",
    " rev(nil) == nil,\n",
    " rev(cons(X,Xs)) == app(rev(Xs), cons(X,nil)),\n",
    "]\n",
    "\n"
   ]
  },
  {
   "cell_type": "code",
   "execution_count": null,
   "metadata": {},
   "outputs": [],
   "source": [
    "# hutton compiler\n"
   ]
  },
  {
   "cell_type": "code",
   "execution_count": null,
   "metadata": {},
   "outputs": [],
   "source": [
    "   \"\"\"\n",
    "     let mut rules : Vec<Rewrite<CatLanguage, ()>> = vec![\n",
    "        vec![rw!( \"dom(hom(a, b)) => a\" ; \"(dom (hom ?a ?b))\" => \"?a\" )],\n",
    "        vec![rw!( \"cod(hom(a, b)) => b\" ; \"(cod (hom ?a ?b))\" => \"?b\" )],\n",
    "        vec![rw!( \"type(id(a)) => hom(a, a)\" ; \"(type (id ?a))\" => \"(hom ?a ?a)\" )],\n",
    "        vec![rw!( \"type(f . g) => hom(dom(type(f)), cod(type(g)))\" ; \"(type (. ?f ?g))\" => \"(hom (dom (type ?f)) (cod (type ?g)))\" )],\n",
    "        vec![rw!( \"type(f om g) => hom(dom(type(f)) oo dom(type(g)), cod(type(f)) oo cod(type(g)))\" ; \"(type (om ?f ?g))\" => \"(hom (oo (dom (type ?f)) (dom (type ?g))) (oo (cod (type ?f)) (cod (type ?g))))\" )],\n",
    "        vec![rw!( \"type(a oo b) => :ob\" ; \"(type (oo ?a ?b))\" => \"ob\" )],\n",
    "        vec![rw!( \"type(munit()) => :ob\" ; \"(type munit)\" => \"ob\" )],\n",
    "        vec![rw!( \"type(swap(a, b)) => hom(a oo b, b oo a)\" ; \"(type (swap ?a ?b))\" => \"(hom (oo ?a ?b) (oo ?b ?a))\" )],\n",
    "        vec![rw!( \"type((del)(a)) => hom(a, munit())\" ; \"(type (del ?a))\" => \"(hom ?a munit)\" )],\n",
    "        vec![rw!( \"type(dup(a)) => hom(a, a oo a)\" ; \"(type (dup ?a))\" => \"(hom ?a (oo ?a ?a))\" )],\n",
    "        vec![rw!( \"type(pair(f, g)) => hom(dom(type(f)), cod(type(f)) oo cod(type(g)))\" ; \"(type (pair ?f ?g))\" => \"(hom (dom (type ?f)) (oo (cod (type ?f)) (cod (type ?g))))\" )],\n",
    "        vec![rw!( \"type(proj1(a, b)) => hom(a oo b, a)\" ; \"(type (proj1 ?a ?b))\" => \"(hom (oo ?a ?b) ?a)\" )],\n",
    "        vec![rw!( \"type(proj2(a, b)) => hom(a oo b, b)\" ; \"(type (proj2 ?a ?b))\" => \"(hom (oo ?a ?b) ?b)\" )],\n",
    "        vec![rw!( \"f . id(b) => f\" ; \"(. ?f (id ?b))\" => \"?f\" )],\n",
    "        vec![rw!( \"id(a) . f => f\" ; \"(. (id ?a) ?f)\" => \"?f\" )],\n",
    "        vec![rw!( \"a oo munit() => a\" ; \"(oo ?a munit)\" => \"?a\" )],\n",
    "        vec![rw!( \"munit() oo a => a\" ; \"(oo munit ?a)\" => \"?a\" )],\n",
    "        rw!( \"f . (g . h) == (f . g) . h\" ; \"(. ?f (. ?g ?h))\" <=> \"(. (. ?f ?g) ?h)\" ),\n",
    "        vec![rw!( \"id(munit()) om f => f\" ; \"(om (id munit) ?f)\" => \"?f\" )],\n",
    "        vec![rw!( \"f om id(munit()) => f\" ; \"(om ?f (id munit))\" => \"?f\" )],\n",
    "        rw!( \"a oo (b oo c) == (a oo b) oo c\" ; \"(oo ?a (oo ?b ?c))\" <=> \"(oo (oo ?a ?b) ?c)\" ),\n",
    "        rw!( \"f om (h om j) == (f om h) om j\" ; \"(om ?f (om ?h ?j))\" <=> \"(om (om ?f ?h) ?j)\" ),\n",
    "        rw!( \"id(a oo b) == id(a) om id(b)\" ; \"(id (oo ?a ?b))\" <=> \"(om (id ?a) (id ?b))\" ), \n",
    "        vec![rw!( \"(f . g) om (p . q) => (f om p) . (g om q)\" ; \"(om (. ?f ?g) (. ?p ?q))\" => \"(. (om ?f ?p) (om ?g ?q))\" )],\n",
    "        rw!( \"swap(a, b) . swap(b, a) == id(a oo b)\" ; \"(. (swap ?a ?b) (swap ?b ?a))\" <=> \"(id (oo ?a ?b))\" ),\n",
    "        rw!( \"(swap(a, b) om id(c)) . (id(b) om swap(a, c)) == swap(a, b oo c)\" ; \"(. (om (swap ?a ?b) (id ?c)) (om (id ?b) (swap ?a ?c)))\" <=> \"(swap ?a (oo ?b ?c))\" ),\n",
    "        rw!( \"(id(a) om swap(b, c)) . (swap(a, c) om id(b)) == swap(a oo b, c)\" ; \"(. (om (id ?a) (swap ?b ?c)) (om (swap ?a ?c) (id ?b)))\" <=> \"(swap (oo ?a ?b) ?c)\" ),\n",
    "        rw!( \"swap(a, munit()) == id(a)\" ; \"(swap ?a munit)\" <=> \"(id ?a)\" ),\n",
    "        rw!( \"swap(munit(), a) == id(a)\" ; \"(swap munit ?a)\" <=> \"(id ?a)\" ),\n",
    "       \n",
    "        vec![rw!( \"swap(munit(), munit()) => id(munit() oo munit())\" ; \"(swap munit munit)\" => \"(id (oo munit munit))\" )],\n",
    "        rw!( \"dup(a) . ((del)(a) om id(a)) == id(a)\" ; \"(. (dup ?a) (om (del ?a) (id ?a)))\" <=> \"(id ?a)\" ),\n",
    "        rw!( \"dup(a) . (id(a) om (del)(a)) == id(a)\" ; \"(. (dup ?a) (om (id ?a) (del ?a)))\" <=> \"(id ?a)\" ),\n",
    "        rw!( \"dup(a) . swap(a, a) == dup(a)\" ; \"(. (dup ?a) (swap ?a ?a))\" <=> \"(dup ?a)\" ),\n",
    "        rw!( \"(dup(a) om dup(b)) . ((id(a) om swap(a, b)) om id(b)) == dup(a oo b)\" ; \"(. (om (dup ?a) (dup ?b)) (om (om (id ?a) (swap ?a ?b)) (id ?b)))\" <=> \"(dup (oo ?a ?b))\" ),\n",
    "        rw!( \"dup(a) . (dup(a) om id(a)) == dup(a) . (id(a) om dup(a))\" ; \"(. (dup ?a) (om (dup ?a) (id ?a)))\" <=> \"(. (dup ?a) (om (id ?a) (dup ?a)))\" ),\n",
    "        rw!( \"(del)(a oo b) == (del)(a) om (del)(b)\" ; \"(del (oo ?a ?b))\" <=> \"(om (del ?a) (del ?b))\" ),\n",
    "        rw!( \"dup(munit()) == id(munit())\" ; \"(dup munit)\" <=> \"(id munit)\" ),\n",
    "        rw!( \"(del)(munit()) == id(munit())\" ; \"(del munit)\" <=> \"(id munit)\" ),\n",
    "        vec![rw!( \"pair(f, k) => dup(dom(type(f))) . (f om k)\" ; \"(pair ?f ?k)\" => \"(. (dup (dom (type ?f))) (om ?f ?k))\" )],\n",
    "        rw!( \"proj1(a, b) == id(a) om (del)(b)\" ; \"(proj1 ?a ?b)\" <=> \"(om (id ?a) (del ?b))\" ),\n",
    "        rw!( \"proj2(a, b) == (del)(a) om id(b)\" ; \"(proj2 ?a ?b)\" <=> \"(om (del ?a) (id ?b))\" ),\n",
    "        vec![rw!( \"f . (del)(b) => (del)(dom(type(f)))\" ; \"(. ?f (del ?b))\" => \"(del (dom (type ?f)))\" )],\n",
    "        vec![rw!( \"f . dup(b) => dup(dom(type(f))) . (f om f)\" ; \"(. ?f (dup ?b))\" => \"(. (dup (dom (type ?f))) (om ?f ?f))\" )],\n",
    "        vec![rw!( \"dup(a) . (f om f) => f . dup(cod(type(f)))\" ; \"(. (dup ?a) (om ?f ?f))\" => \"(. ?f (dup (cod (type ?f))))\" )],\n",
    "                \n",
    "        ].concat();\n",
    "        \"\"\""
   ]
  },
  {
   "cell_type": "markdown",
   "metadata": {},
   "source": [
    "Functional Programming\n",
    "Manifold differentiation\n",
    "simplicial\n",
    "database migration\n",
    "\n",
    "\n"
   ]
  },
  {
   "cell_type": "markdown",
   "metadata": {},
   "source": [
    "## Homotopy\n",
    "\n",
    "path. It makes sense rewriting and homotopy/homology might be related.\n",
    "\n",
    "paths are string rewriting a(b(c(X)))\n",
    "homology makes the strings commutative."
   ]
  },
  {
   "cell_type": "code",
   "execution_count": 51,
   "metadata": {},
   "outputs": [
    {
     "name": "stdout",
     "output_type": "stream",
     "text": [
      "Overwriting /tmp/path.p\n"
     ]
    }
   ],
   "source": [
    "%%file /tmp/path.p\n",
    "\n",
    "% simple normalization\n",
    "cnf(stayput, axiom, path(A,path(A, P)) = path(A,P)).\n",
    "cnf(backup, axiom, path(A,path(B, path(A, P))) = path(A, P)).\n",
    "\n",
    "%cnf(disjoint1, axiom, a != b). % not really necessary\n",
    "%cnf(disjoint2, axiom, b != c).\n",
    "%cnf(disjoint3, axiom, a != c).\n",
    "cnf(circle, conjecture, path(a,path(b, path(c, path(a, nil)))) = path(a,nil)).\n",
    "%cnf(null_loop, conjecture, path(a, path(c,path(b, path(c, path(a, nil))))) = path(a,nil)).\n",
    "\n"
   ]
  },
  {
   "cell_type": "code",
   "execution_count": 49,
   "metadata": {},
   "outputs": [
    {
     "name": "stdout",
     "output_type": "stream",
     "text": [
      "Here is the input problem:\n",
      "  Axiom 1 (stayput): path(X, path(X, Y)) = path(X, Y).\n",
      "  Axiom 2 (backup): path(X, path(Y, path(X, Z))) = path(X, Z).\n",
      "  Goal 1 (circle): path(a, path(b, path(c, path(a, nil)))) = path(a, nil).\n",
      "\n",
      "1. path(X, path(X, Y)) -> path(X, Y)\n",
      "2. path(X, path(Y, path(X, Z))) -> path(X, Z)\n",
      "\n",
      "Ran out of critical pairs. This means the conjecture is not true.\n",
      "Here is the final rewrite system:\n",
      "  path(X, path(X, Y)) -> path(X, Y)\n",
      "  path(X, path(Y, path(X, Z))) -> path(X, Z)\n",
      "\n",
      "RESULT: CounterSatisfiable (the conjecture is false).\n"
     ]
    }
   ],
   "source": [
    "!twee /tmp/path.p"
   ]
  },
  {
   "cell_type": "code",
   "execution_count": null,
   "metadata": {},
   "outputs": [],
   "source": [
    "%%file /temp/edge.p\n",
    "cnf(edge, axiom, edge(a,b))."
   ]
  },
  {
   "cell_type": "markdown",
   "metadata": {},
   "source": [
    "Countersatisfiable means there exists a model in which this is not true.\n",
    "If i ask !=, there is also a model in which it is true, which is not of interest to me. Yes.\n",
    "Models is the wrong language of discussion.\n"
   ]
  },
  {
   "cell_type": "code",
   "execution_count": null,
   "metadata": {},
   "outputs": [],
   "source": [
    "\"\"\"\n",
    "\n",
    "\n",
    "\"\"\""
   ]
  },
  {
   "cell_type": "code",
   "execution_count": 48,
   "metadata": {},
   "outputs": [
    {
     "name": "stdout",
     "output_type": "stream",
     "text": [
      "Overwriting /tmp/group1.p\n"
     ]
    }
   ],
   "source": [
    "%%file /tmp/group1.p\n",
    "%pg 5 of traat\n",
    "cnf(assoc, axiom, mul(mul(X,Y),Z) = mul(X,mul(Y,Z))).\n",
    "cnf(left_inv, axiom, mul(i(X), X) = e).\n",
    "cnf(left_id, axiom, mul(e, X) = X).\n",
    "\n",
    "%cnf(rightinv ,conjecture, mul(X, i(X)) = e).\n",
    "cnf(rightid ,conjecture, mul(X, e) = X).\n"
   ]
  },
  {
   "cell_type": "code",
   "execution_count": 49,
   "metadata": {},
   "outputs": [
    {
     "name": "stdout",
     "output_type": "stream",
     "text": [
      "Here is the input problem:\n",
      "  Axiom 1 (assoc): mul(mul(X, Y), Z) = mul(X, mul(Y, Z)).\n",
      "  Axiom 2 (left_inv): mul(i(X), X) = e.\n",
      "  Axiom 3 (left_id): mul(e, X) = X.\n",
      "  Goal 1 (rightid): mul(sK1_rightid_X, e) = sK1_rightid_X.\n",
      "\n",
      "1. mul(mul(X, Y), Z) -> mul(X, mul(Y, Z))\n",
      "2. mul(i(X), X) -> e\n",
      "3. mul(e, X) -> X\n",
      "4. mul(i(X), mul(X, Y)) -> Y\n",
      "5. mul(i(e), X) -> X\n",
      "6. mul(i(i(X)), e) -> X\n",
      "7. mul(i(i(X)), Y) -> mul(X, Y)\n",
      "8. mul(X, e) -> X\n",
      "\n",
      "The conjecture is true! Here is a proof.\n",
      "\n",
      "Axiom 1 (assoc): mul(mul(X, Y), Z) = mul(X, mul(Y, Z)).\n",
      "Axiom 2 (left_inv): mul(i(X), X) = e.\n",
      "Axiom 3 (left_id): mul(e, X) = X.\n",
      "\n",
      "Lemma 4: mul(i(X), mul(X, Y)) = Y.\n",
      "Proof:\n",
      "  mul(i(X), mul(X, Y))\n",
      "= { by axiom 1 (assoc) }\n",
      "  mul(mul(i(X), X), Y)\n",
      "= { by axiom 2 (left_inv) }\n",
      "  mul(e, Y)\n",
      "= { by axiom 3 (left_id) }\n",
      "  Y\n",
      "\n",
      "Goal 1 (rightid): mul(sK1_rightid_X, e) = sK1_rightid_X.\n",
      "Proof:\n",
      "  mul(sK1_rightid_X, e)\n",
      "= { by lemma 4 }\n",
      "  mul(i(i(sK1_rightid_X)), mul(i(sK1_rightid_X), mul(sK1_rightid_X, e)))\n",
      "= { by lemma 4 }\n",
      "  mul(i(i(sK1_rightid_X)), e)\n",
      "= { by axiom 2 (left_inv) }\n",
      "  mul(i(i(sK1_rightid_X)), mul(i(sK1_rightid_X), sK1_rightid_X))\n",
      "= { by lemma 4 }\n",
      "  sK1_rightid_X\n",
      "\n",
      "RESULT: Theorem (the conjecture is true).\n"
     ]
    }
   ],
   "source": [
    "!twee /tmp/group1.p"
   ]
  },
  {
   "cell_type": "markdown",
   "metadata": {},
   "source": [
    "# Early Termination\n",
    "Give it a conjecture it can't possibly prove. There are a couple early stoppage criteria. But also if you give it a ground system it Must stop.\n",
    "\n",
    "This ground system is an egraph.\n",
    "\n",
    "Can I explicitly show this via the \"skolemization\".\n",
    "\n",
    "Introduce a new constant for every greater than depth 1 term. These represent the eclasses\n",
    "Probably KBO will rewrite to this term.\n",
    "Hence the eclasses\n",
    "eclass to eclass rewrites represent the union find. e1 -> e6\n",
    "f(e1,e2,e3) -> e4  represent the enode f(e1,e2,e3) is in eclass e4\n",
    "\n"
   ]
  },
  {
   "cell_type": "code",
   "execution_count": 52,
   "metadata": {},
   "outputs": [
    {
     "name": "stdout",
     "output_type": "stream",
     "text": [
      "Overwriting /tmp/ground.p\n"
     ]
    }
   ],
   "source": [
    "%%file /tmp/ground.p\n",
    "\n",
    "cnf(ax1, axiom, add(one,two) = three).\n",
    "cnf(ax2, axiom, add(two,one) = three).\n",
    "cnf(ax3, axiom, add(one,three) = four).\n",
    "cnf(ax4, axiom, add(three,one) = four).\n",
    "cnf(ax5, axiom, add(two,three) = five).\n",
    "cnf(ax6, axiom, add(three,two) = five).\n",
    "cnf(ax7, axiom, add(four,one) = five).\n",
    "cnf(ax8, axiom, add(one,four) = five).\n",
    "%cnf(assoc, axiom, add(add(X,Y),Z) = add(X,add(Y,Z))).\n",
    "%cnf(comm, axiom, add(X,Y) = add(Y,X)).\n",
    "cnf(conj, conjecture, x = y)."
   ]
  },
  {
   "cell_type": "code",
   "execution_count": 53,
   "metadata": {},
   "outputs": [
    {
     "name": "stdout",
     "output_type": "stream",
     "text": [
      "Here is the input problem:\n",
      "  Axiom 1 (ax1): add(one, two) = three.\n",
      "  Axiom 2 (ax2): add(two, one) = three.\n",
      "  Axiom 3 (ax3): add(one, three) = four.\n",
      "  Axiom 4 (ax4): add(three, one) = four.\n",
      "  Axiom 5 (ax5): add(two, three) = five.\n",
      "  Axiom 6 (ax6): add(three, two) = five.\n",
      "  Axiom 7 (ax7): add(four, one) = five.\n",
      "  Axiom 8 (ax8): add(one, four) = five.\n",
      "  Goal 1 (conj): x = y.\n",
      "\n",
      "1. add(one, two) -> three\n",
      "2. add(two, one) -> three\n",
      "3. add(one, three) -> four\n",
      "4. add(three, one) -> four\n",
      "5. add(two, three) -> five\n",
      "6. add(three, two) -> five\n",
      "7. add(four, one) -> five\n",
      "8. add(one, four) -> five\n",
      "\n",
      "Ran out of critical pairs. This means the conjecture is not true.\n",
      "Here is the final rewrite system:\n",
      "  add(one, two) -> three\n",
      "  add(one, three) -> four\n",
      "  add(one, four) -> five\n",
      "  add(two, one) -> three\n",
      "  add(two, three) -> five\n",
      "  add(three, one) -> four\n",
      "  add(three, two) -> five\n",
      "  add(four, one) -> five\n",
      "\n",
      "RESULT: CounterSatisfiable (the conjecture is false).\n"
     ]
    }
   ],
   "source": [
    "! twee /tmp/ground.p"
   ]
  },
  {
   "cell_type": "markdown",
   "metadata": {},
   "source": [
    "--expert-help\n",
    "--conjecture 2\n",
    "--root tpt root path\n",
    "--trace file module. print prolog trace.\n",
    "\n",
    "ok, give it an impossible equality goal + max-cps\n",
    "\n",
    "    let\n",
    "      state' = interreduce config state\n",
    "      score rule =\n",
    "        (KBO.size (lhs rule), lhs rule,\n",
    "         KBO.size (rhs rule), rhs rule)\n",
    "      actives =\n",
    "        sortBy (comparing (score . active_rule)) $\n",
    "        IntMap.elems (st_active_set state')\n",
    "        \n",
    "    forM_ actives $ \\active ->\n",
    "      putStrLn (\"  \" ++ prettyShow (canonicalise (active_rule active)))\n",
    "    putStrLn \"\"\n"
   ]
  },
  {
   "cell_type": "code",
   "execution_count": null,
   "metadata": {},
   "outputs": [],
   "source": [
    "simp_db = []\n",
    "def match(pattern, expr):\n",
    "    env = {}\n",
    "    stack = [(pattern, expr)]\n",
    "    while len(stack) > 0:\n",
    "        p, e = stack.pop()\n",
    "        if isinstance(p, str) \n",
    "            if isUpper(p[0]):\n",
    "                if p in env:\n",
    "                    if env[p] != e:\n",
    "                        return False\n",
    "                    else:\n",
    "                        env[p] = e\n",
    "            else:\n",
    "                if p != e:\n",
    "                    return False\n",
    "        elif isinstance(p, list):\n",
    "            if isinstance(e, list):\n",
    "                if len(p) != len(e):\n",
    "                    return False\n",
    "                stack.extend(zip(p, e))\n",
    "        else:\n",
    "            return False\n",
    "\n",
    "def simp(name, *args):\n",
    "\n",
    "# https://www.cs.utexas.edu/users/moore/acl2/v8-5/combined-manual/index.html?topic=ACL2____BUILT-IN-THEOREMS\n",
    "def builtin_simp(expr):\n",
    "    match expr:\n",
    "        case (\"and\", \"true\", *args):\n",
    "            return args\n",
    "        case (\"or\", \"true\", *args):\n",
    "            return \"true\"\n",
    "        case (\"or\", \"false\", *args):\n",
    "            return args"
   ]
  },
  {
   "cell_type": "code",
   "execution_count": 18,
   "metadata": {},
   "outputs": [
    {
     "data": {
      "text/plain": [
       "['foo', ['bar', ['biz', 'boz', 'baz'], 'X']]"
      ]
     },
     "execution_count": 18,
     "metadata": {},
     "output_type": "execute_result"
    }
   ],
   "source": [
    "def parse_expression(expr):\n",
    "    # finds a stream of tokens. Ignores whitespace and ignores commas. Clever\n",
    "    # But also misparses bad input?\n",
    "    tokens = re.findall(r'\\(|\\)|[^\\s(),]+', expr)\n",
    "    \n",
    "    def parse():\n",
    "        ast = []\n",
    "        while tokens:\n",
    "            token = tokens.pop(0)\n",
    "            if token == '(':\n",
    "                ast.append(parse())  # Parse nested expression\n",
    "            elif token == ')':\n",
    "                return ast  # End current expression\n",
    "            else:\n",
    "                ast.append(token)  # Add identifier/literal to current list\n",
    "        return ast\n",
    "    return parse()\n",
    "\n",
    "expr = 'foo(bar(biz boz,baz), X)'\n",
    "ast = parse_expression(expr)\n",
    "ast\n",
    "# https://docs.python.org/3/library/re.html#writing-a-tokenizer\n"
   ]
  },
  {
   "cell_type": "code",
   "execution_count": 20,
   "metadata": {},
   "outputs": [
    {
     "name": "stdout",
     "output_type": "stream",
     "text": [
      "ID foo 0\n",
      "LPAREN ( 3\n",
      "ID bar 4\n",
      "LPAREN ( 7\n",
      "ID biz 8\n",
      "WS   11\n",
      "ID boz 12\n",
      "ID baz 16\n",
      "RPAREN ) 19\n",
      "WS   21\n",
      "ID X 22\n",
      "RPAREN ) 23\n"
     ]
    }
   ],
   "source": [
    "spec = [\n",
    "    (\"LPAREN\", r\"\\(\"),\n",
    "    (\"RPAREN\", r\"\\)\"),\n",
    "    (\"ID\", r\"[a-zA-Z_][a-zA-Z0-9_]*\"),\n",
    "    (\"NUMBER\", r\"\\d+\"),\n",
    "    (\"PLUS\", r\"\\+\"),\n",
    "    (\"TIMES\", r\"\\*\"),\n",
    "    (\"EQUALS\", r\"=\"),\n",
    "    (\"WS\", r\"\\s+\"),\n",
    "]\n",
    "tok_regex = '|'.join(f\"(?P<{name}>{regex})\" for name, regex in spec)\n",
    "for mo in re.finditer(tok_regex, \"foo(bar(biz boz,baz), X)\"):\n",
    "    print(mo.lastgroup, mo.group(), mo.start())\n"
   ]
  },
  {
   "cell_type": "code",
   "execution_count": null,
   "metadata": {},
   "outputs": [],
   "source": []
  }
 ],
 "metadata": {
  "kernelspec": {
   "display_name": "Python 3",
   "language": "python",
   "name": "python3"
  },
  "language_info": {
   "codemirror_mode": {
    "name": "ipython",
    "version": 3
   },
   "file_extension": ".py",
   "mimetype": "text/x-python",
   "name": "python",
   "nbconvert_exporter": "python",
   "pygments_lexer": "ipython3",
   "version": "3.10.12"
  }
 },
 "nbformat": 4,
 "nbformat_minor": 2
}
