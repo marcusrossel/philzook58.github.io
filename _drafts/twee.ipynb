{
 "cells": [
  {
   "cell_type": "code",
   "execution_count": 1,
   "metadata": {},
   "outputs": [
    {
     "name": "stdout",
     "output_type": "stream",
     "text": [
      "Writing /tmp/ex1.p\n"
     ]
    }
   ],
   "source": [
    "%%file /tmp/ex1.p\n",
    "\n",
    "fof(right_identity, axiom,\n",
    "    ![X]: f(X, e) = X).\n",
    "fof(right_inverse, axiom,\n",
    "    ![X]: f(X, i(X)) = e).\n",
    "fof(associativity, axiom,\n",
    "    ![X, Y, Z]: f(X, f(Y, Z)) = f(f(X, Y), Z)).\n",
    "\n",
    "fof(left_inverse, conjecture,\n",
    "    ![X]: f(i(X),X) = e).\n"
   ]
  },
  {
   "cell_type": "code",
   "execution_count": 2,
   "metadata": {},
   "outputs": [
    {
     "name": "stdout",
     "output_type": "stream",
     "text": [
      "Here is the input problem:\n",
      "  Axiom 1 (right_identity): f(X, e) = X.\n",
      "  Axiom 2 (right_inverse): f(X, i(X)) = e.\n",
      "  Axiom 3 (associativity): f(X, f(Y, Z)) = f(f(X, Y), Z).\n",
      "  Goal 1 (left_inverse): f(i(sK1_left_inverse_X), sK1_left_inverse_X) = e.\n",
      "\n",
      "1. f(X, e) -> X\n",
      "2. f(X, i(X)) -> e\n",
      "3. f(f(X, Y), Z) -> f(X, f(Y, Z))\n",
      "4. f(X, f(e, Y)) -> f(X, Y)\n",
      "5. f(X, i(e)) -> X\n",
      "6. f(X, f(i(X), Y)) -> f(e, Y)\n",
      "7. f(e, i(i(X))) -> X\n",
      "8. f(X, i(i(Y))) -> f(X, Y)\n",
      "9. f(e, X) -> X\n",
      "10. i(e) -> e\n",
      "11. i(i(X)) -> X\n",
      "12. f(i(X), X) -> e\n",
      "\n",
      "The conjecture is true! Here is a proof.\n",
      "\n",
      "Axiom 1 (right_identity): f(X, e) = X.\n",
      "Axiom 2 (right_inverse): f(X, i(X)) = e.\n",
      "Axiom 3 (associativity): f(X, f(Y, Z)) = f(f(X, Y), Z).\n",
      "\n",
      "Goal 1 (left_inverse): f(i(sK1_left_inverse_X), sK1_left_inverse_X) = e.\n",
      "Proof:\n",
      "  f(i(sK1_left_inverse_X), sK1_left_inverse_X)\n",
      "= { by axiom 1 (right_identity) }\n",
      "  f(i(sK1_left_inverse_X), f(sK1_left_inverse_X, e))\n",
      "= { by axiom 2 (right_inverse) }\n",
      "  f(i(sK1_left_inverse_X), f(sK1_left_inverse_X, f(i(sK1_left_inverse_X), i(i(sK1_left_inverse_X)))))\n",
      "= { by axiom 3 (associativity) }\n",
      "  f(i(sK1_left_inverse_X), f(f(sK1_left_inverse_X, i(sK1_left_inverse_X)), i(i(sK1_left_inverse_X))))\n",
      "= { by axiom 2 (right_inverse) }\n",
      "  f(i(sK1_left_inverse_X), f(e, i(i(sK1_left_inverse_X))))\n",
      "= { by axiom 3 (associativity) }\n",
      "  f(f(i(sK1_left_inverse_X), e), i(i(sK1_left_inverse_X)))\n",
      "= { by axiom 1 (right_identity) }\n",
      "  f(i(sK1_left_inverse_X), i(i(sK1_left_inverse_X)))\n",
      "= { by axiom 2 (right_inverse) }\n",
      "  e\n",
      "\n",
      "RESULT: Theorem (the conjecture is true).\n"
     ]
    }
   ],
   "source": [
    "!twee /tmp/ex1.p"
   ]
  },
  {
   "cell_type": "code",
   "execution_count": 43,
   "metadata": {},
   "outputs": [
    {
     "data": {
      "text/plain": [
       "+(X,Y)"
      ]
     },
     "execution_count": 43,
     "metadata": {},
     "output_type": "execute_result"
    }
   ],
   "source": [
    "def tptp(sexp):\n",
    "    return f\"{sexp[0]}({','.join(map(tptp, sexp[1:]))})\" if isinstance(sexp, list) else str(sexp)\n",
    "\n",
    "\n",
    "class Const(str):\n",
    "    #def __init__(self, name):\n",
    "    #    self.name = name\n",
    "    def __eq__(self, other):\n",
    "        return Expr([\"=\", self, other])\n",
    "    def __add__(self, other):\n",
    "        return Expr([\"+\", self, other])\n",
    "    def __mul__(self, other):\n",
    "        return Expr([\"*\", self, other])\n",
    "    def __rshift__(self, other):\n",
    "        return Expr([\"comp\", self, other])\n",
    "    def __matmul__(self, B):\n",
    "        return Expr([\"@\", self, B])\n",
    "    def __neg__(self):\n",
    "        return Expr([\"-\", self])\n",
    "\n",
    "class Expr(list):\n",
    "    def __repr__(self):\n",
    "        return tptp(self)\n",
    "    def __eq__(self, other):\n",
    "        return Expr([\"=\", self, other])\n",
    "    def __add__(self, other):\n",
    "        return Expr([\"+\", self, other])\n",
    "    def __mul__(self, other):\n",
    "        return Expr([\"*\", self, other])\n",
    "    def __rshift__(self, other):\n",
    "        return Expr([\"comp\", self, other])\n",
    "    def __matmul__(self, B):\n",
    "        return Expr([\"@\", self, B])\n",
    "    def __neg__(self):\n",
    "        return Expr([\"-\", self])\n",
    "\n",
    "\n",
    "def function(name):\n",
    "    def res(*args):\n",
    "        return Expr([name, *args])\n",
    "    return res\n",
    "def functions(names):\n",
    "    names = names.split()\n",
    "    return map(function, names)\n",
    "def consts(x):\n",
    "    return map(Const, x.split())\n",
    "X,Y,x = consts(\"X Y x\")\n",
    "f,g = functions(\"f g\")\n",
    "tptp(f(X))\n",
    "\n",
    "type(f(X))\n",
    "X + Y\n",
    "\n"
   ]
  },
  {
   "cell_type": "code",
   "execution_count": 36,
   "metadata": {},
   "outputs": [
    {
     "name": "stdout",
     "output_type": "stream",
     "text": [
      "fof(axiom1, axiom, =(@(id(cod(F)),F),F)).\n",
      "fof(axiom2, axiom, =(@(F,id(dom(F))),F)).\n",
      "fof(axiom3, axiom, =(@(F,@(G,H)),@(@(F,G),H))).\n"
     ]
    }
   ],
   "source": [
    "A,B,C,F,G,H = consts(\"A B C F G H\")\n",
    "id_, cod, dom, swap, dup, del_, pair, proj1, proj2 = functions(\"id cod dom swap dup del_ pair proj1 proj2\")\n",
    "axioms = [\n",
    "id_(cod(F)) @ F == F,\n",
    "F @ id_(dom(F)) == F,\n",
    "F @ (G @ H) == (F @ G) @ H,\n",
    "\n",
    "]\n",
    "axioms\n",
    "\n",
    "\n",
    "counter = 0\n",
    "def tptp_axiom(axiom, name = None):\n",
    "    if name == None:\n",
    "        global counter\n",
    "        counter += 1\n",
    "        name = f\"axiom{counter}\"\n",
    "    return f\"fof({name}, axiom, {axiom}).\"\n",
    "def tptp_axioms(axioms):\n",
    "    return \"\\n\".join(map(tptp_axiom, axioms))\n",
    "print(tptp_axioms(axioms))\n"
   ]
  },
  {
   "cell_type": "code",
   "execution_count": 42,
   "metadata": {},
   "outputs": [
    {
     "ename": "AttributeError",
     "evalue": "'Const' object has no attribute 'name'",
     "output_type": "error",
     "traceback": [
      "\u001b[0;31m---------------------------------------------------------------------------\u001b[0m",
      "\u001b[0;31mAttributeError\u001b[0m                            Traceback (most recent call last)",
      "File \u001b[0;32m~/.local/lib/python3.10/site-packages/IPython/core/formatters.py:707\u001b[0m, in \u001b[0;36mPlainTextFormatter.__call__\u001b[0;34m(self, obj)\u001b[0m\n\u001b[1;32m    700\u001b[0m stream \u001b[38;5;241m=\u001b[39m StringIO()\n\u001b[1;32m    701\u001b[0m printer \u001b[38;5;241m=\u001b[39m pretty\u001b[38;5;241m.\u001b[39mRepresentationPrinter(stream, \u001b[38;5;28mself\u001b[39m\u001b[38;5;241m.\u001b[39mverbose,\n\u001b[1;32m    702\u001b[0m     \u001b[38;5;28mself\u001b[39m\u001b[38;5;241m.\u001b[39mmax_width, \u001b[38;5;28mself\u001b[39m\u001b[38;5;241m.\u001b[39mnewline,\n\u001b[1;32m    703\u001b[0m     max_seq_length\u001b[38;5;241m=\u001b[39m\u001b[38;5;28mself\u001b[39m\u001b[38;5;241m.\u001b[39mmax_seq_length,\n\u001b[1;32m    704\u001b[0m     singleton_pprinters\u001b[38;5;241m=\u001b[39m\u001b[38;5;28mself\u001b[39m\u001b[38;5;241m.\u001b[39msingleton_printers,\n\u001b[1;32m    705\u001b[0m     type_pprinters\u001b[38;5;241m=\u001b[39m\u001b[38;5;28mself\u001b[39m\u001b[38;5;241m.\u001b[39mtype_printers,\n\u001b[1;32m    706\u001b[0m     deferred_pprinters\u001b[38;5;241m=\u001b[39m\u001b[38;5;28mself\u001b[39m\u001b[38;5;241m.\u001b[39mdeferred_printers)\n\u001b[0;32m--> 707\u001b[0m \u001b[43mprinter\u001b[49m\u001b[38;5;241;43m.\u001b[39;49m\u001b[43mpretty\u001b[49m\u001b[43m(\u001b[49m\u001b[43mobj\u001b[49m\u001b[43m)\u001b[49m\n\u001b[1;32m    708\u001b[0m printer\u001b[38;5;241m.\u001b[39mflush()\n\u001b[1;32m    709\u001b[0m \u001b[38;5;28;01mreturn\u001b[39;00m stream\u001b[38;5;241m.\u001b[39mgetvalue()\n",
      "File \u001b[0;32m~/.local/lib/python3.10/site-packages/IPython/lib/pretty.py:410\u001b[0m, in \u001b[0;36mRepresentationPrinter.pretty\u001b[0;34m(self, obj)\u001b[0m\n\u001b[1;32m    407\u001b[0m                         \u001b[38;5;28;01mreturn\u001b[39;00m meth(obj, \u001b[38;5;28mself\u001b[39m, cycle)\n\u001b[1;32m    408\u001b[0m                 \u001b[38;5;28;01mif\u001b[39;00m \u001b[38;5;28mcls\u001b[39m \u001b[38;5;129;01mis\u001b[39;00m \u001b[38;5;129;01mnot\u001b[39;00m \u001b[38;5;28mobject\u001b[39m \\\n\u001b[1;32m    409\u001b[0m                         \u001b[38;5;129;01mand\u001b[39;00m \u001b[38;5;28mcallable\u001b[39m(\u001b[38;5;28mcls\u001b[39m\u001b[38;5;241m.\u001b[39m\u001b[38;5;18m__dict__\u001b[39m\u001b[38;5;241m.\u001b[39mget(\u001b[38;5;124m'\u001b[39m\u001b[38;5;124m__repr__\u001b[39m\u001b[38;5;124m'\u001b[39m)):\n\u001b[0;32m--> 410\u001b[0m                     \u001b[38;5;28;01mreturn\u001b[39;00m \u001b[43m_repr_pprint\u001b[49m\u001b[43m(\u001b[49m\u001b[43mobj\u001b[49m\u001b[43m,\u001b[49m\u001b[43m \u001b[49m\u001b[38;5;28;43mself\u001b[39;49m\u001b[43m,\u001b[49m\u001b[43m \u001b[49m\u001b[43mcycle\u001b[49m\u001b[43m)\u001b[49m\n\u001b[1;32m    412\u001b[0m     \u001b[38;5;28;01mreturn\u001b[39;00m _default_pprint(obj, \u001b[38;5;28mself\u001b[39m, cycle)\n\u001b[1;32m    413\u001b[0m \u001b[38;5;28;01mfinally\u001b[39;00m:\n",
      "File \u001b[0;32m~/.local/lib/python3.10/site-packages/IPython/lib/pretty.py:778\u001b[0m, in \u001b[0;36m_repr_pprint\u001b[0;34m(obj, p, cycle)\u001b[0m\n\u001b[1;32m    776\u001b[0m \u001b[38;5;250m\u001b[39m\u001b[38;5;124;03m\"\"\"A pprint that just redirects to the normal repr function.\"\"\"\u001b[39;00m\n\u001b[1;32m    777\u001b[0m \u001b[38;5;66;03m# Find newlines and replace them with p.break_()\u001b[39;00m\n\u001b[0;32m--> 778\u001b[0m output \u001b[38;5;241m=\u001b[39m \u001b[38;5;28;43mrepr\u001b[39;49m\u001b[43m(\u001b[49m\u001b[43mobj\u001b[49m\u001b[43m)\u001b[49m\n\u001b[1;32m    779\u001b[0m lines \u001b[38;5;241m=\u001b[39m output\u001b[38;5;241m.\u001b[39msplitlines()\n\u001b[1;32m    780\u001b[0m \u001b[38;5;28;01mwith\u001b[39;00m p\u001b[38;5;241m.\u001b[39mgroup():\n",
      "Cell \u001b[0;32mIn [28], line 7\u001b[0m, in \u001b[0;36mConst.__repr__\u001b[0;34m(self)\u001b[0m\n\u001b[1;32m      6\u001b[0m \u001b[38;5;28;01mdef\u001b[39;00m \u001b[38;5;21m__repr__\u001b[39m(\u001b[38;5;28mself\u001b[39m):\n\u001b[0;32m----> 7\u001b[0m     \u001b[38;5;28;01mreturn\u001b[39;00m \u001b[38;5;28;43mself\u001b[39;49m\u001b[38;5;241;43m.\u001b[39;49m\u001b[43mname\u001b[49m\n",
      "\u001b[0;31mAttributeError\u001b[0m: 'Const' object has no attribute 'name'"
     ]
    }
   ],
   "source": [
    "length, app, cons = functions(\"length app cons\")\n",
    "nil, X, Y, Z = consts(\"nil X Y Z\")\n",
    "\n",
    "cons(X,nil)[2]\n"
   ]
  },
  {
   "cell_type": "code",
   "execution_count": null,
   "metadata": {},
   "outputs": [],
   "source": [
    "   \"\"\"\n",
    "     let mut rules : Vec<Rewrite<CatLanguage, ()>> = vec![\n",
    "        vec![rw!( \"dom(hom(a, b)) => a\" ; \"(dom (hom ?a ?b))\" => \"?a\" )],\n",
    "        vec![rw!( \"cod(hom(a, b)) => b\" ; \"(cod (hom ?a ?b))\" => \"?b\" )],\n",
    "        vec![rw!( \"type(id(a)) => hom(a, a)\" ; \"(type (id ?a))\" => \"(hom ?a ?a)\" )],\n",
    "        vec![rw!( \"type(f . g) => hom(dom(type(f)), cod(type(g)))\" ; \"(type (. ?f ?g))\" => \"(hom (dom (type ?f)) (cod (type ?g)))\" )],\n",
    "        vec![rw!( \"type(f om g) => hom(dom(type(f)) oo dom(type(g)), cod(type(f)) oo cod(type(g)))\" ; \"(type (om ?f ?g))\" => \"(hom (oo (dom (type ?f)) (dom (type ?g))) (oo (cod (type ?f)) (cod (type ?g))))\" )],\n",
    "        vec![rw!( \"type(a oo b) => :ob\" ; \"(type (oo ?a ?b))\" => \"ob\" )],\n",
    "        vec![rw!( \"type(munit()) => :ob\" ; \"(type munit)\" => \"ob\" )],\n",
    "        vec![rw!( \"type(swap(a, b)) => hom(a oo b, b oo a)\" ; \"(type (swap ?a ?b))\" => \"(hom (oo ?a ?b) (oo ?b ?a))\" )],\n",
    "        vec![rw!( \"type((del)(a)) => hom(a, munit())\" ; \"(type (del ?a))\" => \"(hom ?a munit)\" )],\n",
    "        vec![rw!( \"type(dup(a)) => hom(a, a oo a)\" ; \"(type (dup ?a))\" => \"(hom ?a (oo ?a ?a))\" )],\n",
    "        vec![rw!( \"type(pair(f, g)) => hom(dom(type(f)), cod(type(f)) oo cod(type(g)))\" ; \"(type (pair ?f ?g))\" => \"(hom (dom (type ?f)) (oo (cod (type ?f)) (cod (type ?g))))\" )],\n",
    "        vec![rw!( \"type(proj1(a, b)) => hom(a oo b, a)\" ; \"(type (proj1 ?a ?b))\" => \"(hom (oo ?a ?b) ?a)\" )],\n",
    "        vec![rw!( \"type(proj2(a, b)) => hom(a oo b, b)\" ; \"(type (proj2 ?a ?b))\" => \"(hom (oo ?a ?b) ?b)\" )],\n",
    "        vec![rw!( \"f . id(b) => f\" ; \"(. ?f (id ?b))\" => \"?f\" )],\n",
    "        vec![rw!( \"id(a) . f => f\" ; \"(. (id ?a) ?f)\" => \"?f\" )],\n",
    "        vec![rw!( \"a oo munit() => a\" ; \"(oo ?a munit)\" => \"?a\" )],\n",
    "        vec![rw!( \"munit() oo a => a\" ; \"(oo munit ?a)\" => \"?a\" )],\n",
    "        rw!( \"f . (g . h) == (f . g) . h\" ; \"(. ?f (. ?g ?h))\" <=> \"(. (. ?f ?g) ?h)\" ),\n",
    "        vec![rw!( \"id(munit()) om f => f\" ; \"(om (id munit) ?f)\" => \"?f\" )],\n",
    "        vec![rw!( \"f om id(munit()) => f\" ; \"(om ?f (id munit))\" => \"?f\" )],\n",
    "        rw!( \"a oo (b oo c) == (a oo b) oo c\" ; \"(oo ?a (oo ?b ?c))\" <=> \"(oo (oo ?a ?b) ?c)\" ),\n",
    "        rw!( \"f om (h om j) == (f om h) om j\" ; \"(om ?f (om ?h ?j))\" <=> \"(om (om ?f ?h) ?j)\" ),\n",
    "        rw!( \"id(a oo b) == id(a) om id(b)\" ; \"(id (oo ?a ?b))\" <=> \"(om (id ?a) (id ?b))\" ), \n",
    "        vec![rw!( \"(f . g) om (p . q) => (f om p) . (g om q)\" ; \"(om (. ?f ?g) (. ?p ?q))\" => \"(. (om ?f ?p) (om ?g ?q))\" )],\n",
    "        rw!( \"swap(a, b) . swap(b, a) == id(a oo b)\" ; \"(. (swap ?a ?b) (swap ?b ?a))\" <=> \"(id (oo ?a ?b))\" ),\n",
    "        rw!( \"(swap(a, b) om id(c)) . (id(b) om swap(a, c)) == swap(a, b oo c)\" ; \"(. (om (swap ?a ?b) (id ?c)) (om (id ?b) (swap ?a ?c)))\" <=> \"(swap ?a (oo ?b ?c))\" ),\n",
    "        rw!( \"(id(a) om swap(b, c)) . (swap(a, c) om id(b)) == swap(a oo b, c)\" ; \"(. (om (id ?a) (swap ?b ?c)) (om (swap ?a ?c) (id ?b)))\" <=> \"(swap (oo ?a ?b) ?c)\" ),\n",
    "        rw!( \"swap(a, munit()) == id(a)\" ; \"(swap ?a munit)\" <=> \"(id ?a)\" ),\n",
    "        rw!( \"swap(munit(), a) == id(a)\" ; \"(swap munit ?a)\" <=> \"(id ?a)\" ),\n",
    "       \n",
    "        vec![rw!( \"swap(munit(), munit()) => id(munit() oo munit())\" ; \"(swap munit munit)\" => \"(id (oo munit munit))\" )],\n",
    "        rw!( \"dup(a) . ((del)(a) om id(a)) == id(a)\" ; \"(. (dup ?a) (om (del ?a) (id ?a)))\" <=> \"(id ?a)\" ),\n",
    "        rw!( \"dup(a) . (id(a) om (del)(a)) == id(a)\" ; \"(. (dup ?a) (om (id ?a) (del ?a)))\" <=> \"(id ?a)\" ),\n",
    "        rw!( \"dup(a) . swap(a, a) == dup(a)\" ; \"(. (dup ?a) (swap ?a ?a))\" <=> \"(dup ?a)\" ),\n",
    "        rw!( \"(dup(a) om dup(b)) . ((id(a) om swap(a, b)) om id(b)) == dup(a oo b)\" ; \"(. (om (dup ?a) (dup ?b)) (om (om (id ?a) (swap ?a ?b)) (id ?b)))\" <=> \"(dup (oo ?a ?b))\" ),\n",
    "        rw!( \"dup(a) . (dup(a) om id(a)) == dup(a) . (id(a) om dup(a))\" ; \"(. (dup ?a) (om (dup ?a) (id ?a)))\" <=> \"(. (dup ?a) (om (id ?a) (dup ?a)))\" ),\n",
    "        rw!( \"(del)(a oo b) == (del)(a) om (del)(b)\" ; \"(del (oo ?a ?b))\" <=> \"(om (del ?a) (del ?b))\" ),\n",
    "        rw!( \"dup(munit()) == id(munit())\" ; \"(dup munit)\" <=> \"(id munit)\" ),\n",
    "        rw!( \"(del)(munit()) == id(munit())\" ; \"(del munit)\" <=> \"(id munit)\" ),\n",
    "        vec![rw!( \"pair(f, k) => dup(dom(type(f))) . (f om k)\" ; \"(pair ?f ?k)\" => \"(. (dup (dom (type ?f))) (om ?f ?k))\" )],\n",
    "        rw!( \"proj1(a, b) == id(a) om (del)(b)\" ; \"(proj1 ?a ?b)\" <=> \"(om (id ?a) (del ?b))\" ),\n",
    "        rw!( \"proj2(a, b) == (del)(a) om id(b)\" ; \"(proj2 ?a ?b)\" <=> \"(om (del ?a) (id ?b))\" ),\n",
    "        vec![rw!( \"f . (del)(b) => (del)(dom(type(f)))\" ; \"(. ?f (del ?b))\" => \"(del (dom (type ?f)))\" )],\n",
    "        vec![rw!( \"f . dup(b) => dup(dom(type(f))) . (f om f)\" ; \"(. ?f (dup ?b))\" => \"(. (dup (dom (type ?f))) (om ?f ?f))\" )],\n",
    "        vec![rw!( \"dup(a) . (f om f) => f . dup(cod(type(f)))\" ; \"(. (dup ?a) (om ?f ?f))\" => \"(. ?f (dup (cod (type ?f))))\" )],\n",
    "                \n",
    "        ].concat();\n",
    "        \"\"\""
   ]
  },
  {
   "cell_type": "markdown",
   "metadata": {},
   "source": [
    "Functional Programming\n",
    "Manifold differentiation\n",
    "simplicial\n",
    "database migration\n"
   ]
  }
 ],
 "metadata": {
  "kernelspec": {
   "display_name": "Python 3",
   "language": "python",
   "name": "python3"
  },
  "language_info": {
   "codemirror_mode": {
    "name": "ipython",
    "version": 3
   },
   "file_extension": ".py",
   "mimetype": "text/x-python",
   "name": "python",
   "nbconvert_exporter": "python",
   "pygments_lexer": "ipython3",
   "version": "3.10.12"
  }
 },
 "nbformat": 4,
 "nbformat_minor": 2
}
