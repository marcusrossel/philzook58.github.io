{
 "cells": [
  {
   "cell_type": "code",
   "execution_count": null,
   "metadata": {},
   "outputs": [],
   "source": []
  },
  {
   "cell_type": "markdown",
   "metadata": {},
   "source": [
    "https://softwarefoundations.cis.upenn.edu/"
   ]
  },
  {
   "cell_type": "code",
   "execution_count": 3,
   "metadata": {},
   "outputs": [],
   "source": [
    "from z3 import *\n",
    "def lemma(thm, by=[], admit=False):\n",
    "    if admit:\n",
    "        print(f\"Admitting {thm}\")\n",
    "    else:\n",
    "        prove(Implies(And(by), thm))\n",
    "    return thm"
   ]
  },
  {
   "cell_type": "markdown",
   "metadata": {},
   "source": [
    "## Basic\n",
    "https://softwarefoundations.cis.upenn.edu/lf-current/Basics.html\n"
   ]
  },
  {
   "cell_type": "code",
   "execution_count": 4,
   "metadata": {},
   "outputs": [
    {
     "name": "stdout",
     "output_type": "stream",
     "text": [
      "proved\n"
     ]
    }
   ],
   "source": [
    "Day = Datatype(\"Day\")\n",
    "for d in [\"Monday\", \"Tuesday\", \"Wednesday\", \"Thursday\", \"Friday\", \"Saturday\", \"Sunday\"]:\n",
    "    Day.declare(d)\n",
    "Day = Day.create()\n",
    "\n",
    "d = Const(\"d\", Day)\n",
    "next_weekday = Function(\"next_weekday\", Day, Day)\n",
    "next_weekday_def = ForAll([d], next_weekday(d) == If(d == Day.Monday, Day.Tuesday,\n",
    "                                                  If(d == Day.Tuesday, Day.Wednesday,\n",
    "                                                  If(d == Day.Wednesday, Day.Thursday,\n",
    "                                                  If(d == Day.Thursday, Day.Friday, \n",
    "                                                     Day.Monday)))))\n",
    "\n",
    "test_next_weekday = lemma(next_weekday(next_weekday(Day.Saturday)) == Day.Tuesday, by=[next_weekday_def])\n",
    "                                                  \n"
   ]
  },
  {
   "cell_type": "markdown",
   "metadata": {},
   "source": [
    "Bools of course are quite built in to z3. It'd be a bit ludicrous to define them\n",
    "\n"
   ]
  },
  {
   "cell_type": "code",
   "execution_count": null,
   "metadata": {},
   "outputs": [],
   "source": [
    "MyBool = Datatype(\"MyBool\")\n",
    "MyBool.declare(\"True\")\n",
    "MyBool.declare(\"False\")\n",
    "MyBool = MyBool.create()\n",
    "\n",
    "negb = Function(\"negb\", MyBool, MyBool)\n",
    "negb_def = ForAll([d], negb(d) == If(d == MyBool.True, MyBool.False, MyBool.True))\n"
   ]
  },
  {
   "cell_type": "markdown",
   "metadata": {},
   "source": [
    "Types. Ok, so this part is not going to be so great.\n",
    "\n"
   ]
  },
  {
   "cell_type": "markdown",
   "metadata": {},
   "source": [
    "### Modules\n",
    "My suggestion is to use python dictionaries or dataclasses as modules\n",
    "I suppose you can also use python modules as modules. https://stackoverflow.com/questions/2931950/dynamic-module-creation \n",
    "This might be too goofy.\n",
    "\n"
   ]
  },
  {
   "cell_type": "code",
   "execution_count": null,
   "metadata": {},
   "outputs": [],
   "source": [
    "context = { a: 1, b: 2 }\n",
    "import types\n",
    "test_context_module = types.ModuleType('TestContext', 'Module created to provide a context for tests')\n",
    "test_context_module.__dict__.update(context)\n",
    "import sys\n",
    "sys.modules['TestContext'] = test_context_module"
   ]
  },
  {
   "cell_type": "markdown",
   "metadata": {},
   "source": [
    "### Tuple\n",
    "Ok, but I'd recommend just using a record. That is all TupleSort is a wrapper for anyway.\n",
    "Ok, it's kind of nice."
   ]
  },
  {
   "cell_type": "code",
   "execution_count": 5,
   "metadata": {},
   "outputs": [],
   "source": [
    "pair, mk_pair, (first, second) = TupleSort(\"pair\", [IntSort(), StringSort()])"
   ]
  },
  {
   "cell_type": "code",
   "execution_count": 6,
   "metadata": {},
   "outputs": [],
   "source": [
    "B = BoolSort()\n",
    "nybble, mk_nybble, (n0, n1, n2, n3) = TupleSort(\"nybble\", [B,B,B,B])\n",
    "# but really we should use a BitVecSort(4)\n",
    "\n",
    "n = Const(\"n\", nybble)\n",
    "all_zero = Function(\"all_zero\", nybble, B)\n",
    "all_zero_def = ForAll([n], all_zero(n) == And(n0(n) == False, n1(n) == False, n2(n) == False, n3(n) == False))"
   ]
  },
  {
   "cell_type": "code",
   "execution_count": null,
   "metadata": {},
   "outputs": [],
   "source": [
    "def MyTupleSort(*sorts):\n",
    "    dt = Datatype(f\"MyTuple_{\"_\".join(map(str,sorts))}\")\n",
    "    dt.declare(\"mk\", *sorts)\n",
    "    dt = dt.create()\n",
    "    return dt"
   ]
  },
  {
   "cell_type": "markdown",
   "metadata": {},
   "source": [
    "### Numbers"
   ]
  },
  {
   "cell_type": "markdown",
   "metadata": {},
   "source": [
    "## Induction\n"
   ]
  },
  {
   "cell_type": "markdown",
   "metadata": {},
   "source": [
    "## Lists\n"
   ]
  },
  {
   "cell_type": "markdown",
   "metadata": {},
   "source": [
    "## Extraction\n",
    "This is an interesting one."
   ]
  }
 ],
 "metadata": {
  "kernelspec": {
   "display_name": "Python 3",
   "language": "python",
   "name": "python3"
  },
  "language_info": {
   "codemirror_mode": {
    "name": "ipython",
    "version": 3
   },
   "file_extension": ".py",
   "mimetype": "text/x-python",
   "name": "python",
   "nbconvert_exporter": "python",
   "pygments_lexer": "ipython3",
   "version": "3.10.12"
  }
 },
 "nbformat": 4,
 "nbformat_minor": 2
}
