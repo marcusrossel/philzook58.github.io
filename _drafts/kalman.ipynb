{
 "cells": [
  {
   "cell_type": "code",
   "execution_count": null,
   "metadata": {},
   "outputs": [],
   "source": []
  },
  {
   "cell_type": "markdown",
   "metadata": {},
   "source": [
    "Kalman filters are a methdology for estimating state in the presence of noisy measurements and noisy dynamics.\n",
    "\n",
    "You can take an optimization function / curve fitting perspective or a bayesian persepctive.\n",
    "\n",
    "The curve fitting persepctive is to optimize a state that best fits the prior know dynamics and observations\n",
    "\n",
    "\n",
    "There are both continuous and discrete time kalman filters.\n",
    "\n",
    "There are also extdned kalman filters which locally and iteratively approximate the dynamics with linear approximations.\n",
    "\n",
    "A ball and spring\n",
    "$\\dot{x} = v$\n",
    "$m \\dot{v} = -x$\n",
    "\n",
    "$ x_{t+1} = Ax_{t} + \\epsilon$\n",
    "$ o_{t} = Bx + \\delta$\n",
    "\n",
    "$ f(x_{t+1} - (Ax_{t} + \\epsilon ) ) + g(o_{t} - Bx + \\delta) + h(\\epsilon) + k(\\delta)$\n",
    "\n",
    "$ f(x) = x^2$\n",
    "\n",
    "Or flip the dynamics into a constraint, whatever floats your boat. A common method of solving constraints is the barrier method though, so it all is kind of the same thing.\n",
    "\n",
    "\n",
    "The online character.\n",
    "Solving these equations involves linear algebra. But the next timestep isn't that different of a problem.\n",
    "This csan be done as a low rank update.\n"
   ]
  },
  {
   "cell_type": "markdown",
   "metadata": {},
   "source": [
    "PID controllers.\n",
    "\n",
    "PID controllers are perversely effective.\n",
    "\n"
   ]
  },
  {
   "cell_type": "markdown",
   "metadata": {},
   "source": [
    "What is the point of verifying a kalman filter?\n",
    "\n",
    "- The reals are a delusion. Since the parameters of te kalman filter are measured or inferred by tweaking and tuning, the exact mathemtical model isn't that relevant. It is concrete and well defined though, which is tantalizing as a verifier stunt. \n",
    "- We really don't want runtime errors liek div 0 or loop windup or overflow. Those are alarming and bad\n",
    "- We do sometimes tune and test something at one precision and want to switch to another kind of precision for all sorts of reasons. Or similarly, swap out the CPU or move to/from an fpga. Confirming that the logical behavior is identical to whatever it was before is a failry well defined question and a useful one.\n",
    "- It is good to know the robot never goes into the lava (unless it's a lava robot, in which case its good to know it does go into the lava).\n",
    "\n",
    "\n",
    "Tabina verified radart imaging"
   ]
  }
 ],
 "metadata": {
  "language_info": {
   "name": "python"
  }
 },
 "nbformat": 4,
 "nbformat_minor": 2
}
