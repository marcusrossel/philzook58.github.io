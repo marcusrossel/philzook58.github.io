{
 "cells": [
  {
   "cell_type": "markdown",
   "metadata": {},
   "source": [
    "---\n",
    "title: \"Gauss and Groebner Egraphs: Intrinsic Linear and Polynomial Equations\"\n",
    "---"
   ]
  },
  {
   "cell_type": "markdown",
   "metadata": {},
   "source": [
    "Something people have wanted is an intrinsic way of bolting linear equality and polynomial reasoning into egraphs\n",
    "\n",
    "It is a paradoxical bummer that associativity and commutativity are two hard to orient rules (the point of the egraph approach) but also highly explosive for what feels like administrative manipulations.\n",
    "\n",
    "\n",
    "\n",
    "\n"
   ]
  },
  {
   "cell_type": "markdown",
   "metadata": {},
   "source": [
    "## What are Union Finds?\n",
    "A union find is a forest of equivalence classes. Each tree in the forest is one equivalence class. The children point up to the parents for a fast `find` operation to get a canonical member (the root) of each eq class.\n",
    "\n",
    "What are they for? Well, one use case is to find the connected components in an undirected graph. This is used as part of Kruskal's algorithm https://en.wikipedia.org/wiki/Kruskal%27s_algorithm for finding minimum spanning forests of a graph. You consider the edges in weight order greedily and add it to the spanning tree if it doesn't connect two thing already connected. The union find gives a fast check for already connected.\n",
    "\n",
    "The \"proof\" that two edges are connected is the path between them.\n",
    "\n",
    "## Linear Algebra and Unions Finds\n",
    "There are other approaches though. You might \n",
    "\n",
    "One way of representing graphs that is very fruitful is the perspective of adjacency matrices https://en.wikipedia.org/wiki/Adjacency_matrix . Multiplication of the matrices can correspond to taking steps or finding paths in the graph. Using min-plus arithemtic, you can find the mininum cost path in this way\n",
    "\n",
    "A different, kind of crazy, way of finding connected components of a graph might be spectral method. You could take the eigenvectors of the graph laplacian. There ought to be one . So the linear algebraic \n",
    "\n",
    "I'm not saying any of these considerations directly apply in what we're doing here, but I am noting that linear algebra methods and union finds are in the same ball park.\n",
    " \n",
    "If you only assert equations of the form `x - y = 0` aka have rows in your matrix of only a single `1` and `-1`, then the reduced row echelon form will tell you exactly wich variables are equal to a canonical vairable.\n",
    "\n",
    "If our graph was a bunch of points connected by springs, these eigvenctors are normal mods that correspond to an entire connected chunk translating uniformly. Or you could think of the graph as a circuit and the edges as resistors in which case it corresponds to the shifting of an entire chunk by a uniform Voltage, and no current flows.\n",
    "\n",
    "One of the cool things about spectral graph theory https://en.wikipedia.org/wiki/Spectral_graph_theory is that it tells you an approximation of the min cut\n",
    "\n",
    "However, you are free to use more complicated linear combinations.\n",
    "\n",
    "## Gaussian Elimination and Grobner Bases\n",
    "\n",
    "\n",
    "## Bottom Up EMatching\n",
    "\n",
    "## Egraphs are Ground Completion, Grobner is Knuth Bendix\n",
    "\n",
    "I'll note that associativity added into ground equations makes knuth bendix completion undecidable.\n",
    "\n",
    "Adding in enough ring equations to bring us back \n",
    "\n",
    "It's complicated.\n",
    "\n",
    "\n",
    "The Shostak method to the best I understand it is combining theories by using the theories to eliminate variables rather than just propagate equations.\n",
    "Linear arithemtic knows how to isolate variables. Sweet. Do that, assert that variable to the egraph.\n",
    "\n",
    "\n",
    "\n",
    "\n",
    "\n",
    "\n",
    "\n"
   ]
  },
  {
   "cell_type": "code",
   "execution_count": null,
   "metadata": {},
   "outputs": [],
   "source": [
    "class EGraph():\n",
    "    nodes\n",
    "    uf\n",
    "    T\n",
    "    def __init__(self):\n",
    "        self.nodes = []\n",
    "        self.R = []\n",
    "        self.t = []\n",
    "    def add_term(self, t):\n",
    "\n",
    "    def canon()\n",
    "        "
   ]
  },
  {
   "cell_type": "markdown",
   "metadata": {},
   "source": [
    "# Bits and Bobbles\n",
    "\n",
    "There was this idea of \"symbolic\" lattices in egglog. If we defined a lattice using egraph equations for join the \"merge\" annotation for the table could refer to this insitead of to a primitive lattice like i64-min.\n",
    "\n",
    "Semiring semantics. Is this getting close to an interesting intertwined notion of semiring semantics? Instead of an a priori quotient ring we could discover what ring we're in and normalize all truth valuers via the grobner. Hmm.\n",
    "\n",
    "A represntation that is \"off by 1\" from the above is polynomials as just another kind of container. Containers have a theory specific notion of rebuilding. Sets for example deduplicate and sort on rebuilding (they may have discovered new equations, so sets could shrink). Polynomials are just another container for eclasses. Enodes are just an ordered fixed size array container. https://www.philipzucker.com/bottom_up/\n",
    "\n",
    "Quine Mclusky https://en.wikipedia.org/wiki/Quine%E2%80%93McCluskey_algorithm might be a good replacement for grobner in boolean theories. Not sure what it is though"
   ]
  },
  {
   "cell_type": "markdown",
   "metadata": {},
   "source": [
    "\n",
    "\n",
    "\n",
    "Egraphs modulo theories EMT = SMT - Sat\n",
    "But a focus on ematching and simplification rather than sat solving\n",
    "\n",
    "\n",
    "\n",
    "\n",
    "Subsumption is a terminology for a redundant fact\n",
    "\n",
    "Forward subsumption  is deleting new redundant inferences. We need to compare a new fact and see if it is made redundant by our large database of old facts\n",
    "\n",
    "Backward subsumption is the opposite. We want to see which pieces of our old big datbase are made redunant by our new fact\n",
    "\n",
    "If I knew x > 0 and then derive x > -1, this new fact is redundant.\n",
    "If I knew x > 0 and derive x > 1, then the old fact x > 0 is made redundant. The new fact is strictly stronger.\n",
    "\n",
    "Some common notions of subsumption\n",
    "- conditional facts with weaker assumtions. `A /\\ B => C` is strictly weaker than `A => C` \n",
    "- intervals\n",
    "- Unification patterns. `forall A, f(A)= g(A)` is stronger than `f(1) = g(1)`. Likewise `forall A B, g(A,B) = 7` is stronger than `forall A, g(A,A) = 7` \n",
    "- Linear equations\n",
    "- Linear Inequalities\n",
    "- Polynomial equations\n",
    "- Boolean formulas. \n",
    "\n",
    "Forward subsumption of linear inequalities is answerable via linear programming. Given the database `Ax >= b`, is `cx >= d` redundant? Well the answer to `min cx s.t. Ax >= b` will tell you. If the min was already greater than d, it is redundant, and the dual vector tells you how to derive this fact\n",
    "\n",
    "Forward Subsumption of boolean variables can be asked via a SAT query. We can have a big database and push and pop small queries on.\n",
    "\n",
    "It is less clear to me how to do backward subsumption.\n",
    "\n",
    "We can normalize\n",
    "\n",
    "\n",
    "Grobner bases and guassian elimination\n",
    "Duplicating inside z3.\n",
    "\n",
    "$Ax=b$ This represents some affine subspace\n",
    "Does this hyperplane\n",
    "$cx=d$\n",
    "lie inside the subspace?\n",
    "\n",
    "$l(Ax - b) = cx - d$\n",
    "\n",
    "The dual problem\n",
    "$ lb=d $\n",
    "$ lA=c $\n",
    "\n",
    "So we could solve this via a stack matrix $l(A|b) = (c|d)$\n",
    "Or we could do a block LU.\n",
    "\n",
    "What are my options for decompositions. LU, QR, eigen, svd\n",
    "\n",
    "\n",
    "https://github.com/vprover/vampire/pull/546 vampire pull request about using SAT for subsumption. Paper references\n",
    "- 2022: \"First-Order Subsumption via SAT Solving.\" by Jakob Rath, Armin Biere and Laura Kovács\n",
    "- 2023: \"SAT-Based Subsumption Resolution\" by Robin Coutelier, Jakob Rath, Michael Rawson and Laura Kovács\n",
    "- 2024: \"SAT Solving for Variants of First-Order Subsumption\" by Robin Coutelier, Jakob Rath, Michael Rawson, Armin Biere and Laura Kovács\n",
    "\n",
    "\n",
    "\n",
    "\n",
    "A \"soft egraph\" which tries to take low rank views?\n",
    "eivenvectors\n",
    "could use svd or qr?\n",
    "That x - y kiund of looks like a finite difference, anything to do with that? homology, homotopty, equality, ideations. Encoding higher equalities linear using mesh curl stuff?\n",
    "Can we make any sense of an occurs check in this linear form?\n",
    "\n",
    "Semiring considerations?\n",
    "\n",
    "\n",
    "Union finds are used for connected components. You could use linear algebraic / spectral methods for connected components, although it would be ludicrous overkill. We are in some sense building things akin to the graph laplacian / differentiation operators. The adjacency matrix of the graph.\n",
    "\n",
    "\n",
    "\n"
   ]
  },
  {
   "cell_type": "code",
   "execution_count": null,
   "metadata": {},
   "outputs": [],
   "source": [
    "cos(sin(x)**2)**2 + sin(1 - cos(x)**2)**2\n",
    "\n"
   ]
  },
  {
   "cell_type": "code",
   "execution_count": 4,
   "metadata": {},
   "outputs": [
    {
     "data": {
      "text/plain": [
       "QRResult(Q=array([[1., 0., 0.],\n",
       "       [0., 1., 0.],\n",
       "       [0., 0., 1.]]), R=array([[ 1., -1.,  0.,  0.,  0.],\n",
       "       [ 0.,  1., -1.,  0.,  0.],\n",
       "       [ 0.,  0.,  0.,  1., -1.]]))"
      ]
     },
     "execution_count": 4,
     "metadata": {},
     "output_type": "execute_result"
    }
   ],
   "source": [
    "import numpy as np\n",
    "\n",
    "R = np.array([\n",
    "    [1,-1,0,0,0],\n",
    "    [0,1,-1,0,0],\n",
    "    [0,0,0,1,-1]\n",
    "])\n",
    "np.linalg.svd(R)\n",
    "np.linalg.qr(R)\n"
   ]
  },
  {
   "cell_type": "code",
   "execution_count": 19,
   "metadata": {},
   "outputs": [
    {
     "data": {
      "text/latex": [
       "$\\displaystyle \\left[\\begin{matrix}1 & 0 & -1 & 0 & 0 & 1 & 0 & 1 & 0\\\\0 & 1 & -1 & 0 & 0 & 0 & 0 & 1 & 0\\\\0 & 0 & 0 & 1 & -1 & 0 & 0 & 0 & 1\\\\0 & 0 & 0 & 0 & 0 & 0 & 1 & -1 & 0\\end{matrix}\\right]$"
      ],
      "text/plain": [
       "Matrix([\n",
       "[1, 0, -1, 0,  0, 1, 0,  1, 0],\n",
       "[0, 1, -1, 0,  0, 0, 0,  1, 0],\n",
       "[0, 0,  0, 1, -1, 0, 0,  0, 1],\n",
       "[0, 0,  0, 0,  0, 0, 1, -1, 0]])"
      ]
     },
     "execution_count": 19,
     "metadata": {},
     "output_type": "execute_result"
    }
   ],
   "source": [
    "import sympy as sp\n",
    "\n",
    "R =   sp.Matrix([\n",
    "    [1,-1, 0,0, 0],\n",
    "    [0, 1,-1,0, 0],\n",
    "    [0, 1, -1, 0,0],\n",
    "    [0, 0, 0,1,-1]])\n",
    "\n",
    "R.rref()\n",
    "\n",
    "# tacking an identity matrix on let's us track the row manipulations. This is a proof producing union find of sorts.\n",
    "S = sp.Matrix.hstack(R,sp.eye(4)).rref()[0]\n",
    "S"
   ]
  },
  {
   "cell_type": "code",
   "execution_count": 20,
   "metadata": {},
   "outputs": [
    {
     "data": {
      "text/latex": [
       "$\\displaystyle \\left[\\begin{matrix}1 & 0 & 1 & 0\\\\0 & 0 & 1 & 0\\\\0 & 0 & 0 & 1\\\\0 & 1 & -1 & 0\\end{matrix}\\right]$"
      ],
      "text/plain": [
       "Matrix([\n",
       "[1, 0,  1, 0],\n",
       "[0, 0,  1, 0],\n",
       "[0, 0,  0, 1],\n",
       "[0, 1, -1, 0]])"
      ]
     },
     "execution_count": 20,
     "metadata": {},
     "output_type": "execute_result"
    }
   ],
   "source": [
    "S[:,5:] # This is directly the row manipulation matrix. It tells us how to get the row normalized form from R."
   ]
  },
  {
   "cell_type": "markdown",
   "metadata": {},
   "source": [
    "The wyaso f looking at matrix multiplication. Row times column, sure, but also a vectior can be seen as a column sum of a matrix. A row vector on the right is a row sum.\n",
    "\n",
    "RA = row manipulations / linear row sums of A. Each row of R is a Row sum recipe.  \n",
    "\n",
    "\n",
    "`E * [R | I] = [E*R | E] = S`\n",
    "\n",
    "We want to know how .\n",
    "Can I produce a spanning tree from this? Well, I can get a subset of the edges needed.\n",
    "\n",
    "\n",
    "Each row of the reduced row echelon can be seen as a rewrite rule. The leading 1 should rewrite to the negative of the rest of that row.\n",
    "`[1 0 -1 -1]` is seen as `x_0 -> x_2 + x_3`. The term ordering of the variable of the obvious one.\n",
    "\n",
    "Polynomials (and many mathemtical expressions) can be seen in two different lights. \n",
    "- `1 + 2a + b*b`  `a` and `b` have particular values in a model. They are points. They are ground. They can perhaps be solved for.  R^2 -> P\n",
    "- `1 + 2*A + B*B`  A thing you're suppose to subsitute in for variables A,B. This is a mapping to a scalar and a pluggable formula for it. \"Solving\" an equation would be finding a surface. In particular you may want a parametrization of the surface. P -> R. Or is this R^2 -> R?\n",
    "\n",
    "Is grobner basis finding ground completion? Yes, I think so.\n",
    "\n",
    "Creating S polynomials is creating critical pairs. But we aren't doing unification of monomials. We are doing sub term finding (?). Well possibly subterm into an even bigger thing. What if we restricted grobner to strict monominal subterm S polynomials (one of the monomial coefficients has to be 1)?  x^{m} - p x^{n}\n",
    "\n",
    "\n",
    "Quine Mclucskey is also completion? How does that one work?\n",
    "\n",
    "\n"
   ]
  },
  {
   "cell_type": "markdown",
   "metadata": {},
   "source": [
    "Polynomials are just another container.\n",
    "bottom up ematching still seems ok\n",
    "polynomials are ground from the term reqwriting perspective.\n",
    "grobner guaranteed to terminate?\n",
    "Also linear equalities\n",
    "\n",
    "We can also do SMT guarded patterns.\n",
    "\n",
    "\n",
    "\n",
    "linear inequalities?\n",
    "\n",
    "Knuth bendix and grobner\n",
    "https://leodemoura.github.io/files/synasc.pdf passmore de moura Superfluous S-polynomials in Strategy-Independent\n",
    "Gr¨obner Bases\n",
    "https://www.sciencedirect.com/science/article/pii/S0747717199902626  A Categorical Critical-pair Completion Algorithm\n",
    "https://dl.acm.org/doi/pdf/10.1145/74540.74548  Knuth-Bendix procedure and Buchberger algorithm: a synthesis\n",
    "https://link.springer.com/chapter/10.1007/978-3-0348-8800-4_9 Normalized Rewriting: A Unified View of Knuth-Bendix Completion and Gröbner Bases Computation\n",
    "https://arxiv.org/abs/math/9812097  Applications of Rewriting Systems and Groebner Bases to Computing Kan Extensions and Identities Among Relations\n",
    "\n",
    "\n",
    "https://jingnanshi.com/blog/groebner_basis.html\n",
    "https://colab.research.google.com/github/bernalde/QuIP/blob/master/notebooks/Notebook%202%20-%20Groebner%20basis.ipynb hmm. quantum integer programming?\n",
    "https://github.com/sumiya11/Groebner.jl?tab=readme-ov-file\n",
    "msolve\n",
    "https://www.philipzucker.com/computing-syzygy-modules-in-sympy/\n",
    "\n",
    "\n",
    "Also polynomial factoring. Normalization of the poly could involve slapping the factors in the egraph.\n"
   ]
  },
  {
   "cell_type": "code",
   "execution_count": 21,
   "metadata": {},
   "outputs": [
    {
     "data": {
      "text/plain": [
       "3"
      ]
     },
     "execution_count": 21,
     "metadata": {},
     "output_type": "execute_result"
    }
   ],
   "source": [
    "# https://docs.sympy.org/latest/modules/polys/reference.html\n",
    "import sympy as sp\n",
    "\n",
    "from sympy import poly\n",
    "from sympy.abc import x,y,z\n",
    "from sympy import groebner\n",
    "poly(x*(x**2 + x - 1)**2)\n",
    "\n",
    "F = [x*y - 2*y, 2*y**2 - x**2]\n",
    "groebner(F, x, y, order='lex')\n",
    "\n",
    "\n",
    "def sympy_eclass(n):\n",
    "    return sp.symbols('e' + str(n))\n",
    "def eclass_of_sympy(eclass):\n",
    "    return int(eclass.name[1:])\n",
    "\n",
    "eclass_of_sympy(sympy_eclass(3))\n"
   ]
  },
  {
   "cell_type": "code",
   "execution_count": 29,
   "metadata": {},
   "outputs": [
    {
     "ename": "TypeError",
     "evalue": "cannot unpack non-iterable Mul object",
     "output_type": "error",
     "traceback": [
      "\u001b[0;31m---------------------------------------------------------------------------\u001b[0m",
      "\u001b[0;31mTypeError\u001b[0m                                 Traceback (most recent call last)",
      "Cell \u001b[0;32mIn[29], line 7\u001b[0m\n\u001b[1;32m      5\u001b[0m G \u001b[38;5;241m=\u001b[39m groebner(F, x, y, order\u001b[38;5;241m=\u001b[39m\u001b[38;5;124m'\u001b[39m\u001b[38;5;124mlex\u001b[39m\u001b[38;5;124m'\u001b[39m)\n\u001b[1;32m      6\u001b[0m _, p \u001b[38;5;241m=\u001b[39m sp\u001b[38;5;241m.\u001b[39mreduced(x\u001b[38;5;241m*\u001b[39my, G)\n\u001b[0;32m----> 7\u001b[0m \u001b[38;5;28;01mfor\u001b[39;00m x,v \u001b[38;5;129;01min\u001b[39;00m foo:\n\u001b[1;32m      8\u001b[0m     foo[sp\u001b[38;5;241m.\u001b[39mreduced(x,G)] \u001b[38;5;241m=\u001b[39m v\n",
      "\u001b[0;31mTypeError\u001b[0m: cannot unpack non-iterable Mul object"
     ]
    }
   ],
   "source": [
    "foo = {}\n",
    "foo[x*y] = 10\n",
    "\n",
    "F = [x*y - 2*y, 2*y**2 - x**2]\n",
    "G = groebner(F, x, y, order='lex')\n",
    "_, p = sp.reduced(x*y, G)\n",
    "for x,v in foo:\n",
    "    foo[sp.reduced(x,G)] = v\n"
   ]
  },
  {
   "cell_type": "markdown",
   "metadata": {},
   "source": [
    "Note that a grobner basis over linear equations is guassian elimuination.\n",
    "But also a grobner basis over linear equations of the form `p = q` is sufficient to make a union find.\n",
    "Hence we can use grobner instead of our union find. \n",
    "\n",
    "\n",
    "A Grobner Union Find\n",
    "It is interesting that completion\n",
    "\n",
    "\n",
    "Triangular substitutions a la minkanren for unification. Triangular is reminiscent of LU decomposition. There are incremental guassian elimination algorithms.\n"
   ]
  },
  {
   "cell_type": "code",
   "execution_count": 13,
   "metadata": {},
   "outputs": [
    {
     "data": {
      "text/plain": [
       "sympy.core.symbol.Symbol"
      ]
     },
     "execution_count": 13,
     "metadata": {},
     "output_type": "execute_result"
    }
   ],
   "source": [
    "from sympy.abc import a,b,c,d,e,f,g,h\n",
    "groebner([a - b, b - c, d - e, d - c, f-g])\n",
    "type(a)"
   ]
  },
  {
   "cell_type": "markdown",
   "metadata": {},
   "source": []
  },
  {
   "cell_type": "code",
   "execution_count": null,
   "metadata": {},
   "outputs": [],
   "source": [
    "EClass = sp.Symbol\n",
    "class EGraph:\n",
    "    def __init__(self):\n",
    "        self.poly_eqs = []\n",
    "        self.hashcons : Dict[Any, EClass] = {}\n",
    "        self.n_eclasses = []\n",
    "    def __getitem__(self, key):\n",
    "        return self.hashcons[key]\n",
    "    def find(self, x : EClass) -> EClass:\n",
    "        return reduce(x, self.poly_eqs)\n",
    "    def union(self, x : EClass,y : EClass) -> EClass:\n",
    "        x = self.find(x)\n",
    "        y = self.find(y)\n",
    "        if x != y:\n",
    "            self.poly_eqs.append(x - y)\n",
    "    def makeset(self):\n",
    "        x = sympy_eclass(len(self.n_eclasses))\n",
    "        self.eclasses.appehd(x)\n",
    "        return x\n",
    "    def make(self, t : Any) -> EClass:\n",
    "        t1 = self.hashcons.get(t)\n",
    "        if t1 == None:\n",
    "            v = self.makeset()\n",
    "            self.hashcons[t] = v\n",
    "            return v\n",
    "        else:\n",
    "            return t1\n",
    "    def __repr__(self):\n",
    "        return f\"EGraph(uf={self.uf},hashcons={self.hashcons})\"\n",
    "    def rebuild(self):\n",
    "        # simple naive dumb rebuild step\n",
    "        self.poly_eqs = groebner(self.poly_eqs, *self.eclasses)\n",
    "        for k,v in self.hashcons.items():\n",
    "            v = self.find(v)\n",
    "            self.hashcons[k] = v\n",
    "            v1 = self.make(k.rebuild()) \n",
    "            self.union(v,v1)"
   ]
  },
  {
   "cell_type": "code",
   "execution_count": 8,
   "metadata": {},
   "outputs": [],
   "source": [
    "from sympy import reduced"
   ]
  },
  {
   "cell_type": "code",
   "execution_count": 9,
   "metadata": {},
   "outputs": [
    {
     "data": {
      "text/plain": [
       "([2*x, 1], x**2 + y**2 + y)"
      ]
     },
     "execution_count": 9,
     "metadata": {},
     "output_type": "execute_result"
    }
   ],
   "source": [
    "type(poly(x*(x**2 + x - 1)**2))\n",
    "# https://docs.sympy.org/latest/modules/polys/reference.html#sympy.polys.polytools.reduced\n",
    "# not sure how complete reduced is? Naive repeated polynimal division?\n",
    "reduced(2*x**4 + y**2 - x**2 + y**3, [x**3 - x, y**3 - y])"
   ]
  },
  {
   "cell_type": "code",
   "execution_count": null,
   "metadata": {},
   "outputs": [],
   "source": [
    "class PolyNode(sympy.polys.polytools.Poly):\n",
    "    def rebuild(self):\n",
    "        return PolyNode(reduced(self, egraph.poly_eqs))\n",
    "    "
   ]
  },
  {
   "cell_type": "code",
   "execution_count": null,
   "metadata": {},
   "outputs": [],
   "source": [
    "class UnionFind():\n",
    "    def __init__(self):\n",
    "        self.uf = []\n",
    "    def makeset(self):\n",
    "        uf = self.uf\n",
    "        uf.append(len(uf))\n",
    "        return len(uf) - 1\n",
    "    def find(self,x):\n",
    "        while self.uf[x] != x:\n",
    "            x = self.uf[x]\n",
    "        return x\n",
    "    def union(self,x,y):\n",
    "        x = self.find(x)\n",
    "        y = self.find(y)\n",
    "        self.uf[x] = y\n",
    "        return y\n",
    "    def __len__(self):\n",
    "        return len(self.uf)\n",
    "    def __repr__(self):\n",
    "        return \"UnionFind({})\".format(self.uf)\n",
    "\n",
    "EClass = int\n",
    "\n",
    "from dataclasses import dataclass\n",
    "from typing import Any, Dict\n",
    "\n",
    "@dataclass(frozen=True)\n",
    "class Lit():\n",
    "    data: Any\n",
    "    def rebuild(self):\n",
    "        return self\n",
    "\n",
    "@dataclass(frozen=True)\n",
    "class ENode():\n",
    "    head: Any\n",
    "    args : tuple[EClass]\n",
    "    def rebuild(self):\n",
    "        return ENode(self.head, tuple(map(egraph.uf.find, self.args)))"
   ]
  },
  {
   "cell_type": "code",
   "execution_count": null,
   "metadata": {},
   "outputs": [],
   "source": [
    "class EGraph:\n",
    "    def __init__(self):\n",
    "        self.uf = UnionFind()\n",
    "        self.hashcons : Dict[Any, EClass] = {}\n",
    "    def __getitem__(self, key):\n",
    "        return self.hashcons[key]\n",
    "    def union(self, x : EClass,y : EClass) -> EClass:\n",
    "        return self.uf.union(x,y)\n",
    "    def make(self, t : Any) -> EClass:\n",
    "        t1 = self.hashcons.get(t)\n",
    "        if t1 == None:\n",
    "            v = self.uf.makeset()\n",
    "            self.hashcons[t] = v\n",
    "            return v\n",
    "        else:\n",
    "            return t1\n",
    "    def __getitem__(self, key):\n",
    "        return self.hashcons[key]\n",
    "    def __iter__(self):\n",
    "        return iter(range(len(self.uf.uf))) \n",
    "    def __repr__(self):\n",
    "        return f\"EGraph(uf={self.uf},hashcons={self.hashcons})\"\n",
    "    def rebuild(self):\n",
    "        # simple naive dumb rebuild step\n",
    "        for k,v in self.hashcons.items():\n",
    "            v = self.uf.find(v)\n",
    "            self.hashcons[k] = v\n",
    "            v1 = self.make(k.rebuild()) \n",
    "            self.union(v,v1)"
   ]
  },
  {
   "cell_type": "code",
   "execution_count": null,
   "metadata": {},
   "outputs": [],
   "source": [
    "@dataclass\n",
    "class EGraph():\n",
    "    uf:UnionFind\n",
    "    nodes:list[object]\n",
    "    z3_solver: SolverRef\n",
    "    poly_eqs: list[Poly]\n",
    "\n",
    "    def canon(self):\n",
    "    def assert_z3(self, constr):\n",
    "        # or maybe just let it rip.\n",
    "        self.solver.push()\n",
    "        # subsumption check\n",
    "        self.solver.add(Not(constr))\n",
    "        res = self.solver.check()\n",
    "        # mayube store models for fast path subsumtion\n",
    "        self.solver.pop()\n",
    "        if res == sat: # this constrain is not redunddant.\n",
    "            self.solver.add(constr)\n",
    "    def norm_linear(self, lexpr):\n",
    "        # project into current subspace basically. No. because lexpr is describing linear function of vectotrs.\n",
    "    def assert_lineq():\n",
    "        # also maybe inform z3.\n",
    "\n",
    "\n",
    "\n"
   ]
  },
  {
   "cell_type": "code",
   "execution_count": 24,
   "metadata": {},
   "outputs": [
    {
     "data": {
      "text/html": [
       "&not;(x = y) &or; z = Store(a, y, 0)[x]"
      ],
      "text/plain": [
       "Or(Not(x == y), z == Store(a, y, 0)[x])"
      ]
     },
     "execution_count": 24,
     "metadata": {},
     "output_type": "execute_result"
    }
   ],
   "source": [
    "# contextual simplification\n",
    "from z3 import *\n",
    "#ArraySort(IntSort(), IntSort())\n",
    "x, y, z = Ints(\"x y z\")\n",
    "a = Array(\"a\", IntSort(), IntSort())\n",
    "z3.simplify(y / (y * x))\n",
    "z3.simplify(Select(Store(a, y, IntVal(0)), x))\n",
    "#z3.simplify(Implies(x == y, ))\n",
    "e = Select(Store(a, y, IntVal(0)), x)\n",
    "z3.simplify(e)\n",
    "z3.simplify(Implies(x == y, z == e)) # nope Ok, well it was an idea\n",
    "\n",
    "# z3 mirroring. Do quantifier instan outside z3. Is this of any relation to avatar?\n",
    "\n"
   ]
  },
  {
   "cell_type": "markdown",
   "metadata": {},
   "source": [
    "https://servus.math.su.se/bergman/\n",
    "\n",
    "ocaml-alg\n",
    "msolve\n",
    "\n",
    "https://github.com/joshrule/term-rewriting-rs there isn't a kb in here?\n",
    "\n"
   ]
  }
 ],
 "metadata": {
  "kernelspec": {
   "display_name": "Python 3",
   "language": "python",
   "name": "python3"
  },
  "language_info": {
   "codemirror_mode": {
    "name": "ipython",
    "version": 3
   },
   "file_extension": ".py",
   "mimetype": "text/x-python",
   "name": "python",
   "nbconvert_exporter": "python",
   "pygments_lexer": "ipython3",
   "version": "3.10.12"
  }
 },
 "nbformat": 4,
 "nbformat_minor": 2
}
