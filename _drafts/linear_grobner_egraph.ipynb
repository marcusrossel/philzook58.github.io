{
 "cells": [
  {
   "cell_type": "code",
   "execution_count": null,
   "metadata": {},
   "outputs": [],
   "source": []
  },
  {
   "cell_type": "markdown",
   "metadata": {},
   "source": [
    "Subsumption is a terminology for a redundant fact\n",
    "\n",
    "Forward subsumption  is deleting new redundant inferences. We need to compare a new fact and see if it is made redundant by our large database of old facts\n",
    "\n",
    "Backward subsumption is the opposite. We want to see which pieces of our old big datbase are made redunant by our new fact\n",
    "\n",
    "If I knew x > 0 and then derive x > -1, this new fact is redundant.\n",
    "If I knew x > 0 and derive x > 1, then the old fact x > 0 is made redundant. The new fact is strictly stronger.\n",
    "\n",
    "Some common notions of subsumption\n",
    "- conditional facts with weaker assumtions. `A /\\ B => C` is strictly weaker than `A => C` \n",
    "- intervals\n",
    "- Unification patterns. `forall A, f(A)= g(A)` is stronger than `f(1) = g(1)`. Likewise `forall A B, g(A,B) = 7` is stronger than `forall A, g(A,A) = 7` \n",
    "- Linear equations\n",
    "- Linear Inequalities\n",
    "- Polynomial equations\n",
    "- Boolean formulas. \n",
    "\n",
    "Forward subsumption of linear inequalities is answerable via linear programming. Given the database `Ax >= b`, is `cx >= d` redundant? Well the answer to `min cx s.t. Ax >= b` will tell you. If the min was already greater than d, it is redundant, and the dual vector tells you how to derive this fact\n",
    "\n",
    "Forward Subsumption of boolean variables can be asked via a SAT query. We can have a big database and push and pop small queries on.\n",
    "\n",
    "It is less clear to me how to do backward subsumption.\n",
    "\n",
    "We can normalize\n",
    "\n",
    "\n",
    "Grobner bases and guassian elimination\n",
    "Duplicating inside z3.\n",
    "\n",
    "$Ax=b$ This represents some affine subspace\n",
    "Does this hyperplane\n",
    "$cx=d$\n",
    "lie inside the subspace?\n",
    "\n",
    "$l(Ax - b) = cx - d$\n",
    "\n",
    "The dual problem\n",
    "$ lb=d $\n",
    "$ lA=c $\n",
    "\n",
    "So we could solve this via a stack matrix $l(A|b) = (c|d)$\n",
    "Or we could do a block LU.\n",
    "\n",
    "What are my options for decompositions. LU, QR, eigen, svd\n",
    "\n",
    "\n",
    "https://github.com/vprover/vampire/pull/546 vampire pull request about using SAT for subsumption. Paper references\n",
    "- 2022: \"First-Order Subsumption via SAT Solving.\" by Jakob Rath, Armin Biere and Laura Kovács\n",
    "- 2023: \"SAT-Based Subsumption Resolution\" by Robin Coutelier, Jakob Rath, Michael Rawson and Laura Kovács\n",
    "- 2024: \"SAT Solving for Variants of First-Order Subsumption\" by Robin Coutelier, Jakob Rath, Michael Rawson, Armin Biere and Laura Kovács\n",
    "\n",
    "\n",
    "\n"
   ]
  },
  {
   "cell_type": "markdown",
   "metadata": {},
   "source": [
    "Polynomials are just another container.\n",
    "bottom up ematching still seems ok\n",
    "polynomials are ground from the term reqwriting perspective.\n",
    "grobner guaranteed to terminate?\n",
    "Also linear equalities\n",
    "\n",
    "We can also do SMT guarded patterns.\n",
    "\n",
    "\n",
    "\n",
    "linear inequalities?\n",
    "\n",
    "Knuth bendix and grobner\n",
    "https://leodemoura.github.io/files/synasc.pdf passmore de moura Superfluous S-polynomials in Strategy-Independent\n",
    "Gr¨obner Bases\n",
    "https://www.sciencedirect.com/science/article/pii/S0747717199902626  A Categorical Critical-pair Completion Algorithm\n",
    "https://dl.acm.org/doi/pdf/10.1145/74540.74548  Knuth-Bendix procedure and Buchberger algorithm: a synthesis\n",
    "https://link.springer.com/chapter/10.1007/978-3-0348-8800-4_9 Normalized Rewriting: A Unified View of Knuth-Bendix Completion and Gröbner Bases Computation\n",
    "https://arxiv.org/abs/math/9812097  Applications of Rewriting Systems and Groebner Bases to Computing Kan Extensions and Identities Among Relations\n",
    "\n",
    "\n",
    "https://jingnanshi.com/blog/groebner_basis.html\n",
    "https://colab.research.google.com/github/bernalde/QuIP/blob/master/notebooks/Notebook%202%20-%20Groebner%20basis.ipynb hmm. quantum integer programming?\n",
    "https://github.com/sumiya11/Groebner.jl?tab=readme-ov-file\n",
    "msolve\n",
    "https://www.philipzucker.com/computing-syzygy-modules-in-sympy/\n",
    "\n",
    "\n",
    "Also polynomial factoring. Normalization of the poly could involve slapping the factors in the egraph.\n"
   ]
  },
  {
   "cell_type": "code",
   "execution_count": 6,
   "metadata": {},
   "outputs": [
    {
     "data": {
      "text/plain": [
       "3"
      ]
     },
     "execution_count": 6,
     "metadata": {},
     "output_type": "execute_result"
    }
   ],
   "source": [
    "# https://docs.sympy.org/latest/modules/polys/reference.html\n",
    "import sympy as sp\n",
    "\n",
    "from sympy import poly\n",
    "from sympy.abc import x,y,z\n",
    "from sympy import groebner\n",
    "poly(x*(x**2 + x - 1)**2)\n",
    "\n",
    "F = [x*y - 2*y, 2*y**2 - x**2]\n",
    "groebner(F, x, y, order='lex')\n",
    "\n",
    "\n",
    "def sympy_eclass(n):\n",
    "    return sp.symbols('e' + str(n))\n",
    "def eclass_of_sympy(eclass):\n",
    "    return int(eclass.name[1:])\n",
    "\n",
    "eclass_of_sympy(sympy_eclass(3))\n"
   ]
  },
  {
   "cell_type": "markdown",
   "metadata": {},
   "source": [
    "Note that a grobner basis over linear equations is guassian elimuination.\n",
    "But also a grobner basis over linear equations of the form `p = q` is sufficient to make a union find.\n",
    "Hence we can use grobner instead of our union find. \n",
    "\n",
    "\n",
    "A Grobner Union Find\n",
    "It is interesting that completion"
   ]
  },
  {
   "cell_type": "code",
   "execution_count": 13,
   "metadata": {},
   "outputs": [
    {
     "data": {
      "text/plain": [
       "sympy.core.symbol.Symbol"
      ]
     },
     "execution_count": 13,
     "metadata": {},
     "output_type": "execute_result"
    }
   ],
   "source": [
    "from sympy.abc import a,b,c,d,e,f,g,h\n",
    "groebner([a - b, b - c, d - e, d - c, f-g])\n",
    "type(a)"
   ]
  },
  {
   "cell_type": "markdown",
   "metadata": {},
   "source": []
  },
  {
   "cell_type": "code",
   "execution_count": null,
   "metadata": {},
   "outputs": [],
   "source": [
    "EClass = sp.Symbol\n",
    "class EGraph:\n",
    "    def __init__(self):\n",
    "        self.poly_eqs = []\n",
    "        self.hashcons : Dict[Any, EClass] = {}\n",
    "        self.n_eclasses = []\n",
    "    def __getitem__(self, key):\n",
    "        return self.hashcons[key]\n",
    "    def find(self, x : EClass) -> EClass:\n",
    "        return reduce(x, self.poly_eqs)\n",
    "    def union(self, x : EClass,y : EClass) -> EClass:\n",
    "        x = self.find(x)\n",
    "        y = self.find(y)\n",
    "        if x != y:\n",
    "            self.poly_eqs.append(x - y)\n",
    "    def makeset(self):\n",
    "        x = sympy_eclass(len(self.n_eclasses))\n",
    "        self.eclasses.appehd(x)\n",
    "        return x\n",
    "    def make(self, t : Any) -> EClass:\n",
    "        t1 = self.hashcons.get(t)\n",
    "        if t1 == None:\n",
    "            v = self.makeset()\n",
    "            self.hashcons[t] = v\n",
    "            return v\n",
    "        else:\n",
    "            return t1\n",
    "    def __repr__(self):\n",
    "        return f\"EGraph(uf={self.uf},hashcons={self.hashcons})\"\n",
    "    def rebuild(self):\n",
    "        # simple naive dumb rebuild step\n",
    "        self.poly_eqs = groebner(self.poly_eqs, *self.eclasses)\n",
    "        for k,v in self.hashcons.items():\n",
    "            v = self.find(v)\n",
    "            self.hashcons[k] = v\n",
    "            v1 = self.make(k.rebuild()) \n",
    "            self.union(v,v1)"
   ]
  },
  {
   "cell_type": "code",
   "execution_count": 8,
   "metadata": {},
   "outputs": [],
   "source": [
    "from sympy import reduced"
   ]
  },
  {
   "cell_type": "code",
   "execution_count": 9,
   "metadata": {},
   "outputs": [
    {
     "data": {
      "text/plain": [
       "([2*x, 1], x**2 + y**2 + y)"
      ]
     },
     "execution_count": 9,
     "metadata": {},
     "output_type": "execute_result"
    }
   ],
   "source": [
    "type(poly(x*(x**2 + x - 1)**2))\n",
    "# https://docs.sympy.org/latest/modules/polys/reference.html#sympy.polys.polytools.reduced\n",
    "# not sure how complete reduced is? Naive repeated polynimal division?\n",
    "reduced(2*x**4 + y**2 - x**2 + y**3, [x**3 - x, y**3 - y])"
   ]
  },
  {
   "cell_type": "code",
   "execution_count": null,
   "metadata": {},
   "outputs": [],
   "source": [
    "class PolyNode(sympy.polys.polytools.Poly):\n",
    "    def rebuild(self):\n",
    "        return PolyNode(reduced(self, egraph.poly_eqs))\n",
    "    "
   ]
  },
  {
   "cell_type": "code",
   "execution_count": null,
   "metadata": {},
   "outputs": [],
   "source": [
    "class UnionFind():\n",
    "    def __init__(self):\n",
    "        self.uf = []\n",
    "    def makeset(self):\n",
    "        uf = self.uf\n",
    "        uf.append(len(uf))\n",
    "        return len(uf) - 1\n",
    "    def find(self,x):\n",
    "        while self.uf[x] != x:\n",
    "            x = self.uf[x]\n",
    "        return x\n",
    "    def union(self,x,y):\n",
    "        x = self.find(x)\n",
    "        y = self.find(y)\n",
    "        self.uf[x] = y\n",
    "        return y\n",
    "    def __len__(self):\n",
    "        return len(self.uf)\n",
    "    def __repr__(self):\n",
    "        return \"UnionFind({})\".format(self.uf)\n",
    "\n",
    "EClass = int\n",
    "\n",
    "from dataclasses import dataclass\n",
    "from typing import Any, Dict\n",
    "\n",
    "@dataclass(frozen=True)\n",
    "class Lit():\n",
    "    data: Any\n",
    "    def rebuild(self):\n",
    "        return self\n",
    "\n",
    "@dataclass(frozen=True)\n",
    "class ENode():\n",
    "    head: Any\n",
    "    args : tuple[EClass]\n",
    "    def rebuild(self):\n",
    "        return ENode(self.head, tuple(map(egraph.uf.find, self.args)))"
   ]
  },
  {
   "cell_type": "code",
   "execution_count": null,
   "metadata": {},
   "outputs": [],
   "source": [
    "class EGraph:\n",
    "    def __init__(self):\n",
    "        self.uf = UnionFind()\n",
    "        self.hashcons : Dict[Any, EClass] = {}\n",
    "    def __getitem__(self, key):\n",
    "        return self.hashcons[key]\n",
    "    def union(self, x : EClass,y : EClass) -> EClass:\n",
    "        return self.uf.union(x,y)\n",
    "    def make(self, t : Any) -> EClass:\n",
    "        t1 = self.hashcons.get(t)\n",
    "        if t1 == None:\n",
    "            v = self.uf.makeset()\n",
    "            self.hashcons[t] = v\n",
    "            return v\n",
    "        else:\n",
    "            return t1\n",
    "    def __getitem__(self, key):\n",
    "        return self.hashcons[key]\n",
    "    def __iter__(self):\n",
    "        return iter(range(len(self.uf.uf))) \n",
    "    def __repr__(self):\n",
    "        return f\"EGraph(uf={self.uf},hashcons={self.hashcons})\"\n",
    "    def rebuild(self):\n",
    "        # simple naive dumb rebuild step\n",
    "        for k,v in self.hashcons.items():\n",
    "            v = self.uf.find(v)\n",
    "            self.hashcons[k] = v\n",
    "            v1 = self.make(k.rebuild()) \n",
    "            self.union(v,v1)"
   ]
  },
  {
   "cell_type": "code",
   "execution_count": null,
   "metadata": {},
   "outputs": [],
   "source": [
    "@dataclass\n",
    "class EGraph():\n",
    "    uf:UnionFind\n",
    "    nodes:list[object]\n",
    "    z3_solver: SolverRef\n",
    "    poly_eqs: list[Poly]\n",
    "\n",
    "    def canon(self):\n",
    "    def assert_z3(self, constr):\n",
    "        # or maybe just let it rip.\n",
    "        self.solver.push()\n",
    "        # subsumption check\n",
    "        self.solver.add(Not(constr))\n",
    "        res = self.solver.check()\n",
    "        # mayube store models for fast path subsumtion\n",
    "        self.solver.pop()\n",
    "        if res == sat: # this constrain is not redunddant.\n",
    "            self.solver.add(constr)\n",
    "    def norm_linear(self, lexpr):\n",
    "        # project into current subspace basically. No. because lexpr is describing linear function of vectotrs.\n",
    "    def assert_lineq():\n",
    "        # also maybe inform z3.\n",
    "\n",
    "\n",
    "\n"
   ]
  },
  {
   "cell_type": "code",
   "execution_count": 24,
   "metadata": {},
   "outputs": [
    {
     "data": {
      "text/html": [
       "&not;(x = y) &or; z = Store(a, y, 0)[x]"
      ],
      "text/plain": [
       "Or(Not(x == y), z == Store(a, y, 0)[x])"
      ]
     },
     "execution_count": 24,
     "metadata": {},
     "output_type": "execute_result"
    }
   ],
   "source": [
    "# contextual simplification\n",
    "from z3 import *\n",
    "#ArraySort(IntSort(), IntSort())\n",
    "x, y, z = Ints(\"x y z\")\n",
    "a = Array(\"a\", IntSort(), IntSort())\n",
    "z3.simplify(y / (y * x))\n",
    "z3.simplify(Select(Store(a, y, IntVal(0)), x))\n",
    "#z3.simplify(Implies(x == y, ))\n",
    "e = Select(Store(a, y, IntVal(0)), x)\n",
    "z3.simplify(e)\n",
    "z3.simplify(Implies(x == y, z == e)) # nope Ok, well it was an idea\n",
    "\n",
    "# z3 mirroring. Do quantifier instan outside z3. Is this of any relation to avatar?\n",
    "\n"
   ]
  }
 ],
 "metadata": {
  "kernelspec": {
   "display_name": "Python 3",
   "language": "python",
   "name": "python3"
  },
  "language_info": {
   "codemirror_mode": {
    "name": "ipython",
    "version": 3
   },
   "file_extension": ".py",
   "mimetype": "text/x-python",
   "name": "python",
   "nbconvert_exporter": "python",
   "pygments_lexer": "ipython3",
   "version": "3.10.12"
  }
 },
 "nbformat": 4,
 "nbformat_minor": 2
}
