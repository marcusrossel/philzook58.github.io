{
 "cells": [
  {
   "cell_type": "code",
   "execution_count": null,
   "metadata": {},
   "outputs": [],
   "source": []
  },
  {
   "cell_type": "markdown",
   "metadata": {},
   "source": [
    "---\n",
    "title: Completion for Compilers\n",
    "---\n",
    "\n",
    "Compilers have rewrite rules for peephole optimization, middle end optimizations\n",
    "\n",
    "InstCombine.\n",
    "\n",
    "The have some possibly bad properties / it's hard to maintain them and their ineractions as the number of rules and \n",
    "\n",
    "Completion is a methodology to generate new rewrite rules from an equational theory.\n",
    "\n",
    "Early stopping of completion can produce a rule system with new mega rules that fix phase ordering issues or simplify the rules.\n",
    "\n",
    "This is another design point addressing issues similar to egg. It moves the problem up to\n",
    "\n",
    "Even in ematching, it may be desirable to make mega-rules sometimes. Combining AC with a goo optimizaiton means we only do an AC move if it is proftiable. In this manner we can have 2-AC 3-AC, ... k-AC. We can trade off egraph explosion for increasing our rule set.\n",
    "\n",
    "The rules may indeed be oriented on purpose. Less to more defined. Perhaps we _do_ start with Rules and then can build equations only if we can prove via z3 or someting the derivation is bidirectional. Or keep two sets?\n",
    "\n",
    "You can maintain only a minimal logical core of rules, and the \"fixup\" rules can be derived.\n",
    "\n"
   ]
  }
 ],
 "metadata": {
  "language_info": {
   "name": "python"
  }
 },
 "nbformat": 4,
 "nbformat_minor": 2
}
