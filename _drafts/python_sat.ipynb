{
 "cells": [
  {
   "cell_type": "code",
   "execution_count": null,
   "metadata": {},
   "outputs": [],
   "source": []
  },
  {
   "cell_type": "markdown",
   "metadata": {},
   "source": [
    "With my egraph, if i wrote a sat solver, I'd have a mini\n",
    "Put in SAT comp?\n",
    "\n",
    "[The silent revolution of sat](https://news.ycombinator.com/item?id=36079115#36081904)\n",
    "\n",
    "[creusat](https://sarsko.github.io/_pages/SarekSkot%C3%A5m_thesis.pdf) <https://github.com/sarsko/CreuSAT>\n",
    "\n",
    "https://fmv.jku.at/fleury/papers/Fleury-thesis.pdf\n",
    "\n",
    "https://github.com/marijnheule/microsat\n",
    "\n",
    "https://github.com/msoos/minisat-v1.14\n",
    "\n",
    "https://x.com/SoosMate/status/1760817528236818456?s=20 phind know sat solvers\n",
    "\"Yes (about the role of Kitten in Kissat) but the explanation is still bogus. It sounds like a weak student who does not understand anything but tries to pass the exam by randomly arguing about concepts discussed in this context. I probably would let it pass (but just).\"\n",
    "\n",
    "https://sahandsaba.com/understanding-sat-by-implementing-a-simple-sat-solver-in-python.html\n",
    "wait this blog is sweet\n",
    "\n",
    "https://easychair.org/publications/open/b7Cr CDCL as rewrite syste,\n"
   ]
  },
  {
   "cell_type": "code",
   "execution_count": null,
   "metadata": {},
   "outputs": [],
   "source": [
    "# parsing DIMACS\n",
    "def parse_dimacs(filename):\n",
    "    with open(filename, 'r') as f:\n",
    "        lines = f.readlines()\n",
    "    clauses = []\n",
    "    for line in lines:\n",
    "        if line[0] == 'c':\n",
    "            continue\n",
    "        if line[0] == 'p':\n",
    "            n_vars = int(line.split()[2])\n",
    "            continue\n",
    "        clause = [int(x) for x in line.split()[:-1]]\n",
    "        clauses.append(clause)\n",
    "    return n_vars, clauses"
   ]
  },
  {
   "cell_type": "code",
   "execution_count": null,
   "metadata": {},
   "outputs": [],
   "source": [
    "import numpy\n",
    "nclauses = 10\n",
    "clause_size = \n",
    "np.zeros((len(clauses), ) , dtype=np.uint8)\n",
    "\n"
   ]
  },
  {
   "cell_type": "code",
   "execution_count": null,
   "metadata": {},
   "outputs": [],
   "source": [
    "def unit_prop(solution, clauses):\n",
    "    while True:\n",
    "        unit_clauses = [c for c in clauses if len(c) == 1]\n",
    "        if len(unit_clauses) == 0:\n",
    "            break\n",
    "        unit_clause = unit_clauses[0]\n",
    "        unit_literal = unit_clause[0]\n",
    "        solution[abs(unit_literal)] = 1 if unit_literal > 0 else 0\n",
    "        clauses = [c for c in clauses if unit_literal not in c]\n",
    "    return solution, clauses\n"
   ]
  }
 ],
 "metadata": {
  "language_info": {
   "name": "python"
  }
 },
 "nbformat": 4,
 "nbformat_minor": 2
}
