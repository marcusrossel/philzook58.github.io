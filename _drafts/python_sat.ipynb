{
 "cells": [
  {
   "cell_type": "code",
   "execution_count": null,
   "metadata": {},
   "outputs": [],
   "source": []
  },
  {
   "cell_type": "markdown",
   "metadata": {},
   "source": [
    "https://chatgpt.com/c/66e9eb94-8984-8008-9db9-c0190f98e25c"
   ]
  },
  {
   "cell_type": "code",
   "execution_count": null,
   "metadata": {},
   "outputs": [],
   "source": [
    "from typing import NamedTuple\n",
    "\n",
    "Literal = NamedTuple('Literal', [('idx', int), ('polarity', bool)])\n",
    "Clause = NamedTuple('Clause', [('literals', list)])\n",
    "Formula = NamedTuple('Formula', [('clauses', list[Clause]), ('num_vars', int)])\n",
    "\n",
    "Assignment = NamedTuple('Assignment', [('values', list[bool])])\n",
    "Pasn = NamedTuple('Pasn', [('assignment', Assignment), ('satisfiable', bool)])\n"
   ]
  },
  {
   "cell_type": "markdown",
   "metadata": {},
   "source": [
    "Can we use z3 to do cnf transformation?\n",
    "https://microsoft.github.io/z3guide/docs/strategies/summary#tactic-tseitin-cnf\n",
    "\n",
    "def dimacs(self, include_names=True): also apparently solver has a dimacs printer..."
   ]
  },
  {
   "cell_type": "code",
   "execution_count": 2,
   "metadata": {},
   "outputs": [
    {
     "data": {
      "text/html": [
       "[[z &or; &not;x, w &or; &not;x]]"
      ],
      "text/plain": [
       "[[Or(z, Not(x)), Or(w, Not(x))]]"
      ]
     },
     "execution_count": 2,
     "metadata": {},
     "output_type": "execute_result"
    }
   ],
   "source": [
    "from z3 import *\n",
    "\n",
    "x,y,z,w = Bools(\"x y z w\")\n",
    "G = Goal()\n",
    "G.add(Implies(x, And(z,w)))\n",
    "t1 = Tactic('tseitin-cnf')\n",
    "t1(G)\n"
   ]
  },
  {
   "cell_type": "markdown",
   "metadata": {},
   "source": [
    "Match the z3 api "
   ]
  },
  {
   "cell_type": "code",
   "execution_count": null,
   "metadata": {},
   "outputs": [],
   "source": [
    "from dataclass import dataclass\n",
    "\n",
    "Id = int\n",
    "\n",
    "@dataclass\n",
    "class Context():\n",
    "    hashcons : dict[tuple[Id] | str | int, Id]\n",
    "    def intern(self, x : tuple[Id] | str | int) -> Id:\n",
    "        if x in self.hashcons:\n",
    "            return self.hashcons[x]\n",
    "        else:\n",
    "            id = len(self.hashcons)\n",
    "            self.hashcons[x] = id\n",
    "            return id\n",
    "\n",
    "  \n",
    "\n",
    "\n",
    "@dataclass(frozen=True)\n",
    "class AstRef():\n",
    "    ctx : Context\n",
    "    ast : Id\n",
    "    def __eq__(self, other : AstRef) -> bool:\n",
    "        assert self.cxt == other.ctx\n",
    "        return self.ast == other.ast\n",
    "    def __hash__(self) -> int:\n",
    "        return hash(self.ast)\n",
    "    \n",
    "    # fill in\n",
    "_main_ctx : Context = Context({})\n",
    "def get_ctx(ctx):\n",
    "    if ctx is None:\n",
    "        return _main_ctx\n",
    "    return ctx\n",
    "\n",
    "def to_symbol(x : int | str, ctx=None) -> int:\n",
    "    ctx = get_ctx(ctx)\n",
    "    return ctx.intern(x)\n",
    "    \n",
    "def is_ast(x):\n",
    "    return isinstance(x, AstRef)\n",
    "\n",
    "@dataclass(frozen=True)\n",
    "class SortRef(AstRef):\n",
    "\n",
    "@dataclass(frozen=True)\n",
    "class ExprRef(AstRef):\n",
    "    # fill in\n",
    "    ast : AstRef"
   ]
  },
  {
   "cell_type": "markdown",
   "metadata": {},
   "source": [
    "With my egraph, if i wrote a sat solver, I'd have a mini\n",
    "Put in SAT comp?\n",
    "\n",
    "[The silent revolution of sat](https://news.ycombinator.com/item?id=36079115#36081904)\n",
    "\n",
    "[creusat](https://sarsko.github.io/_pages/SarekSkot%C3%A5m_thesis.pdf) <https://github.com/sarsko/CreuSAT>\n",
    "\n",
    "https://fmv.jku.at/fleury/papers/Fleury-thesis.pdf\n",
    "\n",
    "https://github.com/marijnheule/microsat\n",
    "\n",
    "https://github.com/msoos/minisat-v1.14\n",
    "\n",
    "https://x.com/SoosMate/status/1760817528236818456?s=20 phind know sat solvers\n",
    "\"Yes (about the role of Kitten in Kissat) but the explanation is still bogus. It sounds like a weak student who does not understand anything but tries to pass the exam by randomly arguing about concepts discussed in this context. I probably would let it pass (but just).\"\n",
    "\n",
    "https://sahandsaba.com/understanding-sat-by-implementing-a-simple-sat-solver-in-python.html\n",
    "wait this blog is sweet\n",
    "\n",
    "https://easychair.org/publications/open/b7Cr CDCL as rewrite syste,\n"
   ]
  },
  {
   "cell_type": "code",
   "execution_count": null,
   "metadata": {},
   "outputs": [],
   "source": [
    "# parsing DIMACS\n",
    "def parse_dimacs(filename):\n",
    "    with open(filename, 'r') as f:\n",
    "        lines = f.readlines()\n",
    "    clauses = []\n",
    "    for line in lines:\n",
    "        if line[0] == 'c':\n",
    "            continue\n",
    "        if line[0] == 'p':\n",
    "            n_vars = int(line.split()[2])\n",
    "            continue\n",
    "        clause = [int(x) for x in line.split()[:-1]]\n",
    "        clauses.append(clause)\n",
    "    return n_vars, clauses"
   ]
  },
  {
   "cell_type": "code",
   "execution_count": null,
   "metadata": {},
   "outputs": [],
   "source": [
    "import numpy\n",
    "nclauses = 10\n",
    "clause_size = \n",
    "np.zeros((len(clauses), ) , dtype=np.uint8)\n",
    "\n"
   ]
  },
  {
   "cell_type": "code",
   "execution_count": null,
   "metadata": {},
   "outputs": [],
   "source": [
    "def unit_prop(solution, clauses):\n",
    "    while True:\n",
    "        unit_clauses = [c for c in clauses if len(c) == 1]\n",
    "        if len(unit_clauses) == 0:\n",
    "            break\n",
    "        unit_clause = unit_clauses[0]\n",
    "        unit_literal = unit_clause[0]\n",
    "        solution[abs(unit_literal)] = 1 if unit_literal > 0 else 0\n",
    "        clauses = [c for c in clauses if unit_literal not in c]\n",
    "    return solution, clauses\n",
    "\n",
    "\n",
    "\n"
   ]
  },
  {
   "cell_type": "code",
   "execution_count": null,
   "metadata": {},
   "outputs": [],
   "source": [
    "def CDCL():\n",
    "    while True:\n",
    "        if [] in clauses: return UNSAT\n",
    "        elif in_conflict(): learn(); backtrack()\n",
    "        elif not free_vars: return SAT\n",
    "        elif should_propagate(): propagate()\n",
    "        elif should_simplify(): simplify()\n",
    "        elif should_restarty(): restart()\n",
    "        elif: should_prune(): prune*()\n",
    "        else:\n",
    "            var= chooce_var()\n",
    "            sign = choose_sign()\n",
    "            assign(var,sign)\n"
   ]
  },
  {
   "cell_type": "markdown",
   "metadata": {},
   "source": [
    "Metatarki\n",
    "https://z3prover.github.io/papers/z3internals.html\n",
    "\n",
    "https://github.com/sarsko/CreuSAT/blob/master/Friday/src/lib.rs Friday"
   ]
  },
  {
   "cell_type": "code",
   "execution_count": null,
   "metadata": {},
   "outputs": [],
   "source": [
    "assignment= list[bool]\n",
    "lit = tuple[int, bool]\n",
    "clause = list[lit]\n",
    "\n",
    "\n",
    "def eval(formula, assignment):\n",
    "    pass\n",
    "\n",
    "def solve(formula):\n",
    "    assignment = [[None] * f.num_vars]\n",
    "    ix = 0\n",
    "    while True:\n",
    "        if ix == f.num_vars:\n",
    "\n",
    "\n",
    "# \n",
    "assignment = 0\n",
    "\n",
    "while True:\n",
    "    assignment += 1\n",
    "    eval(formula, assignment)\n",
    "\n"
   ]
  }
 ],
 "metadata": {
  "kernelspec": {
   "display_name": "Python 3",
   "language": "python",
   "name": "python3"
  },
  "language_info": {
   "codemirror_mode": {
    "name": "ipython",
    "version": 3
   },
   "file_extension": ".py",
   "mimetype": "text/x-python",
   "name": "python",
   "nbconvert_exporter": "python",
   "pygments_lexer": "ipython3",
   "version": "3.10.12"
  }
 },
 "nbformat": 4,
 "nbformat_minor": 2
}
