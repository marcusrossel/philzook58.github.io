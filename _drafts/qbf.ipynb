{
 "cells": [
  {
   "cell_type": "code",
   "execution_count": null,
   "metadata": {},
   "outputs": [],
   "source": []
  },
  {
   "cell_type": "markdown",
   "metadata": {},
   "source": [
    "QBF is pspace complete.\n",
    "Interesting class\n",
    "\n",
    "ILP is PSCPACe ocmplete. Statman proof.\n",
    "Caqe\n",
    "qbflib\n",
    "Games\n",
    "Cegar\n",
    "\n",
    "ILTP http://www.iltp.de/\n",
    "http://www.iltp.de/results.html\n",
    "ileancop\n",
    "\n",
    "http://www.iltp.de/qmltp/ modal logic\n",
    "https://plato.stanford.edu/entries/goedel/#IntProLogIntS4\n",
    "https://en.wikipedia.org/wiki/Modal_companion conversion from intuitionsitc to modal s4. godel mckinsey tarski\n",
    "\n",
    "\n",
    "Dyckhoff solver. https://www.cs.cmu.edu/~fp/courses/atp/cmuonly/D92.pdf Contraction-free Sequent Calculi for Intuitionistic Logic LJT\n",
    "https://research-repository.st-andrews.ac.uk/bitstream/handle/10023/8824/BernPaper14.pdf?sequence=1 ntuitionistic decision procedures since Gentzen\n",
    "LJQ\n",
    "\n",
    "\n",
    "Djinn\n",
    "\n",
    "Girard reynolds isomorphism\n",
    "finite parametricity\n",
    "\n",
    "\n",
    "https://www.cs.utoronto.ca/~ahertel/WebPageFiles/Papers/IntuitionisticLogic14.pdf proof complexity of ILP. references staman result of ilp pspace\n",
    "\n",
    "https://www.semanticscholar.org/paper/The-Computational-Complexity-of-Provability-in-of-Ladner/44fb82e6a7e9eb8a08d3e1c0b80171bce8e47f28\n"
   ]
  }
 ],
 "metadata": {
  "language_info": {
   "name": "python"
  }
 },
 "nbformat": 4,
 "nbformat_minor": 2
}
