{
 "cells": [
  {
   "cell_type": "code",
   "execution_count": 1,
   "metadata": {},
   "outputs": [],
   "source": [
    "from z3 import *\n",
    "\n",
    "Type = Datatype('Type')\n",
    "Type.declare('bool')\n",
    "Type = Type.create()\n",
    "\n",
    "Expr = Datatype('Expr')\n",
    "Expr.declare('true')\n",
    "Expr.declare('false')\n",
    "Expr.declare(\"ite\", ('cond', Expr), ('then', Expr), ('else', Expr))\n",
    "Expr = Expr.create()\n",
    "e,e1,e2 = Consts('e e1 e2', Expr)\n",
    "\n",
    "Value = Datatype('Value')\n",
    "Value.declare(\"true\")\n",
    "Value = Value.create()\n",
    "\n",
    "Ctx = Datatype('Ctx')\n",
    "Ctx.declare('empty')\n",
    "Ctx.declare(\"ite\", ('cond', Ctx), ('then', Expr), ('else', Expr))\n",
    "Ctx = Ctx.create()\n",
    "ctx,ctx1,ctx2 = Consts('ctx ctx1 ctx2', Ctx)\n",
    "\n",
    "\n",
    "\n",
    "B = BoolSort()\n",
    "step = Function(\"step\", Ctx, Expr, Ctx, Expr, B)\n",
    "step_def = ForAll([ctx, e, ctx1, e1],\n",
    "                  step(ctx, e, ctx1, e1) == \n",
    "                    Or()\n",
    "                  )\n",
    "\n",
    "eval = TransitiveClosure(step)\n",
    "# Or labelled transitions + RecFun\n",
    "\n"
   ]
  },
  {
   "cell_type": "markdown",
   "metadata": {},
   "source": [
    "Different options  forencodsing inductive rwelationsd\n",
    "\n",
    "1. Two types. A record type and then is justification type and a well formed predictae that is akin to typeof(p, R(a,b,c))\n",
    "2. One type. Put the parameters in the justification\n",
    "3. Make a relation defined recursively Minikaren style\n",
    "\n"
   ]
  },
  {
   "cell_type": "code",
   "execution_count": null,
   "metadata": {},
   "outputs": [],
   "source": [
    "Even = Datatype(\"Even\")\n",
    "Even.declare(\"mk\", (\"a\", IntSort()))\n",
    "Even.create()\n",
    "\n",
    "# evidence, term, proof\n",
    "EvenP = Datatype(\"EvenP\")\n",
    "EvenP.declare(\"ev_0\")\n",
    "EvenP.declare(\"ev_SS\", (\"p\", EvenP))\n",
    "EvenP = EvenP.create()\n",
    "\n",
    "RecFunction(\"typeof\", EvenP, Even, BoolSort())\n",
    "DefineRecFunction(typeof, p, e, \n",
    "    Or(And(EvenP.is_ev_0(p), Even.a(e) == 0)\n",
    "       And(EvenP.is_evSS(p), typeof(EvenP.p(p), Even.mk(Even.a(e) - 2)))\n",
    "))\n",
    "\n",
    "\n",
    "\n",
    "Even = Datatype(\"Even\")\n",
    "Even.declare(\"ev_0\", (\"a\", IntSort()))\n",
    "Even.declare(\"ev_SS\", (\"a\", IntSort()),Eve , wf(Even.p(e)))\n",
    "    )\n",
    "\n",
    ")\n",
    "\n"
   ]
  },
  {
   "cell_type": "code",
   "execution_count": 17,
   "metadata": {},
   "outputs": [
    {
     "data": {
      "text/plain": [
       "z3.z3.DatatypeSortRef"
      ]
     },
     "execution_count": 17,
     "metadata": {},
     "output_type": "execute_result"
    }
   ],
   "source": [
    "foo = Datatype(\"foo\")\n",
    "type(foo)\n",
    "foo.declare(\"bar\")\n",
    "type(foo.create())\n",
    "\n",
    "class Inductive(Datatype):\n",
    "    def __init__(self, name, *args)"
   ]
  },
  {
   "cell_type": "code",
   "execution_count": 9,
   "metadata": {},
   "outputs": [],
   "source": [
    "fac = RecFunction('fac', IntSort(), IntSort())\n",
    "n = Int('n')\n",
    "RecAddDefinition(fac, n, If(n == 0, 1, n*fac(n-1)))\n",
    "\n"
   ]
  },
  {
   "cell_type": "code",
   "execution_count": 8,
   "metadata": {},
   "outputs": [
    {
     "data": {
      "text/html": [
       "Expr"
      ],
      "text/plain": [
       "Expr"
      ]
     },
     "execution_count": 8,
     "metadata": {},
     "output_type": "execute_result"
    }
   ],
   "source": [
    "def ADT(name, cons):\n",
    "    T = Datatype(name)\n",
    "    for c in cons(T):\n",
    "        if isinstance(c, str):\n",
    "            T.declare(c)\n",
    "        else:\n",
    "            T.declare(*c)\n",
    "    return T.create()\n",
    "\n",
    "ADT(\"Expr\", lambda E : [\n",
    "              \"true\", \n",
    "              \"false\", \n",
    "              [\"ite\", (\"c\", E), (\"t\", E), (\"else\",E)]])\n",
    "\n",
    "def Inductive(name, cons):\n",
    "    T = Datatype(name)\n",
    "    for c in cons(T):\n",
    "        if isinstance(c, str):\n",
    "            T.declare(c)\n",
    "        else:\n",
    "            T.declare(*c)\n",
    "    T.create()\n",
    "    RecFunction(name, )\n",
    "\n",
    "class Inductive():\n",
    "    def __init__(self, name, *args):\n",
    "        self.name = name\n",
    "        self.args = args\n",
    "        self.P = Datatype(name)\n",
    "        self.recfun = RecFunction(name, P, *[arg.sort() for arg in args], BoolSort())\n",
    "        self.cons = []\n",
    "    def declare(self, name, cond *args):\n",
    "        self.cons.append((name, args))\n",
    "    def __call__(self, *args):\n",
    "        return self.recfun(*args)\n",
    "    def create(self):\n",
    "        body = \n",
    "        RecAddDefinition(self.recfun, self.args, )\n",
    "        return self.recfun, self.P\n",
    "        \n",
    "def Inductive(name, *args):\n",
    "\n"
   ]
  },
  {
   "cell_type": "markdown",
   "metadata": {},
   "source": [
    "https://softwarefoundations.cis.upenn.edu/lf-current/IndProp.html"
   ]
  },
  {
   "cell_type": "code",
   "execution_count": 14,
   "metadata": {},
   "outputs": [
    {
     "name": "stdout",
     "output_type": "stream",
     "text": [
      "[p = ev_SS(ev_SS(ev_SS(ev_0))),\n",
      " pred = [ev_SS(ev_SS(ev_0)) -> ev_SS(ev_0),\n",
      "         ev_SS(ev_0) -> ev_0,\n",
      "         else -> ev_SS(ev_SS(ev_0))],\n",
      " even = [else ->\n",
      "         Or(And(is(ev_0, Var(1)), Var(0) == 0),\n",
      "            And(is(ev_SS, Var(1)),\n",
      "                even(Var(0) - 2, pred(Var(1)))))],\n",
      " fac = [0 -> 1, else -> Var(0)*fac(Var(0) - 1)]]\n",
      "failed to prove\n"
     ]
    },
    {
     "ename": "Z3Exception",
     "evalue": "model is not available",
     "output_type": "error",
     "traceback": [
      "\u001b[0;31m---------------------------------------------------------------------------\u001b[0m",
      "\u001b[0;31mZ3Exception\u001b[0m                               Traceback (most recent call last)",
      "File \u001b[0;32m~/.local/lib/python3.10/site-packages/z3/z3.py:7192\u001b[0m, in \u001b[0;36mSolver.model\u001b[0;34m(self)\u001b[0m\n\u001b[1;32m   7191\u001b[0m \u001b[38;5;28;01mtry\u001b[39;00m:\n\u001b[0;32m-> 7192\u001b[0m     \u001b[38;5;28;01mreturn\u001b[39;00m ModelRef(\u001b[43mZ3_solver_get_model\u001b[49m\u001b[43m(\u001b[49m\u001b[38;5;28;43mself\u001b[39;49m\u001b[38;5;241;43m.\u001b[39;49m\u001b[43mctx\u001b[49m\u001b[38;5;241;43m.\u001b[39;49m\u001b[43mref\u001b[49m\u001b[43m(\u001b[49m\u001b[43m)\u001b[49m\u001b[43m,\u001b[49m\u001b[43m \u001b[49m\u001b[38;5;28;43mself\u001b[39;49m\u001b[38;5;241;43m.\u001b[39;49m\u001b[43msolver\u001b[49m\u001b[43m)\u001b[49m, \u001b[38;5;28mself\u001b[39m\u001b[38;5;241m.\u001b[39mctx)\n\u001b[1;32m   7193\u001b[0m \u001b[38;5;28;01mexcept\u001b[39;00m Z3Exception:\n",
      "File \u001b[0;32m~/.local/lib/python3.10/site-packages/z3/z3core.py:4256\u001b[0m, in \u001b[0;36mZ3_solver_get_model\u001b[0;34m(a0, a1, _elems)\u001b[0m\n\u001b[1;32m   4255\u001b[0m r \u001b[38;5;241m=\u001b[39m _elems\u001b[38;5;241m.\u001b[39mf(a0, a1)\n\u001b[0;32m-> 4256\u001b[0m \u001b[43m_elems\u001b[49m\u001b[38;5;241;43m.\u001b[39;49m\u001b[43mCheck\u001b[49m\u001b[43m(\u001b[49m\u001b[43ma0\u001b[49m\u001b[43m)\u001b[49m\n\u001b[1;32m   4257\u001b[0m \u001b[38;5;28;01mreturn\u001b[39;00m r\n",
      "File \u001b[0;32m~/.local/lib/python3.10/site-packages/z3/z3core.py:1554\u001b[0m, in \u001b[0;36mElementaries.Check\u001b[0;34m(self, ctx)\u001b[0m\n\u001b[1;32m   1553\u001b[0m \u001b[38;5;28;01mif\u001b[39;00m err \u001b[38;5;241m!=\u001b[39m \u001b[38;5;28mself\u001b[39m\u001b[38;5;241m.\u001b[39mOK:\n\u001b[0;32m-> 1554\u001b[0m     \u001b[38;5;28;01mraise\u001b[39;00m \u001b[38;5;28mself\u001b[39m\u001b[38;5;241m.\u001b[39mException(\u001b[38;5;28mself\u001b[39m\u001b[38;5;241m.\u001b[39mget_error_message(ctx, err))\n",
      "\u001b[0;31mZ3Exception\u001b[0m: b'there is no current model'",
      "\nDuring handling of the above exception, another exception occurred:\n",
      "\u001b[0;31mZ3Exception\u001b[0m                               Traceback (most recent call last)",
      "Cell \u001b[0;32mIn [14], line 29\u001b[0m\n\u001b[1;32m     26\u001b[0m     \u001b[38;5;28;01mreturn\u001b[39;00m inductP(\u001b[38;5;28;01mlambda\u001b[39;00m p: ForAll([n], Implies(even(n, p), P(n, p))))\n\u001b[1;32m     28\u001b[0m solve(even(\u001b[38;5;241m6\u001b[39m, p))\n\u001b[0;32m---> 29\u001b[0m prove(Implies(induct(\u001b[38;5;28;01mlambda\u001b[39;00m n,p: Not(even(\u001b[38;5;241m7\u001b[39m,p))), Not(even(\u001b[38;5;241m7\u001b[39m,p))))\n",
      "File \u001b[0;32m~/.local/lib/python3.10/site-packages/z3/z3.py:9232\u001b[0m, in \u001b[0;36mprove\u001b[0;34m(claim, show, **keywords)\u001b[0m\n\u001b[1;32m   9230\u001b[0m \u001b[38;5;28;01melif\u001b[39;00m r \u001b[38;5;241m==\u001b[39m unknown:\n\u001b[1;32m   9231\u001b[0m     \u001b[38;5;28mprint\u001b[39m(\u001b[38;5;124m\"\u001b[39m\u001b[38;5;124mfailed to prove\u001b[39m\u001b[38;5;124m\"\u001b[39m)\n\u001b[0;32m-> 9232\u001b[0m     \u001b[38;5;28mprint\u001b[39m(\u001b[43ms\u001b[49m\u001b[38;5;241;43m.\u001b[39;49m\u001b[43mmodel\u001b[49m\u001b[43m(\u001b[49m\u001b[43m)\u001b[49m)\n\u001b[1;32m   9233\u001b[0m \u001b[38;5;28;01melse\u001b[39;00m:\n\u001b[1;32m   9234\u001b[0m     \u001b[38;5;28mprint\u001b[39m(\u001b[38;5;124m\"\u001b[39m\u001b[38;5;124mcounterexample\u001b[39m\u001b[38;5;124m\"\u001b[39m)\n",
      "File \u001b[0;32m~/.local/lib/python3.10/site-packages/z3/z3.py:7194\u001b[0m, in \u001b[0;36mSolver.model\u001b[0;34m(self)\u001b[0m\n\u001b[1;32m   7192\u001b[0m     \u001b[38;5;28;01mreturn\u001b[39;00m ModelRef(Z3_solver_get_model(\u001b[38;5;28mself\u001b[39m\u001b[38;5;241m.\u001b[39mctx\u001b[38;5;241m.\u001b[39mref(), \u001b[38;5;28mself\u001b[39m\u001b[38;5;241m.\u001b[39msolver), \u001b[38;5;28mself\u001b[39m\u001b[38;5;241m.\u001b[39mctx)\n\u001b[1;32m   7193\u001b[0m \u001b[38;5;28;01mexcept\u001b[39;00m Z3Exception:\n\u001b[0;32m-> 7194\u001b[0m     \u001b[38;5;28;01mraise\u001b[39;00m Z3Exception(\u001b[38;5;124m\"\u001b[39m\u001b[38;5;124mmodel is not available\u001b[39m\u001b[38;5;124m\"\u001b[39m)\n",
      "\u001b[0;31mZ3Exception\u001b[0m: model is not available"
     ]
    }
   ],
   "source": [
    "evenP = Datatype(\"evenP\")\n",
    "evenP.declare(\"ev_0\")\n",
    "evenP.declare(\"ev_SS\", (\"pred\", evenP))\n",
    "evenP = evenP.create()\n",
    "\n",
    "def inductP(P):\n",
    "    return Implies(\n",
    "        And(P(evenP.ev_0), ForAll([p], Implies(P(p), P(evenP.ev_SS(p))))),\n",
    "        #-------------------------------------------\n",
    "        ForAll([p], P(p))\n",
    "        )\n",
    "\n",
    "\n",
    "\n",
    "p = Const(\"p\", evenP)\n",
    "n = Int(\"n\")\n",
    "even = RecFunction(\"even\", IntSort(), evenP, BoolSort())\n",
    "RecAddDefinition(even, [n,p], \n",
    "    Or(\n",
    "        And(evenP.is_ev_0(p), n == 0),\n",
    "        And(evenP.is_ev_SS(p), even(n-2, evenP.pred(p)))\n",
    "    )\n",
    ")\n",
    "\n",
    "def induct(P):\n",
    "    return inductP(lambda p: ForAll([n], Implies(even(n, p), P(n, p))))\n",
    "\n",
    "solve(even(6, p))\n",
    "#prove(Implies(induct(lambda n,p: Not(even(7,p))), Not(even(7,p))))"
   ]
  },
  {
   "cell_type": "code",
   "execution_count": null,
   "metadata": {},
   "outputs": [],
   "source": [
    "\n",
    "\n",
    "TyDeriv = Datatype(\"TyDeriv\")\n",
    "TyDeriv.declare(\"Ttrue\")\n",
    "TyDeriv.declare(\"Tfalse\")\n",
    "TyDeriv.declare(\"Tite\", ('cond', TyDeriv), ('then', TyDeriv), ('else', TyDeriv))\n",
    "TyDeriv = TyDeriv.create()\n",
    "\n",
    "typeof = Function(\"typeof\", Expr, Type, TyDeriv, B)\n",
    "typeof_def = ForAll([e, t, why],\n",
    "                    typeof(e, t, why) ==\n",
    "                    Or(And(why == TyDeriv.Ttrue,  e == Expr.true,  t == Type.bool),\n",
    "                       And(why == TyDeriv.Tfalse, e == Expr.false, t == Type.bool),\n",
    "                       And(TyDeriv.is_Tite(why),  e == Expr.ite(e1, e2, e3),\n",
    "                             \n",
    "                            t == Type.bool,\n",
    "                            typeof(e1, Type.bool),\n",
    "                            typeof(e2, Type.bool),\n",
    "                            typeof(e3, Type.bool)\n",
    "                          )\n",
    "                    )"
   ]
  },
  {
   "cell_type": "code",
   "execution_count": null,
   "metadata": {},
   "outputs": [],
   "source": [
    "TCtx = Datatype('TCtx')\n",
    "TCtx.declare('nil')\n",
    "TCtx.declare('cons', ('ctx', TCtx), ('e', Expr), ('v', Value), )\n"
   ]
  }
 ],
 "metadata": {
  "kernelspec": {
   "display_name": "Python 3",
   "language": "python",
   "name": "python3"
  },
  "language_info": {
   "codemirror_mode": {
    "name": "ipython",
    "version": 3
   },
   "file_extension": ".py",
   "mimetype": "text/x-python",
   "name": "python",
   "nbconvert_exporter": "python",
   "pygments_lexer": "ipython3",
   "version": "3.10.12"
  }
 },
 "nbformat": 4,
 "nbformat_minor": 2
}
