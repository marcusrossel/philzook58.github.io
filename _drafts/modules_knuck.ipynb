{
 "cells": [
  {
   "cell_type": "code",
   "execution_count": 12,
   "metadata": {
    "metadata": {}
   },
   "outputs": [],
   "source": [
    "def List(S):\n",
    "    L = Datatype(f\"List[{S.name()}]\")\n",
    "    L.declare('nil')\n",
    "    L.declare('cons', ('car', S), ('cdr', L))\n",
    "    L = L.create()\n",
    "    def induct(P):\n",
    "        x = FreshConst('x', S)\n",
    "        l = FreshConst('l', L)\n",
    "        return Implies(And(P(L.nil), ForAll([x, l], Implies(P(l), P(L.cons(x, l))))),\n",
    "                       ForAll([l], P(l)))\n",
    "    # def recurse(base, step):\n",
    "    return L, induct\n",
    "\n",
    "IntList, intlist_induct,  = List(IntSort())\n",
    "\n",
    "\n"
   ]
  },
  {
   "cell_type": "markdown",
   "metadata": {},
   "source": [
    "Modules in ocaml let's say are records that contain values and types.\n",
    "It is not an issue since we are in a metalanguage to have sorts in our records.\n",
    "dataclasses are reasonable.\n",
    "\n",
    "They also should contain proofs.\n",
    "Kind of dependent records.\n",
    "Compare with isabelle locales.\n",
    "\n",
    "\n"
   ]
  },
  {
   "cell_type": "code",
   "execution_count": 2,
   "metadata": {
    "metadata": {}
   },
   "outputs": [
    {
     "ename": "NameError",
     "evalue": "name 'List' is not defined",
     "output_type": "error",
     "traceback": [
      "\u001b[0;31m---------------------------------------------------------------------------\u001b[0m",
      "\u001b[0;31mNameError\u001b[0m                                 Traceback (most recent call last)",
      "Cell \u001b[0;32mIn[2], line 3\u001b[0m\n\u001b[1;32m      1\u001b[0m \u001b[38;5;28;01mfrom\u001b[39;00m \u001b[38;5;21;01mz3\u001b[39;00m \u001b[38;5;28;01mimport\u001b[39;00m \u001b[38;5;241m*\u001b[39m\n\u001b[0;32m----> 3\u001b[0m \u001b[43mList\u001b[49m\n",
      "\u001b[0;31mNameError\u001b[0m: name 'List' is not defined"
     ]
    }
   ],
   "source": [
    "from z3 import *\n",
    "from dataclasses import dataclass\n",
    "\n",
    "# since we don't have polymorphism, we need to do module style for any container.\n",
    "@dataclass(frozen=True)\n",
    "class OrderedType():\n",
    "    t : SortRef\n",
    "    le : FuncDeclRef\n",
    "    le_total : BoolRef # Proof\n",
    "__OrderedType = OrderedType\n",
    "def OrderedType(elem : ):\n",
    "    return __OrderedType(elem[0], elem[1], elem[2])\n",
    "# https://v2.ocaml.org/api/Set.Make.html\n",
    "@dataclass(frozen=True)\n",
    "class SetModule():\n",
    "    t : SortRef\n",
    "    elt: SortRef\n",
    "    cons : FuncDeclRef\n",
    "    nil : FuncDeclRef\n",
    "    head : FuncDeclRef\n",
    "__SetModule = SetModule\n",
    "# smart constructor\n",
    "def SetModule(elem : ):\n"
   ]
  },
  {
   "cell_type": "code",
   "execution_count": null,
   "metadata": {},
   "outputs": [],
   "source": [
    "@dataclass(frozen=True)\n",
    "class Nat():\n",
    "    x : IntRef\n",
    "    pos : BoolRef # Proof\n",
    "__Nat = Nat\n",
    "\n",
    "# refinement types.\n",
    "def Nat(x : IntRef, by=[]):\n",
    "    assert isinstance(x, IntRef)\n",
    "    return __Nat(x, lemma(x >= 0, by))\n",
    "\n",
    "@dataclass(frozen=True)\n",
    "class Pos(Nat): # playing with fire here.\n",
    "    pos : BoolRef\n",
    "__Pos = Pos\n",
    "def Pos(x : IntRef, by=[]):\n",
    "    assert isinstance(x, IntRef)\n",
    "    return __Pos(x, lemma(x > 0, by))"
   ]
  },
  {
   "cell_type": "code",
   "execution_count": null,
   "metadata": {},
   "outputs": [],
   "source": [
    "def monoid(S):\n",
    "    return {\n",
    "        \"set\": S,\n",
    "        \"op\": Function(\"op\", S, S, S),\n",
    "        \"unit\": Const(\"unit\", S),\n",
    "        \"assoc\": ForAll([x,y,z], op(op(x,y),z) == op(x,op(y,z))),\n",
    "        \"unitl\": ForAll([x], op(unit,x) == x),\n",
    "        \"unitr\": ForAll([x], op(x,unit) == x),\n",
    "    }    \n",
    "\n",
    "def monoid(S,op,unit, hyps):\n",
    "    assoc = ForAll([x,y,z], op(op(x,y),z) == op(x,op(y,z)))\n",
    "    prove(assoc)\n",
    "    unitl = ForAll([x], op(unit,x) == x)\n",
    "    prove(unitl)\n",
    "    unitr = ForAll([x], op(x,unit) == x)\n",
    "    prove(unitr)\n",
    "    return {\n",
    "        \"set\": S,\n",
    "        \"op\": op,\n",
    "        \"unit\": unit,\n",
    "        \"assoc\": assoc,\n",
    "        \"unitl\": unitl,\n",
    "        \"unitr\": unitr,\n",
    "    }\n",
    "\n",
    "# check parametric stuff on fresh sorts, but then can trust."
   ]
  },
  {
   "cell_type": "markdown",
   "metadata": {},
   "source": [
    "# Older\n",
    "\n",
    "So last time I blasted in a definition of peano addition to knuckledragger as an axiom. This is fine, but probably not the best.\n",
    "\n",
    "It is totally fine for fooling around to add new axioms to expediate getting to whatever meat you want to get to. I recall it being a revelation when I saw Cody do that in Coq, that I didn't need to start from inductive datatypes and build a whole world, one can just posit new axioms.\n",
    "\n",
    "However, it is nice to have the option to instead use more controlled or opinionated interfaces to add axioms.\n",
    "\n",
    "When you define an inductive datatype in Coq or lean, it says that the system has defined a couple of primitives and helpers for you.\n",
    "\n",
    "Inductive datatypes by design allow for admitting induction principles.\n",
    "\n",
    "Since Z3 has support for inductive data types, it seems nice to piggy back on this mechanism\n",
    "\n",
    "A classic thing to do is create a conservative extension to a theory. This adds new constants and function symbols to the signature, but no new theorems involving only old constants are provable.\n",
    "See the metamath book section 4.4 <https://us.metamath.org/downloads/metamath.pdf>\n",
    "<https://en.wikipedia.org/wiki/Conservative_extension>\n",
    "[FOM: Conservative Extension](https://cs.nyu.edu/pipermail/fom/1998-October/002306.html)\n",
    "\n",
    "When you intermix inductive datatypes and first class functions things get dicey for some reason. There are certain positivity restrictions to keep things sound.\n",
    "Mutually recursive datatypes is also a fiddly area.\n",
    "<https://en.wikipedia.org/wiki/Induction-induction>\n",
    "<https://en.wikipedia.org/wiki/Induction-recursion>\n",
    "<https://proofassistants.stackexchange.com/questions/926/what-are-well-founded-inductive-types>\n",
    "\n",
    "<http://adam.chlipala.net/papers/PhoasICFP08/> HOAS is fiddly\n",
    "<https://cstheory.stackexchange.com/questions/22157/w-types-vs-inductive-types>\n",
    "<https://mathoverflow.net/questions/402435/why-are-w-types-called-w> W types fit into this discussion somewhere <https://ncatlab.org/nlab/show/W-type>\n"
   ]
  },
  {
   "cell_type": "code",
   "execution_count": null,
   "metadata": {},
   "outputs": [],
   "source": [
    "from knuckledragger.kernel import *\n",
    "from z3 import *\n",
    "class Datatype(z3.Datatype):\n",
    "    def create(self):\n",
    "        DT = super().create()  # z3 already checks for positivity.\n",
    "        PredSort = ArraySort(DT, BoolSort())\n",
    "        # construct an induction principle.\n",
    "        P = FreshConst(PredSort, prefix=\"P\")\n",
    "        hyps = []\n",
    "        for i in range(DT.num_constructors()):\n",
    "            constructor = DT.constructor(i)\n",
    "            args = [\n",
    "                FreshConst(constructor.domain(j), prefix=\"a\")\n",
    "                for j in range(constructor.arity())\n",
    "            ]\n",
    "            acc = P[constructor(*args)]\n",
    "            for arg in args:\n",
    "                if arg.sort() == DT:\n",
    "                    acc = QForAll([arg], P[arg], acc)\n",
    "                else:\n",
    "                    acc = ForAll([arg], acc)\n",
    "            hyps.append(acc)\n",
    "        x = FreshConst(DT, prefix=\"x\")\n",
    "        conc = ForAll([x], P[x])\n",
    "        induct = Lambda([P], Implies(And(hyps), conc))\n",
    "        induct_ax = trust(ForAll([P], induct[P] == True))\n",
    "\n",
    "        # recursor\n",
    "\n",
    "        # store inside the data type?\n",
    "        DT.induct = induct\n",
    "        DT.induct_ax = induct_ax\n",
    "        #DT.rec = rec\n",
    "        return DT\n",
    "\n",
    "def recursor(name, *cases, DT):\n",
    "    assert all(case.range() == DT for case in cases)\n",
    "    f = z3.RecFunction(name, DT, )  # also freshness needs to be checked\n",
    "\n",
    "\n",
    "def define_rec(name, args, body, measure=None):\n",
    "    sig = [arg.sort() for arg in args]\n",
    "    f = z3.RecFunction(name, *sig)  # also freshness needs to be checked. Yikes.\n",
    "    # TODO check termination and totality of definition\n",
    "    RecAddDefinition(f, body)\n",
    "    fun_def = infer([], ForAll(args, f(*args) == body))\n",
    "    return f, fun_def"
   ]
  },
  {
   "cell_type": "markdown",
   "metadata": {},
   "source": [
    "Wrappers for algebraic datatypes deriving induction principles, recursion principles, others? Some kind of well foundedness? What does isabelle define?"
   ]
  },
  {
   "cell_type": "code",
   "execution_count": null,
   "metadata": {},
   "outputs": [],
   "source": [
    "List = Datatype(\"List\")\n",
    "List.declare(\"cons\", (\"car\", IntSort()), (\"cdr\", List))\n",
    "List.declare(\"nil\")\n",
    "List = List.create()\n",
    "List.induct_ax\n",
    "\n",
    "List2 = Datatype(\"List\")\n",
    "List2.declare(\"nil\")\n",
    "List2 = List2.create()\n",
    "List2.induct_ax\n",
    "\n",
    "List2 == List # ruh roh\n",
    "\n",
    "List.induct_ax\n",
    "List2.induct_ax\n",
    "prove(List2.nil == List.nil) # yikes\n",
    "List.num_constructors()\n",
    "List2.num_constructors()\n",
    "# ok so we overwrite the old list.\n",
    "\n",
    "# This possibly invlaidates any oldtheorem"
   ]
  },
  {
   "cell_type": "markdown",
   "metadata": {},
   "source": [
    "I guess one kind of insane option is to allow delayed validation.\n",
    "\n",
    "We might need to rexport everything from z3 with some stuff wrapped. That's a somewhat nuclear options.\n",
    "Or cache when it comes into trust?\n",
    "An even more nuclear option is make my own adt"
   ]
  }
 ],
 "metadata": {
  "kernelspec": {
   "display_name": "Python 3",
   "language": "python",
   "name": "python3"
  },
  "language_info": {
   "codemirror_mode": {
    "name": "ipython",
    "version": 3
   },
   "file_extension": ".py",
   "mimetype": "text/x-python",
   "name": "python",
   "nbconvert_exporter": "python",
   "pygments_lexer": "ipython3",
   "version": "3.10.12"
  }
 },
 "nbformat": 4,
 "nbformat_minor": 2
}
