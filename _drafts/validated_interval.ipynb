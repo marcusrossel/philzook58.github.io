{
 "cells": [
  {
   "cell_type": "code",
   "execution_count": 1,
   "metadata": {},
   "outputs": [],
   "source": [
    "import flint"
   ]
  },
  {
   "cell_type": "markdown",
   "metadata": {},
   "source": [
    "Flint has arb and calcium now folded in\n",
    "https://fredrikj.net/python-flint/"
   ]
  },
  {
   "cell_type": "code",
   "execution_count": 11,
   "metadata": {},
   "outputs": [
    {
     "data": {
      "text/plain": [
       "1.00000000000000*x"
      ]
     },
     "execution_count": 11,
     "metadata": {},
     "output_type": "execute_result"
    }
   ],
   "source": [
    "x = flint.arb(mid=7, rad=1e-10)\n",
    "#dir(x)\n",
    "flint.arb_poly([x, 1]).integral().derivative()\n",
    "flint.arb_poly.interpolate([0, 1], [0, 1])"
   ]
  },
  {
   "cell_type": "markdown",
   "metadata": {},
   "source": [
    "Interval analysis is a computational constructive framing\n",
    "\n",
    "Moore Book\n",
    "Bridger book\n",
    "Errett Bishop\n",
    "\n",
    "Kaucher intervals https://arxiv.org/pdf/2202.03058\n",
    "\n",
    "Fixed point theorems.\n",
    "An uninterpreted sort is not that bad for non recursive datatypes."
   ]
  },
  {
   "cell_type": "code",
   "execution_count": null,
   "metadata": {},
   "outputs": [],
   "source": [
    "from z3 import *\n",
    "\n",
    "I = DeclareSort(\"Interval\")\n",
    "a, b, c = Consts(\"a b c\", I)\n",
    "R = RealSort()\n",
    "x,y,z = Reals(\"x y z\")\n",
    "low = Function(\"low\", I, R)\n",
    "high = Function(\"high\", I, R)\n",
    "ForAll([a], low(a) <= high(a))\n",
    "\n",
    "sub = Function(\"sub\", I, I, BoolSort())\n",
    "sub_def = ForAll([a,b], sub(a,b) == And(low(a) > low(b), high(a) < high(b)))\n",
    "\n",
    "sub_irrefl = ForAll([a], Not(sub(a,a)))\n",
    "prove(Implies(sub_def, sub_irrefl))\n",
    "\n",
    "sub_asym = ForAll([a,b], Implies(sub(a,b), Not(sub(b,a))))\n",
    "prove(Implies(sub_def, sub_asym))\n",
    "\n",
    "sub_trans = ForAll([a,b,c], Implies(And(sub(a,b), sub(b,c)), sub(a,c)))\n",
    "prove(Implies(sub_def, sub_trans))\n",
    "\n",
    "subeq = Function(\"subeq\", I, I, BoolSort())\n",
    "subeq_def = ForAll([a,b], subeq(a,b) == Or(sub(a,b), a == b))\n",
    "\n",
    "subeq_refl = ForAll([a], subeq(a,a))\n",
    "prove(Implies(subeq_def, subeq_refl))\n",
    "\n",
    "subeq_asym = ForAll([a,b], Implies(And(subeq(a,b), subeq(b,a)), a == b))\n",
    "prove(Implies(And(subeq_def, sub_asym), subeq_asym))\n",
    "\n",
    "subeq_trans = ForAll([a,b,c], Implies(And(subeq(a,b), subeq(b,c)), subeq(a,c)))\n",
    "prove(Implies(And(subeq_def, sub_trans), subeq_trans))\n",
    "\n",
    "# An interval can be dominated by another interval. This is distinct from subset\n",
    "lt = Function(\"lt\", I, I, BoolSort())\n",
    "lt_def = ForAll([a,b], lt(a,b) == high(a) < low(b))\n",
    "\n",
    "\n",
    "mono = Function(\"mono\", ArraySort(I,I), BoolSort())\n",
    "f = Array(\"f\", I, I)\n",
    "mono_def = ForAll([f], mono(f) == ForAll([a], sub(a,f[a])))\n",
    "\n",
    "fix = Function(\"fix\", ArraySort(I,I), I)\n",
    "fix_def = ForAll([f], Implies(mono(f), fix(f) == f[fix(f)]))\n",
    "\n",
    "# too dangerous to skolemize?\n",
    "int_exists = ForAll([x,y], Implies( x <= y, Exists([a], And(low(a) == x, high(a) == y))))\n",
    "\n",
    "iadd = Function(\"iadd\", I, I, I)\n",
    "\n",
    "iadd_comm = ForAll([x,y], iadd(x,y) == iadd(y,x))\n",
    "iadd_assoc = ForAll([x,y,z], iadd(x,iadd(y,z)) == iadd(iadd(x,y),z))\n",
    "iadd_mono = ForAll([x,y,z], Implies(sub(x,y), sub(iadd(x,z),iadd(y,z))))\n",
    "\n",
    "iadd_high = ForAll([a,b], high(iadd(a,b)) == high(a) + high(b))\n",
    "iadd_low = ForAll([a,b], low(iadd(a,b)) == low(a) + low(b))\n",
    "\n",
    "iadd_monol = ForAll([a], mono(Lambda[a], iadd(a,b)))"
   ]
  }
 ],
 "metadata": {
  "kernelspec": {
   "display_name": "Python 3",
   "language": "python",
   "name": "python3"
  },
  "language_info": {
   "codemirror_mode": {
    "name": "ipython",
    "version": 3
   },
   "file_extension": ".py",
   "mimetype": "text/x-python",
   "name": "python",
   "nbconvert_exporter": "python",
   "pygments_lexer": "ipython3",
   "version": "3.10.12"
  }
 },
 "nbformat": 4,
 "nbformat_minor": 2
}
