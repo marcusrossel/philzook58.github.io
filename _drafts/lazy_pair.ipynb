{
 "cells": [
  {
   "cell_type": "code",
   "execution_count": null,
   "metadata": {},
   "outputs": [],
   "source": []
  },
  {
   "cell_type": "markdown",
   "metadata": {},
   "source": [
    "I was learning about linear logic and was thinking about the additive pair `A & B`.\n",
    "\n",
    "I vaguely associate sum types with tagged unions and product types with tuples.\n",
    "\n",
    "The lazy pair is interesting though. I haven't really considered it.\n",
    "\n",
    "Accessin the pair may either be \n",
    "\n",
    "\n",
    "std::variant in C++ also does this.\n"
   ]
  },
  {
   "cell_type": "code",
   "execution_count": null,
   "metadata": {},
   "outputs": [],
   "source": [
    "%%file /tmp/tagged.c\n",
    "\n",
    "enum mytag = {Lit, Add};\n",
    "struct aexpr {\n",
    "    enum mytag tag;\n",
    "    union {\n",
    "        int lit;\n",
    "        struct {struct aexpr *left, *right;} add;\n",
    "    };\n",
    "}\n",
    "\n",
    "aexpr *mk_lit(int lit) {\n",
    "    aexpr *e = malloc(sizeof(aexpr));\n",
    "    e->tag = Lit;\n",
    "    e->lit = lit;\n",
    "    return e;\n",
    "}\n",
    "aexpr *mk_add(aexpr *left, aexpr *right) {\n",
    "    aexpr *e = malloc(sizeof(aexpr));\n",
    "    e->tag = Add;\n",
    "    e->add.left = left;\n",
    "    e->add.right = right;\n",
    "    return e;\n",
    "}\n",
    "\n",
    "int eval(aexpr *e) {\n",
    "    switch (e->tag) {\n",
    "    case Lit: return e->lit;\n",
    "    case Add: return eval(e->add.left) + eval(e->add.right);\n",
    "    }\n",
    "}\n",
    "\n",
    "int main() {\n",
    "    aexpr *e = mk_add(mk_lit(1), mk_lit(2));\n",
    "    printf(\"%d\\n\", eval(e));\n",
    "    return 0;\n",
    "}\n"
   ]
  },
  {
   "cell_type": "code",
   "execution_count": null,
   "metadata": {},
   "outputs": [],
   "source": [
    "%%file /tmp/lazy.c\n",
    "\n",
    "enum mytag = {Unforced, Forced};\n",
    "struct lazy_int {\n",
    "    enum mytag tag;\n",
    "    int (*f)(); force;\n",
    "    int val;\n",
    "    }\n",
    "}\n",
    "\n",
    "lazy_int *mk_lazy(int val) {\n",
    "}\n",
    "\n",
    "int force(lazy_int *e) {\n",
    "    switch (e->tag) {\n",
    "    case Unforced: e->val = e->force.f(e); e->tag = Forced;\n",
    "    case Forced: return e->val;\n",
    "    }\n",
    "}\n",
    "\n",
    "\n",
    "struct_lazy_int_float {\n",
    "    enum mytag tag;\n",
    "    void (*f)(); forcefloat;\n",
    "    void (*f()) \n",
    "    union {\n",
    "        float fval;\n",
    "        int ival;\n",
    "    }\n",
    "}\n"
   ]
  },
  {
   "cell_type": "markdown",
   "metadata": {},
   "source": [
    "You can massage this around. A null pointer could be used to represent "
   ]
  },
  {
   "cell_type": "code",
   "execution_count": null,
   "metadata": {},
   "outputs": [],
   "source": []
  }
 ],
 "metadata": {
  "language_info": {
   "name": "python"
  }
 },
 "nbformat": 4,
 "nbformat_minor": 2
}
