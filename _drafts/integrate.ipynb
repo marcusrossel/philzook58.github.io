{
 "cells": [
  {
   "cell_type": "code",
   "execution_count": null,
   "metadata": {},
   "outputs": [],
   "source": []
  },
  {
   "cell_type": "markdown",
   "metadata": {},
   "source": [
    "Lebesgue integration\n",
    "Is there numerical version?\n",
    "What if we wrote a function that outputs the inverse multifunction\n",
    "\n"
   ]
  },
  {
   "cell_type": "markdown",
   "metadata": {},
   "source": [
    "If the problem of mosty interest is integration maybe I should attack that directly.The Risch algorithm supposedly does all intergals or something. How could that possibly be true. Maniuplating equations isn't done to my awareness?"
   ]
  },
  {
   "cell_type": "code",
   "execution_count": 3,
   "metadata": {},
   "outputs": [
    {
     "name": "stdout",
     "output_type": "stream",
     "text": [
      "Overwriting /tmp/integ.p\n"
     ]
    }
   ],
   "source": [
    "%%file /tmp/integ.p\n",
    "\n",
    "thf(int_decl, type, integ : ($real > $real) > $real).\n",
    "thf(int_linear, axiom, integ(F + G) = integ(F) + integ(G))."
   ]
  },
  {
   "cell_type": "code",
   "execution_count": 4,
   "metadata": {},
   "outputs": [
    {
     "name": "stdout",
     "output_type": "stream",
     "text": [
      "parse error: lexer fails on char +\n",
      "\n",
      "    at file '/tmp/integ.p': line 3, col 31 to 32\n"
     ]
    }
   ],
   "source": [
    "!zipperposition  /tmp/integ.p"
   ]
  }
 ],
 "metadata": {
  "kernelspec": {
   "display_name": "Python 3",
   "language": "python",
   "name": "python3"
  },
  "language_info": {
   "codemirror_mode": {
    "name": "ipython",
    "version": 3
   },
   "file_extension": ".py",
   "mimetype": "text/x-python",
   "name": "python",
   "nbconvert_exporter": "python",
   "pygments_lexer": "ipython3",
   "version": "3.10.12"
  }
 },
 "nbformat": 4,
 "nbformat_minor": 2
}
