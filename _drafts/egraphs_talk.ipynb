{
 "cells": [
  {
   "cell_type": "code",
   "execution_count": null,
   "metadata": {},
   "outputs": [],
   "source": []
  },
  {
   "cell_type": "markdown",
   "metadata": {},
   "source": [
    "In the Beginning:\n",
    "\n",
    "- There was simplification.\n",
    "- Brute Equational Search"
   ]
  },
  {
   "cell_type": "markdown",
   "metadata": {},
   "source": [
    "Greedy:\n",
    "- Missed optimizations\n",
    "- Ordering of rules matters\n",
    "- Hard to reason about\n",
    "- Nontermination\n",
    "\n",
    "Problems:\n",
    "- Brute search is very explosive"
   ]
  },
  {
   "cell_type": "markdown",
   "metadata": {},
   "source": [
    "Term Orderings\n",
    "- Mostly getting a smaller term is better\n",
    "- If terms keep shrinking, they have to stop.\n",
    "- Ground KBO\n"
   ]
  },
  {
   "cell_type": "markdown",
   "metadata": {},
   "source": [
    "Completion\n",
    "- Fact: Ground completion terminates"
   ]
  },
  {
   "cell_type": "markdown",
   "metadata": {},
   "source": [
    "Canonized Egraph = Canoninized GRS\n",
    "- We have terms\n",
    "- "
   ]
  },
  {
   "cell_type": "markdown",
   "metadata": {},
   "source": [
    "\"Skolemization\" of eclasses\n"
   ]
  },
  {
   "cell_type": "markdown",
   "metadata": {},
   "source": [
    "# Tree Automata\n",
    "- Strings ~ single argument terms\n",
    "- Term rewriting formulation of DFA\n",
    "- Generalizes to Tree"
   ]
  },
  {
   "cell_type": "markdown",
   "metadata": {},
   "source": [
    "# Resolution\n",
    "- Resolution\n",
    "- Ordered Resolution\n",
    "- Datalog\n",
    "- Prolog\n",
    "\n",
    "note: have box that like fills in? Left side is propositional, right is equational. \n",
    "not a \\/ b === a -> b"
   ]
  },
  {
   "cell_type": "markdown",
   "metadata": {},
   "source": [
    "# Strategies\n",
    "- Set of Support\n",
    "- UR-resolution"
   ]
  },
  {
   "cell_type": "markdown",
   "metadata": {},
   "source": [
    "# Equations\n",
    "- paramodulation\n",
    "- Superposition\n",
    "- Egglog\n",
    "- Functional Logic Programming"
   ]
  },
  {
   "cell_type": "markdown",
   "metadata": {},
   "source": [
    "# Philosophy\n",
    "- What is it about egg? Pictures + Compiler. Not a conceptual high bar to entry.\n",
    "- Non completeness\n",
    "- Limited scope leads to highly refined, fast, implementation"
   ]
  },
  {
   "cell_type": "markdown",
   "metadata": {},
   "source": [
    "\n",
    "- Handbook of automated reasononig\n",
    "- Term Rewriting and All That\n",
    "- Automated Reasoning: An Introduction"
   ]
  },
  {
   "cell_type": "markdown",
   "metadata": {},
   "source": [
    "I've noted before it isn't obvious what goes into the box next to completion in the propositional case\n",
    "\n",
    "Ground atomic superposition is a contextual union find.\n",
    "\n",
    "\n",
    "? = completion\n",
    "lambda prolog = ?\n",
    "hilog = ?\n",
    "contextual datalog = ?\n",
    "hypothetical prolog = ?\n",
    "\n"
   ]
  },
  {
   "cell_type": "code",
   "execution_count": null,
   "metadata": {},
   "outputs": [],
   "source": [
    "def simplify1(t : Term) -> Term:\n"
   ]
  },
  {
   "cell_type": "markdown",
   "metadata": {},
   "source": [
    "# Bits and Bobbles\n",
    "\n",
    "Slides from juptyer?  I can nbconvert\n",
    "\n",
    "\n",
    "Animations?"
   ]
  }
 ],
 "metadata": {
  "language_info": {
   "name": "python"
  }
 },
 "nbformat": 4,
 "nbformat_minor": 2
}
