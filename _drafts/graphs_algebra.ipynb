{
 "cells": [
  {
   "cell_type": "code",
   "execution_count": null,
   "metadata": {},
   "outputs": [],
   "source": []
  },
  {
   "cell_type": "markdown",
   "metadata": {},
   "source": [
    "What is a graph?\n",
    "\n",
    "What do you want to do on it?\n",
    "\n",
    "\n",
    "Search a graph\n",
    "spanning tree\n",
    "routing on a graph\n",
    "shortest path\n",
    "maximum flow\n",
    "minimum cut\n",
    "maximum matching\n",
    "minimum spanning tree\n",
    "strongly connected components\n",
    "biconnected components\n",
    "articulation points\n",
    "bridges\n",
    "2-edge connected components\n",
    "\n",
    "\n",
    "colorings\n",
    "covers\n",
    "\n",
    "\n"
   ]
  },
  {
   "cell_type": "code",
   "execution_count": null,
   "metadata": {},
   "outputs": [],
   "source": [
    "V = int\n",
    "Edge = tuple[V,V]\n",
    "\n",
    "# flat reps\n",
    "Graph1 = set[Edge]\n",
    "Graph2 = list[Edge]\n",
    "Graph3 = dict[V, set[V]]\n",
    "\n",
    "\n",
    "# structured representations"
   ]
  },
  {
   "cell_type": "code",
   "execution_count": null,
   "metadata": {},
   "outputs": [],
   "source": [
    "# kerngihan Lin\n",
    "\n",
    "def kl(edges):\n",
    "    A = set()\n",
    "    B = set()\n",
    "    \n",
    "\n"
   ]
  }
 ],
 "metadata": {
  "language_info": {
   "name": "python"
  }
 },
 "nbformat": 4,
 "nbformat_minor": 2
}
