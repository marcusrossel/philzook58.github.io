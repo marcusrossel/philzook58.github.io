{
 "cells": [
  {
   "cell_type": "code",
   "execution_count": 15,
   "metadata": {},
   "outputs": [
    {
     "name": "stdout",
     "output_type": "stream",
     "text": [
      "Writing /tmp/ex.trs\n"
     ]
    }
   ],
   "source": [
    "%%file /tmp/ex.trs\n",
    "(VAR x y)\n",
    "(RULES\n",
    "    plus(0,y) -> y\n",
    "    plus(s(x),y) -> s(plus(x,y))\n",
    ")"
   ]
  },
  {
   "cell_type": "code",
   "execution_count": 23,
   "metadata": {},
   "outputs": [
    {
     "name": "stdout",
     "output_type": "stream",
     "text": [
      "Writing /tmp/append.trs\n"
     ]
    }
   ],
   "source": [
    "%%file /tmp/append.trs\n",
    "(VAR x y z)\n",
    "(RULES\n",
    "    append(nil,y) -> y\n",
    "    append(cons(x,z),y) -> cons(x, append(z,y))\n",
    ")"
   ]
  },
  {
   "cell_type": "code",
   "execution_count": 25,
   "metadata": {},
   "outputs": [
    {
     "name": "stdout",
     "output_type": "stream",
     "text": [
      "YES\n",
      "<?xml version=\"1.0\" encoding=\"UTF-8\" standalone=\"no\"?><?xml-stylesheet type=\"text/xsl\" href=\"cpfHTML.xsl\"?><certificationProblem xmlns:xsi=\"http://www.w3.org/2001/XMLSchema-instance\" xsi:noNamespaceSchemaLocation=\"cpf.xsd\"><input><trsInput><trs><rules><rule><lhs><funapp><name>append</name><arg><funapp><name>nil</name></funapp></arg><arg><var>y</var></arg></funapp></lhs><rhs><var>y</var></rhs></rule><rule><lhs><funapp><name>append</name><arg><funapp><name>cons</name><arg><var>x</var></arg><arg><var>z</var></arg></funapp></arg><arg><var>y</var></arg></funapp></lhs><rhs><funapp><name>cons</name><arg><var>x</var></arg><arg><funapp><name>append</name><arg><var>z</var></arg><arg><var>y</var></arg></funapp></arg></funapp></rhs></rule></rules></trs></trsInput></input><cpfVersion>2.1</cpfVersion><proof><trsTerminationProof><ruleRemoval><orderingConstraintProof><redPair><knuthBendixOrder><w0>1</w0><precedenceWeight><precedenceWeightEntry><name>nil</name><arity>0</arity><precedence>0</precedence><weight>1</weight></precedenceWeightEntry><precedenceWeightEntry><name>append</name><arity>2</arity><precedence>2</precedence><weight>0</weight></precedenceWeightEntry><precedenceWeightEntry><name>cons</name><arity>2</arity><precedence>1</precedence><weight>0</weight></precedenceWeightEntry></precedenceWeight></knuthBendixOrder></redPair></orderingConstraintProof><trs><rules/></trs><trsTerminationProof><rIsEmpty/></trsTerminationProof></ruleRemoval></trsTerminationProof></proof><origin><proofOrigin><tool><name>AProVE</name><version>AProVE Commit ID: 314de9e47ad18e927546098510ed7c36e443eb6d jan-christoph 20231211 unpublished\n",
      "</version><strategy>Statistics for single proof: 100.00 % (2 real / 0 unknown / 0 assumptions / 2 total proof steps)</strategy><url>http://aprove.informatik.rwth-aachen.de</url></tool><toolUser><firstName>John</firstName><lastName>Doe</lastName></toolUser></proofOrigin><inputOrigin/></origin></certificationProblem>"
     ]
    }
   ],
   "source": [
    "! java -ea -jar ~/Downloads/term-rewrite/aprove.jar -m wst /tmp/append.trs -p cpf"
   ]
  },
  {
   "cell_type": "code",
   "execution_count": null,
   "metadata": {},
   "outputs": [],
   "source": [
    "import subprocess\n",
    "res = subprocess.run([\"java\", \"-ea\", \"-jar\", \"/home/philip/Downloads/aprove.jar\", \"/tmp/ex.trs\", \"-p\", \"cpf\"], capture_output=True, check=True)\n",
    "print(res)\n",
    "print(dir(res.stdout))\n",
    "import xml.etree.ElementTree as ET\n",
    "tree = ET.fromstring(res.stdout.decode())\n",
    "print(tree)\n",
    "print(tree.tag)"
   ]
  },
  {
   "cell_type": "code",
   "execution_count": null,
   "metadata": {},
   "outputs": [],
   "source": [
    "tree.tag\n",
    "tree.attrib\n",
    "print([elem.tag for elem in tree])\n",
    "input = tree.find(\"input\")\n",
    "print(dir(input))\n",
    "input.text\n",
    "ET.tostring(input)\n",
    "ET.dump(input)"
   ]
  },
  {
   "cell_type": "code",
   "execution_count": null,
   "metadata": {},
   "outputs": [],
   "source": [
    "def etree_to_dict(t):\n",
    "    d = {t.tag : map(etree_to_dict, t.getchildren())}\n",
    "    d.update(('@' + k, v) for k, v in t.attrib.iteritems())\n",
    "    d['text'] = t.text\n",
    "    return d"
   ]
  },
  {
   "cell_type": "markdown",
   "metadata": {},
   "source": [
    "ebpf termination via C prover\n",
    "https://qmonnet.github.io/whirl-offload/2020/04/12/llvm-ebpf-asm/\n",
    "https://mdaverde.com/posts/ebpf-dump-insns/"
   ]
  },
  {
   "cell_type": "code",
   "execution_count": 20,
   "metadata": {},
   "outputs": [
    {
     "name": "stdout",
     "output_type": "stream",
     "text": [
      "Overwriting /tmp/fact.c\n"
     ]
    }
   ],
   "source": [
    "%%file /tmp/fact.c\n",
    "\n",
    "int fact(int x){\n",
    "    int y = 1;\n",
    "    while(x > 1){\n",
    "        x = x - 1;\n",
    "        y = y * x;\n",
    "    }\n",
    "    return y;\n",
    "}"
   ]
  },
  {
   "cell_type": "code",
   "execution_count": 22,
   "metadata": {},
   "outputs": [
    {
     "name": "stdout",
     "output_type": "stream",
     "text": [
      "line 7:31 mismatched input 'noundef' expecting CLOSEP\n",
      "line 7:41 mismatched input ')' expecting ASSIGN\n",
      "line 8:7 mismatched input 'alloca' expecting TYPE\n",
      "line 9:7 mismatched input 'alloca' expecting TYPE\n",
      "line 10:14 mismatched input ',' expecting ASSIGN\n",
      "line 10:22 mismatched input ',' expecting ASSIGN\n",
      "line 11:21 mismatched input ',' expecting ASSIGN\n",
      "line 14:0 mismatched input '4' expecting ASSIGN\n",
      "line 15:7 mismatched input 'load' expecting TYPE\n",
      "line 15:23 mismatched input ',' expecting ASSIGN\n",
      "line 16:7 mismatched input 'icmp' expecting TYPE\n",
      "line 16:22 mismatched input ',' expecting ASSIGN\n",
      "line 17:10 mismatched input ',' expecting ASSIGN\n",
      "line 17:20 mismatched input ',' expecting ASSIGN\n",
      "line 19:0 mismatched input '7' expecting ASSIGN\n",
      "line 20:7 mismatched input 'load' expecting TYPE\n",
      "line 20:23 mismatched input ',' expecting ASSIGN\n",
      "line 21:7 mismatched input 'sub' expecting TYPE\n",
      "line 21:21 mismatched input ',' expecting ASSIGN\n",
      "line 22:14 mismatched input ',' expecting ASSIGN\n",
      "line 22:22 mismatched input ',' expecting ASSIGN\n",
      "line 23:8 mismatched input 'load' expecting TYPE\n",
      "line 23:24 mismatched input ',' expecting ASSIGN\n",
      "line 24:8 mismatched input 'load' expecting TYPE\n",
      "line 24:24 mismatched input ',' expecting ASSIGN\n",
      "line 25:8 mismatched input 'mul' expecting TYPE\n",
      "line 25:23 mismatched input ',' expecting ASSIGN\n",
      "line 26:2 mismatched input 'store' expecting ASSIGN\n",
      "line 26:15 mismatched input ',' expecting ASSIGN\n",
      "line 26:23 mismatched input ',' expecting ASSIGN\n",
      "line 27:13 mismatched input ',' expecting ASSIGN\n",
      "line 27:26 missing ASSIGN at '!'\n",
      "line 27:27 mismatched input '6' expecting OPENC\n",
      "line 30:8 mismatched input 'load' expecting TYPE\n",
      "line 30:24 mismatched input ',' expecting ASSIGN\n",
      "line 32:0 mismatched input '}' expecting ASSIGN\n",
      "java.lang.AssertionError: Did not find any first block!\n",
      "\tat aprove.InputModules.Programs.llvm.parseStructures.LLVMParseFunctionDefinition.convertToFnDefinition(LLVMParseFunctionDefinition.java:37)\n",
      "\tat aprove.InputModules.Programs.llvm.parseStructures.LLVMParseModule.createBasicStructure(LLVMParseModule.java:114)\n",
      "\tat aprove.InputModules.Programs.llvm.Translator.translate(Translator.java:136)\n",
      "\tat aprove.InputModules.Programs.llvm.Translator.translate(Translator.java:115)\n",
      "\tat aprove.Framework.Input.Translator$TranslatorSkeleton.translate(Translator.java:91)\n",
      "\tat aprove.InputModules.Programs.c.CToLLVMProcessor.process(CToLLVMProcessor.java:69)\n",
      "\tat aprove.Strategies.ExecutableStrategies.Executor.execute(Executor.java:326)\n",
      "\tat aprove.Strategies.ExecutableStrategies.Executor$Runner.wrappedRun(Executor.java:377)\n",
      "\tat aprove.Strategies.Abortions.PooledJob.run(PooledJob.java:99)\n",
      "\tat aprove.Strategies.Util.PrioritizableThreadPool$Worker.run(PrioritizableThreadPool.java:274)\n",
      "\tat java.base/java.lang.Thread.run(Thread.java:840)\n"
     ]
    }
   ],
   "source": [
    "! java -ea -cp ~/Downloads/term-rewrite/aprove.jar aprove.CommandLineInterface.CFrontendMain /tmp/fact.c"
   ]
  },
  {
   "cell_type": "code",
   "execution_count": 5,
   "metadata": {},
   "outputs": [],
   "source": [
    "!clang -target bpf -O2 -c /tmp/fact.c -o /tmp/fact.o"
   ]
  },
  {
   "cell_type": "code",
   "execution_count": 10,
   "metadata": {},
   "outputs": [
    {
     "name": "stdout",
     "output_type": "stream",
     "text": [
      "\n",
      "/tmp/fact.o:\tfile format elf64-bpf\n",
      "\n",
      "Disassembly of section .text:\n",
      "\n",
      "0000000000000000 <fact>:\n",
      "       0:\tb7 00 00 00 01 00 00 00\tr0 = 0x1\n",
      "       1:\tbf 12 00 00 00 00 00 00\tr2 = r1\n",
      "       2:\t67 02 00 00 20 00 00 00\tr2 <<= 0x20\n",
      "       3:\tc7 02 00 00 20 00 00 00\tr2 s>>= 0x20\n",
      "       4:\tb7 03 00 00 02 00 00 00\tr3 = 0x2\n",
      "       5:\t6d 23 09 00 00 00 00 00\tif r3 s> r2 goto +0x9 <LBB0_3>\n",
      "       6:\t07 01 00 00 01 00 00 00\tr1 += 0x1\n",
      "\n",
      "0000000000000038 <LBB0_2>:\n",
      "       7:\tbf 12 00 00 00 00 00 00\tr2 = r1\n",
      "       8:\t07 02 00 00 fe ff ff ff\tr2 += -0x2\n",
      "       9:\t2f 20 00 00 00 00 00 00\tr0 *= r2\n",
      "      10:\t07 01 00 00 ff ff ff ff\tr1 += -0x1\n",
      "      11:\tbf 12 00 00 00 00 00 00\tr2 = r1\n",
      "      12:\t67 02 00 00 20 00 00 00\tr2 <<= 0x20\n",
      "      13:\t77 02 00 00 20 00 00 00\tr2 >>= 0x20\n",
      "      14:\t25 02 f8 ff 02 00 00 00\tif r2 > 0x2 goto -0x8 <LBB0_2>\n",
      "\n",
      "0000000000000078 <LBB0_3>:\n",
      "      15:\t95 00 00 00 00 00 00 00\texit\n"
     ]
    }
   ],
   "source": [
    "!llvm-objdump -d /tmp/fact.o"
   ]
  },
  {
   "cell_type": "code",
   "execution_count": 11,
   "metadata": {},
   "outputs": [
    {
     "name": "stdout",
     "output_type": "stream",
     "text": [
      "Traceback (most recent call last):\n",
      "  File \"/home/philip/.local/bin/angr\", line 8, in <module>\n",
      "    sys.exit(main())\n",
      "  File \"/home/philip/.local/lib/python3.10/site-packages/angr/__main__.py\", line 50, in main\n",
      "    decompilation = decompile_functions(\n",
      "  File \"/home/philip/.local/lib/python3.10/site-packages/angr/analyses/decompiler/utils.py\", line 651, in decompile_functions\n",
      "    proj = angr.Project(path, auto_load_libs=False)\n",
      "  File \"/home/philip/.local/lib/python3.10/site-packages/angr/project.py\", line 147, in __init__\n",
      "    self.loader = cle.Loader(self.filename, concrete_target=concrete_target, **load_options)\n",
      "  File \"/home/philip/.local/lib/python3.10/site-packages/cle/loader.py\", line 188, in __init__\n",
      "    self.initial_load_objects = self._internal_load(\n",
      "  File \"/home/philip/.local/lib/python3.10/site-packages/cle/loader.py\", line 782, in _internal_load\n",
      "    obj = self._load_object_isolated(main_spec)\n",
      "  File \"/home/philip/.local/lib/python3.10/site-packages/cle/loader.py\", line 985, in _load_object_isolated\n",
      "    result = backend_cls(binary, binary_stream, is_main_bin=self._main_object is None, loader=self, **options)\n",
      "  File \"/home/philip/.local/lib/python3.10/site-packages/cle/backends/elf/elf.py\", line 113, in __init__\n",
      "    self.set_arch(self.extract_arch(self._reader))\n",
      "  File \"/home/philip/.local/lib/python3.10/site-packages/cle/backends/elf/elf.py\", line 327, in extract_arch\n",
      "    return archinfo.arch_from_id(arch_str, \"le\" if reader.little_endian else \"be\", reader.elfclass)\n",
      "  File \"/home/philip/.local/lib/python3.10/site-packages/archinfo/arch.py\", line 887, in arch_from_id\n",
      "    raise ArchNotFound(\n",
      "archinfo.arch.ArchNotFound: Can't find architecture info for architecture em_bpf with 64 bits and Iend_LE endness\n"
     ]
    }
   ],
   "source": [
    "! # angr decompile /tmp/fact.o  deosn't work"
   ]
  }
 ],
 "metadata": {
  "kernelspec": {
   "display_name": "Python 3",
   "language": "python",
   "name": "python3"
  },
  "language_info": {
   "codemirror_mode": {
    "name": "ipython",
    "version": 3
   },
   "file_extension": ".py",
   "mimetype": "text/x-python",
   "name": "python",
   "nbconvert_exporter": "python",
   "pygments_lexer": "ipython3",
   "version": "3.10.12"
  }
 },
 "nbformat": 4,
 "nbformat_minor": 2
}
