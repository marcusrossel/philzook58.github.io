{
 "cells": [
  {
   "cell_type": "code",
   "execution_count": null,
   "metadata": {},
   "outputs": [],
   "source": []
  },
  {
   "cell_type": "markdown",
   "metadata": {},
   "source": [
    "Kalman filters\n",
    "h infinity\n",
    "non linear control\n",
    "\n",
    "particle filters\n",
    "statistical estimation and control\n",
    "AIAA\n",
    "rendezvous\n",
    "\n",
    "orbital manuevers\n",
    "hohmann transfer.\n",
    "bi-elliptic transfer \n",
    "\n",
    "\n",
    "https://github.com/nasa/COTS-Star-Tracker\n",
    "https://github.com/UWCubeSat/lost\n",
    "https://github.com/openlunar/lincov\n",
    "Symbolic Linear Covariance Analysis Tool (SLiC) https://www.osti.gov/servlets/purl/1908783\n",
    "https://www.orekit.org/\n",
    "\n",
    "GMAT https://opensource.gsfc.nasa.gov/projects/GMAT/index.php https://www.youtube.com/watch?v=jvF7rSYQ8WI\n",
    "STK\n",
    "\n",
    "\n",
    "casadi\n",
    "acado\n",
    "gekko\n",
    "https://web.casadi.org/\n",
    "https://www.philipzucker.com/casadi-pretty-damn-slick/\n",
    "https://hackage.haskell.org/package/dynobud\n",
    "\n",
    "\n",
    "Can I do the LQR manipulations.\n",
    "Brute simpliciations\n",
    "Under assumptions.\n",
    "Backtracking\n",
    "\n"
   ]
  },
  {
   "cell_type": "code",
   "execution_count": null,
   "metadata": {},
   "outputs": [],
   "source": [
    "A = (\"A\",)\n",
    "Q = (\"Q\",)\n",
    "K = (\"K\",)\n",
    "J = (\"J\",)\n",
    "T = (\"T\",)\n",
    "def prod(a,b):\n",
    "    return (\"*\", a, b)\n",
    "@dataclass\n",
    "class Term:\n",
    "    head: str\n",
    "    args: tuple[Any,...]\n",
    "    def __mul__(self,other):\n",
    "        return Term(\"*\", (self, other))\n",
    "    def __add__(self,other):\n",
    "        return Term(\"+\", (self, other))\n",
    "    \n",
    "def simplify1(t):\n",
    "    match t:\n",
    "        case Term(\"*\", (Term(\"*\", (a,b)), c)):\n",
    "            return simplify1(a*b*c)\n"
   ]
  }
 ],
 "metadata": {
  "language_info": {
   "name": "python"
  }
 },
 "nbformat": 4,
 "nbformat_minor": 2
}
