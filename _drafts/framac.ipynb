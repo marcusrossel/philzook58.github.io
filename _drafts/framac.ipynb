{
 "cells": [
  {
   "cell_type": "code",
   "execution_count": 1,
   "metadata": {},
   "outputs": [
    {
     "name": "stdout",
     "output_type": "stream",
     "text": [
      "The following actions will be performed:\n",
      "  \u001b[32m∗\u001b[0m install   \u001b[01mfpath\u001b[0m                0.7.3    [required by bos]\n",
      "  \u001b[32m∗\u001b[0m install   \u001b[01mconf-gtk3\u001b[0m            18       [required by lablgtk3]\n",
      "  \u001b[32m∗\u001b[0m install   \u001b[01mconf-cairo\u001b[0m           1        [required by cairo2]\n",
      "  \u001b[32m∗\u001b[0m install   \u001b[01munionFind\u001b[0m            20220122 [required by frama-c]\n",
      "  \u001b[32m∗\u001b[0m install   \u001b[01mordering\u001b[0m             3.13.0   [required by dyn, stdune]\n",
      "  \u001b[32m∗\u001b[0m install   \u001b[01mppx_deriving_yojson\u001b[0m  3.7.0    [required by frama-c]\n",
      "  \u001b[32m∗\u001b[0m install   \u001b[01mlogs\u001b[0m                 0.7.0    [required by ocplib-simplex, bos]\n",
      "  \u001b[32m∗\u001b[0m install   \u001b[01mconf-zlib\u001b[0m            1        [required by camlzip]\n",
      "  \u001b[32m∗\u001b[0m install   \u001b[01mpsmt2-frontend\u001b[0m       0.4.0    [required by alt-ergo-parsers]\n",
      "  \u001b[32m∗\u001b[0m install   \u001b[01mppx_blob\u001b[0m             0.7.2    [required by alt-ergo-lib]\n",
      "  \u001b[32m∗\u001b[0m install   \u001b[01mdolmen\u001b[0m               0.9      [required by alt-ergo-lib]\n",
      "  \u001b[32m∗\u001b[0m install   \u001b[01mocamlgraph\u001b[0m           2.1.0    [required by frama-c]\n",
      "  \u001b[32m∗\u001b[0m install   \u001b[01mpp\u001b[0m                   1.2.0    [required by dune-private-libs]\n",
      "  \u001b[32m∗\u001b[0m install   \u001b[01mpp_loc\u001b[0m               2.1.0    [required by dolmen_loop]\n",
      "  \u001b[32m∗\u001b[0m install   \u001b[01mdune-build-info\u001b[0m      3.13.0   [required by alt-ergo-lib]\n",
      "  \u001b[32m∗\u001b[0m install   \u001b[01mintegers\u001b[0m             0.7.0    [required by ctypes]\n",
      "  \u001b[32m∗\u001b[0m install   \u001b[01mconf-which\u001b[0m           1\n",
      "  \u001b[32m∗\u001b[0m install   \u001b[01mspelll\u001b[0m               0.4      [required by dolmen_type]\n",
      "  \u001b[32m∗\u001b[0m install   \u001b[01mconf-gtksourceview3\u001b[0m  0+2      [required by frama-c]\n",
      "  \u001b[32m∗\u001b[0m install   \u001b[01mppx_import\u001b[0m           1.10.0   [required by frama-c]\n",
      "  \u001b[32m∗\u001b[0m install   \u001b[01mcairo2\u001b[0m               0.6.4    [required by lablgtk3]\n",
      "  \u001b[32m∗\u001b[0m install   \u001b[01mocplib-simplex\u001b[0m       0.5      [required by alt-ergo-lib]\n",
      "  \u001b[32m∗\u001b[0m install   \u001b[01mbos\u001b[0m                  0.2.1    [required by yaml]\n",
      "  \u001b[32m∗\u001b[0m install   \u001b[01mcamlzip\u001b[0m              1.11     [required by alt-ergo-lib]\n",
      "  \u001b[32m∗\u001b[0m install   \u001b[01mdyn\u001b[0m                  3.13.0   [required by dune-private-libs]\n",
      "  \u001b[32m∗\u001b[0m install   \u001b[01mctypes\u001b[0m               0.21.1   [required by yaml]\n",
      "  \u001b[32m∗\u001b[0m install   \u001b[01mconf-graphviz\u001b[0m        0.1\n",
      "  \u001b[32m∗\u001b[0m install   \u001b[01mdolmen_type\u001b[0m          0.9      [required by alt-ergo-lib]\n",
      "  \u001b[32m∗\u001b[0m install   \u001b[01mlablgtk3\u001b[0m             3.1.3    [required by frama-c]\n",
      "  \u001b[33m↻\u001b[0m recompile \u001b[01mwhy3\u001b[0m                 1.7.0    [uses camlzip]\n",
      "  \u001b[32m∗\u001b[0m install   \u001b[01mstdune\u001b[0m               3.13.0   [required by dune-private-libs]\n",
      "  \u001b[32m∗\u001b[0m install   \u001b[01myaml\u001b[0m                 3.2.0    [required by frama-c]\n",
      "  \u001b[32m∗\u001b[0m install   \u001b[01mdolmen_loop\u001b[0m          0.9      [required by alt-ergo-lib]\n",
      "  \u001b[32m∗\u001b[0m install   \u001b[01mlablgtk3-sourceview3\u001b[0m 3.1.3    [required by frama-c]\n",
      "  \u001b[32m∗\u001b[0m install   \u001b[01mdune-private-libs\u001b[0m    3.13.0   [required by dune-site]\n",
      "  \u001b[32m∗\u001b[0m install   \u001b[01mppx_deriving_yaml\u001b[0m    0.2.2    [required by frama-c]\n",
      "  \u001b[32m∗\u001b[0m install   \u001b[01malt-ergo-lib\u001b[0m         2.5.2    [required by alt-ergo]\n",
      "  \u001b[32m∗\u001b[0m install   \u001b[01mdune-site\u001b[0m            3.13.0   [required by frama-c]\n",
      "  \u001b[32m∗\u001b[0m install   \u001b[01malt-ergo-parsers\u001b[0m     2.5.2    [required by alt-ergo]\n",
      "  \u001b[32m∗\u001b[0m install   \u001b[01malt-ergo\u001b[0m             2.5.2    [required by frama-c]\n",
      "  \u001b[32m∗\u001b[0m install   \u001b[01mframa-c\u001b[0m              28.0\n",
      "===== \u001b[32m∗\u001b[0m 40   \u001b[33m↻\u001b[0m 1 =====\n",
      "Do you want to continue? [Y/n] \n"
     ]
    }
   ],
   "source": [
    "%%bash\n",
    "opam install frama-c\n",
    "why3 config detect"
   ]
  },
  {
   "cell_type": "markdown",
   "metadata": {},
   "source": [
    "I consider Frama-C to be the big dog in the room when it comes to C verification.\n",
    "\n",
    "mlcfg + pcode?\n",
    "\n",
    "https://frama-c.com/2022/11/16/supertest-solidsands.html This was already the case with NIST’s Juliet C/C++ testsuite, [J. Moerman’s 2018 bachelor’s thesis test suite (JM2018TS)(https://github.com/JMoerman/JM2018TS), TrailOfBits’ version of the DARPA Challenge Binaries, \n",
    "\n",
    "https://en.wikipedia.org/wiki/Frama-C\n",
    "\n",
    "- eva evolved value analysis https://frama-c.com/fc-plugins/eva.html\n",
    "- wp\n",
    "- jessie - old. kind of replaced by wp?\n",
    "- e-acsl - adds runtime assertions\n",
    "- Pathcraewler - https://frama-c.com/fc-plugins/pathcrawler.html generate unit tests. proprietary\n",
    "\n",
    "- rte - runtime error detection. preprocessor to wp or e-acsl\n",
    "- ltl properties https://frama-c.com/fc-plugins/aorai.html\n",
    "- https://frama-c.com/fc-plugins/metrics-calculation.html metrics. cyclomatic, yuck. but eva coverage ok\n",
    "- https://frama-c.com/fc-plugins/instantiate.html specialize function signatures?\n",
    "- constant folding + useless code elimination. A frameowrk for partial eval?\n",
    "\n",
    "eva is probably the most scalable thing?\n",
    "\n",
    "invariant inference?\n"
   ]
  },
  {
   "cell_type": "code",
   "execution_count": 3,
   "metadata": {},
   "outputs": [
    {
     "name": "stdout",
     "output_type": "stream",
     "text": [
      "Writing /tmp/frama1.c\n"
     ]
    }
   ],
   "source": [
    "%%file /tmp/frama1.c\n",
    "\n",
    "#include <stdio.h>\n",
    "int main() {\n",
    "    int a = 1;\n",
    "    int b = 2;\n",
    "    int c = a + b;\n",
    "    printf(\"%d\\n\", c);\n",
    "    return 0;\n",
    "}"
   ]
  },
  {
   "cell_type": "code",
   "execution_count": 5,
   "metadata": {},
   "outputs": [
    {
     "name": "stdout",
     "output_type": "stream",
     "text": [
      "[kernel] Parsing /tmp/frama1.c (with preprocessing)\n",
      "[eva] Analyzing a complete application starting at main\n",
      "[eva:initial-state] Values of globals at initialization\n",
      "  \n",
      "[eva] using specification for function printf_va_1\n",
      "[eva] ====== VALUES COMPUTED ======\n",
      "[eva:final-states] Values at end of function main:\n",
      "  a ∈ {1}\n",
      "  b ∈ {2}\n",
      "  c ∈ {3}\n",
      "  __retres ∈ {0}\n",
      "  S___fc_stdout[0..1] ∈ [--..--]\n",
      "[eva:summary] ====== ANALYSIS SUMMARY ======\n",
      "  ----------------------------------------------------------------------------\n",
      "  1 function analyzed (out of 1): 100% coverage.\n",
      "  In this function, 6 statements reached (out of 6): 100% coverage.\n",
      "  ----------------------------------------------------------------------------\n",
      "  No errors or warnings raised during the analysis.\n",
      "  ----------------------------------------------------------------------------\n",
      "  0 alarms generated by the analysis.\n",
      "  ----------------------------------------------------------------------------\n",
      "  Evaluation of the logical properties reached by the analysis:\n",
      "    Assertions        0 valid     0 unknown     0 invalid      0 total\n",
      "    Preconditions     1 valid     0 unknown     0 invalid      1 total\n",
      "  100% of the logical properties reached have been proven.\n",
      "  ----------------------------------------------------------------------------\n"
     ]
    }
   ],
   "source": [
    "! frama-c -eva /tmp/frama1.c"
   ]
  },
  {
   "cell_type": "code",
   "execution_count": 9,
   "metadata": {},
   "outputs": [
    {
     "name": "stdout",
     "output_type": "stream",
     "text": [
      "Overwriting /tmp/frama2.c\n"
     ]
    }
   ],
   "source": [
    "%%file /tmp/frama2.c\n",
    "// from https://frama-c.com/fc-plugins/eva.html\n",
    "int abs(int x) {\n",
    "  if (x < 0) return -x;\n",
    "  else return x;\n",
    "}"
   ]
  },
  {
   "cell_type": "code",
   "execution_count": 10,
   "metadata": {},
   "outputs": [
    {
     "name": "stdout",
     "output_type": "stream",
     "text": [
      "[kernel] Parsing /tmp/frama2.c (with preprocessing)\n",
      "[eva] Analyzing a complete application starting at abs\n",
      "[eva:initial-state] Values of globals at initialization\n",
      "  \n",
      "[eva:alarm] /tmp/frama2.c:3: Warning: signed overflow. assert -x ≤ 2147483647;\n",
      "[eva] ====== VALUES COMPUTED ======\n",
      "[eva:final-states] Values at end of function abs:\n",
      "  __retres ∈ [0..2147483647]\n",
      "[eva:summary] ====== ANALYSIS SUMMARY ======\n",
      "  ----------------------------------------------------------------------------\n",
      "  1 function analyzed (out of 1): 100% coverage.\n",
      "  In this function, 8 statements reached (out of 8): 100% coverage.\n",
      "  ----------------------------------------------------------------------------\n",
      "  No errors or warnings raised during the analysis.\n",
      "  ----------------------------------------------------------------------------\n",
      "  1 alarm generated by the analysis:\n",
      "       1 integer overflow\n",
      "  ----------------------------------------------------------------------------\n",
      "  No logical properties have been reached by the analysis.\n",
      "  ----------------------------------------------------------------------------\n"
     ]
    }
   ],
   "source": [
    "! frama-c -eva /tmp/frama2.c -main abs "
   ]
  },
  {
   "cell_type": "code",
   "execution_count": 11,
   "metadata": {},
   "outputs": [
    {
     "name": "stdout",
     "output_type": "stream",
     "text": [
      "Overwriting /tmp/ex1.c\n"
     ]
    }
   ],
   "source": [
    "%%file /tmp/ex1.c\n",
    "#include <assert.h>\n",
    "int main(){\n",
    "    int x;\n",
    "    if (x <= 42){\n",
    "            assert(x != 12345);\n",
    "    }\n",
    "}"
   ]
  },
  {
   "cell_type": "code",
   "execution_count": 12,
   "metadata": {},
   "outputs": [
    {
     "name": "stdout",
     "output_type": "stream",
     "text": [
      "[kernel] Parsing /tmp/ex1.c (with preprocessing)\n",
      "[eva] Analyzing a complete application starting at main\n",
      "[eva:initial-state] Values of globals at initialization\n",
      "  \n",
      "[eva:alarm] /tmp/ex1.c:4: Warning: \n",
      "  accessing uninitialized left-value. assert \\initialized(&x);\n",
      "[eva] /tmp/ex1.c:4: assertion 'Eva,initialization' got final status invalid.\n",
      "[eva] ====== VALUES COMPUTED ======\n",
      "[eva:final-states] Values at end of function main:\n",
      "  NON TERMINATING FUNCTION\n",
      "[eva:summary] ====== ANALYSIS SUMMARY ======\n",
      "  ----------------------------------------------------------------------------\n",
      "  1 function analyzed (out of 1): 100% coverage.\n",
      "  In this function, 1 statements reached (out of 4): 25% coverage.\n",
      "  ----------------------------------------------------------------------------\n",
      "  No errors or warnings raised during the analysis.\n",
      "  ----------------------------------------------------------------------------\n",
      "  1 alarm generated by the analysis:\n",
      "       1 access to uninitialized left-values\n",
      "  1 of them is a sure alarm (invalid status).\n",
      "  ----------------------------------------------------------------------------\n",
      "  No logical properties have been reached by the analysis.\n",
      "  ----------------------------------------------------------------------------\n"
     ]
    }
   ],
   "source": [
    "! frama-c -eva /tmp/ex1.c"
   ]
  },
  {
   "cell_type": "code",
   "execution_count": 4,
   "metadata": {},
   "outputs": [
    {
     "name": "stdout",
     "output_type": "stream",
     "text": [
      "[kernel] Parsing /tmp/frama1.c (with preprocessing)\n",
      "\u001b[K[rte:annot] annotating function main\n",
      "[kernel:annot:missing-spec] FRAMAC_SHARE/libc/stdio.h:211: Warning: \n",
      "  Neither code nor explicit exits and terminates for function printf_va_1,\n",
      "   generating default clauses. See -generated-spec-* options for more info\n",
      "\u001b[K[wp] 5 goals scheduledsage\n",
      "\u001b[K[wp] [Timeout] typed_main_call_printf_va_1_requires (Qed 6ms) (Alt-Ergo)\n",
      "[wp] Proved goals:    4 / 5\n",
      "  Qed:             4\n",
      "  Timeout:         1\n",
      "[wp:pedantic-assigns] /tmp/frama1.c:3: Warning: \n",
      "  No 'assigns' specification for function 'main'.\n",
      "  Callers assumptions might be imprecise.\n",
      "[wp] FRAMAC_SHARE/libc/stdio.h:211: Warning: \n",
      "  Memory model hypotheses for function 'printf_va_1':\n",
      "  /*@\n",
      "     behavior wp_typed:\n",
      "       requires \\separated(&__fc_stdout, &__fc_stdout->__fc_FILE_data);\n",
      "       requires \\separated(format + (..), &__fc_stdout);\n",
      "     */\n",
      "  int printf_va_1(char const * restrict format, int param0);\n"
     ]
    }
   ],
   "source": [
    "! frama-c -wp -wp-rte /tmp/frama1.c"
   ]
  },
  {
   "cell_type": "markdown",
   "metadata": {},
   "source": [
    "eva is a value analysis? "
   ]
  },
  {
   "cell_type": "code",
   "execution_count": 2,
   "metadata": {},
   "outputs": [
    {
     "name": "stdout",
     "output_type": "stream",
     "text": [
      "Alias Analysis      Lightweight May-Alias Analysis (experimental) (-alias-h)\n",
      "Aorai               verification of behavioral properties (experimental)\n",
      "                    (-aorai-h)\n",
      "Callgraph           automatically compute the callgraph of the program. Using\n",
      "                    Eva might improve the precision of this plug-in (-cg-h)\n",
      "Dive                An interactive imprecision graph generator for Eva.\n",
      "                    (-dive-h)\n",
      "Dominators          Compute postdominators of statements (-dominators-h)\n",
      "E-ACSL              Executable ANSI/ISO C Specification Language --- runtime\n",
      "                    assertion checker generator (-e-acsl-h)\n",
      "Eva                 automatically computes variation domains for the\n",
      "                    variables of the program (-eva-h)\n",
      "From analysis       functional dependencies (-from-h)\n",
      "Impact              impact analysis (-impact-h)\n",
      "Inout               operational, imperative and all kinds of inputs/outputs\n",
      "                    (-inout-h)\n",
      "Instantiate         Overrides standard library functions (-instantiate-h)\n",
      "Loop                Find maximum number of iterations in loops (-loop-h)\n",
      "Markdown report     generates a report in markdown format (-mdr-h)\n",
      "Metrics             syntactic metrics (-metrics-h)\n",
      "Nonterm             Warns when definitively non-terminating functions/loops\n",
      "                    are detected (e.g. reachable functions with unreachable\n",
      "                    returns). (-nonterm-h)\n",
      "Obfuscator          obfuscator for confidential code (-obfuscator-h)\n",
      "Occurrence          automatically computes where variables are used\n",
      "                    (-occurrence-h)\n",
      "Pdg                 Program Dependence Graph (-pdg-h)\n",
      "Postdominators      computing postdominators of statements\n",
      "                    (-postdominators-h)\n",
      "Reduction           Generate ACSL annotations from Eva information (-reduc-h)\n",
      "Report              Properties Status Report (-report-h)\n",
      "Rtegen              generates annotations for runtime error checking (-rte-h)\n",
      "Scope               data dependencies higher level functions (-scope-h)\n",
      "Security-slicing    security slicing (experimental, undocumented)\n",
      "                    (-security-slicing-h)\n",
      "Semantic constant folding  propagates constants semantically (-scf-h)\n",
      "Server              Frama-C Request Server (experimental) (-server-h)\n",
      "Server TypeScript API  Generate TypeScript API for Server (-server-tsc-h)\n",
      "Slicing             code slicer (-slicing-h)\n",
      "Sparecode           code cleaner (-sparecode-h)\n",
      "Studia              Tools for Eva case studies (-studia-h)\n",
      "Users               function callees (-users-h)\n",
      "Variadic            Variadic functions translation (-variadic-h)\n",
      "WP                  Proof by Weakest Precondition Calculus (-wp-h)\n"
     ]
    }
   ],
   "source": [
    "! frama-c -plugins"
   ]
  }
 ],
 "metadata": {
  "kernelspec": {
   "display_name": "Python 3",
   "language": "python",
   "name": "python3"
  },
  "language_info": {
   "codemirror_mode": {
    "name": "ipython",
    "version": 3
   },
   "file_extension": ".py",
   "mimetype": "text/x-python",
   "name": "python",
   "nbconvert_exporter": "python",
   "pygments_lexer": "ipython3",
   "version": "3.10.12"
  }
 },
 "nbformat": 4,
 "nbformat_minor": 2
}
