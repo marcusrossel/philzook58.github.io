{
 "cells": [
  {
   "cell_type": "markdown",
   "metadata": {},
   "source": [
    "---\n",
    "title: DWARF Verification via Ghidra and CBMC\n",
    "---\n",
    "\n",
    "DWARF is debug data. It is [under appreciated](https://www.philipzucker.com/dwarf-patching/).\n",
    "\n",
    "Debug data is a translation validation artifact. By design, it leaves breadcrumbs of how the low code connects to he high code.\n",
    "\n",
    "I've been working on a tool pcode2c which uses ghidra pcode lifting and generates a specialized C interpreter for that binary. In other words, static binary translation to C. This is not decompilation really, because I make zero effort to make readable idiomatic C, recover loops, recover types. All of that decreases the connection to the original binary.\n",
    "\n",
    "\n",
    "There are interesting papers on checking dwarf data. One approach is to compare `-O0` execution/debug data with higher optimization levels. Presumably `-O0` is the least likely to omit or incorrectly generate debug data.\n",
    "\n",
    "You could also run an assembly program in a debugger in sync with a C interpreter (like https://github.com/kframework/c-semantics  https://www.cl.cam.ac.uk/~pes20/cerberus/ https://www.reddit.com/r/ProgrammingLanguages/comments/hf441y/an_interpreter_for_c/ ). Set a breakpoint at every position the debug data should have an opinion\n",
    "\n",
    "These are all viable, but because of the particular hammer I've been forging, it makes sense to do this same process using CBMC, the C bounded model checker.\n",
    "\n",
    "One annoying thing is that DWARf annotates with repsect to syntactic positions. The line table can encode line and column information in the source, which is nice because it is highly generic with repsect to language, but obviously a bummer because it can be very unclear semantically what a particular synatctic position corresponds to.\n",
    "\n",
    "\n",
    "It is kind of cool though that also if I want to annotate the original source, it is in principle a very easy syntactic insertion. I've been writing a tool to do this but have lost steam on doing so, so I think it is best to just get the idea out the showing how this can be done manually.\n",
    "\n",
    "\n",
    "https://www.mimuw.edu.pl/~alx/konstruowanie/ACSL-by-Example.pdf\n",
    "\n",
    "\n"
   ]
  },
  {
   "cell_type": "code",
   "execution_count": 19,
   "metadata": {},
   "outputs": [
    {
     "name": "stdout",
     "output_type": "stream",
     "text": [
      "Overwriting /tmp/all_equal.c\n"
     ]
    }
   ],
   "source": [
    "%%file /tmp/all_equal.c\n",
    "#include <stdbool.h>\n",
    "#include <assert.h>\n",
    "bool equal(int n, int a[], int b[]){\n",
    "    for(int i = 0; i < n; i++){\n",
    "        if(a[i] != b[i]){\n",
    "            return false;\n",
    "        }\n",
    "    }\n",
    "    return true;\n",
    "}\n",
    "\n",
    "int main(){\n",
    "    int a[10]; // = {42}; //calloc(10*sizeof(int));\n",
    "    assert(equal(10, a, a));\n",
    "}\n"
   ]
  },
  {
   "cell_type": "code",
   "execution_count": 20,
   "metadata": {},
   "outputs": [],
   "source": [
    "!gcc -Og -g -Wall -Wextra -std=c11 /tmp/all_equal.c -o /tmp/all_equal"
   ]
  },
  {
   "cell_type": "code",
   "execution_count": 22,
   "metadata": {},
   "outputs": [
    {
     "name": "stdout",
     "output_type": "stream",
     "text": [
      "0000000000001169 <equal>:\n",
      "equal():\n",
      "/tmp/all_equal.c:3\n",
      "    1169:\tf3 0f 1e fa          \tendbr64 \n",
      "/tmp/all_equal.c:4\n",
      "    116d:\tb8 00 00 00 00       \tmov    $0x0,%eax\n",
      "    1172:\teb 03                \tjmp    1177 <equal+0xe>\n",
      "/tmp/all_equal.c:4 (discriminator 2)\n",
      "    1174:\t83 c0 01             \tadd    $0x1,%eax\n",
      "/tmp/all_equal.c:4 (discriminator 1)\n",
      "    1177:\t39 f8                \tcmp    %edi,%eax\n",
      "    1179:\t7d 13                \tjge    118e <equal+0x25>\n",
      "/tmp/all_equal.c:5\n",
      "    117b:\t48 63 c8             \tmovslq %eax,%rcx\n",
      "    117e:\t44 8b 04 8a          \tmov    (%rdx,%rcx,4),%r8d\n",
      "    1182:\t44 39 04 8e          \tcmp    %r8d,(%rsi,%rcx,4)\n",
      "    1186:\t74 ec                \tje     1174 <equal+0xb>\n",
      "/tmp/all_equal.c:6\n",
      "    1188:\tb8 00 00 00 00       \tmov    $0x0,%eax\n",
      "/tmp/all_equal.c:10\n",
      "    118d:\tc3                   \tret    \n"
     ]
    }
   ],
   "source": [
    "!objdump -l -d /tmp/all_equal | grep -A 20 '<equal>:'"
   ]
  },
  {
   "cell_type": "code",
   "execution_count": 16,
   "metadata": {},
   "outputs": [
    {
     "name": "stdout",
     "output_type": "stream",
     "text": [
      "CBMC version 5.95.1 (cbmc-5.95.1) 64-bit x86_64 linux\n",
      "Parsing /tmp/all_equal.c\n",
      "Converting\n",
      "Type-checking all_equal\n",
      "file /tmp/all_equal.c line 13 function main: function 'assert' is not declared\n",
      "Generating GOTO Program\n",
      "Adding CPROVER library (x86_64)\n",
      "Removal of function pointers and virtual functions\n",
      "Generic Property Instrumentation\n",
      "Running with 8 object bits, 56 offset bits (default)\n",
      "Starting Bounded Model Checking\n",
      "Unwinding loop equal.0 iteration 1 file /tmp/all_equal.c line 3 function equal thread 0\n",
      "Unwinding loop equal.0 iteration 2 file /tmp/all_equal.c line 3 function equal thread 0\n",
      "Unwinding loop equal.0 iteration 3 file /tmp/all_equal.c line 3 function equal thread 0\n",
      "Unwinding loop equal.0 iteration 4 file /tmp/all_equal.c line 3 function equal thread 0\n",
      "Unwinding loop equal.0 iteration 5 file /tmp/all_equal.c line 3 function equal thread 0\n",
      "Unwinding loop equal.0 iteration 6 file /tmp/all_equal.c line 3 function equal thread 0\n",
      "Unwinding loop equal.0 iteration 7 file /tmp/all_equal.c line 3 function equal thread 0\n",
      "Unwinding loop equal.0 iteration 8 file /tmp/all_equal.c line 3 function equal thread 0\n",
      "Unwinding loop equal.0 iteration 9 file /tmp/all_equal.c line 3 function equal thread 0\n",
      "Unwinding loop equal.0 iteration 10 file /tmp/all_equal.c line 3 function equal thread 0\n",
      "Runtime Symex: 0.00280368s\n",
      "size of program expression: 75 steps\n",
      "simple slicing removed 0 assignments\n",
      "Generated 121 VCC(s), 0 remaining after simplification\n",
      "Runtime Postprocess Equation: 1.1252e-05s\n",
      "\n",
      "** Results:\n",
      "/tmp/all_equal.c function equal\n",
      "\u001b[2m[equal.pointer_dereference.1] \u001b[0mline 4 dereference failure: pointer NULL in a[(signed long int)i]: \u001b[32mSUCCESS\u001b[0m\n",
      "\u001b[2m[equal.pointer_dereference.2] \u001b[0mline 4 dereference failure: pointer invalid in a[(signed long int)i]: \u001b[32mSUCCESS\u001b[0m\n",
      "\u001b[2m[equal.pointer_dereference.3] \u001b[0mline 4 dereference failure: deallocated dynamic object in a[(signed long int)i]: \u001b[32mSUCCESS\u001b[0m\n",
      "\u001b[2m[equal.pointer_dereference.4] \u001b[0mline 4 dereference failure: dead object in a[(signed long int)i]: \u001b[32mSUCCESS\u001b[0m\n",
      "\u001b[2m[equal.pointer_dereference.5] \u001b[0mline 4 dereference failure: pointer outside object bounds in a[(signed long int)i]: \u001b[32mSUCCESS\u001b[0m\n",
      "\u001b[2m[equal.pointer_dereference.6] \u001b[0mline 4 dereference failure: invalid integer address in a[(signed long int)i]: \u001b[32mSUCCESS\u001b[0m\n",
      "\u001b[2m[equal.pointer_dereference.7] \u001b[0mline 4 dereference failure: pointer NULL in b[(signed long int)i]: \u001b[32mSUCCESS\u001b[0m\n",
      "\u001b[2m[equal.pointer_dereference.8] \u001b[0mline 4 dereference failure: pointer invalid in b[(signed long int)i]: \u001b[32mSUCCESS\u001b[0m\n",
      "\u001b[2m[equal.pointer_dereference.9] \u001b[0mline 4 dereference failure: deallocated dynamic object in b[(signed long int)i]: \u001b[32mSUCCESS\u001b[0m\n",
      "\u001b[2m[equal.pointer_dereference.10] \u001b[0mline 4 dereference failure: dead object in b[(signed long int)i]: \u001b[32mSUCCESS\u001b[0m\n",
      "\u001b[2m[equal.pointer_dereference.11] \u001b[0mline 4 dereference failure: pointer outside object bounds in b[(signed long int)i]: \u001b[32mSUCCESS\u001b[0m\n",
      "\u001b[2m[equal.pointer_dereference.12] \u001b[0mline 4 dereference failure: invalid integer address in b[(signed long int)i]: \u001b[32mSUCCESS\u001b[0m\n",
      "\n",
      "/tmp/all_equal.c function main\n",
      "\u001b[2m[main.assertion.1] \u001b[0mline 13 assertion return_value_equal: \u001b[32mSUCCESS\u001b[0m\n",
      "\n",
      "** 0 of 13 failed (1 iterations)\n",
      "VERIFICATION SUCCESSFUL\n"
     ]
    }
   ],
   "source": [
    "! cbmc --unwinding-assertions --bounds-check --pointer-check /tmp/all_equal.c"
   ]
  },
  {
   "cell_type": "markdown",
   "metadata": {},
   "source": [
    "\n",
    "# PCode2C pt 2: DWARF Verification via Ghidra and CBMC\n",
    "\n",
    "Comparative verification is a really useful paradigm\n",
    "\n",
    "- Spec writing. It is easier for users to grok that you are compring two programs rather than bringing in a complicated logic.\n",
    "- Comper correctness\n",
    "\n",
    "My basic model of what a dwarf correctness property is is that it should be specifying optionally observable effects.\n",
    "\n",
    "`{impl_defined} -> State -> Option State`\n",
    "`{impl_defined} -> Interaction`\n",
    "`type Interaction = Out Value interaction | Input (Value -> interaction)`\n",
    "\n",
    "`type compiler = prog1 : HighCode -> (prog2 : LowCode, exec_high prog1 ~ exec_low prog2)`\n",
    "\n",
    "What is `~` though?\n",
    "Effects\n"
   ]
  }
 ],
 "metadata": {
  "kernelspec": {
   "display_name": "Python 3",
   "language": "python",
   "name": "python3"
  },
  "language_info": {
   "codemirror_mode": {
    "name": "ipython",
    "version": 3
   },
   "file_extension": ".py",
   "mimetype": "text/x-python",
   "name": "python",
   "nbconvert_exporter": "python",
   "pygments_lexer": "ipython3",
   "version": "3.10.12"
  }
 },
 "nbformat": 4,
 "nbformat_minor": 2
}
