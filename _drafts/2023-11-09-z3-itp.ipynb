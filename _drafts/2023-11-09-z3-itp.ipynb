{
 "cells": [
  {
   "cell_type": "markdown",
   "metadata": {},
   "source": [
    "\n",
    "Interactive theorem proving is cool.\n",
    "\n",
    "Automated theorem proving is really cool.\n",
    "\n",
    "It does happen though that you can get outside the ability of an automated theorem prover in one shot. It may need breadcrumbs or guidance along the way.\n",
    "But then you need some kind of scaffolding to organize these hints.\n",
    "\n",
    "I think this is an interesting design I don't see much.\n",
    "\n",
    "The basic premise is that we allow a single inference rule SUPERMODUS (TM) which uses an automated prover to discharge a big step of the proof. We get to manually select if we like the hypothesies it has access to.\n",
    "\n",
    "\n",
    "\n",
    "unsat core might be useful to prune the hypotheses for faster future proofs\n"
   ]
  },
  {
   "cell_type": "code",
   "execution_count": 2,
   "metadata": {},
   "outputs": [],
   "source": [
    "from typing import Any, Tuple, List\n",
    "from z3 import *\n",
    "Form = Any\n",
    "Thm = Tuple[int, Form]\n",
    "BoolRef.__and__ = lambda self, other: And(self, other)\n",
    "BoolRef.__or__ = lambda self, other: Or(self, other)\n",
    "BoolRef.__invert__ = lambda self: Not(self)\n",
    "BoolRef.__gt__ = lambda self, other: Implies(self, other) # maybe not worth it. It twists meaning too much\n",
    "def QForAll(vars, hyp, conc): # useful helper pattern\n",
    "    return ForAll(vars, Implies(hyp, conc))\n",
    "\n",
    "def check(thm : Thm):\n",
    "    hsh, form = thm\n",
    "    assert hsh == hash((\"secret\",form))\n",
    "\n",
    "# recording all known theorems makes certain big hammer autos possible.\n",
    "# thms = [] # or set()\n",
    "\n",
    "def trust(form : Form) -> Thm:\n",
    "    #thms.append(concthm)\n",
    "    return hash((\"secret\",form)), form\n",
    "\n",
    "def infer(hyps : List[Thm], conc : Form, timeout=1000) -> Thm:\n",
    "    s = Solver()\n",
    "    for hyp in hyps:\n",
    "        check(hyp)\n",
    "        s.add(hyp[1])\n",
    "    s.add(Not(conc))\n",
    "    s.set(\"timeout\", timeout)\n",
    "    res = s.check()\n",
    "    if res != z3.unsat:\n",
    "        print(s.sexpr())\n",
    "        if res == z3.sat:\n",
    "            print(s.model())\n",
    "        assert False,res\n",
    "\n",
    "    return trust(conc)\n",
    "\n",
    "def extend(hyps, x,y, P : Form, prefix=\"c\"):\n",
    "    infer(hyps, ForAll([x],Exists([y], P)))\n",
    "    f = FreshConst(ArraySort(x.sort(), y.sort()), prefix=prefix)\n",
    "    return f, trust(ForAll([x], P.substitute(y,f[y])))\n",
    "\n",
    "# A primitive definition mechanism. Maybe + Lambda this is good enough?\n",
    "def define(name, x):\n",
    "    f = FreshConst(x.sort(), prefix=name)\n",
    "    return f, trust(f == x)\n",
    "\n",
    "\n"
   ]
  },
  {
   "cell_type": "code",
   "execution_count": 14,
   "metadata": {},
   "outputs": [
    {
     "name": "stdout",
     "output_type": "stream",
     "text": [
      "(assert (not true))\n",
      "\n",
      "CompletedProcess(args=['vampire', '/tmp/temp.smt2', '--output_mode', 'smtcomp'], returncode=0, stdout=b'Running in auto input_syntax mode. Trying SMTLIB2\\nunsat\\n', stderr=b'')\n",
      "(assert (not false))\n",
      "\n",
      "CompletedProcess(args=['vampire', '/tmp/temp.smt2', '--output_mode', 'smtcomp'], returncode=0, stdout=b'Running in auto input_syntax mode. Trying SMTLIB2\\nsat\\n', stderr=b'')\n",
      "Running in auto input_syntax mode. Trying SMTLIB2\n",
      "sat\n",
      "\n"
     ]
    },
    {
     "ename": "AssertionError",
     "evalue": "",
     "output_type": "error",
     "traceback": [
      "\u001b[0;31m---------------------------------------------------------------------------\u001b[0m",
      "\u001b[0;31mAssertionError\u001b[0m                            Traceback (most recent call last)",
      "\u001b[1;32m/home/philip/Documents/philzook58.github.io/_drafts/2023-11-09-z3-itp.ipynb Cell 3\u001b[0m line \u001b[0;36m1\n\u001b[1;32m     <a href='vscode-notebook-cell:/home/philip/Documents/philzook58.github.io/_drafts/2023-11-09-z3-itp.ipynb#X54sZmlsZQ%3D%3D?line=15'>16</a>\u001b[0m     \u001b[39mreturn\u001b[39;00m trust(conc)\n\u001b[1;32m     <a href='vscode-notebook-cell:/home/philip/Documents/philzook58.github.io/_drafts/2023-11-09-z3-itp.ipynb#X54sZmlsZQ%3D%3D?line=17'>18</a>\u001b[0m infer_vampire([], BoolVal(\u001b[39mTrue\u001b[39;00m))\n\u001b[0;32m---> <a href='vscode-notebook-cell:/home/philip/Documents/philzook58.github.io/_drafts/2023-11-09-z3-itp.ipynb#X54sZmlsZQ%3D%3D?line=18'>19</a>\u001b[0m infer_vampire([], BoolVal(\u001b[39mFalse\u001b[39;00m))\n",
      "\u001b[1;32m/home/philip/Documents/philzook58.github.io/_drafts/2023-11-09-z3-itp.ipynb Cell 3\u001b[0m line \u001b[0;36m1\n\u001b[1;32m     <a href='vscode-notebook-cell:/home/philip/Documents/philzook58.github.io/_drafts/2023-11-09-z3-itp.ipynb#X54sZmlsZQ%3D%3D?line=12'>13</a>\u001b[0m \u001b[39mif\u001b[39;00m \u001b[39m\"\u001b[39m\u001b[39munsat\u001b[39m\u001b[39m\"\u001b[39m \u001b[39mnot\u001b[39;00m \u001b[39min\u001b[39;00m res\u001b[39m.\u001b[39mstdout\u001b[39m.\u001b[39mdecode(\u001b[39m\"\u001b[39m\u001b[39mutf-8\u001b[39m\u001b[39m\"\u001b[39m):\n\u001b[1;32m     <a href='vscode-notebook-cell:/home/philip/Documents/philzook58.github.io/_drafts/2023-11-09-z3-itp.ipynb#X54sZmlsZQ%3D%3D?line=13'>14</a>\u001b[0m     \u001b[39mprint\u001b[39m(res\u001b[39m.\u001b[39mstdout\u001b[39m.\u001b[39mdecode(\u001b[39m\"\u001b[39m\u001b[39mutf-8\u001b[39m\u001b[39m\"\u001b[39m))\n\u001b[0;32m---> <a href='vscode-notebook-cell:/home/philip/Documents/philzook58.github.io/_drafts/2023-11-09-z3-itp.ipynb#X54sZmlsZQ%3D%3D?line=14'>15</a>\u001b[0m     \u001b[39massert\u001b[39;00m \u001b[39mFalse\u001b[39;00m\n\u001b[1;32m     <a href='vscode-notebook-cell:/home/philip/Documents/philzook58.github.io/_drafts/2023-11-09-z3-itp.ipynb#X54sZmlsZQ%3D%3D?line=15'>16</a>\u001b[0m \u001b[39mreturn\u001b[39;00m trust(conc)\n",
      "\u001b[0;31mAssertionError\u001b[0m: "
     ]
    }
   ],
   "source": [
    "import subprocess\n",
    "def infer_vampire(hyps : List[Thm], conc : Form, timeout=1000) -> Thm:\n",
    "    s = Solver()\n",
    "    for hyp in hyps:\n",
    "        check(hyp)\n",
    "        s.add(hyp[1])\n",
    "    s.add(Not(conc))\n",
    "    with open(\"/tmp/temp.smt2\", \"w\") as f:\n",
    "        f.write(s.sexpr())\n",
    "    print(s.sexpr())\n",
    "    res = subprocess.run([\"vampire\", \"/tmp/temp.smt2\", \"--output_mode\", \"smtcomp\"], timeout=1.0, capture_output=True)\n",
    "    print(res)\n",
    "    if \"unsat\" not in res.stdout.decode(\"utf-8\"):\n",
    "        print(res.stdout.decode(\"utf-8\"))\n",
    "        assert False\n",
    "    return trust(conc)\n",
    "\n",
    "infer_vampire([], BoolVal(True))\n",
    "infer_vampire([], BoolVal(False))\n",
    "\n",
    "\n",
    "    \n"
   ]
  },
  {
   "cell_type": "code",
   "execution_count": null,
   "metadata": {},
   "outputs": [],
   "source": [
    "def expr2tptp(expr):\n",
    "    if isinstance(expr, BoolRef):\n",
    "        if expr.decl().kind() == Z3_OP_TRUE:\n",
    "            return \"$true\"\n",
    "        if expr.decl().kind() == Z3_OP_FALSE:\n",
    "            return \"$false\"\n",
    "        if expr.decl().kind() == Z3_OP_AND:\n",
    "            return \"({})\".format(\" & \".join([expr2tptp(x) for x in expr.children()]))\n",
    "        if expr.decl().kind() == Z3_OP_OR:\n",
    "            return \"({})\".format(\" | \".join([expr2tptp(x) for x in expr.children()]))\n",
    "        if expr.decl().kind() == Z3_OP_NOT:\n",
    "            return \"~({})\".format(expr2tptp(expr.children()[0]))\n",
    "        if expr.decl().kind() == Z3_OP_IMPLIES:\n",
    "            return \"({} => {})\".format(expr2tptp(expr.children()[0]), expr2tptp(expr.children()[1]))\n",
    "        if expr.decl().kind() == Z3_OP_EQ:\n",
    "            return \"({} = {})\".format(expr2tptp(expr.children()[0]), expr2tptp(expr.children()[1]))\n",
    "        if expr.decl().kind() == Z3_OP_DISTINCT:\n",
    "            return \"({} != {})\".format(expr2tptp(expr.children()[0]), expr2tptp(expr.children()[1]))\n",
    "        if expr.decl().kind() == Z3_OP_ITE:\n",
    "            return \"ite({}, {}, {})\".format(expr2tptp(expr.children()[0]), expr2tptp(expr.children()[1]), expr2tptp(expr.children()[2]))\n",
    "        if expr.decl().kind() == Z3_OP_LE:\n",
    "            return \"({} <= {})\".format(expr2tptp(expr.children()[0]), expr2tptp(expr.children()[1]))\n",
    "        if expr.decl().kind() == Z3_OP_GE:\n",
    "            return \"({} >= {})\".format(expr2tptp(expr.children()[0]), expr2tptp(expr.children()[1]))\n",
    "        if expr.decl().kind() == Z3_OP_LT:\n",
    "            return \"({} < {})\".format(expr2tptp(expr.children()[0]), expr2tptp(expr.children()[1]))\n",
    "        if expr.decl().kind() == Z3_OP_GT:\n",
    "            return \"({} > {})\".format(expr2tptp)\n",
    "        if expr.decl().kind() == Z3_OP_ADD:\n",
    "            return \"({} + {})\".format(expr2tptp(expr.children()[0]), expr2tptp(expr.children()[1]))\n",
    "        if expr.decl().kind() == Z3_OP_SUB:\n",
    "            return \"({} - {})\".format(expr2tptp(expr.children()[0]), expr2tptp(expr.children()[1]))\n",
    "        if expr.decl().kind() == Z3_OP_MUL:\n",
    "            return \"({} * {})\".format(expr2tptp(expr.children()[0]), expr2tptp(expr.children()[1]))\n",
    "        else:\n",
    "            assert False\n",
    "    else:\n",
    "        assert False"
   ]
  },
  {
   "cell_type": "code",
   "execution_count": 25,
   "metadata": {},
   "outputs": [
    {
     "ename": "TypeError",
     "evalue": "argument 'decl': 'str' object cannot be converted to 'FunctionDecl'",
     "output_type": "error",
     "traceback": [
      "\u001b[0;31m---------------------------------------------------------------------------\u001b[0m",
      "\u001b[0;31mTypeError\u001b[0m                                 Traceback (most recent call last)",
      "\u001b[1;32m/home/philip/Documents/philzook58.github.io/_drafts/2023-11-09-z3-itp.ipynb Cell 3\u001b[0m line \u001b[0;36m3\n\u001b[1;32m      <a href='vscode-notebook-cell:/home/philip/Documents/philzook58.github.io/_drafts/2023-11-09-z3-itp.ipynb#X40sZmlsZQ%3D%3D?line=0'>1</a>\u001b[0m \u001b[39mimport\u001b[39;00m \u001b[39megglog\u001b[39;00m\n\u001b[1;32m      <a href='vscode-notebook-cell:/home/philip/Documents/philzook58.github.io/_drafts/2023-11-09-z3-itp.ipynb#X40sZmlsZQ%3D%3D?line=1'>2</a>\u001b[0m egraph \u001b[39m=\u001b[39m egglog\u001b[39m.\u001b[39mEGraph()\n\u001b[0;32m----> <a href='vscode-notebook-cell:/home/philip/Documents/philzook58.github.io/_drafts/2023-11-09-z3-itp.ipynb#X40sZmlsZQ%3D%3D?line=2'>3</a>\u001b[0m egglog\u001b[39m.\u001b[39mbindings\u001b[39m.\u001b[39mFunction(\u001b[39m\"\u001b[39m\u001b[39mfoo\u001b[39m\u001b[39m\"\u001b[39m)\u001b[39m.\u001b[39mregister(egraph)\n",
      "\u001b[0;31mTypeError\u001b[0m: argument 'decl': 'str' object cannot be converted to 'FunctionDecl'"
     ]
    }
   ],
   "source": [
    "import egglog\n",
    "egraph = egglog.EGraph()\n",
    "egglog.bindings.Function(\"foo\").register(egraph)"
   ]
  },
  {
   "cell_type": "code",
   "execution_count": 41,
   "metadata": {},
   "outputs": [
    {
     "name": "stdout",
     "output_type": "stream",
     "text": [
      "Help on method function in module egglog.egraph:\n",
      "\n",
      "function(*args, **kwargs) -> 'Any' method of egglog.egraph.EGraph instance\n",
      "    Registers a function.\n",
      "\n"
     ]
    }
   ],
   "source": [
    "from egglog.bindings import *\n",
    "\n",
    "\n",
    "#egraph.register(Function(FunctionDecl(\"foo\", Schema([], \"i64\"))))\n",
    "#egraph.relation(\"foo\", \"i64\")\n",
    "help(egraph.function)\n"
   ]
  },
  {
   "cell_type": "markdown",
   "metadata": {},
   "source": [
    "# Tactics\n",
    "\n",
    "There are a number of derived rules. We can reuse z3's tactics. This is a bit of slight of hand."
   ]
  },
  {
   "cell_type": "code",
   "execution_count": 47,
   "metadata": {},
   "outputs": [
    {
     "name": "stdout",
     "output_type": "stream",
     "text": [
      "[[]]\n"
     ]
    },
    {
     "ename": "Z3Exception",
     "evalue": "True, False or Z3 Boolean expression expected. Received [[]] of type <class 'z3.z3.ApplyResult'>",
     "output_type": "error",
     "traceback": [
      "\u001b[0;31m---------------------------------------------------------------------------\u001b[0m",
      "\u001b[0;31mZ3Exception\u001b[0m                               Traceback (most recent call last)",
      "\u001b[1;32m/home/philip/Documents/philzook58.github.io/_drafts/2023-11-09-z3-itp.ipynb Cell 4\u001b[0m line \u001b[0;36m2\n\u001b[1;32m     <a href='vscode-notebook-cell:/home/philip/Documents/philzook58.github.io/_drafts/2023-11-09-z3-itp.ipynb#X15sZmlsZQ%3D%3D?line=23'>24</a>\u001b[0m     \u001b[39mprint\u001b[39m(conc)\n\u001b[1;32m     <a href='vscode-notebook-cell:/home/philip/Documents/philzook58.github.io/_drafts/2023-11-09-z3-itp.ipynb#X15sZmlsZQ%3D%3D?line=24'>25</a>\u001b[0m     \u001b[39mreturn\u001b[39;00m infer([thm], conc)\n\u001b[0;32m---> <a href='vscode-notebook-cell:/home/philip/Documents/philzook58.github.io/_drafts/2023-11-09-z3-itp.ipynb#X15sZmlsZQ%3D%3D?line=26'>27</a>\u001b[0m tactic(\u001b[39m\"\u001b[39m\u001b[39msimplify\u001b[39m\u001b[39m\"\u001b[39m, thm)\n",
      "\u001b[1;32m/home/philip/Documents/philzook58.github.io/_drafts/2023-11-09-z3-itp.ipynb Cell 4\u001b[0m line \u001b[0;36m2\n\u001b[1;32m     <a href='vscode-notebook-cell:/home/philip/Documents/philzook58.github.io/_drafts/2023-11-09-z3-itp.ipynb#X15sZmlsZQ%3D%3D?line=22'>23</a>\u001b[0m conc \u001b[39m=\u001b[39m z3\u001b[39m.\u001b[39mTactic(name)(g)\n\u001b[1;32m     <a href='vscode-notebook-cell:/home/philip/Documents/philzook58.github.io/_drafts/2023-11-09-z3-itp.ipynb#X15sZmlsZQ%3D%3D?line=23'>24</a>\u001b[0m \u001b[39mprint\u001b[39m(conc)\n\u001b[0;32m---> <a href='vscode-notebook-cell:/home/philip/Documents/philzook58.github.io/_drafts/2023-11-09-z3-itp.ipynb#X15sZmlsZQ%3D%3D?line=24'>25</a>\u001b[0m \u001b[39mreturn\u001b[39;00m infer([thm], conc)\n",
      "\u001b[1;32m/home/philip/Documents/philzook58.github.io/_drafts/2023-11-09-z3-itp.ipynb Cell 4\u001b[0m line \u001b[0;36m2\n\u001b[1;32m     <a href='vscode-notebook-cell:/home/philip/Documents/philzook58.github.io/_drafts/2023-11-09-z3-itp.ipynb#X15sZmlsZQ%3D%3D?line=19'>20</a>\u001b[0m     check(hyp)\n\u001b[1;32m     <a href='vscode-notebook-cell:/home/philip/Documents/philzook58.github.io/_drafts/2023-11-09-z3-itp.ipynb#X15sZmlsZQ%3D%3D?line=20'>21</a>\u001b[0m     s\u001b[39m.\u001b[39madd(hyp[\u001b[39m1\u001b[39m])\n\u001b[0;32m---> <a href='vscode-notebook-cell:/home/philip/Documents/philzook58.github.io/_drafts/2023-11-09-z3-itp.ipynb#X15sZmlsZQ%3D%3D?line=21'>22</a>\u001b[0m s\u001b[39m.\u001b[39madd(Not(conc))\n\u001b[1;32m     <a href='vscode-notebook-cell:/home/philip/Documents/philzook58.github.io/_drafts/2023-11-09-z3-itp.ipynb#X15sZmlsZQ%3D%3D?line=22'>23</a>\u001b[0m s\u001b[39m.\u001b[39mset(\u001b[39m\"\u001b[39m\u001b[39mtimeout\u001b[39m\u001b[39m\"\u001b[39m, timeout)\n\u001b[1;32m     <a href='vscode-notebook-cell:/home/philip/Documents/philzook58.github.io/_drafts/2023-11-09-z3-itp.ipynb#X15sZmlsZQ%3D%3D?line=23'>24</a>\u001b[0m res \u001b[39m=\u001b[39m s\u001b[39m.\u001b[39mcheck()\n",
      "File \u001b[0;32m~/.local/lib/python3.10/site-packages/z3/z3.py:1826\u001b[0m, in \u001b[0;36mNot\u001b[0;34m(a, ctx)\u001b[0m\n\u001b[1;32m   1824\u001b[0m \u001b[39melse\u001b[39;00m:\n\u001b[1;32m   1825\u001b[0m     s \u001b[39m=\u001b[39m BoolSort(ctx)\n\u001b[0;32m-> 1826\u001b[0m     a \u001b[39m=\u001b[39m s\u001b[39m.\u001b[39;49mcast(a)\n\u001b[1;32m   1827\u001b[0m     \u001b[39mreturn\u001b[39;00m BoolRef(Z3_mk_not(ctx\u001b[39m.\u001b[39mref(), a\u001b[39m.\u001b[39mas_ast()), ctx)\n",
      "File \u001b[0;32m~/.local/lib/python3.10/site-packages/z3/z3.py:1531\u001b[0m, in \u001b[0;36mBoolSortRef.cast\u001b[0;34m(self, val)\u001b[0m\n\u001b[1;32m   1529\u001b[0m \u001b[39mif\u001b[39;00m \u001b[39mnot\u001b[39;00m is_expr(val):\n\u001b[1;32m   1530\u001b[0m     msg \u001b[39m=\u001b[39m \u001b[39m\"\u001b[39m\u001b[39mTrue, False or Z3 Boolean expression expected. Received \u001b[39m\u001b[39m%s\u001b[39;00m\u001b[39m of type \u001b[39m\u001b[39m%s\u001b[39;00m\u001b[39m\"\u001b[39m\n\u001b[0;32m-> 1531\u001b[0m     _z3_assert(is_expr(val), msg \u001b[39m%\u001b[39;49m (val, \u001b[39mtype\u001b[39;49m(val)))\n\u001b[1;32m   1532\u001b[0m \u001b[39mif\u001b[39;00m \u001b[39mnot\u001b[39;00m \u001b[39mself\u001b[39m\u001b[39m.\u001b[39meq(val\u001b[39m.\u001b[39msort()):\n\u001b[1;32m   1533\u001b[0m     _z3_assert(\u001b[39mself\u001b[39m\u001b[39m.\u001b[39meq(val\u001b[39m.\u001b[39msort()), \u001b[39m\"\u001b[39m\u001b[39mValue cannot be converted into a Z3 Boolean value\u001b[39m\u001b[39m\"\u001b[39m)\n",
      "File \u001b[0;32m~/.local/lib/python3.10/site-packages/z3/z3.py:107\u001b[0m, in \u001b[0;36m_z3_assert\u001b[0;34m(cond, msg)\u001b[0m\n\u001b[1;32m    105\u001b[0m \u001b[39mdef\u001b[39;00m \u001b[39m_z3_assert\u001b[39m(cond, msg):\n\u001b[1;32m    106\u001b[0m     \u001b[39mif\u001b[39;00m \u001b[39mnot\u001b[39;00m cond:\n\u001b[0;32m--> 107\u001b[0m         \u001b[39mraise\u001b[39;00m Z3Exception(msg)\n",
      "\u001b[0;31mZ3Exception\u001b[0m: True, False or Z3 Boolean expression expected. Received [[]] of type <class 'z3.z3.ApplyResult'>"
     ]
    }
   ],
   "source": [
    "def exI(x, P : Thm) -> Thm:\n",
    "    return infer([P], Exists([x], P[1]))\n",
    "\n",
    "A = DeclareSort(\"A\")\n",
    "a = Const(\"a\", A)\n",
    "P = Function(\"P\", A, BoolSort())\n",
    "ax = trust(P(a))\n",
    "exI(a, ax)\n",
    "\n",
    "\n",
    "# maybe\n",
    "def simp(thm : Thm):\n",
    "    check(thm)\n",
    "    return infer([thm],z3.simplify(thm[1]))\n",
    "\n",
    "x = Int(\"x\")\n",
    "thm = infer([], x + 0 == x)\n",
    "simp(thm)\n",
    "\n",
    "# other tactics\n",
    "def tactic(name, thm):\n",
    "    g = Goal(thm[1])\n",
    "    conc = z3.Tactic(name)(g)\n",
    "    print(conc)\n",
    "    return infer([thm], conc)\n",
    "\n",
    "tactic(\"simplify\", thm)\n",
    "    \n"
   ]
  },
  {
   "cell_type": "code",
   "execution_count": 46,
   "metadata": {},
   "outputs": [
    {
     "data": {
      "text/plain": [
       "['ackermannize_bv',\n",
       " 'subpaving',\n",
       " 'horn',\n",
       " 'horn-simplify',\n",
       " 'nlsat',\n",
       " 'qfnra-nlsat',\n",
       " 'qe-light',\n",
       " 'nlqsat',\n",
       " 'qe',\n",
       " 'qsat',\n",
       " 'qe2',\n",
       " 'qe_rec',\n",
       " 'psat',\n",
       " 'sat',\n",
       " 'sat-preprocess',\n",
       " 'ctx-solver-simplify',\n",
       " 'psmt',\n",
       " 'unit-subsume-simplify',\n",
       " 'aig',\n",
       " 'add-bounds',\n",
       " 'card2bv',\n",
       " 'degree-shift',\n",
       " 'diff-neq',\n",
       " 'eq2bv',\n",
       " 'factor',\n",
       " 'fix-dl-var',\n",
       " 'fm',\n",
       " 'lia2card',\n",
       " 'lia2pb',\n",
       " 'nla2bv',\n",
       " 'normalize-bounds',\n",
       " 'pb2bv',\n",
       " 'propagate-ineqs',\n",
       " 'purify-arith',\n",
       " 'recover-01',\n",
       " 'bit-blast',\n",
       " 'bv1-blast',\n",
       " 'bv_bound_chk',\n",
       " 'propagate-bv-bounds',\n",
       " 'propagate-bv-bounds2',\n",
       " 'reduce-bv-size',\n",
       " 'bv-slice',\n",
       " 'bvarray2uf',\n",
       " 'dt2bv',\n",
       " 'elim-small-bv',\n",
       " 'max-bv-sharing',\n",
       " 'blast-term-ite',\n",
       " 'cofactor-term-ite',\n",
       " 'collect-statistics',\n",
       " 'ctx-simplify',\n",
       " 'demodulator',\n",
       " 'der',\n",
       " 'distribute-forall',\n",
       " 'dom-simplify',\n",
       " 'elim-term-ite',\n",
       " 'elim-uncnstr2',\n",
       " 'elim-uncnstr',\n",
       " 'elim-predicates',\n",
       " 'euf-completion',\n",
       " 'injectivity',\n",
       " 'snf',\n",
       " 'nnf',\n",
       " 'occf',\n",
       " 'pb-preprocess',\n",
       " 'propagate-values2',\n",
       " 'propagate-values',\n",
       " 'reduce-args',\n",
       " 'reduce-args2',\n",
       " 'simplify',\n",
       " 'elim-and',\n",
       " 'solve-eqs',\n",
       " 'special-relations',\n",
       " 'split-clause',\n",
       " 'symmetry-reduce',\n",
       " 'tseitin-cnf',\n",
       " 'tseitin-cnf-core',\n",
       " 'qffd',\n",
       " 'pqffd',\n",
       " 'smtfd',\n",
       " 'fpa2bv',\n",
       " 'qffp',\n",
       " 'qffpbv',\n",
       " 'qffplra',\n",
       " 'default',\n",
       " 'solver-subsumption',\n",
       " 'qfbv-sls',\n",
       " 'nra',\n",
       " 'qfaufbv',\n",
       " 'qfauflia',\n",
       " 'qfbv',\n",
       " 'qfidl',\n",
       " 'qflia',\n",
       " 'qflra',\n",
       " 'qfnia',\n",
       " 'qfnra',\n",
       " 'qfuf',\n",
       " 'qfufbv',\n",
       " 'qfufbv_ackr',\n",
       " 'ufnia',\n",
       " 'uflra',\n",
       " 'auflia',\n",
       " 'auflira',\n",
       " 'aufnira',\n",
       " 'lra',\n",
       " 'lia',\n",
       " 'lira',\n",
       " 'smt',\n",
       " 'skip',\n",
       " 'fail',\n",
       " 'fail-if-undecided',\n",
       " 'macro-finder',\n",
       " 'quasi-macros',\n",
       " 'ufbv-rewriter',\n",
       " 'bv',\n",
       " 'ufbv']"
      ]
     },
     "execution_count": 46,
     "metadata": {},
     "output_type": "execute_result"
    }
   ],
   "source": [
    "z3.tactics()"
   ]
  },
  {
   "cell_type": "code",
   "execution_count": 43,
   "metadata": {},
   "outputs": [
    {
     "name": "stdout",
     "output_type": "stream",
     "text": [
      "Implies(And(x, x), Or(Not(x), x))\n",
      "Array(String, String)\n",
      "String\n",
      "String\n",
      "['__bool__', '__class__', '__copy__', '__deepcopy__', '__del__', '__delattr__', '__dict__', '__dir__', '__doc__', '__eq__', '__format__', '__ge__', '__getattribute__', '__gt__', '__hash__', '__init__', '__init_subclass__', '__le__', '__lt__', '__module__', '__ne__', '__new__', '__nonzero__', '__reduce__', '__reduce_ex__', '__repr__', '__setattr__', '__sizeof__', '__str__', '__subclasshook__', '__weakref__', '_repr_html_', 'as_ast', 'ast', 'cast', 'ctx', 'ctx_ref', 'domain', 'domain_n', 'eq', 'get_id', 'hash', 'kind', 'name', 'range', 'sexpr', 'subsort', 'translate', 'use_pp']\n"
     ]
    },
    {
     "data": {
      "text/plain": [
       "'Array'"
      ]
     },
     "execution_count": 43,
     "metadata": {},
     "output_type": "execute_result"
    }
   ],
   "source": [
    "x = Bool(\"x\")\n",
    "print( x & x > ~x | x)\n",
    "x = Array(\"x\", StringSort(), StringSort())\n",
    "print(x.sort())\n",
    "print(x.sort().domain())\n",
    "print(x.sort().range())\n",
    "print(dir(x.sort()))\n",
    "x.sort().name()"
   ]
  },
  {
   "cell_type": "code",
   "execution_count": null,
   "metadata": {},
   "outputs": [],
   "source": [
    "class Backward():\n",
    "    def __init__(self, goal):\n",
    "        self.goal = infer([], goal > goal)\n",
    "    def intros(self):\n",
    "        pass\n",
    "class Forward(): #Isar\n",
    "    def __init__(self, goal):\n",
    "        self.goal = goal\n",
    "        self.lemmas = []\n",
    "        self.vars = []\n",
    "        self.hyps = []\n",
    "    def intro(self,vars):\n",
    "        self.vars.extend(vars)\n",
    "        return self\n",
    "    def assume(self, hyps):\n",
    "        self.hyps.extend(hyps)\n",
    "        return self\n",
    "    def wrap(self, form):\n",
    "        return ForAll(self.vars, Implies(And(self.hyps), form))\n",
    "    def have(self, conc, by=[]):\n",
    "        self.lemmas.append(infer(by + self.lemmas, conc))\n",
    "        return self\n",
    "    def qed(self):\n",
    "        return infer(self.lemmas, self.goals)\n",
    "    \n",
    "class Calc():\n",
    "    def __init__(self, lhs, rhs):\n",
    "        self.lhs = [lhs]\n",
    "        self.lhsthm = infer([], lhs == lhs)\n",
    "        self.rhs = [rhs]\n",
    "    def then(self, rhs, by=[]): # step? rw?\n",
    "        self.thm = infer(by + [self.lhsthm], self.rhs == rhs)\n",
    "    def simp():\n",
    "\n",
    "\n"
   ]
  },
  {
   "cell_type": "markdown",
   "metadata": {},
   "source": [
    "# Peano Arithmetic\n"
   ]
  },
  {
   "cell_type": "code",
   "execution_count": 27,
   "metadata": {},
   "outputs": [
    {
     "name": "stdout",
     "output_type": "stream",
     "text": [
      "succ(zero)\n",
      "Array(Nat, Bool)\n",
      "Array(Nat, Bool)\n",
      "Array(Nat, Bool)\n",
      "Array(Nat, Bool)\n"
     ]
    },
    {
     "data": {
      "text/plain": [
       "(7898931013983239133, ForAll([x, y], add(x, y) == add(y, x)))"
      ]
     },
     "execution_count": 27,
     "metadata": {},
     "output_type": "execute_result"
    }
   ],
   "source": [
    "# Z3py adt of natural numbers\n",
    "Nat = Datatype(\"Nat\")\n",
    "Nat.declare(\"zero\")\n",
    "Nat.declare(\"succ\", (\"pred\", Nat))\n",
    "Nat = Nat.create()\n",
    "print(Nat.succ(Nat.zero))\n",
    "\n",
    "# Peano\n",
    "def induct(P : Form) -> Thm:\n",
    "    print(P.sort())\n",
    "    assert P.sort().name() == \"Array\"\n",
    "    assert P.sort().domain() == Nat\n",
    "    assert P.sort().range() == BoolSort()\n",
    "    n = FreshConst(Nat)\n",
    "    hyp = P[Nat.zero] & ForAll([n], P[n] > P[Nat.succ(n)])\n",
    "    #------------------------------------------\n",
    "    conc =  ForAll([n], P[n])\n",
    "    return trust(hyp > conc)\n",
    "\n",
    "x,y = Consts(\"x y\", Nat)\n",
    "add = Function(\"add\", Nat, Nat, Nat)\n",
    "zero_add = trust(ForAll([x], add(Nat.zero, x) == x))\n",
    "succ_add = trust(ForAll([x,y], add(Nat.succ(x), y) == Nat.succ(add(x, y))))\n",
    "\n",
    "P = Lambda([x], add(x,Nat.zero) == add(Nat.zero,x))\n",
    "\n",
    "base = modus([], P[Nat.zero])\n",
    "ind = modus([zero_add, succ_add], ForAll([x], P[x] > P[Nat.succ(x)]))\n",
    "add_zero = modus([base,ind,induct(P)], ForAll([x], P[x]))\n",
    "add_zero_prime = modus([zero_add, succ_add, induct(P)], ForAll([x], P[x]))\n",
    "\n",
    "\n",
    "P = Lambda([x], ForAll([y], add(x,Nat.succ(y)) == Nat.succ(add(x,y))))\n",
    "add_succ = modus([zero_add,succ_add, induct(P)], ForAll([x],P[x]))\n",
    "comm_add = modus([zero_add, succ_add, add_zero, add_succ, induct(Lambda([x], ForAll([y], add(x,y) == add(y,x))))] ,\n",
    "                  ForAll([x,y], add(x, y) == add(y, x)))\n",
    "\n",
    "comm_add\n"
   ]
  },
  {
   "cell_type": "code",
   "execution_count": null,
   "metadata": {},
   "outputs": [],
   "source": [
    "def induct_int(P : Form) -> Thm:\n",
    "    assert P.sort().name() == \"Array\"\n",
    "    assert P.sort().domain() == IntSort()\n",
    "    assert P.sort().range() == BoolSort()\n",
    "    n = FreshConst(IntSort())\n",
    "    hyp = P[0] & ForAll([n], P[n] > P[n - 1] & P[n + 1])\n",
    "    #------------------------------------------\n",
    "    conc =  ForAll([n], P[n])\n",
    "    return trust(hyp > conc)\n",
    "# https://math.stackexchange.com/questions/2659184/can-induction-be-done-to-prove-statements-for-integers\n",
    "\n",
    "\n",
    "def induct_posint(P : Form) -> Thm:\n",
    "    assert P.sort().name() == \"Array\"\n",
    "    assert P.sort().domain() == IntSort()\n",
    "    assert P.sort().range() == BoolSort()\n",
    "    n = FreshConst(IntSort())\n",
    "    hyp = P[0] & ForAll([n], (P[n] & n >= 0) > P[n + 1])\n",
    "    #------------------------------------------\n",
    "    conc =  ForAll([n], (n >= 0) > P[n])\n",
    "    return trust(hyp > conc)\n",
    "# extending with injection axioms into the Ints\n",
    "\n",
    "def induct(P):\n",
    "  # assert P.type == Nat -> Bool ?\n",
    "  n = FreshConst(Nat)\n",
    "  return ForAll(n, Implies(P(Nat.zero), Forall(n, Implies(P(n), P(Nat.succ(n))))), Forall(n, P(n)))\n",
    "\n",
    "inj = Function(\"inj\", Nat, IntSort())\n",
    "n = FreshConst(Nat)\n",
    "axioms = [\n",
    "  inj(Nat.zero) == 0,\n",
    "  ForAll(n, inj(Nat.succ(n)) == inj(n) + 1) # recursive definition of inj\n",
    "]\n",
    "\n",
    "theorem1 = ForAll(n, inj(n) >= 0)\n",
    "theorem2 = ForAll(i, Implies(i >= 0, Exist(n, inj(n) == i)))\n",
    "P = lambda x: "
   ]
  },
  {
   "cell_type": "code",
   "execution_count": 105,
   "metadata": {},
   "outputs": [
    {
     "name": "stdout",
     "output_type": "stream",
     "text": [
      "(declare-fun even!34169 () (Array Int Bool))\n",
      "(declare-fun odd!34170 () (Array Int Bool))\n",
      "(assert (not (forall ((n Int))\n",
      "       (let ((a!1 (exists ((y Int)) (= n (+ 1 (* 2 y)))))\n",
      "             (a!2 (exists ((y Int)) (= n (+ (- 1) (* 2 y))))))\n",
      "         (= a!1 a!2)))))\n",
      "(model-add even!34169\n",
      "           ()\n",
      "           (Array Int Bool)\n",
      "           (lambda ((x Int)) (exists ((y Int)) (= x (* 2 y)))))\n",
      "(model-add odd!34170\n",
      "           ()\n",
      "           (Array Int Bool)\n",
      "           (lambda ((x Int)) (exists ((y Int)) (= x (+ 1 (* 2 y))))))\n",
      "\n"
     ]
    },
    {
     "ename": "AssertionError",
     "evalue": "unknown",
     "output_type": "error",
     "traceback": [
      "\u001b[0;31m---------------------------------------------------------------------------\u001b[0m",
      "\u001b[0;31mAssertionError\u001b[0m                            Traceback (most recent call last)",
      "\u001b[1;32m/home/philip/Documents/philzook58.github.io/_drafts/2023-11-09-z3-itp.ipynb Cell 13\u001b[0m line \u001b[0;36m8\n\u001b[1;32m      <a href='vscode-notebook-cell:/home/philip/Documents/philzook58.github.io/_drafts/2023-11-09-z3-itp.ipynb#X53sZmlsZQ%3D%3D?line=5'>6</a>\u001b[0m ind \u001b[39m=\u001b[39m infer([even_def,odd_def], QForAll([n], even[n], odd[n\u001b[39m+\u001b[39m\u001b[39m1\u001b[39m]))\n\u001b[1;32m      <a href='vscode-notebook-cell:/home/philip/Documents/philzook58.github.io/_drafts/2023-11-09-z3-itp.ipynb#X53sZmlsZQ%3D%3D?line=6'>7</a>\u001b[0m ind1 \u001b[39m=\u001b[39m infer([even_def,odd_def], ForAll([n], even[n] \u001b[39m==\u001b[39m odd[n\u001b[39m+\u001b[39m\u001b[39m1\u001b[39m]))\n\u001b[0;32m----> <a href='vscode-notebook-cell:/home/philip/Documents/philzook58.github.io/_drafts/2023-11-09-z3-itp.ipynb#X53sZmlsZQ%3D%3D?line=7'>8</a>\u001b[0m ind2 \u001b[39m=\u001b[39m infer([even_def,odd_def], ForAll([n], odd[n] \u001b[39m==\u001b[39m even[n\u001b[39m+\u001b[39m\u001b[39m1\u001b[39m]))\n",
      "\u001b[1;32m/home/philip/Documents/philzook58.github.io/_drafts/2023-11-09-z3-itp.ipynb Cell 13\u001b[0m line \u001b[0;36m3\n\u001b[1;32m     <a href='vscode-notebook-cell:/home/philip/Documents/philzook58.github.io/_drafts/2023-11-09-z3-itp.ipynb#X53sZmlsZQ%3D%3D?line=32'>33</a>\u001b[0m     \u001b[39mif\u001b[39;00m res \u001b[39m==\u001b[39m z3\u001b[39m.\u001b[39msat:\n\u001b[1;32m     <a href='vscode-notebook-cell:/home/philip/Documents/philzook58.github.io/_drafts/2023-11-09-z3-itp.ipynb#X53sZmlsZQ%3D%3D?line=33'>34</a>\u001b[0m         \u001b[39mprint\u001b[39m(s\u001b[39m.\u001b[39mmodel())\n\u001b[0;32m---> <a href='vscode-notebook-cell:/home/philip/Documents/philzook58.github.io/_drafts/2023-11-09-z3-itp.ipynb#X53sZmlsZQ%3D%3D?line=34'>35</a>\u001b[0m     \u001b[39massert\u001b[39;00m \u001b[39mFalse\u001b[39;00m,res\n\u001b[1;32m     <a href='vscode-notebook-cell:/home/philip/Documents/philzook58.github.io/_drafts/2023-11-09-z3-itp.ipynb#X53sZmlsZQ%3D%3D?line=36'>37</a>\u001b[0m \u001b[39mreturn\u001b[39;00m trust(conc)\n",
      "\u001b[0;31mAssertionError\u001b[0m: unknown"
     ]
    }
   ],
   "source": [
    "x,y,n = Ints(\"x y n\")\n",
    "even, even_def = define(\"even\", Lambda([x], Exists([y], x == y + y)))\n",
    "odd, odd_def = define(\"odd\", Lambda([x], Exists([y], x == y + y + 1)))\n",
    "\n",
    "even0 = infer([even_def], even[0])\n",
    "#ind = infer([even_def,odd_def], QForAll([n], even[n], odd[n+1]))\n",
    "ind1 = infer([even_def,odd_def], ForAll([n], even[n] == odd[n+1]))\n",
    "ind2 = infer([even_def,odd_def], ForAll([n], odd[n] == even[n+1]))\n",
    "#ind = infer([even_def,odd_def, ind], QForAll([n], odd[n-1], even[n]))\n",
    "#ind2 = infer([even_def,odd_def], QForAll([n], odd[n], Exists([y], n + 1 == (y + 1) + (y + 1))))\n",
    "#ind3 = infer([even_def, odd_def, ind2], QForAll([n], odd[n], Exists([y], n + 1 == y + y)))\n",
    "#even_or_odd = infer([even_def, odd_def], ForAll([n], even[n] | odd[n]))\n"
   ]
  },
  {
   "cell_type": "code",
   "execution_count": 122,
   "metadata": {},
   "outputs": [
    {
     "data": {
      "text/plain": [
       "(7307754062043651385,\n",
       " ForAll(n,\n",
       "        Or(Select(even!36205, n, half!36207[n]),\n",
       "           Select(odd!36206, n, half!36207[n]))))"
      ]
     },
     "execution_count": 122,
     "metadata": {},
     "output_type": "execute_result"
    }
   ],
   "source": [
    "# proof relevant predicates. The evidence is unsealed\n",
    "# Can't really do a depndnt product / sum type easily.\n",
    "# fst(p)\n",
    "x,y,n,m = Ints(\"x y n m\")\n",
    "even_ev, even_ev_def = define(\"even\", Lambda([x,y], x == y + y))\n",
    "odd_ev, odd_ev_def = define(\"odd\", Lambda([x,y], x == y + y + 1))\n",
    "\n",
    "even0 = infer([even_ev_def], even_ev[0,0])\n",
    "ind1 = infer([even_ev_def,odd_ev_def], ForAll([n,m], even_ev[n,m] == odd_ev[n+1,m]))\n",
    "ind2 = infer([even_ev_def,odd_ev_def], ForAll([n,m], odd_ev[n,m] == even_ev[n+1,m+1]))\n",
    "\n",
    "#even_ev_remove = infer([even_ev_def], QForAll([n,m], Exists([m], even_ev[n,m])), even[n])\n",
    "# make definition the existential of even_ev\n",
    "# even, even_def = define(\"even\", Lambda([x], Exists([y], even_ev[x,y])))\n",
    "\n",
    "# sklolem version\n",
    "# Implies(even[n], even_ev[n,half[n]]\n",
    "# Implies(odd[n], odd_ev[n,half[n] + 1]\n",
    "half, half_def = define(\"half\", Lambda([x], x / 2))\n",
    "infer([half_def, even_ev_def, odd_ev_def], ForAll([n], even_ev[n, half[n]] | odd_ev[n, half[n]]))\n",
    "\n"
   ]
  },
  {
   "cell_type": "code",
   "execution_count": 119,
   "metadata": {},
   "outputs": [
    {
     "data": {
      "text/html": [
       "1"
      ],
      "text/plain": [
       "1"
      ]
     },
     "execution_count": 119,
     "metadata": {},
     "output_type": "execute_result"
    }
   ],
   "source": [
    "z3.simplify(IntVal(3) / 2)"
   ]
  },
  {
   "cell_type": "markdown",
   "metadata": {},
   "source": [
    "# Reals\n",
    "The z3 \"reals\" are more like algebraic numbers.\n",
    "We can add some kind of induction axiom.\n",
    "Or define CReal as a sequence $ \\bN -> bR $ that converges.\n",
    "\n",
    "There isn't much to talk about in analysis without discussing functions $\\bR -> \\bR$ or $\\bN -> \\bR$\n",
    "\n",
    "## Cosine Doesn't Exist\n",
    "The notion of completed infinities is problematic and shows up everywhere. Problems that are ultimately obviously solvable, albeit by massive enumeration are nice.\n",
    "\"defining\" cosine to be the 1000th term expansion mod 2 pi is pretty good.\n",
    "Metatheoretically, we can establish the connection to \"actual\" cosine if we like.\n",
    "Comparing float32 to float64 is a reasonable method for establishing accuracy estimates / convergence estimates.\n",
    "The weakness is that sometimes the 1000th term expansion is not an acceptable approxiamtion and we can only detect this metathoretically.\n",
    "The statement \"forall integers\" does seem like it is touching to close to completing the integers. Cody mentioned that there is a \"cut elimination\" property for induction that once you want to apply said theorem to an actual concrete integer, you can unwind the induction a finite number of steps.\n",
    "Z3 could solve this is 1 shot in principle. It is interesting to maybe stick to proof methods that are just guiding what should be doable in 1 shot.\n",
    "\n",
    "Z3 won't like variable pow.\n",
    "\n",
    "\n",
    "Simplest challenge problem\n",
    "lim(n->inf, 1/n) = 0\n",
    "\n"
   ]
  },
  {
   "cell_type": "code",
   "execution_count": 66,
   "metadata": {},
   "outputs": [
    {
     "ename": "Z3Exception",
     "evalue": "b'parser error'",
     "output_type": "error",
     "traceback": [
      "\u001b[0;31m---------------------------------------------------------------------------\u001b[0m",
      "\u001b[0;31mZ3Exception\u001b[0m                               Traceback (most recent call last)",
      "\u001b[1;32m/home/philip/Documents/philzook58.github.io/_drafts/2023-11-09-z3-itp.ipynb Cell 14\u001b[0m line \u001b[0;36m2\n\u001b[1;32m      <a href='vscode-notebook-cell:/home/philip/Documents/philzook58.github.io/_drafts/2023-11-09-z3-itp.ipynb#X50sZmlsZQ%3D%3D?line=0'>1</a>\u001b[0m exp \u001b[39m=\u001b[39m Array(\u001b[39m\"\u001b[39m\u001b[39mexp\u001b[39m\u001b[39m\"\u001b[39m, IntSort(), ArraySort(RealSort(), RealSort())) \u001b[39m# Array(\"cos\", RealSort(), IntSort(), RealSort()) # returns a CReal\u001b[39;00m\n\u001b[0;32m----> <a href='vscode-notebook-cell:/home/philip/Documents/philzook58.github.io/_drafts/2023-11-09-z3-itp.ipynb#X50sZmlsZQ%3D%3D?line=1'>2</a>\u001b[0m exp0def \u001b[39m=\u001b[39m ForAll([x],exp[\u001b[39m0\u001b[39m][x] \u001b[39m==\u001b[39m \u001b[39m1\u001b[39m)\n\u001b[1;32m      <a href='vscode-notebook-cell:/home/philip/Documents/philzook58.github.io/_drafts/2023-11-09-z3-itp.ipynb#X50sZmlsZQ%3D%3D?line=2'>3</a>\u001b[0m fact \u001b[39m=\u001b[39m \u001b[39mlambda\u001b[39;00m x: Real(x)\n\u001b[1;32m      <a href='vscode-notebook-cell:/home/philip/Documents/philzook58.github.io/_drafts/2023-11-09-z3-itp.ipynb#X50sZmlsZQ%3D%3D?line=3'>4</a>\u001b[0m expsuccdef \u001b[39m=\u001b[39m QForAll([n,x], n \u001b[39m>\u001b[39m \u001b[39m0\u001b[39m, exp[n][x] \u001b[39m==\u001b[39m x\u001b[39m*\u001b[39m\u001b[39m*\u001b[39mn \u001b[39m/\u001b[39m fact(n) \u001b[39m+\u001b[39m exp[n\u001b[39m-\u001b[39m\u001b[39m1\u001b[39m][x])\n",
      "File \u001b[0;32m~/.local/lib/python3.10/site-packages/z3/z3.py:4584\u001b[0m, in \u001b[0;36mArrayRef.__getitem__\u001b[0;34m(self, arg)\u001b[0m\n\u001b[1;32m   4574\u001b[0m \u001b[39mdef\u001b[39;00m \u001b[39m__getitem__\u001b[39m(\u001b[39mself\u001b[39m, arg):\n\u001b[1;32m   4575\u001b[0m \u001b[39m    \u001b[39m\u001b[39m\"\"\"Return the Z3 expression `self[arg]`.\u001b[39;00m\n\u001b[1;32m   4576\u001b[0m \n\u001b[1;32m   4577\u001b[0m \u001b[39m    >>> a = Array('a', IntSort(), BoolSort())\u001b[39;00m\n\u001b[0;32m   (...)\u001b[0m\n\u001b[1;32m   4582\u001b[0m \u001b[39m    '(select a i)'\u001b[39;00m\n\u001b[1;32m   4583\u001b[0m \u001b[39m    \"\"\"\u001b[39;00m\n\u001b[0;32m-> 4584\u001b[0m     \u001b[39mreturn\u001b[39;00m _array_select(\u001b[39mself\u001b[39;49m, arg)\n",
      "File \u001b[0;32m~/.local/lib/python3.10/site-packages/z3/z3.py:4595\u001b[0m, in \u001b[0;36m_array_select\u001b[0;34m(ar, arg)\u001b[0m\n\u001b[1;32m   4593\u001b[0m     _args, sz \u001b[39m=\u001b[39m _to_ast_array(args)\n\u001b[1;32m   4594\u001b[0m     \u001b[39mreturn\u001b[39;00m _to_expr_ref(Z3_mk_select_n(ar\u001b[39m.\u001b[39mctx_ref(), ar\u001b[39m.\u001b[39mas_ast(), sz, _args), ar\u001b[39m.\u001b[39mctx)\n\u001b[0;32m-> 4595\u001b[0m arg \u001b[39m=\u001b[39m ar\u001b[39m.\u001b[39;49msort()\u001b[39m.\u001b[39;49mdomain()\u001b[39m.\u001b[39;49mcast(arg)\n\u001b[1;32m   4596\u001b[0m \u001b[39mreturn\u001b[39;00m _to_expr_ref(Z3_mk_select(ar\u001b[39m.\u001b[39mctx_ref(), ar\u001b[39m.\u001b[39mas_ast(), arg\u001b[39m.\u001b[39mas_ast()), ar\u001b[39m.\u001b[39mctx)\n",
      "File \u001b[0;32m~/.local/lib/python3.10/site-packages/z3/z3.py:2354\u001b[0m, in \u001b[0;36mArithSortRef.cast\u001b[0;34m(self, val)\u001b[0m\n\u001b[1;32m   2352\u001b[0m     \u001b[39mreturn\u001b[39;00m IntVal(val, \u001b[39mself\u001b[39m\u001b[39m.\u001b[39mctx)\n\u001b[1;32m   2353\u001b[0m \u001b[39mif\u001b[39;00m \u001b[39mself\u001b[39m\u001b[39m.\u001b[39mis_real():\n\u001b[0;32m-> 2354\u001b[0m     \u001b[39mreturn\u001b[39;00m RealVal(val, \u001b[39mself\u001b[39;49m\u001b[39m.\u001b[39;49mctx)\n\u001b[1;32m   2355\u001b[0m \u001b[39mif\u001b[39;00m z3_debug():\n\u001b[1;32m   2356\u001b[0m     msg \u001b[39m=\u001b[39m \u001b[39m\"\u001b[39m\u001b[39mint, long, float, string (numeral), or Z3 Integer/Real expression expected. Got \u001b[39m\u001b[39m%s\u001b[39;00m\u001b[39m\"\u001b[39m\n",
      "File \u001b[0;32m~/.local/lib/python3.10/site-packages/z3/z3.py:3208\u001b[0m, in \u001b[0;36mRealVal\u001b[0;34m(val, ctx)\u001b[0m\n\u001b[1;32m   3193\u001b[0m \u001b[39m\u001b[39m\u001b[39m\"\"\"Return a Z3 real value.\u001b[39;00m\n\u001b[1;32m   3194\u001b[0m \n\u001b[1;32m   3195\u001b[0m \u001b[39m`val` may be a Python int, long, float or string representing a number in decimal or rational notation.\u001b[39;00m\n\u001b[0;32m   (...)\u001b[0m\n\u001b[1;32m   3205\u001b[0m \u001b[39m3/2\u001b[39;00m\n\u001b[1;32m   3206\u001b[0m \u001b[39m\"\"\"\u001b[39;00m\n\u001b[1;32m   3207\u001b[0m ctx \u001b[39m=\u001b[39m _get_ctx(ctx)\n\u001b[0;32m-> 3208\u001b[0m \u001b[39mreturn\u001b[39;00m RatNumRef(Z3_mk_numeral(ctx\u001b[39m.\u001b[39;49mref(), \u001b[39mstr\u001b[39;49m(val), RealSort(ctx)\u001b[39m.\u001b[39;49mast), ctx)\n",
      "File \u001b[0;32m~/.local/lib/python3.10/site-packages/z3/z3core.py:2302\u001b[0m, in \u001b[0;36mZ3_mk_numeral\u001b[0;34m(a0, a1, a2, _elems)\u001b[0m\n\u001b[1;32m   2300\u001b[0m \u001b[39mdef\u001b[39;00m \u001b[39mZ3_mk_numeral\u001b[39m(a0, a1, a2, _elems\u001b[39m=\u001b[39mElementaries(_lib\u001b[39m.\u001b[39mZ3_mk_numeral)):\n\u001b[1;32m   2301\u001b[0m   r \u001b[39m=\u001b[39m _elems\u001b[39m.\u001b[39mf(a0, _str_to_bytes(a1), a2)\n\u001b[0;32m-> 2302\u001b[0m   _elems\u001b[39m.\u001b[39;49mCheck(a0)\n\u001b[1;32m   2303\u001b[0m   \u001b[39mreturn\u001b[39;00m r\n",
      "File \u001b[0;32m~/.local/lib/python3.10/site-packages/z3/z3core.py:1505\u001b[0m, in \u001b[0;36mElementaries.Check\u001b[0;34m(self, ctx)\u001b[0m\n\u001b[1;32m   1503\u001b[0m err \u001b[39m=\u001b[39m \u001b[39mself\u001b[39m\u001b[39m.\u001b[39mget_error_code(ctx)\n\u001b[1;32m   1504\u001b[0m \u001b[39mif\u001b[39;00m err \u001b[39m!=\u001b[39m \u001b[39mself\u001b[39m\u001b[39m.\u001b[39mOK:\n\u001b[0;32m-> 1505\u001b[0m     \u001b[39mraise\u001b[39;00m \u001b[39mself\u001b[39m\u001b[39m.\u001b[39mException(\u001b[39mself\u001b[39m\u001b[39m.\u001b[39mget_error_message(ctx, err))\n",
      "\u001b[0;31mZ3Exception\u001b[0m: b'parser error'"
     ]
    }
   ],
   "source": [
    "exp = Array(\"exp\", IntSort(), ArraySort(RealSort(), RealSort())) # Array(\"cos\", RealSort(), IntSort(), RealSort()) # returns a CReal\n",
    "exp0def = ForAll([x],exp[0][x] == 1)\n",
    "fact = lambda x: Real(x)\n",
    "expsuccdef = QForAll([n,x], n > 0, exp[n][x] == x**n / fact(n) + exp[n-1][x]) # cosine is different on even odd. Yuck.\n",
    "\n",
    "# expansion example\n",
    "infer([exp_def], ForAll([x], exp[2][x] == 1 + x + x**2)) \n",
    "\n",
    "# comparative accuracy. Don't even fully expand\n",
    "diff = infer([exp_def], ForAll([x], exp[2][x] - exp[1][x] == x**2 ))\n",
    "infer([diff], QForAll([x], 0 <= x & x <= 1,  exp[2][x] - exp[1][x] <= 0.1))\n"
   ]
  },
  {
   "cell_type": "code",
   "execution_count": 20,
   "metadata": {},
   "outputs": [
    {
     "ename": "TypeError",
     "evalue": "'ArrayRef' object is not callable",
     "output_type": "error",
     "traceback": [
      "\u001b[0;31m---------------------------------------------------------------------------\u001b[0m",
      "\u001b[0;31mTypeError\u001b[0m                                 Traceback (most recent call last)",
      "\u001b[1;32m/home/philip/Documents/philzook58.github.io/_drafts/2023-11-09-z3-itp.ipynb Cell 20\u001b[0m line \u001b[0;36m9\n\u001b[1;32m      <a href='vscode-notebook-cell:/home/philip/Documents/philzook58.github.io/_drafts/2023-11-09-z3-itp.ipynb#X60sZmlsZQ%3D%3D?line=4'>5</a>\u001b[0m \u001b[39m#convergent = define(\"convergant\", Lambda([x], Exists([y], ForAll([n], x[n] == y))))\u001b[39;00m\n\u001b[1;32m      <a href='vscode-notebook-cell:/home/philip/Documents/philzook58.github.io/_drafts/2023-11-09-z3-itp.ipynb#X60sZmlsZQ%3D%3D?line=6'>7</a>\u001b[0m norm_bound, norm_bound_def \u001b[39m=\u001b[39m define(\u001b[39m\"\u001b[39m\u001b[39mnorm_bound\u001b[39m\u001b[39m\"\u001b[39m, Lambda([x,eps], (x \u001b[39m<\u001b[39m\u001b[39m=\u001b[39m eps) \u001b[39m&\u001b[39m (\u001b[39m-\u001b[39meps \u001b[39m<\u001b[39m\u001b[39m=\u001b[39m x)))\n\u001b[1;32m      <a href='vscode-notebook-cell:/home/philip/Documents/philzook58.github.io/_drafts/2023-11-09-z3-itp.ipynb#X60sZmlsZQ%3D%3D?line=7'>8</a>\u001b[0m lim, lim_def \u001b[39m=\u001b[39m define(\u001b[39m\"\u001b[39m\u001b[39mlim\u001b[39m\u001b[39m\"\u001b[39m, Lambda([a,x], \n\u001b[0;32m----> <a href='vscode-notebook-cell:/home/philip/Documents/philzook58.github.io/_drafts/2023-11-09-z3-itp.ipynb#X60sZmlsZQ%3D%3D?line=8'>9</a>\u001b[0m                ForAll([eps], Exists([n], QForAll([m], m \u001b[39m>\u001b[39m n, norm_bound(x \u001b[39m-\u001b[39m a[m], eps))))))\n\u001b[1;32m     <a href='vscode-notebook-cell:/home/philip/Documents/philzook58.github.io/_drafts/2023-11-09-z3-itp.ipynb#X60sZmlsZQ%3D%3D?line=9'>10</a>\u001b[0m \u001b[39m# skolemize it probably.\u001b[39;00m\n\u001b[1;32m     <a href='vscode-notebook-cell:/home/philip/Documents/philzook58.github.io/_drafts/2023-11-09-z3-itp.ipynb#X60sZmlsZQ%3D%3D?line=10'>11</a>\u001b[0m n \u001b[39m=\u001b[39m Array(\u001b[39m\"\u001b[39m\u001b[39mn\u001b[39m\u001b[39m\"\u001b[39m, RealSort(), IntSort())\n",
      "\u001b[0;31mTypeError\u001b[0m: 'ArrayRef' object is not callable"
     ]
    }
   ],
   "source": [
    "RealSeq = ArraySort(IntSort(), RealSort())\n",
    "a = Const(\"a\", RealSeq)\n",
    "x,eps = Reals(\"x eps\")\n",
    "n,m = Ints(\"n m\")\n",
    "#convergent = define(\"convergant\", Lambda([x], Exists([y], ForAll([n], x[n] == y))))\n",
    "\n",
    "norm_bound, norm_bound_def = define(\"norm_bound\", Lambda([x,eps], (x <= eps) & (-eps <= x)))\n",
    "abs, abs_def = define(\"abs\", Lambda([x], If(x >= 0, x, -x)))\n",
    "lim, lim_def = define(\"lim\", Lambda([a,x], \n",
    "               ForAll([eps], Exists([n], QForAll([m], m > n, norm_bound(x - a[m], eps))))))\n",
    "# skolemize it probably.\n",
    "n = Array(\"n\", RealSort(), IntSort())\n",
    "# convergence\n",
    "lim, lim_def = define(\"lim\", Lambda([a,x,n], \n",
    "               ForAll([eps], QForAll([m], m > n[eps], norm_bound[x - a[m], eps]))))\n",
    "\n",
    "lim[Lambda([m], If(m >=0, 1/m, 0)), RealVal(0), Lambda([eps], 1/eps)]"
   ]
  },
  {
   "cell_type": "code",
   "execution_count": null,
   "metadata": {},
   "outputs": [],
   "source": [
    "# This is kind of bishop's definition of just picking 1/n for the modulus of convergence\n",
    "harmonic_lin = define(\"linharm\", Lambda([a,x], ForAll([eps], QForAll([m], m > 0, norm_bound(x - a[m], 1/m)))))\n",
    "cauchy = define(\"cauchy\", Lambda([a,n], ForAll([eps], QForAll([m], m > n[eps], norm_bound(a[m] - a[n], eps)))))\n",
    "\n",
    "define(\"cauchy\", Lambda([a,n], QForAll([eps, m], m > n[eps], norm_bound(a[m] - a[n], eps))))\n",
    "\n",
    "\n",
    "R = DeclareSort(\"R\")\n",
    "eclass = Function(\"eclass\", IntSeq, R) # Quotient by cauchy equivalence\n",
    "QForAll([a,b], ForAll([n], norm_bound(a[n] - b[n]) <= 1/n),    \n",
    "               eclass(a) == eclass(b) )\n",
    "\n",
    "\n"
   ]
  },
  {
   "cell_type": "code",
   "execution_count": 75,
   "metadata": {},
   "outputs": [
    {
     "data": {
      "text/html": [
       "Array(Int, Array(Int, Int))"
      ],
      "text/plain": [
       "Array(Int, Array(Int, Int))"
      ]
     },
     "execution_count": 75,
     "metadata": {},
     "output_type": "execute_result"
    }
   ],
   "source": [
    "#SortRef.__rshift__ = lambda self, other: ArraySort(self, other) # Nah bad idea. wrong associativty\n",
    "def ArrowSort(*args):\n",
    "    if len(args) == 1:\n",
    "        return args[0]\n",
    "    return ArraySort(args[0], ArrowSort(*args[1:]))\n",
    "SortRef.__mul__ = lambda self, other: TupleSort(f\"Pair_{self}_{other}\", [self, other])[0]\n",
    "IntSort() >> IntSort() >> IntSort()\n",
    "IntSort() * IntSort()\n",
    "ArrowSort(IntSort(), IntSort(), IntSort())"
   ]
  },
  {
   "cell_type": "code",
   "execution_count": null,
   "metadata": {},
   "outputs": [],
   "source": [
    "# Open-closed induction. We can extend any point some epsilon out, and we can close any open ball back to closed.\n",
    "def induct_real(P : Form) -> Thm:\n",
    "    assert P.sort().name() == \"Array\"\n",
    "    assert P.sort().domain() == RealSort()\n",
    "    assert P.sort().range() == BoolSort()\n",
    "    n = FreshConst(RealSort())\n",
    "    eps = FreshConst(RealSort())\n",
    "    hyp = P[0] & \\\n",
    "         ForAll([n], Exists([eps], P[n] & (eps > 0) > P[n + eps])) & \\\n",
    "         ForAll([n], ForAll([eps], P[x - eps] & (eps > 0) > P[x]))\n",
    "    #------------------------------------------\n",
    "    conc =  ForAll([n], P[n])\n",
    "    return trust(hyp > conc)\n",
    "# generalization to general topology?"
   ]
  },
  {
   "cell_type": "code",
   "execution_count": null,
   "metadata": {},
   "outputs": [],
   "source": [
    "# https://math.stackexchange.com/questions/4202/induction-on-real-numbers\n",
    "# https://arxiv.org/abs/1208.0973\n",
    "induct_real = trust(QForAll([P], \n",
    "                QForAll([x],P[x] , Exists([y], y > x & P[y])) &\n",
    "                QForAll([x,y], QForAll([y], y < x, P[y]), P[x])),  \n",
    "                QForAll([x],x >= 0, P[x]))"
   ]
  },
  {
   "cell_type": "code",
   "execution_count": 40,
   "metadata": {},
   "outputs": [
    {
     "data": {
      "text/plain": [
       "894"
      ]
     },
     "execution_count": 40,
     "metadata": {},
     "output_type": "execute_result"
    }
   ],
   "source": [
    "\";(declare-datatypes ((Nat 0)) (((zero) (succ (pred Nat)))))\"\n",
    "smtlib = \"\"\"\n",
    ";(declare-datatypes () ((Nat (zero)))) ; (succ (pred Nat)))))\n",
    "(declare-datatype Nat ((zero) (succ (pred Nat))))\n",
    ";(declare-datatypes ((Nat 0)) (((zero) (succ (pred Nat)))))\n",
    "(declare-fun add (Nat Nat) Nat)\n",
    "(declare-fun x () Nat)\n",
    "(assert (forall ((x Nat)) (= (add zero x) x)))\n",
    "(assert (forall ((x Nat) (y Nat)) (= (add (succ x) y) (succ (add x y)))))\n",
    "(assert (let ((a!1 (and (forall ((y Nat)) (= (add zero y) (add y zero)))\n",
    "                (forall ((c!13 Nat))\n",
    "                  (let ((a!1 (not (forall ((y Nat))\n",
    "                                    (= (add c!13 y) (add y c!13)))))\n",
    "                        (a!2 (forall ((y Nat))\n",
    "                               (= (add (succ x) y) (add y (succ x))))))\n",
    "                    (or a!1 a!2))))))\n",
    "  (or (not a!1) (forall ((c!13 Nat) (y Nat)) (= (add c!13 y) (add y c!13))))))\n",
    "(assert (not (forall ((x Nat) (y Nat)) (= (add x y) (add y x)))))\n",
    "(check-sat)\n",
    "\"\"\"\n",
    "\n",
    "open(\"/tmp/peano.smt2\", \"w\").write(smtlib)\n"
   ]
  },
  {
   "cell_type": "code",
   "execution_count": 41,
   "metadata": {},
   "outputs": [
    {
     "name": "stdout",
     "output_type": "stream",
     "text": [
      "perf_event_open failed (instruction limiting will be disabled): Permission denied\n",
      "% Running in auto input_syntax mode. Trying SMTLIB2\n"
     ]
    },
    {
     "name": "stdout",
     "output_type": "stream",
     "text": [
      "^C\n",
      "28863 Aborted by signal SIGINT on /tmp/peano.smt2\n",
      "% ------------------------------\n",
      "% Version: Vampire 4.6.1 (commit af1735c99 on 2021-12-01 14:43:47 +0100)\n",
      "% Linked with Z3 4.8.13.0 f03d756e086f81f2596157241e0decfb1c982299 z3-4.8.4-5390-gf03d756e0\n",
      "% Termination reason: Unknown\n",
      "% Termination phase: Saturation\n",
      "\n",
      "% Memory used [KB]: 29551\n",
      "% Time elapsed: 24.705 s\n",
      "% ------------------------------\n",
      "% ------------------------------\n"
     ]
    }
   ],
   "source": [
    "!vampire /tmp/peano.smt2"
   ]
  },
  {
   "cell_type": "markdown",
   "metadata": {},
   "source": [
    "# HOL\n",
    "\n",
    "So HOL is supposed to be weaker than set theory but still very expressive. \n",
    "See \n",
    "- Andrews book\n",
    "- HOL Light tutorial\n",
    "- Gordon paper\n"
   ]
  },
  {
   "cell_type": "code",
   "execution_count": null,
   "metadata": {},
   "outputs": [],
   "source": [
    "o = BoolSort()\n",
    "i = DeclareSort(\"i\")\n",
    "def EQ(A,B):\n",
    "\n",
    "\n",
    "TRUE = None\n",
    "FALSE = None"
   ]
  },
  {
   "cell_type": "markdown",
   "metadata": {},
   "source": [
    "# Set Theory\n",
    "\n"
   ]
  },
  {
   "cell_type": "code",
   "execution_count": 44,
   "metadata": {},
   "outputs": [],
   "source": [
    "\n",
    "# Zf\n",
    "Set = DeclareSort(\"Set\")\n",
    "elem = Function(\"elem\", Set, Set, BoolSort())\n",
    "A,B,C,x,y,z = Consts(\"A B C x y z\", Set) \n",
    "\n",
    "ax_emp = trust(Exists([A],ForAll([x], ~elem(B,A))))\n",
    "ax_pair = trust(ForAll([A,B], Exists([C], ForAll([x], elem(x, C) == elem(x,A) | elem(x,B)))))\n",
    "ax_ext = trust(ForAll([A,B], ForAll([x], elem(x,A) == elem(x,B)) == (A == B)))\n",
    "ax_union = trust(ForAll([A], Exists([B], ForAll([x], elem(x,B) == Exists([y], elem(x,y) & elem(y,A))))))\n",
    "def ax_sep(B,P):\n",
    "    A = FreshConst(Set)\n",
    "    return trust(Exists([A], ForAll([x], elem(x,A) == elem(x,B) & P(x))))\n",
    "\n",
    "# ordered pairs\n",
    "\n",
    "# injectivity theorem\n"
   ]
  },
  {
   "cell_type": "code",
   "execution_count": null,
   "metadata": {},
   "outputs": [],
   "source": [
    "def extend(hyps,x,P, prefix):\n",
    "    infer(hyps, Exists([x], P))\n",
    "    s = FreshConst(Set, prefix=prefix)\n",
    "    return s, trust(P.substitute(s, x))"
   ]
  },
  {
   "cell_type": "code",
   "execution_count": null,
   "metadata": {},
   "outputs": [],
   "source": [
    "# Constructive Real\n",
    "\n",
    "# Z3 reals are more like algebraic numbers, not reals.\n",
    "CReal = ArraySort(Nat, RealSort())\n",
    "eq = Function(\"eq\", CReal, CReal, BoolSort())\n",
    "ax_eq = trust(ForAll([x,y], eq(x,y) == (ForAll([n], x[n] - y[n] < 1/n))"
   ]
  },
  {
   "cell_type": "markdown",
   "metadata": {},
   "source": [
    "# Hoare Logic\n",
    "Separation logic. Not going to play that nice with z3.\n",
    "\n",
    "Hmm. The raw cvc5 interface isn't that pleasant.\n",
    "\n",
    "Winskel\n",
    "Software Foundations\n",
    "Dafny Book\n",
    "Frama-C"
   ]
  },
  {
   "cell_type": "code",
   "execution_count": null,
   "metadata": {},
   "outputs": [],
   "source": [
    "import cvc5\n",
    "solver = cvc5.Solver()\n",
    "solver.setLogic(\"ALL\")\n",
    "realSort = solver.getRealSort()\n",
    "constraint1 = solver.mkTerm(Kind.LT, zero, x)\n",
    "solver.assertFormula(constraint4)\n",
    "solver.resetAssertions()\n",
    "r2 = solver.checkSat()\n",
    "unsatCore = solver.getUnsatCore();"
   ]
  },
  {
   "cell_type": "code",
   "execution_count": 18,
   "metadata": {},
   "outputs": [
    {
     "name": "stdout",
     "output_type": "stream",
     "text": [
      "x <ast.BinOp object at 0x7f204c3e6fe0>\n"
     ]
    }
   ],
   "source": [
    "# https://greentreesnakes.readthedocs.io/en/latest/nodes.html \n",
    "import ast\n",
    "tree = ast.parse(\"x = x + 3\", mode=\"single\")\n",
    "match tree.body[0]:\n",
    "    case ast.Assign([ast.Name(name, ast.Store())], expr):\n",
    "        print(name, expr)\n",
    "    case x:\n",
    "        print(x)\n",
    "\n",
    "\n",
    "def wp(stmt,post):\n",
    "    match stmt:\n",
    "        case ast.Assign([ast.Name(name, ast.Store())], expr):\n",
    "            return z3.substitute(z3.Int(\"name\"), expr)\n",
    "        case ast.Pass():\n",
    "            return post\n",
    "        case _:\n",
    "            assert False\n",
    "\n",
    "def triple(pre,stmt,post):\n",
    "    mywp = wp(stmt,post)\n",
    "\n",
    "def assign_triple(pre : Form, name, expr, post : Form, by=[]):\n",
    "    wp = z3.substitute(post, (x, expr))\n",
    "    check(infer(by, pre > wp))\n",
    "    return trust( (pre, ast.Assign([name], expr), post))\n",
    "\n",
    "def seq_triple(s1 : Triple, s2: Triple):\n",
    "    \n"
   ]
  },
  {
   "cell_type": "markdown",
   "metadata": {},
   "source": []
  },
  {
   "cell_type": "markdown",
   "metadata": {},
   "source": [
    "# Category\n",
    "Topos Book\n",
    "Scott Encoding using exists predicate.\n",
    "Well formed as precondition."
   ]
  },
  {
   "cell_type": "code",
   "execution_count": 58,
   "metadata": {},
   "outputs": [],
   "source": [
    "Arr = DeclareSort(\"Arr\")\n",
    "Ob = DeclareSort(\"Ob\")\n",
    "ex = Function(\"Ex\", Arr, BoolSort())\n",
    "\n",
    "f,g,h = Consts(\"f g h\", Arr)\n",
    "A,B,C = Consts(\"A B C\", Ob)\n",
    "comp = Function(\"comp\", Arr, Arr, Arr)\n",
    "id_ = Function(\"id\", Ob, Arr)\n",
    "dom = Function(\"dom\", Arr, Ob)\n",
    "cod = Function(\"cod\", Arr, Ob)\n",
    "z3.ExprRef.__lshift__ = lambda self, other: comp(self, other)\n",
    "#ax_comp = trust(ForAll([f,g,h], comp(f,comp(g,h)) == comp(comp(f,g),h)))\n",
    "ax_comp_assoc = trust(ForAll([f,g,h], f << (g << h) == (f << g) << h))\n",
    "#ax_id_l = trust(ForAll([f,A], (cod(f) == A) > (id_(A) << f == f)))\n",
    "#ax_id_r = trust(ForAll([f,A], (dom(f) == A) > (f << id_(A) == f)))\n",
    "ax_id_l = trust(ForAll([f], id_(cod(f)) << f == f)) # inline the dom/cod\n",
    "ax_id_r = trust(ForAll([f], f << id_(dom(f)) == f)) \n",
    "ax_cat = [ax_id_l, ax_id_r, ax_comp_assoc]\n",
    "\n",
    "ax_dom_id = trust(ForAll([A], dom(id_(A)) == A))\n",
    "ax_cod_id = trust(ForAll([A], cod(id_(A)) == A))\n",
    "ax_ex_id = trust(ForAll([A], ex(id_(A))))\n",
    "ax_ex_comp = trust(ForAll([f,g], ex(f << g) == (dom(f) == cod(g))))\n",
    "ax_wff = [ax_dom_id, ax_cod_id, ax_ex_id, ax_ex_comp]\n",
    "\n",
    "junk = Const(\"junk\", Arr)\n",
    "ax_junk = trust(ForAll([f], Implies(ex(f), f != junk))) # bidirectional?\n",
    "\n",
    "wff_id_id = infer(ax_wff + ax_cat, ex(id_(A) << id_(A)) & (dom(id_(A) << id_(A)) == A) & (cod(id_(A) << id_(A)) == A))\n",
    "wff_id_id\n",
    "#infer(ax_cat + ax_wff + [wff_id_id], id_(A) << id_(A) == id_(A))\n",
    "\n",
    "# sanity check\n",
    "#infer(ax_cat + ax_wff, False)\n",
    "\n",
    "monic, monic_def = define(\"monic\", Lambda([f], ForAll([g,h], Implies(f << g == f << h, h == g))))\n",
    "epic, epic_def = define(\"epic\", Lambda([f], ForAll([g,h], Implies(g << f == h << f, h == g))))"
   ]
  },
  {
   "cell_type": "code",
   "execution_count": 59,
   "metadata": {},
   "outputs": [
    {
     "data": {
      "text/plain": [
       "(-6531872273261288051, ForAll(A, monic!200[id(A)]))"
      ]
     },
     "execution_count": 59,
     "metadata": {},
     "output_type": "execute_result"
    }
   ],
   "source": [
    "\n",
    "id_monic = infer(ax_cat + ax_wff + [monic_def], ForAll([A], monic[id_(A)]))\n",
    "id_monic"
   ]
  },
  {
   "cell_type": "code",
   "execution_count": null,
   "metadata": {},
   "outputs": [],
   "source": [
    "# pullback is universal square \n",
    "pullback = define(\"pullback\", Lambda([f,g,h,k, univ], \n",
    "f << g == h << k & \n",
    "ForAll([x,y], Exists([univ], Implies(x << g == y << k, x == univ << g  & y == univ << k)))))"
   ]
  },
  {
   "cell_type": "code",
   "execution_count": 56,
   "metadata": {},
   "outputs": [
    {
     "name": "stdout",
     "output_type": "stream",
     "text": [
      "(declare-sort Arr 0)\n",
      "(declare-sort Ob 0)\n",
      "(declare-fun monic!89 () (Array Arr Bool))\n",
      "(declare-fun comp (Arr Arr) Arr)\n",
      "(declare-fun id (Ob) Arr)\n",
      "(declare-fun cod (Arr) Ob)\n",
      "(declare-fun dom (Arr) Ob)\n",
      "(declare-fun Ex (Arr) Bool)\n",
      "(assert (forall ((f Arr)) (= (comp (id (cod f)) f) f)))\n",
      "(assert (forall ((f Arr)) (= (comp f (id (dom f))) f)))\n",
      "(assert (forall ((f Arr) (g Arr) (h Arr)) (= (comp f (comp g h)) (comp (comp f g) h))))\n",
      "(assert (forall ((A Ob)) (= (dom (id A)) A)))\n",
      "(assert (forall ((A Ob)) (= (cod (id A)) A)))\n",
      "(assert (forall ((A Ob)) (Ex (id A))))\n",
      "(assert (forall ((f Arr) (g Arr)) (= (Ex (comp f g)) (= (dom f) (cod g)))))\n",
      "(model-add monic!89\n",
      "           ()\n",
      "           (Array Arr Bool)\n",
      "           (lambda ((f Arr))\n",
      "             (forall ((g Arr) (h Arr))\n",
      "               (or (not (= (comp f g) (comp f h))) (= h g)))))\n",
      "\n"
     ]
    },
    {
     "ename": "AssertionError",
     "evalue": "unknown",
     "output_type": "error",
     "traceback": [
      "\u001b[0;31m---------------------------------------------------------------------------\u001b[0m",
      "\u001b[0;31mAssertionError\u001b[0m                            Traceback (most recent call last)",
      "\u001b[1;32m/home/philip/Documents/philzook58.github.io/_drafts/2023-11-09-z3-itp.ipynb Cell 30\u001b[0m line \u001b[0;36m1\n\u001b[0;32m----> <a href='vscode-notebook-cell:/home/philip/Documents/philzook58.github.io/_drafts/2023-11-09-z3-itp.ipynb#X43sZmlsZQ%3D%3D?line=0'>1</a>\u001b[0m infer(ax_cat \u001b[39m+\u001b[39m ax_wff \u001b[39m+\u001b[39m [monic_def], \u001b[39mFalse\u001b[39;00m)\n",
      "\u001b[1;32m/home/philip/Documents/philzook58.github.io/_drafts/2023-11-09-z3-itp.ipynb Cell 30\u001b[0m line \u001b[0;36m3\n\u001b[1;32m     <a href='vscode-notebook-cell:/home/philip/Documents/philzook58.github.io/_drafts/2023-11-09-z3-itp.ipynb#X43sZmlsZQ%3D%3D?line=30'>31</a>\u001b[0m     \u001b[39mif\u001b[39;00m res \u001b[39m==\u001b[39m z3\u001b[39m.\u001b[39msat:\n\u001b[1;32m     <a href='vscode-notebook-cell:/home/philip/Documents/philzook58.github.io/_drafts/2023-11-09-z3-itp.ipynb#X43sZmlsZQ%3D%3D?line=31'>32</a>\u001b[0m         \u001b[39mprint\u001b[39m(s\u001b[39m.\u001b[39mmodel())\n\u001b[0;32m---> <a href='vscode-notebook-cell:/home/philip/Documents/philzook58.github.io/_drafts/2023-11-09-z3-itp.ipynb#X43sZmlsZQ%3D%3D?line=32'>33</a>\u001b[0m     \u001b[39massert\u001b[39;00m \u001b[39mFalse\u001b[39;00m,res\n\u001b[1;32m     <a href='vscode-notebook-cell:/home/philip/Documents/philzook58.github.io/_drafts/2023-11-09-z3-itp.ipynb#X43sZmlsZQ%3D%3D?line=34'>35</a>\u001b[0m \u001b[39mreturn\u001b[39;00m trust(conc)\n",
      "\u001b[0;31mAssertionError\u001b[0m: unknown"
     ]
    }
   ],
   "source": [
    "infer(ax_cat + ax_wff + [monic_def], False)"
   ]
  },
  {
   "cell_type": "markdown",
   "metadata": {},
   "source": [
    "# Algebra of Programming\n",
    "Dijkstra\n",
    "backhouse\n",
    "http://www.mathmeth.com/read.shtml\n",
    "Bird book\n",
    "AoP book\n",
    "Gries\n",
    "\n"
   ]
  },
  {
   "cell_type": "code",
   "execution_count": null,
   "metadata": {},
   "outputs": [],
   "source": []
  },
  {
   "cell_type": "markdown",
   "metadata": {},
   "source": [
    "# Metatheory\n",
    "Termination, confluence, progress, type preservation, consistency, \n",
    "\n",
    "\n",
    "Abstract Binding Trees. Can we force Z3 to be unware of the binders by making it an uninterpreted sort with views?\n",
    "Reminds me of the quotienting construction (like equivalent sequences of CReal). We make a new sort of the quotiented thing and an injecton function and a lift of some equvlaence relation on the domain to an actual equivalence over the quotient sort.\n",
    "In this case alpha equivalence.\n",
    "\n",
    "I had some ideas int smt.md about model checking these kinds of problems.\n",
    "\n",
    "Z3 hoas? It didn't work right?"
   ]
  },
  {
   "cell_type": "code",
   "execution_count": null,
   "metadata": {},
   "outputs": [],
   "source": [
    "# Krishnaswami https://semantic-domain.blogspot.com/2015/03/abstract-binding-trees.html?m=1\n",
    "# https://www.cs.cmu.edu/~rjsimmon/15312-s14/hws/hw1update2-handout.pdf\n",
    "Sort(\"Var\")\n",
    "abt = Sort(\"abt\")\n",
    "view = Datatype(\"view\", \"op\", \"lam\", \"var\") # no app?\n",
    "Function(\"into\", )\n",
    "Function(\"out\",)\n",
    "\n",
    "Function(\"subst\", \"Var\", )\n"
   ]
  },
  {
   "cell_type": "code",
   "execution_count": 5,
   "metadata": {},
   "outputs": [
    {
     "ename": "TypeError",
     "evalue": "DatatypeSortRef.constructor() takes 2 positional arguments but 3 were given",
     "output_type": "error",
     "traceback": [
      "\u001b[0;31m---------------------------------------------------------------------------\u001b[0m",
      "\u001b[0;31mTypeError\u001b[0m                                 Traceback (most recent call last)",
      "\u001b[1;32m/home/philip/Documents/philzook58.github.io/_drafts/2023-11-09-z3-itp.ipynb Cell 45\u001b[0m line \u001b[0;36m3\n\u001b[1;32m      <a href='vscode-notebook-cell:/home/philip/Documents/philzook58.github.io/_drafts/2023-11-09-z3-itp.ipynb#X63sZmlsZQ%3D%3D?line=0'>1</a>\u001b[0m \u001b[39mfrom\u001b[39;00m \u001b[39mz3\u001b[39;00m \u001b[39mimport\u001b[39;00m \u001b[39m*\u001b[39m\n\u001b[1;32m      <a href='vscode-notebook-cell:/home/philip/Documents/philzook58.github.io/_drafts/2023-11-09-z3-itp.ipynb#X63sZmlsZQ%3D%3D?line=1'>2</a>\u001b[0m Term \u001b[39m=\u001b[39m DatatypeSort(\u001b[39m\"\u001b[39m\u001b[39mTerm\u001b[39m\u001b[39m\"\u001b[39m) \u001b[39m#, [(\"nil\", Unit), (\"cons\", (Int, \"List\"))])\u001b[39;00m\n\u001b[0;32m----> <a href='vscode-notebook-cell:/home/philip/Documents/philzook58.github.io/_drafts/2023-11-09-z3-itp.ipynb#X63sZmlsZQ%3D%3D?line=2'>3</a>\u001b[0m Term\u001b[39m.\u001b[39mconstructor(\u001b[39m\"\u001b[39m\u001b[39mVar\u001b[39m\u001b[39m\"\u001b[39m, IntSort())\n\u001b[1;32m      <a href='vscode-notebook-cell:/home/philip/Documents/philzook58.github.io/_drafts/2023-11-09-z3-itp.ipynb#X63sZmlsZQ%3D%3D?line=3'>4</a>\u001b[0m Term\u001b[39m.\u001b[39mconstructor(\u001b[39m\"\u001b[39m\u001b[39mApp\u001b[39m\u001b[39m\"\u001b[39m, [Term, Term])\n\u001b[1;32m      <a href='vscode-notebook-cell:/home/philip/Documents/philzook58.github.io/_drafts/2023-11-09-z3-itp.ipynb#X63sZmlsZQ%3D%3D?line=4'>5</a>\u001b[0m Term\u001b[39m.\u001b[39mconstructor(\u001b[39m\"\u001b[39m\u001b[39mConst\u001b[39m\u001b[39m\"\u001b[39m, IntSort())\n",
      "\u001b[0;31mTypeError\u001b[0m: DatatypeSortRef.constructor() takes 2 positional arguments but 3 were given"
     ]
    }
   ],
   "source": [
    "from z3 import *\n",
    "Term = DatatypeSort(\"Term\") #, [(\"nil\", Unit), (\"cons\", (Int, \"List\"))])\n",
    "Term.constructor(\"Var\", IntSort())\n",
    "Term.constructor(\"App\", [Term, Term])\n",
    "Term.constructor(\"Const\", IntSort())\n"
   ]
  }
 ],
 "metadata": {
  "kernelspec": {
   "display_name": "Python 3",
   "language": "python",
   "name": "python3"
  },
  "language_info": {
   "codemirror_mode": {
    "name": "ipython",
    "version": 3
   },
   "file_extension": ".py",
   "mimetype": "text/x-python",
   "name": "python",
   "nbconvert_exporter": "python",
   "pygments_lexer": "ipython3",
   "version": "3.10.12"
  }
 },
 "nbformat": 4,
 "nbformat_minor": 2
}
