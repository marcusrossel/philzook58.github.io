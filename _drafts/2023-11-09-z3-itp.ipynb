{
 "cells": [
  {
   "cell_type": "markdown",
   "metadata": {},
   "source": [
    "\n",
    "Interactive theorem proving is cool.\n",
    "\n",
    "Automated theorem proving is really cool.\n",
    "\n",
    "It does happen though that you can get outside the ability of an automated theorem prover in one shot. It may need breadcrumbs or guidance along the way.\n",
    "But then you need some kind of scaffolding to organize these hints.\n",
    "\n",
    "I think this is an interesting design I don't see much.\n",
    "\n",
    "The basic premise is that we allow a single inference rule SUPERMODUS (TM) which uses an automated prover to discharge a big step of the proof. We get to manually select if we like the hypothesies it has access to.\n",
    "\n",
    "\n"
   ]
  },
  {
   "cell_type": "code",
   "execution_count": 2,
   "metadata": {},
   "outputs": [],
   "source": [
    "from typing import Any, Tuple, List\n",
    "from z3 import *\n",
    "Form = Any\n",
    "Thm = Tuple[int, Form]\n",
    "BoolRef.__and__ = lambda self, other: And(self, other)\n",
    "BoolRef.__or__ = lambda self, other: Or(self, other)\n",
    "BoolRef.__invert__ = lambda self: Not(self)\n",
    "BoolRef.__gt__ = lambda self, other: Implies(self, other)\n",
    "\n",
    "def check(thm : Thm):\n",
    "    hsh, form = thm\n",
    "    assert hsh == hash((\"secret\",form))\n",
    "\n",
    "# recording all known theorems makes certain big hammer autos possible.\n",
    "# thms = [] # or set()\n",
    "\n",
    "def trust(form : Form) -> Thm:\n",
    "    #thms.append(concthm)\n",
    "    return hash((\"secret\",form)), form\n",
    "\n",
    "def infer(hyps : List[Thm], conc : Form, timeout=1000) -> Thm:\n",
    "    s = Solver()\n",
    "    for hyp in hyps:\n",
    "        check(hyp)\n",
    "        s.add(hyp[1])\n",
    "    s.add(Not(conc))\n",
    "    s.set(\"timeout\", timeout)\n",
    "    res = s.check()\n",
    "    if res != z3.unsat:\n",
    "        print(s.sexpr())\n",
    "        if res == z3.sat:\n",
    "            print(s.model())\n",
    "        assert False,res\n",
    "\n",
    "    return trust(conc)\n",
    "\n",
    "def extend(hyps, x,y, P : Form, prefix=\"c\"):\n",
    "    infer(hyps, ForAll([x],Exists([y], P)))\n",
    "    f = FreshConst(ArraySort(x.sort(), y.sort()), prefix=prefix)\n",
    "    return f, trust(ForAll([x], P.substitute(y,f[y])))\n",
    "\n",
    "# A primitive definition mechanism. Maybe + Lambda this is good enough?\n",
    "def define(name, x):\n",
    "    f = FreshConst(x.sort(), prefix=name)\n",
    "    return f, trust(f == x)\n",
    "\n",
    "\n"
   ]
  },
  {
   "cell_type": "markdown",
   "metadata": {},
   "source": [
    "# Tactics\n",
    "\n",
    "There are a number of derived rules. We can reuse z3's tactics. This is a bit of slight of hand."
   ]
  },
  {
   "cell_type": "code",
   "execution_count": 47,
   "metadata": {},
   "outputs": [
    {
     "name": "stdout",
     "output_type": "stream",
     "text": [
      "[[]]\n"
     ]
    },
    {
     "ename": "Z3Exception",
     "evalue": "True, False or Z3 Boolean expression expected. Received [[]] of type <class 'z3.z3.ApplyResult'>",
     "output_type": "error",
     "traceback": [
      "\u001b[0;31m---------------------------------------------------------------------------\u001b[0m",
      "\u001b[0;31mZ3Exception\u001b[0m                               Traceback (most recent call last)",
      "\u001b[1;32m/home/philip/Documents/philzook58.github.io/_drafts/2023-11-09-z3-itp.ipynb Cell 4\u001b[0m line \u001b[0;36m2\n\u001b[1;32m     <a href='vscode-notebook-cell:/home/philip/Documents/philzook58.github.io/_drafts/2023-11-09-z3-itp.ipynb#X15sZmlsZQ%3D%3D?line=23'>24</a>\u001b[0m     \u001b[39mprint\u001b[39m(conc)\n\u001b[1;32m     <a href='vscode-notebook-cell:/home/philip/Documents/philzook58.github.io/_drafts/2023-11-09-z3-itp.ipynb#X15sZmlsZQ%3D%3D?line=24'>25</a>\u001b[0m     \u001b[39mreturn\u001b[39;00m infer([thm], conc)\n\u001b[0;32m---> <a href='vscode-notebook-cell:/home/philip/Documents/philzook58.github.io/_drafts/2023-11-09-z3-itp.ipynb#X15sZmlsZQ%3D%3D?line=26'>27</a>\u001b[0m tactic(\u001b[39m\"\u001b[39m\u001b[39msimplify\u001b[39m\u001b[39m\"\u001b[39m, thm)\n",
      "\u001b[1;32m/home/philip/Documents/philzook58.github.io/_drafts/2023-11-09-z3-itp.ipynb Cell 4\u001b[0m line \u001b[0;36m2\n\u001b[1;32m     <a href='vscode-notebook-cell:/home/philip/Documents/philzook58.github.io/_drafts/2023-11-09-z3-itp.ipynb#X15sZmlsZQ%3D%3D?line=22'>23</a>\u001b[0m conc \u001b[39m=\u001b[39m z3\u001b[39m.\u001b[39mTactic(name)(g)\n\u001b[1;32m     <a href='vscode-notebook-cell:/home/philip/Documents/philzook58.github.io/_drafts/2023-11-09-z3-itp.ipynb#X15sZmlsZQ%3D%3D?line=23'>24</a>\u001b[0m \u001b[39mprint\u001b[39m(conc)\n\u001b[0;32m---> <a href='vscode-notebook-cell:/home/philip/Documents/philzook58.github.io/_drafts/2023-11-09-z3-itp.ipynb#X15sZmlsZQ%3D%3D?line=24'>25</a>\u001b[0m \u001b[39mreturn\u001b[39;00m infer([thm], conc)\n",
      "\u001b[1;32m/home/philip/Documents/philzook58.github.io/_drafts/2023-11-09-z3-itp.ipynb Cell 4\u001b[0m line \u001b[0;36m2\n\u001b[1;32m     <a href='vscode-notebook-cell:/home/philip/Documents/philzook58.github.io/_drafts/2023-11-09-z3-itp.ipynb#X15sZmlsZQ%3D%3D?line=19'>20</a>\u001b[0m     check(hyp)\n\u001b[1;32m     <a href='vscode-notebook-cell:/home/philip/Documents/philzook58.github.io/_drafts/2023-11-09-z3-itp.ipynb#X15sZmlsZQ%3D%3D?line=20'>21</a>\u001b[0m     s\u001b[39m.\u001b[39madd(hyp[\u001b[39m1\u001b[39m])\n\u001b[0;32m---> <a href='vscode-notebook-cell:/home/philip/Documents/philzook58.github.io/_drafts/2023-11-09-z3-itp.ipynb#X15sZmlsZQ%3D%3D?line=21'>22</a>\u001b[0m s\u001b[39m.\u001b[39madd(Not(conc))\n\u001b[1;32m     <a href='vscode-notebook-cell:/home/philip/Documents/philzook58.github.io/_drafts/2023-11-09-z3-itp.ipynb#X15sZmlsZQ%3D%3D?line=22'>23</a>\u001b[0m s\u001b[39m.\u001b[39mset(\u001b[39m\"\u001b[39m\u001b[39mtimeout\u001b[39m\u001b[39m\"\u001b[39m, timeout)\n\u001b[1;32m     <a href='vscode-notebook-cell:/home/philip/Documents/philzook58.github.io/_drafts/2023-11-09-z3-itp.ipynb#X15sZmlsZQ%3D%3D?line=23'>24</a>\u001b[0m res \u001b[39m=\u001b[39m s\u001b[39m.\u001b[39mcheck()\n",
      "File \u001b[0;32m~/.local/lib/python3.10/site-packages/z3/z3.py:1826\u001b[0m, in \u001b[0;36mNot\u001b[0;34m(a, ctx)\u001b[0m\n\u001b[1;32m   1824\u001b[0m \u001b[39melse\u001b[39;00m:\n\u001b[1;32m   1825\u001b[0m     s \u001b[39m=\u001b[39m BoolSort(ctx)\n\u001b[0;32m-> 1826\u001b[0m     a \u001b[39m=\u001b[39m s\u001b[39m.\u001b[39;49mcast(a)\n\u001b[1;32m   1827\u001b[0m     \u001b[39mreturn\u001b[39;00m BoolRef(Z3_mk_not(ctx\u001b[39m.\u001b[39mref(), a\u001b[39m.\u001b[39mas_ast()), ctx)\n",
      "File \u001b[0;32m~/.local/lib/python3.10/site-packages/z3/z3.py:1531\u001b[0m, in \u001b[0;36mBoolSortRef.cast\u001b[0;34m(self, val)\u001b[0m\n\u001b[1;32m   1529\u001b[0m \u001b[39mif\u001b[39;00m \u001b[39mnot\u001b[39;00m is_expr(val):\n\u001b[1;32m   1530\u001b[0m     msg \u001b[39m=\u001b[39m \u001b[39m\"\u001b[39m\u001b[39mTrue, False or Z3 Boolean expression expected. Received \u001b[39m\u001b[39m%s\u001b[39;00m\u001b[39m of type \u001b[39m\u001b[39m%s\u001b[39;00m\u001b[39m\"\u001b[39m\n\u001b[0;32m-> 1531\u001b[0m     _z3_assert(is_expr(val), msg \u001b[39m%\u001b[39;49m (val, \u001b[39mtype\u001b[39;49m(val)))\n\u001b[1;32m   1532\u001b[0m \u001b[39mif\u001b[39;00m \u001b[39mnot\u001b[39;00m \u001b[39mself\u001b[39m\u001b[39m.\u001b[39meq(val\u001b[39m.\u001b[39msort()):\n\u001b[1;32m   1533\u001b[0m     _z3_assert(\u001b[39mself\u001b[39m\u001b[39m.\u001b[39meq(val\u001b[39m.\u001b[39msort()), \u001b[39m\"\u001b[39m\u001b[39mValue cannot be converted into a Z3 Boolean value\u001b[39m\u001b[39m\"\u001b[39m)\n",
      "File \u001b[0;32m~/.local/lib/python3.10/site-packages/z3/z3.py:107\u001b[0m, in \u001b[0;36m_z3_assert\u001b[0;34m(cond, msg)\u001b[0m\n\u001b[1;32m    105\u001b[0m \u001b[39mdef\u001b[39;00m \u001b[39m_z3_assert\u001b[39m(cond, msg):\n\u001b[1;32m    106\u001b[0m     \u001b[39mif\u001b[39;00m \u001b[39mnot\u001b[39;00m cond:\n\u001b[0;32m--> 107\u001b[0m         \u001b[39mraise\u001b[39;00m Z3Exception(msg)\n",
      "\u001b[0;31mZ3Exception\u001b[0m: True, False or Z3 Boolean expression expected. Received [[]] of type <class 'z3.z3.ApplyResult'>"
     ]
    }
   ],
   "source": [
    "def exI(x, P : Thm) -> Thm:\n",
    "    return infer([P], Exists([x], P[1]))\n",
    "\n",
    "A = DeclareSort(\"A\")\n",
    "a = Const(\"a\", A)\n",
    "P = Function(\"P\", A, BoolSort())\n",
    "ax = trust(P(a))\n",
    "exI(a, ax)\n",
    "\n",
    "\n",
    "# maybe\n",
    "def simp(thm : Thm):\n",
    "    check(thm)\n",
    "    return infer([thm],z3.simplify(thm[1]))\n",
    "\n",
    "x = Int(\"x\")\n",
    "thm = infer([], x + 0 == x)\n",
    "simp(thm)\n",
    "\n",
    "# other tactics\n",
    "def tactic(name, thm):\n",
    "    g = Goal(thm[1])\n",
    "    conc = z3.Tactic(name)(g)\n",
    "    print(conc)\n",
    "    return infer([thm], conc)\n",
    "\n",
    "tactic(\"simplify\", thm)\n",
    "    \n"
   ]
  },
  {
   "cell_type": "code",
   "execution_count": 46,
   "metadata": {},
   "outputs": [
    {
     "data": {
      "text/plain": [
       "['ackermannize_bv',\n",
       " 'subpaving',\n",
       " 'horn',\n",
       " 'horn-simplify',\n",
       " 'nlsat',\n",
       " 'qfnra-nlsat',\n",
       " 'qe-light',\n",
       " 'nlqsat',\n",
       " 'qe',\n",
       " 'qsat',\n",
       " 'qe2',\n",
       " 'qe_rec',\n",
       " 'psat',\n",
       " 'sat',\n",
       " 'sat-preprocess',\n",
       " 'ctx-solver-simplify',\n",
       " 'psmt',\n",
       " 'unit-subsume-simplify',\n",
       " 'aig',\n",
       " 'add-bounds',\n",
       " 'card2bv',\n",
       " 'degree-shift',\n",
       " 'diff-neq',\n",
       " 'eq2bv',\n",
       " 'factor',\n",
       " 'fix-dl-var',\n",
       " 'fm',\n",
       " 'lia2card',\n",
       " 'lia2pb',\n",
       " 'nla2bv',\n",
       " 'normalize-bounds',\n",
       " 'pb2bv',\n",
       " 'propagate-ineqs',\n",
       " 'purify-arith',\n",
       " 'recover-01',\n",
       " 'bit-blast',\n",
       " 'bv1-blast',\n",
       " 'bv_bound_chk',\n",
       " 'propagate-bv-bounds',\n",
       " 'propagate-bv-bounds2',\n",
       " 'reduce-bv-size',\n",
       " 'bv-slice',\n",
       " 'bvarray2uf',\n",
       " 'dt2bv',\n",
       " 'elim-small-bv',\n",
       " 'max-bv-sharing',\n",
       " 'blast-term-ite',\n",
       " 'cofactor-term-ite',\n",
       " 'collect-statistics',\n",
       " 'ctx-simplify',\n",
       " 'demodulator',\n",
       " 'der',\n",
       " 'distribute-forall',\n",
       " 'dom-simplify',\n",
       " 'elim-term-ite',\n",
       " 'elim-uncnstr2',\n",
       " 'elim-uncnstr',\n",
       " 'elim-predicates',\n",
       " 'euf-completion',\n",
       " 'injectivity',\n",
       " 'snf',\n",
       " 'nnf',\n",
       " 'occf',\n",
       " 'pb-preprocess',\n",
       " 'propagate-values2',\n",
       " 'propagate-values',\n",
       " 'reduce-args',\n",
       " 'reduce-args2',\n",
       " 'simplify',\n",
       " 'elim-and',\n",
       " 'solve-eqs',\n",
       " 'special-relations',\n",
       " 'split-clause',\n",
       " 'symmetry-reduce',\n",
       " 'tseitin-cnf',\n",
       " 'tseitin-cnf-core',\n",
       " 'qffd',\n",
       " 'pqffd',\n",
       " 'smtfd',\n",
       " 'fpa2bv',\n",
       " 'qffp',\n",
       " 'qffpbv',\n",
       " 'qffplra',\n",
       " 'default',\n",
       " 'solver-subsumption',\n",
       " 'qfbv-sls',\n",
       " 'nra',\n",
       " 'qfaufbv',\n",
       " 'qfauflia',\n",
       " 'qfbv',\n",
       " 'qfidl',\n",
       " 'qflia',\n",
       " 'qflra',\n",
       " 'qfnia',\n",
       " 'qfnra',\n",
       " 'qfuf',\n",
       " 'qfufbv',\n",
       " 'qfufbv_ackr',\n",
       " 'ufnia',\n",
       " 'uflra',\n",
       " 'auflia',\n",
       " 'auflira',\n",
       " 'aufnira',\n",
       " 'lra',\n",
       " 'lia',\n",
       " 'lira',\n",
       " 'smt',\n",
       " 'skip',\n",
       " 'fail',\n",
       " 'fail-if-undecided',\n",
       " 'macro-finder',\n",
       " 'quasi-macros',\n",
       " 'ufbv-rewriter',\n",
       " 'bv',\n",
       " 'ufbv']"
      ]
     },
     "execution_count": 46,
     "metadata": {},
     "output_type": "execute_result"
    }
   ],
   "source": [
    "z3.tactics()"
   ]
  },
  {
   "cell_type": "code",
   "execution_count": 43,
   "metadata": {},
   "outputs": [
    {
     "name": "stdout",
     "output_type": "stream",
     "text": [
      "Implies(And(x, x), Or(Not(x), x))\n",
      "Array(String, String)\n",
      "String\n",
      "String\n",
      "['__bool__', '__class__', '__copy__', '__deepcopy__', '__del__', '__delattr__', '__dict__', '__dir__', '__doc__', '__eq__', '__format__', '__ge__', '__getattribute__', '__gt__', '__hash__', '__init__', '__init_subclass__', '__le__', '__lt__', '__module__', '__ne__', '__new__', '__nonzero__', '__reduce__', '__reduce_ex__', '__repr__', '__setattr__', '__sizeof__', '__str__', '__subclasshook__', '__weakref__', '_repr_html_', 'as_ast', 'ast', 'cast', 'ctx', 'ctx_ref', 'domain', 'domain_n', 'eq', 'get_id', 'hash', 'kind', 'name', 'range', 'sexpr', 'subsort', 'translate', 'use_pp']\n"
     ]
    },
    {
     "data": {
      "text/plain": [
       "'Array'"
      ]
     },
     "execution_count": 43,
     "metadata": {},
     "output_type": "execute_result"
    }
   ],
   "source": [
    "x = Bool(\"x\")\n",
    "print( x & x > ~x | x)\n",
    "x = Array(\"x\", StringSort(), StringSort())\n",
    "print(x.sort())\n",
    "print(x.sort().domain())\n",
    "print(x.sort().range())\n",
    "print(dir(x.sort()))\n",
    "x.sort().name()"
   ]
  },
  {
   "cell_type": "code",
   "execution_count": null,
   "metadata": {},
   "outputs": [],
   "source": [
    "class Backward():\n",
    "    def __init__(self, goal):\n",
    "        self.goal = infer([], goal > goal)\n",
    "    def intros(self):\n",
    "        pass\n",
    "class Forward(): #Isar\n",
    "    def __init__(self, goal):\n",
    "        self.goal = goal\n",
    "        self.lemmas = []\n",
    "        self.vars = []\n",
    "        self.hyps = []\n",
    "    def intro(self,vars):\n",
    "        self.vars.extend(vars)\n",
    "        return self\n",
    "    def assume(self, hyps):\n",
    "        self.hyps.extend(hyps)\n",
    "        return self\n",
    "    def wrap(self, form):\n",
    "        return ForAll(self.vars, Implies(And(self.hyps), form))\n",
    "    def have(self, conc, by=[]):\n",
    "        self.lemmas.append(infer(by + self.lemmas, conc))\n",
    "        return self\n",
    "    def qed(self):\n",
    "        return infer(self.lemmas, self.goals)\n",
    "    \n",
    "class Calc():\n",
    "    def __init__(self, lhs, rhs):\n",
    "        self.lhs = [lhs]\n",
    "        self.lhsthm = infer([], lhs == lhs)\n",
    "        self.rhs = [rhs]\n",
    "    def then(self, rhs, by=[]): # step? rw?\n",
    "        self.thm = infer(by + [self.lhsthm], self.rhs == rhs)\n",
    "    def simp():\n",
    "\n",
    "\n"
   ]
  },
  {
   "cell_type": "markdown",
   "metadata": {},
   "source": [
    "# Peano Arithmetic\n"
   ]
  },
  {
   "cell_type": "code",
   "execution_count": 27,
   "metadata": {},
   "outputs": [
    {
     "name": "stdout",
     "output_type": "stream",
     "text": [
      "succ(zero)\n",
      "Array(Nat, Bool)\n",
      "Array(Nat, Bool)\n",
      "Array(Nat, Bool)\n",
      "Array(Nat, Bool)\n"
     ]
    },
    {
     "data": {
      "text/plain": [
       "(7898931013983239133, ForAll([x, y], add(x, y) == add(y, x)))"
      ]
     },
     "execution_count": 27,
     "metadata": {},
     "output_type": "execute_result"
    }
   ],
   "source": [
    "# Z3py adt of natural numbers\n",
    "Nat = Datatype(\"Nat\")\n",
    "Nat.declare(\"zero\")\n",
    "Nat.declare(\"succ\", (\"pred\", Nat))\n",
    "Nat = Nat.create()\n",
    "print(Nat.succ(Nat.zero))\n",
    "\n",
    "# Peano\n",
    "def induct(P : Form) -> Thm:\n",
    "    print(P.sort())\n",
    "    assert P.sort().name() == \"Array\"\n",
    "    assert P.sort().domain() == Nat\n",
    "    assert P.sort().range() == BoolSort()\n",
    "    n = FreshConst(Nat)\n",
    "    hyp = P[Nat.zero] & ForAll([n], P[n] > P[Nat.succ(n)])\n",
    "    #------------------------------------------\n",
    "    conc =  ForAll([n], P[n])\n",
    "    return trust(hyp > conc)\n",
    "\n",
    "x,y = Consts(\"x y\", Nat)\n",
    "add = Function(\"add\", Nat, Nat, Nat)\n",
    "zero_add = trust(ForAll([x], add(Nat.zero, x) == x))\n",
    "succ_add = trust(ForAll([x,y], add(Nat.succ(x), y) == Nat.succ(add(x, y))))\n",
    "\n",
    "P = Lambda([x], add(x,Nat.zero) == add(Nat.zero,x))\n",
    "\n",
    "base = modus([], P[Nat.zero])\n",
    "ind = modus([zero_add, succ_add], ForAll([x], P[x] > P[Nat.succ(x)]))\n",
    "add_zero = modus([base,ind,induct(P)], ForAll([x], P[x]))\n",
    "add_zero_prime = modus([zero_add, succ_add, induct(P)], ForAll([x], P[x]))\n",
    "\n",
    "\n",
    "P = Lambda([x], ForAll([y], add(x,Nat.succ(y)) == Nat.succ(add(x,y))))\n",
    "add_succ = modus([zero_add,succ_add, induct(P)], ForAll([x],P[x]))\n",
    "comm_add = modus([zero_add, succ_add, add_zero, add_succ, induct(Lambda([x], ForAll([y], add(x,y) == add(y,x))))] ,\n",
    "                  ForAll([x,y], add(x, y) == add(y, x)))\n",
    "\n",
    "comm_add\n"
   ]
  },
  {
   "cell_type": "code",
   "execution_count": null,
   "metadata": {},
   "outputs": [],
   "source": [
    "def induct_int(P : Form) -> Thm:\n",
    "    assert P.sort().name() == \"Array\"\n",
    "    assert P.sort().domain() == IntSort()\n",
    "    assert P.sort().range() == BoolSort()\n",
    "    n = FreshConst(IntSort())\n",
    "    hyp = P[0] & ForAll([n], P[n] > P[n - 1] & P[n + 1])\n",
    "    #------------------------------------------\n",
    "    conc =  ForAll([n], P[n])\n",
    "    return trust(hyp > conc)\n",
    "# https://math.stackexchange.com/questions/2659184/can-induction-be-done-to-prove-statements-for-integers\n",
    "\n",
    "\n",
    "def induct_posint(P : Form) -> Thm:\n",
    "    assert P.sort().name() == \"Array\"\n",
    "    assert P.sort().domain() == IntSort()\n",
    "    assert P.sort().range() == BoolSort()\n",
    "    n = FreshConst(IntSort())\n",
    "    hyp = P[0] & ForAll([n], (P[n] & n >= 0) > P[n + 1])\n",
    "    #------------------------------------------\n",
    "    conc =  ForAll([n], (n >= 0) > P[n])\n",
    "    return trust(hyp > conc)"
   ]
  },
  {
   "cell_type": "code",
   "execution_count": null,
   "metadata": {},
   "outputs": [],
   "source": [
    "# Open-closed induction. We can extend any point some epsilon out, and we can close any open ball back to closed.\n",
    "def induct_real(P : Form) -> Thm:\n",
    "    assert P.sort().name() == \"Array\"\n",
    "    assert P.sort().domain() == RealSort()\n",
    "    assert P.sort().range() == BoolSort()\n",
    "    n = FreshConst(RealSort())\n",
    "    eps = FreshConst(RealSort())\n",
    "    hyp = P[0] & \\\n",
    "         ForAll([n], Exists([eps], P[n] & (eps > 0) > P[n + eps])) & \\\n",
    "         ForAll([n], ForAll([eps], P[x - eps] & (eps > 0) > P[x]))\n",
    "    #------------------------------------------\n",
    "    conc =  ForAll([n], P[n])\n",
    "    return trust(hyp > conc)\n",
    "# generalization to general topology?"
   ]
  },
  {
   "cell_type": "code",
   "execution_count": 40,
   "metadata": {},
   "outputs": [
    {
     "data": {
      "text/plain": [
       "894"
      ]
     },
     "execution_count": 40,
     "metadata": {},
     "output_type": "execute_result"
    }
   ],
   "source": [
    "\";(declare-datatypes ((Nat 0)) (((zero) (succ (pred Nat)))))\"\n",
    "smtlib = \"\"\"\n",
    ";(declare-datatypes () ((Nat (zero)))) ; (succ (pred Nat)))))\n",
    "(declare-datatype Nat ((zero) (succ (pred Nat))))\n",
    ";(declare-datatypes ((Nat 0)) (((zero) (succ (pred Nat)))))\n",
    "(declare-fun add (Nat Nat) Nat)\n",
    "(declare-fun x () Nat)\n",
    "(assert (forall ((x Nat)) (= (add zero x) x)))\n",
    "(assert (forall ((x Nat) (y Nat)) (= (add (succ x) y) (succ (add x y)))))\n",
    "(assert (let ((a!1 (and (forall ((y Nat)) (= (add zero y) (add y zero)))\n",
    "                (forall ((c!13 Nat))\n",
    "                  (let ((a!1 (not (forall ((y Nat))\n",
    "                                    (= (add c!13 y) (add y c!13)))))\n",
    "                        (a!2 (forall ((y Nat))\n",
    "                               (= (add (succ x) y) (add y (succ x))))))\n",
    "                    (or a!1 a!2))))))\n",
    "  (or (not a!1) (forall ((c!13 Nat) (y Nat)) (= (add c!13 y) (add y c!13))))))\n",
    "(assert (not (forall ((x Nat) (y Nat)) (= (add x y) (add y x)))))\n",
    "(check-sat)\n",
    "\"\"\"\n",
    "\n",
    "open(\"/tmp/peano.smt2\", \"w\").write(smtlib)\n"
   ]
  },
  {
   "cell_type": "code",
   "execution_count": 41,
   "metadata": {},
   "outputs": [
    {
     "name": "stdout",
     "output_type": "stream",
     "text": [
      "perf_event_open failed (instruction limiting will be disabled): Permission denied\n",
      "% Running in auto input_syntax mode. Trying SMTLIB2\n"
     ]
    },
    {
     "name": "stdout",
     "output_type": "stream",
     "text": [
      "^C\n",
      "28863 Aborted by signal SIGINT on /tmp/peano.smt2\n",
      "% ------------------------------\n",
      "% Version: Vampire 4.6.1 (commit af1735c99 on 2021-12-01 14:43:47 +0100)\n",
      "% Linked with Z3 4.8.13.0 f03d756e086f81f2596157241e0decfb1c982299 z3-4.8.4-5390-gf03d756e0\n",
      "% Termination reason: Unknown\n",
      "% Termination phase: Saturation\n",
      "\n",
      "% Memory used [KB]: 29551\n",
      "% Time elapsed: 24.705 s\n",
      "% ------------------------------\n",
      "% ------------------------------\n"
     ]
    }
   ],
   "source": [
    "!vampire /tmp/peano.smt2"
   ]
  },
  {
   "cell_type": "code",
   "execution_count": null,
   "metadata": {},
   "outputs": [],
   "source": [
    "# extending with injection axioms into the Ints\n",
    "\n",
    "def induct(P):\n",
    "  # assert P.type == Nat -> Bool ?\n",
    "  n = FreshConst(Nat)\n",
    "  return ForAll(n, Implies(P(Nat.zero), Forall(n, Implies(P(n), P(Nat.succ(n))))), Forall(n, P(n)))\n",
    "\n",
    "inj = Function(\"inj\", Nat, IntSort())\n",
    "n = FreshConst(Nat)\n",
    "axioms = [\n",
    "  inj(Nat.zero) == 0,\n",
    "  ForAll(n, inj(Nat.succ(n)) == inj(n) + 1) # recursive definition of inj\n",
    "]\n",
    "\n",
    "theorem1 = ForAll(n, inj(n) >= 0)\n",
    "theorem2 = ForAll(i, Implies(i >= 0, Exist(n, inj(n) == i)))\n",
    "P = lambda x: "
   ]
  },
  {
   "cell_type": "markdown",
   "metadata": {},
   "source": [
    "# HOL\n",
    "\n",
    "So HOL is supposed to be weaker than set theory but still very expressive. \n",
    "See \n",
    "- Andrews book\n",
    "- HOL Light tutorial\n",
    "- Gordon paper\n"
   ]
  },
  {
   "cell_type": "code",
   "execution_count": null,
   "metadata": {},
   "outputs": [],
   "source": [
    "o = BoolSort()\n",
    "i = DeclareSort(\"i\")\n",
    "def EQ(A,B):\n",
    "\n",
    "\n",
    "TRUE = None\n",
    "FALSE = None"
   ]
  },
  {
   "cell_type": "markdown",
   "metadata": {},
   "source": [
    "# Set Theory"
   ]
  },
  {
   "cell_type": "code",
   "execution_count": 44,
   "metadata": {},
   "outputs": [],
   "source": [
    "\n",
    "# Zf\n",
    "Set = DeclareSort(\"Set\")\n",
    "elem = Function(\"elem\", Set, Set, BoolSort())\n",
    "A,B,C,x,y,z = Consts(\"A B C x y z\", Set) \n",
    "\n",
    "ax_emp = trust(Exists([A],ForAll([x], ~elem(B,A))))\n",
    "ax_pair = trust(ForAll([A,B], Exists([C], ForAll([x], elem(x, C) == elem(x,A) | elem(x,B)))))\n",
    "ax_ext = trust(ForAll([A,B], ForAll([x], elem(x,A) == elem(x,B)) == (A == B)))\n",
    "ax_union = trust(ForAll([A], Exists([B], ForAll([x], elem(x,B) == Exists([y], elem(x,y) & elem(y,A))))))\n",
    "def ax_sep(B,P):\n",
    "    A = FreshConst(Set)\n",
    "    return trust(Exists([A], ForAll([x], elem(x,A) == elem(x,B) & P(x))))\n",
    "\n",
    "# ordered pairs\n",
    "\n",
    "# injectivity theorem\n"
   ]
  },
  {
   "cell_type": "code",
   "execution_count": null,
   "metadata": {},
   "outputs": [],
   "source": [
    "def extend(hyps,x,P, prefix):\n",
    "    infer(hyps, Exists([x], P))\n",
    "    s = FreshConst(Set, prefix=prefix)\n",
    "    return s, trust(P.substitute(s, x))"
   ]
  },
  {
   "cell_type": "code",
   "execution_count": null,
   "metadata": {},
   "outputs": [],
   "source": [
    "# Constructive Real\n",
    "\n",
    "# Z3 reals are more like algebraic numbers, not reals.\n",
    "CReal = ArraySort(Nat, RealSort())\n",
    "eq = Function(\"eq\", CReal, CReal, BoolSort())\n",
    "ax_eq = trust(ForAll([x,y], eq(x,y) == (ForAll([n], x[n] - y[n] < 1/n))"
   ]
  },
  {
   "cell_type": "markdown",
   "metadata": {},
   "source": [
    "# Hoare Logic\n",
    "Separation logic. Not going to play that nice with z3.\n",
    "\n",
    "Hmm. The raw cvc5 nterface isn't that pleasant."
   ]
  },
  {
   "cell_type": "code",
   "execution_count": null,
   "metadata": {},
   "outputs": [],
   "source": [
    "import cvc5\n",
    "solver = cvc5.Solver()\n",
    "solver.setLogic(\"ALL\")\n",
    "realSort = solver.getRealSort()\n",
    "constraint1 = solver.mkTerm(Kind.LT, zero, x)\n",
    "solver.assertFormula(constraint4)\n",
    "solver.resetAssertions()\n",
    "r2 = solver.checkSat()\n",
    "unsatCore = solver.getUnsatCore();"
   ]
  },
  {
   "cell_type": "markdown",
   "metadata": {},
   "source": [
    "# Category\n",
    "Topos Book\n",
    "Scott Encoding using exists predicate.\n",
    "Well formed as precondition."
   ]
  },
  {
   "cell_type": "code",
   "execution_count": 15,
   "metadata": {},
   "outputs": [
    {
     "name": "stdout",
     "output_type": "stream",
     "text": [
      "(declare-sort Arr 0)\n",
      "(declare-sort Ob 0)\n",
      "(declare-fun comp (Arr Arr) Arr)\n",
      "(declare-fun id (Ob) Arr)\n",
      "(declare-fun cod (Arr) Ob)\n",
      "(declare-fun dom (Arr) Ob)\n",
      "(declare-fun Ex (Arr) Bool)\n",
      "(assert (forall ((f Arr)) (= (comp (id (cod f)) f) f)))\n",
      "(assert (forall ((f Arr)) (= (comp f (id (dom f))) f)))\n",
      "(assert (forall ((f Arr) (g Arr) (h Arr)) (= (comp f (comp g h)) (comp (comp f g) h))))\n",
      "(assert (forall ((A Ob)) (= (dom (id A)) A)))\n",
      "(assert (forall ((A Ob)) (= (cod (id A)) A)))\n",
      "(assert (forall ((A Ob)) (Ex (id A))))\n",
      "(assert (forall ((f Arr) (g Arr)) (= (Ex (comp f g)) (= (dom f) (cod g)))))\n",
      "\n"
     ]
    },
    {
     "ename": "AssertionError",
     "evalue": "unknown",
     "output_type": "error",
     "traceback": [
      "\u001b[0;31m---------------------------------------------------------------------------\u001b[0m",
      "\u001b[0;31mAssertionError\u001b[0m                            Traceback (most recent call last)",
      "\u001b[1;32m/home/philip/Documents/philzook58.github.io/_drafts/2023-11-09-z3-itp.ipynb Cell 24\u001b[0m line \u001b[0;36m3\n\u001b[1;32m     <a href='vscode-notebook-cell:/home/philip/Documents/philzook58.github.io/_drafts/2023-11-09-z3-itp.ipynb#X32sZmlsZQ%3D%3D?line=27'>28</a>\u001b[0m wff_id_id\n\u001b[1;32m     <a href='vscode-notebook-cell:/home/philip/Documents/philzook58.github.io/_drafts/2023-11-09-z3-itp.ipynb#X32sZmlsZQ%3D%3D?line=28'>29</a>\u001b[0m \u001b[39m#infer(ax_cat + ax_wff + [wff_id_id], id_(A) << id_(A) == id_(A))\u001b[39;00m\n\u001b[0;32m---> <a href='vscode-notebook-cell:/home/philip/Documents/philzook58.github.io/_drafts/2023-11-09-z3-itp.ipynb#X32sZmlsZQ%3D%3D?line=29'>30</a>\u001b[0m infer(ax_cat \u001b[39m+\u001b[39m ax_wff, \u001b[39mFalse\u001b[39;00m)\n",
      "\u001b[1;32m/home/philip/Documents/philzook58.github.io/_drafts/2023-11-09-z3-itp.ipynb Cell 24\u001b[0m line \u001b[0;36m3\n\u001b[1;32m     <a href='vscode-notebook-cell:/home/philip/Documents/philzook58.github.io/_drafts/2023-11-09-z3-itp.ipynb#X32sZmlsZQ%3D%3D?line=30'>31</a>\u001b[0m     \u001b[39mif\u001b[39;00m res \u001b[39m==\u001b[39m z3\u001b[39m.\u001b[39msat:\n\u001b[1;32m     <a href='vscode-notebook-cell:/home/philip/Documents/philzook58.github.io/_drafts/2023-11-09-z3-itp.ipynb#X32sZmlsZQ%3D%3D?line=31'>32</a>\u001b[0m         \u001b[39mprint\u001b[39m(s\u001b[39m.\u001b[39mmodel())\n\u001b[0;32m---> <a href='vscode-notebook-cell:/home/philip/Documents/philzook58.github.io/_drafts/2023-11-09-z3-itp.ipynb#X32sZmlsZQ%3D%3D?line=32'>33</a>\u001b[0m     \u001b[39massert\u001b[39;00m \u001b[39mFalse\u001b[39;00m,res\n\u001b[1;32m     <a href='vscode-notebook-cell:/home/philip/Documents/philzook58.github.io/_drafts/2023-11-09-z3-itp.ipynb#X32sZmlsZQ%3D%3D?line=34'>35</a>\u001b[0m \u001b[39mreturn\u001b[39;00m trust(conc)\n",
      "\u001b[0;31mAssertionError\u001b[0m: unknown"
     ]
    }
   ],
   "source": [
    "Arr = DeclareSort(\"Arr\")\n",
    "Ob = DeclareSort(\"Ob\")\n",
    "ex = Function(\"Ex\", Arr, BoolSort())\n",
    "\n",
    "f,g,h = Consts(\"f g h\", Arr)\n",
    "A,B,C = Consts(\"A B C\", Ob)\n",
    "comp = Function(\"comp\", Arr, Arr, Arr)\n",
    "id_ = Function(\"id\", Ob, Arr)\n",
    "dom = Function(\"dom\", Arr, Ob)\n",
    "cod = Function(\"cod\", Arr, Ob)\n",
    "z3.ExprRef.__lshift__ = lambda self, other: comp(self, other)\n",
    "#ax_comp = trust(ForAll([f,g,h], comp(f,comp(g,h)) == comp(comp(f,g),h)))\n",
    "ax_comp_assoc = trust(ForAll([f,g,h], f << (g << h) == (f << g) << h))\n",
    "#ax_id_l = trust(ForAll([f,A], (cod(f) == A) > (id_(A) << f == f)))\n",
    "#ax_id_r = trust(ForAll([f,A], (dom(f) == A) > (f << id_(A) == f)))\n",
    "ax_id_l = trust(ForAll([f], id_(cod(f)) << f == f)) # inline the dom/cod\n",
    "ax_id_r = trust(ForAll([f], f << id_(dom(f)) == f)) \n",
    "ax_cat = [ax_id_l, ax_id_r, ax_comp_assoc]\n",
    "\n",
    "ax_dom_id = trust(ForAll([A], dom(id_(A)) == A))\n",
    "ax_cod_id = trust(ForAll([A], cod(id_(A)) == A))\n",
    "ax_ex_id = trust(ForAll([A], ex(id_(A))))\n",
    "ax_ex_comp = trust(ForAll([f,g], ex(f << g) == (dom(f) == cod(g))))\n",
    "ax_wff = [ax_dom_id, ax_cod_id, ax_ex_id, ax_ex_comp]\n",
    "\n",
    "\n",
    "wff_id_id = infer(ax_wff + ax_cat, ex(id_(A) << id_(A)) & (dom(id_(A) << id_(A)) == A) & (cod(id_(A) << id_(A)) == A))\n",
    "wff_id_id\n",
    "#infer(ax_cat + ax_wff + [wff_id_id], id_(A) << id_(A) == id_(A))\n",
    "\n",
    "# sanity check\n",
    "infer(ax_cat + ax_wff, False)\n"
   ]
  },
  {
   "cell_type": "code",
   "execution_count": null,
   "metadata": {},
   "outputs": [],
   "source": []
  }
 ],
 "metadata": {
  "kernelspec": {
   "display_name": "Python 3",
   "language": "python",
   "name": "python3"
  },
  "language_info": {
   "codemirror_mode": {
    "name": "ipython",
    "version": 3
   },
   "file_extension": ".py",
   "mimetype": "text/x-python",
   "name": "python",
   "nbconvert_exporter": "python",
   "pygments_lexer": "ipython3",
   "version": "3.10.12"
  }
 },
 "nbformat": 4,
 "nbformat_minor": 2
}
