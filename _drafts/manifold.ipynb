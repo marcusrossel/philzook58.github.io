{
 "cells": [
  {
   "cell_type": "code",
   "execution_count": 49,
   "metadata": {},
   "outputs": [],
   "source": [
    "from z3 import *\n",
    "\n",
    "#s = Solver()\n",
    "theorems = []\n",
    "def prove(goal, by=None):\n",
    "    s = Solver()\n",
    "    if by is not None:\n",
    "        s.add(*by)\n",
    "    else:\n",
    "        s.add(*theorems)\n",
    "    s.add(Not(goal))\n",
    "    s.set(\"timeout\", 100)\n",
    "    if s.check() == unsat:\n",
    "        print(s.unsat_core())\n",
    "        theorems.append(goal)\n",
    "        return goal\n",
    "    else:\n",
    "        assert False, s.model()\n",
    "\n",
    "def axiom(th):\n",
    "    theorems.append(th)\n",
    "    return th\n",
    "\n",
    "V = DeclareSort(\"V\")\n",
    "R = RealSort()\n",
    "\n",
    "# signature\n",
    "vzero = Const(\"zero\", V)\n",
    "vadd = Function(\"vadd\", V, V, V)\n",
    "vmul = Function(\"vmul\", R, V, V)\n",
    "vinv = Function(\"vinv\", V, V)\n",
    "\n",
    "v,v1,v2,v3,w,u = Consts(\"v v1 v2 v3 w u\", V)\n",
    "a,b,c = Consts(\"a b c\", R)\n",
    "\n",
    "vadd_comm = axiom(ForAll([v1,v2], vadd(v1,v2) == vadd(v2,v1)))\n",
    "vadd_assoc = axiom(ForAll([v1,v2,v3], vadd(v1,vadd(v2,v3)) == vadd(vadd(v1,v2),v3)))\n",
    "vadd_zero = axiom(ForAll([v], vadd(v,vzero) == v))\n",
    "vinv_def = axiom(ForAll([v], vadd(v,vinv(v)) == vzero))\n",
    "vmul_one = axiom(ForAll([v], vmul(1,v) == v))\n",
    "vmul_compat = axiom(ForAll([a,b,v], vmul(a*b,v) == vmul(a,vmul(b,v))))\n",
    "vmul_dist_left = axiom(ForAll([a,b,v], vmul(a + b,v) == vadd(vmul(a,v),vmul(b,v))))\n",
    "vmul_dist_right = axiom(ForAll([a,v,w], vmul(a,vadd(v,w)) == vadd(vmul(a,v),vmul(a,w))))"
   ]
  },
  {
   "cell_type": "code",
   "execution_count": 43,
   "metadata": {},
   "outputs": [
    {
     "data": {
      "text/plain": [
       "[ForAll([v1, v2], vadd(v1, v2) == vadd(v2, v1)),\n",
       " ForAll([v1, v2, v3],\n",
       "        vadd(v1, vadd(v2, v3)) == vadd(vadd(v1, v2), v3)),\n",
       " ForAll(v, vadd(v, zero) == v),\n",
       " ForAll(v, vadd(v, vinv(v)) == zero),\n",
       " ForAll(v, vmul(1, v) == v),\n",
       " ForAll([a, b, v], vmul(a*b, v) == vmul(a, vmul(b, v))),\n",
       " ForAll([a, b, v],\n",
       "        vmul(a + b, v) == vadd(vmul(a, v), vmul(b, v))),\n",
       " ForAll([a, v, w],\n",
       "        vmul(a, vadd(v, w)) == vadd(vmul(a, v), vmul(a, w)))]"
      ]
     },
     "execution_count": 43,
     "metadata": {},
     "output_type": "execute_result"
    }
   ],
   "source": [
    "theorems"
   ]
  },
  {
   "cell_type": "code",
   "execution_count": 50,
   "metadata": {},
   "outputs": [
    {
     "name": "stdout",
     "output_type": "stream",
     "text": [
      "[]\n"
     ]
    }
   ],
   "source": [
    "vzero_left = prove(ForAll([v], vadd(vzero,v) == v))"
   ]
  },
  {
   "cell_type": "code",
   "execution_count": 52,
   "metadata": {},
   "outputs": [
    {
     "name": "stdout",
     "output_type": "stream",
     "text": [
      "[]\n",
      "[]\n"
     ]
    }
   ],
   "source": [
    "#zero_vzero = prove(ForAll([v], vmul(0, v) == vzero))\n",
    "prove(ForAll([v], vadd(vmul(1, v), vmul(-1, v)) == vmul(0, v)))\n",
    "neg_vinv = prove(ForAll([v], vmul(-1, v) == vinv(v)))"
   ]
  },
  {
   "cell_type": "code",
   "execution_count": 55,
   "metadata": {},
   "outputs": [
    {
     "name": "stdout",
     "output_type": "stream",
     "text": [
      "[]\n"
     ]
    },
    {
     "data": {
      "text/html": [
       "&forall;v : vmul(-1, v) = vinv(v)"
      ],
      "text/plain": [
       "ForAll(v, vmul(-1, v) == vinv(v))"
      ]
     },
     "execution_count": 55,
     "metadata": {},
     "output_type": "execute_result"
    }
   ],
   "source": [
    "prove(ForAll([v], vmul(-1,v) == vinv(v)))"
   ]
  },
  {
   "cell_type": "code",
   "execution_count": 56,
   "metadata": {},
   "outputs": [
    {
     "name": "stdout",
     "output_type": "stream",
     "text": [
      "[]\n"
     ]
    },
    {
     "data": {
      "text/html": [
       "&forall;v : vmul(0, vadd(v, vinv(v))) = zero"
      ],
      "text/plain": [
       "ForAll(v, vmul(0, vadd(v, vinv(v))) == zero)"
      ]
     },
     "execution_count": 56,
     "metadata": {},
     "output_type": "execute_result"
    }
   ],
   "source": [
    "prove(ForAll([v], vmul(0, vadd(v, vinv(v))) == vzero))"
   ]
  },
  {
   "cell_type": "code",
   "execution_count": 57,
   "metadata": {},
   "outputs": [
    {
     "name": "stdout",
     "output_type": "stream",
     "text": [
      "[]\n"
     ]
    },
    {
     "data": {
      "text/html": [
       "&forall;v : vmul(0, v) = zero"
      ],
      "text/plain": [
       "ForAll(v, vmul(0, v) == zero)"
      ]
     },
     "execution_count": 57,
     "metadata": {},
     "output_type": "execute_result"
    }
   ],
   "source": [
    "prove(ForAll([v], vmul(0,v) == vzero))"
   ]
  },
  {
   "cell_type": "code",
   "execution_count": 70,
   "metadata": {},
   "outputs": [
    {
     "data": {
      "text/html": [
       "vmul(a, vadd(v, vinv(v))) = vadd(vmul(a, v), vmul(-a, v))"
      ],
      "text/plain": [
       "vmul(a, vadd(v, vinv(v))) == vadd(vmul(a, v), vmul(-a, v))"
      ]
     },
     "execution_count": 70,
     "metadata": {},
     "output_type": "execute_result"
    }
   ],
   "source": [
    "vmul(a, vadd(v, vinv(v))) == vadd(vmul(a, v), vmul(-a,v))"
   ]
  },
  {
   "cell_type": "code",
   "execution_count": 75,
   "metadata": {},
   "outputs": [
    {
     "name": "stdout",
     "output_type": "stream",
     "text": [
      "[]\n",
      "[]\n",
      "[]\n"
     ]
    },
    {
     "data": {
      "text/html": [
       "&forall;a : vmul(a, zero) = zero"
      ],
      "text/plain": [
       "ForAll(a, vmul(a, zero) == zero)"
      ]
     },
     "execution_count": 75,
     "metadata": {},
     "output_type": "execute_result"
    }
   ],
   "source": [
    "prove(ForAll([a, v], vmul(a, vadd(v, vinv(v))) == vadd(vmul(a, v), vmul(-a,v))))\n",
    "prove(ForAll([a, v], vmul(a, vzero) == vadd(vmul(a, v), vmul(-a,v))))\n",
    "prove(ForAll([a], vmul(a, vzero) == vzero))"
   ]
  },
  {
   "cell_type": "code",
   "execution_count": 58,
   "metadata": {},
   "outputs": [
    {
     "ename": "Z3Exception",
     "evalue": "model is not available",
     "output_type": "error",
     "traceback": [
      "\u001b[0;31m---------------------------------------------------------------------------\u001b[0m",
      "\u001b[0;31mZ3Exception\u001b[0m                               Traceback (most recent call last)",
      "File \u001b[0;32m~/.local/lib/python3.10/site-packages/z3/z3.py:7130\u001b[0m, in \u001b[0;36mSolver.model\u001b[0;34m(self)\u001b[0m\n\u001b[1;32m   7129\u001b[0m \u001b[38;5;28;01mtry\u001b[39;00m:\n\u001b[0;32m-> 7130\u001b[0m     \u001b[38;5;28;01mreturn\u001b[39;00m ModelRef(\u001b[43mZ3_solver_get_model\u001b[49m\u001b[43m(\u001b[49m\u001b[38;5;28;43mself\u001b[39;49m\u001b[38;5;241;43m.\u001b[39;49m\u001b[43mctx\u001b[49m\u001b[38;5;241;43m.\u001b[39;49m\u001b[43mref\u001b[49m\u001b[43m(\u001b[49m\u001b[43m)\u001b[49m\u001b[43m,\u001b[49m\u001b[43m \u001b[49m\u001b[38;5;28;43mself\u001b[39;49m\u001b[38;5;241;43m.\u001b[39;49m\u001b[43msolver\u001b[49m\u001b[43m)\u001b[49m, \u001b[38;5;28mself\u001b[39m\u001b[38;5;241m.\u001b[39mctx)\n\u001b[1;32m   7131\u001b[0m \u001b[38;5;28;01mexcept\u001b[39;00m Z3Exception:\n",
      "File \u001b[0;32m~/.local/lib/python3.10/site-packages/z3/z3core.py:4065\u001b[0m, in \u001b[0;36mZ3_solver_get_model\u001b[0;34m(a0, a1, _elems)\u001b[0m\n\u001b[1;32m   4064\u001b[0m r \u001b[38;5;241m=\u001b[39m _elems\u001b[38;5;241m.\u001b[39mf(a0, a1)\n\u001b[0;32m-> 4065\u001b[0m \u001b[43m_elems\u001b[49m\u001b[38;5;241;43m.\u001b[39;49m\u001b[43mCheck\u001b[49m\u001b[43m(\u001b[49m\u001b[43ma0\u001b[49m\u001b[43m)\u001b[49m\n\u001b[1;32m   4066\u001b[0m \u001b[38;5;28;01mreturn\u001b[39;00m r\n",
      "File \u001b[0;32m~/.local/lib/python3.10/site-packages/z3/z3core.py:1475\u001b[0m, in \u001b[0;36mElementaries.Check\u001b[0;34m(self, ctx)\u001b[0m\n\u001b[1;32m   1474\u001b[0m \u001b[38;5;28;01mif\u001b[39;00m err \u001b[38;5;241m!=\u001b[39m \u001b[38;5;28mself\u001b[39m\u001b[38;5;241m.\u001b[39mOK:\n\u001b[0;32m-> 1475\u001b[0m     \u001b[38;5;28;01mraise\u001b[39;00m \u001b[38;5;28mself\u001b[39m\u001b[38;5;241m.\u001b[39mException(\u001b[38;5;28mself\u001b[39m\u001b[38;5;241m.\u001b[39mget_error_message(ctx, err))\n",
      "\u001b[0;31mZ3Exception\u001b[0m: b'there is no current model'",
      "\nDuring handling of the above exception, another exception occurred:\n",
      "\u001b[0;31mZ3Exception\u001b[0m                               Traceback (most recent call last)",
      "\u001b[0;32m/tmp/ipykernel_3167270/3215372446.py\u001b[0m in \u001b[0;36m?\u001b[0;34m()\u001b[0m\n\u001b[0;32m----> 1\u001b[0;31m \u001b[0mprove\u001b[0m\u001b[0;34m(\u001b[0m\u001b[0mForAll\u001b[0m\u001b[0;34m(\u001b[0m\u001b[0;34m[\u001b[0m\u001b[0ma\u001b[0m\u001b[0;34m,\u001b[0m\u001b[0mv\u001b[0m\u001b[0;34m]\u001b[0m\u001b[0;34m,\u001b[0m \u001b[0mImplies\u001b[0m\u001b[0;34m(\u001b[0m\u001b[0mvmul\u001b[0m\u001b[0;34m(\u001b[0m\u001b[0ma\u001b[0m\u001b[0;34m,\u001b[0m\u001b[0mv\u001b[0m\u001b[0;34m)\u001b[0m \u001b[0;34m==\u001b[0m \u001b[0mvzero\u001b[0m\u001b[0;34m,\u001b[0m \u001b[0mOr\u001b[0m\u001b[0;34m(\u001b[0m\u001b[0ma\u001b[0m \u001b[0;34m==\u001b[0m \u001b[0;36m0\u001b[0m\u001b[0;34m,\u001b[0m \u001b[0mv\u001b[0m \u001b[0;34m==\u001b[0m \u001b[0mvzero\u001b[0m\u001b[0;34m)\u001b[0m\u001b[0;34m)\u001b[0m\u001b[0;34m)\u001b[0m\u001b[0;34m)\u001b[0m\u001b[0;34m\u001b[0m\u001b[0;34m\u001b[0m\u001b[0m\n\u001b[0m",
      "\u001b[0;32m/tmp/ipykernel_3167270/3801997232.py\u001b[0m in \u001b[0;36m?\u001b[0;34m(goal, by)\u001b[0m\n\u001b[1;32m     14\u001b[0m         \u001b[0mprint\u001b[0m\u001b[0;34m(\u001b[0m\u001b[0ms\u001b[0m\u001b[0;34m.\u001b[0m\u001b[0munsat_core\u001b[0m\u001b[0;34m(\u001b[0m\u001b[0;34m)\u001b[0m\u001b[0;34m)\u001b[0m\u001b[0;34m\u001b[0m\u001b[0;34m\u001b[0m\u001b[0m\n\u001b[1;32m     15\u001b[0m         \u001b[0mtheorems\u001b[0m\u001b[0;34m.\u001b[0m\u001b[0mappend\u001b[0m\u001b[0;34m(\u001b[0m\u001b[0mgoal\u001b[0m\u001b[0;34m)\u001b[0m\u001b[0;34m\u001b[0m\u001b[0;34m\u001b[0m\u001b[0m\n\u001b[1;32m     16\u001b[0m         \u001b[0;32mreturn\u001b[0m \u001b[0mgoal\u001b[0m\u001b[0;34m\u001b[0m\u001b[0;34m\u001b[0m\u001b[0m\n\u001b[1;32m     17\u001b[0m     \u001b[0;32melse\u001b[0m\u001b[0;34m:\u001b[0m\u001b[0;34m\u001b[0m\u001b[0;34m\u001b[0m\u001b[0m\n\u001b[0;32m---> 18\u001b[0;31m         \u001b[0;32massert\u001b[0m \u001b[0;32mFalse\u001b[0m\u001b[0;34m,\u001b[0m \u001b[0ms\u001b[0m\u001b[0;34m.\u001b[0m\u001b[0mmodel\u001b[0m\u001b[0;34m(\u001b[0m\u001b[0;34m)\u001b[0m\u001b[0;34m\u001b[0m\u001b[0;34m\u001b[0m\u001b[0m\n\u001b[0m",
      "\u001b[0;32m~/.local/lib/python3.10/site-packages/z3/z3.py\u001b[0m in \u001b[0;36m?\u001b[0;34m(self)\u001b[0m\n\u001b[1;32m   7128\u001b[0m         \"\"\"\n\u001b[1;32m   7129\u001b[0m         \u001b[0;32mtry\u001b[0m\u001b[0;34m:\u001b[0m\u001b[0;34m\u001b[0m\u001b[0;34m\u001b[0m\u001b[0m\n\u001b[1;32m   7130\u001b[0m             \u001b[0;32mreturn\u001b[0m \u001b[0mModelRef\u001b[0m\u001b[0;34m(\u001b[0m\u001b[0mZ3_solver_get_model\u001b[0m\u001b[0;34m(\u001b[0m\u001b[0mself\u001b[0m\u001b[0;34m.\u001b[0m\u001b[0mctx\u001b[0m\u001b[0;34m.\u001b[0m\u001b[0mref\u001b[0m\u001b[0;34m(\u001b[0m\u001b[0;34m)\u001b[0m\u001b[0;34m,\u001b[0m \u001b[0mself\u001b[0m\u001b[0;34m.\u001b[0m\u001b[0msolver\u001b[0m\u001b[0;34m)\u001b[0m\u001b[0;34m,\u001b[0m \u001b[0mself\u001b[0m\u001b[0;34m.\u001b[0m\u001b[0mctx\u001b[0m\u001b[0;34m)\u001b[0m\u001b[0;34m\u001b[0m\u001b[0;34m\u001b[0m\u001b[0m\n\u001b[1;32m   7131\u001b[0m         \u001b[0;32mexcept\u001b[0m \u001b[0mZ3Exception\u001b[0m\u001b[0;34m:\u001b[0m\u001b[0;34m\u001b[0m\u001b[0;34m\u001b[0m\u001b[0m\n\u001b[0;32m-> 7132\u001b[0;31m             \u001b[0;32mraise\u001b[0m \u001b[0mZ3Exception\u001b[0m\u001b[0;34m(\u001b[0m\u001b[0;34m\"model is not available\"\u001b[0m\u001b[0;34m)\u001b[0m\u001b[0;34m\u001b[0m\u001b[0;34m\u001b[0m\u001b[0m\n\u001b[0m",
      "\u001b[0;31mZ3Exception\u001b[0m: model is not available"
     ]
    }
   ],
   "source": [
    "prove(ForAll([a,v], Implies(vmul(a,v) == vzero, Or(a == 0, v == vzero))))"
   ]
  },
  {
   "cell_type": "code",
   "execution_count": 53,
   "metadata": {},
   "outputs": [
    {
     "data": {
      "text/plain": [
       "[ForAll([v1, v2], vadd(v1, v2) == vadd(v2, v1)),\n",
       " ForAll([v1, v2, v3],\n",
       "        vadd(v1, vadd(v2, v3)) == vadd(vadd(v1, v2), v3)),\n",
       " ForAll(v, vadd(v, zero) == v),\n",
       " ForAll(v, vadd(v, vinv(v)) == zero),\n",
       " ForAll(v, vmul(1, v) == v),\n",
       " ForAll([a, b, v], vmul(a*b, v) == vmul(a, vmul(b, v))),\n",
       " ForAll([a, b, v],\n",
       "        vmul(a + b, v) == vadd(vmul(a, v), vmul(b, v))),\n",
       " ForAll([a, v, w],\n",
       "        vmul(a, vadd(v, w)) == vadd(vmul(a, v), vmul(a, w))),\n",
       " ForAll(v, vadd(zero, v) == v),\n",
       " ForAll(v, vadd(vmul(1, v), vmul(-1, v)) == vmul(0, v)),\n",
       " ForAll(v, vmul(-1, v) == vinv(v))]"
      ]
     },
     "execution_count": 53,
     "metadata": {},
     "output_type": "execute_result"
    }
   ],
   "source": [
    "theorems"
   ]
  },
  {
   "cell_type": "code",
   "execution_count": null,
   "metadata": {},
   "outputs": [],
   "source": [
    "dot = Function(\"dot\", V, V, R)\n",
    "dot_sym = ForAll([v,w], dot(v,w) == dot(w,v))"
   ]
  },
  {
   "cell_type": "code",
   "execution_count": null,
   "metadata": {},
   "outputs": [],
   "source": [
    "v = Function(\"v\", R, R, V)\n",
    "ForAll([x1,y1,x2,y2], vadd(v(x1,y1), v(x2,y2)) == v(x1 + x2, y1 + y2))"
   ]
  },
  {
   "cell_type": "markdown",
   "metadata": {},
   "source": [
    "Ideas. \n",
    "Implicit scope\n",
    "scope = [X,Y,Z]\n",
    "then put the ForAll(scope, goal) inside prove\n",
    "\n",
    " "
   ]
  },
  {
   "cell_type": "markdown",
   "metadata": {},
   "source": [
    "---\n",
    "title: Manifolds in Equational Logic\n",
    "---\n",
    "\n",
    "Automated reasoning over\n",
    "Matroids. Synthetic theory of linear independence https://en.wikipedia.org/wiki/Matroid\n",
    "universal injective\n",
    "a dot b = a dot c !-> b = c\n",
    "\n",
    "\"represented by\" =o=  observer dependent\n",
    "two basic vectors e(0),e(1)\n",
    "e'(1) e'(2) a different basis.\n",
    "\n",
    "A parametrized set in abstract V\n",
    "v : R R R -> V\n",
    "v(20,30,-3)\n",
    "It's a linear reprsentation / map\n",
    "v(X1,Y1) + v(X2,Y2) = v(X1 + X2, Y1 + Y2)\n",
    "\n",
    "dot(v(X,Y), v(W,Z)) = X*W + Y*Z\n",
    "\n",
    "<https://en.wikipedia.org/wiki/Vector_space>\n",
    "\n",
    "```python\n",
    "\n",
    "\n",
    "\n",
    "\n",
    "```\n",
    "\n",
    "Interesting questions: Is a coordinate expression an invarinant?  f(X,Y,Z) ?= f'(p(X,Y,Z)). Converting coordinate expressions to invariant forms.\n",
    "axiomatic minkowski\n",
    "\n",
    "I don't know that there can be a canonical formulation of any logic.\n",
    "\n",
    "But equational logic is trees of symbols, some of which are variable symbols. The 0-arity constant symbol `x` is very different from the variable `X` `?x`.\n",
    "This distinction is useful. A statement `f(x) = 1` is a statement about the interaction of a particular `f` on a particular `x`. This may be an equation we'd like to solve for possibille values of `x`. `f(X) = 1` however is a universal statement. If we were working in forist order logic, which throws exists and forall quantifiers into the mix, this statement is the analog of `forall x, f_fol(x) =_fol 1_fol`. It is now stating nothing about a particular `x` but instead stating a global property of the function `f`, that `f` is the constant function.\n",
    "\n",
    "Coordinate systems are a tricky concept. The notation is quite slippery and you learn your way around it.\n",
    "\n",
    "Coordinates are an address book for points. They parametrize points such that.\n",
    "In other words a coordinate system *is* a function of the type `R^n -> M`\n",
    "\n",
    "The concept of a point is discussed in the textbooks, but it is an abstract entity. Since it doesn't really have calculational properties the way numbers, matrices, and numerical functions do. Even abstract things like quantum operators, kind of we have some matrix implementation in the back of my head. Points kind of have no operations on them in general. They can be in relation to other entities like curve, surfaces, etc, but there isn't a notion of point multiplication or addition or scaling except in very special spaces.\n",
    "\n",
    "There is a related notion for a coordinate system of `x : M -> R`.\n",
    "\n",
    "A coorindate transformation such as translation is written like `x' = x + a`. What are these `x`? This is certainly nonsensical as `X' = X + a`. It is also not exactly that we mean are talking about a particular `x` or `x'`. This might be so if we had a particular point of interest, `x'(p) = x(p) + a` but we are talking about transforming the coordinate *system* everywhere.\n",
    "Actually what we are saying is that for any point `x'(P) = x(P) + a`.\n",
    "\n",
    "Anyway, I think the appropriate notation here is\n",
    "\n",
    "```\n",
    "coord'(X,Y,Z) = coord(X - a, Y, Z)\n",
    "```\n",
    "\n",
    "Again, we get used to that if you have an expression `f(x')`,\n",
    "\n",
    "```bash\n",
    "cart : R^3 -> M\n",
    "cart(_,_,_)\n",
    "\n",
    "x y z : M -> R\n",
    "\n",
    "x(cart(X,Y,Z)) = X\n",
    "y(cart(X,Y,Z)) = Y\n",
    "\n",
    "cyl(R,T,Z) = cart(Rcos(T), Rsin(T), Z)\n",
    "cart(X,Y,Z) = cyl(sqrt(X^2 + Y^2), atan2(X,Y), Z)\n",
    "\n",
    "point : M\n",
    "\n",
    "dist : M -> M -> R\n",
    "dist(P1,P2) \n",
    "\n",
    "% hyperreals?\n",
    "\n",
    "\n",
    "a curve.\n",
    "p : R -> M\n",
    "p(T) = cart(T,T,0)\n",
    "\n",
    "\n",
    "%vector derivative\n",
    "% a rate of change of a function\n",
    "dp : (M -> R) -> R -> R  % (?)\n",
    "dp(f)(T) = f'(p(T)) * 2\n",
    "\n",
    "% vector field\n",
    "v : (M -> R) -> M -> R\n",
    "\n",
    "\n",
    "\n",
    "\n",
    "a surface\n",
    "q : M2 -> M\n",
    "\n",
    "chart : R^2 -> M2\n",
    "x(q(chart(X,Y))) =\n",
    "\n",
    "% exterior deriavtive\n",
    "d : (M -> R) -> M -> ?\n",
    "\n",
    "% a different cartersian coordinate system\n",
    "x(cart'(X,Y,Z)) = x(cart(X,Y,Z)) + a\n",
    "```\n",
    "\n",
    "it would be nice for the charts to be partial.\n"
   ]
  }
 ],
 "metadata": {
  "kernelspec": {
   "display_name": "Python 3",
   "language": "python",
   "name": "python3"
  },
  "language_info": {
   "codemirror_mode": {
    "name": "ipython",
    "version": 3
   },
   "file_extension": ".py",
   "mimetype": "text/x-python",
   "name": "python",
   "nbconvert_exporter": "python",
   "pygments_lexer": "ipython3",
   "version": "3.10.12"
  }
 },
 "nbformat": 4,
 "nbformat_minor": 2
}
