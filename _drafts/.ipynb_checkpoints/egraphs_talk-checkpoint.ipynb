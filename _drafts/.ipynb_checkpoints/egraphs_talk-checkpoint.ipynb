{
 "cells": [
  {
   "cell_type": "markdown",
   "metadata": {
    "slideshow": {
     "slide_type": "slide"
    }
   },
   "source": [
    "# Egraphs and Automated Reasoning\n",
    "### Looking Back to Look Forward\n",
    "\n",
    "Philip Zucker\n",
    "\n",
    "June 22, 2024\n"
   ]
  },
  {
   "cell_type": "markdown",
   "metadata": {
    "slideshow": {
     "slide_type": "slide"
    }
   },
   "source": [
    "In the Beginning..."
   ]
  },
  {
   "cell_type": "markdown",
   "metadata": {
    "slideshow": {
     "slide_type": "fragment"
    }
   },
   "source": [
    "# SIMPLIFICATION"
   ]
  },
  {
   "cell_type": "code",
   "execution_count": null,
   "metadata": {
    "slideshow": {
     "slide_type": "skip"
    }
   },
   "outputs": [],
   "source": [
    "- There was simplification.\n",
    "- Brute Equational Search"
   ]
  },
  {
   "cell_type": "markdown",
   "metadata": {
    "slideshow": {
     "slide_type": "slide"
    }
   },
   "source": [
    "Greedy:\n",
    "- Missed optimizations\n",
    "- Ordering of rules matters\n",
    "- Hard to reason about\n",
    "- Nontermination\n",
    "\n",
    "Problems:\n",
    "- Brute search is very explosive"
   ]
  },
  {
   "cell_type": "markdown",
   "metadata": {
    "slideshow": {
     "slide_type": "slide"
    }
   },
   "source": [
    "Term Orderings\n",
    "- Mostly getting a smaller term is better\n",
    "- If terms keep shrinking, they have to stop.\n",
    "- [Ground KBO](https://www.philipzucker.com/ground_kbo/)\n"
   ]
  },
  {
   "cell_type": "code",
   "execution_count": null,
   "metadata": {
    "slideshow": {
     "slide_type": "skip"
    }
   },
   "outputs": [],
   "source": [
    "from enum import Enum\n",
    "from z3 import *\n",
    "Order = Enum(\"Order\", [\"LT\", \"EQ\", \"NGE\", \"GT\"])\n",
    "def kbo(t, r):\n",
    "    pass\n",
    "\n",
    "def size(t:ExprRef):\n",
    "    return 1 + sum(size(x) for x in t.children())\n",
    "def ground_kbo(t1, t2):\n",
    "    if t1.eq(t2): # optimization\n",
    "        return Order.EQ\n",
    "    s1 = size(t1)\n",
    "    s2 = size(t2)\n",
    "    if s1 < s2:\n",
    "        return Order.LT\n",
    "    elif s1 > s2:\n",
    "        return Order.GT\n",
    "    else:\n",
    "        if t1.num_args() < t1.num_args():\n",
    "            return Order.LT\n",
    "        elif t2.num_args() > t2.num_args():\n",
    "            return Order.GT\n",
    "        n1, n2 = t1.decl().name(), t2.decl().name()\n",
    "        if n1 < n2:\n",
    "            return Order.LT\n",
    "        elif n1 > n2:\n",
    "            return Order.GT\n",
    "        else:\n",
    "            for x,y in zip(t1.children(), t2.children()):\n",
    "                o = ground_kbo(x,y)\n",
    "                if o != Order.EQ:\n",
    "                    return o\n",
    "            assert False, \"unreachable\""
   ]
  },
  {
   "cell_type": "code",
   "execution_count": null,
   "metadata": {},
   "outputs": [],
   "source": []
  },
  {
   "cell_type": "markdown",
   "metadata": {
    "slideshow": {
     "slide_type": "slide"
    }
   },
   "source": [
    "Completion\n",
    "- Fact: Ground completion terminates\n",
    "- Basic Completion\n",
    "    + Orient equations\n",
    "    + Find critical pairs\n",
    "    + reduce\n"
   ]
  },
  {
   "cell_type": "markdown",
   "metadata": {
    "slideshow": {
     "slide_type": "slide"
    }
   },
   "source": [
    "Union Finds are Atomic Rewrite Systems\n",
    "\n",
    "\n"
   ]
  },
  {
   "cell_type": "code",
   "execution_count": null,
   "metadata": {},
   "outputs": [],
   "source": [
    "def reduce_atom(a,R): # find\n",
    "    while True:\n",
    "        for (l,r) in R:\n",
    "            if a.eq(l):\n",
    "                a = r\n",
    "        else:\n",
    "            break\n",
    "\n",
    "def critical_pairs(R):\n",
    "    for (l1,r1) in R:\n",
    "        for (l2,r2) in R:\n",
    "            if l1.eq(l2):\n",
    "                r1 = reduce_atom(r1, R)\n",
    "                r2 = reduce_atom(r2, R)\n",
    "                if not r1.eq(r2)\n",
    "                    yield r1, r2\n",
    "\n",
    "def complete(R):\n",
    "    for a,b in critical_pairs(R):\n",
    "        match ground_kbo(a,b):\n",
    "            case Order.GT:\n",
    "                a,b = a,b\n",
    "            case Order.LT:\n",
    "                a,b = b,a\n",
    "            case Order.EQ:\n",
    "                return R\n",
    "\n",
    "def complete(a,b,R): # union\n",
    "    match ground_kbo(a,b):\n",
    "        case Order.GT:\n",
    "            a,b = a,b\n",
    "        case Order.LT:\n",
    "            a,b = b,a\n",
    "        case Order.EQ:\n",
    "            return R\n",
    "    while True:\n",
    "        \n",
    "    "
   ]
  },
  {
   "cell_type": "code",
   "execution_count": 32,
   "metadata": {},
   "outputs": [
    {
     "name": "stderr",
     "output_type": "stream",
     "text": [
      "Warning: node 8, port head unrecognized\n"
     ]
    },
    {
     "name": "stdout",
     "output_type": "stream",
     "text": [
      "<head>a| {}\n",
      "<head>b| {}\n",
      "<head>b| {}\n",
      "<head>c| {}\n",
      "<head>d| {}\n",
      "<head>e| {}\n",
      "<head>+| {<p0>0|<p1>1}\n",
      "<head>c| {}\n",
      "<head>+| {<p0>0|<p1>1}\n",
      "<head>d| {}\n"
     ]
    },
    {
     "data": {
      "image/svg+xml": [
       "<?xml version=\"1.0\" encoding=\"UTF-8\" standalone=\"no\"?>\n",
       "<!DOCTYPE svg PUBLIC \"-//W3C//DTD SVG 1.1//EN\"\n",
       " \"http://www.w3.org/Graphics/SVG/1.1/DTD/svg11.dtd\">\n",
       "<!-- Generated by graphviz version 2.43.0 (0)\n",
       " -->\n",
       "<!-- Title: %3 Pages: 1 -->\n",
       "<svg width=\"239pt\" height=\"357pt\"\n",
       " viewBox=\"0.00 0.00 238.50 357.00\" xmlns=\"http://www.w3.org/2000/svg\" xmlns:xlink=\"http://www.w3.org/1999/xlink\">\n",
       "<g id=\"graph0\" class=\"graph\" transform=\"scale(1 1) rotate(0) translate(4 353)\">\n",
       "<title>%3</title>\n",
       "<polygon fill=\"white\" stroke=\"transparent\" points=\"-4,4 -4,-353 234.5,-353 234.5,4 -4,4\"/>\n",
       "<!-- 5 -->\n",
       "<g id=\"node1\" class=\"node\">\n",
       "<title>5</title>\n",
       "<polygon fill=\"none\" stroke=\"black\" points=\"70.5,-229.5 70.5,-265.5 124.5,-265.5 124.5,-229.5 70.5,-229.5\"/>\n",
       "<text text-anchor=\"middle\" x=\"85\" y=\"-243.8\" font-family=\"Times,serif\" font-size=\"14.00\">a</text>\n",
       "<polyline fill=\"none\" stroke=\"black\" points=\"99.5,-229.5 99.5,-265.5 \"/>\n",
       "<text text-anchor=\"middle\" x=\"112\" y=\"-243.8\" font-family=\"Times,serif\" font-size=\"14.00\"> </text>\n",
       "</g>\n",
       "<!-- 6 -->\n",
       "<g id=\"node2\" class=\"node\">\n",
       "<title>6</title>\n",
       "<polygon fill=\"none\" stroke=\"black\" points=\"32.5,-151.5 32.5,-187.5 86.5,-187.5 86.5,-151.5 32.5,-151.5\"/>\n",
       "<text text-anchor=\"middle\" x=\"47\" y=\"-165.8\" font-family=\"Times,serif\" font-size=\"14.00\">b</text>\n",
       "<polyline fill=\"none\" stroke=\"black\" points=\"61.5,-151.5 61.5,-187.5 \"/>\n",
       "<text text-anchor=\"middle\" x=\"74\" y=\"-165.8\" font-family=\"Times,serif\" font-size=\"14.00\"> </text>\n",
       "</g>\n",
       "<!-- 5&#45;&gt;6 -->\n",
       "<g id=\"edge1\" class=\"edge\">\n",
       "<title>5&#45;&gt;6</title>\n",
       "<path fill=\"none\" stroke=\"black\" stroke-dasharray=\"5,2\" d=\"M88.88,-229.25C84.07,-219.63 77.98,-207.45 72.59,-196.68\"/>\n",
       "<polygon fill=\"black\" stroke=\"black\" points=\"75.69,-195.06 68.09,-187.68 69.43,-198.19 75.69,-195.06\"/>\n",
       "</g>\n",
       "<!-- 7 -->\n",
       "<g id=\"node3\" class=\"node\">\n",
       "<title>7</title>\n",
       "<polygon fill=\"none\" stroke=\"black\" points=\"32.5,-73.5 32.5,-109.5 86.5,-109.5 86.5,-73.5 32.5,-73.5\"/>\n",
       "<text text-anchor=\"middle\" x=\"46.5\" y=\"-87.8\" font-family=\"Times,serif\" font-size=\"14.00\">c</text>\n",
       "<polyline fill=\"none\" stroke=\"black\" points=\"60.5,-73.5 60.5,-109.5 \"/>\n",
       "<text text-anchor=\"middle\" x=\"73.5\" y=\"-87.8\" font-family=\"Times,serif\" font-size=\"14.00\"> </text>\n",
       "</g>\n",
       "<!-- 6&#45;&gt;7 -->\n",
       "<g id=\"edge2\" class=\"edge\">\n",
       "<title>6&#45;&gt;7</title>\n",
       "<path fill=\"none\" stroke=\"black\" stroke-dasharray=\"5,2\" d=\"M59.5,-151.25C59.5,-142.02 59.5,-130.43 59.5,-119.99\"/>\n",
       "<polygon fill=\"black\" stroke=\"black\" points=\"63,-119.68 59.5,-109.68 56,-119.68 63,-119.68\"/>\n",
       "</g>\n",
       "<!-- 10 -->\n",
       "<g id=\"node4\" class=\"node\">\n",
       "<title>10</title>\n",
       "<polygon fill=\"none\" stroke=\"black\" points=\"104.5,-73.5 104.5,-109.5 158.5,-109.5 158.5,-73.5 104.5,-73.5\"/>\n",
       "<text text-anchor=\"middle\" x=\"119\" y=\"-87.8\" font-family=\"Times,serif\" font-size=\"14.00\">d</text>\n",
       "<polyline fill=\"none\" stroke=\"black\" points=\"133.5,-73.5 133.5,-109.5 \"/>\n",
       "<text text-anchor=\"middle\" x=\"146\" y=\"-87.8\" font-family=\"Times,serif\" font-size=\"14.00\"> </text>\n",
       "</g>\n",
       "<!-- 9 -->\n",
       "<g id=\"node5\" class=\"node\">\n",
       "<title>9</title>\n",
       "<polygon fill=\"none\" stroke=\"black\" points=\"104.5,-0.5 104.5,-36.5 158.5,-36.5 158.5,-0.5 104.5,-0.5\"/>\n",
       "<text text-anchor=\"middle\" x=\"119\" y=\"-14.8\" font-family=\"Times,serif\" font-size=\"14.00\">e</text>\n",
       "<polyline fill=\"none\" stroke=\"black\" points=\"133.5,-0.5 133.5,-36.5 \"/>\n",
       "<text text-anchor=\"middle\" x=\"146\" y=\"-14.8\" font-family=\"Times,serif\" font-size=\"14.00\"> </text>\n",
       "</g>\n",
       "<!-- 10&#45;&gt;9 -->\n",
       "<g id=\"edge3\" class=\"edge\">\n",
       "<title>10&#45;&gt;9</title>\n",
       "<path fill=\"none\" stroke=\"black\" stroke-dasharray=\"5,2\" d=\"M131.5,-73.31C131.5,-65.29 131.5,-55.55 131.5,-46.57\"/>\n",
       "<polygon fill=\"black\" stroke=\"black\" points=\"135,-46.53 131.5,-36.53 128,-46.53 135,-46.53\"/>\n",
       "</g>\n",
       "<!-- 11 -->\n",
       "<g id=\"node6\" class=\"node\">\n",
       "<title>11</title>\n",
       "<polygon fill=\"none\" stroke=\"black\" points=\"0,-302.5 0,-348.5 55,-348.5 55,-302.5 0,-302.5\"/>\n",
       "<text text-anchor=\"middle\" x=\"14.5\" y=\"-321.8\" font-family=\"Times,serif\" font-size=\"14.00\">+</text>\n",
       "<polyline fill=\"none\" stroke=\"black\" points=\"29,-302.5 29,-348.5 \"/>\n",
       "<text text-anchor=\"middle\" x=\"42\" y=\"-333.3\" font-family=\"Times,serif\" font-size=\"14.00\">0</text>\n",
       "<polyline fill=\"none\" stroke=\"black\" points=\"29,-325.5 55,-325.5 \"/>\n",
       "<text text-anchor=\"middle\" x=\"42\" y=\"-310.3\" font-family=\"Times,serif\" font-size=\"14.00\">1</text>\n",
       "</g>\n",
       "<!-- 11&#45;&gt;5 -->\n",
       "<g id=\"edge5\" class=\"edge\">\n",
       "<title>11:p0&#45;&gt;5:head</title>\n",
       "<path fill=\"none\" stroke=\"black\" d=\"M56.5,-337.5C87.29,-337.5 85.31,-307.07 84.63,-276.05\"/>\n",
       "<polygon fill=\"black\" stroke=\"black\" points=\"88.13,-275.95 84.5,-266 81.13,-276.05 88.13,-275.95\"/>\n",
       "</g>\n",
       "<!-- 11&#45;&gt;6 -->\n",
       "<g id=\"edge6\" class=\"edge\">\n",
       "<title>11:p1&#45;&gt;6:head</title>\n",
       "<path fill=\"none\" stroke=\"black\" d=\"M42.5,-302C42.5,-255.07 45.96,-240.93 46.44,-198.61\"/>\n",
       "<polygon fill=\"black\" stroke=\"black\" points=\"49.94,-198.52 46.5,-188.5 42.94,-198.48 49.94,-198.52\"/>\n",
       "</g>\n",
       "<!-- 11&#45;&gt;7 -->\n",
       "<g id=\"edge4\" class=\"edge\">\n",
       "<title>11&#45;&gt;7</title>\n",
       "<path fill=\"none\" stroke=\"black\" stroke-dasharray=\"5,2\" d=\"M22.67,-302.47C16.1,-268.16 6.95,-200.26 23.5,-146 26.51,-136.15 32,-126.46 37.81,-118.1\"/>\n",
       "<polygon fill=\"black\" stroke=\"black\" points=\"40.74,-120.03 43.89,-109.91 35.12,-115.86 40.74,-120.03\"/>\n",
       "</g>\n",
       "<!-- 12 -->\n",
       "<g id=\"node7\" class=\"node\">\n",
       "<title>12</title>\n",
       "<polygon fill=\"none\" stroke=\"black\" points=\"105,-146.5 105,-192.5 160,-192.5 160,-146.5 105,-146.5\"/>\n",
       "<text text-anchor=\"middle\" x=\"119.5\" y=\"-165.8\" font-family=\"Times,serif\" font-size=\"14.00\">+</text>\n",
       "<polyline fill=\"none\" stroke=\"black\" points=\"134,-146.5 134,-192.5 \"/>\n",
       "<text text-anchor=\"middle\" x=\"147\" y=\"-177.3\" font-family=\"Times,serif\" font-size=\"14.00\">0</text>\n",
       "<polyline fill=\"none\" stroke=\"black\" points=\"134,-169.5 160,-169.5 \"/>\n",
       "<text text-anchor=\"middle\" x=\"147\" y=\"-154.3\" font-family=\"Times,serif\" font-size=\"14.00\">1</text>\n",
       "</g>\n",
       "<!-- 12&#45;&gt;7 -->\n",
       "<g id=\"edge9\" class=\"edge\">\n",
       "<title>12:p1&#45;&gt;7:head</title>\n",
       "<path fill=\"none\" stroke=\"black\" d=\"M147.5,-146C147.5,-102.44 63.11,-148.25 48.61,-120.05\"/>\n",
       "<polygon fill=\"black\" stroke=\"black\" points=\"51.98,-119.07 46.5,-110 45.13,-120.51 51.98,-119.07\"/>\n",
       "</g>\n",
       "<!-- 12&#45;&gt;10 -->\n",
       "<g id=\"edge7\" class=\"edge\">\n",
       "<title>12&#45;&gt;10</title>\n",
       "<path fill=\"none\" stroke=\"black\" stroke-dasharray=\"5,2\" d=\"M132.21,-146.11C132.1,-137.98 131.98,-128.7 131.86,-120.17\"/>\n",
       "<polygon fill=\"black\" stroke=\"black\" points=\"135.36,-119.87 131.73,-109.91 128.36,-119.96 135.36,-119.87\"/>\n",
       "</g>\n",
       "<!-- 8 -->\n",
       "<g id=\"node8\" class=\"node\">\n",
       "<title>8</title>\n",
       "<ellipse fill=\"none\" stroke=\"black\" cx=\"203.5\" cy=\"-91.5\" rx=\"27\" ry=\"18\"/>\n",
       "<text text-anchor=\"middle\" x=\"203.5\" y=\"-87.8\" font-family=\"Times,serif\" font-size=\"14.00\">8</text>\n",
       "</g>\n",
       "<!-- 12&#45;&gt;8 -->\n",
       "<g id=\"edge8\" class=\"edge\">\n",
       "<title>12:p0&#45;&gt;8:head</title>\n",
       "<path fill=\"none\" stroke=\"black\" d=\"M161.5,-181.5C189.13,-181.5 198.61,-145.98 201.85,-119.82\"/>\n",
       "<polygon fill=\"black\" stroke=\"black\" points=\"205.35,-119.96 202.86,-109.66 198.39,-119.26 205.35,-119.96\"/>\n",
       "</g>\n",
       "</g>\n",
       "</svg>\n"
      ],
      "text/plain": [
       "<graphviz.graphs.Digraph at 0x7f608039d240>"
      ]
     },
     "execution_count": 32,
     "metadata": {},
     "output_type": "execute_result"
    }
   ],
   "source": [
    "import graphviz\n",
    "def node(e):\n",
    "    return str(e.get_id())\n",
    "\n",
    "def graphviz_of_z3(e, dot):\n",
    "    label = \"<head>\" + e.decl().name() + \"| {\" + \"|\".join([ f\"<p{n}>{n}\" for n in range(e.num_args())]) + \"}\"\n",
    "    print(label)\n",
    "    dot.node(node(e), label, shape=\"record\") # id?\n",
    "    for n,c in enumerate(e.children()):\n",
    "        dot.edge(node(e) + \":p\" + str(n) , node(c) + \":head\")\n",
    "\n",
    "def show_rewrite(R):\n",
    "    dot = graphviz.Digraph()\n",
    "    for l,r in R:\n",
    "        dot.edge(node(l), node(r), style=\"dashed\")\n",
    "        graphviz_of_z3(l,dot)\n",
    "        graphviz_of_z3(r,dot)\n",
    "    return dot\n",
    "        \n",
    "from z3 import *\n",
    "a,b,c,d,e = Consts(\"a b c d e\", IntSort())\n",
    "\n",
    "show_rewrite([(a,b), (b,c), (d,e), (a  + b, c), (a-b+c, d)])"
   ]
  },
  {
   "cell_type": "code",
   "execution_count": 27,
   "metadata": {},
   "outputs": [
    {
     "data": {
      "text/plain": [
       "['__add__',\n",
       " '__bool__',\n",
       " '__class__',\n",
       " '__copy__',\n",
       " '__deepcopy__',\n",
       " '__del__',\n",
       " '__delattr__',\n",
       " '__dict__',\n",
       " '__dir__',\n",
       " '__div__',\n",
       " '__doc__',\n",
       " '__eq__',\n",
       " '__format__',\n",
       " '__ge__',\n",
       " '__getattribute__',\n",
       " '__gt__',\n",
       " '__hash__',\n",
       " '__init__',\n",
       " '__init_subclass__',\n",
       " '__le__',\n",
       " '__lt__',\n",
       " '__mod__',\n",
       " '__module__',\n",
       " '__mul__',\n",
       " '__ne__',\n",
       " '__neg__',\n",
       " '__new__',\n",
       " '__nonzero__',\n",
       " '__pos__',\n",
       " '__pow__',\n",
       " '__radd__',\n",
       " '__rdiv__',\n",
       " '__reduce__',\n",
       " '__reduce_ex__',\n",
       " '__repr__',\n",
       " '__rmod__',\n",
       " '__rmul__',\n",
       " '__rpow__',\n",
       " '__rsub__',\n",
       " '__rtruediv__',\n",
       " '__setattr__',\n",
       " '__sizeof__',\n",
       " '__str__',\n",
       " '__sub__',\n",
       " '__subclasshook__',\n",
       " '__truediv__',\n",
       " '__weakref__',\n",
       " '_repr_html_',\n",
       " 'arg',\n",
       " 'as_ast',\n",
       " 'ast',\n",
       " 'children',\n",
       " 'ctx',\n",
       " 'ctx_ref',\n",
       " 'decl',\n",
       " 'eq',\n",
       " 'from_string',\n",
       " 'get_id',\n",
       " 'hash',\n",
       " 'is_int',\n",
       " 'is_real',\n",
       " 'num_args',\n",
       " 'params',\n",
       " 'serialize',\n",
       " 'sexpr',\n",
       " 'sort',\n",
       " 'sort_kind',\n",
       " 'translate',\n",
       " 'use_pp']"
      ]
     },
     "execution_count": 27,
     "metadata": {},
     "output_type": "execute_result"
    }
   ],
   "source": [
    "dir(a+b)"
   ]
  },
  {
   "cell_type": "code",
   "execution_count": null,
   "metadata": {},
   "outputs": [],
   "source": []
  },
  {
   "cell_type": "markdown",
   "metadata": {
    "slideshow": {
     "slide_type": "slide"
    }
   },
   "source": [
    "Canonized Egraph = Canoninized GRS\n",
    "- We have terms\n",
    "- "
   ]
  },
  {
   "cell_type": "markdown",
   "metadata": {},
   "source": [
    "\"Skolemization\" of eclasses\n"
   ]
  },
  {
   "cell_type": "markdown",
   "metadata": {
    "slideshow": {
     "slide_type": "slide"
    }
   },
   "source": [
    "# Tree Automata\n",
    "- Strings ~ single argument terms\n",
    "- Term rewriting formulation of DFA\n",
    "- Generalizes to Tree"
   ]
  },
  {
   "cell_type": "markdown",
   "metadata": {
    "slideshow": {
     "slide_type": "slide"
    }
   },
   "source": [
    "# Resolution\n",
    "- Resolution\n",
    "- Ordered Resolution\n",
    "- Datalog\n",
    "- Prolog\n",
    "\n",
    "note: have box that like fills in? Left side is propositional, right is equational. \n",
    "not a \\/ b === a -> b"
   ]
  },
  {
   "cell_type": "markdown",
   "metadata": {},
   "source": [
    "# Strategies\n",
    "- Set of Support\n",
    "- UR-resolution"
   ]
  },
  {
   "cell_type": "markdown",
   "metadata": {},
   "source": [
    "# Equations\n",
    "- paramodulation\n",
    "- Superposition\n",
    "- Egglog\n",
    "- Functional Logic Programming"
   ]
  },
  {
   "cell_type": "markdown",
   "metadata": {},
   "source": [
    "# Philosophy\n",
    "- What is it about egg? Pictures + Compiler. Not a conceptual high bar to entry.\n",
    "- Non completeness\n",
    "- Limited scope leads to highly refined, fast, implementation"
   ]
  },
  {
   "cell_type": "markdown",
   "metadata": {},
   "source": [
    "\n",
    "- Handbook of automated reasononig\n",
    "- Term Rewriting and All That\n",
    "- Automated Reasoning: An Introduction"
   ]
  },
  {
   "cell_type": "markdown",
   "metadata": {},
   "source": [
    "I've noted before it isn't obvious what goes into the box next to completion in the propositional case\n",
    "\n",
    "Ground atomic superposition is a contextual union find.\n",
    "\n",
    "\n",
    "? = completion\n",
    "lambda prolog = ?\n",
    "hilog = ?\n",
    "contextual datalog = ?\n",
    "hypothetical prolog = ?\n",
    "\n"
   ]
  },
  {
   "cell_type": "code",
   "execution_count": null,
   "metadata": {},
   "outputs": [],
   "source": [
    "def simplify1(t : Term) -> Term:\n"
   ]
  },
  {
   "cell_type": "markdown",
   "metadata": {},
   "source": [
    "# Bits and Bobbles\n",
    "\n",
    "Slides from juptyer?  I can nbconvert\n",
    "\n",
    "\n",
    "Animations?"
   ]
  }
 ],
 "metadata": {
  "celltoolbar": "Slideshow",
  "kernelspec": {
   "display_name": "Python 3 (ipykernel)",
   "language": "python",
   "name": "python3"
  },
  "language_info": {
   "codemirror_mode": {
    "name": "ipython",
    "version": 3
   },
   "file_extension": ".py",
   "mimetype": "text/x-python",
   "name": "python",
   "nbconvert_exporter": "python",
   "pygments_lexer": "ipython3",
   "version": "3.10.12"
  }
 },
 "nbformat": 4,
 "nbformat_minor": 2
}
