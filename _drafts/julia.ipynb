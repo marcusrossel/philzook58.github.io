{
 "cells": [
  {
   "cell_type": "code",
   "execution_count": 25,
   "metadata": {},
   "outputs": [
    {
     "name": "stdout",
     "output_type": "stream",
     "text": [
      "hellow world\n"
     ]
    }
   ],
   "source": [
    "1 + 1\n",
    "[1,2,3] # vector\n",
    "[1 2 3; 4 5 6] # matrix\n",
    "[1 2 3] # matrix\n",
    "[2 * i for i in 1:7]\n",
    "println(\"hellow world\")\n",
    "typeof(7.4)\n",
    "eps(Float64)\n",
    "ones(10)\n",
    "zeros(10)\n",
    "[1,2,3] .* [3,4,5]  # vectorixzation\n",
    "1 + 2im\n",
    "function foo(x,y)\n",
    "    x + y\n",
    "end\n",
    "foo(x,y) = x + y\n",
    "struct Foo\n",
    "    x\n",
    "    y\n",
    "end"
   ]
  },
  {
   "cell_type": "markdown",
   "metadata": {},
   "source": [
    "I should move the old thoughtbooks in this repo\n",
    "\n",
    "Applicative Julia. Julia is more expresison orented than python\n",
    "\n",
    "Package up herbie and other goodies?\n",
    "\n",
    "pycall\n",
    "https://github.com/JuliaGPU/AMDGPU.jl https://juliagpu.org/"
   ]
  },
  {
   "cell_type": "code",
   "execution_count": null,
   "metadata": {},
   "outputs": [],
   "source": [
    "using Catlab\n"
   ]
  },
  {
   "cell_type": "code",
   "execution_count": 27,
   "metadata": {},
   "outputs": [
    {
     "data": {
      "text/html": [
       "<div class=\"c-set\">\n",
       "<span class=\"c-set-summary\">DeltaSet1D {V:4, E:3}</span>\n",
       "<table>\n",
       "  <thead>\n",
       "    <tr class = \"header headerLastRow\">\n",
       "      <th class = \"rowLabel\" style = \"font-weight: bold; text-align: right;\">E</th>\n",
       "      <th style = \"text-align: right;\">∂v0</th>\n",
       "      <th style = \"text-align: right;\">∂v1</th>\n",
       "    </tr>\n",
       "  </thead>\n",
       "  <tbody>\n",
       "    <tr>\n",
       "      <td class = \"rowLabel\" style = \"font-weight: bold; text-align: right;\">1</td>\n",
       "      <td style = \"text-align: right;\">2</td>\n",
       "      <td style = \"text-align: right;\">1</td>\n",
       "    </tr>\n",
       "    <tr>\n",
       "      <td class = \"rowLabel\" style = \"font-weight: bold; text-align: right;\">2</td>\n",
       "      <td style = \"text-align: right;\">3</td>\n",
       "      <td style = \"text-align: right;\">2</td>\n",
       "    </tr>\n",
       "    <tr>\n",
       "      <td class = \"rowLabel\" style = \"font-weight: bold; text-align: right;\">3</td>\n",
       "      <td style = \"text-align: right;\">4</td>\n",
       "      <td style = \"text-align: right;\">2</td>\n",
       "    </tr>\n",
       "  </tbody>\n",
       "</table>\n",
       "</div>\n"
      ],
      "text/plain": [
       "DeltaSet1D {V:4, E:3}\n",
       "┌───┬─────┬─────┐\n",
       "│\u001b[1m E \u001b[0m│\u001b[1m ∂v0 \u001b[0m│\u001b[1m ∂v1 \u001b[0m│\n",
       "├───┼─────┼─────┤\n",
       "│\u001b[1m 1 \u001b[0m│   2 │   1 │\n",
       "│\u001b[1m 2 \u001b[0m│   3 │   2 │\n",
       "│\u001b[1m 3 \u001b[0m│   4 │   2 │\n",
       "└───┴─────┴─────┘\n"
      ]
     },
     "execution_count": 27,
     "metadata": {},
     "output_type": "execute_result"
    }
   ],
   "source": [
    "# https://algebraicjulia.github.io/CombinatorialSpaces.jl/dev/simplicial_sets/\n",
    "using CombinatorialSpaces\n",
    "dset = DeltaSet1D()\n",
    "add_vertices!(dset,4)\n",
    "add_edges!(dset, [1,2,2], [2,3,4])\n",
    "dset"
   ]
  },
  {
   "cell_type": "code",
   "execution_count": 28,
   "metadata": {},
   "outputs": [
    {
     "data": {
      "text/html": [
       "<div class=\"c-set\">\n",
       "<span class=\"c-set-summary\">DeltaSet2D {V:4, E:5, Tri:2}</span>\n",
       "<table>\n",
       "  <thead>\n",
       "    <tr class = \"header headerLastRow\">\n",
       "      <th class = \"rowLabel\" style = \"font-weight: bold; text-align: right;\">E</th>\n",
       "      <th style = \"text-align: right;\">∂v0</th>\n",
       "      <th style = \"text-align: right;\">∂v1</th>\n",
       "    </tr>\n",
       "  </thead>\n",
       "  <tbody>\n",
       "    <tr>\n",
       "      <td class = \"rowLabel\" style = \"font-weight: bold; text-align: right;\">1</td>\n",
       "      <td style = \"text-align: right;\">2</td>\n",
       "      <td style = \"text-align: right;\">1</td>\n",
       "    </tr>\n",
       "    <tr>\n",
       "      <td class = \"rowLabel\" style = \"font-weight: bold; text-align: right;\">2</td>\n",
       "      <td style = \"text-align: right;\">3</td>\n",
       "      <td style = \"text-align: right;\">2</td>\n",
       "    </tr>\n",
       "    <tr>\n",
       "      <td class = \"rowLabel\" style = \"font-weight: bold; text-align: right;\">3</td>\n",
       "      <td style = \"text-align: right;\">3</td>\n",
       "      <td style = \"text-align: right;\">1</td>\n",
       "    </tr>\n",
       "    <tr>\n",
       "      <td class = \"rowLabel\" style = \"font-weight: bold; text-align: right;\">4</td>\n",
       "      <td style = \"text-align: right;\">4</td>\n",
       "      <td style = \"text-align: right;\">1</td>\n",
       "    </tr>\n",
       "    <tr>\n",
       "      <td class = \"rowLabel\" style = \"font-weight: bold; text-align: right;\">5</td>\n",
       "      <td style = \"text-align: right;\">3</td>\n",
       "      <td style = \"text-align: right;\">4</td>\n",
       "    </tr>\n",
       "  </tbody>\n",
       "</table>\n",
       "<table>\n",
       "  <thead>\n",
       "    <tr class = \"header headerLastRow\">\n",
       "      <th class = \"rowLabel\" style = \"font-weight: bold; text-align: right;\">Tri</th>\n",
       "      <th style = \"text-align: right;\">∂e0</th>\n",
       "      <th style = \"text-align: right;\">∂e1</th>\n",
       "      <th style = \"text-align: right;\">∂e2</th>\n",
       "    </tr>\n",
       "  </thead>\n",
       "  <tbody>\n",
       "    <tr>\n",
       "      <td class = \"rowLabel\" style = \"font-weight: bold; text-align: right;\">1</td>\n",
       "      <td style = \"text-align: right;\">2</td>\n",
       "      <td style = \"text-align: right;\">3</td>\n",
       "      <td style = \"text-align: right;\">1</td>\n",
       "    </tr>\n",
       "    <tr>\n",
       "      <td class = \"rowLabel\" style = \"font-weight: bold; text-align: right;\">2</td>\n",
       "      <td style = \"text-align: right;\">5</td>\n",
       "      <td style = \"text-align: right;\">3</td>\n",
       "      <td style = \"text-align: right;\">4</td>\n",
       "    </tr>\n",
       "  </tbody>\n",
       "</table>\n",
       "</div>\n"
      ],
      "text/plain": [
       "DeltaSet2D {V:4, E:5, Tri:2}\n",
       "┌───┬─────┬─────┐\n",
       "│\u001b[1m E \u001b[0m│\u001b[1m ∂v0 \u001b[0m│\u001b[1m ∂v1 \u001b[0m│\n",
       "├───┼─────┼─────┤\n",
       "│\u001b[1m 1 \u001b[0m│   2 │   1 │\n",
       "│\u001b[1m 2 \u001b[0m│   3 │   2 │\n",
       "│\u001b[1m 3 \u001b[0m│   3 │   1 │\n",
       "│\u001b[1m 4 \u001b[0m│   4 │   1 │\n",
       "│\u001b[1m 5 \u001b[0m│   3 │   4 │\n",
       "└───┴─────┴─────┘\n",
       "┌─────┬─────┬─────┬─────┐\n",
       "│\u001b[1m Tri \u001b[0m│\u001b[1m ∂e0 \u001b[0m│\u001b[1m ∂e1 \u001b[0m│\u001b[1m ∂e2 \u001b[0m│\n",
       "├─────┼─────┼─────┼─────┤\n",
       "│\u001b[1m   1 \u001b[0m│   2 │   3 │   1 │\n",
       "│\u001b[1m   2 \u001b[0m│   5 │   3 │   4 │\n",
       "└─────┴─────┴─────┴─────┘\n"
      ]
     },
     "execution_count": 28,
     "metadata": {},
     "output_type": "execute_result"
    }
   ],
   "source": [
    "dset = DeltaSet2D()\n",
    "add_vertices!(dset, 4)\n",
    "glue_triangle!(dset, 1, 2, 3)\n",
    "glue_triangle!(dset, 1, 4, 3)\n",
    "dset"
   ]
  },
  {
   "cell_type": "code",
   "execution_count": 26,
   "metadata": {},
   "outputs": [
    {
     "ename": "LoadError",
     "evalue": "ArgumentError: Package PyCall not found in current path.\n- Run `import Pkg; Pkg.add(\"PyCall\")` to install the PyCall package.",
     "output_type": "error",
     "traceback": [
      "ArgumentError: Package PyCall not found in current path.\n- Run `import Pkg; Pkg.add(\"PyCall\")` to install the PyCall package.",
      "",
      "Stacktrace:",
      " [1] macro expansion",
      "   @ ./loading.jl:1772 [inlined]",
      " [2] macro expansion",
      "   @ ./lock.jl:267 [inlined]",
      " [3] __require(into::Module, mod::Symbol)",
      "   @ Base ./loading.jl:1753",
      " [4] #invoke_in_world#3",
      "   @ ./essentials.jl:926 [inlined]",
      " [5] invoke_in_world",
      "   @ ./essentials.jl:923 [inlined]",
      " [6] require(into::Module, mod::Symbol)",
      "   @ Base ./loading.jl:1746"
     ]
    }
   ],
   "source": [
    "using PyCall"
   ]
  },
  {
   "cell_type": "code",
   "execution_count": null,
   "metadata": {},
   "outputs": [],
   "source": [
    "# https://github.com/sumiya11/Groebner.jl\n",
    "using Groebner\n",
    "using AbstractAlgebra\n",
    "\n",
    "R, (x1, x2, x3) = QQ[\"x1\", \"x2\", \"x3\"]\n",
    "G = groebner(system)\n",
    "println(G)\n",
    "using DynamicPolynomials\n",
    "\n",
    "@polyvar x1 x2\n",
    "system = [10*x1*x2^2 - 11*x1 + 10,\n",
    "        10*x1^2*x2 - 11*x2 + 10]\n",
    "\n",
    "G = groebner(system)\n",
    "println(G)\n",
    "\n",
    "# see also https://github.com/oscar-system/Singular.jl https://github.com/algebraic-solving/AlgebraicSolving.jl"
   ]
  }
 ],
 "metadata": {
  "kernelspec": {
   "display_name": "Julia 1.10.2",
   "language": "julia",
   "name": "julia-1.10"
  },
  "language_info": {
   "file_extension": ".jl",
   "mimetype": "application/julia",
   "name": "julia",
   "version": "1.10.2"
  }
 },
 "nbformat": 4,
 "nbformat_minor": 2
}
