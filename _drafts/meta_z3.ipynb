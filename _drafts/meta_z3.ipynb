{
 "cells": [
  {
   "cell_type": "markdown",
   "metadata": {},
   "source": [
    "I had a post somewehre on this point. That programming z3 in python is staged metaprogramming.\n",
    "The meta system python can do partial evaluation.\n",
    "\n",
    "\n"
   ]
  },
  {
   "cell_type": "code",
   "execution_count": null,
   "metadata": {},
   "outputs": [],
   "source": [
    "def mypow(x:int,n:int) -> int:\n",
    "    assert n >= 0\n",
    "    if n == 0:\n",
    "        return 1\n",
    "    else:\n",
    "        x * mypow(x,n-1)\n",
    "\n",
    "# accumulator version?\n",
    "\n",
    "# string version\n",
    "# strings are a universal but somewhat structure free rep of code.\n",
    "Code = str\n",
    "def mypow2(n:int, x:Code) -> Code:\n",
    "    if x == 0:\n",
    "        return \"1\"\n",
    "    else:\n",
    "        f\"{x} * {mypow2(x,n-1)}\"\n",
    "\n",
    "mypow = lambda x,n: 1 if n <= 0 else x * mypow(x,n-1)\n",
    "\n",
    "mypow = Function(\"mypow\", IntSort(), IntSort(), IntSort())\n",
    "mypow_def = ForAll([x,n], mypow(n, x) == If(n <= 0, 1, x * mypow(n-1, x)))\n",
    "\n",
    "# Partially evaled\n",
    "def mypow(x:ExprRef, n:int) -> ExprRef:\n",
    "    if n == 0:\n",
    "        return IntVal(1)\n",
    "    else:\n",
    "        return x * mypow(x,n-1)\n",
    "\n",
    "\n"
   ]
  },
  {
   "cell_type": "markdown",
   "metadata": {},
   "source": [
    "Pattern matching on z3 asts\n"
   ]
  },
  {
   "cell_type": "markdown",
   "metadata": {},
   "source": [
    "\n",
    "I've ocmpained a bit before that it's crazy python doesn't have a good lambda library.\n",
    "Well, it kind of does.\n",
    "\n",
    "\n",
    "Lambda eval.\n",
    "Z3 does do capture avoinding substitution. It can take care of de bruijn indices.\n",
    "vs z3 simplify\n",
    "\n",
    "Locally nameless matching. FreshConst + substitute makes this easy\n",
    "\n",
    "Then we can use regular python pattern matching for lambda matching. Pretty cool!\n",
    "I don't understand how the property mechanism works.\n",
    "\n"
   ]
  },
  {
   "cell_type": "code",
   "execution_count": null,
   "metadata": {},
   "outputs": [],
   "source": [
    "z3.ExprRef.head = property(lambda self: self.decl().kind())\n",
    "z3.ExprRef.args = property(lambda self: [self.arg(i) for i in range(self.num_args())])\n",
    "z3.ExprRef.__match_args__ = [\"head\", \"args\"]\n",
    "z3.QuantifierRef.open_term = property(lambda self: vars = FreshConst() (return vars, subst(self.body, []))) \n",
    "z3.QuantifierRef.__match_args__ = [\"open_term\"]\n",
    "\n",
    "z3.QuantifierRef.__matmul__ = lambda self, other: z3.substitute(self.body, zip([z3.Var(n) for n in range(len(other)) , other]))"
   ]
  },
  {
   "cell_type": "code",
   "execution_count": 1,
   "metadata": {},
   "outputs": [
    {
     "name": "stdout",
     "output_type": "stream",
     "text": [
      "42\n"
     ]
    }
   ],
   "source": [
    "# It isn't all roses. Python's scoping rules are bonkers. It's intrinsically an imperative language.\n",
    "match 42:\n",
    "    case a:\n",
    "        pass\n",
    "print(a)"
   ]
  },
  {
   "cell_type": "code",
   "execution_count": null,
   "metadata": {},
   "outputs": [],
   "source": [
    "def unify(a : AstRef, b : AstRef, vars):\n",
    "    # or take in an existential equation.\n",
    "    eqs = [(a,b)]\n",
    "    subst = []\n",
    "    sig = [] # miller unify?\n",
    "    while eqs:\n",
    "        a,b = eqs.pop()\n",
    "        if a in vars:\n",
    "            subst.append((a,b))\n",
    "            map(lambda x: substitute(subst), eqs)\n",
    "        elif b in vars:\n",
    "            subst.append((b,a))\n",
    "            map(lambda x: substitute(subst), eqs)\n",
    "        \n"
   ]
  },
  {
   "cell_type": "markdown",
   "metadata": {},
   "source": [
    "convert z3 ast to egglog for conditional simplification."
   ]
  }
 ],
 "metadata": {
  "kernelspec": {
   "display_name": "Python 3",
   "language": "python",
   "name": "python3"
  },
  "language_info": {
   "codemirror_mode": {
    "name": "ipython",
    "version": 3
   },
   "file_extension": ".py",
   "mimetype": "text/x-python",
   "name": "python",
   "nbconvert_exporter": "python",
   "pygments_lexer": "ipython3",
   "version": "3.10.12"
  }
 },
 "nbformat": 4,
 "nbformat_minor": 2
}
