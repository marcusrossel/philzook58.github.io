{
 "cells": [
  {
   "cell_type": "markdown",
   "metadata": {},
   "source": [
    "\n",
    "# Staged Metaprogramming\n",
    "I had a post somewehre on this point. That programming z3 in python is staged metaprogramming.\n",
    "The meta system python can do partial evaluation.\n",
    "\n",
    "\n",
    "Can I eval z3 expressions in python metalayer? the other options is quoting \n",
    "Getting more homicornicity\n",
    "\n",
    "\n"
   ]
  },
  {
   "cell_type": "code",
   "execution_count": 1,
   "metadata": {},
   "outputs": [],
   "source": [
    "from z3 import *"
   ]
  },
  {
   "cell_type": "code",
   "execution_count": null,
   "metadata": {},
   "outputs": [],
   "source": [
    "def mypow(x:int,n:int) -> int:\n",
    "    assert n >= 0\n",
    "    if n == 0:\n",
    "        return 1\n",
    "    else:\n",
    "        x * mypow(x,n-1)\n",
    "\n",
    "# accumulator version?\n",
    "\n",
    "# string version\n",
    "# strings are a universal but somewhat structure free rep of code.\n",
    "Code = str\n",
    "def mypow2(n:int, x:Code) -> Code:\n",
    "    if x == 0:\n",
    "        return \"1\"\n",
    "    else:\n",
    "        f\"{x} * {mypow2(x,n-1)}\"\n",
    "\n",
    "mypow = lambda x,n: 1 if n <= 0 else x * mypow(x,n-1)\n",
    "\n",
    "mypow = Function(\"mypow\", IntSort(), IntSort(), IntSort())\n",
    "mypow_def = ForAll([x,n], mypow(n, x) == If(n <= 0, 1, x * mypow(n-1, x)))\n",
    "\n",
    "# Partially evaled\n",
    "def mypow(x:ExprRef, n:int) -> ExprRef:\n",
    "    if n == 0:\n",
    "        return IntVal(1)\n",
    "    else:\n",
    "        return x * mypow(x,n-1)\n",
    "\n",
    "\n"
   ]
  },
  {
   "cell_type": "markdown",
   "metadata": {},
   "source": [
    "# Def Eq\n",
    "We are maintaining a definition thing.\n",
    "\n",
    "\n",
    "\n",
    "Function(\"def_eq\")?\n",
    "Obviously too slippery (althoguh it is kind of meaningful if we so happen to hide the definition axioms)\n",
    "but better is the quoted version. We can kind of reflect definitional equality as an axiom schema into quoted terms.\n",
    "Function(\"def_eq\", z3_term, z3_term)\n",
    "\n",
    "Universes and metaprogramming layers feel similar ish. They're both a hiearchy of meta stuff.\n",
    "Relation to justified smt?\n",
    "\n"
   ]
  },
  {
   "cell_type": "code",
   "execution_count": null,
   "metadata": {},
   "outputs": [],
   "source": [
    "def defeq(t):\n",
    "    if in kernel.defns[t.decl()]"
   ]
  },
  {
   "cell_type": "markdown",
   "metadata": {},
   "source": [
    "# Quote\n",
    "\n",
    "\n",
    "\"oracle\"\n",
    "\n",
    "hilbert epsilon. \"choice function\". maybe that's more accurate? in the sense a formula is a set?\n",
    "\n",
    "\n",
    "\n",
    "self mutating sat\n",
    "\n",
    "continuations. self cegis\n",
    "\n",
    "Related to the above, we can also build a replication of some of z3's ast inside itself. The `quote` function is a metalevel python notion.\n",
    "\n",
    "https://arxiv.org/abs/1802.00405\n",
    "qe hol-light\n",
    "\n",
    "Quotation is rife with paradox, but I'm not sure that the way I've done it here can be? Since I haven't internalized quote into my logic.\n",
    "\n",
    "\n",
    "What about having an internalized Formula and solver functions. Similar to formulog but more homoiconic. So it makes sense to have 3 layers or more.\n",
    "Maybe a way of formulating \n",
    "\n",
    "smtlib macro\n",
    "Homoiconic. Who's to say there isn't a higher level z3 in which we are formulas embedded into. Is there a way to request things of this higher z3?\n",
    "python3 -m smtpp \n",
    "A magic # or something as a tick?\n"
   ]
  },
  {
   "cell_type": "code",
   "execution_count": null,
   "metadata": {},
   "outputs": [],
   "source": [
    "BoolExpr = Datatype(\"BoolExpr\")\n",
    "BoolExpr.declare(\"BoolVal\", (\"val\", BoolSort())) # splice kind of\n",
    "BoolExpr.declare(\"Var\", (\"name\", StringSort()))\n",
    "BoolExpr.declare(\"And\", (\"lhs\", BoolExpr), (\"rhs\", BoolExpr))\n",
    "BoolExpr.declare(\"Or\", (\"lhs\", BoolExpr), (\"rhs\", BoolExpr))\n",
    "BoolExpr.declare(\"Not\", (\"arg\", BoolExpr))\n",
    "BoolExpr.declare(\"Quote\", (\"arg\", BoolExpr))\n",
    "BoolExpr = BoolExpr.create()\n",
    "\n",
    "Model = ArraySort(StringSort(), BoolSort())\n",
    "sat = Function(\"sat\", BoolExpr, BoolSort()) # sat ~ exists model, interp(form, model)\n",
    "eps = Function(\"eps\", BoolExpr, Model) # eps ~ model, interp(form, model) = True\n",
    "satisfies = Function(\"satisifies\", BoolExpr, Model, BoolSort()) # M |= phi   relation.\n",
    "\n",
    "# satisfies(f, eps(f)) = sat(f)\n",
    "def cegis_loop(s : Solver):\n",
    "    res = s.check()\n",
    "    if = \n",
    "    m = s.model()\n"
   ]
  },
  {
   "cell_type": "code",
   "execution_count": 1,
   "metadata": {},
   "outputs": [
    {
     "ename": "SyntaxError",
     "evalue": "'(' was never closed (3140188254.py, line 22)",
     "output_type": "error",
     "traceback": [
      "\u001b[0;36m  Cell \u001b[0;32mIn[1], line 22\u001b[0;36m\u001b[0m\n\u001b[0;31m    IntExpr.declare(\"Quote\", (\"expr\", IntExpr)\u001b[0m\n\u001b[0m                   ^\u001b[0m\n\u001b[0;31mSyntaxError\u001b[0m\u001b[0;31m:\u001b[0m '(' was never closed\n"
     ]
    }
   ],
   "source": [
    "\"\"\"\n",
    "unityped\n",
    "Z3Expr = Datatype(\"Z3Expr\")\n",
    "Z3Expr.declare(\"IntVal\", (\"val\", IntSort()))\n",
    "Z3Expr.declare(\"Var\", (\"name\", StringSort()))\n",
    "Z3Expr.declare(\"And\", (\"lhs\", Z3Expr), (\"rhs\", Z3Expr))\n",
    "Z3Expr.declare(\"Or\", (\"lhs\", Z3Expr), (\"rhs\", Z3Expr))\n",
    "\"\"\"\n",
    "BoolExpr = Datatype(\"BoolExpr\")\n",
    "BoolExpr.declare(\"BoolVal\", (\"val\", BoolSort()))\n",
    "BoolExpr.declare(\"Var\", (\"name\", StringSort()))\n",
    "BoolExpr.declare(\"And\", (\"lhs\", BoolExpr), (\"rhs\", BoolExpr))\n",
    "BoolExpr.declare(\"Or\", (\"lhs\", BoolExpr), (\"rhs\", BoolExpr))\n",
    "BoolExpr.declare(\"Not\", (\"arg\", BoolExpr))\n",
    "BoolExpr = BoolExpr.create()\n",
    "# maybe reals is better\n",
    "IntExpr = Datatype(\"IntExpr\")\n",
    "IntExpr.declare(\"IntVal\", (\"val\", IntSort()))\n",
    "IntExpr.declare(\"Var\", (\"name\", StringSort()))\n",
    "IntExpr.declare(\"Add\", (\"lhs\", IntExpr), (\"rhs\", IntExpr))\n",
    "IntExpr.declare(\"Sub\", (\"lhs\", IntExpr), (\"rhs\", IntExpr))\n",
    "IntExpr.declare(\"Quote\", (\"expr\", IntExpr)\n",
    "IntExpr = IntExpr.create()\n",
    "\n",
    "\n",
    "Result = Datatype(\"Result\")\n",
    "Result.declare(\"sat\")\n",
    "Result.declare(\"unsat\")\n",
    "Result.declare(\"unknown\")\n",
    "Function(\"check-sat\" BoolSort())\n",
    "\n",
    "Value = Datatype(\"Value\")\n",
    "Value.declare(\"Int\", (\"int\", IntSort()))\n",
    "Value.declare(\"Bool\", (\"bool\", BoolSort()))\n",
    "Value = Value.create()\n",
    "Model = ArraySort(Id, Value) # Or refactor to (ArraySort(id, Bool), ArraySort(Id, Real))\n",
    "# Very similar to hilbert epsilon\n",
    "Function(\"get-model\", BoolExpr, Model)\n",
    "booleval = Function(\"booleval\", BoolExpr, Model)\n",
    "\n",
    "\n",
    "def quote(e : ExprRef)-> ExprRef:\n",
    "    match e.decl().name():\n",
    "        case \"IntVal\": return Z3Expr.IntVal(e)\n",
    "        #case \"Var\": return Z3Expr.Var(e)\n",
    "        case \"and\": return Z3Expr.And(quote(e.arg(0)), quote(e.arg(1)))\n",
    "        case \"or\": return Z3Expr.Or(quote(e.arg(0)), quote(e.arg(1)))\n",
    "        case _: raise Exception(f\"Unknown decl: {e.decl().name()}\")\n",
    "\n",
    "# eval = Function(Z3Expr, ArraySort(StringSort(), BoolSort()), BoolSort())\n",
    "# eval_def = ForAll([e,env], eval(e) == If( ... ))"
   ]
  },
  {
   "cell_type": "markdown",
   "metadata": {},
   "source": [
    "# User defined propagators\n",
    "https://microsoft.github.io/z3guide/programming/Example%20Programs/User%20Propagator/\n",
    "\n",
    "If I have some things I've proven, can I reflect them into z3's mechanisms?\n",
    "\n",
    " plant config paper https://web.ist.utl.pt/nuno.lopes/pubs/plantconfig-cpaior.pdf\n",
    "\n",
    "https://dl.acm.org/doi/abs/10.1007/978-3-031-24950-1_5 sat modulo custom thoeires\n",
    "\n",
    "But putting regular solving in a loop and looking at models to see if secret constraints are violated is just as viable? It may not be performant.\n",
    "\n",
    "\n",
    "Refinement typing via user propagator\n",
    "\n",
    "https://link.springer.com/chapter/10.1007/978-3-031-43513-3_2 Non-Classical Logics in Satisfiability Modulo Theories https://github.com/CEisenhofer/ModalZ3\n"
   ]
  },
  {
   "cell_type": "markdown",
   "metadata": {},
   "source": [
    "# Pattern matching on z3 asts\n"
   ]
  },
  {
   "cell_type": "code",
   "execution_count": 13,
   "metadata": {},
   "outputs": [
    {
     "data": {
      "text/plain": [
       "True"
      ]
     },
     "execution_count": 13,
     "metadata": {},
     "output_type": "execute_result"
    }
   ],
   "source": [
    "from typing import Optional, Iterable, Dict\n",
    "def match_(t : AstRef, pat : AstRef, vars : Iterable[ExprRef] = []) -> Optional[Dict[ExprRef,ExprRef]]:\n",
    "    subst = {}\n",
    "    todo = [(t,pat)]\n",
    "    while todo:\n",
    "        t,pat = todo.pop()\n",
    "        if pat in vars or is_var(pat): # allow var as pattern?\n",
    "            if pat in subst:\n",
    "                if subst[pat].eq(t):\n",
    "                    pass\n",
    "                else:\n",
    "                    return None\n",
    "            else:\n",
    "                subst[pat] = t\n",
    "        elif isinstance(t, QuantifierRef) or isinstance(pat, QuantifierRef):\n",
    "            raise NotImplementedError\n",
    "        else:\n",
    "            thead, targs = t.decl(), t.children()\n",
    "            phead, pargs = pat.decl(), pat.children()\n",
    "            if thead != phead or len(targs) != len(pargs): # check sorts here? The decl might check that\n",
    "                return None\n",
    "            todo.extend(zip(targs, pargs))\n",
    "    return subst\n",
    "\n",
    "E = DeclareSort(\"Expr\")\n",
    "foo = Function(\"foo\", E, E, E)\n",
    "bar = Function(\"bar\", E, E)\n",
    "a,b,c = Consts(\"a b c\", E)\n",
    "x,y,z = Consts(\"x y z\", E)\n",
    "vars = {x,y,z}\n",
    "\n",
    "assert match_(foo(x, bar(y)), foo(a, bar(b)), vars) == None\n",
    "assert match_(foo(a, bar(b)), foo(x, bar(y)), vars) == {x:a, y:b}\n",
    "assert match_(foo(a, bar(b)), foo(a, bar(b)), vars) == {}\n",
    "assert match_(foo(a, bar(b)), foo(x,x), vars) == None\n",
    "assert match_(foo(a, bar(a)), foo(x,bar(x)), vars) == {x:a}\n",
    "match_(foo(a, bar(a)), Lambda([x],foo(x,bar(x))).body()) == {Var(0, E):a}\n"
   ]
  },
  {
   "cell_type": "markdown",
   "metadata": {},
   "source": [
    "matching as an internalized construct.\n",
    "\n",
    "Note in my 2019 blog post I used an interesting keyword arg based desing\n"
   ]
  },
  {
   "cell_type": "code",
   "execution_count": null,
   "metadata": {},
   "outputs": [],
   "source": [
    "z3.DatatypeRef.match = lambda self, **kwargs: "
   ]
  },
  {
   "cell_type": "code",
   "execution_count": 8,
   "metadata": {},
   "outputs": [
    {
     "ename": "AttributeError",
     "evalue": "'ArithRef' object has no attribute 'body'",
     "output_type": "error",
     "traceback": [
      "\u001b[0;31m---------------------------------------------------------------------------\u001b[0m",
      "\u001b[0;31mAttributeError\u001b[0m                            Traceback (most recent call last)",
      "Cell \u001b[0;32mIn[8], line 1\u001b[0m\n\u001b[0;32m----> 1\u001b[0m \u001b[43mVar\u001b[49m\u001b[43m(\u001b[49m\u001b[38;5;241;43m0\u001b[39;49m\u001b[43m,\u001b[49m\u001b[43m \u001b[49m\u001b[43mIntSort\u001b[49m\u001b[43m(\u001b[49m\u001b[43m)\u001b[49m\u001b[43m)\u001b[49m\u001b[38;5;241;43m.\u001b[39;49m\u001b[43mbody\u001b[49m()\n",
      "\u001b[0;31mAttributeError\u001b[0m: 'ArithRef' object has no attribute 'body'"
     ]
    }
   ],
   "source": [
    "Var(0, IntSort())"
   ]
  },
  {
   "cell_type": "markdown",
   "metadata": {},
   "source": [
    "# Overloading\n"
   ]
  },
  {
   "cell_type": "code",
   "execution_count": null,
   "metadata": {},
   "outputs": [],
   "source": [
    "# This is kind of oleg's thing\n",
    "__add_methods = {}\n",
    "#ExprRef.__add__ = lambda self,other: __add_methods[self.sort()](self, other)\n",
    "#ExprRef.__mul__ = \n",
    "\n",
    "# could also use multi dissatch\n",
    "def register_add(sort, func):\n",
    "    add_methods[sort] = func\n",
    "def deregister_add()\n",
    "\n",
    "# Hmm. It disdpatch on the python type though. No the z3 sort. \n",
    "from functools import singledispatch\n",
    "@singledispatch\n",
    "def add(x,y):\n",
    "    raise NotImplementedError(\"Unsupported type\")\n",
    "ExprRef.__add__ = add\n",
    "\n",
    "# Is this too overwrought?\n",
    "\n",
    "class ExprDispatch(): # Sort dispatch\n",
    "    def __init__(self):\n",
    "        self.methods = {}\n",
    "    def register(self, sort, func):\n",
    "        self.methods(sort) = func\n",
    "    def __call__(self, *args, **kwargs):\n",
    "        return self.methods[args[0].sort()](*args, **kwargs)\n",
    "\n",
    "add = ExprDispatch()\n",
    "ExprRef.__add__ = add\n",
    "\n",
    "mul = ExprDispatch()\n",
    "ExprRef.__mul__ = mul\n",
    "\n",
    "sub = ExprDispatch()\n",
    "ExprRef.__sub__ = sub\n",
    "\n",
    "matmul = ExprDispatch()\n",
    "ExprRef.__matmul__ = matmul\n"
   ]
  },
  {
   "cell_type": "code",
   "execution_count": 8,
   "metadata": {},
   "outputs": [
    {
     "name": "stderr",
     "output_type": "stream",
     "text": [
      "/tmp/ipykernel_1070664/3665299815.py:1: DeprecationWarning: Importing display from IPython.core.display is deprecated since IPython 7.14, please import from IPython display\n",
      "  from IPython.core.display import display, HTML\n"
     ]
    },
    {
     "data": {
      "text/html": [
       "<div width=\"100px\"><hr></div>&forall;x"
      ],
      "text/plain": [
       "<IPython.core.display.HTML object>"
      ]
     },
     "metadata": {},
     "output_type": "display_data"
    }
   ],
   "source": [
    "from IPython.core.display import display, HTML\n",
    "display(HTML('<div width=\"100px\"><hr></div>&forall;x'))"
   ]
  },
  {
   "cell_type": "code",
   "execution_count": 26,
   "metadata": {},
   "outputs": [
    {
     "data": {
      "text/html": [
       "\n",
       "<style>\n",
       "  .proof-tree {\n",
       "    font-family: 'DejaVu Sans', Arial, sans-serif;\n",
       "    line-height: 1.5;\n",
       "    color: white; /* Set text color to white for dark background */\n",
       "  }\n",
       "  .rule {\n",
       "    display: flex;\n",
       "    flex-direction: column;\n",
       "    align-items: center;\n",
       "    margin-bottom: 20px;\n",
       "  }\n",
       "  .premises {\n",
       "    display: flex;\n",
       "    justify-content: bottom;\n",
       "    align-items: flex-end; \n",
       "  }\n",
       "  .premises div {\n",
       "    margin: 0 10px;\n",
       "  }\n",
       "  .conclusion {\n",
       "    border-top: 1px solid white; /* Set border color to white for visibility */\n",
       "    padding-top: 5px;\n",
       "    text-align: bottom;\n",
       "  }\n",
       "</style>\n",
       "\n",
       "<div class=\"proof-tree\">\n",
       "\n",
       "  <div class=\"rule\">\n",
       "    <div class=\"premises\">\n",
       "        <div class=\"rule\">\n",
       "        <div class=\"premises\">\n",
       "           <div class=\"conclusion\">A</div>\n",
       "           <div class=\"conclusion\">B</div>\n",
       "       </div>\n",
       "       <div class=\"conclusion\">A &#x2227; B</div>\n",
       "    </div>\n",
       "      <div class=\"conclusion\">C</div>\n",
       "    </div>\n",
       "    <div class=\"conclusion\">(A &#x2227; B) &#x2227; C</div>\n",
       "  </div>\n",
       "</div>\n"
      ],
      "text/plain": [
       "<IPython.core.display.HTML object>"
      ]
     },
     "execution_count": 26,
     "metadata": {},
     "output_type": "execute_result"
    }
   ],
   "source": [
    "from IPython.core.display import HTML\n",
    "\n",
    "html_content = \"\"\"\n",
    "<style>\n",
    "  .proof-tree {\n",
    "    font-family: 'DejaVu Sans', Arial, sans-serif;\n",
    "    line-height: 1.5;\n",
    "    color: white; /* Set text color to white for dark background */\n",
    "  }\n",
    "  .rule {\n",
    "    display: flex;\n",
    "    flex-direction: column;\n",
    "    align-items: center;\n",
    "    margin-bottom: 20px;\n",
    "  }\n",
    "  .premises {\n",
    "    display: flex;\n",
    "    justify-content: bottom;\n",
    "    align-items: flex-end; \n",
    "  }\n",
    "  .premises div {\n",
    "    margin: 0 10px;\n",
    "  }\n",
    "  .conclusion {\n",
    "    border-top: 1px solid white; /* Set border color to white for visibility */\n",
    "    padding-top: 5px;\n",
    "    text-align: bottom;\n",
    "  }\n",
    "</style>\n",
    "\n",
    "<div class=\"proof-tree\">\n",
    "\n",
    "  <div class=\"rule\">\n",
    "    <div class=\"premises\">\n",
    "        <div class=\"rule\">\n",
    "        <div class=\"premises\">\n",
    "           <div class=\"conclusion\">A</div>\n",
    "           <div class=\"conclusion\">B</div>\n",
    "       </div>\n",
    "       <div class=\"conclusion\">A &#x2227; B</div>\n",
    "    </div>\n",
    "      <div class=\"conclusion\">C</div>\n",
    "    </div>\n",
    "    <div class=\"conclusion\">(A &#x2227; B) &#x2227; C</div>\n",
    "  </div>\n",
    "</div>\n",
    "\"\"\"\n",
    "\n",
    "HTML(html_content)\n",
    "\n",
    "\n",
    "class Proof():\n",
    "    def tree(self, depth=3):\n",
    "        if depth <= 0:\n",
    "            return \"<div>...</div>\"\n",
    "        return f\"\"\"\n",
    "        <div class=\"premises\">\n",
    "          {\"\\n\".join(r.tree(depth-1) for r in self.reasons)}\n",
    "        </div>\n",
    "        <div class=\"conclusion\">{repr(self.thm)}</div>\n",
    "        \"\"\"\n",
    "\n"
   ]
  },
  {
   "cell_type": "markdown",
   "metadata": {},
   "source": [
    "# Database\n",
    "Lemma search is super important. Also docs\n",
    "\n",
    "Maybe I should make some kind of auto scraper.\n",
    "\n",
    "Use AI to generate summaries\n",
    "\n",
    "RAG\n",
    "\n"
   ]
  },
  {
   "cell_type": "code",
   "execution_count": 54,
   "metadata": {},
   "outputs": [
    {
     "data": {
      "text/plain": [
       "'plus_def'"
      ]
     },
     "metadata": {},
     "output_type": "display_data"
    },
    {
     "data": {
      "text/html": [
       "&#8870;&forall;x, y : plus(x, y) = x + y"
      ],
      "text/plain": [
       "<IPython.core.display.HTML object>"
      ]
     },
     "metadata": {},
     "output_type": "display_data"
    },
    {
     "data": {
      "text/plain": [
       "'plus_0'"
      ]
     },
     "metadata": {},
     "output_type": "display_data"
    },
    {
     "data": {
      "text/html": [
       "&#8870;&forall;x : plus(x, 0) = x"
      ],
      "text/plain": [
       "<IPython.core.display.HTML object>"
      ]
     },
     "metadata": {},
     "output_type": "display_data"
    },
    {
     "data": {
      "text/plain": [
       "'plus_comm'"
      ]
     },
     "metadata": {},
     "output_type": "display_data"
    },
    {
     "data": {
      "text/html": [
       "&#8870;&forall;x, y : plus(x, y) = plus(y, x)"
      ],
      "text/plain": [
       "<IPython.core.display.HTML object>"
      ]
     },
     "metadata": {},
     "output_type": "display_data"
    },
    {
     "data": {
      "text/plain": [
       "'plus_assoc'"
      ]
     },
     "metadata": {},
     "output_type": "display_data"
    },
    {
     "data": {
      "text/html": [
       "&#8870;&forall;x, y, z : plus(x, plus(y, z)) = plus(plus(x, y), z)"
      ],
      "text/plain": [
       "<IPython.core.display.HTML object>"
      ]
     },
     "metadata": {},
     "output_type": "display_data"
    },
    {
     "data": {
      "text/plain": [
       "'mul_def'"
      ]
     },
     "metadata": {},
     "output_type": "display_data"
    },
    {
     "data": {
      "text/html": [
       "&#8870;&forall;x, y : mul(x, y) = x&middot;y"
      ],
      "text/plain": [
       "<IPython.core.display.HTML object>"
      ]
     },
     "metadata": {},
     "output_type": "display_data"
    },
    {
     "data": {
      "text/plain": [
       "'mul_zero'"
      ]
     },
     "metadata": {},
     "output_type": "display_data"
    },
    {
     "data": {
      "text/html": [
       "&#8870;&forall;x : mul(x, 0) = 0"
      ],
      "text/plain": [
       "<IPython.core.display.HTML object>"
      ]
     },
     "metadata": {},
     "output_type": "display_data"
    },
    {
     "data": {
      "text/plain": [
       "'mul_1'"
      ]
     },
     "metadata": {},
     "output_type": "display_data"
    },
    {
     "data": {
      "text/html": [
       "&#8870;&forall;x : mul(x, 1) = x"
      ],
      "text/plain": [
       "<IPython.core.display.HTML object>"
      ]
     },
     "metadata": {},
     "output_type": "display_data"
    },
    {
     "data": {
      "text/plain": [
       "'mul_comm'"
      ]
     },
     "metadata": {},
     "output_type": "display_data"
    },
    {
     "data": {
      "text/html": [
       "&#8870;&forall;x, y : mul(x, y) = mul(y, x)"
      ],
      "text/plain": [
       "<IPython.core.display.HTML object>"
      ]
     },
     "metadata": {},
     "output_type": "display_data"
    },
    {
     "data": {
      "text/plain": [
       "'mul_assoc'"
      ]
     },
     "metadata": {},
     "output_type": "display_data"
    },
    {
     "data": {
      "text/html": [
       "&#8870;&forall;x, y, z : mul(x, mul(y, z)) = mul(mul(x, y), z)"
      ],
      "text/plain": [
       "<IPython.core.display.HTML object>"
      ]
     },
     "metadata": {},
     "output_type": "display_data"
    },
    {
     "data": {
      "text/plain": [
       "'mul_distrib'"
      ]
     },
     "metadata": {},
     "output_type": "display_data"
    },
    {
     "data": {
      "text/html": [
       "&#8870;&forall;x, y, z : mul(x, plus(y, z)) = plus(mul(x, y), mul(x, z))"
      ],
      "text/plain": [
       "<IPython.core.display.HTML object>"
      ]
     },
     "metadata": {},
     "output_type": "display_data"
    },
    {
     "data": {
      "text/plain": [
       "'abs_def'"
      ]
     },
     "metadata": {},
     "output_type": "display_data"
    },
    {
     "data": {
      "text/html": [
       "&#8870;&forall;x : abs(x) = If(x &ge; 0, x, -x)"
      ],
      "text/plain": [
       "<IPython.core.display.HTML object>"
      ]
     },
     "metadata": {},
     "output_type": "display_data"
    },
    {
     "data": {
      "text/plain": [
       "['__add__',\n",
       " '__and__',\n",
       " '__bool__',\n",
       " '__class__',\n",
       " '__copy__',\n",
       " '__deepcopy__',\n",
       " '__del__',\n",
       " '__delattr__',\n",
       " '__dict__',\n",
       " '__dir__',\n",
       " '__doc__',\n",
       " '__eq__',\n",
       " '__format__',\n",
       " '__ge__',\n",
       " '__getattribute__',\n",
       " '__getitem__',\n",
       " '__gt__',\n",
       " '__hash__',\n",
       " '__init__',\n",
       " '__init_subclass__',\n",
       " '__invert__',\n",
       " '__le__',\n",
       " '__lt__',\n",
       " '__module__',\n",
       " '__mul__',\n",
       " '__ne__',\n",
       " '__new__',\n",
       " '__nonzero__',\n",
       " '__or__',\n",
       " '__radd__',\n",
       " '__reduce__',\n",
       " '__reduce_ex__',\n",
       " '__repr__',\n",
       " '__rmul__',\n",
       " '__setattr__',\n",
       " '__sizeof__',\n",
       " '__str__',\n",
       " '__subclasshook__',\n",
       " '__weakref__',\n",
       " '__xor__',\n",
       " '_repr_html_',\n",
       " 'arg',\n",
       " 'as_ast',\n",
       " 'ast',\n",
       " 'body',\n",
       " 'children',\n",
       " 'ctx',\n",
       " 'ctx_ref',\n",
       " 'decl',\n",
       " 'eq',\n",
       " 'from_string',\n",
       " 'get_id',\n",
       " 'hash',\n",
       " 'is_exists',\n",
       " 'is_forall',\n",
       " 'is_lambda',\n",
       " 'no_pattern',\n",
       " 'num_args',\n",
       " 'num_no_patterns',\n",
       " 'num_patterns',\n",
       " 'num_vars',\n",
       " 'params',\n",
       " 'pattern',\n",
       " 'qid',\n",
       " 'serialize',\n",
       " 'sexpr',\n",
       " 'skolem_id',\n",
       " 'sort',\n",
       " 'sort_kind',\n",
       " 'translate',\n",
       " 'use_pp',\n",
       " 'var_name',\n",
       " 'var_sort',\n",
       " 'weight']"
      ]
     },
     "execution_count": 54,
     "metadata": {},
     "output_type": "execute_result"
    }
   ],
   "source": [
    "import knuckledragger.theories.Real as Real\n",
    "from knuckledragger.kernel import is_proof\n",
    "for n, p in Real.__dict__.items():\n",
    "    if is_proof(p):\n",
    "       display(n, HTML(p._repr_html_()))\n",
    "\n",
    "dir(Real.plus_def.thm)\n"
   ]
  },
  {
   "cell_type": "code",
   "execution_count": 43,
   "metadata": {},
   "outputs": [
    {
     "data": {
      "text/plain": [
       "'&#8870;&forall;x, y : plus(x, y) = x + y'"
      ]
     },
     "execution_count": 43,
     "metadata": {},
     "output_type": "execute_result"
    }
   ],
   "source": [
    "Real.plus_def.thm.use_pp()\n",
    "repr(Real.plus_def.thm)\n",
    "Real.plus_def._repr_html_()"
   ]
  },
  {
   "cell_type": "code",
   "execution_count": 88,
   "metadata": {},
   "outputs": [
    {
     "name": "stdout",
     "output_type": "stream",
     "text": [
      "__editable___knuckledragger_0_1_1_finder\n",
      "knuckledragger.kernel\n",
      "knuckledragger\n",
      "knuckledragger.theories\n",
      "knuckledragger.theories.Real\n"
     ]
    },
    {
     "data": {
      "text/plain": [
       "'plus_def'"
      ]
     },
     "metadata": {},
     "output_type": "display_data"
    },
    {
     "data": {
      "text/html": [
       "&#8870;&forall;x, y : plus(x, y) = x + y"
      ],
      "text/plain": [
       "<IPython.core.display.HTML object>"
      ]
     },
     "metadata": {},
     "output_type": "display_data"
    },
    {
     "data": {
      "text/plain": [
       "'plus_0'"
      ]
     },
     "metadata": {},
     "output_type": "display_data"
    },
    {
     "data": {
      "text/html": [
       "&#8870;&forall;x : plus(x, 0) = x"
      ],
      "text/plain": [
       "<IPython.core.display.HTML object>"
      ]
     },
     "metadata": {},
     "output_type": "display_data"
    },
    {
     "data": {
      "text/plain": [
       "'plus_comm'"
      ]
     },
     "metadata": {},
     "output_type": "display_data"
    },
    {
     "data": {
      "text/html": [
       "&#8870;&forall;x, y : plus(x, y) = plus(y, x)"
      ],
      "text/plain": [
       "<IPython.core.display.HTML object>"
      ]
     },
     "metadata": {},
     "output_type": "display_data"
    },
    {
     "data": {
      "text/plain": [
       "'plus_assoc'"
      ]
     },
     "metadata": {},
     "output_type": "display_data"
    },
    {
     "data": {
      "text/html": [
       "&#8870;&forall;x, y, z : plus(x, plus(y, z)) = plus(plus(x, y), z)"
      ],
      "text/plain": [
       "<IPython.core.display.HTML object>"
      ]
     },
     "metadata": {},
     "output_type": "display_data"
    },
    {
     "data": {
      "text/plain": [
       "'mul_def'"
      ]
     },
     "metadata": {},
     "output_type": "display_data"
    },
    {
     "data": {
      "text/html": [
       "&#8870;&forall;x, y : mul(x, y) = x&middot;y"
      ],
      "text/plain": [
       "<IPython.core.display.HTML object>"
      ]
     },
     "metadata": {},
     "output_type": "display_data"
    },
    {
     "data": {
      "text/plain": [
       "'mul_zero'"
      ]
     },
     "metadata": {},
     "output_type": "display_data"
    },
    {
     "data": {
      "text/html": [
       "&#8870;&forall;x : mul(x, 0) = 0"
      ],
      "text/plain": [
       "<IPython.core.display.HTML object>"
      ]
     },
     "metadata": {},
     "output_type": "display_data"
    },
    {
     "data": {
      "text/plain": [
       "'mul_1'"
      ]
     },
     "metadata": {},
     "output_type": "display_data"
    },
    {
     "data": {
      "text/html": [
       "&#8870;&forall;x : mul(x, 1) = x"
      ],
      "text/plain": [
       "<IPython.core.display.HTML object>"
      ]
     },
     "metadata": {},
     "output_type": "display_data"
    },
    {
     "data": {
      "text/plain": [
       "'mul_comm'"
      ]
     },
     "metadata": {},
     "output_type": "display_data"
    },
    {
     "data": {
      "text/html": [
       "&#8870;&forall;x, y : mul(x, y) = mul(y, x)"
      ],
      "text/plain": [
       "<IPython.core.display.HTML object>"
      ]
     },
     "metadata": {},
     "output_type": "display_data"
    },
    {
     "data": {
      "text/plain": [
       "'mul_assoc'"
      ]
     },
     "metadata": {},
     "output_type": "display_data"
    },
    {
     "data": {
      "text/html": [
       "&#8870;&forall;x, y, z : mul(x, mul(y, z)) = mul(mul(x, y), z)"
      ],
      "text/plain": [
       "<IPython.core.display.HTML object>"
      ]
     },
     "metadata": {},
     "output_type": "display_data"
    },
    {
     "data": {
      "text/plain": [
       "'mul_distrib'"
      ]
     },
     "metadata": {},
     "output_type": "display_data"
    },
    {
     "data": {
      "text/html": [
       "&#8870;&forall;x, y, z : mul(x, plus(y, z)) = plus(mul(x, y), mul(x, z))"
      ],
      "text/plain": [
       "<IPython.core.display.HTML object>"
      ]
     },
     "metadata": {},
     "output_type": "display_data"
    },
    {
     "data": {
      "text/plain": [
       "'abs_def'"
      ]
     },
     "metadata": {},
     "output_type": "display_data"
    },
    {
     "data": {
      "text/html": [
       "&#8870;&forall;x : abs(x) = If(x &ge; 0, x, -x)"
      ],
      "text/plain": [
       "<IPython.core.display.HTML object>"
      ]
     },
     "metadata": {},
     "output_type": "display_data"
    }
   ],
   "source": [
    "import sys\n",
    "for modname,mod in sys.modules.items():\n",
    "    if \"knuckledragger\" in modname:\n",
    "        print(modname)\n",
    "        for thmname, proof in mod.__dict__.items():\n",
    "            if is_proof(proof):\n",
    "                display(thmname, HTML(proof._repr_html_()))"
   ]
  },
  {
   "cell_type": "markdown",
   "metadata": {},
   "source": [
    "# Simp\n",
    "We can use match_ to do a simp routine, knuckledragger tactic.\n",
    "\n",
    "Idea: use eggllg\n",
    "https://egglog-python.readthedocs.io/latest/reference/bindings.html\n",
    "\n",
    "https://fadoss.github.io/maude-bindings/\n",
    "\n",
    "to prolog?"
   ]
  },
  {
   "cell_type": "code",
   "execution_count": 1,
   "metadata": {},
   "outputs": [
    {
     "name": "stdout",
     "output_type": "stream",
     "text": [
      "6\n"
     ]
    }
   ],
   "source": [
    "import maude\n",
    "maude.init()\n",
    "m = maude.getModule('NAT')\n",
    "t = m.parseTerm('2 * 3')\n",
    "t.reduce()\n",
    "print(t)"
   ]
  },
  {
   "cell_type": "code",
   "execution_count": 6,
   "metadata": {},
   "outputs": [
    {
     "data": {
      "text/plain": [
       "'s_'"
      ]
     },
     "execution_count": 6,
     "metadata": {},
     "output_type": "execute_result"
    }
   ],
   "source": [
    "sy = t.symbol()\n",
    "str(sy)"
   ]
  },
  {
   "cell_type": "code",
   "execution_count": null,
   "metadata": {},
   "outputs": [],
   "source": [
    "def maude_sort_to_z3_sort()\n",
    "\n",
    "def maude_to_z3(t) -> ExprRef:\n",
    "    f = t.symbol()\n",
    "    Function(str(f), *[f.f.domainKind(i) for i in range(f.arity())], f.rangeSort())\n",
    "    maude_to_z3(arg) for arg in t.arguments()\n",
    "\n",
    "def z3_to_maude(t) -> maude.Term:\n",
    "    # very similar to tptp"
   ]
  },
  {
   "cell_type": "code",
   "execution_count": 98,
   "metadata": {},
   "outputs": [
    {
     "data": {
      "text/plain": [
       "'='"
      ]
     },
     "execution_count": 98,
     "metadata": {},
     "output_type": "execute_result"
    }
   ],
   "source": [
    "from z3 import *\n",
    "\n",
    "Math = DeclareSort(\"Math\")\n",
    "add = Function(\"add\", Math, Math, Math)\n",
    "dir(add(x,y) == x)\n",
    "(add(x,y) == x).decl().name()"
   ]
  },
  {
   "cell_type": "code",
   "execution_count": 121,
   "metadata": {},
   "outputs": [
    {
     "name": "stdout",
     "output_type": "stream",
     "text": [
      "(datatype Math)\n",
      "(function add  (Math Math) Math)\n",
      "(function zero () Math)\n",
      "(function one () Math)\n",
      "(rewrite (add X (zero )) X)\n",
      "(rewrite (add X Y) (add Y X))\n",
      "(let knuck_e (add (zero ) (one )))\n",
      "(run 10)\n",
      "(extract knuck_e)\n",
      "['(one)']\n"
     ]
    }
   ],
   "source": [
    "import egglog.bindings as eggbnd\n",
    "from z3 import *\n",
    "\n",
    "Math = DeclareSort(\"Math\")\n",
    "add = Function(\"add\", Math, Math, Math)\n",
    "zero = Const(\"zero\", Math)\n",
    "one =  Const(\"one\", Math)\n",
    "\n",
    "sig = [Math, add, zero, one]\n",
    "\n",
    "x,y = Consts(\"x y\", Math)\n",
    "add(zero,one) == one\n",
    "rules =[\n",
    "ForAll([x], add(x,zero) == x),\n",
    "ForAll([x,y], add(x,y) == add(y,x)),\n",
    "]\n",
    "\n",
    "def z3_to_egglog(e, vars=[]):\n",
    "    if e in vars:\n",
    "        return e.sexpr()\n",
    "    else:\n",
    "        head, args = e.decl(), e.children()\n",
    "        return f\"({head.name()} {' '.join(z3_to_egglog(a, vars) for a in args)})\"\n",
    "\n",
    "from knuckledragger.utils import open_binder\n",
    "def simp(e, rules, sig, n=10):\n",
    "    output = []\n",
    "    #output.append(\"(declare-sort TERM)\")\n",
    "    for f in sig:\n",
    "        if isinstance(f, z3.FuncDeclRef):\n",
    "            dom = \" \".join([f.domain(i).name() for i in range(f.arity())])\n",
    "            output.append(f\"(function {f.name()}  ({dom}) {f.range().name()})\")\n",
    "        elif isinstance(f, z3.SortRef):\n",
    "            output.append(f\"(datatype {f.name()})\")\n",
    "        elif isinstance(f, z3.ExprRef):\n",
    "            output.append(f\"(function {f.sexpr()} () {f.sort().name()})\")\n",
    "    for r in rules:\n",
    "        assert r.is_forall()\n",
    "        vs, r = open_binder(r)\n",
    "        assert r.decl().name() == \"=\"\n",
    "        lhs, rhs = r.children()\n",
    "        output.append(f\"(rewrite {z3_to_egglog(lhs,vars=vs)} {z3_to_egglog(rhs, vars=vs)})\")\n",
    "    output.append(f\"(let knuck_e {z3_to_egglog(e)})\")\n",
    "    output.append(f\"(run {n})\")\n",
    "    output.append(\"(extract knuck_e)\")\n",
    "    return output\n",
    "\n",
    "\n",
    "egraph = eggbnd.EGraph()\n",
    "for c in simp(add(zero,one), rules, sig):\n",
    "    print(c)\n",
    "    commands = egraph.parse_program(c)\n",
    "    res = egraph.run_program(*commands)\n",
    "print(res)\n"
   ]
  },
  {
   "cell_type": "markdown",
   "metadata": {},
   "source": [
    "# By Definitions\n",
    "\n",
    "delta expansion.\n",
    "Also a simp routine doing this would be nice.\n",
    "\n",
    "\n",
    "Should I make a db of everything that comes through?\n",
    "Maybe some config parameters?\n",
    "\n",
    "I could also make the Kernel entities objects instead of global.\n",
    "\n",
    "\n",
    "\n",
    "It's too bad that we lose the nice type definition of the manual style.\n",
    "fact = define(  , lambda fact: If  , fix=True)\n",
    "\n",
    "Scan for symbol being in rhs\n",
    "aprove? NaTT?\n",
    "\n",
    "Maybe lemma should not do the clever checking and that should be in a util wrapper.\n",
    "\n"
   ]
  },
  {
   "cell_type": "code",
   "execution_count": null,
   "metadata": {},
   "outputs": [],
   "source": [
    "\n",
    "def decls(e : ExprRef): #get_sig. get_sig might also collect the types?\n",
    "    if is_var(e):\n",
    "        return\n",
    "    else:\n",
    "        yield e.decl()\n",
    "        yield from c in e.children() for d in decls(c)\n",
    "def by_defn(thm: z3.BoolRef, by=[]) -> Proof:  # delta expansion\n",
    "    lemma(thm, by=[kernel.defn[decls(thm)]] + by)\n",
    "    "
   ]
  },
  {
   "cell_type": "markdown",
   "metadata": {},
   "source": [
    "# Lambda Eval\n",
    "\n",
    "I've complained a bit before that it's crazy python doesn't have a good lambda library.\n",
    "Well, it kind of does.\n",
    "\n",
    "\n",
    "Lambda eval.\n",
    "Z3 does do capture avoinding substitution. It can take care of de bruijn indices.\n",
    "vs z3 simplify\n",
    "\n",
    "Locally nameless matching. FreshConst + substitute makes this easy\n",
    "\n",
    "Then we can use regular python pattern matching for lambda matching. Pretty cool!\n",
    "I don't understand how the property mechanism works.\n",
    "\n",
    "https://chargueraud.org/research/2009/ln/main.pdf "
   ]
  },
  {
   "cell_type": "code",
   "execution_count": 51,
   "metadata": {},
   "outputs": [
    {
     "data": {
      "text/html": [
       "foo(a, bar(bar(b))) = bar(bar(c))"
      ],
      "text/plain": [
       "foo(a, bar(bar(b))) == bar(bar(c))"
      ]
     },
     "execution_count": 51,
     "metadata": {},
     "output_type": "execute_result"
    }
   ],
   "source": [
    "\"\"\"\n",
    "z3.ExprRef.head = property(lambda self: self.decl().kind())\n",
    "z3.ExprRef.args = property(lambda self: [self.arg(i) for i in range(self.num_args())])\n",
    "z3.ExprRef.__match_args__ = [\"head\", \"args\"]\n",
    "z3.QuantifierRef.open_term = property(lambda self: vars = FreshConst() (return vars, subst(self.body, []))) \n",
    "z3.QuantifierRef.__match_args__ = [\"open_term\"]\n",
    "\n",
    "z3.QuantifierRef.__matmul__ = lambda self, other: z3.substitute(self.body, zip([z3.Var(n) for n in range(len(other)) , other]))\n",
    "\"\"\"\n",
    "def open_binder(l : QuantifierRef):\n",
    "    vars = []\n",
    "    nvars = l.num_vars()\n",
    "    for i in range(nvars):\n",
    "        sort = l.var_sort(i)\n",
    "        vars.append((Var(nvars - i - 1, sort) , FreshConst(sort, prefix=l.var_name(i))))\n",
    "    return [x for (_,x) in vars], substitute(l.body(), vars)\n",
    "\n",
    "\n",
    "\n",
    "open_binder(Lambda([x, y, z], foo(x,bar(bar(y)))))\n",
    "open_binder(ForAll([x, y, z], foo(x,bar(bar(y))) == bar(z)))\n",
    "\n",
    "def instan(f : QuantifierRef, *x):\n",
    "    nvars = f.num_vars()\n",
    "    assert len(x) == nvars\n",
    "    vars = []\n",
    "    for i in range(nvars):\n",
    "        sort = f.var_sort(i)\n",
    "        vars.append((Var(nvars - i - 1, sort), x[i]))\n",
    "    return substitute(f.body(), *vars)\n",
    "\n",
    "instan(ForAll([x, y, z], foo(x,bar(bar(y))) == bar(z)), a, b, bar(c))\n",
    "\n",
    "# instn is substutie_vars?\n",
    "# how much of this is also available from cvc5"
   ]
  },
  {
   "cell_type": "code",
   "execution_count": 53,
   "metadata": {},
   "outputs": [
    {
     "name": "stdout",
     "output_type": "stream",
     "text": [
      "algebraic_number_evaluator (bool) simplify/evaluate expressions containing (algebraic) irrational numbers. (default: true)\n",
      "arith_ineq_lhs (bool) rewrite inequalities so that right-hand-side is a constant. (default: false)\n",
      "arith_lhs (bool) all monomials are moved to the left-hand-side, and the right-hand-side is just a constant. (default: false)\n",
      "bit2bool (bool) try to convert bit-vector terms of size 1 into Boolean terms (default: true)\n",
      "blast_distinct (bool) expand a distinct predicate into a quadratic number of disequalities (default: false)\n",
      "blast_distinct_threshold (unsigned int) when blast_distinct is true, only distinct expressions with less than this number of arguments are blasted (default: 4294967295)\n",
      "blast_eq_value (bool) blast (some) Bit-vector equalities into bits (default: false)\n",
      "blast_select_store (bool) eagerly replace all (select (store ..) ..) term by an if-then-else term (default: false)\n",
      "bv_extract_prop (bool) attempt to partially propagate extraction inwards (default: false)\n",
      "bv_ineq_consistency_test_max (unsigned int) max size of conjunctions on which to perform consistency test based on inequalities on bitvectors. (default: 0)\n",
      "bv_ite2id (bool) rewrite ite that can be simplified to identity (default: false)\n",
      "bv_le2extract (bool) disassemble bvule to extract (default: true)\n",
      "bv_le_extra (bool) additional bu_(u/s)le simplifications (default: false)\n",
      "bv_not_simpl (bool) apply simplifications for bvnot (default: false)\n",
      "bv_sort_ac (bool) sort the arguments of all AC operators (default: false)\n",
      "cache_all (bool) cache all intermediate results. (default: false)\n",
      "elim_and (bool) conjunctions are rewritten using negation and disjunctions (default: false)\n",
      "elim_ite (bool) eliminate ite in favor of and/or (default: true)\n",
      "elim_rem (bool) replace (rem x y) with (ite (>= y 0) (mod x y) (- (mod x y))). (default: false)\n",
      "elim_sign_ext (bool) expand sign-ext operator using concat and extract (default: true)\n",
      "elim_to_real (bool) eliminate to_real from arithmetic predicates that contain only integers. (default: false)\n",
      "eq2ineq (bool) expand equalities into two inequalities (default: false)\n",
      "expand_nested_stores (bool) replace nested stores by a lambda expression (default: false)\n",
      "expand_power (bool) expand (^ t k) into (* t ... t) if  1 < k <= max_degree. (default: false)\n",
      "expand_select_ite (bool) expand select over ite expressions (default: false)\n",
      "expand_select_store (bool) conservatively replace a (select (store ...) ...) term by an if-then-else term (default: false)\n",
      "expand_store_eq (bool) reduce (store ...) = (store ...) with a common base into selects (default: false)\n",
      "expand_tan (bool) replace (tan x) with (/ (sin x) (cos x)). (default: false)\n",
      "flat (bool) create nary applications for and,or,+,*,bvadd,bvmul,bvand,bvor,bvxor (default: true)\n",
      "gcd_rounding (bool) use gcd rounding on integer arithmetic atoms. (default: false)\n",
      "hi_div0 (bool) use the 'hardware interpretation' for division by zero (for bit-vector terms) (default: true)\n",
      "hoist_ite (bool) hoist shared summands under ite expressions (default: false)\n",
      "hoist_mul (bool) hoist multiplication over summation to minimize number of multiplications (default: false)\n",
      "ignore_patterns_on_ground_qbody (bool) ignores patterns on quantifiers that don't mention their bound variables. (default: true)\n",
      "ite_extra_rules (bool) extra ite simplifications, these additional simplifications may reduce size locally but increase globally (default: false)\n",
      "local_ctx (bool) perform local (i.e., cheap) context simplifications (default: false)\n",
      "local_ctx_limit (unsigned int) limit for applying local context simplifier (default: 4294967295)\n",
      "max_degree (unsigned int) max degree of algebraic numbers (and power operators) processed by simplifier. (default: 64)\n",
      "max_memory (unsigned int) maximum amount of memory in megabytes (default: 4294967295)\n",
      "max_steps (unsigned int) maximum number of steps (default: 4294967295)\n",
      "mul2concat (bool) replace multiplication by a power of two into a concatenation (default: false)\n",
      "mul_to_power (bool) collpase (* t ... t) into (^ t k), it is ignored if expand_power is true. (default: false)\n",
      "pull_cheap_ite (bool) pull if-then-else terms when cheap. (default: false)\n",
      "push_ite_arith (bool) push if-then-else over arithmetic terms. (default: false)\n",
      "push_ite_bv (bool) push if-then-else over bit-vector terms. (default: false)\n",
      "push_to_real (bool) distribute to_real over * and +. (default: true)\n",
      "rewrite_patterns (bool) rewrite patterns. (default: false)\n",
      "som (bool) put polynomials in sum-of-monomials form (default: false)\n",
      "som_blowup (unsigned int) maximum increase of monomials generated when putting a polynomial in sum-of-monomials normal form (default: 10)\n",
      "sort_store (bool) sort nested stores when the indices are known to be different (default: false)\n",
      "sort_sums (bool) sort the arguments of + application. (default: false)\n",
      "split_concat_eq (bool) split equalities of the form (= (concat t1 t2) t3) (default: false)\n",
      "\n"
     ]
    }
   ],
   "source": [
    "help_simplify()"
   ]
  },
  {
   "cell_type": "code",
   "execution_count": 48,
   "metadata": {},
   "outputs": [
    {
     "data": {
      "text/plain": [
       "[3, 2, 1]"
      ]
     },
     "execution_count": 48,
     "metadata": {},
     "output_type": "execute_result"
    }
   ],
   "source": [
    "list(range(3,0,-1))"
   ]
  },
  {
   "cell_type": "code",
   "execution_count": 1,
   "metadata": {},
   "outputs": [
    {
     "name": "stdout",
     "output_type": "stream",
     "text": [
      "42\n"
     ]
    }
   ],
   "source": [
    "# It isn't all roses. Python's scoping rules are bonkers. It's intrinsically an imperative language.\n",
    "match 42:\n",
    "    case a:\n",
    "        pass\n",
    "print(a)"
   ]
  },
  {
   "cell_type": "code",
   "execution_count": null,
   "metadata": {},
   "outputs": [],
   "source": [
    "def unify(a : AstRef, b : AstRef, vars):\n",
    "    # or take in an existential equation.\n",
    "    eqs = [(a,b)]\n",
    "    subst = []\n",
    "    sig = [] # miller unify?\n",
    "    while eqs:\n",
    "        a,b = eqs.pop()\n",
    "        if a in vars:\n",
    "            subst.append((a,b))\n",
    "            map(lambda x: substitute(subst), eqs)\n",
    "        elif b in vars:\n",
    "            subst.append((b,a))\n",
    "            map(lambda x: substitute(subst), eqs)\n",
    "        \n"
   ]
  },
  {
   "cell_type": "markdown",
   "metadata": {},
   "source": [
    "convert z3 ast to egglog for conditional simplification.\n",
    "\n",
    "simp taking in z3 formula\n",
    "\n",
    "https://microsoft.github.io/z3guide/programming/Example%20Programs/Formula%20Simplification/ examples of simplifying z3 expressions.\n",
    "\n",
    "\n",
    "rules = []\n",
    "def simp1(t, rules):\n",
    "    for r in rules:\n",
    "        match r:\n",
    "            case ForAll(vars,l == r):\n",
    "                subst = unify(l, r, vars)\n",
    "                if subst != None:\n",
    "\n",
    "def simp():\n",
    "\n",
    "\n",
    "\n"
   ]
  },
  {
   "cell_type": "markdown",
   "metadata": {},
   "source": [
    "Term orderings\n"
   ]
  },
  {
   "cell_type": "code",
   "execution_count": 21,
   "metadata": {},
   "outputs": [
    {
     "data": {
      "text/plain": [
       "<Order.GT: 4>"
      ]
     },
     "execution_count": 21,
     "metadata": {},
     "output_type": "execute_result"
    }
   ],
   "source": [
    "\n",
    "\n",
    "\n",
    "\n"
   ]
  },
  {
   "cell_type": "markdown",
   "metadata": {},
   "source": [
    "ast vector and ast map are interesting.\n",
    "\n",
    "class UnionFind():\n",
    "    pass\n",
    "\n",
    "The thing that kills me is too many design decisions. The great thing about just taking the z3 ast is it just is what it is. It is a pretty goodc design alkbeit imperfetc. In fact, it's so good it kind of inspired this whole line of thinking on my part.\n",
    "\n",
    "\n",
    "https://www.philipzucker.com/programming-and-interactive-proving-with-z3py/\n",
    "\n",
    "https://stackoverflow.com/questions/76270483/is-there-a-way-to-draw-bussproof-style-tree-diagram-in-jupyter-notebook\n",
    "\n"
   ]
  },
  {
   "cell_type": "code",
   "execution_count": 54,
   "metadata": {},
   "outputs": [],
   "source": [
    "from dataclasses import dataclass\n",
    "\n",
    "@dataclass(frozen=True)\n",
    "class Theorem():\n",
    "    pass\n",
    "__Theorem = Theorem\n",
    "Theorem = None\n",
    "\n",
    "@dataclass(frozen=True)\n",
    "class Axiom(__Theorem):\n",
    "    thm : BoolRef\n",
    "#Axiom = None. # Actually. Go ahead\n",
    "\n",
    "@dataclass(frozen=True)\n",
    "class Lemma(__Theorem):\n",
    "    thm : BoolRef\n",
    "    by : list[Theorem]\n",
    "    admit : bool\n",
    "__Lemma = Lemma #This is silly? You can still get at it.\n",
    "Lemma = None\n",
    "\n",
    "def lemma(fm : BoolRef, by = [], admit = False):\n",
    "    if admit:\n",
    "        return __Lemma(fm, by, True)\n",
    "    else:\n",
    "        s = Solver()\n",
    "        for n, h in enumerate(by):\n",
    "            assert isinstance(h, __Theorem)\n",
    "            s.add(h.thm)\n",
    "            s.assert_and_track(h, f\"by_{n}\")\n",
    "         \n",
    "        s.assert_and_track(Not(fm), \"goal\")\n",
    "        s.set(\"unsat_core\", True)\n",
    "        s.set(\"timeout\", 1000)\n",
    "        res = s.check()\n",
    "        if res == unsat:\n",
    "            # check the unsat core. Check it include goals\n",
    "            core = s.unsat_core()\n",
    "            return __Lemma(fm, by, False)\n",
    "        elif res == sat:\n",
    "            raise Exception(\"Lemma failed to prove\", s.get_model())\n",
    "\n"
   ]
  },
  {
   "cell_type": "code",
   "execution_count": null,
   "metadata": {},
   "outputs": [],
   "source": [
    "# a protocol style.\n",
    "class Proof():\n",
    "    thm : BoolRef\n",
    "    reasons : list[Any]\n",
    "    def check(self):\n",
    "        pass\n",
    "\n",
    "class Z3Lemma():\n",
    "    def check(self):\n",
    "        for i in self.reasons:\n",
    "            i.check()\n",
    "        lemma(self.thm, self.reasons)"
   ]
  },
  {
   "cell_type": "code",
   "execution_count": null,
   "metadata": {},
   "outputs": [],
   "source": [
    "Theorem"
   ]
  },
  {
   "cell_type": "markdown",
   "metadata": {},
   "source": [
    "# Converting to TPTP\n"
   ]
  },
  {
   "cell_type": "code",
   "execution_count": 42,
   "metadata": {},
   "outputs": [],
   "source": []
  },
  {
   "cell_type": "code",
   "execution_count": 53,
   "metadata": {},
   "outputs": [
    {
     "data": {
      "text/plain": [
       "{==, And, w, z}"
      ]
     },
     "execution_count": 53,
     "metadata": {},
     "output_type": "execute_result"
    }
   ],
   "source": [
    "def collect_sig(e : ExprRef):\n",
    "    sig = set()\n",
    "    todo = [e]\n",
    "    while todo:\n",
    "        e = todo.pop()\n",
    "        if is_var(e):\n",
    "            continue\n",
    "        elif isinstance(e, QuantifierRef):\n",
    "            todo.extend(e.body())\n",
    "        else:    \n",
    "          sig.add(e.decl())\n",
    "          todo.extend(e.children())\n",
    "    return sig\n",
    "\n",
    "E = DeclareSort(\"E\")\n",
    "x,y,z = Ints(\"x y z\")\n",
    "z,w = Consts(\"z w\", E)\n",
    "collect_sig(And(z == w, w == z))"
   ]
  },
  {
   "cell_type": "code",
   "execution_count": 67,
   "metadata": {},
   "outputs": [
    {
     "name": "stdout",
     "output_type": "stream",
     "text": [
      ";;declarations\n",
      "(declare-fun f (Int) Int)\n",
      ";;axioms\n",
      ";;goal\n",
      "(assert (not (= x x)))\n",
      "(check-set)\n"
     ]
    },
    {
     "ename": "NameError",
     "evalue": "name 'even_pf' is not defined",
     "output_type": "error",
     "traceback": [
      "\u001b[0;31m---------------------------------------------------------------------------\u001b[0m",
      "\u001b[0;31mNameError\u001b[0m                                 Traceback (most recent call last)",
      "Cell \u001b[0;32mIn[67], line 19\u001b[0m\n\u001b[1;32m     16\u001b[0m     \u001b[38;5;28mprint\u001b[39m(\u001b[38;5;124m\"\u001b[39m\u001b[38;5;124m(check-set)\u001b[39m\u001b[38;5;124m\"\u001b[39m)\n\u001b[1;32m     17\u001b[0m smt_print([f] , x \u001b[38;5;241m==\u001b[39m x)\n\u001b[0;32m---> 19\u001b[0m \u001b[43meven_pf\u001b[49m\u001b[38;5;241m.\u001b[39msexpr()\n",
      "\u001b[0;31mNameError\u001b[0m: name 'even_pf' is not defined"
     ]
    }
   ],
   "source": [
    "\n",
    "\n"
   ]
  },
  {
   "cell_type": "code",
   "execution_count": 57,
   "metadata": {},
   "outputs": [
    {
     "ename": "Z3Exception",
     "evalue": "sort mismatch",
     "output_type": "error",
     "traceback": [
      "\u001b[0;31m---------------------------------------------------------------------------\u001b[0m",
      "\u001b[0;31mZ3Exception\u001b[0m                               Traceback (most recent call last)",
      "\u001b[0;32m/tmp/ipykernel_1075501/3895065939.py\u001b[0m in \u001b[0;36m?\u001b[0;34m()\u001b[0m\n\u001b[1;32m      3\u001b[0m     \u001b[0;32mif\u001b[0m \u001b[0mname\u001b[0m \u001b[0;32min\u001b[0m \u001b[0;34m[\u001b[0m\u001b[0;34m\"and\"\u001b[0m\u001b[0;34m,\u001b[0m \u001b[0;34m\"or\"\u001b[0m\u001b[0;34m,\u001b[0m \u001b[0;34m\"=>\"\u001b[0m\u001b[0;34m,\u001b[0m \u001b[0;34m\"=\"\u001b[0m\u001b[0;34m,\u001b[0m \u001b[0;34m\"ite\"\u001b[0m\u001b[0;34m,\u001b[0m \u001b[0;34m\"not\"\u001b[0m\u001b[0;34m]\u001b[0m\u001b[0;34m:\u001b[0m\u001b[0;34m\u001b[0m\u001b[0;34m\u001b[0m\u001b[0m\n\u001b[1;32m      4\u001b[0m         \u001b[0;32mreturn\u001b[0m \u001b[0;32mNone\u001b[0m\u001b[0;34m\u001b[0m\u001b[0;34m\u001b[0m\u001b[0m\n\u001b[1;32m      5\u001b[0m     \u001b[0;32mreturn\u001b[0m \u001b[0;34m\"thf(typedecl, type, {} : {}).\"\u001b[0m\u001b[0;34m.\u001b[0m\u001b[0mformat\u001b[0m\u001b[0;34m(\u001b[0m\u001b[0mname\u001b[0m\u001b[0;34m,\u001b[0m \u001b[0mz3_sort_tptp\u001b[0m\u001b[0;34m(\u001b[0m\u001b[0mdecl\u001b[0m\u001b[0;34m.\u001b[0m\u001b[0msort\u001b[0m\u001b[0;34m(\u001b[0m\u001b[0;34m)\u001b[0m\u001b[0;34m)\u001b[0m\u001b[0;34m)\u001b[0m\u001b[0;34m\u001b[0m\u001b[0;34m\u001b[0m\u001b[0m\n\u001b[1;32m      6\u001b[0m \u001b[0;34m\u001b[0m\u001b[0m\n\u001b[0;32m----> 7\u001b[0;31m \u001b[0;32mfor\u001b[0m \u001b[0mdecl\u001b[0m \u001b[0;32min\u001b[0m \u001b[0mcollect_sig\u001b[0m\u001b[0;34m(\u001b[0m\u001b[0mAnd\u001b[0m\u001b[0;34m(\u001b[0m\u001b[0mz\u001b[0m \u001b[0;34m==\u001b[0m \u001b[0mw\u001b[0m\u001b[0;34m,\u001b[0m \u001b[0mw\u001b[0m \u001b[0;34m==\u001b[0m \u001b[0mz\u001b[0m\u001b[0;34m)\u001b[0m\u001b[0;34m)\u001b[0m\u001b[0;34m:\u001b[0m\u001b[0;34m\u001b[0m\u001b[0;34m\u001b[0m\u001b[0m\n\u001b[0m\u001b[1;32m      8\u001b[0m     \u001b[0mprint\u001b[0m\u001b[0;34m(\u001b[0m\u001b[0mdecl\u001b[0m\u001b[0;34m)\u001b[0m\u001b[0;34m\u001b[0m\u001b[0;34m\u001b[0m\u001b[0m\n\u001b[1;32m      9\u001b[0m     \u001b[0mprint\u001b[0m\u001b[0;34m(\u001b[0m\u001b[0msig_tptp_decl\u001b[0m\u001b[0;34m(\u001b[0m\u001b[0mdecl\u001b[0m\u001b[0;34m)\u001b[0m\u001b[0;34m)\u001b[0m\u001b[0;34m\u001b[0m\u001b[0;34m\u001b[0m\u001b[0m\n",
      "\u001b[0;32m~/.local/lib/python3.10/site-packages/z3/z3.py\u001b[0m in \u001b[0;36m?\u001b[0;34m(self, other)\u001b[0m\n\u001b[1;32m   1029\u001b[0m         \u001b[0;32mFalse\u001b[0m\u001b[0;34m\u001b[0m\u001b[0;34m\u001b[0m\u001b[0m\n\u001b[1;32m   1030\u001b[0m         \"\"\"\n\u001b[1;32m   1031\u001b[0m         \u001b[0;32mif\u001b[0m \u001b[0mother\u001b[0m \u001b[0;32mis\u001b[0m \u001b[0;32mNone\u001b[0m\u001b[0;34m:\u001b[0m\u001b[0;34m\u001b[0m\u001b[0;34m\u001b[0m\u001b[0m\n\u001b[1;32m   1032\u001b[0m             \u001b[0;32mreturn\u001b[0m \u001b[0;32mFalse\u001b[0m\u001b[0;34m\u001b[0m\u001b[0;34m\u001b[0m\u001b[0m\n\u001b[0;32m-> 1033\u001b[0;31m         \u001b[0ma\u001b[0m\u001b[0;34m,\u001b[0m \u001b[0mb\u001b[0m \u001b[0;34m=\u001b[0m \u001b[0m_coerce_exprs\u001b[0m\u001b[0;34m(\u001b[0m\u001b[0mself\u001b[0m\u001b[0;34m,\u001b[0m \u001b[0mother\u001b[0m\u001b[0;34m)\u001b[0m\u001b[0;34m\u001b[0m\u001b[0;34m\u001b[0m\u001b[0m\n\u001b[0m\u001b[1;32m   1034\u001b[0m         \u001b[0;32mreturn\u001b[0m \u001b[0mBoolRef\u001b[0m\u001b[0;34m(\u001b[0m\u001b[0mZ3_mk_eq\u001b[0m\u001b[0;34m(\u001b[0m\u001b[0mself\u001b[0m\u001b[0;34m.\u001b[0m\u001b[0mctx_ref\u001b[0m\u001b[0;34m(\u001b[0m\u001b[0;34m)\u001b[0m\u001b[0;34m,\u001b[0m \u001b[0ma\u001b[0m\u001b[0;34m.\u001b[0m\u001b[0mas_ast\u001b[0m\u001b[0;34m(\u001b[0m\u001b[0;34m)\u001b[0m\u001b[0;34m,\u001b[0m \u001b[0mb\u001b[0m\u001b[0;34m.\u001b[0m\u001b[0mas_ast\u001b[0m\u001b[0;34m(\u001b[0m\u001b[0;34m)\u001b[0m\u001b[0;34m)\u001b[0m\u001b[0;34m,\u001b[0m \u001b[0mself\u001b[0m\u001b[0;34m.\u001b[0m\u001b[0mctx\u001b[0m\u001b[0;34m)\u001b[0m\u001b[0;34m\u001b[0m\u001b[0;34m\u001b[0m\u001b[0m\n",
      "\u001b[0;32m~/.local/lib/python3.10/site-packages/z3/z3.py\u001b[0m in \u001b[0;36m?\u001b[0;34m(a, b, ctx)\u001b[0m\n\u001b[1;32m   1231\u001b[0m         \u001b[0mb\u001b[0m \u001b[0;34m=\u001b[0m \u001b[0mRealVal\u001b[0m\u001b[0;34m(\u001b[0m\u001b[0mb\u001b[0m\u001b[0;34m,\u001b[0m \u001b[0ma\u001b[0m\u001b[0;34m.\u001b[0m\u001b[0mctx\u001b[0m\u001b[0;34m)\u001b[0m\u001b[0;34m\u001b[0m\u001b[0;34m\u001b[0m\u001b[0m\n\u001b[1;32m   1232\u001b[0m \u001b[0;34m\u001b[0m\u001b[0m\n\u001b[1;32m   1233\u001b[0m     \u001b[0ms\u001b[0m \u001b[0;34m=\u001b[0m \u001b[0;32mNone\u001b[0m\u001b[0;34m\u001b[0m\u001b[0;34m\u001b[0m\u001b[0m\n\u001b[1;32m   1234\u001b[0m     \u001b[0ms\u001b[0m \u001b[0;34m=\u001b[0m \u001b[0m_coerce_expr_merge\u001b[0m\u001b[0;34m(\u001b[0m\u001b[0ms\u001b[0m\u001b[0;34m,\u001b[0m \u001b[0ma\u001b[0m\u001b[0;34m)\u001b[0m\u001b[0;34m\u001b[0m\u001b[0;34m\u001b[0m\u001b[0m\n\u001b[0;32m-> 1235\u001b[0;31m     \u001b[0ms\u001b[0m \u001b[0;34m=\u001b[0m \u001b[0m_coerce_expr_merge\u001b[0m\u001b[0;34m(\u001b[0m\u001b[0ms\u001b[0m\u001b[0;34m,\u001b[0m \u001b[0mb\u001b[0m\u001b[0;34m)\u001b[0m\u001b[0;34m\u001b[0m\u001b[0;34m\u001b[0m\u001b[0m\n\u001b[0m\u001b[1;32m   1236\u001b[0m     \u001b[0ma\u001b[0m \u001b[0;34m=\u001b[0m \u001b[0ms\u001b[0m\u001b[0;34m.\u001b[0m\u001b[0mcast\u001b[0m\u001b[0;34m(\u001b[0m\u001b[0ma\u001b[0m\u001b[0;34m)\u001b[0m\u001b[0;34m\u001b[0m\u001b[0;34m\u001b[0m\u001b[0m\n\u001b[1;32m   1237\u001b[0m     \u001b[0mb\u001b[0m \u001b[0;34m=\u001b[0m \u001b[0ms\u001b[0m\u001b[0;34m.\u001b[0m\u001b[0mcast\u001b[0m\u001b[0;34m(\u001b[0m\u001b[0mb\u001b[0m\u001b[0;34m)\u001b[0m\u001b[0;34m\u001b[0m\u001b[0;34m\u001b[0m\u001b[0m\n\u001b[1;32m   1238\u001b[0m     \u001b[0;32mreturn\u001b[0m \u001b[0;34m(\u001b[0m\u001b[0ma\u001b[0m\u001b[0;34m,\u001b[0m \u001b[0mb\u001b[0m\u001b[0;34m)\u001b[0m\u001b[0;34m\u001b[0m\u001b[0;34m\u001b[0m\u001b[0m\n",
      "\u001b[0;32m~/.local/lib/python3.10/site-packages/z3/z3.py\u001b[0m in \u001b[0;36m?\u001b[0;34m(s, a)\u001b[0m\n\u001b[1;32m   1211\u001b[0m             \u001b[0;32mreturn\u001b[0m \u001b[0ms\u001b[0m\u001b[0;34m\u001b[0m\u001b[0;34m\u001b[0m\u001b[0m\n\u001b[1;32m   1212\u001b[0m         \u001b[0;32melse\u001b[0m\u001b[0;34m:\u001b[0m\u001b[0;34m\u001b[0m\u001b[0;34m\u001b[0m\u001b[0m\n\u001b[1;32m   1213\u001b[0m             \u001b[0;32mif\u001b[0m \u001b[0mz3_debug\u001b[0m\u001b[0;34m(\u001b[0m\u001b[0;34m)\u001b[0m\u001b[0;34m:\u001b[0m\u001b[0;34m\u001b[0m\u001b[0;34m\u001b[0m\u001b[0m\n\u001b[1;32m   1214\u001b[0m                 \u001b[0m_z3_assert\u001b[0m\u001b[0;34m(\u001b[0m\u001b[0ms1\u001b[0m\u001b[0;34m.\u001b[0m\u001b[0mctx\u001b[0m \u001b[0;34m==\u001b[0m \u001b[0ms\u001b[0m\u001b[0;34m.\u001b[0m\u001b[0mctx\u001b[0m\u001b[0;34m,\u001b[0m \u001b[0;34m\"context mismatch\"\u001b[0m\u001b[0;34m)\u001b[0m\u001b[0;34m\u001b[0m\u001b[0;34m\u001b[0m\u001b[0m\n\u001b[0;32m-> 1215\u001b[0;31m                 \u001b[0m_z3_assert\u001b[0m\u001b[0;34m(\u001b[0m\u001b[0;32mFalse\u001b[0m\u001b[0;34m,\u001b[0m \u001b[0;34m\"sort mismatch\"\u001b[0m\u001b[0;34m)\u001b[0m\u001b[0;34m\u001b[0m\u001b[0;34m\u001b[0m\u001b[0m\n\u001b[0m\u001b[1;32m   1216\u001b[0m     \u001b[0;32melse\u001b[0m\u001b[0;34m:\u001b[0m\u001b[0;34m\u001b[0m\u001b[0;34m\u001b[0m\u001b[0m\n\u001b[1;32m   1217\u001b[0m         \u001b[0;32mreturn\u001b[0m \u001b[0ms\u001b[0m\u001b[0;34m\u001b[0m\u001b[0;34m\u001b[0m\u001b[0m\n",
      "\u001b[0;32m~/.local/lib/python3.10/site-packages/z3/z3.py\u001b[0m in \u001b[0;36m?\u001b[0;34m(cond, msg)\u001b[0m\n\u001b[1;32m    105\u001b[0m \u001b[0;32mdef\u001b[0m \u001b[0m_z3_assert\u001b[0m\u001b[0;34m(\u001b[0m\u001b[0mcond\u001b[0m\u001b[0;34m,\u001b[0m \u001b[0mmsg\u001b[0m\u001b[0;34m)\u001b[0m\u001b[0;34m:\u001b[0m\u001b[0;34m\u001b[0m\u001b[0;34m\u001b[0m\u001b[0m\n\u001b[1;32m    106\u001b[0m     \u001b[0;32mif\u001b[0m \u001b[0;32mnot\u001b[0m \u001b[0mcond\u001b[0m\u001b[0;34m:\u001b[0m\u001b[0;34m\u001b[0m\u001b[0;34m\u001b[0m\u001b[0m\n\u001b[0;32m--> 107\u001b[0;31m         \u001b[0;32mraise\u001b[0m \u001b[0mZ3Exception\u001b[0m\u001b[0;34m(\u001b[0m\u001b[0mmsg\u001b[0m\u001b[0;34m)\u001b[0m\u001b[0;34m\u001b[0m\u001b[0;34m\u001b[0m\u001b[0m\n\u001b[0m",
      "\u001b[0;31mZ3Exception\u001b[0m: sort mismatch"
     ]
    }
   ],
   "source": [
    "def sig_tptp_decl(decl):\n",
    "    name = decl.name()\n",
    "    if name in [\"and\", \"or\", \"=>\", \"=\", \"ite\", \"not\"]:\n",
    "        return None\n",
    "    return \"thf(typedecl, type, {} : {}).\".format(name, z3_sort_tptp(decl.sort()))\n",
    "\n",
    "for decl in collect_sig(And(z == w, w == z)):\n",
    "    print(decl)\n",
    "    print(sig_tptp_decl(decl))\n"
   ]
  },
  {
   "cell_type": "code",
   "execution_count": 54,
   "metadata": {},
   "outputs": [
    {
     "data": {
      "text/plain": [
       "'((x = 1) & (y = 2))'"
      ]
     },
     "execution_count": 54,
     "metadata": {},
     "output_type": "execute_result"
    }
   ],
   "source": [
    "\n",
    "\n",
    "\n",
    "\n",
    "x, y = Ints(\"x y\")\n",
    "z3_to_tptp(And(x == 1, y == 2))"
   ]
  },
  {
   "cell_type": "code",
   "execution_count": 85,
   "metadata": {},
   "outputs": [
    {
     "data": {
      "text/plain": [
       "True"
      ]
     },
     "execution_count": 85,
     "metadata": {},
     "output_type": "execute_result"
    }
   ],
   "source": [
    "e= Not(BoolVal(False))\n",
    "e.sort_kind()\n",
    "e.decl().kind() == z3.Z3_OP_NOT\n",
    "f(x).decl().kind() == z3.Z3_OP_UNINTERPRETED\n",
    "BoolVal(False).decl().kind() == z3.Z3_OP_FALSE"
   ]
  },
  {
   "cell_type": "code",
   "execution_count": null,
   "metadata": {},
   "outputs": [],
   "source": [
    "_z3_op_to_tptp = {\n",
    "    Z3_OP_TRUE: \"$true\",\n",
    "    Z3_OP_FALSE: \"$false\",\n",
    "    Z3_OP_EQ: \"=\",\n",
    "    Z3_OP_DISTINCT: \"Distinct\",\n",
    "    Z3_OP_ITE: \"$ite\",\n",
    "    Z3_OP_AND: \"&\",\n",
    "    Z3_OP_OR: \"|\",\n",
    "    Z3_OP_IFF: \"<=>\",\n",
    "    Z3_OP_XOR: \"Xor\",\n",
    "    Z3_OP_NOT: \"~\",\n",
    "    Z3_OP_IMPLIES: \"=>\",\n",
    "\n",
    "    Z3_OP_IDIV: \"/\",\n",
    "    Z3_OP_MOD: \"%\",\n",
    "    Z3_OP_TO_REAL: \"ToReal\",\n",
    "    Z3_OP_TO_INT: \"ToInt\",\n",
    "    Z3_OP_POWER: \"**\",\n",
    "    Z3_OP_IS_INT: \"IsInt\",\n",
    "    Z3_OP_BADD: \"+\",\n",
    "    Z3_OP_BSUB: \"-\",\n",
    "    Z3_OP_BMUL: \"*\",\n",
    "    Z3_OP_BOR: \"|\",\n",
    "    Z3_OP_BAND: \"&\",\n",
    "    Z3_OP_BNOT: \"~\",\n",
    "    Z3_OP_BXOR: \"^\",\n",
    "    Z3_OP_BNEG: \"-\",\n",
    "    Z3_OP_BUDIV: \"UDiv\",\n",
    "    Z3_OP_BSDIV: \"/\",\n",
    "    Z3_OP_BSMOD: \"%\",\n",
    "    Z3_OP_BSREM: \"SRem\",\n",
    "    Z3_OP_BUREM: \"URem\",\n",
    "\n",
    "    Z3_OP_EXT_ROTATE_LEFT: \"RotateLeft\",\n",
    "    Z3_OP_EXT_ROTATE_RIGHT: \"RotateRight\",\n",
    "\n",
    "    Z3_OP_SLEQ: \"<=\",\n",
    "    Z3_OP_SLT: \"<\",\n",
    "    Z3_OP_SGEQ: \">=\",\n",
    "    Z3_OP_SGT: \">\",\n",
    "\n",
    "    Z3_OP_ULEQ: \"ULE\",\n",
    "    Z3_OP_ULT: \"ULT\",\n",
    "    Z3_OP_UGEQ: \"UGE\",\n",
    "    Z3_OP_UGT: \"UGT\",\n",
    "    Z3_OP_SIGN_EXT: \"SignExt\",\n",
    "    Z3_OP_ZERO_EXT: \"ZeroExt\",\n",
    "\n",
    "    Z3_OP_REPEAT: \"RepeatBitVec\",\n",
    "    Z3_OP_BASHR: \">>\",\n",
    "    Z3_OP_BSHL: \"<<\",\n",
    "    Z3_OP_BLSHR: \"LShR\",\n",
    "\n",
    "    Z3_OP_CONCAT: \"Concat\",\n",
    "    Z3_OP_EXTRACT: \"Extract\",\n",
    "    Z3_OP_BV2INT: \"BV2Int\",\n",
    "    Z3_OP_ARRAY_MAP: \"Map\",\n",
    "    Z3_OP_SELECT: \"Select\",\n",
    "    Z3_OP_STORE: \"Store\",\n",
    "    Z3_OP_CONST_ARRAY: \"K\",\n",
    "    Z3_OP_ARRAY_EXT: \"Ext\",\n",
    "\n",
    "    Z3_OP_PB_AT_MOST: \"AtMost\",\n",
    "    Z3_OP_PB_AT_LEAST: \"AtLeast\",\n",
    "    Z3_OP_PB_LE: \"PbLe\",\n",
    "    Z3_OP_PB_GE: \"PbGe\",\n",
    "    Z3_OP_PB_EQ: \"PbEq\",\n",
    "\n",
    "    Z3_OP_SEQ_CONCAT: \"Concat\",\n",
    "    Z3_OP_SEQ_PREFIX: \"PrefixOf\",\n",
    "    Z3_OP_SEQ_SUFFIX: \"SuffixOf\",\n",
    "    Z3_OP_SEQ_UNIT: \"Unit\",\n",
    "    Z3_OP_SEQ_CONTAINS: \"Contains\",\n",
    "    Z3_OP_SEQ_REPLACE: \"Replace\",\n",
    "    Z3_OP_SEQ_AT: \"At\",\n",
    "    Z3_OP_SEQ_NTH: \"Nth\",\n",
    "    Z3_OP_SEQ_INDEX: \"IndexOf\",\n",
    "    Z3_OP_SEQ_LAST_INDEX: \"LastIndexOf\",\n",
    "    Z3_OP_SEQ_LENGTH: \"Length\",\n",
    "    Z3_OP_STR_TO_INT: \"StrToInt\",\n",
    "    Z3_OP_INT_TO_STR: \"IntToStr\",\n",
    "\n",
    "    Z3_OP_SEQ_IN_RE: \"InRe\",\n",
    "    Z3_OP_SEQ_TO_RE: \"Re\",\n",
    "    Z3_OP_RE_PLUS: \"Plus\",\n",
    "    Z3_OP_RE_STAR: \"Star\",\n",
    "    Z3_OP_RE_OPTION: \"Option\",\n",
    "    Z3_OP_RE_UNION: \"Union\",\n",
    "    Z3_OP_RE_RANGE: \"Range\",\n",
    "    Z3_OP_RE_INTERSECT: \"Intersect\",\n",
    "    Z3_OP_RE_COMPLEMENT: \"Complement\",\n",
    "\n",
    "    Z3_OP_FPA_IS_NAN: \"fpIsNaN\",\n",
    "    Z3_OP_FPA_IS_INF: \"fpIsInf\",\n",
    "    Z3_OP_FPA_IS_ZERO: \"fpIsZero\",\n",
    "    Z3_OP_FPA_IS_NORMAL: \"fpIsNormal\",\n",
    "    Z3_OP_FPA_IS_SUBNORMAL: \"fpIsSubnormal\",\n",
    "    Z3_OP_FPA_IS_NEGATIVE: \"fpIsNegative\",\n",
    "    Z3_OP_FPA_IS_POSITIVE: \"fpIsPositive\",\n",
    "}"
   ]
  },
  {
   "cell_type": "code",
   "execution_count": 55,
   "metadata": {},
   "outputs": [
    {
     "ename": "AttributeError",
     "evalue": "'FuncDeclRef' object has no attribute 'sort'",
     "output_type": "error",
     "traceback": [
      "\u001b[0;31m---------------------------------------------------------------------------\u001b[0m",
      "\u001b[0;31mAttributeError\u001b[0m                            Traceback (most recent call last)",
      "Cell \u001b[0;32mIn[55], line 9\u001b[0m\n\u001b[1;32m      6\u001b[0m     \u001b[38;5;28;01mreturn\u001b[39;00m tptp\n\u001b[1;32m      8\u001b[0m x, y, z \u001b[38;5;241m=\u001b[39m Ints(\u001b[38;5;124m\"\u001b[39m\u001b[38;5;124mx y z\u001b[39m\u001b[38;5;124m\"\u001b[39m)\n\u001b[0;32m----> 9\u001b[0m \u001b[43mz3_problem_to_tptp\u001b[49m\u001b[43m(\u001b[49m\u001b[43m[\u001b[49m\u001b[43mx\u001b[49m\u001b[43m \u001b[49m\u001b[38;5;241;43m==\u001b[39;49m\u001b[43m \u001b[49m\u001b[43my\u001b[49m\u001b[43m,\u001b[49m\u001b[43m \u001b[49m\u001b[43my\u001b[49m\u001b[43m \u001b[49m\u001b[38;5;241;43m==\u001b[39;49m\u001b[43m \u001b[49m\u001b[43mz\u001b[49m\u001b[43m]\u001b[49m\u001b[43m)\u001b[49m\n",
      "Cell \u001b[0;32mIn[55], line 4\u001b[0m, in \u001b[0;36mz3_problem_to_tptp\u001b[0;34m(probs)\u001b[0m\n\u001b[1;32m      2\u001b[0m tptp \u001b[38;5;241m=\u001b[39m []\n\u001b[1;32m      3\u001b[0m sig \u001b[38;5;241m=\u001b[39m {d \u001b[38;5;28;01mfor\u001b[39;00m prob \u001b[38;5;129;01min\u001b[39;00m probs \u001b[38;5;28;01mfor\u001b[39;00m d \u001b[38;5;129;01min\u001b[39;00m collect_sig(prob)}\n\u001b[0;32m----> 4\u001b[0m \u001b[43mtptp\u001b[49m\u001b[38;5;241;43m.\u001b[39;49m\u001b[43mextend\u001b[49m\u001b[43m(\u001b[49m\u001b[38;5;28;43mmap\u001b[39;49m\u001b[43m(\u001b[49m\u001b[43msig_tptp_decl\u001b[49m\u001b[43m,\u001b[49m\u001b[43m \u001b[49m\u001b[43msig\u001b[49m\u001b[43m)\u001b[49m\u001b[43m)\u001b[49m\n\u001b[1;32m      5\u001b[0m tptp\u001b[38;5;241m.\u001b[39mextend(\u001b[38;5;28mmap\u001b[39m(z3_to_tptp, probs))\n\u001b[1;32m      6\u001b[0m \u001b[38;5;28;01mreturn\u001b[39;00m tptp\n",
      "Cell \u001b[0;32mIn[51], line 5\u001b[0m, in \u001b[0;36msig_tptp_decl\u001b[0;34m(decl)\u001b[0m\n\u001b[1;32m      3\u001b[0m \u001b[38;5;28;01mif\u001b[39;00m name \u001b[38;5;129;01min\u001b[39;00m [\u001b[38;5;124m\"\u001b[39m\u001b[38;5;124mand\u001b[39m\u001b[38;5;124m\"\u001b[39m, \u001b[38;5;124m\"\u001b[39m\u001b[38;5;124mor\u001b[39m\u001b[38;5;124m\"\u001b[39m, \u001b[38;5;124m\"\u001b[39m\u001b[38;5;124m=>\u001b[39m\u001b[38;5;124m\"\u001b[39m, \u001b[38;5;124m\"\u001b[39m\u001b[38;5;124m=\u001b[39m\u001b[38;5;124m\"\u001b[39m, \u001b[38;5;124m\"\u001b[39m\u001b[38;5;124mite\u001b[39m\u001b[38;5;124m\"\u001b[39m, \u001b[38;5;124m\"\u001b[39m\u001b[38;5;124mnot\u001b[39m\u001b[38;5;124m\"\u001b[39m]:\n\u001b[1;32m      4\u001b[0m     \u001b[38;5;28;01mreturn\u001b[39;00m \u001b[38;5;28;01mNone\u001b[39;00m\n\u001b[0;32m----> 5\u001b[0m \u001b[38;5;28;01mreturn\u001b[39;00m \u001b[38;5;124m\"\u001b[39m\u001b[38;5;124mthf(typedecl, type, \u001b[39m\u001b[38;5;132;01m{}\u001b[39;00m\u001b[38;5;124m : \u001b[39m\u001b[38;5;132;01m{}\u001b[39;00m\u001b[38;5;124m).\u001b[39m\u001b[38;5;124m\"\u001b[39m\u001b[38;5;241m.\u001b[39mformat(name, z3_sort_tptp(\u001b[43mdecl\u001b[49m\u001b[38;5;241;43m.\u001b[39;49m\u001b[43msort\u001b[49m()))\n",
      "\u001b[0;31mAttributeError\u001b[0m: 'FuncDeclRef' object has no attribute 'sort'"
     ]
    }
   ],
   "source": [
    "def z3_problem_to_tptp(probs : list[BoolRef]):\n",
    "    tptp = []\n",
    "    sig = {d for prob in probs for d in collect_sig(prob)}\n",
    "    tptp.extend(map(sig_tptp_decl, sig))\n",
    "    tptp.extend(map(z3_to_tptp, probs))\n",
    "    return tptp\n",
    "\n",
    "x, y, z = Ints(\"x y z\")\n",
    "z3_problem_to_tptp([x == y, y == z])\n",
    "\n",
    "    \n"
   ]
  },
  {
   "cell_type": "code",
   "execution_count": 112,
   "metadata": {},
   "outputs": [
    {
     "ename": "AttributeError",
     "evalue": "'QuantifierRef' object has no attribute 'domain_n'",
     "output_type": "error",
     "traceback": [
      "\u001b[0;31m---------------------------------------------------------------------------\u001b[0m",
      "\u001b[0;31mAttributeError\u001b[0m                            Traceback (most recent call last)",
      "\u001b[0;32m/tmp/ipykernel_822462/2189143964.py\u001b[0m in \u001b[0;36m?\u001b[0;34m()\u001b[0m\n\u001b[1;32m      1\u001b[0m \u001b[0mExists\u001b[0m\u001b[0;34m(\u001b[0m\u001b[0;34m[\u001b[0m\u001b[0mx\u001b[0m\u001b[0;34m]\u001b[0m\u001b[0;34m,\u001b[0m \u001b[0mx\u001b[0m \u001b[0;34m==\u001b[0m \u001b[0mx\u001b[0m\u001b[0;34m)\u001b[0m\u001b[0;34m.\u001b[0m\u001b[0mis_exists\u001b[0m\u001b[0;34m(\u001b[0m\u001b[0;34m)\u001b[0m\u001b[0;34m\u001b[0m\u001b[0;34m\u001b[0m\u001b[0m\n\u001b[1;32m      2\u001b[0m \u001b[0msubstitute_vars\u001b[0m\u001b[0;34m(\u001b[0m\u001b[0mLambda\u001b[0m\u001b[0;34m(\u001b[0m\u001b[0;34m[\u001b[0m\u001b[0mx\u001b[0m\u001b[0;34m,\u001b[0m\u001b[0my\u001b[0m\u001b[0;34m]\u001b[0m\u001b[0;34m,\u001b[0m \u001b[0mx\u001b[0m \u001b[0;34m+\u001b[0m \u001b[0my\u001b[0m\u001b[0;34m)\u001b[0m\u001b[0;34m.\u001b[0m\u001b[0mbody\u001b[0m\u001b[0;34m(\u001b[0m\u001b[0;34m)\u001b[0m\u001b[0;34m,\u001b[0m \u001b[0mIntVal\u001b[0m\u001b[0;34m(\u001b[0m\u001b[0;36m3\u001b[0m\u001b[0;34m)\u001b[0m\u001b[0;34m)\u001b[0m\u001b[0;34m\u001b[0m\u001b[0;34m\u001b[0m\u001b[0m\n\u001b[0;32m----> 3\u001b[0;31m \u001b[0mSelect\u001b[0m\u001b[0;34m(\u001b[0m\u001b[0mLambda\u001b[0m\u001b[0;34m(\u001b[0m\u001b[0;34m[\u001b[0m\u001b[0mx\u001b[0m\u001b[0;34m]\u001b[0m\u001b[0;34m,\u001b[0m \u001b[0mx\u001b[0m \u001b[0;34m+\u001b[0m \u001b[0;36m1\u001b[0m\u001b[0;34m)\u001b[0m\u001b[0;34m,\u001b[0m \u001b[0;36m10\u001b[0m\u001b[0;34m)\u001b[0m\u001b[0;34m\u001b[0m\u001b[0;34m\u001b[0m\u001b[0m\n\u001b[0m",
      "\u001b[0;32m~/.local/lib/python3.10/site-packages/z3/z3.py\u001b[0m in \u001b[0;36m?\u001b[0;34m(a, *args)\u001b[0m\n\u001b[1;32m   4807\u001b[0m     \u001b[0mproved\u001b[0m\u001b[0;34m\u001b[0m\u001b[0;34m\u001b[0m\u001b[0m\n\u001b[1;32m   4808\u001b[0m     \u001b[0;34m>>\u001b[0m\u001b[0;34m>\u001b[0m \u001b[0mj\u001b[0m    \u001b[0;34m=\u001b[0m \u001b[0mInt\u001b[0m\u001b[0;34m(\u001b[0m\u001b[0;34m'j'\u001b[0m\u001b[0;34m)\u001b[0m\u001b[0;34m\u001b[0m\u001b[0;34m\u001b[0m\u001b[0m\n\u001b[1;32m   4809\u001b[0m     \u001b[0;34m>>\u001b[0m\u001b[0;34m>\u001b[0m \u001b[0mprove\u001b[0m\u001b[0;34m(\u001b[0m\u001b[0mImplies\u001b[0m\u001b[0;34m(\u001b[0m\u001b[0mi\u001b[0m \u001b[0;34m!=\u001b[0m \u001b[0mj\u001b[0m\u001b[0;34m,\u001b[0m \u001b[0ms\u001b[0m\u001b[0;34m[\u001b[0m\u001b[0mj\u001b[0m\u001b[0;34m]\u001b[0m \u001b[0;34m==\u001b[0m \u001b[0ma\u001b[0m\u001b[0;34m[\u001b[0m\u001b[0mj\u001b[0m\u001b[0;34m]\u001b[0m\u001b[0;34m)\u001b[0m\u001b[0;34m)\u001b[0m\u001b[0;34m\u001b[0m\u001b[0;34m\u001b[0m\u001b[0m\n\u001b[1;32m   4810\u001b[0m     \u001b[0mproved\u001b[0m\u001b[0;34m\u001b[0m\u001b[0;34m\u001b[0m\u001b[0m\n\u001b[0;32m-> 4811\u001b[0;31m     \"\"\"\n\u001b[0m\u001b[1;32m   4812\u001b[0m     \u001b[0;32mif\u001b[0m \u001b[0mz3_debug\u001b[0m\u001b[0;34m(\u001b[0m\u001b[0;34m)\u001b[0m\u001b[0;34m:\u001b[0m\u001b[0;34m\u001b[0m\u001b[0;34m\u001b[0m\u001b[0m\n\u001b[1;32m   4813\u001b[0m         \u001b[0m_z3_assert\u001b[0m\u001b[0;34m(\u001b[0m\u001b[0mis_array_sort\u001b[0m\u001b[0;34m(\u001b[0m\u001b[0ma\u001b[0m\u001b[0;34m)\u001b[0m\u001b[0;34m,\u001b[0m \u001b[0;34m\"First argument must be a Z3 array expression\"\u001b[0m\u001b[0;34m)\u001b[0m\u001b[0;34m\u001b[0m\u001b[0;34m\u001b[0m\u001b[0m\n\u001b[1;32m   4814\u001b[0m     \u001b[0margs\u001b[0m \u001b[0;34m=\u001b[0m \u001b[0m_get_args\u001b[0m\u001b[0;34m(\u001b[0m\u001b[0margs\u001b[0m\u001b[0;34m)\u001b[0m\u001b[0;34m\u001b[0m\u001b[0;34m\u001b[0m\u001b[0m\n",
      "\u001b[0;32m~/.local/lib/python3.10/site-packages/z3/z3.py\u001b[0m in \u001b[0;36m?\u001b[0;34m(self, arg)\u001b[0m\n\u001b[1;32m   2037\u001b[0m         \u001b[0;32mreturn\u001b[0m \u001b[0mZ3_get_ast_id\u001b[0m\u001b[0;34m(\u001b[0m\u001b[0mself\u001b[0m\u001b[0;34m.\u001b[0m\u001b[0mctx_ref\u001b[0m\u001b[0;34m(\u001b[0m\u001b[0;34m)\u001b[0m\u001b[0;34m,\u001b[0m \u001b[0mself\u001b[0m\u001b[0;34m.\u001b[0m\u001b[0mas_ast\u001b[0m\u001b[0;34m(\u001b[0m\u001b[0;34m)\u001b[0m\u001b[0;34m)\u001b[0m\u001b[0;34m\u001b[0m\u001b[0;34m\u001b[0m\u001b[0m\n",
      "\u001b[0;32m~/.local/lib/python3.10/site-packages/z3/z3.py\u001b[0m in \u001b[0;36m?\u001b[0;34m(ar, arg)\u001b[0m\n\u001b[1;32m   4589\u001b[0m     \u001b[0;32mdef\u001b[0m \u001b[0mrange\u001b[0m\u001b[0;34m(\u001b[0m\u001b[0mself\u001b[0m\u001b[0;34m)\u001b[0m\u001b[0;34m:\u001b[0m\u001b[0;34m\u001b[0m\u001b[0;34m\u001b[0m\u001b[0m\n\u001b[1;32m   4590\u001b[0m         \"\"\"Return the range of the array sort `self`.\n\u001b[0;32m-> 4591\u001b[0;31m \u001b[0;34m\u001b[0m\u001b[0m\n\u001b[0m\u001b[1;32m   4592\u001b[0m         \u001b[0;34m>>\u001b[0m\u001b[0;34m>\u001b[0m \u001b[0mA\u001b[0m \u001b[0;34m=\u001b[0m \u001b[0mArraySort\u001b[0m\u001b[0;34m(\u001b[0m\u001b[0mIntSort\u001b[0m\u001b[0;34m(\u001b[0m\u001b[0;34m)\u001b[0m\u001b[0;34m,\u001b[0m \u001b[0mBoolSort\u001b[0m\u001b[0;34m(\u001b[0m\u001b[0;34m)\u001b[0m\u001b[0;34m)\u001b[0m\u001b[0;34m\u001b[0m\u001b[0;34m\u001b[0m\u001b[0m\n\u001b[1;32m   4593\u001b[0m         \u001b[0;34m>>\u001b[0m\u001b[0;34m>\u001b[0m \u001b[0mA\u001b[0m\u001b[0;34m.\u001b[0m\u001b[0mrange\u001b[0m\u001b[0;34m(\u001b[0m\u001b[0;34m)\u001b[0m\u001b[0;34m\u001b[0m\u001b[0;34m\u001b[0m\u001b[0m\n\u001b[1;32m   4594\u001b[0m         \u001b[0mBool\u001b[0m\u001b[0;34m\u001b[0m\u001b[0;34m\u001b[0m\u001b[0m\n",
      "\u001b[0;32m~/.local/lib/python3.10/site-packages/z3/z3.py\u001b[0m in \u001b[0;36m?\u001b[0;34m(.0)\u001b[0m\n\u001b[0;32m-> 4591\u001b[0;31m     \u001b[0;32mdef\u001b[0m \u001b[0mrange\u001b[0m\u001b[0;34m(\u001b[0m\u001b[0mself\u001b[0m\u001b[0;34m)\u001b[0m\u001b[0;34m:\u001b[0m\u001b[0;34m\u001b[0m\u001b[0;34m\u001b[0m\u001b[0m\n\u001b[0m\u001b[1;32m   4592\u001b[0m         \"\"\"Return the range of the array sort `self`.\n\u001b[1;32m   4593\u001b[0m \u001b[0;34m\u001b[0m\u001b[0m\n\u001b[1;32m   4594\u001b[0m         \u001b[0;34m>>\u001b[0m\u001b[0;34m>\u001b[0m \u001b[0mA\u001b[0m \u001b[0;34m=\u001b[0m \u001b[0mArraySort\u001b[0m\u001b[0;34m(\u001b[0m\u001b[0mIntSort\u001b[0m\u001b[0;34m(\u001b[0m\u001b[0;34m)\u001b[0m\u001b[0;34m,\u001b[0m \u001b[0mBoolSort\u001b[0m\u001b[0;34m(\u001b[0m\u001b[0;34m)\u001b[0m\u001b[0;34m)\u001b[0m\u001b[0;34m\u001b[0m\u001b[0;34m\u001b[0m\u001b[0m\n",
      "\u001b[0;31mAttributeError\u001b[0m: 'QuantifierRef' object has no attribute 'domain_n'"
     ]
    }
   ],
   "source": [
    "Exists([x], x == x).is_exists()\n",
    "substitute_vars(Lambda([x,y], x + y).body(), IntVal(3))\n",
    "Select(Lambda([x], x + 1), 10)"
   ]
  },
  {
   "cell_type": "code",
   "execution_count": 69,
   "metadata": {},
   "outputs": [
    {
     "data": {
      "text/plain": [
       "'x'"
      ]
     },
     "execution_count": 69,
     "metadata": {},
     "output_type": "execute_result"
    }
   ],
   "source": [
    "x.decl().name()"
   ]
  },
  {
   "cell_type": "code",
   "execution_count": 73,
   "metadata": {},
   "outputs": [
    {
     "name": "stdout",
     "output_type": "stream",
     "text": [
      ";;declarations\n",
      "(declare-fun f (Int) Int)\n",
      ";;axioms\n",
      ";;goal\n",
      "(assert (not (= x x)))\n",
      "(check-set)\n"
     ]
    },
    {
     "data": {
      "text/plain": [
       "b'Running in auto input_syntax mode. Trying SMTLIB2\\nsat\\n'"
      ]
     },
     "execution_count": 73,
     "metadata": {},
     "output_type": "execute_result"
    }
   ],
   "source": [
    "# nice smt printing. Using solver kind of mangles it\n",
    "from z3 import *\n",
    "x = Int(\"x\")\n",
    "f = Function(\"f\", IntSort(), IntSort())\n",
    "x.decl().sexpr()\n",
    "\n",
    "def sexpr_datatype(dt):\n",
    "    print(f\"(declare-datatypes ({dt.name()}))\")\n",
    "    for c in dt.constructor():\n",
    "        print(f\"({c.name()} {c.sort()})\")\n",
    "    #print(f\"(declare-fun is_{dt.name()} (E) Bool)\")\n",
    "    #print(f\"(assert (forall ((x E)) (= (is_{dt.name()} x) (or {c.name()} x))))\")\n",
    "\n",
    "\n",
    "import subprocess\n",
    "\n",
    "def lemma_smt(thm, by=[], sig=[]):\n",
    "    output = []\n",
    "    output.append(\";;declarations\")\n",
    "    for f in sig:\n",
    "        output.append(f.sexpr())\n",
    "    output.append(\";;axioms\")\n",
    "    for e in by:\n",
    "        output.append(\"(assert \" + e.sexpr() + \")\")\n",
    "    output.append(\";;goal\")\n",
    "    output.append(\"(assert \" + Not(thm).sexpr() + \")\")\n",
    "    output.append(\"(check-set)\")\n",
    "    return output\n",
    "\n",
    "def lemma_ext(thm, by=[], sig=[], command=None, timeout=1000):\n",
    "    # TODO use better temporary file\n",
    "    with open(\"/tmp/temp.smt2\", \"w\") as f:\n",
    "        smt = lemma_smt(thm, by=by, sig=sig)\n",
    "        f.writelines(smt)\n",
    "    command.append(\"/tmp/temp.smt2\")\n",
    "    res = subprocess.run(\n",
    "        command,\n",
    "        timeout=1.0,\n",
    "        capture_output=True,\n",
    "    )\n",
    "    return res\n",
    "\n",
    "def lemma_vampire(thm, by=[], sig=[], timeout=1000):\n",
    "    return lemma_ext(thm, by=by, sig=sig, command=[\"vampire\", \"--output_mode\", \"smtcomp\"], timeout=timeout)\n",
    "\n",
    "lemma_vampire(f(7) == 7, sig=[f]).stdout"
   ]
  }
 ],
 "metadata": {
  "kernelspec": {
   "display_name": "Python 3",
   "language": "python",
   "name": "python3"
  },
  "language_info": {
   "codemirror_mode": {
    "name": "ipython",
    "version": 3
   },
   "file_extension": ".py",
   "mimetype": "text/x-python",
   "name": "python",
   "nbconvert_exporter": "python",
   "pygments_lexer": "ipython3",
   "version": "3.10.12"
  }
 },
 "nbformat": 4,
 "nbformat_minor": 2
}
