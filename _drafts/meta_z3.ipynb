{
 "cells": [
  {
   "cell_type": "markdown",
   "metadata": {},
   "source": [
    "\n",
    "# Staged Metaprogramming\n",
    "I had a post somewehre on this point. That programming z3 in python is staged metaprogramming.\n",
    "The meta system python can do partial evaluation.\n",
    "\n",
    "\n"
   ]
  },
  {
   "cell_type": "code",
   "execution_count": 1,
   "metadata": {},
   "outputs": [],
   "source": [
    "from z3 import *"
   ]
  },
  {
   "cell_type": "code",
   "execution_count": null,
   "metadata": {},
   "outputs": [],
   "source": [
    "def mypow(x:int,n:int) -> int:\n",
    "    assert n >= 0\n",
    "    if n == 0:\n",
    "        return 1\n",
    "    else:\n",
    "        x * mypow(x,n-1)\n",
    "\n",
    "# accumulator version?\n",
    "\n",
    "# string version\n",
    "# strings are a universal but somewhat structure free rep of code.\n",
    "Code = str\n",
    "def mypow2(n:int, x:Code) -> Code:\n",
    "    if x == 0:\n",
    "        return \"1\"\n",
    "    else:\n",
    "        f\"{x} * {mypow2(x,n-1)}\"\n",
    "\n",
    "mypow = lambda x,n: 1 if n <= 0 else x * mypow(x,n-1)\n",
    "\n",
    "mypow = Function(\"mypow\", IntSort(), IntSort(), IntSort())\n",
    "mypow_def = ForAll([x,n], mypow(n, x) == If(n <= 0, 1, x * mypow(n-1, x)))\n",
    "\n",
    "# Partially evaled\n",
    "def mypow(x:ExprRef, n:int) -> ExprRef:\n",
    "    if n == 0:\n",
    "        return IntVal(1)\n",
    "    else:\n",
    "        return x * mypow(x,n-1)\n",
    "\n",
    "\n"
   ]
  },
  {
   "cell_type": "markdown",
   "metadata": {},
   "source": [
    "# Quote\n",
    "\n",
    "Related to the above, we can also build a replication of some of z3's ast inside itself. The `quote` function is a metalevel python notion.\n",
    "\n",
    "https://arxiv.org/abs/1802.00405\n",
    "qe hol-light\n",
    "\n",
    "Quotation is rife with paradox, but I'm not sure that the way I've done it here can be? Since I haven't internalized quote into my logic.\n",
    "\n"
   ]
  },
  {
   "cell_type": "code",
   "execution_count": null,
   "metadata": {},
   "outputs": [],
   "source": [
    "\"\"\"\n",
    "unityped\n",
    "Z3Expr = Datatype(\"Z3Expr\")\n",
    "Z3Expr.declare(\"IntVal\", (\"val\", IntSort()))\n",
    "Z3Expr.declare(\"Var\", (\"name\", StringSort()))\n",
    "Z3Expr.declare(\"And\", (\"lhs\", Z3Expr), (\"rhs\", Z3Expr))\n",
    "Z3Expr.declare(\"Or\", (\"lhs\", Z3Expr), (\"rhs\", Z3Expr))\n",
    "\"\"\"\n",
    "BoolExpr = Datatype(\"BoolExpr\")\n",
    "BoolExpr.declare(\"BoolVal\", (\"val\", BoolSort()))\n",
    "BoolExpr.declare(\"Var\", (\"name\", StringSort()))\n",
    "BoolExpr.declare(\"And\", (\"lhs\", BoolExpr), (\"rhs\", BoolExpr))\n",
    "BoolExpr.declare(\"Or\", (\"lhs\", BoolExpr), (\"rhs\", BoolExpr))\n",
    "BoolExpr.declare(\"Not\", (\"arg\", BoolExpr))\n",
    "BoolExpr = BoolExpr.create()\n",
    "IntExpr = Datatype(\"IntExpr\")\n",
    "IntExpr.declare(\"IntVal\", (\"val\", IntSort()))\n",
    "IntExpr.declare(\"Var\", (\"name\", StringSort()))\n",
    "IntExpr.declare(\"Add\", (\"lhs\", IntExpr), (\"rhs\", IntExpr))\n",
    "IntExpr.declare(\"Sub\", (\"lhs\", IntExpr), (\"rhs\", IntExpr))\n",
    "IntExpr = IntExpr.create()\n",
    "\n",
    "\n",
    "\n",
    "def quote(e : ExprRef)-> ExprRef:\n",
    "    match e.decl().name():\n",
    "        case \"IntVal\": return Z3Expr.IntVal(e)\n",
    "        #case \"Var\": return Z3Expr.Var(e)\n",
    "        case \"and\": return Z3Expr.And(quote(e.arg(0)), quote(e.arg(1)))\n",
    "        case \"or\": return Z3Expr.Or(quote(e.arg(0)), quote(e.arg(1)))\n",
    "        case _: raise Exception(f\"Unknown decl: {e.decl().name()}\")\n",
    "\n",
    "# eval = Function(Z3Expr, ArraySort(StringSort(), BoolSort()), BoolSort())\n",
    "# eval_def = ForAll([e,env], eval(e) == If( ... ))"
   ]
  },
  {
   "cell_type": "markdown",
   "metadata": {},
   "source": [
    "# Pattern matching on z3 asts\n"
   ]
  },
  {
   "cell_type": "code",
   "execution_count": 13,
   "metadata": {},
   "outputs": [
    {
     "data": {
      "text/plain": [
       "True"
      ]
     },
     "execution_count": 13,
     "metadata": {},
     "output_type": "execute_result"
    }
   ],
   "source": [
    "from typing import Optional, Iterable, Dict\n",
    "def match_(t : AstRef, pat : AstRef, vars : Iterable[ExprRef] = []) -> Optional[Dict[ExprRef,ExprRef]]:\n",
    "    subst = {}\n",
    "    todo = [(t,pat)]\n",
    "    while todo:\n",
    "        t,pat = todo.pop()\n",
    "        if pat in vars or is_var(pat): # allow var as pattern?\n",
    "            if pat in subst:\n",
    "                if subst[pat].eq(t):\n",
    "                    pass\n",
    "                else:\n",
    "                    return None\n",
    "            else:\n",
    "                subst[pat] = t\n",
    "        elif isinstance(t, QuantifierRef) or isinstance(pat, QuantifierRef):\n",
    "            raise NotImplementedError\n",
    "        else:\n",
    "            thead, targs = t.decl(), t.children()\n",
    "            phead, pargs = pat.decl(), pat.children()\n",
    "            if thead != phead or len(targs) != len(pargs): # check sorts here? The decl might check that\n",
    "                return None\n",
    "            todo.extend(zip(targs, pargs))\n",
    "    return subst\n",
    "\n",
    "E = DeclareSort(\"Expr\")\n",
    "foo = Function(\"foo\", E, E, E)\n",
    "bar = Function(\"bar\", E, E)\n",
    "a,b,c = Consts(\"a b c\", E)\n",
    "x,y,z = Consts(\"x y z\", E)\n",
    "vars = {x,y,z}\n",
    "\n",
    "assert match_(foo(x, bar(y)), foo(a, bar(b)), vars) == None\n",
    "assert match_(foo(a, bar(b)), foo(x, bar(y)), vars) == {x:a, y:b}\n",
    "assert match_(foo(a, bar(b)), foo(a, bar(b)), vars) == {}\n",
    "assert match_(foo(a, bar(b)), foo(x,x), vars) == None\n",
    "assert match_(foo(a, bar(a)), foo(x,bar(x)), vars) == {x:a}\n",
    "match_(foo(a, bar(a)), Lambda([x],foo(x,bar(x))).body()) == {Var(0, E):a}\n"
   ]
  },
  {
   "cell_type": "code",
   "execution_count": 8,
   "metadata": {},
   "outputs": [
    {
     "ename": "AttributeError",
     "evalue": "'ArithRef' object has no attribute 'body'",
     "output_type": "error",
     "traceback": [
      "\u001b[0;31m---------------------------------------------------------------------------\u001b[0m",
      "\u001b[0;31mAttributeError\u001b[0m                            Traceback (most recent call last)",
      "Cell \u001b[0;32mIn[8], line 1\u001b[0m\n\u001b[0;32m----> 1\u001b[0m \u001b[43mVar\u001b[49m\u001b[43m(\u001b[49m\u001b[38;5;241;43m0\u001b[39;49m\u001b[43m,\u001b[49m\u001b[43m \u001b[49m\u001b[43mIntSort\u001b[49m\u001b[43m(\u001b[49m\u001b[43m)\u001b[49m\u001b[43m)\u001b[49m\u001b[38;5;241;43m.\u001b[39;49m\u001b[43mbody\u001b[49m()\n",
      "\u001b[0;31mAttributeError\u001b[0m: 'ArithRef' object has no attribute 'body'"
     ]
    }
   ],
   "source": [
    "Var(0, IntSort())"
   ]
  },
  {
   "cell_type": "markdown",
   "metadata": {},
   "source": [
    "# Simp\n",
    "We can use match_ to do a simp routine, knuckledragger tactic.\n"
   ]
  },
  {
   "cell_type": "markdown",
   "metadata": {},
   "source": [
    "# Lambda Eval\n",
    "\n",
    "I've complained a bit before that it's crazy python doesn't have a good lambda library.\n",
    "Well, it kind of does.\n",
    "\n",
    "\n",
    "Lambda eval.\n",
    "Z3 does do capture avoinding substitution. It can take care of de bruijn indices.\n",
    "vs z3 simplify\n",
    "\n",
    "Locally nameless matching. FreshConst + substitute makes this easy\n",
    "\n",
    "Then we can use regular python pattern matching for lambda matching. Pretty cool!\n",
    "I don't understand how the property mechanism works.\n",
    "\n",
    "https://chargueraud.org/research/2009/ln/main.pdf "
   ]
  },
  {
   "cell_type": "code",
   "execution_count": 51,
   "metadata": {},
   "outputs": [
    {
     "data": {
      "text/html": [
       "foo(a, bar(bar(b))) = bar(bar(c))"
      ],
      "text/plain": [
       "foo(a, bar(bar(b))) == bar(bar(c))"
      ]
     },
     "execution_count": 51,
     "metadata": {},
     "output_type": "execute_result"
    }
   ],
   "source": [
    "\"\"\"\n",
    "z3.ExprRef.head = property(lambda self: self.decl().kind())\n",
    "z3.ExprRef.args = property(lambda self: [self.arg(i) for i in range(self.num_args())])\n",
    "z3.ExprRef.__match_args__ = [\"head\", \"args\"]\n",
    "z3.QuantifierRef.open_term = property(lambda self: vars = FreshConst() (return vars, subst(self.body, []))) \n",
    "z3.QuantifierRef.__match_args__ = [\"open_term\"]\n",
    "\n",
    "z3.QuantifierRef.__matmul__ = lambda self, other: z3.substitute(self.body, zip([z3.Var(n) for n in range(len(other)) , other]))\n",
    "\"\"\"\n",
    "def open_binder(l : QuantifierRef):\n",
    "    vars = []\n",
    "    nvars = l.num_vars()\n",
    "    for i in range(nvars):\n",
    "        sort = l.var_sort(i)\n",
    "        vars.append((Var(nvars - i - 1, sort) , FreshConst(sort, prefix=l.var_name(i))))\n",
    "    return [x for (_,x) in vars], substitute(l.body(), vars)\n",
    "\n",
    "\n",
    "\n",
    "open_binder(Lambda([x, y, z], foo(x,bar(bar(y)))))\n",
    "open_binder(ForAll([x, y, z], foo(x,bar(bar(y))) == bar(z)))\n",
    "\n",
    "def instan(f : QuantifierRef, *x):\n",
    "    nvars = f.num_vars()\n",
    "    assert len(x) == nvars\n",
    "    vars = []\n",
    "    for i in range(nvars):\n",
    "        sort = f.var_sort(i)\n",
    "        vars.append((Var(nvars - i - 1, sort), x[i]))\n",
    "    return substitute(f.body(), *vars)\n",
    "\n",
    "instan(ForAll([x, y, z], foo(x,bar(bar(y))) == bar(z)), a, b, bar(c))\n",
    "\n",
    "# instn is substutie_vars?\n",
    "# how much of this is also available from cvc5"
   ]
  },
  {
   "cell_type": "code",
   "execution_count": 53,
   "metadata": {},
   "outputs": [
    {
     "name": "stdout",
     "output_type": "stream",
     "text": [
      "algebraic_number_evaluator (bool) simplify/evaluate expressions containing (algebraic) irrational numbers. (default: true)\n",
      "arith_ineq_lhs (bool) rewrite inequalities so that right-hand-side is a constant. (default: false)\n",
      "arith_lhs (bool) all monomials are moved to the left-hand-side, and the right-hand-side is just a constant. (default: false)\n",
      "bit2bool (bool) try to convert bit-vector terms of size 1 into Boolean terms (default: true)\n",
      "blast_distinct (bool) expand a distinct predicate into a quadratic number of disequalities (default: false)\n",
      "blast_distinct_threshold (unsigned int) when blast_distinct is true, only distinct expressions with less than this number of arguments are blasted (default: 4294967295)\n",
      "blast_eq_value (bool) blast (some) Bit-vector equalities into bits (default: false)\n",
      "blast_select_store (bool) eagerly replace all (select (store ..) ..) term by an if-then-else term (default: false)\n",
      "bv_extract_prop (bool) attempt to partially propagate extraction inwards (default: false)\n",
      "bv_ineq_consistency_test_max (unsigned int) max size of conjunctions on which to perform consistency test based on inequalities on bitvectors. (default: 0)\n",
      "bv_ite2id (bool) rewrite ite that can be simplified to identity (default: false)\n",
      "bv_le2extract (bool) disassemble bvule to extract (default: true)\n",
      "bv_le_extra (bool) additional bu_(u/s)le simplifications (default: false)\n",
      "bv_not_simpl (bool) apply simplifications for bvnot (default: false)\n",
      "bv_sort_ac (bool) sort the arguments of all AC operators (default: false)\n",
      "cache_all (bool) cache all intermediate results. (default: false)\n",
      "elim_and (bool) conjunctions are rewritten using negation and disjunctions (default: false)\n",
      "elim_ite (bool) eliminate ite in favor of and/or (default: true)\n",
      "elim_rem (bool) replace (rem x y) with (ite (>= y 0) (mod x y) (- (mod x y))). (default: false)\n",
      "elim_sign_ext (bool) expand sign-ext operator using concat and extract (default: true)\n",
      "elim_to_real (bool) eliminate to_real from arithmetic predicates that contain only integers. (default: false)\n",
      "eq2ineq (bool) expand equalities into two inequalities (default: false)\n",
      "expand_nested_stores (bool) replace nested stores by a lambda expression (default: false)\n",
      "expand_power (bool) expand (^ t k) into (* t ... t) if  1 < k <= max_degree. (default: false)\n",
      "expand_select_ite (bool) expand select over ite expressions (default: false)\n",
      "expand_select_store (bool) conservatively replace a (select (store ...) ...) term by an if-then-else term (default: false)\n",
      "expand_store_eq (bool) reduce (store ...) = (store ...) with a common base into selects (default: false)\n",
      "expand_tan (bool) replace (tan x) with (/ (sin x) (cos x)). (default: false)\n",
      "flat (bool) create nary applications for and,or,+,*,bvadd,bvmul,bvand,bvor,bvxor (default: true)\n",
      "gcd_rounding (bool) use gcd rounding on integer arithmetic atoms. (default: false)\n",
      "hi_div0 (bool) use the 'hardware interpretation' for division by zero (for bit-vector terms) (default: true)\n",
      "hoist_ite (bool) hoist shared summands under ite expressions (default: false)\n",
      "hoist_mul (bool) hoist multiplication over summation to minimize number of multiplications (default: false)\n",
      "ignore_patterns_on_ground_qbody (bool) ignores patterns on quantifiers that don't mention their bound variables. (default: true)\n",
      "ite_extra_rules (bool) extra ite simplifications, these additional simplifications may reduce size locally but increase globally (default: false)\n",
      "local_ctx (bool) perform local (i.e., cheap) context simplifications (default: false)\n",
      "local_ctx_limit (unsigned int) limit for applying local context simplifier (default: 4294967295)\n",
      "max_degree (unsigned int) max degree of algebraic numbers (and power operators) processed by simplifier. (default: 64)\n",
      "max_memory (unsigned int) maximum amount of memory in megabytes (default: 4294967295)\n",
      "max_steps (unsigned int) maximum number of steps (default: 4294967295)\n",
      "mul2concat (bool) replace multiplication by a power of two into a concatenation (default: false)\n",
      "mul_to_power (bool) collpase (* t ... t) into (^ t k), it is ignored if expand_power is true. (default: false)\n",
      "pull_cheap_ite (bool) pull if-then-else terms when cheap. (default: false)\n",
      "push_ite_arith (bool) push if-then-else over arithmetic terms. (default: false)\n",
      "push_ite_bv (bool) push if-then-else over bit-vector terms. (default: false)\n",
      "push_to_real (bool) distribute to_real over * and +. (default: true)\n",
      "rewrite_patterns (bool) rewrite patterns. (default: false)\n",
      "som (bool) put polynomials in sum-of-monomials form (default: false)\n",
      "som_blowup (unsigned int) maximum increase of monomials generated when putting a polynomial in sum-of-monomials normal form (default: 10)\n",
      "sort_store (bool) sort nested stores when the indices are known to be different (default: false)\n",
      "sort_sums (bool) sort the arguments of + application. (default: false)\n",
      "split_concat_eq (bool) split equalities of the form (= (concat t1 t2) t3) (default: false)\n",
      "\n"
     ]
    }
   ],
   "source": [
    "help_simplify()"
   ]
  },
  {
   "cell_type": "code",
   "execution_count": 48,
   "metadata": {},
   "outputs": [
    {
     "data": {
      "text/plain": [
       "[3, 2, 1]"
      ]
     },
     "execution_count": 48,
     "metadata": {},
     "output_type": "execute_result"
    }
   ],
   "source": [
    "list(range(3,0,-1))"
   ]
  },
  {
   "cell_type": "code",
   "execution_count": 1,
   "metadata": {},
   "outputs": [
    {
     "name": "stdout",
     "output_type": "stream",
     "text": [
      "42\n"
     ]
    }
   ],
   "source": [
    "# It isn't all roses. Python's scoping rules are bonkers. It's intrinsically an imperative language.\n",
    "match 42:\n",
    "    case a:\n",
    "        pass\n",
    "print(a)"
   ]
  },
  {
   "cell_type": "code",
   "execution_count": null,
   "metadata": {},
   "outputs": [],
   "source": [
    "def unify(a : AstRef, b : AstRef, vars):\n",
    "    # or take in an existential equation.\n",
    "    eqs = [(a,b)]\n",
    "    subst = []\n",
    "    sig = [] # miller unify?\n",
    "    while eqs:\n",
    "        a,b = eqs.pop()\n",
    "        if a in vars:\n",
    "            subst.append((a,b))\n",
    "            map(lambda x: substitute(subst), eqs)\n",
    "        elif b in vars:\n",
    "            subst.append((b,a))\n",
    "            map(lambda x: substitute(subst), eqs)\n",
    "        \n"
   ]
  },
  {
   "cell_type": "markdown",
   "metadata": {},
   "source": [
    "convert z3 ast to egglog for conditional simplification.\n",
    "\n",
    "simp taking in z3 formula\n",
    "\n",
    "https://microsoft.github.io/z3guide/programming/Example%20Programs/Formula%20Simplification/ examples of simplifying z3 expressions.\n",
    "\n",
    "\n",
    "rules = []\n",
    "def simp1(t, rules):\n",
    "    for r in rules:\n",
    "        match r:\n",
    "            case ForAll(vars,l == r):\n",
    "                subst = unify(l, r, vars)\n",
    "                if subst != None:\n",
    "\n",
    "def simp():\n",
    "\n",
    "\n",
    "\n"
   ]
  },
  {
   "cell_type": "markdown",
   "metadata": {},
   "source": [
    "Term orderings\n"
   ]
  },
  {
   "cell_type": "code",
   "execution_count": 21,
   "metadata": {},
   "outputs": [
    {
     "data": {
      "text/plain": [
       "<Order.GT: 4>"
      ]
     },
     "execution_count": 21,
     "metadata": {},
     "output_type": "execute_result"
    }
   ],
   "source": [
    "\n",
    "\n",
    "\n",
    "\n"
   ]
  },
  {
   "cell_type": "markdown",
   "metadata": {},
   "source": [
    "ast vector and ast map are interesting.\n",
    "\n",
    "class UnionFind():\n",
    "    pass\n",
    "\n",
    "The thing that kills me is too many design decisions. The great thing about just taking the z3 ast is it just is what it is. It is a pretty goodc design alkbeit imperfetc. In fact, it's so good it kind of inspired this whole line of thinking on my part.\n",
    "\n",
    "\n",
    "https://www.philipzucker.com/programming-and-interactive-proving-with-z3py/\n",
    "\n",
    "https://stackoverflow.com/questions/76270483/is-there-a-way-to-draw-bussproof-style-tree-diagram-in-jupyter-notebook\n",
    "\n"
   ]
  },
  {
   "cell_type": "code",
   "execution_count": 54,
   "metadata": {},
   "outputs": [],
   "source": [
    "from dataclasses import dataclass\n",
    "\n",
    "@dataclass(frozen=True)\n",
    "class Theorem():\n",
    "    pass\n",
    "__Theorem = Theorem\n",
    "Theorem = None\n",
    "\n",
    "@dataclass(frozen=True)\n",
    "class Axiom(__Theorem):\n",
    "    thm : BoolRef\n",
    "#Axiom = None. # Actually. Go ahead\n",
    "\n",
    "@dataclass(frozen=True)\n",
    "class Lemma(__Theorem):\n",
    "    thm : BoolRef\n",
    "    by : list[Theorem]\n",
    "    admit : bool\n",
    "__Lemma = Lemma #This is silly? You can still get at it.\n",
    "Lemma = None\n",
    "\n",
    "def lemma(fm : BoolRef, by = [], admit = False):\n",
    "    if admit:\n",
    "        return __Lemma(fm, by, True)\n",
    "    else:\n",
    "        s = Solver()\n",
    "        for n, h in enumerate(by):\n",
    "            assert isinstance(h, __Theorem)\n",
    "            s.add(h.thm)\n",
    "            s.assert_and_track(h, f\"by_{n}\")\n",
    "         \n",
    "        s.assert_and_track(Not(fm), \"goal\")\n",
    "        s.set(\"unsat_core\", True)\n",
    "        s.set(\"timeout\", 1000)\n",
    "        res = s.check()\n",
    "        if res == unsat:\n",
    "            # check the unsat core. Check it include goals\n",
    "            core = s.unsat_core()\n",
    "            return __Lemma(fm, by, False)\n",
    "        elif res == sat:\n",
    "            raise Exception(\"Lemma failed to prove\", s.get_model())\n",
    "\n"
   ]
  },
  {
   "cell_type": "code",
   "execution_count": null,
   "metadata": {},
   "outputs": [],
   "source": [
    "Theorem"
   ]
  },
  {
   "cell_type": "markdown",
   "metadata": {},
   "source": [
    "# Converting to TPTP\n"
   ]
  },
  {
   "cell_type": "code",
   "execution_count": 42,
   "metadata": {},
   "outputs": [],
   "source": [
    "from z3 import *\n",
    "def z3_sort_tptp(sort : SortRef):\n",
    "    match sort.name():\n",
    "        case \"Int\":\n",
    "            return \"$int\"\n",
    "        case \"Bool\":\n",
    "            return \"$o\"\n",
    "        case \"Real\":\n",
    "            return \"$real\"\n",
    "        case \"Array\":\n",
    "            return \"({} > {})\".format(z3_sort_tptp(sort.domain()), z3_sort_tptp(sort.range()))\n",
    "        case x:\n",
    "            return x\n",
    "\n",
    "assert z3_sort_tptp(IntSort()) == \"$int\"\n",
    "assert z3_sort_tptp(BoolSort()) == \"$o\"\n",
    "assert z3_sort_tptp(ArraySort(ArraySort(BoolSort(),IntSort()), IntSort())) == \"(($o > $int) > $int)\""
   ]
  },
  {
   "cell_type": "code",
   "execution_count": 53,
   "metadata": {},
   "outputs": [
    {
     "data": {
      "text/plain": [
       "{==, And, w, z}"
      ]
     },
     "execution_count": 53,
     "metadata": {},
     "output_type": "execute_result"
    }
   ],
   "source": [
    "def collect_sig(e : ExprRef):\n",
    "    sig = set()\n",
    "    todo = [e]\n",
    "    while todo:\n",
    "        e = todo.pop()\n",
    "        if is_var(e):\n",
    "            continue\n",
    "        elif isinstance(e, QuantifierRef):\n",
    "            todo.extend(e.body())\n",
    "        else:    \n",
    "          sig.add(e.decl())\n",
    "          todo.extend(e.children())\n",
    "    return sig\n",
    "\n",
    "E = DeclareSort(\"E\")\n",
    "x,y,z = Ints(\"x y z\")\n",
    "z,w = Consts(\"z w\", E)\n",
    "collect_sig(And(z == w, w == z))"
   ]
  },
  {
   "cell_type": "code",
   "execution_count": 57,
   "metadata": {},
   "outputs": [
    {
     "ename": "Z3Exception",
     "evalue": "sort mismatch",
     "output_type": "error",
     "traceback": [
      "\u001b[0;31m---------------------------------------------------------------------------\u001b[0m",
      "\u001b[0;31mZ3Exception\u001b[0m                               Traceback (most recent call last)",
      "\u001b[0;32m/tmp/ipykernel_1075501/3895065939.py\u001b[0m in \u001b[0;36m?\u001b[0;34m()\u001b[0m\n\u001b[1;32m      3\u001b[0m     \u001b[0;32mif\u001b[0m \u001b[0mname\u001b[0m \u001b[0;32min\u001b[0m \u001b[0;34m[\u001b[0m\u001b[0;34m\"and\"\u001b[0m\u001b[0;34m,\u001b[0m \u001b[0;34m\"or\"\u001b[0m\u001b[0;34m,\u001b[0m \u001b[0;34m\"=>\"\u001b[0m\u001b[0;34m,\u001b[0m \u001b[0;34m\"=\"\u001b[0m\u001b[0;34m,\u001b[0m \u001b[0;34m\"ite\"\u001b[0m\u001b[0;34m,\u001b[0m \u001b[0;34m\"not\"\u001b[0m\u001b[0;34m]\u001b[0m\u001b[0;34m:\u001b[0m\u001b[0;34m\u001b[0m\u001b[0;34m\u001b[0m\u001b[0m\n\u001b[1;32m      4\u001b[0m         \u001b[0;32mreturn\u001b[0m \u001b[0;32mNone\u001b[0m\u001b[0;34m\u001b[0m\u001b[0;34m\u001b[0m\u001b[0m\n\u001b[1;32m      5\u001b[0m     \u001b[0;32mreturn\u001b[0m \u001b[0;34m\"thf(typedecl, type, {} : {}).\"\u001b[0m\u001b[0;34m.\u001b[0m\u001b[0mformat\u001b[0m\u001b[0;34m(\u001b[0m\u001b[0mname\u001b[0m\u001b[0;34m,\u001b[0m \u001b[0mz3_sort_tptp\u001b[0m\u001b[0;34m(\u001b[0m\u001b[0mdecl\u001b[0m\u001b[0;34m.\u001b[0m\u001b[0msort\u001b[0m\u001b[0;34m(\u001b[0m\u001b[0;34m)\u001b[0m\u001b[0;34m)\u001b[0m\u001b[0;34m)\u001b[0m\u001b[0;34m\u001b[0m\u001b[0;34m\u001b[0m\u001b[0m\n\u001b[1;32m      6\u001b[0m \u001b[0;34m\u001b[0m\u001b[0m\n\u001b[0;32m----> 7\u001b[0;31m \u001b[0;32mfor\u001b[0m \u001b[0mdecl\u001b[0m \u001b[0;32min\u001b[0m \u001b[0mcollect_sig\u001b[0m\u001b[0;34m(\u001b[0m\u001b[0mAnd\u001b[0m\u001b[0;34m(\u001b[0m\u001b[0mz\u001b[0m \u001b[0;34m==\u001b[0m \u001b[0mw\u001b[0m\u001b[0;34m,\u001b[0m \u001b[0mw\u001b[0m \u001b[0;34m==\u001b[0m \u001b[0mz\u001b[0m\u001b[0;34m)\u001b[0m\u001b[0;34m)\u001b[0m\u001b[0;34m:\u001b[0m\u001b[0;34m\u001b[0m\u001b[0;34m\u001b[0m\u001b[0m\n\u001b[0m\u001b[1;32m      8\u001b[0m     \u001b[0mprint\u001b[0m\u001b[0;34m(\u001b[0m\u001b[0mdecl\u001b[0m\u001b[0;34m)\u001b[0m\u001b[0;34m\u001b[0m\u001b[0;34m\u001b[0m\u001b[0m\n\u001b[1;32m      9\u001b[0m     \u001b[0mprint\u001b[0m\u001b[0;34m(\u001b[0m\u001b[0msig_tptp_decl\u001b[0m\u001b[0;34m(\u001b[0m\u001b[0mdecl\u001b[0m\u001b[0;34m)\u001b[0m\u001b[0;34m)\u001b[0m\u001b[0;34m\u001b[0m\u001b[0;34m\u001b[0m\u001b[0m\n",
      "\u001b[0;32m~/.local/lib/python3.10/site-packages/z3/z3.py\u001b[0m in \u001b[0;36m?\u001b[0;34m(self, other)\u001b[0m\n\u001b[1;32m   1029\u001b[0m         \u001b[0;32mFalse\u001b[0m\u001b[0;34m\u001b[0m\u001b[0;34m\u001b[0m\u001b[0m\n\u001b[1;32m   1030\u001b[0m         \"\"\"\n\u001b[1;32m   1031\u001b[0m         \u001b[0;32mif\u001b[0m \u001b[0mother\u001b[0m \u001b[0;32mis\u001b[0m \u001b[0;32mNone\u001b[0m\u001b[0;34m:\u001b[0m\u001b[0;34m\u001b[0m\u001b[0;34m\u001b[0m\u001b[0m\n\u001b[1;32m   1032\u001b[0m             \u001b[0;32mreturn\u001b[0m \u001b[0;32mFalse\u001b[0m\u001b[0;34m\u001b[0m\u001b[0;34m\u001b[0m\u001b[0m\n\u001b[0;32m-> 1033\u001b[0;31m         \u001b[0ma\u001b[0m\u001b[0;34m,\u001b[0m \u001b[0mb\u001b[0m \u001b[0;34m=\u001b[0m \u001b[0m_coerce_exprs\u001b[0m\u001b[0;34m(\u001b[0m\u001b[0mself\u001b[0m\u001b[0;34m,\u001b[0m \u001b[0mother\u001b[0m\u001b[0;34m)\u001b[0m\u001b[0;34m\u001b[0m\u001b[0;34m\u001b[0m\u001b[0m\n\u001b[0m\u001b[1;32m   1034\u001b[0m         \u001b[0;32mreturn\u001b[0m \u001b[0mBoolRef\u001b[0m\u001b[0;34m(\u001b[0m\u001b[0mZ3_mk_eq\u001b[0m\u001b[0;34m(\u001b[0m\u001b[0mself\u001b[0m\u001b[0;34m.\u001b[0m\u001b[0mctx_ref\u001b[0m\u001b[0;34m(\u001b[0m\u001b[0;34m)\u001b[0m\u001b[0;34m,\u001b[0m \u001b[0ma\u001b[0m\u001b[0;34m.\u001b[0m\u001b[0mas_ast\u001b[0m\u001b[0;34m(\u001b[0m\u001b[0;34m)\u001b[0m\u001b[0;34m,\u001b[0m \u001b[0mb\u001b[0m\u001b[0;34m.\u001b[0m\u001b[0mas_ast\u001b[0m\u001b[0;34m(\u001b[0m\u001b[0;34m)\u001b[0m\u001b[0;34m)\u001b[0m\u001b[0;34m,\u001b[0m \u001b[0mself\u001b[0m\u001b[0;34m.\u001b[0m\u001b[0mctx\u001b[0m\u001b[0;34m)\u001b[0m\u001b[0;34m\u001b[0m\u001b[0;34m\u001b[0m\u001b[0m\n",
      "\u001b[0;32m~/.local/lib/python3.10/site-packages/z3/z3.py\u001b[0m in \u001b[0;36m?\u001b[0;34m(a, b, ctx)\u001b[0m\n\u001b[1;32m   1231\u001b[0m         \u001b[0mb\u001b[0m \u001b[0;34m=\u001b[0m \u001b[0mRealVal\u001b[0m\u001b[0;34m(\u001b[0m\u001b[0mb\u001b[0m\u001b[0;34m,\u001b[0m \u001b[0ma\u001b[0m\u001b[0;34m.\u001b[0m\u001b[0mctx\u001b[0m\u001b[0;34m)\u001b[0m\u001b[0;34m\u001b[0m\u001b[0;34m\u001b[0m\u001b[0m\n\u001b[1;32m   1232\u001b[0m \u001b[0;34m\u001b[0m\u001b[0m\n\u001b[1;32m   1233\u001b[0m     \u001b[0ms\u001b[0m \u001b[0;34m=\u001b[0m \u001b[0;32mNone\u001b[0m\u001b[0;34m\u001b[0m\u001b[0;34m\u001b[0m\u001b[0m\n\u001b[1;32m   1234\u001b[0m     \u001b[0ms\u001b[0m \u001b[0;34m=\u001b[0m \u001b[0m_coerce_expr_merge\u001b[0m\u001b[0;34m(\u001b[0m\u001b[0ms\u001b[0m\u001b[0;34m,\u001b[0m \u001b[0ma\u001b[0m\u001b[0;34m)\u001b[0m\u001b[0;34m\u001b[0m\u001b[0;34m\u001b[0m\u001b[0m\n\u001b[0;32m-> 1235\u001b[0;31m     \u001b[0ms\u001b[0m \u001b[0;34m=\u001b[0m \u001b[0m_coerce_expr_merge\u001b[0m\u001b[0;34m(\u001b[0m\u001b[0ms\u001b[0m\u001b[0;34m,\u001b[0m \u001b[0mb\u001b[0m\u001b[0;34m)\u001b[0m\u001b[0;34m\u001b[0m\u001b[0;34m\u001b[0m\u001b[0m\n\u001b[0m\u001b[1;32m   1236\u001b[0m     \u001b[0ma\u001b[0m \u001b[0;34m=\u001b[0m \u001b[0ms\u001b[0m\u001b[0;34m.\u001b[0m\u001b[0mcast\u001b[0m\u001b[0;34m(\u001b[0m\u001b[0ma\u001b[0m\u001b[0;34m)\u001b[0m\u001b[0;34m\u001b[0m\u001b[0;34m\u001b[0m\u001b[0m\n\u001b[1;32m   1237\u001b[0m     \u001b[0mb\u001b[0m \u001b[0;34m=\u001b[0m \u001b[0ms\u001b[0m\u001b[0;34m.\u001b[0m\u001b[0mcast\u001b[0m\u001b[0;34m(\u001b[0m\u001b[0mb\u001b[0m\u001b[0;34m)\u001b[0m\u001b[0;34m\u001b[0m\u001b[0;34m\u001b[0m\u001b[0m\n\u001b[1;32m   1238\u001b[0m     \u001b[0;32mreturn\u001b[0m \u001b[0;34m(\u001b[0m\u001b[0ma\u001b[0m\u001b[0;34m,\u001b[0m \u001b[0mb\u001b[0m\u001b[0;34m)\u001b[0m\u001b[0;34m\u001b[0m\u001b[0;34m\u001b[0m\u001b[0m\n",
      "\u001b[0;32m~/.local/lib/python3.10/site-packages/z3/z3.py\u001b[0m in \u001b[0;36m?\u001b[0;34m(s, a)\u001b[0m\n\u001b[1;32m   1211\u001b[0m             \u001b[0;32mreturn\u001b[0m \u001b[0ms\u001b[0m\u001b[0;34m\u001b[0m\u001b[0;34m\u001b[0m\u001b[0m\n\u001b[1;32m   1212\u001b[0m         \u001b[0;32melse\u001b[0m\u001b[0;34m:\u001b[0m\u001b[0;34m\u001b[0m\u001b[0;34m\u001b[0m\u001b[0m\n\u001b[1;32m   1213\u001b[0m             \u001b[0;32mif\u001b[0m \u001b[0mz3_debug\u001b[0m\u001b[0;34m(\u001b[0m\u001b[0;34m)\u001b[0m\u001b[0;34m:\u001b[0m\u001b[0;34m\u001b[0m\u001b[0;34m\u001b[0m\u001b[0m\n\u001b[1;32m   1214\u001b[0m                 \u001b[0m_z3_assert\u001b[0m\u001b[0;34m(\u001b[0m\u001b[0ms1\u001b[0m\u001b[0;34m.\u001b[0m\u001b[0mctx\u001b[0m \u001b[0;34m==\u001b[0m \u001b[0ms\u001b[0m\u001b[0;34m.\u001b[0m\u001b[0mctx\u001b[0m\u001b[0;34m,\u001b[0m \u001b[0;34m\"context mismatch\"\u001b[0m\u001b[0;34m)\u001b[0m\u001b[0;34m\u001b[0m\u001b[0;34m\u001b[0m\u001b[0m\n\u001b[0;32m-> 1215\u001b[0;31m                 \u001b[0m_z3_assert\u001b[0m\u001b[0;34m(\u001b[0m\u001b[0;32mFalse\u001b[0m\u001b[0;34m,\u001b[0m \u001b[0;34m\"sort mismatch\"\u001b[0m\u001b[0;34m)\u001b[0m\u001b[0;34m\u001b[0m\u001b[0;34m\u001b[0m\u001b[0m\n\u001b[0m\u001b[1;32m   1216\u001b[0m     \u001b[0;32melse\u001b[0m\u001b[0;34m:\u001b[0m\u001b[0;34m\u001b[0m\u001b[0;34m\u001b[0m\u001b[0m\n\u001b[1;32m   1217\u001b[0m         \u001b[0;32mreturn\u001b[0m \u001b[0ms\u001b[0m\u001b[0;34m\u001b[0m\u001b[0;34m\u001b[0m\u001b[0m\n",
      "\u001b[0;32m~/.local/lib/python3.10/site-packages/z3/z3.py\u001b[0m in \u001b[0;36m?\u001b[0;34m(cond, msg)\u001b[0m\n\u001b[1;32m    105\u001b[0m \u001b[0;32mdef\u001b[0m \u001b[0m_z3_assert\u001b[0m\u001b[0;34m(\u001b[0m\u001b[0mcond\u001b[0m\u001b[0;34m,\u001b[0m \u001b[0mmsg\u001b[0m\u001b[0;34m)\u001b[0m\u001b[0;34m:\u001b[0m\u001b[0;34m\u001b[0m\u001b[0;34m\u001b[0m\u001b[0m\n\u001b[1;32m    106\u001b[0m     \u001b[0;32mif\u001b[0m \u001b[0;32mnot\u001b[0m \u001b[0mcond\u001b[0m\u001b[0;34m:\u001b[0m\u001b[0;34m\u001b[0m\u001b[0;34m\u001b[0m\u001b[0m\n\u001b[0;32m--> 107\u001b[0;31m         \u001b[0;32mraise\u001b[0m \u001b[0mZ3Exception\u001b[0m\u001b[0;34m(\u001b[0m\u001b[0mmsg\u001b[0m\u001b[0;34m)\u001b[0m\u001b[0;34m\u001b[0m\u001b[0;34m\u001b[0m\u001b[0m\n\u001b[0m",
      "\u001b[0;31mZ3Exception\u001b[0m: sort mismatch"
     ]
    }
   ],
   "source": [
    "def sig_tptp_decl(decl):\n",
    "    name = decl.name()\n",
    "    if name in [\"and\", \"or\", \"=>\", \"=\", \"ite\", \"not\"]:\n",
    "        return None\n",
    "    return \"thf(typedecl, type, {} : {}).\".format(name, z3_sort_tptp(decl.sort()))\n",
    "\n",
    "for decl in collect_sig(And(z == w, w == z)):\n",
    "    print(decl)\n",
    "    print(sig_tptp_decl(decl))\n"
   ]
  },
  {
   "cell_type": "code",
   "execution_count": 54,
   "metadata": {},
   "outputs": [
    {
     "data": {
      "text/plain": [
       "'((x = 1) & (y = 2))'"
      ]
     },
     "execution_count": 54,
     "metadata": {},
     "output_type": "execute_result"
    }
   ],
   "source": [
    "\n",
    "\n",
    "def z3_to_tptp(expr : ExprRef):\n",
    "    children = list(map(z3_to_tptp,expr.children()))\n",
    "    head = expr.decl().name()\n",
    "    if isinstance(expr, IntNumRef):\n",
    "        return str(expr.as_string())\n",
    "    elif isinstance(expr,QuantifierRef):\n",
    "        vars, body = open_binder(expr)\n",
    "        if expr.is_forall():\n",
    "            return \"(![{}] : {})\"\n",
    "        elif expr.is_exists():\n",
    "            return \"(?[{}] : {})\"\n",
    "        elif expr.is_lambda():\n",
    "            return \"(^[{}] : {})\"\n",
    "    if head == \"true\":\n",
    "        return \"$true\"\n",
    "    elif head == \"false\":\n",
    "        return \"$false\"\n",
    "    elif head == \"and\":\n",
    "        return \"({})\".format(\" & \".join(children))\n",
    "    elif head == \"or\":\n",
    "        return \"({})\".format(\" | \".join(children))\n",
    "    elif head == \"=\":\n",
    "        return \"({} = {})\".format(children[0], children[1])\n",
    "    elif head == \"=>\":\n",
    "        return \"({} => {})\".format(children[0], children[1])\n",
    "    elif head == \"not\":\n",
    "        return \"~({})\".format(children[0])\n",
    "    else:\n",
    "        if len(children) == 0:\n",
    "            return head \n",
    "        return f\"{head}({', '.join(children)})\"\n",
    "\n",
    "\n",
    "\n",
    "x, y = Ints(\"x y\")\n",
    "z3_to_tptp(And(x == 1, y == 2))"
   ]
  },
  {
   "cell_type": "code",
   "execution_count": 55,
   "metadata": {},
   "outputs": [
    {
     "ename": "AttributeError",
     "evalue": "'FuncDeclRef' object has no attribute 'sort'",
     "output_type": "error",
     "traceback": [
      "\u001b[0;31m---------------------------------------------------------------------------\u001b[0m",
      "\u001b[0;31mAttributeError\u001b[0m                            Traceback (most recent call last)",
      "Cell \u001b[0;32mIn[55], line 9\u001b[0m\n\u001b[1;32m      6\u001b[0m     \u001b[38;5;28;01mreturn\u001b[39;00m tptp\n\u001b[1;32m      8\u001b[0m x, y, z \u001b[38;5;241m=\u001b[39m Ints(\u001b[38;5;124m\"\u001b[39m\u001b[38;5;124mx y z\u001b[39m\u001b[38;5;124m\"\u001b[39m)\n\u001b[0;32m----> 9\u001b[0m \u001b[43mz3_problem_to_tptp\u001b[49m\u001b[43m(\u001b[49m\u001b[43m[\u001b[49m\u001b[43mx\u001b[49m\u001b[43m \u001b[49m\u001b[38;5;241;43m==\u001b[39;49m\u001b[43m \u001b[49m\u001b[43my\u001b[49m\u001b[43m,\u001b[49m\u001b[43m \u001b[49m\u001b[43my\u001b[49m\u001b[43m \u001b[49m\u001b[38;5;241;43m==\u001b[39;49m\u001b[43m \u001b[49m\u001b[43mz\u001b[49m\u001b[43m]\u001b[49m\u001b[43m)\u001b[49m\n",
      "Cell \u001b[0;32mIn[55], line 4\u001b[0m, in \u001b[0;36mz3_problem_to_tptp\u001b[0;34m(probs)\u001b[0m\n\u001b[1;32m      2\u001b[0m tptp \u001b[38;5;241m=\u001b[39m []\n\u001b[1;32m      3\u001b[0m sig \u001b[38;5;241m=\u001b[39m {d \u001b[38;5;28;01mfor\u001b[39;00m prob \u001b[38;5;129;01min\u001b[39;00m probs \u001b[38;5;28;01mfor\u001b[39;00m d \u001b[38;5;129;01min\u001b[39;00m collect_sig(prob)}\n\u001b[0;32m----> 4\u001b[0m \u001b[43mtptp\u001b[49m\u001b[38;5;241;43m.\u001b[39;49m\u001b[43mextend\u001b[49m\u001b[43m(\u001b[49m\u001b[38;5;28;43mmap\u001b[39;49m\u001b[43m(\u001b[49m\u001b[43msig_tptp_decl\u001b[49m\u001b[43m,\u001b[49m\u001b[43m \u001b[49m\u001b[43msig\u001b[49m\u001b[43m)\u001b[49m\u001b[43m)\u001b[49m\n\u001b[1;32m      5\u001b[0m tptp\u001b[38;5;241m.\u001b[39mextend(\u001b[38;5;28mmap\u001b[39m(z3_to_tptp, probs))\n\u001b[1;32m      6\u001b[0m \u001b[38;5;28;01mreturn\u001b[39;00m tptp\n",
      "Cell \u001b[0;32mIn[51], line 5\u001b[0m, in \u001b[0;36msig_tptp_decl\u001b[0;34m(decl)\u001b[0m\n\u001b[1;32m      3\u001b[0m \u001b[38;5;28;01mif\u001b[39;00m name \u001b[38;5;129;01min\u001b[39;00m [\u001b[38;5;124m\"\u001b[39m\u001b[38;5;124mand\u001b[39m\u001b[38;5;124m\"\u001b[39m, \u001b[38;5;124m\"\u001b[39m\u001b[38;5;124mor\u001b[39m\u001b[38;5;124m\"\u001b[39m, \u001b[38;5;124m\"\u001b[39m\u001b[38;5;124m=>\u001b[39m\u001b[38;5;124m\"\u001b[39m, \u001b[38;5;124m\"\u001b[39m\u001b[38;5;124m=\u001b[39m\u001b[38;5;124m\"\u001b[39m, \u001b[38;5;124m\"\u001b[39m\u001b[38;5;124mite\u001b[39m\u001b[38;5;124m\"\u001b[39m, \u001b[38;5;124m\"\u001b[39m\u001b[38;5;124mnot\u001b[39m\u001b[38;5;124m\"\u001b[39m]:\n\u001b[1;32m      4\u001b[0m     \u001b[38;5;28;01mreturn\u001b[39;00m \u001b[38;5;28;01mNone\u001b[39;00m\n\u001b[0;32m----> 5\u001b[0m \u001b[38;5;28;01mreturn\u001b[39;00m \u001b[38;5;124m\"\u001b[39m\u001b[38;5;124mthf(typedecl, type, \u001b[39m\u001b[38;5;132;01m{}\u001b[39;00m\u001b[38;5;124m : \u001b[39m\u001b[38;5;132;01m{}\u001b[39;00m\u001b[38;5;124m).\u001b[39m\u001b[38;5;124m\"\u001b[39m\u001b[38;5;241m.\u001b[39mformat(name, z3_sort_tptp(\u001b[43mdecl\u001b[49m\u001b[38;5;241;43m.\u001b[39;49m\u001b[43msort\u001b[49m()))\n",
      "\u001b[0;31mAttributeError\u001b[0m: 'FuncDeclRef' object has no attribute 'sort'"
     ]
    }
   ],
   "source": [
    "def z3_problem_to_tptp(probs : list[BoolRef]):\n",
    "    tptp = []\n",
    "    sig = {d for prob in probs for d in collect_sig(prob)}\n",
    "    tptp.extend(map(sig_tptp_decl, sig))\n",
    "    tptp.extend(map(z3_to_tptp, probs))\n",
    "    return tptp\n",
    "\n",
    "x, y, z = Ints(\"x y z\")\n",
    "z3_problem_to_tptp([x == y, y == z])\n",
    "\n",
    "    \n"
   ]
  },
  {
   "cell_type": "code",
   "execution_count": 112,
   "metadata": {},
   "outputs": [
    {
     "ename": "AttributeError",
     "evalue": "'QuantifierRef' object has no attribute 'domain_n'",
     "output_type": "error",
     "traceback": [
      "\u001b[0;31m---------------------------------------------------------------------------\u001b[0m",
      "\u001b[0;31mAttributeError\u001b[0m                            Traceback (most recent call last)",
      "\u001b[0;32m/tmp/ipykernel_822462/2189143964.py\u001b[0m in \u001b[0;36m?\u001b[0;34m()\u001b[0m\n\u001b[1;32m      1\u001b[0m \u001b[0mExists\u001b[0m\u001b[0;34m(\u001b[0m\u001b[0;34m[\u001b[0m\u001b[0mx\u001b[0m\u001b[0;34m]\u001b[0m\u001b[0;34m,\u001b[0m \u001b[0mx\u001b[0m \u001b[0;34m==\u001b[0m \u001b[0mx\u001b[0m\u001b[0;34m)\u001b[0m\u001b[0;34m.\u001b[0m\u001b[0mis_exists\u001b[0m\u001b[0;34m(\u001b[0m\u001b[0;34m)\u001b[0m\u001b[0;34m\u001b[0m\u001b[0;34m\u001b[0m\u001b[0m\n\u001b[1;32m      2\u001b[0m \u001b[0msubstitute_vars\u001b[0m\u001b[0;34m(\u001b[0m\u001b[0mLambda\u001b[0m\u001b[0;34m(\u001b[0m\u001b[0;34m[\u001b[0m\u001b[0mx\u001b[0m\u001b[0;34m,\u001b[0m\u001b[0my\u001b[0m\u001b[0;34m]\u001b[0m\u001b[0;34m,\u001b[0m \u001b[0mx\u001b[0m \u001b[0;34m+\u001b[0m \u001b[0my\u001b[0m\u001b[0;34m)\u001b[0m\u001b[0;34m.\u001b[0m\u001b[0mbody\u001b[0m\u001b[0;34m(\u001b[0m\u001b[0;34m)\u001b[0m\u001b[0;34m,\u001b[0m \u001b[0mIntVal\u001b[0m\u001b[0;34m(\u001b[0m\u001b[0;36m3\u001b[0m\u001b[0;34m)\u001b[0m\u001b[0;34m)\u001b[0m\u001b[0;34m\u001b[0m\u001b[0;34m\u001b[0m\u001b[0m\n\u001b[0;32m----> 3\u001b[0;31m \u001b[0mSelect\u001b[0m\u001b[0;34m(\u001b[0m\u001b[0mLambda\u001b[0m\u001b[0;34m(\u001b[0m\u001b[0;34m[\u001b[0m\u001b[0mx\u001b[0m\u001b[0;34m]\u001b[0m\u001b[0;34m,\u001b[0m \u001b[0mx\u001b[0m \u001b[0;34m+\u001b[0m \u001b[0;36m1\u001b[0m\u001b[0;34m)\u001b[0m\u001b[0;34m,\u001b[0m \u001b[0;36m10\u001b[0m\u001b[0;34m)\u001b[0m\u001b[0;34m\u001b[0m\u001b[0;34m\u001b[0m\u001b[0m\n\u001b[0m",
      "\u001b[0;32m~/.local/lib/python3.10/site-packages/z3/z3.py\u001b[0m in \u001b[0;36m?\u001b[0;34m(a, *args)\u001b[0m\n\u001b[1;32m   4807\u001b[0m     \u001b[0mproved\u001b[0m\u001b[0;34m\u001b[0m\u001b[0;34m\u001b[0m\u001b[0m\n\u001b[1;32m   4808\u001b[0m     \u001b[0;34m>>\u001b[0m\u001b[0;34m>\u001b[0m \u001b[0mj\u001b[0m    \u001b[0;34m=\u001b[0m \u001b[0mInt\u001b[0m\u001b[0;34m(\u001b[0m\u001b[0;34m'j'\u001b[0m\u001b[0;34m)\u001b[0m\u001b[0;34m\u001b[0m\u001b[0;34m\u001b[0m\u001b[0m\n\u001b[1;32m   4809\u001b[0m     \u001b[0;34m>>\u001b[0m\u001b[0;34m>\u001b[0m \u001b[0mprove\u001b[0m\u001b[0;34m(\u001b[0m\u001b[0mImplies\u001b[0m\u001b[0;34m(\u001b[0m\u001b[0mi\u001b[0m \u001b[0;34m!=\u001b[0m \u001b[0mj\u001b[0m\u001b[0;34m,\u001b[0m \u001b[0ms\u001b[0m\u001b[0;34m[\u001b[0m\u001b[0mj\u001b[0m\u001b[0;34m]\u001b[0m \u001b[0;34m==\u001b[0m \u001b[0ma\u001b[0m\u001b[0;34m[\u001b[0m\u001b[0mj\u001b[0m\u001b[0;34m]\u001b[0m\u001b[0;34m)\u001b[0m\u001b[0;34m)\u001b[0m\u001b[0;34m\u001b[0m\u001b[0;34m\u001b[0m\u001b[0m\n\u001b[1;32m   4810\u001b[0m     \u001b[0mproved\u001b[0m\u001b[0;34m\u001b[0m\u001b[0;34m\u001b[0m\u001b[0m\n\u001b[0;32m-> 4811\u001b[0;31m     \"\"\"\n\u001b[0m\u001b[1;32m   4812\u001b[0m     \u001b[0;32mif\u001b[0m \u001b[0mz3_debug\u001b[0m\u001b[0;34m(\u001b[0m\u001b[0;34m)\u001b[0m\u001b[0;34m:\u001b[0m\u001b[0;34m\u001b[0m\u001b[0;34m\u001b[0m\u001b[0m\n\u001b[1;32m   4813\u001b[0m         \u001b[0m_z3_assert\u001b[0m\u001b[0;34m(\u001b[0m\u001b[0mis_array_sort\u001b[0m\u001b[0;34m(\u001b[0m\u001b[0ma\u001b[0m\u001b[0;34m)\u001b[0m\u001b[0;34m,\u001b[0m \u001b[0;34m\"First argument must be a Z3 array expression\"\u001b[0m\u001b[0;34m)\u001b[0m\u001b[0;34m\u001b[0m\u001b[0;34m\u001b[0m\u001b[0m\n\u001b[1;32m   4814\u001b[0m     \u001b[0margs\u001b[0m \u001b[0;34m=\u001b[0m \u001b[0m_get_args\u001b[0m\u001b[0;34m(\u001b[0m\u001b[0margs\u001b[0m\u001b[0;34m)\u001b[0m\u001b[0;34m\u001b[0m\u001b[0;34m\u001b[0m\u001b[0m\n",
      "\u001b[0;32m~/.local/lib/python3.10/site-packages/z3/z3.py\u001b[0m in \u001b[0;36m?\u001b[0;34m(self, arg)\u001b[0m\n\u001b[1;32m   2037\u001b[0m         \u001b[0;32mreturn\u001b[0m \u001b[0mZ3_get_ast_id\u001b[0m\u001b[0;34m(\u001b[0m\u001b[0mself\u001b[0m\u001b[0;34m.\u001b[0m\u001b[0mctx_ref\u001b[0m\u001b[0;34m(\u001b[0m\u001b[0;34m)\u001b[0m\u001b[0;34m,\u001b[0m \u001b[0mself\u001b[0m\u001b[0;34m.\u001b[0m\u001b[0mas_ast\u001b[0m\u001b[0;34m(\u001b[0m\u001b[0;34m)\u001b[0m\u001b[0;34m)\u001b[0m\u001b[0;34m\u001b[0m\u001b[0;34m\u001b[0m\u001b[0m\n",
      "\u001b[0;32m~/.local/lib/python3.10/site-packages/z3/z3.py\u001b[0m in \u001b[0;36m?\u001b[0;34m(ar, arg)\u001b[0m\n\u001b[1;32m   4589\u001b[0m     \u001b[0;32mdef\u001b[0m \u001b[0mrange\u001b[0m\u001b[0;34m(\u001b[0m\u001b[0mself\u001b[0m\u001b[0;34m)\u001b[0m\u001b[0;34m:\u001b[0m\u001b[0;34m\u001b[0m\u001b[0;34m\u001b[0m\u001b[0m\n\u001b[1;32m   4590\u001b[0m         \"\"\"Return the range of the array sort `self`.\n\u001b[0;32m-> 4591\u001b[0;31m \u001b[0;34m\u001b[0m\u001b[0m\n\u001b[0m\u001b[1;32m   4592\u001b[0m         \u001b[0;34m>>\u001b[0m\u001b[0;34m>\u001b[0m \u001b[0mA\u001b[0m \u001b[0;34m=\u001b[0m \u001b[0mArraySort\u001b[0m\u001b[0;34m(\u001b[0m\u001b[0mIntSort\u001b[0m\u001b[0;34m(\u001b[0m\u001b[0;34m)\u001b[0m\u001b[0;34m,\u001b[0m \u001b[0mBoolSort\u001b[0m\u001b[0;34m(\u001b[0m\u001b[0;34m)\u001b[0m\u001b[0;34m)\u001b[0m\u001b[0;34m\u001b[0m\u001b[0;34m\u001b[0m\u001b[0m\n\u001b[1;32m   4593\u001b[0m         \u001b[0;34m>>\u001b[0m\u001b[0;34m>\u001b[0m \u001b[0mA\u001b[0m\u001b[0;34m.\u001b[0m\u001b[0mrange\u001b[0m\u001b[0;34m(\u001b[0m\u001b[0;34m)\u001b[0m\u001b[0;34m\u001b[0m\u001b[0;34m\u001b[0m\u001b[0m\n\u001b[1;32m   4594\u001b[0m         \u001b[0mBool\u001b[0m\u001b[0;34m\u001b[0m\u001b[0;34m\u001b[0m\u001b[0m\n",
      "\u001b[0;32m~/.local/lib/python3.10/site-packages/z3/z3.py\u001b[0m in \u001b[0;36m?\u001b[0;34m(.0)\u001b[0m\n\u001b[0;32m-> 4591\u001b[0;31m     \u001b[0;32mdef\u001b[0m \u001b[0mrange\u001b[0m\u001b[0;34m(\u001b[0m\u001b[0mself\u001b[0m\u001b[0;34m)\u001b[0m\u001b[0;34m:\u001b[0m\u001b[0;34m\u001b[0m\u001b[0;34m\u001b[0m\u001b[0m\n\u001b[0m\u001b[1;32m   4592\u001b[0m         \"\"\"Return the range of the array sort `self`.\n\u001b[1;32m   4593\u001b[0m \u001b[0;34m\u001b[0m\u001b[0m\n\u001b[1;32m   4594\u001b[0m         \u001b[0;34m>>\u001b[0m\u001b[0;34m>\u001b[0m \u001b[0mA\u001b[0m \u001b[0;34m=\u001b[0m \u001b[0mArraySort\u001b[0m\u001b[0;34m(\u001b[0m\u001b[0mIntSort\u001b[0m\u001b[0;34m(\u001b[0m\u001b[0;34m)\u001b[0m\u001b[0;34m,\u001b[0m \u001b[0mBoolSort\u001b[0m\u001b[0;34m(\u001b[0m\u001b[0;34m)\u001b[0m\u001b[0;34m)\u001b[0m\u001b[0;34m\u001b[0m\u001b[0;34m\u001b[0m\u001b[0m\n",
      "\u001b[0;31mAttributeError\u001b[0m: 'QuantifierRef' object has no attribute 'domain_n'"
     ]
    }
   ],
   "source": [
    "Exists([x], x == x).is_exists()\n",
    "substitute_vars(Lambda([x,y], x + y).body(), IntVal(3))\n",
    "Select(Lambda([x], x + 1), 10)"
   ]
  },
  {
   "cell_type": "code",
   "execution_count": 69,
   "metadata": {},
   "outputs": [
    {
     "data": {
      "text/plain": [
       "'x'"
      ]
     },
     "execution_count": 69,
     "metadata": {},
     "output_type": "execute_result"
    }
   ],
   "source": [
    "x.decl().name()"
   ]
  }
 ],
 "metadata": {
  "kernelspec": {
   "display_name": "Python 3",
   "language": "python",
   "name": "python3"
  },
  "language_info": {
   "codemirror_mode": {
    "name": "ipython",
    "version": 3
   },
   "file_extension": ".py",
   "mimetype": "text/x-python",
   "name": "python",
   "nbconvert_exporter": "python",
   "pygments_lexer": "ipython3",
   "version": "3.10.12"
  }
 },
 "nbformat": 4,
 "nbformat_minor": 2
}
