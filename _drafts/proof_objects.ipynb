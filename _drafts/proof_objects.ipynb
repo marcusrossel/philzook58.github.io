{
 "cells": [
  {
   "cell_type": "code",
   "execution_count": null,
   "metadata": {},
   "outputs": [],
   "source": []
  },
  {
   "cell_type": "markdown",
   "metadata": {},
   "source": [
    "What is a proof?\n",
    "\n",
    "I think a lot of clarity is gained by examining a couple of cases where there is a reasonable notion of proof\n",
    "\n",
    "There is a mushy boundary between things requiring proof\n",
    "\n",
    "- paths in a graph are proof of connectivity. Silly right? Computing a path is so easy. Algos 101. Well, if the graph is exponentially large or infinite, not so clear.\n",
    "- Satisfying assignments. \n",
    "- Dual vectors. For linear equations can show unsolvability. For inequalities can show minimality or unsolvability. For polynomial systems, can show unsolvability. This is Nullstullensatz (?) https://en.wikipedia.org/wiki/Hilbert%27s_Nullstellensatz https://terrytao.wordpress.com/2007/11/26/hilberts-nullstellensatz/\n",
    "- UNSAT certificates. Traces / Transcripts\n",
    "- \n",
    "\n",
    "- Trees\n",
    "\n",
    "Termination certificates.\n",
    "\n",
    "Proof normalization - Why?\n",
    "Cut elimination - why? It's a way of leaving \n",
    "\n",
    "\n",
    "There is some machine phi(x,p). Computing phi(x,p) given p is presumably easier than guessing p. Perhaps phi may be poly time, or at terminating. If given p, phi is possibly still nonterminating, that is saying proof checking is undecidable, something that comes up in extensional type theory for example.\n",
    "\n",
    "if phi(x,_) is N^3 and phi(x,p) is N, is that not a proof object?"
   ]
  },
  {
   "cell_type": "markdown",
   "metadata": {},
   "source": [
    "# mip proofs\n",
    "NotMin is a SAT-like NP problem. Give me a better solution and that certifies that mine is NOTMIN\n",
    "\n",
    "MIN is an UNSAT-like co-NP problem. Somehow show me there is no better solution.\n",
    "\n",
    "So minimization of producing is something akin to the intersection of NP and co-NP\n",
    "\n",
    "Linear programming is beautiful because of the duality principle, where te dual vector is a proof certificate deomsntrating the minimality of your solution (or infeasibility)\n",
    "\n",
    "MILP uses LP as a subroutine for solving relaxed problems. It also uses cuts and brach and bound. So there is a search tree.\n",
    "\n",
    "\n",
    "https://cs.paperswithcode.com/paper/verifying-milp-certificates-with-smt-solvers\n",
    "VIPR certificates\n",
    "https://arxiv.org/abs/2312.10420 Satisfiability modulo theories for verifying MILP certificates\n",
    "\n",
    "https://github.com/ambros-gleixner/VIPR so SCIP can output this stuff? Huh.\n",
    "\n",
    "https://github.com/ambros-gleixner/MIPcc23 mip reoptimization\n"
   ]
  }
 ],
 "metadata": {
  "language_info": {
   "name": "python"
  }
 },
 "nbformat": 4,
 "nbformat_minor": 2
}
