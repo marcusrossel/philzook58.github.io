{
 "cells": [
  {
   "cell_type": "code",
   "execution_count": null,
   "metadata": {},
   "outputs": [],
   "source": []
  },
  {
   "cell_type": "markdown",
   "metadata": {},
   "source": [
    "What is a proof?\n",
    "\n",
    "I think a lot of clarity is gained by examining a couple of cases where there is a reasonable notion of proof\n",
    "\n",
    "There is a mushy boundary between things requiring proof\n",
    "\n",
    "- paths in a graph are proof of connectivity. Silly right? Computing a path is so easy. Algos 101. Well, if the graph is exponentially large or infinite, not so clear.\n",
    "- Satisfying assignments. \n",
    "- Dual vectors. For linear equations can show unsolvability. For inequalities can show minimality or unsolvability. For polynomial systems, can show unsolvability. This is Nullstullensatz (?) https://en.wikipedia.org/wiki/Hilbert%27s_Nullstellensatz https://terrytao.wordpress.com/2007/11/26/hilberts-nullstellensatz/\n",
    "- UNSAT certificates. Traces / Transcripts\n",
    "- \n",
    "\n",
    "- Trees\n",
    "\n",
    "Termination certificates.\n",
    "\n",
    "Proof normalization - Why?\n",
    "Cut elimination - why? It's a way of leaving \n",
    "\n",
    "\n",
    "There is some machine phi(x,p). Computing phi(x,p) given p is presumably easier than guessing p. Perhaps phi may be poly time, or at terminating. If given p, phi is possibly still nonterminating, that is saying proof checking is undecidable, something that comes up in extensional type theory for example.\n",
    "\n",
    "if phi(x,_) is N^3 and phi(x,p) is N, is that not a proof object?"
   ]
  },
  {
   "cell_type": "markdown",
   "metadata": {},
   "source": [
    "\n"
   ]
  }
 ],
 "metadata": {
  "language_info": {
   "name": "python"
  }
 },
 "nbformat": 4,
 "nbformat_minor": 2
}
