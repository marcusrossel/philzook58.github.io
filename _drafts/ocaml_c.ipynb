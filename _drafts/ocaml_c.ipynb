{
 "cells": [
  {
   "cell_type": "code",
   "execution_count": null,
   "metadata": {},
   "outputs": [],
   "source": []
  },
  {
   "cell_type": "markdown",
   "metadata": {},
   "source": [
    "https://stackoverflow.com/questions/61416259/ocaml-as-c-library-hello-world-example\n",
    "https://transactional.blog/blog/2024-calling-ocaml-from-c\n",
    "\n",
    "https://github.com/thierry-martinez/ocaml-in-python hmm ocaml <= 5\n",
    "\n",
    "https://github.com/LPCIC/elpi\n",
    "\n",
    "Cody's thing\n"
   ]
  }
 ],
 "metadata": {
  "language_info": {
   "name": "python"
  }
 },
 "nbformat": 4,
 "nbformat_minor": 2
}
