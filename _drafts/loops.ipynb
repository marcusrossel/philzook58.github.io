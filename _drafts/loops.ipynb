{
 "cells": [
  {
   "cell_type": "code",
   "execution_count": null,
   "metadata": {},
   "outputs": [],
   "source": []
  },
  {
   "cell_type": "markdown",
   "metadata": {},
   "source": [
    "Loop restructuring\n",
    "WASM algorithm - relooper https://news.ycombinator.com/item?id=22399368\n",
    "Norman Ramsey Beyond Relooper https://dl.acm.org/doi/abs/10.1145/3547621\n",
    "https://lobste.rs/s/n5nisg/beyond_relooper_recursive_translation\n",
    "\n",
    "https://toot.cat/@jamey/110399070056263970 \n",
    "https://dl.acm.org/doi/10.1145/2693261 Perfect Reconstructability of Control Flow from Demand Dependence Graphs\n",
    "\n",
    "This is part of a general issue of turning graph like things into structured tree like things.\n",
    "Algebraic graphs\n",
    "graph decompositions like tree decompitions.\n",
    "Combinators. Parrallel and Compose.\n",
    "https://pacechallenge.org/past/ tree width\n",
    "\n",
    "Domain decomposition\n",
    "\n",
    "Domination \n",
    "https://twitter.com/kripken/status/1371925252314341377?lang=en  \"there are 3 general methods used atm to re-structure control flow from a general CFG: the Relooper, LLVM's CFGStackify, and Cheerp's Stackifier.\"\n"
   ]
  }
 ],
 "metadata": {
  "language_info": {
   "name": "python"
  }
 },
 "nbformat": 4,
 "nbformat_minor": 2
}
