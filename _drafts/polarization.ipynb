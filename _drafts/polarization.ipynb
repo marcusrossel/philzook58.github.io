{
 "cells": [
  {
   "cell_type": "code",
   "execution_count": null,
   "metadata": {},
   "outputs": [],
   "source": []
  },
  {
   "cell_type": "markdown",
   "metadata": {},
   "source": [
    "Linear lgic.\n",
    "\n",
    "Linear types.\n",
    "\n",
    "Someone has made a linear logic prover. Where can I find it."
   ]
  },
  {
   "cell_type": "markdown",
   "metadata": {},
   "source": [
    "Zena Ariola talk.\n",
    "Focussing\n",
    "Proof search\n",
    "Two different polarities of semantics\n",
    "\n",
    "dialog\n",
    "\n",
    "Wadler had nice something?\n",
    "\n",
    "Hilbert style - combinators\n",
    "second order quaantifcation - modules, generics\n",
    "\n",
    "https://drops.dagstuhl.de/storage/00lipics/lipics-vol195-fscd2021/LIPIcs.FSCD.2021.1/LIPIcs.FSCD.2021.1.pdf duality in action\n",
    "\n",
    "fscad 2021 Duality in action\n",
    "https://www.youtube.com/watch?v=lyStOfi5tKw&ab_channel=FSCD2021\n",
    "\n",
    "\n",
    "coinduction is induction over contexts/observbations\n",
    "\n",
    "How can Ic make this real.\n",
    "\n",
    "Proof search. Djyckhoff\n",
    "Is this some alternative to a BHK?\n",
    "\n",
    "I said that callcc is kind of like backtracking or something. Can I take a SAT proof and make that so?\n",
    "Sage and skeptic\n",
    "evidence of falsehood\n",
    "-----------\n",
    "1 = 0 false\n",
    "\n",
    "1 = 1 true\n",
    "\n",
    "\n",
    "automatic phase and choice.\n",
    "We can just breakdown foormula.\n",
    "\n",
    "Game semantics.\n",
    "How do I write games?\n",
    "\n",
    "https://www.youtube.com/watch?v=1QbRSSyKktE&t=811s&ab_channel=SociedadeBrasileiradeL%C3%B3gica\n",
    "\n",
    "A -> B = bigunion(W, | meet(W,A) <= B)\n",
    "\n",
    "Don't define neg(P) as P -> bot\n",
    "proof by contradiction is only a problem when you use the contradiction twice. It you use it once, you actually are comitting to a choice\n",
    "\n",
    "Both shulman and zena use the sqrt(2)^sqrt(2)\n",
    "girard algbra is analogous to heyting algerba.\n",
    "\n",
    "antithesis transtioation\n",
    "\n",
    "\n",
    "\n",
    "Being apart in constructive reals is not the negation of being equal.\n",
    "\n",
    "intuiionsitc modal logic\n",
    "\n",
    "a cleanup routine? The dstructor method.\n",
    "memory management. When I pattern match into a node, do I retain it to rebuild with new stuff or destroy/free it? That's two possibilites.\n",
    "Who's responsible for cleaning up?\n",
    "\n",
    "Natural deduction has one thing on the right hand side. This is another kind of one-ness, perhaps in a different flavor thn the one-ness of linear logic\n"
   ]
  },
  {
   "cell_type": "code",
   "execution_count": null,
   "metadata": {},
   "outputs": [],
   "source": [
    "%%file /tmp/\n",
    "sage( As, or , Bs)\n",
    "skeptic(As,  Bs)"
   ]
  },
  {
   "cell_type": "code",
   "execution_count": null,
   "metadata": {},
   "outputs": [],
   "source": []
  },
  {
   "cell_type": "markdown",
   "metadata": {},
   "source": []
  }
 ],
 "metadata": {
  "language_info": {
   "name": "python"
  }
 },
 "nbformat": 4,
 "nbformat_minor": 2
}
