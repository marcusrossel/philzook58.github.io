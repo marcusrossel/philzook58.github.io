{
 "cells": [
  {
   "cell_type": "code",
   "execution_count": null,
   "metadata": {},
   "outputs": [],
   "source": []
  },
  {
   "cell_type": "markdown",
   "metadata": {},
   "source": [
    "Zena Ariola talk.\n",
    "Focussing\n",
    "Proof search\n",
    "Two different polarities of semantics\n",
    "\n",
    "dialog\n",
    "\n",
    "Wadler had nice something?\n",
    "\n",
    "Hilbert style - combinators\n",
    "second order quaantifcation - modules, generics\n",
    "\n",
    "https://drops.dagstuhl.de/storage/00lipics/lipics-vol195-fscd2021/LIPIcs.FSCD.2021.1/LIPIcs.FSCD.2021.1.pdf duality in action\n",
    "\n",
    "fscad 2021 Duality in action\n",
    "https://www.youtube.com/watch?v=lyStOfi5tKw&ab_channel=FSCD2021\n",
    "\n",
    "\n",
    "coinduction is induction over contexts/observbations\n",
    "\n",
    "How can Ic make this real.\n",
    "\n",
    "Proof search. Djyckhoff\n",
    "Is this some alternative to a BHK?\n",
    "\n",
    "I said that callcc is kind of like backtracking or something. Can I take a SAT proof and make that so?\n",
    "Sage and skeptic\n",
    "evidence of falsehood\n",
    "-----------\n",
    "1 = 0 false\n",
    "\n",
    "1 = 1 true\n",
    "\n",
    "\n",
    "automatic phase and choice.\n",
    "We can just breakdown foormula.\n",
    "\n",
    "Game semantics.\n",
    "How do I write games?\n",
    "\n"
   ]
  },
  {
   "cell_type": "code",
   "execution_count": null,
   "metadata": {},
   "outputs": [],
   "source": [
    "%%file /tmp/\n",
    "sage( As, or , Bs)\n",
    "skeptic(As,  Bs)"
   ]
  }
 ],
 "metadata": {
  "language_info": {
   "name": "python"
  }
 },
 "nbformat": 4,
 "nbformat_minor": 2
}
