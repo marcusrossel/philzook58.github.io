{
 "cells": [
  {
   "cell_type": "code",
   "execution_count": null,
   "metadata": {
    "vscode": {
     "languageId": "racket"
    }
   },
   "outputs": [],
   "source": []
  },
  {
   "cell_type": "markdown",
   "metadata": {},
   "source": [
    "LEanr a scheme\n",
    "\n",
    "Anything you can implement `var` / `varo` is nonlogical.\n",
    "\n",
    "copy_term\n",
    "\n",
    "Deeply embedded copyterm. Fasiling conmputation as a deep embedding\n",
    "\n",
    "ill type systems. Knowing a query must fail is hard. co-LP does it by finding loops. The query is rationally consistent / unfalisfiabile.\n",
    "\n",
    "David galois parsing https://david.darais.com/\n",
    "residuization FLP\n",
    "\n",
    "gotta be lazy.\n",
    "Declarative copy_term. Forall binders. Lambda prolog is not sufficient becausey ou traverse, which is gen and test\n",
    "\n",
    "ziggurat olin shivers\n",
    "\n",
    "johnathan edwards subtext\n",
    "\n",
    "no cloning theorem of logic variables? Quantum worlds. Using a variable is observing it.\n",
    "\n",
    "Spritelyt goblins https://spritely.institute/goblins/\n",
    "https://ocapn.org/\n",
    "Christine lemmer webber\n",
    "Hoot guile\n",
    "https://www.w3.org/TR/activitypub/ \n",
    "\n",
    "\n",
    "Robert Gluck - reversible computation\n",
    "Jeremy Zucker\n",
    "\n",
    "Conj is the problem. infinite success /\\ fail   is bad `fail /\\ inf succ` is fine.\n",
    "\n",
    "Andorra prolog super advance\n",
    "\n",
    "\n",
    "plotkin and reynolds unification as lattice\n",
    "Plotkin, G. D. (1970). A note on inductive generalization\n",
    "Reynolds, J. C. (1970). Transformational systems and the algebraic structure of atomic formulas.\n",
    "\n",
    "minikanren in lattice datalog\n",
    "does z3 mininaren scale\n",
    "\n",
    "\n",
    "Maybe he'd be into Max's crazy scheme. Communication across the universes. Plus. Dynamically refactoring the universes into a database.\n",
    "\n",
    "Might be a nice foundation for a hygienic macro expander\n",
    "\n",
    "I'm trying to wrap my head around 'An Interpreter of the Algebra of Programming in MiniKanren'.  No environment, right?  Or is there an implicit environment?  Or does it use substitution?\n",
    "Can you encode the lambda calculus in the interpreter at the end?\n",
    "Could you synthesize the Y combinator, or quines, or anything else?\n",
    "\n",
    "\n",
    "https://github.com/brandonwillard/mk-rewrite-completion\n",
    "https://codeberg.org/arunavagantait/term-rewriting-in-minikanren\n",
    "https://codeberg.org/arunavagantait/alphaleanTAP-revisited\n",
    "\n",
    "\n",
    "Guile\n",
    "https://jeko.frama.io/en/index.html\n",
    "\n",
    "https://elephly.net/guile-studio/ \n",
    "\n",
    "Maybe one way of doing things is to use guile hoot -> wasmtime python?\n",
    "\n",
    "https://cm-gitlab.stanford.edu/bil/s7\n",
    "gambit\n",
    "biwa\n",
    "\n",
    "\n",
    "Org mode. I ought to love org mode\n",
    "\n",
    "https://gitlab.com/gule-log/guile-log\n",
    "\n",
    "https://github.com/michaelballantyne/hosted-minikanren?tab=readme-ov-file\n",
    "https://github.com/michaelballantyne/mkcdcl\n",
    "\n",
    "https://github.com/jdyb/first-order-miniKanren-guile\n",
    "\n",
    "https://pl-ai-seminar.seas.harvard.edu/publications harvard reading list\n",
    "judea pearl counterfactual\n",
    "\n",
    "https://docs.racket-lang.org/iracket/index.html\n",
    "\n",
    "Wow lots of problems getting emacs to work.\n",
    "https://guix.gnu.org/manual/en/html_node/The-Perfect-Setup.html\n",
    "some complaiting about defvar-1.\n",
    "You really need to reboot the computer after upgrading guix. Maybe i never should've install the ubuntu version. Too old.\n",
    "\n",
    "# guix\n",
    "guix shell\n",
    "guix pull\n",
    "\n"
   ]
  },
  {
   "cell_type": "code",
   "execution_count": 2,
   "metadata": {
    "vscode": {
     "languageId": "racket"
    }
   },
   "outputs": [],
   "source": [
    "#lang iracket/lang #:require racket/base #:reader scribble/reader\n"
   ]
  },
  {
   "cell_type": "code",
   "execution_count": 1,
   "metadata": {
    "vscode": {
     "languageId": "racket"
    }
   },
   "outputs": [
    {
     "name": "stdout",
     "output_type": "stream",
     "text": [
      "hello world"
     ]
    },
    {
     "data": {
      "text/html": [
       "<code>'(1 . 2)</code>"
      ],
      "text/plain": [
       "'(1 . 2)"
      ]
     },
     "execution_count": 1,
     "metadata": {},
     "output_type": "execute_result"
    }
   ],
   "source": [
    "(require racket)\n",
    "(display \"hello world\")\n",
    "(substring \"corduroys\" 0 4) \n",
    "(equal? 6 6)\n",
    "(member \"fall\" (list \"hop\" \"skip\" \"jump\"))\n",
    "(pair? empty)\n",
    "(quote (1 . 2))"
   ]
  },
  {
   "cell_type": "code",
   "execution_count": 4,
   "metadata": {
    "vscode": {
     "languageId": "racket"
    }
   },
   "outputs": [
    {
     "data": {
      "text/html": [
       "<code>'(3)</code>"
      ],
      "text/plain": [
       "'(3)"
      ]
     },
     "execution_count": 4,
     "metadata": {},
     "output_type": "execute_result"
    }
   ],
   "source": [
    "(require minikanren)\n",
    "(run 1 (y)\n",
    "  (fresh (x z)\n",
    "    (== x z)\n",
    "    (== 3 y)))"
   ]
  },
  {
   "cell_type": "code",
   "execution_count": 1,
   "metadata": {
    "vscode": {
     "languageId": "racket"
    }
   },
   "outputs": [
    {
     "name": "stdout",
     "output_type": "stream",
     "text": [
      "Writing /tmp/hello.scm\n"
     ]
    }
   ],
   "source": [
    "%%file /tmp/hello.scm\n",
    "\n",
    "(println \"Hello, World!\")"
   ]
  },
  {
   "cell_type": "code",
   "execution_count": null,
   "metadata": {
    "vscode": {
     "languageId": "racket"
    }
   },
   "outputs": [],
   "source": [
    "! guile /tmp/hello.scm"
   ]
  },
  {
   "cell_type": "markdown",
   "metadata": {},
   "source": [
    "https://blog.sigplan.org/2021/08/12/reflective-towers-of-interpreters/\n",
    "https://github.com/nikitadanilov/3-lisp\n",
    "https://github.com/namin/reflective-towers"
   ]
  },
  {
   "cell_type": "code",
   "execution_count": 9,
   "metadata": {
    "vscode": {
     "languageId": "racket"
    }
   },
   "outputs": [],
   "source": [
    "import pexpect\n",
    "\n",
    "scm = pexpect.spawn('guile')\n",
    "#scm.expect_exact(\"scheme@(guile-user)> \")\n",
    "#scm.close()"
   ]
  },
  {
   "cell_type": "code",
   "execution_count": 4,
   "metadata": {
    "vscode": {
     "languageId": "racket"
    }
   },
   "outputs": [
    {
     "data": {
      "text/plain": [
       "22"
      ]
     },
     "execution_count": 4,
     "metadata": {},
     "output_type": "execute_result"
    }
   ],
   "source": [
    "scm.sendline('(print \"hell oworld\")')"
   ]
  },
  {
   "cell_type": "code",
   "execution_count": 16,
   "metadata": {
    "vscode": {
     "languageId": "racket"
    }
   },
   "outputs": [
    {
     "data": {
      "text/plain": [
       "'[2]> (+ 1 1)\\r\\n$3 = 2'"
      ]
     },
     "execution_count": 16,
     "metadata": {},
     "output_type": "execute_result"
    }
   ],
   "source": [
    "def send_command(command):\n",
    "    scm.sendline(command)\n",
    "    scm.expect_exact('scheme@(guile-user)')\n",
    "    return scm.before.decode().strip()\n",
    "send_command('(+ 1 1)')"
   ]
  },
  {
   "cell_type": "code",
   "execution_count": 29,
   "metadata": {
    "vscode": {
     "languageId": "racket"
    }
   },
   "outputs": [
    {
     "name": "stdout",
     "output_type": "stream",
     "text": [
      "Hello from Scheme!\n",
      "\n",
      "$1 = 6\n",
      "(~/Documents/scheme/faster-miniKanren /usr/share/guile/3.0 /usr/share/guile/site/3.0 /usr/share/guile/site /usr/share/guile)\n"
     ]
    },
    {
     "data": {
      "text/plain": [
       "'While compiling expression:\\r\\nno code for module (faster-miniKanren)'"
      ]
     },
     "execution_count": 29,
     "metadata": {},
     "output_type": "execute_result"
    }
   ],
   "source": [
    "import pexpect\n",
    "import re\n",
    "\n",
    "scheme_process = pexpect.spawn('guile')\n",
    "# Read and discard the initial startup text\n",
    "scheme_process.expect_exact('scheme@(guile-user)> ')\n",
    "prompt_pattern = re.compile(rb'scheme@\\((guile-user|guile-user \\[\\d+\\])\\)> ')\n",
    "\n",
    "def send_command(command, timeout=10):\n",
    "    scheme_process.sendline(command)\n",
    "    try:\n",
    "        scheme_process.expect_exact(command, timeout=timeout)\n",
    "        scheme_process.expect(prompt_pattern, timeout=timeout)\n",
    "        return scheme_process.before.decode().strip()\n",
    "    except pexpect.TIMEOUT:\n",
    "        return \"Error: Command timed out.\"\n",
    "    except pexpect.EOF:\n",
    "        return \"Error: Unexpected end of file encountered.\"\n",
    "\n",
    "output = send_command('(display \"Hello from Scheme!\")')\n",
    "print(output)\n",
    "\n",
    "output = send_command('(newline)')\n",
    "print(output)\n",
    "\n",
    "output = send_command('(+ 1 2 3)')\n",
    "print(output)\n",
    "\n",
    "#send_command('(load \"hello.scm\")')\n",
    "\n",
    "send_command(\"(display %load-path)\")\n",
    "\n",
    "send_command('(add-to-load-path \"~/Documents/scheme/faster-miniKanren\")')\n",
    "print(send_command(\"(display %load-path)\"))\n",
    "send_command('(use-modules (faster-miniKanren))')\n"
   ]
  },
  {
   "cell_type": "code",
   "execution_count": null,
   "metadata": {
    "vscode": {
     "languageId": "racket"
    }
   },
   "outputs": [],
   "source": []
  }
 ],
 "metadata": {
  "kernelspec": {
   "display_name": "Racket",
   "language": "racket",
   "name": "racket"
  },
  "language_info": {
   "codemirror_mode": "scheme",
   "file_extension": ".rkt",
   "mimetype": "text/x-racket",
   "name": "Racket",
   "pygments_lexer": "racket",
   "version": "8.13"
  }
 },
 "nbformat": 4,
 "nbformat_minor": 2
}
