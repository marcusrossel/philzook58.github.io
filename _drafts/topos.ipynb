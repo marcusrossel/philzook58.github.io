{
 "cells": [
  {
   "cell_type": "code",
   "execution_count": null,
   "metadata": {},
   "outputs": [],
   "source": []
  },
  {
   "cell_type": "markdown",
   "metadata": {},
   "source": [
    "Open sets where things are true as truth values.\n",
    "What are functions then? Restrictions?\n",
    "\n",
    "\n",
    "Sierpinski set\n",
    "\n",
    "\n",
    "sheaves. But that begs the question\n",
    "\n",
    "Scott and Lambek\n",
    "Maclane moerdijk\n",
    "\n",
    "\n",
    "\n"
   ]
  }
 ],
 "metadata": {
  "language_info": {
   "name": "python"
  }
 },
 "nbformat": 4,
 "nbformat_minor": 2
}
