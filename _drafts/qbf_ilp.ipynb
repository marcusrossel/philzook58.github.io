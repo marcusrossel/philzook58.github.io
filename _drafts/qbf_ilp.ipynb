{
 "cells": [
  {
   "cell_type": "code",
   "execution_count": null,
   "metadata": {},
   "outputs": [],
   "source": []
  },
  {
   "cell_type": "markdown",
   "metadata": {},
   "source": [
    "QBF is pspace complete.\n",
    "Interesting class\n",
    "\n",
    "ILP is PSCPACe ocmplete. Statman proof.\n",
    "Caqe\n",
    "qbflib\n",
    "Games\n",
    "Cegar\n",
    "\n",
    "ILTP http://www.iltp.de/\n",
    "http://www.iltp.de/results.html\n",
    "ileancop\n",
    "\n",
    "nanocop is neweree. http://leancop.de/nanocop-i/\n",
    "\n",
    "\n",
    "\n",
    "http://www.iltp.de/qmltp/ modal logic\n",
    "https://plato.stanford.edu/entries/goedel/#IntProLogIntS4\n",
    "https://en.wikipedia.org/wiki/Modal_companion conversion from intuitionsitc to modal s4. godel mckinsey tarski\n",
    "\n",
    "\n",
    "Dyckhoff solver. https://www.cs.cmu.edu/~fp/courses/atp/cmuonly/D92.pdf Contraction-free Sequent Calculi for Intuitionistic Logic LJT\n",
    "https://research-repository.st-andrews.ac.uk/bitstream/handle/10023/8824/BernPaper14.pdf?sequence=1 ntuitionistic decision procedures since Gentzen\n",
    "LJQ\n",
    "LJT g4ip\n",
    "\n",
    "\n",
    "Djinn\n",
    "\n",
    "Girard reynolds isomorphism\n",
    "finite parametricity\n",
    "\n",
    "\n",
    "https://www.cs.utoronto.ca/~ahertel/WebPageFiles/Papers/IntuitionisticLogic14.pdf proof complexity of ILP. references staman result of ilp pspace\n",
    " \n",
    "https://www.semanticscholar.org/paper/The-Computational-Complexity-of-Provability-in-of-Ladner/44fb82e6a7e9eb8a08d3e1c0b80171bce8e47f28\n",
    "\n",
    "\n",
    "\n",
    "NL space. logarithmic space. Connectivity queries. Hmm.\n",
    "\n",
    "savitch's theorem. Divide by two and\n",
    "\n",
    "\n",
    "a trick:  p(x1) /\\ p(x2) == forall x, (x = x1) \\/ (x = x2) /\\ p(x) \n",
    "If p is big, this is a big reduction. We kiund of get the refold\n",
    "\n",
    "\n",
    "Accessible worlds. I suspect that every time you go in a negative position you may need to change worlds in ILP. So the translation to sat may be bounded by depth of something.\n",
    "\n",
    "https://easychair.org/publications/open/8jNL this seems really useful  Embedding Intuitionistic into Classical Logic\n",
    "Alexander Pluska and Florian Zuleger\n",
    "\n",
    "https://gebner.org/pdfs/2019-06-26_hritp.pdf - Herbrand Constructivization for Automated\n",
    "Intuitionistic Theorem Proving - Ebner. Constructivization. Intuitinstinc proofs often folow the lines of classical proofs. Interesting\n",
    "\n",
    "\n",
    "\n",
    "Slakje\n",
    "Claessen Rosen https://github.com/koengit/intuit intuit\n",
    "\n",
    "\n",
    "https://ceur-ws.org/Vol-3428/paper15.pdf A New Approach to Clausification for Intuitionistic\n",
    "Propositional Logic - ASP https://github.com/cfiorentini/clausificationIPL https://github.com/cfiorentini/intuitRIL https://github.com/cfiorentini/intuitR\n",
    "\n",
    "\n",
    "https://www.csl.sri.com/users/sgl/Work/Reports/2019-07-G4-SMT-Tableaux19.pdf A proof-theoretic perspective on SMT-solving\n",
    "for intuitionistic propositional logic\n",
    "\n",
    "\n",
    "http://leancop.de/nanocop-i/ there’s a hidden nanocop\n",
    "\n",
    "http://leancop.de/nanocop-m/\n"
   ]
  },
  {
   "cell_type": "markdown",
   "metadata": {},
   "source": [
    "Connection Method\n",
    "https://www.sciencedirect.com/science/article/pii/S0747717103000373 leancop\n",
    "http://www.scholarpedia.org/article/Connection_method\n",
    "\n",
    "connection. convert to DNF.\n",
    "matings - Andrews theorem proving via general matings\n",
    "\n",
    "connection - a line/set of two opposite literlas\n",
    "path- set of literals with one through each clause\n",
    "\n",
    "\n",
    "\n",
    "https://ceur-ws.org/Vol-3613/AReCCa2023_paper9.pdf compairson of proof methods\n",
    "https://aitp-conference.org/2019/slides/WB.pdf experiments qwith connection provers\n",
    "\n",
    "Connection and tableua closer to natural deduction / sequent proofs. Redundancies removed.\n",
    "\n",
    "https://arxiv.org/pdf/2207.08453 sgcd.  CD tools. http://cs.christophwernhard.com/cdtools/ http://cs.christophwernhard.com/pie/ https://arxiv.org/abs/2303.05854 condensed detachment. Christoph wernhard http://cs.christophwernhard.com/papers/sgcd_handout.pdf\n",
    "\n",
    "books:\n",
    "smullyan fol\n",
    "fitting\n",
    "loveland\n",
    "bibel\n",
    "\n",
    "A matrix. a set theoretic account of formulas. They really baked in assoc and comm into sets\n",
    "\n",
    "It can be viewed as either a nesting if conjunction and disjunction. \n",
    "\n",
    "Lite\n",
    "\n",
    "https://api.repository.cam.ac.uk/server/api/core/bitstreams/b8dd150c-dcc5-4960-bc9d-3af7c4082124/content connect++ sean holden https://www.cl.cam.ac.uk/~sbh11/connect++.html\n",
    "\n",
    "https://ceur-ws.org/Vol-3613/AReCCa2023_paper8.pdf Connections: Markov Decision Processes for Classical,\n",
    "Intuitionistic, and Modal Connection Calculi. pyCoP/ipyCoP/mpyCoP \n",
    "https://github.com/fredrrom/connections\n",
    "pip install git+https://github.com/fredrrom/connections.git \n",
    "\n",
    "http://leancop.de/AReCCa-2023/ Automated Reasoning with Connection Calculi. connected to TABLEAUX 2023 \n",
    " \n",
    " http://leancop.de/AReCCa-2023/download/proceedings_preli/1_AReCCa_2023_paper_5.pdf 20 years of leancop\n",
    "\n",
    "http://www.otten1.de/papers/restricting_backtracking_aicom10.pdf  Restricting backtracking in connection\n",
    "calculi\n",
    "\n",
    "https://github.com/01mf02/cop-rs\n",
    "\n",
    "connections for spearation? If the leancop approach is good for odd logics.\n",
    "connection for linear?\n",
    "\n",
    "model elimination calculus\n",
    "MESON\n",
    "\n",
    "harrison has bits on all this\n",
    "\n",
    "http://leancop.de/AReCCa-2023/download/proceedings_preli/4_AReCCa_2023_paper_4.pdf Embedding the Connection Calculus\n",
    "in Satisfiability Modulo Theories - using z3 user propgators for proof search.\n",
    "I could do a z3 minikanren. adt proof object / define-fun-rec version of connection. Hmm. \n",
    "\n",
    "\n",
    "\n"
   ]
  },
  {
   "cell_type": "code",
   "execution_count": null,
   "metadata": {},
   "outputs": [],
   "source": [
    "Formula = Datatype(\"Formula\")\n",
    "Formula.declare(\"atom\", (\"name\", StringSort()))\n",
    "Formula.declare(\"neg\", (\"f\", Formula))\n",
    "Formula.declare(\"and\", (\"f1\", Formula), (\"f2\", Formula))\n",
    "Formula.declare(\"or\", (\"f1\", Formula), (\"f2\", Formula))\n",
    "Formula.declare(\"imp\", (\"f1\", Formula), (\"f2\", Formula))\n",
    "\n",
    "\n",
    "ProofTree = Datatype(\"ProofTree\")\n",
    "ProofTree.declare(\"ax\")\n",
    "ProofTree.declare(\"neg_intro\", (\"pt\", ProofTree))\n",
    "ProofTree.declare(\"neg_elim\", (\"pt1\", ProofTree), (\"pt2\", ProofTree))\n",
    "\n",
    "PSet = Set(ProofTree) # which is just ArraySOrt(ProofTree, Bool())\n",
    "# right, but I'm not going to get a model. (?) Or wait. Maybe I do.\n",
    "prove = RecFunction(\"prove\", PSet, ProofTree, Formula, Bool())\n",
    "\n",
    "gamma = Const(\"gamma\", PSet)\n",
    "prove(p, gamma, t) == Or(\n",
    "    And(p == ProofTree.ax, p.contains(t)),\n",
    "    And(p == ProofTree.neg_intro, ),\n",
    "    Exists([q,r], And(p == ProofTree. ,  prove(), prove()),\n",
    "    Exists([q,r], And(p == ProofTree. ,  prove(), prove()),\n",
    ")\n",
    "\n",
    "p = Const(\"p\", ProofTree)\n",
    "\n",
    "s.assert(prove(p, Formula.imp(Formula.Atom(\"a\"), Formula.Atom(\"a\"))) == True)\n",
    "s.check()\n",
    "s.get_model()[p]\n",
    "\n",
    "\n",
    "\n",
    "\n"
   ]
  },
  {
   "cell_type": "code",
   "execution_count": null,
   "metadata": {},
   "outputs": [],
   "source": [
    "Literal = tuple(int, Any)\n",
    "\n",
    "M1 = tuple(Literal, Pos) # giving a position tag enables us to have the same ltieral\n",
    "M2 = set[Matrix]\n",
    "Matrix = Union[M1,M2]\n",
    "\n",
    "\n"
   ]
  },
  {
   "cell_type": "code",
   "execution_count": null,
   "metadata": {},
   "outputs": [],
   "source": [
    "\"\"\"\n",
    "% select a start clause\n",
    "\n",
    "\n",
    "prove(Mat,PathLim) :- append(MatA, [Cla|MatB], Mat), % generate all splits of Mat\n",
    "         \\+ member(-_, Cla), % no negative literals in Clause\n",
    "         append(MatA,MatB,Mat1), \n",
    "         prove([!], [[-!|Cla]|Mat1], [], I). % ! is special root literal. [!] is goal\n",
    "\n",
    "         % prove(Clause, Mat, Path, PathLim)\n",
    "prove([],_,_,_).\n",
    "prove([Lit|Cla], Mat, Path, PathLim) :-\n",
    "    ( -NegLit=Lit; -Lit=NegLit) -> \n",
    "       (\n",
    "        member(NegLit,Path);\n",
    "        append(MatA, [Cla1|MatB], Mat), copy_term(Cla1,Cla2),\n",
    "        \n",
    "       )\n",
    "\n",
    "    )\n",
    "\n",
    "\n",
    "% iterative deepending\n",
    "prove(Mat, PathLim) :- nonground(Mat), PathLim1 is PathLim+1, prove(Mat,PathLim1).\n",
    "\"\"\""
   ]
  },
  {
   "cell_type": "markdown",
   "metadata": {},
   "source": [
    "Tablueax\n",
    "http://www.tableaux-ar.org/\n",
    "http://formal.iti.kit.edu/beckert/leantap/ \n",
    "https://www.youtube.com/watch?v=HN93xxV7GdI&t=52s&ab_channel=LawrencePaulson Logi and proof paulsonh. Tabelau claculu\n",
    "Lazy backwards enumeration of the truth table.\n",
    "\n"
   ]
  },
  {
   "cell_type": "markdown",
   "metadata": {},
   "source": [
    "The prolog options are out of date, and I needed to set the proverp ath\n",
    "```\n",
    "PROVER_PATH=/home/philip/Documents/solvers/nanoCoP-i20\n",
    "PROLOG_OPTIONS='--debug=false -O -q -g'\n",
    "```\n",
    "\n",
    "The \"readable\" proofs stink."
   ]
  },
  {
   "cell_type": "code",
   "execution_count": 16,
   "metadata": {
    "metadata": {}
   },
   "outputs": [
    {
     "name": "stdout",
     "output_type": "stream",
     "text": [
      "Overwriting /tmp/testilip.p\n"
     ]
    }
   ],
   "source": [
    "%%file /tmp/testilip.p\n",
    "%fof(test, conjecture, (a & b) => a).\n",
    "fof(test, conjecture, a => ~(~a)).\n"
   ]
  },
  {
   "cell_type": "code",
   "execution_count": 17,
   "metadata": {
    "metadata": {}
   },
   "outputs": [
    {
     "name": "stdout",
     "output_type": "stream",
     "text": [
      "Warning: /home/philip/Documents/solvers/nanoCoP-i20/nanocopi20_swi.pl:61:\n",
      "Warning:    Singleton variable in branch: ClaB1\n",
      "\n",
      "/tmp/testilip.p is an intuitionistic Theorem\n",
      "Start of proof for /tmp/testilip.p\n",
      "------------------------------------------------------\n",
      "Explanations for the proof presented below:\n",
      "- equality axioms are added if required\n",
      "- terms and variables are represented by Prolog terms\n",
      "  and Prolog variables, negation is represented by -\n",
      "- a prefix Pre is a list of variables and constants\n",
      "  and assigned to each literal Lit, i.e. Pre:Lit\n",
      "- clauses and (sub-)matrices have a unique label I^K:\n",
      "  or I^K^[..]:, where I is a unique number/identifier\n",
      "  and K identifies the instance of clause/matrix I\n",
      "- I:Lit refers to literal Lit in clause number I\n",
      "- in the matrix, I^[t1,..,tn] may represent the atom\n",
      "  P_I(t1,..,tn) or the Skolem term f_I(t1,t2,..,tn)\n",
      "- the substitution [[X1,..,Xn],[t1,..,tn]] represents\n",
      "  the assignments X1:=t1, .., Xn:=tn (for both term\n",
      "  and prefix variables)\n",
      "\n",
      "Proof:\n",
      "------\n",
      "Translation into a non-clausal matrix:\n",
      "[(3^_14642)^[]^[]:[-a: -[1^[]]],(7^_14642)^[_14992]^[]:[a:[1^[],4^[],_14992]]]\n",
      "\n",
      "We prove that the given matrix is valid, i.e. for\n",
      "a given substitution it evaluates to true for all\n",
      "interpretations. A matrix is true iff at least one\n",
      "of its clauses is true; a clause is true iff all of\n",
      "its elements (literals and submatrices) are true.\n",
      "\n",
      "The proof is by contradiction:\n",
      "Assume there is an interpretation so that the given\n",
      "matrix evaluates to false. Then in each clause there\n",
      "has to be at least one element that is false.\n",
      "\n",
      " Then clause (7^0) under the substitution [[_14992],[_13656]]\n",
      " is false if at least one of the following is false:\n",
      " [a:[1^[],4^[],_13656]]\n",
      "1 Assume a:[1^[]] is false.\n",
      "  Then clause (3^1) is true.\n",
      "\n",
      "Therefore there is no interpretation that makes the\n",
      "given matrix false. Hence the given matrix is valid.\n",
      "                                              q.e.d.\n",
      "------------------------------------------------------\n",
      "End of proof for /tmp/testilip.p\n"
     ]
    }
   ],
   "source": [
    "! nanocopi  /tmp/testilip.p"
   ]
  },
  {
   "cell_type": "code",
   "execution_count": 11,
   "metadata": {
    "metadata": {}
   },
   "outputs": [
    {
     "name": "stdout",
     "output_type": "stream",
     "text": [
      "Writing /tmp/excluded_middle.p\n"
     ]
    }
   ],
   "source": [
    "%%file /tmp/excluded_middle.p\n",
    "fof(test, conjecture, ~a | a). % excluded middle"
   ]
  },
  {
   "cell_type": "code",
   "execution_count": 12,
   "metadata": {
    "metadata": {}
   },
   "outputs": [
    {
     "name": "stdout",
     "output_type": "stream",
     "text": [
      "Warning: /home/philip/Documents/solvers/nanoCoP-i20/nanocopi20_swi.pl:61:\n",
      "Warning:    Singleton variable in branch: ClaB1\n",
      "\n",
      "/tmp/excluded_middle.p is an intuitionistic Non-Theorem\n"
     ]
    }
   ],
   "source": [
    "! nanocopi /tmp/excluded_middle.p"
   ]
  },
  {
   "cell_type": "markdown",
   "metadata": {},
   "source": [
    "Ok, in any case. Why should we care?\n",
    "\n",
    "https://plato.stanford.edu/entries/mathematics-constructive/\n",
    "\n",
    "Maybe constructive analysis.\n",
    "Maybe constructtive type thoery?\n",
    "Maybe CZF."
   ]
  },
  {
   "cell_type": "code",
   "execution_count": null,
   "metadata": {
    "metadata": {}
   },
   "outputs": [],
   "source": [
    "from connections.calculi.intuitionistic import ConnectionEnv\n",
    "env = ConnectionEnv(\"/tmp/testilip.p\", iterative_deepening=True)\n",
    "try:\n",
    "    observation = env.reset()\n",
    "    while True:\n",
    "        action = env.action_space[0]\n",
    "        print(action)\n",
    "        observation, reward, done, info = env.step(action)\n",
    "        if done:\n",
    "            break\n",
    "    print(info)\n",
    "except Exception:\n",
    "    print(traceback.format_exc())\n",
    "    print(sys.exc_info()[2])"
   ]
  },
  {
   "cell_type": "code",
   "execution_count": 25,
   "metadata": {
    "metadata": {}
   },
   "outputs": [
    {
     "name": "stderr",
     "output_type": "stream",
     "text": [
      "Warning: /home/philip/Documents/solvers/nanoCoP-i20/nanocopi20_swi.pl:61:\n",
      "Warning:    Singleton variable in branch: ClaB1\n"
     ]
    },
    {
     "name": "stdout",
     "output_type": "stream",
     "text": [
      "\n",
      "/tmp/lemma.p is an intuitionistic Non-Theorem\n"
     ]
    },
    {
     "name": "stderr",
     "output_type": "stream",
     "text": [
      "Warning: /home/philip/Documents/solvers/nanoCoP-i20/nanocopi20_swi.pl:61:\n",
      "Warning:    Singleton variable in branch: ClaB1\n"
     ]
    },
    {
     "name": "stdout",
     "output_type": "stream",
     "text": [
      "\n",
      "/tmp/lemma.p is an intuitionistic Theorem\n",
      "Start of proof for /tmp/lemma.p\n",
      "%-----------------------------------------------------\n",
      "ncf(matrix,plain,[(3^_14642)^[]^[]:[-a: -[1^[]]],(7^_14642)^[_14992]^[]:[a:[1^[],4^[],_14992]]],input).\n",
      "ncf('1',plain,[a:[1^[],4^[],_13656]],start(7^0,bind([[_14992],[_13656]]))).\n",
      "ncf('1.1',plain,[-a: -[1^[]]],extension(3^1)).\n",
      "%-----------------------------------------------------\n",
      "End of proof for /tmp/lemma.p\n"
     ]
    },
    {
     "data": {
      "text/plain": [
       "'a => ~(~a)'"
      ]
     },
     "execution_count": 25,
     "metadata": {},
     "output_type": "execute_result"
    }
   ],
   "source": [
    "import subprocess\n",
    "ctx = []\n",
    "def lemma(thm, by=[]):\n",
    "    with open(\"/tmp/lemma.p\", \"w\") as f:\n",
    "        for c in ctx:\n",
    "            f.write(c)\n",
    "        for hyp in by:\n",
    "            f.write(f\"fof(hyp, axiom, {hyp}).\")\n",
    "        f.write(f\"fof(goal, conjecture, {thm}).\")\n",
    "        f.flush()\n",
    "    subprocess.run([\"nanocopi\", \"/tmp/lemma.p\"])\n",
    "    return thm\n",
    "\n",
    "def declare(x, typ):\n",
    "    ctx.append(f\"fof(decl, type, {x} : {typ}).\")\n",
    "    return x\n",
    "\n",
    "\n",
    "lemma(\"~a | a\")\n",
    "lemma(\"a => ~(~a)\")\n"
   ]
  },
  {
   "cell_type": "markdown",
   "metadata": {},
   "source": [
    "Boosting a natural deduction prover.\n",
    "g4ip is probably more interpretable (why?)\n",
    "\n",
    "\n",
    "\n"
   ]
  }
 ],
 "metadata": {
  "kernelspec": {
   "display_name": "Python 3",
   "language": "python",
   "name": "python3"
  },
  "language_info": {
   "codemirror_mode": {
    "name": "ipython",
    "version": 3
   },
   "file_extension": ".py",
   "mimetype": "text/x-python",
   "name": "python",
   "nbconvert_exporter": "python",
   "pygments_lexer": "ipython3",
   "version": "3.10.12"
  }
 },
 "nbformat": 4,
 "nbformat_minor": 2
}
