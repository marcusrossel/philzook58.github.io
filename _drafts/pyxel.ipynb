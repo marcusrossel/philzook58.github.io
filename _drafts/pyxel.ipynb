{
 "cells": [
  {
   "cell_type": "code",
   "execution_count": 1,
   "metadata": {},
   "outputs": [
    {
     "ename": "FileNotFoundError",
     "evalue": "[Errno 2] No such file or directory: '/tmp/ipykernel_3021580'",
     "output_type": "error",
     "traceback": [
      "\u001b[0;31m---------------------------------------------------------------------------\u001b[0m",
      "\u001b[0;31mFileNotFoundError\u001b[0m                         Traceback (most recent call last)",
      "Cell \u001b[0;32mIn[1], line 20\u001b[0m\n\u001b[1;32m     16\u001b[0m         pyxel\u001b[38;5;241m.\u001b[39mtext(\u001b[38;5;241m55\u001b[39m, \u001b[38;5;241m41\u001b[39m, \u001b[38;5;124m\"\u001b[39m\u001b[38;5;124mHello, Pyxel!\u001b[39m\u001b[38;5;124m\"\u001b[39m, pyxel\u001b[38;5;241m.\u001b[39mframe_count \u001b[38;5;241m%\u001b[39m \u001b[38;5;241m16\u001b[39m)\n\u001b[1;32m     17\u001b[0m         pyxel\u001b[38;5;241m.\u001b[39mblt(\u001b[38;5;241m61\u001b[39m, \u001b[38;5;241m66\u001b[39m, \u001b[38;5;241m0\u001b[39m, \u001b[38;5;241m0\u001b[39m, \u001b[38;5;241m0\u001b[39m, \u001b[38;5;241m38\u001b[39m, \u001b[38;5;241m16\u001b[39m)\n\u001b[0;32m---> 20\u001b[0m \u001b[43mApp\u001b[49m\u001b[43m(\u001b[49m\u001b[43m)\u001b[49m\n",
      "Cell \u001b[0;32mIn[1], line 6\u001b[0m, in \u001b[0;36mApp.__init__\u001b[0;34m(self)\u001b[0m\n\u001b[1;32m      5\u001b[0m \u001b[38;5;28;01mdef\u001b[39;00m \u001b[38;5;21m__init__\u001b[39m(\u001b[38;5;28mself\u001b[39m):\n\u001b[0;32m----> 6\u001b[0m     \u001b[43mpyxel\u001b[49m\u001b[38;5;241;43m.\u001b[39;49m\u001b[43minit\u001b[49m\u001b[43m(\u001b[49m\u001b[38;5;241;43m160\u001b[39;49m\u001b[43m,\u001b[49m\u001b[43m \u001b[49m\u001b[38;5;241;43m120\u001b[39;49m\u001b[43m,\u001b[49m\u001b[43m \u001b[49m\u001b[43mtitle\u001b[49m\u001b[38;5;241;43m=\u001b[39;49m\u001b[38;5;124;43m\"\u001b[39;49m\u001b[38;5;124;43mHello Pyxel\u001b[39;49m\u001b[38;5;124;43m\"\u001b[39;49m\u001b[43m)\u001b[49m\n\u001b[1;32m      7\u001b[0m     pyxel\u001b[38;5;241m.\u001b[39mimages[\u001b[38;5;241m0\u001b[39m]\u001b[38;5;241m.\u001b[39mload(\u001b[38;5;241m0\u001b[39m, \u001b[38;5;241m0\u001b[39m, \u001b[38;5;124m\"\u001b[39m\u001b[38;5;124massets/pyxel_logo_38x16.png\u001b[39m\u001b[38;5;124m\"\u001b[39m)\n\u001b[1;32m      8\u001b[0m     pyxel\u001b[38;5;241m.\u001b[39mrun(\u001b[38;5;28mself\u001b[39m\u001b[38;5;241m.\u001b[39mupdate, \u001b[38;5;28mself\u001b[39m\u001b[38;5;241m.\u001b[39mdraw)\n",
      "File \u001b[0;32m<string>:1\u001b[0m\n",
      "\u001b[0;31mFileNotFoundError\u001b[0m: [Errno 2] No such file or directory: '/tmp/ipykernel_3021580'"
     ]
    }
   ],
   "source": [
    "import pyxel\n",
    "\n",
    "\n",
    "class App:\n",
    "    def __init__(self):\n",
    "        pyxel.init(160, 120, title=\"Hello Pyxel\")\n",
    "        pyxel.images[0].load(0, 0, \"assets/pyxel_logo_38x16.png\")\n",
    "        pyxel.run(self.update, self.draw)\n",
    "\n",
    "    def update(self):\n",
    "        if pyxel.btnp(pyxel.KEY_Q):\n",
    "            pyxel.quit()\n",
    "\n",
    "    def draw(self):\n",
    "        pyxel.cls(0)\n",
    "        pyxel.text(55, 41, \"Hello, Pyxel!\", pyxel.frame_count % 16)\n",
    "        pyxel.blt(61, 66, 0, 0, 0, 38, 16)\n",
    "\n",
    "\n",
    "App()"
   ]
  },
  {
   "cell_type": "markdown",
   "metadata": {},
   "source": [
    "https://github.com/kitao/pyxel\n",
    "\n",
    "pyautogui + llm\n",
    "Oh. I can't see the cursor movew\n",
    "https://github.com/asweigart/ezsheets"
   ]
  },
  {
   "cell_type": "code",
   "execution_count": 11,
   "metadata": {},
   "outputs": [],
   "source": [
    "import pyautogui\n",
    "pyautogui.position()\n",
    "pyautogui.moveRel(100, 100, duration=1) "
   ]
  },
  {
   "cell_type": "code",
   "execution_count": 14,
   "metadata": {},
   "outputs": [],
   "source": [
    "pyautogui.moveTo(100, 200) \n",
    "pyautogui.click() "
   ]
  }
 ],
 "metadata": {
  "kernelspec": {
   "display_name": "Python 3",
   "language": "python",
   "name": "python3"
  },
  "language_info": {
   "codemirror_mode": {
    "name": "ipython",
    "version": 3
   },
   "file_extension": ".py",
   "mimetype": "text/x-python",
   "name": "python",
   "nbconvert_exporter": "python",
   "pygments_lexer": "ipython3",
   "version": "3.10.12"
  }
 },
 "nbformat": 4,
 "nbformat_minor": 2
}
