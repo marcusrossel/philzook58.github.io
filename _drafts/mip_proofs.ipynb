{
 "cells": [
  {
   "cell_type": "code",
   "execution_count": null,
   "metadata": {},
   "outputs": [],
   "source": []
  },
  {
   "cell_type": "markdown",
   "metadata": {},
   "source": [
    "NotMin is a SAT-like NP problem. Give me a better solution and that certifies that mine is NOTMIN\n",
    "\n",
    "MIN is an UNSAT-like co-NP problem. Somehow show me there is no better solution.\n",
    "\n",
    "So minimization of producing is something akin to the intersection of NP and co-NP\n",
    "\n",
    "Linear programming is beautiful because of the duality principle, where te dual vector is a proof certificate deomsntrating the minimality of your solution (or infeasibility)\n",
    "\n",
    "MILP uses LP as a subroutine for solving relaxed problems. It also uses cuts and brach and bound. So there is a search tree.\n",
    "\n",
    "\n",
    "https://cs.paperswithcode.com/paper/verifying-milp-certificates-with-smt-solvers\n",
    "VIPR certificates\n",
    "https://arxiv.org/abs/2312.10420 Satisfiability modulo theories for verifying MILP certificates\n",
    "\n",
    "https://github.com/ambros-gleixner/VIPR so SCIP can output this stuff? Huh.\n",
    "\n",
    "https://github.com/ambros-gleixner/MIPcc23 mip reoptimization\n",
    "\n",
    "\n",
    "\n"
   ]
  }
 ],
 "metadata": {
  "language_info": {
   "name": "python"
  }
 },
 "nbformat": 4,
 "nbformat_minor": 2
}
