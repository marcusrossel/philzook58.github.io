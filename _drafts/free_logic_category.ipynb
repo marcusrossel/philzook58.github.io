{
 "cells": [
  {
   "cell_type": "code",
   "execution_count": null,
   "metadata": {},
   "outputs": [],
   "source": []
  },
  {
   "cell_type": "markdown",
   "metadata": {},
   "source": [
    "\n",
    "Functor, Nat Trans, Kan, Adjunction. These were harder.\n",
    "ASP for finite categories. Remember that one?\n",
    "\n",
    "https://www.jstor.org/stable/2275472 Axiomatiizng a category of categories - colin mclarty\n",
    "\n",
    "\n",
    "https://mathoverflow.net/questions/9269/category-of-categories-as-a-foundation-of-mathematics\n",
    "\n",
    "I dunno man.\n",
    "\n",
    "categorica mathematica\n",
    "\n"
   ]
  },
  {
   "cell_type": "code",
   "execution_count": null,
   "metadata": {},
   "outputs": [],
   "source": [
    "CAT = DeclareSort(\"CAT\")\n",
    "Functor = DeclareSort(\"Functor\") #ArraySort(CAT, CAT) # Is it ok to have functors as \"functions\"\n",
    "\n",
    "cod = Function('cod', Functor, CAT)\n",
    "dom = Function('dom', Functor, CAT)\n",
    "\n",
    "\n",
    "\n",
    "\n",
    "NatTrans = ArraySort(Functor, Functor)"
   ]
  },
  {
   "cell_type": "markdown",
   "metadata": {},
   "source": [
    "https://www.youtube.com/watch?v=c3qfeSmhN-8&ab_channel=ToposInstitute \n",
    "Christoph Benzmueller: \"Logico-pluralistic exploration of foundational theories with computers\"\n",
    "https://www.youtube.com/watch?v=XaxCeVOMfQ4&ab_channel=AlianzaenInteligenciaArtificial\n",
    "\n",
    "\n",
    "A domain of existing/well defined things as a subet of a larger domain\n",
    "\n",
    "Scott 1967 Dana Scott, Existence and description in formal logic\n",
    "Scott 1977 Identity and existence in intuitionistic logic\n",
    "\n",
    "Dewcription operators\n",
    "\n",
    "\n",
    "Bill Farmer, Imps and his book. He had some acronym for a notion of partial existence equality\n",
    "\n",
    "This is in tptp https://www.philipzucker.com/notes/Logic/tptp/#cat003-0ax\n",
    "\n",
    "https://plato.stanford.edu/entries/logic-free/\n",
    "\n",
    "Kind of the point of egglog was for categorical stuff.\n",
    "Free logic is possibly appropriate for GATs, Essentially algebraic theories, partial horn logic.\n",
    "\n",
    "Encoding free logic is a lot like the standard interpretation of modal logic. \n",
    "\n",
    "Generalized monoids\n",
    "\n",
    "https://www.philipzucker.com/category-theory-in-the-e-automated-theorem-prover/ here I use a relational implementation of compose.\n"
   ]
  },
  {
   "cell_type": "code",
   "execution_count": null,
   "metadata": {},
   "outputs": [],
   "source": [
    "Ex(x) == Edom(x)\n",
    "Ex(x) == Ecod(x)\n",
    "Ex(comp(x, y)) == (dom(x) == cod(y))\n",
    "kleene(comp(x,comp(y,z)), comp(comp(x,y),z))\n",
    "kleene(comp(x, dom(x)),  x)\n",
    "kleene(comp(cod(x), x), x)"
   ]
  },
  {
   "cell_type": "code",
   "execution_count": null,
   "metadata": {},
   "outputs": [],
   "source": [
    "strict = Implies(Ex(comp(x,y)), And(Ex(x), Ex(y))\n",
    "exists = Implies() \n",
    "assoc = \n",
    "\n",
    "def ID(i):\n",
    "    FForAll(x, Implies(Ex(i), comp(i, x) )"
   ]
  },
  {
   "cell_type": "code",
   "execution_count": null,
   "metadata": {},
   "outputs": [],
   "source": [
    "# This is an equivalnce relation\n",
    "def kleene(x,y):\n",
    "    Implies(And(Ex(x), Ex(y)), x == y)\n",
    "\n",
    "# existing identity. transitive and symmetric but not reflexive. undefined elements are not self exists equal\n",
    "def ex_eq(x,y):\n",
    "    return And(Ex(x), Ex(y), x == y)\n",
    "\n",
    "# 1/0 is not ex_eq with itself.\n",
    "\n",
    "def FExists(x,P):\n",
    "    return Exists(x, And(Ex(x), P))\n",
    "def FForAll(x,P):\n",
    "    return ForAll(x, Implies(Ex(x), P))\n"
   ]
  },
  {
   "cell_type": "code",
   "execution_count": null,
   "metadata": {},
   "outputs": [],
   "source": [
    "Ex = Function('Ex', S, B)\n",
    "\n",
    "# but they did a deeper encoindg\n",
    "#Ex = Function(\"Ex\", ArraySort())\n",
    "# nope.\n",
    "\n",
    "junk = Const('junk', S) # they call it *\n",
    "\n",
    "# hmm. He's using isabelle's THE, but I don't have one?\n",
    "the = Function('the', ArraySort(S,B), S)\n",
    "\n",
    "desc = Function('desc', , S)\n",
    "desc[phi] == If(FExists(x, And(phi[x], FForAll([y], Implies(phi(y), x = y)) )), the(And(Ex(x), phi(x))), junk"
   ]
  },
  {
   "cell_type": "markdown",
   "metadata": {},
   "source": [
    "Interesting notions of equality. They have 3 distinct ones.\n",
    "Extensional equality eq()\n",
    "\n",
    "iso(a = b, iso(a,b,f,g), p, q). univalence. iso are permutations. fraenkel mostowski is permutations. Any relation?\n",
    "parametricity is about abstraction hiding. wadler's girard reynolds had something about Nats being isomorphic\n",
    "\n",
    "alpha_eq / nominal_eq\n",
    "\n",
    "A proof relevant form of\n",
    "eq(a = b, eq(a,b))\n",
    "\n",
    "Observational equality.\n",
    "\n",
    "a = b <-> eq(P, a , b) (aka  typeof(P, eq(a,b))  / proof(P, eq(a,b)))\n",
    "z3 won't be happy. Remmber when I was trying to use `=`. Once you're eq you're kind of screwed because refl becomes the proof.\n",
    "\n",
    "This is a separate issue from transitive closure?"
   ]
  },
  {
   "cell_type": "markdown",
   "metadata": {},
   "source": [
    "Using predicates to cut out subdomains:\n",
    "- nbg separating classes from sets\n",
    "- free logic, good from bad terms\n",
    "- atoms from sets in Franekl Mostowski\n",
    "- maybe kripke / seperation / intuitionsitc encodings?\n",
    "\n",
    "def ForAllSet(x, P):\n",
    "    return ForAll([x], Implies(Set(x), P))\n",
    "def ExistsSet():\n",
    "\n",
    "\n"
   ]
  },
  {
   "cell_type": "code",
   "execution_count": null,
   "metadata": {},
   "outputs": [],
   "source": [
    "# system T\n",
    "Nat = Datatype(\"Nat\") \n",
    "#...\n",
    "def induct(T):\n",
    "    # T is a Combo of ArraySort and Nat\n",
    "    F = FreshConst(\"F\", T)\n",
    "    x = FreshConst(\"x\", Nat)\n",
    "    return ForAll([F], Implies(And(F(Nat.zero) == Nat.zero, ForAll([x], Implies(F(x) == Nat.zero, F(Nat.succ(x)) == Nat.zero))),\n",
    "                               ForAll([x], F(x) == Nat.zero)))\n",
    "# f(x) == zero is arepresentation of truthhood.\n",
    "\n",
    "# system F\n",
    "\n"
   ]
  },
  {
   "cell_type": "code",
   "execution_count": null,
   "metadata": {},
   "outputs": [],
   "source": [
    "ctx = [x,y,z]\n",
    "def lemma(thm,by=[]): # ctx=ctx\n",
    "    global ctx\n",
    "    #prove(ForAll(ctx, Implies(And(*by), thm)))\n",
    "    #  no actually, this is probably what I want.\n",
    "    prove(Implies(And(*by), ForAll(ctx, thm)))\n",
    "    return ForAll([x], thm)\n",
    "#Or just define new lemma, every time I enter new context\n",
    "# I like this. Avoids a lot of boilerplate.\n",
    "# I don't think I'll ever be \"wrong\". I just may not be doing something I don't expect\n",
    "# mutate ctx variable later.\n",
    "# also, now countermodels with more information may be possible.\n"
   ]
  },
  {
   "cell_type": "code",
   "execution_count": null,
   "metadata": {},
   "outputs": [],
   "source": [
    "from z3 import *\n",
    "Ob = DeclareType(\"Ob\")\n",
    "Hom = DeclareType(\"Hom\")\n",
    "\n",
    "dom = Function(\"dom\", Hom, Ob)\n",
    "cod = Function(\"cod\", Hom, Ob)\n",
    "\n",
    "E = Function(\"E\", Hom, Bool) # well formed\n",
    "comp = Function(\"comp\", Hom, Hom, Hom)\n",
    "id = Function(\"id\", Ob, Hom)\n",
    "\n",
    "\n",
    "def keq(x,y):\n",
    "    return Implies(And(E(x), E(y)), x == y)\n",
    "class Hom(ExprRef):\n",
    "    def __eq__(self, other):\n",
    "        # kleene equality\n",
    "        return Implies(And(E(self), E(other)), self == other)\n",
    "\n",
    "wf_comp = ForAll([x,y], Implies(And(E(x), E(y), cod(x) == dom(x)), E(comp(x,y))))\n",
    "\n",
    "keq_comp = ForAll([a], "
   ]
  }
 ],
 "metadata": {
  "language_info": {
   "name": "python"
  }
 },
 "nbformat": 4,
 "nbformat_minor": 2
}
