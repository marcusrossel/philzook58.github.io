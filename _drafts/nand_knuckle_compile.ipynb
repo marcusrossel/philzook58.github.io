{
 "cells": [
  {
   "cell_type": "markdown",
   "metadata": {},
   "source": [
    "---\n",
    "title: Nand2Knuck\n",
    "---\n",
    "https://www.nand2tetris.org/course\n",
    "\n",
    "https://www.philipzucker.com/nand2tetris-chc/\n",
    "https://www.philipzucker.com/nand2tetris-cpu/\n",
    "https://www.philipzucker.com/nand2tetris-in-verilog-and-fpga-and-coq/\n",
    "https://github.com/philzook58/nand2coq"
   ]
  },
  {
   "cell_type": "code",
   "execution_count": 6,
   "metadata": {},
   "outputs": [
    {
     "ename": "SyntaxError",
     "evalue": "invalid syntax (3501921742.py, line 12)",
     "output_type": "error",
     "traceback": [
      "\u001b[0;36m  Cell \u001b[0;32mIn[6], line 12\u001b[0;36m\u001b[0m\n\u001b[0;31m    test_nand()_\u001b[0m\n\u001b[0m               ^\u001b[0m\n\u001b[0;31mSyntaxError\u001b[0m\u001b[0;31m:\u001b[0m invalid syntax\n"
     ]
    }
   ],
   "source": [
    "Nandtable = [\n",
    "    [1, 1, 0],\n",
    "    [1, 0, 1],\n",
    "    [0, 1, 1],\n",
    "    [0, 0, 1]\n",
    "]\n",
    "\n",
    "def test_nand():\n",
    "    for x,y,z in Nandtable:\n",
    "        assert not (x and y) == z\n",
    "\n",
    "test_nand()\n",
    "\n",
    "def fuzz_nand():\n",
    "    for testnum in range(1000):\n",
    "        x = random.randint()\n",
    "        y = random.randint()\n",
    "        z = nand(x, y)\n",
    "\n"
   ]
  },
  {
   "cell_type": "code",
   "execution_count": 1,
   "metadata": {},
   "outputs": [
    {
     "data": {
      "text/html": [
       "&ctdot; &#8870;&forall;x, y, z : Nand(x, y, z) = (&not;(x &and; y) = z)"
      ],
      "text/plain": [
       "&ctdot; &#8870;ForAll([x, y, z], Nand(x, y, z) == (Not(And(x, y)) == z))"
      ]
     },
     "execution_count": 1,
     "metadata": {},
     "output_type": "execute_result"
    }
   ],
   "source": [
    "from knuckledragger import lemma, axiom, define\n",
    "from z3 import *\n",
    "\n",
    "B = BoolSort()\n",
    "x,y,z,w,u,v = Consts(\"x y z w u v\", B)\n",
    "\n",
    "CNand = Function(\"Nand\", B,B,B,B)\n",
    "nand_def = axiom(ForAll([x,y,z], CNand(x,y,z) == \n",
    "     Or(And(x == True,  y == True,  z == False),\n",
    "        And(x == True,  y == False, z == True),\n",
    "        And(x == False, y == True,  z == True),\n",
    "        And(x == False, y == False, z == True))))\n",
    "\n",
    "\n",
    "test1 = lemma(CNand(True,True,False), by=[nand_def])\n",
    "\n",
    "nand_fun = lemma(ForAll([x,y,z], CNand(x,y,z) == (Not(And(x,y)) == z)), by=[nand_def])\n",
    "nand_fun"
   ]
  },
  {
   "cell_type": "code",
   "execution_count": 2,
   "metadata": {},
   "outputs": [
    {
     "ename": "LemmaError",
     "evalue": "(Nand(True, True, True), 'Countermodel', [Nand = [(True, True, True) -> False,\n         else ->\n         Or(Not(Or(Not(Var(2)), Var(1), Not(Var(0)))),\n            Not(Or(Var(2), Not(Var(1)), Not(Var(0)))),\n            Not(Or(Not(Var(2)), Var(0), Not(Var(1)))),\n            Not(Or(Not(Var(2)), Var(1), Var(0))))]])",
     "output_type": "error",
     "traceback": [
      "\u001b[0;31m---------------------------------------------------------------------------\u001b[0m",
      "\u001b[0;31mLemmaError\u001b[0m                                Traceback (most recent call last)",
      "Cell \u001b[0;32mIn[2], line 1\u001b[0m\n\u001b[0;32m----> 1\u001b[0m test2 \u001b[38;5;241m=\u001b[39m \u001b[43mlemma\u001b[49m\u001b[43m(\u001b[49m\u001b[43mCNand\u001b[49m\u001b[43m(\u001b[49m\u001b[38;5;28;43;01mTrue\u001b[39;49;00m\u001b[43m,\u001b[49m\u001b[38;5;28;43;01mTrue\u001b[39;49;00m\u001b[43m,\u001b[49m\u001b[38;5;28;43;01mTrue\u001b[39;49;00m\u001b[43m)\u001b[49m\u001b[43m,\u001b[49m\u001b[43m \u001b[49m\u001b[43mby\u001b[49m\u001b[38;5;241;43m=\u001b[39;49m\u001b[43m[\u001b[49m\u001b[43mnand_def\u001b[49m\u001b[43m]\u001b[49m\u001b[43m)\u001b[49m\n",
      "File \u001b[0;32m~/Documents/python/knuckledragger/knuckledragger/kernel.py:58\u001b[0m, in \u001b[0;36mlemma\u001b[0;34m(thm, by, admit)\u001b[0m\n\u001b[1;32m     56\u001b[0m \u001b[38;5;28;01mif\u001b[39;00m res \u001b[38;5;241m!=\u001b[39m z3\u001b[38;5;241m.\u001b[39munsat:\n\u001b[1;32m     57\u001b[0m     \u001b[38;5;28;01mif\u001b[39;00m res \u001b[38;5;241m==\u001b[39m z3\u001b[38;5;241m.\u001b[39msat:\n\u001b[0;32m---> 58\u001b[0m         \u001b[38;5;28;01mraise\u001b[39;00m LemmaError(thm, \u001b[38;5;124m\"\u001b[39m\u001b[38;5;124mCountermodel\u001b[39m\u001b[38;5;124m\"\u001b[39m, s\u001b[38;5;241m.\u001b[39mmodel())\n\u001b[1;32m     59\u001b[0m     \u001b[38;5;28;01mraise\u001b[39;00m LemmaError(\u001b[38;5;124m\"\u001b[39m\u001b[38;5;124mlemma\u001b[39m\u001b[38;5;124m\"\u001b[39m, thm, res)\n\u001b[1;32m     60\u001b[0m \u001b[38;5;28;01mreturn\u001b[39;00m __Proof(thm, by, \u001b[38;5;28;01mFalse\u001b[39;00m)\n",
      "\u001b[0;31mLemmaError\u001b[0m: (Nand(True, True, True), 'Countermodel', [Nand = [(True, True, True) -> False,\n         else ->\n         Or(Not(Or(Not(Var(2)), Var(1), Not(Var(0)))),\n            Not(Or(Var(2), Not(Var(1)), Not(Var(0)))),\n            Not(Or(Not(Var(2)), Var(0), Not(Var(1)))),\n            Not(Or(Not(Var(2)), Var(1), Var(0))))]])"
     ]
    }
   ],
   "source": [
    "test2 = lemma(CNand(True,True,True), by=[nand_def])"
   ]
  },
  {
   "cell_type": "code",
   "execution_count": 5,
   "metadata": {},
   "outputs": [],
   "source": [
    "CNot = Function(\"CNot\", B, B, B)\n",
    "not_def = ForAll([x,y], CNot(x,y) == CNand(x,x,y))\n",
    "\n",
    "CNot, not_def = define(\"CNot\", [x,y], CNand(x,x,y))\n",
    "lemma(ForAll([x,y], CNot(x,y) == (Not(x) == y)), by=[nand_def, not_def])\n",
    "\n",
    "not_fun = lemma(ForAll([x,y], CNot(x,y) == (Not(x) == y)), by=[nand_fun, not_def])\n",
    "\n",
    "\n",
    "CAnd, and_def = define(\"CAnd\", [x,y,z], Exists([w], And(CNand(x,y,w), CNot(w,z))))\n",
    "\n",
    "cand_fun = lemma(ForAll([x,y,z], CAnd(x,y,z) == (And(x,y) == z)), by=[not_fun, nand_fun, and_def])\n",
    "\n",
    "\n",
    "COr, or_def = define(\"COr\", [x,y,z], Exists([w,u], And(CNot(x,w), CNot(y,u), \n",
    "                                                   CNand(w,u,z))))\n",
    "\n",
    "cor_fun = lemma(ForAll([x,y,z], COr(x,y,z) == (Or(x,y) == z)), by=[not_fun, nand_fun, or_def])\n"
   ]
  },
  {
   "cell_type": "markdown",
   "metadata": {},
   "source": [
    "# Chapter 2\n"
   ]
  },
  {
   "cell_type": "code",
   "execution_count": null,
   "metadata": {},
   "outputs": [],
   "source": [
    "half_adder = define(\"HalfAdder\", [a,b,c,s], \n",
    "    Or(\n",
    "        And(a == False, b == False, c == False, s == False),\n",
    "        And(a == False, b == True,  c == False, s == True),\n",
    "        And(a == True,  b == False, c == False, s == True),\n",
    "        And(a == True,  b == True,  c == True,  s == False)\n",
    "    ))\n",
    "\n",
    "\n",
    "# FullAdder\n",
    "\n",
    "\n",
    "# RippleCarryAdder\n",
    "\n",
    "\n",
    "# ALU\n"
   ]
  },
  {
   "cell_type": "code",
   "execution_count": null,
   "metadata": {},
   "outputs": [],
   "source": [
    "\n",
    "#yada yada\n",
    "\n",
    "\n",
    "flipflip == Function(\"D\",B,B,B,B)\n",
    "flip_flip_def = ForAll([x,y])\n"
   ]
  },
  {
   "cell_type": "markdown",
   "metadata": {},
   "source": [
    "\n",
    "# Other\n",
    "Calculating compilers\n",
    "https://xavierleroy.org/courses/EUTypes-2019/\n"
   ]
  },
  {
   "cell_type": "code",
   "execution_count": 2,
   "metadata": {},
   "outputs": [],
   "source": [
    "def Switch(*cases):\n",
    "    if len(cases) == 1:\n",
    "        return cases[0]\n",
    "    assert len(cases) % 2 == 1\n",
    "    return If(case[0], cases[1], Switch(*cases[2:]))\n",
    "\n",
    "# Yeah, balancing all those parens isn't that bad.\n",
    "# maybe this abstraction isn't worth it\n",
    "\n",
    "\n",
    "#Switch(Aexpr.is_num(e), Aexpr.val(e),\n",
    "#       Aexpr.is_add(e), Aexpr.val(e[0]), Aexpr.val(e[1])),\n",
    "#       IntVal(42)\n",
    "#       )"
   ]
  },
  {
   "cell_type": "code",
   "execution_count": 25,
   "metadata": {},
   "outputs": [],
   "source": [
    "from z3 import *\n",
    "def lemma(thm, by=[], admit=False):\n",
    "    if admit:\n",
    "        print(\"Admitting\", thm)\n",
    "    else:\n",
    "        prove(Implies(And(by), thm))\n",
    "    return thm"
   ]
  },
  {
   "cell_type": "code",
   "execution_count": 27,
   "metadata": {},
   "outputs": [
    {
     "name": "stdout",
     "output_type": "stream",
     "text": [
      "proved\n",
      "proved\n",
      "Admitting ForAll([x, y, z],\n",
      "       append(x, append(y, z)) == append(append(x, y), z))\n"
     ]
    },
    {
     "data": {
      "text/plain": [
       "<__main__.List at 0x71ad245d6a70>"
      ]
     },
     "execution_count": 27,
     "metadata": {},
     "output_type": "execute_result"
    }
   ],
   "source": [
    "\n",
    "\"\"\"\n",
    "Tiny helper. But I need more pretty fast.\n",
    "Ah, but it is a bit odd to write, but cleaner to use to just attach stuff to this object.\n",
    "\n",
    "def List(s : SortRef):\n",
    "    L = Datatype(f\"List_{s}\")\n",
    "    L.declare(\"nil\")\n",
    "    L.declare(\"cons\", (\"car\", s), (\"cdr\", L))\n",
    "    L = L.create()\n",
    "\n",
    "\n",
    "    L.induct = \n",
    "    L.from_list =\n",
    "    return L\n",
    "\n",
    "\"\"\"\n",
    "# https://coq.inria.fr/doc/master/stdlib/Coq.Lists.List.html\n",
    "class List():\n",
    "    def __init__(self, elt : SortRef, admit=False):\n",
    "        L = Datatype(f\"List_{elt}\")\n",
    "        L.declare(\"nil\")\n",
    "        L.declare(\"cons\", (\"car\", elt), (\"cdr\", L))\n",
    "        L = L.create()\n",
    "        \n",
    "        self.elt = elt \n",
    "        self.t = L\n",
    "        \n",
    "        \"\"\"\n",
    "        This is just bulk junk.\n",
    "        I could maybe just subclass DatatypeSortRef?\n",
    "        self.nil = L.nil\n",
    "        self.cons = L.cons\n",
    "        self.car = L.car\n",
    "        self.cdr = L.cdr\n",
    "        self.is_cons = L.is_cons\n",
    "        self.\n",
    "        \"\"\"\n",
    "        x,y,z,l = Consts(\"x y z l\", L)\n",
    "        a,b,c = Consts(\"a b c\", elt)\n",
    "\n",
    "        self.append = Function(\"append\", L, L, L)\n",
    "        self.append_def = ForAll([x, y], self.append(x, y) == If(L.is_nil(x), y,\n",
    "                                                                 L.cons(L.car(x), self.append(L.cdr(x), y))))\n",
    "        self.app_nil_l = lemma(ForAll([x], self.append(L.nil, x) == x), by=[self.append_def])\n",
    "        self.app_nil_r = lemma(ForAll([x], self.append(x, L.nil) == x), by=[self.append_def, self.induct(lambda x : self.append(x, L.nil) == x)])\n",
    "        self.append_assoc = lemma(ForAll([x,y,z], self.append(x, self.append(y,z)) == self.append(self.append(x,y), z)), admit=True)\n",
    "\n",
    "        self.mem = Function(\"mem\", L, elt, BoolSort())\n",
    "        self.mem_def = ForAll([a, l], self.mem(l, a) == If(L.is_nil(l), False,\n",
    "                                                        If(L.car(l) == a, True, self.mem(L.cdr(l), a))))\n",
    "        \n",
    "        self.rev = Function(\"rev\", L, L)\n",
    "        self.rev_def = ForAll([l], self.rev(l) == If(L.is_nil(l), l, \n",
    "                                                     self.append(self.rev(L.cdr(l)), L.cons(L.car(l), L.nil))))\n",
    "        \n",
    "        # map, filter\n",
    "    def Const(self, name):\n",
    "        # could I attach operator overloads? It'd be really nice.\n",
    "        return Const(name, self.t)\n",
    "        \n",
    "\n",
    "    def induct(self, P):\n",
    "        x = FreshConst(self.elt, prefix=\"x\")\n",
    "        l = FreshConst(self.t, prefix=\"l\")\n",
    "        return Implies(And(\n",
    "                        P(self.t.nil),\n",
    "                        ForAll([x,l], Implies(P(l), P(self.t.cons(x, l))))),\n",
    "                       #-----------------------------------\n",
    "                        ForAll([l], P(l)))\n",
    "    def from_list(self,l : list[ExprRef]):\n",
    "        if len(l) == 0:\n",
    "            return self.sort.nil\n",
    "        return self.sort.cons(l[0], self.from_list(l[1:]))\n",
    "# Running over this should be sufficient, because List_Dummy has no properties\n",
    "# This is a meta argument though.\n",
    "List(DeclareSort(\"List_Dummy\"))"
   ]
  },
  {
   "cell_type": "code",
   "execution_count": 28,
   "metadata": {},
   "outputs": [
    {
     "ename": "IndentationError",
     "evalue": "expected an indented block after class definition on line 4 (3081262896.py, line 7)",
     "output_type": "error",
     "traceback": [
      "\u001b[0;36m  Cell \u001b[0;32mIn[28], line 7\u001b[0;36m\u001b[0m\n\u001b[0;31m    class Any():\u001b[0m\n\u001b[0m    ^\u001b[0m\n\u001b[0;31mIndentationError\u001b[0m\u001b[0;31m:\u001b[0m expected an indented block after class definition on line 4\n"
     ]
    }
   ],
   "source": [
    "\n",
    "\n",
    "\n"
   ]
  },
  {
   "cell_type": "markdown",
   "metadata": {},
   "source": [
    "First define arithmetic expressions"
   ]
  },
  {
   "cell_type": "code",
   "execution_count": 30,
   "metadata": {},
   "outputs": [],
   "source": [
    "\n",
    "Aexpr = Datatype(\"Aexpr\")\n",
    "Aexpr.declare(\"num\", (\"val\", IntSort()))\n",
    "Aexpr.declare(\"add\", (\"left\", Aexpr), (\"right\", Aexpr))\n",
    "Aexpr = Aexpr.create()\n",
    "n = Int(\"n\")\n",
    "e, e1, e2 = Consts('e e1 e2', Aexpr)\n",
    "def induct_aexpr(P):\n",
    "    return Implies(And(        \n",
    "        ForAll([n],     P(Aexpr.num(n))),\n",
    "        ForAll([e1,e2], \n",
    "               Implies(And(P(e1), P(e2)), \n",
    "                       P(Aexpr.add(e1, e2))))),\n",
    "        #-------------------------------------\n",
    "        ForAll([e], P(e)))\n",
    "\n",
    "eval = Function(\"eval\", Aexpr, IntSort())\n",
    "eval_def = ForAll([e], eval(e) == If(Aexpr.is_num(e), Aexpr.val(e),\n",
    "                                     eval(Aexpr.left(e)) + eval(Aexpr.right(e))))"
   ]
  },
  {
   "cell_type": "code",
   "execution_count": 38,
   "metadata": {},
   "outputs": [
    {
     "ename": "SyntaxError",
     "evalue": "incomplete input (2888385662.py, line 38)",
     "output_type": "error",
     "traceback": [
      "\u001b[0;36m  Cell \u001b[0;32mIn[38], line 38\u001b[0;36m\u001b[0m\n\u001b[0;31m    \u001b[0m\n\u001b[0m    ^\u001b[0m\n\u001b[0;31mSyntaxError\u001b[0m\u001b[0;31m:\u001b[0m incomplete input\n"
     ]
    }
   ],
   "source": [
    "op = Datatype(\"op\")\n",
    "op.declare(\"add\")\n",
    "op.declare(\"push\", (\"val\", IntSort()))\n",
    "op = op.create()\n",
    "\n",
    "def Option(s : SortRef):\n",
    "    O = Datatype(f\"Option_{s}\")\n",
    "    O.declare(\"none\")\n",
    "    O.declare(\"some\", (\"val\", s))\n",
    "    O = O.create()\n",
    "    return O\n",
    "\n",
    "IntList = List(IntSort())\n",
    "Stack = IntList.t\n",
    "\n",
    "exec = Function(\"exec\", op, IntList.t, IntList.t) # option?\n",
    "o = Const(\"o\", op)\n",
    "l = Const(\"l\", IntList.t)\n",
    "car = IntList.t.car\n",
    "cdr = IntList.t.cdr\n",
    "cons = IntList.t.cons\n",
    "exec_def = ForAll([o,l], exec(o,l) == If(op.is_push(o), cons(op.val(o), l),\n",
    "                                      #If(op.is_add(o),  \n",
    "                                         cons(car(l) + car(cdr(l)), cdr(cdr(l)))))\n",
    "                                     # )\n",
    "\n",
    "Prog = List(op)\n",
    "p = Const(\"p\", Prog.t)\n",
    "exec_prog = Function(\"exec_prog\", Prog.t, IntList.t, IntList.t)\n",
    "exec_prog_def = ForAll([p,l], exec_prog(p, l) == If(Prog.t.is_nil(p), l,\n",
    "                                                  exec_prog(Prog.t.cdr(p), exec(Prog.t.car(p), l)))\n",
    "                        )\n",
    "\n",
    "compile = Function(\"compile\", Aexpr, Prog.t)\n",
    "compile_def = ForAll([e], compile(e) == If(Aexpr.is_num(e), Prog.t.cons(op.push(Aexpr.val(e)), Prog.t.nil),\n",
    "                                           Prog.append(compile(Aexpr.left(e)), \n",
    "                                           Prog.append(compile(Aexpr.right(e)), \n",
    "                                                       Prog.t.cons(op.add, Prog.t.nil)))))\n",
    "\n",
    "\n"
   ]
  },
  {
   "cell_type": "code",
   "execution_count": 9,
   "metadata": {},
   "outputs": [
    {
     "data": {
      "text/plain": [
       "z3.z3.DatatypeSortRef"
      ]
     },
     "execution_count": 9,
     "metadata": {},
     "output_type": "execute_result"
    }
   ],
   "source": [
    "type(IntList)"
   ]
  },
  {
   "cell_type": "code",
   "execution_count": null,
   "metadata": {},
   "outputs": [],
   "source": [
    "class Nat():\n",
    "    def __init__(self):\n",
    "        pass\n",
    "class Pos():\n",
    "    \n",
    "# Any is not closed and therefor doesn't have an indeuction principle of proving something true forall x:Any, unless it uses pure first order reasoning.\n",
    "class Any():\n",
    "    def __init__(self):\n",
    "        self.t = DeclareSort(\"Any\")\n",
    "        self.sorts = {} # mapping from thing to Any injector,projector, tester\n",
    "    def add_sort(s):\n",
    "        self.sorts[s] = \n",
    "    def inj(self, sort):\n",
    "        return Function(f\"inj_{sort}\", sort, self.t)\n",
    "    def is_sort(self, sort):\n",
    "        is_sort_def = ForAll([x], is_sort(x) == Exists([t], self.inj(sort)(t) == x))\n",
    "        Function(f\"is_{sort}\", self.t, BoolSort())\n",
    "    def injective(self):\n",
    "        pass\n",
    "\n",
    "class Map():\n",
    "    pass\n",
    "class Set():\n",
    "    pass\n",
    "class Enum():\n",
    "    pass\n",
    "class Record():\n",
    "    pass"
   ]
  },
  {
   "cell_type": "markdown",
   "metadata": {},
   "source": [
    "Nand 2 tetris\n",
    "\n",
    "Maybe that's too agressive. How about a calculator\n",
    "\n",
    "Quoted aexpr. hmm.\n",
    "```ocaml\n",
    "type aexpr =\n",
    " | Int of int\n",
    " | Plus of aexpr * aexpr\n",
    " | Quote of aexpr\n",
    "```\n"
   ]
  },
  {
   "cell_type": "markdown",
   "metadata": {},
   "source": [
    "\n",
    "```lean\n",
    "-- import Mathlib\n",
    "import Mathlib.Data.Nat.Basic\n",
    "import Mathlib.Tactic.Basic\n",
    "import Mathlib.Tactic.LibrarySearch\n",
    "-- import Std.Data.List.Basic\n",
    "-- import Std.Data.Nat.Basic\n",
    "--open Nat\n",
    "--#print Nat.\n",
    "#eval 1 + 1\n",
    "inductive aexpr where\n",
    "  | num : ℕ → aexpr\n",
    "--| var : string → aexpr\n",
    "  |  add : aexpr → aexpr → aexpr\n",
    "\n",
    "def eval : aexpr → ℕ\n",
    "  | .num n => n\n",
    "  | .add e1 e2 => eval e1 + eval e2\n",
    "\n",
    "inductive op where\n",
    "  | add : op\n",
    "  | push : ℕ → op\n",
    "\n",
    "-- [@reducible]\n",
    "abbrev Prog := List op\n",
    "abbrev Stack := List ℕ\n",
    "\n",
    "def exec (p : Prog) (s : Stack) : Stack :=\n",
    "  match p with\n",
    "  | [] => s\n",
    "  | (op.add :: p') =>\n",
    "    match s with\n",
    "    | (n1 :: n2 :: s') => exec p' ((n1 + n2) :: s')\n",
    "    | _ => exec p' s\n",
    "  | (op.push n :: p') => exec p' (n :: s)\n",
    "\n",
    "def compile : aexpr → Prog\n",
    "  | .num n => [op.push n]\n",
    "  | .add e1 e2 => (compile e1) ++ (compile e2) ++ [op.add]\n",
    "#print List\n",
    "lemma exec_append : forall p1 p2 s, exec (p1 ++ p2) s = exec p2 (exec p1 s) := by\n",
    "  intros p1 p2\n",
    "  induction p1 with\n",
    "  | nil => simp [exec]\n",
    "  | cons h t ih =>\n",
    "    simp [exec]\n",
    "    cases h with\n",
    "    | add =>\n",
    "      intros s\n",
    "      cases s with\n",
    "      | nil => simp [exec, ih]\n",
    "      | cons n1 s' =>\n",
    "        cases s' with\n",
    "        | nil => simp [exec, ih]\n",
    "        | cons n2 s'' =>\n",
    "          simp [exec]\n",
    "          rw [ih]\n",
    "    | push n =>\n",
    "      simp [exec]\n",
    "      intros s\n",
    "      rw [ih]\n",
    "\n",
    "theorem exec_compile : ∀ e s, exec (compile e) s = eval e :: s := by\n",
    "  intros e\n",
    "  induction e with\n",
    "  | num n => simp [compile, exec, eval]\n",
    "  | add e1 e2 IHe1 IHe2 =>\n",
    "    intros s\n",
    "    --simp [eval, compile, exec_append, exec]\n",
    "    simp [eval]\n",
    "    have : exec [op.add] ((eval e2) :: (eval e1) :: s) = (eval e1 + eval e2) :: s := by\n",
    "      simp [exec, add_comm]\n",
    "    rw [<- this]\n",
    "    rw [<- IHe1]\n",
    "    rw [<- IHe2]\n",
    "    rw [<- exec_append]\n",
    "    simp [compile]\n",
    "    rw [exec_append]\n",
    "\n",
    "/-\n",
    "inductive fib : Nat -> Nat -> Type where\n",
    "  | base0 : fib 0 0\n",
    "  | base1 : fib 1 1\n",
    "  | step  : n > 1 -> fib (n-1) a\n",
    "                 -> fib (n-2) b -> fib n (a+b)\n",
    "\n",
    "-/\n",
    "\n",
    "```"
   ]
  },
  {
   "cell_type": "markdown",
   "metadata": {},
   "source": [
    "```lean\n",
    "-- import Mathlib\n",
    "import Mathlib.Data.Nat.Basic\n",
    "import Mathlib.Tactic.Basic\n",
    "import Mathlib.Tactic.LibrarySearch\n",
    "-- import Std.Data.List.Basic\n",
    "-- import Std.Data.Nat.Basic\n",
    "--open Nat\n",
    "--#print Nat.\n",
    "#eval 1 + 1\n",
    "inductive aexpr where\n",
    "  | num : ℕ → aexpr\n",
    "--| var : string → aexpr\n",
    "  |  add : aexpr → aexpr → aexpr\n",
    "\n",
    "def eval : aexpr → ℕ\n",
    "  | .num n => n\n",
    "  | .add e1 e2 => eval e1 + eval e2\n",
    "\n",
    "inductive op where\n",
    "  | add : op\n",
    "  | push : ℕ → op\n",
    "\n",
    "-- [@reducible]\n",
    "abbrev Prog := List op\n",
    "abbrev Stack := List ℕ\n",
    "\n",
    "def exec (p : Prog) (s : Stack) : Stack :=\n",
    "  match p with\n",
    "  | [] => s\n",
    "  | (op.add :: p') =>\n",
    "    match s with\n",
    "    | (n1 :: n2 :: s') => exec p' ((n1 + n2) :: s')\n",
    "    | _ => exec p' s\n",
    "  | (op.push n :: p') => exec p' (n :: s)\n",
    "\n",
    "def compile : aexpr → Prog\n",
    "  | .num n => [op.push n]\n",
    "  | .add e1 e2 => (compile e1) ++ (compile e2) ++ [op.add]\n",
    "#print List\n",
    "lemma exec_append : forall p1 p2 s, exec (p1 ++ p2) s = exec p2 (exec p1 s) := by\n",
    "  intros p1 p2\n",
    "  induction p1 with\n",
    "  | nil => simp [exec]\n",
    "  | cons h t ih =>\n",
    "    simp [exec]\n",
    "    cases h with\n",
    "    | add =>\n",
    "      intros s\n",
    "      cases s with\n",
    "      | nil => simp [exec, ih]\n",
    "      | cons n1 s' =>\n",
    "        cases s' with\n",
    "        | nil => simp [exec, ih]\n",
    "        | cons n2 s'' =>\n",
    "          simp [exec]\n",
    "          rw [ih]\n",
    "    | push n =>\n",
    "      simp [exec]\n",
    "      intros s\n",
    "      rw [ih]\n",
    "\n",
    "theorem exec_compile : ∀ e s, exec (compile e) s = eval e :: s := by\n",
    "  intros e\n",
    "  induction e with\n",
    "  | num n => simp [compile, exec, eval]\n",
    "  | add e1 e2 IHe1 IHe2 =>\n",
    "    intros s\n",
    "    --simp [eval, compile, exec_append, exec]\n",
    "    simp [eval]\n",
    "    have : exec [op.add] ((eval e2) :: (eval e1) :: s) = (eval e1 + eval e2) :: s := by\n",
    "      simp [exec, add_comm]\n",
    "    rw [<- this]\n",
    "    rw [<- IHe1]\n",
    "    rw [<- IHe2]\n",
    "    rw [<- exec_append]\n",
    "    simp [compile]\n",
    "    rw [exec_append]\n",
    "\n",
    "/-\n",
    "inductive fib : Nat -> Nat -> Type where\n",
    "  | base0 : fib 0 0\n",
    "  | base1 : fib 1 1\n",
    "  | step  : n > 1 -> fib (n-1) a\n",
    "                 -> fib (n-2) b -> fib n (a+b)\n",
    "\n",
    "-/\n",
    "```"
   ]
  }
 ],
 "metadata": {
  "kernelspec": {
   "display_name": "Python 3",
   "language": "python",
   "name": "python3"
  },
  "language_info": {
   "codemirror_mode": {
    "name": "ipython",
    "version": 3
   },
   "file_extension": ".py",
   "mimetype": "text/x-python",
   "name": "python",
   "nbconvert_exporter": "python",
   "pygments_lexer": "ipython3",
   "version": "3.10.12"
  }
 },
 "nbformat": 4,
 "nbformat_minor": 2
}
