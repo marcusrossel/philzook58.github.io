{
 "cells": [
  {
   "cell_type": "code",
   "execution_count": null,
   "metadata": {},
   "outputs": [],
   "source": []
  },
  {
   "cell_type": "markdown",
   "metadata": {},
   "source": [
    "Get sympy to work on perturbation thoery\n",
    "Use knuckledragger as a sympy?\n",
    "Scattering. Effective potential. Inverse potentials. Hard sphere, born approx, \n",
    "analytic signal , time frequency. group velocity. heisenber microscope\n",
    "subharmonic, parametric oscillator, van der pol. spontaneous synchronization\n",
    "electrical oscillators. colpitts armstrong\n",
    "\n",
    "muliplte time sclaes and ordinals\n",
    "probablistic something. Parameters?\n",
    "Self consistent\n",
    "adiabatic. action angle.\n",
    "berry phase\n",
    "\n",
    "\n",
    "\n",
    "more perturbation theory stuff\n",
    "https://www.youtube.com/playlist?list=PL5EH0ZJ7V0jV7kMYvPcZ7F9oaf_YAlfbI\n",
    "strogatz\n",
    "books. bender orszag\n",
    "Holmes - introduction to perbutration\n",
    "grreenberg - foundations of applied mathemtics\n",
    "Gugenhiemer and holmes - nonlinear oscillatrors\n",
    "Nayfeh\n"
   ]
  },
  {
   "cell_type": "code",
   "execution_count": 4,
   "metadata": {},
   "outputs": [
    {
     "data": {
      "text/latex": [
       "$\\displaystyle - \\frac{\\epsilon}{2} + \\frac{\\sqrt{\\epsilon^{2} + 4}}{2}$"
      ],
      "text/plain": [
       "-\\epsilon/2 + sqrt(\\epsilon**2 + 4)/2"
      ]
     },
     "execution_count": 4,
     "metadata": {},
     "output_type": "execute_result"
    }
   ],
   "source": [
    "import sympy as sp\n",
    "x,eps,y = sp.symbols('x \\epsilon y')\n",
    "p = x**2 + eps*x - 1\n",
    "sp.solve(p, x)[1]\n",
    "\n"
   ]
  },
  {
   "cell_type": "markdown",
   "metadata": {},
   "source": [
    "\n",
    "There are different ways of putting it info the form $x = f(x)$\n",
    "\n",
    "A strategy for very speicifc manipulations is to hide variables by substitutions and then reverse the substitution\n"
   ]
  },
  {
   "cell_type": "code",
   "execution_count": 14,
   "metadata": {},
   "outputs": [],
   "source": [
    "def iterate(x0, f):\n",
    "    while True:\n",
    "        yield x0\n",
    "        x0 = f(x0)"
   ]
  },
  {
   "cell_type": "code",
   "execution_count": 11,
   "metadata": {},
   "outputs": [
    {
     "data": {
      "text/latex": [
       "$\\displaystyle \\frac{1 - x^{2}}{\\epsilon}$"
      ],
      "text/plain": [
       "(1 - x**2)/\\epsilon"
      ]
     },
     "execution_count": 11,
     "metadata": {},
     "output_type": "execute_result"
    }
   ],
   "source": [
    "p1 = p.subs(x**2, y)\n",
    "s = sp.solve(p1,x)[0]\n",
    "s = s.sus(y, x**2)\n",
    "s"
   ]
  },
  {
   "cell_type": "code",
   "execution_count": 19,
   "metadata": {},
   "outputs": [
    {
     "data": {
      "text/plain": [
       "[1,\n",
       " -sqrt(1 - \\epsilon),\n",
       " -sqrt(\\epsilon*sqrt(1 - \\epsilon) + 1),\n",
       " -sqrt(\\epsilon*sqrt(\\epsilon*sqrt(1 - \\epsilon) + 1) + 1),\n",
       " -sqrt(\\epsilon*sqrt(\\epsilon*sqrt(\\epsilon*sqrt(1 - \\epsilon) + 1) + 1) + 1)]"
      ]
     },
     "execution_count": 19,
     "metadata": {},
     "output_type": "execute_result"
    }
   ],
   "source": [
    "p1 = p.subs(x**2, y**2) # I guess striuctly speaking y = +-x. Hmm\n",
    "s = sp.solve(p1,y)[0]\n",
    "s = s.subs(y, x)\n",
    "f = sp.Lambda(x, s)\n",
    "\n",
    "#def f(expr):\n",
    "#    return s.subs(x, expr)\n",
    "from itertools import islice\n",
    "list(islice(iterate(1, f),5))\n"
   ]
  },
  {
   "cell_type": "markdown",
   "metadata": {},
   "source": [
    "It's interesting to consider, why not a numerical solution? and h\\then interpole the power series. Kind of the same thing yeah?\n",
    "The taylor series error bounds are not really different from interpolation error boundss. We don't get crisp rationals perhaps for the numbers.\n",
    "\n",
    "When we do perturbation theory for some quantum (field) system, \n",
    "\n",
    "Turbulence by Frisch\n",
    "Nonlinear perturbation theory for fluids. That sounds fun\n"
   ]
  }
 ],
 "metadata": {
  "kernelspec": {
   "display_name": "Python 3",
   "language": "python",
   "name": "python3"
  },
  "language_info": {
   "codemirror_mode": {
    "name": "ipython",
    "version": 3
   },
   "file_extension": ".py",
   "mimetype": "text/x-python",
   "name": "python",
   "nbconvert_exporter": "python",
   "pygments_lexer": "ipython3",
   "version": "3.10.12"
  }
 },
 "nbformat": 4,
 "nbformat_minor": 2
}
