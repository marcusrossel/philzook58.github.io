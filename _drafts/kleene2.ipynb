{
 "cells": [
  {
   "cell_type": "markdown",
   "metadata": {},
   "source": [
    "https://www.philipzucker.com/bryzzowski_kat/\n",
    "\n",
    "- Do other problems\n",
    "- Tests\n",
    "- Tower of theories - kleene is idempotent yada yada. Lattice stuff?\n",
    "- Reflection to z3 regex\n",
    "- Better calc"
   ]
  },
  {
   "cell_type": "markdown",
   "metadata": {},
   "source": [
    "At noon, I promised several classmates couple references in Kleene Algebra. I figure I would write a list of KA literature, mainly in applications (yet, still a lot of math :the_horns: ), with some paper about meta-theories at the end :face_with_monocle: . Hopefully it is helpful to others.\n",
    "Relating Term Rewriting And Kleene Algebra (promised this noon);   Automated Reasoning (promised this noon);   Coq Tactic\n",
    "Control Flow Verification: abnormal termination;   every program can be written with one while loop;   non-local control flow;   a negative result;   two-valued indicator variable (fixed the previous negative result);  compiler verification;   program schematology;   schematology in Isabelle\n",
    "Concurrency: Concurrent Kleene Algebra (CKA);   Kleene Algebra with observation (KAO);   CKAO;   Weak concurrent kleene algebra;   Concurrent netkat\n",
    "Probability: probablistic Kleene Algebra;   probabilistic protocol verification;   automaton model;   probablistic concurrent kleene algebra\n",
    "Domain/reachablility reasoning and program logic: modal Kleene Algebra;   Hoare Logic;   Incorrectness logic via modal KA;   Incorrectness logic via TopKAT;   general completeness of TopKAT;   Domain completeness of TopKAT\n",
    "Hypothesis and Complexity: reduction, a general theory of hypothesis elimination;   completeness and decidablity for concrete KAT;   eliminating hypothesis c p = p;   eliminating e = 0;   complexity of several general class of hypothesis;   several smaller class of hypothesis;   the last open hypothesis: commutativity;   our prove for commutativity hypothesis;\n",
    "Guarded Kleene Algebra With Tests, a efficient fragment: original paper;   final coalgebra and infinite trace completeness;    automata learning;   cyclic proof\n",
    "Of course, I think most people would agree the best introductory material of KA and its relation to coalgebra is Prof. Sliva's thesis: https://repository.ubn.ru.nl/handle/2066/83205\n",
    "Notably, I missed many literature in NetKAT :outbox_tray:  (many literature are already discussed during class), non-well-founded proof :repeat: (lead by Anupam Das and Pous), automata learning :teacher: , relation algebra :twisted_rightwards_arrows:, and coalgebra :leftwards_arrow_with_hook: . I have picked the papers based on the interest of people I met during this summer school, and my naive understanding of this field.\n",
    "The applications and theories about Kleene algebra (and colagebra) are vast. If you have particular interest, I would be more than happy to talk about them and provide more references if possible :blush: . (edited) \n",
    "\n",
    "https://www.dropbox.com/scl/fi/ucs2z7hvzwq4h6hlyfqb0/TA-v1.pdf?rlkey=p4khern2r6w7tmgmwtydl61du&e=1&dl=0 lecture notes\n",
    "https://www.cs.uoregon.edu/research/summerschool/summer24/topics.php#Silva"
   ]
  },
  {
   "cell_type": "code",
   "execution_count": null,
   "metadata": {},
   "outputs": [],
   "source": [
    "from knuckledragger import lemma, axiom\n",
    "from z3 import *\n",
    "\n",
    "\n",
    "K = DeclareSort(\"K\")\n",
    "o = Const(\"0\", K)\n",
    "l = Const(\"1\", K)\n",
    "char = Function(\"char\", StringSort(), K) # injective btw\n",
    "a = char(StringVal(\"a\"))\n",
    "b = char(StringVal(\"b\"))\n",
    "seq = Function(\"seq\", K,K,K)\n",
    "par = Function(\"par\", K,K,K)\n",
    "star = Function(\"star\", K,K)\n",
    "\n",
    "ExprRef.__mul__ = lambda x,y: seq(x,y)\n",
    "ExprRef.__add__ = lambda x,y: par(x,y)\n",
    "ExprRef.__le__ = lambda x,y: x + y == y\n",
    "\n",
    "sig = [K, o, l, seq, par, star]\n",
    "\n",
    "x,y,z,e,f = Consts(\"x y z e f\", K)\n",
    "\n",
    "#  kozen axioms\n",
    "# from egglog https://github.com/philzook58/egg-smol/blob/scratchpad2/tests/kleene.egg\n",
    "par_assoc = axiom(ForAll([x,y,z], x + (y + z) == (x + y) + z))\n",
    "par_comm = axiom(ForAll([x,y], x + y == y + x))\n",
    "par_idem = axiom(ForAll([x], x + x == x))\n",
    "par_zero = axiom(ForAll([x], x + o == x))\n",
    "\n",
    "seq_assoc = axiom(ForAll([x,y,z], x * (y * z) == (x * y) * z))\n",
    "seq_zero = axiom(ForAll([x], x * o == o))\n",
    "seq_one = axiom(ForAll([x], x * l == x))\n",
    "\n",
    "rdistrib = axiom(ForAll([x,y,z], x * (y + z) == x * y + x * z))\n",
    "ldistrib = axiom(ForAll([x,y,z], (y + z) * x == y * x + z * x))\n",
    "\n",
    "unfold = axiom(ForAll([e], star(e) == l + e * star(e)))\n",
    "\n",
    "# If a set shrinks, star(e) is less than it\n",
    "least_fix = axiom(ForAll([x,e,f], Implies(f + e * x <= x, star(e) * f <= x)))\n",
    "\n",
    "kleene = [par_assoc, par_comm, par_idem, par_zero, \n",
    "    seq_assoc,  seq_zero, seq_one, \n",
    "    ldistrib, rdistrib, unfold, least_fix] "
   ]
  }
 ],
 "metadata": {
  "language_info": {
   "name": "python"
  }
 },
 "nbformat": 4,
 "nbformat_minor": 2
}
